{
  "nbformat": 4,
  "nbformat_minor": 0,
  "metadata": {
    "kernelspec": {
      "display_name": "Python 3",
      "language": "python",
      "name": "python3"
    },
    "language_info": {
      "codemirror_mode": {
        "name": "ipython",
        "version": 3
      },
      "file_extension": ".py",
      "mimetype": "text/x-python",
      "name": "python",
      "nbconvert_exporter": "python",
      "pygments_lexer": "ipython3",
      "version": "3.7.10"
    },
    "colab": {
      "name": "ML_hw1.ipynb",
      "provenance": [],
      "collapsed_sections": []
    }
  },
  "cells": [
    {
      "cell_type": "markdown",
      "metadata": {
        "id": "M0Y5SGXkG3Ja"
      },
      "source": [
        "\n",
        "| Universidad de los Andes<br>Departamento de Ingeniería Eléctrica y Electrónica<br>Machine Learning<br>Ríos Beltrán Manuel Sebastián - Código 201317670<br>Ruiz Ruiz Alison Gissell - Código 202116230<br><br><p style=\"font-size:30px\">Taller 1 - Regresión Lineal: Predicción de Precios de Autos </p> \t||\n",
        "|-----------------------------------------------------------------------------------\t|---\t|"
      ]
    },
    {
      "cell_type": "markdown",
      "metadata": {
        "id": "HSCQlICMD8Cd"
      },
      "source": [
        "Una tarea bastante común en el contexto de Machine Learning es la predicción de una variable según algunos descriptores. En esta ocasión partiremos de un dataset que involucra ocho variables (algunas numéricas, otras categóricas) y el precio de un automóvil, el cual se desea estimar empleando un modelo de regresión lineal.\n",
        "\n",
        "**Objetivos:**\n",
        "- Aprender a lidiar con descriptores categóricos no-numéricos.\n",
        "- Usar la librería Pandas para manejar datos tabulares en formato .csv.\n",
        "- Emplear la librería Scikit Learn para preprocesamiento y entrenamiento de un modelo de regresión lineal.\n",
        "- Implementar el algoritmo Descenso de Gradiente Estocástico para un modelo lineal básico.\n",
        "\n",
        "Inicialmente se importan las librerías necesarias para llevar a cabo el manejo de los datos y los entrenamientos."
      ]
    },
    {
      "cell_type": "code",
      "metadata": {
        "colab": {
          "base_uri": "https://localhost:8080/"
        },
        "id": "a6EBVybVD8Ch",
        "outputId": "d86debd2-fdf9-41a1-ba18-f4f16c785e22"
      },
      "source": [
        "import numpy as np\n",
        "import pandas as pd\n",
        "import sklearn\n",
        "import matplotlib.pyplot as plt\n",
        "from sklearn.metrics import mean_squared_error, r2_score\n",
        "from sklearn.linear_model import LinearRegression\n",
        "from google.colab import drive\n",
        "from sklearn.preprocessing import OrdinalEncoder, MinMaxScaler, RobustScaler\n",
        "from sklearn.model_selection import train_test_split\n",
        "drive.mount('/content/drive',force_remount=True)"
      ],
      "execution_count": 1,
      "outputs": [
        {
          "output_type": "stream",
          "name": "stdout",
          "text": [
            "Mounted at /content/drive\n"
          ]
        }
      ]
    },
    {
      "cell_type": "markdown",
      "metadata": {
        "id": "ADfCfc_HWsO9"
      },
      "source": [
        "Se importa el archivo con el dataset que se emplea para los entrenamiento y se observa la estructura de este archivo, donde se tienen variables no númericas (modelo, tipo de transmisión y de combustible) y númericas (año, kilometraje, entre otros), donde el target de los modelos a construir consiste en predecir el valor del precio, basado en las demás características, por ende la etiqueta de salida de entrenamiento corresponde a esta etiqueta que se encuentra en la columna 3: price. "
      ]
    },
    {
      "cell_type": "code",
      "metadata": {
        "colab": {
          "base_uri": "https://localhost:8080/",
          "height": 204
        },
        "id": "47qm4dSMD8Ci",
        "outputId": "934b189d-7dbb-4c25-83a3-f0bcc5cc138d"
      },
      "source": [
        "df = pd.read_csv('/content/drive/MyDrive/ML/HW1/carDataset/toyota.csv')\n",
        "df.head()"
      ],
      "execution_count": 2,
      "outputs": [
        {
          "output_type": "execute_result",
          "data": {
            "text/html": [
              "<div>\n",
              "<style scoped>\n",
              "    .dataframe tbody tr th:only-of-type {\n",
              "        vertical-align: middle;\n",
              "    }\n",
              "\n",
              "    .dataframe tbody tr th {\n",
              "        vertical-align: top;\n",
              "    }\n",
              "\n",
              "    .dataframe thead th {\n",
              "        text-align: right;\n",
              "    }\n",
              "</style>\n",
              "<table border=\"1\" class=\"dataframe\">\n",
              "  <thead>\n",
              "    <tr style=\"text-align: right;\">\n",
              "      <th></th>\n",
              "      <th>model</th>\n",
              "      <th>year</th>\n",
              "      <th>price</th>\n",
              "      <th>transmission</th>\n",
              "      <th>mileage</th>\n",
              "      <th>fuelType</th>\n",
              "      <th>tax</th>\n",
              "      <th>mpg</th>\n",
              "      <th>engineSize</th>\n",
              "    </tr>\n",
              "  </thead>\n",
              "  <tbody>\n",
              "    <tr>\n",
              "      <th>0</th>\n",
              "      <td>GT86</td>\n",
              "      <td>2016</td>\n",
              "      <td>16000</td>\n",
              "      <td>Manual</td>\n",
              "      <td>24089</td>\n",
              "      <td>Petrol</td>\n",
              "      <td>265</td>\n",
              "      <td>36.2</td>\n",
              "      <td>2.0</td>\n",
              "    </tr>\n",
              "    <tr>\n",
              "      <th>1</th>\n",
              "      <td>GT86</td>\n",
              "      <td>2017</td>\n",
              "      <td>15995</td>\n",
              "      <td>Manual</td>\n",
              "      <td>18615</td>\n",
              "      <td>Petrol</td>\n",
              "      <td>145</td>\n",
              "      <td>36.2</td>\n",
              "      <td>2.0</td>\n",
              "    </tr>\n",
              "    <tr>\n",
              "      <th>2</th>\n",
              "      <td>GT86</td>\n",
              "      <td>2015</td>\n",
              "      <td>13998</td>\n",
              "      <td>Manual</td>\n",
              "      <td>27469</td>\n",
              "      <td>Petrol</td>\n",
              "      <td>265</td>\n",
              "      <td>36.2</td>\n",
              "      <td>2.0</td>\n",
              "    </tr>\n",
              "    <tr>\n",
              "      <th>3</th>\n",
              "      <td>GT86</td>\n",
              "      <td>2017</td>\n",
              "      <td>18998</td>\n",
              "      <td>Manual</td>\n",
              "      <td>14736</td>\n",
              "      <td>Petrol</td>\n",
              "      <td>150</td>\n",
              "      <td>36.2</td>\n",
              "      <td>2.0</td>\n",
              "    </tr>\n",
              "    <tr>\n",
              "      <th>4</th>\n",
              "      <td>GT86</td>\n",
              "      <td>2017</td>\n",
              "      <td>17498</td>\n",
              "      <td>Manual</td>\n",
              "      <td>36284</td>\n",
              "      <td>Petrol</td>\n",
              "      <td>145</td>\n",
              "      <td>36.2</td>\n",
              "      <td>2.0</td>\n",
              "    </tr>\n",
              "  </tbody>\n",
              "</table>\n",
              "</div>"
            ],
            "text/plain": [
              "   model  year  price transmission  mileage fuelType  tax   mpg  engineSize\n",
              "0   GT86  2016  16000       Manual    24089   Petrol  265  36.2         2.0\n",
              "1   GT86  2017  15995       Manual    18615   Petrol  145  36.2         2.0\n",
              "2   GT86  2015  13998       Manual    27469   Petrol  265  36.2         2.0\n",
              "3   GT86  2017  18998       Manual    14736   Petrol  150  36.2         2.0\n",
              "4   GT86  2017  17498       Manual    36284   Petrol  145  36.2         2.0"
            ]
          },
          "metadata": {},
          "execution_count": 2
        }
      ]
    },
    {
      "cell_type": "markdown",
      "metadata": {
        "id": "8ujsHflEYjww"
      },
      "source": [
        "Para obtener la información del dataset a nivel general, se emplea el comando *df.info()*, donde se conoce que el dataset consta de 6738 filas de datos con las nueve columnas correspondientes a cada variable visualizada en la celda anterior. El dataset posee 3 variables categoricas y 6 numéricas."
      ]
    },
    {
      "cell_type": "code",
      "metadata": {
        "id": "0-pzRgnvD8Cj",
        "colab": {
          "base_uri": "https://localhost:8080/"
        },
        "outputId": "7064dd05-e6fb-4b0c-dac4-54a26c54d270"
      },
      "source": [
        "df.info()"
      ],
      "execution_count": 3,
      "outputs": [
        {
          "output_type": "stream",
          "name": "stdout",
          "text": [
            "<class 'pandas.core.frame.DataFrame'>\n",
            "RangeIndex: 6738 entries, 0 to 6737\n",
            "Data columns (total 9 columns):\n",
            " #   Column        Non-Null Count  Dtype  \n",
            "---  ------        --------------  -----  \n",
            " 0   model         6738 non-null   object \n",
            " 1   year          6738 non-null   int64  \n",
            " 2   price         6738 non-null   int64  \n",
            " 3   transmission  6738 non-null   object \n",
            " 4   mileage       6738 non-null   int64  \n",
            " 5   fuelType      6738 non-null   object \n",
            " 6   tax           6738 non-null   int64  \n",
            " 7   mpg           6738 non-null   float64\n",
            " 8   engineSize    6738 non-null   float64\n",
            "dtypes: float64(2), int64(4), object(3)\n",
            "memory usage: 473.9+ KB\n"
          ]
        }
      ]
    },
    {
      "cell_type": "markdown",
      "metadata": {
        "id": "NbTMKvV3D8Cj"
      },
      "source": [
        "Podemos observar algunas categorías numéricas, y otras de tipo _object_ (string)."
      ]
    },
    {
      "cell_type": "code",
      "metadata": {
        "id": "0cbeO5p3D8Cj"
      },
      "source": [
        "categ = ['model','year','transmission','fuelType','engineSize']\n",
        "str_categ = ['model','transmission','fuelType']\n",
        "numer = ['price','mileage','tax','mpg']"
      ],
      "execution_count": 4,
      "outputs": []
    },
    {
      "cell_type": "markdown",
      "metadata": {
        "id": "oVS5d6eRD8Ck"
      },
      "source": [
        "## Parte 1\n",
        "\n",
        "A continuación se realiza el ajuste de los datos para un modelo de regresión lineal definido mediante la librería SciKit-Learn. Se observan dos métricas de precisión, en este caso Error Cuadrático Medio (RMSE) y $R^2$."
      ]
    },
    {
      "cell_type": "markdown",
      "metadata": {
        "id": "5U6Nw6P7D8Ck"
      },
      "source": [
        "#### Casos:\n",
        "\n",
        "- Caso 1: Codificación One-Hot (MinMaxScaler)\n",
        "- Caso 2: Codificación Ordinal (MinMaxScaler)\n",
        "- Caso 3: Codificación One-Hot (RobustScaler)\n",
        "- Caso 4: Codificación Ordinal (RobustScaler)\n",
        "- Caso 5: Entrenar con un 30% (Codificación Ordinal, MinMaxScaler)\n",
        "- Caso 6: Entrenar con un 55% (Codificación Ordinal, MinMaxScaler)\n",
        "- Caso 7: Entrenar con un 80% (Codificación Ordinal, MinMaxScaler)"
      ]
    },
    {
      "cell_type": "markdown",
      "metadata": {
        "id": "LLEQte2RD8Cl"
      },
      "source": [
        "### Caso 1:\n",
        "#### Codificación One-Hot  (MinMaxScaler)\n",
        "\n",
        "Una de las formas de codificar categorías no numéricas se conoce como _One-Hot encoding_, en donde se crea una columna para cada valor distinto que exista en la característica que estamos codificando y, para cada registro, marcar con un 1 la columna a la que pertenezca dicho registro y dejar las demás con 0, convirtiendo una variable categórica en varias variables. Como se observa a continuación, la variable de transmisión se dividió en automática, manual u otra, de la misma manera funciona con las otras dos variables categóricas al aplicar el One-Hot, pasando de tener 9 variables a muchas más, de acuerdo con la cantidad de categorías de cada una.\n",
        "\n",
        "En este caso se realiza un escalamiento de los datos utilizando un *MinMaxScaler*, el cual resta el valor mínimo de la característica y luego divide por el rango (donde el rango es la diferencia entre el máximo y el mínimo), normalizando los datos para que queden entre 0 y 1 sin modificar la distribución original de los datos, como se evidencia a continuación, efectivamente quedan los rangos de los valores entre 0 y 1."
      ]
    },
    {
      "cell_type": "code",
      "metadata": {
        "scrolled": true,
        "id": "RAXGQ_NED8Cm",
        "colab": {
          "base_uri": "https://localhost:8080/",
          "height": 258
        },
        "outputId": "790d25a6-d8c3-4efe-dcb6-357d394955b2"
      },
      "source": [
        "df_ohe = pd.get_dummies(df)\n",
        "scaler = MinMaxScaler()\n",
        "df_scl_ohe = scaler.fit_transform(df_ohe)\n",
        "df_scl_ohe = pd.DataFrame(df_scl_ohe, columns = df_ohe.columns)\n",
        "df_scl_ohe.head()"
      ],
      "execution_count": 5,
      "outputs": [
        {
          "output_type": "execute_result",
          "data": {
            "text/html": [
              "<div>\n",
              "<style scoped>\n",
              "    .dataframe tbody tr th:only-of-type {\n",
              "        vertical-align: middle;\n",
              "    }\n",
              "\n",
              "    .dataframe tbody tr th {\n",
              "        vertical-align: top;\n",
              "    }\n",
              "\n",
              "    .dataframe thead th {\n",
              "        text-align: right;\n",
              "    }\n",
              "</style>\n",
              "<table border=\"1\" class=\"dataframe\">\n",
              "  <thead>\n",
              "    <tr style=\"text-align: right;\">\n",
              "      <th></th>\n",
              "      <th>year</th>\n",
              "      <th>price</th>\n",
              "      <th>mileage</th>\n",
              "      <th>tax</th>\n",
              "      <th>mpg</th>\n",
              "      <th>engineSize</th>\n",
              "      <th>model_ Auris</th>\n",
              "      <th>model_ Avensis</th>\n",
              "      <th>model_ Aygo</th>\n",
              "      <th>model_ C-HR</th>\n",
              "      <th>model_ Camry</th>\n",
              "      <th>model_ Corolla</th>\n",
              "      <th>model_ GT86</th>\n",
              "      <th>model_ Hilux</th>\n",
              "      <th>model_ IQ</th>\n",
              "      <th>model_ Land Cruiser</th>\n",
              "      <th>model_ PROACE VERSO</th>\n",
              "      <th>model_ Prius</th>\n",
              "      <th>model_ RAV4</th>\n",
              "      <th>model_ Supra</th>\n",
              "      <th>model_ Urban Cruiser</th>\n",
              "      <th>model_ Verso</th>\n",
              "      <th>model_ Verso-S</th>\n",
              "      <th>model_ Yaris</th>\n",
              "      <th>transmission_Automatic</th>\n",
              "      <th>transmission_Manual</th>\n",
              "      <th>transmission_Other</th>\n",
              "      <th>transmission_Semi-Auto</th>\n",
              "      <th>fuelType_Diesel</th>\n",
              "      <th>fuelType_Hybrid</th>\n",
              "      <th>fuelType_Other</th>\n",
              "      <th>fuelType_Petrol</th>\n",
              "    </tr>\n",
              "  </thead>\n",
              "  <tbody>\n",
              "    <tr>\n",
              "      <th>0</th>\n",
              "      <td>0.818182</td>\n",
              "      <td>0.256150</td>\n",
              "      <td>0.138100</td>\n",
              "      <td>0.469027</td>\n",
              "      <td>0.143842</td>\n",
              "      <td>0.444444</td>\n",
              "      <td>0.0</td>\n",
              "      <td>0.0</td>\n",
              "      <td>0.0</td>\n",
              "      <td>0.0</td>\n",
              "      <td>0.0</td>\n",
              "      <td>0.0</td>\n",
              "      <td>1.0</td>\n",
              "      <td>0.0</td>\n",
              "      <td>0.0</td>\n",
              "      <td>0.0</td>\n",
              "      <td>0.0</td>\n",
              "      <td>0.0</td>\n",
              "      <td>0.0</td>\n",
              "      <td>0.0</td>\n",
              "      <td>0.0</td>\n",
              "      <td>0.0</td>\n",
              "      <td>0.0</td>\n",
              "      <td>0.0</td>\n",
              "      <td>0.0</td>\n",
              "      <td>1.0</td>\n",
              "      <td>0.0</td>\n",
              "      <td>0.0</td>\n",
              "      <td>0.0</td>\n",
              "      <td>0.0</td>\n",
              "      <td>0.0</td>\n",
              "      <td>1.0</td>\n",
              "    </tr>\n",
              "    <tr>\n",
              "      <th>1</th>\n",
              "      <td>0.863636</td>\n",
              "      <td>0.256066</td>\n",
              "      <td>0.106716</td>\n",
              "      <td>0.256637</td>\n",
              "      <td>0.143842</td>\n",
              "      <td>0.444444</td>\n",
              "      <td>0.0</td>\n",
              "      <td>0.0</td>\n",
              "      <td>0.0</td>\n",
              "      <td>0.0</td>\n",
              "      <td>0.0</td>\n",
              "      <td>0.0</td>\n",
              "      <td>1.0</td>\n",
              "      <td>0.0</td>\n",
              "      <td>0.0</td>\n",
              "      <td>0.0</td>\n",
              "      <td>0.0</td>\n",
              "      <td>0.0</td>\n",
              "      <td>0.0</td>\n",
              "      <td>0.0</td>\n",
              "      <td>0.0</td>\n",
              "      <td>0.0</td>\n",
              "      <td>0.0</td>\n",
              "      <td>0.0</td>\n",
              "      <td>0.0</td>\n",
              "      <td>1.0</td>\n",
              "      <td>0.0</td>\n",
              "      <td>0.0</td>\n",
              "      <td>0.0</td>\n",
              "      <td>0.0</td>\n",
              "      <td>0.0</td>\n",
              "      <td>1.0</td>\n",
              "    </tr>\n",
              "    <tr>\n",
              "      <th>2</th>\n",
              "      <td>0.772727</td>\n",
              "      <td>0.222301</td>\n",
              "      <td>0.157479</td>\n",
              "      <td>0.469027</td>\n",
              "      <td>0.143842</td>\n",
              "      <td>0.444444</td>\n",
              "      <td>0.0</td>\n",
              "      <td>0.0</td>\n",
              "      <td>0.0</td>\n",
              "      <td>0.0</td>\n",
              "      <td>0.0</td>\n",
              "      <td>0.0</td>\n",
              "      <td>1.0</td>\n",
              "      <td>0.0</td>\n",
              "      <td>0.0</td>\n",
              "      <td>0.0</td>\n",
              "      <td>0.0</td>\n",
              "      <td>0.0</td>\n",
              "      <td>0.0</td>\n",
              "      <td>0.0</td>\n",
              "      <td>0.0</td>\n",
              "      <td>0.0</td>\n",
              "      <td>0.0</td>\n",
              "      <td>0.0</td>\n",
              "      <td>0.0</td>\n",
              "      <td>1.0</td>\n",
              "      <td>0.0</td>\n",
              "      <td>0.0</td>\n",
              "      <td>0.0</td>\n",
              "      <td>0.0</td>\n",
              "      <td>0.0</td>\n",
              "      <td>1.0</td>\n",
              "    </tr>\n",
              "    <tr>\n",
              "      <th>3</th>\n",
              "      <td>0.863636</td>\n",
              "      <td>0.306839</td>\n",
              "      <td>0.084476</td>\n",
              "      <td>0.265487</td>\n",
              "      <td>0.143842</td>\n",
              "      <td>0.444444</td>\n",
              "      <td>0.0</td>\n",
              "      <td>0.0</td>\n",
              "      <td>0.0</td>\n",
              "      <td>0.0</td>\n",
              "      <td>0.0</td>\n",
              "      <td>0.0</td>\n",
              "      <td>1.0</td>\n",
              "      <td>0.0</td>\n",
              "      <td>0.0</td>\n",
              "      <td>0.0</td>\n",
              "      <td>0.0</td>\n",
              "      <td>0.0</td>\n",
              "      <td>0.0</td>\n",
              "      <td>0.0</td>\n",
              "      <td>0.0</td>\n",
              "      <td>0.0</td>\n",
              "      <td>0.0</td>\n",
              "      <td>0.0</td>\n",
              "      <td>0.0</td>\n",
              "      <td>1.0</td>\n",
              "      <td>0.0</td>\n",
              "      <td>0.0</td>\n",
              "      <td>0.0</td>\n",
              "      <td>0.0</td>\n",
              "      <td>0.0</td>\n",
              "      <td>1.0</td>\n",
              "    </tr>\n",
              "    <tr>\n",
              "      <th>4</th>\n",
              "      <td>0.863636</td>\n",
              "      <td>0.281478</td>\n",
              "      <td>0.208019</td>\n",
              "      <td>0.256637</td>\n",
              "      <td>0.143842</td>\n",
              "      <td>0.444444</td>\n",
              "      <td>0.0</td>\n",
              "      <td>0.0</td>\n",
              "      <td>0.0</td>\n",
              "      <td>0.0</td>\n",
              "      <td>0.0</td>\n",
              "      <td>0.0</td>\n",
              "      <td>1.0</td>\n",
              "      <td>0.0</td>\n",
              "      <td>0.0</td>\n",
              "      <td>0.0</td>\n",
              "      <td>0.0</td>\n",
              "      <td>0.0</td>\n",
              "      <td>0.0</td>\n",
              "      <td>0.0</td>\n",
              "      <td>0.0</td>\n",
              "      <td>0.0</td>\n",
              "      <td>0.0</td>\n",
              "      <td>0.0</td>\n",
              "      <td>0.0</td>\n",
              "      <td>1.0</td>\n",
              "      <td>0.0</td>\n",
              "      <td>0.0</td>\n",
              "      <td>0.0</td>\n",
              "      <td>0.0</td>\n",
              "      <td>0.0</td>\n",
              "      <td>1.0</td>\n",
              "    </tr>\n",
              "  </tbody>\n",
              "</table>\n",
              "</div>"
            ],
            "text/plain": [
              "       year     price  ...  fuelType_Other  fuelType_Petrol\n",
              "0  0.818182  0.256150  ...             0.0              1.0\n",
              "1  0.863636  0.256066  ...             0.0              1.0\n",
              "2  0.772727  0.222301  ...             0.0              1.0\n",
              "3  0.863636  0.306839  ...             0.0              1.0\n",
              "4  0.863636  0.281478  ...             0.0              1.0\n",
              "\n",
              "[5 rows x 32 columns]"
            ]
          },
          "metadata": {},
          "execution_count": 5
        }
      ]
    },
    {
      "cell_type": "markdown",
      "metadata": {
        "id": "O4I6kkS_D8Cm"
      },
      "source": [
        "#### Separación de Datos\n",
        "\n",
        "Para entrenar, se requiere separar los label target del resto de información, para ello se crea un dataframe Y con la información de precio y un dataframe X con la demás información. Adicionalmente, se requiere hacer un split de los datos en el conjunto de entrenamiento y de prueba, con el cual se mide el porcentaje de precisión y error a través de las épocas de entrenamiento, en este caso se emplea un 80% del dataset para entrenar y un 20% para test. "
      ]
    },
    {
      "cell_type": "code",
      "metadata": {
        "id": "zIQ-u1tXD8Cm"
      },
      "source": [
        "X = df_scl_ohe.drop(['price'], axis=1)\n",
        "y = df_scl_ohe['price']\n",
        "X_train, X_test, y_train, y_test = train_test_split(X, y, test_size=0.2, random_state=22)"
      ],
      "execution_count": 6,
      "outputs": []
    },
    {
      "cell_type": "markdown",
      "metadata": {
        "id": "PzP9wHM9ZIBq"
      },
      "source": [
        "Se crea el modelo de regresión lineal de sklearn, se entrena y se calcula el Error Cuadrado $R^2$ y Error Cuadrático Medio (RMSE) para evaluar el comportamiento del modelo."
      ]
    },
    {
      "cell_type": "code",
      "metadata": {
        "id": "lLNdjkCxD8Cn",
        "colab": {
          "base_uri": "https://localhost:8080/"
        },
        "outputId": "d40d9170-e194-4a6c-ad12-808a14d50580"
      },
      "source": [
        "model_1 = LinearRegression()\n",
        "\n",
        "model_1.fit(X_train, y_train)\n",
        "preds = model_1.predict(X_test)\n",
        "rmse = np.sqrt(mean_squared_error(y_test, preds))\n",
        "rs = model_1.score(X_test, y_test)\n",
        "print(f'RMSE: {round(rmse,3)}')\n",
        "print(f'R^2: {round(rs,3)}\\n')"
      ],
      "execution_count": 7,
      "outputs": [
        {
          "output_type": "stream",
          "name": "stdout",
          "text": [
            "RMSE: 0.031\n",
            "R^2: 0.917\n",
            "\n"
          ]
        }
      ]
    },
    {
      "cell_type": "markdown",
      "metadata": {
        "id": "5qkNu2BYD8Cn"
      },
      "source": [
        "### Caso 2\n",
        "\n",
        "#### Codificación Ordinal  (MinMaxScaler)\n",
        "\n",
        "Otra forma de codificar categorías no numéricas se conoce como _ordinal encoding_, en donde se asigna a cada categoría un valor numérico, como se observa a continuación, las variables de modelo, tipo de transmisión y combustible poseen ahora una variable numérica que no cambia en las primeras cinco filas ya que para estas filas las categorías permanecían iguales entre sí. A diferencia del One-Hot, se mantienen las 9 columnas de variables."
      ]
    },
    {
      "cell_type": "code",
      "metadata": {
        "id": "3pvjqkLOD8Cn",
        "colab": {
          "base_uri": "https://localhost:8080/",
          "height": 204
        },
        "outputId": "dcb6cb89-c2ed-47ae-cf6f-ee74a06cb477"
      },
      "source": [
        "oe = OrdinalEncoder()\n",
        "df_oe = df.copy()\n",
        "df_oe[str_categ] = oe.fit_transform(df_oe[str_categ])\n",
        "\n",
        "x = df_oe.values #returns a numpy array\n",
        "min_max_scaler = MinMaxScaler()\n",
        "x_scaled = min_max_scaler.fit_transform(x)\n",
        "df_scl_oe = pd.DataFrame(x_scaled, columns=df_oe.columns)\n",
        "df_scl_oe.head()"
      ],
      "execution_count": 8,
      "outputs": [
        {
          "output_type": "execute_result",
          "data": {
            "text/html": [
              "<div>\n",
              "<style scoped>\n",
              "    .dataframe tbody tr th:only-of-type {\n",
              "        vertical-align: middle;\n",
              "    }\n",
              "\n",
              "    .dataframe tbody tr th {\n",
              "        vertical-align: top;\n",
              "    }\n",
              "\n",
              "    .dataframe thead th {\n",
              "        text-align: right;\n",
              "    }\n",
              "</style>\n",
              "<table border=\"1\" class=\"dataframe\">\n",
              "  <thead>\n",
              "    <tr style=\"text-align: right;\">\n",
              "      <th></th>\n",
              "      <th>model</th>\n",
              "      <th>year</th>\n",
              "      <th>price</th>\n",
              "      <th>transmission</th>\n",
              "      <th>mileage</th>\n",
              "      <th>fuelType</th>\n",
              "      <th>tax</th>\n",
              "      <th>mpg</th>\n",
              "      <th>engineSize</th>\n",
              "    </tr>\n",
              "  </thead>\n",
              "  <tbody>\n",
              "    <tr>\n",
              "      <th>0</th>\n",
              "      <td>0.352941</td>\n",
              "      <td>0.818182</td>\n",
              "      <td>0.256150</td>\n",
              "      <td>0.333333</td>\n",
              "      <td>0.138100</td>\n",
              "      <td>1.0</td>\n",
              "      <td>0.469027</td>\n",
              "      <td>0.143842</td>\n",
              "      <td>0.444444</td>\n",
              "    </tr>\n",
              "    <tr>\n",
              "      <th>1</th>\n",
              "      <td>0.352941</td>\n",
              "      <td>0.863636</td>\n",
              "      <td>0.256066</td>\n",
              "      <td>0.333333</td>\n",
              "      <td>0.106716</td>\n",
              "      <td>1.0</td>\n",
              "      <td>0.256637</td>\n",
              "      <td>0.143842</td>\n",
              "      <td>0.444444</td>\n",
              "    </tr>\n",
              "    <tr>\n",
              "      <th>2</th>\n",
              "      <td>0.352941</td>\n",
              "      <td>0.772727</td>\n",
              "      <td>0.222301</td>\n",
              "      <td>0.333333</td>\n",
              "      <td>0.157479</td>\n",
              "      <td>1.0</td>\n",
              "      <td>0.469027</td>\n",
              "      <td>0.143842</td>\n",
              "      <td>0.444444</td>\n",
              "    </tr>\n",
              "    <tr>\n",
              "      <th>3</th>\n",
              "      <td>0.352941</td>\n",
              "      <td>0.863636</td>\n",
              "      <td>0.306839</td>\n",
              "      <td>0.333333</td>\n",
              "      <td>0.084476</td>\n",
              "      <td>1.0</td>\n",
              "      <td>0.265487</td>\n",
              "      <td>0.143842</td>\n",
              "      <td>0.444444</td>\n",
              "    </tr>\n",
              "    <tr>\n",
              "      <th>4</th>\n",
              "      <td>0.352941</td>\n",
              "      <td>0.863636</td>\n",
              "      <td>0.281478</td>\n",
              "      <td>0.333333</td>\n",
              "      <td>0.208019</td>\n",
              "      <td>1.0</td>\n",
              "      <td>0.256637</td>\n",
              "      <td>0.143842</td>\n",
              "      <td>0.444444</td>\n",
              "    </tr>\n",
              "  </tbody>\n",
              "</table>\n",
              "</div>"
            ],
            "text/plain": [
              "      model      year     price  ...       tax       mpg  engineSize\n",
              "0  0.352941  0.818182  0.256150  ...  0.469027  0.143842    0.444444\n",
              "1  0.352941  0.863636  0.256066  ...  0.256637  0.143842    0.444444\n",
              "2  0.352941  0.772727  0.222301  ...  0.469027  0.143842    0.444444\n",
              "3  0.352941  0.863636  0.306839  ...  0.265487  0.143842    0.444444\n",
              "4  0.352941  0.863636  0.281478  ...  0.256637  0.143842    0.444444\n",
              "\n",
              "[5 rows x 9 columns]"
            ]
          },
          "metadata": {},
          "execution_count": 8
        }
      ]
    },
    {
      "cell_type": "markdown",
      "metadata": {
        "id": "L6AYQXu5D8Co"
      },
      "source": [
        "#### Separación de Datos"
      ]
    },
    {
      "cell_type": "code",
      "metadata": {
        "scrolled": true,
        "id": "wv0GWU22D8Co"
      },
      "source": [
        "X = df_scl_oe.drop(['price'], axis=1)\n",
        "y = df_scl_oe['price']\n",
        "X_train, X_test, y_train, y_test = train_test_split(X, y, test_size=0.2, random_state=22)"
      ],
      "execution_count": 9,
      "outputs": []
    },
    {
      "cell_type": "code",
      "metadata": {
        "id": "j7poJWBeD8Cp",
        "colab": {
          "base_uri": "https://localhost:8080/"
        },
        "outputId": "620cd618-7174-4f95-bb9c-94bcd86bfb0d"
      },
      "source": [
        "model_2 = LinearRegression()\n",
        "\n",
        "model_2.fit(X_train, y_train)\n",
        "preds = model_2.predict(X_test)\n",
        "rmse = np.sqrt(mean_squared_error(y_test, preds))\n",
        "rs = model_2.score(X_test, y_test)\n",
        "print(f'RMSE: {round(rmse,3)}')\n",
        "print(f'R^2: {round(rs,3)}\\n')"
      ],
      "execution_count": 10,
      "outputs": [
        {
          "output_type": "stream",
          "name": "stdout",
          "text": [
            "RMSE: 0.05\n",
            "R^2: 0.787\n",
            "\n"
          ]
        }
      ]
    },
    {
      "cell_type": "markdown",
      "metadata": {
        "id": "LDl-UJaMD8Cp"
      },
      "source": [
        "### Caso 3\n",
        "\n",
        "#### Codificación One-Hot (RobustScaler)\n",
        "\n",
        "En este caso se emplea el escalamiento de datos RobustScaler, que transforma el vector de datos restando la mediana y dividiendo por el rango intercuartíloco (valor del 75% - valor del 25%), como los datos en este caso obtienen una transformación, ésta reduce importancia a outlayers si estos existen en los datos."
      ]
    },
    {
      "cell_type": "code",
      "metadata": {
        "id": "DcHwKtD-D8Cq",
        "colab": {
          "base_uri": "https://localhost:8080/",
          "height": 258
        },
        "outputId": "f37aa8d9-cb02-44e5-bc7f-43f485231d5f"
      },
      "source": [
        "df_ohe = pd.get_dummies(df)\n",
        "scaler = RobustScaler()\n",
        "df_rscl_ohe = scaler.fit_transform(df_ohe)\n",
        "df_rscl_ohe = pd.DataFrame(df_scl_ohe, columns = df_ohe.columns)\n",
        "df_rscl_ohe.head()"
      ],
      "execution_count": 11,
      "outputs": [
        {
          "output_type": "execute_result",
          "data": {
            "text/html": [
              "<div>\n",
              "<style scoped>\n",
              "    .dataframe tbody tr th:only-of-type {\n",
              "        vertical-align: middle;\n",
              "    }\n",
              "\n",
              "    .dataframe tbody tr th {\n",
              "        vertical-align: top;\n",
              "    }\n",
              "\n",
              "    .dataframe thead th {\n",
              "        text-align: right;\n",
              "    }\n",
              "</style>\n",
              "<table border=\"1\" class=\"dataframe\">\n",
              "  <thead>\n",
              "    <tr style=\"text-align: right;\">\n",
              "      <th></th>\n",
              "      <th>year</th>\n",
              "      <th>price</th>\n",
              "      <th>mileage</th>\n",
              "      <th>tax</th>\n",
              "      <th>mpg</th>\n",
              "      <th>engineSize</th>\n",
              "      <th>model_ Auris</th>\n",
              "      <th>model_ Avensis</th>\n",
              "      <th>model_ Aygo</th>\n",
              "      <th>model_ C-HR</th>\n",
              "      <th>model_ Camry</th>\n",
              "      <th>model_ Corolla</th>\n",
              "      <th>model_ GT86</th>\n",
              "      <th>model_ Hilux</th>\n",
              "      <th>model_ IQ</th>\n",
              "      <th>model_ Land Cruiser</th>\n",
              "      <th>model_ PROACE VERSO</th>\n",
              "      <th>model_ Prius</th>\n",
              "      <th>model_ RAV4</th>\n",
              "      <th>model_ Supra</th>\n",
              "      <th>model_ Urban Cruiser</th>\n",
              "      <th>model_ Verso</th>\n",
              "      <th>model_ Verso-S</th>\n",
              "      <th>model_ Yaris</th>\n",
              "      <th>transmission_Automatic</th>\n",
              "      <th>transmission_Manual</th>\n",
              "      <th>transmission_Other</th>\n",
              "      <th>transmission_Semi-Auto</th>\n",
              "      <th>fuelType_Diesel</th>\n",
              "      <th>fuelType_Hybrid</th>\n",
              "      <th>fuelType_Other</th>\n",
              "      <th>fuelType_Petrol</th>\n",
              "    </tr>\n",
              "  </thead>\n",
              "  <tbody>\n",
              "    <tr>\n",
              "      <th>0</th>\n",
              "      <td>0.818182</td>\n",
              "      <td>0.256150</td>\n",
              "      <td>0.138100</td>\n",
              "      <td>0.469027</td>\n",
              "      <td>0.143842</td>\n",
              "      <td>0.444444</td>\n",
              "      <td>0.0</td>\n",
              "      <td>0.0</td>\n",
              "      <td>0.0</td>\n",
              "      <td>0.0</td>\n",
              "      <td>0.0</td>\n",
              "      <td>0.0</td>\n",
              "      <td>1.0</td>\n",
              "      <td>0.0</td>\n",
              "      <td>0.0</td>\n",
              "      <td>0.0</td>\n",
              "      <td>0.0</td>\n",
              "      <td>0.0</td>\n",
              "      <td>0.0</td>\n",
              "      <td>0.0</td>\n",
              "      <td>0.0</td>\n",
              "      <td>0.0</td>\n",
              "      <td>0.0</td>\n",
              "      <td>0.0</td>\n",
              "      <td>0.0</td>\n",
              "      <td>1.0</td>\n",
              "      <td>0.0</td>\n",
              "      <td>0.0</td>\n",
              "      <td>0.0</td>\n",
              "      <td>0.0</td>\n",
              "      <td>0.0</td>\n",
              "      <td>1.0</td>\n",
              "    </tr>\n",
              "    <tr>\n",
              "      <th>1</th>\n",
              "      <td>0.863636</td>\n",
              "      <td>0.256066</td>\n",
              "      <td>0.106716</td>\n",
              "      <td>0.256637</td>\n",
              "      <td>0.143842</td>\n",
              "      <td>0.444444</td>\n",
              "      <td>0.0</td>\n",
              "      <td>0.0</td>\n",
              "      <td>0.0</td>\n",
              "      <td>0.0</td>\n",
              "      <td>0.0</td>\n",
              "      <td>0.0</td>\n",
              "      <td>1.0</td>\n",
              "      <td>0.0</td>\n",
              "      <td>0.0</td>\n",
              "      <td>0.0</td>\n",
              "      <td>0.0</td>\n",
              "      <td>0.0</td>\n",
              "      <td>0.0</td>\n",
              "      <td>0.0</td>\n",
              "      <td>0.0</td>\n",
              "      <td>0.0</td>\n",
              "      <td>0.0</td>\n",
              "      <td>0.0</td>\n",
              "      <td>0.0</td>\n",
              "      <td>1.0</td>\n",
              "      <td>0.0</td>\n",
              "      <td>0.0</td>\n",
              "      <td>0.0</td>\n",
              "      <td>0.0</td>\n",
              "      <td>0.0</td>\n",
              "      <td>1.0</td>\n",
              "    </tr>\n",
              "    <tr>\n",
              "      <th>2</th>\n",
              "      <td>0.772727</td>\n",
              "      <td>0.222301</td>\n",
              "      <td>0.157479</td>\n",
              "      <td>0.469027</td>\n",
              "      <td>0.143842</td>\n",
              "      <td>0.444444</td>\n",
              "      <td>0.0</td>\n",
              "      <td>0.0</td>\n",
              "      <td>0.0</td>\n",
              "      <td>0.0</td>\n",
              "      <td>0.0</td>\n",
              "      <td>0.0</td>\n",
              "      <td>1.0</td>\n",
              "      <td>0.0</td>\n",
              "      <td>0.0</td>\n",
              "      <td>0.0</td>\n",
              "      <td>0.0</td>\n",
              "      <td>0.0</td>\n",
              "      <td>0.0</td>\n",
              "      <td>0.0</td>\n",
              "      <td>0.0</td>\n",
              "      <td>0.0</td>\n",
              "      <td>0.0</td>\n",
              "      <td>0.0</td>\n",
              "      <td>0.0</td>\n",
              "      <td>1.0</td>\n",
              "      <td>0.0</td>\n",
              "      <td>0.0</td>\n",
              "      <td>0.0</td>\n",
              "      <td>0.0</td>\n",
              "      <td>0.0</td>\n",
              "      <td>1.0</td>\n",
              "    </tr>\n",
              "    <tr>\n",
              "      <th>3</th>\n",
              "      <td>0.863636</td>\n",
              "      <td>0.306839</td>\n",
              "      <td>0.084476</td>\n",
              "      <td>0.265487</td>\n",
              "      <td>0.143842</td>\n",
              "      <td>0.444444</td>\n",
              "      <td>0.0</td>\n",
              "      <td>0.0</td>\n",
              "      <td>0.0</td>\n",
              "      <td>0.0</td>\n",
              "      <td>0.0</td>\n",
              "      <td>0.0</td>\n",
              "      <td>1.0</td>\n",
              "      <td>0.0</td>\n",
              "      <td>0.0</td>\n",
              "      <td>0.0</td>\n",
              "      <td>0.0</td>\n",
              "      <td>0.0</td>\n",
              "      <td>0.0</td>\n",
              "      <td>0.0</td>\n",
              "      <td>0.0</td>\n",
              "      <td>0.0</td>\n",
              "      <td>0.0</td>\n",
              "      <td>0.0</td>\n",
              "      <td>0.0</td>\n",
              "      <td>1.0</td>\n",
              "      <td>0.0</td>\n",
              "      <td>0.0</td>\n",
              "      <td>0.0</td>\n",
              "      <td>0.0</td>\n",
              "      <td>0.0</td>\n",
              "      <td>1.0</td>\n",
              "    </tr>\n",
              "    <tr>\n",
              "      <th>4</th>\n",
              "      <td>0.863636</td>\n",
              "      <td>0.281478</td>\n",
              "      <td>0.208019</td>\n",
              "      <td>0.256637</td>\n",
              "      <td>0.143842</td>\n",
              "      <td>0.444444</td>\n",
              "      <td>0.0</td>\n",
              "      <td>0.0</td>\n",
              "      <td>0.0</td>\n",
              "      <td>0.0</td>\n",
              "      <td>0.0</td>\n",
              "      <td>0.0</td>\n",
              "      <td>1.0</td>\n",
              "      <td>0.0</td>\n",
              "      <td>0.0</td>\n",
              "      <td>0.0</td>\n",
              "      <td>0.0</td>\n",
              "      <td>0.0</td>\n",
              "      <td>0.0</td>\n",
              "      <td>0.0</td>\n",
              "      <td>0.0</td>\n",
              "      <td>0.0</td>\n",
              "      <td>0.0</td>\n",
              "      <td>0.0</td>\n",
              "      <td>0.0</td>\n",
              "      <td>1.0</td>\n",
              "      <td>0.0</td>\n",
              "      <td>0.0</td>\n",
              "      <td>0.0</td>\n",
              "      <td>0.0</td>\n",
              "      <td>0.0</td>\n",
              "      <td>1.0</td>\n",
              "    </tr>\n",
              "  </tbody>\n",
              "</table>\n",
              "</div>"
            ],
            "text/plain": [
              "       year     price  ...  fuelType_Other  fuelType_Petrol\n",
              "0  0.818182  0.256150  ...             0.0              1.0\n",
              "1  0.863636  0.256066  ...             0.0              1.0\n",
              "2  0.772727  0.222301  ...             0.0              1.0\n",
              "3  0.863636  0.306839  ...             0.0              1.0\n",
              "4  0.863636  0.281478  ...             0.0              1.0\n",
              "\n",
              "[5 rows x 32 columns]"
            ]
          },
          "metadata": {},
          "execution_count": 11
        }
      ]
    },
    {
      "cell_type": "markdown",
      "metadata": {
        "id": "BcVL57uyD8Cq"
      },
      "source": [
        "#### Separación de Datos"
      ]
    },
    {
      "cell_type": "code",
      "metadata": {
        "scrolled": true,
        "id": "ojz3hCbuD8Cq"
      },
      "source": [
        "X = df_rscl_ohe.drop(['price'], axis=1)\n",
        "y = df_rscl_ohe['price']\n",
        "X_train, X_test, y_train, y_test = train_test_split(X, y, test_size=0.2, random_state=22)"
      ],
      "execution_count": 12,
      "outputs": []
    },
    {
      "cell_type": "code",
      "metadata": {
        "id": "WXW3ZMG9D8Cq",
        "colab": {
          "base_uri": "https://localhost:8080/"
        },
        "outputId": "4b3f2471-b3e1-4f68-a69a-50f52072da00"
      },
      "source": [
        "model_3 = LinearRegression()\n",
        "\n",
        "model_3.fit(X_train, y_train)\n",
        "preds = model_3.predict(X_test)\n",
        "rmse = np.sqrt(mean_squared_error(y_test, preds))\n",
        "rs = model_3.score(X_test, y_test)\n",
        "print(f'RMSE: {round(rmse,3)}')\n",
        "print(f'R^2: {round(rs,3)}\\n')"
      ],
      "execution_count": 13,
      "outputs": [
        {
          "output_type": "stream",
          "name": "stdout",
          "text": [
            "RMSE: 0.031\n",
            "R^2: 0.917\n",
            "\n"
          ]
        }
      ]
    },
    {
      "cell_type": "markdown",
      "metadata": {
        "id": "yP_axn1tD8Cr"
      },
      "source": [
        "### Caso 4\n",
        "\n",
        "#### Codificación Ordinal (RobustScaler)"
      ]
    },
    {
      "cell_type": "code",
      "metadata": {
        "id": "PZavDxSCD8Cr",
        "colab": {
          "base_uri": "https://localhost:8080/",
          "height": 204
        },
        "outputId": "d9359c3c-7c55-421d-9370-5f0ce785d0c8"
      },
      "source": [
        "oe = OrdinalEncoder()\n",
        "df_oe = df.copy()\n",
        "df_oe[str_categ] = oe.fit_transform(df_oe[str_categ])\n",
        "\n",
        "x = df_oe.values #returns a numpy array\n",
        "robust_scaler = RobustScaler()\n",
        "x_scaled = robust_scaler.fit_transform(x)\n",
        "df_scl_oe = pd.DataFrame(x_scaled, columns=df_oe.columns)\n",
        "df_scl_oe.head()"
      ],
      "execution_count": 14,
      "outputs": [
        {
          "output_type": "execute_result",
          "data": {
            "text/html": [
              "<div>\n",
              "<style scoped>\n",
              "    .dataframe tbody tr th:only-of-type {\n",
              "        vertical-align: middle;\n",
              "    }\n",
              "\n",
              "    .dataframe tbody tr th {\n",
              "        vertical-align: top;\n",
              "    }\n",
              "\n",
              "    .dataframe thead th {\n",
              "        text-align: right;\n",
              "    }\n",
              "</style>\n",
              "<table border=\"1\" class=\"dataframe\">\n",
              "  <thead>\n",
              "    <tr style=\"text-align: right;\">\n",
              "      <th></th>\n",
              "      <th>model</th>\n",
              "      <th>year</th>\n",
              "      <th>price</th>\n",
              "      <th>transmission</th>\n",
              "      <th>mileage</th>\n",
              "      <th>fuelType</th>\n",
              "      <th>tax</th>\n",
              "      <th>mpg</th>\n",
              "      <th>engineSize</th>\n",
              "    </tr>\n",
              "  </thead>\n",
              "  <tbody>\n",
              "    <tr>\n",
              "      <th>0</th>\n",
              "      <td>0.066667</td>\n",
              "      <td>-0.5</td>\n",
              "      <td>0.776286</td>\n",
              "      <td>0.0</td>\n",
              "      <td>0.257936</td>\n",
              "      <td>0.0</td>\n",
              "      <td>0.896552</td>\n",
              "      <td>-1.955882</td>\n",
              "      <td>0.625</td>\n",
              "    </tr>\n",
              "    <tr>\n",
              "      <th>1</th>\n",
              "      <td>0.066667</td>\n",
              "      <td>0.0</td>\n",
              "      <td>0.775541</td>\n",
              "      <td>0.0</td>\n",
              "      <td>0.004718</td>\n",
              "      <td>0.0</td>\n",
              "      <td>0.068966</td>\n",
              "      <td>-1.955882</td>\n",
              "      <td>0.625</td>\n",
              "    </tr>\n",
              "    <tr>\n",
              "      <th>2</th>\n",
              "      <td>0.066667</td>\n",
              "      <td>-1.0</td>\n",
              "      <td>0.477703</td>\n",
              "      <td>0.0</td>\n",
              "      <td>0.414289</td>\n",
              "      <td>0.0</td>\n",
              "      <td>0.896552</td>\n",
              "      <td>-1.955882</td>\n",
              "      <td>0.625</td>\n",
              "    </tr>\n",
              "    <tr>\n",
              "      <th>3</th>\n",
              "      <td>0.066667</td>\n",
              "      <td>0.0</td>\n",
              "      <td>1.223415</td>\n",
              "      <td>0.0</td>\n",
              "      <td>-0.174718</td>\n",
              "      <td>0.0</td>\n",
              "      <td>0.103448</td>\n",
              "      <td>-1.955882</td>\n",
              "      <td>0.625</td>\n",
              "    </tr>\n",
              "    <tr>\n",
              "      <th>4</th>\n",
              "      <td>0.066667</td>\n",
              "      <td>0.0</td>\n",
              "      <td>0.999702</td>\n",
              "      <td>0.0</td>\n",
              "      <td>0.822056</td>\n",
              "      <td>0.0</td>\n",
              "      <td>0.068966</td>\n",
              "      <td>-1.955882</td>\n",
              "      <td>0.625</td>\n",
              "    </tr>\n",
              "  </tbody>\n",
              "</table>\n",
              "</div>"
            ],
            "text/plain": [
              "      model  year     price  ...       tax       mpg  engineSize\n",
              "0  0.066667  -0.5  0.776286  ...  0.896552 -1.955882       0.625\n",
              "1  0.066667   0.0  0.775541  ...  0.068966 -1.955882       0.625\n",
              "2  0.066667  -1.0  0.477703  ...  0.896552 -1.955882       0.625\n",
              "3  0.066667   0.0  1.223415  ...  0.103448 -1.955882       0.625\n",
              "4  0.066667   0.0  0.999702  ...  0.068966 -1.955882       0.625\n",
              "\n",
              "[5 rows x 9 columns]"
            ]
          },
          "metadata": {},
          "execution_count": 14
        }
      ]
    },
    {
      "cell_type": "markdown",
      "metadata": {
        "id": "XAwtr732D8Cr"
      },
      "source": [
        "#### Separación de Datos"
      ]
    },
    {
      "cell_type": "code",
      "metadata": {
        "scrolled": true,
        "id": "1_HX-aGpD8Cr"
      },
      "source": [
        "X = df_scl_oe.drop(['price'], axis=1)\n",
        "y = df_scl_oe['price']\n",
        "X_train, X_test, y_train, y_test = train_test_split(X, y, test_size=0.2, random_state=22)"
      ],
      "execution_count": 15,
      "outputs": []
    },
    {
      "cell_type": "code",
      "metadata": {
        "id": "6SdgEypED8Cs",
        "colab": {
          "base_uri": "https://localhost:8080/"
        },
        "outputId": "806d987e-de50-4906-e948-9b87b5104026"
      },
      "source": [
        "model_4 = LinearRegression()\n",
        "\n",
        "model_4.fit(X_train, y_train)\n",
        "preds = model_4.predict(X_test)\n",
        "rmse = np.sqrt(mean_squared_error(y_test, preds))\n",
        "rs = model_4.score(X_test, y_test)\n",
        "print(f'RMSE: {round(rmse,3)}')\n",
        "print(f'R^2: {round(rs,3)}\\n')"
      ],
      "execution_count": 16,
      "outputs": [
        {
          "output_type": "stream",
          "name": "stdout",
          "text": [
            "RMSE: 0.444\n",
            "R^2: 0.787\n",
            "\n"
          ]
        }
      ]
    },
    {
      "cell_type": "markdown",
      "metadata": {
        "id": "yfuKW_SxD8Cs"
      },
      "source": [
        "### Caso 5\n",
        "\n",
        "#### Caso 5: Entrenar con un 30% (Codificación Ordinal, MinMaxScaler)"
      ]
    },
    {
      "cell_type": "code",
      "metadata": {
        "id": "LOWwgOzyD8Cs",
        "colab": {
          "base_uri": "https://localhost:8080/",
          "height": 204
        },
        "outputId": "374298d8-0bf7-4842-ad19-d0256d8669d5"
      },
      "source": [
        "oe = OrdinalEncoder()\n",
        "df_oe = df.copy()\n",
        "df_oe[str_categ] = oe.fit_transform(df_oe[str_categ])\n",
        "\n",
        "x = df_oe.values #returns a numpy array\n",
        "min_max_scaler = MinMaxScaler()\n",
        "x_scaled = min_max_scaler.fit_transform(x)\n",
        "df_scl_oe = pd.DataFrame(x_scaled, columns=df_oe.columns)\n",
        "df_scl_oe.head()"
      ],
      "execution_count": 17,
      "outputs": [
        {
          "output_type": "execute_result",
          "data": {
            "text/html": [
              "<div>\n",
              "<style scoped>\n",
              "    .dataframe tbody tr th:only-of-type {\n",
              "        vertical-align: middle;\n",
              "    }\n",
              "\n",
              "    .dataframe tbody tr th {\n",
              "        vertical-align: top;\n",
              "    }\n",
              "\n",
              "    .dataframe thead th {\n",
              "        text-align: right;\n",
              "    }\n",
              "</style>\n",
              "<table border=\"1\" class=\"dataframe\">\n",
              "  <thead>\n",
              "    <tr style=\"text-align: right;\">\n",
              "      <th></th>\n",
              "      <th>model</th>\n",
              "      <th>year</th>\n",
              "      <th>price</th>\n",
              "      <th>transmission</th>\n",
              "      <th>mileage</th>\n",
              "      <th>fuelType</th>\n",
              "      <th>tax</th>\n",
              "      <th>mpg</th>\n",
              "      <th>engineSize</th>\n",
              "    </tr>\n",
              "  </thead>\n",
              "  <tbody>\n",
              "    <tr>\n",
              "      <th>0</th>\n",
              "      <td>0.352941</td>\n",
              "      <td>0.818182</td>\n",
              "      <td>0.256150</td>\n",
              "      <td>0.333333</td>\n",
              "      <td>0.138100</td>\n",
              "      <td>1.0</td>\n",
              "      <td>0.469027</td>\n",
              "      <td>0.143842</td>\n",
              "      <td>0.444444</td>\n",
              "    </tr>\n",
              "    <tr>\n",
              "      <th>1</th>\n",
              "      <td>0.352941</td>\n",
              "      <td>0.863636</td>\n",
              "      <td>0.256066</td>\n",
              "      <td>0.333333</td>\n",
              "      <td>0.106716</td>\n",
              "      <td>1.0</td>\n",
              "      <td>0.256637</td>\n",
              "      <td>0.143842</td>\n",
              "      <td>0.444444</td>\n",
              "    </tr>\n",
              "    <tr>\n",
              "      <th>2</th>\n",
              "      <td>0.352941</td>\n",
              "      <td>0.772727</td>\n",
              "      <td>0.222301</td>\n",
              "      <td>0.333333</td>\n",
              "      <td>0.157479</td>\n",
              "      <td>1.0</td>\n",
              "      <td>0.469027</td>\n",
              "      <td>0.143842</td>\n",
              "      <td>0.444444</td>\n",
              "    </tr>\n",
              "    <tr>\n",
              "      <th>3</th>\n",
              "      <td>0.352941</td>\n",
              "      <td>0.863636</td>\n",
              "      <td>0.306839</td>\n",
              "      <td>0.333333</td>\n",
              "      <td>0.084476</td>\n",
              "      <td>1.0</td>\n",
              "      <td>0.265487</td>\n",
              "      <td>0.143842</td>\n",
              "      <td>0.444444</td>\n",
              "    </tr>\n",
              "    <tr>\n",
              "      <th>4</th>\n",
              "      <td>0.352941</td>\n",
              "      <td>0.863636</td>\n",
              "      <td>0.281478</td>\n",
              "      <td>0.333333</td>\n",
              "      <td>0.208019</td>\n",
              "      <td>1.0</td>\n",
              "      <td>0.256637</td>\n",
              "      <td>0.143842</td>\n",
              "      <td>0.444444</td>\n",
              "    </tr>\n",
              "  </tbody>\n",
              "</table>\n",
              "</div>"
            ],
            "text/plain": [
              "      model      year     price  ...       tax       mpg  engineSize\n",
              "0  0.352941  0.818182  0.256150  ...  0.469027  0.143842    0.444444\n",
              "1  0.352941  0.863636  0.256066  ...  0.256637  0.143842    0.444444\n",
              "2  0.352941  0.772727  0.222301  ...  0.469027  0.143842    0.444444\n",
              "3  0.352941  0.863636  0.306839  ...  0.265487  0.143842    0.444444\n",
              "4  0.352941  0.863636  0.281478  ...  0.256637  0.143842    0.444444\n",
              "\n",
              "[5 rows x 9 columns]"
            ]
          },
          "metadata": {},
          "execution_count": 17
        }
      ]
    },
    {
      "cell_type": "markdown",
      "metadata": {
        "id": "tBC20rSAD8Ct"
      },
      "source": [
        "#### Separación de Datos"
      ]
    },
    {
      "cell_type": "code",
      "metadata": {
        "scrolled": true,
        "id": "No9gTLFyD8Ct"
      },
      "source": [
        "X = df_scl_oe.drop(['price'], axis=1)\n",
        "y = df_scl_oe['price']\n",
        "X_train, X_test, y_train, y_test = train_test_split(X, y, test_size=0.7, random_state=22)"
      ],
      "execution_count": 18,
      "outputs": []
    },
    {
      "cell_type": "code",
      "metadata": {
        "id": "PMEjz3iYD8Ct",
        "colab": {
          "base_uri": "https://localhost:8080/"
        },
        "outputId": "390f7df2-9ea0-46ba-dc50-5e2e7ad7cefb"
      },
      "source": [
        "model_5 = LinearRegression()\n",
        "\n",
        "model_5.fit(X_train, y_train)\n",
        "preds = model_5.predict(X_test)\n",
        "rmse = np.sqrt(mean_squared_error(y_test, preds))\n",
        "rs = model_5.score(X_test, y_test)\n",
        "print(f'RMSE: {round(rmse,3)}')\n",
        "print(f'R^2: {round(rs,3)}\\n')"
      ],
      "execution_count": 19,
      "outputs": [
        {
          "output_type": "stream",
          "name": "stdout",
          "text": [
            "RMSE: 0.049\n",
            "R^2: 0.785\n",
            "\n"
          ]
        }
      ]
    },
    {
      "cell_type": "markdown",
      "metadata": {
        "id": "q_oSLU1GD8Ct"
      },
      "source": [
        "### Caso 6\n",
        "\n",
        "#### Caso 5: Entrenar con un 55% (Codificación Ordinal, MinMaxScaler)"
      ]
    },
    {
      "cell_type": "code",
      "metadata": {
        "id": "X9JryTs9D8Ct",
        "colab": {
          "base_uri": "https://localhost:8080/",
          "height": 204
        },
        "outputId": "04ed43f7-b538-4292-9037-ff54e6159829"
      },
      "source": [
        "oe = OrdinalEncoder()\n",
        "df_oe = df.copy()\n",
        "df_oe[str_categ] = oe.fit_transform(df_oe[str_categ])\n",
        "\n",
        "x = df_oe.values #returns a numpy array\n",
        "min_max_scaler = MinMaxScaler()\n",
        "x_scaled = min_max_scaler.fit_transform(x)\n",
        "df_scl_oe = pd.DataFrame(x_scaled, columns=df_oe.columns)\n",
        "df_scl_oe.head()"
      ],
      "execution_count": 20,
      "outputs": [
        {
          "output_type": "execute_result",
          "data": {
            "text/html": [
              "<div>\n",
              "<style scoped>\n",
              "    .dataframe tbody tr th:only-of-type {\n",
              "        vertical-align: middle;\n",
              "    }\n",
              "\n",
              "    .dataframe tbody tr th {\n",
              "        vertical-align: top;\n",
              "    }\n",
              "\n",
              "    .dataframe thead th {\n",
              "        text-align: right;\n",
              "    }\n",
              "</style>\n",
              "<table border=\"1\" class=\"dataframe\">\n",
              "  <thead>\n",
              "    <tr style=\"text-align: right;\">\n",
              "      <th></th>\n",
              "      <th>model</th>\n",
              "      <th>year</th>\n",
              "      <th>price</th>\n",
              "      <th>transmission</th>\n",
              "      <th>mileage</th>\n",
              "      <th>fuelType</th>\n",
              "      <th>tax</th>\n",
              "      <th>mpg</th>\n",
              "      <th>engineSize</th>\n",
              "    </tr>\n",
              "  </thead>\n",
              "  <tbody>\n",
              "    <tr>\n",
              "      <th>0</th>\n",
              "      <td>0.352941</td>\n",
              "      <td>0.818182</td>\n",
              "      <td>0.256150</td>\n",
              "      <td>0.333333</td>\n",
              "      <td>0.138100</td>\n",
              "      <td>1.0</td>\n",
              "      <td>0.469027</td>\n",
              "      <td>0.143842</td>\n",
              "      <td>0.444444</td>\n",
              "    </tr>\n",
              "    <tr>\n",
              "      <th>1</th>\n",
              "      <td>0.352941</td>\n",
              "      <td>0.863636</td>\n",
              "      <td>0.256066</td>\n",
              "      <td>0.333333</td>\n",
              "      <td>0.106716</td>\n",
              "      <td>1.0</td>\n",
              "      <td>0.256637</td>\n",
              "      <td>0.143842</td>\n",
              "      <td>0.444444</td>\n",
              "    </tr>\n",
              "    <tr>\n",
              "      <th>2</th>\n",
              "      <td>0.352941</td>\n",
              "      <td>0.772727</td>\n",
              "      <td>0.222301</td>\n",
              "      <td>0.333333</td>\n",
              "      <td>0.157479</td>\n",
              "      <td>1.0</td>\n",
              "      <td>0.469027</td>\n",
              "      <td>0.143842</td>\n",
              "      <td>0.444444</td>\n",
              "    </tr>\n",
              "    <tr>\n",
              "      <th>3</th>\n",
              "      <td>0.352941</td>\n",
              "      <td>0.863636</td>\n",
              "      <td>0.306839</td>\n",
              "      <td>0.333333</td>\n",
              "      <td>0.084476</td>\n",
              "      <td>1.0</td>\n",
              "      <td>0.265487</td>\n",
              "      <td>0.143842</td>\n",
              "      <td>0.444444</td>\n",
              "    </tr>\n",
              "    <tr>\n",
              "      <th>4</th>\n",
              "      <td>0.352941</td>\n",
              "      <td>0.863636</td>\n",
              "      <td>0.281478</td>\n",
              "      <td>0.333333</td>\n",
              "      <td>0.208019</td>\n",
              "      <td>1.0</td>\n",
              "      <td>0.256637</td>\n",
              "      <td>0.143842</td>\n",
              "      <td>0.444444</td>\n",
              "    </tr>\n",
              "  </tbody>\n",
              "</table>\n",
              "</div>"
            ],
            "text/plain": [
              "      model      year     price  ...       tax       mpg  engineSize\n",
              "0  0.352941  0.818182  0.256150  ...  0.469027  0.143842    0.444444\n",
              "1  0.352941  0.863636  0.256066  ...  0.256637  0.143842    0.444444\n",
              "2  0.352941  0.772727  0.222301  ...  0.469027  0.143842    0.444444\n",
              "3  0.352941  0.863636  0.306839  ...  0.265487  0.143842    0.444444\n",
              "4  0.352941  0.863636  0.281478  ...  0.256637  0.143842    0.444444\n",
              "\n",
              "[5 rows x 9 columns]"
            ]
          },
          "metadata": {},
          "execution_count": 20
        }
      ]
    },
    {
      "cell_type": "markdown",
      "metadata": {
        "id": "5vEC1U3YD8Cu"
      },
      "source": [
        "#### Separación de Datos"
      ]
    },
    {
      "cell_type": "code",
      "metadata": {
        "scrolled": true,
        "id": "dsU79BHYD8Cu"
      },
      "source": [
        "X = df_scl_oe.drop(['price'], axis=1)\n",
        "y = df_scl_oe['price']\n",
        "X_train, X_test, y_train, y_test = train_test_split(X, y, test_size=0.45, random_state=22)"
      ],
      "execution_count": 21,
      "outputs": []
    },
    {
      "cell_type": "code",
      "metadata": {
        "id": "pE3LR0S3D8Cu",
        "colab": {
          "base_uri": "https://localhost:8080/"
        },
        "outputId": "960e5cde-21db-480a-ee39-20799088d90c"
      },
      "source": [
        "model_6 = LinearRegression()\n",
        "\n",
        "model_6.fit(X_train, y_train)\n",
        "preds = model_6.predict(X_test)\n",
        "rmse = np.sqrt(mean_squared_error(y_test, preds))\n",
        "rs = model_6.score(X_test, y_test)\n",
        "print(f'RMSE: {round(rmse,3)}')\n",
        "print(f'R^2: {round(rs,3)}\\n')"
      ],
      "execution_count": 22,
      "outputs": [
        {
          "output_type": "stream",
          "name": "stdout",
          "text": [
            "RMSE: 0.05\n",
            "R^2: 0.784\n",
            "\n"
          ]
        }
      ]
    },
    {
      "cell_type": "markdown",
      "metadata": {
        "id": "EMyQ9EHXD8Cv"
      },
      "source": [
        "### Caso 7\n",
        "\n",
        "#### Caso 5: Entrenar con un 80% (Codificación Ordinal, MinMaxScaler)"
      ]
    },
    {
      "cell_type": "code",
      "metadata": {
        "id": "Uv_AaUR0D8Cv",
        "colab": {
          "base_uri": "https://localhost:8080/",
          "height": 204
        },
        "outputId": "c778e2eb-5e06-4c65-e569-b4853aa1ed17"
      },
      "source": [
        "oe = OrdinalEncoder()\n",
        "df_oe = df.copy()\n",
        "df_oe[str_categ] = oe.fit_transform(df_oe[str_categ])\n",
        "\n",
        "x = df_oe.values #returns a numpy array\n",
        "min_max_scaler = MinMaxScaler()\n",
        "x_scaled = min_max_scaler.fit_transform(x)\n",
        "df_scl_oe = pd.DataFrame(x_scaled, columns=df_oe.columns)\n",
        "df_scl_oe.head()"
      ],
      "execution_count": 23,
      "outputs": [
        {
          "output_type": "execute_result",
          "data": {
            "text/html": [
              "<div>\n",
              "<style scoped>\n",
              "    .dataframe tbody tr th:only-of-type {\n",
              "        vertical-align: middle;\n",
              "    }\n",
              "\n",
              "    .dataframe tbody tr th {\n",
              "        vertical-align: top;\n",
              "    }\n",
              "\n",
              "    .dataframe thead th {\n",
              "        text-align: right;\n",
              "    }\n",
              "</style>\n",
              "<table border=\"1\" class=\"dataframe\">\n",
              "  <thead>\n",
              "    <tr style=\"text-align: right;\">\n",
              "      <th></th>\n",
              "      <th>model</th>\n",
              "      <th>year</th>\n",
              "      <th>price</th>\n",
              "      <th>transmission</th>\n",
              "      <th>mileage</th>\n",
              "      <th>fuelType</th>\n",
              "      <th>tax</th>\n",
              "      <th>mpg</th>\n",
              "      <th>engineSize</th>\n",
              "    </tr>\n",
              "  </thead>\n",
              "  <tbody>\n",
              "    <tr>\n",
              "      <th>0</th>\n",
              "      <td>0.352941</td>\n",
              "      <td>0.818182</td>\n",
              "      <td>0.256150</td>\n",
              "      <td>0.333333</td>\n",
              "      <td>0.138100</td>\n",
              "      <td>1.0</td>\n",
              "      <td>0.469027</td>\n",
              "      <td>0.143842</td>\n",
              "      <td>0.444444</td>\n",
              "    </tr>\n",
              "    <tr>\n",
              "      <th>1</th>\n",
              "      <td>0.352941</td>\n",
              "      <td>0.863636</td>\n",
              "      <td>0.256066</td>\n",
              "      <td>0.333333</td>\n",
              "      <td>0.106716</td>\n",
              "      <td>1.0</td>\n",
              "      <td>0.256637</td>\n",
              "      <td>0.143842</td>\n",
              "      <td>0.444444</td>\n",
              "    </tr>\n",
              "    <tr>\n",
              "      <th>2</th>\n",
              "      <td>0.352941</td>\n",
              "      <td>0.772727</td>\n",
              "      <td>0.222301</td>\n",
              "      <td>0.333333</td>\n",
              "      <td>0.157479</td>\n",
              "      <td>1.0</td>\n",
              "      <td>0.469027</td>\n",
              "      <td>0.143842</td>\n",
              "      <td>0.444444</td>\n",
              "    </tr>\n",
              "    <tr>\n",
              "      <th>3</th>\n",
              "      <td>0.352941</td>\n",
              "      <td>0.863636</td>\n",
              "      <td>0.306839</td>\n",
              "      <td>0.333333</td>\n",
              "      <td>0.084476</td>\n",
              "      <td>1.0</td>\n",
              "      <td>0.265487</td>\n",
              "      <td>0.143842</td>\n",
              "      <td>0.444444</td>\n",
              "    </tr>\n",
              "    <tr>\n",
              "      <th>4</th>\n",
              "      <td>0.352941</td>\n",
              "      <td>0.863636</td>\n",
              "      <td>0.281478</td>\n",
              "      <td>0.333333</td>\n",
              "      <td>0.208019</td>\n",
              "      <td>1.0</td>\n",
              "      <td>0.256637</td>\n",
              "      <td>0.143842</td>\n",
              "      <td>0.444444</td>\n",
              "    </tr>\n",
              "  </tbody>\n",
              "</table>\n",
              "</div>"
            ],
            "text/plain": [
              "      model      year     price  ...       tax       mpg  engineSize\n",
              "0  0.352941  0.818182  0.256150  ...  0.469027  0.143842    0.444444\n",
              "1  0.352941  0.863636  0.256066  ...  0.256637  0.143842    0.444444\n",
              "2  0.352941  0.772727  0.222301  ...  0.469027  0.143842    0.444444\n",
              "3  0.352941  0.863636  0.306839  ...  0.265487  0.143842    0.444444\n",
              "4  0.352941  0.863636  0.281478  ...  0.256637  0.143842    0.444444\n",
              "\n",
              "[5 rows x 9 columns]"
            ]
          },
          "metadata": {},
          "execution_count": 23
        }
      ]
    },
    {
      "cell_type": "markdown",
      "metadata": {
        "id": "MwvJv-e2D8Cv"
      },
      "source": [
        "#### Separación de Datos"
      ]
    },
    {
      "cell_type": "code",
      "metadata": {
        "scrolled": true,
        "id": "lR5H0nZpD8Cv"
      },
      "source": [
        "X = df_scl_oe.drop(['price'], axis=1)\n",
        "y = df_scl_oe['price']\n",
        "X_train, X_test, y_train, y_test = train_test_split(X, y, test_size=0.2, random_state=22)"
      ],
      "execution_count": 24,
      "outputs": []
    },
    {
      "cell_type": "code",
      "metadata": {
        "id": "i5AlhMYVD8Cv",
        "colab": {
          "base_uri": "https://localhost:8080/"
        },
        "outputId": "affe8502-a427-4540-deb5-078d777531d4"
      },
      "source": [
        "model_7 = LinearRegression()\n",
        "\n",
        "model_7.fit(X_train, y_train)\n",
        "preds = model_7.predict(X_test)\n",
        "rmse = np.sqrt(mean_squared_error(y_test, preds))\n",
        "rs = model_7.score(X_test, y_test)\n",
        "print(f'RMSE: {round(rmse,3)}')\n",
        "print(f'R^2: {round(rs,3)}\\n')"
      ],
      "execution_count": 25,
      "outputs": [
        {
          "output_type": "stream",
          "name": "stdout",
          "text": [
            "RMSE: 0.05\n",
            "R^2: 0.787\n",
            "\n"
          ]
        }
      ]
    },
    {
      "cell_type": "markdown",
      "metadata": {
        "id": "67JZY4bEXd_M"
      },
      "source": [
        "# Análisis\n",
        "\n",
        "###  Resultados R2 score\n",
        "\n",
        "|         | Min Max | Robust |\n",
        "|---------|---------|--------|\n",
        "| One-Hot | 0.917   | 0.917  |\n",
        "| Ordinal | 0.787   | 0.787  |\n",
        "\n",
        "###  Resultados RMSE\n",
        "|         | Min Max | Robust |\n",
        "|---------|---------|--------|\n",
        "| One-Hot | 0.031   | 0.031  |\n",
        "| Ordinal | 0.05    | 0.444  |\n",
        "\n",
        "\n",
        "Las tablas anteriores resumen los resultados obtenidos en los primeros 4 experimentos. Es fácil evidenciar que para las dos métricas en cuestión el tipo de scaler no afecta de manera significativa las métricas, dado que en solo 1 de los 4 casos hay una diferencia entre los resultados con Min-Max y Robust scaler.  \n",
        "\n",
        "Sin embargo, el tipo de codificación hace una gran diferencia en los resultados obtenidos, para todos los casos usar One-Hot encoder mejora las métricas, ya que representa un error cuatrático medio menor y un R2 cercano a 1, lo cual indica que el ajuste lineal obtenido con el modelo de regresión es mucho mejor que con codificación ordinal. Consideramos que esto se debe a la naturaleza de las variables, por ejemplo, cuando codificamos la característica modelo con One-Hot, cada una de las características generadas representa la pertenencia del automóvil a algún tipo de modelo en específico. Sin embargo, al utilizar Ordinal Encoding todos los modelos están condensados en una única característica con diferentes valores numéricos para cada uno de ellos. Esto puede traer problemas, por ejemplo, si dos modelos obtienen valores numéricos cercanos estamos diciendo que de alguna manera estos modelos son más parecidos entre sí comparados con otro modelo de carro que recibió un valor numérico alejado, para este tipo de variables categóricas esta información no hace ningún sentido, mientras que para variables numéricas sí. Por ejemplo, tiene sentido afirmar que los carros manufacturados en años cercanos son más similares entre sí que al compararlos con modelos mucho más antiguos o modernos.\n",
        "\n",
        "Esto nos lleva a la conclusión de que en muchas ocasiones el espacio de representación de los datos es mucho más importante que el modelo en sí, dado que podemos obtener resultados mucho mejores con el mismo modelo al mejorar dicho espacio de representación.\n",
        "\n",
        "## Resultados con diferentes tamaños para el conjunto de entrenamiento.  \n",
        "\n",
        "| Datos de entrenamiento (%) | R2    | RMSE  |\n",
        "| -------------------------- | ----- | ----- |\n",
        "| 30                         | 0.785 | 0.049 |\n",
        "| 55                         | 0.784 | 0.05  |\n",
        "| 80                         | 0.787 | 0.05  |\n",
        "\n",
        "\n",
        "Como se puede ver en los resultados anteriores, entrenar con más datos mejora los resultados obtenidos, sin embargo, esta mejora no es significativa y tampoco es consistente para las dos métricas. Consideramos que para ESTE CASO EN ESPECÍFICO, estas diferencias son debido a pequeñas diferencias en los puntos en los que converge el algoritmo de optimización, pero en general tener más datos de entrenamiento es conveniente puesto que ayuda a reducir el sobreajuste de los modelos.\n"
      ]
    },
    {
      "cell_type": "markdown",
      "metadata": {
        "id": "jZw5o8O_D8Cw"
      },
      "source": [
        "## Parte 2\n",
        "\n",
        "Se realiza la implementación del método Descenso de Gradiente estocástico. Para esta ocasión se emplea codificación One-Hot, RobustScaler y se realiza el entrenamiento a partir del 80% de los datos. Al final del entrenamiento, en la lista *errores* se tienen los valores de la función de error para cada iteración y así poder observar el progreso gráficamente."
      ]
    },
    {
      "cell_type": "code",
      "metadata": {
        "id": "Il_tJAUSD8Cw"
      },
      "source": [
        "df_ohe = pd.get_dummies(df)\n",
        "scaler = RobustScaler()\n",
        "df_scl_ohe = scaler.fit_transform(df_ohe)\n",
        "df_scl_ohe = pd.DataFrame(df_scl_ohe, columns = df_ohe.columns)\n",
        "\n",
        "X = df_scl_ohe.drop(['price'], axis=1)\n",
        "y = df_scl_ohe['price']\n",
        "X_train, X_test, y_train, y_test = train_test_split(X, y, test_size=0.2, random_state=22)"
      ],
      "execution_count": 26,
      "outputs": []
    },
    {
      "cell_type": "code",
      "metadata": {
        "scrolled": true,
        "id": "lG3rgpZtD8Cx",
        "colab": {
          "base_uri": "https://localhost:8080/"
        },
        "outputId": "6bbcebe6-e7c7-4a0d-fe73-937b2b975550"
      },
      "source": [
        "import random\n",
        "X_train_array = np.c_[np.ones(X_train.values.shape[0]), X_train.values]\n",
        "y_train_array = y_train.values\n",
        "X_test_array = np.c_[np.ones(X_test.values.shape[0]), X_test.values]\n",
        "y_test_array = y_test.values\n",
        "\n",
        "#Inicialización de w\n",
        "w0 = np.random.rand(X_train_array.shape[1], 1)\n",
        "w = w0.copy()\n",
        "#Selección de par aleatorio\n",
        "i = random.randint(0, X_train.shape[0]-1)\n",
        "xActual = np.expand_dims(X_train_array[i], 1)\n",
        "yActual = y_train_array[i]\n",
        "#Inicialización de criterio de parada\n",
        "eps = 0.01 # Se define un criterio de parada basado en el error en la predicción #\n",
        "error = float('inf') # Valor inicial, se debe actualizar en cada iteración #\n",
        "#Inicialización de valor de la tasa de aprendizaje \n",
        "tasa = 0.001\n",
        "#Lista para monitorear aprendizaje\n",
        "errores = [] # Agregar a esta lista los valores de la función de error en cada iteración #\n",
        "old_w = w.copy()\n",
        "#Ciclo iterativo según algoritmo de descenso de gradiente\n",
        "diff_norm = float('inf')\n",
        "while diff_norm>eps:\n",
        "    train_index = list(range(0, X_train_array.shape[0]-1))\n",
        "    random.shuffle(train_index)\n",
        "    y_pred = list()\n",
        "    y_target = list()\n",
        "    for i in train_index:\n",
        "        xActual = np.expand_dims(X_train_array[i], 1)\n",
        "        yActual = y_train_array[i]\n",
        "        g = np.dot(w.T, xActual)\n",
        "        e = g-yActual\n",
        "        w = w - tasa*e*xActual\n",
        "        y_pred.append(g[0][0])\n",
        "        y_target.append(yActual)\n",
        "    y_pred = np.array(y_pred)\n",
        "    y_target = np.array(y_target)\n",
        "    error = mean_squared_error(y_target, y_pred)\n",
        "    errores.append(error)\n",
        "    \n",
        "    diff = old_w-w\n",
        "    diff_norm = np.sqrt(diff.T.dot(diff))[0][0]\n",
        "    print(\"Error\", error, \"Diff \", diff_norm)\n",
        "    old_w = w.copy()"
      ],
      "execution_count": 27,
      "outputs": [
        {
          "output_type": "stream",
          "name": "stdout",
          "text": [
            "Error 0.3648801396270797 Diff  1.2055050658360833\n",
            "Error 0.1648827229936493 Diff  0.34176900977986346\n",
            "Error 0.13717278071759417 Diff  0.21734901130804848\n",
            "Error 0.12297934642823441 Diff  0.17027649167015416\n",
            "Error 0.11475124612358849 Diff  0.13781001903743675\n",
            "Error 0.10886713015420912 Diff  0.1142895415909546\n",
            "Error 0.10405284928379785 Diff  0.10142789766840085\n",
            "Error 0.10134617009653098 Diff  0.09211464956430056\n",
            "Error 0.09889775734276461 Diff  0.0827008244683007\n",
            "Error 0.09729434884913428 Diff  0.0678407453939031\n",
            "Error 0.09586422558340536 Diff  0.07241092229857204\n",
            "Error 0.09446273426501595 Diff  0.061796498153395454\n",
            "Error 0.09341955584128056 Diff  0.05579701275371109\n",
            "Error 0.09235473291337469 Diff  0.05248063261060142\n",
            "Error 0.09152795546504568 Diff  0.052540945439265775\n",
            "Error 0.09075287646255269 Diff  0.04830853966166401\n",
            "Error 0.08986410358523983 Diff  0.047611402049867343\n",
            "Error 0.08913981339669493 Diff  0.04466255547813613\n",
            "Error 0.08839390302317783 Diff  0.059877579727197046\n",
            "Error 0.08801669492764155 Diff  0.046262970940842654\n",
            "Error 0.08719778717732475 Diff  0.040727857762305135\n",
            "Error 0.08691901436806394 Diff  0.040162006299038676\n",
            "Error 0.08636348495655326 Diff  0.041861488267428165\n",
            "Error 0.0854086192807263 Diff  0.038939339913130235\n",
            "Error 0.08538274346941709 Diff  0.043133089558102765\n",
            "Error 0.08485186283857563 Diff  0.04402184127029513\n",
            "Error 0.08431239438597898 Diff  0.03592595121585287\n",
            "Error 0.08395709461114285 Diff  0.03429466282454686\n",
            "Error 0.08355688597165781 Diff  0.04711257814470061\n",
            "Error 0.08297064034334488 Diff  0.04613538076630997\n",
            "Error 0.08252547743188558 Diff  0.03432287644315298\n",
            "Error 0.08242288564683085 Diff  0.03994523474698387\n",
            "Error 0.0819094883784111 Diff  0.043150724229401936\n",
            "Error 0.08179154476205436 Diff  0.05092188514419777\n",
            "Error 0.08156413915008975 Diff  0.033649074179040596\n",
            "Error 0.08116781635435873 Diff  0.03666369728208457\n",
            "Error 0.08068261297014291 Diff  0.030607787505292704\n",
            "Error 0.08017679579539275 Diff  0.030647866783026008\n",
            "Error 0.08012156979395041 Diff  0.036775176947938075\n",
            "Error 0.07992666760196593 Diff  0.03248434596059432\n",
            "Error 0.0795906776844241 Diff  0.02875071870818348\n",
            "Error 0.07932981442487497 Diff  0.03507139248888496\n",
            "Error 0.07916731913265351 Diff  0.032339535255162706\n",
            "Error 0.07871589705066573 Diff  0.031976200300009944\n",
            "Error 0.07837053579156782 Diff  0.04725562170602745\n",
            "Error 0.0781872535022873 Diff  0.044481039871002576\n",
            "Error 0.07764107741070228 Diff  0.0571797420419322\n",
            "Error 0.07786090037388668 Diff  0.03886714724105573\n",
            "Error 0.0774329613135841 Diff  0.034479933010139505\n",
            "Error 0.07724644278630718 Diff  0.03979854286215883\n",
            "Error 0.0769923539138315 Diff  0.02890262828003387\n",
            "Error 0.07692015488236605 Diff  0.03327363511234445\n",
            "Error 0.07615423681845473 Diff  0.03894243015170666\n",
            "Error 0.07638300455311901 Diff  0.044778043468649616\n",
            "Error 0.07579647450199535 Diff  0.029387940670617892\n",
            "Error 0.0759745253787889 Diff  0.03312994014688009\n",
            "Error 0.07564343569877237 Diff  0.054887758853022925\n",
            "Error 0.07544728143764046 Diff  0.04299124708872223\n",
            "Error 0.07511734730602658 Diff  0.031444703077678604\n",
            "Error 0.07510031053661143 Diff  0.02317213222264709\n",
            "Error 0.0748179103020057 Diff  0.02870627179729714\n",
            "Error 0.07482366832662715 Diff  0.036075632301915204\n",
            "Error 0.07464905278863779 Diff  0.03364854751266322\n",
            "Error 0.07407489619549926 Diff  0.03601494319910949\n",
            "Error 0.07412828164282569 Diff  0.03649813455609735\n",
            "Error 0.07412213835655054 Diff  0.026526725451198222\n",
            "Error 0.07354299321685699 Diff  0.03241011848134355\n",
            "Error 0.07377432600282302 Diff  0.024910381429938136\n",
            "Error 0.07313076668506038 Diff  0.02999595143168561\n",
            "Error 0.0733279801414559 Diff  0.03500960534343001\n",
            "Error 0.07323890967009582 Diff  0.025707602195651727\n",
            "Error 0.07283165651622116 Diff  0.035299013635602824\n",
            "Error 0.07234113155870452 Diff  0.031957038907276816\n",
            "Error 0.07255053321322247 Diff  0.049573463473437086\n",
            "Error 0.07229862136118304 Diff  0.032988643599161545\n",
            "Error 0.07238649942469072 Diff  0.034856854736853356\n",
            "Error 0.07227989301189161 Diff  0.028734690289065345\n",
            "Error 0.07183319194036021 Diff  0.024425691835839515\n",
            "Error 0.07188090365612511 Diff  0.026039450131266153\n",
            "Error 0.07173396688940538 Diff  0.0322253708348886\n",
            "Error 0.07173547936109016 Diff  0.02378265259559977\n",
            "Error 0.07133791823498202 Diff  0.029330604912336626\n",
            "Error 0.07140483071574599 Diff  0.027171071224273688\n",
            "Error 0.07132037944714627 Diff  0.020408218386025374\n",
            "Error 0.0709616229481038 Diff  0.033992242529494676\n",
            "Error 0.07116311213207083 Diff  0.029955100933006802\n",
            "Error 0.07103641787799266 Diff  0.02116690109023127\n",
            "Error 0.07069658754514291 Diff  0.02612480036263196\n",
            "Error 0.07068123114419184 Diff  0.034103531958715363\n",
            "Error 0.07050728461956222 Diff  0.04368349710428186\n",
            "Error 0.07037010034681296 Diff  0.03273111411448101\n",
            "Error 0.0701456923465579 Diff  0.02144226140245115\n",
            "Error 0.07013205843817244 Diff  0.018581930584760792\n",
            "Error 0.07002995814426097 Diff  0.02489857948174226\n",
            "Error 0.06977845173219123 Diff  0.018927172949292356\n",
            "Error 0.06991969288102459 Diff  0.02562661605944555\n",
            "Error 0.06950515745971449 Diff  0.024910656001203506\n",
            "Error 0.06968164029142423 Diff  0.029972697672956163\n",
            "Error 0.06945605044228965 Diff  0.021891038978524267\n",
            "Error 0.0691531586405178 Diff  0.027545160745918052\n",
            "Error 0.06908964610336846 Diff  0.028060063357587827\n",
            "Error 0.06903454819264247 Diff  0.027026217767453446\n",
            "Error 0.06918526268994392 Diff  0.0248215398385871\n",
            "Error 0.06894958928396396 Diff  0.025506871484671498\n",
            "Error 0.06878825161410206 Diff  0.021385936358343148\n",
            "Error 0.06878441033947909 Diff  0.034141546723475275\n",
            "Error 0.06870246488020028 Diff  0.02986946255578236\n",
            "Error 0.06869344831550599 Diff  0.02619702178623276\n",
            "Error 0.06854894253612498 Diff  0.027288859084485268\n",
            "Error 0.06851587857832572 Diff  0.020622078197954568\n",
            "Error 0.06845143307679322 Diff  0.01883582844264464\n",
            "Error 0.06835897020947893 Diff  0.020314127934985916\n",
            "Error 0.06805959401179161 Diff  0.0287184419829028\n",
            "Error 0.06820949193987295 Diff  0.029592050511419794\n",
            "Error 0.06774144738234128 Diff  0.02404600174542791\n",
            "Error 0.06792932729671552 Diff  0.025133065222451706\n",
            "Error 0.06797008069752877 Diff  0.03654581533328495\n",
            "Error 0.06768706037355171 Diff  0.030289317433766012\n",
            "Error 0.06775697998058716 Diff  0.029130742940572576\n",
            "Error 0.06760700151736712 Diff  0.021600563711820175\n",
            "Error 0.06754915324227197 Diff  0.02645979437183417\n",
            "Error 0.06747962589610901 Diff  0.018946318073665345\n",
            "Error 0.06757486322780538 Diff  0.026509460041501336\n",
            "Error 0.06756067625501182 Diff  0.019552528440751074\n",
            "Error 0.06738023952145968 Diff  0.018243414594705454\n",
            "Error 0.0671111206446315 Diff  0.026261817086168423\n",
            "Error 0.06700095184061303 Diff  0.018755730954265734\n",
            "Error 0.06678686678248237 Diff  0.0522084641051389\n",
            "Error 0.06730350954813837 Diff  0.03623471159038211\n",
            "Error 0.06718490515416838 Diff  0.01527224068671727\n",
            "Error 0.06695387392889605 Diff  0.01945150256943872\n",
            "Error 0.06666936571402282 Diff  0.01674941429350032\n",
            "Error 0.06674968940086555 Diff  0.01912286083885066\n",
            "Error 0.06683886051937656 Diff  0.024313669839907504\n",
            "Error 0.06681680396550134 Diff  0.02392089884389836\n",
            "Error 0.06647764388770963 Diff  0.02813302350014821\n",
            "Error 0.0667667721509458 Diff  0.02325592953453268\n",
            "Error 0.06608372001214569 Diff  0.05132029207562903\n",
            "Error 0.06652849622225163 Diff  0.05128707476697829\n",
            "Error 0.06616721118431983 Diff  0.02728628434935052\n",
            "Error 0.06607668483762001 Diff  0.02845997493497711\n",
            "Error 0.06580237950530914 Diff  0.05175752584918799\n",
            "Error 0.06626267205986328 Diff  0.028540250632338005\n",
            "Error 0.06607470711908144 Diff  0.021123526193385932\n",
            "Error 0.06612671085803434 Diff  0.0153095683397568\n",
            "Error 0.06608002149748203 Diff  0.031975613899867\n",
            "Error 0.06592144887501893 Diff  0.035567102192477315\n",
            "Error 0.06608517264146799 Diff  0.033465131808500616\n",
            "Error 0.06562025881144952 Diff  0.030916944708086164\n",
            "Error 0.06570394874791437 Diff  0.029579149829052694\n",
            "Error 0.0658070919407482 Diff  0.01887718297881149\n",
            "Error 0.0657687608999893 Diff  0.026400031700790572\n",
            "Error 0.06577443051697984 Diff  0.04488455632010758\n",
            "Error 0.06570828454122657 Diff  0.015823807943201686\n",
            "Error 0.06591040945466885 Diff  0.03251187803113565\n",
            "Error 0.06559853820258843 Diff  0.018708074540914162\n",
            "Error 0.06546216035065831 Diff  0.02484395075734537\n",
            "Error 0.06557426759426839 Diff  0.015190732855238\n",
            "Error 0.06566602290060458 Diff  0.027192408230132876\n",
            "Error 0.06546526139132126 Diff  0.0345706650346306\n",
            "Error 0.06547182548037911 Diff  0.03214842487210786\n",
            "Error 0.0651519482211624 Diff  0.03455298509003508\n",
            "Error 0.06535953959525738 Diff  0.039767437093017874\n",
            "Error 0.06525923161130222 Diff  0.019267206981955096\n",
            "Error 0.06532323747620543 Diff  0.015246208487362387\n",
            "Error 0.06508061281512637 Diff  0.02073219617676425\n",
            "Error 0.06492023142877432 Diff  0.05872820380182519\n",
            "Error 0.06501287151601123 Diff  0.03802635282841645\n",
            "Error 0.06503706826646792 Diff  0.028882286353258218\n",
            "Error 0.0651423902061736 Diff  0.028582576828575443\n",
            "Error 0.06525085453613787 Diff  0.019647532311836025\n",
            "Error 0.0652457338060648 Diff  0.01970159162428833\n",
            "Error 0.0650139735682407 Diff  0.0246242894698991\n",
            "Error 0.06503855440834368 Diff  0.01627022711266662\n",
            "Error 0.06488019176311445 Diff  0.027736165817144737\n",
            "Error 0.06494502568251102 Diff  0.030062923745930916\n",
            "Error 0.06488419607222275 Diff  0.022019504697001726\n",
            "Error 0.06492360569180351 Diff  0.024346443210617515\n",
            "Error 0.06490027432732921 Diff  0.02051098282877075\n",
            "Error 0.06451979276903504 Diff  0.030016506130622587\n",
            "Error 0.06430413593016573 Diff  0.03233218384163003\n",
            "Error 0.06438493725927168 Diff  0.06981924341584768\n",
            "Error 0.06509508598639155 Diff  0.034381785471294654\n",
            "Error 0.06467754185146736 Diff  0.02345343554849302\n",
            "Error 0.0647087484439176 Diff  0.02927091421199413\n",
            "Error 0.06473047534669207 Diff  0.020072268591872007\n",
            "Error 0.0647854550715363 Diff  0.014538230454536115\n",
            "Error 0.06449432136105175 Diff  0.028301222144493137\n",
            "Error 0.06470852545003151 Diff  0.02215306889226502\n",
            "Error 0.0645036820304091 Diff  0.024410468039417748\n",
            "Error 0.06440884575644897 Diff  0.03228620856522559\n",
            "Error 0.06435833923996598 Diff  0.021452087024355013\n",
            "Error 0.06442358772115372 Diff  0.028269131081525407\n",
            "Error 0.06449448427447968 Diff  0.018814969169673776\n",
            "Error 0.06439084671842374 Diff  0.030683437183451786\n",
            "Error 0.06439287890769724 Diff  0.023730521511945497\n",
            "Error 0.0644985585616599 Diff  0.011145823390007107\n",
            "Error 0.06443024296625376 Diff  0.019059371680838388\n",
            "Error 0.06448819825574394 Diff  0.013814665734040003\n",
            "Error 0.06423387809267586 Diff  0.031028940797964782\n",
            "Error 0.06411955855515011 Diff  0.027042921563792958\n",
            "Error 0.06444761527350049 Diff  0.012639148742643028\n",
            "Error 0.06415880026656075 Diff  0.02394066537761994\n",
            "Error 0.06426691595668058 Diff  0.026491156588421733\n",
            "Error 0.06374652296278419 Diff  0.04926831555025242\n",
            "Error 0.06447495662590873 Diff  0.03594998225594342\n",
            "Error 0.06436359338548706 Diff  0.016278573978497985\n",
            "Error 0.06386922810667418 Diff  0.02297924943648406\n",
            "Error 0.06414378454220288 Diff  0.03190142174496322\n",
            "Error 0.06390304570851073 Diff  0.02527711453609769\n",
            "Error 0.06408476782852811 Diff  0.01782772299153263\n",
            "Error 0.06421286387324592 Diff  0.012656491403169675\n",
            "Error 0.0638713059370177 Diff  0.018506290031620205\n",
            "Error 0.06421112588186041 Diff  0.02554573274521708\n",
            "Error 0.06393803043887523 Diff  0.030996754628341\n",
            "Error 0.06372948193126464 Diff  0.03595766193366427\n",
            "Error 0.06403327559973895 Diff  0.03153557813554858\n",
            "Error 0.06418045539864842 Diff  0.01948720059066057\n",
            "Error 0.06370982525778578 Diff  0.025956631187217527\n",
            "Error 0.06382895760055249 Diff  0.043114265536074836\n",
            "Error 0.06409785276693307 Diff  0.03399360558468888\n",
            "Error 0.06371576853737379 Diff  0.02877450996894249\n",
            "Error 0.06402251533997902 Diff  0.03433262112318372\n",
            "Error 0.0637346228697092 Diff  0.02460780049537204\n",
            "Error 0.0638549372582252 Diff  0.03582979218942711\n",
            "Error 0.0636581787728025 Diff  0.02429743587681215\n",
            "Error 0.0638648435237019 Diff  0.01736086192346993\n",
            "Error 0.06385096857031688 Diff  0.027428922273987116\n",
            "Error 0.06375331060234489 Diff  0.015551155457869047\n",
            "Error 0.06364639433685472 Diff  0.025901845635678284\n",
            "Error 0.06365863634604858 Diff  0.026300946166715015\n",
            "Error 0.06385750291641643 Diff  0.0186539189921682\n",
            "Error 0.0637239664870422 Diff  0.023547576738256533\n",
            "Error 0.06364487787368675 Diff  0.024796100583538327\n",
            "Error 0.06365231879710354 Diff  0.015716626088642036\n",
            "Error 0.0633701021094074 Diff  0.01247444039203868\n",
            "Error 0.06349216385543692 Diff  0.014252360076746082\n",
            "Error 0.06338914172351368 Diff  0.03859285998950693\n",
            "Error 0.06370931188849303 Diff  0.05201348091457916\n",
            "Error 0.06343445982459488 Diff  0.009024546899144064\n"
          ]
        }
      ]
    },
    {
      "cell_type": "markdown",
      "metadata": {
        "id": "tijtkT6pbhwM"
      },
      "source": [
        "Para la implementación del algoritmo de gradiente de descenso estocástico utilizamos como criterio de parada la diferencia entre dos vectores de pesos consecutivos, nuestra implementación del algoritmo obtiene resultados comparables a la implementación de la librería Scikit-Learn. "
      ]
    },
    {
      "cell_type": "markdown",
      "metadata": {
        "id": "MWCZ_oxxD8Cx"
      },
      "source": [
        "#### Evaluación de Modelo"
      ]
    },
    {
      "cell_type": "code",
      "metadata": {
        "id": "vrfiXceVD8Cx",
        "colab": {
          "base_uri": "https://localhost:8080/"
        },
        "outputId": "3cea4925-57d6-489b-cd57-7dd8ec42fa22"
      },
      "source": [
        "y_train_preds = np.zeros(y_train_array.shape)\n",
        "for i in range(X_train_array.shape[0]):\n",
        "    y_train_preds[i] = np.dot(w.T,X_train_array[i])\n",
        "\n",
        "y_test_preds = np.zeros(y_test_array.shape)\n",
        "for i in range(X_test_array.shape[0]):\n",
        "    y_test_preds[i] = np.dot(w.T,X_test_array[i])\n",
        "    \n",
        "r2_train = r2_score(y_train_array, y_train_preds)\n",
        "r2_test = r2_score(y_test_array, y_test_preds)\n",
        "print(f'R2 entrenamiento: {round(r2_train,4)}\\nR2 prueba: {round(r2_test,4)}')"
      ],
      "execution_count": 28,
      "outputs": [
        {
          "output_type": "stream",
          "name": "stdout",
          "text": [
            "R2 entrenamiento: 0.9288\n",
            "R2 prueba: 0.9147\n"
          ]
        }
      ]
    },
    {
      "cell_type": "markdown",
      "metadata": {
        "id": "p6DmOR2TD8Cy"
      },
      "source": [
        "## Gráfica de Resultados"
      ]
    },
    {
      "cell_type": "code",
      "metadata": {
        "id": "tahhiR7GD8Cy",
        "colab": {
          "base_uri": "https://localhost:8080/",
          "height": 367
        },
        "outputId": "9e76d7db-adb5-4517-d3bc-4d270bb9eb6f"
      },
      "source": [
        "plt.figure(figsize=(15,5))\n",
        "plt.plot(errores)\n",
        "plt.xlabel('# Iteraciones')\n",
        "plt.ylabel('Función de Error')\n",
        "plt.title('Descenso de Gradiente Estocástico')"
      ],
      "execution_count": 29,
      "outputs": [
        {
          "output_type": "execute_result",
          "data": {
            "text/plain": [
              "Text(0.5, 1.0, 'Descenso de Gradiente Estocástico')"
            ]
          },
          "metadata": {},
          "execution_count": 29
        },
        {
          "output_type": "display_data",
          "data": {
            "image/png": "[encoded data removed]",
            "text/plain": [
              "<Figure size 1080x360 with 1 Axes>"
            ]
          },
          "metadata": {
            "needs_background": "light"
          }
        }
      ]
    },
    {
      "cell_type": "markdown",
      "metadata": {
        "id": "hA31irmTa0F5"
      },
      "source": [
        "## Seleccion de parametros"
      ]
    },
    {
      "cell_type": "code",
      "metadata": {
        "id": "p8i_P-hVQ28v"
      },
      "source": [
        "def train_linear_regression(X_train, y_train, learning_rate, eps):\n",
        "    X_train_array = np.c_[np.ones(X_train.values.shape[0]), X_train.values]\n",
        "    y_train_array = y_train.values\n",
        "    w0 = np.random.rand(X_train_array.shape[1], 1)\n",
        "    w = w0.copy()\n",
        "    errores = list()\n",
        "    diff_norm = float('inf')\n",
        "    old_w = w.copy()\n",
        "    while diff_norm>eps:\n",
        "      # Ordenamos las muestras de manera aleatoria.\n",
        "      train_index = list(range(0, X_train_array.shape[0]-1))\n",
        "      random.shuffle(train_index)\n",
        "      y_pred = list()\n",
        "      y_target = list()\n",
        "      # Iteramos sobre la muestras.\n",
        "      for i in train_index:\n",
        "        # Actualizamos los pesos de acuerdo al algoritmo.\n",
        "          xActual = np.expand_dims(X_train_array[i], 1)\n",
        "          yActual = y_train_array[i]\n",
        "          g = np.dot(w.T, xActual)\n",
        "          e = g-yActual\n",
        "          w = w - learning_rate*e*xActual\n",
        "          y_pred.append(g[0][0])\n",
        "          y_target.append(yActual)\n",
        "      y_pred = np.array(y_pred)\n",
        "      y_target = np.array(y_target)\n",
        "      error = mean_squared_error(y_target, y_pred)\n",
        "      errores.append(error)\n",
        "      # Computamos la diferencia entre los W nuevos y los antiguos\n",
        "      diff = old_w-w\n",
        "      diff_norm = np.sqrt(diff.T.dot(diff))[0][0]\n",
        "      old_w = w.copy()\n",
        "    return w, errores"
      ],
      "execution_count": 30,
      "outputs": []
    },
    {
      "cell_type": "code",
      "metadata": {
        "id": "8EmiY7ErSIOx"
      },
      "source": [
        "w_exp1, errores_exp1 = train_linear_regression(X_train, y_train, 0.001, 0.01)\n",
        "w_exp2, errores_exp2 = train_linear_regression(X_train, y_train, 0.01, 0.08)\n",
        "w_exp3, errores_exp3 = train_linear_regression(X_train, y_train, 0.0001, 0.0050)"
      ],
      "execution_count": 31,
      "outputs": []
    },
    {
      "cell_type": "code",
      "metadata": {
        "colab": {
          "base_uri": "https://localhost:8080/",
          "height": 281
        },
        "id": "RKqNVj99WsiQ",
        "outputId": "70044261-1f54-4abd-95f0-7fc303028401"
      },
      "source": [
        "plt.plot(errores_exp1)\n",
        "plt.title(f\"Learning rate {0.001}\")\n",
        "plt.show()"
      ],
      "execution_count": 32,
      "outputs": [
        {
          "output_type": "display_data",
          "data": {
            "image/png": "[encoded data removed]",
            "text/plain": [
              "<Figure size 432x288 with 1 Axes>"
            ]
          },
          "metadata": {
            "needs_background": "light"
          }
        }
      ]
    },
    {
      "cell_type": "code",
      "metadata": {
        "colab": {
          "base_uri": "https://localhost:8080/",
          "height": 281
        },
        "id": "SBaGShPJVEmx",
        "outputId": "94a2d101-939d-4ca4-d3af-2b14d8b6c90e"
      },
      "source": [
        "plt.plot(errores_exp2)\n",
        "plt.title(f\"Learning rate {0.01}\")\n",
        "plt.show()"
      ],
      "execution_count": 33,
      "outputs": [
        {
          "output_type": "display_data",
          "data": {
            "image/png": "[encoded data removed]",
            "text/plain": [
              "<Figure size 432x288 with 1 Axes>"
            ]
          },
          "metadata": {
            "needs_background": "light"
          }
        }
      ]
    },
    {
      "cell_type": "code",
      "metadata": {
        "colab": {
          "base_uri": "https://localhost:8080/",
          "height": 281
        },
        "id": "Kt7tGROuNVcS",
        "outputId": "bc5b8889-ee86-4317-fc07-885e0042308b"
      },
      "source": [
        "plt.plot(errores_exp3)\n",
        "plt.title(f\"Learning rate {0.0001}\")\n",
        "plt.show()"
      ],
      "execution_count": 34,
      "outputs": [
        {
          "output_type": "display_data",
          "data": {
            "image/png": "[encoded data removed]",
            "text/plain": [
              "<Figure size 432x288 with 1 Axes>"
            ]
          },
          "metadata": {
            "needs_background": "light"
          }
        }
      ]
    },
    {
      "cell_type": "code",
      "metadata": {
        "id": "Jpvm_RJKZEHm"
      },
      "source": [
        "def test_model(model, X_train, X_test, y_train, y_test):\n",
        "  y_train_array = y_train.values\n",
        "  y_test_array = y_test.values\n",
        "  y_train_preds = np.zeros(y_train_array.shape)\n",
        "  for i in range(X_train_array.shape[0]):\n",
        "      y_train_preds[i] = np.dot(model.T,X_train_array[i])\n",
        "\n",
        "  y_test_preds = np.zeros(y_test_array.shape)\n",
        "  for i in range(X_test_array.shape[0]):\n",
        "      y_test_preds[i] = np.dot(model.T,X_test_array[i])\n",
        "      \n",
        "  r2_train = r2_score(y_train_array, y_train_preds)\n",
        "  r2_test = r2_score(y_test_array, y_test_preds)\n",
        "  print(f'R2 entrenamiento: {round(r2_train,4)}\\nR2 prueba: {round(r2_test,4)}')"
      ],
      "execution_count": 35,
      "outputs": []
    },
    {
      "cell_type": "markdown",
      "metadata": {
        "id": "aHnTr5dVbGdr"
      },
      "source": [
        "## Resultados modelo learning rate 0.001"
      ]
    },
    {
      "cell_type": "code",
      "metadata": {
        "colab": {
          "base_uri": "https://localhost:8080/"
        },
        "id": "R9noLfydZ3Ij",
        "outputId": "283c3e2f-5dd1-4f41-ce29-cfde7ba1e337"
      },
      "source": [
        "test_model(w_exp1, X_train, X_test, y_train, y_test)"
      ],
      "execution_count": 36,
      "outputs": [
        {
          "output_type": "stream",
          "name": "stdout",
          "text": [
            "R2 entrenamiento: 0.9285\n",
            "R2 prueba: 0.9143\n"
          ]
        }
      ]
    },
    {
      "cell_type": "markdown",
      "metadata": {
        "id": "5Hm39EK3bS1h"
      },
      "source": [
        "## Resultados modelo learning rate 0.01"
      ]
    },
    {
      "cell_type": "code",
      "metadata": {
        "colab": {
          "base_uri": "https://localhost:8080/"
        },
        "id": "vTW_C9avaZKS",
        "outputId": "960aa9de-c62e-4759-8ad5-ab3f51418b34"
      },
      "source": [
        "test_model(w_exp2, X_train, X_test, y_train, y_test)"
      ],
      "execution_count": 37,
      "outputs": [
        {
          "output_type": "stream",
          "name": "stdout",
          "text": [
            "R2 entrenamiento: 0.9246\n",
            "R2 prueba: 0.911\n"
          ]
        }
      ]
    },
    {
      "cell_type": "markdown",
      "metadata": {
        "id": "xpJRi94hbXU4"
      },
      "source": [
        "## Resultados modelo learning rate 0.0001"
      ]
    },
    {
      "cell_type": "code",
      "metadata": {
        "colab": {
          "base_uri": "https://localhost:8080/"
        },
        "id": "Xrp1-F8sagt6",
        "outputId": "723b08f5-ee4f-4dcc-95b6-c364fdca246c"
      },
      "source": [
        "test_model(w_exp3, X_train, X_test, y_train, y_test)"
      ],
      "execution_count": 38,
      "outputs": [
        {
          "output_type": "stream",
          "name": "stdout",
          "text": [
            "R2 entrenamiento: 0.8964\n",
            "R2 prueba: 0.8939\n"
          ]
        }
      ]
    },
    {
      "cell_type": "markdown",
      "metadata": {
        "id": "TPnUJq5XavwQ"
      },
      "source": [
        "Para la seleccion de modelo probamos con diferentes valores de la tasa de aprendizaje, como se puede ver en las _learning curves_ anteriores,  el learning rate mas alto (0.01) tiene un comportamineto \"ruidoso\" esto puede deberse a que es un valor muy alto y el algoritmo oscila sobre el minimo pero jamas logra acercarce tanto comos los modelos que usan pasos menores. Por otro lado, al comparar las curvas de aprendizaje para los learning rate 0.001, 0.0001 es evidente que el tamaño del paso afecta al velocidad de convergencia.\n",
        "\n",
        "Sin embargo, los resultados en los datos de pruebas de los tres modelos son bastante similares y las diferencias en la tasa de aprendizaje para este caso no ayudan de manera signifcativa al desempeño de los modelos.\n",
        "\n",
        "# Conclusiones\n",
        "\n",
        "* El acondicionamiento de los datos es muy importante para obtener buenos resultados, donde se pudo evidenciar que con un mismo modelo puede variar el valor de las métricas de acuerdo con el tipo de scaler y de codificación.  \n",
        "\n",
        "* Aunque con este grupo de datos la variación de métricas es pequeña al variar la cantidad de datos de entrenamiento, a nivel general, entrenar con mayor cantidad de datos es deseable para reducir el sobreajuste de los datos.\n",
        "\n",
        "* La codificación por medio de one hot amplía el número de variables de entrenamiento, se podría pensar que esto afecta negativamente a los entrenamientos al ampliar su complejidad o dimensionalidad en cuanto a variables, sin embargo, los resultados obtenidos nos dicen que es mucho más facil para un modelo de regresión lineal obtener un mejor modelo de esta forma que manteniendo el número de variables pero convirtiendo las categóricas en númericas, como funciona con la codificación ordinal.\n",
        "\n",
        "* El scaler MinMax y Robust pueden funcionar mejor uno u otro dependiendo de los datos y del problema a solucionar, el Robust modifica la distribución de los datos, eliminando outlayers, por ende puede funcionar mejor ante datos con esta característica, sin embargo, el MinMax demostró ser el mejor en la codificaión ordinal en la métrica RMSE, por ende se podría concluir que la data empleada se encontraba libre de outlayers y que ante datos no muy complejos el MinMax tiene mucho mejor resultado frente al Robust.\n",
        "\n",
        "\n",
        "* La implementación de descenso de gradiente estocástico fue realizada empleando como criterio de parada la diferencia entre dos vectores de pesos consecutivos, nuestra implementación del algoritmo obtiene resultados tan buenos como los que se obtienen por medio de la librería Scikit-Learn, ya que el R2 obtenido para test en ambos casos es 0.917, donde, como se observa en la gráfica, se logra una convergencia del error muy buena y rápida, ya que en las primeras 20 iteraciones se logra una reducción del error muy significativa y esta continúa descendiendo en el tiempo hasta lograr cumplir con el criterio de parada. \n",
        "\n",
        "* Al cambiar la tasa de aprendizaje tambien es necesario cambiar el criterio de parada puesto en algunos casos no se logra convergencia en un tiempo de entrenamiento razonable o en ocaciones la magnitud \n",
        "\n",
        "# Referencias\n",
        "\n",
        "https://scikit-learn.org/stable/modules/generated/sklearn.preprocessing.MinMaxScaler.html\n",
        "\n",
        "https://scikit-learn.org/stable/modules/generated/sklearn.metrics.r2_score.html\n",
        "\n",
        "https://towardsdatascience.com/scale-standardize-or-normalize-with-scikit-learn-6ccc7d176a02\n",
        "\n",
        "https://www.kaggle.com/discdiver/guide-to-scaling-and-standardizing"
      ]
    }
  ]
}