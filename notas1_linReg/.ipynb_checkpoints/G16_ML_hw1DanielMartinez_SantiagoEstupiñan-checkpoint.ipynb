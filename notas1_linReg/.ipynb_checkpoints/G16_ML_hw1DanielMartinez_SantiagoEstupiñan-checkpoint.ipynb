{
 "cells": [
  {
   "cell_type": "markdown",
   "metadata": {
    "id": "HwQewRmXEWct"
   },
   "source": [
    "# Regresión Lineal: Predicción de Precios de Autos\n",
    "\n",
    "Una tarea bastante común en el contexto de Machine Learning es la predicción de una variable según algunos descriptores. En esta ocasión partiremos de un dataset que involucra ocho variables (algunas numéricas, otras categóricas) y el precio de un automóvil, el cual se desea estimar empleando un modelo de regresión lineal.\n",
    "\n",
    "El objetivo de este cuaderno es que usted aprenda:\n",
    "- Algunas maneras de lidiar con descriptores categóricos no-numéricos.\n",
    "- Uso de la librería Pandas para manejar datos tabulares en formato .csv.\n",
    "- Uso de la librería Scikit Learn para preprocesamiento y entrenamiento de un modelo de regresión lineal.\n",
    "- Funcionamiento e implementación del algoritmo Descenso de Gradiente Estocástico para un modelo lineal básico.\n",
    "\n",
    "Debe completar las celdas vacías y seguir las instrucciones anotadas en el cuaderno.\n",
    "\n",
    "La fecha límite de entrega es el día **6 de septiembre** y se realizará a través de Bloque Neón."
   ]
  },
  {
   "cell_type": "code",
   "execution_count": 1,
   "metadata": {
    "id": "nNgTGrcsEWcu"
   },
   "outputs": [],
   "source": [
    "import numpy as np\n",
    "import pandas as pd\n",
    "\n",
    "import matplotlib.pyplot as plt\n",
    "from sklearn.metrics import mean_squared_error\n",
    "import sklearn\n",
    "from sklearn.preprocessing import OrdinalEncoder, MinMaxScaler, RobustScaler\n",
    "from sklearn.model_selection import train_test_split"
   ]
  },
  {
   "cell_type": "code",
   "execution_count": 2,
   "metadata": {
    "id": "uaJ1ScLkEWcv",
    "outputId": "72065244-b167-4df5-833a-ca6efdc78eb4"
   },
   "outputs": [
    {
     "data": {
      "text/html": [
       "<div>\n",
       "<style scoped>\n",
       "    .dataframe tbody tr th:only-of-type {\n",
       "        vertical-align: middle;\n",
       "    }\n",
       "\n",
       "    .dataframe tbody tr th {\n",
       "        vertical-align: top;\n",
       "    }\n",
       "\n",
       "    .dataframe thead th {\n",
       "        text-align: right;\n",
       "    }\n",
       "</style>\n",
       "<table border=\"1\" class=\"dataframe\">\n",
       "  <thead>\n",
       "    <tr style=\"text-align: right;\">\n",
       "      <th></th>\n",
       "      <th>model</th>\n",
       "      <th>year</th>\n",
       "      <th>price</th>\n",
       "      <th>transmission</th>\n",
       "      <th>mileage</th>\n",
       "      <th>fuelType</th>\n",
       "      <th>tax</th>\n",
       "      <th>mpg</th>\n",
       "      <th>engineSize</th>\n",
       "    </tr>\n",
       "  </thead>\n",
       "  <tbody>\n",
       "    <tr>\n",
       "      <th>0</th>\n",
       "      <td>GT86</td>\n",
       "      <td>2016</td>\n",
       "      <td>16000</td>\n",
       "      <td>Manual</td>\n",
       "      <td>24089</td>\n",
       "      <td>Petrol</td>\n",
       "      <td>265</td>\n",
       "      <td>36.2</td>\n",
       "      <td>2.0</td>\n",
       "    </tr>\n",
       "    <tr>\n",
       "      <th>1</th>\n",
       "      <td>GT86</td>\n",
       "      <td>2017</td>\n",
       "      <td>15995</td>\n",
       "      <td>Manual</td>\n",
       "      <td>18615</td>\n",
       "      <td>Petrol</td>\n",
       "      <td>145</td>\n",
       "      <td>36.2</td>\n",
       "      <td>2.0</td>\n",
       "    </tr>\n",
       "    <tr>\n",
       "      <th>2</th>\n",
       "      <td>GT86</td>\n",
       "      <td>2015</td>\n",
       "      <td>13998</td>\n",
       "      <td>Manual</td>\n",
       "      <td>27469</td>\n",
       "      <td>Petrol</td>\n",
       "      <td>265</td>\n",
       "      <td>36.2</td>\n",
       "      <td>2.0</td>\n",
       "    </tr>\n",
       "    <tr>\n",
       "      <th>3</th>\n",
       "      <td>GT86</td>\n",
       "      <td>2017</td>\n",
       "      <td>18998</td>\n",
       "      <td>Manual</td>\n",
       "      <td>14736</td>\n",
       "      <td>Petrol</td>\n",
       "      <td>150</td>\n",
       "      <td>36.2</td>\n",
       "      <td>2.0</td>\n",
       "    </tr>\n",
       "    <tr>\n",
       "      <th>4</th>\n",
       "      <td>GT86</td>\n",
       "      <td>2017</td>\n",
       "      <td>17498</td>\n",
       "      <td>Manual</td>\n",
       "      <td>36284</td>\n",
       "      <td>Petrol</td>\n",
       "      <td>145</td>\n",
       "      <td>36.2</td>\n",
       "      <td>2.0</td>\n",
       "    </tr>\n",
       "  </tbody>\n",
       "</table>\n",
       "</div>"
      ],
      "text/plain": [
       "   model  year  price transmission  mileage fuelType  tax   mpg  engineSize\n",
       "0   GT86  2016  16000       Manual    24089   Petrol  265  36.2         2.0\n",
       "1   GT86  2017  15995       Manual    18615   Petrol  145  36.2         2.0\n",
       "2   GT86  2015  13998       Manual    27469   Petrol  265  36.2         2.0\n",
       "3   GT86  2017  18998       Manual    14736   Petrol  150  36.2         2.0\n",
       "4   GT86  2017  17498       Manual    36284   Petrol  145  36.2         2.0"
      ]
     },
     "execution_count": 2,
     "metadata": {},
     "output_type": "execute_result"
    }
   ],
   "source": [
    "df = pd.read_csv('carDataset/toyota.csv')\n",
    "df.head()"
   ]
  },
  {
   "cell_type": "code",
   "execution_count": 3,
   "metadata": {
    "id": "tt2dA4tVEWcv",
    "outputId": "12f6393a-b9a5-4516-dd7f-05574d638e41"
   },
   "outputs": [
    {
     "name": "stdout",
     "output_type": "stream",
     "text": [
      "<class 'pandas.core.frame.DataFrame'>\n",
      "RangeIndex: 6738 entries, 0 to 6737\n",
      "Data columns (total 9 columns):\n",
      " #   Column        Non-Null Count  Dtype  \n",
      "---  ------        --------------  -----  \n",
      " 0   model         6738 non-null   object \n",
      " 1   year          6738 non-null   int64  \n",
      " 2   price         6738 non-null   int64  \n",
      " 3   transmission  6738 non-null   object \n",
      " 4   mileage       6738 non-null   int64  \n",
      " 5   fuelType      6738 non-null   object \n",
      " 6   tax           6738 non-null   int64  \n",
      " 7   mpg           6738 non-null   float64\n",
      " 8   engineSize    6738 non-null   float64\n",
      "dtypes: float64(2), int64(4), object(3)\n",
      "memory usage: 473.9+ KB\n"
     ]
    }
   ],
   "source": [
    "df.info()"
   ]
  },
  {
   "cell_type": "markdown",
   "metadata": {
    "id": "3WKBHts1EWcw"
   },
   "source": [
    "Podemos observar algunas categorías numéricas, y otras de tipo _object_ (string)."
   ]
  },
  {
   "cell_type": "code",
   "execution_count": 4,
   "metadata": {
    "id": "MmrN3SJTEWcw"
   },
   "outputs": [],
   "source": [
    "categ = ['model','year','transmission','fuelType','engineSize']\n",
    "str_categ = ['model','transmission','fuelType']\n",
    "numer = ['price','mileage','tax','mpg']"
   ]
  },
  {
   "cell_type": "markdown",
   "metadata": {
    "id": "yh3qvc4rEWcw"
   },
   "source": [
    "## Parte 1\n",
    "\n",
    "A continuación se realizó el ajuste de los datos para un modelo de regresión lineal definido mediante la librería SciKit-Learn. Se observan dos métricas de precisión, en este caso Error Cuadrático Medio (RMSE) y $R^2$ (puede leer más sobre esta métrica en [ScikitLearn: r2_score](https://scikit-learn.org/stable/modules/generated/sklearn.metrics.r2_score.html)). Se le entregarán los dos primeros casos como ejemplo, usted debe implementar los demás a partir de estos primeros."
   ]
  },
  {
   "cell_type": "markdown",
   "metadata": {
    "id": "RIjC03LLEWcw"
   },
   "source": [
    "#### Casos:\n",
    "\n",
    "- Caso 1: Codificación One-Hot (MinMaxScaler)\n",
    "- Caso 2: Codificación Ordinal (MinMaxScaler)\n",
    "- Caso 3: Codificación One-Hot (RobustScaler)\n",
    "- Caso 4: Codificación Ordinal (RobustScaler)\n",
    "- Caso 5: Entrenar con un 30% (Codificación Ordinal, MinMaxScaler)\n",
    "- Caso 6: Entrenar con un 55% (Codificación Ordinal, MinMaxScaler)\n",
    "- Caso 7: Entrenar con un 80% (Codificación Ordinal, MinMaxScaler)\n",
    "\n",
    "Analice los resultados."
   ]
  },
  {
   "cell_type": "markdown",
   "metadata": {
    "id": "27GU3tkWEWcw"
   },
   "source": [
    "### Caso 1:"
   ]
  },
  {
   "cell_type": "markdown",
   "metadata": {
    "id": "CFscckhjEWcw"
   },
   "source": [
    "#### Codificación One-Hot\n",
    "\n",
    "Una de las formas de codificar categorías no numéricas se conoce como _one-hot encoding_, en donde se crea una columna para cada valor distinto que exista en la característica que estamos codificando y, para cada registro, marcar con un 1 la columna a la que pertenezca dicho registro y dejar las demás con 0.\n",
    "\n",
    "Igualmente, en este caso se realizará un escalamiento de los datos utilizando un `MinMaxScaler`, investigue más sobre esta función en: [ScikitLearn: MinMaxScaler](https://scikit-learn.org/stable/modules/generated/sklearn.preprocessing.MinMaxScaler.html)."
   ]
  },
  {
   "cell_type": "code",
   "execution_count": 97,
   "metadata": {
    "id": "sI7fh3itEWcw",
    "outputId": "c2c175b7-ce2d-4e87-eb23-6c6dacde45ba",
    "scrolled": true
   },
   "outputs": [
    {
     "data": {
      "text/html": [
       "<div>\n",
       "<style scoped>\n",
       "    .dataframe tbody tr th:only-of-type {\n",
       "        vertical-align: middle;\n",
       "    }\n",
       "\n",
       "    .dataframe tbody tr th {\n",
       "        vertical-align: top;\n",
       "    }\n",
       "\n",
       "    .dataframe thead th {\n",
       "        text-align: right;\n",
       "    }\n",
       "</style>\n",
       "<table border=\"1\" class=\"dataframe\">\n",
       "  <thead>\n",
       "    <tr style=\"text-align: right;\">\n",
       "      <th></th>\n",
       "      <th>year</th>\n",
       "      <th>price</th>\n",
       "      <th>mileage</th>\n",
       "      <th>tax</th>\n",
       "      <th>mpg</th>\n",
       "      <th>engineSize</th>\n",
       "      <th>model_ Auris</th>\n",
       "      <th>model_ Avensis</th>\n",
       "      <th>model_ Aygo</th>\n",
       "      <th>model_ C-HR</th>\n",
       "      <th>...</th>\n",
       "      <th>model_ Verso-S</th>\n",
       "      <th>model_ Yaris</th>\n",
       "      <th>transmission_Automatic</th>\n",
       "      <th>transmission_Manual</th>\n",
       "      <th>transmission_Other</th>\n",
       "      <th>transmission_Semi-Auto</th>\n",
       "      <th>fuelType_Diesel</th>\n",
       "      <th>fuelType_Hybrid</th>\n",
       "      <th>fuelType_Other</th>\n",
       "      <th>fuelType_Petrol</th>\n",
       "    </tr>\n",
       "  </thead>\n",
       "  <tbody>\n",
       "    <tr>\n",
       "      <th>0</th>\n",
       "      <td>0.818182</td>\n",
       "      <td>0.256150</td>\n",
       "      <td>0.138100</td>\n",
       "      <td>0.469027</td>\n",
       "      <td>0.143842</td>\n",
       "      <td>0.444444</td>\n",
       "      <td>0.0</td>\n",
       "      <td>0.0</td>\n",
       "      <td>0.0</td>\n",
       "      <td>0.0</td>\n",
       "      <td>...</td>\n",
       "      <td>0.0</td>\n",
       "      <td>0.0</td>\n",
       "      <td>0.0</td>\n",
       "      <td>1.0</td>\n",
       "      <td>0.0</td>\n",
       "      <td>0.0</td>\n",
       "      <td>0.0</td>\n",
       "      <td>0.0</td>\n",
       "      <td>0.0</td>\n",
       "      <td>1.0</td>\n",
       "    </tr>\n",
       "    <tr>\n",
       "      <th>1</th>\n",
       "      <td>0.863636</td>\n",
       "      <td>0.256066</td>\n",
       "      <td>0.106716</td>\n",
       "      <td>0.256637</td>\n",
       "      <td>0.143842</td>\n",
       "      <td>0.444444</td>\n",
       "      <td>0.0</td>\n",
       "      <td>0.0</td>\n",
       "      <td>0.0</td>\n",
       "      <td>0.0</td>\n",
       "      <td>...</td>\n",
       "      <td>0.0</td>\n",
       "      <td>0.0</td>\n",
       "      <td>0.0</td>\n",
       "      <td>1.0</td>\n",
       "      <td>0.0</td>\n",
       "      <td>0.0</td>\n",
       "      <td>0.0</td>\n",
       "      <td>0.0</td>\n",
       "      <td>0.0</td>\n",
       "      <td>1.0</td>\n",
       "    </tr>\n",
       "    <tr>\n",
       "      <th>2</th>\n",
       "      <td>0.772727</td>\n",
       "      <td>0.222301</td>\n",
       "      <td>0.157479</td>\n",
       "      <td>0.469027</td>\n",
       "      <td>0.143842</td>\n",
       "      <td>0.444444</td>\n",
       "      <td>0.0</td>\n",
       "      <td>0.0</td>\n",
       "      <td>0.0</td>\n",
       "      <td>0.0</td>\n",
       "      <td>...</td>\n",
       "      <td>0.0</td>\n",
       "      <td>0.0</td>\n",
       "      <td>0.0</td>\n",
       "      <td>1.0</td>\n",
       "      <td>0.0</td>\n",
       "      <td>0.0</td>\n",
       "      <td>0.0</td>\n",
       "      <td>0.0</td>\n",
       "      <td>0.0</td>\n",
       "      <td>1.0</td>\n",
       "    </tr>\n",
       "    <tr>\n",
       "      <th>3</th>\n",
       "      <td>0.863636</td>\n",
       "      <td>0.306839</td>\n",
       "      <td>0.084476</td>\n",
       "      <td>0.265487</td>\n",
       "      <td>0.143842</td>\n",
       "      <td>0.444444</td>\n",
       "      <td>0.0</td>\n",
       "      <td>0.0</td>\n",
       "      <td>0.0</td>\n",
       "      <td>0.0</td>\n",
       "      <td>...</td>\n",
       "      <td>0.0</td>\n",
       "      <td>0.0</td>\n",
       "      <td>0.0</td>\n",
       "      <td>1.0</td>\n",
       "      <td>0.0</td>\n",
       "      <td>0.0</td>\n",
       "      <td>0.0</td>\n",
       "      <td>0.0</td>\n",
       "      <td>0.0</td>\n",
       "      <td>1.0</td>\n",
       "    </tr>\n",
       "    <tr>\n",
       "      <th>4</th>\n",
       "      <td>0.863636</td>\n",
       "      <td>0.281478</td>\n",
       "      <td>0.208019</td>\n",
       "      <td>0.256637</td>\n",
       "      <td>0.143842</td>\n",
       "      <td>0.444444</td>\n",
       "      <td>0.0</td>\n",
       "      <td>0.0</td>\n",
       "      <td>0.0</td>\n",
       "      <td>0.0</td>\n",
       "      <td>...</td>\n",
       "      <td>0.0</td>\n",
       "      <td>0.0</td>\n",
       "      <td>0.0</td>\n",
       "      <td>1.0</td>\n",
       "      <td>0.0</td>\n",
       "      <td>0.0</td>\n",
       "      <td>0.0</td>\n",
       "      <td>0.0</td>\n",
       "      <td>0.0</td>\n",
       "      <td>1.0</td>\n",
       "    </tr>\n",
       "  </tbody>\n",
       "</table>\n",
       "<p>5 rows × 32 columns</p>\n",
       "</div>"
      ],
      "text/plain": [
       "       year     price   mileage       tax       mpg  engineSize  model_ Auris  \\\n",
       "0  0.818182  0.256150  0.138100  0.469027  0.143842    0.444444           0.0   \n",
       "1  0.863636  0.256066  0.106716  0.256637  0.143842    0.444444           0.0   \n",
       "2  0.772727  0.222301  0.157479  0.469027  0.143842    0.444444           0.0   \n",
       "3  0.863636  0.306839  0.084476  0.265487  0.143842    0.444444           0.0   \n",
       "4  0.863636  0.281478  0.208019  0.256637  0.143842    0.444444           0.0   \n",
       "\n",
       "   model_ Avensis  model_ Aygo  model_ C-HR  ...  model_ Verso-S  \\\n",
       "0             0.0          0.0          0.0  ...             0.0   \n",
       "1             0.0          0.0          0.0  ...             0.0   \n",
       "2             0.0          0.0          0.0  ...             0.0   \n",
       "3             0.0          0.0          0.0  ...             0.0   \n",
       "4             0.0          0.0          0.0  ...             0.0   \n",
       "\n",
       "   model_ Yaris  transmission_Automatic  transmission_Manual  \\\n",
       "0           0.0                     0.0                  1.0   \n",
       "1           0.0                     0.0                  1.0   \n",
       "2           0.0                     0.0                  1.0   \n",
       "3           0.0                     0.0                  1.0   \n",
       "4           0.0                     0.0                  1.0   \n",
       "\n",
       "   transmission_Other  transmission_Semi-Auto  fuelType_Diesel  \\\n",
       "0                 0.0                     0.0              0.0   \n",
       "1                 0.0                     0.0              0.0   \n",
       "2                 0.0                     0.0              0.0   \n",
       "3                 0.0                     0.0              0.0   \n",
       "4                 0.0                     0.0              0.0   \n",
       "\n",
       "   fuelType_Hybrid  fuelType_Other  fuelType_Petrol  \n",
       "0              0.0             0.0              1.0  \n",
       "1              0.0             0.0              1.0  \n",
       "2              0.0             0.0              1.0  \n",
       "3              0.0             0.0              1.0  \n",
       "4              0.0             0.0              1.0  \n",
       "\n",
       "[5 rows x 32 columns]"
      ]
     },
     "execution_count": 97,
     "metadata": {},
     "output_type": "execute_result"
    }
   ],
   "source": [
    "# Se aplica el one-hot encoding.\n",
    "df_ohe = pd.get_dummies(df)\n",
    "scaler = MinMaxScaler()\n",
    "df_scl_ohe = scaler.fit_transform(df_ohe)\n",
    "df_scl_ohe = pd.DataFrame(df_scl_ohe, columns = df_ohe.columns)\n",
    "df_scl_ohe.head()"
   ]
  },
  {
   "cell_type": "markdown",
   "metadata": {
    "id": "ct0JPROuEWcx"
   },
   "source": [
    "#### Separación de Datos"
   ]
  },
  {
   "cell_type": "code",
   "execution_count": 98,
   "metadata": {
    "id": "Gn547drmEWcx"
   },
   "outputs": [],
   "source": [
    "X = df_scl_ohe.drop(['price'], axis=1)\n",
    "y = df_scl_ohe['price']\n",
    "X_train, X_test, y_train, y_test = train_test_split(X, y, test_size=0.2, random_state=22)"
   ]
  },
  {
   "cell_type": "code",
   "execution_count": 99,
   "metadata": {
    "id": "TYwW_-UvEWcx",
    "outputId": "65aeb935-c681-45ee-abe0-2902faa0fdc2"
   },
   "outputs": [
    {
     "name": "stdout",
     "output_type": "stream",
     "text": [
      "RMSE: 0.031\n",
      "R^2: 0.917\n",
      "\n"
     ]
    }
   ],
   "source": [
    "from sklearn.metrics import mean_squared_error, r2_score\n",
    "from sklearn.linear_model import LinearRegression\n",
    "\n",
    "model_1 = LinearRegression()\n",
    "\n",
    "model_1.fit(X_train, y_train)\n",
    "preds = model_1.predict(X_test)\n",
    "rmse = np.sqrt(mean_squared_error(y_test, preds))\n",
    "rs = model_1.score(X_test, y_test)\n",
    "print(f'RMSE: {round(rmse,3)}')\n",
    "print(f'R^2: {round(rs,3)}\\n')"
   ]
  },
  {
   "cell_type": "markdown",
   "metadata": {
    "id": "A8Sb4gVVEWcx"
   },
   "source": [
    "### Caso 2\n",
    "\n",
    "#### Codificación Ordinal"
   ]
  },
  {
   "cell_type": "code",
   "execution_count": 100,
   "metadata": {
    "id": "2776o59EEWcx",
    "outputId": "8966115b-34e6-4a8e-c5c6-98e855306a68"
   },
   "outputs": [
    {
     "data": {
      "text/html": [
       "<div>\n",
       "<style scoped>\n",
       "    .dataframe tbody tr th:only-of-type {\n",
       "        vertical-align: middle;\n",
       "    }\n",
       "\n",
       "    .dataframe tbody tr th {\n",
       "        vertical-align: top;\n",
       "    }\n",
       "\n",
       "    .dataframe thead th {\n",
       "        text-align: right;\n",
       "    }\n",
       "</style>\n",
       "<table border=\"1\" class=\"dataframe\">\n",
       "  <thead>\n",
       "    <tr style=\"text-align: right;\">\n",
       "      <th></th>\n",
       "      <th>model</th>\n",
       "      <th>year</th>\n",
       "      <th>price</th>\n",
       "      <th>transmission</th>\n",
       "      <th>mileage</th>\n",
       "      <th>fuelType</th>\n",
       "      <th>tax</th>\n",
       "      <th>mpg</th>\n",
       "      <th>engineSize</th>\n",
       "    </tr>\n",
       "  </thead>\n",
       "  <tbody>\n",
       "    <tr>\n",
       "      <th>0</th>\n",
       "      <td>0.352941</td>\n",
       "      <td>0.818182</td>\n",
       "      <td>0.256150</td>\n",
       "      <td>0.333333</td>\n",
       "      <td>0.138100</td>\n",
       "      <td>1.0</td>\n",
       "      <td>0.469027</td>\n",
       "      <td>0.143842</td>\n",
       "      <td>0.444444</td>\n",
       "    </tr>\n",
       "    <tr>\n",
       "      <th>1</th>\n",
       "      <td>0.352941</td>\n",
       "      <td>0.863636</td>\n",
       "      <td>0.256066</td>\n",
       "      <td>0.333333</td>\n",
       "      <td>0.106716</td>\n",
       "      <td>1.0</td>\n",
       "      <td>0.256637</td>\n",
       "      <td>0.143842</td>\n",
       "      <td>0.444444</td>\n",
       "    </tr>\n",
       "    <tr>\n",
       "      <th>2</th>\n",
       "      <td>0.352941</td>\n",
       "      <td>0.772727</td>\n",
       "      <td>0.222301</td>\n",
       "      <td>0.333333</td>\n",
       "      <td>0.157479</td>\n",
       "      <td>1.0</td>\n",
       "      <td>0.469027</td>\n",
       "      <td>0.143842</td>\n",
       "      <td>0.444444</td>\n",
       "    </tr>\n",
       "    <tr>\n",
       "      <th>3</th>\n",
       "      <td>0.352941</td>\n",
       "      <td>0.863636</td>\n",
       "      <td>0.306839</td>\n",
       "      <td>0.333333</td>\n",
       "      <td>0.084476</td>\n",
       "      <td>1.0</td>\n",
       "      <td>0.265487</td>\n",
       "      <td>0.143842</td>\n",
       "      <td>0.444444</td>\n",
       "    </tr>\n",
       "    <tr>\n",
       "      <th>4</th>\n",
       "      <td>0.352941</td>\n",
       "      <td>0.863636</td>\n",
       "      <td>0.281478</td>\n",
       "      <td>0.333333</td>\n",
       "      <td>0.208019</td>\n",
       "      <td>1.0</td>\n",
       "      <td>0.256637</td>\n",
       "      <td>0.143842</td>\n",
       "      <td>0.444444</td>\n",
       "    </tr>\n",
       "  </tbody>\n",
       "</table>\n",
       "</div>"
      ],
      "text/plain": [
       "      model      year     price  transmission   mileage  fuelType       tax  \\\n",
       "0  0.352941  0.818182  0.256150      0.333333  0.138100       1.0  0.469027   \n",
       "1  0.352941  0.863636  0.256066      0.333333  0.106716       1.0  0.256637   \n",
       "2  0.352941  0.772727  0.222301      0.333333  0.157479       1.0  0.469027   \n",
       "3  0.352941  0.863636  0.306839      0.333333  0.084476       1.0  0.265487   \n",
       "4  0.352941  0.863636  0.281478      0.333333  0.208019       1.0  0.256637   \n",
       "\n",
       "        mpg  engineSize  \n",
       "0  0.143842    0.444444  \n",
       "1  0.143842    0.444444  \n",
       "2  0.143842    0.444444  \n",
       "3  0.143842    0.444444  \n",
       "4  0.143842    0.444444  "
      ]
     },
     "execution_count": 100,
     "metadata": {},
     "output_type": "execute_result"
    }
   ],
   "source": [
    "# Se aplica el ordinal encoding.\n",
    "oe = OrdinalEncoder()\n",
    "df_oe = df.copy()\n",
    "df_oe[str_categ] = oe.fit_transform(df_oe[str_categ])\n",
    "\n",
    "x = df_oe.values #returns a numpy array\n",
    "min_max_scaler = MinMaxScaler()\n",
    "x_scaled = min_max_scaler.fit_transform(x)\n",
    "df_scl_oe = pd.DataFrame(x_scaled, columns=df_oe.columns)\n",
    "df_scl_oe.head()"
   ]
  },
  {
   "cell_type": "markdown",
   "metadata": {
    "id": "4mwY6QAdEWcx"
   },
   "source": [
    "#### Separación de Datos"
   ]
  },
  {
   "cell_type": "code",
   "execution_count": 101,
   "metadata": {
    "id": "vrAsEWcyEWcy",
    "scrolled": true
   },
   "outputs": [],
   "source": [
    "X = df_scl_oe.drop(['price'], axis=1)\n",
    "y = df_scl_oe['price']\n",
    "X_train, X_test, y_train, y_test = train_test_split(X, y, test_size=0.2, random_state=22)"
   ]
  },
  {
   "cell_type": "code",
   "execution_count": 102,
   "metadata": {
    "id": "bZ6nMQOPEWcy",
    "outputId": "864e4863-f8c4-45bf-b0ad-58f54420a96c"
   },
   "outputs": [
    {
     "name": "stdout",
     "output_type": "stream",
     "text": [
      "RMSE: 0.05\n",
      "R^2: 0.787\n",
      "\n"
     ]
    }
   ],
   "source": [
    "model_2 = LinearRegression()\n",
    "\n",
    "model_2.fit(X_train, y_train)\n",
    "preds = model_2.predict(X_test)\n",
    "rmse = np.sqrt(mean_squared_error(y_test, preds))\n",
    "rs = model_2.score(X_test, y_test)\n",
    "print(f'RMSE: {round(rmse,3)}')\n",
    "print(f'R^2: {round(rs,3)}\\n')"
   ]
  },
  {
   "cell_type": "markdown",
   "metadata": {
    "id": "riV6dlVvEWcy"
   },
   "source": [
    "### Caso 3\n",
    "\n",
    "#### Codificación One-Hot"
   ]
  },
  {
   "cell_type": "code",
   "execution_count": 103,
   "metadata": {
    "id": "bh2x7nbGEWcy",
    "outputId": "54da831d-8d20-40c2-deff-1a4d9bdc8d71"
   },
   "outputs": [
    {
     "data": {
      "text/html": [
       "<div>\n",
       "<style scoped>\n",
       "    .dataframe tbody tr th:only-of-type {\n",
       "        vertical-align: middle;\n",
       "    }\n",
       "\n",
       "    .dataframe tbody tr th {\n",
       "        vertical-align: top;\n",
       "    }\n",
       "\n",
       "    .dataframe thead th {\n",
       "        text-align: right;\n",
       "    }\n",
       "</style>\n",
       "<table border=\"1\" class=\"dataframe\">\n",
       "  <thead>\n",
       "    <tr style=\"text-align: right;\">\n",
       "      <th></th>\n",
       "      <th>year</th>\n",
       "      <th>price</th>\n",
       "      <th>mileage</th>\n",
       "      <th>tax</th>\n",
       "      <th>mpg</th>\n",
       "      <th>engineSize</th>\n",
       "      <th>model_ Auris</th>\n",
       "      <th>model_ Avensis</th>\n",
       "      <th>model_ Aygo</th>\n",
       "      <th>model_ C-HR</th>\n",
       "      <th>...</th>\n",
       "      <th>model_ Verso-S</th>\n",
       "      <th>model_ Yaris</th>\n",
       "      <th>transmission_Automatic</th>\n",
       "      <th>transmission_Manual</th>\n",
       "      <th>transmission_Other</th>\n",
       "      <th>transmission_Semi-Auto</th>\n",
       "      <th>fuelType_Diesel</th>\n",
       "      <th>fuelType_Hybrid</th>\n",
       "      <th>fuelType_Other</th>\n",
       "      <th>fuelType_Petrol</th>\n",
       "    </tr>\n",
       "  </thead>\n",
       "  <tbody>\n",
       "    <tr>\n",
       "      <th>0</th>\n",
       "      <td>0.818182</td>\n",
       "      <td>0.256150</td>\n",
       "      <td>0.138100</td>\n",
       "      <td>0.469027</td>\n",
       "      <td>0.143842</td>\n",
       "      <td>0.444444</td>\n",
       "      <td>0.0</td>\n",
       "      <td>0.0</td>\n",
       "      <td>0.0</td>\n",
       "      <td>0.0</td>\n",
       "      <td>...</td>\n",
       "      <td>0.0</td>\n",
       "      <td>0.0</td>\n",
       "      <td>0.0</td>\n",
       "      <td>1.0</td>\n",
       "      <td>0.0</td>\n",
       "      <td>0.0</td>\n",
       "      <td>0.0</td>\n",
       "      <td>0.0</td>\n",
       "      <td>0.0</td>\n",
       "      <td>1.0</td>\n",
       "    </tr>\n",
       "    <tr>\n",
       "      <th>1</th>\n",
       "      <td>0.863636</td>\n",
       "      <td>0.256066</td>\n",
       "      <td>0.106716</td>\n",
       "      <td>0.256637</td>\n",
       "      <td>0.143842</td>\n",
       "      <td>0.444444</td>\n",
       "      <td>0.0</td>\n",
       "      <td>0.0</td>\n",
       "      <td>0.0</td>\n",
       "      <td>0.0</td>\n",
       "      <td>...</td>\n",
       "      <td>0.0</td>\n",
       "      <td>0.0</td>\n",
       "      <td>0.0</td>\n",
       "      <td>1.0</td>\n",
       "      <td>0.0</td>\n",
       "      <td>0.0</td>\n",
       "      <td>0.0</td>\n",
       "      <td>0.0</td>\n",
       "      <td>0.0</td>\n",
       "      <td>1.0</td>\n",
       "    </tr>\n",
       "    <tr>\n",
       "      <th>2</th>\n",
       "      <td>0.772727</td>\n",
       "      <td>0.222301</td>\n",
       "      <td>0.157479</td>\n",
       "      <td>0.469027</td>\n",
       "      <td>0.143842</td>\n",
       "      <td>0.444444</td>\n",
       "      <td>0.0</td>\n",
       "      <td>0.0</td>\n",
       "      <td>0.0</td>\n",
       "      <td>0.0</td>\n",
       "      <td>...</td>\n",
       "      <td>0.0</td>\n",
       "      <td>0.0</td>\n",
       "      <td>0.0</td>\n",
       "      <td>1.0</td>\n",
       "      <td>0.0</td>\n",
       "      <td>0.0</td>\n",
       "      <td>0.0</td>\n",
       "      <td>0.0</td>\n",
       "      <td>0.0</td>\n",
       "      <td>1.0</td>\n",
       "    </tr>\n",
       "    <tr>\n",
       "      <th>3</th>\n",
       "      <td>0.863636</td>\n",
       "      <td>0.306839</td>\n",
       "      <td>0.084476</td>\n",
       "      <td>0.265487</td>\n",
       "      <td>0.143842</td>\n",
       "      <td>0.444444</td>\n",
       "      <td>0.0</td>\n",
       "      <td>0.0</td>\n",
       "      <td>0.0</td>\n",
       "      <td>0.0</td>\n",
       "      <td>...</td>\n",
       "      <td>0.0</td>\n",
       "      <td>0.0</td>\n",
       "      <td>0.0</td>\n",
       "      <td>1.0</td>\n",
       "      <td>0.0</td>\n",
       "      <td>0.0</td>\n",
       "      <td>0.0</td>\n",
       "      <td>0.0</td>\n",
       "      <td>0.0</td>\n",
       "      <td>1.0</td>\n",
       "    </tr>\n",
       "    <tr>\n",
       "      <th>4</th>\n",
       "      <td>0.863636</td>\n",
       "      <td>0.281478</td>\n",
       "      <td>0.208019</td>\n",
       "      <td>0.256637</td>\n",
       "      <td>0.143842</td>\n",
       "      <td>0.444444</td>\n",
       "      <td>0.0</td>\n",
       "      <td>0.0</td>\n",
       "      <td>0.0</td>\n",
       "      <td>0.0</td>\n",
       "      <td>...</td>\n",
       "      <td>0.0</td>\n",
       "      <td>0.0</td>\n",
       "      <td>0.0</td>\n",
       "      <td>1.0</td>\n",
       "      <td>0.0</td>\n",
       "      <td>0.0</td>\n",
       "      <td>0.0</td>\n",
       "      <td>0.0</td>\n",
       "      <td>0.0</td>\n",
       "      <td>1.0</td>\n",
       "    </tr>\n",
       "  </tbody>\n",
       "</table>\n",
       "<p>5 rows × 32 columns</p>\n",
       "</div>"
      ],
      "text/plain": [
       "       year     price   mileage       tax       mpg  engineSize  model_ Auris  \\\n",
       "0  0.818182  0.256150  0.138100  0.469027  0.143842    0.444444           0.0   \n",
       "1  0.863636  0.256066  0.106716  0.256637  0.143842    0.444444           0.0   \n",
       "2  0.772727  0.222301  0.157479  0.469027  0.143842    0.444444           0.0   \n",
       "3  0.863636  0.306839  0.084476  0.265487  0.143842    0.444444           0.0   \n",
       "4  0.863636  0.281478  0.208019  0.256637  0.143842    0.444444           0.0   \n",
       "\n",
       "   model_ Avensis  model_ Aygo  model_ C-HR  ...  model_ Verso-S  \\\n",
       "0             0.0          0.0          0.0  ...             0.0   \n",
       "1             0.0          0.0          0.0  ...             0.0   \n",
       "2             0.0          0.0          0.0  ...             0.0   \n",
       "3             0.0          0.0          0.0  ...             0.0   \n",
       "4             0.0          0.0          0.0  ...             0.0   \n",
       "\n",
       "   model_ Yaris  transmission_Automatic  transmission_Manual  \\\n",
       "0           0.0                     0.0                  1.0   \n",
       "1           0.0                     0.0                  1.0   \n",
       "2           0.0                     0.0                  1.0   \n",
       "3           0.0                     0.0                  1.0   \n",
       "4           0.0                     0.0                  1.0   \n",
       "\n",
       "   transmission_Other  transmission_Semi-Auto  fuelType_Diesel  \\\n",
       "0                 0.0                     0.0              0.0   \n",
       "1                 0.0                     0.0              0.0   \n",
       "2                 0.0                     0.0              0.0   \n",
       "3                 0.0                     0.0              0.0   \n",
       "4                 0.0                     0.0              0.0   \n",
       "\n",
       "   fuelType_Hybrid  fuelType_Other  fuelType_Petrol  \n",
       "0              0.0             0.0              1.0  \n",
       "1              0.0             0.0              1.0  \n",
       "2              0.0             0.0              1.0  \n",
       "3              0.0             0.0              1.0  \n",
       "4              0.0             0.0              1.0  \n",
       "\n",
       "[5 rows x 32 columns]"
      ]
     },
     "execution_count": 103,
     "metadata": {},
     "output_type": "execute_result"
    }
   ],
   "source": [
    "# Se aplica el one-hot encoding.\n",
    "df_ohe = pd.get_dummies(df)\n",
    "scaler = RobustScaler()\n",
    "\n",
    "df_rs_ohe = scaler.fit_transform(df_ohe)\n",
    "df_rs_ohe = pd.DataFrame(df_scl_ohe, columns = df_ohe.columns)\n",
    "df_rs_ohe.head()"
   ]
  },
  {
   "cell_type": "markdown",
   "metadata": {
    "id": "ARmMaEi4EWcy"
   },
   "source": [
    "#### Separación de Datos"
   ]
  },
  {
   "cell_type": "code",
   "execution_count": 104,
   "metadata": {
    "id": "RofisvQtEWcy",
    "outputId": "8daef25c-4f52-4fdd-b3bd-4ff1aa5ca90a",
    "scrolled": true
   },
   "outputs": [
    {
     "name": "stdout",
     "output_type": "stream",
     "text": [
      "RMSE: 0.031\n",
      "R^2: 0.917\n",
      "\n"
     ]
    }
   ],
   "source": [
    "X = df_rs_ohe.drop(['price'], axis=1)\n",
    "y = df_rs_ohe['price']\n",
    "X_train, X_test, y_train, y_test = train_test_split(X, y, test_size=0.2, random_state=22)\n",
    "\n",
    "model_3 = LinearRegression()\n",
    "\n",
    "model_3.fit(X_train, y_train)\n",
    "preds = model_3.predict(X_test)\n",
    "rmse = np.sqrt(mean_squared_error(y_test, preds))\n",
    "rs = model_3.score(X_test, y_test)\n",
    "print(f'RMSE: {round(rmse,3)}')\n",
    "print(f'R^2: {round(rs,3)}\\n')"
   ]
  },
  {
   "cell_type": "markdown",
   "metadata": {
    "id": "OLT9Z6OjEWcz"
   },
   "source": [
    "### Caso 4\n",
    "\n",
    "#### Codificación Ordinal"
   ]
  },
  {
   "cell_type": "code",
   "execution_count": 105,
   "metadata": {
    "id": "gQHAe1PmEWcz",
    "outputId": "07908166-1328-4cdf-c565-a8b48886404b"
   },
   "outputs": [
    {
     "data": {
      "text/html": [
       "<div>\n",
       "<style scoped>\n",
       "    .dataframe tbody tr th:only-of-type {\n",
       "        vertical-align: middle;\n",
       "    }\n",
       "\n",
       "    .dataframe tbody tr th {\n",
       "        vertical-align: top;\n",
       "    }\n",
       "\n",
       "    .dataframe thead th {\n",
       "        text-align: right;\n",
       "    }\n",
       "</style>\n",
       "<table border=\"1\" class=\"dataframe\">\n",
       "  <thead>\n",
       "    <tr style=\"text-align: right;\">\n",
       "      <th></th>\n",
       "      <th>model</th>\n",
       "      <th>year</th>\n",
       "      <th>price</th>\n",
       "      <th>transmission</th>\n",
       "      <th>mileage</th>\n",
       "      <th>fuelType</th>\n",
       "      <th>tax</th>\n",
       "      <th>mpg</th>\n",
       "      <th>engineSize</th>\n",
       "    </tr>\n",
       "  </thead>\n",
       "  <tbody>\n",
       "    <tr>\n",
       "      <th>0</th>\n",
       "      <td>0.066667</td>\n",
       "      <td>-0.5</td>\n",
       "      <td>0.776286</td>\n",
       "      <td>0.0</td>\n",
       "      <td>0.257936</td>\n",
       "      <td>0.0</td>\n",
       "      <td>0.896552</td>\n",
       "      <td>-1.955882</td>\n",
       "      <td>0.625</td>\n",
       "    </tr>\n",
       "    <tr>\n",
       "      <th>1</th>\n",
       "      <td>0.066667</td>\n",
       "      <td>0.0</td>\n",
       "      <td>0.775541</td>\n",
       "      <td>0.0</td>\n",
       "      <td>0.004718</td>\n",
       "      <td>0.0</td>\n",
       "      <td>0.068966</td>\n",
       "      <td>-1.955882</td>\n",
       "      <td>0.625</td>\n",
       "    </tr>\n",
       "    <tr>\n",
       "      <th>2</th>\n",
       "      <td>0.066667</td>\n",
       "      <td>-1.0</td>\n",
       "      <td>0.477703</td>\n",
       "      <td>0.0</td>\n",
       "      <td>0.414289</td>\n",
       "      <td>0.0</td>\n",
       "      <td>0.896552</td>\n",
       "      <td>-1.955882</td>\n",
       "      <td>0.625</td>\n",
       "    </tr>\n",
       "    <tr>\n",
       "      <th>3</th>\n",
       "      <td>0.066667</td>\n",
       "      <td>0.0</td>\n",
       "      <td>1.223415</td>\n",
       "      <td>0.0</td>\n",
       "      <td>-0.174718</td>\n",
       "      <td>0.0</td>\n",
       "      <td>0.103448</td>\n",
       "      <td>-1.955882</td>\n",
       "      <td>0.625</td>\n",
       "    </tr>\n",
       "    <tr>\n",
       "      <th>4</th>\n",
       "      <td>0.066667</td>\n",
       "      <td>0.0</td>\n",
       "      <td>0.999702</td>\n",
       "      <td>0.0</td>\n",
       "      <td>0.822056</td>\n",
       "      <td>0.0</td>\n",
       "      <td>0.068966</td>\n",
       "      <td>-1.955882</td>\n",
       "      <td>0.625</td>\n",
       "    </tr>\n",
       "  </tbody>\n",
       "</table>\n",
       "</div>"
      ],
      "text/plain": [
       "      model  year     price  transmission   mileage  fuelType       tax  \\\n",
       "0  0.066667  -0.5  0.776286           0.0  0.257936       0.0  0.896552   \n",
       "1  0.066667   0.0  0.775541           0.0  0.004718       0.0  0.068966   \n",
       "2  0.066667  -1.0  0.477703           0.0  0.414289       0.0  0.896552   \n",
       "3  0.066667   0.0  1.223415           0.0 -0.174718       0.0  0.103448   \n",
       "4  0.066667   0.0  0.999702           0.0  0.822056       0.0  0.068966   \n",
       "\n",
       "        mpg  engineSize  \n",
       "0 -1.955882       0.625  \n",
       "1 -1.955882       0.625  \n",
       "2 -1.955882       0.625  \n",
       "3 -1.955882       0.625  \n",
       "4 -1.955882       0.625  "
      ]
     },
     "execution_count": 105,
     "metadata": {},
     "output_type": "execute_result"
    }
   ],
   "source": [
    "# Se aplica el ordinal encoding.\n",
    "oe2 = OrdinalEncoder()\n",
    "df_oe2 = df.copy()\n",
    "df_oe2[str_categ] = oe2.fit_transform(df_oe2[str_categ])\n",
    "\n",
    "x2 = df_oe2.values #returns a numpy array\n",
    "scaler = RobustScaler()\n",
    "x2_scaled = scaler.fit_transform(x2)\n",
    "df_scl_oe2 = pd.DataFrame(x2_scaled, columns=df_oe2.columns)\n",
    "df_scl_oe2.head()"
   ]
  },
  {
   "cell_type": "markdown",
   "metadata": {
    "id": "AY7W8HfHEWcz"
   },
   "source": [
    "#### Separación de Datos"
   ]
  },
  {
   "cell_type": "code",
   "execution_count": 106,
   "metadata": {
    "id": "2VJQS8p_EWcz",
    "outputId": "b8ef55da-7ed5-4afd-a4bf-6865241a48cc",
    "scrolled": true
   },
   "outputs": [
    {
     "name": "stdout",
     "output_type": "stream",
     "text": [
      "RMSE: 0.444\n",
      "R^2: 0.787\n",
      "\n"
     ]
    }
   ],
   "source": [
    "from sklearn.metrics import mean_squared_error, r2_score\n",
    "from sklearn.linear_model import LinearRegression\n",
    "\n",
    "X = df_scl_oe2.drop(['price'], axis=1)\n",
    "y = df_scl_oe2['price']\n",
    "X_train, X_test, y_train, y_test = train_test_split(X, y, test_size=0.2, random_state=22)\n",
    "\n",
    "model_4 = LinearRegression()\n",
    "\n",
    "model_4.fit(X_train, y_train)\n",
    "preds = model_4.predict(X_test)\n",
    "rmse = np.sqrt(mean_squared_error(y_test, preds))\n",
    "rs = model_4.score(X_test, y_test)\n",
    "print(f'RMSE: {round(rmse,3)}')\n",
    "print(f'R^2: {round(rs,3)}\\n')"
   ]
  },
  {
   "cell_type": "markdown",
   "metadata": {
    "id": "nrUMy60REWcz"
   },
   "source": [
    "### Caso 5\n",
    "\n",
    "#### Codificación Ordinal"
   ]
  },
  {
   "cell_type": "code",
   "execution_count": 107,
   "metadata": {
    "id": "oavS2omfEWcz",
    "outputId": "f6573b4a-18d0-4382-a238-5cea98d445b7"
   },
   "outputs": [
    {
     "data": {
      "text/html": [
       "<div>\n",
       "<style scoped>\n",
       "    .dataframe tbody tr th:only-of-type {\n",
       "        vertical-align: middle;\n",
       "    }\n",
       "\n",
       "    .dataframe tbody tr th {\n",
       "        vertical-align: top;\n",
       "    }\n",
       "\n",
       "    .dataframe thead th {\n",
       "        text-align: right;\n",
       "    }\n",
       "</style>\n",
       "<table border=\"1\" class=\"dataframe\">\n",
       "  <thead>\n",
       "    <tr style=\"text-align: right;\">\n",
       "      <th></th>\n",
       "      <th>model</th>\n",
       "      <th>year</th>\n",
       "      <th>price</th>\n",
       "      <th>transmission</th>\n",
       "      <th>mileage</th>\n",
       "      <th>fuelType</th>\n",
       "      <th>tax</th>\n",
       "      <th>mpg</th>\n",
       "      <th>engineSize</th>\n",
       "    </tr>\n",
       "  </thead>\n",
       "  <tbody>\n",
       "    <tr>\n",
       "      <th>0</th>\n",
       "      <td>0.352941</td>\n",
       "      <td>0.818182</td>\n",
       "      <td>0.256150</td>\n",
       "      <td>0.333333</td>\n",
       "      <td>0.138100</td>\n",
       "      <td>1.0</td>\n",
       "      <td>0.469027</td>\n",
       "      <td>0.143842</td>\n",
       "      <td>0.444444</td>\n",
       "    </tr>\n",
       "    <tr>\n",
       "      <th>1</th>\n",
       "      <td>0.352941</td>\n",
       "      <td>0.863636</td>\n",
       "      <td>0.256066</td>\n",
       "      <td>0.333333</td>\n",
       "      <td>0.106716</td>\n",
       "      <td>1.0</td>\n",
       "      <td>0.256637</td>\n",
       "      <td>0.143842</td>\n",
       "      <td>0.444444</td>\n",
       "    </tr>\n",
       "    <tr>\n",
       "      <th>2</th>\n",
       "      <td>0.352941</td>\n",
       "      <td>0.772727</td>\n",
       "      <td>0.222301</td>\n",
       "      <td>0.333333</td>\n",
       "      <td>0.157479</td>\n",
       "      <td>1.0</td>\n",
       "      <td>0.469027</td>\n",
       "      <td>0.143842</td>\n",
       "      <td>0.444444</td>\n",
       "    </tr>\n",
       "    <tr>\n",
       "      <th>3</th>\n",
       "      <td>0.352941</td>\n",
       "      <td>0.863636</td>\n",
       "      <td>0.306839</td>\n",
       "      <td>0.333333</td>\n",
       "      <td>0.084476</td>\n",
       "      <td>1.0</td>\n",
       "      <td>0.265487</td>\n",
       "      <td>0.143842</td>\n",
       "      <td>0.444444</td>\n",
       "    </tr>\n",
       "    <tr>\n",
       "      <th>4</th>\n",
       "      <td>0.352941</td>\n",
       "      <td>0.863636</td>\n",
       "      <td>0.281478</td>\n",
       "      <td>0.333333</td>\n",
       "      <td>0.208019</td>\n",
       "      <td>1.0</td>\n",
       "      <td>0.256637</td>\n",
       "      <td>0.143842</td>\n",
       "      <td>0.444444</td>\n",
       "    </tr>\n",
       "  </tbody>\n",
       "</table>\n",
       "</div>"
      ],
      "text/plain": [
       "      model      year     price  transmission   mileage  fuelType       tax  \\\n",
       "0  0.352941  0.818182  0.256150      0.333333  0.138100       1.0  0.469027   \n",
       "1  0.352941  0.863636  0.256066      0.333333  0.106716       1.0  0.256637   \n",
       "2  0.352941  0.772727  0.222301      0.333333  0.157479       1.0  0.469027   \n",
       "3  0.352941  0.863636  0.306839      0.333333  0.084476       1.0  0.265487   \n",
       "4  0.352941  0.863636  0.281478      0.333333  0.208019       1.0  0.256637   \n",
       "\n",
       "        mpg  engineSize  \n",
       "0  0.143842    0.444444  \n",
       "1  0.143842    0.444444  \n",
       "2  0.143842    0.444444  \n",
       "3  0.143842    0.444444  \n",
       "4  0.143842    0.444444  "
      ]
     },
     "execution_count": 107,
     "metadata": {},
     "output_type": "execute_result"
    }
   ],
   "source": [
    "# Se aplica el ordinal encoding.\n",
    "oe = OrdinalEncoder()\n",
    "df_oe = df.copy()\n",
    "df_oe[str_categ] = oe.fit_transform(df_oe[str_categ])\n",
    "\n",
    "x = df_oe.values #returns a numpy array\n",
    "min_max_scaler = MinMaxScaler()\n",
    "x_scaled = min_max_scaler.fit_transform(x)\n",
    "df_scl_oe = pd.DataFrame(x_scaled, columns=df_oe.columns)\n",
    "df_scl_oe.head()"
   ]
  },
  {
   "cell_type": "markdown",
   "metadata": {
    "id": "HkU7_kCnEWc0"
   },
   "source": [
    "#### Separación de Datos"
   ]
  },
  {
   "cell_type": "code",
   "execution_count": 108,
   "metadata": {
    "id": "H3Y7O4REEWc0",
    "outputId": "569b449f-d137-4923-bf9d-3b67b6b2ad2c",
    "scrolled": true
   },
   "outputs": [
    {
     "name": "stdout",
     "output_type": "stream",
     "text": [
      "RMSE: 0.049\n",
      "R^2: 0.785\n",
      "\n"
     ]
    }
   ],
   "source": [
    "X = df_scl_oe.drop(['price'], axis=1)\n",
    "y = df_scl_oe['price']\n",
    "X_train, X_test, y_train, y_test = train_test_split(X, y, test_size=0.7, random_state=22)\n",
    "\n",
    "model_5 = LinearRegression()\n",
    "\n",
    "model_5.fit(X_train, y_train)\n",
    "preds = model_5.predict(X_test)\n",
    "rmse = np.sqrt(mean_squared_error(y_test, preds))\n",
    "rs = model_5.score(X_test, y_test)\n",
    "print(f'RMSE: {round(rmse,3)}')\n",
    "print(f'R^2: {round(rs,3)}\\n')"
   ]
  },
  {
   "cell_type": "markdown",
   "metadata": {
    "id": "EqZo5hAREWc0"
   },
   "source": [
    "### Caso 6\n",
    "\n",
    "#### Codificación Ordinal"
   ]
  },
  {
   "cell_type": "code",
   "execution_count": 109,
   "metadata": {
    "id": "cWHcUf7BEWc0",
    "outputId": "f94af471-bded-4e66-9c75-e8dcd6a2c142"
   },
   "outputs": [
    {
     "data": {
      "text/html": [
       "<div>\n",
       "<style scoped>\n",
       "    .dataframe tbody tr th:only-of-type {\n",
       "        vertical-align: middle;\n",
       "    }\n",
       "\n",
       "    .dataframe tbody tr th {\n",
       "        vertical-align: top;\n",
       "    }\n",
       "\n",
       "    .dataframe thead th {\n",
       "        text-align: right;\n",
       "    }\n",
       "</style>\n",
       "<table border=\"1\" class=\"dataframe\">\n",
       "  <thead>\n",
       "    <tr style=\"text-align: right;\">\n",
       "      <th></th>\n",
       "      <th>model</th>\n",
       "      <th>year</th>\n",
       "      <th>price</th>\n",
       "      <th>transmission</th>\n",
       "      <th>mileage</th>\n",
       "      <th>fuelType</th>\n",
       "      <th>tax</th>\n",
       "      <th>mpg</th>\n",
       "      <th>engineSize</th>\n",
       "    </tr>\n",
       "  </thead>\n",
       "  <tbody>\n",
       "    <tr>\n",
       "      <th>0</th>\n",
       "      <td>0.352941</td>\n",
       "      <td>0.818182</td>\n",
       "      <td>0.256150</td>\n",
       "      <td>0.333333</td>\n",
       "      <td>0.138100</td>\n",
       "      <td>1.0</td>\n",
       "      <td>0.469027</td>\n",
       "      <td>0.143842</td>\n",
       "      <td>0.444444</td>\n",
       "    </tr>\n",
       "    <tr>\n",
       "      <th>1</th>\n",
       "      <td>0.352941</td>\n",
       "      <td>0.863636</td>\n",
       "      <td>0.256066</td>\n",
       "      <td>0.333333</td>\n",
       "      <td>0.106716</td>\n",
       "      <td>1.0</td>\n",
       "      <td>0.256637</td>\n",
       "      <td>0.143842</td>\n",
       "      <td>0.444444</td>\n",
       "    </tr>\n",
       "    <tr>\n",
       "      <th>2</th>\n",
       "      <td>0.352941</td>\n",
       "      <td>0.772727</td>\n",
       "      <td>0.222301</td>\n",
       "      <td>0.333333</td>\n",
       "      <td>0.157479</td>\n",
       "      <td>1.0</td>\n",
       "      <td>0.469027</td>\n",
       "      <td>0.143842</td>\n",
       "      <td>0.444444</td>\n",
       "    </tr>\n",
       "    <tr>\n",
       "      <th>3</th>\n",
       "      <td>0.352941</td>\n",
       "      <td>0.863636</td>\n",
       "      <td>0.306839</td>\n",
       "      <td>0.333333</td>\n",
       "      <td>0.084476</td>\n",
       "      <td>1.0</td>\n",
       "      <td>0.265487</td>\n",
       "      <td>0.143842</td>\n",
       "      <td>0.444444</td>\n",
       "    </tr>\n",
       "    <tr>\n",
       "      <th>4</th>\n",
       "      <td>0.352941</td>\n",
       "      <td>0.863636</td>\n",
       "      <td>0.281478</td>\n",
       "      <td>0.333333</td>\n",
       "      <td>0.208019</td>\n",
       "      <td>1.0</td>\n",
       "      <td>0.256637</td>\n",
       "      <td>0.143842</td>\n",
       "      <td>0.444444</td>\n",
       "    </tr>\n",
       "  </tbody>\n",
       "</table>\n",
       "</div>"
      ],
      "text/plain": [
       "      model      year     price  transmission   mileage  fuelType       tax  \\\n",
       "0  0.352941  0.818182  0.256150      0.333333  0.138100       1.0  0.469027   \n",
       "1  0.352941  0.863636  0.256066      0.333333  0.106716       1.0  0.256637   \n",
       "2  0.352941  0.772727  0.222301      0.333333  0.157479       1.0  0.469027   \n",
       "3  0.352941  0.863636  0.306839      0.333333  0.084476       1.0  0.265487   \n",
       "4  0.352941  0.863636  0.281478      0.333333  0.208019       1.0  0.256637   \n",
       "\n",
       "        mpg  engineSize  \n",
       "0  0.143842    0.444444  \n",
       "1  0.143842    0.444444  \n",
       "2  0.143842    0.444444  \n",
       "3  0.143842    0.444444  \n",
       "4  0.143842    0.444444  "
      ]
     },
     "execution_count": 109,
     "metadata": {},
     "output_type": "execute_result"
    }
   ],
   "source": [
    "# Se aplica el ordinal encoding.\n",
    "oe = OrdinalEncoder()\n",
    "df_oe = df.copy()\n",
    "df_oe[str_categ] = oe.fit_transform(df_oe[str_categ])\n",
    "\n",
    "x = df_oe.values #returns a numpy array\n",
    "min_max_scaler = MinMaxScaler()\n",
    "x_scaled = min_max_scaler.fit_transform(x)\n",
    "df_scl_oe = pd.DataFrame(x_scaled, columns=df_oe.columns)\n",
    "df_scl_oe.head()"
   ]
  },
  {
   "cell_type": "markdown",
   "metadata": {
    "id": "3j9jNy7SEWc0"
   },
   "source": [
    "#### Separación de Datos"
   ]
  },
  {
   "cell_type": "code",
   "execution_count": 110,
   "metadata": {
    "id": "VD-6ZNvtEWc0",
    "outputId": "5721b043-8981-4df6-f6fe-6bcdefc4ee0e",
    "scrolled": true
   },
   "outputs": [
    {
     "name": "stdout",
     "output_type": "stream",
     "text": [
      "RMSE: 0.05\n",
      "R^2: 0.784\n",
      "\n"
     ]
    }
   ],
   "source": [
    "X = df_scl_oe.drop(['price'], axis=1)\n",
    "y = df_scl_oe['price']\n",
    "X_train, X_test, y_train, y_test = train_test_split(X, y, test_size=0.45, random_state=22)\n",
    "\n",
    "model_6 = LinearRegression()\n",
    "\n",
    "model_6.fit(X_train, y_train)\n",
    "preds = model_6.predict(X_test)\n",
    "rmse = np.sqrt(mean_squared_error(y_test, preds))\n",
    "rs = model_6.score(X_test, y_test)\n",
    "print(f'RMSE: {round(rmse,3)}')\n",
    "print(f'R^2: {round(rs,3)}\\n')"
   ]
  },
  {
   "cell_type": "markdown",
   "metadata": {
    "id": "CDkTKHmIEWc1"
   },
   "source": [
    "### Caso 7\n",
    "\n",
    "#### Codificación Ordinal"
   ]
  },
  {
   "cell_type": "code",
   "execution_count": 111,
   "metadata": {
    "id": "JsxtCOVeEWc1",
    "outputId": "4d23db0f-ccfc-46ce-b537-5c4f23af6c8f"
   },
   "outputs": [
    {
     "data": {
      "text/html": [
       "<div>\n",
       "<style scoped>\n",
       "    .dataframe tbody tr th:only-of-type {\n",
       "        vertical-align: middle;\n",
       "    }\n",
       "\n",
       "    .dataframe tbody tr th {\n",
       "        vertical-align: top;\n",
       "    }\n",
       "\n",
       "    .dataframe thead th {\n",
       "        text-align: right;\n",
       "    }\n",
       "</style>\n",
       "<table border=\"1\" class=\"dataframe\">\n",
       "  <thead>\n",
       "    <tr style=\"text-align: right;\">\n",
       "      <th></th>\n",
       "      <th>model</th>\n",
       "      <th>year</th>\n",
       "      <th>price</th>\n",
       "      <th>transmission</th>\n",
       "      <th>mileage</th>\n",
       "      <th>fuelType</th>\n",
       "      <th>tax</th>\n",
       "      <th>mpg</th>\n",
       "      <th>engineSize</th>\n",
       "    </tr>\n",
       "  </thead>\n",
       "  <tbody>\n",
       "    <tr>\n",
       "      <th>0</th>\n",
       "      <td>0.352941</td>\n",
       "      <td>0.818182</td>\n",
       "      <td>0.256150</td>\n",
       "      <td>0.333333</td>\n",
       "      <td>0.138100</td>\n",
       "      <td>1.0</td>\n",
       "      <td>0.469027</td>\n",
       "      <td>0.143842</td>\n",
       "      <td>0.444444</td>\n",
       "    </tr>\n",
       "    <tr>\n",
       "      <th>1</th>\n",
       "      <td>0.352941</td>\n",
       "      <td>0.863636</td>\n",
       "      <td>0.256066</td>\n",
       "      <td>0.333333</td>\n",
       "      <td>0.106716</td>\n",
       "      <td>1.0</td>\n",
       "      <td>0.256637</td>\n",
       "      <td>0.143842</td>\n",
       "      <td>0.444444</td>\n",
       "    </tr>\n",
       "    <tr>\n",
       "      <th>2</th>\n",
       "      <td>0.352941</td>\n",
       "      <td>0.772727</td>\n",
       "      <td>0.222301</td>\n",
       "      <td>0.333333</td>\n",
       "      <td>0.157479</td>\n",
       "      <td>1.0</td>\n",
       "      <td>0.469027</td>\n",
       "      <td>0.143842</td>\n",
       "      <td>0.444444</td>\n",
       "    </tr>\n",
       "    <tr>\n",
       "      <th>3</th>\n",
       "      <td>0.352941</td>\n",
       "      <td>0.863636</td>\n",
       "      <td>0.306839</td>\n",
       "      <td>0.333333</td>\n",
       "      <td>0.084476</td>\n",
       "      <td>1.0</td>\n",
       "      <td>0.265487</td>\n",
       "      <td>0.143842</td>\n",
       "      <td>0.444444</td>\n",
       "    </tr>\n",
       "    <tr>\n",
       "      <th>4</th>\n",
       "      <td>0.352941</td>\n",
       "      <td>0.863636</td>\n",
       "      <td>0.281478</td>\n",
       "      <td>0.333333</td>\n",
       "      <td>0.208019</td>\n",
       "      <td>1.0</td>\n",
       "      <td>0.256637</td>\n",
       "      <td>0.143842</td>\n",
       "      <td>0.444444</td>\n",
       "    </tr>\n",
       "  </tbody>\n",
       "</table>\n",
       "</div>"
      ],
      "text/plain": [
       "      model      year     price  transmission   mileage  fuelType       tax  \\\n",
       "0  0.352941  0.818182  0.256150      0.333333  0.138100       1.0  0.469027   \n",
       "1  0.352941  0.863636  0.256066      0.333333  0.106716       1.0  0.256637   \n",
       "2  0.352941  0.772727  0.222301      0.333333  0.157479       1.0  0.469027   \n",
       "3  0.352941  0.863636  0.306839      0.333333  0.084476       1.0  0.265487   \n",
       "4  0.352941  0.863636  0.281478      0.333333  0.208019       1.0  0.256637   \n",
       "\n",
       "        mpg  engineSize  \n",
       "0  0.143842    0.444444  \n",
       "1  0.143842    0.444444  \n",
       "2  0.143842    0.444444  \n",
       "3  0.143842    0.444444  \n",
       "4  0.143842    0.444444  "
      ]
     },
     "execution_count": 111,
     "metadata": {},
     "output_type": "execute_result"
    }
   ],
   "source": [
    "# Se aplica el ordinal encoding.\n",
    "oe = OrdinalEncoder()\n",
    "df_oe = df.copy()\n",
    "df_oe[str_categ] = oe.fit_transform(df_oe[str_categ])\n",
    "\n",
    "x = df_oe.values #returns a numpy array\n",
    "min_max_scaler = MinMaxScaler()\n",
    "x_scaled = min_max_scaler.fit_transform(x)\n",
    "df_scl_oe = pd.DataFrame(x_scaled, columns=df_oe.columns)\n",
    "df_scl_oe.head()"
   ]
  },
  {
   "cell_type": "markdown",
   "metadata": {
    "id": "jdZEKo1NEWc1"
   },
   "source": [
    "#### Separación de Datos"
   ]
  },
  {
   "cell_type": "code",
   "execution_count": 112,
   "metadata": {
    "id": "WHaxUPIqEWc1",
    "outputId": "1486f87c-1149-4826-8201-336f3994dae3",
    "scrolled": true
   },
   "outputs": [
    {
     "name": "stdout",
     "output_type": "stream",
     "text": [
      "RMSE: 0.05\n",
      "R^2: 0.787\n",
      "\n"
     ]
    }
   ],
   "source": [
    "X = df_scl_oe.drop(['price'], axis=1)\n",
    "y = df_scl_oe['price']\n",
    "X_train, X_test, y_train, y_test = train_test_split(X, y, test_size=0.2, random_state=22)\n",
    "\n",
    "model_7 = LinearRegression()\n",
    "\n",
    "model_7.fit(X_train, y_train)\n",
    "preds = model_7.predict(X_test)\n",
    "rmse = np.sqrt(mean_squared_error(y_test, preds))\n",
    "rs = model_7.score(X_test, y_test)\n",
    "print(f'RMSE: {round(rmse,3)}')\n",
    "print(f'R^2: {round(rs,3)}\\n')"
   ]
  },
  {
   "cell_type": "markdown",
   "metadata": {
    "id": "Cf5STEIoEWc1"
   },
   "source": [
    "### Análisis de los resultados\n",
    "\n",
    "A raíz de lo observado en los 7 modelos creados, con las diferentes variaciones de cada uno, se obtuvieron los siguientes resultados:\n",
    "- Modelo 1: Codificación One-Hot + MaxMinScaler\n",
    "\n",
    "        RMSE: 0.031 , R^2: 0.917\n",
    "        \n",
    "- Modelo 2: Codificación Ordinal + MaxMinScaler\n",
    "\n",
    "        RMSE: 0.05 , R^2: 0.787\n",
    "                \n",
    "- Modelo 3: Codificación One-Hot + RobustScaler\n",
    "\n",
    "        RMSE: 0.277 , R^2: 0.917\n",
    "                \n",
    "- Modelo 4: Codificación Ordinal + RobustScaler\n",
    "\n",
    "        RMSE: 0.444 , R^2: 0.787\n",
    "                \n",
    "- Modelo 5: Codificación Ordinal + MaxMinScaler + Entrenamiento con 30% de los datos\n",
    "\n",
    "        RMSE: 0.049 , R^2: 0.785\n",
    "                \n",
    "- Modelo 6: Codificación Ordinal + MaxMinScaler + Entrenamiento con 55% de los datos\n",
    "\n",
    "        RMSE: 0.05 , R^2: 0.784\n",
    "                \n",
    "- Modelo 7: Codificación Ordinal + MaxMinScaler + Entrenamiento con 80% de los datos\n",
    "\n",
    "        RMSE: 0.05 , R^2: 0.787\n",
    "\n",
    "Como se muestra anteriormente, se muestran dos métricas para verificar la calidad de los diferentes modelos usados. En específico, son el RMSE (Root Mean Squared Error) y el R^2.\n",
    "\n",
    "Para el caso del RMSE, como su nombre lo indica, mide la raíz cuadrada del error cuarático medio. En otras palabras, mide que tan errados estan los datos predichos por el modelo con respecto a los datos reales. En el caso de esta métrica, se desea que su valor sea o este cerca de 0.\n",
    "\n",
    "Por otro lado, la métrica R^2 indica que tan bueno es nuestro modelo con respecto a un modelo promedio(o hipotesis nula). En este caso, se desea que su valor sea o este cercano a 1, que indica que el modelo predice o se ajusta perfectamente a los datos.\n",
    "\n",
    "De acuerdo a lo anterior, de los modelos usados en la Parte 1, se concluye que el mejor para los datos observados es el *Modelo 1 (Codificación One-Hot + MaxMinScaler)*, debido a que su RMSE es el más cercano a 0 y su R^2 es el más cercano a 1 de todos los experimentos realizados. \n",
    "\n",
    "Por otro lado, el peor modelo sería el *Modelo 4(Codificación Ordinal + RobustScaler)* por las razones opuestas a las mencionadas anteriormente (su RMSE es el más lejano de 0 y su R^2 es el más alejado de 1).\n",
    "\n",
    "Lo anterior, como ya se dijo, es para estos datos en específico, ya que es posible que usar otros scalers o codificaciones sea mejor en otros conjuntos de datos. Por ello siempre es necesario hacer este tipo de experimentos para obtener los mejores ajustes para cada dataset en específico."
   ]
  },
  {
   "cell_type": "markdown",
   "metadata": {
    "id": "_rLfyPPsEWc1"
   },
   "source": [
    "## Parte 2\n",
    "\n",
    "Ahora usted debe desarrollar su propia implementación del método Descenso de Gradiente estocástico. Para esta ocasión debe utilizar una codificación One-Hot, un RobustScaler y realizar el entrenamiento a partir del 80% de los datos. Al final del entrenamiento, en la lista `errores` se deben tener los valores de la función de error para cada iteración y así poder observar el progreso gráficamente."
   ]
  },
  {
   "cell_type": "code",
   "execution_count": 64,
   "metadata": {},
   "outputs": [],
   "source": [
    "# Se crea dos listas para guardar varios R2 de iteraciones del algoritmo. \n",
    "hist_r2_train = []\n",
    "hist_r2_test = []"
   ]
  },
  {
   "cell_type": "code",
   "execution_count": 119,
   "metadata": {
    "id": "GWURry6-EWc2"
   },
   "outputs": [],
   "source": [
    "# Se crea el encoding one-hot.\n",
    "df_ohe = pd.get_dummies(df)\n",
    "\n",
    "# Se usa el RobustScaler para escalar los datos.\n",
    "scaler = RobustScaler()\n",
    "df_scl_ohe = scaler.fit_transform(df_ohe)\n",
    "df_scl_ohe = pd.DataFrame(df_scl_ohe, columns = df_ohe.columns)\n",
    "\n",
    "# Se separan los datos para su entrenamiento y posterior testeo.\n",
    "X = df_scl_ohe.drop(['price'], axis=1)\n",
    "y = df_scl_ohe['price']\n",
    "X_train, X_test, y_train, y_test = train_test_split(X, y, test_size=0.2, random_state=22)"
   ]
  },
  {
   "cell_type": "code",
   "execution_count": 120,
   "metadata": {
    "id": "esG0RvM6EWc2",
    "scrolled": true
   },
   "outputs": [],
   "source": [
    "import random\n",
    "\n",
    "X_train_array = np.c_[np.ones(X_train.values.shape[0]), X_train.values]\n",
    "y_train_array = y_train.values\n",
    "X_test_array = np.c_[np.ones(X_test.values.shape[0]), X_test.values]\n",
    "y_test_array = y_test.values\n",
    "\n",
    "#Inicialización de w\n",
    "w0 = np.random.rand(1,32)*0.0001 # Inicializar aleatoriamente. Se inicializa con valores pequeños #\n",
    "w = w0.copy()\n",
    "\n",
    "#Selección de par aleatorio\n",
    "i = random.randrange(0, X_train_array.shape[0]-1) # Posición aleatoria #\n",
    "xActual = X_train_array[i]\n",
    "yActual = y_train_array[i]\n",
    "\n",
    "#Inicialización de criterio de parada\n",
    "eps = 1e-5 # Se define un criterio de parada, el cual fue seleccionado basado en el error en la predicción y la gráfica de convergencia del modelo despues de multiples iteraciones#\n",
    "error = float('inf') # Valor inicial, se debe actualizar en cada iteración #\n",
    "dif = float('inf') # Diferencia entre vectores de pesos w consecutivos #\n",
    "\n",
    "#Inicialización de valor de la tasa de aprendizaje \n",
    "tasa =  0.0005 # Selección de tasa de aprendizaje. Fue seleccionada basada en el error y la gráfica de convergencia del modelo después de multiples iteraciones #\n",
    "\n",
    "#Lista para monitorear aprendizaje\n",
    "errores = [] # Agregar a esta lista los valores de la función de error en cada iteración #"
   ]
  },
  {
   "cell_type": "code",
   "execution_count": 121,
   "metadata": {
    "id": "CQexwQ_kEWc2",
    "outputId": "7f1f9d12-8560-410e-e714-012a80ae64b6"
   },
   "outputs": [
    {
     "name": "stdout",
     "output_type": "stream",
     "text": [
      "Done\n"
     ]
    }
   ],
   "source": [
    "#Ciclo iterativo según algoritmo de descenso de gradiente\n",
    "while dif>eps:\n",
    "    # Desarrollo de algoritmo #\n",
    "    \n",
    "    #Asignación de pesos a cada variable\n",
    "    g = np.dot(w, np.transpose(xActual)) \n",
    "    #Comparación de modelo creado con datos reales\n",
    "    error = g-yActual\n",
    "    #Creación de siguiente vector de pesos\n",
    "    w = w - tasa*(error*xActual)\n",
    "    \n",
    "    #Cálculo de la norma euclidiana (para el criterio de parada)\n",
    "    norm_error = np.linalg.norm(error)\n",
    "    if len(errores)>=1:\n",
    "        # Se recalcula el criterio de parada (la diferencia entre los vectores de errores consecutivos)\n",
    "        dif = abs(norm_error-errores[len(errores)-1])\n",
    "    # Se añade a la lista de errores la norma del ultimo error calculado\n",
    "    errores.append(norm_error)\n",
    "    \n",
    "    #Indice i aleatorio (estocástico) para actualizar xActual y Y¿yActual.\n",
    "    i = random.randrange(0, X_train_array.shape[0]-1)\n",
    "    #Se actualiza a un nuevo X de los datos de entrada\n",
    "    xActual = X_train_array[i]\n",
    "    #Se actualiza a un nuevo Y de los datos de entrada\n",
    "    yActual = y_train_array[i]\n",
    "    # # # # # # # # # # # # # # #\n",
    "print(\"Done\")"
   ]
  },
  {
   "cell_type": "markdown",
   "metadata": {
    "id": "ivijquMuEWc2"
   },
   "source": [
    "#### Evaluación de Modelo"
   ]
  },
  {
   "cell_type": "code",
   "execution_count": 116,
   "metadata": {
    "id": "GnSQeAyMEWc2",
    "outputId": "8a424ea6-b1fa-438c-8d8d-2341a7353433"
   },
   "outputs": [
    {
     "name": "stdout",
     "output_type": "stream",
     "text": [
      "R2 entrenamiento: 0.8784\n",
      "R2 prueba: 0.8733\n"
     ]
    }
   ],
   "source": [
    "# Se calcula la columna objetivo(precio) con los datos separados para entrenamiento y con el modelo entrenado.\n",
    "y_train_preds = np.zeros(y_train_array.shape)\n",
    "for i in range(X_train_array.shape[0]):\n",
    "    y_train_preds[i] = np.dot(w,X_train_array[i])\n",
    "\n",
    "# Se calcula la columna objetivo(precio) con los datos separados para testear y con el modelo entrenado.\n",
    "y_test_preds = np.zeros(y_test_array.shape)\n",
    "for i in range(X_test_array.shape[0]):\n",
    "    y_test_preds[i] = np.dot(w,X_test_array[i])\n",
    "\n",
    "# Se calcula el r^2 score para ambos.\n",
    "r2_train = r2_score(y_train_array, y_train_preds)\n",
    "r2_test = r2_score(y_test_array, y_test_preds)\n",
    "\n",
    "# Se guardan los r2 en el historial.\n",
    "hist_r2_train.append(r2_train)\n",
    "hist_r2_test.append(r2_test)\n",
    "\n",
    "print(f'R2 entrenamiento: {round(r2_train,4)}\\nR2 prueba: {round(r2_test,4)}')"
   ]
  },
  {
   "cell_type": "code",
   "execution_count": 95,
   "metadata": {},
   "outputs": [
    {
     "data": {
      "text/plain": [
       "(0.8172, 0.8084)"
      ]
     },
     "execution_count": 95,
     "metadata": {},
     "output_type": "execute_result"
    }
   ],
   "source": [
    "round(np.mean(hist_r2_train),4), round(np.mean(hist_r2_test),4)"
   ]
  },
  {
   "attachments": {
    "imagen.png": {
     "image/png": "[encoded data removed]"
    }
   },
   "cell_type": "markdown",
   "metadata": {},
   "source": [
    "### Análisis de R^2\n",
    "\n",
    "Se corrió el modelo en repetidas ocaciones, y en cada iteración se guardó su R2, tanto para los valores predichos de entrenamiento, como para los de testeo. Ello en promedio resulto en un R2 de entrenamiento de 0.8172 y un R2 de prueba de 0.8084 (si no se observa en la columna de arriba es porque se perdieron los datos al volver a correr el modelo, se adjunta imagen comp prueba del experimento). Como se desea que el R2 sea cercano a 1, pues este explica qué tan bien se ajusta nuestro modelo respecto a un modelo promedio (hipotesis nula), se considera que con estos datos fue exitoso el experimento.\n",
    "![imagen.png](attachment:imagen.png)\n",
    "\n",
    "Por lo anterior, se concluye que para el modelo creado tiene un buen ajuste para los datos usados. En específico, como se trata de un caso de Machine Learning y de regresión lineal, tampoco se desea que los valores de R^2 sean demasiado altos debido a que puede haber un sobreajuste a los datos y, por tanto, no funcione muy bien el modelo para futuros datasets y predicciones. Estos valores de calidad igualmente pueden discutirse con las personas de negocio y entre los miembros del equipo y puede variar con el objetivo de cada experimento."
   ]
  },
  {
   "cell_type": "markdown",
   "metadata": {
    "id": "yFyLvqj7EWc3"
   },
   "source": [
    "## Gráfica de Resultados\n",
    "\n",
    "Primero se gráfica la función de error tal cual se recolectaron los datos en cada iteración. De esta no es posible extraer información importante a simple vista. Por ello, justo después, se puede observar una gráfica con el promedio móvil del error, cada 1000 iteraciones. "
   ]
  },
  {
   "cell_type": "code",
   "execution_count": 122,
   "metadata": {
    "id": "DabgJ9VEEWc3",
    "outputId": "99baeb21-1d79-4b04-e165-bc44227a443e",
    "scrolled": false
   },
   "outputs": [
    {
     "data": {
      "text/plain": [
       "Text(0.5, 1.0, 'Descenso de Gradiente Estocástico')"
      ]
     },
     "execution_count": 122,
     "metadata": {},
     "output_type": "execute_result"
    },
    {
     "data": {
      "image/png": "[encoded data removed]",
      "text/plain": [
       "<Figure size 1080x360 with 1 Axes>"
      ]
     },
     "metadata": {
      "needs_background": "light"
     },
     "output_type": "display_data"
    }
   ],
   "source": [
    "# Gráfica de los errores en las iteraciones\n",
    "plt.figure(figsize=(15,5))\n",
    "plt.plot(errores)\n",
    "plt.xlabel('# Iteraciones')\n",
    "plt.ylabel('Función de Error')\n",
    "plt.title('Descenso de Gradiente Estocástico')"
   ]
  },
  {
   "cell_type": "code",
   "execution_count": 123,
   "metadata": {},
   "outputs": [
    {
     "data": {
      "text/plain": [
       "Text(0.5, 1.0, 'Descenso de Gradiente Estocástico')"
      ]
     },
     "execution_count": 123,
     "metadata": {},
     "output_type": "execute_result"
    },
    {
     "data": {
      "image/png": "[encoded data removed]",
      "text/plain": [
       "<Figure size 1080x360 with 1 Axes>"
      ]
     },
     "metadata": {
      "needs_background": "light"
     },
     "output_type": "display_data"
    }
   ],
   "source": [
    "# Se calcula el promedio móvil\n",
    "rll_avg = pd.DataFrame(errores).rolling(1000).mean()\n",
    "\n",
    "# Se gráfica el resultado\n",
    "plt.figure(figsize=(15,5))\n",
    "plt.plot(rll_avg)\n",
    "plt.xlabel('# Iteraciones')\n",
    "plt.ylabel('Promedio Función de Error')\n",
    "plt.title('Descenso de Gradiente Estocástico')"
   ]
  },
  {
   "cell_type": "markdown",
   "metadata": {},
   "source": [
    "De esta gráfica si se puede observar que el error prómedio móvil disminuía a medida que las iteraciones de nuestro algoritmo, el cual era el objetivo al que se quería llegar. Además también es posible observar a raíz de ello que el algoritmo convergía y aumentaba en su precisión a medida que se desarrollaban sus iteraciones."
   ]
  },
  {
   "cell_type": "markdown",
   "metadata": {
    "id": "qCFkPvvgEWc3"
   },
   "source": [
    "#### Taller desarrollado por: Daniel Martinez y Santiago Estupiñan"
   ]
  },
  {
   "cell_type": "code",
   "execution_count": null,
   "metadata": {
    "id": "pI53VwLlEWc3"
   },
   "outputs": [],
   "source": []
  }
 ],
 "metadata": {
  "colab": {
   "name": "ML_hw1DanielMartinez_SantiagoEstupiñan.ipynb",
   "provenance": []
  },
  "kernelspec": {
   "display_name": "Python 3",
   "language": "python",
   "name": "python3"
  },
  "language_info": {
   "codemirror_mode": {
    "name": "ipython",
    "version": 3
   },
   "file_extension": ".py",
   "mimetype": "text/x-python",
   "name": "python",
   "nbconvert_exporter": "python",
   "pygments_lexer": "ipython3",
   "version": "3.8.10"
  }
 },
 "nbformat": 4,
 "nbformat_minor": 1
}
