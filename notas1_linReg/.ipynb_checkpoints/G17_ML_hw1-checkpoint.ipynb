{
 "cells": [
  {
   "cell_type": "markdown",
   "metadata": {
    "id": "4MlihUdSqnw7"
   },
   "source": [
    "# Regresión Lineal: Predicción de Precios de Autos\n",
    "\n",
    "Una tarea bastante común en el contexto de Machine Learning es la predicción de una variable según algunos descriptores. En esta ocasión partiremos de un dataset que involucra ocho variables (algunas numéricas, otras categóricas) y el precio de un automóvil, el cual se desea estimar empleando un modelo de regresión lineal.\n",
    "\n",
    "El objetivo de este cuaderno es que usted aprenda:\n",
    "- Algunas maneras de lidiar con descriptores categóricos no-numéricos.\n",
    "- Uso de la librería Pandas para manejar datos tabulares en formato .csv.\n",
    "- Uso de la librería Scikit Learn para preprocesamiento y entrenamiento de un modelo de regresión lineal.\n",
    "- Funcionamiento e implementación del algoritmo Descenso de Gradiente Estocástico para un modelo lineal básico.\n",
    "\n",
    "Debe completar las celdas vacías y seguir las instrucciones anotadas en el cuaderno.\n",
    "\n",
    "La fecha límite de entrega es el día **6 de septiembre** y se realizará a través de Bloque Neón."
   ]
  },
  {
   "cell_type": "code",
   "execution_count": 1,
   "metadata": {
    "id": "RVGZTqkDqnw_"
   },
   "outputs": [],
   "source": [
    "import numpy as np\n",
    "import pandas as pd\n",
    "\n",
    "import matplotlib.pyplot as plt\n",
    "from sklearn.metrics import mean_squared_error\n",
    "import sklearn\n",
    "from sklearn.preprocessing import OrdinalEncoder, MinMaxScaler, RobustScaler\n",
    "from sklearn.model_selection import train_test_split"
   ]
  },
  {
   "cell_type": "code",
   "execution_count": 2,
   "metadata": {
    "colab": {
     "base_uri": "https://localhost:8080/",
     "height": 204
    },
    "id": "rpr5ych3qnxB",
    "outputId": "2522b6a0-fc5f-4e73-f3b1-2c3015602d1c"
   },
   "outputs": [
    {
     "data": {
      "text/html": [
       "<div>\n",
       "<style scoped>\n",
       "    .dataframe tbody tr th:only-of-type {\n",
       "        vertical-align: middle;\n",
       "    }\n",
       "\n",
       "    .dataframe tbody tr th {\n",
       "        vertical-align: top;\n",
       "    }\n",
       "\n",
       "    .dataframe thead th {\n",
       "        text-align: right;\n",
       "    }\n",
       "</style>\n",
       "<table border=\"1\" class=\"dataframe\">\n",
       "  <thead>\n",
       "    <tr style=\"text-align: right;\">\n",
       "      <th></th>\n",
       "      <th>model</th>\n",
       "      <th>year</th>\n",
       "      <th>price</th>\n",
       "      <th>transmission</th>\n",
       "      <th>mileage</th>\n",
       "      <th>fuelType</th>\n",
       "      <th>tax</th>\n",
       "      <th>mpg</th>\n",
       "      <th>engineSize</th>\n",
       "    </tr>\n",
       "  </thead>\n",
       "  <tbody>\n",
       "    <tr>\n",
       "      <th>0</th>\n",
       "      <td>GT86</td>\n",
       "      <td>2016</td>\n",
       "      <td>16000</td>\n",
       "      <td>Manual</td>\n",
       "      <td>24089</td>\n",
       "      <td>Petrol</td>\n",
       "      <td>265</td>\n",
       "      <td>36.2</td>\n",
       "      <td>2.0</td>\n",
       "    </tr>\n",
       "    <tr>\n",
       "      <th>1</th>\n",
       "      <td>GT86</td>\n",
       "      <td>2017</td>\n",
       "      <td>15995</td>\n",
       "      <td>Manual</td>\n",
       "      <td>18615</td>\n",
       "      <td>Petrol</td>\n",
       "      <td>145</td>\n",
       "      <td>36.2</td>\n",
       "      <td>2.0</td>\n",
       "    </tr>\n",
       "    <tr>\n",
       "      <th>2</th>\n",
       "      <td>GT86</td>\n",
       "      <td>2015</td>\n",
       "      <td>13998</td>\n",
       "      <td>Manual</td>\n",
       "      <td>27469</td>\n",
       "      <td>Petrol</td>\n",
       "      <td>265</td>\n",
       "      <td>36.2</td>\n",
       "      <td>2.0</td>\n",
       "    </tr>\n",
       "    <tr>\n",
       "      <th>3</th>\n",
       "      <td>GT86</td>\n",
       "      <td>2017</td>\n",
       "      <td>18998</td>\n",
       "      <td>Manual</td>\n",
       "      <td>14736</td>\n",
       "      <td>Petrol</td>\n",
       "      <td>150</td>\n",
       "      <td>36.2</td>\n",
       "      <td>2.0</td>\n",
       "    </tr>\n",
       "    <tr>\n",
       "      <th>4</th>\n",
       "      <td>GT86</td>\n",
       "      <td>2017</td>\n",
       "      <td>17498</td>\n",
       "      <td>Manual</td>\n",
       "      <td>36284</td>\n",
       "      <td>Petrol</td>\n",
       "      <td>145</td>\n",
       "      <td>36.2</td>\n",
       "      <td>2.0</td>\n",
       "    </tr>\n",
       "  </tbody>\n",
       "</table>\n",
       "</div>"
      ],
      "text/plain": [
       "   model  year  price transmission  mileage fuelType  tax   mpg  engineSize\n",
       "0   GT86  2016  16000       Manual    24089   Petrol  265  36.2         2.0\n",
       "1   GT86  2017  15995       Manual    18615   Petrol  145  36.2         2.0\n",
       "2   GT86  2015  13998       Manual    27469   Petrol  265  36.2         2.0\n",
       "3   GT86  2017  18998       Manual    14736   Petrol  150  36.2         2.0\n",
       "4   GT86  2017  17498       Manual    36284   Petrol  145  36.2         2.0"
      ]
     },
     "execution_count": 2,
     "metadata": {},
     "output_type": "execute_result"
    }
   ],
   "source": [
    "df = pd.read_csv('carDataset/toyota.csv')\n",
    "df.head()"
   ]
  },
  {
   "cell_type": "code",
   "execution_count": 3,
   "metadata": {
    "colab": {
     "base_uri": "https://localhost:8080/"
    },
    "id": "rVIXj3ZUqnxB",
    "outputId": "4b0f81dd-e402-4410-e73e-82117fddad2b"
   },
   "outputs": [
    {
     "name": "stdout",
     "output_type": "stream",
     "text": [
      "<class 'pandas.core.frame.DataFrame'>\n",
      "RangeIndex: 6738 entries, 0 to 6737\n",
      "Data columns (total 9 columns):\n",
      " #   Column        Non-Null Count  Dtype  \n",
      "---  ------        --------------  -----  \n",
      " 0   model         6738 non-null   object \n",
      " 1   year          6738 non-null   int64  \n",
      " 2   price         6738 non-null   int64  \n",
      " 3   transmission  6738 non-null   object \n",
      " 4   mileage       6738 non-null   int64  \n",
      " 5   fuelType      6738 non-null   object \n",
      " 6   tax           6738 non-null   int64  \n",
      " 7   mpg           6738 non-null   float64\n",
      " 8   engineSize    6738 non-null   float64\n",
      "dtypes: float64(2), int64(4), object(3)\n",
      "memory usage: 473.9+ KB\n"
     ]
    }
   ],
   "source": [
    "df.info()"
   ]
  },
  {
   "cell_type": "markdown",
   "metadata": {
    "id": "TIAvzK5BqnxC"
   },
   "source": [
    "Podemos observar algunas categorías numéricas, y otras de tipo _object_ (string)."
   ]
  },
  {
   "cell_type": "code",
   "execution_count": 4,
   "metadata": {
    "id": "TMBwdexqqnxC"
   },
   "outputs": [],
   "source": [
    "categ = ['model','year','transmission','fuelType','engineSize']\n",
    "str_categ = ['model','transmission','fuelType']\n",
    "numer = ['price','mileage','tax','mpg']"
   ]
  },
  {
   "cell_type": "markdown",
   "metadata": {
    "id": "HdOSMmE0qnxD"
   },
   "source": [
    "## Parte 1\n",
    "\n",
    "A continuación se realizó el ajuste de los datos para un modelo de regresión lineal definido mediante la librería SciKit-Learn. Se observan dos métricas de precisión, en este caso Error Cuadrático Medio (RMSE) y $R^2$ (puede leer más sobre esta métrica en [ScikitLearn: r2_score](https://scikit-learn.org/stable/modules/generated/sklearn.metrics.r2_score.html)). Se le entregarán los dos primeros casos como ejemplo, usted debe implementar los demás a partir de estos primeros."
   ]
  },
  {
   "cell_type": "markdown",
   "metadata": {
    "id": "rsiBNsRmqnxD"
   },
   "source": [
    "#### Casos:\n",
    "\n",
    "- Caso 1: Codificación One-Hot (MinMaxScaler)\n",
    "- Caso 2: Codificación Ordinal (MinMaxScaler)\n",
    "- Caso 3: Codificación One-Hot (RobustScaler)\n",
    "- Caso 4: Codificación Ordinal (RobustScaler)\n",
    "- Caso 5: Entrenar con un 30% (Codificación Ordinal, MinMaxScaler)\n",
    "- Caso 6: Entrenar con un 55% (Codificación Ordinal, MinMaxScaler)\n",
    "- Caso 7: Entrenar con un 80% (Codificación Ordinal, MinMaxScaler)\n",
    "\n",
    "Analice los resultados."
   ]
  },
  {
   "cell_type": "markdown",
   "metadata": {
    "id": "a_tRdUpRqnxE"
   },
   "source": [
    "### Caso 1:"
   ]
  },
  {
   "cell_type": "markdown",
   "metadata": {
    "id": "qIGAVmadqnxF"
   },
   "source": [
    "#### Codificación One-Hot\n",
    "\n",
    "Una de las formas de codificar categorías no numéricas se conoce como _one-hot encoding_, en donde se crea una columna para cada valor distinto que exista en la característica que estamos codificando y, para cada registro, marcar con un 1 la columna a la que pertenezca dicho registro y dejar las demás con 0.\n",
    "\n",
    "Igualmente, en este caso se realizará un escalamiento de los datos utilizando un `MinMaxScaler`, investigue más sobre esta función en: [ScikitLearn: MinMaxScaler](https://scikit-learn.org/stable/modules/generated/sklearn.preprocessing.MinMaxScaler.html)."
   ]
  },
  {
   "cell_type": "code",
   "execution_count": 5,
   "metadata": {
    "colab": {
     "base_uri": "https://localhost:8080/",
     "height": 258
    },
    "id": "YWAJDxHDqnxF",
    "outputId": "c8cc2bca-c1f6-4827-c836-0e41fd17a48b",
    "scrolled": true
   },
   "outputs": [
    {
     "data": {
      "text/html": [
       "<div>\n",
       "<style scoped>\n",
       "    .dataframe tbody tr th:only-of-type {\n",
       "        vertical-align: middle;\n",
       "    }\n",
       "\n",
       "    .dataframe tbody tr th {\n",
       "        vertical-align: top;\n",
       "    }\n",
       "\n",
       "    .dataframe thead th {\n",
       "        text-align: right;\n",
       "    }\n",
       "</style>\n",
       "<table border=\"1\" class=\"dataframe\">\n",
       "  <thead>\n",
       "    <tr style=\"text-align: right;\">\n",
       "      <th></th>\n",
       "      <th>year</th>\n",
       "      <th>price</th>\n",
       "      <th>mileage</th>\n",
       "      <th>tax</th>\n",
       "      <th>mpg</th>\n",
       "      <th>engineSize</th>\n",
       "      <th>model_ Auris</th>\n",
       "      <th>model_ Avensis</th>\n",
       "      <th>model_ Aygo</th>\n",
       "      <th>model_ C-HR</th>\n",
       "      <th>...</th>\n",
       "      <th>model_ Verso-S</th>\n",
       "      <th>model_ Yaris</th>\n",
       "      <th>transmission_Automatic</th>\n",
       "      <th>transmission_Manual</th>\n",
       "      <th>transmission_Other</th>\n",
       "      <th>transmission_Semi-Auto</th>\n",
       "      <th>fuelType_Diesel</th>\n",
       "      <th>fuelType_Hybrid</th>\n",
       "      <th>fuelType_Other</th>\n",
       "      <th>fuelType_Petrol</th>\n",
       "    </tr>\n",
       "  </thead>\n",
       "  <tbody>\n",
       "    <tr>\n",
       "      <th>0</th>\n",
       "      <td>0.818182</td>\n",
       "      <td>0.256150</td>\n",
       "      <td>0.138100</td>\n",
       "      <td>0.469027</td>\n",
       "      <td>0.143842</td>\n",
       "      <td>0.444444</td>\n",
       "      <td>0.0</td>\n",
       "      <td>0.0</td>\n",
       "      <td>0.0</td>\n",
       "      <td>0.0</td>\n",
       "      <td>...</td>\n",
       "      <td>0.0</td>\n",
       "      <td>0.0</td>\n",
       "      <td>0.0</td>\n",
       "      <td>1.0</td>\n",
       "      <td>0.0</td>\n",
       "      <td>0.0</td>\n",
       "      <td>0.0</td>\n",
       "      <td>0.0</td>\n",
       "      <td>0.0</td>\n",
       "      <td>1.0</td>\n",
       "    </tr>\n",
       "    <tr>\n",
       "      <th>1</th>\n",
       "      <td>0.863636</td>\n",
       "      <td>0.256066</td>\n",
       "      <td>0.106716</td>\n",
       "      <td>0.256637</td>\n",
       "      <td>0.143842</td>\n",
       "      <td>0.444444</td>\n",
       "      <td>0.0</td>\n",
       "      <td>0.0</td>\n",
       "      <td>0.0</td>\n",
       "      <td>0.0</td>\n",
       "      <td>...</td>\n",
       "      <td>0.0</td>\n",
       "      <td>0.0</td>\n",
       "      <td>0.0</td>\n",
       "      <td>1.0</td>\n",
       "      <td>0.0</td>\n",
       "      <td>0.0</td>\n",
       "      <td>0.0</td>\n",
       "      <td>0.0</td>\n",
       "      <td>0.0</td>\n",
       "      <td>1.0</td>\n",
       "    </tr>\n",
       "    <tr>\n",
       "      <th>2</th>\n",
       "      <td>0.772727</td>\n",
       "      <td>0.222301</td>\n",
       "      <td>0.157479</td>\n",
       "      <td>0.469027</td>\n",
       "      <td>0.143842</td>\n",
       "      <td>0.444444</td>\n",
       "      <td>0.0</td>\n",
       "      <td>0.0</td>\n",
       "      <td>0.0</td>\n",
       "      <td>0.0</td>\n",
       "      <td>...</td>\n",
       "      <td>0.0</td>\n",
       "      <td>0.0</td>\n",
       "      <td>0.0</td>\n",
       "      <td>1.0</td>\n",
       "      <td>0.0</td>\n",
       "      <td>0.0</td>\n",
       "      <td>0.0</td>\n",
       "      <td>0.0</td>\n",
       "      <td>0.0</td>\n",
       "      <td>1.0</td>\n",
       "    </tr>\n",
       "    <tr>\n",
       "      <th>3</th>\n",
       "      <td>0.863636</td>\n",
       "      <td>0.306839</td>\n",
       "      <td>0.084476</td>\n",
       "      <td>0.265487</td>\n",
       "      <td>0.143842</td>\n",
       "      <td>0.444444</td>\n",
       "      <td>0.0</td>\n",
       "      <td>0.0</td>\n",
       "      <td>0.0</td>\n",
       "      <td>0.0</td>\n",
       "      <td>...</td>\n",
       "      <td>0.0</td>\n",
       "      <td>0.0</td>\n",
       "      <td>0.0</td>\n",
       "      <td>1.0</td>\n",
       "      <td>0.0</td>\n",
       "      <td>0.0</td>\n",
       "      <td>0.0</td>\n",
       "      <td>0.0</td>\n",
       "      <td>0.0</td>\n",
       "      <td>1.0</td>\n",
       "    </tr>\n",
       "    <tr>\n",
       "      <th>4</th>\n",
       "      <td>0.863636</td>\n",
       "      <td>0.281478</td>\n",
       "      <td>0.208019</td>\n",
       "      <td>0.256637</td>\n",
       "      <td>0.143842</td>\n",
       "      <td>0.444444</td>\n",
       "      <td>0.0</td>\n",
       "      <td>0.0</td>\n",
       "      <td>0.0</td>\n",
       "      <td>0.0</td>\n",
       "      <td>...</td>\n",
       "      <td>0.0</td>\n",
       "      <td>0.0</td>\n",
       "      <td>0.0</td>\n",
       "      <td>1.0</td>\n",
       "      <td>0.0</td>\n",
       "      <td>0.0</td>\n",
       "      <td>0.0</td>\n",
       "      <td>0.0</td>\n",
       "      <td>0.0</td>\n",
       "      <td>1.0</td>\n",
       "    </tr>\n",
       "  </tbody>\n",
       "</table>\n",
       "<p>5 rows × 32 columns</p>\n",
       "</div>"
      ],
      "text/plain": [
       "       year     price   mileage       tax       mpg  engineSize  model_ Auris  \\\n",
       "0  0.818182  0.256150  0.138100  0.469027  0.143842    0.444444           0.0   \n",
       "1  0.863636  0.256066  0.106716  0.256637  0.143842    0.444444           0.0   \n",
       "2  0.772727  0.222301  0.157479  0.469027  0.143842    0.444444           0.0   \n",
       "3  0.863636  0.306839  0.084476  0.265487  0.143842    0.444444           0.0   \n",
       "4  0.863636  0.281478  0.208019  0.256637  0.143842    0.444444           0.0   \n",
       "\n",
       "   model_ Avensis  model_ Aygo  model_ C-HR  ...  model_ Verso-S  \\\n",
       "0             0.0          0.0          0.0  ...             0.0   \n",
       "1             0.0          0.0          0.0  ...             0.0   \n",
       "2             0.0          0.0          0.0  ...             0.0   \n",
       "3             0.0          0.0          0.0  ...             0.0   \n",
       "4             0.0          0.0          0.0  ...             0.0   \n",
       "\n",
       "   model_ Yaris  transmission_Automatic  transmission_Manual  \\\n",
       "0           0.0                     0.0                  1.0   \n",
       "1           0.0                     0.0                  1.0   \n",
       "2           0.0                     0.0                  1.0   \n",
       "3           0.0                     0.0                  1.0   \n",
       "4           0.0                     0.0                  1.0   \n",
       "\n",
       "   transmission_Other  transmission_Semi-Auto  fuelType_Diesel  \\\n",
       "0                 0.0                     0.0              0.0   \n",
       "1                 0.0                     0.0              0.0   \n",
       "2                 0.0                     0.0              0.0   \n",
       "3                 0.0                     0.0              0.0   \n",
       "4                 0.0                     0.0              0.0   \n",
       "\n",
       "   fuelType_Hybrid  fuelType_Other  fuelType_Petrol  \n",
       "0              0.0             0.0              1.0  \n",
       "1              0.0             0.0              1.0  \n",
       "2              0.0             0.0              1.0  \n",
       "3              0.0             0.0              1.0  \n",
       "4              0.0             0.0              1.0  \n",
       "\n",
       "[5 rows x 32 columns]"
      ]
     },
     "execution_count": 5,
     "metadata": {},
     "output_type": "execute_result"
    }
   ],
   "source": [
    "df_ohe = pd.get_dummies(df)\n",
    "scaler = MinMaxScaler()\n",
    "df_scl_ohe = scaler.fit_transform(df_ohe)\n",
    "df_scl_ohe = pd.DataFrame(df_scl_ohe, columns = df_ohe.columns)\n",
    "df_scl_ohe.head()"
   ]
  },
  {
   "cell_type": "markdown",
   "metadata": {
    "id": "QwkTAFMnqnxG"
   },
   "source": [
    "#### Separación de Datos"
   ]
  },
  {
   "cell_type": "code",
   "execution_count": 6,
   "metadata": {
    "id": "egAJmEjxqnxG"
   },
   "outputs": [],
   "source": [
    "X = df_scl_ohe.drop(['price'], axis=1)\n",
    "y = df_scl_ohe['price']\n",
    "X_train, X_test, y_train, y_test = train_test_split(X, y, test_size=0.2, random_state=22)"
   ]
  },
  {
   "cell_type": "code",
   "execution_count": 7,
   "metadata": {
    "colab": {
     "base_uri": "https://localhost:8080/"
    },
    "id": "cHNjM3prqnxG",
    "outputId": "01fcae12-93b4-45f1-b086-d161ec373025"
   },
   "outputs": [
    {
     "name": "stdout",
     "output_type": "stream",
     "text": [
      "RMSE: 0.031\n",
      "R^2: 0.917\n",
      "\n"
     ]
    }
   ],
   "source": [
    "from sklearn.metrics import mean_squared_error, r2_score\n",
    "from sklearn.linear_model import LinearRegression\n",
    "\n",
    "model_1 = LinearRegression()\n",
    "\n",
    "model_1.fit(X_train, y_train)\n",
    "preds = model_1.predict(X_test)\n",
    "rmse = np.sqrt(mean_squared_error(y_test, preds))\n",
    "rs = model_1.score(X_test, y_test)\n",
    "print(f'RMSE: {round(rmse,3)}')\n",
    "print(f'R^2: {round(rs,3)}\\n')"
   ]
  },
  {
   "cell_type": "markdown",
   "metadata": {
    "id": "rXKiheoFqnxH"
   },
   "source": [
    "### Caso 2\n",
    "\n",
    "#### Codificación Ordinal"
   ]
  },
  {
   "cell_type": "code",
   "execution_count": 8,
   "metadata": {
    "colab": {
     "base_uri": "https://localhost:8080/",
     "height": 204
    },
    "id": "gWY4vMqvqnxH",
    "outputId": "f26dfcec-b687-4d2e-ee53-a0ff9f8f2687"
   },
   "outputs": [
    {
     "data": {
      "text/html": [
       "<div>\n",
       "<style scoped>\n",
       "    .dataframe tbody tr th:only-of-type {\n",
       "        vertical-align: middle;\n",
       "    }\n",
       "\n",
       "    .dataframe tbody tr th {\n",
       "        vertical-align: top;\n",
       "    }\n",
       "\n",
       "    .dataframe thead th {\n",
       "        text-align: right;\n",
       "    }\n",
       "</style>\n",
       "<table border=\"1\" class=\"dataframe\">\n",
       "  <thead>\n",
       "    <tr style=\"text-align: right;\">\n",
       "      <th></th>\n",
       "      <th>model</th>\n",
       "      <th>year</th>\n",
       "      <th>price</th>\n",
       "      <th>transmission</th>\n",
       "      <th>mileage</th>\n",
       "      <th>fuelType</th>\n",
       "      <th>tax</th>\n",
       "      <th>mpg</th>\n",
       "      <th>engineSize</th>\n",
       "    </tr>\n",
       "  </thead>\n",
       "  <tbody>\n",
       "    <tr>\n",
       "      <th>0</th>\n",
       "      <td>0.352941</td>\n",
       "      <td>0.818182</td>\n",
       "      <td>0.256150</td>\n",
       "      <td>0.333333</td>\n",
       "      <td>0.138100</td>\n",
       "      <td>1.0</td>\n",
       "      <td>0.469027</td>\n",
       "      <td>0.143842</td>\n",
       "      <td>0.444444</td>\n",
       "    </tr>\n",
       "    <tr>\n",
       "      <th>1</th>\n",
       "      <td>0.352941</td>\n",
       "      <td>0.863636</td>\n",
       "      <td>0.256066</td>\n",
       "      <td>0.333333</td>\n",
       "      <td>0.106716</td>\n",
       "      <td>1.0</td>\n",
       "      <td>0.256637</td>\n",
       "      <td>0.143842</td>\n",
       "      <td>0.444444</td>\n",
       "    </tr>\n",
       "    <tr>\n",
       "      <th>2</th>\n",
       "      <td>0.352941</td>\n",
       "      <td>0.772727</td>\n",
       "      <td>0.222301</td>\n",
       "      <td>0.333333</td>\n",
       "      <td>0.157479</td>\n",
       "      <td>1.0</td>\n",
       "      <td>0.469027</td>\n",
       "      <td>0.143842</td>\n",
       "      <td>0.444444</td>\n",
       "    </tr>\n",
       "    <tr>\n",
       "      <th>3</th>\n",
       "      <td>0.352941</td>\n",
       "      <td>0.863636</td>\n",
       "      <td>0.306839</td>\n",
       "      <td>0.333333</td>\n",
       "      <td>0.084476</td>\n",
       "      <td>1.0</td>\n",
       "      <td>0.265487</td>\n",
       "      <td>0.143842</td>\n",
       "      <td>0.444444</td>\n",
       "    </tr>\n",
       "    <tr>\n",
       "      <th>4</th>\n",
       "      <td>0.352941</td>\n",
       "      <td>0.863636</td>\n",
       "      <td>0.281478</td>\n",
       "      <td>0.333333</td>\n",
       "      <td>0.208019</td>\n",
       "      <td>1.0</td>\n",
       "      <td>0.256637</td>\n",
       "      <td>0.143842</td>\n",
       "      <td>0.444444</td>\n",
       "    </tr>\n",
       "  </tbody>\n",
       "</table>\n",
       "</div>"
      ],
      "text/plain": [
       "      model      year     price  transmission   mileage  fuelType       tax  \\\n",
       "0  0.352941  0.818182  0.256150      0.333333  0.138100       1.0  0.469027   \n",
       "1  0.352941  0.863636  0.256066      0.333333  0.106716       1.0  0.256637   \n",
       "2  0.352941  0.772727  0.222301      0.333333  0.157479       1.0  0.469027   \n",
       "3  0.352941  0.863636  0.306839      0.333333  0.084476       1.0  0.265487   \n",
       "4  0.352941  0.863636  0.281478      0.333333  0.208019       1.0  0.256637   \n",
       "\n",
       "        mpg  engineSize  \n",
       "0  0.143842    0.444444  \n",
       "1  0.143842    0.444444  \n",
       "2  0.143842    0.444444  \n",
       "3  0.143842    0.444444  \n",
       "4  0.143842    0.444444  "
      ]
     },
     "execution_count": 8,
     "metadata": {},
     "output_type": "execute_result"
    }
   ],
   "source": [
    "oe = OrdinalEncoder()\n",
    "df_oe = df.copy()\n",
    "df_oe[str_categ] = oe.fit_transform(df_oe[str_categ])\n",
    "\n",
    "x = df_oe.values #returns a numpy array\n",
    "min_max_scaler = MinMaxScaler()\n",
    "x_scaled = min_max_scaler.fit_transform(x)\n",
    "df_scl_oe = pd.DataFrame(x_scaled, columns=df_oe.columns)\n",
    "df_scl_oe.head()"
   ]
  },
  {
   "cell_type": "markdown",
   "metadata": {
    "id": "vO72minDqnxH"
   },
   "source": [
    "#### Separación de Datos"
   ]
  },
  {
   "cell_type": "code",
   "execution_count": 9,
   "metadata": {
    "colab": {
     "base_uri": "https://localhost:8080/"
    },
    "id": "cMw-su-oqnxI",
    "outputId": "01d510f0-ad5b-49df-a369-904d4dfd01eb",
    "scrolled": true
   },
   "outputs": [
    {
     "name": "stdout",
     "output_type": "stream",
     "text": [
      "         model      year  transmission   mileage  fuelType       tax  \\\n",
      "856   1.000000  0.727273      1.000000  0.209572       1.0  0.053097   \n",
      "4709  0.117647  0.772727      0.333333  0.206390       1.0  0.000000   \n",
      "2028  1.000000  0.909091      0.000000  0.084011       1.0  0.256637   \n",
      "3295  0.000000  0.909091      0.333333  0.111669       1.0  0.256637   \n",
      "924   1.000000  0.863636      0.333333  0.110557       1.0  0.256637   \n",
      "\n",
      "           mpg  engineSize  \n",
      "856   0.226529    0.288889  \n",
      "4709  0.285099    0.222222  \n",
      "2028  0.246770    0.333333  \n",
      "3295  0.213178    0.266667  \n",
      "924   0.231266    0.333333  \n"
     ]
    }
   ],
   "source": [
    "X = df_scl_oe.drop(['price'], axis=1)\n",
    "y = df_scl_oe['price']\n",
    "X_train, X_test, y_train, y_test = train_test_split(X, y, test_size=0.2, random_state=22)\n",
    "print(X_train.head())"
   ]
  },
  {
   "cell_type": "code",
   "execution_count": 10,
   "metadata": {
    "colab": {
     "base_uri": "https://localhost:8080/"
    },
    "id": "2Oa6vNuOqnxI",
    "outputId": "cd7de0e3-e652-4895-9636-e1a0f4232823"
   },
   "outputs": [
    {
     "name": "stdout",
     "output_type": "stream",
     "text": [
      "RMSE: 0.05\n",
      "R^2: 0.787\n",
      "\n"
     ]
    }
   ],
   "source": [
    "model_2 = LinearRegression()\n",
    "\n",
    "model_2.fit(X_train, y_train)\n",
    "preds = model_2.predict(X_test)\n",
    "rmse = np.sqrt(mean_squared_error(y_test, preds))\n",
    "rs = model_2.score(X_test, y_test)\n",
    "print(f'RMSE: {round(rmse,3)}')\n",
    "print(f'R^2: {round(rs,3)}\\n')"
   ]
  },
  {
   "cell_type": "markdown",
   "metadata": {
    "id": "QY6NqKyvqnxJ"
   },
   "source": [
    "### Caso 3\n",
    "\n",
    "#### Codificación One-Hot"
   ]
  },
  {
   "cell_type": "code",
   "execution_count": 11,
   "metadata": {
    "colab": {
     "base_uri": "https://localhost:8080/",
     "height": 258
    },
    "id": "0-djhU7pqnxJ",
    "outputId": "e5dc270d-e934-4f2a-ec7f-8270a5303ae9"
   },
   "outputs": [
    {
     "data": {
      "text/html": [
       "<div>\n",
       "<style scoped>\n",
       "    .dataframe tbody tr th:only-of-type {\n",
       "        vertical-align: middle;\n",
       "    }\n",
       "\n",
       "    .dataframe tbody tr th {\n",
       "        vertical-align: top;\n",
       "    }\n",
       "\n",
       "    .dataframe thead th {\n",
       "        text-align: right;\n",
       "    }\n",
       "</style>\n",
       "<table border=\"1\" class=\"dataframe\">\n",
       "  <thead>\n",
       "    <tr style=\"text-align: right;\">\n",
       "      <th></th>\n",
       "      <th>year</th>\n",
       "      <th>price</th>\n",
       "      <th>mileage</th>\n",
       "      <th>tax</th>\n",
       "      <th>mpg</th>\n",
       "      <th>engineSize</th>\n",
       "      <th>model_ Auris</th>\n",
       "      <th>model_ Avensis</th>\n",
       "      <th>model_ Aygo</th>\n",
       "      <th>model_ C-HR</th>\n",
       "      <th>...</th>\n",
       "      <th>model_ Verso-S</th>\n",
       "      <th>model_ Yaris</th>\n",
       "      <th>transmission_Automatic</th>\n",
       "      <th>transmission_Manual</th>\n",
       "      <th>transmission_Other</th>\n",
       "      <th>transmission_Semi-Auto</th>\n",
       "      <th>fuelType_Diesel</th>\n",
       "      <th>fuelType_Hybrid</th>\n",
       "      <th>fuelType_Other</th>\n",
       "      <th>fuelType_Petrol</th>\n",
       "    </tr>\n",
       "  </thead>\n",
       "  <tbody>\n",
       "    <tr>\n",
       "      <th>0</th>\n",
       "      <td>-0.5</td>\n",
       "      <td>0.776286</td>\n",
       "      <td>0.257936</td>\n",
       "      <td>0.896552</td>\n",
       "      <td>-1.955882</td>\n",
       "      <td>0.625</td>\n",
       "      <td>0.0</td>\n",
       "      <td>0.0</td>\n",
       "      <td>0.0</td>\n",
       "      <td>0.0</td>\n",
       "      <td>...</td>\n",
       "      <td>0.0</td>\n",
       "      <td>0.0</td>\n",
       "      <td>0.0</td>\n",
       "      <td>0.0</td>\n",
       "      <td>0.0</td>\n",
       "      <td>0.0</td>\n",
       "      <td>0.0</td>\n",
       "      <td>0.0</td>\n",
       "      <td>0.0</td>\n",
       "      <td>0.0</td>\n",
       "    </tr>\n",
       "    <tr>\n",
       "      <th>1</th>\n",
       "      <td>0.0</td>\n",
       "      <td>0.775541</td>\n",
       "      <td>0.004718</td>\n",
       "      <td>0.068966</td>\n",
       "      <td>-1.955882</td>\n",
       "      <td>0.625</td>\n",
       "      <td>0.0</td>\n",
       "      <td>0.0</td>\n",
       "      <td>0.0</td>\n",
       "      <td>0.0</td>\n",
       "      <td>...</td>\n",
       "      <td>0.0</td>\n",
       "      <td>0.0</td>\n",
       "      <td>0.0</td>\n",
       "      <td>0.0</td>\n",
       "      <td>0.0</td>\n",
       "      <td>0.0</td>\n",
       "      <td>0.0</td>\n",
       "      <td>0.0</td>\n",
       "      <td>0.0</td>\n",
       "      <td>0.0</td>\n",
       "    </tr>\n",
       "    <tr>\n",
       "      <th>2</th>\n",
       "      <td>-1.0</td>\n",
       "      <td>0.477703</td>\n",
       "      <td>0.414289</td>\n",
       "      <td>0.896552</td>\n",
       "      <td>-1.955882</td>\n",
       "      <td>0.625</td>\n",
       "      <td>0.0</td>\n",
       "      <td>0.0</td>\n",
       "      <td>0.0</td>\n",
       "      <td>0.0</td>\n",
       "      <td>...</td>\n",
       "      <td>0.0</td>\n",
       "      <td>0.0</td>\n",
       "      <td>0.0</td>\n",
       "      <td>0.0</td>\n",
       "      <td>0.0</td>\n",
       "      <td>0.0</td>\n",
       "      <td>0.0</td>\n",
       "      <td>0.0</td>\n",
       "      <td>0.0</td>\n",
       "      <td>0.0</td>\n",
       "    </tr>\n",
       "    <tr>\n",
       "      <th>3</th>\n",
       "      <td>0.0</td>\n",
       "      <td>1.223415</td>\n",
       "      <td>-0.174718</td>\n",
       "      <td>0.103448</td>\n",
       "      <td>-1.955882</td>\n",
       "      <td>0.625</td>\n",
       "      <td>0.0</td>\n",
       "      <td>0.0</td>\n",
       "      <td>0.0</td>\n",
       "      <td>0.0</td>\n",
       "      <td>...</td>\n",
       "      <td>0.0</td>\n",
       "      <td>0.0</td>\n",
       "      <td>0.0</td>\n",
       "      <td>0.0</td>\n",
       "      <td>0.0</td>\n",
       "      <td>0.0</td>\n",
       "      <td>0.0</td>\n",
       "      <td>0.0</td>\n",
       "      <td>0.0</td>\n",
       "      <td>0.0</td>\n",
       "    </tr>\n",
       "    <tr>\n",
       "      <th>4</th>\n",
       "      <td>0.0</td>\n",
       "      <td>0.999702</td>\n",
       "      <td>0.822056</td>\n",
       "      <td>0.068966</td>\n",
       "      <td>-1.955882</td>\n",
       "      <td>0.625</td>\n",
       "      <td>0.0</td>\n",
       "      <td>0.0</td>\n",
       "      <td>0.0</td>\n",
       "      <td>0.0</td>\n",
       "      <td>...</td>\n",
       "      <td>0.0</td>\n",
       "      <td>0.0</td>\n",
       "      <td>0.0</td>\n",
       "      <td>0.0</td>\n",
       "      <td>0.0</td>\n",
       "      <td>0.0</td>\n",
       "      <td>0.0</td>\n",
       "      <td>0.0</td>\n",
       "      <td>0.0</td>\n",
       "      <td>0.0</td>\n",
       "    </tr>\n",
       "  </tbody>\n",
       "</table>\n",
       "<p>5 rows × 32 columns</p>\n",
       "</div>"
      ],
      "text/plain": [
       "   year     price   mileage       tax       mpg  engineSize  model_ Auris  \\\n",
       "0  -0.5  0.776286  0.257936  0.896552 -1.955882       0.625           0.0   \n",
       "1   0.0  0.775541  0.004718  0.068966 -1.955882       0.625           0.0   \n",
       "2  -1.0  0.477703  0.414289  0.896552 -1.955882       0.625           0.0   \n",
       "3   0.0  1.223415 -0.174718  0.103448 -1.955882       0.625           0.0   \n",
       "4   0.0  0.999702  0.822056  0.068966 -1.955882       0.625           0.0   \n",
       "\n",
       "   model_ Avensis  model_ Aygo  model_ C-HR  ...  model_ Verso-S  \\\n",
       "0             0.0          0.0          0.0  ...             0.0   \n",
       "1             0.0          0.0          0.0  ...             0.0   \n",
       "2             0.0          0.0          0.0  ...             0.0   \n",
       "3             0.0          0.0          0.0  ...             0.0   \n",
       "4             0.0          0.0          0.0  ...             0.0   \n",
       "\n",
       "   model_ Yaris  transmission_Automatic  transmission_Manual  \\\n",
       "0           0.0                     0.0                  0.0   \n",
       "1           0.0                     0.0                  0.0   \n",
       "2           0.0                     0.0                  0.0   \n",
       "3           0.0                     0.0                  0.0   \n",
       "4           0.0                     0.0                  0.0   \n",
       "\n",
       "   transmission_Other  transmission_Semi-Auto  fuelType_Diesel  \\\n",
       "0                 0.0                     0.0              0.0   \n",
       "1                 0.0                     0.0              0.0   \n",
       "2                 0.0                     0.0              0.0   \n",
       "3                 0.0                     0.0              0.0   \n",
       "4                 0.0                     0.0              0.0   \n",
       "\n",
       "   fuelType_Hybrid  fuelType_Other  fuelType_Petrol  \n",
       "0              0.0             0.0              0.0  \n",
       "1              0.0             0.0              0.0  \n",
       "2              0.0             0.0              0.0  \n",
       "3              0.0             0.0              0.0  \n",
       "4              0.0             0.0              0.0  \n",
       "\n",
       "[5 rows x 32 columns]"
      ]
     },
     "execution_count": 11,
     "metadata": {},
     "output_type": "execute_result"
    }
   ],
   "source": [
    "df_ohe_2 = pd.get_dummies(df)\n",
    "robust_scaler = RobustScaler()\n",
    "df_scl_ohe_2 = robust_scaler.fit_transform(df_ohe_2)\n",
    "df_scl_ohe_2 = pd.DataFrame(df_scl_ohe_2, columns = df_ohe_2.columns)\n",
    "df_scl_ohe_2.head()"
   ]
  },
  {
   "cell_type": "markdown",
   "metadata": {
    "id": "H9FDqYdlqnxJ"
   },
   "source": [
    "#### Separación de Datos"
   ]
  },
  {
   "cell_type": "code",
   "execution_count": 12,
   "metadata": {
    "colab": {
     "base_uri": "https://localhost:8080/"
    },
    "id": "5ndxEB7jqnxJ",
    "outputId": "0a64fecc-876e-48e0-8d32-c50608c2a527",
    "scrolled": true
   },
   "outputs": [
    {
     "name": "stdout",
     "output_type": "stream",
     "text": [
      "RMSE: 0.277\n",
      "R^2: 0.917\n",
      "\n"
     ]
    }
   ],
   "source": [
    "X = df_scl_ohe_2.drop(['price'], axis=1)\n",
    "y = df_scl_ohe_2['price']\n",
    "X_train, X_test, y_train, y_test = train_test_split(X, y, test_size=0.2, random_state=22)\n",
    "\n",
    "model_3 = LinearRegression()\n",
    "\n",
    "model_3.fit(X_train, y_train)\n",
    "preds = model_3.predict(X_test)\n",
    "rmse = np.sqrt(mean_squared_error(y_test, preds))\n",
    "rs = model_3.score(X_test, y_test)\n",
    "print(f'RMSE: {round(rmse,3)}')\n",
    "print(f'R^2: {round(rs,3)}\\n')"
   ]
  },
  {
   "cell_type": "markdown",
   "metadata": {
    "id": "RCM6f3xfqnxK"
   },
   "source": [
    "### Caso 4\n",
    "\n",
    "#### Codificación Ordinal"
   ]
  },
  {
   "cell_type": "code",
   "execution_count": 13,
   "metadata": {
    "colab": {
     "base_uri": "https://localhost:8080/",
     "height": 204
    },
    "id": "SR13JqIyqnxK",
    "outputId": "ab4acd65-0adf-415f-a4c1-5dd24dc52d18"
   },
   "outputs": [
    {
     "data": {
      "text/html": [
       "<div>\n",
       "<style scoped>\n",
       "    .dataframe tbody tr th:only-of-type {\n",
       "        vertical-align: middle;\n",
       "    }\n",
       "\n",
       "    .dataframe tbody tr th {\n",
       "        vertical-align: top;\n",
       "    }\n",
       "\n",
       "    .dataframe thead th {\n",
       "        text-align: right;\n",
       "    }\n",
       "</style>\n",
       "<table border=\"1\" class=\"dataframe\">\n",
       "  <thead>\n",
       "    <tr style=\"text-align: right;\">\n",
       "      <th></th>\n",
       "      <th>model</th>\n",
       "      <th>year</th>\n",
       "      <th>price</th>\n",
       "      <th>transmission</th>\n",
       "      <th>mileage</th>\n",
       "      <th>fuelType</th>\n",
       "      <th>tax</th>\n",
       "      <th>mpg</th>\n",
       "      <th>engineSize</th>\n",
       "    </tr>\n",
       "  </thead>\n",
       "  <tbody>\n",
       "    <tr>\n",
       "      <th>0</th>\n",
       "      <td>0.066667</td>\n",
       "      <td>-0.5</td>\n",
       "      <td>0.776286</td>\n",
       "      <td>0.0</td>\n",
       "      <td>0.257936</td>\n",
       "      <td>0.0</td>\n",
       "      <td>0.896552</td>\n",
       "      <td>-1.955882</td>\n",
       "      <td>0.625</td>\n",
       "    </tr>\n",
       "    <tr>\n",
       "      <th>1</th>\n",
       "      <td>0.066667</td>\n",
       "      <td>0.0</td>\n",
       "      <td>0.775541</td>\n",
       "      <td>0.0</td>\n",
       "      <td>0.004718</td>\n",
       "      <td>0.0</td>\n",
       "      <td>0.068966</td>\n",
       "      <td>-1.955882</td>\n",
       "      <td>0.625</td>\n",
       "    </tr>\n",
       "    <tr>\n",
       "      <th>2</th>\n",
       "      <td>0.066667</td>\n",
       "      <td>-1.0</td>\n",
       "      <td>0.477703</td>\n",
       "      <td>0.0</td>\n",
       "      <td>0.414289</td>\n",
       "      <td>0.0</td>\n",
       "      <td>0.896552</td>\n",
       "      <td>-1.955882</td>\n",
       "      <td>0.625</td>\n",
       "    </tr>\n",
       "    <tr>\n",
       "      <th>3</th>\n",
       "      <td>0.066667</td>\n",
       "      <td>0.0</td>\n",
       "      <td>1.223415</td>\n",
       "      <td>0.0</td>\n",
       "      <td>-0.174718</td>\n",
       "      <td>0.0</td>\n",
       "      <td>0.103448</td>\n",
       "      <td>-1.955882</td>\n",
       "      <td>0.625</td>\n",
       "    </tr>\n",
       "    <tr>\n",
       "      <th>4</th>\n",
       "      <td>0.066667</td>\n",
       "      <td>0.0</td>\n",
       "      <td>0.999702</td>\n",
       "      <td>0.0</td>\n",
       "      <td>0.822056</td>\n",
       "      <td>0.0</td>\n",
       "      <td>0.068966</td>\n",
       "      <td>-1.955882</td>\n",
       "      <td>0.625</td>\n",
       "    </tr>\n",
       "  </tbody>\n",
       "</table>\n",
       "</div>"
      ],
      "text/plain": [
       "      model  year     price  transmission   mileage  fuelType       tax  \\\n",
       "0  0.066667  -0.5  0.776286           0.0  0.257936       0.0  0.896552   \n",
       "1  0.066667   0.0  0.775541           0.0  0.004718       0.0  0.068966   \n",
       "2  0.066667  -1.0  0.477703           0.0  0.414289       0.0  0.896552   \n",
       "3  0.066667   0.0  1.223415           0.0 -0.174718       0.0  0.103448   \n",
       "4  0.066667   0.0  0.999702           0.0  0.822056       0.0  0.068966   \n",
       "\n",
       "        mpg  engineSize  \n",
       "0 -1.955882       0.625  \n",
       "1 -1.955882       0.625  \n",
       "2 -1.955882       0.625  \n",
       "3 -1.955882       0.625  \n",
       "4 -1.955882       0.625  "
      ]
     },
     "execution_count": 13,
     "metadata": {},
     "output_type": "execute_result"
    }
   ],
   "source": [
    "oe_2 = OrdinalEncoder()\n",
    "df_oe_2 = df.copy()\n",
    "df_oe_2[str_categ] = oe_2.fit_transform(df_oe_2[str_categ])\n",
    "\n",
    "x_2 = df_oe_2.values\n",
    "robust_scaler_2 = RobustScaler()\n",
    "x_scaled_2 = robust_scaler_2.fit_transform(x_2)\n",
    "df_scl_oe_2 = pd.DataFrame(x_scaled_2, columns=df_oe_2.columns)\n",
    "df_scl_oe_2.head()"
   ]
  },
  {
   "cell_type": "markdown",
   "metadata": {
    "id": "27z7YbO8qnxK"
   },
   "source": [
    "#### Separación de Datos"
   ]
  },
  {
   "cell_type": "code",
   "execution_count": 14,
   "metadata": {
    "colab": {
     "base_uri": "https://localhost:8080/"
    },
    "id": "HHzKoqaPqnxK",
    "outputId": "0b0ec315-f9f7-498e-cd00-af008425e3e2",
    "scrolled": true
   },
   "outputs": [
    {
     "name": "stdout",
     "output_type": "stream",
     "text": [
      "RMSE: 0.444\n",
      "R^2: 0.787\n",
      "\n"
     ]
    }
   ],
   "source": [
    "X = df_scl_oe_2.drop(['price'], axis=1)\n",
    "y = df_scl_oe_2['price']\n",
    "X_train, X_test, y_train, y_test = train_test_split(X, y, test_size=0.2, random_state=22)\n",
    "\n",
    "model_4 = LinearRegression()\n",
    "\n",
    "model_4.fit(X_train, y_train)\n",
    "preds = model_4.predict(X_test)\n",
    "rmse = np.sqrt(mean_squared_error(y_test, preds))\n",
    "rs = model_4.score(X_test, y_test)\n",
    "print(f'RMSE: {round(rmse,3)}')\n",
    "print(f'R^2: {round(rs,3)}\\n')"
   ]
  },
  {
   "cell_type": "markdown",
   "metadata": {
    "id": "ci3ZvJajqnxK"
   },
   "source": [
    "### Caso 5\n",
    "\n",
    "#### Codificación Ordinal"
   ]
  },
  {
   "cell_type": "code",
   "execution_count": 15,
   "metadata": {
    "colab": {
     "base_uri": "https://localhost:8080/",
     "height": 204
    },
    "id": "JaDNqojMqnxL",
    "outputId": "2039544b-538f-4058-a00f-98d1371f051d"
   },
   "outputs": [
    {
     "data": {
      "text/html": [
       "<div>\n",
       "<style scoped>\n",
       "    .dataframe tbody tr th:only-of-type {\n",
       "        vertical-align: middle;\n",
       "    }\n",
       "\n",
       "    .dataframe tbody tr th {\n",
       "        vertical-align: top;\n",
       "    }\n",
       "\n",
       "    .dataframe thead th {\n",
       "        text-align: right;\n",
       "    }\n",
       "</style>\n",
       "<table border=\"1\" class=\"dataframe\">\n",
       "  <thead>\n",
       "    <tr style=\"text-align: right;\">\n",
       "      <th></th>\n",
       "      <th>model</th>\n",
       "      <th>year</th>\n",
       "      <th>price</th>\n",
       "      <th>transmission</th>\n",
       "      <th>mileage</th>\n",
       "      <th>fuelType</th>\n",
       "      <th>tax</th>\n",
       "      <th>mpg</th>\n",
       "      <th>engineSize</th>\n",
       "    </tr>\n",
       "  </thead>\n",
       "  <tbody>\n",
       "    <tr>\n",
       "      <th>0</th>\n",
       "      <td>0.352941</td>\n",
       "      <td>0.818182</td>\n",
       "      <td>0.256150</td>\n",
       "      <td>0.333333</td>\n",
       "      <td>0.138100</td>\n",
       "      <td>1.0</td>\n",
       "      <td>0.469027</td>\n",
       "      <td>0.143842</td>\n",
       "      <td>0.444444</td>\n",
       "    </tr>\n",
       "    <tr>\n",
       "      <th>1</th>\n",
       "      <td>0.352941</td>\n",
       "      <td>0.863636</td>\n",
       "      <td>0.256066</td>\n",
       "      <td>0.333333</td>\n",
       "      <td>0.106716</td>\n",
       "      <td>1.0</td>\n",
       "      <td>0.256637</td>\n",
       "      <td>0.143842</td>\n",
       "      <td>0.444444</td>\n",
       "    </tr>\n",
       "    <tr>\n",
       "      <th>2</th>\n",
       "      <td>0.352941</td>\n",
       "      <td>0.772727</td>\n",
       "      <td>0.222301</td>\n",
       "      <td>0.333333</td>\n",
       "      <td>0.157479</td>\n",
       "      <td>1.0</td>\n",
       "      <td>0.469027</td>\n",
       "      <td>0.143842</td>\n",
       "      <td>0.444444</td>\n",
       "    </tr>\n",
       "    <tr>\n",
       "      <th>3</th>\n",
       "      <td>0.352941</td>\n",
       "      <td>0.863636</td>\n",
       "      <td>0.306839</td>\n",
       "      <td>0.333333</td>\n",
       "      <td>0.084476</td>\n",
       "      <td>1.0</td>\n",
       "      <td>0.265487</td>\n",
       "      <td>0.143842</td>\n",
       "      <td>0.444444</td>\n",
       "    </tr>\n",
       "    <tr>\n",
       "      <th>4</th>\n",
       "      <td>0.352941</td>\n",
       "      <td>0.863636</td>\n",
       "      <td>0.281478</td>\n",
       "      <td>0.333333</td>\n",
       "      <td>0.208019</td>\n",
       "      <td>1.0</td>\n",
       "      <td>0.256637</td>\n",
       "      <td>0.143842</td>\n",
       "      <td>0.444444</td>\n",
       "    </tr>\n",
       "  </tbody>\n",
       "</table>\n",
       "</div>"
      ],
      "text/plain": [
       "      model      year     price  transmission   mileage  fuelType       tax  \\\n",
       "0  0.352941  0.818182  0.256150      0.333333  0.138100       1.0  0.469027   \n",
       "1  0.352941  0.863636  0.256066      0.333333  0.106716       1.0  0.256637   \n",
       "2  0.352941  0.772727  0.222301      0.333333  0.157479       1.0  0.469027   \n",
       "3  0.352941  0.863636  0.306839      0.333333  0.084476       1.0  0.265487   \n",
       "4  0.352941  0.863636  0.281478      0.333333  0.208019       1.0  0.256637   \n",
       "\n",
       "        mpg  engineSize  \n",
       "0  0.143842    0.444444  \n",
       "1  0.143842    0.444444  \n",
       "2  0.143842    0.444444  \n",
       "3  0.143842    0.444444  \n",
       "4  0.143842    0.444444  "
      ]
     },
     "execution_count": 15,
     "metadata": {},
     "output_type": "execute_result"
    }
   ],
   "source": [
    "oe_5 = OrdinalEncoder()\n",
    "df_oe_5 = df.copy()\n",
    "df_oe_5[str_categ] = oe_5.fit_transform(df_oe_5[str_categ])\n",
    "\n",
    "x_5 = df_oe_5.values #returns a numpy array\n",
    "min_max_scaler_5 = MinMaxScaler()\n",
    "x_scaled_5 = min_max_scaler_5.fit_transform(x_5)\n",
    "df_scl_oe_5 = pd.DataFrame(x_scaled_5, columns=df_oe_5.columns)\n",
    "df_scl_oe_5.head()"
   ]
  },
  {
   "cell_type": "markdown",
   "metadata": {
    "id": "AtkMwSH_qnxL"
   },
   "source": [
    "#### Separación de Datos"
   ]
  },
  {
   "cell_type": "code",
   "execution_count": 16,
   "metadata": {
    "colab": {
     "base_uri": "https://localhost:8080/"
    },
    "id": "4svBQPYmqnxL",
    "outputId": "10457803-e083-4a90-d001-a279b140b3f8",
    "scrolled": true
   },
   "outputs": [
    {
     "name": "stdout",
     "output_type": "stream",
     "text": [
      "RMSE: 0.049\n",
      "R^2: 0.785\n",
      "\n"
     ]
    }
   ],
   "source": [
    "X = df_scl_oe_5.drop(['price'], axis=1)\n",
    "y = df_scl_oe_5['price']\n",
    "X_train, X_test, y_train, y_test = train_test_split(X, y, test_size=0.7, random_state=22)\n",
    "\n",
    "model_5 = LinearRegression()\n",
    "\n",
    "model_5.fit(X_train, y_train)\n",
    "preds = model_5.predict(X_test)\n",
    "rmse = np.sqrt(mean_squared_error(y_test, preds))\n",
    "rs = model_5.score(X_test, y_test)\n",
    "print(f'RMSE: {round(rmse,3)}')\n",
    "print(f'R^2: {round(rs,3)}\\n')"
   ]
  },
  {
   "cell_type": "markdown",
   "metadata": {
    "id": "Pj3LIKPzqnxL"
   },
   "source": [
    "### Caso 6\n",
    "\n",
    "#### Codificación Ordinal"
   ]
  },
  {
   "cell_type": "code",
   "execution_count": 17,
   "metadata": {
    "colab": {
     "base_uri": "https://localhost:8080/",
     "height": 204
    },
    "id": "-9_4g8AUqnxL",
    "outputId": "657a7963-9958-48f6-b218-95cc8dc3b8e6"
   },
   "outputs": [
    {
     "data": {
      "text/html": [
       "<div>\n",
       "<style scoped>\n",
       "    .dataframe tbody tr th:only-of-type {\n",
       "        vertical-align: middle;\n",
       "    }\n",
       "\n",
       "    .dataframe tbody tr th {\n",
       "        vertical-align: top;\n",
       "    }\n",
       "\n",
       "    .dataframe thead th {\n",
       "        text-align: right;\n",
       "    }\n",
       "</style>\n",
       "<table border=\"1\" class=\"dataframe\">\n",
       "  <thead>\n",
       "    <tr style=\"text-align: right;\">\n",
       "      <th></th>\n",
       "      <th>model</th>\n",
       "      <th>year</th>\n",
       "      <th>price</th>\n",
       "      <th>transmission</th>\n",
       "      <th>mileage</th>\n",
       "      <th>fuelType</th>\n",
       "      <th>tax</th>\n",
       "      <th>mpg</th>\n",
       "      <th>engineSize</th>\n",
       "    </tr>\n",
       "  </thead>\n",
       "  <tbody>\n",
       "    <tr>\n",
       "      <th>0</th>\n",
       "      <td>0.352941</td>\n",
       "      <td>0.818182</td>\n",
       "      <td>0.256150</td>\n",
       "      <td>0.333333</td>\n",
       "      <td>0.138100</td>\n",
       "      <td>1.0</td>\n",
       "      <td>0.469027</td>\n",
       "      <td>0.143842</td>\n",
       "      <td>0.444444</td>\n",
       "    </tr>\n",
       "    <tr>\n",
       "      <th>1</th>\n",
       "      <td>0.352941</td>\n",
       "      <td>0.863636</td>\n",
       "      <td>0.256066</td>\n",
       "      <td>0.333333</td>\n",
       "      <td>0.106716</td>\n",
       "      <td>1.0</td>\n",
       "      <td>0.256637</td>\n",
       "      <td>0.143842</td>\n",
       "      <td>0.444444</td>\n",
       "    </tr>\n",
       "    <tr>\n",
       "      <th>2</th>\n",
       "      <td>0.352941</td>\n",
       "      <td>0.772727</td>\n",
       "      <td>0.222301</td>\n",
       "      <td>0.333333</td>\n",
       "      <td>0.157479</td>\n",
       "      <td>1.0</td>\n",
       "      <td>0.469027</td>\n",
       "      <td>0.143842</td>\n",
       "      <td>0.444444</td>\n",
       "    </tr>\n",
       "    <tr>\n",
       "      <th>3</th>\n",
       "      <td>0.352941</td>\n",
       "      <td>0.863636</td>\n",
       "      <td>0.306839</td>\n",
       "      <td>0.333333</td>\n",
       "      <td>0.084476</td>\n",
       "      <td>1.0</td>\n",
       "      <td>0.265487</td>\n",
       "      <td>0.143842</td>\n",
       "      <td>0.444444</td>\n",
       "    </tr>\n",
       "    <tr>\n",
       "      <th>4</th>\n",
       "      <td>0.352941</td>\n",
       "      <td>0.863636</td>\n",
       "      <td>0.281478</td>\n",
       "      <td>0.333333</td>\n",
       "      <td>0.208019</td>\n",
       "      <td>1.0</td>\n",
       "      <td>0.256637</td>\n",
       "      <td>0.143842</td>\n",
       "      <td>0.444444</td>\n",
       "    </tr>\n",
       "  </tbody>\n",
       "</table>\n",
       "</div>"
      ],
      "text/plain": [
       "      model      year     price  transmission   mileage  fuelType       tax  \\\n",
       "0  0.352941  0.818182  0.256150      0.333333  0.138100       1.0  0.469027   \n",
       "1  0.352941  0.863636  0.256066      0.333333  0.106716       1.0  0.256637   \n",
       "2  0.352941  0.772727  0.222301      0.333333  0.157479       1.0  0.469027   \n",
       "3  0.352941  0.863636  0.306839      0.333333  0.084476       1.0  0.265487   \n",
       "4  0.352941  0.863636  0.281478      0.333333  0.208019       1.0  0.256637   \n",
       "\n",
       "        mpg  engineSize  \n",
       "0  0.143842    0.444444  \n",
       "1  0.143842    0.444444  \n",
       "2  0.143842    0.444444  \n",
       "3  0.143842    0.444444  \n",
       "4  0.143842    0.444444  "
      ]
     },
     "execution_count": 17,
     "metadata": {},
     "output_type": "execute_result"
    }
   ],
   "source": [
    "oe_6 = OrdinalEncoder()\n",
    "df_oe_6 = df.copy()\n",
    "df_oe_6[str_categ] = oe_6.fit_transform(df_oe_6[str_categ])\n",
    "\n",
    "x_6 = df_oe_6.values #returns a numpy array\n",
    "min_max_scaler_6 = MinMaxScaler()\n",
    "x_scaled_6 = min_max_scaler_6.fit_transform(x_6)\n",
    "df_scl_oe_6 = pd.DataFrame(x_scaled_6, columns=df_oe_6.columns)\n",
    "df_scl_oe_6.head()"
   ]
  },
  {
   "cell_type": "markdown",
   "metadata": {
    "id": "SEujd62lqnxL"
   },
   "source": [
    "#### Separación de Datos"
   ]
  },
  {
   "cell_type": "code",
   "execution_count": 18,
   "metadata": {
    "colab": {
     "base_uri": "https://localhost:8080/"
    },
    "id": "B3OcYqiCqnxM",
    "outputId": "812fce25-6ce7-4e0f-bca3-2bb90da5e88a",
    "scrolled": true
   },
   "outputs": [
    {
     "name": "stdout",
     "output_type": "stream",
     "text": [
      "RMSE: 0.05\n",
      "R^2: 0.784\n",
      "\n"
     ]
    }
   ],
   "source": [
    "X = df_scl_oe_6.drop(['price'], axis=1)\n",
    "y = df_scl_oe_6['price']\n",
    "X_train, X_test, y_train, y_test = train_test_split(X, y, test_size=0.45, random_state=22)\n",
    "\n",
    "model_6 = LinearRegression()\n",
    "\n",
    "model_6.fit(X_train, y_train)\n",
    "preds = model_6.predict(X_test)\n",
    "rmse = np.sqrt(mean_squared_error(y_test, preds))\n",
    "rs = model_6.score(X_test, y_test)\n",
    "print(f'RMSE: {round(rmse,3)}')\n",
    "print(f'R^2: {round(rs,3)}\\n')"
   ]
  },
  {
   "cell_type": "markdown",
   "metadata": {
    "id": "LaQFZJy7qnxM"
   },
   "source": [
    "### Caso 7\n",
    "\n",
    "#### Codificación Ordinal"
   ]
  },
  {
   "cell_type": "code",
   "execution_count": 19,
   "metadata": {
    "colab": {
     "base_uri": "https://localhost:8080/",
     "height": 204
    },
    "id": "s-7vo4EBqnxM",
    "outputId": "b1ba949f-41ef-47b6-eab8-2322618b9334"
   },
   "outputs": [
    {
     "data": {
      "text/html": [
       "<div>\n",
       "<style scoped>\n",
       "    .dataframe tbody tr th:only-of-type {\n",
       "        vertical-align: middle;\n",
       "    }\n",
       "\n",
       "    .dataframe tbody tr th {\n",
       "        vertical-align: top;\n",
       "    }\n",
       "\n",
       "    .dataframe thead th {\n",
       "        text-align: right;\n",
       "    }\n",
       "</style>\n",
       "<table border=\"1\" class=\"dataframe\">\n",
       "  <thead>\n",
       "    <tr style=\"text-align: right;\">\n",
       "      <th></th>\n",
       "      <th>model</th>\n",
       "      <th>year</th>\n",
       "      <th>price</th>\n",
       "      <th>transmission</th>\n",
       "      <th>mileage</th>\n",
       "      <th>fuelType</th>\n",
       "      <th>tax</th>\n",
       "      <th>mpg</th>\n",
       "      <th>engineSize</th>\n",
       "    </tr>\n",
       "  </thead>\n",
       "  <tbody>\n",
       "    <tr>\n",
       "      <th>0</th>\n",
       "      <td>0.352941</td>\n",
       "      <td>0.818182</td>\n",
       "      <td>0.256150</td>\n",
       "      <td>0.333333</td>\n",
       "      <td>0.138100</td>\n",
       "      <td>1.0</td>\n",
       "      <td>0.469027</td>\n",
       "      <td>0.143842</td>\n",
       "      <td>0.444444</td>\n",
       "    </tr>\n",
       "    <tr>\n",
       "      <th>1</th>\n",
       "      <td>0.352941</td>\n",
       "      <td>0.863636</td>\n",
       "      <td>0.256066</td>\n",
       "      <td>0.333333</td>\n",
       "      <td>0.106716</td>\n",
       "      <td>1.0</td>\n",
       "      <td>0.256637</td>\n",
       "      <td>0.143842</td>\n",
       "      <td>0.444444</td>\n",
       "    </tr>\n",
       "    <tr>\n",
       "      <th>2</th>\n",
       "      <td>0.352941</td>\n",
       "      <td>0.772727</td>\n",
       "      <td>0.222301</td>\n",
       "      <td>0.333333</td>\n",
       "      <td>0.157479</td>\n",
       "      <td>1.0</td>\n",
       "      <td>0.469027</td>\n",
       "      <td>0.143842</td>\n",
       "      <td>0.444444</td>\n",
       "    </tr>\n",
       "    <tr>\n",
       "      <th>3</th>\n",
       "      <td>0.352941</td>\n",
       "      <td>0.863636</td>\n",
       "      <td>0.306839</td>\n",
       "      <td>0.333333</td>\n",
       "      <td>0.084476</td>\n",
       "      <td>1.0</td>\n",
       "      <td>0.265487</td>\n",
       "      <td>0.143842</td>\n",
       "      <td>0.444444</td>\n",
       "    </tr>\n",
       "    <tr>\n",
       "      <th>4</th>\n",
       "      <td>0.352941</td>\n",
       "      <td>0.863636</td>\n",
       "      <td>0.281478</td>\n",
       "      <td>0.333333</td>\n",
       "      <td>0.208019</td>\n",
       "      <td>1.0</td>\n",
       "      <td>0.256637</td>\n",
       "      <td>0.143842</td>\n",
       "      <td>0.444444</td>\n",
       "    </tr>\n",
       "  </tbody>\n",
       "</table>\n",
       "</div>"
      ],
      "text/plain": [
       "      model      year     price  transmission   mileage  fuelType       tax  \\\n",
       "0  0.352941  0.818182  0.256150      0.333333  0.138100       1.0  0.469027   \n",
       "1  0.352941  0.863636  0.256066      0.333333  0.106716       1.0  0.256637   \n",
       "2  0.352941  0.772727  0.222301      0.333333  0.157479       1.0  0.469027   \n",
       "3  0.352941  0.863636  0.306839      0.333333  0.084476       1.0  0.265487   \n",
       "4  0.352941  0.863636  0.281478      0.333333  0.208019       1.0  0.256637   \n",
       "\n",
       "        mpg  engineSize  \n",
       "0  0.143842    0.444444  \n",
       "1  0.143842    0.444444  \n",
       "2  0.143842    0.444444  \n",
       "3  0.143842    0.444444  \n",
       "4  0.143842    0.444444  "
      ]
     },
     "execution_count": 19,
     "metadata": {},
     "output_type": "execute_result"
    }
   ],
   "source": [
    "oe_7 = OrdinalEncoder()\n",
    "df_oe_7 = df.copy()\n",
    "df_oe_7[str_categ] = oe_7.fit_transform(df_oe_7[str_categ])\n",
    "\n",
    "x_7 = df_oe_7.values #returns a numpy array\n",
    "min_max_scaler_7 = MinMaxScaler()\n",
    "x_scaled_7 = min_max_scaler_7.fit_transform(x_7)\n",
    "df_scl_oe_7 = pd.DataFrame(x_scaled_7, columns=df_oe_7.columns)\n",
    "df_scl_oe_7.head()"
   ]
  },
  {
   "cell_type": "markdown",
   "metadata": {
    "id": "qtlnN_e7qnxM"
   },
   "source": [
    "#### Separación de Datos"
   ]
  },
  {
   "cell_type": "code",
   "execution_count": 20,
   "metadata": {
    "colab": {
     "base_uri": "https://localhost:8080/"
    },
    "id": "uNN1WOZbqnxM",
    "outputId": "3b98675e-c185-4869-de23-5110c5f0f09f",
    "scrolled": true
   },
   "outputs": [
    {
     "name": "stdout",
     "output_type": "stream",
     "text": [
      "RMSE: 0.05\n",
      "R^2: 0.787\n",
      "\n"
     ]
    }
   ],
   "source": [
    "X = df_scl_oe_7.drop(['price'], axis=1)\n",
    "y = df_scl_oe_7['price']\n",
    "X_train, X_test, y_train, y_test = train_test_split(X, y, test_size=0.2, random_state=22)\n",
    "\n",
    "model_7 = LinearRegression()\n",
    "\n",
    "model_7.fit(X_train, y_train)\n",
    "preds = model_7.predict(X_test)\n",
    "rmse = np.sqrt(mean_squared_error(y_test, preds))\n",
    "rs = model_7.score(X_test, y_test)\n",
    "print(f'RMSE: {round(rmse,3)}')\n",
    "print(f'R^2: {round(rs,3)}\\n')"
   ]
  },
  {
   "cell_type": "markdown",
   "metadata": {
    "id": "rx4X0ceyqnxN"
   },
   "source": [
    "## Parte 2\n",
    "\n",
    "Ahora usted debe desarrollar su propia implementación del método Descenso de Gradiente estocástico. Para esta ocasión debe utilizar una codificación One-Hot, un RobustScaler y realizar el entrenamiento a partir del 80% de los datos. Al final del entrenamiento, en la lista `errores` se deben tener los valores de la función de error para cada iteración y así poder observar el progreso gráficamente."
   ]
  },
  {
   "cell_type": "code",
   "execution_count": 21,
   "metadata": {
    "id": "suIUQomeqnxN"
   },
   "outputs": [],
   "source": [
    "df_ohe = pd.get_dummies(df)\n",
    "scaler = RobustScaler()\n",
    "df_scl_ohe = scaler.fit_transform(df_ohe)\n",
    "df_scl_ohe = pd.DataFrame(df_scl_ohe, columns = df_ohe.columns)\n",
    "\n",
    "X = df_scl_ohe.drop(['price'], axis=1)\n",
    "y = df_scl_ohe['price']\n",
    "X_train, X_test, y_train, y_test = train_test_split(X, y, test_size=0.2, random_state=22)"
   ]
  },
  {
   "cell_type": "code",
   "execution_count": null,
   "metadata": {
    "colab": {
     "base_uri": "https://localhost:8080/"
    },
    "id": "1cCVZVUKxEZ5",
    "outputId": "ca1e8ef1-f9f2-4769-d2a4-68f4d528dd36"
   },
   "outputs": [],
   "source": [
    "X_train_array = np.c_[np.ones(X_train.values.shape[0]), X_train.values]\n",
    "y_train_array = y_train.values\n",
    "X_test_array = np.c_[np.ones(X_test.values.shape[0]), X_test.values]\n",
    "y_test_array = y_test.values\n",
    "\n",
    "a=np.random.rand(len(X_train_array[0]))\n",
    "b=X_train_array[0]\n",
    "print(np.transpose(a))\n",
    "print(np.transpose(b))\n",
    "print(np.dot(a,b))\n",
    "rta=0\n",
    "for i in range(9):\n",
    "  rta+=a[i]*b[i]\n",
    "print(rta)\n",
    "print(a)\n",
    "print(b)\n",
    "print(b.reshape((1,9)))\n",
    "#print(np.dot())"
   ]
  },
  {
   "cell_type": "code",
   "execution_count": null,
   "metadata": {
    "colab": {
     "base_uri": "https://localhost:8080/"
    },
    "id": "l-w8nbQ-qnxN",
    "outputId": "7ec1f588-a136-44d5-9345-59fbaa93d12c",
    "scrolled": true
   },
   "outputs": [],
   "source": [
    "X_train_array = np.c_[np.ones(X_train.values.shape[0]), X_train.values]\n",
    "y_train_array = y_train.values\n",
    "X_test_array = np.c_[np.ones(X_test.values.shape[0]), X_test.values]\n",
    "y_test_array = y_test.values\n",
    "\n",
    "#Inicialización de w\n",
    "w0 = np.random.rand(len(X_train_array[0])) # Inicializar aleatoriamente #\n",
    "w = w0.copy()\n",
    "#Selección de par aleatorio\n",
    "i = round(np.random.rand()*len(X_train_array))-1\n",
    "xActual = X_train_array[i]\n",
    "yActual = y_train_array[i]\n",
    "#Inicialización de criterio de parada\n",
    "eps = 1e-6 # Se define un criterio de parada basado en el error en la predicción #\n",
    "error = float('inf') # Valor inicial, se debe actualizar en cada iteración #\n",
    "dif = float('inf') # Diferencia entre vectores de pesos w consecutivos #\n",
    "#Inicialización de valor de la tasa de aprendizaje \n",
    "tasa = 0.1 # Selección de tasa de aprendizaje #\n",
    "#Lista para monitorear aprendizaje\n",
    "errores = [] # Agregar a esta lista los valores de la función de error en cada iteración #\n",
    "\n",
    "#Ciclo iterativo según algoritmo de descenso de gradiente\n",
    "a=0\n",
    "while dif>eps:\n",
    "    # Desarrollo de algoritmo #\n",
    "    dE=(np.dot(w,xActual)-yActual)*xActual\n",
    "    errores.append(yActual-np.dot(w,xActual))\n",
    "    w=w0-tasa*dE\n",
    "    dif=abs(np.linalg.norm(np.array(w)-np.array(w0)))\n",
    "    w0=np.copy(w)\n",
    "    i = round(np.random.rand()*len(X_train_array))-1\n",
    "    xActual = X_train_array[i]\n",
    "    yActual = y_train_array[i]\n",
    "    print(a,errores[a])\n",
    "    #print(w,xActual)\n",
    "    a+=1\n",
    "print(\"acabe\")"
   ]
  },
  {
   "cell_type": "markdown",
   "metadata": {
    "id": "qAXQtXXrqnxN"
   },
   "source": [
    "#### Evaluación de Modelo"
   ]
  },
  {
   "cell_type": "code",
   "execution_count": null,
   "metadata": {
    "colab": {
     "base_uri": "https://localhost:8080/"
    },
    "id": "xaeGj8tNqnxO",
    "outputId": "81c63fbc-5aa1-4cfa-ae43-cb3aa8eac9ee"
   },
   "outputs": [],
   "source": [
    "y_train_preds = np.zeros(y_train_array.shape)\n",
    "for i in range(X_train_array.shape[0]):\n",
    "    y_train_preds[i] = np.dot(w,X_train_array[i])\n",
    "\n",
    "y_test_preds = np.zeros(y_test_array.shape)\n",
    "for i in range(X_test_array.shape[0]):\n",
    "    y_test_preds[i] = np.dot(w,X_test_array[i])\n",
    "    \n",
    "r2_train = r2_score(y_train_array, y_train_preds)\n",
    "r2_test = r2_score(y_test_array, y_test_preds)\n",
    "print(f'R2 entrenamiento: {round(r2_train,4)}\\nR2 prueba: {round(r2_test,4)}')"
   ]
  },
  {
   "cell_type": "markdown",
   "metadata": {
    "id": "KgHz6MC-qnxO"
   },
   "source": [
    "## Gráfica de Resultados"
   ]
  },
  {
   "cell_type": "code",
   "execution_count": null,
   "metadata": {
    "colab": {
     "base_uri": "https://localhost:8080/",
     "height": 367
    },
    "id": "9XtaRQeEqnxO",
    "outputId": "a88b7be1-676e-4e01-d743-9101fa4998a6"
   },
   "outputs": [],
   "source": [
    "plt.figure(figsize=(15,5))\n",
    "plt.plot(errores)\n",
    "plt.xlabel('# Iteraciones')\n",
    "plt.ylabel('Función de Error')\n",
    "plt.title('Descenso de Gradiente Estocástico')"
   ]
  },
  {
   "cell_type": "markdown",
   "metadata": {
    "id": "TTt7TYz5Raz1"
   },
   "source": [
    "En los resultados se puede observar una R de 0.6621 para el entrenamiento y de 0.6732 para la prueba, un R mayor a 0.5, lo que indica que existe relación lineal entre las variables utilizadas. Además en la gráfica se observa que la curva de ganancia es buena, debido a que el error baja rápidamente a valores cercanos a 0 y se mantiene oscilando hasta llegar a el valor que se especificó con la variable eps."
   ]
  },
  {
   "cell_type": "code",
   "execution_count": null,
   "metadata": {
    "id": "PbhYmryIqnxO"
   },
   "outputs": [],
   "source": []
  }
 ],
 "metadata": {
  "colab": {
   "collapsed_sections": [],
   "name": "ML_hw1.ipynb",
   "provenance": []
  },
  "kernelspec": {
   "display_name": "Python 3",
   "language": "python",
   "name": "python3"
  },
  "language_info": {
   "codemirror_mode": {
    "name": "ipython",
    "version": 3
   },
   "file_extension": ".py",
   "mimetype": "text/x-python",
   "name": "python",
   "nbconvert_exporter": "python",
   "pygments_lexer": "ipython3",
   "version": "3.8.10"
  }
 },
 "nbformat": 4,
 "nbformat_minor": 1
}
