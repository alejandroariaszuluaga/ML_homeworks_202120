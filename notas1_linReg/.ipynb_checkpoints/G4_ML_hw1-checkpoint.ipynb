{
 "cells": [
  {
   "cell_type": "markdown",
   "metadata": {},
   "source": [
    "# Regresión Lineal: Predicción de Precios de Autos\n",
    "\n",
    "Una tarea bastante común en el contexto de Machine Learning es la predicción de una variable según algunos descriptores. En esta ocasión partiremos de un dataset que involucra ocho variables (algunas numéricas, otras categóricas) y el precio de un automóvil, el cual se desea estimar empleando un modelo de regresión lineal.\n",
    "\n",
    "El objetivo de este cuaderno es que usted aprenda:\n",
    "- Algunas maneras de lidiar con descriptores categóricos no-numéricos.\n",
    "- Uso de la librería Pandas para manejar datos tabulares en formato .csv.\n",
    "- Uso de la librería Scikit Learn para preprocesamiento y entrenamiento de un modelo de regresión lineal.\n",
    "- Funcionamiento e implementación del algoritmo Descenso de Gradiente Estocástico para un modelo lineal básico.\n",
    "\n",
    "Debe completar las celdas vacías y seguir las instrucciones anotadas en el cuaderno.\n",
    "\n",
    "La fecha límite de entrega es el día **6 de septiembre** y se realizará a través de Bloque Neón."
   ]
  },
  {
   "cell_type": "code",
   "execution_count": 8,
   "metadata": {},
   "outputs": [],
   "source": [
    "import numpy as np\n",
    "import pandas as pd\n",
    "\n",
    "import matplotlib.pyplot as plt\n",
    "from sklearn.metrics import mean_squared_error\n",
    "import sklearn\n",
    "from sklearn.preprocessing import OrdinalEncoder, MinMaxScaler, RobustScaler\n",
    "from sklearn.model_selection import train_test_split\n",
    "from sklearn.metrics import r2_score"
   ]
  },
  {
   "cell_type": "code",
   "execution_count": 9,
   "metadata": {},
   "outputs": [
    {
     "data": {
      "text/html": [
       "<div>\n",
       "<style scoped>\n",
       "    .dataframe tbody tr th:only-of-type {\n",
       "        vertical-align: middle;\n",
       "    }\n",
       "\n",
       "    .dataframe tbody tr th {\n",
       "        vertical-align: top;\n",
       "    }\n",
       "\n",
       "    .dataframe thead th {\n",
       "        text-align: right;\n",
       "    }\n",
       "</style>\n",
       "<table border=\"1\" class=\"dataframe\">\n",
       "  <thead>\n",
       "    <tr style=\"text-align: right;\">\n",
       "      <th></th>\n",
       "      <th>model</th>\n",
       "      <th>year</th>\n",
       "      <th>price</th>\n",
       "      <th>transmission</th>\n",
       "      <th>mileage</th>\n",
       "      <th>fuelType</th>\n",
       "      <th>tax</th>\n",
       "      <th>mpg</th>\n",
       "      <th>engineSize</th>\n",
       "    </tr>\n",
       "  </thead>\n",
       "  <tbody>\n",
       "    <tr>\n",
       "      <th>0</th>\n",
       "      <td>GT86</td>\n",
       "      <td>2016</td>\n",
       "      <td>16000</td>\n",
       "      <td>Manual</td>\n",
       "      <td>24089</td>\n",
       "      <td>Petrol</td>\n",
       "      <td>265</td>\n",
       "      <td>36.2</td>\n",
       "      <td>2.0</td>\n",
       "    </tr>\n",
       "    <tr>\n",
       "      <th>1</th>\n",
       "      <td>GT86</td>\n",
       "      <td>2017</td>\n",
       "      <td>15995</td>\n",
       "      <td>Manual</td>\n",
       "      <td>18615</td>\n",
       "      <td>Petrol</td>\n",
       "      <td>145</td>\n",
       "      <td>36.2</td>\n",
       "      <td>2.0</td>\n",
       "    </tr>\n",
       "    <tr>\n",
       "      <th>2</th>\n",
       "      <td>GT86</td>\n",
       "      <td>2015</td>\n",
       "      <td>13998</td>\n",
       "      <td>Manual</td>\n",
       "      <td>27469</td>\n",
       "      <td>Petrol</td>\n",
       "      <td>265</td>\n",
       "      <td>36.2</td>\n",
       "      <td>2.0</td>\n",
       "    </tr>\n",
       "    <tr>\n",
       "      <th>3</th>\n",
       "      <td>GT86</td>\n",
       "      <td>2017</td>\n",
       "      <td>18998</td>\n",
       "      <td>Manual</td>\n",
       "      <td>14736</td>\n",
       "      <td>Petrol</td>\n",
       "      <td>150</td>\n",
       "      <td>36.2</td>\n",
       "      <td>2.0</td>\n",
       "    </tr>\n",
       "    <tr>\n",
       "      <th>4</th>\n",
       "      <td>GT86</td>\n",
       "      <td>2017</td>\n",
       "      <td>17498</td>\n",
       "      <td>Manual</td>\n",
       "      <td>36284</td>\n",
       "      <td>Petrol</td>\n",
       "      <td>145</td>\n",
       "      <td>36.2</td>\n",
       "      <td>2.0</td>\n",
       "    </tr>\n",
       "  </tbody>\n",
       "</table>\n",
       "</div>"
      ],
      "text/plain": [
       "   model  year  price transmission  mileage fuelType  tax   mpg  engineSize\n",
       "0   GT86  2016  16000       Manual    24089   Petrol  265  36.2         2.0\n",
       "1   GT86  2017  15995       Manual    18615   Petrol  145  36.2         2.0\n",
       "2   GT86  2015  13998       Manual    27469   Petrol  265  36.2         2.0\n",
       "3   GT86  2017  18998       Manual    14736   Petrol  150  36.2         2.0\n",
       "4   GT86  2017  17498       Manual    36284   Petrol  145  36.2         2.0"
      ]
     },
     "execution_count": 9,
     "metadata": {},
     "output_type": "execute_result"
    }
   ],
   "source": [
    "df = pd.read_csv('carDataset/toyota.csv')\n",
    "df.head()"
   ]
  },
  {
   "cell_type": "code",
   "execution_count": 10,
   "metadata": {},
   "outputs": [
    {
     "name": "stdout",
     "output_type": "stream",
     "text": [
      "<class 'pandas.core.frame.DataFrame'>\n",
      "RangeIndex: 6738 entries, 0 to 6737\n",
      "Data columns (total 9 columns):\n",
      " #   Column        Non-Null Count  Dtype  \n",
      "---  ------        --------------  -----  \n",
      " 0   model         6738 non-null   object \n",
      " 1   year          6738 non-null   int64  \n",
      " 2   price         6738 non-null   int64  \n",
      " 3   transmission  6738 non-null   object \n",
      " 4   mileage       6738 non-null   int64  \n",
      " 5   fuelType      6738 non-null   object \n",
      " 6   tax           6738 non-null   int64  \n",
      " 7   mpg           6738 non-null   float64\n",
      " 8   engineSize    6738 non-null   float64\n",
      "dtypes: float64(2), int64(4), object(3)\n",
      "memory usage: 473.9+ KB\n"
     ]
    }
   ],
   "source": [
    "df.info()"
   ]
  },
  {
   "cell_type": "markdown",
   "metadata": {},
   "source": [
    "Podemos observar algunas categorías numéricas, y otras de tipo _object_ (string)."
   ]
  },
  {
   "cell_type": "code",
   "execution_count": 11,
   "metadata": {},
   "outputs": [],
   "source": [
    "categ = ['model','year','transmission','fuelType','engineSize']\n",
    "str_categ = ['model','transmission','fuelType']\n",
    "numer = ['price','mileage','tax','mpg']"
   ]
  },
  {
   "cell_type": "markdown",
   "metadata": {},
   "source": [
    "## Parte 1\n",
    "\n",
    "A continuación se realizó el ajuste de los datos para un modelo de regresión lineal definido mediante la librería SciKit-Learn. Se observan dos métricas de precisión, en este caso Error Cuadrático Medio (RMSE) y $R^2$ (puede leer más sobre esta métrica en [ScikitLearn: r2_score](https://scikit-learn.org/stable/modules/generated/sklearn.metrics.r2_score.html)). Se le entregarán los dos primeros casos como ejemplo, usted debe implementar los demás a partir de estos primeros."
   ]
  },
  {
   "cell_type": "markdown",
   "metadata": {},
   "source": [
    "#### Casos:\n",
    "\n",
    "- Caso 1: Codificación One-Hot (MinMaxScaler)\n",
    "- Caso 2: Codificación Ordinal (MinMaxScaler)\n",
    "- Caso 3: Codificación One-Hot (RobustScaler)\n",
    "- Caso 4: Codificación Ordinal (RobustScaler)\n",
    "- Caso 5: Entrenar con un 30% (Codificación Ordinal, MinMaxScaler)\n",
    "- Caso 6: Entrenar con un 55% (Codificación Ordinal, MinMaxScaler)\n",
    "- Caso 7: Entrenar con un 80% (Codificación Ordinal, MinMaxScaler)\n",
    "\n",
    "Analice los resultados."
   ]
  },
  {
   "cell_type": "markdown",
   "metadata": {},
   "source": [
    "### Caso 1:"
   ]
  },
  {
   "cell_type": "markdown",
   "metadata": {},
   "source": [
    "#### Codificación One-Hot\n",
    "\n",
    "Una de las formas de codificar categorías no numéricas se conoce como _one-hot encoding_, en donde se crea una columna para cada valor distinto que exista en la característica que estamos codificando y, para cada registro, marcar con un 1 la columna a la que pertenezca dicho registro y dejar las demás con 0.\n",
    "\n",
    "Igualmente, en este caso se realizará un escalamiento de los datos utilizando un `MinMaxScaler`, investigue más sobre esta función en: [ScikitLearn: MinMaxScaler](https://scikit-learn.org/stable/modules/generated/sklearn.preprocessing.MinMaxScaler.html)."
   ]
  },
  {
   "cell_type": "code",
   "execution_count": 86,
   "metadata": {
    "scrolled": true
   },
   "outputs": [
    {
     "data": {
      "text/html": [
       "<div>\n",
       "<style scoped>\n",
       "    .dataframe tbody tr th:only-of-type {\n",
       "        vertical-align: middle;\n",
       "    }\n",
       "\n",
       "    .dataframe tbody tr th {\n",
       "        vertical-align: top;\n",
       "    }\n",
       "\n",
       "    .dataframe thead th {\n",
       "        text-align: right;\n",
       "    }\n",
       "</style>\n",
       "<table border=\"1\" class=\"dataframe\">\n",
       "  <thead>\n",
       "    <tr style=\"text-align: right;\">\n",
       "      <th></th>\n",
       "      <th>year</th>\n",
       "      <th>price</th>\n",
       "      <th>mileage</th>\n",
       "      <th>tax</th>\n",
       "      <th>mpg</th>\n",
       "      <th>engineSize</th>\n",
       "      <th>model_ Auris</th>\n",
       "      <th>model_ Avensis</th>\n",
       "      <th>model_ Aygo</th>\n",
       "      <th>model_ C-HR</th>\n",
       "      <th>...</th>\n",
       "      <th>model_ Verso-S</th>\n",
       "      <th>model_ Yaris</th>\n",
       "      <th>transmission_Automatic</th>\n",
       "      <th>transmission_Manual</th>\n",
       "      <th>transmission_Other</th>\n",
       "      <th>transmission_Semi-Auto</th>\n",
       "      <th>fuelType_Diesel</th>\n",
       "      <th>fuelType_Hybrid</th>\n",
       "      <th>fuelType_Other</th>\n",
       "      <th>fuelType_Petrol</th>\n",
       "    </tr>\n",
       "  </thead>\n",
       "  <tbody>\n",
       "    <tr>\n",
       "      <th>0</th>\n",
       "      <td>0.818182</td>\n",
       "      <td>0.256150</td>\n",
       "      <td>0.138100</td>\n",
       "      <td>0.469027</td>\n",
       "      <td>0.143842</td>\n",
       "      <td>0.444444</td>\n",
       "      <td>0.0</td>\n",
       "      <td>0.0</td>\n",
       "      <td>0.0</td>\n",
       "      <td>0.0</td>\n",
       "      <td>...</td>\n",
       "      <td>0.0</td>\n",
       "      <td>0.0</td>\n",
       "      <td>0.0</td>\n",
       "      <td>1.0</td>\n",
       "      <td>0.0</td>\n",
       "      <td>0.0</td>\n",
       "      <td>0.0</td>\n",
       "      <td>0.0</td>\n",
       "      <td>0.0</td>\n",
       "      <td>1.0</td>\n",
       "    </tr>\n",
       "    <tr>\n",
       "      <th>1</th>\n",
       "      <td>0.863636</td>\n",
       "      <td>0.256066</td>\n",
       "      <td>0.106716</td>\n",
       "      <td>0.256637</td>\n",
       "      <td>0.143842</td>\n",
       "      <td>0.444444</td>\n",
       "      <td>0.0</td>\n",
       "      <td>0.0</td>\n",
       "      <td>0.0</td>\n",
       "      <td>0.0</td>\n",
       "      <td>...</td>\n",
       "      <td>0.0</td>\n",
       "      <td>0.0</td>\n",
       "      <td>0.0</td>\n",
       "      <td>1.0</td>\n",
       "      <td>0.0</td>\n",
       "      <td>0.0</td>\n",
       "      <td>0.0</td>\n",
       "      <td>0.0</td>\n",
       "      <td>0.0</td>\n",
       "      <td>1.0</td>\n",
       "    </tr>\n",
       "    <tr>\n",
       "      <th>2</th>\n",
       "      <td>0.772727</td>\n",
       "      <td>0.222301</td>\n",
       "      <td>0.157479</td>\n",
       "      <td>0.469027</td>\n",
       "      <td>0.143842</td>\n",
       "      <td>0.444444</td>\n",
       "      <td>0.0</td>\n",
       "      <td>0.0</td>\n",
       "      <td>0.0</td>\n",
       "      <td>0.0</td>\n",
       "      <td>...</td>\n",
       "      <td>0.0</td>\n",
       "      <td>0.0</td>\n",
       "      <td>0.0</td>\n",
       "      <td>1.0</td>\n",
       "      <td>0.0</td>\n",
       "      <td>0.0</td>\n",
       "      <td>0.0</td>\n",
       "      <td>0.0</td>\n",
       "      <td>0.0</td>\n",
       "      <td>1.0</td>\n",
       "    </tr>\n",
       "    <tr>\n",
       "      <th>3</th>\n",
       "      <td>0.863636</td>\n",
       "      <td>0.306839</td>\n",
       "      <td>0.084476</td>\n",
       "      <td>0.265487</td>\n",
       "      <td>0.143842</td>\n",
       "      <td>0.444444</td>\n",
       "      <td>0.0</td>\n",
       "      <td>0.0</td>\n",
       "      <td>0.0</td>\n",
       "      <td>0.0</td>\n",
       "      <td>...</td>\n",
       "      <td>0.0</td>\n",
       "      <td>0.0</td>\n",
       "      <td>0.0</td>\n",
       "      <td>1.0</td>\n",
       "      <td>0.0</td>\n",
       "      <td>0.0</td>\n",
       "      <td>0.0</td>\n",
       "      <td>0.0</td>\n",
       "      <td>0.0</td>\n",
       "      <td>1.0</td>\n",
       "    </tr>\n",
       "    <tr>\n",
       "      <th>4</th>\n",
       "      <td>0.863636</td>\n",
       "      <td>0.281478</td>\n",
       "      <td>0.208019</td>\n",
       "      <td>0.256637</td>\n",
       "      <td>0.143842</td>\n",
       "      <td>0.444444</td>\n",
       "      <td>0.0</td>\n",
       "      <td>0.0</td>\n",
       "      <td>0.0</td>\n",
       "      <td>0.0</td>\n",
       "      <td>...</td>\n",
       "      <td>0.0</td>\n",
       "      <td>0.0</td>\n",
       "      <td>0.0</td>\n",
       "      <td>1.0</td>\n",
       "      <td>0.0</td>\n",
       "      <td>0.0</td>\n",
       "      <td>0.0</td>\n",
       "      <td>0.0</td>\n",
       "      <td>0.0</td>\n",
       "      <td>1.0</td>\n",
       "    </tr>\n",
       "  </tbody>\n",
       "</table>\n",
       "<p>5 rows × 32 columns</p>\n",
       "</div>"
      ],
      "text/plain": [
       "       year     price   mileage       tax       mpg  engineSize  model_ Auris  \\\n",
       "0  0.818182  0.256150  0.138100  0.469027  0.143842    0.444444           0.0   \n",
       "1  0.863636  0.256066  0.106716  0.256637  0.143842    0.444444           0.0   \n",
       "2  0.772727  0.222301  0.157479  0.469027  0.143842    0.444444           0.0   \n",
       "3  0.863636  0.306839  0.084476  0.265487  0.143842    0.444444           0.0   \n",
       "4  0.863636  0.281478  0.208019  0.256637  0.143842    0.444444           0.0   \n",
       "\n",
       "   model_ Avensis  model_ Aygo  model_ C-HR  ...  model_ Verso-S  \\\n",
       "0             0.0          0.0          0.0  ...             0.0   \n",
       "1             0.0          0.0          0.0  ...             0.0   \n",
       "2             0.0          0.0          0.0  ...             0.0   \n",
       "3             0.0          0.0          0.0  ...             0.0   \n",
       "4             0.0          0.0          0.0  ...             0.0   \n",
       "\n",
       "   model_ Yaris  transmission_Automatic  transmission_Manual  \\\n",
       "0           0.0                     0.0                  1.0   \n",
       "1           0.0                     0.0                  1.0   \n",
       "2           0.0                     0.0                  1.0   \n",
       "3           0.0                     0.0                  1.0   \n",
       "4           0.0                     0.0                  1.0   \n",
       "\n",
       "   transmission_Other  transmission_Semi-Auto  fuelType_Diesel  \\\n",
       "0                 0.0                     0.0              0.0   \n",
       "1                 0.0                     0.0              0.0   \n",
       "2                 0.0                     0.0              0.0   \n",
       "3                 0.0                     0.0              0.0   \n",
       "4                 0.0                     0.0              0.0   \n",
       "\n",
       "   fuelType_Hybrid  fuelType_Other  fuelType_Petrol  \n",
       "0              0.0             0.0              1.0  \n",
       "1              0.0             0.0              1.0  \n",
       "2              0.0             0.0              1.0  \n",
       "3              0.0             0.0              1.0  \n",
       "4              0.0             0.0              1.0  \n",
       "\n",
       "[5 rows x 32 columns]"
      ]
     },
     "execution_count": 86,
     "metadata": {},
     "output_type": "execute_result"
    }
   ],
   "source": [
    "df_ohe = pd.get_dummies(df)\n",
    "scaler = MinMaxScaler()\n",
    "df_scl_ohe = scaler.fit_transform(df_ohe)\n",
    "df_scl_ohe = pd.DataFrame(df_scl_ohe, columns = df_ohe.columns)\n",
    "df_scl_ohe.head()"
   ]
  },
  {
   "cell_type": "markdown",
   "metadata": {},
   "source": [
    "#### Separación de Datos"
   ]
  },
  {
   "cell_type": "code",
   "execution_count": 87,
   "metadata": {},
   "outputs": [],
   "source": [
    "X = df_scl_ohe.drop(['price'], axis=1)\n",
    "y = df_scl_ohe['price']\n",
    "X_train, X_test, y_train, y_test = train_test_split(X, y, test_size=0.2, random_state=22)"
   ]
  },
  {
   "cell_type": "code",
   "execution_count": 88,
   "metadata": {},
   "outputs": [
    {
     "name": "stdout",
     "output_type": "stream",
     "text": [
      "RMSE: 0.031\n",
      "R^2: 0.917\n",
      "\n"
     ]
    }
   ],
   "source": [
    "from sklearn.metrics import mean_squared_error, r2_score\n",
    "from sklearn.linear_model import LinearRegression\n",
    "\n",
    "model_1 = LinearRegression()\n",
    "\n",
    "model_1.fit(X_train, y_train)\n",
    "preds = model_1.predict(X_test)\n",
    "rmse = np.sqrt(mean_squared_error(y_test, preds))\n",
    "rs = model_1.score(X_test, y_test)\n",
    "print(f'RMSE: {round(rmse,3)}')\n",
    "print(f'R^2: {round(rs,3)}\\n')"
   ]
  },
  {
   "cell_type": "markdown",
   "metadata": {},
   "source": [
    "### Caso 2\n",
    "\n",
    "#### Codificación Ordinal"
   ]
  },
  {
   "cell_type": "code",
   "execution_count": 15,
   "metadata": {},
   "outputs": [
    {
     "data": {
      "text/html": [
       "<div>\n",
       "<style scoped>\n",
       "    .dataframe tbody tr th:only-of-type {\n",
       "        vertical-align: middle;\n",
       "    }\n",
       "\n",
       "    .dataframe tbody tr th {\n",
       "        vertical-align: top;\n",
       "    }\n",
       "\n",
       "    .dataframe thead th {\n",
       "        text-align: right;\n",
       "    }\n",
       "</style>\n",
       "<table border=\"1\" class=\"dataframe\">\n",
       "  <thead>\n",
       "    <tr style=\"text-align: right;\">\n",
       "      <th></th>\n",
       "      <th>model</th>\n",
       "      <th>year</th>\n",
       "      <th>price</th>\n",
       "      <th>transmission</th>\n",
       "      <th>mileage</th>\n",
       "      <th>fuelType</th>\n",
       "      <th>tax</th>\n",
       "      <th>mpg</th>\n",
       "      <th>engineSize</th>\n",
       "    </tr>\n",
       "  </thead>\n",
       "  <tbody>\n",
       "    <tr>\n",
       "      <th>0</th>\n",
       "      <td>0.352941</td>\n",
       "      <td>0.818182</td>\n",
       "      <td>0.256150</td>\n",
       "      <td>0.333333</td>\n",
       "      <td>0.138100</td>\n",
       "      <td>1.0</td>\n",
       "      <td>0.469027</td>\n",
       "      <td>0.143842</td>\n",
       "      <td>0.444444</td>\n",
       "    </tr>\n",
       "    <tr>\n",
       "      <th>1</th>\n",
       "      <td>0.352941</td>\n",
       "      <td>0.863636</td>\n",
       "      <td>0.256066</td>\n",
       "      <td>0.333333</td>\n",
       "      <td>0.106716</td>\n",
       "      <td>1.0</td>\n",
       "      <td>0.256637</td>\n",
       "      <td>0.143842</td>\n",
       "      <td>0.444444</td>\n",
       "    </tr>\n",
       "    <tr>\n",
       "      <th>2</th>\n",
       "      <td>0.352941</td>\n",
       "      <td>0.772727</td>\n",
       "      <td>0.222301</td>\n",
       "      <td>0.333333</td>\n",
       "      <td>0.157479</td>\n",
       "      <td>1.0</td>\n",
       "      <td>0.469027</td>\n",
       "      <td>0.143842</td>\n",
       "      <td>0.444444</td>\n",
       "    </tr>\n",
       "    <tr>\n",
       "      <th>3</th>\n",
       "      <td>0.352941</td>\n",
       "      <td>0.863636</td>\n",
       "      <td>0.306839</td>\n",
       "      <td>0.333333</td>\n",
       "      <td>0.084476</td>\n",
       "      <td>1.0</td>\n",
       "      <td>0.265487</td>\n",
       "      <td>0.143842</td>\n",
       "      <td>0.444444</td>\n",
       "    </tr>\n",
       "    <tr>\n",
       "      <th>4</th>\n",
       "      <td>0.352941</td>\n",
       "      <td>0.863636</td>\n",
       "      <td>0.281478</td>\n",
       "      <td>0.333333</td>\n",
       "      <td>0.208019</td>\n",
       "      <td>1.0</td>\n",
       "      <td>0.256637</td>\n",
       "      <td>0.143842</td>\n",
       "      <td>0.444444</td>\n",
       "    </tr>\n",
       "  </tbody>\n",
       "</table>\n",
       "</div>"
      ],
      "text/plain": [
       "      model      year     price  transmission   mileage  fuelType       tax  \\\n",
       "0  0.352941  0.818182  0.256150      0.333333  0.138100       1.0  0.469027   \n",
       "1  0.352941  0.863636  0.256066      0.333333  0.106716       1.0  0.256637   \n",
       "2  0.352941  0.772727  0.222301      0.333333  0.157479       1.0  0.469027   \n",
       "3  0.352941  0.863636  0.306839      0.333333  0.084476       1.0  0.265487   \n",
       "4  0.352941  0.863636  0.281478      0.333333  0.208019       1.0  0.256637   \n",
       "\n",
       "        mpg  engineSize  \n",
       "0  0.143842    0.444444  \n",
       "1  0.143842    0.444444  \n",
       "2  0.143842    0.444444  \n",
       "3  0.143842    0.444444  \n",
       "4  0.143842    0.444444  "
      ]
     },
     "execution_count": 15,
     "metadata": {},
     "output_type": "execute_result"
    }
   ],
   "source": [
    "oe = OrdinalEncoder()\n",
    "df_oe = df.copy()\n",
    "df_oe[str_categ] = oe.fit_transform(df_oe[str_categ])\n",
    "\n",
    "x = df_oe.values #returns a numpy array\n",
    "min_max_scaler = MinMaxScaler()\n",
    "x_scaled = min_max_scaler.fit_transform(x)\n",
    "df_scl_oe = pd.DataFrame(x_scaled, columns=df_oe.columns)\n",
    "df_scl_oe.head()"
   ]
  },
  {
   "cell_type": "markdown",
   "metadata": {},
   "source": [
    "#### Separación de Datos"
   ]
  },
  {
   "cell_type": "code",
   "execution_count": 16,
   "metadata": {
    "scrolled": true
   },
   "outputs": [],
   "source": [
    "X = df_scl_oe.drop(['price'], axis=1)\n",
    "y = df_scl_oe['price']\n",
    "X_train, X_test, y_train, y_test = train_test_split(X, y, test_size=0.2, random_state=22)"
   ]
  },
  {
   "cell_type": "code",
   "execution_count": 17,
   "metadata": {},
   "outputs": [
    {
     "name": "stdout",
     "output_type": "stream",
     "text": [
      "RMSE: 0.05\n",
      "R^2: 0.787\n",
      "\n"
     ]
    }
   ],
   "source": [
    "model_2 = LinearRegression()\n",
    "\n",
    "model_2.fit(X_train, y_train)\n",
    "preds = model_2.predict(X_test)\n",
    "rmse = np.sqrt(mean_squared_error(y_test, preds))\n",
    "rs = model_2.score(X_test, y_test)\n",
    "print(f'RMSE: {round(rmse,3)}')\n",
    "print(f'R^2: {round(rs,3)}\\n')"
   ]
  },
  {
   "cell_type": "markdown",
   "metadata": {},
   "source": [
    "### Caso 3\n",
    "\n",
    "#### Codificación One-Hot"
   ]
  },
  {
   "cell_type": "code",
   "execution_count": 79,
   "metadata": {},
   "outputs": [
    {
     "data": {
      "text/html": [
       "<div>\n",
       "<style scoped>\n",
       "    .dataframe tbody tr th:only-of-type {\n",
       "        vertical-align: middle;\n",
       "    }\n",
       "\n",
       "    .dataframe tbody tr th {\n",
       "        vertical-align: top;\n",
       "    }\n",
       "\n",
       "    .dataframe thead th {\n",
       "        text-align: right;\n",
       "    }\n",
       "</style>\n",
       "<table border=\"1\" class=\"dataframe\">\n",
       "  <thead>\n",
       "    <tr style=\"text-align: right;\">\n",
       "      <th></th>\n",
       "      <th>year</th>\n",
       "      <th>price</th>\n",
       "      <th>mileage</th>\n",
       "      <th>tax</th>\n",
       "      <th>mpg</th>\n",
       "      <th>engineSize</th>\n",
       "      <th>model_ Auris</th>\n",
       "      <th>model_ Avensis</th>\n",
       "      <th>model_ Aygo</th>\n",
       "      <th>model_ C-HR</th>\n",
       "      <th>...</th>\n",
       "      <th>model_ Verso-S</th>\n",
       "      <th>model_ Yaris</th>\n",
       "      <th>transmission_Automatic</th>\n",
       "      <th>transmission_Manual</th>\n",
       "      <th>transmission_Other</th>\n",
       "      <th>transmission_Semi-Auto</th>\n",
       "      <th>fuelType_Diesel</th>\n",
       "      <th>fuelType_Hybrid</th>\n",
       "      <th>fuelType_Other</th>\n",
       "      <th>fuelType_Petrol</th>\n",
       "    </tr>\n",
       "  </thead>\n",
       "  <tbody>\n",
       "    <tr>\n",
       "      <th>0</th>\n",
       "      <td>-0.5</td>\n",
       "      <td>0.776286</td>\n",
       "      <td>0.257936</td>\n",
       "      <td>0.896552</td>\n",
       "      <td>-1.955882</td>\n",
       "      <td>0.625</td>\n",
       "      <td>0.0</td>\n",
       "      <td>0.0</td>\n",
       "      <td>0.0</td>\n",
       "      <td>0.0</td>\n",
       "      <td>...</td>\n",
       "      <td>0.0</td>\n",
       "      <td>0.0</td>\n",
       "      <td>0.0</td>\n",
       "      <td>0.0</td>\n",
       "      <td>0.0</td>\n",
       "      <td>0.0</td>\n",
       "      <td>0.0</td>\n",
       "      <td>0.0</td>\n",
       "      <td>0.0</td>\n",
       "      <td>0.0</td>\n",
       "    </tr>\n",
       "    <tr>\n",
       "      <th>1</th>\n",
       "      <td>0.0</td>\n",
       "      <td>0.775541</td>\n",
       "      <td>0.004718</td>\n",
       "      <td>0.068966</td>\n",
       "      <td>-1.955882</td>\n",
       "      <td>0.625</td>\n",
       "      <td>0.0</td>\n",
       "      <td>0.0</td>\n",
       "      <td>0.0</td>\n",
       "      <td>0.0</td>\n",
       "      <td>...</td>\n",
       "      <td>0.0</td>\n",
       "      <td>0.0</td>\n",
       "      <td>0.0</td>\n",
       "      <td>0.0</td>\n",
       "      <td>0.0</td>\n",
       "      <td>0.0</td>\n",
       "      <td>0.0</td>\n",
       "      <td>0.0</td>\n",
       "      <td>0.0</td>\n",
       "      <td>0.0</td>\n",
       "    </tr>\n",
       "    <tr>\n",
       "      <th>2</th>\n",
       "      <td>-1.0</td>\n",
       "      <td>0.477703</td>\n",
       "      <td>0.414289</td>\n",
       "      <td>0.896552</td>\n",
       "      <td>-1.955882</td>\n",
       "      <td>0.625</td>\n",
       "      <td>0.0</td>\n",
       "      <td>0.0</td>\n",
       "      <td>0.0</td>\n",
       "      <td>0.0</td>\n",
       "      <td>...</td>\n",
       "      <td>0.0</td>\n",
       "      <td>0.0</td>\n",
       "      <td>0.0</td>\n",
       "      <td>0.0</td>\n",
       "      <td>0.0</td>\n",
       "      <td>0.0</td>\n",
       "      <td>0.0</td>\n",
       "      <td>0.0</td>\n",
       "      <td>0.0</td>\n",
       "      <td>0.0</td>\n",
       "    </tr>\n",
       "    <tr>\n",
       "      <th>3</th>\n",
       "      <td>0.0</td>\n",
       "      <td>1.223415</td>\n",
       "      <td>-0.174718</td>\n",
       "      <td>0.103448</td>\n",
       "      <td>-1.955882</td>\n",
       "      <td>0.625</td>\n",
       "      <td>0.0</td>\n",
       "      <td>0.0</td>\n",
       "      <td>0.0</td>\n",
       "      <td>0.0</td>\n",
       "      <td>...</td>\n",
       "      <td>0.0</td>\n",
       "      <td>0.0</td>\n",
       "      <td>0.0</td>\n",
       "      <td>0.0</td>\n",
       "      <td>0.0</td>\n",
       "      <td>0.0</td>\n",
       "      <td>0.0</td>\n",
       "      <td>0.0</td>\n",
       "      <td>0.0</td>\n",
       "      <td>0.0</td>\n",
       "    </tr>\n",
       "    <tr>\n",
       "      <th>4</th>\n",
       "      <td>0.0</td>\n",
       "      <td>0.999702</td>\n",
       "      <td>0.822056</td>\n",
       "      <td>0.068966</td>\n",
       "      <td>-1.955882</td>\n",
       "      <td>0.625</td>\n",
       "      <td>0.0</td>\n",
       "      <td>0.0</td>\n",
       "      <td>0.0</td>\n",
       "      <td>0.0</td>\n",
       "      <td>...</td>\n",
       "      <td>0.0</td>\n",
       "      <td>0.0</td>\n",
       "      <td>0.0</td>\n",
       "      <td>0.0</td>\n",
       "      <td>0.0</td>\n",
       "      <td>0.0</td>\n",
       "      <td>0.0</td>\n",
       "      <td>0.0</td>\n",
       "      <td>0.0</td>\n",
       "      <td>0.0</td>\n",
       "    </tr>\n",
       "  </tbody>\n",
       "</table>\n",
       "<p>5 rows × 32 columns</p>\n",
       "</div>"
      ],
      "text/plain": [
       "   year     price   mileage       tax       mpg  engineSize  model_ Auris  \\\n",
       "0  -0.5  0.776286  0.257936  0.896552 -1.955882       0.625           0.0   \n",
       "1   0.0  0.775541  0.004718  0.068966 -1.955882       0.625           0.0   \n",
       "2  -1.0  0.477703  0.414289  0.896552 -1.955882       0.625           0.0   \n",
       "3   0.0  1.223415 -0.174718  0.103448 -1.955882       0.625           0.0   \n",
       "4   0.0  0.999702  0.822056  0.068966 -1.955882       0.625           0.0   \n",
       "\n",
       "   model_ Avensis  model_ Aygo  model_ C-HR  ...  model_ Verso-S  \\\n",
       "0             0.0          0.0          0.0  ...             0.0   \n",
       "1             0.0          0.0          0.0  ...             0.0   \n",
       "2             0.0          0.0          0.0  ...             0.0   \n",
       "3             0.0          0.0          0.0  ...             0.0   \n",
       "4             0.0          0.0          0.0  ...             0.0   \n",
       "\n",
       "   model_ Yaris  transmission_Automatic  transmission_Manual  \\\n",
       "0           0.0                     0.0                  0.0   \n",
       "1           0.0                     0.0                  0.0   \n",
       "2           0.0                     0.0                  0.0   \n",
       "3           0.0                     0.0                  0.0   \n",
       "4           0.0                     0.0                  0.0   \n",
       "\n",
       "   transmission_Other  transmission_Semi-Auto  fuelType_Diesel  \\\n",
       "0                 0.0                     0.0              0.0   \n",
       "1                 0.0                     0.0              0.0   \n",
       "2                 0.0                     0.0              0.0   \n",
       "3                 0.0                     0.0              0.0   \n",
       "4                 0.0                     0.0              0.0   \n",
       "\n",
       "   fuelType_Hybrid  fuelType_Other  fuelType_Petrol  \n",
       "0              0.0             0.0              0.0  \n",
       "1              0.0             0.0              0.0  \n",
       "2              0.0             0.0              0.0  \n",
       "3              0.0             0.0              0.0  \n",
       "4              0.0             0.0              0.0  \n",
       "\n",
       "[5 rows x 32 columns]"
      ]
     },
     "execution_count": 79,
     "metadata": {},
     "output_type": "execute_result"
    }
   ],
   "source": [
    "df_ohe_R = pd.get_dummies(df)\n",
    "scaler = RobustScaler()\n",
    "df_Rscl_ohe = scaler.fit_transform(df_ohe)\n",
    "df_Rscl_ohe = pd.DataFrame(df_Rscl_ohe, columns = df_ohe_R.columns)\n",
    "df_Rscl_ohe.head()"
   ]
  },
  {
   "cell_type": "markdown",
   "metadata": {},
   "source": [
    "#### Separación de Datos"
   ]
  },
  {
   "cell_type": "code",
   "execution_count": 80,
   "metadata": {
    "scrolled": true
   },
   "outputs": [],
   "source": [
    "X = df_Rscl_ohe.drop(['price'], axis=1)\n",
    "y = df_Rscl_ohe['price']\n",
    "X_train, X_test, y_train, y_test = train_test_split(X, y, test_size=0.2, random_state=22)"
   ]
  },
  {
   "cell_type": "code",
   "execution_count": 81,
   "metadata": {},
   "outputs": [
    {
     "name": "stdout",
     "output_type": "stream",
     "text": [
      "RMSE: 0.277\n",
      "R^2: 0.917\n",
      "\n"
     ]
    }
   ],
   "source": [
    "model_3 = LinearRegression()\n",
    "\n",
    "model_3.fit(X_train, y_train)\n",
    "preds = model_3.predict(X_test)\n",
    "rmse = np.sqrt(mean_squared_error(y_test, preds))\n",
    "rs = model_3.score(X_test, y_test)\n",
    "print(f'RMSE: {round(rmse,3)}')\n",
    "print(f'R^2: {round(rs,3)}\\n')"
   ]
  },
  {
   "cell_type": "markdown",
   "metadata": {},
   "source": [
    "### Caso 4\n",
    "\n",
    "#### Codificación Ordinal"
   ]
  },
  {
   "cell_type": "code",
   "execution_count": 23,
   "metadata": {},
   "outputs": [
    {
     "data": {
      "text/html": [
       "<div>\n",
       "<style scoped>\n",
       "    .dataframe tbody tr th:only-of-type {\n",
       "        vertical-align: middle;\n",
       "    }\n",
       "\n",
       "    .dataframe tbody tr th {\n",
       "        vertical-align: top;\n",
       "    }\n",
       "\n",
       "    .dataframe thead th {\n",
       "        text-align: right;\n",
       "    }\n",
       "</style>\n",
       "<table border=\"1\" class=\"dataframe\">\n",
       "  <thead>\n",
       "    <tr style=\"text-align: right;\">\n",
       "      <th></th>\n",
       "      <th>model</th>\n",
       "      <th>year</th>\n",
       "      <th>price</th>\n",
       "      <th>transmission</th>\n",
       "      <th>mileage</th>\n",
       "      <th>fuelType</th>\n",
       "      <th>tax</th>\n",
       "      <th>mpg</th>\n",
       "      <th>engineSize</th>\n",
       "    </tr>\n",
       "  </thead>\n",
       "  <tbody>\n",
       "    <tr>\n",
       "      <th>0</th>\n",
       "      <td>0.066667</td>\n",
       "      <td>-0.5</td>\n",
       "      <td>0.776286</td>\n",
       "      <td>0.0</td>\n",
       "      <td>0.257936</td>\n",
       "      <td>0.0</td>\n",
       "      <td>0.896552</td>\n",
       "      <td>-1.955882</td>\n",
       "      <td>0.625</td>\n",
       "    </tr>\n",
       "    <tr>\n",
       "      <th>1</th>\n",
       "      <td>0.066667</td>\n",
       "      <td>0.0</td>\n",
       "      <td>0.775541</td>\n",
       "      <td>0.0</td>\n",
       "      <td>0.004718</td>\n",
       "      <td>0.0</td>\n",
       "      <td>0.068966</td>\n",
       "      <td>-1.955882</td>\n",
       "      <td>0.625</td>\n",
       "    </tr>\n",
       "    <tr>\n",
       "      <th>2</th>\n",
       "      <td>0.066667</td>\n",
       "      <td>-1.0</td>\n",
       "      <td>0.477703</td>\n",
       "      <td>0.0</td>\n",
       "      <td>0.414289</td>\n",
       "      <td>0.0</td>\n",
       "      <td>0.896552</td>\n",
       "      <td>-1.955882</td>\n",
       "      <td>0.625</td>\n",
       "    </tr>\n",
       "    <tr>\n",
       "      <th>3</th>\n",
       "      <td>0.066667</td>\n",
       "      <td>0.0</td>\n",
       "      <td>1.223415</td>\n",
       "      <td>0.0</td>\n",
       "      <td>-0.174718</td>\n",
       "      <td>0.0</td>\n",
       "      <td>0.103448</td>\n",
       "      <td>-1.955882</td>\n",
       "      <td>0.625</td>\n",
       "    </tr>\n",
       "    <tr>\n",
       "      <th>4</th>\n",
       "      <td>0.066667</td>\n",
       "      <td>0.0</td>\n",
       "      <td>0.999702</td>\n",
       "      <td>0.0</td>\n",
       "      <td>0.822056</td>\n",
       "      <td>0.0</td>\n",
       "      <td>0.068966</td>\n",
       "      <td>-1.955882</td>\n",
       "      <td>0.625</td>\n",
       "    </tr>\n",
       "  </tbody>\n",
       "</table>\n",
       "</div>"
      ],
      "text/plain": [
       "      model  year     price  transmission   mileage  fuelType       tax  \\\n",
       "0  0.066667  -0.5  0.776286           0.0  0.257936       0.0  0.896552   \n",
       "1  0.066667   0.0  0.775541           0.0  0.004718       0.0  0.068966   \n",
       "2  0.066667  -1.0  0.477703           0.0  0.414289       0.0  0.896552   \n",
       "3  0.066667   0.0  1.223415           0.0 -0.174718       0.0  0.103448   \n",
       "4  0.066667   0.0  0.999702           0.0  0.822056       0.0  0.068966   \n",
       "\n",
       "        mpg  engineSize  \n",
       "0 -1.955882       0.625  \n",
       "1 -1.955882       0.625  \n",
       "2 -1.955882       0.625  \n",
       "3 -1.955882       0.625  \n",
       "4 -1.955882       0.625  "
      ]
     },
     "execution_count": 23,
     "metadata": {},
     "output_type": "execute_result"
    }
   ],
   "source": [
    "oe_R = OrdinalEncoder()\n",
    "df_oe_R = df.copy()\n",
    "df_oe_R[str_categ] = oe_R.fit_transform(df_oe_R[str_categ])\n",
    "\n",
    "x = df_oe_R.values #returns a numpy array\n",
    "min_max_scaler = RobustScaler()\n",
    "x_scaled = min_max_scaler.fit_transform(x)\n",
    "df_Rscl_oe = pd.DataFrame(x_scaled, columns=df_oe.columns)\n",
    "df_Rscl_oe.head()"
   ]
  },
  {
   "cell_type": "markdown",
   "metadata": {},
   "source": [
    "#### Separación de Datos"
   ]
  },
  {
   "cell_type": "code",
   "execution_count": 24,
   "metadata": {
    "scrolled": true
   },
   "outputs": [],
   "source": [
    "X = df_Rscl_oe.drop(['price'], axis=1)\n",
    "y = df_Rscl_oe['price']\n",
    "X_train, X_test, y_train, y_test = train_test_split(X, y, test_size=0.2, random_state=22)"
   ]
  },
  {
   "cell_type": "code",
   "execution_count": 25,
   "metadata": {},
   "outputs": [
    {
     "name": "stdout",
     "output_type": "stream",
     "text": [
      "RMSE: 0.444\n",
      "R^2: 0.787\n",
      "\n"
     ]
    }
   ],
   "source": [
    "model_4 = LinearRegression()\n",
    "\n",
    "model_4.fit(X_train, y_train)\n",
    "preds = model_4.predict(X_test)\n",
    "rmse = np.sqrt(mean_squared_error(y_test, preds))\n",
    "rs = model_4.score(X_test, y_test)\n",
    "print(f'RMSE: {round(rmse,3)}')\n",
    "print(f'R^2: {round(rs,3)}\\n')"
   ]
  },
  {
   "cell_type": "markdown",
   "metadata": {},
   "source": [
    "### Caso 5\n",
    "\n",
    "#### Codificación Ordinal"
   ]
  },
  {
   "cell_type": "code",
   "execution_count": 59,
   "metadata": {},
   "outputs": [
    {
     "data": {
      "text/html": [
       "<div>\n",
       "<style scoped>\n",
       "    .dataframe tbody tr th:only-of-type {\n",
       "        vertical-align: middle;\n",
       "    }\n",
       "\n",
       "    .dataframe tbody tr th {\n",
       "        vertical-align: top;\n",
       "    }\n",
       "\n",
       "    .dataframe thead th {\n",
       "        text-align: right;\n",
       "    }\n",
       "</style>\n",
       "<table border=\"1\" class=\"dataframe\">\n",
       "  <thead>\n",
       "    <tr style=\"text-align: right;\">\n",
       "      <th></th>\n",
       "      <th>model</th>\n",
       "      <th>year</th>\n",
       "      <th>price</th>\n",
       "      <th>transmission</th>\n",
       "      <th>mileage</th>\n",
       "      <th>fuelType</th>\n",
       "      <th>tax</th>\n",
       "      <th>mpg</th>\n",
       "      <th>engineSize</th>\n",
       "    </tr>\n",
       "  </thead>\n",
       "  <tbody>\n",
       "    <tr>\n",
       "      <th>0</th>\n",
       "      <td>0.352941</td>\n",
       "      <td>0.818182</td>\n",
       "      <td>0.256150</td>\n",
       "      <td>0.333333</td>\n",
       "      <td>0.138100</td>\n",
       "      <td>1.0</td>\n",
       "      <td>0.469027</td>\n",
       "      <td>0.143842</td>\n",
       "      <td>0.444444</td>\n",
       "    </tr>\n",
       "    <tr>\n",
       "      <th>1</th>\n",
       "      <td>0.352941</td>\n",
       "      <td>0.863636</td>\n",
       "      <td>0.256066</td>\n",
       "      <td>0.333333</td>\n",
       "      <td>0.106716</td>\n",
       "      <td>1.0</td>\n",
       "      <td>0.256637</td>\n",
       "      <td>0.143842</td>\n",
       "      <td>0.444444</td>\n",
       "    </tr>\n",
       "    <tr>\n",
       "      <th>2</th>\n",
       "      <td>0.352941</td>\n",
       "      <td>0.772727</td>\n",
       "      <td>0.222301</td>\n",
       "      <td>0.333333</td>\n",
       "      <td>0.157479</td>\n",
       "      <td>1.0</td>\n",
       "      <td>0.469027</td>\n",
       "      <td>0.143842</td>\n",
       "      <td>0.444444</td>\n",
       "    </tr>\n",
       "    <tr>\n",
       "      <th>3</th>\n",
       "      <td>0.352941</td>\n",
       "      <td>0.863636</td>\n",
       "      <td>0.306839</td>\n",
       "      <td>0.333333</td>\n",
       "      <td>0.084476</td>\n",
       "      <td>1.0</td>\n",
       "      <td>0.265487</td>\n",
       "      <td>0.143842</td>\n",
       "      <td>0.444444</td>\n",
       "    </tr>\n",
       "    <tr>\n",
       "      <th>4</th>\n",
       "      <td>0.352941</td>\n",
       "      <td>0.863636</td>\n",
       "      <td>0.281478</td>\n",
       "      <td>0.333333</td>\n",
       "      <td>0.208019</td>\n",
       "      <td>1.0</td>\n",
       "      <td>0.256637</td>\n",
       "      <td>0.143842</td>\n",
       "      <td>0.444444</td>\n",
       "    </tr>\n",
       "  </tbody>\n",
       "</table>\n",
       "</div>"
      ],
      "text/plain": [
       "      model      year     price  transmission   mileage  fuelType       tax  \\\n",
       "0  0.352941  0.818182  0.256150      0.333333  0.138100       1.0  0.469027   \n",
       "1  0.352941  0.863636  0.256066      0.333333  0.106716       1.0  0.256637   \n",
       "2  0.352941  0.772727  0.222301      0.333333  0.157479       1.0  0.469027   \n",
       "3  0.352941  0.863636  0.306839      0.333333  0.084476       1.0  0.265487   \n",
       "4  0.352941  0.863636  0.281478      0.333333  0.208019       1.0  0.256637   \n",
       "\n",
       "        mpg  engineSize  \n",
       "0  0.143842    0.444444  \n",
       "1  0.143842    0.444444  \n",
       "2  0.143842    0.444444  \n",
       "3  0.143842    0.444444  \n",
       "4  0.143842    0.444444  "
      ]
     },
     "execution_count": 59,
     "metadata": {},
     "output_type": "execute_result"
    }
   ],
   "source": [
    "oe = OrdinalEncoder()\n",
    "df_oe_03 = df.copy()\n",
    "# df_oe_03 = df_oe_03.sample(frac = 0.3)\n",
    "df_oe_03[str_categ] = oe.fit_transform(df_oe_03[str_categ])\n",
    "\n",
    "x = df_oe_03.values #returns a numpy array\n",
    "min_max_scaler = MinMaxScaler()\n",
    "x_scaled = min_max_scaler.fit_transform(x)\n",
    "df_scl_oe_03 = pd.DataFrame(x_scaled, columns=df_oe_03.columns)\n",
    "df_scl_oe_03.head()"
   ]
  },
  {
   "cell_type": "markdown",
   "metadata": {},
   "source": [
    "#### Separación de Datos"
   ]
  },
  {
   "cell_type": "code",
   "execution_count": 60,
   "metadata": {
    "scrolled": true
   },
   "outputs": [],
   "source": [
    "X = df_scl_oe_03.drop(['price'], axis=1)\n",
    "y = df_scl_oe_03['price']\n",
    "X_train, X_test, y_train, y_test = train_test_split(X, y, test_size=0.7, random_state=22)"
   ]
  },
  {
   "cell_type": "code",
   "execution_count": 61,
   "metadata": {},
   "outputs": [
    {
     "name": "stdout",
     "output_type": "stream",
     "text": [
      "RMSE: 0.049\n",
      "R^2: 0.785\n",
      "\n"
     ]
    }
   ],
   "source": [
    "model_5 = LinearRegression()\n",
    "\n",
    "model_5.fit(X_train, y_train)\n",
    "preds = model_5.predict(X_test)\n",
    "rmse = np.sqrt(mean_squared_error(y_test, preds))\n",
    "rs = model_5.score(X_test, y_test)\n",
    "print(f'RMSE: {round(rmse,3)}')\n",
    "print(f'R^2: {round(rs,3)}\\n')"
   ]
  },
  {
   "cell_type": "markdown",
   "metadata": {},
   "source": [
    "### Caso 6\n",
    "\n",
    "#### Codificación Ordinal"
   ]
  },
  {
   "cell_type": "code",
   "execution_count": 62,
   "metadata": {},
   "outputs": [
    {
     "data": {
      "text/html": [
       "<div>\n",
       "<style scoped>\n",
       "    .dataframe tbody tr th:only-of-type {\n",
       "        vertical-align: middle;\n",
       "    }\n",
       "\n",
       "    .dataframe tbody tr th {\n",
       "        vertical-align: top;\n",
       "    }\n",
       "\n",
       "    .dataframe thead th {\n",
       "        text-align: right;\n",
       "    }\n",
       "</style>\n",
       "<table border=\"1\" class=\"dataframe\">\n",
       "  <thead>\n",
       "    <tr style=\"text-align: right;\">\n",
       "      <th></th>\n",
       "      <th>model</th>\n",
       "      <th>year</th>\n",
       "      <th>price</th>\n",
       "      <th>transmission</th>\n",
       "      <th>mileage</th>\n",
       "      <th>fuelType</th>\n",
       "      <th>tax</th>\n",
       "      <th>mpg</th>\n",
       "      <th>engineSize</th>\n",
       "    </tr>\n",
       "  </thead>\n",
       "  <tbody>\n",
       "    <tr>\n",
       "      <th>0</th>\n",
       "      <td>0.352941</td>\n",
       "      <td>0.818182</td>\n",
       "      <td>0.256150</td>\n",
       "      <td>0.333333</td>\n",
       "      <td>0.138100</td>\n",
       "      <td>1.0</td>\n",
       "      <td>0.469027</td>\n",
       "      <td>0.143842</td>\n",
       "      <td>0.444444</td>\n",
       "    </tr>\n",
       "    <tr>\n",
       "      <th>1</th>\n",
       "      <td>0.352941</td>\n",
       "      <td>0.863636</td>\n",
       "      <td>0.256066</td>\n",
       "      <td>0.333333</td>\n",
       "      <td>0.106716</td>\n",
       "      <td>1.0</td>\n",
       "      <td>0.256637</td>\n",
       "      <td>0.143842</td>\n",
       "      <td>0.444444</td>\n",
       "    </tr>\n",
       "    <tr>\n",
       "      <th>2</th>\n",
       "      <td>0.352941</td>\n",
       "      <td>0.772727</td>\n",
       "      <td>0.222301</td>\n",
       "      <td>0.333333</td>\n",
       "      <td>0.157479</td>\n",
       "      <td>1.0</td>\n",
       "      <td>0.469027</td>\n",
       "      <td>0.143842</td>\n",
       "      <td>0.444444</td>\n",
       "    </tr>\n",
       "    <tr>\n",
       "      <th>3</th>\n",
       "      <td>0.352941</td>\n",
       "      <td>0.863636</td>\n",
       "      <td>0.306839</td>\n",
       "      <td>0.333333</td>\n",
       "      <td>0.084476</td>\n",
       "      <td>1.0</td>\n",
       "      <td>0.265487</td>\n",
       "      <td>0.143842</td>\n",
       "      <td>0.444444</td>\n",
       "    </tr>\n",
       "    <tr>\n",
       "      <th>4</th>\n",
       "      <td>0.352941</td>\n",
       "      <td>0.863636</td>\n",
       "      <td>0.281478</td>\n",
       "      <td>0.333333</td>\n",
       "      <td>0.208019</td>\n",
       "      <td>1.0</td>\n",
       "      <td>0.256637</td>\n",
       "      <td>0.143842</td>\n",
       "      <td>0.444444</td>\n",
       "    </tr>\n",
       "  </tbody>\n",
       "</table>\n",
       "</div>"
      ],
      "text/plain": [
       "      model      year     price  transmission   mileage  fuelType       tax  \\\n",
       "0  0.352941  0.818182  0.256150      0.333333  0.138100       1.0  0.469027   \n",
       "1  0.352941  0.863636  0.256066      0.333333  0.106716       1.0  0.256637   \n",
       "2  0.352941  0.772727  0.222301      0.333333  0.157479       1.0  0.469027   \n",
       "3  0.352941  0.863636  0.306839      0.333333  0.084476       1.0  0.265487   \n",
       "4  0.352941  0.863636  0.281478      0.333333  0.208019       1.0  0.256637   \n",
       "\n",
       "        mpg  engineSize  \n",
       "0  0.143842    0.444444  \n",
       "1  0.143842    0.444444  \n",
       "2  0.143842    0.444444  \n",
       "3  0.143842    0.444444  \n",
       "4  0.143842    0.444444  "
      ]
     },
     "execution_count": 62,
     "metadata": {},
     "output_type": "execute_result"
    }
   ],
   "source": [
    "oe = OrdinalEncoder()\n",
    "df_oe_055 = df.copy()\n",
    "# df_oe_055 = df_oe_055.sample(frac = 0.55)\n",
    "df_oe_055[str_categ] = oe.fit_transform(df_oe_055[str_categ])\n",
    "\n",
    "x = df_oe_055.values #returns a numpy array\n",
    "min_max_scaler = MinMaxScaler()\n",
    "x_scaled = min_max_scaler.fit_transform(x)\n",
    "df_scl_oe_055 = pd.DataFrame(x_scaled, columns=df_oe_055.columns)\n",
    "df_scl_oe_055.head()"
   ]
  },
  {
   "cell_type": "markdown",
   "metadata": {},
   "source": [
    "#### Separación de Datos"
   ]
  },
  {
   "cell_type": "code",
   "execution_count": 63,
   "metadata": {
    "scrolled": true
   },
   "outputs": [],
   "source": [
    "X = df_scl_oe_055.drop(['price'], axis=1)\n",
    "y = df_scl_oe_055['price']\n",
    "X_train, X_test, y_train, y_test = train_test_split(X, y, test_size=0.45, random_state=22)"
   ]
  },
  {
   "cell_type": "code",
   "execution_count": 64,
   "metadata": {},
   "outputs": [
    {
     "name": "stdout",
     "output_type": "stream",
     "text": [
      "RMSE: 0.05\n",
      "R^2: 0.784\n",
      "\n"
     ]
    }
   ],
   "source": [
    "model_6 = LinearRegression()\n",
    "\n",
    "model_6.fit(X_train, y_train)\n",
    "preds = model_6.predict(X_test)\n",
    "rmse = np.sqrt(mean_squared_error(y_test, preds))\n",
    "rs = model_6.score(X_test, y_test)\n",
    "print(f'RMSE: {round(rmse,3)}')\n",
    "print(f'R^2: {round(rs,3)}\\n')"
   ]
  },
  {
   "cell_type": "markdown",
   "metadata": {},
   "source": [
    "### Caso 7\n",
    "\n",
    "#### Codificación Ordinal"
   ]
  },
  {
   "cell_type": "code",
   "execution_count": 65,
   "metadata": {},
   "outputs": [
    {
     "data": {
      "text/html": [
       "<div>\n",
       "<style scoped>\n",
       "    .dataframe tbody tr th:only-of-type {\n",
       "        vertical-align: middle;\n",
       "    }\n",
       "\n",
       "    .dataframe tbody tr th {\n",
       "        vertical-align: top;\n",
       "    }\n",
       "\n",
       "    .dataframe thead th {\n",
       "        text-align: right;\n",
       "    }\n",
       "</style>\n",
       "<table border=\"1\" class=\"dataframe\">\n",
       "  <thead>\n",
       "    <tr style=\"text-align: right;\">\n",
       "      <th></th>\n",
       "      <th>model</th>\n",
       "      <th>year</th>\n",
       "      <th>price</th>\n",
       "      <th>transmission</th>\n",
       "      <th>mileage</th>\n",
       "      <th>fuelType</th>\n",
       "      <th>tax</th>\n",
       "      <th>mpg</th>\n",
       "      <th>engineSize</th>\n",
       "    </tr>\n",
       "  </thead>\n",
       "  <tbody>\n",
       "    <tr>\n",
       "      <th>0</th>\n",
       "      <td>0.352941</td>\n",
       "      <td>0.818182</td>\n",
       "      <td>0.256150</td>\n",
       "      <td>0.333333</td>\n",
       "      <td>0.138100</td>\n",
       "      <td>1.0</td>\n",
       "      <td>0.469027</td>\n",
       "      <td>0.143842</td>\n",
       "      <td>0.444444</td>\n",
       "    </tr>\n",
       "    <tr>\n",
       "      <th>1</th>\n",
       "      <td>0.352941</td>\n",
       "      <td>0.863636</td>\n",
       "      <td>0.256066</td>\n",
       "      <td>0.333333</td>\n",
       "      <td>0.106716</td>\n",
       "      <td>1.0</td>\n",
       "      <td>0.256637</td>\n",
       "      <td>0.143842</td>\n",
       "      <td>0.444444</td>\n",
       "    </tr>\n",
       "    <tr>\n",
       "      <th>2</th>\n",
       "      <td>0.352941</td>\n",
       "      <td>0.772727</td>\n",
       "      <td>0.222301</td>\n",
       "      <td>0.333333</td>\n",
       "      <td>0.157479</td>\n",
       "      <td>1.0</td>\n",
       "      <td>0.469027</td>\n",
       "      <td>0.143842</td>\n",
       "      <td>0.444444</td>\n",
       "    </tr>\n",
       "    <tr>\n",
       "      <th>3</th>\n",
       "      <td>0.352941</td>\n",
       "      <td>0.863636</td>\n",
       "      <td>0.306839</td>\n",
       "      <td>0.333333</td>\n",
       "      <td>0.084476</td>\n",
       "      <td>1.0</td>\n",
       "      <td>0.265487</td>\n",
       "      <td>0.143842</td>\n",
       "      <td>0.444444</td>\n",
       "    </tr>\n",
       "    <tr>\n",
       "      <th>4</th>\n",
       "      <td>0.352941</td>\n",
       "      <td>0.863636</td>\n",
       "      <td>0.281478</td>\n",
       "      <td>0.333333</td>\n",
       "      <td>0.208019</td>\n",
       "      <td>1.0</td>\n",
       "      <td>0.256637</td>\n",
       "      <td>0.143842</td>\n",
       "      <td>0.444444</td>\n",
       "    </tr>\n",
       "  </tbody>\n",
       "</table>\n",
       "</div>"
      ],
      "text/plain": [
       "      model      year     price  transmission   mileage  fuelType       tax  \\\n",
       "0  0.352941  0.818182  0.256150      0.333333  0.138100       1.0  0.469027   \n",
       "1  0.352941  0.863636  0.256066      0.333333  0.106716       1.0  0.256637   \n",
       "2  0.352941  0.772727  0.222301      0.333333  0.157479       1.0  0.469027   \n",
       "3  0.352941  0.863636  0.306839      0.333333  0.084476       1.0  0.265487   \n",
       "4  0.352941  0.863636  0.281478      0.333333  0.208019       1.0  0.256637   \n",
       "\n",
       "        mpg  engineSize  \n",
       "0  0.143842    0.444444  \n",
       "1  0.143842    0.444444  \n",
       "2  0.143842    0.444444  \n",
       "3  0.143842    0.444444  \n",
       "4  0.143842    0.444444  "
      ]
     },
     "execution_count": 65,
     "metadata": {},
     "output_type": "execute_result"
    }
   ],
   "source": [
    "oe = OrdinalEncoder()\n",
    "df_oe_08 = df.copy()\n",
    "# df_oe_08 = df_oe_08.sample(frac = 0.8)\n",
    "df_oe_08[str_categ] = oe.fit_transform(df_oe_08[str_categ])\n",
    "\n",
    "x = df_oe_08.values #returns a numpy array\n",
    "min_max_scaler = MinMaxScaler()\n",
    "x_scaled = min_max_scaler.fit_transform(x)\n",
    "df_scl_oe_08 = pd.DataFrame(x_scaled, columns=df_oe_08.columns)\n",
    "df_scl_oe_08.head()"
   ]
  },
  {
   "cell_type": "markdown",
   "metadata": {},
   "source": [
    "#### Separación de Datos"
   ]
  },
  {
   "cell_type": "code",
   "execution_count": 68,
   "metadata": {
    "scrolled": true
   },
   "outputs": [],
   "source": [
    "X = df_scl_oe_08.drop(['price'], axis=1)\n",
    "y = df_scl_oe_08['price']\n",
    "X_train, X_test, y_train, y_test = train_test_split(X, y, test_size=0.2, random_state=22)"
   ]
  },
  {
   "cell_type": "code",
   "execution_count": 70,
   "metadata": {},
   "outputs": [
    {
     "name": "stdout",
     "output_type": "stream",
     "text": [
      "RMSE: 0.05\n",
      "R^2: 0.787\n",
      "\n"
     ]
    }
   ],
   "source": [
    "model_7 = LinearRegression()\n",
    "\n",
    "model_7.fit(X_train, y_train)\n",
    "preds = model_7.predict(X_test)\n",
    "rmse = np.sqrt(mean_squared_error(y_test, preds))\n",
    "rs = model_7.score(X_test, y_test)\n",
    "print(f'RMSE: {round(rmse,3)}')\n",
    "print(f'R^2: {round(rs,3)}\\n')"
   ]
  },
  {
   "cell_type": "markdown",
   "metadata": {},
   "source": [
    "### Análisis de datos\n"
   ]
  },
  {
   "cell_type": "markdown",
   "metadata": {},
   "source": [
    "Para realizar el análisis de datos, se realizó una documentación de todo lo utilizado en los casos anteriores. Finalmente, el análisis se llevó a cabo mediante diferentes agrupaciones de casos donde cada cada es igual a los demás menos en una, y solamente una, característica o variable (que se especificará en cada grupo). Esto con el fin de realizar un análisis más organizado y estructurado para lograr mejores condiciones\n",
    "\n"
   ]
  },
  {
   "cell_type": "markdown",
   "metadata": {},
   "source": [
    "#### Grupo 1"
   ]
  },
  {
   "cell_type": "markdown",
   "metadata": {},
   "source": [
    "* Variable: Tipo de codificación\n",
    "* Casos: \"Caso 1\", y \"Caso 2/7\"\n",
    "\n",
    "Se observó que el \"Caso 1\" tuvo un mejor desempeño en ambas métricas utilizadas en el libro que el \"Caso 2/7\". Después de un análisis, se observó que la razón se puede encontrar en la incorrecta codificación de las variables, ya que el \"Caso 2/7\" las organiza de forma ordinal con el fin de distinguirlos al mismo tiempo que le da significado al orden de los datos, cuando en realidad no tienen orden alguno. En cambio, el \"Caso 1\" solamente indica la presencia o no presencia de todas mediante la indicación de un \"1\" (la variable se encuentra en el ejemplo) o un \"0\" (la variable no se encuentra en el ejemplo). Lo anterior permitió encontrar una función que estima mejor el comportamiento de las variables."
   ]
  },
  {
   "cell_type": "markdown",
   "metadata": {},
   "source": [
    "#### Grupo 2"
   ]
  },
  {
   "cell_type": "markdown",
   "metadata": {},
   "source": [
    "* Variable: Tipo de escala\n",
    "* Casos: \"Caso 1\", y \"Caso 3\"\n",
    "\n",
    "Se observó que el \"Caso 1\" tuvo un mejor desempeño en la métrica de error cuadrático medio que el \"Caso 2\", mientras que ambos obtuvieron igual valor en la métrica $R^2$. Para entender esto, es necesario tener claro las diferencias que hay entre \"MinMaxScaler\" y \"RobustScaler\":\n",
    "\n",
    "* MinMaxScaler remueve el valor mínimo de los datos a cada uno de ellos, mientras que RobustScaler remueve la mediana\n",
    "* MinMaxScaler divide esta resta entre la diferencia que hay entre los valores máximo y mínimo de los datos, mientras que RobustScaler la divide por el tamaño del interquantile (del 25 al 75% del rango total de los datos)\n",
    "\n",
    "Con lo anterior, se puede entender que hayan tenido igual $R^2$, ya que los datos fueron normalizados efectivamente, a la manera de cada método de escala, lo que genera tendencias fuertes de la función estimada. El problema radica en que la normalización hecha en el \"Caso 3\" no fue suficiente para tomar los datos más alejados de la mediana o de la media, es decir que la centralización de los datos no fue suficiente y, por ende, afectó el entrenamiento del modelo. Como dato adicional, el \"Caso 3\" habría sido útil si la base de datos hubiera tenido outliers que agravaran el desempeño del modelo, ya que el rango de valores ignora los datos muy alejados de la media y/o la mediana"
   ]
  },
  {
   "cell_type": "markdown",
   "metadata": {},
   "source": [
    "#### Grupo 3"
   ]
  },
  {
   "cell_type": "markdown",
   "metadata": {},
   "source": [
    "* Variable: Tamaño de entrenamiento\n",
    "* Casos: \"Caso 2/7\", \"Caso 5\", y \"Caso 6\"\n",
    "\n",
    "Se tiene un grupo de tres casos con tamaños de datos de entrenamiento organizados de la siguiente forma: Caso 5 < Caso 6 < Caso 2/7. En cuanto a las métricas, se observaron los siguientes resultados\n",
    "\n",
    "* RMSE: Caso 2/7 = Caso 6 > Caso 5\n",
    "* $R^2$: Caso 2/7 > Caso 5 > Caso 6\n",
    "\n",
    "Para entender el comportamiento mostrado, es necesario entender los efectos que incurre el tamaño de entrenamiento de los datos:\n",
    "\n",
    "En resumen, a mayor cantidad de datos, mejor será la estimación del modelo entrenado. Sin embargo, si se entrenan con muchos es posible que el modelo estime muy bien los datos de entrenamiento, pero muy mal los datos de prueba. Es decir, que el modelo no sabe generalizar (problema conocido como \"overfitting\"). Por otro lado, se tiene el caso donde el tamaño de datos de entrenamiento es insuficiente para consolidad un bueno modelo de estimación, por lo que no será capaz de estimar bien en ningún caso (\"underfitting\"). Lo ideal es encontrar una cantidad de datos ideal que logre consolidad un buen modelo de estimación sin que pierda generalidad.\n",
    "\n",
    "Una vez entendido lo anterior, es fácil entender los resultados observados: \n",
    "\n",
    "* El RMSE aumenta con el aumento de la cantidad de datos ya que el modelo tiene más datos para entrenarse sin sufrir de overfitting. No obstante, los cambios son tan pequeños en los tres casos, que cualquiera podría sugerir que la naturaleza de los datos permite un tamaño de entrenamiento pequeño sin riesgo de underfitting\n",
    "* El $R^2$ se incrementa con el aumento de la cantidad de datos ya que el modelo de estimación pierde dispersión a medida que tiene más datos de entrenamiento.\n"
   ]
  },
  {
   "cell_type": "markdown",
   "metadata": {},
   "source": [
    "#### Grupo 4"
   ]
  },
  {
   "cell_type": "markdown",
   "metadata": {},
   "source": [
    "* Variable: Tipo de escala\n",
    "* Casos: \"Caso 2/7\", y \"Caso 4\"\n",
    "\n",
    "Este grupo compara lo mismo que el Grupo 2. No obstante, los casos aquí presentes utilizan el tipo de codificación ordinal, por lo que se tomó interés (con la expectativa de que el \"Caso 4\" sea el de peor desempeño por tener Tipo de escala \"RobustScaler\").\n",
    "\n",
    "Y efectivamente, se observó el mismo comportamiento encontrado en el Grupo 3: ambos casos presentaron igual $R^2$, pero el caso con escalador \"MinMaxScaler\" (\"Caso 2/7\") tiene RMSE más pequeño que el caso con \"RobustScaler\", y las razones son las mismas que las del Grupo 3. En cuanto a la comparación entre el Grupo 3 y el Grupo 4, es la misma comparación realizada en el Grupo 1."
   ]
  },
  {
   "cell_type": "markdown",
   "metadata": {},
   "source": [
    "#### Grupo 5"
   ]
  },
  {
   "cell_type": "markdown",
   "metadata": {},
   "source": [
    "* Variable: Tipo de codificación\n",
    "* Casos: \"Caso 3\", y \"Caso 4\"\n",
    "\n",
    "Este grupo compara lo mismo que el Grupo 1. No obstante, los casos aquí presentes utilizan el tipo de escala \"RobustScaler\", por lo que se tomó interés (con la expectativa de que el \"Caso 4\" sea el de peor desempeño por tener tipo de codificación ordinal).\n",
    "\n",
    "Y efectivamente, se observó el mismo comportamiento encontrado en el Grupo 1: el \"Caso 3\" con tipo de codificación \"One-Hot\" tiene mejor RMSE y mejor $R^2$ que el \"Caso 4\", y las razones son las mismas que las del Grupo 1. En cuanto a la comparación entre el Grupo 1 y el Grupo 5, es la misma comparación hecha en el Grupo 2."
   ]
  },
  {
   "cell_type": "markdown",
   "metadata": {},
   "source": [
    "### Conclusiones"
   ]
  },
  {
   "cell_type": "markdown",
   "metadata": {},
   "source": [
    "Las conclusiones hechas aquí se limitan al margen de los resultados y análisis obtenidos en este libro. Toda interpretación basada en datos y resultados extrapolados queda excluida de esta sección\n",
    "\n",
    "* Es importante entender la naturaleza de los datos antes de aplicar algún hiperparámetro del modelo de entrenamiento, ya que no todas las técnicas funcionan para un mismo caso. Una o más representaciones gráficas de los datos ayudaría a entender mejor el modelo\n",
    "* El efecto de la variación de algún hiperparámetro es independiente del efecto al modelo de entrenamiento causado por los demás hiperparámetros y viceversa\n",
    "* Es necesario realizar diferentes pruebas a una misma base de datos para acercarse al modelo de entrenamiento más adecuado\n",
    "* El mejor modelo de entrenamiento es el mostrado en el \"Caso 1\", ya que presenta el menor RSME y el mayor $R^2$ (por encima del 0.9)"
   ]
  },
  {
   "cell_type": "markdown",
   "metadata": {},
   "source": [
    "## Parte 2\n",
    "\n",
    "Ahora usted debe desarrollar su propia implementación del método Descenso de Gradiente estocástico. Para esta ocasión debe utilizar una codificación One-Hot, un RobustScaler y realizar el entrenamiento a partir del 80% de los datos. Al final del entrenamiento, en la lista `errores` se deben tener los valores de la función de error para cada iteración y así poder observar el progreso gráficamente."
   ]
  },
  {
   "cell_type": "code",
   "execution_count": 6,
   "metadata": {},
   "outputs": [],
   "source": [
    "df_ohe = pd.get_dummies(df)\n",
    "scaler = RobustScaler()\n",
    "df_scl_ohe = scaler.fit_transform(df_ohe)\n",
    "df_scl_ohe = pd.DataFrame(df_scl_ohe, columns = df_ohe.columns)\n",
    "\n",
    "X = df_scl_ohe.drop(['price'], axis=1)\n",
    "y = df_scl_ohe['price']\n",
    "X_train, X_test, y_train, y_test = train_test_split(X, y, test_size=0.2, random_state=22)"
   ]
  },
  {
   "cell_type": "code",
   "execution_count": 65,
   "metadata": {
    "scrolled": true
   },
   "outputs": [
    {
     "name": "stdout",
     "output_type": "stream",
     "text": [
      "1386\n",
      "0.05409220566417939\n"
     ]
    }
   ],
   "source": [
    "def cambiar_tasa(tasa_actual):\n",
    "    rta = -1\n",
    "    if tasa_actual == 0.0001:\n",
    "        rta= tasa_actual\n",
    "    else:\n",
    "        rta = 1\n",
    "\n",
    "X_train_array = np.c_[np.ones(X_train.values.shape[0]), X_train.values]\n",
    "\n",
    "y_train_array = y_train.values\n",
    "X_test_array = np.c_[np.ones(X_test.values.shape[0]), X_test.values]\n",
    "y_test_array = y_test.values\n",
    "\n",
    "#Inicialización de w\n",
    "w0 = np.zeros(len(X_train_array[0])) # Inicializar aleatoriamente #\n",
    "w = w0.copy()\n",
    "#Selección de par aleatorio\n",
    "i = np.random.randint(0,len(X_train_array[0])) # Posición aleatoria #\n",
    "xActual = X_train_array[i]\n",
    "yActual = y_train_array[i]\n",
    "#Inicialización de criterio de parada\n",
    "eps = 1e-6  # criterio de parada definido por la norma euclidiana de la diferencia entre las iteraciones de los parámetros #\n",
    "error = float('inf') # Valor inicial, se debe actualizar en cada iteración #\n",
    "#Inicialización de valor de la tasa de aprendizaje \n",
    "tasa = 0.01 # Selección de tasa de aprendizaje #\n",
    "#Lista para monitorear aprendizaje\n",
    "errores = [] # Agregar a esta lista los valores de la función de error en cada iteración #\n",
    "errores_2 = [] #Se agregan todos los errores al caudrado\n",
    "w_trans = w.transpose()\n",
    "norm = 1 # Inicialización de la norma\n",
    "#Ciclo iterativo según algoritmo de descenso de gradiente\n",
    "while norm>eps:\n",
    "    g = w_trans @ xActual\n",
    "    e = g-yActual\n",
    "    errores.append(e)\n",
    "    errores_2.append(e**2)\n",
    "    error= sum(errores_2)/len(errores_2)\n",
    "    w = w0 - (tasa*e*xActual)\n",
    "    i = np.random.randint(0,len(X_train_array[0])) # Posición aleatoria #\n",
    "    xActual = X_train_array[i]\n",
    "    yActual = y_train_array[i]\n",
    "    w_trans = w.transpose()\n",
    "    \n",
    "    norm = np.max(np.absolute(w - w0))\n",
    "    w0 = w.copy()\n",
    "\n",
    "print(error)"
   ]
  },
  {
   "cell_type": "markdown",
   "metadata": {},
   "source": [
    "#### Evaluación de Modelo"
   ]
  },
  {
   "cell_type": "markdown",
   "metadata": {},
   "source": [
    "#### Evaluación de Modelo"
   ]
  },
  {
   "cell_type": "code",
   "execution_count": 66,
   "metadata": {},
   "outputs": [
    {
     "name": "stdout",
     "output_type": "stream",
     "text": [
      "R2 entrenamiento: 0.7049\n",
      "R2 prueba: 0.6945\n"
     ]
    }
   ],
   "source": [
    "y_train_preds = np.zeros(y_train_array.shape)\n",
    "for i in range(X_train_array.shape[0]):\n",
    "    y_train_preds[i] = np.dot(w,X_train_array[i])\n",
    "\n",
    "y_test_preds = np.zeros(y_test_array.shape)\n",
    "for i in range(X_test_array.shape[0]):\n",
    "    y_test_preds[i] = np.dot(w,X_test_array[i])\n",
    "    \n",
    "r2_train = r2_score(y_train_array, y_train_preds)\n",
    "r2_test = r2_score(y_test_array, y_test_preds)\n",
    "print(f'R2 entrenamiento: {round(r2_train,4)}\\nR2 prueba: {round(r2_test,4)}')"
   ]
  },
  {
   "cell_type": "markdown",
   "metadata": {},
   "source": [
    "## Gráfica de Resultados"
   ]
  },
  {
   "cell_type": "code",
   "execution_count": 67,
   "metadata": {},
   "outputs": [
    {
     "data": {
      "text/plain": [
       "Text(0.5, 1.0, 'Descenso de Gradiente Estocástico')"
      ]
     },
     "execution_count": 67,
     "metadata": {},
     "output_type": "execute_result"
    },
    {
     "data": {
      "image/png": "[encoded data removed]",
      "text/plain": [
       "<Figure size 1080x360 with 1 Axes>"
      ]
     },
     "metadata": {
      "needs_background": "light"
     },
     "output_type": "display_data"
    }
   ],
   "source": [
    "plt.figure(figsize=(15,5))\n",
    "plt.plot(errores)\n",
    "plt.xlabel('# Iteraciones')\n",
    "plt.ylabel('Función de Error')\n",
    "plt.title('Descenso de Gradiente Estocástico')"
   ]
  },
  {
   "cell_type": "markdown",
   "metadata": {},
   "source": [
    "Como se puede ver, se realizó la métrica de $R^2$, tanto de prueba como de entrenamiento, para observar qué tan consolidado se encontraba el modelo de estimación. Además, se realizó una gráfica de errores de entrenamiento a medida que pasaban las iteraciones. En esta gráfica se puede ver una disminución tanto del valor del error como de su dispersión hasta lograr una varianza constante y con media igual a cero (aproximadamente). El motivo por el que no se pudo disminuir esta variación de error a uno cercano a cero y media cero, así como la inhabilidad de incremenatar más las métricas, se debe a que 1) el método utilizado para entrenar el modelo no fue el adecuado o 2) no se pudo seleccionar adecuadamente los hiperparámetros necesarios para un mejor entrenamiento.\n",
    "\n",
    "A continuación se mostrará el protocolo realizado para realizar el entrenamiento y encontrar los hiperparámetros adecuados:\n",
    "* Se definieron las condiciones de parada del algoritmo de aprendizaje. La idea es probar nuevas condiciones para distintos entrenamientos (estos se especificará más adelante)\n",
    "* Se especificaron los hiperparámetros que determinan la velocidad de aprendizaje (la tasa de aprendizaje)\n",
    "* Se adapta el algoritmo de descenso de gradiente estocástico para que se logre calcular las variables necesarias para compararlas con las condiciones de parada para que se actualicen por cada iteración de aprendizaje\n",
    "* Se implementa el algoritmo\n",
    "* Se observa tanto el error final como las métricas obtenidas\n",
    "* Se varían todos los hiperparámetros, tasas y condiciones de parada, de uno en uno para mirar la tendencia de los resultados de error y métricas\n",
    "* Se cambia el tipo de condición de parada a utilizar, se implementa el algoritmo, se observan los resultados, y se repite el proceso del paso anterior.\n",
    "* Se comparan todos los resultados y se deciden los mejores hiperparámetros\n",
    "\n",
    "Un posible error pudo ser no estimar correctamente el vector dirección, por lo que la convergencia del modelo era mucho más demorada. Otra razón al problema es no haber realizado suficientes compilaciones y análisis para encontrar los hiperparámetros correctos"
   ]
  }
 ],
 "metadata": {
  "kernelspec": {
   "display_name": "Python 3",
   "language": "python",
   "name": "python3"
  },
  "language_info": {
   "codemirror_mode": {
    "name": "ipython",
    "version": 3
   },
   "file_extension": ".py",
   "mimetype": "text/x-python",
   "name": "python",
   "nbconvert_exporter": "python",
   "pygments_lexer": "ipython3",
   "version": "3.8.10"
  }
 },
 "nbformat": 4,
 "nbformat_minor": 4
}
