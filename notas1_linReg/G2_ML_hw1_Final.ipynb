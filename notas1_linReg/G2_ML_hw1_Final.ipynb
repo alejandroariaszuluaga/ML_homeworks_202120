{
 "cells": [
  {
   "cell_type": "markdown",
   "metadata": {},
   "source": [
    "# Regresión Lineal: Predicción de Precios de Autos\n",
    "**Grupo 2**\n",
    " * Nicolás Robayo Pardo\n",
    " * Andres Cepeda\n",
    " \n",
    "Entregada el 6 de Septiembre de 2021\n",
    " \n",
    "Una tarea bastante común en el contexto de Machine Learning es la predicción de una variable según algunos descriptores. En esta ocasión partiremos de un dataset que involucra ocho variables (algunas numéricas, otras categóricas) y el precio de un automóvil, el cual se desea estimar empleando un modelo de regresión lineal.\n",
    "\n",
    "El objetivo de este cuaderno es que usted aprenda:\n",
    "- Algunas maneras de lidiar con descriptores categóricos no-numéricos.\n",
    "- Uso de la librería Pandas para manejar datos tabulares en formato .csv.\n",
    "- Uso de la librería Scikit Learn para preprocesamiento y entrenamiento de un modelo de regresión lineal.\n",
    "- Funcionamiento e implementación del algoritmo Descenso de Gradiente Estocástico para un modelo lineal básico.\n",
    "\n",
    "Debe completar las celdas vacías y seguir las instrucciones anotadas en el cuaderno.\n",
    "\n",
    "La fecha límite de entrega es el día **9 de septiembre** y se realizará a través de Bloque Neón."
   ]
  },
  {
   "cell_type": "code",
   "execution_count": 1,
   "metadata": {},
   "outputs": [],
   "source": [
    "import numpy as np\n",
    "import pandas as pd\n",
    "\n",
    "import matplotlib.pyplot as plt\n",
    "from sklearn.metrics import mean_squared_error\n",
    "import sklearn\n",
    "from sklearn.preprocessing import OrdinalEncoder, MinMaxScaler, RobustScaler\n",
    "from sklearn.model_selection import train_test_split"
   ]
  },
  {
   "cell_type": "code",
   "execution_count": 2,
   "metadata": {},
   "outputs": [
    {
     "data": {
      "text/html": [
       "<div>\n",
       "<style scoped>\n",
       "    .dataframe tbody tr th:only-of-type {\n",
       "        vertical-align: middle;\n",
       "    }\n",
       "\n",
       "    .dataframe tbody tr th {\n",
       "        vertical-align: top;\n",
       "    }\n",
       "\n",
       "    .dataframe thead th {\n",
       "        text-align: right;\n",
       "    }\n",
       "</style>\n",
       "<table border=\"1\" class=\"dataframe\">\n",
       "  <thead>\n",
       "    <tr style=\"text-align: right;\">\n",
       "      <th></th>\n",
       "      <th>model</th>\n",
       "      <th>year</th>\n",
       "      <th>price</th>\n",
       "      <th>transmission</th>\n",
       "      <th>mileage</th>\n",
       "      <th>fuelType</th>\n",
       "      <th>tax</th>\n",
       "      <th>mpg</th>\n",
       "      <th>engineSize</th>\n",
       "    </tr>\n",
       "  </thead>\n",
       "  <tbody>\n",
       "    <tr>\n",
       "      <th>0</th>\n",
       "      <td>GT86</td>\n",
       "      <td>2016</td>\n",
       "      <td>16000</td>\n",
       "      <td>Manual</td>\n",
       "      <td>24089</td>\n",
       "      <td>Petrol</td>\n",
       "      <td>265</td>\n",
       "      <td>36.2</td>\n",
       "      <td>2.0</td>\n",
       "    </tr>\n",
       "    <tr>\n",
       "      <th>1</th>\n",
       "      <td>GT86</td>\n",
       "      <td>2017</td>\n",
       "      <td>15995</td>\n",
       "      <td>Manual</td>\n",
       "      <td>18615</td>\n",
       "      <td>Petrol</td>\n",
       "      <td>145</td>\n",
       "      <td>36.2</td>\n",
       "      <td>2.0</td>\n",
       "    </tr>\n",
       "    <tr>\n",
       "      <th>2</th>\n",
       "      <td>GT86</td>\n",
       "      <td>2015</td>\n",
       "      <td>13998</td>\n",
       "      <td>Manual</td>\n",
       "      <td>27469</td>\n",
       "      <td>Petrol</td>\n",
       "      <td>265</td>\n",
       "      <td>36.2</td>\n",
       "      <td>2.0</td>\n",
       "    </tr>\n",
       "    <tr>\n",
       "      <th>3</th>\n",
       "      <td>GT86</td>\n",
       "      <td>2017</td>\n",
       "      <td>18998</td>\n",
       "      <td>Manual</td>\n",
       "      <td>14736</td>\n",
       "      <td>Petrol</td>\n",
       "      <td>150</td>\n",
       "      <td>36.2</td>\n",
       "      <td>2.0</td>\n",
       "    </tr>\n",
       "    <tr>\n",
       "      <th>4</th>\n",
       "      <td>GT86</td>\n",
       "      <td>2017</td>\n",
       "      <td>17498</td>\n",
       "      <td>Manual</td>\n",
       "      <td>36284</td>\n",
       "      <td>Petrol</td>\n",
       "      <td>145</td>\n",
       "      <td>36.2</td>\n",
       "      <td>2.0</td>\n",
       "    </tr>\n",
       "  </tbody>\n",
       "</table>\n",
       "</div>"
      ],
      "text/plain": [
       "   model  year  price transmission  mileage fuelType  tax   mpg  engineSize\n",
       "0   GT86  2016  16000       Manual    24089   Petrol  265  36.2         2.0\n",
       "1   GT86  2017  15995       Manual    18615   Petrol  145  36.2         2.0\n",
       "2   GT86  2015  13998       Manual    27469   Petrol  265  36.2         2.0\n",
       "3   GT86  2017  18998       Manual    14736   Petrol  150  36.2         2.0\n",
       "4   GT86  2017  17498       Manual    36284   Petrol  145  36.2         2.0"
      ]
     },
     "execution_count": 2,
     "metadata": {},
     "output_type": "execute_result"
    }
   ],
   "source": [
    "df = pd.read_csv('carDataset/toyota.csv')\n",
    "df.head()"
   ]
  },
  {
   "cell_type": "code",
   "execution_count": 3,
   "metadata": {},
   "outputs": [
    {
     "name": "stdout",
     "output_type": "stream",
     "text": [
      "<class 'pandas.core.frame.DataFrame'>\n",
      "RangeIndex: 6738 entries, 0 to 6737\n",
      "Data columns (total 9 columns):\n",
      " #   Column        Non-Null Count  Dtype  \n",
      "---  ------        --------------  -----  \n",
      " 0   model         6738 non-null   object \n",
      " 1   year          6738 non-null   int64  \n",
      " 2   price         6738 non-null   int64  \n",
      " 3   transmission  6738 non-null   object \n",
      " 4   mileage       6738 non-null   int64  \n",
      " 5   fuelType      6738 non-null   object \n",
      " 6   tax           6738 non-null   int64  \n",
      " 7   mpg           6738 non-null   float64\n",
      " 8   engineSize    6738 non-null   float64\n",
      "dtypes: float64(2), int64(4), object(3)\n",
      "memory usage: 473.9+ KB\n"
     ]
    }
   ],
   "source": [
    "df.info()"
   ]
  },
  {
   "cell_type": "markdown",
   "metadata": {},
   "source": [
    "Podemos observar algunas categorías numéricas, y otras de tipo _object_ (string)."
   ]
  },
  {
   "cell_type": "code",
   "execution_count": 4,
   "metadata": {},
   "outputs": [],
   "source": [
    "categ = ['model','year','transmission','fuelType','engineSize']\n",
    "str_categ = ['model','transmission','fuelType']\n",
    "numer = ['price','mileage','tax','mpg']"
   ]
  },
  {
   "cell_type": "code",
   "execution_count": 5,
   "metadata": {},
   "outputs": [],
   "source": [
    "results = {}"
   ]
  },
  {
   "cell_type": "markdown",
   "metadata": {},
   "source": [
    "## Parte 1\n",
    "\n",
    "A continuación se realizó el ajuste de los datos para un modelo de regresión lineal definido mediante la librería SciKit-Learn. Se observan dos métricas de precisión, en este caso Error Cuadrático Medio (RMSE) y $R^2$ (puede leer más sobre esta métrica en [ScikitLearn: r2_score](https://scikit-learn.org/stable/modules/generated/sklearn.metrics.r2_score.html)). Se le entregarán los dos primeros casos como ejemplo, usted debe implementar los demás a partir de estos primeros."
   ]
  },
  {
   "cell_type": "markdown",
   "metadata": {},
   "source": [
    "#### Casos:\n",
    "\n",
    "- Caso 1: Codificación One-Hot (MinMaxScaler)\n",
    "- Caso 2: Codificación Ordinal (MinMaxScaler)\n",
    "- Caso 3: Codificación One-Hot (RobustScaler)\n",
    "- Caso 4: Codificación Ordinal (RobustScaler)\n",
    "- Caso 5: Entrenar con un 30% (Codificación Ordinal, MinMaxScaler)\n",
    "- Caso 6: Entrenar con un 55% (Codificación Ordinal, MinMaxScaler)\n",
    "- Caso 7: Entrenar con un 80% (Codificación Ordinal, MinMaxScaler)\n",
    "\n",
    "Analice los resultados."
   ]
  },
  {
   "cell_type": "markdown",
   "metadata": {},
   "source": [
    "### Caso 1:"
   ]
  },
  {
   "cell_type": "markdown",
   "metadata": {},
   "source": [
    "#### Codificación One-Hot\n",
    "\n",
    "Una de las formas de codificar categorías no numéricas se conoce como _one-hot encoding_, en donde se crea una columna para cada valor distinto que exista en la característica que estamos codificando y, para cada registro, marcar con un 1 la columna a la que pertenezca dicho registro y dejar las demás con 0.\n",
    "\n",
    "Igualmente, en este caso se realizará un escalamiento de los datos utilizando un `MinMaxScaler`, investigue más sobre esta función en: [ScikitLearn: MinMaxScaler](https://scikit-learn.org/stable/modules/generated/sklearn.preprocessing.MinMaxScaler.html)."
   ]
  },
  {
   "cell_type": "code",
   "execution_count": 6,
   "metadata": {},
   "outputs": [],
   "source": [
    "# En realidad, para este caso no es necesario escalar la variable dependiente.\n",
    "# Esto garantiza tener un RMSE comparable entre experimentos\n",
    "Y = df.price"
   ]
  },
  {
   "cell_type": "code",
   "execution_count": 7,
   "metadata": {
    "scrolled": true
   },
   "outputs": [
    {
     "data": {
      "text/plain": [
       "Index(['year', 'price', 'mileage', 'tax', 'mpg', 'engineSize', 'model_ Auris',\n",
       "       'model_ Avensis', 'model_ Aygo', 'model_ C-HR', 'model_ Camry',\n",
       "       'model_ Corolla', 'model_ GT86', 'model_ Hilux', 'model_ IQ',\n",
       "       'model_ Land Cruiser', 'model_ PROACE VERSO', 'model_ Prius',\n",
       "       'model_ RAV4', 'model_ Supra', 'model_ Urban Cruiser', 'model_ Verso',\n",
       "       'model_ Verso-S', 'model_ Yaris', 'transmission_Automatic',\n",
       "       'transmission_Manual', 'transmission_Other', 'transmission_Semi-Auto',\n",
       "       'fuelType_Diesel', 'fuelType_Hybrid', 'fuelType_Other',\n",
       "       'fuelType_Petrol'],\n",
       "      dtype='object')"
      ]
     },
     "execution_count": 7,
     "metadata": {},
     "output_type": "execute_result"
    }
   ],
   "source": [
    "# Codificador de dummies\n",
    "df_ohe = pd.get_dummies(df)\n",
    "# Inicialización de escalador\n",
    "scaler = MinMaxScaler()\n",
    "# Escalación de dataframe\n",
    "df_scl_ohe = scaler.fit_transform(df_ohe)\n",
    "# Creación nuevo DataFrame\n",
    "df_scl_ohe = pd.DataFrame(df_scl_ohe, columns = df_ohe.columns)\n",
    "df_scl_ohe.head()\n",
    "# Guardar el dataframe para referencia\n",
    "caso1 = df_scl_ohe\n",
    "caso1.columns"
   ]
  },
  {
   "cell_type": "markdown",
   "metadata": {},
   "source": [
    "#### Separación de Datos"
   ]
  },
  {
   "cell_type": "code",
   "execution_count": 8,
   "metadata": {},
   "outputs": [],
   "source": [
    "# Eliminar etiqueta a predecir y crear datos X\n",
    "X = df_scl_ohe.drop(['price'], axis=1)\n",
    "# Etiqueta a predecir\n",
    "#y = df_scl_ohe['price']\n",
    "# Separar en train y test\n",
    "X_train, X_test, y_train, y_test = train_test_split(X, Y, test_size=0.2, random_state=22)"
   ]
  },
  {
   "cell_type": "code",
   "execution_count": 9,
   "metadata": {},
   "outputs": [
    {
     "name": "stdout",
     "output_type": "stream",
     "text": [
      "RMSE: 1858.859\n",
      "R^2: 0.917\n",
      "\n"
     ]
    }
   ],
   "source": [
    "# Importación de metodos regresores.\n",
    "from sklearn.metrics import mean_squared_error, r2_score\n",
    "from sklearn.linear_model import LinearRegression\n",
    "\n",
    "#Instanciación de modelo de regresión lineal\n",
    "model_1 = LinearRegression()\n",
    "# Fit del modelo con datos train\n",
    "model_1.fit(X_train, y_train)\n",
    "#Predicción de modelo con test\n",
    "preds = model_1.predict(X_test)\n",
    "#Obtención del RMSE\n",
    "rmse = np.sqrt(mean_squared_error(y_test, preds))\n",
    "# R cuadrado\n",
    "rs = model_1.score(X_test, y_test)\n",
    "print(f'RMSE: {round(rmse,3)}')\n",
    "print(f'R^2: {round(rs,3)}\\n')\n",
    "results.update({( \"One-Hot\",\"MinMaxScaler\", \"20%\"): [rmse , rs]})"
   ]
  },
  {
   "cell_type": "code",
   "execution_count": 10,
   "metadata": {},
   "outputs": [
    {
     "data": {
      "text/plain": [
       "31"
      ]
     },
     "execution_count": 10,
     "metadata": {},
     "output_type": "execute_result"
    }
   ],
   "source": [
    "len(model_1.coef_)"
   ]
  },
  {
   "cell_type": "markdown",
   "metadata": {},
   "source": [
    "Los coeficientes del modelo"
   ]
  },
  {
   "cell_type": "code",
   "execution_count": 11,
   "metadata": {
    "scrolled": true
   },
   "outputs": [
    {
     "name": "stdout",
     "output_type": "stream",
     "text": [
      "2315.5315207739823 [ 1.73321068e+04 -1.07001962e+04 -2.14932775e+03 -2.81882862e+03\n",
      "  1.19184138e+04 -6.02756068e+03 -4.60494640e+03 -8.83134643e+03\n",
      " -5.68559140e+02  9.45924285e+02 -9.63879780e+02  6.36754435e+02\n",
      "  2.49931956e+03 -6.32885391e+03  1.68643247e+04  8.33662423e+03\n",
      " -1.00178072e+03 -1.01412238e+03  2.47540441e+04 -6.51470534e+03\n",
      " -4.74153243e+03 -5.80634285e+03 -7.63336124e+03  3.49323968e+02\n",
      " -8.18315170e+02 -1.81898940e-12  4.68991202e+02 -1.91269765e+03\n",
      "  1.47703099e+03  8.46746010e+02 -4.11079345e+02]\n"
     ]
    }
   ],
   "source": [
    "print(model_1.intercept_, model_1.coef_)"
   ]
  },
  {
   "cell_type": "code",
   "execution_count": 12,
   "metadata": {},
   "outputs": [
    {
     "data": {
      "text/plain": [
       "array([ -860.67635297,  -291.09143125,  -407.39758599, ...,\n",
       "        1217.77724713,   -53.68872232, -1263.07496951])"
      ]
     },
     "execution_count": 12,
     "metadata": {},
     "output_type": "execute_result"
    }
   ],
   "source": [
    "y_test.to_numpy() - preds"
   ]
  },
  {
   "cell_type": "code",
   "execution_count": 13,
   "metadata": {},
   "outputs": [
    {
     "data": {
      "text/plain": [
       "-5819.197976439205"
      ]
     },
     "execution_count": 13,
     "metadata": {},
     "output_type": "execute_result"
    },
    {
     "data": {
      "image/png": "[encoded data removed]",
      "text/plain": [
       "<Figure size 432x288 with 1 Axes>"
      ]
     },
     "metadata": {
      "needs_background": "light"
     },
     "output_type": "display_data"
    }
   ],
   "source": [
    "# Los errores tienden al 0\n",
    "plt.plot(y_test.to_numpy() - preds, '.')\n"
   ]
  },
  {
   "cell_type": "markdown",
   "metadata": {},
   "source": [
    "* En el **Caso 1** vemos que usando una codificación One-Hot se obtiene un **$R^2$** DE 0.917 lo cual es muy bueno para un modelo de predicción. El **RMSE** es de 1858,8. Observe que una variable toma el lugar del intercepto como caso base debido a que se usa como insumo de los datos `X`\n",
    " una matriz con todas las dummys.\n",
    "\n",
    "* La codificación One-Hot codifica cada variable categorica como varias columnas de 0-1 para cada valor único de la variable. La Estandarización MinMax produce que (por default) el valor máximo de la variable se convierta en 1 y el valor mínimo en 0 y se escale los valores de la variable entre estos dos limites.\n",
    "\n",
    "* Para realizar la transformación de datos categóricos en una regresión lineal se recomienda usar la codificación dummy sobre la ordinal dado que esta implica un orden sobre los posibles valores de la variable lo cual no siempre es el caso. Además, produce que la separación numerica entre valores sea la misma. Esto puede producir un modelo mal especificado."
   ]
  },
  {
   "cell_type": "markdown",
   "metadata": {},
   "source": [
    "### Caso 2: Codificación Ordinal (MinMaxScaler)\n",
    "\n",
    "#### Codificación Ordinal"
   ]
  },
  {
   "cell_type": "code",
   "execution_count": 14,
   "metadata": {},
   "outputs": [],
   "source": [
    "# Para este ejemplo se cambiará el codificador a Ordinal\n",
    "oe = OrdinalEncoder()\n",
    "df_oe = df.copy()\n",
    "df_oe[str_categ] = oe.fit_transform(df_oe[str_categ])\n",
    "\n",
    "x = df_oe.values #returns a numpy array Mejor usar .to_numpy()\n",
    "min_max_scaler = MinMaxScaler()# Default es 0,1\n",
    "x_scaled = min_max_scaler.fit_transform(x)\n",
    "df_scl_oe = pd.DataFrame(x_scaled, columns=df_oe.columns)\n",
    "df_scl_oe.head()\n",
    "caso2 = df_scl_oe"
   ]
  },
  {
   "cell_type": "markdown",
   "metadata": {},
   "source": [
    "#### Separación de Datos"
   ]
  },
  {
   "cell_type": "code",
   "execution_count": 15,
   "metadata": {
    "scrolled": true
   },
   "outputs": [],
   "source": [
    "X = df_scl_oe.drop(['price'], axis=1)\n",
    "#y = df_scl_oe['price']\n",
    "X_train, X_test, y_train, y_test = train_test_split(X, Y, test_size=0.2, random_state=22)"
   ]
  },
  {
   "cell_type": "code",
   "execution_count": 16,
   "metadata": {},
   "outputs": [
    {
     "name": "stdout",
     "output_type": "stream",
     "text": [
      "RMSE: 2975.659\n",
      "R^2: 0.787\n",
      "\n"
     ]
    }
   ],
   "source": [
    "model_2 = LinearRegression()\n",
    "\n",
    "model_2.fit(X_train, y_train)\n",
    "preds = model_2.predict(X_test)\n",
    "rmse = np.sqrt(mean_squared_error(y_test, preds))\n",
    "rs = model_2.score(X_test, y_test)\n",
    "print(f'RMSE: {round(rmse,3)}')\n",
    "print(f'R^2: {round(rs,3)}\\n')\n",
    "results.update({( \"Ordinal\",\"MinMaxScaler\", \"20%\"): [rmse , rs]})"
   ]
  },
  {
   "cell_type": "markdown",
   "metadata": {},
   "source": [
    "* Ahora se uso un codificador ordinal el cual codifica cada variable categorica como una columna de enteros desde 0 hasta $n-1$ (por default). Ahora, dado que luego se uso el escalador de Min-Max tendremos como resultado una columna por cada variable categórica con valores de 0 a 1 donde cada valor unico esta separado en esta escala [0,1].\n",
    "\n",
    "* El **$R^2$** es de 0.787 y el RSME es de 2975,6. Esta transformación puede no ser muy util ya que implica un orden ordinal de los datos donde unos tienen un valor numérico superior a otros y están separados por rangos numericos equidistantes. Puede que por esto, este modelo se desempeña peor prediciendo que el anterior que usa la codificación dummy"
   ]
  },
  {
   "cell_type": "markdown",
   "metadata": {},
   "source": [
    "Para la elaboración de la primera parte de la tarea usaremos las siguientes funciones:"
   ]
  },
  {
   "cell_type": "code",
   "execution_count": 17,
   "metadata": {},
   "outputs": [],
   "source": [
    "def regresion_lineal(X_train, X_test, y_train, y_test):\n",
    "    '''\n",
    "    Inputs: Resultado de la función  train_test_split\n",
    "    Output: Modelo lineal fitted, RMSE del modelo lineal, R^2 del modelo\n",
    "    '''\n",
    "    # Instanceación del modelo lineal\n",
    "    modelo = LinearRegression()\n",
    "    # \"Optimización\" Fitting del modelo lineal con datos train\n",
    "    modelo.fit(X_train, y_train)\n",
    "    # Predicción con el modelo de los datos de prueba\n",
    "    preds = modelo.predict(X_test)\n",
    "    #Obtención de métrica RMSE\n",
    "    rmse = np.sqrt(mean_squared_error(y_test, preds))\n",
    "    # Obtención de métrica R^2\n",
    "    rs = modelo.score(X_test, y_test)\n",
    "    \n",
    "    print(f'RMSE: {round(rmse,3)}')\n",
    "    print(f'R^2: {round(rs,3)}\\n')\n",
    "    return modelo, rmse, rs\n",
    "    "
   ]
  },
  {
   "cell_type": "markdown",
   "metadata": {},
   "source": [
    "### Caso 3: Codificación One-Hot (RobustScaler)\n",
    "\n",
    "#### Codificación One-Hot"
   ]
  },
  {
   "cell_type": "markdown",
   "metadata": {},
   "source": [
    "* En este caso estamos usando la estandarización RobustScaler la cual previene una estandarización dominada por outliers o valores extremos. Un fallo importante de la estandarización MinMax es que en caso de outliers se puede dañar la escala usada al concentrar el resto de valores en un rango mucho menor lo que provoca una disminución en la capacidad de predicción. Para evitar esto el RobustScaler realiza el escalamiento con el rango intercuartil entre el 25avo cuantil y el 75avo. Esto da mejores resultados en caso de outliers en los modelos de predicción. Tambien se resta la media antes de realizar el escalamiento para centrar los datos. "
   ]
  },
  {
   "cell_type": "code",
   "execution_count": 18,
   "metadata": {},
   "outputs": [
    {
     "data": {
      "text/html": [
       "<div>\n",
       "<style scoped>\n",
       "    .dataframe tbody tr th:only-of-type {\n",
       "        vertical-align: middle;\n",
       "    }\n",
       "\n",
       "    .dataframe tbody tr th {\n",
       "        vertical-align: top;\n",
       "    }\n",
       "\n",
       "    .dataframe thead th {\n",
       "        text-align: right;\n",
       "    }\n",
       "</style>\n",
       "<table border=\"1\" class=\"dataframe\">\n",
       "  <thead>\n",
       "    <tr style=\"text-align: right;\">\n",
       "      <th></th>\n",
       "      <th>year</th>\n",
       "      <th>price</th>\n",
       "      <th>mileage</th>\n",
       "      <th>tax</th>\n",
       "      <th>mpg</th>\n",
       "      <th>engineSize</th>\n",
       "      <th>model_ Auris</th>\n",
       "      <th>model_ Avensis</th>\n",
       "      <th>model_ Aygo</th>\n",
       "      <th>model_ C-HR</th>\n",
       "      <th>...</th>\n",
       "      <th>model_ Verso-S</th>\n",
       "      <th>model_ Yaris</th>\n",
       "      <th>transmission_Automatic</th>\n",
       "      <th>transmission_Manual</th>\n",
       "      <th>transmission_Other</th>\n",
       "      <th>transmission_Semi-Auto</th>\n",
       "      <th>fuelType_Diesel</th>\n",
       "      <th>fuelType_Hybrid</th>\n",
       "      <th>fuelType_Other</th>\n",
       "      <th>fuelType_Petrol</th>\n",
       "    </tr>\n",
       "  </thead>\n",
       "  <tbody>\n",
       "    <tr>\n",
       "      <th>0</th>\n",
       "      <td>-0.5</td>\n",
       "      <td>0.776286</td>\n",
       "      <td>0.257936</td>\n",
       "      <td>0.896552</td>\n",
       "      <td>-1.955882</td>\n",
       "      <td>0.625</td>\n",
       "      <td>0.0</td>\n",
       "      <td>0.0</td>\n",
       "      <td>0.0</td>\n",
       "      <td>0.0</td>\n",
       "      <td>...</td>\n",
       "      <td>0.0</td>\n",
       "      <td>0.0</td>\n",
       "      <td>0.0</td>\n",
       "      <td>0.0</td>\n",
       "      <td>0.0</td>\n",
       "      <td>0.0</td>\n",
       "      <td>0.0</td>\n",
       "      <td>0.0</td>\n",
       "      <td>0.0</td>\n",
       "      <td>0.0</td>\n",
       "    </tr>\n",
       "    <tr>\n",
       "      <th>1</th>\n",
       "      <td>0.0</td>\n",
       "      <td>0.775541</td>\n",
       "      <td>0.004718</td>\n",
       "      <td>0.068966</td>\n",
       "      <td>-1.955882</td>\n",
       "      <td>0.625</td>\n",
       "      <td>0.0</td>\n",
       "      <td>0.0</td>\n",
       "      <td>0.0</td>\n",
       "      <td>0.0</td>\n",
       "      <td>...</td>\n",
       "      <td>0.0</td>\n",
       "      <td>0.0</td>\n",
       "      <td>0.0</td>\n",
       "      <td>0.0</td>\n",
       "      <td>0.0</td>\n",
       "      <td>0.0</td>\n",
       "      <td>0.0</td>\n",
       "      <td>0.0</td>\n",
       "      <td>0.0</td>\n",
       "      <td>0.0</td>\n",
       "    </tr>\n",
       "    <tr>\n",
       "      <th>2</th>\n",
       "      <td>-1.0</td>\n",
       "      <td>0.477703</td>\n",
       "      <td>0.414289</td>\n",
       "      <td>0.896552</td>\n",
       "      <td>-1.955882</td>\n",
       "      <td>0.625</td>\n",
       "      <td>0.0</td>\n",
       "      <td>0.0</td>\n",
       "      <td>0.0</td>\n",
       "      <td>0.0</td>\n",
       "      <td>...</td>\n",
       "      <td>0.0</td>\n",
       "      <td>0.0</td>\n",
       "      <td>0.0</td>\n",
       "      <td>0.0</td>\n",
       "      <td>0.0</td>\n",
       "      <td>0.0</td>\n",
       "      <td>0.0</td>\n",
       "      <td>0.0</td>\n",
       "      <td>0.0</td>\n",
       "      <td>0.0</td>\n",
       "    </tr>\n",
       "    <tr>\n",
       "      <th>3</th>\n",
       "      <td>0.0</td>\n",
       "      <td>1.223415</td>\n",
       "      <td>-0.174718</td>\n",
       "      <td>0.103448</td>\n",
       "      <td>-1.955882</td>\n",
       "      <td>0.625</td>\n",
       "      <td>0.0</td>\n",
       "      <td>0.0</td>\n",
       "      <td>0.0</td>\n",
       "      <td>0.0</td>\n",
       "      <td>...</td>\n",
       "      <td>0.0</td>\n",
       "      <td>0.0</td>\n",
       "      <td>0.0</td>\n",
       "      <td>0.0</td>\n",
       "      <td>0.0</td>\n",
       "      <td>0.0</td>\n",
       "      <td>0.0</td>\n",
       "      <td>0.0</td>\n",
       "      <td>0.0</td>\n",
       "      <td>0.0</td>\n",
       "    </tr>\n",
       "    <tr>\n",
       "      <th>4</th>\n",
       "      <td>0.0</td>\n",
       "      <td>0.999702</td>\n",
       "      <td>0.822056</td>\n",
       "      <td>0.068966</td>\n",
       "      <td>-1.955882</td>\n",
       "      <td>0.625</td>\n",
       "      <td>0.0</td>\n",
       "      <td>0.0</td>\n",
       "      <td>0.0</td>\n",
       "      <td>0.0</td>\n",
       "      <td>...</td>\n",
       "      <td>0.0</td>\n",
       "      <td>0.0</td>\n",
       "      <td>0.0</td>\n",
       "      <td>0.0</td>\n",
       "      <td>0.0</td>\n",
       "      <td>0.0</td>\n",
       "      <td>0.0</td>\n",
       "      <td>0.0</td>\n",
       "      <td>0.0</td>\n",
       "      <td>0.0</td>\n",
       "    </tr>\n",
       "  </tbody>\n",
       "</table>\n",
       "<p>5 rows × 32 columns</p>\n",
       "</div>"
      ],
      "text/plain": [
       "   year     price   mileage       tax       mpg  engineSize  model_ Auris  \\\n",
       "0  -0.5  0.776286  0.257936  0.896552 -1.955882       0.625           0.0   \n",
       "1   0.0  0.775541  0.004718  0.068966 -1.955882       0.625           0.0   \n",
       "2  -1.0  0.477703  0.414289  0.896552 -1.955882       0.625           0.0   \n",
       "3   0.0  1.223415 -0.174718  0.103448 -1.955882       0.625           0.0   \n",
       "4   0.0  0.999702  0.822056  0.068966 -1.955882       0.625           0.0   \n",
       "\n",
       "   model_ Avensis  model_ Aygo  model_ C-HR  ...  model_ Verso-S  \\\n",
       "0             0.0          0.0          0.0  ...             0.0   \n",
       "1             0.0          0.0          0.0  ...             0.0   \n",
       "2             0.0          0.0          0.0  ...             0.0   \n",
       "3             0.0          0.0          0.0  ...             0.0   \n",
       "4             0.0          0.0          0.0  ...             0.0   \n",
       "\n",
       "   model_ Yaris  transmission_Automatic  transmission_Manual  \\\n",
       "0           0.0                     0.0                  0.0   \n",
       "1           0.0                     0.0                  0.0   \n",
       "2           0.0                     0.0                  0.0   \n",
       "3           0.0                     0.0                  0.0   \n",
       "4           0.0                     0.0                  0.0   \n",
       "\n",
       "   transmission_Other  transmission_Semi-Auto  fuelType_Diesel  \\\n",
       "0                 0.0                     0.0              0.0   \n",
       "1                 0.0                     0.0              0.0   \n",
       "2                 0.0                     0.0              0.0   \n",
       "3                 0.0                     0.0              0.0   \n",
       "4                 0.0                     0.0              0.0   \n",
       "\n",
       "   fuelType_Hybrid  fuelType_Other  fuelType_Petrol  \n",
       "0              0.0             0.0              0.0  \n",
       "1              0.0             0.0              0.0  \n",
       "2              0.0             0.0              0.0  \n",
       "3              0.0             0.0              0.0  \n",
       "4              0.0             0.0              0.0  \n",
       "\n",
       "[5 rows x 32 columns]"
      ]
     },
     "metadata": {},
     "output_type": "display_data"
    }
   ],
   "source": [
    "# Hacer dummies\n",
    "df_ohe = pd.get_dummies(df)\n",
    "# Instanceamos el escalador\n",
    "scaler = RobustScaler()\n",
    "# Transformamos los datos\n",
    "df_scl_ohe = scaler.fit_transform(df_ohe)\n",
    "df_scl_ohe = pd.DataFrame(df_scl_ohe, columns = df_ohe.columns)\n",
    "display(df_scl_ohe.head())\n",
    "caso3 = df_scl_ohe"
   ]
  },
  {
   "cell_type": "markdown",
   "metadata": {},
   "source": [
    "#### Separación de Datos"
   ]
  },
  {
   "cell_type": "code",
   "execution_count": 19,
   "metadata": {
    "scrolled": true
   },
   "outputs": [
    {
     "name": "stdout",
     "output_type": "stream",
     "text": [
      "RMSE: 1858.859\n",
      "R^2: 0.917\n",
      "\n"
     ]
    }
   ],
   "source": [
    "X = df_scl_ohe.drop(['price'], axis=1)\n",
    "#y = df_scl_ohe['price']\n",
    "# Usamos nuestra función con un test_size de 20% como veniamos haciendo. \n",
    "X_train, X_test, y_train, y_test = train_test_split(X, Y, test_size=0.2, random_state=22)\n",
    "#Hacemos la separación\n",
    "caso3_modelo, caso3_rmse, caso3_rs = regresion_lineal(X_train, X_test, y_train, y_test)\n",
    "results.update({( \"One-Hot\",\"RobustScaler\", \"20%\"): [caso3_rmse , caso3_rs]})"
   ]
  },
  {
   "cell_type": "markdown",
   "metadata": {},
   "source": [
    "El **$R^2$** de este modelo es de 0.917 y el RMSE es de 1858.8. No hay una mejora frente a usar la estandarización Min-Max, puede que porque no hay outliers en los datos."
   ]
  },
  {
   "cell_type": "markdown",
   "metadata": {},
   "source": [
    "### Caso 4\n",
    "\n",
    "#### Codificación Ordinal"
   ]
  },
  {
   "cell_type": "code",
   "execution_count": 20,
   "metadata": {},
   "outputs": [],
   "source": [
    "# Usamos el codigo del caso 2\n",
    "oe = OrdinalEncoder()\n",
    "df_oe = df.copy()\n",
    "df_oe[str_categ] = oe.fit_transform(df_oe[str_categ])\n",
    "\n",
    "x = df_oe.values #returns a numpy array Mejor usar .to_numpy()\n",
    "min_max_scaler = RobustScaler()\n",
    "x_scaled = min_max_scaler.fit_transform(x)\n",
    "df_scl_oe = pd.DataFrame(x_scaled, columns=df_oe.columns)\n",
    "df_scl_oe.head()\n",
    "caso4 = df_scl_oe"
   ]
  },
  {
   "cell_type": "markdown",
   "metadata": {},
   "source": [
    "#### Separación de Datos"
   ]
  },
  {
   "cell_type": "code",
   "execution_count": 21,
   "metadata": {
    "scrolled": true
   },
   "outputs": [
    {
     "name": "stdout",
     "output_type": "stream",
     "text": [
      "RMSE: 2975.659\n",
      "R^2: 0.787\n",
      "\n"
     ]
    }
   ],
   "source": [
    "X = df_scl_oe.drop(['price'], axis=1)\n",
    "#y = df_scl_oe['price']\n",
    "X_train, X_test, y_train, y_test = train_test_split(X, Y, test_size=0.2, random_state=22)\n",
    "caso4_modelo, caso4_rmse, caso4_rs = regresion_lineal(X_train, X_test, y_train, y_test)\n",
    "results.update({( \"Ordinal\",\"RobustScaler\", \"20%\"): [caso4_rmse , caso4_rs]})\n"
   ]
  },
  {
   "cell_type": "markdown",
   "metadata": {},
   "source": [
    "El **$R^2$** de este modelo es de 78,7% y el RMSE es de 2975,6. El R cuadrado empeoro y el RMSE aumento frente al caso con el mismo estandarizador dado que la codificación ordinal no es la correcta para las variables categórticas"
   ]
  },
  {
   "cell_type": "markdown",
   "metadata": {},
   "source": [
    "### Caso 5: Entrenar con un 30% (Codificación Ordinal, MinMaxScaler)\n",
    "\n",
    "#### Codificación Ordinal"
   ]
  },
  {
   "cell_type": "code",
   "execution_count": 22,
   "metadata": {},
   "outputs": [],
   "source": [
    "#Los datos del caso 2 corresponden a una codificación ordinal y un escalamiento de minmax Scaler\n",
    "X = caso2.drop(['price'], axis=1)\n",
    "#y = caso2['price']\n",
    "X_train, X_test, y_train, y_test = train_test_split(X, Y, train_size=0.3, random_state=22)"
   ]
  },
  {
   "cell_type": "markdown",
   "metadata": {},
   "source": [
    "#### Separación de Datos"
   ]
  },
  {
   "cell_type": "code",
   "execution_count": 23,
   "metadata": {
    "scrolled": true
   },
   "outputs": [
    {
     "name": "stdout",
     "output_type": "stream",
     "text": [
      "RMSE: 2908.859\n",
      "R^2: 0.785\n",
      "\n"
     ]
    }
   ],
   "source": [
    "caso5_modelo, caso5_rmse, caso5_rs = regresion_lineal(X_train, X_test, y_train, y_test)\n",
    "results.update({( \"Ordinal\",\"MinMaxScaler\", \"30%\"): [caso5_rmse , caso5_rs]})"
   ]
  },
  {
   "cell_type": "markdown",
   "metadata": {},
   "source": [
    "El **$R^2$** del modelo es de 78,5% y el RMSE es de 2908. \n",
    "En principio, este modelo tiene los mismos grados de libertad que el que se entrena con 80% de los datos y para una regresión lineal no es usual separar en train y test, a menos que se use regularización.  Las métricas de desempeño empeoran pero solo ligeramente sobre el caso base: Caso 2"
   ]
  },
  {
   "cell_type": "markdown",
   "metadata": {},
   "source": [
    "### Caso 6: Entrenar con un 55% (Codificación Ordinal, MinMaxScaler)\n",
    "\n",
    "#### Codificación Ordinal"
   ]
  },
  {
   "cell_type": "code",
   "execution_count": 24,
   "metadata": {},
   "outputs": [],
   "source": [
    "X = caso2.drop(['price'], axis=1)\n",
    "#y = caso2['price']\n",
    "X_train, X_test, y_train, y_test = train_test_split(X, Y, train_size=0.55, random_state=22)"
   ]
  },
  {
   "cell_type": "markdown",
   "metadata": {},
   "source": [
    "#### Separación de Datos"
   ]
  },
  {
   "cell_type": "code",
   "execution_count": 25,
   "metadata": {
    "scrolled": true
   },
   "outputs": [
    {
     "name": "stdout",
     "output_type": "stream",
     "text": [
      "RMSE: 2942.394\n",
      "R^2: 0.784\n",
      "\n"
     ]
    }
   ],
   "source": [
    "caso6_modelo, caso6_rmse, caso6_rs = regresion_lineal(X_train, X_test, y_train, y_test)\n",
    "results.update({( \"Ordinal\",\"MinMaxScaler\", \"55%\"): [caso6_rmse , caso6_rs]})"
   ]
  },
  {
   "cell_type": "markdown",
   "metadata": {},
   "source": [
    "El **$R^2$** es de 78,4% y el RMSE es de 2942.39"
   ]
  },
  {
   "cell_type": "markdown",
   "metadata": {},
   "source": [
    "### Caso 7: Entrenar con un 80% (Codificación Ordinal, MinMaxScaler)\n",
    "\n",
    "#### Codificación Ordinal"
   ]
  },
  {
   "cell_type": "code",
   "execution_count": 26,
   "metadata": {},
   "outputs": [],
   "source": [
    "X = caso2.drop(['price'], axis=1)\n",
    "#y = caso2['price']\n",
    "X_train, X_test, y_train, y_test = train_test_split(X, Y, train_size=0.8, random_state=22)"
   ]
  },
  {
   "cell_type": "markdown",
   "metadata": {},
   "source": [
    "#### Separación de Datos"
   ]
  },
  {
   "cell_type": "code",
   "execution_count": 27,
   "metadata": {
    "scrolled": true
   },
   "outputs": [
    {
     "name": "stdout",
     "output_type": "stream",
     "text": [
      "RMSE: 2975.659\n",
      "R^2: 0.787\n",
      "\n"
     ]
    }
   ],
   "source": [
    "caso7_modelo, caso7_rmse, caso7_rs = regresion_lineal(X_train, X_test, y_train, y_test)\n",
    "results.update({( \"Ordinal\",\"MinMaxScaler\", \"80%\"): [caso7_rmse , caso7_rs]})"
   ]
  },
  {
   "cell_type": "markdown",
   "metadata": {},
   "source": [
    "El **$R^2$** es de 78,7% y el RMSE es de 2975,6"
   ]
  },
  {
   "cell_type": "markdown",
   "metadata": {},
   "source": [
    "## Análisis"
   ]
  },
  {
   "cell_type": "markdown",
   "metadata": {},
   "source": [
    "Recordemos que el **$R^2= 1-\\frac{SSE}{SST}= 1-\\frac{n\\times MSE}{\\sum_{i=1}^{n}{\\left(y_i-\\bar y\\right)^2}}$** es la fracción de la suma total de cuadrados que es explicada por la regresión y el $RMSE = \\sqrt{MSE}= \\sqrt{\\frac{1}{n} \\sum_{i=1}^{n}{\\left(y_i-\\bar y\\right)^2}}$ es una medida de la desviación promedio de los estimados de sus valores observados. Algunos modelos logran explicar de forma exitosa los datos al lograr, en el caso del modelo MinMax con One-Hot encoding un **$R^2=91.7\\%$**. Se observa una disminución de hasta 12 puntos en **$R^2$** entre los experimentos.\n",
    "\n",
    "Recuerden que la variable dependiente $y$ (`price`) no fue estandarizada para tener RMSE comparables. Esto no conlleva ningun cambio al modelo."
   ]
  },
  {
   "cell_type": "code",
   "execution_count": 28,
   "metadata": {},
   "outputs": [
    {
     "data": {
      "text/html": [
       "<div>\n",
       "<style scoped>\n",
       "    .dataframe tbody tr th:only-of-type {\n",
       "        vertical-align: middle;\n",
       "    }\n",
       "\n",
       "    .dataframe tbody tr th {\n",
       "        vertical-align: top;\n",
       "    }\n",
       "\n",
       "    .dataframe thead tr th {\n",
       "        text-align: left;\n",
       "    }\n",
       "</style>\n",
       "<table border=\"1\" class=\"dataframe\">\n",
       "  <thead>\n",
       "    <tr>\n",
       "      <th></th>\n",
       "      <th colspan=\"2\" halign=\"left\">One-Hot</th>\n",
       "      <th colspan=\"5\" halign=\"left\">Ordinal</th>\n",
       "    </tr>\n",
       "    <tr>\n",
       "      <th></th>\n",
       "      <th>MinMaxScaler</th>\n",
       "      <th>RobustScaler</th>\n",
       "      <th colspan=\"4\" halign=\"left\">MinMaxScaler</th>\n",
       "      <th>RobustScaler</th>\n",
       "    </tr>\n",
       "    <tr>\n",
       "      <th></th>\n",
       "      <th>20%</th>\n",
       "      <th>20%</th>\n",
       "      <th>20%</th>\n",
       "      <th>30%</th>\n",
       "      <th>55%</th>\n",
       "      <th>80%</th>\n",
       "      <th>20%</th>\n",
       "    </tr>\n",
       "  </thead>\n",
       "  <tbody>\n",
       "    <tr>\n",
       "      <th>RMSE</th>\n",
       "      <td>1858.859085</td>\n",
       "      <td>1858.859085</td>\n",
       "      <td>2975.658869</td>\n",
       "      <td>2908.859319</td>\n",
       "      <td>2942.394005</td>\n",
       "      <td>2975.658869</td>\n",
       "      <td>2975.658869</td>\n",
       "    </tr>\n",
       "    <tr>\n",
       "      <th>R Cuadrado</th>\n",
       "      <td>0.917064</td>\n",
       "      <td>0.917064</td>\n",
       "      <td>0.787472</td>\n",
       "      <td>0.784548</td>\n",
       "      <td>0.784183</td>\n",
       "      <td>0.787472</td>\n",
       "      <td>0.787472</td>\n",
       "    </tr>\n",
       "  </tbody>\n",
       "</table>\n",
       "</div>"
      ],
      "text/plain": [
       "                One-Hot                   Ordinal                            \\\n",
       "           MinMaxScaler RobustScaler MinMaxScaler                             \n",
       "                    20%          20%          20%          30%          55%   \n",
       "RMSE        1858.859085  1858.859085  2975.658869  2908.859319  2942.394005   \n",
       "R Cuadrado     0.917064     0.917064     0.787472     0.784548     0.784183   \n",
       "\n",
       "                                      \n",
       "                        RobustScaler  \n",
       "                    80%          20%  \n",
       "RMSE        2975.658869  2975.658869  \n",
       "R Cuadrado     0.787472     0.787472  "
      ]
     },
     "execution_count": 28,
     "metadata": {},
     "output_type": "execute_result"
    },
    {
     "data": {
      "image/png": "[encoded data removed]",
      "text/plain": [
       "<Figure size 432x288 with 2 Axes>"
      ]
     },
     "metadata": {
      "needs_background": "light"
     },
     "output_type": "display_data"
    }
   ],
   "source": [
    "df_resultados = pd.DataFrame.from_dict(results).T.sort_index()\n",
    "df_resultados.columns = [\"RMSE\",\"R Cuadrado\"]\n",
    "ax = df_resultados.plot.bar( subplots=True, grid = True)\n",
    "df_resultados.T"
   ]
  },
  {
   "cell_type": "markdown",
   "metadata": {},
   "source": [
    "* El términos de **$R^2$** y del **RMSE** podemos concluir que, para las variaciones realizadas en las variables categóricas, \n",
    "este solo cambia drásticamente con el esquema de codificación. El R cuadrado es mayor y el RMSE es menor (lo cual es bueno) con la codificación One-Hot. Vemos un un mejor comportamiento con la\n",
    "codificación dummy (One-Hot) que con la ordinal. Esto era esperado dado que para variables\n",
    "categoricas la codificación dummy es preferida al no introducir sesgos de orden de ranqueo natural  como si lo hace la codificación ordinal. No se sabe a priori si los valores de la\n",
    "variable tienen un orden o se puede dar un valor numérico con un espaciado igual por lo que \n",
    "esto por lo general produce problemas de especificación y no ayuda a predecir mejor. Esto tiene sentido al inspeccionar la tabla de datos. El modelo del carro, el tipo de transmisión y el tipo de combustible no tienen un rankeo evidente.\n",
    "\n",
    "* Al aumentar el porcentaje de datos apartado para para test vemos que en terminos del RMSE el mejor porcentaje es 30% al tener un valor mínimo entre todos los porcentajes probados. En terminos del **$R^2$** el mejor valor está en 20% aunque realmente el cambio no es muy significativo para todos los porcentajes. Es importante apartar algunos datos como test dado que, aunque sea regresión lineal, nuestro objetivo es predecir con nuevos datos y estamos haciendo varios experimentos  \n",
    "\n",
    "* Vemos que el cambio de escalamiento de datos usado no afecta de ninguna forma la predicción de los datos nuevos. Los valores de RMSE y **$R^2$** es el mismo para los dos casos en donde se controlan todos los parámetros excepto el escalamiento. De cualquier forma, siempre es bueno escalar los datos de alguna forma para evitar algunos problemas relacionados con la regresión lineal. \n",
    "\n",
    "\n"
   ]
  },
  {
   "cell_type": "markdown",
   "metadata": {},
   "source": [
    "## Parte 2\n",
    "\n",
    "Ahora usted debe desarrollar su propia implementación del método Descenso de Gradiente estocástico. Para esta ocasión debe utilizar una codificación One-Hot, un RobustScaler y realizar el entrenamiento a partir del 80% de los datos. Al final del entrenamiento, en la lista `errores` se deben tener los valores de la función de error para cada iteración y así poder observar el progreso gráficamente."
   ]
  },
  {
   "cell_type": "code",
   "execution_count": 29,
   "metadata": {},
   "outputs": [],
   "source": [
    "# Hacer dummies\n",
    "df_ohe = pd.get_dummies(df)\n",
    "# Instanceamos el escalador\n",
    "scaler = RobustScaler()\n",
    "# Transformamos los datos\n",
    "df_scl_ohe = scaler.fit_transform(df_ohe)\n",
    "df_scl_ohe = pd.DataFrame(df_scl_ohe, columns = df_ohe.columns)\n",
    "\n",
    "X = df_scl_ohe.drop(['price'], axis=1)\n",
    "y = df_scl_ohe['price']\n",
    "# Usamos nuestra función con un test_size de 20% como veniamos haciendo. \n",
    "X_train, X_test, y_train, y_test = train_test_split(X, y, test_size=0.2, random_state=22)"
   ]
  },
  {
   "cell_type": "code",
   "execution_count": 30,
   "metadata": {
    "scrolled": true
   },
   "outputs": [],
   "source": [
    "# Convertimos los datos a arreglos tipo numpy para operaciones matriciales\n",
    "X_train_array = np.c_[np.ones(X_train.values.shape[0]), X_train.values]\n",
    "y_train_array = y_train.values\n",
    "X_test_array = np.c_[np.ones(X_test.values.shape[0]), X_test.values]\n",
    "y_test_array = y_test.values\n",
    "\n",
    "p = X_train_array.shape[1] # Número de variables independientes\n",
    "n_train = X_train_array.shape[0]# Número de datos en entrenamiento\n",
    "#Inicialización de w\n",
    "w0 = np.random.random(size=p)# Inicializar aleatoriamente #\n",
    "w = w0.copy()\n",
    "#Selección de par aleatorio\n",
    "i = np.random.randint(low=0, high=n_train-1)# Posición aleatoria #\n",
    "xActual = X_train_array[i]\n",
    "yActual = y_train_array[i]\n",
    "#Inicialización de criterio de parada\n",
    "eps = 1e-8 # Se define un criterio de parada basado en el error en la predicción\n",
    "# Encontramos que para 1e-8 empiezan a haber rendimientos decrecientes en el número de iteraciones.\n",
    "# Más iteraciones (menos eps) no implica un aumento considerable en el R2 de prueba. \n",
    "error = float('inf') # Valor inicial, se debe actualizar en cada iteración #\n",
    "dif = float('inf') # Diferencia entre vectores de pesos w consecutivos #\n",
    "#Inicialización de valor de la tasa de aprendizaje \n",
    "vcov = np.cov(X_train_array) # se obtiene la matriz de varianza covarianza\n",
    "# max_eig = max(np.linalg.eigvals(vcov)) # Maximo valor propio de la matriz. Es la parte más demorada!.\n",
    "max_eig = 431.02649 # Como es demorado, se usa siempre el valor para un set de entrenamiento. Es una aproximación!\n",
    "tasa = 2/max_eig # Selección de tasa de aprendizaje 2/lambda_max\n",
    "#Lista para monitorear aprendizaje\n",
    "errores = [] # Agregar a esta lista los valores de la función de error en cada iteración #\n",
    "\n",
    "#Ciclo iterativo según algoritmo de descenso de gradiente\n",
    "k = 0 # Número de iteraciones\n",
    "while dif>eps:\n",
    "    # Desarrollo de algoritmo #\n",
    "    gActual = np.dot(w,xActual) # Valor de g(wx)\n",
    "    error = gActual-yActual # Error de la iteración\n",
    "    errores.append(error) # Inserta el error\n",
    "    w_new = w - tasa*error*xActual # Calcula el nuevo valor de w\n",
    "    dif = np.linalg.norm(w_new-w) # Calcula la norma para el criterio de parada\n",
    "    w = w_new # Asigna w para la siguiente iteración\n",
    "    i = np.random.randint(low=0, high=n_train-1)# Posición aleatoria #\n",
    "    xActual = X_train_array[i] # Escoge xActual y yActual para la siguiente iteración\n",
    "    yActual = y_train_array[i]\n",
    "    k += 1 # Actualiza el contador"
   ]
  },
  {
   "cell_type": "markdown",
   "metadata": {},
   "source": [
    "#### Evaluación de Modelo"
   ]
  },
  {
   "cell_type": "code",
   "execution_count": 31,
   "metadata": {},
   "outputs": [
    {
     "name": "stdout",
     "output_type": "stream",
     "text": [
      "R2 entrenamiento: 0.8624\n",
      "R2 prueba: 0.8546\n",
      "Iteraciones: 5621\n"
     ]
    }
   ],
   "source": [
    "# Calcula los valores predichos para el set de entrenamiento\n",
    "y_train_preds = np.zeros(y_train_array.shape)\n",
    "for i in range(X_train_array.shape[0]):\n",
    "    y_train_preds[i] = np.dot(w,X_train_array[i])\n",
    "# Calcula los valores predichos para el set de prueba\n",
    "y_test_preds = np.zeros(y_test_array.shape)\n",
    "for i in range(X_test_array.shape[0]):\n",
    "    y_test_preds[i] = np.dot(w,X_test_array[i])\n",
    "    \n",
    "r2_train = r2_score(y_train_array, y_train_preds)\n",
    "r2_test = r2_score(y_test_array, y_test_preds)\n",
    "print(f'R2 entrenamiento: {round(r2_train,4)}\\nR2 prueba: {round(r2_test,4)}\\nIteraciones: {k}')"
   ]
  },
  {
   "cell_type": "markdown",
   "metadata": {},
   "source": [
    "Se observa como el **$R^2$** es muy similar al encontrado en el punto 1 cuando se uso one hot encoding. Usar una tolerancia de 1e-9 implicaria un aumento considerable en iteraciones y en tiempo de computo pero se obtendría un valor practicamente identico. Más aún considerando la variabilidad intrínseca en el método de decenso de gradiente estocástico. Usar una tasa de entrenamiento variable, que va disminuyendo con el número de iteraciones también podría ser una estrategia adicional para alcanzar el optimo global de manera exacta."
   ]
  },
  {
   "cell_type": "markdown",
   "metadata": {},
   "source": [
    "## Gráfica de Resultados"
   ]
  },
  {
   "cell_type": "code",
   "execution_count": 32,
   "metadata": {},
   "outputs": [
    {
     "data": {
      "text/plain": [
       "Text(0.5, 1.0, 'Descenso de Gradiente Estocástico')"
      ]
     },
     "execution_count": 32,
     "metadata": {},
     "output_type": "execute_result"
    },
    {
     "data": {
      "image/png": "[encoded data removed]",
      "text/plain": [
       "<Figure size 1080x360 with 1 Axes>"
      ]
     },
     "metadata": {
      "needs_background": "light"
     },
     "output_type": "display_data"
    }
   ],
   "source": [
    "plt.figure(figsize=(15,5))\n",
    "plt.plot(errores)\n",
    "plt.xlabel('# Iteraciones')\n",
    "plt.ylabel('Función de Error')\n",
    "plt.title('Descenso de Gradiente Estocástico')"
   ]
  },
  {
   "cell_type": "markdown",
   "metadata": {},
   "source": [
    "## Selección de Hiperparámetros\n",
    "Un método adicional para mejorar nuestros resultados es diseñar una metodología para escoger los hiperparámetros adecuados para el modelo. Esta sección se encargara de mostrar dicha metodología. Decidimos realizar una malla de 4 tasas de entrenamiento por 4 tolerancias. Se escogerán los hiperparámetros que tengan mejor desempeño en el **$R^2$** de prueba. "
   ]
  },
  {
   "cell_type": "code",
   "execution_count": 33,
   "metadata": {},
   "outputs": [
    {
     "name": "stdout",
     "output_type": "stream",
     "text": [
      "tasa: 4.6401e-02 tolerancia: 1.e-04 R2 entrenamiento: 0.8539 \u001b[1mR2 prueba: 0.8497\u001b[0m Iteraciones: 721\n",
      "tasa: 4.6401e-02 tolerancia: 1.e-05 R2 entrenamiento: 0.7758 \u001b[1mR2 prueba: 0.7319\u001b[0m Iteraciones: 1520\n",
      "tasa: 4.6401e-02 tolerancia: 1.e-06 R2 entrenamiento: 0.8827 \u001b[1mR2 prueba: 0.871\u001b[0m Iteraciones: 7938\n",
      "tasa: 4.6401e-02 tolerancia: 1.e-07 R2 entrenamiento: 0.8951 \u001b[1mR2 prueba: 0.8693\u001b[0m Iteraciones: 122588\n",
      "tasa: 4.6401e-03 tolerancia: 1.e-04 R2 entrenamiento: 0.4787 \u001b[1mR2 prueba: 0.4461\u001b[0m Iteraciones: 174\n",
      "tasa: 4.6401e-03 tolerancia: 1.e-05 R2 entrenamiento: -0.1537 \u001b[1mR2 prueba: -0.1366\u001b[0m Iteraciones: 6\n",
      "tasa: 4.6401e-03 tolerancia: 1.e-06 R2 entrenamiento: 0.7179 \u001b[1mR2 prueba: 0.7214\u001b[0m Iteraciones: 1022\n",
      "tasa: 4.6401e-03 tolerancia: 1.e-07 R2 entrenamiento: 0.8997 \u001b[1mR2 prueba: 0.8956\u001b[0m Iteraciones: 27419\n",
      "tasa: 4.6401e-04 tolerancia: 1.e-04 R2 entrenamiento: -1.0195 \u001b[1mR2 prueba: -1.0156\u001b[0m Iteraciones: 166\n",
      "tasa: 4.6401e-04 tolerancia: 1.e-05 R2 entrenamiento: -0.4439 \u001b[1mR2 prueba: -0.4366\u001b[0m Iteraciones: 470\n",
      "tasa: 4.6401e-04 tolerancia: 1.e-06 R2 entrenamiento: -0.0063 \u001b[1mR2 prueba: -0.1103\u001b[0m Iteraciones: 356\n",
      "tasa: 4.6401e-04 tolerancia: 1.e-07 R2 entrenamiento: 0.6225 \u001b[1mR2 prueba: 0.6318\u001b[0m Iteraciones: 6387\n",
      "tasa: 4.6401e-05 tolerancia: 1.e-04 R2 entrenamiento: -0.7141 \u001b[1mR2 prueba: -1.2813\u001b[0m Iteraciones: 1\n",
      "tasa: 4.6401e-05 tolerancia: 1.e-05 R2 entrenamiento: 0.0153 \u001b[1mR2 prueba: 0.0688\u001b[0m Iteraciones: 4\n",
      "tasa: 4.6401e-05 tolerancia: 1.e-06 R2 entrenamiento: -1.4733 \u001b[1mR2 prueba: -1.5896\u001b[0m Iteraciones: 13\n",
      "tasa: 4.6401e-05 tolerancia: 1.e-07 R2 entrenamiento: -0.0089 \u001b[1mR2 prueba: -0.0032\u001b[0m Iteraciones: 944\n"
     ]
    }
   ],
   "source": [
    "#Usamos 2/lambda_max una realización del valor propio máximo de la matriz de varianza como parámetro central.\n",
    "#Incrementamos y disminuimos en ordenes logaritmicos de base 10 este valor.\n",
    "tasas = np.array([2/431.02649*10,2/431.02649*1,2/431.02649*0.1,2/431.02649*0.01]) \n",
    "tolerancias = np.array([1e-4,1e-5,1e-6,1e-7]) # Las tolerancias también se distribuyen en ordenes de magnitud similares.\n",
    "r2_test_grid = np.zeros((4,4))\n",
    "t_i = 0\n",
    "eps_i = 0\n",
    "for t_i, tasa in enumerate(tasas):\n",
    "    for eps_i, eps in enumerate(tolerancias):\n",
    "        #Inicialización de w\n",
    "        w0 = np.random.random(size=p)# Inicializar aleatoriamente #\n",
    "        w = w0.copy()\n",
    "        #Selección de par aleatorio\n",
    "        i = np.random.randint(low=0, high=n_train-1)# Posición aleatoria #\n",
    "        xActual = X_train_array[i]\n",
    "        yActual = y_train_array[i]\n",
    "        #Inicialización de criterio de parada\n",
    "        # Encontramos que para 1e-8 empiezan a haber rendimientos decrecientes en el número de iteraciones.\n",
    "        # Más iteraciones (menos eps) no implica un aumento considerable en el R2 de prueba. \n",
    "        error = float('inf') # Valor inicial, se debe actualizar en cada iteración #\n",
    "        dif = float('inf') # Diferencia entre vectores de pesos w consecutivos #\n",
    "        #Lista para monitorear aprendizaje\n",
    "        errores = [] # Agregar a esta lista los valores de la función de error en cada iteración #\n",
    "        #Ciclo iterativo según algoritmo de descenso de gradiente\n",
    "        k = 0 # Número de iteraciones\n",
    "        while dif>eps:\n",
    "            # Desarrollo de algoritmo #\n",
    "            gActual = np.dot(w,xActual) # Valor de g(wx)\n",
    "            error = gActual-yActual # Error de la iteración\n",
    "            errores.append(error) # Inserta el error\n",
    "            w_new = w - tasa*error*xActual # Calcula el nuevo valor de w\n",
    "            dif = np.linalg.norm(w_new-w) # Calcula la norma para el criterio de parada\n",
    "            w = w_new # Asigna w para la siguiente iteración\n",
    "            i = np.random.randint(low=0, high=n_train-1)# Posición aleatoria #\n",
    "            xActual = X_train_array[i] # Escoge xActual y yActual para la siguiente iteración\n",
    "            yActual = y_train_array[i]\n",
    "            k += 1 # Actualiza el contador\n",
    "            \n",
    "        # EVALUACIÓN DE MODELO\n",
    "        # Calcula los valores predichos para el set de entrenamiento\n",
    "        y_train_preds = np.zeros(y_train_array.shape)\n",
    "        for i in range(X_train_array.shape[0]):\n",
    "            y_train_preds[i] = np.dot(w,X_train_array[i])\n",
    "        # Calcula los valores predichos para el set de prueba\n",
    "        y_test_preds = np.zeros(y_test_array.shape)\n",
    "        for i in range(X_test_array.shape[0]):\n",
    "            y_test_preds[i] = np.dot(w,X_test_array[i])\n",
    "\n",
    "        r2_train = r2_score(y_train_array, y_train_preds)\n",
    "        r2_test = r2_score(y_test_array, y_test_preds)\n",
    "        r2_test_grid[t_i,eps_i] = r2_test\n",
    "        print(f'tasa: {np.format_float_scientific(tasa,4)} tolerancia: {np.format_float_scientific(eps,4)} R2 entrenamiento: {round(r2_train,4)} \\033[1mR2 prueba: {round(r2_test,4)}\\033[0m Iteraciones: {k}')"
   ]
  },
  {
   "cell_type": "markdown",
   "metadata": {},
   "source": [
    "## Mejor Modelo\n",
    "En la siguiente celda se corre el mejor modelo encontrado:"
   ]
  },
  {
   "cell_type": "code",
   "execution_count": 34,
   "metadata": {},
   "outputs": [
    {
     "name": "stdout",
     "output_type": "stream",
     "text": [
      "tasa: 4.6401e-03 tolerancia: 1.e-07 R2 entrenamiento: 0.899 \u001b[1mR2 prueba: 0.8935\u001b[0m Iteraciones: 31310\n"
     ]
    },
    {
     "data": {
      "text/plain": [
       "Text(0.5, 1.0, 'Descenso de Gradiente Estocástico')"
      ]
     },
     "execution_count": 34,
     "metadata": {},
     "output_type": "execute_result"
    },
    {
     "data": {
      "image/png": "[encoded data removed]",
      "text/plain": [
       "<Figure size 1080x360 with 1 Axes>"
      ]
     },
     "metadata": {
      "needs_background": "light"
     },
     "output_type": "display_data"
    }
   ],
   "source": [
    "# Se obtiene la tasa y epsilon que mejor se desempeñaron en la malla:\n",
    "ind_max = np.unravel_index(np.argmax(r2_test_grid), r2_test_grid.shape)\n",
    "tasa_max = tasas[ind_max[0]]\n",
    "eps_max = tolerancias[ind_max[1]]\n",
    "#Inicialización de w\n",
    "w0 = np.random.random(size=p)# Inicializar aleatoriamente #\n",
    "w = w0.copy()\n",
    "#Selección de par aleatorio\n",
    "i = np.random.randint(low=0, high=n_train-1)# Posición aleatoria #\n",
    "xActual = X_train_array[i]\n",
    "yActual = y_train_array[i]\n",
    "#Inicialización de criterio de parada\n",
    "# Encontramos que para 1e-8 empiezan a haber rendimientos decrecientes en el número de iteraciones.\n",
    "# Más iteraciones (menos eps) no implica un aumento considerable en el R2 de prueba. \n",
    "error = float('inf') # Valor inicial, se debe actualizar en cada iteración #\n",
    "dif = float('inf') # Diferencia entre vectores de pesos w consecutivos #\n",
    "#Lista para monitorear aprendizaje\n",
    "errores = [] # Agregar a esta lista los valores de la función de error en cada iteración #\n",
    "#Ciclo iterativo según algoritmo de descenso de gradiente\n",
    "k = 0 # Número de iteraciones\n",
    "tasa = tasa_max\n",
    "eps = eps_max\n",
    "while dif>eps:\n",
    "    # Desarrollo de algoritmo #\n",
    "    gActual = np.dot(w,xActual) # Valor de g(wx)\n",
    "    error = gActual-yActual # Error de la iteración\n",
    "    errores.append(error) # Inserta el error\n",
    "    w_new = w - tasa*error*xActual # Calcula el nuevo valor de w\n",
    "    dif = np.linalg.norm(w_new-w) # Calcula la norma para el criterio de parada\n",
    "    w = w_new # Asigna w para la siguiente iteración\n",
    "    i = np.random.randint(low=0, high=n_train-1)# Posición aleatoria #\n",
    "    xActual = X_train_array[i] # Escoge xActual y yActual para la siguiente iteración\n",
    "    yActual = y_train_array[i]\n",
    "    k += 1 # Actualiza el contador\n",
    "\n",
    "# EVALUACIÓN DE MODELO\n",
    "# Calcula los valores predichos para el set de entrenamiento\n",
    "y_train_preds = np.zeros(y_train_array.shape)\n",
    "for i in range(X_train_array.shape[0]):\n",
    "    y_train_preds[i] = np.dot(w,X_train_array[i])\n",
    "# Calcula los valores predichos para el set de prueba\n",
    "y_test_preds = np.zeros(y_test_array.shape)\n",
    "for i in range(X_test_array.shape[0]):\n",
    "    y_test_preds[i] = np.dot(w,X_test_array[i])\n",
    "\n",
    "r2_train = r2_score(y_train_array, y_train_preds)\n",
    "r2_test = r2_score(y_test_array, y_test_preds)\n",
    "print(f'tasa: {np.format_float_scientific(tasa,4)} tolerancia: {np.format_float_scientific(eps,4)} R2 entrenamiento: {round(r2_train,4)} \\033[1mR2 prueba: {round(r2_test,4)}\\033[0m Iteraciones: {k}')\n",
    "\n",
    "plt.figure(figsize=(15,5))\n",
    "plt.plot(errores)\n",
    "plt.xlabel('# Iteraciones')\n",
    "plt.ylabel('Función de Error')\n",
    "plt.title('Descenso de Gradiente Estocástico')"
   ]
  },
  {
   "cell_type": "markdown",
   "metadata": {},
   "source": [
    "## Visualización de Hiperparámetros:"
   ]
  },
  {
   "cell_type": "code",
   "execution_count": 37,
   "metadata": {},
   "outputs": [
    {
     "data": {
      "text/plain": [
       "Text(0.5, 1.0, 'Oscuro es mejor R2!')"
      ]
     },
     "execution_count": 37,
     "metadata": {},
     "output_type": "execute_result"
    },
    {
     "data": {
      "image/png": "[encoded data removed]",
      "text/plain": [
       "<Figure size 360x360 with 2 Axes>"
      ]
     },
     "metadata": {
      "needs_background": "light"
     },
     "output_type": "display_data"
    }
   ],
   "source": [
    "import seaborn as sns\n",
    "tasas_nice = map(lambda x: np.format_float_scientific(x,2), tasas)\n",
    "plt.figure(figsize=(5,5))\n",
    "ax = sns.heatmap(r2_test_grid, annot=True, linewidth=0.5, cmap = sns.cm.rocket_r, cbar_kws={'label': 'R2_Prueba'})\n",
    "plt.xlabel('Tolerancia')\n",
    "plt.ylabel('Tasa')\n",
    "ax.set_xticklabels(tolerancias)\n",
    "ax.set_yticklabels(tasas_nice)\n",
    "plt.title('Oscuro es mejor R2!')"
   ]
  },
  {
   "cell_type": "markdown",
   "metadata": {},
   "source": [
    "La figura permite observar la región en la que los hiperparámetros alcanzan un buen R2 en prueba. Para este caso en específico la malla podría utilizar tasas de entrenamiento más grandes para explorar mejor la región cerca al óptimo global. Como era de esperarse generalmente mayor tolerancia implica peor desempeño."
   ]
  }
 ],
 "metadata": {
  "kernelspec": {
   "display_name": "Python 3 (ipykernel)",
   "language": "python",
   "name": "python3"
  },
  "language_info": {
   "codemirror_mode": {
    "name": "ipython",
    "version": 3
   },
   "file_extension": ".py",
   "mimetype": "text/x-python",
   "name": "python",
   "nbconvert_exporter": "python",
   "pygments_lexer": "ipython3",
   "version": "3.9.7"
  }
 },
 "nbformat": 4,
 "nbformat_minor": 4
}
