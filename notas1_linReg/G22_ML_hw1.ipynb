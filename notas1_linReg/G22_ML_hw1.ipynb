{
 "cells": [
  {
   "cell_type": "markdown",
   "metadata": {
    "id": "nSE8x2ETq_6G"
   },
   "source": [
    "# Regresión Lineal: Predicción de Precios de Autos\n",
    "\n",
    "Una tarea bastante común en el contexto de Machine Learning es la predicción de una variable según algunos descriptores. En esta ocasión partiremos de un dataset que involucra ocho variables (algunas numéricas, otras categóricas) y el precio de un automóvil, el cual se desea estimar empleando un modelo de regresión lineal.\n",
    "\n",
    "El objetivo de este cuaderno es que usted aprenda:\n",
    "- Algunas maneras de lidiar con descriptores categóricos no-numéricos.\n",
    "- Uso de la librería Pandas para manejar datos tabulares en formato .csv.\n",
    "- Uso de la librería Scikit Learn para preprocesamiento y entrenamiento de un modelo de regresión lineal.\n",
    "- Funcionamiento e implementación del algoritmo Descenso de Gradiente Estocástico para un modelo lineal básico.\n",
    "\n",
    "Debe completar las celdas vacías y seguir las instrucciones anotadas en el cuaderno.\n",
    "\n",
    "La fecha límite de entrega es el día **6 de septiembre** y se realizará a través de Bloque Neón."
   ]
  },
  {
   "cell_type": "code",
   "execution_count": 1,
   "metadata": {
    "id": "sAKjbivzq_6Q"
   },
   "outputs": [],
   "source": [
    "import numpy as np\n",
    "import pandas as pd\n",
    "\n",
    "import matplotlib.pyplot as plt\n",
    "from sklearn.metrics import mean_squared_error\n",
    "import sklearn\n",
    "from sklearn.preprocessing import OrdinalEncoder, MinMaxScaler, RobustScaler\n",
    "from sklearn.model_selection import train_test_split"
   ]
  },
  {
   "cell_type": "code",
   "execution_count": 2,
   "metadata": {
    "colab": {
     "base_uri": "https://localhost:8080/",
     "height": 204
    },
    "id": "2DCVK3D2LKTF",
    "outputId": "f3a13178-914a-4909-9470-6575cacff568"
   },
   "outputs": [
    {
     "data": {
      "text/html": [
       "<div>\n",
       "<style scoped>\n",
       "    .dataframe tbody tr th:only-of-type {\n",
       "        vertical-align: middle;\n",
       "    }\n",
       "\n",
       "    .dataframe tbody tr th {\n",
       "        vertical-align: top;\n",
       "    }\n",
       "\n",
       "    .dataframe thead th {\n",
       "        text-align: right;\n",
       "    }\n",
       "</style>\n",
       "<table border=\"1\" class=\"dataframe\">\n",
       "  <thead>\n",
       "    <tr style=\"text-align: right;\">\n",
       "      <th></th>\n",
       "      <th>model</th>\n",
       "      <th>year</th>\n",
       "      <th>price</th>\n",
       "      <th>transmission</th>\n",
       "      <th>mileage</th>\n",
       "      <th>fuelType</th>\n",
       "      <th>tax</th>\n",
       "      <th>mpg</th>\n",
       "      <th>engineSize</th>\n",
       "    </tr>\n",
       "  </thead>\n",
       "  <tbody>\n",
       "    <tr>\n",
       "      <th>0</th>\n",
       "      <td>GT86</td>\n",
       "      <td>2016</td>\n",
       "      <td>16000</td>\n",
       "      <td>Manual</td>\n",
       "      <td>24089</td>\n",
       "      <td>Petrol</td>\n",
       "      <td>265</td>\n",
       "      <td>36.2</td>\n",
       "      <td>2.0</td>\n",
       "    </tr>\n",
       "    <tr>\n",
       "      <th>1</th>\n",
       "      <td>GT86</td>\n",
       "      <td>2017</td>\n",
       "      <td>15995</td>\n",
       "      <td>Manual</td>\n",
       "      <td>18615</td>\n",
       "      <td>Petrol</td>\n",
       "      <td>145</td>\n",
       "      <td>36.2</td>\n",
       "      <td>2.0</td>\n",
       "    </tr>\n",
       "    <tr>\n",
       "      <th>2</th>\n",
       "      <td>GT86</td>\n",
       "      <td>2015</td>\n",
       "      <td>13998</td>\n",
       "      <td>Manual</td>\n",
       "      <td>27469</td>\n",
       "      <td>Petrol</td>\n",
       "      <td>265</td>\n",
       "      <td>36.2</td>\n",
       "      <td>2.0</td>\n",
       "    </tr>\n",
       "    <tr>\n",
       "      <th>3</th>\n",
       "      <td>GT86</td>\n",
       "      <td>2017</td>\n",
       "      <td>18998</td>\n",
       "      <td>Manual</td>\n",
       "      <td>14736</td>\n",
       "      <td>Petrol</td>\n",
       "      <td>150</td>\n",
       "      <td>36.2</td>\n",
       "      <td>2.0</td>\n",
       "    </tr>\n",
       "    <tr>\n",
       "      <th>4</th>\n",
       "      <td>GT86</td>\n",
       "      <td>2017</td>\n",
       "      <td>17498</td>\n",
       "      <td>Manual</td>\n",
       "      <td>36284</td>\n",
       "      <td>Petrol</td>\n",
       "      <td>145</td>\n",
       "      <td>36.2</td>\n",
       "      <td>2.0</td>\n",
       "    </tr>\n",
       "  </tbody>\n",
       "</table>\n",
       "</div>"
      ],
      "text/plain": [
       "   model  year  price transmission  mileage fuelType  tax   mpg  engineSize\n",
       "0   GT86  2016  16000       Manual    24089   Petrol  265  36.2         2.0\n",
       "1   GT86  2017  15995       Manual    18615   Petrol  145  36.2         2.0\n",
       "2   GT86  2015  13998       Manual    27469   Petrol  265  36.2         2.0\n",
       "3   GT86  2017  18998       Manual    14736   Petrol  150  36.2         2.0\n",
       "4   GT86  2017  17498       Manual    36284   Petrol  145  36.2         2.0"
      ]
     },
     "execution_count": 2,
     "metadata": {},
     "output_type": "execute_result"
    }
   ],
   "source": [
    "df = pd.read_csv('carDataset/toyota.csv')\n",
    "df.head()"
   ]
  },
  {
   "cell_type": "code",
   "execution_count": 3,
   "metadata": {
    "colab": {
     "base_uri": "https://localhost:8080/"
    },
    "id": "R4kMtOqIq_6S",
    "outputId": "9b345511-4fcb-4f0c-c321-27dd4b46febb"
   },
   "outputs": [
    {
     "name": "stdout",
     "output_type": "stream",
     "text": [
      "<class 'pandas.core.frame.DataFrame'>\n",
      "RangeIndex: 6738 entries, 0 to 6737\n",
      "Data columns (total 9 columns):\n",
      " #   Column        Non-Null Count  Dtype  \n",
      "---  ------        --------------  -----  \n",
      " 0   model         6738 non-null   object \n",
      " 1   year          6738 non-null   int64  \n",
      " 2   price         6738 non-null   int64  \n",
      " 3   transmission  6738 non-null   object \n",
      " 4   mileage       6738 non-null   int64  \n",
      " 5   fuelType      6738 non-null   object \n",
      " 6   tax           6738 non-null   int64  \n",
      " 7   mpg           6738 non-null   float64\n",
      " 8   engineSize    6738 non-null   float64\n",
      "dtypes: float64(2), int64(4), object(3)\n",
      "memory usage: 473.9+ KB\n"
     ]
    }
   ],
   "source": [
    "df.info()"
   ]
  },
  {
   "cell_type": "markdown",
   "metadata": {
    "id": "a2TW2AHbq_6T"
   },
   "source": [
    "Podemos observar algunas categorías numéricas, y otras de tipo _object_ (string)."
   ]
  },
  {
   "cell_type": "code",
   "execution_count": 4,
   "metadata": {
    "id": "re7mXY-Xq_6T"
   },
   "outputs": [],
   "source": [
    "categ = ['model','year','transmission','fuelType','engineSize']\n",
    "str_categ = ['model','transmission','fuelType']\n",
    "numer = ['price','mileage','tax','mpg']"
   ]
  },
  {
   "cell_type": "markdown",
   "metadata": {
    "id": "OgPK6grlq_6U"
   },
   "source": [
    "## Parte 1\n",
    "\n",
    "A continuación se realizó el ajuste de los datos para un modelo de regresión lineal definido mediante la librería SciKit-Learn. Se observan dos métricas de precisión, en este caso Error Cuadrático Medio (RMSE) y $R^2$ (puede leer más sobre esta métrica en [ScikitLearn: r2_score](https://scikit-learn.org/stable/modules/generated/sklearn.metrics.r2_score.html)). Se le entregarán los dos primeros casos como ejemplo, usted debe implementar los demás a partir de estos primeros."
   ]
  },
  {
   "cell_type": "markdown",
   "metadata": {
    "id": "IfdQlNkKq_6V"
   },
   "source": [
    "#### Casos:\n",
    "\n",
    "- Caso 1: Codificación One-Hot (MinMaxScaler)\n",
    "- Caso 2: Codificación Ordinal (MinMaxScaler)\n",
    "- Caso 3: Codificación One-Hot (RobustScaler)\n",
    "- Caso 4: Codificación Ordinal (RobustScaler)\n",
    "- Caso 5: Entrenar con un 30% (Codificación Ordinal, MinMaxScaler)\n",
    "- Caso 6: Entrenar con un 55% (Codificación Ordinal, MinMaxScaler)\n",
    "- Caso 7: Entrenar con un 80% (Codificación Ordinal, MinMaxScaler)\n",
    "\n",
    "Analice los resultados."
   ]
  },
  {
   "cell_type": "markdown",
   "metadata": {
    "id": "IidqUoauq_6W"
   },
   "source": [
    "### Caso 1:"
   ]
  },
  {
   "cell_type": "markdown",
   "metadata": {
    "id": "89mp3RlEq_6X"
   },
   "source": [
    "#### Codificación One-Hot\n",
    "\n",
    "Una de las formas de codificar categorías no numéricas se conoce como _one-hot encoding_, en donde se crea una columna para cada valor distinto que exista en la característica que estamos codificando y, para cada registro, marcar con un 1 la columna a la que pertenezca dicho registro y dejar las demás con 0.\n",
    "\n",
    "Igualmente, en este caso se realizará un escalamiento de los datos utilizando un `MinMaxScaler`, investigue más sobre esta función en: [ScikitLearn: MinMaxScaler](https://scikit-learn.org/stable/modules/generated/sklearn.preprocessing.MinMaxScaler.html)."
   ]
  },
  {
   "cell_type": "code",
   "execution_count": 5,
   "metadata": {
    "colab": {
     "base_uri": "https://localhost:8080/",
     "height": 258
    },
    "id": "SIMXzXxqq_6Y",
    "outputId": "1ad53df0-9ec0-4ed6-b307-607cdc3cfba0",
    "scrolled": true
   },
   "outputs": [
    {
     "data": {
      "text/html": [
       "<div>\n",
       "<style scoped>\n",
       "    .dataframe tbody tr th:only-of-type {\n",
       "        vertical-align: middle;\n",
       "    }\n",
       "\n",
       "    .dataframe tbody tr th {\n",
       "        vertical-align: top;\n",
       "    }\n",
       "\n",
       "    .dataframe thead th {\n",
       "        text-align: right;\n",
       "    }\n",
       "</style>\n",
       "<table border=\"1\" class=\"dataframe\">\n",
       "  <thead>\n",
       "    <tr style=\"text-align: right;\">\n",
       "      <th></th>\n",
       "      <th>year</th>\n",
       "      <th>price</th>\n",
       "      <th>mileage</th>\n",
       "      <th>tax</th>\n",
       "      <th>mpg</th>\n",
       "      <th>engineSize</th>\n",
       "      <th>model_ Auris</th>\n",
       "      <th>model_ Avensis</th>\n",
       "      <th>model_ Aygo</th>\n",
       "      <th>model_ C-HR</th>\n",
       "      <th>...</th>\n",
       "      <th>model_ Verso-S</th>\n",
       "      <th>model_ Yaris</th>\n",
       "      <th>transmission_Automatic</th>\n",
       "      <th>transmission_Manual</th>\n",
       "      <th>transmission_Other</th>\n",
       "      <th>transmission_Semi-Auto</th>\n",
       "      <th>fuelType_Diesel</th>\n",
       "      <th>fuelType_Hybrid</th>\n",
       "      <th>fuelType_Other</th>\n",
       "      <th>fuelType_Petrol</th>\n",
       "    </tr>\n",
       "  </thead>\n",
       "  <tbody>\n",
       "    <tr>\n",
       "      <th>0</th>\n",
       "      <td>0.818182</td>\n",
       "      <td>0.256150</td>\n",
       "      <td>0.138100</td>\n",
       "      <td>0.469027</td>\n",
       "      <td>0.143842</td>\n",
       "      <td>0.444444</td>\n",
       "      <td>0.0</td>\n",
       "      <td>0.0</td>\n",
       "      <td>0.0</td>\n",
       "      <td>0.0</td>\n",
       "      <td>...</td>\n",
       "      <td>0.0</td>\n",
       "      <td>0.0</td>\n",
       "      <td>0.0</td>\n",
       "      <td>1.0</td>\n",
       "      <td>0.0</td>\n",
       "      <td>0.0</td>\n",
       "      <td>0.0</td>\n",
       "      <td>0.0</td>\n",
       "      <td>0.0</td>\n",
       "      <td>1.0</td>\n",
       "    </tr>\n",
       "    <tr>\n",
       "      <th>1</th>\n",
       "      <td>0.863636</td>\n",
       "      <td>0.256066</td>\n",
       "      <td>0.106716</td>\n",
       "      <td>0.256637</td>\n",
       "      <td>0.143842</td>\n",
       "      <td>0.444444</td>\n",
       "      <td>0.0</td>\n",
       "      <td>0.0</td>\n",
       "      <td>0.0</td>\n",
       "      <td>0.0</td>\n",
       "      <td>...</td>\n",
       "      <td>0.0</td>\n",
       "      <td>0.0</td>\n",
       "      <td>0.0</td>\n",
       "      <td>1.0</td>\n",
       "      <td>0.0</td>\n",
       "      <td>0.0</td>\n",
       "      <td>0.0</td>\n",
       "      <td>0.0</td>\n",
       "      <td>0.0</td>\n",
       "      <td>1.0</td>\n",
       "    </tr>\n",
       "    <tr>\n",
       "      <th>2</th>\n",
       "      <td>0.772727</td>\n",
       "      <td>0.222301</td>\n",
       "      <td>0.157479</td>\n",
       "      <td>0.469027</td>\n",
       "      <td>0.143842</td>\n",
       "      <td>0.444444</td>\n",
       "      <td>0.0</td>\n",
       "      <td>0.0</td>\n",
       "      <td>0.0</td>\n",
       "      <td>0.0</td>\n",
       "      <td>...</td>\n",
       "      <td>0.0</td>\n",
       "      <td>0.0</td>\n",
       "      <td>0.0</td>\n",
       "      <td>1.0</td>\n",
       "      <td>0.0</td>\n",
       "      <td>0.0</td>\n",
       "      <td>0.0</td>\n",
       "      <td>0.0</td>\n",
       "      <td>0.0</td>\n",
       "      <td>1.0</td>\n",
       "    </tr>\n",
       "    <tr>\n",
       "      <th>3</th>\n",
       "      <td>0.863636</td>\n",
       "      <td>0.306839</td>\n",
       "      <td>0.084476</td>\n",
       "      <td>0.265487</td>\n",
       "      <td>0.143842</td>\n",
       "      <td>0.444444</td>\n",
       "      <td>0.0</td>\n",
       "      <td>0.0</td>\n",
       "      <td>0.0</td>\n",
       "      <td>0.0</td>\n",
       "      <td>...</td>\n",
       "      <td>0.0</td>\n",
       "      <td>0.0</td>\n",
       "      <td>0.0</td>\n",
       "      <td>1.0</td>\n",
       "      <td>0.0</td>\n",
       "      <td>0.0</td>\n",
       "      <td>0.0</td>\n",
       "      <td>0.0</td>\n",
       "      <td>0.0</td>\n",
       "      <td>1.0</td>\n",
       "    </tr>\n",
       "    <tr>\n",
       "      <th>4</th>\n",
       "      <td>0.863636</td>\n",
       "      <td>0.281478</td>\n",
       "      <td>0.208019</td>\n",
       "      <td>0.256637</td>\n",
       "      <td>0.143842</td>\n",
       "      <td>0.444444</td>\n",
       "      <td>0.0</td>\n",
       "      <td>0.0</td>\n",
       "      <td>0.0</td>\n",
       "      <td>0.0</td>\n",
       "      <td>...</td>\n",
       "      <td>0.0</td>\n",
       "      <td>0.0</td>\n",
       "      <td>0.0</td>\n",
       "      <td>1.0</td>\n",
       "      <td>0.0</td>\n",
       "      <td>0.0</td>\n",
       "      <td>0.0</td>\n",
       "      <td>0.0</td>\n",
       "      <td>0.0</td>\n",
       "      <td>1.0</td>\n",
       "    </tr>\n",
       "  </tbody>\n",
       "</table>\n",
       "<p>5 rows × 32 columns</p>\n",
       "</div>"
      ],
      "text/plain": [
       "       year     price   mileage       tax       mpg  engineSize  model_ Auris  \\\n",
       "0  0.818182  0.256150  0.138100  0.469027  0.143842    0.444444           0.0   \n",
       "1  0.863636  0.256066  0.106716  0.256637  0.143842    0.444444           0.0   \n",
       "2  0.772727  0.222301  0.157479  0.469027  0.143842    0.444444           0.0   \n",
       "3  0.863636  0.306839  0.084476  0.265487  0.143842    0.444444           0.0   \n",
       "4  0.863636  0.281478  0.208019  0.256637  0.143842    0.444444           0.0   \n",
       "\n",
       "   model_ Avensis  model_ Aygo  model_ C-HR  ...  model_ Verso-S  \\\n",
       "0             0.0          0.0          0.0  ...             0.0   \n",
       "1             0.0          0.0          0.0  ...             0.0   \n",
       "2             0.0          0.0          0.0  ...             0.0   \n",
       "3             0.0          0.0          0.0  ...             0.0   \n",
       "4             0.0          0.0          0.0  ...             0.0   \n",
       "\n",
       "   model_ Yaris  transmission_Automatic  transmission_Manual  \\\n",
       "0           0.0                     0.0                  1.0   \n",
       "1           0.0                     0.0                  1.0   \n",
       "2           0.0                     0.0                  1.0   \n",
       "3           0.0                     0.0                  1.0   \n",
       "4           0.0                     0.0                  1.0   \n",
       "\n",
       "   transmission_Other  transmission_Semi-Auto  fuelType_Diesel  \\\n",
       "0                 0.0                     0.0              0.0   \n",
       "1                 0.0                     0.0              0.0   \n",
       "2                 0.0                     0.0              0.0   \n",
       "3                 0.0                     0.0              0.0   \n",
       "4                 0.0                     0.0              0.0   \n",
       "\n",
       "   fuelType_Hybrid  fuelType_Other  fuelType_Petrol  \n",
       "0              0.0             0.0              1.0  \n",
       "1              0.0             0.0              1.0  \n",
       "2              0.0             0.0              1.0  \n",
       "3              0.0             0.0              1.0  \n",
       "4              0.0             0.0              1.0  \n",
       "\n",
       "[5 rows x 32 columns]"
      ]
     },
     "execution_count": 5,
     "metadata": {},
     "output_type": "execute_result"
    }
   ],
   "source": [
    "df_ohe = pd.get_dummies(df)\n",
    "scaler = MinMaxScaler()\n",
    "df_scl_ohe = scaler.fit_transform(df_ohe)\n",
    "df_scl_ohe = pd.DataFrame(df_scl_ohe, columns = df_ohe.columns)\n",
    "df_scl_ohe.head()"
   ]
  },
  {
   "cell_type": "markdown",
   "metadata": {
    "id": "byxdu_BJq_6Y"
   },
   "source": [
    "#### Separación de Datos"
   ]
  },
  {
   "cell_type": "code",
   "execution_count": 6,
   "metadata": {
    "id": "InXmSCwuq_6Y"
   },
   "outputs": [],
   "source": [
    "X = df_scl_ohe.drop(['price'], axis=1)\n",
    "y = df_scl_ohe['price']\n",
    "X_train, X_test, y_train, y_test = train_test_split(X, y, test_size=0.2, random_state=22)"
   ]
  },
  {
   "cell_type": "code",
   "execution_count": 7,
   "metadata": {
    "colab": {
     "base_uri": "https://localhost:8080/"
    },
    "id": "LygLrLV_q_6Z",
    "outputId": "f09f41c6-9e39-4498-95dc-7be31b6ee5ab"
   },
   "outputs": [
    {
     "name": "stdout",
     "output_type": "stream",
     "text": [
      "RMSE: 0.031\n",
      "R^2: 0.917\n",
      "\n"
     ]
    }
   ],
   "source": [
    "from sklearn.metrics import mean_squared_error, r2_score\n",
    "from sklearn.linear_model import LinearRegression\n",
    "\n",
    "model_1 = LinearRegression()\n",
    "\n",
    "model_1.fit(X_train, y_train)\n",
    "preds = model_1.predict(X_test)\n",
    "rmse = np.sqrt(mean_squared_error(y_test, preds))\n",
    "rs = model_1.score(X_test, y_test)\n",
    "print(f'RMSE: {round(rmse,3)}')\n",
    "print(f'R^2: {round(rs,3)}\\n')"
   ]
  },
  {
   "cell_type": "markdown",
   "metadata": {
    "id": "XqRvZk4Sq_6a"
   },
   "source": [
    "### Caso 2\n",
    "\n",
    "#### Codificación Ordinal"
   ]
  },
  {
   "cell_type": "code",
   "execution_count": 8,
   "metadata": {
    "colab": {
     "base_uri": "https://localhost:8080/",
     "height": 204
    },
    "id": "ZJdxovpAq_6a",
    "outputId": "0ca28ecd-6174-469e-d615-fd6d88ef3095"
   },
   "outputs": [
    {
     "data": {
      "text/html": [
       "<div>\n",
       "<style scoped>\n",
       "    .dataframe tbody tr th:only-of-type {\n",
       "        vertical-align: middle;\n",
       "    }\n",
       "\n",
       "    .dataframe tbody tr th {\n",
       "        vertical-align: top;\n",
       "    }\n",
       "\n",
       "    .dataframe thead th {\n",
       "        text-align: right;\n",
       "    }\n",
       "</style>\n",
       "<table border=\"1\" class=\"dataframe\">\n",
       "  <thead>\n",
       "    <tr style=\"text-align: right;\">\n",
       "      <th></th>\n",
       "      <th>model</th>\n",
       "      <th>year</th>\n",
       "      <th>price</th>\n",
       "      <th>transmission</th>\n",
       "      <th>mileage</th>\n",
       "      <th>fuelType</th>\n",
       "      <th>tax</th>\n",
       "      <th>mpg</th>\n",
       "      <th>engineSize</th>\n",
       "    </tr>\n",
       "  </thead>\n",
       "  <tbody>\n",
       "    <tr>\n",
       "      <th>0</th>\n",
       "      <td>0.352941</td>\n",
       "      <td>0.818182</td>\n",
       "      <td>0.256150</td>\n",
       "      <td>0.333333</td>\n",
       "      <td>0.138100</td>\n",
       "      <td>1.0</td>\n",
       "      <td>0.469027</td>\n",
       "      <td>0.143842</td>\n",
       "      <td>0.444444</td>\n",
       "    </tr>\n",
       "    <tr>\n",
       "      <th>1</th>\n",
       "      <td>0.352941</td>\n",
       "      <td>0.863636</td>\n",
       "      <td>0.256066</td>\n",
       "      <td>0.333333</td>\n",
       "      <td>0.106716</td>\n",
       "      <td>1.0</td>\n",
       "      <td>0.256637</td>\n",
       "      <td>0.143842</td>\n",
       "      <td>0.444444</td>\n",
       "    </tr>\n",
       "    <tr>\n",
       "      <th>2</th>\n",
       "      <td>0.352941</td>\n",
       "      <td>0.772727</td>\n",
       "      <td>0.222301</td>\n",
       "      <td>0.333333</td>\n",
       "      <td>0.157479</td>\n",
       "      <td>1.0</td>\n",
       "      <td>0.469027</td>\n",
       "      <td>0.143842</td>\n",
       "      <td>0.444444</td>\n",
       "    </tr>\n",
       "    <tr>\n",
       "      <th>3</th>\n",
       "      <td>0.352941</td>\n",
       "      <td>0.863636</td>\n",
       "      <td>0.306839</td>\n",
       "      <td>0.333333</td>\n",
       "      <td>0.084476</td>\n",
       "      <td>1.0</td>\n",
       "      <td>0.265487</td>\n",
       "      <td>0.143842</td>\n",
       "      <td>0.444444</td>\n",
       "    </tr>\n",
       "    <tr>\n",
       "      <th>4</th>\n",
       "      <td>0.352941</td>\n",
       "      <td>0.863636</td>\n",
       "      <td>0.281478</td>\n",
       "      <td>0.333333</td>\n",
       "      <td>0.208019</td>\n",
       "      <td>1.0</td>\n",
       "      <td>0.256637</td>\n",
       "      <td>0.143842</td>\n",
       "      <td>0.444444</td>\n",
       "    </tr>\n",
       "  </tbody>\n",
       "</table>\n",
       "</div>"
      ],
      "text/plain": [
       "      model      year     price  transmission   mileage  fuelType       tax  \\\n",
       "0  0.352941  0.818182  0.256150      0.333333  0.138100       1.0  0.469027   \n",
       "1  0.352941  0.863636  0.256066      0.333333  0.106716       1.0  0.256637   \n",
       "2  0.352941  0.772727  0.222301      0.333333  0.157479       1.0  0.469027   \n",
       "3  0.352941  0.863636  0.306839      0.333333  0.084476       1.0  0.265487   \n",
       "4  0.352941  0.863636  0.281478      0.333333  0.208019       1.0  0.256637   \n",
       "\n",
       "        mpg  engineSize  \n",
       "0  0.143842    0.444444  \n",
       "1  0.143842    0.444444  \n",
       "2  0.143842    0.444444  \n",
       "3  0.143842    0.444444  \n",
       "4  0.143842    0.444444  "
      ]
     },
     "execution_count": 8,
     "metadata": {},
     "output_type": "execute_result"
    }
   ],
   "source": [
    "oe = OrdinalEncoder()\n",
    "df_oe = df.copy()\n",
    "df_oe[str_categ] = oe.fit_transform(df_oe[str_categ])\n",
    "\n",
    "x = df_oe.values #returns a numpy array\n",
    "min_max_scaler = MinMaxScaler()\n",
    "x_scaled = min_max_scaler.fit_transform(x)\n",
    "df_scl_oe = pd.DataFrame(x_scaled, columns=df_oe.columns)\n",
    "df_scl_oe.head()"
   ]
  },
  {
   "cell_type": "markdown",
   "metadata": {
    "id": "K4ypQKkPq_6b"
   },
   "source": [
    "#### Separación de Datos"
   ]
  },
  {
   "cell_type": "code",
   "execution_count": 9,
   "metadata": {
    "id": "b7-pwFz0q_6b",
    "scrolled": true
   },
   "outputs": [],
   "source": [
    "X = df_scl_oe.drop(['price'], axis=1)\n",
    "y = df_scl_oe['price']\n",
    "X_train, X_test, y_train, y_test = train_test_split(X, y, test_size=0.2, random_state=22)"
   ]
  },
  {
   "cell_type": "code",
   "execution_count": 10,
   "metadata": {
    "colab": {
     "base_uri": "https://localhost:8080/"
    },
    "id": "2Le2XIZHq_6b",
    "outputId": "7dfe4c6e-d248-4f9a-c633-000ede661c22"
   },
   "outputs": [
    {
     "name": "stdout",
     "output_type": "stream",
     "text": [
      "RMSE: 0.05\n",
      "R^2: 0.787\n",
      "\n"
     ]
    }
   ],
   "source": [
    "model_2 = LinearRegression()\n",
    "\n",
    "model_2.fit(X_train, y_train)\n",
    "preds = model_2.predict(X_test)\n",
    "rmse = np.sqrt(mean_squared_error(y_test, preds))\n",
    "rs = model_2.score(X_test, y_test)\n",
    "print(f'RMSE: {round(rmse,3)}')\n",
    "print(f'R^2: {round(rs,3)}\\n')"
   ]
  },
  {
   "cell_type": "markdown",
   "metadata": {
    "id": "a5SfflOYq_6c"
   },
   "source": [
    "### Caso 3\n",
    "\n",
    "#### Codificación One-Hot"
   ]
  },
  {
   "cell_type": "code",
   "execution_count": 11,
   "metadata": {
    "colab": {
     "base_uri": "https://localhost:8080/",
     "height": 258
    },
    "id": "NMvhTm9qq_6d",
    "outputId": "f5e909b1-e188-4c90-e4d5-a89b8130634c"
   },
   "outputs": [
    {
     "data": {
      "text/html": [
       "<div>\n",
       "<style scoped>\n",
       "    .dataframe tbody tr th:only-of-type {\n",
       "        vertical-align: middle;\n",
       "    }\n",
       "\n",
       "    .dataframe tbody tr th {\n",
       "        vertical-align: top;\n",
       "    }\n",
       "\n",
       "    .dataframe thead th {\n",
       "        text-align: right;\n",
       "    }\n",
       "</style>\n",
       "<table border=\"1\" class=\"dataframe\">\n",
       "  <thead>\n",
       "    <tr style=\"text-align: right;\">\n",
       "      <th></th>\n",
       "      <th>year</th>\n",
       "      <th>price</th>\n",
       "      <th>mileage</th>\n",
       "      <th>tax</th>\n",
       "      <th>mpg</th>\n",
       "      <th>engineSize</th>\n",
       "      <th>model_ Auris</th>\n",
       "      <th>model_ Avensis</th>\n",
       "      <th>model_ Aygo</th>\n",
       "      <th>model_ C-HR</th>\n",
       "      <th>...</th>\n",
       "      <th>model_ Verso-S</th>\n",
       "      <th>model_ Yaris</th>\n",
       "      <th>transmission_Automatic</th>\n",
       "      <th>transmission_Manual</th>\n",
       "      <th>transmission_Other</th>\n",
       "      <th>transmission_Semi-Auto</th>\n",
       "      <th>fuelType_Diesel</th>\n",
       "      <th>fuelType_Hybrid</th>\n",
       "      <th>fuelType_Other</th>\n",
       "      <th>fuelType_Petrol</th>\n",
       "    </tr>\n",
       "  </thead>\n",
       "  <tbody>\n",
       "    <tr>\n",
       "      <th>0</th>\n",
       "      <td>-0.5</td>\n",
       "      <td>0.776286</td>\n",
       "      <td>0.257936</td>\n",
       "      <td>0.896552</td>\n",
       "      <td>-1.955882</td>\n",
       "      <td>0.625</td>\n",
       "      <td>0.0</td>\n",
       "      <td>0.0</td>\n",
       "      <td>0.0</td>\n",
       "      <td>0.0</td>\n",
       "      <td>...</td>\n",
       "      <td>0.0</td>\n",
       "      <td>0.0</td>\n",
       "      <td>0.0</td>\n",
       "      <td>0.0</td>\n",
       "      <td>0.0</td>\n",
       "      <td>0.0</td>\n",
       "      <td>0.0</td>\n",
       "      <td>0.0</td>\n",
       "      <td>0.0</td>\n",
       "      <td>0.0</td>\n",
       "    </tr>\n",
       "    <tr>\n",
       "      <th>1</th>\n",
       "      <td>0.0</td>\n",
       "      <td>0.775541</td>\n",
       "      <td>0.004718</td>\n",
       "      <td>0.068966</td>\n",
       "      <td>-1.955882</td>\n",
       "      <td>0.625</td>\n",
       "      <td>0.0</td>\n",
       "      <td>0.0</td>\n",
       "      <td>0.0</td>\n",
       "      <td>0.0</td>\n",
       "      <td>...</td>\n",
       "      <td>0.0</td>\n",
       "      <td>0.0</td>\n",
       "      <td>0.0</td>\n",
       "      <td>0.0</td>\n",
       "      <td>0.0</td>\n",
       "      <td>0.0</td>\n",
       "      <td>0.0</td>\n",
       "      <td>0.0</td>\n",
       "      <td>0.0</td>\n",
       "      <td>0.0</td>\n",
       "    </tr>\n",
       "    <tr>\n",
       "      <th>2</th>\n",
       "      <td>-1.0</td>\n",
       "      <td>0.477703</td>\n",
       "      <td>0.414289</td>\n",
       "      <td>0.896552</td>\n",
       "      <td>-1.955882</td>\n",
       "      <td>0.625</td>\n",
       "      <td>0.0</td>\n",
       "      <td>0.0</td>\n",
       "      <td>0.0</td>\n",
       "      <td>0.0</td>\n",
       "      <td>...</td>\n",
       "      <td>0.0</td>\n",
       "      <td>0.0</td>\n",
       "      <td>0.0</td>\n",
       "      <td>0.0</td>\n",
       "      <td>0.0</td>\n",
       "      <td>0.0</td>\n",
       "      <td>0.0</td>\n",
       "      <td>0.0</td>\n",
       "      <td>0.0</td>\n",
       "      <td>0.0</td>\n",
       "    </tr>\n",
       "    <tr>\n",
       "      <th>3</th>\n",
       "      <td>0.0</td>\n",
       "      <td>1.223415</td>\n",
       "      <td>-0.174718</td>\n",
       "      <td>0.103448</td>\n",
       "      <td>-1.955882</td>\n",
       "      <td>0.625</td>\n",
       "      <td>0.0</td>\n",
       "      <td>0.0</td>\n",
       "      <td>0.0</td>\n",
       "      <td>0.0</td>\n",
       "      <td>...</td>\n",
       "      <td>0.0</td>\n",
       "      <td>0.0</td>\n",
       "      <td>0.0</td>\n",
       "      <td>0.0</td>\n",
       "      <td>0.0</td>\n",
       "      <td>0.0</td>\n",
       "      <td>0.0</td>\n",
       "      <td>0.0</td>\n",
       "      <td>0.0</td>\n",
       "      <td>0.0</td>\n",
       "    </tr>\n",
       "    <tr>\n",
       "      <th>4</th>\n",
       "      <td>0.0</td>\n",
       "      <td>0.999702</td>\n",
       "      <td>0.822056</td>\n",
       "      <td>0.068966</td>\n",
       "      <td>-1.955882</td>\n",
       "      <td>0.625</td>\n",
       "      <td>0.0</td>\n",
       "      <td>0.0</td>\n",
       "      <td>0.0</td>\n",
       "      <td>0.0</td>\n",
       "      <td>...</td>\n",
       "      <td>0.0</td>\n",
       "      <td>0.0</td>\n",
       "      <td>0.0</td>\n",
       "      <td>0.0</td>\n",
       "      <td>0.0</td>\n",
       "      <td>0.0</td>\n",
       "      <td>0.0</td>\n",
       "      <td>0.0</td>\n",
       "      <td>0.0</td>\n",
       "      <td>0.0</td>\n",
       "    </tr>\n",
       "  </tbody>\n",
       "</table>\n",
       "<p>5 rows × 32 columns</p>\n",
       "</div>"
      ],
      "text/plain": [
       "   year     price   mileage       tax       mpg  engineSize  model_ Auris  \\\n",
       "0  -0.5  0.776286  0.257936  0.896552 -1.955882       0.625           0.0   \n",
       "1   0.0  0.775541  0.004718  0.068966 -1.955882       0.625           0.0   \n",
       "2  -1.0  0.477703  0.414289  0.896552 -1.955882       0.625           0.0   \n",
       "3   0.0  1.223415 -0.174718  0.103448 -1.955882       0.625           0.0   \n",
       "4   0.0  0.999702  0.822056  0.068966 -1.955882       0.625           0.0   \n",
       "\n",
       "   model_ Avensis  model_ Aygo  model_ C-HR  ...  model_ Verso-S  \\\n",
       "0             0.0          0.0          0.0  ...             0.0   \n",
       "1             0.0          0.0          0.0  ...             0.0   \n",
       "2             0.0          0.0          0.0  ...             0.0   \n",
       "3             0.0          0.0          0.0  ...             0.0   \n",
       "4             0.0          0.0          0.0  ...             0.0   \n",
       "\n",
       "   model_ Yaris  transmission_Automatic  transmission_Manual  \\\n",
       "0           0.0                     0.0                  0.0   \n",
       "1           0.0                     0.0                  0.0   \n",
       "2           0.0                     0.0                  0.0   \n",
       "3           0.0                     0.0                  0.0   \n",
       "4           0.0                     0.0                  0.0   \n",
       "\n",
       "   transmission_Other  transmission_Semi-Auto  fuelType_Diesel  \\\n",
       "0                 0.0                     0.0              0.0   \n",
       "1                 0.0                     0.0              0.0   \n",
       "2                 0.0                     0.0              0.0   \n",
       "3                 0.0                     0.0              0.0   \n",
       "4                 0.0                     0.0              0.0   \n",
       "\n",
       "   fuelType_Hybrid  fuelType_Other  fuelType_Petrol  \n",
       "0              0.0             0.0              0.0  \n",
       "1              0.0             0.0              0.0  \n",
       "2              0.0             0.0              0.0  \n",
       "3              0.0             0.0              0.0  \n",
       "4              0.0             0.0              0.0  \n",
       "\n",
       "[5 rows x 32 columns]"
      ]
     },
     "execution_count": 11,
     "metadata": {},
     "output_type": "execute_result"
    }
   ],
   "source": [
    "df_ohe_caso3 = pd.get_dummies(df)\n",
    "scaler_caso3 = RobustScaler()\n",
    "df_scl_ohe_caso3 = scaler_caso3.fit_transform(df_ohe_caso3)\n",
    "df_scl_ohe_caso3 = pd.DataFrame(df_scl_ohe_caso3, columns = df_ohe_caso3.columns)\n",
    "df_scl_ohe_caso3.head()"
   ]
  },
  {
   "cell_type": "markdown",
   "metadata": {
    "id": "FYJAfRq9q_6d"
   },
   "source": [
    "#### Separación de Datos"
   ]
  },
  {
   "cell_type": "code",
   "execution_count": 12,
   "metadata": {
    "id": "PEe_oEnZq_6d",
    "scrolled": true
   },
   "outputs": [],
   "source": [
    "X_caso3 = df_scl_ohe_caso3.drop(['price'], axis=1)\n",
    "y_caso3 = df_scl_ohe_caso3['price']\n",
    "X_train3, X_test3, y_train3, y_test3 = train_test_split(X_caso3, y_caso3, test_size=0.2, random_state=22)"
   ]
  },
  {
   "cell_type": "code",
   "execution_count": 13,
   "metadata": {
    "colab": {
     "base_uri": "https://localhost:8080/"
    },
    "id": "lL2vWnGrUVc2",
    "outputId": "2a745188-d0ef-48f9-8687-eb479f54e7fd"
   },
   "outputs": [
    {
     "name": "stdout",
     "output_type": "stream",
     "text": [
      "RMSE: 0.277\n",
      "R^2: 0.917\n",
      "\n"
     ]
    }
   ],
   "source": [
    "from sklearn.metrics import mean_squared_error, r2_score\n",
    "from sklearn.linear_model import LinearRegression\n",
    "\n",
    "model_3 = LinearRegression()\n",
    "\n",
    "model_3.fit(X_train3, y_train3)\n",
    "preds3 = model_3.predict(X_test3)\n",
    "rmse = np.sqrt(mean_squared_error(y_test3, preds3))\n",
    "rs = model_3.score(X_test3, y_test3)\n",
    "print(f'RMSE: {round(rmse,3)}')\n",
    "print(f'R^2: {round(rs,3)}\\n')"
   ]
  },
  {
   "cell_type": "markdown",
   "metadata": {
    "id": "Pog5nTtKq_6d"
   },
   "source": [
    "### Caso 4\n",
    "\n",
    "#### Codificación Ordinal"
   ]
  },
  {
   "cell_type": "code",
   "execution_count": 14,
   "metadata": {
    "colab": {
     "base_uri": "https://localhost:8080/",
     "height": 204
    },
    "id": "oiN9iVNVq_6d",
    "outputId": "778305a2-60a3-4284-af14-472948955847"
   },
   "outputs": [
    {
     "data": {
      "text/html": [
       "<div>\n",
       "<style scoped>\n",
       "    .dataframe tbody tr th:only-of-type {\n",
       "        vertical-align: middle;\n",
       "    }\n",
       "\n",
       "    .dataframe tbody tr th {\n",
       "        vertical-align: top;\n",
       "    }\n",
       "\n",
       "    .dataframe thead th {\n",
       "        text-align: right;\n",
       "    }\n",
       "</style>\n",
       "<table border=\"1\" class=\"dataframe\">\n",
       "  <thead>\n",
       "    <tr style=\"text-align: right;\">\n",
       "      <th></th>\n",
       "      <th>model</th>\n",
       "      <th>year</th>\n",
       "      <th>price</th>\n",
       "      <th>transmission</th>\n",
       "      <th>mileage</th>\n",
       "      <th>fuelType</th>\n",
       "      <th>tax</th>\n",
       "      <th>mpg</th>\n",
       "      <th>engineSize</th>\n",
       "    </tr>\n",
       "  </thead>\n",
       "  <tbody>\n",
       "    <tr>\n",
       "      <th>0</th>\n",
       "      <td>0.066667</td>\n",
       "      <td>-0.5</td>\n",
       "      <td>0.776286</td>\n",
       "      <td>0.0</td>\n",
       "      <td>0.257936</td>\n",
       "      <td>0.0</td>\n",
       "      <td>0.896552</td>\n",
       "      <td>-1.955882</td>\n",
       "      <td>0.625</td>\n",
       "    </tr>\n",
       "    <tr>\n",
       "      <th>1</th>\n",
       "      <td>0.066667</td>\n",
       "      <td>0.0</td>\n",
       "      <td>0.775541</td>\n",
       "      <td>0.0</td>\n",
       "      <td>0.004718</td>\n",
       "      <td>0.0</td>\n",
       "      <td>0.068966</td>\n",
       "      <td>-1.955882</td>\n",
       "      <td>0.625</td>\n",
       "    </tr>\n",
       "    <tr>\n",
       "      <th>2</th>\n",
       "      <td>0.066667</td>\n",
       "      <td>-1.0</td>\n",
       "      <td>0.477703</td>\n",
       "      <td>0.0</td>\n",
       "      <td>0.414289</td>\n",
       "      <td>0.0</td>\n",
       "      <td>0.896552</td>\n",
       "      <td>-1.955882</td>\n",
       "      <td>0.625</td>\n",
       "    </tr>\n",
       "    <tr>\n",
       "      <th>3</th>\n",
       "      <td>0.066667</td>\n",
       "      <td>0.0</td>\n",
       "      <td>1.223415</td>\n",
       "      <td>0.0</td>\n",
       "      <td>-0.174718</td>\n",
       "      <td>0.0</td>\n",
       "      <td>0.103448</td>\n",
       "      <td>-1.955882</td>\n",
       "      <td>0.625</td>\n",
       "    </tr>\n",
       "    <tr>\n",
       "      <th>4</th>\n",
       "      <td>0.066667</td>\n",
       "      <td>0.0</td>\n",
       "      <td>0.999702</td>\n",
       "      <td>0.0</td>\n",
       "      <td>0.822056</td>\n",
       "      <td>0.0</td>\n",
       "      <td>0.068966</td>\n",
       "      <td>-1.955882</td>\n",
       "      <td>0.625</td>\n",
       "    </tr>\n",
       "  </tbody>\n",
       "</table>\n",
       "</div>"
      ],
      "text/plain": [
       "      model  year     price  transmission   mileage  fuelType       tax  \\\n",
       "0  0.066667  -0.5  0.776286           0.0  0.257936       0.0  0.896552   \n",
       "1  0.066667   0.0  0.775541           0.0  0.004718       0.0  0.068966   \n",
       "2  0.066667  -1.0  0.477703           0.0  0.414289       0.0  0.896552   \n",
       "3  0.066667   0.0  1.223415           0.0 -0.174718       0.0  0.103448   \n",
       "4  0.066667   0.0  0.999702           0.0  0.822056       0.0  0.068966   \n",
       "\n",
       "        mpg  engineSize  \n",
       "0 -1.955882       0.625  \n",
       "1 -1.955882       0.625  \n",
       "2 -1.955882       0.625  \n",
       "3 -1.955882       0.625  \n",
       "4 -1.955882       0.625  "
      ]
     },
     "execution_count": 14,
     "metadata": {},
     "output_type": "execute_result"
    }
   ],
   "source": [
    "df_oe_caso4 = df.copy()\n",
    "df_oe_caso4[str_categ] = oe.fit_transform(df_oe_caso4[str_categ])\n",
    "\n",
    "x_caso4 = df_oe_caso4.values #returns a numpy array\n",
    "x_scaled4 = RobustScaler().fit_transform(x_caso4)\n",
    "df_scl_oe_caso4 = pd.DataFrame(x_scaled4, columns=df_oe_caso4.columns)\n",
    "df_scl_oe_caso4.head()"
   ]
  },
  {
   "cell_type": "markdown",
   "metadata": {
    "id": "WdPOo2aiq_6e"
   },
   "source": [
    "#### Separación de Datos"
   ]
  },
  {
   "cell_type": "code",
   "execution_count": 15,
   "metadata": {
    "id": "usEY7KbMq_6e",
    "scrolled": true
   },
   "outputs": [],
   "source": [
    "X4 = df_scl_oe_caso4.drop(['price'], axis=1)\n",
    "y4 = df_scl_oe_caso4['price']\n",
    "X_train4, X_test4, y_train4, y_test4 = train_test_split(X4, y4, test_size=0.2, random_state=22)"
   ]
  },
  {
   "cell_type": "code",
   "execution_count": 16,
   "metadata": {
    "colab": {
     "base_uri": "https://localhost:8080/"
    },
    "id": "i_Y3MlvrWeMi",
    "outputId": "b5952761-61a6-458f-91a1-b03da5bb02f2"
   },
   "outputs": [
    {
     "name": "stdout",
     "output_type": "stream",
     "text": [
      "RMSE: 0.444\n",
      "R^2: 0.787\n",
      "\n"
     ]
    }
   ],
   "source": [
    "model_4 = LinearRegression()\n",
    "\n",
    "model_4.fit(X_train4, y_train4)\n",
    "preds4 = model_4.predict(X_test4)\n",
    "rmse = np.sqrt(mean_squared_error(y_test4, preds4))\n",
    "rs = model_4.score(X_test4, y_test4)\n",
    "print(f'RMSE: {round(rmse,3)}')\n",
    "print(f'R^2: {round(rs,3)}\\n')"
   ]
  },
  {
   "cell_type": "markdown",
   "metadata": {
    "id": "V2nw5MX7q_6e"
   },
   "source": [
    "### Caso 5\n",
    "\n",
    "#### Codificación Ordinal"
   ]
  },
  {
   "cell_type": "code",
   "execution_count": 17,
   "metadata": {
    "colab": {
     "base_uri": "https://localhost:8080/",
     "height": 204
    },
    "id": "nnMLYZxgq_6e",
    "outputId": "35b2af1d-a497-41ab-cdd7-5ddf6fd795f8"
   },
   "outputs": [
    {
     "data": {
      "text/html": [
       "<div>\n",
       "<style scoped>\n",
       "    .dataframe tbody tr th:only-of-type {\n",
       "        vertical-align: middle;\n",
       "    }\n",
       "\n",
       "    .dataframe tbody tr th {\n",
       "        vertical-align: top;\n",
       "    }\n",
       "\n",
       "    .dataframe thead th {\n",
       "        text-align: right;\n",
       "    }\n",
       "</style>\n",
       "<table border=\"1\" class=\"dataframe\">\n",
       "  <thead>\n",
       "    <tr style=\"text-align: right;\">\n",
       "      <th></th>\n",
       "      <th>model</th>\n",
       "      <th>year</th>\n",
       "      <th>price</th>\n",
       "      <th>transmission</th>\n",
       "      <th>mileage</th>\n",
       "      <th>fuelType</th>\n",
       "      <th>tax</th>\n",
       "      <th>mpg</th>\n",
       "      <th>engineSize</th>\n",
       "    </tr>\n",
       "  </thead>\n",
       "  <tbody>\n",
       "    <tr>\n",
       "      <th>0</th>\n",
       "      <td>0.352941</td>\n",
       "      <td>0.818182</td>\n",
       "      <td>0.256150</td>\n",
       "      <td>0.333333</td>\n",
       "      <td>0.138100</td>\n",
       "      <td>1.0</td>\n",
       "      <td>0.469027</td>\n",
       "      <td>0.143842</td>\n",
       "      <td>0.444444</td>\n",
       "    </tr>\n",
       "    <tr>\n",
       "      <th>1</th>\n",
       "      <td>0.352941</td>\n",
       "      <td>0.863636</td>\n",
       "      <td>0.256066</td>\n",
       "      <td>0.333333</td>\n",
       "      <td>0.106716</td>\n",
       "      <td>1.0</td>\n",
       "      <td>0.256637</td>\n",
       "      <td>0.143842</td>\n",
       "      <td>0.444444</td>\n",
       "    </tr>\n",
       "    <tr>\n",
       "      <th>2</th>\n",
       "      <td>0.352941</td>\n",
       "      <td>0.772727</td>\n",
       "      <td>0.222301</td>\n",
       "      <td>0.333333</td>\n",
       "      <td>0.157479</td>\n",
       "      <td>1.0</td>\n",
       "      <td>0.469027</td>\n",
       "      <td>0.143842</td>\n",
       "      <td>0.444444</td>\n",
       "    </tr>\n",
       "    <tr>\n",
       "      <th>3</th>\n",
       "      <td>0.352941</td>\n",
       "      <td>0.863636</td>\n",
       "      <td>0.306839</td>\n",
       "      <td>0.333333</td>\n",
       "      <td>0.084476</td>\n",
       "      <td>1.0</td>\n",
       "      <td>0.265487</td>\n",
       "      <td>0.143842</td>\n",
       "      <td>0.444444</td>\n",
       "    </tr>\n",
       "    <tr>\n",
       "      <th>4</th>\n",
       "      <td>0.352941</td>\n",
       "      <td>0.863636</td>\n",
       "      <td>0.281478</td>\n",
       "      <td>0.333333</td>\n",
       "      <td>0.208019</td>\n",
       "      <td>1.0</td>\n",
       "      <td>0.256637</td>\n",
       "      <td>0.143842</td>\n",
       "      <td>0.444444</td>\n",
       "    </tr>\n",
       "  </tbody>\n",
       "</table>\n",
       "</div>"
      ],
      "text/plain": [
       "      model      year     price  transmission   mileage  fuelType       tax  \\\n",
       "0  0.352941  0.818182  0.256150      0.333333  0.138100       1.0  0.469027   \n",
       "1  0.352941  0.863636  0.256066      0.333333  0.106716       1.0  0.256637   \n",
       "2  0.352941  0.772727  0.222301      0.333333  0.157479       1.0  0.469027   \n",
       "3  0.352941  0.863636  0.306839      0.333333  0.084476       1.0  0.265487   \n",
       "4  0.352941  0.863636  0.281478      0.333333  0.208019       1.0  0.256637   \n",
       "\n",
       "        mpg  engineSize  \n",
       "0  0.143842    0.444444  \n",
       "1  0.143842    0.444444  \n",
       "2  0.143842    0.444444  \n",
       "3  0.143842    0.444444  \n",
       "4  0.143842    0.444444  "
      ]
     },
     "execution_count": 17,
     "metadata": {},
     "output_type": "execute_result"
    }
   ],
   "source": [
    "df_oe_caso5 = df.copy()\n",
    "df_oe_caso5[str_categ] = oe.fit_transform(df_oe_caso5[str_categ])\n",
    "\n",
    "x_caso5 = df_oe_caso5.values #returns a numpy array\n",
    "x_scaled5 = MinMaxScaler().fit_transform(x_caso5)\n",
    "df_scl_oe_caso5 = pd.DataFrame(x_scaled5, columns=df_oe_caso5.columns)\n",
    "df_scl_oe_caso5.head()"
   ]
  },
  {
   "cell_type": "markdown",
   "metadata": {
    "id": "bsrBNiZ2q_6e"
   },
   "source": [
    "#### Separación de Datos"
   ]
  },
  {
   "cell_type": "code",
   "execution_count": 18,
   "metadata": {
    "id": "EBhlEWxsq_6e",
    "scrolled": true
   },
   "outputs": [],
   "source": [
    "X5 = df_scl_oe_caso5.drop(['price'], axis=1)\n",
    "y5 = df_scl_oe_caso5['price']\n",
    "X_train5, X_test5, y_train5, y_test5 = train_test_split(X5, y5, test_size=0.7, random_state=22)"
   ]
  },
  {
   "cell_type": "code",
   "execution_count": 19,
   "metadata": {
    "colab": {
     "base_uri": "https://localhost:8080/"
    },
    "id": "boFi2CQSXyPm",
    "outputId": "c5cfa615-4baf-4dd8-a181-663c05f8ed8c"
   },
   "outputs": [
    {
     "name": "stdout",
     "output_type": "stream",
     "text": [
      "RMSE: 0.049\n",
      "R^2: 0.785\n",
      "\n"
     ]
    }
   ],
   "source": [
    "model_5 = LinearRegression()\n",
    "\n",
    "model_5.fit(X_train5, y_train5)\n",
    "preds5 = model_5.predict(X_test5)\n",
    "rmse = np.sqrt(mean_squared_error(y_test5, preds5))\n",
    "rs = model_5.score(X_test5, y_test5)\n",
    "print(f'RMSE: {round(rmse,3)}')\n",
    "print(f'R^2: {round(rs,3)}\\n')"
   ]
  },
  {
   "cell_type": "markdown",
   "metadata": {
    "id": "nvtgJcDWq_6f"
   },
   "source": [
    "### Caso 6\n",
    "\n",
    "#### Codificación Ordinal"
   ]
  },
  {
   "cell_type": "code",
   "execution_count": 20,
   "metadata": {
    "colab": {
     "base_uri": "https://localhost:8080/",
     "height": 204
    },
    "id": "C8xxkUnSq_6f",
    "outputId": "6e369cbf-89fb-48c5-f962-f9d0dc18a154"
   },
   "outputs": [
    {
     "data": {
      "text/html": [
       "<div>\n",
       "<style scoped>\n",
       "    .dataframe tbody tr th:only-of-type {\n",
       "        vertical-align: middle;\n",
       "    }\n",
       "\n",
       "    .dataframe tbody tr th {\n",
       "        vertical-align: top;\n",
       "    }\n",
       "\n",
       "    .dataframe thead th {\n",
       "        text-align: right;\n",
       "    }\n",
       "</style>\n",
       "<table border=\"1\" class=\"dataframe\">\n",
       "  <thead>\n",
       "    <tr style=\"text-align: right;\">\n",
       "      <th></th>\n",
       "      <th>model</th>\n",
       "      <th>year</th>\n",
       "      <th>price</th>\n",
       "      <th>transmission</th>\n",
       "      <th>mileage</th>\n",
       "      <th>fuelType</th>\n",
       "      <th>tax</th>\n",
       "      <th>mpg</th>\n",
       "      <th>engineSize</th>\n",
       "    </tr>\n",
       "  </thead>\n",
       "  <tbody>\n",
       "    <tr>\n",
       "      <th>0</th>\n",
       "      <td>0.352941</td>\n",
       "      <td>0.818182</td>\n",
       "      <td>0.256150</td>\n",
       "      <td>0.333333</td>\n",
       "      <td>0.138100</td>\n",
       "      <td>1.0</td>\n",
       "      <td>0.469027</td>\n",
       "      <td>0.143842</td>\n",
       "      <td>0.444444</td>\n",
       "    </tr>\n",
       "    <tr>\n",
       "      <th>1</th>\n",
       "      <td>0.352941</td>\n",
       "      <td>0.863636</td>\n",
       "      <td>0.256066</td>\n",
       "      <td>0.333333</td>\n",
       "      <td>0.106716</td>\n",
       "      <td>1.0</td>\n",
       "      <td>0.256637</td>\n",
       "      <td>0.143842</td>\n",
       "      <td>0.444444</td>\n",
       "    </tr>\n",
       "    <tr>\n",
       "      <th>2</th>\n",
       "      <td>0.352941</td>\n",
       "      <td>0.772727</td>\n",
       "      <td>0.222301</td>\n",
       "      <td>0.333333</td>\n",
       "      <td>0.157479</td>\n",
       "      <td>1.0</td>\n",
       "      <td>0.469027</td>\n",
       "      <td>0.143842</td>\n",
       "      <td>0.444444</td>\n",
       "    </tr>\n",
       "    <tr>\n",
       "      <th>3</th>\n",
       "      <td>0.352941</td>\n",
       "      <td>0.863636</td>\n",
       "      <td>0.306839</td>\n",
       "      <td>0.333333</td>\n",
       "      <td>0.084476</td>\n",
       "      <td>1.0</td>\n",
       "      <td>0.265487</td>\n",
       "      <td>0.143842</td>\n",
       "      <td>0.444444</td>\n",
       "    </tr>\n",
       "    <tr>\n",
       "      <th>4</th>\n",
       "      <td>0.352941</td>\n",
       "      <td>0.863636</td>\n",
       "      <td>0.281478</td>\n",
       "      <td>0.333333</td>\n",
       "      <td>0.208019</td>\n",
       "      <td>1.0</td>\n",
       "      <td>0.256637</td>\n",
       "      <td>0.143842</td>\n",
       "      <td>0.444444</td>\n",
       "    </tr>\n",
       "  </tbody>\n",
       "</table>\n",
       "</div>"
      ],
      "text/plain": [
       "      model      year     price  transmission   mileage  fuelType       tax  \\\n",
       "0  0.352941  0.818182  0.256150      0.333333  0.138100       1.0  0.469027   \n",
       "1  0.352941  0.863636  0.256066      0.333333  0.106716       1.0  0.256637   \n",
       "2  0.352941  0.772727  0.222301      0.333333  0.157479       1.0  0.469027   \n",
       "3  0.352941  0.863636  0.306839      0.333333  0.084476       1.0  0.265487   \n",
       "4  0.352941  0.863636  0.281478      0.333333  0.208019       1.0  0.256637   \n",
       "\n",
       "        mpg  engineSize  \n",
       "0  0.143842    0.444444  \n",
       "1  0.143842    0.444444  \n",
       "2  0.143842    0.444444  \n",
       "3  0.143842    0.444444  \n",
       "4  0.143842    0.444444  "
      ]
     },
     "execution_count": 20,
     "metadata": {},
     "output_type": "execute_result"
    }
   ],
   "source": [
    "df_oe_caso6 = df.copy()\n",
    "df_oe_caso6[str_categ] = oe.fit_transform(df_oe_caso6[str_categ])\n",
    "\n",
    "x_caso6 = df_oe_caso6.values #returns a numpy array\n",
    "x_scaled6 = MinMaxScaler().fit_transform(x_caso6)\n",
    "df_scl_oe_caso6 = pd.DataFrame(x_scaled6, columns=df_oe_caso6.columns)\n",
    "df_scl_oe_caso6.head()"
   ]
  },
  {
   "cell_type": "markdown",
   "metadata": {
    "id": "koUTAr_Iq_6f"
   },
   "source": [
    "#### Separación de Datos"
   ]
  },
  {
   "cell_type": "code",
   "execution_count": 21,
   "metadata": {
    "id": "Lrfx0RKaq_6f",
    "scrolled": true
   },
   "outputs": [],
   "source": [
    "X6 = df_scl_oe_caso6.drop(['price'], axis=1)\n",
    "y6 = df_scl_oe_caso6['price']\n",
    "X_train6, X_test6, y_train6, y_test6 = train_test_split(X6, y6, test_size=0.45, random_state=22)"
   ]
  },
  {
   "cell_type": "code",
   "execution_count": 22,
   "metadata": {
    "colab": {
     "base_uri": "https://localhost:8080/"
    },
    "id": "RJG1XkIfYsWf",
    "outputId": "52d5e2f2-af7c-46e4-dadf-c1964c3c012b"
   },
   "outputs": [
    {
     "name": "stdout",
     "output_type": "stream",
     "text": [
      "RMSE: 0.05\n",
      "R^2: 0.784\n",
      "\n"
     ]
    }
   ],
   "source": [
    "model_6 = LinearRegression()\n",
    "\n",
    "model_6.fit(X_train6, y_train6)\n",
    "preds6 = model_6.predict(X_test6)\n",
    "rmse = np.sqrt(mean_squared_error(y_test6, preds6))\n",
    "rs = model_6.score(X_test6, y_test6)\n",
    "print(f'RMSE: {round(rmse,3)}')\n",
    "print(f'R^2: {round(rs,3)}\\n')"
   ]
  },
  {
   "cell_type": "markdown",
   "metadata": {
    "id": "v68nFlBJq_6f"
   },
   "source": [
    "### Caso 7\n",
    "\n",
    "#### Codificación Ordinal"
   ]
  },
  {
   "cell_type": "code",
   "execution_count": 23,
   "metadata": {
    "colab": {
     "base_uri": "https://localhost:8080/",
     "height": 204
    },
    "id": "cbX9NDS6q_6f",
    "outputId": "7b478344-aeed-4bf8-aa6e-1dd53d213406"
   },
   "outputs": [
    {
     "data": {
      "text/html": [
       "<div>\n",
       "<style scoped>\n",
       "    .dataframe tbody tr th:only-of-type {\n",
       "        vertical-align: middle;\n",
       "    }\n",
       "\n",
       "    .dataframe tbody tr th {\n",
       "        vertical-align: top;\n",
       "    }\n",
       "\n",
       "    .dataframe thead th {\n",
       "        text-align: right;\n",
       "    }\n",
       "</style>\n",
       "<table border=\"1\" class=\"dataframe\">\n",
       "  <thead>\n",
       "    <tr style=\"text-align: right;\">\n",
       "      <th></th>\n",
       "      <th>model</th>\n",
       "      <th>year</th>\n",
       "      <th>price</th>\n",
       "      <th>transmission</th>\n",
       "      <th>mileage</th>\n",
       "      <th>fuelType</th>\n",
       "      <th>tax</th>\n",
       "      <th>mpg</th>\n",
       "      <th>engineSize</th>\n",
       "    </tr>\n",
       "  </thead>\n",
       "  <tbody>\n",
       "    <tr>\n",
       "      <th>0</th>\n",
       "      <td>0.352941</td>\n",
       "      <td>0.818182</td>\n",
       "      <td>0.256150</td>\n",
       "      <td>0.333333</td>\n",
       "      <td>0.138100</td>\n",
       "      <td>1.0</td>\n",
       "      <td>0.469027</td>\n",
       "      <td>0.143842</td>\n",
       "      <td>0.444444</td>\n",
       "    </tr>\n",
       "    <tr>\n",
       "      <th>1</th>\n",
       "      <td>0.352941</td>\n",
       "      <td>0.863636</td>\n",
       "      <td>0.256066</td>\n",
       "      <td>0.333333</td>\n",
       "      <td>0.106716</td>\n",
       "      <td>1.0</td>\n",
       "      <td>0.256637</td>\n",
       "      <td>0.143842</td>\n",
       "      <td>0.444444</td>\n",
       "    </tr>\n",
       "    <tr>\n",
       "      <th>2</th>\n",
       "      <td>0.352941</td>\n",
       "      <td>0.772727</td>\n",
       "      <td>0.222301</td>\n",
       "      <td>0.333333</td>\n",
       "      <td>0.157479</td>\n",
       "      <td>1.0</td>\n",
       "      <td>0.469027</td>\n",
       "      <td>0.143842</td>\n",
       "      <td>0.444444</td>\n",
       "    </tr>\n",
       "    <tr>\n",
       "      <th>3</th>\n",
       "      <td>0.352941</td>\n",
       "      <td>0.863636</td>\n",
       "      <td>0.306839</td>\n",
       "      <td>0.333333</td>\n",
       "      <td>0.084476</td>\n",
       "      <td>1.0</td>\n",
       "      <td>0.265487</td>\n",
       "      <td>0.143842</td>\n",
       "      <td>0.444444</td>\n",
       "    </tr>\n",
       "    <tr>\n",
       "      <th>4</th>\n",
       "      <td>0.352941</td>\n",
       "      <td>0.863636</td>\n",
       "      <td>0.281478</td>\n",
       "      <td>0.333333</td>\n",
       "      <td>0.208019</td>\n",
       "      <td>1.0</td>\n",
       "      <td>0.256637</td>\n",
       "      <td>0.143842</td>\n",
       "      <td>0.444444</td>\n",
       "    </tr>\n",
       "  </tbody>\n",
       "</table>\n",
       "</div>"
      ],
      "text/plain": [
       "      model      year     price  transmission   mileage  fuelType       tax  \\\n",
       "0  0.352941  0.818182  0.256150      0.333333  0.138100       1.0  0.469027   \n",
       "1  0.352941  0.863636  0.256066      0.333333  0.106716       1.0  0.256637   \n",
       "2  0.352941  0.772727  0.222301      0.333333  0.157479       1.0  0.469027   \n",
       "3  0.352941  0.863636  0.306839      0.333333  0.084476       1.0  0.265487   \n",
       "4  0.352941  0.863636  0.281478      0.333333  0.208019       1.0  0.256637   \n",
       "\n",
       "        mpg  engineSize  \n",
       "0  0.143842    0.444444  \n",
       "1  0.143842    0.444444  \n",
       "2  0.143842    0.444444  \n",
       "3  0.143842    0.444444  \n",
       "4  0.143842    0.444444  "
      ]
     },
     "execution_count": 23,
     "metadata": {},
     "output_type": "execute_result"
    }
   ],
   "source": [
    "df_oe_caso7 = df.copy()\n",
    "df_oe_caso7[str_categ] = oe.fit_transform(df_oe_caso7[str_categ])\n",
    "\n",
    "x_caso7 = df_oe_caso7.values #returns a numpy array\n",
    "x_scaled7 = MinMaxScaler().fit_transform(x_caso7)\n",
    "df_scl_oe_caso7 = pd.DataFrame(x_scaled7, columns=df_oe_caso7.columns)\n",
    "df_scl_oe_caso7.head()"
   ]
  },
  {
   "cell_type": "markdown",
   "metadata": {
    "id": "nXquF5T2q_6f"
   },
   "source": [
    "#### Separación de Datos"
   ]
  },
  {
   "cell_type": "code",
   "execution_count": 24,
   "metadata": {
    "id": "0Iph7vFpq_6g",
    "scrolled": true
   },
   "outputs": [],
   "source": [
    "X7 = df_scl_oe_caso7.drop(['price'], axis=1)\n",
    "y7 = df_scl_oe_caso7['price']\n",
    "X_train7, X_test7, y_train7, y_test7 = train_test_split(X7, y7, test_size=0.2, random_state=22)"
   ]
  },
  {
   "cell_type": "code",
   "execution_count": 25,
   "metadata": {
    "colab": {
     "base_uri": "https://localhost:8080/"
    },
    "id": "A8ZovNfWZRRY",
    "outputId": "f8d99a00-f893-4bd6-bc5a-4c9754691561"
   },
   "outputs": [
    {
     "name": "stdout",
     "output_type": "stream",
     "text": [
      "RMSE: 0.05\n",
      "R^2: 0.787\n",
      "\n"
     ]
    }
   ],
   "source": [
    "model_7 = LinearRegression()\n",
    "\n",
    "model_7.fit(X_train7, y_train7)\n",
    "preds7 = model_7.predict(X_test7)\n",
    "rmse = np.sqrt(mean_squared_error(y_test7, preds7))\n",
    "rs = model_7.score(X_test7, y_test7)\n",
    "print(f'RMSE: {round(rmse,3)}')\n",
    "print(f'R^2: {round(rs,3)}\\n')"
   ]
  },
  {
   "cell_type": "markdown",
   "metadata": {
    "id": "TOKeSrqAPsS-"
   },
   "source": [
    "Al observar lo sucedido en los cuatro primeros casos se puede concluir lo siguiente:\n",
    "\n",
    "\n",
    "\n",
    "*   Al parecer el escalamiento de los datos produce un cambio sobre el RMSE, esto es esperado por la forma en que se producen los números para reemplazar los valores de tipo string. El reemplazar varios números enteros distintos de 1 en el espacio n-dimensional (en el caso de RobustScaler) va a tener un efecto aumentando la distancia de los valores que se predicen y los que en realidad se experimentan. Entonces, tomando en cuenta estos casos de estudio para disminuir este estadístico se recomienda el uso de MinMaxScaler; sin embargo, no se observa mayor diferencia sobre R^2.\n",
    "\n",
    "*   Respecto al estadístico R^2 resulta de gran importancia la codificación realizada a los datos. De acuerdo a lo experimentado, la codificación One-Hot produce un ajuste superior comparado con el ajuste obtenido mediante la codificación ordinal. Aunque no estoy seguro de la explicación a esto, a mi parecer esto es una consecuencia de que ciertos estadisticos podrían relacionar algunas características en la codificación ordinal que en la codificación One-Hot resultan ser completamente independientes.\n",
    "\n",
    "\n",
    "*   Finalmente, con los últimos casos analizados se evidencia que entre un mayor tamaño de la muestra de entrenamiento, se espera que el ajuste en este caso lineal funcione mejor para realizar predicciones.   \n",
    "\n",
    "\n",
    "\n"
   ]
  },
  {
   "cell_type": "markdown",
   "metadata": {
    "id": "DwPVEccPq_6g"
   },
   "source": [
    "## Parte 2\n",
    "\n",
    "Ahora usted debe desarrollar su propia implementación del método Descenso de Gradiente estocástico. Para esta ocasión debe utilizar una codificación One-Hot, un RobustScaler y realizar el entrenamiento a partir del 80% de los datos. Al final del entrenamiento, en la lista `errores` se deben tener los valores de la función de error para cada iteración y así poder observar el progreso gráficamente."
   ]
  },
  {
   "cell_type": "code",
   "execution_count": 26,
   "metadata": {
    "id": "2CtKIkhvq_6g"
   },
   "outputs": [],
   "source": [
    "import random\n",
    "df_ohe = pd.get_dummies(df)\n",
    "scaler = RobustScaler()\n",
    "df_scl_ohe = scaler.fit_transform(df_ohe)\n",
    "df_scl_ohe = pd.DataFrame(df_scl_ohe, columns = df_ohe.columns)\n",
    "\n",
    "X = df_scl_ohe.drop(['price'], axis=1)\n",
    "y = df_scl_ohe['price']\n",
    "X_train, X_test, y_train, y_test = train_test_split(X, y, test_size=0.2, random_state=22)"
   ]
  },
  {
   "cell_type": "code",
   "execution_count": 67,
   "metadata": {
    "id": "77vdu5oWq_6g",
    "scrolled": true
   },
   "outputs": [],
   "source": [
    "X_train_array = np.c_[np.ones(X_train.values.shape[0]), X_train.values]\n",
    "y_train_array = y_train.values\n",
    "X_test_array = np.c_[np.ones(X_test.values.shape[0]), X_test.values]\n",
    "y_test_array = y_test.values\n",
    "\n",
    "#Inicialización de w\n",
    "w0 = np.random.rand(1,np.shape(X_train_array)[1])# Inicializar aleatoriamente #\n",
    "w = w0.copy()\n",
    "#Selección de par aleatorio\n",
    "i = random.randint(0, len(X_train_array)) # Posición aleatoria #\n",
    "xActual = X_train_array[i]\n",
    "yActual = y_train_array[i]\n",
    "\n",
    "#Inicialización de criterio de parada\n",
    "eps = 1e-12 # Se define un criterio de parada basado en el error en la predicción #\n",
    "#eps = 7e-1\n",
    "error = float('inf') # Valor inicial, se debe actualizar en cada iteración #\n",
    "dif = float('inf') # Diferencia entre vectores de pesos w consecutivos #\n",
    "#Inicialización de valor de la tasa de aprendizaje \n",
    "tasa = 0.01 # Selección de tasa de aprendizaje #\n",
    "#Lista para monitorear aprendizaje\n",
    "errores = [] # Agregar a esta lista los valores de la función de error en cada iteración #\n",
    "\n",
    "j = 0\n",
    "#Ciclo iterativo según algoritmo de descenso de gradiente\n",
    "while dif>eps and j<5000:\n",
    "  i = random.randint(0, len(X_train_array)) # Posición aleatoria #\n",
    "  xActual = X_train_array[i]\n",
    "  yActual = y_train_array[i]\n",
    "  j+=1\n",
    "  g = np.dot(w,xActual)\n",
    "  error = g - yActual \n",
    "  errores.append(np.linalg.norm(error))\n",
    "  wn = w - tasa*(error*xActual)\n",
    "  dif = np.linalg.norm((wn-w)/tasa)\n",
    "  w = wn"
   ]
  },
  {
   "cell_type": "markdown",
   "metadata": {
    "id": "Y7IyGdt2q_6g"
   },
   "source": [
    "#### Evaluación de Modelo"
   ]
  },
  {
   "cell_type": "code",
   "execution_count": 68,
   "metadata": {
    "colab": {
     "base_uri": "https://localhost:8080/"
    },
    "id": "jXD86WOTFpY0",
    "outputId": "84cad9b8-7b1f-4f36-8c6f-b2cc89edcfc5"
   },
   "outputs": [
    {
     "name": "stdout",
     "output_type": "stream",
     "text": [
      "5000\n",
      "0.15526406660110917\n",
      "4.209863677691328e-05\n",
      "0.07964106463418141\n"
     ]
    }
   ],
   "source": [
    "print(len(errores))\n",
    "print(dif)\n",
    "print(min(errores))\n",
    "print(errores[-1])"
   ]
  },
  {
   "cell_type": "code",
   "execution_count": 69,
   "metadata": {
    "colab": {
     "base_uri": "https://localhost:8080/"
    },
    "id": "9fBtPg8Vq_6g",
    "outputId": "803a44d7-f6e7-4f1b-91aa-53c5687e369f"
   },
   "outputs": [
    {
     "name": "stdout",
     "output_type": "stream",
     "text": [
      "R2 entrenamiento: 0.8827\n",
      "R2 prueba: 0.8827\n"
     ]
    }
   ],
   "source": [
    "y_train_preds = np.zeros(y_train_array.shape)\n",
    "for i in range(X_train_array.shape[0]):\n",
    "    y_train_preds[i] = np.dot(w,X_train_array[i])\n",
    "\n",
    "y_test_preds = np.zeros(y_test_array.shape)\n",
    "for i in range(X_test_array.shape[0]):\n",
    "    y_test_preds[i] = np.dot(w,X_test_array[i])\n",
    "    \n",
    "r2_train = r2_score(y_train_array, y_train_preds)\n",
    "r2_test = r2_score(y_test_array, y_test_preds)\n",
    "print(f'R2 entrenamiento: {round(r2_train,4)}\\nR2 prueba: {round(r2_test,4)}')"
   ]
  },
  {
   "cell_type": "markdown",
   "metadata": {
    "id": "82s_cUSsSLcU"
   },
   "source": [
    "Con lo que se logra observar en la implementación de este código se puede evidenciar que al realizar el descenso de gradiente estocástico el vector W cuenta con los coeficientes del ajuste lineal que más se acercan a los dos puntos que se usan para entrenar, esto se evidencia cuando se imprime el valor de error mínimo encontrado y coincide con el último elemento de la lista. Sin embargo, como se está analizando el caso extremo en que se observa únicamente un dato, este ajuste puede que no sea el mejor para toda lo muestra de entrenamiento; por lo tanto, al aplicarlo a la muestra de test y a todo el conjunto de entrenamiento se tiene un estadístico de R^2 bastante alto."
   ]
  },
  {
   "cell_type": "markdown",
   "metadata": {
    "id": "Y0TNWUfzq_6h"
   },
   "source": [
    "## Gráfica de Resultados"
   ]
  },
  {
   "cell_type": "code",
   "execution_count": 70,
   "metadata": {
    "colab": {
     "base_uri": "https://localhost:8080/",
     "height": 367
    },
    "id": "RwPL5d_lq_6h",
    "outputId": "b5f6bae0-2ae1-4a05-8dc8-0840c4420aa9"
   },
   "outputs": [
    {
     "data": {
      "text/plain": [
       "Text(0.5, 1.0, 'Descenso de Gradiente Estocástico')"
      ]
     },
     "execution_count": 70,
     "metadata": {},
     "output_type": "execute_result"
    },
    {
     "data": {
      "image/png": "[encoded data removed]",
      "text/plain": [
       "<Figure size 1080x360 with 1 Axes>"
      ]
     },
     "metadata": {
      "needs_background": "light"
     },
     "output_type": "display_data"
    }
   ],
   "source": [
    "plt.figure(figsize=(15,5))\n",
    "plt.plot(errores)\n",
    "plt.xlabel('# Iteraciones')\n",
    "plt.ylabel('Función de Error')\n",
    "plt.title('Descenso de Gradiente Estocástico')"
   ]
  },
  {
   "cell_type": "markdown",
   "metadata": {
    "id": "Nh9XHbvpUyN4"
   },
   "source": [
    "En esta gráfica se observa lo que se espera que ocurra con el algoritmo de descenso de gradiente estocástico y es que la función de error siempre vaya disminuyendo hasta que se cumpla la condición de terminación."
   ]
  },
  {
   "cell_type": "code",
   "execution_count": null,
   "metadata": {
    "id": "cuG8cXctZgFj"
   },
   "outputs": [],
   "source": []
  },
  {
   "cell_type": "code",
   "execution_count": null,
   "metadata": {},
   "outputs": [],
   "source": []
  }
 ],
 "metadata": {
  "colab": {
   "collapsed_sections": [
    "IfdQlNkKq_6V"
   ],
   "name": "Copia de ML_hw1.ipynb",
   "provenance": []
  },
  "kernelspec": {
   "display_name": "Python 3",
   "language": "python",
   "name": "python3"
  },
  "language_info": {
   "codemirror_mode": {
    "name": "ipython",
    "version": 3
   },
   "file_extension": ".py",
   "mimetype": "text/x-python",
   "name": "python",
   "nbconvert_exporter": "python",
   "pygments_lexer": "ipython3",
   "version": "3.8.10"
  }
 },
 "nbformat": 4,
 "nbformat_minor": 1
}
