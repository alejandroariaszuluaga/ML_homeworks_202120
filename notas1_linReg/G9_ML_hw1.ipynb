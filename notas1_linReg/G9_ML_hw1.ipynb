{
  "nbformat": 4,
  "nbformat_minor": 0,
  "metadata": {
    "kernelspec": {
      "display_name": "Python 3",
      "language": "python",
      "name": "python3"
    },
    "language_info": {
      "codemirror_mode": {
        "name": "ipython",
        "version": 3
      },
      "file_extension": ".py",
      "mimetype": "text/x-python",
      "name": "python",
      "nbconvert_exporter": "python",
      "pygments_lexer": "ipython3",
      "version": "3.8.5"
    },
    "colab": {
      "name": "ML_hw1.ipynb",
      "provenance": [],
      "collapsed_sections": []
    }
  },
  "cells": [
    {
      "cell_type": "markdown",
      "metadata": {
        "id": "wAIdTANCkJW2"
      },
      "source": [
        "# Regresión Lineal: Predicción de Precios de Autos\n",
        "\n",
        "Una tarea bastante común en el contexto de Machine Learning es la predicción de una variable según algunos descriptores. En esta ocasión partiremos de un dataset que involucra ocho variables (algunas numéricas, otras categóricas) y el precio de un automóvil, el cual se desea estimar empleando un modelo de regresión lineal.\n",
        "\n",
        "El objetivo de este cuaderno es que usted aprenda:\n",
        "- Algunas maneras de lidiar con descriptores categóricos no-numéricos.\n",
        "- Uso de la librería Pandas para manejar datos tabulares en formato .csv.\n",
        "- Uso de la librería Scikit Learn para preprocesamiento y entrenamiento de un modelo de regresión lineal.\n",
        "- Funcionamiento e implementación del algoritmo Descenso de Gradiente Estocástico para un modelo lineal básico.\n",
        "\n",
        "Debe completar las celdas vacías y seguir las instrucciones anotadas en el cuaderno.\n",
        "\n",
        "La fecha límite de entrega es el día **9 de septiembre** y se realizará a través de Bloque Neón."
      ]
    },
    {
      "cell_type": "code",
      "metadata": {
        "id": "JYu69ciEkJXA"
      },
      "source": [
        "import numpy as np\n",
        "import pandas as pd\n",
        "\n",
        "import matplotlib.pyplot as plt\n",
        "from sklearn.metrics import mean_squared_error, r2_score\n",
        "import sklearn\n",
        "from sklearn.preprocessing import OrdinalEncoder, MinMaxScaler, RobustScaler\n",
        "from sklearn.model_selection import train_test_split"
      ],
      "execution_count": 6,
      "outputs": []
    },
    {
      "cell_type": "code",
      "metadata": {
        "colab": {
          "base_uri": "https://localhost:8080/",
          "height": 204
        },
        "id": "rOxA-vPekJXF",
        "outputId": "0dbc55e6-a8f7-44f5-d5d2-21e87ac9c5d3"
      },
      "source": [
        "df = pd.read_csv('carDataset/toyota.csv')\n",
        "df.head()"
      ],
      "execution_count": 7,
      "outputs": [
        {
          "output_type": "execute_result",
          "data": {
            "text/html": [
              "<div>\n",
              "<style scoped>\n",
              "    .dataframe tbody tr th:only-of-type {\n",
              "        vertical-align: middle;\n",
              "    }\n",
              "\n",
              "    .dataframe tbody tr th {\n",
              "        vertical-align: top;\n",
              "    }\n",
              "\n",
              "    .dataframe thead th {\n",
              "        text-align: right;\n",
              "    }\n",
              "</style>\n",
              "<table border=\"1\" class=\"dataframe\">\n",
              "  <thead>\n",
              "    <tr style=\"text-align: right;\">\n",
              "      <th></th>\n",
              "      <th>model</th>\n",
              "      <th>year</th>\n",
              "      <th>price</th>\n",
              "      <th>transmission</th>\n",
              "      <th>mileage</th>\n",
              "      <th>fuelType</th>\n",
              "      <th>tax</th>\n",
              "      <th>mpg</th>\n",
              "      <th>engineSize</th>\n",
              "    </tr>\n",
              "  </thead>\n",
              "  <tbody>\n",
              "    <tr>\n",
              "      <th>0</th>\n",
              "      <td>GT86</td>\n",
              "      <td>2016</td>\n",
              "      <td>16000</td>\n",
              "      <td>Manual</td>\n",
              "      <td>24089</td>\n",
              "      <td>Petrol</td>\n",
              "      <td>265</td>\n",
              "      <td>36.2</td>\n",
              "      <td>2.0</td>\n",
              "    </tr>\n",
              "    <tr>\n",
              "      <th>1</th>\n",
              "      <td>GT86</td>\n",
              "      <td>2017</td>\n",
              "      <td>15995</td>\n",
              "      <td>Manual</td>\n",
              "      <td>18615</td>\n",
              "      <td>Petrol</td>\n",
              "      <td>145</td>\n",
              "      <td>36.2</td>\n",
              "      <td>2.0</td>\n",
              "    </tr>\n",
              "    <tr>\n",
              "      <th>2</th>\n",
              "      <td>GT86</td>\n",
              "      <td>2015</td>\n",
              "      <td>13998</td>\n",
              "      <td>Manual</td>\n",
              "      <td>27469</td>\n",
              "      <td>Petrol</td>\n",
              "      <td>265</td>\n",
              "      <td>36.2</td>\n",
              "      <td>2.0</td>\n",
              "    </tr>\n",
              "    <tr>\n",
              "      <th>3</th>\n",
              "      <td>GT86</td>\n",
              "      <td>2017</td>\n",
              "      <td>18998</td>\n",
              "      <td>Manual</td>\n",
              "      <td>14736</td>\n",
              "      <td>Petrol</td>\n",
              "      <td>150</td>\n",
              "      <td>36.2</td>\n",
              "      <td>2.0</td>\n",
              "    </tr>\n",
              "    <tr>\n",
              "      <th>4</th>\n",
              "      <td>GT86</td>\n",
              "      <td>2017</td>\n",
              "      <td>17498</td>\n",
              "      <td>Manual</td>\n",
              "      <td>36284</td>\n",
              "      <td>Petrol</td>\n",
              "      <td>145</td>\n",
              "      <td>36.2</td>\n",
              "      <td>2.0</td>\n",
              "    </tr>\n",
              "  </tbody>\n",
              "</table>\n",
              "</div>"
            ],
            "text/plain": [
              "   model  year  price transmission  mileage fuelType  tax   mpg  engineSize\n",
              "0   GT86  2016  16000       Manual    24089   Petrol  265  36.2         2.0\n",
              "1   GT86  2017  15995       Manual    18615   Petrol  145  36.2         2.0\n",
              "2   GT86  2015  13998       Manual    27469   Petrol  265  36.2         2.0\n",
              "3   GT86  2017  18998       Manual    14736   Petrol  150  36.2         2.0\n",
              "4   GT86  2017  17498       Manual    36284   Petrol  145  36.2         2.0"
            ]
          },
          "metadata": {},
          "execution_count": 7
        }
      ]
    },
    {
      "cell_type": "code",
      "metadata": {
        "colab": {
          "base_uri": "https://localhost:8080/"
        },
        "id": "EJyQTRjSkJXJ",
        "outputId": "c23180d5-5a9c-4105-e8da-b881431fd579"
      },
      "source": [
        "df.info()"
      ],
      "execution_count": 8,
      "outputs": [
        {
          "output_type": "stream",
          "name": "stdout",
          "text": [
            "<class 'pandas.core.frame.DataFrame'>\n",
            "RangeIndex: 6738 entries, 0 to 6737\n",
            "Data columns (total 9 columns):\n",
            " #   Column        Non-Null Count  Dtype  \n",
            "---  ------        --------------  -----  \n",
            " 0   model         6738 non-null   object \n",
            " 1   year          6738 non-null   int64  \n",
            " 2   price         6738 non-null   int64  \n",
            " 3   transmission  6738 non-null   object \n",
            " 4   mileage       6738 non-null   int64  \n",
            " 5   fuelType      6738 non-null   object \n",
            " 6   tax           6738 non-null   int64  \n",
            " 7   mpg           6738 non-null   float64\n",
            " 8   engineSize    6738 non-null   float64\n",
            "dtypes: float64(2), int64(4), object(3)\n",
            "memory usage: 473.9+ KB\n"
          ]
        }
      ]
    },
    {
      "cell_type": "markdown",
      "metadata": {
        "id": "WrV6JqpUkJXL"
      },
      "source": [
        "Podemos observar algunas categorías numéricas, y otras de tipo _object_ (string)."
      ]
    },
    {
      "cell_type": "code",
      "metadata": {
        "id": "dYaWLaBLkJXM"
      },
      "source": [
        "categ = ['model','year','transmission','fuelType','engineSize']\n",
        "str_categ = ['model','transmission','fuelType']\n",
        "numer = ['price','mileage','tax','mpg']"
      ],
      "execution_count": 9,
      "outputs": []
    },
    {
      "cell_type": "markdown",
      "metadata": {
        "id": "v7kZyVq1kJXO"
      },
      "source": [
        "## Parte 1\n",
        "\n",
        "A continuación se realizó el ajuste de los datos para un modelo de regresión lineal definido mediante la librería SciKit-Learn. Se observan dos métricas de precisión, en este caso Error Cuadrático Medio (RMSE) y $R^2$ (puede leer más sobre esta métrica en [ScikitLearn: r2_score](https://scikit-learn.org/stable/modules/generated/sklearn.metrics.r2_score.html)). Se le entregarán los dos primeros casos como ejemplo, usted debe implementar los demás a partir de estos primeros."
      ]
    },
    {
      "cell_type": "markdown",
      "metadata": {
        "id": "d9R08xc1kJXQ"
      },
      "source": [
        "#### Casos:\n",
        "\n",
        "- Caso 1: Codificación One-Hot (MinMaxScaler)\n",
        "- Caso 2: Codificación Ordinal (MinMaxScaler)\n",
        "- Caso 3: Codificación One-Hot (RobustScaler)\n",
        "- Caso 4: Codificación Ordinal (RobustScaler)\n",
        "- Caso 5: Entrenar con un 30% (Codificación Ordinal, MinMaxScaler)\n",
        "- Caso 6: Entrenar con un 55% (Codificación Ordinal, MinMaxScaler)\n",
        "- Caso 7: Entrenar con un 80% (Codificación Ordinal, MinMaxScaler)\n",
        "\n",
        "Analice los resultados."
      ]
    },
    {
      "cell_type": "markdown",
      "metadata": {
        "id": "NkK5EGh-kJXT"
      },
      "source": [
        "### Caso 1:"
      ]
    },
    {
      "cell_type": "markdown",
      "metadata": {
        "id": "OegEqBq-kJXW"
      },
      "source": [
        "#### Codificación One-Hot\n",
        "\n",
        "Una de las formas de codificar categorías no numéricas se conoce como _one-hot encoding_, en donde se crea una columna para cada valor distinto que exista en la característica que estamos codificando y, para cada registro, marcar con un 1 la columna a la que pertenezca dicho registro y dejar las demás con 0.\n",
        "\n",
        "Igualmente, en este caso se realizará un escalamiento de los datos utilizando un `MinMaxScaler`, investigue más sobre esta función en: [ScikitLearn: MinMaxScaler](https://scikit-learn.org/stable/modules/generated/sklearn.preprocessing.MinMaxScaler.html)."
      ]
    },
    {
      "cell_type": "code",
      "metadata": {
        "scrolled": true,
        "colab": {
          "base_uri": "https://localhost:8080/",
          "height": 258
        },
        "id": "2b5yYcSDkJXZ",
        "outputId": "addcaa5e-bc55-4990-8d0a-06a6d08da8fe"
      },
      "source": [
        "df_ohe = pd.get_dummies(df)\n",
        "scaler = MinMaxScaler()\n",
        "df_scl_ohe = scaler.fit_transform(df_ohe)\n",
        "df_scl_ohe = pd.DataFrame(df_scl_ohe, columns = df_ohe.columns)\n",
        "df_scl_ohe.head()"
      ],
      "execution_count": 10,
      "outputs": [
        {
          "output_type": "execute_result",
          "data": {
            "text/html": [
              "<div>\n",
              "<style scoped>\n",
              "    .dataframe tbody tr th:only-of-type {\n",
              "        vertical-align: middle;\n",
              "    }\n",
              "\n",
              "    .dataframe tbody tr th {\n",
              "        vertical-align: top;\n",
              "    }\n",
              "\n",
              "    .dataframe thead th {\n",
              "        text-align: right;\n",
              "    }\n",
              "</style>\n",
              "<table border=\"1\" class=\"dataframe\">\n",
              "  <thead>\n",
              "    <tr style=\"text-align: right;\">\n",
              "      <th></th>\n",
              "      <th>year</th>\n",
              "      <th>price</th>\n",
              "      <th>mileage</th>\n",
              "      <th>tax</th>\n",
              "      <th>mpg</th>\n",
              "      <th>engineSize</th>\n",
              "      <th>model_ Auris</th>\n",
              "      <th>model_ Avensis</th>\n",
              "      <th>model_ Aygo</th>\n",
              "      <th>model_ C-HR</th>\n",
              "      <th>model_ Camry</th>\n",
              "      <th>model_ Corolla</th>\n",
              "      <th>model_ GT86</th>\n",
              "      <th>model_ Hilux</th>\n",
              "      <th>model_ IQ</th>\n",
              "      <th>model_ Land Cruiser</th>\n",
              "      <th>model_ PROACE VERSO</th>\n",
              "      <th>model_ Prius</th>\n",
              "      <th>model_ RAV4</th>\n",
              "      <th>model_ Supra</th>\n",
              "      <th>model_ Urban Cruiser</th>\n",
              "      <th>model_ Verso</th>\n",
              "      <th>model_ Verso-S</th>\n",
              "      <th>model_ Yaris</th>\n",
              "      <th>transmission_Automatic</th>\n",
              "      <th>transmission_Manual</th>\n",
              "      <th>transmission_Other</th>\n",
              "      <th>transmission_Semi-Auto</th>\n",
              "      <th>fuelType_Diesel</th>\n",
              "      <th>fuelType_Hybrid</th>\n",
              "      <th>fuelType_Other</th>\n",
              "      <th>fuelType_Petrol</th>\n",
              "    </tr>\n",
              "  </thead>\n",
              "  <tbody>\n",
              "    <tr>\n",
              "      <th>0</th>\n",
              "      <td>0.818182</td>\n",
              "      <td>0.256150</td>\n",
              "      <td>0.138100</td>\n",
              "      <td>0.469027</td>\n",
              "      <td>0.143842</td>\n",
              "      <td>0.444444</td>\n",
              "      <td>0.0</td>\n",
              "      <td>0.0</td>\n",
              "      <td>0.0</td>\n",
              "      <td>0.0</td>\n",
              "      <td>0.0</td>\n",
              "      <td>0.0</td>\n",
              "      <td>1.0</td>\n",
              "      <td>0.0</td>\n",
              "      <td>0.0</td>\n",
              "      <td>0.0</td>\n",
              "      <td>0.0</td>\n",
              "      <td>0.0</td>\n",
              "      <td>0.0</td>\n",
              "      <td>0.0</td>\n",
              "      <td>0.0</td>\n",
              "      <td>0.0</td>\n",
              "      <td>0.0</td>\n",
              "      <td>0.0</td>\n",
              "      <td>0.0</td>\n",
              "      <td>1.0</td>\n",
              "      <td>0.0</td>\n",
              "      <td>0.0</td>\n",
              "      <td>0.0</td>\n",
              "      <td>0.0</td>\n",
              "      <td>0.0</td>\n",
              "      <td>1.0</td>\n",
              "    </tr>\n",
              "    <tr>\n",
              "      <th>1</th>\n",
              "      <td>0.863636</td>\n",
              "      <td>0.256066</td>\n",
              "      <td>0.106716</td>\n",
              "      <td>0.256637</td>\n",
              "      <td>0.143842</td>\n",
              "      <td>0.444444</td>\n",
              "      <td>0.0</td>\n",
              "      <td>0.0</td>\n",
              "      <td>0.0</td>\n",
              "      <td>0.0</td>\n",
              "      <td>0.0</td>\n",
              "      <td>0.0</td>\n",
              "      <td>1.0</td>\n",
              "      <td>0.0</td>\n",
              "      <td>0.0</td>\n",
              "      <td>0.0</td>\n",
              "      <td>0.0</td>\n",
              "      <td>0.0</td>\n",
              "      <td>0.0</td>\n",
              "      <td>0.0</td>\n",
              "      <td>0.0</td>\n",
              "      <td>0.0</td>\n",
              "      <td>0.0</td>\n",
              "      <td>0.0</td>\n",
              "      <td>0.0</td>\n",
              "      <td>1.0</td>\n",
              "      <td>0.0</td>\n",
              "      <td>0.0</td>\n",
              "      <td>0.0</td>\n",
              "      <td>0.0</td>\n",
              "      <td>0.0</td>\n",
              "      <td>1.0</td>\n",
              "    </tr>\n",
              "    <tr>\n",
              "      <th>2</th>\n",
              "      <td>0.772727</td>\n",
              "      <td>0.222301</td>\n",
              "      <td>0.157479</td>\n",
              "      <td>0.469027</td>\n",
              "      <td>0.143842</td>\n",
              "      <td>0.444444</td>\n",
              "      <td>0.0</td>\n",
              "      <td>0.0</td>\n",
              "      <td>0.0</td>\n",
              "      <td>0.0</td>\n",
              "      <td>0.0</td>\n",
              "      <td>0.0</td>\n",
              "      <td>1.0</td>\n",
              "      <td>0.0</td>\n",
              "      <td>0.0</td>\n",
              "      <td>0.0</td>\n",
              "      <td>0.0</td>\n",
              "      <td>0.0</td>\n",
              "      <td>0.0</td>\n",
              "      <td>0.0</td>\n",
              "      <td>0.0</td>\n",
              "      <td>0.0</td>\n",
              "      <td>0.0</td>\n",
              "      <td>0.0</td>\n",
              "      <td>0.0</td>\n",
              "      <td>1.0</td>\n",
              "      <td>0.0</td>\n",
              "      <td>0.0</td>\n",
              "      <td>0.0</td>\n",
              "      <td>0.0</td>\n",
              "      <td>0.0</td>\n",
              "      <td>1.0</td>\n",
              "    </tr>\n",
              "    <tr>\n",
              "      <th>3</th>\n",
              "      <td>0.863636</td>\n",
              "      <td>0.306839</td>\n",
              "      <td>0.084476</td>\n",
              "      <td>0.265487</td>\n",
              "      <td>0.143842</td>\n",
              "      <td>0.444444</td>\n",
              "      <td>0.0</td>\n",
              "      <td>0.0</td>\n",
              "      <td>0.0</td>\n",
              "      <td>0.0</td>\n",
              "      <td>0.0</td>\n",
              "      <td>0.0</td>\n",
              "      <td>1.0</td>\n",
              "      <td>0.0</td>\n",
              "      <td>0.0</td>\n",
              "      <td>0.0</td>\n",
              "      <td>0.0</td>\n",
              "      <td>0.0</td>\n",
              "      <td>0.0</td>\n",
              "      <td>0.0</td>\n",
              "      <td>0.0</td>\n",
              "      <td>0.0</td>\n",
              "      <td>0.0</td>\n",
              "      <td>0.0</td>\n",
              "      <td>0.0</td>\n",
              "      <td>1.0</td>\n",
              "      <td>0.0</td>\n",
              "      <td>0.0</td>\n",
              "      <td>0.0</td>\n",
              "      <td>0.0</td>\n",
              "      <td>0.0</td>\n",
              "      <td>1.0</td>\n",
              "    </tr>\n",
              "    <tr>\n",
              "      <th>4</th>\n",
              "      <td>0.863636</td>\n",
              "      <td>0.281478</td>\n",
              "      <td>0.208019</td>\n",
              "      <td>0.256637</td>\n",
              "      <td>0.143842</td>\n",
              "      <td>0.444444</td>\n",
              "      <td>0.0</td>\n",
              "      <td>0.0</td>\n",
              "      <td>0.0</td>\n",
              "      <td>0.0</td>\n",
              "      <td>0.0</td>\n",
              "      <td>0.0</td>\n",
              "      <td>1.0</td>\n",
              "      <td>0.0</td>\n",
              "      <td>0.0</td>\n",
              "      <td>0.0</td>\n",
              "      <td>0.0</td>\n",
              "      <td>0.0</td>\n",
              "      <td>0.0</td>\n",
              "      <td>0.0</td>\n",
              "      <td>0.0</td>\n",
              "      <td>0.0</td>\n",
              "      <td>0.0</td>\n",
              "      <td>0.0</td>\n",
              "      <td>0.0</td>\n",
              "      <td>1.0</td>\n",
              "      <td>0.0</td>\n",
              "      <td>0.0</td>\n",
              "      <td>0.0</td>\n",
              "      <td>0.0</td>\n",
              "      <td>0.0</td>\n",
              "      <td>1.0</td>\n",
              "    </tr>\n",
              "  </tbody>\n",
              "</table>\n",
              "</div>"
            ],
            "text/plain": [
              "       year     price  ...  fuelType_Other  fuelType_Petrol\n",
              "0  0.818182  0.256150  ...             0.0              1.0\n",
              "1  0.863636  0.256066  ...             0.0              1.0\n",
              "2  0.772727  0.222301  ...             0.0              1.0\n",
              "3  0.863636  0.306839  ...             0.0              1.0\n",
              "4  0.863636  0.281478  ...             0.0              1.0\n",
              "\n",
              "[5 rows x 32 columns]"
            ]
          },
          "metadata": {},
          "execution_count": 10
        }
      ]
    },
    {
      "cell_type": "markdown",
      "metadata": {
        "id": "PKDG8EMckJXb"
      },
      "source": [
        "#### Separación de Datos"
      ]
    },
    {
      "cell_type": "code",
      "metadata": {
        "id": "Y5rVvgbKkJXc"
      },
      "source": [
        "X = df_scl_ohe.drop(['price'], axis=1)\n",
        "y = df_scl_ohe['price']\n",
        "X_train, X_test, y_train, y_test = train_test_split(X, y, test_size=0.2, random_state=22)"
      ],
      "execution_count": 11,
      "outputs": []
    },
    {
      "cell_type": "code",
      "metadata": {
        "colab": {
          "base_uri": "https://localhost:8080/"
        },
        "id": "WROOPetGkJXd",
        "outputId": "25b7a2c7-456b-4688-83fa-cc773cb35c5b"
      },
      "source": [
        "from sklearn.metrics import mean_squared_error, r2_score\n",
        "from sklearn.linear_model import LinearRegression\n",
        "\n",
        "model_1 = LinearRegression()\n",
        "\n",
        "model_1.fit(X_train, y_train)\n",
        "preds = model_1.predict(X_test)\n",
        "rmse = np.sqrt(mean_squared_error(y_test, preds))\n",
        "rs = model_1.score(X_test, y_test)\n",
        "print(f'RMSE: {round(rmse,3)}')\n",
        "print(f'R^2: {round(rs,3)}\\n')"
      ],
      "execution_count": 12,
      "outputs": [
        {
          "output_type": "stream",
          "name": "stdout",
          "text": [
            "RMSE: 0.031\n",
            "R^2: 0.917\n",
            "\n"
          ]
        }
      ]
    },
    {
      "cell_type": "markdown",
      "metadata": {
        "id": "PqUD7dVzkJXf"
      },
      "source": [
        "### Caso 2\n",
        "\n",
        "#### Codificación Ordinal"
      ]
    },
    {
      "cell_type": "code",
      "metadata": {
        "colab": {
          "base_uri": "https://localhost:8080/",
          "height": 204
        },
        "id": "HMxNdam0kJXg",
        "outputId": "8cf3322f-df13-4883-d131-e2101e54524e"
      },
      "source": [
        "oe = OrdinalEncoder()\n",
        "df_oe = df.copy()\n",
        "df_oe[str_categ] = oe.fit_transform(df_oe[str_categ])\n",
        "\n",
        "x = df_oe.values #returns a numpy array\n",
        "min_max_scaler = MinMaxScaler()\n",
        "x_scaled = min_max_scaler.fit_transform(x)\n",
        "df_scl_oe = pd.DataFrame(x_scaled, columns=df_oe.columns)\n",
        "df_scl_oe.head()"
      ],
      "execution_count": 13,
      "outputs": [
        {
          "output_type": "execute_result",
          "data": {
            "text/html": [
              "<div>\n",
              "<style scoped>\n",
              "    .dataframe tbody tr th:only-of-type {\n",
              "        vertical-align: middle;\n",
              "    }\n",
              "\n",
              "    .dataframe tbody tr th {\n",
              "        vertical-align: top;\n",
              "    }\n",
              "\n",
              "    .dataframe thead th {\n",
              "        text-align: right;\n",
              "    }\n",
              "</style>\n",
              "<table border=\"1\" class=\"dataframe\">\n",
              "  <thead>\n",
              "    <tr style=\"text-align: right;\">\n",
              "      <th></th>\n",
              "      <th>model</th>\n",
              "      <th>year</th>\n",
              "      <th>price</th>\n",
              "      <th>transmission</th>\n",
              "      <th>mileage</th>\n",
              "      <th>fuelType</th>\n",
              "      <th>tax</th>\n",
              "      <th>mpg</th>\n",
              "      <th>engineSize</th>\n",
              "    </tr>\n",
              "  </thead>\n",
              "  <tbody>\n",
              "    <tr>\n",
              "      <th>0</th>\n",
              "      <td>0.352941</td>\n",
              "      <td>0.818182</td>\n",
              "      <td>0.256150</td>\n",
              "      <td>0.333333</td>\n",
              "      <td>0.138100</td>\n",
              "      <td>1.0</td>\n",
              "      <td>0.469027</td>\n",
              "      <td>0.143842</td>\n",
              "      <td>0.444444</td>\n",
              "    </tr>\n",
              "    <tr>\n",
              "      <th>1</th>\n",
              "      <td>0.352941</td>\n",
              "      <td>0.863636</td>\n",
              "      <td>0.256066</td>\n",
              "      <td>0.333333</td>\n",
              "      <td>0.106716</td>\n",
              "      <td>1.0</td>\n",
              "      <td>0.256637</td>\n",
              "      <td>0.143842</td>\n",
              "      <td>0.444444</td>\n",
              "    </tr>\n",
              "    <tr>\n",
              "      <th>2</th>\n",
              "      <td>0.352941</td>\n",
              "      <td>0.772727</td>\n",
              "      <td>0.222301</td>\n",
              "      <td>0.333333</td>\n",
              "      <td>0.157479</td>\n",
              "      <td>1.0</td>\n",
              "      <td>0.469027</td>\n",
              "      <td>0.143842</td>\n",
              "      <td>0.444444</td>\n",
              "    </tr>\n",
              "    <tr>\n",
              "      <th>3</th>\n",
              "      <td>0.352941</td>\n",
              "      <td>0.863636</td>\n",
              "      <td>0.306839</td>\n",
              "      <td>0.333333</td>\n",
              "      <td>0.084476</td>\n",
              "      <td>1.0</td>\n",
              "      <td>0.265487</td>\n",
              "      <td>0.143842</td>\n",
              "      <td>0.444444</td>\n",
              "    </tr>\n",
              "    <tr>\n",
              "      <th>4</th>\n",
              "      <td>0.352941</td>\n",
              "      <td>0.863636</td>\n",
              "      <td>0.281478</td>\n",
              "      <td>0.333333</td>\n",
              "      <td>0.208019</td>\n",
              "      <td>1.0</td>\n",
              "      <td>0.256637</td>\n",
              "      <td>0.143842</td>\n",
              "      <td>0.444444</td>\n",
              "    </tr>\n",
              "  </tbody>\n",
              "</table>\n",
              "</div>"
            ],
            "text/plain": [
              "      model      year     price  ...       tax       mpg  engineSize\n",
              "0  0.352941  0.818182  0.256150  ...  0.469027  0.143842    0.444444\n",
              "1  0.352941  0.863636  0.256066  ...  0.256637  0.143842    0.444444\n",
              "2  0.352941  0.772727  0.222301  ...  0.469027  0.143842    0.444444\n",
              "3  0.352941  0.863636  0.306839  ...  0.265487  0.143842    0.444444\n",
              "4  0.352941  0.863636  0.281478  ...  0.256637  0.143842    0.444444\n",
              "\n",
              "[5 rows x 9 columns]"
            ]
          },
          "metadata": {},
          "execution_count": 13
        }
      ]
    },
    {
      "cell_type": "markdown",
      "metadata": {
        "id": "RTc5JkCtkJXh"
      },
      "source": [
        "#### Separación de Datos"
      ]
    },
    {
      "cell_type": "code",
      "metadata": {
        "scrolled": true,
        "id": "H7txhZ0CkJXi"
      },
      "source": [
        "X = df_scl_oe.drop(['price'], axis=1)\n",
        "y = df_scl_oe['price']\n",
        "X_train, X_test, y_train, y_test = train_test_split(X, y, test_size=0.2, random_state=22)"
      ],
      "execution_count": 14,
      "outputs": []
    },
    {
      "cell_type": "code",
      "metadata": {
        "colab": {
          "base_uri": "https://localhost:8080/"
        },
        "id": "pB4gX5kwkJXj",
        "outputId": "0df4ccdf-6de1-4926-955b-2046d398b1fc"
      },
      "source": [
        "model_2 = LinearRegression()\n",
        "\n",
        "model_2.fit(X_train, y_train)\n",
        "preds = model_2.predict(X_test)\n",
        "rmse = np.sqrt(mean_squared_error(y_test, preds))\n",
        "rs = model_2.score(X_test, y_test)\n",
        "print(f'RMSE: {round(rmse,3)}')\n",
        "print(f'R^2: {round(rs,3)}\\n')"
      ],
      "execution_count": 15,
      "outputs": [
        {
          "output_type": "stream",
          "name": "stdout",
          "text": [
            "RMSE: 0.05\n",
            "R^2: 0.787\n",
            "\n"
          ]
        }
      ]
    },
    {
      "cell_type": "markdown",
      "metadata": {
        "id": "EqBpE7uFkJXm"
      },
      "source": [
        "### Caso 3\n",
        "\n",
        "#### Codificación One-Hot"
      ]
    },
    {
      "cell_type": "code",
      "metadata": {
        "colab": {
          "base_uri": "https://localhost:8080/",
          "height": 258
        },
        "id": "b3It4lJmkJXm",
        "outputId": "df0bbca3-83ad-4196-d923-08b9f88c21a5"
      },
      "source": [
        "df_ohe = pd.get_dummies(df)\n",
        "rscaler = RobustScaler()\n",
        "df_scl_ohe = rscaler.fit_transform(df_ohe)\n",
        "df_scl_ohe = pd.DataFrame(df_scl_ohe, columns = df_ohe.columns)\n",
        "df_scl_ohe.head()"
      ],
      "execution_count": 16,
      "outputs": [
        {
          "output_type": "execute_result",
          "data": {
            "text/html": [
              "<div>\n",
              "<style scoped>\n",
              "    .dataframe tbody tr th:only-of-type {\n",
              "        vertical-align: middle;\n",
              "    }\n",
              "\n",
              "    .dataframe tbody tr th {\n",
              "        vertical-align: top;\n",
              "    }\n",
              "\n",
              "    .dataframe thead th {\n",
              "        text-align: right;\n",
              "    }\n",
              "</style>\n",
              "<table border=\"1\" class=\"dataframe\">\n",
              "  <thead>\n",
              "    <tr style=\"text-align: right;\">\n",
              "      <th></th>\n",
              "      <th>year</th>\n",
              "      <th>price</th>\n",
              "      <th>mileage</th>\n",
              "      <th>tax</th>\n",
              "      <th>mpg</th>\n",
              "      <th>engineSize</th>\n",
              "      <th>model_ Auris</th>\n",
              "      <th>model_ Avensis</th>\n",
              "      <th>model_ Aygo</th>\n",
              "      <th>model_ C-HR</th>\n",
              "      <th>model_ Camry</th>\n",
              "      <th>model_ Corolla</th>\n",
              "      <th>model_ GT86</th>\n",
              "      <th>model_ Hilux</th>\n",
              "      <th>model_ IQ</th>\n",
              "      <th>model_ Land Cruiser</th>\n",
              "      <th>model_ PROACE VERSO</th>\n",
              "      <th>model_ Prius</th>\n",
              "      <th>model_ RAV4</th>\n",
              "      <th>model_ Supra</th>\n",
              "      <th>model_ Urban Cruiser</th>\n",
              "      <th>model_ Verso</th>\n",
              "      <th>model_ Verso-S</th>\n",
              "      <th>model_ Yaris</th>\n",
              "      <th>transmission_Automatic</th>\n",
              "      <th>transmission_Manual</th>\n",
              "      <th>transmission_Other</th>\n",
              "      <th>transmission_Semi-Auto</th>\n",
              "      <th>fuelType_Diesel</th>\n",
              "      <th>fuelType_Hybrid</th>\n",
              "      <th>fuelType_Other</th>\n",
              "      <th>fuelType_Petrol</th>\n",
              "    </tr>\n",
              "  </thead>\n",
              "  <tbody>\n",
              "    <tr>\n",
              "      <th>0</th>\n",
              "      <td>-0.5</td>\n",
              "      <td>0.776286</td>\n",
              "      <td>0.257936</td>\n",
              "      <td>0.896552</td>\n",
              "      <td>-1.955882</td>\n",
              "      <td>0.625</td>\n",
              "      <td>0.0</td>\n",
              "      <td>0.0</td>\n",
              "      <td>0.0</td>\n",
              "      <td>0.0</td>\n",
              "      <td>0.0</td>\n",
              "      <td>0.0</td>\n",
              "      <td>1.0</td>\n",
              "      <td>0.0</td>\n",
              "      <td>0.0</td>\n",
              "      <td>0.0</td>\n",
              "      <td>0.0</td>\n",
              "      <td>0.0</td>\n",
              "      <td>0.0</td>\n",
              "      <td>0.0</td>\n",
              "      <td>0.0</td>\n",
              "      <td>0.0</td>\n",
              "      <td>0.0</td>\n",
              "      <td>0.0</td>\n",
              "      <td>0.0</td>\n",
              "      <td>0.0</td>\n",
              "      <td>0.0</td>\n",
              "      <td>0.0</td>\n",
              "      <td>0.0</td>\n",
              "      <td>0.0</td>\n",
              "      <td>0.0</td>\n",
              "      <td>0.0</td>\n",
              "    </tr>\n",
              "    <tr>\n",
              "      <th>1</th>\n",
              "      <td>0.0</td>\n",
              "      <td>0.775541</td>\n",
              "      <td>0.004718</td>\n",
              "      <td>0.068966</td>\n",
              "      <td>-1.955882</td>\n",
              "      <td>0.625</td>\n",
              "      <td>0.0</td>\n",
              "      <td>0.0</td>\n",
              "      <td>0.0</td>\n",
              "      <td>0.0</td>\n",
              "      <td>0.0</td>\n",
              "      <td>0.0</td>\n",
              "      <td>1.0</td>\n",
              "      <td>0.0</td>\n",
              "      <td>0.0</td>\n",
              "      <td>0.0</td>\n",
              "      <td>0.0</td>\n",
              "      <td>0.0</td>\n",
              "      <td>0.0</td>\n",
              "      <td>0.0</td>\n",
              "      <td>0.0</td>\n",
              "      <td>0.0</td>\n",
              "      <td>0.0</td>\n",
              "      <td>0.0</td>\n",
              "      <td>0.0</td>\n",
              "      <td>0.0</td>\n",
              "      <td>0.0</td>\n",
              "      <td>0.0</td>\n",
              "      <td>0.0</td>\n",
              "      <td>0.0</td>\n",
              "      <td>0.0</td>\n",
              "      <td>0.0</td>\n",
              "    </tr>\n",
              "    <tr>\n",
              "      <th>2</th>\n",
              "      <td>-1.0</td>\n",
              "      <td>0.477703</td>\n",
              "      <td>0.414289</td>\n",
              "      <td>0.896552</td>\n",
              "      <td>-1.955882</td>\n",
              "      <td>0.625</td>\n",
              "      <td>0.0</td>\n",
              "      <td>0.0</td>\n",
              "      <td>0.0</td>\n",
              "      <td>0.0</td>\n",
              "      <td>0.0</td>\n",
              "      <td>0.0</td>\n",
              "      <td>1.0</td>\n",
              "      <td>0.0</td>\n",
              "      <td>0.0</td>\n",
              "      <td>0.0</td>\n",
              "      <td>0.0</td>\n",
              "      <td>0.0</td>\n",
              "      <td>0.0</td>\n",
              "      <td>0.0</td>\n",
              "      <td>0.0</td>\n",
              "      <td>0.0</td>\n",
              "      <td>0.0</td>\n",
              "      <td>0.0</td>\n",
              "      <td>0.0</td>\n",
              "      <td>0.0</td>\n",
              "      <td>0.0</td>\n",
              "      <td>0.0</td>\n",
              "      <td>0.0</td>\n",
              "      <td>0.0</td>\n",
              "      <td>0.0</td>\n",
              "      <td>0.0</td>\n",
              "    </tr>\n",
              "    <tr>\n",
              "      <th>3</th>\n",
              "      <td>0.0</td>\n",
              "      <td>1.223415</td>\n",
              "      <td>-0.174718</td>\n",
              "      <td>0.103448</td>\n",
              "      <td>-1.955882</td>\n",
              "      <td>0.625</td>\n",
              "      <td>0.0</td>\n",
              "      <td>0.0</td>\n",
              "      <td>0.0</td>\n",
              "      <td>0.0</td>\n",
              "      <td>0.0</td>\n",
              "      <td>0.0</td>\n",
              "      <td>1.0</td>\n",
              "      <td>0.0</td>\n",
              "      <td>0.0</td>\n",
              "      <td>0.0</td>\n",
              "      <td>0.0</td>\n",
              "      <td>0.0</td>\n",
              "      <td>0.0</td>\n",
              "      <td>0.0</td>\n",
              "      <td>0.0</td>\n",
              "      <td>0.0</td>\n",
              "      <td>0.0</td>\n",
              "      <td>0.0</td>\n",
              "      <td>0.0</td>\n",
              "      <td>0.0</td>\n",
              "      <td>0.0</td>\n",
              "      <td>0.0</td>\n",
              "      <td>0.0</td>\n",
              "      <td>0.0</td>\n",
              "      <td>0.0</td>\n",
              "      <td>0.0</td>\n",
              "    </tr>\n",
              "    <tr>\n",
              "      <th>4</th>\n",
              "      <td>0.0</td>\n",
              "      <td>0.999702</td>\n",
              "      <td>0.822056</td>\n",
              "      <td>0.068966</td>\n",
              "      <td>-1.955882</td>\n",
              "      <td>0.625</td>\n",
              "      <td>0.0</td>\n",
              "      <td>0.0</td>\n",
              "      <td>0.0</td>\n",
              "      <td>0.0</td>\n",
              "      <td>0.0</td>\n",
              "      <td>0.0</td>\n",
              "      <td>1.0</td>\n",
              "      <td>0.0</td>\n",
              "      <td>0.0</td>\n",
              "      <td>0.0</td>\n",
              "      <td>0.0</td>\n",
              "      <td>0.0</td>\n",
              "      <td>0.0</td>\n",
              "      <td>0.0</td>\n",
              "      <td>0.0</td>\n",
              "      <td>0.0</td>\n",
              "      <td>0.0</td>\n",
              "      <td>0.0</td>\n",
              "      <td>0.0</td>\n",
              "      <td>0.0</td>\n",
              "      <td>0.0</td>\n",
              "      <td>0.0</td>\n",
              "      <td>0.0</td>\n",
              "      <td>0.0</td>\n",
              "      <td>0.0</td>\n",
              "      <td>0.0</td>\n",
              "    </tr>\n",
              "  </tbody>\n",
              "</table>\n",
              "</div>"
            ],
            "text/plain": [
              "   year     price   mileage  ...  fuelType_Hybrid  fuelType_Other  fuelType_Petrol\n",
              "0  -0.5  0.776286  0.257936  ...              0.0             0.0              0.0\n",
              "1   0.0  0.775541  0.004718  ...              0.0             0.0              0.0\n",
              "2  -1.0  0.477703  0.414289  ...              0.0             0.0              0.0\n",
              "3   0.0  1.223415 -0.174718  ...              0.0             0.0              0.0\n",
              "4   0.0  0.999702  0.822056  ...              0.0             0.0              0.0\n",
              "\n",
              "[5 rows x 32 columns]"
            ]
          },
          "metadata": {},
          "execution_count": 16
        }
      ]
    },
    {
      "cell_type": "markdown",
      "metadata": {
        "id": "8in6-4EwkJXn"
      },
      "source": [
        "#### Separación de Datos"
      ]
    },
    {
      "cell_type": "code",
      "metadata": {
        "id": "5MROx2Y4kJXo"
      },
      "source": [
        "X = df_scl_ohe.drop(['price'], axis=1)\n",
        "y = df_scl_ohe['price']\n",
        "X_train, X_test, y_train, y_test = train_test_split(X, y, test_size=0.2, random_state=22)"
      ],
      "execution_count": 17,
      "outputs": []
    },
    {
      "cell_type": "code",
      "metadata": {
        "scrolled": true,
        "colab": {
          "base_uri": "https://localhost:8080/"
        },
        "id": "yh3cbYrkkJXo",
        "outputId": "a92beca4-c5c2-41ad-ec3c-de5258b8e4a1"
      },
      "source": [
        "model_3 = LinearRegression()\n",
        "\n",
        "model_3.fit(X_train, y_train)\n",
        "preds = model_3.predict(X_test)\n",
        "rmse = np.sqrt(mean_squared_error(y_test, preds))\n",
        "rs = model_3.score(X_test, y_test)\n",
        "print(f'RMSE: {round(rmse,3)}')\n",
        "print(f'R^2: {round(rs,3)}\\n')"
      ],
      "execution_count": 18,
      "outputs": [
        {
          "output_type": "stream",
          "name": "stdout",
          "text": [
            "RMSE: 0.277\n",
            "R^2: 0.917\n",
            "\n"
          ]
        }
      ]
    },
    {
      "cell_type": "markdown",
      "metadata": {
        "id": "Imr4f-CdkJXp"
      },
      "source": [
        "### Caso 4\n",
        "\n",
        "#### Codificación Ordinal"
      ]
    },
    {
      "cell_type": "code",
      "metadata": {
        "colab": {
          "base_uri": "https://localhost:8080/",
          "height": 204
        },
        "id": "C8KqPuJFkJXp",
        "outputId": "1ae60c8d-c301-4e15-98ce-195129cda93a"
      },
      "source": [
        "oe = OrdinalEncoder()\n",
        "df_oe = df.copy()\n",
        "df_oe[str_categ] = oe.fit_transform(df_oe[str_categ])\n",
        "\n",
        "x = df_oe.values #returns a numpy array\n",
        "rscaler = RobustScaler()\n",
        "x_scaled = rscaler.fit_transform(x)\n",
        "df_scl_oe = pd.DataFrame(x_scaled, columns=df_oe.columns)\n",
        "df_scl_oe.head()"
      ],
      "execution_count": 19,
      "outputs": [
        {
          "output_type": "execute_result",
          "data": {
            "text/html": [
              "<div>\n",
              "<style scoped>\n",
              "    .dataframe tbody tr th:only-of-type {\n",
              "        vertical-align: middle;\n",
              "    }\n",
              "\n",
              "    .dataframe tbody tr th {\n",
              "        vertical-align: top;\n",
              "    }\n",
              "\n",
              "    .dataframe thead th {\n",
              "        text-align: right;\n",
              "    }\n",
              "</style>\n",
              "<table border=\"1\" class=\"dataframe\">\n",
              "  <thead>\n",
              "    <tr style=\"text-align: right;\">\n",
              "      <th></th>\n",
              "      <th>model</th>\n",
              "      <th>year</th>\n",
              "      <th>price</th>\n",
              "      <th>transmission</th>\n",
              "      <th>mileage</th>\n",
              "      <th>fuelType</th>\n",
              "      <th>tax</th>\n",
              "      <th>mpg</th>\n",
              "      <th>engineSize</th>\n",
              "    </tr>\n",
              "  </thead>\n",
              "  <tbody>\n",
              "    <tr>\n",
              "      <th>0</th>\n",
              "      <td>0.066667</td>\n",
              "      <td>-0.5</td>\n",
              "      <td>0.776286</td>\n",
              "      <td>0.0</td>\n",
              "      <td>0.257936</td>\n",
              "      <td>0.0</td>\n",
              "      <td>0.896552</td>\n",
              "      <td>-1.955882</td>\n",
              "      <td>0.625</td>\n",
              "    </tr>\n",
              "    <tr>\n",
              "      <th>1</th>\n",
              "      <td>0.066667</td>\n",
              "      <td>0.0</td>\n",
              "      <td>0.775541</td>\n",
              "      <td>0.0</td>\n",
              "      <td>0.004718</td>\n",
              "      <td>0.0</td>\n",
              "      <td>0.068966</td>\n",
              "      <td>-1.955882</td>\n",
              "      <td>0.625</td>\n",
              "    </tr>\n",
              "    <tr>\n",
              "      <th>2</th>\n",
              "      <td>0.066667</td>\n",
              "      <td>-1.0</td>\n",
              "      <td>0.477703</td>\n",
              "      <td>0.0</td>\n",
              "      <td>0.414289</td>\n",
              "      <td>0.0</td>\n",
              "      <td>0.896552</td>\n",
              "      <td>-1.955882</td>\n",
              "      <td>0.625</td>\n",
              "    </tr>\n",
              "    <tr>\n",
              "      <th>3</th>\n",
              "      <td>0.066667</td>\n",
              "      <td>0.0</td>\n",
              "      <td>1.223415</td>\n",
              "      <td>0.0</td>\n",
              "      <td>-0.174718</td>\n",
              "      <td>0.0</td>\n",
              "      <td>0.103448</td>\n",
              "      <td>-1.955882</td>\n",
              "      <td>0.625</td>\n",
              "    </tr>\n",
              "    <tr>\n",
              "      <th>4</th>\n",
              "      <td>0.066667</td>\n",
              "      <td>0.0</td>\n",
              "      <td>0.999702</td>\n",
              "      <td>0.0</td>\n",
              "      <td>0.822056</td>\n",
              "      <td>0.0</td>\n",
              "      <td>0.068966</td>\n",
              "      <td>-1.955882</td>\n",
              "      <td>0.625</td>\n",
              "    </tr>\n",
              "  </tbody>\n",
              "</table>\n",
              "</div>"
            ],
            "text/plain": [
              "      model  year     price  ...       tax       mpg  engineSize\n",
              "0  0.066667  -0.5  0.776286  ...  0.896552 -1.955882       0.625\n",
              "1  0.066667   0.0  0.775541  ...  0.068966 -1.955882       0.625\n",
              "2  0.066667  -1.0  0.477703  ...  0.896552 -1.955882       0.625\n",
              "3  0.066667   0.0  1.223415  ...  0.103448 -1.955882       0.625\n",
              "4  0.066667   0.0  0.999702  ...  0.068966 -1.955882       0.625\n",
              "\n",
              "[5 rows x 9 columns]"
            ]
          },
          "metadata": {},
          "execution_count": 19
        }
      ]
    },
    {
      "cell_type": "markdown",
      "metadata": {
        "id": "g__uAnqVkJXq"
      },
      "source": [
        "#### Separación de Datos"
      ]
    },
    {
      "cell_type": "code",
      "metadata": {
        "scrolled": true,
        "id": "kEsQZ5TDkJXq"
      },
      "source": [
        "X = df_scl_oe.drop(['price'], axis=1)\n",
        "y = df_scl_oe['price']\n",
        "X_train, X_test, y_train, y_test = train_test_split(X, y, test_size=0.2, random_state=22)"
      ],
      "execution_count": 20,
      "outputs": []
    },
    {
      "cell_type": "code",
      "metadata": {
        "colab": {
          "base_uri": "https://localhost:8080/"
        },
        "id": "f6yXk8dZkJXr",
        "outputId": "71e1498d-d7c6-4aba-eba9-55999d21731f"
      },
      "source": [
        "model_4 = LinearRegression()\n",
        "model_4.fit(X_train, y_train)\n",
        "preds = model_4.predict(X_test)\n",
        "rmse = np.sqrt(mean_squared_error(y_test, preds))\n",
        "rs = model_4.score(X_test, y_test)\n",
        "print(f'RMSE: {round(rmse,3)}')\n",
        "print(f'R^2: {round(rs,3)}\\n')"
      ],
      "execution_count": 21,
      "outputs": [
        {
          "output_type": "stream",
          "name": "stdout",
          "text": [
            "RMSE: 0.444\n",
            "R^2: 0.787\n",
            "\n"
          ]
        }
      ]
    },
    {
      "cell_type": "markdown",
      "metadata": {
        "id": "dqDfbUBvkJXr"
      },
      "source": [
        "### Caso 5\n",
        "\n",
        "#### Codificación Ordinal"
      ]
    },
    {
      "cell_type": "code",
      "metadata": {
        "colab": {
          "base_uri": "https://localhost:8080/",
          "height": 204
        },
        "id": "DSHTUy2xkJXs",
        "outputId": "4ccb24a0-aabc-46d7-ca87-c060e5d46384"
      },
      "source": [
        "oe = OrdinalEncoder()\n",
        "df_oe = df.copy()\n",
        "df_oe[str_categ] = oe.fit_transform(df_oe[str_categ])\n",
        "\n",
        "x = df_oe.values #returns a numpy array\n",
        "min_max_scaler = MinMaxScaler()\n",
        "x_scaled = min_max_scaler.fit_transform(x)\n",
        "df_scl_oe = pd.DataFrame(x_scaled, columns=df_oe.columns)\n",
        "df_scl_oe.head()"
      ],
      "execution_count": 22,
      "outputs": [
        {
          "output_type": "execute_result",
          "data": {
            "text/html": [
              "<div>\n",
              "<style scoped>\n",
              "    .dataframe tbody tr th:only-of-type {\n",
              "        vertical-align: middle;\n",
              "    }\n",
              "\n",
              "    .dataframe tbody tr th {\n",
              "        vertical-align: top;\n",
              "    }\n",
              "\n",
              "    .dataframe thead th {\n",
              "        text-align: right;\n",
              "    }\n",
              "</style>\n",
              "<table border=\"1\" class=\"dataframe\">\n",
              "  <thead>\n",
              "    <tr style=\"text-align: right;\">\n",
              "      <th></th>\n",
              "      <th>model</th>\n",
              "      <th>year</th>\n",
              "      <th>price</th>\n",
              "      <th>transmission</th>\n",
              "      <th>mileage</th>\n",
              "      <th>fuelType</th>\n",
              "      <th>tax</th>\n",
              "      <th>mpg</th>\n",
              "      <th>engineSize</th>\n",
              "    </tr>\n",
              "  </thead>\n",
              "  <tbody>\n",
              "    <tr>\n",
              "      <th>0</th>\n",
              "      <td>0.352941</td>\n",
              "      <td>0.818182</td>\n",
              "      <td>0.256150</td>\n",
              "      <td>0.333333</td>\n",
              "      <td>0.138100</td>\n",
              "      <td>1.0</td>\n",
              "      <td>0.469027</td>\n",
              "      <td>0.143842</td>\n",
              "      <td>0.444444</td>\n",
              "    </tr>\n",
              "    <tr>\n",
              "      <th>1</th>\n",
              "      <td>0.352941</td>\n",
              "      <td>0.863636</td>\n",
              "      <td>0.256066</td>\n",
              "      <td>0.333333</td>\n",
              "      <td>0.106716</td>\n",
              "      <td>1.0</td>\n",
              "      <td>0.256637</td>\n",
              "      <td>0.143842</td>\n",
              "      <td>0.444444</td>\n",
              "    </tr>\n",
              "    <tr>\n",
              "      <th>2</th>\n",
              "      <td>0.352941</td>\n",
              "      <td>0.772727</td>\n",
              "      <td>0.222301</td>\n",
              "      <td>0.333333</td>\n",
              "      <td>0.157479</td>\n",
              "      <td>1.0</td>\n",
              "      <td>0.469027</td>\n",
              "      <td>0.143842</td>\n",
              "      <td>0.444444</td>\n",
              "    </tr>\n",
              "    <tr>\n",
              "      <th>3</th>\n",
              "      <td>0.352941</td>\n",
              "      <td>0.863636</td>\n",
              "      <td>0.306839</td>\n",
              "      <td>0.333333</td>\n",
              "      <td>0.084476</td>\n",
              "      <td>1.0</td>\n",
              "      <td>0.265487</td>\n",
              "      <td>0.143842</td>\n",
              "      <td>0.444444</td>\n",
              "    </tr>\n",
              "    <tr>\n",
              "      <th>4</th>\n",
              "      <td>0.352941</td>\n",
              "      <td>0.863636</td>\n",
              "      <td>0.281478</td>\n",
              "      <td>0.333333</td>\n",
              "      <td>0.208019</td>\n",
              "      <td>1.0</td>\n",
              "      <td>0.256637</td>\n",
              "      <td>0.143842</td>\n",
              "      <td>0.444444</td>\n",
              "    </tr>\n",
              "  </tbody>\n",
              "</table>\n",
              "</div>"
            ],
            "text/plain": [
              "      model      year     price  ...       tax       mpg  engineSize\n",
              "0  0.352941  0.818182  0.256150  ...  0.469027  0.143842    0.444444\n",
              "1  0.352941  0.863636  0.256066  ...  0.256637  0.143842    0.444444\n",
              "2  0.352941  0.772727  0.222301  ...  0.469027  0.143842    0.444444\n",
              "3  0.352941  0.863636  0.306839  ...  0.265487  0.143842    0.444444\n",
              "4  0.352941  0.863636  0.281478  ...  0.256637  0.143842    0.444444\n",
              "\n",
              "[5 rows x 9 columns]"
            ]
          },
          "metadata": {},
          "execution_count": 22
        }
      ]
    },
    {
      "cell_type": "markdown",
      "metadata": {
        "id": "w-vOJPSgkJXs"
      },
      "source": [
        "#### Separación de Datos"
      ]
    },
    {
      "cell_type": "code",
      "metadata": {
        "id": "OVGcmY5xkJXt"
      },
      "source": [
        "X = df_scl_oe.drop(['price'], axis=1)\n",
        "y = df_scl_oe['price']\n",
        "X_train, X_test, y_train, y_test = train_test_split(X, y, train_size=0.3, random_state=22)"
      ],
      "execution_count": 23,
      "outputs": []
    },
    {
      "cell_type": "code",
      "metadata": {
        "scrolled": true,
        "colab": {
          "base_uri": "https://localhost:8080/"
        },
        "id": "rafbGcn5kJXt",
        "outputId": "d7a3460f-aaf0-48cb-ed5e-9662276a36bc"
      },
      "source": [
        "model_5 = LinearRegression()\n",
        "\n",
        "model_5.fit(X_train, y_train)\n",
        "preds = model_5.predict(X_test)\n",
        "rmse = np.sqrt(mean_squared_error(y_test, preds))\n",
        "rs = model_5.score(X_test, y_test)\n",
        "print(f'RMSE: {round(rmse,3)}')\n",
        "print(f'R^2: {round(rs,3)}\\n')"
      ],
      "execution_count": 24,
      "outputs": [
        {
          "output_type": "stream",
          "name": "stdout",
          "text": [
            "RMSE: 0.049\n",
            "R^2: 0.785\n",
            "\n"
          ]
        }
      ]
    },
    {
      "cell_type": "markdown",
      "metadata": {
        "id": "yq5bbMBlkJXt"
      },
      "source": [
        "### Caso 6\n",
        "\n",
        "#### Codificación Ordinal"
      ]
    },
    {
      "cell_type": "code",
      "metadata": {
        "colab": {
          "base_uri": "https://localhost:8080/",
          "height": 204
        },
        "id": "jltMsYZVkJXu",
        "outputId": "00716fc6-2827-4608-b4c1-c8bf4c638e8e"
      },
      "source": [
        "oe = OrdinalEncoder()\n",
        "df_oe = df.copy()\n",
        "df_oe[str_categ] = oe.fit_transform(df_oe[str_categ])\n",
        "\n",
        "x = df_oe.values #returns a numpy array\n",
        "min_max_scaler = MinMaxScaler()\n",
        "x_scaled = min_max_scaler.fit_transform(x)\n",
        "df_scl_oe = pd.DataFrame(x_scaled, columns=df_oe.columns)\n",
        "df_scl_oe.head()"
      ],
      "execution_count": 25,
      "outputs": [
        {
          "output_type": "execute_result",
          "data": {
            "text/html": [
              "<div>\n",
              "<style scoped>\n",
              "    .dataframe tbody tr th:only-of-type {\n",
              "        vertical-align: middle;\n",
              "    }\n",
              "\n",
              "    .dataframe tbody tr th {\n",
              "        vertical-align: top;\n",
              "    }\n",
              "\n",
              "    .dataframe thead th {\n",
              "        text-align: right;\n",
              "    }\n",
              "</style>\n",
              "<table border=\"1\" class=\"dataframe\">\n",
              "  <thead>\n",
              "    <tr style=\"text-align: right;\">\n",
              "      <th></th>\n",
              "      <th>model</th>\n",
              "      <th>year</th>\n",
              "      <th>price</th>\n",
              "      <th>transmission</th>\n",
              "      <th>mileage</th>\n",
              "      <th>fuelType</th>\n",
              "      <th>tax</th>\n",
              "      <th>mpg</th>\n",
              "      <th>engineSize</th>\n",
              "    </tr>\n",
              "  </thead>\n",
              "  <tbody>\n",
              "    <tr>\n",
              "      <th>0</th>\n",
              "      <td>0.352941</td>\n",
              "      <td>0.818182</td>\n",
              "      <td>0.256150</td>\n",
              "      <td>0.333333</td>\n",
              "      <td>0.138100</td>\n",
              "      <td>1.0</td>\n",
              "      <td>0.469027</td>\n",
              "      <td>0.143842</td>\n",
              "      <td>0.444444</td>\n",
              "    </tr>\n",
              "    <tr>\n",
              "      <th>1</th>\n",
              "      <td>0.352941</td>\n",
              "      <td>0.863636</td>\n",
              "      <td>0.256066</td>\n",
              "      <td>0.333333</td>\n",
              "      <td>0.106716</td>\n",
              "      <td>1.0</td>\n",
              "      <td>0.256637</td>\n",
              "      <td>0.143842</td>\n",
              "      <td>0.444444</td>\n",
              "    </tr>\n",
              "    <tr>\n",
              "      <th>2</th>\n",
              "      <td>0.352941</td>\n",
              "      <td>0.772727</td>\n",
              "      <td>0.222301</td>\n",
              "      <td>0.333333</td>\n",
              "      <td>0.157479</td>\n",
              "      <td>1.0</td>\n",
              "      <td>0.469027</td>\n",
              "      <td>0.143842</td>\n",
              "      <td>0.444444</td>\n",
              "    </tr>\n",
              "    <tr>\n",
              "      <th>3</th>\n",
              "      <td>0.352941</td>\n",
              "      <td>0.863636</td>\n",
              "      <td>0.306839</td>\n",
              "      <td>0.333333</td>\n",
              "      <td>0.084476</td>\n",
              "      <td>1.0</td>\n",
              "      <td>0.265487</td>\n",
              "      <td>0.143842</td>\n",
              "      <td>0.444444</td>\n",
              "    </tr>\n",
              "    <tr>\n",
              "      <th>4</th>\n",
              "      <td>0.352941</td>\n",
              "      <td>0.863636</td>\n",
              "      <td>0.281478</td>\n",
              "      <td>0.333333</td>\n",
              "      <td>0.208019</td>\n",
              "      <td>1.0</td>\n",
              "      <td>0.256637</td>\n",
              "      <td>0.143842</td>\n",
              "      <td>0.444444</td>\n",
              "    </tr>\n",
              "  </tbody>\n",
              "</table>\n",
              "</div>"
            ],
            "text/plain": [
              "      model      year     price  ...       tax       mpg  engineSize\n",
              "0  0.352941  0.818182  0.256150  ...  0.469027  0.143842    0.444444\n",
              "1  0.352941  0.863636  0.256066  ...  0.256637  0.143842    0.444444\n",
              "2  0.352941  0.772727  0.222301  ...  0.469027  0.143842    0.444444\n",
              "3  0.352941  0.863636  0.306839  ...  0.265487  0.143842    0.444444\n",
              "4  0.352941  0.863636  0.281478  ...  0.256637  0.143842    0.444444\n",
              "\n",
              "[5 rows x 9 columns]"
            ]
          },
          "metadata": {},
          "execution_count": 25
        }
      ]
    },
    {
      "cell_type": "markdown",
      "metadata": {
        "id": "akz4xHj-kJXu"
      },
      "source": [
        "#### Separación de Datos"
      ]
    },
    {
      "cell_type": "code",
      "metadata": {
        "colab": {
          "base_uri": "https://localhost:8080/",
          "height": 419
        },
        "id": "F8B3_lDVkJXu",
        "outputId": "52d9a80d-9fb6-41d0-f01c-f2038dd5e63e"
      },
      "source": [
        "X = df_scl_oe.drop(['price'], axis=1)\n",
        "y = df_scl_oe['price']\n",
        "X_train, X_test, y_train, y_test = train_test_split(X, y, train_size=0.55, random_state=22)"
      ],
      "execution_count": 26,
      "outputs": [
        {
          "output_type": "execute_result",
          "data": {
            "text/html": [
              "<div>\n",
              "<style scoped>\n",
              "    .dataframe tbody tr th:only-of-type {\n",
              "        vertical-align: middle;\n",
              "    }\n",
              "\n",
              "    .dataframe tbody tr th {\n",
              "        vertical-align: top;\n",
              "    }\n",
              "\n",
              "    .dataframe thead th {\n",
              "        text-align: right;\n",
              "    }\n",
              "</style>\n",
              "<table border=\"1\" class=\"dataframe\">\n",
              "  <thead>\n",
              "    <tr style=\"text-align: right;\">\n",
              "      <th></th>\n",
              "      <th>model</th>\n",
              "      <th>year</th>\n",
              "      <th>transmission</th>\n",
              "      <th>mileage</th>\n",
              "      <th>fuelType</th>\n",
              "      <th>tax</th>\n",
              "      <th>mpg</th>\n",
              "      <th>engineSize</th>\n",
              "    </tr>\n",
              "  </thead>\n",
              "  <tbody>\n",
              "    <tr>\n",
              "      <th>670</th>\n",
              "      <td>0.705882</td>\n",
              "      <td>0.681818</td>\n",
              "      <td>0.333333</td>\n",
              "      <td>0.403619</td>\n",
              "      <td>0.000000</td>\n",
              "      <td>0.283186</td>\n",
              "      <td>0.201550</td>\n",
              "      <td>0.488889</td>\n",
              "    </tr>\n",
              "    <tr>\n",
              "      <th>3129</th>\n",
              "      <td>0.000000</td>\n",
              "      <td>0.818182</td>\n",
              "      <td>0.000000</td>\n",
              "      <td>0.233475</td>\n",
              "      <td>0.333333</td>\n",
              "      <td>0.000000</td>\n",
              "      <td>0.299742</td>\n",
              "      <td>0.400000</td>\n",
              "    </tr>\n",
              "    <tr>\n",
              "      <th>504</th>\n",
              "      <td>0.705882</td>\n",
              "      <td>0.909091</td>\n",
              "      <td>0.000000</td>\n",
              "      <td>0.079298</td>\n",
              "      <td>1.000000</td>\n",
              "      <td>0.256637</td>\n",
              "      <td>0.175280</td>\n",
              "      <td>0.444444</td>\n",
              "    </tr>\n",
              "    <tr>\n",
              "      <th>2584</th>\n",
              "      <td>1.000000</td>\n",
              "      <td>0.818182</td>\n",
              "      <td>0.000000</td>\n",
              "      <td>0.255422</td>\n",
              "      <td>0.333333</td>\n",
              "      <td>0.000000</td>\n",
              "      <td>0.323859</td>\n",
              "      <td>0.333333</td>\n",
              "    </tr>\n",
              "    <tr>\n",
              "      <th>5160</th>\n",
              "      <td>0.117647</td>\n",
              "      <td>0.681818</td>\n",
              "      <td>0.333333</td>\n",
              "      <td>0.223591</td>\n",
              "      <td>1.000000</td>\n",
              "      <td>0.000000</td>\n",
              "      <td>0.270887</td>\n",
              "      <td>0.222222</td>\n",
              "    </tr>\n",
              "    <tr>\n",
              "      <th>...</th>\n",
              "      <td>...</td>\n",
              "      <td>...</td>\n",
              "      <td>...</td>\n",
              "      <td>...</td>\n",
              "      <td>...</td>\n",
              "      <td>...</td>\n",
              "      <td>...</td>\n",
              "      <td>...</td>\n",
              "    </tr>\n",
              "    <tr>\n",
              "      <th>5478</th>\n",
              "      <td>0.117647</td>\n",
              "      <td>0.863636</td>\n",
              "      <td>0.333333</td>\n",
              "      <td>0.086419</td>\n",
              "      <td>1.000000</td>\n",
              "      <td>0.256637</td>\n",
              "      <td>0.285099</td>\n",
              "      <td>0.222222</td>\n",
              "    </tr>\n",
              "    <tr>\n",
              "      <th>356</th>\n",
              "      <td>0.705882</td>\n",
              "      <td>0.954545</td>\n",
              "      <td>0.000000</td>\n",
              "      <td>0.040220</td>\n",
              "      <td>0.333333</td>\n",
              "      <td>0.238938</td>\n",
              "      <td>0.201550</td>\n",
              "      <td>0.555556</td>\n",
              "    </tr>\n",
              "    <tr>\n",
              "      <th>4908</th>\n",
              "      <td>0.117647</td>\n",
              "      <td>0.818182</td>\n",
              "      <td>0.333333</td>\n",
              "      <td>0.132166</td>\n",
              "      <td>1.000000</td>\n",
              "      <td>0.000000</td>\n",
              "      <td>0.285099</td>\n",
              "      <td>0.222222</td>\n",
              "    </tr>\n",
              "    <tr>\n",
              "      <th>6276</th>\n",
              "      <td>0.647059</td>\n",
              "      <td>0.863636</td>\n",
              "      <td>0.000000</td>\n",
              "      <td>0.225895</td>\n",
              "      <td>0.333333</td>\n",
              "      <td>0.000000</td>\n",
              "      <td>0.393196</td>\n",
              "      <td>0.400000</td>\n",
              "    </tr>\n",
              "    <tr>\n",
              "      <th>2933</th>\n",
              "      <td>1.000000</td>\n",
              "      <td>0.727273</td>\n",
              "      <td>0.333333</td>\n",
              "      <td>0.165116</td>\n",
              "      <td>1.000000</td>\n",
              "      <td>0.053097</td>\n",
              "      <td>0.241602</td>\n",
              "      <td>0.222222</td>\n",
              "    </tr>\n",
              "  </tbody>\n",
              "</table>\n",
              "<p>3705 rows × 8 columns</p>\n",
              "</div>"
            ],
            "text/plain": [
              "         model      year  transmission  ...       tax       mpg  engineSize\n",
              "670   0.705882  0.681818      0.333333  ...  0.283186  0.201550    0.488889\n",
              "3129  0.000000  0.818182      0.000000  ...  0.000000  0.299742    0.400000\n",
              "504   0.705882  0.909091      0.000000  ...  0.256637  0.175280    0.444444\n",
              "2584  1.000000  0.818182      0.000000  ...  0.000000  0.323859    0.333333\n",
              "5160  0.117647  0.681818      0.333333  ...  0.000000  0.270887    0.222222\n",
              "...        ...       ...           ...  ...       ...       ...         ...\n",
              "5478  0.117647  0.863636      0.333333  ...  0.256637  0.285099    0.222222\n",
              "356   0.705882  0.954545      0.000000  ...  0.238938  0.201550    0.555556\n",
              "4908  0.117647  0.818182      0.333333  ...  0.000000  0.285099    0.222222\n",
              "6276  0.647059  0.863636      0.000000  ...  0.000000  0.393196    0.400000\n",
              "2933  1.000000  0.727273      0.333333  ...  0.053097  0.241602    0.222222\n",
              "\n",
              "[3705 rows x 8 columns]"
            ]
          },
          "metadata": {},
          "execution_count": 26
        }
      ]
    },
    {
      "cell_type": "code",
      "metadata": {
        "scrolled": true,
        "colab": {
          "base_uri": "https://localhost:8080/"
        },
        "id": "McnFYtRmkJXv",
        "outputId": "7e82fcf5-1936-4b6e-e47b-9e1731355a62"
      },
      "source": [
        "model_6 = LinearRegression()\n",
        "\n",
        "model_6.fit(X_train, y_train)\n",
        "preds = model_6.predict(X_test)\n",
        "rmse = np.sqrt(mean_squared_error(y_test, preds))\n",
        "rs = model_6.score(X_test, y_test)\n",
        "print(f'RMSE: {round(rmse,3)}')\n",
        "print(f'R^2: {round(rs,3)}\\n')"
      ],
      "execution_count": 27,
      "outputs": [
        {
          "output_type": "stream",
          "name": "stdout",
          "text": [
            "RMSE: 0.05\n",
            "R^2: 0.784\n",
            "\n"
          ]
        }
      ]
    },
    {
      "cell_type": "markdown",
      "metadata": {
        "id": "eCVGeO4GkJXv"
      },
      "source": [
        "### Caso 7\n",
        "\n",
        "#### Codificación Ordinal"
      ]
    },
    {
      "cell_type": "code",
      "metadata": {
        "colab": {
          "base_uri": "https://localhost:8080/",
          "height": 204
        },
        "id": "uHY1GwWVkJXv",
        "outputId": "009f820e-4df4-42e1-dd23-d6c42d54dab7"
      },
      "source": [
        "oe = OrdinalEncoder()\n",
        "df_oe = df.copy()\n",
        "df_oe[str_categ] = oe.fit_transform(df_oe[str_categ])\n",
        "\n",
        "x = df_oe.values #returns a numpy array\n",
        "min_max_scaler = MinMaxScaler()\n",
        "x_scaled = min_max_scaler.fit_transform(x)\n",
        "df_scl_oe = pd.DataFrame(x_scaled, columns=df_oe.columns)\n",
        "df_scl_oe.head()"
      ],
      "execution_count": 28,
      "outputs": [
        {
          "output_type": "execute_result",
          "data": {
            "text/html": [
              "<div>\n",
              "<style scoped>\n",
              "    .dataframe tbody tr th:only-of-type {\n",
              "        vertical-align: middle;\n",
              "    }\n",
              "\n",
              "    .dataframe tbody tr th {\n",
              "        vertical-align: top;\n",
              "    }\n",
              "\n",
              "    .dataframe thead th {\n",
              "        text-align: right;\n",
              "    }\n",
              "</style>\n",
              "<table border=\"1\" class=\"dataframe\">\n",
              "  <thead>\n",
              "    <tr style=\"text-align: right;\">\n",
              "      <th></th>\n",
              "      <th>model</th>\n",
              "      <th>year</th>\n",
              "      <th>price</th>\n",
              "      <th>transmission</th>\n",
              "      <th>mileage</th>\n",
              "      <th>fuelType</th>\n",
              "      <th>tax</th>\n",
              "      <th>mpg</th>\n",
              "      <th>engineSize</th>\n",
              "    </tr>\n",
              "  </thead>\n",
              "  <tbody>\n",
              "    <tr>\n",
              "      <th>0</th>\n",
              "      <td>0.352941</td>\n",
              "      <td>0.818182</td>\n",
              "      <td>0.256150</td>\n",
              "      <td>0.333333</td>\n",
              "      <td>0.138100</td>\n",
              "      <td>1.0</td>\n",
              "      <td>0.469027</td>\n",
              "      <td>0.143842</td>\n",
              "      <td>0.444444</td>\n",
              "    </tr>\n",
              "    <tr>\n",
              "      <th>1</th>\n",
              "      <td>0.352941</td>\n",
              "      <td>0.863636</td>\n",
              "      <td>0.256066</td>\n",
              "      <td>0.333333</td>\n",
              "      <td>0.106716</td>\n",
              "      <td>1.0</td>\n",
              "      <td>0.256637</td>\n",
              "      <td>0.143842</td>\n",
              "      <td>0.444444</td>\n",
              "    </tr>\n",
              "    <tr>\n",
              "      <th>2</th>\n",
              "      <td>0.352941</td>\n",
              "      <td>0.772727</td>\n",
              "      <td>0.222301</td>\n",
              "      <td>0.333333</td>\n",
              "      <td>0.157479</td>\n",
              "      <td>1.0</td>\n",
              "      <td>0.469027</td>\n",
              "      <td>0.143842</td>\n",
              "      <td>0.444444</td>\n",
              "    </tr>\n",
              "    <tr>\n",
              "      <th>3</th>\n",
              "      <td>0.352941</td>\n",
              "      <td>0.863636</td>\n",
              "      <td>0.306839</td>\n",
              "      <td>0.333333</td>\n",
              "      <td>0.084476</td>\n",
              "      <td>1.0</td>\n",
              "      <td>0.265487</td>\n",
              "      <td>0.143842</td>\n",
              "      <td>0.444444</td>\n",
              "    </tr>\n",
              "    <tr>\n",
              "      <th>4</th>\n",
              "      <td>0.352941</td>\n",
              "      <td>0.863636</td>\n",
              "      <td>0.281478</td>\n",
              "      <td>0.333333</td>\n",
              "      <td>0.208019</td>\n",
              "      <td>1.0</td>\n",
              "      <td>0.256637</td>\n",
              "      <td>0.143842</td>\n",
              "      <td>0.444444</td>\n",
              "    </tr>\n",
              "  </tbody>\n",
              "</table>\n",
              "</div>"
            ],
            "text/plain": [
              "      model      year     price  ...       tax       mpg  engineSize\n",
              "0  0.352941  0.818182  0.256150  ...  0.469027  0.143842    0.444444\n",
              "1  0.352941  0.863636  0.256066  ...  0.256637  0.143842    0.444444\n",
              "2  0.352941  0.772727  0.222301  ...  0.469027  0.143842    0.444444\n",
              "3  0.352941  0.863636  0.306839  ...  0.265487  0.143842    0.444444\n",
              "4  0.352941  0.863636  0.281478  ...  0.256637  0.143842    0.444444\n",
              "\n",
              "[5 rows x 9 columns]"
            ]
          },
          "metadata": {},
          "execution_count": 28
        }
      ]
    },
    {
      "cell_type": "markdown",
      "metadata": {
        "id": "QOIzLP6ukJXw"
      },
      "source": [
        "#### Separación de Datos"
      ]
    },
    {
      "cell_type": "code",
      "metadata": {
        "id": "iTp95vOGkJXw"
      },
      "source": [
        "X = df_scl_oe.drop(['price'], axis=1)\n",
        "y = df_scl_oe['price']\n",
        "X_train, X_test, y_train, y_test = train_test_split(X, y, train_size=0.80, random_state=22)"
      ],
      "execution_count": 29,
      "outputs": []
    },
    {
      "cell_type": "code",
      "metadata": {
        "scrolled": true,
        "colab": {
          "base_uri": "https://localhost:8080/"
        },
        "id": "YDWymHO3kJXw",
        "outputId": "6b43006e-88d5-4f86-aec7-ce553cbbf007"
      },
      "source": [
        "from sklearn.metrics import mean_squared_error, r2_score\n",
        "from sklearn.linear_model import LinearRegression\n",
        "model_7 = LinearRegression()\n",
        "\n",
        "model_7.fit(X_train, y_train)\n",
        "preds = model_7.predict(X_test)\n",
        "rmse = np.sqrt(mean_squared_error(y_test, preds))\n",
        "rs = model_7.score(X_test, y_test)\n",
        "print(f'RMSE: {round(rmse,3)}')\n",
        "print(f'R^2: {round(rs,3)}\\n')"
      ],
      "execution_count": 30,
      "outputs": [
        {
          "output_type": "stream",
          "name": "stdout",
          "text": [
            "RMSE: 0.05\n",
            "R^2: 0.787\n",
            "\n"
          ]
        }
      ]
    },
    {
      "cell_type": "markdown",
      "metadata": {
        "id": "_IJKsePVkJXx"
      },
      "source": [
        "## Parte 2\n",
        "\n",
        "Ahora usted debe desarrollar su propia implementación del método Descenso de Gradiente estocástico. Para esta ocasión debe utilizar una codificación One-Hot, un RobustScaler y realizar el entrenamiento a partir del 80% de los datos. Al final del entrenamiento, en la lista `errores` se deben tener los valores de la función de error para cada iteración y así poder observar el progreso gráficamente."
      ]
    },
    {
      "cell_type": "code",
      "metadata": {
        "id": "if6suh30kJX3"
      },
      "source": [
        "df_ohe = pd.get_dummies(df)\n",
        "scaler = RobustScaler()\n",
        "df_scl_ohe = scaler.fit_transform(df_ohe)\n",
        "df_scl_ohe = pd.DataFrame(df_scl_ohe, columns = df_ohe.columns)\n",
        "\n",
        "X = df_scl_ohe.drop(['price'], axis=1)\n",
        "y = df_scl_ohe['price']\n",
        "X_train, X_test, y_train, y_test = train_test_split(X, y, test_size=0.2, random_state=22)"
      ],
      "execution_count": 57,
      "outputs": []
    },
    {
      "cell_type": "code",
      "metadata": {
        "scrolled": true,
        "id": "OTSv704QkJX3"
      },
      "source": [
        "X_train_array = np.c_[np.ones(X_train.values.shape[0]), X_train.values]\n",
        "y_train_array = y_train.values\n",
        "X_test_array = np.c_[np.ones(X_test.values.shape[0]), X_test.values]\n",
        "y_test_array = y_test.values\n",
        "\n",
        "#Inicialización de w\n",
        "# Se inicializa aleatoriamente w con valores pequeños\n",
        "w0 =  np.random.uniform(low=0, high=1, size=(X_train_array.shape[1]))\n",
        "w = w0.copy()\n",
        "\n",
        "#Se inicializa el criterio de parada\n",
        "eps = 1e-4 # Se define un criterio de parada basado en el error en la predicción #\n",
        "gradE = float('inf') # Valor inicial, se debe actualizar en cada iteración #\n",
        "#Inicialización de valor de la tasa de aprendizaje \n",
        "tasa = 0.1 # Selección de tasa de aprendizaje #\n",
        "#Lista para monitorear aprendizaje\n",
        "errores = [] # En esta lista se agregan los valores de la función de error en cada iteración #\n",
        "\n",
        "#Ciclo iterativo según algoritmo de descenso de gradiente\n",
        "while abs(gradE)>eps:\n",
        "    # Desarrollo de algoritmo #\n",
        "    #Selección de par aleatorio\n",
        "    i = np.random.randint(len(y_train_array))\n",
        "    xActual = X_train_array[i]\n",
        "    yActual = y_train_array[i]\n",
        "\n",
        "    g = np.dot(w,xActual) #Predicción del modelo\n",
        "    error = g-yActual     #Cálculo del error\n",
        "    gradE = np.linalg.norm(error*xActual) # Cálculo de la norma del gradiente\n",
        "\n",
        "    w = np.subtract(w, (tasa*error*xActual)) #Cálculo del modelo w\n",
        "    errores.append(abs(gradE)) # Norma del gradiente a la lista de errores\n",
        "    #\n",
        "    #"
      ],
      "execution_count": 60,
      "outputs": []
    },
    {
      "cell_type": "markdown",
      "metadata": {
        "id": "cLIzv4NnkJX5"
      },
      "source": [
        "#### Evaluación de Modelo\n",
        "Cálculo de la métrica R2 del modelo"
      ]
    },
    {
      "cell_type": "code",
      "metadata": {
        "colab": {
          "base_uri": "https://localhost:8080/"
        },
        "id": "hEX3uK-hkJX5",
        "outputId": "7568c4da-8b82-4c3a-d442-b988cbf7f8ae"
      },
      "source": [
        "y_train_preds = np.zeros(y_train_array.shape)\n",
        "for i in range(X_train_array.shape[0]):\n",
        "    y_train_preds[i] = np.dot(w,X_train_array[i])\n",
        "\n",
        "y_test_preds = np.zeros(y_test_array.shape)\n",
        "for i in range(X_test_array.shape[0]):\n",
        "    y_test_preds[i] = np.dot(w,X_test_array[i])\n",
        "    \n",
        "r2_train = r2_score(y_train_array, y_train_preds)\n",
        "r2_test = r2_score(y_test_array, y_test_preds)\n",
        "print(f'R2 entrenamiento: {round(r2_train,4)}\\nR2 prueba: {round(r2_test,4)}')"
      ],
      "execution_count": 61,
      "outputs": [
        {
          "output_type": "stream",
          "name": "stdout",
          "text": [
            "R2 entrenamiento: 0.8449\n",
            "R2 prueba: 0.8524\n"
          ]
        }
      ]
    },
    {
      "cell_type": "markdown",
      "metadata": {
        "id": "LugbmtlWkJX6"
      },
      "source": [
        "## Gráfica de Resultados"
      ]
    },
    {
      "cell_type": "code",
      "metadata": {
        "colab": {
          "base_uri": "https://localhost:8080/",
          "height": 367
        },
        "id": "UTtVS8TxkJX6",
        "outputId": "91dc1050-0ee0-4275-acc4-742a15510cf1"
      },
      "source": [
        "plt.figure(figsize=(15,5))\n",
        "plt.plot(errores)\n",
        "plt.xlabel('# Iteraciones')\n",
        "plt.ylabel('Función de Error')\n",
        "plt.title('Descenso de Gradiente Estocástico')"
      ],
      "execution_count": 62,
      "outputs": [
        {
          "output_type": "execute_result",
          "data": {
            "text/plain": [
              "Text(0.5, 1.0, 'Descenso de Gradiente Estocástico')"
            ]
          },
          "metadata": {},
          "execution_count": 62
        },
        {
          "output_type": "display_data",
          "data": {
            "image/png": "[encoded data removed]",
            "text/plain": [
              "<Figure size 1080x360 with 1 Axes>"
            ]
          },
          "metadata": {
            "needs_background": "light"
          }
        }
      ]
    },
    {
      "cell_type": "markdown",
      "metadata": {
        "id": "4dYIiYv7kJX7"
      },
      "source": [
        "## Conclusiones\n",
        "\n",
        "La siguiente tabla muestra los resultados obtenidos en los casos 1 a 4\n",
        "\n",
        "|  | MinMaxScaler | MinMaxScaler | RobustScaler | RobustScaler |\n",
        "| :- | :- | :- | :- | :- |\n",
        "| | RMSE | R2 | RMSE | R2 |\n",
        "| One-Hot Encoder | 0.031 | 0.917 | 0.277 | 0.9217 |\n",
        "| Ordinal Encoder | 0.05 | 0.787| 0.444 | 0.787 |\n",
        "\n",
        "|  | Entrenamiento 30% | Entrenamiento 55% | Entrenamiento 80% |\n",
        "| :- | :- | :- | :- |\n",
        "| RMSE | 0.049 | 0.05 | 0.05 |\n",
        "| R2 | 0.785 | 0.784 | 0.787 |"
      ]
    },
    {
      "cell_type": "markdown",
      "metadata": {
        "id": "-r-yCn76kJX7"
      },
      "source": [
        "De los resultados obtenidos en la parte 1 se concluye:\n",
        "- El codificador categórico que mejor ajusta los datos para ambos métodos de escalamiento es el One-HotEncoder, esto ocurre porque las categorías model, transmission y fuelType poseen valores discretos que no corresponden como tal a una clasificación ordinal de primero, segundo, etc\n",
        "\n",
        "- El escalador que mejor ajusta los datos es el MinMaxScaler, el MinMaxScaler conserva la forma original de la distribución y no reduce la influencia de valores atípicos en el modelo como lo hace el RobustScaler. Esa característica y el hecho de que es menos disruptivo en los datos originales lo hacen un mejor escalador para este caso en particular\n",
        "\n",
        "- Para este caso en particular el tamaño de los datos de entrenamiento no afecta en gran medida los resultados del modelo, las diferencias entre los errores son menores al 2.1%. De todas formas el tamaño de los datos de entrenamiento que obtuvo el menor error fue el 30%.\n",
        "\n",
        "De los resultados obtenidos en la parte 2 se concluye:\n",
        "\n",
        "- El algoritmo de Descenso de Gradiente Estocástico permite hallar un modelo w que se ajusta a los datos de forma adecuada asignando un valor de error deseado como criterio de parada. El hecho de que sea estocástico reduce enormemente la computación que se debe realizar porque calcula la derivada en un solo punto del modelo.\n",
        "\n",
        "- Debido a la naturaleza aleatoria en la inicialización de W y de la elección de cada vector en el cálculo del gradiente, se da que los índices de error en cada ejecución del modelo sean diferentes, una medida para prevenir esto es establecer un error de parada más pequeño al de 1e-3 elegido previamente pero esto implica que se necesitarán muchas más iteraciones para obtener convergencia."
      ]
    }
  ]
}