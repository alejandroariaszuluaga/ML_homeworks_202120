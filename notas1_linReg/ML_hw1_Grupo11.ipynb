{
  "nbformat": 4,
  "nbformat_minor": 0,
  "metadata": {
    "kernelspec": {
      "display_name": "Python 3",
      "language": "python",
      "name": "python3"
    },
    "language_info": {
      "codemirror_mode": {
        "name": "ipython",
        "version": 3
      },
      "file_extension": ".py",
      "mimetype": "text/x-python",
      "name": "python",
      "nbconvert_exporter": "python",
      "pygments_lexer": "ipython3",
      "version": "3.7.4"
    },
    "colab": {
      "name": "ML_hw1.ipynb",
      "provenance": [],
      "collapsed_sections": [
        "lGaqRvLS7z2n",
        "WpbSSmGz7z29",
        "xYC3gGvq7z3C",
        "xJda3jUo7z3t"
      ],
      "toc_visible": true
    }
  },
  "cells": [
    {
      "cell_type": "markdown",
      "metadata": {
        "id": "LSmcWjiN7z1f"
      },
      "source": [
        "# Regresión Lineal: Predicción de Precios de Autos\n",
        "\n",
        "Una tarea bastante común en el contexto de Machine Learning es la predicción de una variable según algunos descriptores. En esta ocasión partiremos de un dataset que involucra ocho variables (algunas numéricas, otras categóricas) y el precio de un automóvil, el cual se desea estimar empleando un modelo de regresión lineal.\n",
        "\n",
        "El objetivo de este cuaderno es que usted aprenda:\n",
        "- Algunas maneras de lidiar con descriptores categóricos no-numéricos.\n",
        "- Uso de la librería Pandas para manejar datos tabulares en formato .csv.\n",
        "- Uso de la librería Scikit Learn para preprocesamiento y entrenamiento de un modelo de regresión lineal.\n",
        "- Funcionamiento e implementación del algoritmo Descenso de Gradiente Estocástico para un modelo lineal básico.\n",
        "\n",
        "Debe completar las celdas vacías y seguir las instrucciones anotadas en el cuaderno.\n",
        "\n",
        "La fecha límite de entrega es el día **6 de septiembre** y se realizará a través de Bloque Neón."
      ]
    },
    {
      "cell_type": "code",
      "metadata": {
        "id": "8O9YeMyO78RU",
        "colab": {
          "base_uri": "https://localhost:8080/"
        },
        "outputId": "75541a56-8501-431f-8fe4-306ef878b6f6"
      },
      "source": [
        "from google.colab import drive\n",
        "drive.mount('/content/drive')"
      ],
      "execution_count": 110,
      "outputs": [
        {
          "output_type": "stream",
          "name": "stdout",
          "text": [
            "Drive already mounted at /content/drive; to attempt to forcibly remount, call drive.mount(\"/content/drive\", force_remount=True).\n"
          ]
        }
      ]
    },
    {
      "cell_type": "markdown",
      "metadata": {
        "id": "lGaqRvLS7z2n"
      },
      "source": [
        "## Importación de librerías y métodos"
      ]
    },
    {
      "cell_type": "code",
      "metadata": {
        "id": "OnWDGmmM7z2q"
      },
      "source": [
        "import numpy as np\n",
        "import pandas as pd\n",
        "\n",
        "import matplotlib.pyplot as plt\n",
        "from sklearn.metrics import mean_squared_error\n",
        "import sklearn\n",
        "from sklearn.preprocessing import OrdinalEncoder, MinMaxScaler, RobustScaler\n",
        "from sklearn.model_selection import train_test_split\n",
        "\n",
        "from sklearn.metrics import mean_squared_error, r2_score\n",
        "from sklearn.linear_model import LinearRegression"
      ],
      "execution_count": 111,
      "outputs": []
    },
    {
      "cell_type": "code",
      "metadata": {
        "colab": {
          "base_uri": "https://localhost:8080/",
          "height": 204
        },
        "id": "lh9WoenZ7z2v",
        "outputId": "d9d3296c-81f8-4550-c76a-ab1dd37f644c"
      },
      "source": [
        "try: \n",
        "  # Colocar la direccion del archivo\n",
        "  df = pd.read_csv('drive/MyDrive/Semestre8/Machine learning/Tareas/Tarea 1/carDataset/toyota.csv') \n",
        "except FileNotFoundError:\n",
        "  print(\"Insertar la direccion del archivo\")\n",
        "df.head()"
      ],
      "execution_count": 112,
      "outputs": [
        {
          "output_type": "execute_result",
          "data": {
            "text/html": [
              "<div>\n",
              "<style scoped>\n",
              "    .dataframe tbody tr th:only-of-type {\n",
              "        vertical-align: middle;\n",
              "    }\n",
              "\n",
              "    .dataframe tbody tr th {\n",
              "        vertical-align: top;\n",
              "    }\n",
              "\n",
              "    .dataframe thead th {\n",
              "        text-align: right;\n",
              "    }\n",
              "</style>\n",
              "<table border=\"1\" class=\"dataframe\">\n",
              "  <thead>\n",
              "    <tr style=\"text-align: right;\">\n",
              "      <th></th>\n",
              "      <th>model</th>\n",
              "      <th>year</th>\n",
              "      <th>price</th>\n",
              "      <th>transmission</th>\n",
              "      <th>mileage</th>\n",
              "      <th>fuelType</th>\n",
              "      <th>tax</th>\n",
              "      <th>mpg</th>\n",
              "      <th>engineSize</th>\n",
              "    </tr>\n",
              "  </thead>\n",
              "  <tbody>\n",
              "    <tr>\n",
              "      <th>0</th>\n",
              "      <td>GT86</td>\n",
              "      <td>2016</td>\n",
              "      <td>16000</td>\n",
              "      <td>Manual</td>\n",
              "      <td>24089</td>\n",
              "      <td>Petrol</td>\n",
              "      <td>265</td>\n",
              "      <td>36.2</td>\n",
              "      <td>2.0</td>\n",
              "    </tr>\n",
              "    <tr>\n",
              "      <th>1</th>\n",
              "      <td>GT86</td>\n",
              "      <td>2017</td>\n",
              "      <td>15995</td>\n",
              "      <td>Manual</td>\n",
              "      <td>18615</td>\n",
              "      <td>Petrol</td>\n",
              "      <td>145</td>\n",
              "      <td>36.2</td>\n",
              "      <td>2.0</td>\n",
              "    </tr>\n",
              "    <tr>\n",
              "      <th>2</th>\n",
              "      <td>GT86</td>\n",
              "      <td>2015</td>\n",
              "      <td>13998</td>\n",
              "      <td>Manual</td>\n",
              "      <td>27469</td>\n",
              "      <td>Petrol</td>\n",
              "      <td>265</td>\n",
              "      <td>36.2</td>\n",
              "      <td>2.0</td>\n",
              "    </tr>\n",
              "    <tr>\n",
              "      <th>3</th>\n",
              "      <td>GT86</td>\n",
              "      <td>2017</td>\n",
              "      <td>18998</td>\n",
              "      <td>Manual</td>\n",
              "      <td>14736</td>\n",
              "      <td>Petrol</td>\n",
              "      <td>150</td>\n",
              "      <td>36.2</td>\n",
              "      <td>2.0</td>\n",
              "    </tr>\n",
              "    <tr>\n",
              "      <th>4</th>\n",
              "      <td>GT86</td>\n",
              "      <td>2017</td>\n",
              "      <td>17498</td>\n",
              "      <td>Manual</td>\n",
              "      <td>36284</td>\n",
              "      <td>Petrol</td>\n",
              "      <td>145</td>\n",
              "      <td>36.2</td>\n",
              "      <td>2.0</td>\n",
              "    </tr>\n",
              "  </tbody>\n",
              "</table>\n",
              "</div>"
            ],
            "text/plain": [
              "   model  year  price transmission  mileage fuelType  tax   mpg  engineSize\n",
              "0   GT86  2016  16000       Manual    24089   Petrol  265  36.2         2.0\n",
              "1   GT86  2017  15995       Manual    18615   Petrol  145  36.2         2.0\n",
              "2   GT86  2015  13998       Manual    27469   Petrol  265  36.2         2.0\n",
              "3   GT86  2017  18998       Manual    14736   Petrol  150  36.2         2.0\n",
              "4   GT86  2017  17498       Manual    36284   Petrol  145  36.2         2.0"
            ]
          },
          "metadata": {},
          "execution_count": 112
        }
      ]
    },
    {
      "cell_type": "code",
      "metadata": {
        "colab": {
          "base_uri": "https://localhost:8080/"
        },
        "id": "-FIAtG9S7z23",
        "outputId": "52a560bc-62e8-4f96-b0cf-10c953290719"
      },
      "source": [
        "df.info()"
      ],
      "execution_count": 113,
      "outputs": [
        {
          "output_type": "stream",
          "name": "stdout",
          "text": [
            "<class 'pandas.core.frame.DataFrame'>\n",
            "RangeIndex: 6738 entries, 0 to 6737\n",
            "Data columns (total 9 columns):\n",
            " #   Column        Non-Null Count  Dtype  \n",
            "---  ------        --------------  -----  \n",
            " 0   model         6738 non-null   object \n",
            " 1   year          6738 non-null   int64  \n",
            " 2   price         6738 non-null   int64  \n",
            " 3   transmission  6738 non-null   object \n",
            " 4   mileage       6738 non-null   int64  \n",
            " 5   fuelType      6738 non-null   object \n",
            " 6   tax           6738 non-null   int64  \n",
            " 7   mpg           6738 non-null   float64\n",
            " 8   engineSize    6738 non-null   float64\n",
            "dtypes: float64(2), int64(4), object(3)\n",
            "memory usage: 473.9+ KB\n"
          ]
        }
      ]
    },
    {
      "cell_type": "markdown",
      "metadata": {
        "id": "X_liWC4T7z25"
      },
      "source": [
        "Podemos observar algunas categorías numéricas, y otras de tipo _object_ (string)."
      ]
    },
    {
      "cell_type": "code",
      "metadata": {
        "id": "ZR9MYdUK7z27"
      },
      "source": [
        "categ = ['model','year','transmission','fuelType','engineSize']\n",
        "str_categ = ['model','transmission','fuelType']\n",
        "numer = ['price','mileage','tax','mpg']"
      ],
      "execution_count": 114,
      "outputs": []
    },
    {
      "cell_type": "markdown",
      "metadata": {
        "id": "WpbSSmGz7z29"
      },
      "source": [
        "## Parte 1\n",
        "\n",
        "A continuación se realizó el ajuste de los datos para un modelo de regresión lineal definido mediante la librería SciKit-Learn. Se observan dos métricas de precisión, en este caso Error Cuadrático Medio (RMSE) y $R^2$ (puede leer más sobre esta métrica en [ScikitLearn: r2_score](https://scikit-learn.org/stable/modules/generated/sklearn.metrics.r2_score.html)). Se le entregarán los dos primeros casos como ejemplo, usted debe implementar los demás a partir de estos primeros."
      ]
    },
    {
      "cell_type": "markdown",
      "metadata": {
        "id": "7-IMve4-7z2_"
      },
      "source": [
        "#### Casos:\n",
        "\n",
        "- Caso 1: Codificación One-Hot (MinMaxScaler)\n",
        "- Caso 2: Codificación Ordinal (MinMaxScaler)\n",
        "- Caso 3: Codificación One-Hot (RobustScaler)\n",
        "- Caso 4: Codificación Ordinal (RobustScaler)\n",
        "- Caso 5: Entrenar con un 30% (Codificación Ordinal, MinMaxScaler)\n",
        "- Caso 6: Entrenar con un 55% (Codificación Ordinal, MinMaxScaler)\n",
        "- Caso 7: Entrenar con un 80% (Codificación Ordinal, MinMaxScaler)\n",
        "\n",
        "Analice los resultados."
      ]
    },
    {
      "cell_type": "markdown",
      "metadata": {
        "id": "xYC3gGvq7z3C"
      },
      "source": [
        "### Caso 1:"
      ]
    },
    {
      "cell_type": "markdown",
      "metadata": {
        "id": "nyjW7yY_7z3D"
      },
      "source": [
        "#### Codificación One-Hot\n",
        "\n",
        "Una de las formas de codificar categorías no numéricas se conoce como _one-hot encoding_, en donde se crea una columna para cada valor distinto que exista en la característica que estamos codificando y, para cada registro, marcar con un 1 la columna a la que pertenezca dicho registro y dejar las demás con 0.\n",
        "\n",
        "Igualmente, en este caso se realizará un escalamiento de los datos utilizando un `MinMaxScaler`, investigue más sobre esta función en: [ScikitLearn: MinMaxScaler](https://scikit-learn.org/stable/modules/generated/sklearn.preprocessing.MinMaxScaler.html)."
      ]
    },
    {
      "cell_type": "code",
      "metadata": {
        "scrolled": true,
        "id": "sZIXFzZi7z3E",
        "colab": {
          "base_uri": "https://localhost:8080/",
          "height": 258
        },
        "outputId": "f0720c11-ae9e-48d3-94b3-127da0aef8dd"
      },
      "source": [
        "#Encodig\n",
        "df_ohe = pd.get_dummies(df)\n",
        "#Transformation & Scale \n",
        "scaler = MinMaxScaler()\n",
        "df_scl_ohe = scaler.fit_transform(df_ohe)\n",
        "df_scl_ohe = pd.DataFrame(df_scl_ohe, columns = df_ohe.columns)\n",
        "df_scl_ohe.head()"
      ],
      "execution_count": 139,
      "outputs": [
        {
          "output_type": "execute_result",
          "data": {
            "text/html": [
              "<div>\n",
              "<style scoped>\n",
              "    .dataframe tbody tr th:only-of-type {\n",
              "        vertical-align: middle;\n",
              "    }\n",
              "\n",
              "    .dataframe tbody tr th {\n",
              "        vertical-align: top;\n",
              "    }\n",
              "\n",
              "    .dataframe thead th {\n",
              "        text-align: right;\n",
              "    }\n",
              "</style>\n",
              "<table border=\"1\" class=\"dataframe\">\n",
              "  <thead>\n",
              "    <tr style=\"text-align: right;\">\n",
              "      <th></th>\n",
              "      <th>year</th>\n",
              "      <th>price</th>\n",
              "      <th>mileage</th>\n",
              "      <th>tax</th>\n",
              "      <th>mpg</th>\n",
              "      <th>engineSize</th>\n",
              "      <th>model_ Auris</th>\n",
              "      <th>model_ Avensis</th>\n",
              "      <th>model_ Aygo</th>\n",
              "      <th>model_ C-HR</th>\n",
              "      <th>model_ Camry</th>\n",
              "      <th>model_ Corolla</th>\n",
              "      <th>model_ GT86</th>\n",
              "      <th>model_ Hilux</th>\n",
              "      <th>model_ IQ</th>\n",
              "      <th>model_ Land Cruiser</th>\n",
              "      <th>model_ PROACE VERSO</th>\n",
              "      <th>model_ Prius</th>\n",
              "      <th>model_ RAV4</th>\n",
              "      <th>model_ Supra</th>\n",
              "      <th>model_ Urban Cruiser</th>\n",
              "      <th>model_ Verso</th>\n",
              "      <th>model_ Verso-S</th>\n",
              "      <th>model_ Yaris</th>\n",
              "      <th>transmission_Automatic</th>\n",
              "      <th>transmission_Manual</th>\n",
              "      <th>transmission_Other</th>\n",
              "      <th>transmission_Semi-Auto</th>\n",
              "      <th>fuelType_Diesel</th>\n",
              "      <th>fuelType_Hybrid</th>\n",
              "      <th>fuelType_Other</th>\n",
              "      <th>fuelType_Petrol</th>\n",
              "    </tr>\n",
              "  </thead>\n",
              "  <tbody>\n",
              "    <tr>\n",
              "      <th>0</th>\n",
              "      <td>0.818182</td>\n",
              "      <td>0.256150</td>\n",
              "      <td>0.138100</td>\n",
              "      <td>0.469027</td>\n",
              "      <td>0.143842</td>\n",
              "      <td>0.444444</td>\n",
              "      <td>0.0</td>\n",
              "      <td>0.0</td>\n",
              "      <td>0.0</td>\n",
              "      <td>0.0</td>\n",
              "      <td>0.0</td>\n",
              "      <td>0.0</td>\n",
              "      <td>1.0</td>\n",
              "      <td>0.0</td>\n",
              "      <td>0.0</td>\n",
              "      <td>0.0</td>\n",
              "      <td>0.0</td>\n",
              "      <td>0.0</td>\n",
              "      <td>0.0</td>\n",
              "      <td>0.0</td>\n",
              "      <td>0.0</td>\n",
              "      <td>0.0</td>\n",
              "      <td>0.0</td>\n",
              "      <td>0.0</td>\n",
              "      <td>0.0</td>\n",
              "      <td>1.0</td>\n",
              "      <td>0.0</td>\n",
              "      <td>0.0</td>\n",
              "      <td>0.0</td>\n",
              "      <td>0.0</td>\n",
              "      <td>0.0</td>\n",
              "      <td>1.0</td>\n",
              "    </tr>\n",
              "    <tr>\n",
              "      <th>1</th>\n",
              "      <td>0.863636</td>\n",
              "      <td>0.256066</td>\n",
              "      <td>0.106716</td>\n",
              "      <td>0.256637</td>\n",
              "      <td>0.143842</td>\n",
              "      <td>0.444444</td>\n",
              "      <td>0.0</td>\n",
              "      <td>0.0</td>\n",
              "      <td>0.0</td>\n",
              "      <td>0.0</td>\n",
              "      <td>0.0</td>\n",
              "      <td>0.0</td>\n",
              "      <td>1.0</td>\n",
              "      <td>0.0</td>\n",
              "      <td>0.0</td>\n",
              "      <td>0.0</td>\n",
              "      <td>0.0</td>\n",
              "      <td>0.0</td>\n",
              "      <td>0.0</td>\n",
              "      <td>0.0</td>\n",
              "      <td>0.0</td>\n",
              "      <td>0.0</td>\n",
              "      <td>0.0</td>\n",
              "      <td>0.0</td>\n",
              "      <td>0.0</td>\n",
              "      <td>1.0</td>\n",
              "      <td>0.0</td>\n",
              "      <td>0.0</td>\n",
              "      <td>0.0</td>\n",
              "      <td>0.0</td>\n",
              "      <td>0.0</td>\n",
              "      <td>1.0</td>\n",
              "    </tr>\n",
              "    <tr>\n",
              "      <th>2</th>\n",
              "      <td>0.772727</td>\n",
              "      <td>0.222301</td>\n",
              "      <td>0.157479</td>\n",
              "      <td>0.469027</td>\n",
              "      <td>0.143842</td>\n",
              "      <td>0.444444</td>\n",
              "      <td>0.0</td>\n",
              "      <td>0.0</td>\n",
              "      <td>0.0</td>\n",
              "      <td>0.0</td>\n",
              "      <td>0.0</td>\n",
              "      <td>0.0</td>\n",
              "      <td>1.0</td>\n",
              "      <td>0.0</td>\n",
              "      <td>0.0</td>\n",
              "      <td>0.0</td>\n",
              "      <td>0.0</td>\n",
              "      <td>0.0</td>\n",
              "      <td>0.0</td>\n",
              "      <td>0.0</td>\n",
              "      <td>0.0</td>\n",
              "      <td>0.0</td>\n",
              "      <td>0.0</td>\n",
              "      <td>0.0</td>\n",
              "      <td>0.0</td>\n",
              "      <td>1.0</td>\n",
              "      <td>0.0</td>\n",
              "      <td>0.0</td>\n",
              "      <td>0.0</td>\n",
              "      <td>0.0</td>\n",
              "      <td>0.0</td>\n",
              "      <td>1.0</td>\n",
              "    </tr>\n",
              "    <tr>\n",
              "      <th>3</th>\n",
              "      <td>0.863636</td>\n",
              "      <td>0.306839</td>\n",
              "      <td>0.084476</td>\n",
              "      <td>0.265487</td>\n",
              "      <td>0.143842</td>\n",
              "      <td>0.444444</td>\n",
              "      <td>0.0</td>\n",
              "      <td>0.0</td>\n",
              "      <td>0.0</td>\n",
              "      <td>0.0</td>\n",
              "      <td>0.0</td>\n",
              "      <td>0.0</td>\n",
              "      <td>1.0</td>\n",
              "      <td>0.0</td>\n",
              "      <td>0.0</td>\n",
              "      <td>0.0</td>\n",
              "      <td>0.0</td>\n",
              "      <td>0.0</td>\n",
              "      <td>0.0</td>\n",
              "      <td>0.0</td>\n",
              "      <td>0.0</td>\n",
              "      <td>0.0</td>\n",
              "      <td>0.0</td>\n",
              "      <td>0.0</td>\n",
              "      <td>0.0</td>\n",
              "      <td>1.0</td>\n",
              "      <td>0.0</td>\n",
              "      <td>0.0</td>\n",
              "      <td>0.0</td>\n",
              "      <td>0.0</td>\n",
              "      <td>0.0</td>\n",
              "      <td>1.0</td>\n",
              "    </tr>\n",
              "    <tr>\n",
              "      <th>4</th>\n",
              "      <td>0.863636</td>\n",
              "      <td>0.281478</td>\n",
              "      <td>0.208019</td>\n",
              "      <td>0.256637</td>\n",
              "      <td>0.143842</td>\n",
              "      <td>0.444444</td>\n",
              "      <td>0.0</td>\n",
              "      <td>0.0</td>\n",
              "      <td>0.0</td>\n",
              "      <td>0.0</td>\n",
              "      <td>0.0</td>\n",
              "      <td>0.0</td>\n",
              "      <td>1.0</td>\n",
              "      <td>0.0</td>\n",
              "      <td>0.0</td>\n",
              "      <td>0.0</td>\n",
              "      <td>0.0</td>\n",
              "      <td>0.0</td>\n",
              "      <td>0.0</td>\n",
              "      <td>0.0</td>\n",
              "      <td>0.0</td>\n",
              "      <td>0.0</td>\n",
              "      <td>0.0</td>\n",
              "      <td>0.0</td>\n",
              "      <td>0.0</td>\n",
              "      <td>1.0</td>\n",
              "      <td>0.0</td>\n",
              "      <td>0.0</td>\n",
              "      <td>0.0</td>\n",
              "      <td>0.0</td>\n",
              "      <td>0.0</td>\n",
              "      <td>1.0</td>\n",
              "    </tr>\n",
              "  </tbody>\n",
              "</table>\n",
              "</div>"
            ],
            "text/plain": [
              "       year     price  ...  fuelType_Other  fuelType_Petrol\n",
              "0  0.818182  0.256150  ...             0.0              1.0\n",
              "1  0.863636  0.256066  ...             0.0              1.0\n",
              "2  0.772727  0.222301  ...             0.0              1.0\n",
              "3  0.863636  0.306839  ...             0.0              1.0\n",
              "4  0.863636  0.281478  ...             0.0              1.0\n",
              "\n",
              "[5 rows x 32 columns]"
            ]
          },
          "metadata": {},
          "execution_count": 139
        }
      ]
    },
    {
      "cell_type": "markdown",
      "metadata": {
        "id": "8NI7SK5A7z3J"
      },
      "source": [
        "#### Separación de Datos"
      ]
    },
    {
      "cell_type": "code",
      "metadata": {
        "id": "7LeNVszi7z3O"
      },
      "source": [
        "#Separation\n",
        "X = df_scl_ohe.drop(['price'], axis=1)\n",
        "y = df_scl_ohe['price']\n",
        "X_train, X_test, y_train, y_test = train_test_split(X, y, test_size=0.1999, random_state=22)"
      ],
      "execution_count": 140,
      "outputs": []
    },
    {
      "cell_type": "code",
      "metadata": {
        "id": "7p9F8Ymt7z3P",
        "colab": {
          "base_uri": "https://localhost:8080/"
        },
        "outputId": "7817243a-1d13-43e8-8670-84707a13883a"
      },
      "source": [
        "#Regression\n",
        "model_1 = LinearRegression()\n",
        "model_1.fit(X_train, y_train)\n",
        "#Evaluation\n",
        "preds = model_1.predict(X_test)\n",
        "rmse = np.sqrt(mean_squared_error(y_test, preds))\n",
        "rs = model_1.score(X_test, y_test)\n",
        "print(f'RMSE: {round(rmse,3)}')\n",
        "print(f'R^2: {round(rs,3)}\\n')\n",
        "index = [\"RMSE\", \"R^2\"]\n",
        "comparison = pd.DataFrame(index=index)\n",
        "comparison[\"Caso 1\"]=[rmse,rs]"
      ],
      "execution_count": 141,
      "outputs": [
        {
          "output_type": "stream",
          "name": "stdout",
          "text": [
            "RMSE: 0.031\n",
            "R^2: 0.917\n",
            "\n"
          ]
        }
      ]
    },
    {
      "cell_type": "markdown",
      "metadata": {
        "id": "5V4IDf347z3Q"
      },
      "source": [
        "### Caso 2\n",
        "\n",
        "#### Codificación Ordinal"
      ]
    },
    {
      "cell_type": "code",
      "metadata": {
        "id": "2bXU3HK17z3R",
        "colab": {
          "base_uri": "https://localhost:8080/",
          "height": 204
        },
        "outputId": "b9baa6eb-962f-4322-cec7-fc3aa7a564d7"
      },
      "source": [
        "#Encoding\n",
        "oe = OrdinalEncoder()\n",
        "df_oe = df.copy()\n",
        "df_oe[str_categ] = oe.fit_transform(df_oe[str_categ])\n",
        "df_oe.head()\n"
      ],
      "execution_count": 142,
      "outputs": [
        {
          "output_type": "execute_result",
          "data": {
            "text/html": [
              "<div>\n",
              "<style scoped>\n",
              "    .dataframe tbody tr th:only-of-type {\n",
              "        vertical-align: middle;\n",
              "    }\n",
              "\n",
              "    .dataframe tbody tr th {\n",
              "        vertical-align: top;\n",
              "    }\n",
              "\n",
              "    .dataframe thead th {\n",
              "        text-align: right;\n",
              "    }\n",
              "</style>\n",
              "<table border=\"1\" class=\"dataframe\">\n",
              "  <thead>\n",
              "    <tr style=\"text-align: right;\">\n",
              "      <th></th>\n",
              "      <th>model</th>\n",
              "      <th>year</th>\n",
              "      <th>price</th>\n",
              "      <th>transmission</th>\n",
              "      <th>mileage</th>\n",
              "      <th>fuelType</th>\n",
              "      <th>tax</th>\n",
              "      <th>mpg</th>\n",
              "      <th>engineSize</th>\n",
              "    </tr>\n",
              "  </thead>\n",
              "  <tbody>\n",
              "    <tr>\n",
              "      <th>0</th>\n",
              "      <td>6.0</td>\n",
              "      <td>2016</td>\n",
              "      <td>16000</td>\n",
              "      <td>1.0</td>\n",
              "      <td>24089</td>\n",
              "      <td>3.0</td>\n",
              "      <td>265</td>\n",
              "      <td>36.2</td>\n",
              "      <td>2.0</td>\n",
              "    </tr>\n",
              "    <tr>\n",
              "      <th>1</th>\n",
              "      <td>6.0</td>\n",
              "      <td>2017</td>\n",
              "      <td>15995</td>\n",
              "      <td>1.0</td>\n",
              "      <td>18615</td>\n",
              "      <td>3.0</td>\n",
              "      <td>145</td>\n",
              "      <td>36.2</td>\n",
              "      <td>2.0</td>\n",
              "    </tr>\n",
              "    <tr>\n",
              "      <th>2</th>\n",
              "      <td>6.0</td>\n",
              "      <td>2015</td>\n",
              "      <td>13998</td>\n",
              "      <td>1.0</td>\n",
              "      <td>27469</td>\n",
              "      <td>3.0</td>\n",
              "      <td>265</td>\n",
              "      <td>36.2</td>\n",
              "      <td>2.0</td>\n",
              "    </tr>\n",
              "    <tr>\n",
              "      <th>3</th>\n",
              "      <td>6.0</td>\n",
              "      <td>2017</td>\n",
              "      <td>18998</td>\n",
              "      <td>1.0</td>\n",
              "      <td>14736</td>\n",
              "      <td>3.0</td>\n",
              "      <td>150</td>\n",
              "      <td>36.2</td>\n",
              "      <td>2.0</td>\n",
              "    </tr>\n",
              "    <tr>\n",
              "      <th>4</th>\n",
              "      <td>6.0</td>\n",
              "      <td>2017</td>\n",
              "      <td>17498</td>\n",
              "      <td>1.0</td>\n",
              "      <td>36284</td>\n",
              "      <td>3.0</td>\n",
              "      <td>145</td>\n",
              "      <td>36.2</td>\n",
              "      <td>2.0</td>\n",
              "    </tr>\n",
              "  </tbody>\n",
              "</table>\n",
              "</div>"
            ],
            "text/plain": [
              "   model  year  price  transmission  mileage  fuelType  tax   mpg  engineSize\n",
              "0    6.0  2016  16000           1.0    24089       3.0  265  36.2         2.0\n",
              "1    6.0  2017  15995           1.0    18615       3.0  145  36.2         2.0\n",
              "2    6.0  2015  13998           1.0    27469       3.0  265  36.2         2.0\n",
              "3    6.0  2017  18998           1.0    14736       3.0  150  36.2         2.0\n",
              "4    6.0  2017  17498           1.0    36284       3.0  145  36.2         2.0"
            ]
          },
          "metadata": {},
          "execution_count": 142
        }
      ]
    },
    {
      "cell_type": "code",
      "metadata": {
        "id": "wyPOagY67z3S",
        "colab": {
          "base_uri": "https://localhost:8080/",
          "height": 204
        },
        "outputId": "6ee85c61-ad45-42f1-ff69-23726f72da95"
      },
      "source": [
        "#Transformation & Scale \n",
        "x = df_oe.values #returns a numpy array\n",
        "min_max_scaler = MinMaxScaler()\n",
        "x_scaled = min_max_scaler.fit_transform(x)\n",
        "df_scl_oe = pd.DataFrame(x_scaled, columns=df_oe.columns)\n",
        "df_scl_oe.head()"
      ],
      "execution_count": 143,
      "outputs": [
        {
          "output_type": "execute_result",
          "data": {
            "text/html": [
              "<div>\n",
              "<style scoped>\n",
              "    .dataframe tbody tr th:only-of-type {\n",
              "        vertical-align: middle;\n",
              "    }\n",
              "\n",
              "    .dataframe tbody tr th {\n",
              "        vertical-align: top;\n",
              "    }\n",
              "\n",
              "    .dataframe thead th {\n",
              "        text-align: right;\n",
              "    }\n",
              "</style>\n",
              "<table border=\"1\" class=\"dataframe\">\n",
              "  <thead>\n",
              "    <tr style=\"text-align: right;\">\n",
              "      <th></th>\n",
              "      <th>model</th>\n",
              "      <th>year</th>\n",
              "      <th>price</th>\n",
              "      <th>transmission</th>\n",
              "      <th>mileage</th>\n",
              "      <th>fuelType</th>\n",
              "      <th>tax</th>\n",
              "      <th>mpg</th>\n",
              "      <th>engineSize</th>\n",
              "    </tr>\n",
              "  </thead>\n",
              "  <tbody>\n",
              "    <tr>\n",
              "      <th>0</th>\n",
              "      <td>0.352941</td>\n",
              "      <td>0.818182</td>\n",
              "      <td>0.256150</td>\n",
              "      <td>0.333333</td>\n",
              "      <td>0.138100</td>\n",
              "      <td>1.0</td>\n",
              "      <td>0.469027</td>\n",
              "      <td>0.143842</td>\n",
              "      <td>0.444444</td>\n",
              "    </tr>\n",
              "    <tr>\n",
              "      <th>1</th>\n",
              "      <td>0.352941</td>\n",
              "      <td>0.863636</td>\n",
              "      <td>0.256066</td>\n",
              "      <td>0.333333</td>\n",
              "      <td>0.106716</td>\n",
              "      <td>1.0</td>\n",
              "      <td>0.256637</td>\n",
              "      <td>0.143842</td>\n",
              "      <td>0.444444</td>\n",
              "    </tr>\n",
              "    <tr>\n",
              "      <th>2</th>\n",
              "      <td>0.352941</td>\n",
              "      <td>0.772727</td>\n",
              "      <td>0.222301</td>\n",
              "      <td>0.333333</td>\n",
              "      <td>0.157479</td>\n",
              "      <td>1.0</td>\n",
              "      <td>0.469027</td>\n",
              "      <td>0.143842</td>\n",
              "      <td>0.444444</td>\n",
              "    </tr>\n",
              "    <tr>\n",
              "      <th>3</th>\n",
              "      <td>0.352941</td>\n",
              "      <td>0.863636</td>\n",
              "      <td>0.306839</td>\n",
              "      <td>0.333333</td>\n",
              "      <td>0.084476</td>\n",
              "      <td>1.0</td>\n",
              "      <td>0.265487</td>\n",
              "      <td>0.143842</td>\n",
              "      <td>0.444444</td>\n",
              "    </tr>\n",
              "    <tr>\n",
              "      <th>4</th>\n",
              "      <td>0.352941</td>\n",
              "      <td>0.863636</td>\n",
              "      <td>0.281478</td>\n",
              "      <td>0.333333</td>\n",
              "      <td>0.208019</td>\n",
              "      <td>1.0</td>\n",
              "      <td>0.256637</td>\n",
              "      <td>0.143842</td>\n",
              "      <td>0.444444</td>\n",
              "    </tr>\n",
              "  </tbody>\n",
              "</table>\n",
              "</div>"
            ],
            "text/plain": [
              "      model      year     price  ...       tax       mpg  engineSize\n",
              "0  0.352941  0.818182  0.256150  ...  0.469027  0.143842    0.444444\n",
              "1  0.352941  0.863636  0.256066  ...  0.256637  0.143842    0.444444\n",
              "2  0.352941  0.772727  0.222301  ...  0.469027  0.143842    0.444444\n",
              "3  0.352941  0.863636  0.306839  ...  0.265487  0.143842    0.444444\n",
              "4  0.352941  0.863636  0.281478  ...  0.256637  0.143842    0.444444\n",
              "\n",
              "[5 rows x 9 columns]"
            ]
          },
          "metadata": {},
          "execution_count": 143
        }
      ]
    },
    {
      "cell_type": "markdown",
      "metadata": {
        "id": "81lRbgwe7z3T"
      },
      "source": [
        "#### Separación de Datos"
      ]
    },
    {
      "cell_type": "code",
      "metadata": {
        "scrolled": true,
        "id": "RVJvTIzU7z3U"
      },
      "source": [
        "X = df_scl_oe.drop(['price'], axis=1)\n",
        "y = df_scl_oe['price']\n",
        "X_train, X_test, y_train, y_test = train_test_split(X, y, test_size=0.2, random_state=22)"
      ],
      "execution_count": 144,
      "outputs": []
    },
    {
      "cell_type": "code",
      "metadata": {
        "id": "mbSThAx87z3W",
        "colab": {
          "base_uri": "https://localhost:8080/"
        },
        "outputId": "5c197232-4361-416a-a9b6-521c669ccdb6"
      },
      "source": [
        "model_2 = LinearRegression()\n",
        "\n",
        "model_2.fit(X_train, y_train)\n",
        "preds = model_2.predict(X_test)\n",
        "rmse = np.sqrt(mean_squared_error(y_test, preds))\n",
        "rs = model_2.score(X_test, y_test)\n",
        "print(f'RMSE: {round(rmse,3)}')\n",
        "print(f'R^2: {round(rs,3)}\\n')\n",
        "comparison[\"Caso 2\"]=[rmse,rs]"
      ],
      "execution_count": 145,
      "outputs": [
        {
          "output_type": "stream",
          "name": "stdout",
          "text": [
            "RMSE: 0.05\n",
            "R^2: 0.787\n",
            "\n"
          ]
        }
      ]
    },
    {
      "cell_type": "markdown",
      "metadata": {
        "id": "RqvSBhj07z3a"
      },
      "source": [
        "### Caso 3\n"
      ]
    },
    {
      "cell_type": "markdown",
      "metadata": {
        "id": "5PMGIl4Q7z3a"
      },
      "source": [
        "#### Lectura de datos"
      ]
    },
    {
      "cell_type": "code",
      "metadata": {
        "id": "WCkFTE747z3b",
        "colab": {
          "base_uri": "https://localhost:8080/",
          "height": 204
        },
        "outputId": "5c32fa3d-9213-48e3-b6a5-ab0328121908"
      },
      "source": [
        "#audi  bmw  cclass  focus  hyundi\n",
        "#merc  skoda  vauxhall  vw  ford\n",
        "#df = pd.read_csv('carDataset/toyota.csv')\n",
        "df3 = df.copy() \n",
        "df3.head()"
      ],
      "execution_count": 146,
      "outputs": [
        {
          "output_type": "execute_result",
          "data": {
            "text/html": [
              "<div>\n",
              "<style scoped>\n",
              "    .dataframe tbody tr th:only-of-type {\n",
              "        vertical-align: middle;\n",
              "    }\n",
              "\n",
              "    .dataframe tbody tr th {\n",
              "        vertical-align: top;\n",
              "    }\n",
              "\n",
              "    .dataframe thead th {\n",
              "        text-align: right;\n",
              "    }\n",
              "</style>\n",
              "<table border=\"1\" class=\"dataframe\">\n",
              "  <thead>\n",
              "    <tr style=\"text-align: right;\">\n",
              "      <th></th>\n",
              "      <th>model</th>\n",
              "      <th>year</th>\n",
              "      <th>price</th>\n",
              "      <th>transmission</th>\n",
              "      <th>mileage</th>\n",
              "      <th>fuelType</th>\n",
              "      <th>tax</th>\n",
              "      <th>mpg</th>\n",
              "      <th>engineSize</th>\n",
              "    </tr>\n",
              "  </thead>\n",
              "  <tbody>\n",
              "    <tr>\n",
              "      <th>0</th>\n",
              "      <td>GT86</td>\n",
              "      <td>2016</td>\n",
              "      <td>16000</td>\n",
              "      <td>Manual</td>\n",
              "      <td>24089</td>\n",
              "      <td>Petrol</td>\n",
              "      <td>265</td>\n",
              "      <td>36.2</td>\n",
              "      <td>2.0</td>\n",
              "    </tr>\n",
              "    <tr>\n",
              "      <th>1</th>\n",
              "      <td>GT86</td>\n",
              "      <td>2017</td>\n",
              "      <td>15995</td>\n",
              "      <td>Manual</td>\n",
              "      <td>18615</td>\n",
              "      <td>Petrol</td>\n",
              "      <td>145</td>\n",
              "      <td>36.2</td>\n",
              "      <td>2.0</td>\n",
              "    </tr>\n",
              "    <tr>\n",
              "      <th>2</th>\n",
              "      <td>GT86</td>\n",
              "      <td>2015</td>\n",
              "      <td>13998</td>\n",
              "      <td>Manual</td>\n",
              "      <td>27469</td>\n",
              "      <td>Petrol</td>\n",
              "      <td>265</td>\n",
              "      <td>36.2</td>\n",
              "      <td>2.0</td>\n",
              "    </tr>\n",
              "    <tr>\n",
              "      <th>3</th>\n",
              "      <td>GT86</td>\n",
              "      <td>2017</td>\n",
              "      <td>18998</td>\n",
              "      <td>Manual</td>\n",
              "      <td>14736</td>\n",
              "      <td>Petrol</td>\n",
              "      <td>150</td>\n",
              "      <td>36.2</td>\n",
              "      <td>2.0</td>\n",
              "    </tr>\n",
              "    <tr>\n",
              "      <th>4</th>\n",
              "      <td>GT86</td>\n",
              "      <td>2017</td>\n",
              "      <td>17498</td>\n",
              "      <td>Manual</td>\n",
              "      <td>36284</td>\n",
              "      <td>Petrol</td>\n",
              "      <td>145</td>\n",
              "      <td>36.2</td>\n",
              "      <td>2.0</td>\n",
              "    </tr>\n",
              "  </tbody>\n",
              "</table>\n",
              "</div>"
            ],
            "text/plain": [
              "   model  year  price transmission  mileage fuelType  tax   mpg  engineSize\n",
              "0   GT86  2016  16000       Manual    24089   Petrol  265  36.2         2.0\n",
              "1   GT86  2017  15995       Manual    18615   Petrol  145  36.2         2.0\n",
              "2   GT86  2015  13998       Manual    27469   Petrol  265  36.2         2.0\n",
              "3   GT86  2017  18998       Manual    14736   Petrol  150  36.2         2.0\n",
              "4   GT86  2017  17498       Manual    36284   Petrol  145  36.2         2.0"
            ]
          },
          "metadata": {},
          "execution_count": 146
        }
      ]
    },
    {
      "cell_type": "markdown",
      "metadata": {
        "id": "3BwI4YnS7z3c"
      },
      "source": [
        "#### Codificación One-Hot"
      ]
    },
    {
      "cell_type": "code",
      "metadata": {
        "id": "t_ul14uH7z3d"
      },
      "source": [
        "#Encoding\n",
        "df_ohe_rb = pd.get_dummies(df3)"
      ],
      "execution_count": 147,
      "outputs": []
    },
    {
      "cell_type": "code",
      "metadata": {
        "scrolled": true,
        "id": "GwdVeNWV7z3e",
        "colab": {
          "base_uri": "https://localhost:8080/",
          "height": 258
        },
        "outputId": "f336347d-4f1f-4e65-979d-adfe7841464e"
      },
      "source": [
        "#Transformation & Scale \n",
        "scaler = RobustScaler()\n",
        "df_ohe_RB = scaler.fit_transform(df_ohe_rb)\n",
        "df_ohe_RB = pd.DataFrame(df_ohe_RB, columns = df_ohe.columns)\n",
        "df_ohe_RB.head()"
      ],
      "execution_count": 148,
      "outputs": [
        {
          "output_type": "execute_result",
          "data": {
            "text/html": [
              "<div>\n",
              "<style scoped>\n",
              "    .dataframe tbody tr th:only-of-type {\n",
              "        vertical-align: middle;\n",
              "    }\n",
              "\n",
              "    .dataframe tbody tr th {\n",
              "        vertical-align: top;\n",
              "    }\n",
              "\n",
              "    .dataframe thead th {\n",
              "        text-align: right;\n",
              "    }\n",
              "</style>\n",
              "<table border=\"1\" class=\"dataframe\">\n",
              "  <thead>\n",
              "    <tr style=\"text-align: right;\">\n",
              "      <th></th>\n",
              "      <th>year</th>\n",
              "      <th>price</th>\n",
              "      <th>mileage</th>\n",
              "      <th>tax</th>\n",
              "      <th>mpg</th>\n",
              "      <th>engineSize</th>\n",
              "      <th>model_ Auris</th>\n",
              "      <th>model_ Avensis</th>\n",
              "      <th>model_ Aygo</th>\n",
              "      <th>model_ C-HR</th>\n",
              "      <th>model_ Camry</th>\n",
              "      <th>model_ Corolla</th>\n",
              "      <th>model_ GT86</th>\n",
              "      <th>model_ Hilux</th>\n",
              "      <th>model_ IQ</th>\n",
              "      <th>model_ Land Cruiser</th>\n",
              "      <th>model_ PROACE VERSO</th>\n",
              "      <th>model_ Prius</th>\n",
              "      <th>model_ RAV4</th>\n",
              "      <th>model_ Supra</th>\n",
              "      <th>model_ Urban Cruiser</th>\n",
              "      <th>model_ Verso</th>\n",
              "      <th>model_ Verso-S</th>\n",
              "      <th>model_ Yaris</th>\n",
              "      <th>transmission_Automatic</th>\n",
              "      <th>transmission_Manual</th>\n",
              "      <th>transmission_Other</th>\n",
              "      <th>transmission_Semi-Auto</th>\n",
              "      <th>fuelType_Diesel</th>\n",
              "      <th>fuelType_Hybrid</th>\n",
              "      <th>fuelType_Other</th>\n",
              "      <th>fuelType_Petrol</th>\n",
              "    </tr>\n",
              "  </thead>\n",
              "  <tbody>\n",
              "    <tr>\n",
              "      <th>0</th>\n",
              "      <td>-0.5</td>\n",
              "      <td>0.776286</td>\n",
              "      <td>0.257936</td>\n",
              "      <td>0.896552</td>\n",
              "      <td>-1.955882</td>\n",
              "      <td>0.625</td>\n",
              "      <td>0.0</td>\n",
              "      <td>0.0</td>\n",
              "      <td>0.0</td>\n",
              "      <td>0.0</td>\n",
              "      <td>0.0</td>\n",
              "      <td>0.0</td>\n",
              "      <td>1.0</td>\n",
              "      <td>0.0</td>\n",
              "      <td>0.0</td>\n",
              "      <td>0.0</td>\n",
              "      <td>0.0</td>\n",
              "      <td>0.0</td>\n",
              "      <td>0.0</td>\n",
              "      <td>0.0</td>\n",
              "      <td>0.0</td>\n",
              "      <td>0.0</td>\n",
              "      <td>0.0</td>\n",
              "      <td>0.0</td>\n",
              "      <td>0.0</td>\n",
              "      <td>0.0</td>\n",
              "      <td>0.0</td>\n",
              "      <td>0.0</td>\n",
              "      <td>0.0</td>\n",
              "      <td>0.0</td>\n",
              "      <td>0.0</td>\n",
              "      <td>0.0</td>\n",
              "    </tr>\n",
              "    <tr>\n",
              "      <th>1</th>\n",
              "      <td>0.0</td>\n",
              "      <td>0.775541</td>\n",
              "      <td>0.004718</td>\n",
              "      <td>0.068966</td>\n",
              "      <td>-1.955882</td>\n",
              "      <td>0.625</td>\n",
              "      <td>0.0</td>\n",
              "      <td>0.0</td>\n",
              "      <td>0.0</td>\n",
              "      <td>0.0</td>\n",
              "      <td>0.0</td>\n",
              "      <td>0.0</td>\n",
              "      <td>1.0</td>\n",
              "      <td>0.0</td>\n",
              "      <td>0.0</td>\n",
              "      <td>0.0</td>\n",
              "      <td>0.0</td>\n",
              "      <td>0.0</td>\n",
              "      <td>0.0</td>\n",
              "      <td>0.0</td>\n",
              "      <td>0.0</td>\n",
              "      <td>0.0</td>\n",
              "      <td>0.0</td>\n",
              "      <td>0.0</td>\n",
              "      <td>0.0</td>\n",
              "      <td>0.0</td>\n",
              "      <td>0.0</td>\n",
              "      <td>0.0</td>\n",
              "      <td>0.0</td>\n",
              "      <td>0.0</td>\n",
              "      <td>0.0</td>\n",
              "      <td>0.0</td>\n",
              "    </tr>\n",
              "    <tr>\n",
              "      <th>2</th>\n",
              "      <td>-1.0</td>\n",
              "      <td>0.477703</td>\n",
              "      <td>0.414289</td>\n",
              "      <td>0.896552</td>\n",
              "      <td>-1.955882</td>\n",
              "      <td>0.625</td>\n",
              "      <td>0.0</td>\n",
              "      <td>0.0</td>\n",
              "      <td>0.0</td>\n",
              "      <td>0.0</td>\n",
              "      <td>0.0</td>\n",
              "      <td>0.0</td>\n",
              "      <td>1.0</td>\n",
              "      <td>0.0</td>\n",
              "      <td>0.0</td>\n",
              "      <td>0.0</td>\n",
              "      <td>0.0</td>\n",
              "      <td>0.0</td>\n",
              "      <td>0.0</td>\n",
              "      <td>0.0</td>\n",
              "      <td>0.0</td>\n",
              "      <td>0.0</td>\n",
              "      <td>0.0</td>\n",
              "      <td>0.0</td>\n",
              "      <td>0.0</td>\n",
              "      <td>0.0</td>\n",
              "      <td>0.0</td>\n",
              "      <td>0.0</td>\n",
              "      <td>0.0</td>\n",
              "      <td>0.0</td>\n",
              "      <td>0.0</td>\n",
              "      <td>0.0</td>\n",
              "    </tr>\n",
              "    <tr>\n",
              "      <th>3</th>\n",
              "      <td>0.0</td>\n",
              "      <td>1.223415</td>\n",
              "      <td>-0.174718</td>\n",
              "      <td>0.103448</td>\n",
              "      <td>-1.955882</td>\n",
              "      <td>0.625</td>\n",
              "      <td>0.0</td>\n",
              "      <td>0.0</td>\n",
              "      <td>0.0</td>\n",
              "      <td>0.0</td>\n",
              "      <td>0.0</td>\n",
              "      <td>0.0</td>\n",
              "      <td>1.0</td>\n",
              "      <td>0.0</td>\n",
              "      <td>0.0</td>\n",
              "      <td>0.0</td>\n",
              "      <td>0.0</td>\n",
              "      <td>0.0</td>\n",
              "      <td>0.0</td>\n",
              "      <td>0.0</td>\n",
              "      <td>0.0</td>\n",
              "      <td>0.0</td>\n",
              "      <td>0.0</td>\n",
              "      <td>0.0</td>\n",
              "      <td>0.0</td>\n",
              "      <td>0.0</td>\n",
              "      <td>0.0</td>\n",
              "      <td>0.0</td>\n",
              "      <td>0.0</td>\n",
              "      <td>0.0</td>\n",
              "      <td>0.0</td>\n",
              "      <td>0.0</td>\n",
              "    </tr>\n",
              "    <tr>\n",
              "      <th>4</th>\n",
              "      <td>0.0</td>\n",
              "      <td>0.999702</td>\n",
              "      <td>0.822056</td>\n",
              "      <td>0.068966</td>\n",
              "      <td>-1.955882</td>\n",
              "      <td>0.625</td>\n",
              "      <td>0.0</td>\n",
              "      <td>0.0</td>\n",
              "      <td>0.0</td>\n",
              "      <td>0.0</td>\n",
              "      <td>0.0</td>\n",
              "      <td>0.0</td>\n",
              "      <td>1.0</td>\n",
              "      <td>0.0</td>\n",
              "      <td>0.0</td>\n",
              "      <td>0.0</td>\n",
              "      <td>0.0</td>\n",
              "      <td>0.0</td>\n",
              "      <td>0.0</td>\n",
              "      <td>0.0</td>\n",
              "      <td>0.0</td>\n",
              "      <td>0.0</td>\n",
              "      <td>0.0</td>\n",
              "      <td>0.0</td>\n",
              "      <td>0.0</td>\n",
              "      <td>0.0</td>\n",
              "      <td>0.0</td>\n",
              "      <td>0.0</td>\n",
              "      <td>0.0</td>\n",
              "      <td>0.0</td>\n",
              "      <td>0.0</td>\n",
              "      <td>0.0</td>\n",
              "    </tr>\n",
              "  </tbody>\n",
              "</table>\n",
              "</div>"
            ],
            "text/plain": [
              "   year     price   mileage  ...  fuelType_Hybrid  fuelType_Other  fuelType_Petrol\n",
              "0  -0.5  0.776286  0.257936  ...              0.0             0.0              0.0\n",
              "1   0.0  0.775541  0.004718  ...              0.0             0.0              0.0\n",
              "2  -1.0  0.477703  0.414289  ...              0.0             0.0              0.0\n",
              "3   0.0  1.223415 -0.174718  ...              0.0             0.0              0.0\n",
              "4   0.0  0.999702  0.822056  ...              0.0             0.0              0.0\n",
              "\n",
              "[5 rows x 32 columns]"
            ]
          },
          "metadata": {},
          "execution_count": 148
        }
      ]
    },
    {
      "cell_type": "markdown",
      "metadata": {
        "id": "uBuZGlJH7z3e"
      },
      "source": [
        "#### Separación de Datos"
      ]
    },
    {
      "cell_type": "code",
      "metadata": {
        "scrolled": true,
        "id": "xVqCLqHs7z3e"
      },
      "source": [
        "#Separation\n",
        "X = df_ohe_RB.drop(['price'], axis=1)\n",
        "y = df_ohe_RB['price']\n",
        "X_train, X_test, y_train, y_test = train_test_split(X, y, test_size=0.2, random_state=22)"
      ],
      "execution_count": 149,
      "outputs": []
    },
    {
      "cell_type": "code",
      "metadata": {
        "id": "Fj0YEzSY7z3f",
        "colab": {
          "base_uri": "https://localhost:8080/"
        },
        "outputId": "aec47d06-58dd-4c2f-c8a0-338a2c94b84c"
      },
      "source": [
        "#Regression\n",
        "model_3 = LinearRegression()\n",
        "model_3.fit(X_train, y_train)\n",
        "#Evaluation\n",
        "preds = model_3.predict(X_test)\n",
        "rmse = np.sqrt(mean_squared_error(y_test, preds))\n",
        "rs = model_3.score(X_test, y_test)\n",
        "print(f'RMSE: {round(rmse,3)}')\n",
        "print(f'R^2: {round(rs,3)}\\n')\n",
        "comparison[\"Caso 3\"]=[rmse,rs]"
      ],
      "execution_count": 150,
      "outputs": [
        {
          "output_type": "stream",
          "name": "stdout",
          "text": [
            "RMSE: 0.277\n",
            "R^2: 0.917\n",
            "\n"
          ]
        }
      ]
    },
    {
      "cell_type": "markdown",
      "metadata": {
        "id": "AsI7AWkm7z3m"
      },
      "source": [
        "### Caso 4\n",
        "\n",
        "#### Codificación Ordinal\n",
        "Caso 4: Codificación Ordinal (RobustScaler)"
      ]
    },
    {
      "cell_type": "code",
      "metadata": {
        "id": "VS__ogic7z3n",
        "colab": {
          "base_uri": "https://localhost:8080/",
          "height": 204
        },
        "outputId": "2eca18db-0e72-47a7-f310-0a262f68c7ac"
      },
      "source": [
        "#Encoding\n",
        "oe_R = OrdinalEncoder()\n",
        "df_oe_R = df.copy()\n",
        "df_oe_R[str_categ] = oe_R.fit_transform(df_oe_R[str_categ])\n",
        "df_oe_R.head()"
      ],
      "execution_count": 151,
      "outputs": [
        {
          "output_type": "execute_result",
          "data": {
            "text/html": [
              "<div>\n",
              "<style scoped>\n",
              "    .dataframe tbody tr th:only-of-type {\n",
              "        vertical-align: middle;\n",
              "    }\n",
              "\n",
              "    .dataframe tbody tr th {\n",
              "        vertical-align: top;\n",
              "    }\n",
              "\n",
              "    .dataframe thead th {\n",
              "        text-align: right;\n",
              "    }\n",
              "</style>\n",
              "<table border=\"1\" class=\"dataframe\">\n",
              "  <thead>\n",
              "    <tr style=\"text-align: right;\">\n",
              "      <th></th>\n",
              "      <th>model</th>\n",
              "      <th>year</th>\n",
              "      <th>price</th>\n",
              "      <th>transmission</th>\n",
              "      <th>mileage</th>\n",
              "      <th>fuelType</th>\n",
              "      <th>tax</th>\n",
              "      <th>mpg</th>\n",
              "      <th>engineSize</th>\n",
              "    </tr>\n",
              "  </thead>\n",
              "  <tbody>\n",
              "    <tr>\n",
              "      <th>0</th>\n",
              "      <td>6.0</td>\n",
              "      <td>2016</td>\n",
              "      <td>16000</td>\n",
              "      <td>1.0</td>\n",
              "      <td>24089</td>\n",
              "      <td>3.0</td>\n",
              "      <td>265</td>\n",
              "      <td>36.2</td>\n",
              "      <td>2.0</td>\n",
              "    </tr>\n",
              "    <tr>\n",
              "      <th>1</th>\n",
              "      <td>6.0</td>\n",
              "      <td>2017</td>\n",
              "      <td>15995</td>\n",
              "      <td>1.0</td>\n",
              "      <td>18615</td>\n",
              "      <td>3.0</td>\n",
              "      <td>145</td>\n",
              "      <td>36.2</td>\n",
              "      <td>2.0</td>\n",
              "    </tr>\n",
              "    <tr>\n",
              "      <th>2</th>\n",
              "      <td>6.0</td>\n",
              "      <td>2015</td>\n",
              "      <td>13998</td>\n",
              "      <td>1.0</td>\n",
              "      <td>27469</td>\n",
              "      <td>3.0</td>\n",
              "      <td>265</td>\n",
              "      <td>36.2</td>\n",
              "      <td>2.0</td>\n",
              "    </tr>\n",
              "    <tr>\n",
              "      <th>3</th>\n",
              "      <td>6.0</td>\n",
              "      <td>2017</td>\n",
              "      <td>18998</td>\n",
              "      <td>1.0</td>\n",
              "      <td>14736</td>\n",
              "      <td>3.0</td>\n",
              "      <td>150</td>\n",
              "      <td>36.2</td>\n",
              "      <td>2.0</td>\n",
              "    </tr>\n",
              "    <tr>\n",
              "      <th>4</th>\n",
              "      <td>6.0</td>\n",
              "      <td>2017</td>\n",
              "      <td>17498</td>\n",
              "      <td>1.0</td>\n",
              "      <td>36284</td>\n",
              "      <td>3.0</td>\n",
              "      <td>145</td>\n",
              "      <td>36.2</td>\n",
              "      <td>2.0</td>\n",
              "    </tr>\n",
              "  </tbody>\n",
              "</table>\n",
              "</div>"
            ],
            "text/plain": [
              "   model  year  price  transmission  mileage  fuelType  tax   mpg  engineSize\n",
              "0    6.0  2016  16000           1.0    24089       3.0  265  36.2         2.0\n",
              "1    6.0  2017  15995           1.0    18615       3.0  145  36.2         2.0\n",
              "2    6.0  2015  13998           1.0    27469       3.0  265  36.2         2.0\n",
              "3    6.0  2017  18998           1.0    14736       3.0  150  36.2         2.0\n",
              "4    6.0  2017  17498           1.0    36284       3.0  145  36.2         2.0"
            ]
          },
          "metadata": {},
          "execution_count": 151
        }
      ]
    },
    {
      "cell_type": "code",
      "metadata": {
        "id": "WDej9ojS7z3n",
        "colab": {
          "base_uri": "https://localhost:8080/",
          "height": 221
        },
        "outputId": "76f945ad-1d1e-47b3-a674-70fa523f217c"
      },
      "source": [
        "##Transformation & Scale \n",
        "scaler = RobustScaler()\n",
        "df_oe_RT = scaler.fit_transform(df_oe_R)\n",
        "print(type(df_oe_RT))\n",
        "df_oe_RT = pd.DataFrame(df_oe_RT, columns = df_oe_R.columns)\n",
        "df_oe_RT.head()"
      ],
      "execution_count": 152,
      "outputs": [
        {
          "output_type": "stream",
          "name": "stdout",
          "text": [
            "<class 'numpy.ndarray'>\n"
          ]
        },
        {
          "output_type": "execute_result",
          "data": {
            "text/html": [
              "<div>\n",
              "<style scoped>\n",
              "    .dataframe tbody tr th:only-of-type {\n",
              "        vertical-align: middle;\n",
              "    }\n",
              "\n",
              "    .dataframe tbody tr th {\n",
              "        vertical-align: top;\n",
              "    }\n",
              "\n",
              "    .dataframe thead th {\n",
              "        text-align: right;\n",
              "    }\n",
              "</style>\n",
              "<table border=\"1\" class=\"dataframe\">\n",
              "  <thead>\n",
              "    <tr style=\"text-align: right;\">\n",
              "      <th></th>\n",
              "      <th>model</th>\n",
              "      <th>year</th>\n",
              "      <th>price</th>\n",
              "      <th>transmission</th>\n",
              "      <th>mileage</th>\n",
              "      <th>fuelType</th>\n",
              "      <th>tax</th>\n",
              "      <th>mpg</th>\n",
              "      <th>engineSize</th>\n",
              "    </tr>\n",
              "  </thead>\n",
              "  <tbody>\n",
              "    <tr>\n",
              "      <th>0</th>\n",
              "      <td>0.066667</td>\n",
              "      <td>-0.5</td>\n",
              "      <td>0.776286</td>\n",
              "      <td>0.0</td>\n",
              "      <td>0.257936</td>\n",
              "      <td>0.0</td>\n",
              "      <td>0.896552</td>\n",
              "      <td>-1.955882</td>\n",
              "      <td>0.625</td>\n",
              "    </tr>\n",
              "    <tr>\n",
              "      <th>1</th>\n",
              "      <td>0.066667</td>\n",
              "      <td>0.0</td>\n",
              "      <td>0.775541</td>\n",
              "      <td>0.0</td>\n",
              "      <td>0.004718</td>\n",
              "      <td>0.0</td>\n",
              "      <td>0.068966</td>\n",
              "      <td>-1.955882</td>\n",
              "      <td>0.625</td>\n",
              "    </tr>\n",
              "    <tr>\n",
              "      <th>2</th>\n",
              "      <td>0.066667</td>\n",
              "      <td>-1.0</td>\n",
              "      <td>0.477703</td>\n",
              "      <td>0.0</td>\n",
              "      <td>0.414289</td>\n",
              "      <td>0.0</td>\n",
              "      <td>0.896552</td>\n",
              "      <td>-1.955882</td>\n",
              "      <td>0.625</td>\n",
              "    </tr>\n",
              "    <tr>\n",
              "      <th>3</th>\n",
              "      <td>0.066667</td>\n",
              "      <td>0.0</td>\n",
              "      <td>1.223415</td>\n",
              "      <td>0.0</td>\n",
              "      <td>-0.174718</td>\n",
              "      <td>0.0</td>\n",
              "      <td>0.103448</td>\n",
              "      <td>-1.955882</td>\n",
              "      <td>0.625</td>\n",
              "    </tr>\n",
              "    <tr>\n",
              "      <th>4</th>\n",
              "      <td>0.066667</td>\n",
              "      <td>0.0</td>\n",
              "      <td>0.999702</td>\n",
              "      <td>0.0</td>\n",
              "      <td>0.822056</td>\n",
              "      <td>0.0</td>\n",
              "      <td>0.068966</td>\n",
              "      <td>-1.955882</td>\n",
              "      <td>0.625</td>\n",
              "    </tr>\n",
              "  </tbody>\n",
              "</table>\n",
              "</div>"
            ],
            "text/plain": [
              "      model  year     price  ...       tax       mpg  engineSize\n",
              "0  0.066667  -0.5  0.776286  ...  0.896552 -1.955882       0.625\n",
              "1  0.066667   0.0  0.775541  ...  0.068966 -1.955882       0.625\n",
              "2  0.066667  -1.0  0.477703  ...  0.896552 -1.955882       0.625\n",
              "3  0.066667   0.0  1.223415  ...  0.103448 -1.955882       0.625\n",
              "4  0.066667   0.0  0.999702  ...  0.068966 -1.955882       0.625\n",
              "\n",
              "[5 rows x 9 columns]"
            ]
          },
          "metadata": {},
          "execution_count": 152
        }
      ]
    },
    {
      "cell_type": "markdown",
      "metadata": {
        "id": "mdTJ-hla7z3n"
      },
      "source": [
        "#### Separación de Datos"
      ]
    },
    {
      "cell_type": "code",
      "metadata": {
        "scrolled": true,
        "id": "0HJatgYo7z3o",
        "colab": {
          "base_uri": "https://localhost:8080/"
        },
        "outputId": "bf56058b-9e13-454c-bf67-8ed756e7957f"
      },
      "source": [
        "#Separation\n",
        "X = df_oe_RT.drop(['price'], axis=1)\n",
        "y = df_oe_RT['price']\n",
        "X_train, X_test, y_train, y_test = train_test_split(X, y, test_size=0.2, random_state=22)\n",
        "#Regression\n",
        "model_4 = LinearRegression()\n",
        "model_4.fit(X_train, y_train)\n",
        "#Evaluation\n",
        "rmse = np.sqrt(mean_squared_error(y_test, model_4.predict(X_test)))\n",
        "rs = model_4.score(X_test, y_test)           \n",
        "print(f'RMSE: {round(rmse,3)}')\n",
        "print(f'R^2: {round(rs,3)}\\n')\n",
        "comparison[\"Caso 4\"]=[rmse,rs]\n"
      ],
      "execution_count": 153,
      "outputs": [
        {
          "output_type": "stream",
          "name": "stdout",
          "text": [
            "RMSE: 0.444\n",
            "R^2: 0.787\n",
            "\n"
          ]
        }
      ]
    },
    {
      "cell_type": "markdown",
      "metadata": {
        "id": "G3bJEe6C7z3o"
      },
      "source": [
        "### Caso 5\n",
        "\n",
        "#### Codificación Ordinal \n",
        "Caso 5: Entrenar con un 30% (Codificación Ordinal, MinMaxScaler)"
      ]
    },
    {
      "cell_type": "code",
      "metadata": {
        "id": "Etmk5wfV7z3o"
      },
      "source": [
        "#Function that make the encodig (ordinal) \n",
        "#and the transformation & scale of the data (MinMaxScale)\n",
        "def ordinal_Mixmax(df,str_categ):\n",
        "    #Encoding\n",
        "    oe_M = OrdinalEncoder()\n",
        "    df_oe_M = df.copy()\n",
        "    df_oe_M[str_categ] = oe_R.fit_transform(df_oe_R[str_categ])\n",
        "\n",
        "    #Transformation & Scale \n",
        "    scaler = MinMaxScaler()\n",
        "    df_oe_MT = scaler.fit_transform(df_oe_M)\n",
        "    df_oe_MT = pd.DataFrame(df_oe_MT, columns = df_oe_M.columns)\n",
        "    #Return a Data Frame with t&s data\n",
        "    return df_oe_MT"
      ],
      "execution_count": 154,
      "outputs": []
    },
    {
      "cell_type": "markdown",
      "metadata": {
        "id": "uumMND4D7z3o"
      },
      "source": [
        "#### Separación de Datos"
      ]
    },
    {
      "cell_type": "code",
      "metadata": {
        "id": "O-umiP247z3p"
      },
      "source": [
        "#Function that make the separation, regression and evaluation of the model\n",
        "#Need a DF a train rate\n",
        "def s_r_e(dfp, r_train):\n",
        "    X = dfp.drop(['price'], axis=1)\n",
        "    y = dfp['price']\n",
        "    X_train, X_test, y_train, y_test = train_test_split(X, y, test_size=(1-r_train), random_state=22)\n",
        "    #Regression\n",
        "    model_4 = LinearRegression()\n",
        "    model_4.fit(X_train, y_train)\n",
        "    #Evaluation\n",
        "    rmse = np.sqrt(mean_squared_error(y_test, model_4.predict(X_test)))\n",
        "    rs = model_4.score(X_test, y_test)   \n",
        "    results =pd.DataFrame()\n",
        "    results[\"RMSE\"] = [rmse]\n",
        "    results[\"RS\"] = [rs]\n",
        "    #Returns a Data Frame with rsme and R^2 results\n",
        "    return results"
      ],
      "execution_count": 155,
      "outputs": []
    },
    {
      "cell_type": "code",
      "metadata": {
        "id": "VQ3sj2Lo7z3p",
        "colab": {
          "base_uri": "https://localhost:8080/",
          "height": 80
        },
        "outputId": "7affab9e-33ef-4ccc-ca1a-9a5530633561"
      },
      "source": [
        "#Make the case\n",
        "data = ordinal_Mixmax(df,str_categ)\n",
        "solu=s_r_e(data, 0.3)\n",
        "display(solu.head())\n",
        "comparison[\"Caso 5\"]=solu.values[0]"
      ],
      "execution_count": 156,
      "outputs": [
        {
          "output_type": "display_data",
          "data": {
            "text/html": [
              "<div>\n",
              "<style scoped>\n",
              "    .dataframe tbody tr th:only-of-type {\n",
              "        vertical-align: middle;\n",
              "    }\n",
              "\n",
              "    .dataframe tbody tr th {\n",
              "        vertical-align: top;\n",
              "    }\n",
              "\n",
              "    .dataframe thead th {\n",
              "        text-align: right;\n",
              "    }\n",
              "</style>\n",
              "<table border=\"1\" class=\"dataframe\">\n",
              "  <thead>\n",
              "    <tr style=\"text-align: right;\">\n",
              "      <th></th>\n",
              "      <th>RMSE</th>\n",
              "      <th>RS</th>\n",
              "    </tr>\n",
              "  </thead>\n",
              "  <tbody>\n",
              "    <tr>\n",
              "      <th>0</th>\n",
              "      <td>0.049182</td>\n",
              "      <td>0.784548</td>\n",
              "    </tr>\n",
              "  </tbody>\n",
              "</table>\n",
              "</div>"
            ],
            "text/plain": [
              "       RMSE        RS\n",
              "0  0.049182  0.784548"
            ]
          },
          "metadata": {}
        }
      ]
    },
    {
      "cell_type": "markdown",
      "metadata": {
        "id": "7CcjpOfL7z3p"
      },
      "source": [
        "### Caso 6\n",
        "\n",
        "#### Codificación Ordinal\n",
        "Entrenar con un 55% (Codificación Ordinal, MinMaxScaler)"
      ]
    },
    {
      "cell_type": "code",
      "metadata": {
        "id": "zCCuHGPN7z3p"
      },
      "source": [
        "#Invoque the function above mentioned\n",
        "data=ordinal_Mixmax(df,str_categ)"
      ],
      "execution_count": 157,
      "outputs": []
    },
    {
      "cell_type": "markdown",
      "metadata": {
        "id": "vCm6LirV7z3p"
      },
      "source": [
        "#### Separación de Datos"
      ]
    },
    {
      "cell_type": "code",
      "metadata": {
        "scrolled": true,
        "id": "6OX6KaX97z3q",
        "colab": {
          "base_uri": "https://localhost:8080/",
          "height": 80
        },
        "outputId": "e21a2b4b-e20b-4004-fb61-f2535d3ad0ba"
      },
      "source": [
        "#Invoque the function above mentioned\n",
        "solu=s_r_e(data, 0.55)\n",
        "display(solu.head())\n",
        "comparison[\"Caso 6\"]=solu.values[0]"
      ],
      "execution_count": 158,
      "outputs": [
        {
          "output_type": "display_data",
          "data": {
            "text/html": [
              "<div>\n",
              "<style scoped>\n",
              "    .dataframe tbody tr th:only-of-type {\n",
              "        vertical-align: middle;\n",
              "    }\n",
              "\n",
              "    .dataframe tbody tr th {\n",
              "        vertical-align: top;\n",
              "    }\n",
              "\n",
              "    .dataframe thead th {\n",
              "        text-align: right;\n",
              "    }\n",
              "</style>\n",
              "<table border=\"1\" class=\"dataframe\">\n",
              "  <thead>\n",
              "    <tr style=\"text-align: right;\">\n",
              "      <th></th>\n",
              "      <th>RMSE</th>\n",
              "      <th>RS</th>\n",
              "    </tr>\n",
              "  </thead>\n",
              "  <tbody>\n",
              "    <tr>\n",
              "      <th>0</th>\n",
              "      <td>0.049749</td>\n",
              "      <td>0.784183</td>\n",
              "    </tr>\n",
              "  </tbody>\n",
              "</table>\n",
              "</div>"
            ],
            "text/plain": [
              "       RMSE        RS\n",
              "0  0.049749  0.784183"
            ]
          },
          "metadata": {}
        }
      ]
    },
    {
      "cell_type": "markdown",
      "metadata": {
        "id": "szLTI40p7z3q"
      },
      "source": [
        "### Caso 7\n",
        "\n",
        "#### Codificación Ordinal\n",
        "Entrenar con un 80% (Codificación Ordinal, MinMaxScaler)"
      ]
    },
    {
      "cell_type": "code",
      "metadata": {
        "id": "67yWWjBN7z3q"
      },
      "source": [
        "#Invoque the function above mentioned\n",
        "data=ordinal_Mixmax(df,str_categ)"
      ],
      "execution_count": 159,
      "outputs": []
    },
    {
      "cell_type": "markdown",
      "metadata": {
        "id": "Uz9q-s7v7z3r"
      },
      "source": [
        "#### Separación de Datos"
      ]
    },
    {
      "cell_type": "code",
      "metadata": {
        "id": "36kYn7Hr7z3r",
        "colab": {
          "base_uri": "https://localhost:8080/",
          "height": 80
        },
        "outputId": "24b15a9a-3d06-4505-e57c-98533d7fa957"
      },
      "source": [
        "#Invoque the function above mentioned\n",
        "solu=s_r_e(data, 0.8)\n",
        "display(solu.head())\n",
        "comparison[\"Caso 7\"]=solu.values[0]"
      ],
      "execution_count": 160,
      "outputs": [
        {
          "output_type": "display_data",
          "data": {
            "text/html": [
              "<div>\n",
              "<style scoped>\n",
              "    .dataframe tbody tr th:only-of-type {\n",
              "        vertical-align: middle;\n",
              "    }\n",
              "\n",
              "    .dataframe tbody tr th {\n",
              "        vertical-align: top;\n",
              "    }\n",
              "\n",
              "    .dataframe thead th {\n",
              "        text-align: right;\n",
              "    }\n",
              "</style>\n",
              "<table border=\"1\" class=\"dataframe\">\n",
              "  <thead>\n",
              "    <tr style=\"text-align: right;\">\n",
              "      <th></th>\n",
              "      <th>RMSE</th>\n",
              "      <th>RS</th>\n",
              "    </tr>\n",
              "  </thead>\n",
              "  <tbody>\n",
              "    <tr>\n",
              "      <th>0</th>\n",
              "      <td>0.050311</td>\n",
              "      <td>0.787472</td>\n",
              "    </tr>\n",
              "  </tbody>\n",
              "</table>\n",
              "</div>"
            ],
            "text/plain": [
              "       RMSE        RS\n",
              "0  0.050311  0.787472"
            ]
          },
          "metadata": {}
        }
      ]
    },
    {
      "cell_type": "markdown",
      "metadata": {
        "id": "y0jg1xTz7z3r"
      },
      "source": [
        "### Conclusiones"
      ]
    },
    {
      "cell_type": "code",
      "metadata": {
        "scrolled": false,
        "id": "rhC4zAeT7z3s",
        "colab": {
          "base_uri": "https://localhost:8080/",
          "height": 369
        },
        "outputId": "033edfa6-3644-494d-fbb7-f9021c207a05"
      },
      "source": [
        "#plt.figure(dpi=(300))\n",
        "fig, ax= plt.subplots(1, 2)\n",
        "fig.tight_layout(pad=4.0)\n",
        "fig.dpi = 100\n",
        "ax[0].set_title(\"RMSE\", fontsize= 15)\n",
        "ax[0].set_ylabel(\"RMSE\")\n",
        "ax[0].set_xlabel(\"Caso\")\n",
        "ax[0].plot(range(1,8),np.array(comparison.iloc[0][0:]),\"-h\",color='b')\n",
        "ax[1].plot(range(1,8),np.array(comparison.iloc[1][0:]),\"-h\",color='g')\n",
        "ax[1].set_ylabel(\"RS\")\n",
        "ax[1].set_xlabel(\"Caso\")\n",
        "ax[1].set_title(f\"$R^2$\", fontsize= 16)\n",
        "ax[1].legend(('Caso i','truco'))\n",
        "ax[0].grid()\n",
        "ax[1].grid()\n",
        "plt.show()"
      ],
      "execution_count": 161,
      "outputs": [
        {
          "output_type": "display_data",
          "data": {
            "image/png": "[encoded data removed]",
            "text/plain": [
              "<Figure size 600x400 with 2 Axes>"
            ]
          },
          "metadata": {
            "needs_background": "light"
          }
        }
      ]
    },
    {
      "cell_type": "markdown",
      "metadata": {
        "id": "pWdQeXsm7z3s"
      },
      "source": [
        "Con base en los valores obtenidos y mostrados en la gráfica, es posible concluir que la mejor representación del modelo (Con el menor RMSE y mejor ajuste $R^2$, mayor valor) es la configuración del caso uno. Es decir, en donde se codifican las variables mediante **One-hot encoding** y se realiza la transformación y escalamiento de MinMax $(x-x_{min})/(x_{max}-x_{min})$. Lo anterior se concluyó tras realizar el siguiente análisis:\n",
        "- Menor valor de RMSE: Caso 1  ***0.031***\n",
        "- Mayor valor de $R^2$: Caso 1  ***0.91707***\n"
      ]
    },
    {
      "cell_type": "code",
      "metadata": {
        "id": "pn0d5hoK7z3t",
        "colab": {
          "base_uri": "https://localhost:8080/",
          "height": 111
        },
        "outputId": "00100beb-5339-4a1b-ed0d-765e736a3979"
      },
      "source": [
        "display(comparison.head())\n"
      ],
      "execution_count": 162,
      "outputs": [
        {
          "output_type": "display_data",
          "data": {
            "text/html": [
              "<div>\n",
              "<style scoped>\n",
              "    .dataframe tbody tr th:only-of-type {\n",
              "        vertical-align: middle;\n",
              "    }\n",
              "\n",
              "    .dataframe tbody tr th {\n",
              "        vertical-align: top;\n",
              "    }\n",
              "\n",
              "    .dataframe thead th {\n",
              "        text-align: right;\n",
              "    }\n",
              "</style>\n",
              "<table border=\"1\" class=\"dataframe\">\n",
              "  <thead>\n",
              "    <tr style=\"text-align: right;\">\n",
              "      <th></th>\n",
              "      <th>Caso 1</th>\n",
              "      <th>Caso 2</th>\n",
              "      <th>Caso 3</th>\n",
              "      <th>Caso 4</th>\n",
              "      <th>Caso 5</th>\n",
              "      <th>Caso 6</th>\n",
              "      <th>Caso 7</th>\n",
              "    </tr>\n",
              "  </thead>\n",
              "  <tbody>\n",
              "    <tr>\n",
              "      <th>RMSE</th>\n",
              "      <td>0.031435</td>\n",
              "      <td>0.050311</td>\n",
              "      <td>0.277235</td>\n",
              "      <td>0.443797</td>\n",
              "      <td>0.049182</td>\n",
              "      <td>0.049749</td>\n",
              "      <td>0.050311</td>\n",
              "    </tr>\n",
              "    <tr>\n",
              "      <th>R^2</th>\n",
              "      <td>0.917072</td>\n",
              "      <td>0.787472</td>\n",
              "      <td>0.917064</td>\n",
              "      <td>0.787472</td>\n",
              "      <td>0.784548</td>\n",
              "      <td>0.784183</td>\n",
              "      <td>0.787472</td>\n",
              "    </tr>\n",
              "  </tbody>\n",
              "</table>\n",
              "</div>"
            ],
            "text/plain": [
              "        Caso 1    Caso 2    Caso 3    Caso 4    Caso 5    Caso 6    Caso 7\n",
              "RMSE  0.031435  0.050311  0.277235  0.443797  0.049182  0.049749  0.050311\n",
              "R^2   0.917072  0.787472  0.917064  0.787472  0.784548  0.784183  0.787472"
            ]
          },
          "metadata": {}
        }
      ]
    },
    {
      "cell_type": "markdown",
      "metadata": {
        "id": "xJda3jUo7z3t"
      },
      "source": [
        "## Parte 2\n",
        "\n",
        "Ahora usted debe desarrollar su propia implementación del método Descenso de Gradiente estocástico. Para esta ocasión debe utilizar una codificación One-Hot, un RobustScaler y realizar el entrenamiento a partir del 80% de los datos. Al final del entrenamiento, en la lista `errores` se deben tener los valores de la función de error para cada iteración y así poder observar el progreso gráficamente."
      ]
    },
    {
      "cell_type": "code",
      "metadata": {
        "id": "UsSZpP4l7z3u"
      },
      "source": [
        "df_ohe = pd.get_dummies(df)\n",
        "scaler = RobustScaler()\n",
        "df_scl_ohe = scaler.fit_transform(df_ohe)\n",
        "df_scl_ohe = pd.DataFrame(df_scl_ohe, columns = df_ohe.columns)\n",
        "\n",
        "X = df_scl_ohe.drop(['price'], axis=1)\n",
        "y = df_scl_ohe['price']\n",
        "X_train, X_test, y_train, y_test = train_test_split(X, y, test_size=0.2, random_state=22)"
      ],
      "execution_count": 163,
      "outputs": []
    },
    {
      "cell_type": "code",
      "metadata": {
        "scrolled": true,
        "colab": {
          "base_uri": "https://localhost:8080/"
        },
        "id": "ZBdn1AD07z3u",
        "outputId": "8c1c7df2-9335-42e8-94b9-e86f7a7102cc"
      },
      "source": [
        "X_train_array = np.c_[np.ones(X_train.values.shape[0]), X_train.values] \n",
        "y_train_array = y_train.values\n",
        "X_test_array = np.c_[np.ones(X_test.values.shape[0]), X_test.values]\n",
        "y_test_array = y_test.values\n",
        "\n",
        "#Inicialización de w\n",
        "w0 = np.random.rand(len(X_train_array[0])) # Inicializar aleatoriamente #\n",
        "w = w0.copy()\n",
        "#Selección de par aleatorio\n",
        "i = np.random.randint(0, len(X_train_array) - 1)\n",
        "xActual = X_train_array[i]\n",
        "yActual = y_train_array[i]\n",
        "#Inicialización de criterio de parada\n",
        "eps = 1e-8 # Se define un criterio de parada basado en el error en la predicción #\n",
        "error = float('inf') # Valor inicial, se debe actualizar en cada iteración #\n",
        "dif = float('inf') # Diferencia entre vectores de pesos w consecutivos #\n",
        "#Inicialización de valor de la tasa de aprendizaje \n",
        "tasa = 0.003# Selección de tasa de aprendizaje #\n",
        "#Lista para monitorear aprendizaje\n",
        "errores = [] # Agregar a esta lista los valores de la función de error en cada iteración #\n",
        "\n",
        "#Ciclo iterativo según algoritmo de descenso de gradiente\n",
        "while dif > eps:\n",
        "    #Dot product\n",
        "    g = np.dot(w, xActual)\n",
        "    #Error\n",
        "    error = g - yActual\n",
        "    errores.append(error)\n",
        "    #Update of candidates on t\n",
        "    w = w0 - tasa * error * xActual\n",
        "    #Infinity norm vector \n",
        "    dif = np.linalg.norm(w - w0, ord=np.inf)\n",
        "    #Update of candidates on t-1\n",
        "    w0 = w\n",
        "    #Take random one set to test on t+1\n",
        "    i = np.random.randint(0, len(X_train_array) - 1)\n",
        "    xActual = X_train_array[i]\n",
        "    yActual = y_train_array[i]\n",
        "print(w)"
      ],
      "execution_count": 164,
      "outputs": [
        {
          "output_type": "stream",
          "name": "stdout",
          "text": [
            "[ 0.03997665  0.20874053 -0.21434281 -0.12731111 -0.10373879  1.01780533\n",
            "  0.0777989   0.0453493   0.07893331  0.93584     0.28946428  0.84442199\n",
            "  0.59037729  0.32253224  0.54877132  1.3591073   0.39545504  0.84068924\n",
            "  0.16275122  0.79354556  0.75188737  0.03957934  0.71188687 -0.06670509\n",
            "  0.36674177  0.14430879  0.68081128  0.48958283  0.45080886  0.51871862\n",
            "  0.64482955  0.48897389]\n"
          ]
        }
      ]
    },
    {
      "cell_type": "markdown",
      "metadata": {
        "id": "uplds5xz7z3u"
      },
      "source": [
        "#### Evaluación de Modelo"
      ]
    },
    {
      "cell_type": "code",
      "metadata": {
        "colab": {
          "base_uri": "https://localhost:8080/"
        },
        "id": "g8AXTV1B7z3v",
        "outputId": "576dae58-7251-451b-ee74-85bded6ddba1"
      },
      "source": [
        "y_train_preds = np.zeros(y_train_array.shape)\n",
        "for i in range(X_train_array.shape[0]):\n",
        "    y_train_preds[i] = np.dot(w,X_train_array[i])\n",
        "\n",
        "y_test_preds = np.zeros(y_test_array.shape)\n",
        "for i in range(X_test_array.shape[0]):\n",
        "    y_test_preds[i] = np.dot(w,X_test_array[i])\n",
        "    \n",
        "r2_train = r2_score(y_train_array, y_train_preds)\n",
        "r2_test = r2_score(y_test_array, y_test_preds)\n",
        "print(f'R2 entrenamiento: {round(r2_train,4)}\\nR2 prueba: {round(r2_test,4)}')"
      ],
      "execution_count": 165,
      "outputs": [
        {
          "output_type": "stream",
          "name": "stdout",
          "text": [
            "R2 entrenamiento: 0.8925\n",
            "R2 prueba: 0.8874\n"
          ]
        }
      ]
    },
    {
      "cell_type": "markdown",
      "metadata": {
        "id": "70tzsjuO7z3v"
      },
      "source": [
        "### Gráfica de Resultados"
      ]
    },
    {
      "cell_type": "code",
      "metadata": {
        "scrolled": true,
        "colab": {
          "base_uri": "https://localhost:8080/",
          "height": 367
        },
        "id": "z_Mvlg147z3w",
        "outputId": "e72bbdc0-3ca5-4575-bb8e-f4504725443b"
      },
      "source": [
        "plt.figure(figsize=(15,5))\n",
        "plt.plot(errores)\n",
        "plt.xlabel('# Iteraciones')\n",
        "plt.ylabel('Función de Error')\n",
        "plt.title('Descenso de Gradiente Estocástico')"
      ],
      "execution_count": 166,
      "outputs": [
        {
          "output_type": "execute_result",
          "data": {
            "text/plain": [
              "Text(0.5, 1.0, 'Descenso de Gradiente Estocástico')"
            ]
          },
          "metadata": {},
          "execution_count": 166
        },
        {
          "output_type": "display_data",
          "data": {
            "image/png": "[encoded data removed]",
            "text/plain": [
              "<Figure size 1080x360 with 1 Axes>"
            ]
          },
          "metadata": {
            "needs_background": "light"
          }
        }
      ]
    },
    {
      "cell_type": "markdown",
      "metadata": {
        "id": "i8mZmvF67z3w"
      },
      "source": [
        "### Análisis de sensibilidad sobre la tasa de aprendizaje"
      ]
    },
    {
      "cell_type": "code",
      "metadata": {
        "id": "8zfpNxH67z3w"
      },
      "source": [
        "# Esto puede tomar 1 o 2 minutos\n",
        "contador = []  \n",
        "lr2 = []\n",
        "valores = np.arange(0.003, 0.02, 0.001)\n",
        "for ik in valores:\n",
        "    #Inicialización de w\n",
        "    w0 = np.random.rand(len(X_train_array[0])) # Inicializar aleatoriamente #\n",
        "    w = w0.copy()\n",
        "    #Selección de par aleatorio\n",
        "    i = np.random.randint(0, len(X_train_array) - 1)\n",
        "    xActual = X_train_array[i]\n",
        "    yActual = y_train_array[i]\n",
        "    #Inicialización de criterio de parada\n",
        "    eps = 1e-8 # Se define un criterio de parada basado en el error en la predicción #\n",
        "    error = float('inf') # Valor inicial, se debe actualizar en cada iteración #\n",
        "    dif = float('inf') # Diferencia entre vectores de pesos w consecutivos #\n",
        "    #Inicialización de valor de la tasa de aprendizaje \n",
        "    tasa = ik # Selección de tasa de aprendizaje #\n",
        "    #Lista para monitorear aprendizaje\n",
        "    errores = [] # Agregar a esta lista los valores de la función de error en cada iteración #\n",
        "\n",
        "    #Ciclo iterativo según algoritmo de descenso de gradiente\n",
        "    while dif > eps:\n",
        "        #Dot product\n",
        "        g = np.dot(w, xActual)\n",
        "        #Error\n",
        "        error = g - yActual\n",
        "        errores.append(error)\n",
        "        #Update of candidates on t\n",
        "        w = w0 - tasa * error * xActual\n",
        "        #Infinity norm vector \n",
        "        dif = np.linalg.norm(w - w0, ord=np.inf)\n",
        "        #Update of candidates on t-1\n",
        "        w0 = w\n",
        "        #Take random one set to test on t+1\n",
        "        i = np.random.randint(0, len(X_train_array) - 1)\n",
        "        xActual = X_train_array[i]\n",
        "        yActual = y_train_array[i]\n",
        "    contador.append(len(errores))\n",
        "    y_test_preds = np.zeros(y_test_array.shape)\n",
        "    for j in range(X_test_array.shape[0]):\n",
        "        y_test_preds[j] = np.dot(w,X_test_array[j])\n",
        "    lr2.append(r2_score(y_test_array, y_test_preds))"
      ],
      "execution_count": 167,
      "outputs": []
    },
    {
      "cell_type": "code",
      "metadata": {
        "id": "rps8oRcz7z3x",
        "colab": {
          "base_uri": "https://localhost:8080/",
          "height": 379
        },
        "outputId": "5937d2df-8d65-49d9-ea39-211cf2390405"
      },
      "source": [
        "plt.figure(figsize=(15,5),dpi=100)\n",
        "plt.plot(np.arange(0.003, 0.02, 0.001),contador)\n",
        "plt.grid()\n",
        "plt.xlabel(f'$n_k$')\n",
        "plt.ylabel('#Iteraciones')\n",
        "plt.title('Análisis de sensibilidad')"
      ],
      "execution_count": 168,
      "outputs": [
        {
          "output_type": "execute_result",
          "data": {
            "text/plain": [
              "Text(0.5, 1.0, 'Análisis de sensibilidad')"
            ]
          },
          "metadata": {},
          "execution_count": 168
        },
        {
          "output_type": "display_data",
          "data": {
            "image/png": "[encoded data removed]",
            "text/plain": [
              "<Figure size 1500x500 with 1 Axes>"
            ]
          },
          "metadata": {
            "needs_background": "light"
          }
        }
      ]
    },
    {
      "cell_type": "code",
      "metadata": {
        "scrolled": true,
        "id": "LRdNs9OB7z3y",
        "colab": {
          "base_uri": "https://localhost:8080/",
          "height": 382
        },
        "outputId": "dda5ecd9-ff83-4951-d678-64368fe99f6e"
      },
      "source": [
        "plt.figure(figsize=(15,5),dpi=100)\n",
        "plt.plot(np.arange(0.003, 0.02, 0.001),lr2)\n",
        "plt.grid()\n",
        "plt.xlabel(f'$n_k$')\n",
        "plt.ylabel(f'$R^2$')\n",
        "plt.title('Análisis de sensibilidad')"
      ],
      "execution_count": 169,
      "outputs": [
        {
          "output_type": "execute_result",
          "data": {
            "text/plain": [
              "Text(0.5, 1.0, 'Análisis de sensibilidad')"
            ]
          },
          "metadata": {},
          "execution_count": 169
        },
        {
          "output_type": "display_data",
          "data": {
            "image/png": "[encoded data removed]",
            "text/plain": [
              "<Figure size 1500x500 with 1 Axes>"
            ]
          },
          "metadata": {
            "needs_background": "light"
          }
        }
      ]
    },
    {
      "cell_type": "markdown",
      "metadata": {
        "id": "giud1pFs7z3z"
      },
      "source": [
        "Se puede evidenciar que el valor de la tasa de aprendizaje no produce una tendecia sobre el número requerido de iteraciones para hallar una solución que cumpla con el criterio de parada. Adicionalmente, pasa lo mismo respecto a la métrica de precisión $R^2$. Lo anterior, puede ser producto de la estocásticidad del algoritmo, dado que, iteración por iteración, se cambia el ***X*** inicial empleado para realizar el ajuste."
      ]
    }
  ]
}