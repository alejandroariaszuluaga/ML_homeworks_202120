{
  "nbformat": 4,
  "nbformat_minor": 0,
  "metadata": {
    "kernelspec": {
      "display_name": "Python 3",
      "language": "python",
      "name": "python3"
    },
    "language_info": {
      "codemirror_mode": {
        "name": "ipython",
        "version": 3
      },
      "file_extension": ".py",
      "mimetype": "text/x-python",
      "name": "python",
      "nbconvert_exporter": "python",
      "pygments_lexer": "ipython3",
      "version": "3.8.10"
    },
    "colab": {
      "name": "ML_hw1.ipynb",
      "provenance": [],
      "collapsed_sections": [
        "t4kZzQk5DGI1"
      ]
    }
  },
  "cells": [
    {
      "cell_type": "markdown",
      "metadata": {
        "id": "OM60GWt3SrwR"
      },
      "source": [
        "Jorge Mario Becerra\n",
        "\n",
        "Vhanessa Cardona"
      ]
    },
    {
      "cell_type": "markdown",
      "metadata": {
        "id": "jSHXalm8DGIw"
      },
      "source": [
        "# Regresión Lineal: Predicción de Precios de Autos\n",
        "\n",
        "Una tarea bastante común en el contexto de Machine Learning es la predicción de una variable según algunos descriptores. En esta ocasión partiremos de un dataset que involucra ocho variables (algunas numéricas, otras categóricas) y el precio de un automóvil, el cual se desea estimar empleando un modelo de regresión lineal.\n",
        "\n",
        "El objetivo de este cuaderno es que usted aprenda:\n",
        "- Algunas maneras de lidiar con descriptores categóricos no-numéricos.\n",
        "- Uso de la librería Pandas para manejar datos tabulares en formato .csv.\n",
        "- Uso de la librería Scikit Learn para preprocesamiento y entrenamiento de un modelo de regresión lineal.\n",
        "- Funcionamiento e implementación del algoritmo Descenso de Gradiente Estocástico para un modelo lineal básico.\n",
        "\n",
        "Debe completar las celdas vacías y seguir las instrucciones anotadas en el cuaderno.\n",
        "\n",
        "La fecha límite de entrega es el día **6 de septiembre** y se realizará a través de Bloque Neón."
      ]
    },
    {
      "cell_type": "code",
      "metadata": {
        "id": "QIchvabCDGIy"
      },
      "source": [
        "import numpy as np\n",
        "import pandas as pd\n",
        "\n",
        "import matplotlib.pyplot as plt\n",
        "from sklearn.metrics import mean_squared_error\n",
        "import sklearn\n",
        "import random\n",
        "from sklearn.preprocessing import OrdinalEncoder, MinMaxScaler, RobustScaler\n",
        "from sklearn.model_selection import train_test_split"
      ],
      "execution_count": null,
      "outputs": []
    },
    {
      "cell_type": "code",
      "metadata": {
        "id": "VMENFrV2DGI0",
        "colab": {
          "base_uri": "https://localhost:8080/",
          "height": 203
        },
        "outputId": "eb2b6969-eca3-4f86-bc03-5341ed376583"
      },
      "source": [
        "df = pd.read_csv('carDataset/toyota.csv')\n",
        "df.head()"
      ],
      "execution_count": null,
      "outputs": [
        {
          "output_type": "execute_result",
          "data": {
            "text/html": [
              "<div>\n",
              "<style scoped>\n",
              "    .dataframe tbody tr th:only-of-type {\n",
              "        vertical-align: middle;\n",
              "    }\n",
              "\n",
              "    .dataframe tbody tr th {\n",
              "        vertical-align: top;\n",
              "    }\n",
              "\n",
              "    .dataframe thead th {\n",
              "        text-align: right;\n",
              "    }\n",
              "</style>\n",
              "<table border=\"1\" class=\"dataframe\">\n",
              "  <thead>\n",
              "    <tr style=\"text-align: right;\">\n",
              "      <th></th>\n",
              "      <th>model</th>\n",
              "      <th>year</th>\n",
              "      <th>price</th>\n",
              "      <th>transmission</th>\n",
              "      <th>mileage</th>\n",
              "      <th>fuelType</th>\n",
              "      <th>tax</th>\n",
              "      <th>mpg</th>\n",
              "      <th>engineSize</th>\n",
              "    </tr>\n",
              "  </thead>\n",
              "  <tbody>\n",
              "    <tr>\n",
              "      <th>0</th>\n",
              "      <td>GT86</td>\n",
              "      <td>2016</td>\n",
              "      <td>16000</td>\n",
              "      <td>Manual</td>\n",
              "      <td>24089</td>\n",
              "      <td>Petrol</td>\n",
              "      <td>265</td>\n",
              "      <td>36.2</td>\n",
              "      <td>2.0</td>\n",
              "    </tr>\n",
              "    <tr>\n",
              "      <th>1</th>\n",
              "      <td>GT86</td>\n",
              "      <td>2017</td>\n",
              "      <td>15995</td>\n",
              "      <td>Manual</td>\n",
              "      <td>18615</td>\n",
              "      <td>Petrol</td>\n",
              "      <td>145</td>\n",
              "      <td>36.2</td>\n",
              "      <td>2.0</td>\n",
              "    </tr>\n",
              "    <tr>\n",
              "      <th>2</th>\n",
              "      <td>GT86</td>\n",
              "      <td>2015</td>\n",
              "      <td>13998</td>\n",
              "      <td>Manual</td>\n",
              "      <td>27469</td>\n",
              "      <td>Petrol</td>\n",
              "      <td>265</td>\n",
              "      <td>36.2</td>\n",
              "      <td>2.0</td>\n",
              "    </tr>\n",
              "    <tr>\n",
              "      <th>3</th>\n",
              "      <td>GT86</td>\n",
              "      <td>2017</td>\n",
              "      <td>18998</td>\n",
              "      <td>Manual</td>\n",
              "      <td>14736</td>\n",
              "      <td>Petrol</td>\n",
              "      <td>150</td>\n",
              "      <td>36.2</td>\n",
              "      <td>2.0</td>\n",
              "    </tr>\n",
              "    <tr>\n",
              "      <th>4</th>\n",
              "      <td>GT86</td>\n",
              "      <td>2017</td>\n",
              "      <td>17498</td>\n",
              "      <td>Manual</td>\n",
              "      <td>36284</td>\n",
              "      <td>Petrol</td>\n",
              "      <td>145</td>\n",
              "      <td>36.2</td>\n",
              "      <td>2.0</td>\n",
              "    </tr>\n",
              "  </tbody>\n",
              "</table>\n",
              "</div>"
            ],
            "text/plain": [
              "   model  year  price transmission  mileage fuelType  tax   mpg  engineSize\n",
              "0   GT86  2016  16000       Manual    24089   Petrol  265  36.2         2.0\n",
              "1   GT86  2017  15995       Manual    18615   Petrol  145  36.2         2.0\n",
              "2   GT86  2015  13998       Manual    27469   Petrol  265  36.2         2.0\n",
              "3   GT86  2017  18998       Manual    14736   Petrol  150  36.2         2.0\n",
              "4   GT86  2017  17498       Manual    36284   Petrol  145  36.2         2.0"
            ]
          },
          "metadata": {},
          "execution_count": 424
        }
      ]
    },
    {
      "cell_type": "code",
      "metadata": {
        "id": "Pp6L4JryDGI0",
        "colab": {
          "base_uri": "https://localhost:8080/"
        },
        "outputId": "a2c4fe3c-a6ea-4234-a3c9-2ff852a28d0c"
      },
      "source": [
        "df.info()"
      ],
      "execution_count": null,
      "outputs": [
        {
          "output_type": "stream",
          "name": "stdout",
          "text": [
            "<class 'pandas.core.frame.DataFrame'>\n",
            "RangeIndex: 6738 entries, 0 to 6737\n",
            "Data columns (total 9 columns):\n",
            " #   Column        Non-Null Count  Dtype  \n",
            "---  ------        --------------  -----  \n",
            " 0   model         6738 non-null   object \n",
            " 1   year          6738 non-null   int64  \n",
            " 2   price         6738 non-null   int64  \n",
            " 3   transmission  6738 non-null   object \n",
            " 4   mileage       6738 non-null   int64  \n",
            " 5   fuelType      6738 non-null   object \n",
            " 6   tax           6738 non-null   int64  \n",
            " 7   mpg           6738 non-null   float64\n",
            " 8   engineSize    6738 non-null   float64\n",
            "dtypes: float64(2), int64(4), object(3)\n",
            "memory usage: 473.9+ KB\n"
          ]
        }
      ]
    },
    {
      "cell_type": "markdown",
      "metadata": {
        "id": "OCToPpd6DGI0"
      },
      "source": [
        "Podemos observar algunas categorías numéricas, y otras de tipo _object_ (string)."
      ]
    },
    {
      "cell_type": "code",
      "metadata": {
        "id": "6oXbw0HoDGI0"
      },
      "source": [
        "categ = ['model','year','transmission','fuelType','engineSize']\n",
        "str_categ = ['model','transmission','fuelType']\n",
        "numer = ['price','mileage','tax','mpg']"
      ],
      "execution_count": null,
      "outputs": []
    },
    {
      "cell_type": "markdown",
      "metadata": {
        "id": "8Dq8YhUlDGI0"
      },
      "source": [
        "## Parte 1\n",
        "\n",
        "A continuación se realizó el ajuste de los datos para un modelo de regresión lineal definido mediante la librería SciKit-Learn. Se observan dos métricas de precisión, en este caso Error Cuadrático Medio (RMSE) y $R^2$ (puede leer más sobre esta métrica en [ScikitLearn: r2_score](https://scikit-learn.org/stable/modules/generated/sklearn.metrics.r2_score.html)). Se le entregarán los dos primeros casos como ejemplo, usted debe implementar los demás a partir de estos primeros."
      ]
    },
    {
      "cell_type": "markdown",
      "metadata": {
        "id": "t4kZzQk5DGI1"
      },
      "source": [
        "#### Casos:\n",
        "\n",
        "- Caso 1: Codificación One-Hot (MinMaxScaler)\n",
        "- Caso 2: Codificación Ordinal (MinMaxScaler)\n",
        "- Caso 3: Codificación One-Hot (RobustScaler)\n",
        "- Caso 4: Codificación Ordinal (RobustScaler)\n",
        "- Caso 5: Entrenar con un 30% (Codificación Ordinal, MinMaxScaler)\n",
        "- Caso 6: Entrenar con un 55% (Codificación Ordinal, MinMaxScaler)\n",
        "- Caso 7: Entrenar con un 80% (Codificación Ordinal, MinMaxScaler)\n",
        "\n",
        "Analice los resultados."
      ]
    },
    {
      "cell_type": "code",
      "metadata": {
        "id": "aXKaIqeYI-4C"
      },
      "source": [
        "casos = list()\n",
        "codificacion = list()\n",
        "escala = list()\n",
        "test = list()\n",
        "rmseResult = list()\n",
        "r2Result = list()"
      ],
      "execution_count": null,
      "outputs": []
    },
    {
      "cell_type": "markdown",
      "metadata": {
        "id": "uAoU01FrDGI1"
      },
      "source": [
        "### Caso 1:"
      ]
    },
    {
      "cell_type": "markdown",
      "metadata": {
        "id": "Q3Q0W9ZJDGI1"
      },
      "source": [
        "#### Codificación One-Hot\n",
        "\n",
        "Una de las formas de codificar categorías no numéricas se conoce como _one-hot encoding_, en donde se crea una columna para cada valor distinto que exista en la característica que estamos codificando y, para cada registro, marcar con un 1 la columna a la que pertenezca dicho registro y dejar las demás con 0.\n",
        "\n",
        "Igualmente, en este caso se realizará un escalamiento de los datos utilizando un `MinMaxScaler`, investigue más sobre esta función en: [ScikitLearn: MinMaxScaler](https://scikit-learn.org/stable/modules/generated/sklearn.preprocessing.MinMaxScaler.html)."
      ]
    },
    {
      "cell_type": "code",
      "metadata": {
        "scrolled": true,
        "id": "ApM12E8MDGI1",
        "colab": {
          "base_uri": "https://localhost:8080/",
          "height": 257
        },
        "outputId": "0586e943-a6f2-4d8c-f059-48e35cc582ac"
      },
      "source": [
        "df_ohe = pd.get_dummies(df)\n",
        "scaler = MinMaxScaler()\n",
        "df_scl_ohe = scaler.fit_transform(df_ohe)\n",
        "df_scl_ohe = pd.DataFrame(df_scl_ohe, columns = df_ohe.columns)\n",
        "df_scl_ohe.head()"
      ],
      "execution_count": null,
      "outputs": [
        {
          "output_type": "execute_result",
          "data": {
            "text/html": [
              "<div>\n",
              "<style scoped>\n",
              "    .dataframe tbody tr th:only-of-type {\n",
              "        vertical-align: middle;\n",
              "    }\n",
              "\n",
              "    .dataframe tbody tr th {\n",
              "        vertical-align: top;\n",
              "    }\n",
              "\n",
              "    .dataframe thead th {\n",
              "        text-align: right;\n",
              "    }\n",
              "</style>\n",
              "<table border=\"1\" class=\"dataframe\">\n",
              "  <thead>\n",
              "    <tr style=\"text-align: right;\">\n",
              "      <th></th>\n",
              "      <th>year</th>\n",
              "      <th>price</th>\n",
              "      <th>mileage</th>\n",
              "      <th>tax</th>\n",
              "      <th>mpg</th>\n",
              "      <th>engineSize</th>\n",
              "      <th>model_ Auris</th>\n",
              "      <th>model_ Avensis</th>\n",
              "      <th>model_ Aygo</th>\n",
              "      <th>model_ C-HR</th>\n",
              "      <th>model_ Camry</th>\n",
              "      <th>model_ Corolla</th>\n",
              "      <th>model_ GT86</th>\n",
              "      <th>model_ Hilux</th>\n",
              "      <th>model_ IQ</th>\n",
              "      <th>model_ Land Cruiser</th>\n",
              "      <th>model_ PROACE VERSO</th>\n",
              "      <th>model_ Prius</th>\n",
              "      <th>model_ RAV4</th>\n",
              "      <th>model_ Supra</th>\n",
              "      <th>model_ Urban Cruiser</th>\n",
              "      <th>model_ Verso</th>\n",
              "      <th>model_ Verso-S</th>\n",
              "      <th>model_ Yaris</th>\n",
              "      <th>transmission_Automatic</th>\n",
              "      <th>transmission_Manual</th>\n",
              "      <th>transmission_Other</th>\n",
              "      <th>transmission_Semi-Auto</th>\n",
              "      <th>fuelType_Diesel</th>\n",
              "      <th>fuelType_Hybrid</th>\n",
              "      <th>fuelType_Other</th>\n",
              "      <th>fuelType_Petrol</th>\n",
              "    </tr>\n",
              "  </thead>\n",
              "  <tbody>\n",
              "    <tr>\n",
              "      <th>0</th>\n",
              "      <td>0.818182</td>\n",
              "      <td>0.256150</td>\n",
              "      <td>0.138100</td>\n",
              "      <td>0.469027</td>\n",
              "      <td>0.143842</td>\n",
              "      <td>0.444444</td>\n",
              "      <td>0.0</td>\n",
              "      <td>0.0</td>\n",
              "      <td>0.0</td>\n",
              "      <td>0.0</td>\n",
              "      <td>0.0</td>\n",
              "      <td>0.0</td>\n",
              "      <td>1.0</td>\n",
              "      <td>0.0</td>\n",
              "      <td>0.0</td>\n",
              "      <td>0.0</td>\n",
              "      <td>0.0</td>\n",
              "      <td>0.0</td>\n",
              "      <td>0.0</td>\n",
              "      <td>0.0</td>\n",
              "      <td>0.0</td>\n",
              "      <td>0.0</td>\n",
              "      <td>0.0</td>\n",
              "      <td>0.0</td>\n",
              "      <td>0.0</td>\n",
              "      <td>1.0</td>\n",
              "      <td>0.0</td>\n",
              "      <td>0.0</td>\n",
              "      <td>0.0</td>\n",
              "      <td>0.0</td>\n",
              "      <td>0.0</td>\n",
              "      <td>1.0</td>\n",
              "    </tr>\n",
              "    <tr>\n",
              "      <th>1</th>\n",
              "      <td>0.863636</td>\n",
              "      <td>0.256066</td>\n",
              "      <td>0.106716</td>\n",
              "      <td>0.256637</td>\n",
              "      <td>0.143842</td>\n",
              "      <td>0.444444</td>\n",
              "      <td>0.0</td>\n",
              "      <td>0.0</td>\n",
              "      <td>0.0</td>\n",
              "      <td>0.0</td>\n",
              "      <td>0.0</td>\n",
              "      <td>0.0</td>\n",
              "      <td>1.0</td>\n",
              "      <td>0.0</td>\n",
              "      <td>0.0</td>\n",
              "      <td>0.0</td>\n",
              "      <td>0.0</td>\n",
              "      <td>0.0</td>\n",
              "      <td>0.0</td>\n",
              "      <td>0.0</td>\n",
              "      <td>0.0</td>\n",
              "      <td>0.0</td>\n",
              "      <td>0.0</td>\n",
              "      <td>0.0</td>\n",
              "      <td>0.0</td>\n",
              "      <td>1.0</td>\n",
              "      <td>0.0</td>\n",
              "      <td>0.0</td>\n",
              "      <td>0.0</td>\n",
              "      <td>0.0</td>\n",
              "      <td>0.0</td>\n",
              "      <td>1.0</td>\n",
              "    </tr>\n",
              "    <tr>\n",
              "      <th>2</th>\n",
              "      <td>0.772727</td>\n",
              "      <td>0.222301</td>\n",
              "      <td>0.157479</td>\n",
              "      <td>0.469027</td>\n",
              "      <td>0.143842</td>\n",
              "      <td>0.444444</td>\n",
              "      <td>0.0</td>\n",
              "      <td>0.0</td>\n",
              "      <td>0.0</td>\n",
              "      <td>0.0</td>\n",
              "      <td>0.0</td>\n",
              "      <td>0.0</td>\n",
              "      <td>1.0</td>\n",
              "      <td>0.0</td>\n",
              "      <td>0.0</td>\n",
              "      <td>0.0</td>\n",
              "      <td>0.0</td>\n",
              "      <td>0.0</td>\n",
              "      <td>0.0</td>\n",
              "      <td>0.0</td>\n",
              "      <td>0.0</td>\n",
              "      <td>0.0</td>\n",
              "      <td>0.0</td>\n",
              "      <td>0.0</td>\n",
              "      <td>0.0</td>\n",
              "      <td>1.0</td>\n",
              "      <td>0.0</td>\n",
              "      <td>0.0</td>\n",
              "      <td>0.0</td>\n",
              "      <td>0.0</td>\n",
              "      <td>0.0</td>\n",
              "      <td>1.0</td>\n",
              "    </tr>\n",
              "    <tr>\n",
              "      <th>3</th>\n",
              "      <td>0.863636</td>\n",
              "      <td>0.306839</td>\n",
              "      <td>0.084476</td>\n",
              "      <td>0.265487</td>\n",
              "      <td>0.143842</td>\n",
              "      <td>0.444444</td>\n",
              "      <td>0.0</td>\n",
              "      <td>0.0</td>\n",
              "      <td>0.0</td>\n",
              "      <td>0.0</td>\n",
              "      <td>0.0</td>\n",
              "      <td>0.0</td>\n",
              "      <td>1.0</td>\n",
              "      <td>0.0</td>\n",
              "      <td>0.0</td>\n",
              "      <td>0.0</td>\n",
              "      <td>0.0</td>\n",
              "      <td>0.0</td>\n",
              "      <td>0.0</td>\n",
              "      <td>0.0</td>\n",
              "      <td>0.0</td>\n",
              "      <td>0.0</td>\n",
              "      <td>0.0</td>\n",
              "      <td>0.0</td>\n",
              "      <td>0.0</td>\n",
              "      <td>1.0</td>\n",
              "      <td>0.0</td>\n",
              "      <td>0.0</td>\n",
              "      <td>0.0</td>\n",
              "      <td>0.0</td>\n",
              "      <td>0.0</td>\n",
              "      <td>1.0</td>\n",
              "    </tr>\n",
              "    <tr>\n",
              "      <th>4</th>\n",
              "      <td>0.863636</td>\n",
              "      <td>0.281478</td>\n",
              "      <td>0.208019</td>\n",
              "      <td>0.256637</td>\n",
              "      <td>0.143842</td>\n",
              "      <td>0.444444</td>\n",
              "      <td>0.0</td>\n",
              "      <td>0.0</td>\n",
              "      <td>0.0</td>\n",
              "      <td>0.0</td>\n",
              "      <td>0.0</td>\n",
              "      <td>0.0</td>\n",
              "      <td>1.0</td>\n",
              "      <td>0.0</td>\n",
              "      <td>0.0</td>\n",
              "      <td>0.0</td>\n",
              "      <td>0.0</td>\n",
              "      <td>0.0</td>\n",
              "      <td>0.0</td>\n",
              "      <td>0.0</td>\n",
              "      <td>0.0</td>\n",
              "      <td>0.0</td>\n",
              "      <td>0.0</td>\n",
              "      <td>0.0</td>\n",
              "      <td>0.0</td>\n",
              "      <td>1.0</td>\n",
              "      <td>0.0</td>\n",
              "      <td>0.0</td>\n",
              "      <td>0.0</td>\n",
              "      <td>0.0</td>\n",
              "      <td>0.0</td>\n",
              "      <td>1.0</td>\n",
              "    </tr>\n",
              "  </tbody>\n",
              "</table>\n",
              "</div>"
            ],
            "text/plain": [
              "       year     price  ...  fuelType_Other  fuelType_Petrol\n",
              "0  0.818182  0.256150  ...             0.0              1.0\n",
              "1  0.863636  0.256066  ...             0.0              1.0\n",
              "2  0.772727  0.222301  ...             0.0              1.0\n",
              "3  0.863636  0.306839  ...             0.0              1.0\n",
              "4  0.863636  0.281478  ...             0.0              1.0\n",
              "\n",
              "[5 rows x 32 columns]"
            ]
          },
          "metadata": {},
          "execution_count": 428
        }
      ]
    },
    {
      "cell_type": "markdown",
      "metadata": {
        "id": "w19OEmwjDGI2"
      },
      "source": [
        "#### Separación de Datos"
      ]
    },
    {
      "cell_type": "code",
      "metadata": {
        "id": "_uVgP6qkDGI2"
      },
      "source": [
        "X = df_scl_ohe.drop(['price'], axis=1)\n",
        "y = df_scl_ohe['price']\n",
        "X_train, X_test, y_train, y_test = train_test_split(X, y, test_size=0.2, random_state=22)"
      ],
      "execution_count": null,
      "outputs": []
    },
    {
      "cell_type": "code",
      "metadata": {
        "id": "A6tWq9XeDGI2",
        "colab": {
          "base_uri": "https://localhost:8080/"
        },
        "outputId": "3d8634be-977e-4cfb-9753-d7e5690b86d7"
      },
      "source": [
        "from sklearn.metrics import mean_squared_error, r2_score\n",
        "from sklearn.linear_model import LinearRegression\n",
        "\n",
        "model_1 = LinearRegression()\n",
        "\n",
        "model_1.fit(X_train, y_train)\n",
        "preds = model_1.predict(X_test)\n",
        "rmse = np.sqrt(mean_squared_error(y_test, preds))\n",
        "rs = model_1.score(X_test, y_test)\n",
        "print(f'RMSE: {round(rmse,3)}')\n",
        "print(f'R^2: {round(rs,3)}\\n')\n",
        "\n",
        "casos.append(\"1\")\n",
        "codificacion.append(\"One-Hot\")\n",
        "escala.append(\"MinMaxScaler\")\n",
        "test.append(\"20%\")\n",
        "rmseResult.append(round(rmse,3))\n",
        "r2Result.append(round(rs,3))"
      ],
      "execution_count": null,
      "outputs": [
        {
          "output_type": "stream",
          "name": "stdout",
          "text": [
            "RMSE: 0.031\n",
            "R^2: 0.917\n",
            "\n"
          ]
        }
      ]
    },
    {
      "cell_type": "markdown",
      "metadata": {
        "id": "dPN_eg8IDGI2"
      },
      "source": [
        "### Caso 2\n",
        "\n",
        "#### Codificación Ordinal\n",
        "\n",
        "This results in a single column of integers (0 to n_categories - 1) per categorical feature"
      ]
    },
    {
      "cell_type": "code",
      "metadata": {
        "id": "9ZtFR-8oDGI2",
        "colab": {
          "base_uri": "https://localhost:8080/",
          "height": 203
        },
        "outputId": "14500863-22d2-4a4e-836a-4ba9c79bc686"
      },
      "source": [
        "oe = OrdinalEncoder()\n",
        "df_oe = df.copy()\n",
        "df_oe[str_categ] = oe.fit_transform(df_oe[str_categ])\n",
        "\n",
        "x = df_oe.values #returns a numpy array\n",
        "min_max_scaler = MinMaxScaler()\n",
        "x_scaled = min_max_scaler.fit_transform(x)\n",
        "df_scl_oe = pd.DataFrame(x_scaled, columns=df_oe.columns)\n",
        "df_scl_oe.head()"
      ],
      "execution_count": null,
      "outputs": [
        {
          "output_type": "execute_result",
          "data": {
            "text/html": [
              "<div>\n",
              "<style scoped>\n",
              "    .dataframe tbody tr th:only-of-type {\n",
              "        vertical-align: middle;\n",
              "    }\n",
              "\n",
              "    .dataframe tbody tr th {\n",
              "        vertical-align: top;\n",
              "    }\n",
              "\n",
              "    .dataframe thead th {\n",
              "        text-align: right;\n",
              "    }\n",
              "</style>\n",
              "<table border=\"1\" class=\"dataframe\">\n",
              "  <thead>\n",
              "    <tr style=\"text-align: right;\">\n",
              "      <th></th>\n",
              "      <th>model</th>\n",
              "      <th>year</th>\n",
              "      <th>price</th>\n",
              "      <th>transmission</th>\n",
              "      <th>mileage</th>\n",
              "      <th>fuelType</th>\n",
              "      <th>tax</th>\n",
              "      <th>mpg</th>\n",
              "      <th>engineSize</th>\n",
              "    </tr>\n",
              "  </thead>\n",
              "  <tbody>\n",
              "    <tr>\n",
              "      <th>0</th>\n",
              "      <td>0.352941</td>\n",
              "      <td>0.818182</td>\n",
              "      <td>0.256150</td>\n",
              "      <td>0.333333</td>\n",
              "      <td>0.138100</td>\n",
              "      <td>1.0</td>\n",
              "      <td>0.469027</td>\n",
              "      <td>0.143842</td>\n",
              "      <td>0.444444</td>\n",
              "    </tr>\n",
              "    <tr>\n",
              "      <th>1</th>\n",
              "      <td>0.352941</td>\n",
              "      <td>0.863636</td>\n",
              "      <td>0.256066</td>\n",
              "      <td>0.333333</td>\n",
              "      <td>0.106716</td>\n",
              "      <td>1.0</td>\n",
              "      <td>0.256637</td>\n",
              "      <td>0.143842</td>\n",
              "      <td>0.444444</td>\n",
              "    </tr>\n",
              "    <tr>\n",
              "      <th>2</th>\n",
              "      <td>0.352941</td>\n",
              "      <td>0.772727</td>\n",
              "      <td>0.222301</td>\n",
              "      <td>0.333333</td>\n",
              "      <td>0.157479</td>\n",
              "      <td>1.0</td>\n",
              "      <td>0.469027</td>\n",
              "      <td>0.143842</td>\n",
              "      <td>0.444444</td>\n",
              "    </tr>\n",
              "    <tr>\n",
              "      <th>3</th>\n",
              "      <td>0.352941</td>\n",
              "      <td>0.863636</td>\n",
              "      <td>0.306839</td>\n",
              "      <td>0.333333</td>\n",
              "      <td>0.084476</td>\n",
              "      <td>1.0</td>\n",
              "      <td>0.265487</td>\n",
              "      <td>0.143842</td>\n",
              "      <td>0.444444</td>\n",
              "    </tr>\n",
              "    <tr>\n",
              "      <th>4</th>\n",
              "      <td>0.352941</td>\n",
              "      <td>0.863636</td>\n",
              "      <td>0.281478</td>\n",
              "      <td>0.333333</td>\n",
              "      <td>0.208019</td>\n",
              "      <td>1.0</td>\n",
              "      <td>0.256637</td>\n",
              "      <td>0.143842</td>\n",
              "      <td>0.444444</td>\n",
              "    </tr>\n",
              "  </tbody>\n",
              "</table>\n",
              "</div>"
            ],
            "text/plain": [
              "      model      year     price  ...       tax       mpg  engineSize\n",
              "0  0.352941  0.818182  0.256150  ...  0.469027  0.143842    0.444444\n",
              "1  0.352941  0.863636  0.256066  ...  0.256637  0.143842    0.444444\n",
              "2  0.352941  0.772727  0.222301  ...  0.469027  0.143842    0.444444\n",
              "3  0.352941  0.863636  0.306839  ...  0.265487  0.143842    0.444444\n",
              "4  0.352941  0.863636  0.281478  ...  0.256637  0.143842    0.444444\n",
              "\n",
              "[5 rows x 9 columns]"
            ]
          },
          "metadata": {},
          "execution_count": 431
        }
      ]
    },
    {
      "cell_type": "markdown",
      "metadata": {
        "id": "u0KxGpiFDGI2"
      },
      "source": [
        "#### Separación de Datos"
      ]
    },
    {
      "cell_type": "code",
      "metadata": {
        "scrolled": true,
        "id": "i3FVMRV2DGI2"
      },
      "source": [
        "X = df_scl_oe.drop(['price'], axis=1)\n",
        "y = df_scl_oe['price']\n",
        "X_train, X_test, y_train, y_test = train_test_split(X, y, test_size=0.2, random_state=22)"
      ],
      "execution_count": null,
      "outputs": []
    },
    {
      "cell_type": "code",
      "metadata": {
        "id": "EkBIkKTKDGI3",
        "colab": {
          "base_uri": "https://localhost:8080/"
        },
        "outputId": "e2e706e9-108a-408b-822d-740bab4d2ac8"
      },
      "source": [
        "model_2 = LinearRegression()\n",
        "\n",
        "model_2.fit(X_train, y_train)\n",
        "preds = model_2.predict(X_test)\n",
        "rmse = np.sqrt(mean_squared_error(y_test, preds))\n",
        "rs = model_2.score(X_test, y_test)\n",
        "print(f'RMSE: {round(rmse,3)}')\n",
        "print(f'R^2: {round(rs,3)}\\n')\n",
        "\n",
        "casos.append(\"2\")\n",
        "codificacion.append(\"Ordinal\")\n",
        "escala.append(\"MinMaxScaler\")\n",
        "test.append(\"20%\")\n",
        "rmseResult.append(round(rmse,3))\n",
        "r2Result.append(round(rs,3))"
      ],
      "execution_count": null,
      "outputs": [
        {
          "output_type": "stream",
          "name": "stdout",
          "text": [
            "RMSE: 0.05\n",
            "R^2: 0.787\n",
            "\n"
          ]
        }
      ]
    },
    {
      "cell_type": "markdown",
      "metadata": {
        "id": "RYLq08ytDYFg"
      },
      "source": [
        "Al hacer uso de la codificación ordinal, se asignan números enteros para identificar cada opción dentro de una columna categórica. Esto puede afectar al modelo ya que se asignan valores más altos a ciertas categorías lo cual implica una relación de orden (superioridad) que no representa el caso del problema.\n",
        "\n",
        "\n",
        "A diferencia de la codificación one-hot la crea una nueva columna por cada categoría haciendo que no exista una relación de orden.\n",
        "\n",
        "\n",
        "Se evidencia que one-hot presenta mejores métricas de precisión."
      ]
    },
    {
      "cell_type": "markdown",
      "metadata": {
        "id": "QisCp-9uDGI3"
      },
      "source": [
        "### Caso 3\n",
        "\n",
        "#### Codificación One-Hot\n",
        "\n",
        "Se realiza la codificación one-hot para crear tantas columnas como categorías existan y se procede a transformar los datos numéricos con RobustScaler.\n",
        "\n",
        "RobustScaler se basa en las estadísticas de los datos para transformarlos (cuantiles, media) y además es robusto cuando se tienen outliers. "
      ]
    },
    {
      "cell_type": "code",
      "metadata": {
        "id": "VnkuRe3GDGI3",
        "colab": {
          "base_uri": "https://localhost:8080/",
          "height": 257
        },
        "outputId": "0ccfc958-a5ef-4abf-eb3a-421866787a9c"
      },
      "source": [
        "df_ohe = pd.get_dummies(df)\n",
        "scaler = RobustScaler()\n",
        "df_scl_ohe = scaler.fit_transform(df_ohe)\n",
        "df_scl_ohe = pd.DataFrame(df_scl_ohe, columns = df_ohe.columns)\n",
        "df_scl_ohe.head()"
      ],
      "execution_count": null,
      "outputs": [
        {
          "output_type": "execute_result",
          "data": {
            "text/html": [
              "<div>\n",
              "<style scoped>\n",
              "    .dataframe tbody tr th:only-of-type {\n",
              "        vertical-align: middle;\n",
              "    }\n",
              "\n",
              "    .dataframe tbody tr th {\n",
              "        vertical-align: top;\n",
              "    }\n",
              "\n",
              "    .dataframe thead th {\n",
              "        text-align: right;\n",
              "    }\n",
              "</style>\n",
              "<table border=\"1\" class=\"dataframe\">\n",
              "  <thead>\n",
              "    <tr style=\"text-align: right;\">\n",
              "      <th></th>\n",
              "      <th>year</th>\n",
              "      <th>price</th>\n",
              "      <th>mileage</th>\n",
              "      <th>tax</th>\n",
              "      <th>mpg</th>\n",
              "      <th>engineSize</th>\n",
              "      <th>model_ Auris</th>\n",
              "      <th>model_ Avensis</th>\n",
              "      <th>model_ Aygo</th>\n",
              "      <th>model_ C-HR</th>\n",
              "      <th>model_ Camry</th>\n",
              "      <th>model_ Corolla</th>\n",
              "      <th>model_ GT86</th>\n",
              "      <th>model_ Hilux</th>\n",
              "      <th>model_ IQ</th>\n",
              "      <th>model_ Land Cruiser</th>\n",
              "      <th>model_ PROACE VERSO</th>\n",
              "      <th>model_ Prius</th>\n",
              "      <th>model_ RAV4</th>\n",
              "      <th>model_ Supra</th>\n",
              "      <th>model_ Urban Cruiser</th>\n",
              "      <th>model_ Verso</th>\n",
              "      <th>model_ Verso-S</th>\n",
              "      <th>model_ Yaris</th>\n",
              "      <th>transmission_Automatic</th>\n",
              "      <th>transmission_Manual</th>\n",
              "      <th>transmission_Other</th>\n",
              "      <th>transmission_Semi-Auto</th>\n",
              "      <th>fuelType_Diesel</th>\n",
              "      <th>fuelType_Hybrid</th>\n",
              "      <th>fuelType_Other</th>\n",
              "      <th>fuelType_Petrol</th>\n",
              "    </tr>\n",
              "  </thead>\n",
              "  <tbody>\n",
              "    <tr>\n",
              "      <th>0</th>\n",
              "      <td>-0.5</td>\n",
              "      <td>0.776286</td>\n",
              "      <td>0.257936</td>\n",
              "      <td>0.896552</td>\n",
              "      <td>-1.955882</td>\n",
              "      <td>0.625</td>\n",
              "      <td>0.0</td>\n",
              "      <td>0.0</td>\n",
              "      <td>0.0</td>\n",
              "      <td>0.0</td>\n",
              "      <td>0.0</td>\n",
              "      <td>0.0</td>\n",
              "      <td>1.0</td>\n",
              "      <td>0.0</td>\n",
              "      <td>0.0</td>\n",
              "      <td>0.0</td>\n",
              "      <td>0.0</td>\n",
              "      <td>0.0</td>\n",
              "      <td>0.0</td>\n",
              "      <td>0.0</td>\n",
              "      <td>0.0</td>\n",
              "      <td>0.0</td>\n",
              "      <td>0.0</td>\n",
              "      <td>0.0</td>\n",
              "      <td>0.0</td>\n",
              "      <td>0.0</td>\n",
              "      <td>0.0</td>\n",
              "      <td>0.0</td>\n",
              "      <td>0.0</td>\n",
              "      <td>0.0</td>\n",
              "      <td>0.0</td>\n",
              "      <td>0.0</td>\n",
              "    </tr>\n",
              "    <tr>\n",
              "      <th>1</th>\n",
              "      <td>0.0</td>\n",
              "      <td>0.775541</td>\n",
              "      <td>0.004718</td>\n",
              "      <td>0.068966</td>\n",
              "      <td>-1.955882</td>\n",
              "      <td>0.625</td>\n",
              "      <td>0.0</td>\n",
              "      <td>0.0</td>\n",
              "      <td>0.0</td>\n",
              "      <td>0.0</td>\n",
              "      <td>0.0</td>\n",
              "      <td>0.0</td>\n",
              "      <td>1.0</td>\n",
              "      <td>0.0</td>\n",
              "      <td>0.0</td>\n",
              "      <td>0.0</td>\n",
              "      <td>0.0</td>\n",
              "      <td>0.0</td>\n",
              "      <td>0.0</td>\n",
              "      <td>0.0</td>\n",
              "      <td>0.0</td>\n",
              "      <td>0.0</td>\n",
              "      <td>0.0</td>\n",
              "      <td>0.0</td>\n",
              "      <td>0.0</td>\n",
              "      <td>0.0</td>\n",
              "      <td>0.0</td>\n",
              "      <td>0.0</td>\n",
              "      <td>0.0</td>\n",
              "      <td>0.0</td>\n",
              "      <td>0.0</td>\n",
              "      <td>0.0</td>\n",
              "    </tr>\n",
              "    <tr>\n",
              "      <th>2</th>\n",
              "      <td>-1.0</td>\n",
              "      <td>0.477703</td>\n",
              "      <td>0.414289</td>\n",
              "      <td>0.896552</td>\n",
              "      <td>-1.955882</td>\n",
              "      <td>0.625</td>\n",
              "      <td>0.0</td>\n",
              "      <td>0.0</td>\n",
              "      <td>0.0</td>\n",
              "      <td>0.0</td>\n",
              "      <td>0.0</td>\n",
              "      <td>0.0</td>\n",
              "      <td>1.0</td>\n",
              "      <td>0.0</td>\n",
              "      <td>0.0</td>\n",
              "      <td>0.0</td>\n",
              "      <td>0.0</td>\n",
              "      <td>0.0</td>\n",
              "      <td>0.0</td>\n",
              "      <td>0.0</td>\n",
              "      <td>0.0</td>\n",
              "      <td>0.0</td>\n",
              "      <td>0.0</td>\n",
              "      <td>0.0</td>\n",
              "      <td>0.0</td>\n",
              "      <td>0.0</td>\n",
              "      <td>0.0</td>\n",
              "      <td>0.0</td>\n",
              "      <td>0.0</td>\n",
              "      <td>0.0</td>\n",
              "      <td>0.0</td>\n",
              "      <td>0.0</td>\n",
              "    </tr>\n",
              "    <tr>\n",
              "      <th>3</th>\n",
              "      <td>0.0</td>\n",
              "      <td>1.223415</td>\n",
              "      <td>-0.174718</td>\n",
              "      <td>0.103448</td>\n",
              "      <td>-1.955882</td>\n",
              "      <td>0.625</td>\n",
              "      <td>0.0</td>\n",
              "      <td>0.0</td>\n",
              "      <td>0.0</td>\n",
              "      <td>0.0</td>\n",
              "      <td>0.0</td>\n",
              "      <td>0.0</td>\n",
              "      <td>1.0</td>\n",
              "      <td>0.0</td>\n",
              "      <td>0.0</td>\n",
              "      <td>0.0</td>\n",
              "      <td>0.0</td>\n",
              "      <td>0.0</td>\n",
              "      <td>0.0</td>\n",
              "      <td>0.0</td>\n",
              "      <td>0.0</td>\n",
              "      <td>0.0</td>\n",
              "      <td>0.0</td>\n",
              "      <td>0.0</td>\n",
              "      <td>0.0</td>\n",
              "      <td>0.0</td>\n",
              "      <td>0.0</td>\n",
              "      <td>0.0</td>\n",
              "      <td>0.0</td>\n",
              "      <td>0.0</td>\n",
              "      <td>0.0</td>\n",
              "      <td>0.0</td>\n",
              "    </tr>\n",
              "    <tr>\n",
              "      <th>4</th>\n",
              "      <td>0.0</td>\n",
              "      <td>0.999702</td>\n",
              "      <td>0.822056</td>\n",
              "      <td>0.068966</td>\n",
              "      <td>-1.955882</td>\n",
              "      <td>0.625</td>\n",
              "      <td>0.0</td>\n",
              "      <td>0.0</td>\n",
              "      <td>0.0</td>\n",
              "      <td>0.0</td>\n",
              "      <td>0.0</td>\n",
              "      <td>0.0</td>\n",
              "      <td>1.0</td>\n",
              "      <td>0.0</td>\n",
              "      <td>0.0</td>\n",
              "      <td>0.0</td>\n",
              "      <td>0.0</td>\n",
              "      <td>0.0</td>\n",
              "      <td>0.0</td>\n",
              "      <td>0.0</td>\n",
              "      <td>0.0</td>\n",
              "      <td>0.0</td>\n",
              "      <td>0.0</td>\n",
              "      <td>0.0</td>\n",
              "      <td>0.0</td>\n",
              "      <td>0.0</td>\n",
              "      <td>0.0</td>\n",
              "      <td>0.0</td>\n",
              "      <td>0.0</td>\n",
              "      <td>0.0</td>\n",
              "      <td>0.0</td>\n",
              "      <td>0.0</td>\n",
              "    </tr>\n",
              "  </tbody>\n",
              "</table>\n",
              "</div>"
            ],
            "text/plain": [
              "   year     price   mileage  ...  fuelType_Hybrid  fuelType_Other  fuelType_Petrol\n",
              "0  -0.5  0.776286  0.257936  ...              0.0             0.0              0.0\n",
              "1   0.0  0.775541  0.004718  ...              0.0             0.0              0.0\n",
              "2  -1.0  0.477703  0.414289  ...              0.0             0.0              0.0\n",
              "3   0.0  1.223415 -0.174718  ...              0.0             0.0              0.0\n",
              "4   0.0  0.999702  0.822056  ...              0.0             0.0              0.0\n",
              "\n",
              "[5 rows x 32 columns]"
            ]
          },
          "metadata": {},
          "execution_count": 434
        }
      ]
    },
    {
      "cell_type": "markdown",
      "metadata": {
        "id": "rQOugHmgDGI3"
      },
      "source": [
        "#### Separación de Datos"
      ]
    },
    {
      "cell_type": "code",
      "metadata": {
        "scrolled": true,
        "id": "ZRfJuzbQDGI3"
      },
      "source": [
        "X = df_scl_ohe.drop(['price'], axis=1)\n",
        "y = df_scl_ohe['price']\n",
        "X_train, X_test, y_train, y_test = train_test_split(X, y, test_size=0.2, random_state=22)"
      ],
      "execution_count": null,
      "outputs": []
    },
    {
      "cell_type": "code",
      "metadata": {
        "colab": {
          "base_uri": "https://localhost:8080/"
        },
        "id": "TgENuv8MFtOK",
        "outputId": "a59d9975-4eec-44f8-8dc8-598a5e2b3fae"
      },
      "source": [
        "model_3 = LinearRegression()\n",
        "\n",
        "model_3.fit(X_train, y_train)\n",
        "preds = model_3.predict(X_test)\n",
        "rmse = np.sqrt(mean_squared_error(y_test, preds))\n",
        "rs = model_3.score(X_test, y_test)\n",
        "print(f'RMSE: {round(rmse,3)}')\n",
        "print(f'R^2: {round(rs,3)}\\n')\n",
        "\n",
        "casos.append(\"3\")\n",
        "codificacion.append(\"One-Hot\")\n",
        "escala.append(\"RobustScaler\")\n",
        "test.append(\"20%\")\n",
        "rmseResult.append(round(rmse,3))\n",
        "r2Result.append(round(rs,3))"
      ],
      "execution_count": null,
      "outputs": [
        {
          "output_type": "stream",
          "name": "stdout",
          "text": [
            "RMSE: 0.277\n",
            "R^2: 0.917\n",
            "\n"
          ]
        }
      ]
    },
    {
      "cell_type": "markdown",
      "metadata": {
        "id": "GIdT6n0aDGI3"
      },
      "source": [
        "### Caso 4\n",
        "\n",
        "#### Codificación Ordinal"
      ]
    },
    {
      "cell_type": "code",
      "metadata": {
        "id": "iL0hnfIoDGI4",
        "colab": {
          "base_uri": "https://localhost:8080/",
          "height": 203
        },
        "outputId": "28fe7973-6f3a-446d-ce99-59a26e1b1302"
      },
      "source": [
        "oe = OrdinalEncoder()\n",
        "df_oe = df.copy()\n",
        "df_oe[str_categ] = oe.fit_transform(df_oe[str_categ])\n",
        "\n",
        "x = df_oe.values #returns a numpy array\n",
        "min_max_scaler = RobustScaler()\n",
        "x_scaled = min_max_scaler.fit_transform(x)\n",
        "df_scl_oe = pd.DataFrame(x_scaled, columns=df_oe.columns)\n",
        "df_scl_oe.head()"
      ],
      "execution_count": null,
      "outputs": [
        {
          "output_type": "execute_result",
          "data": {
            "text/html": [
              "<div>\n",
              "<style scoped>\n",
              "    .dataframe tbody tr th:only-of-type {\n",
              "        vertical-align: middle;\n",
              "    }\n",
              "\n",
              "    .dataframe tbody tr th {\n",
              "        vertical-align: top;\n",
              "    }\n",
              "\n",
              "    .dataframe thead th {\n",
              "        text-align: right;\n",
              "    }\n",
              "</style>\n",
              "<table border=\"1\" class=\"dataframe\">\n",
              "  <thead>\n",
              "    <tr style=\"text-align: right;\">\n",
              "      <th></th>\n",
              "      <th>model</th>\n",
              "      <th>year</th>\n",
              "      <th>price</th>\n",
              "      <th>transmission</th>\n",
              "      <th>mileage</th>\n",
              "      <th>fuelType</th>\n",
              "      <th>tax</th>\n",
              "      <th>mpg</th>\n",
              "      <th>engineSize</th>\n",
              "    </tr>\n",
              "  </thead>\n",
              "  <tbody>\n",
              "    <tr>\n",
              "      <th>0</th>\n",
              "      <td>0.066667</td>\n",
              "      <td>-0.5</td>\n",
              "      <td>0.776286</td>\n",
              "      <td>0.0</td>\n",
              "      <td>0.257936</td>\n",
              "      <td>0.0</td>\n",
              "      <td>0.896552</td>\n",
              "      <td>-1.955882</td>\n",
              "      <td>0.625</td>\n",
              "    </tr>\n",
              "    <tr>\n",
              "      <th>1</th>\n",
              "      <td>0.066667</td>\n",
              "      <td>0.0</td>\n",
              "      <td>0.775541</td>\n",
              "      <td>0.0</td>\n",
              "      <td>0.004718</td>\n",
              "      <td>0.0</td>\n",
              "      <td>0.068966</td>\n",
              "      <td>-1.955882</td>\n",
              "      <td>0.625</td>\n",
              "    </tr>\n",
              "    <tr>\n",
              "      <th>2</th>\n",
              "      <td>0.066667</td>\n",
              "      <td>-1.0</td>\n",
              "      <td>0.477703</td>\n",
              "      <td>0.0</td>\n",
              "      <td>0.414289</td>\n",
              "      <td>0.0</td>\n",
              "      <td>0.896552</td>\n",
              "      <td>-1.955882</td>\n",
              "      <td>0.625</td>\n",
              "    </tr>\n",
              "    <tr>\n",
              "      <th>3</th>\n",
              "      <td>0.066667</td>\n",
              "      <td>0.0</td>\n",
              "      <td>1.223415</td>\n",
              "      <td>0.0</td>\n",
              "      <td>-0.174718</td>\n",
              "      <td>0.0</td>\n",
              "      <td>0.103448</td>\n",
              "      <td>-1.955882</td>\n",
              "      <td>0.625</td>\n",
              "    </tr>\n",
              "    <tr>\n",
              "      <th>4</th>\n",
              "      <td>0.066667</td>\n",
              "      <td>0.0</td>\n",
              "      <td>0.999702</td>\n",
              "      <td>0.0</td>\n",
              "      <td>0.822056</td>\n",
              "      <td>0.0</td>\n",
              "      <td>0.068966</td>\n",
              "      <td>-1.955882</td>\n",
              "      <td>0.625</td>\n",
              "    </tr>\n",
              "  </tbody>\n",
              "</table>\n",
              "</div>"
            ],
            "text/plain": [
              "      model  year     price  ...       tax       mpg  engineSize\n",
              "0  0.066667  -0.5  0.776286  ...  0.896552 -1.955882       0.625\n",
              "1  0.066667   0.0  0.775541  ...  0.068966 -1.955882       0.625\n",
              "2  0.066667  -1.0  0.477703  ...  0.896552 -1.955882       0.625\n",
              "3  0.066667   0.0  1.223415  ...  0.103448 -1.955882       0.625\n",
              "4  0.066667   0.0  0.999702  ...  0.068966 -1.955882       0.625\n",
              "\n",
              "[5 rows x 9 columns]"
            ]
          },
          "metadata": {},
          "execution_count": 437
        }
      ]
    },
    {
      "cell_type": "markdown",
      "metadata": {
        "id": "_hD-ns0oDGI4"
      },
      "source": [
        "#### Separación de Datos"
      ]
    },
    {
      "cell_type": "code",
      "metadata": {
        "id": "-5nCOCZLFBHh"
      },
      "source": [
        "X = df_scl_oe.drop(['price'], axis=1)\n",
        "y = df_scl_oe['price']\n",
        "X_train, X_test, y_train, y_test = train_test_split(X, y, test_size=0.2, random_state=22)"
      ],
      "execution_count": null,
      "outputs": []
    },
    {
      "cell_type": "code",
      "metadata": {
        "scrolled": true,
        "id": "HVjARNbXDGI4",
        "colab": {
          "base_uri": "https://localhost:8080/"
        },
        "outputId": "d723091d-179f-4acb-96dc-10ff865da441"
      },
      "source": [
        "model_4 = LinearRegression()\n",
        "\n",
        "model_4.fit(X_train, y_train)\n",
        "preds = model_4.predict(X_test)\n",
        "rmse = np.sqrt(mean_squared_error(y_test, preds))\n",
        "rs = model_4.score(X_test, y_test)\n",
        "print(f'RMSE: {round(rmse,3)}')\n",
        "print(f'R^2: {round(rs,3)}\\n')\n",
        "\n",
        "casos.append(\"4\")\n",
        "codificacion.append(\"Ordinal\")\n",
        "escala.append(\"RobustScaler\")\n",
        "test.append(\"20%\")\n",
        "rmseResult.append(round(rmse,3))\n",
        "r2Result.append(round(rs,3))"
      ],
      "execution_count": null,
      "outputs": [
        {
          "output_type": "stream",
          "name": "stdout",
          "text": [
            "RMSE: 0.444\n",
            "R^2: 0.787\n",
            "\n"
          ]
        }
      ]
    },
    {
      "cell_type": "markdown",
      "metadata": {
        "id": "7lHCnAa0DGI4"
      },
      "source": [
        "### Caso 5\n",
        "\n",
        "#### Codificación Ordinal"
      ]
    },
    {
      "cell_type": "code",
      "metadata": {
        "id": "ikVJRYHLDGI4",
        "colab": {
          "base_uri": "https://localhost:8080/",
          "height": 203
        },
        "outputId": "514d1edf-504e-4694-81e6-37e398b9978f"
      },
      "source": [
        "oe = OrdinalEncoder()\n",
        "df_oe = df.copy()\n",
        "df_oe[str_categ] = oe.fit_transform(df_oe[str_categ])\n",
        "\n",
        "x = df_oe.values #returns a numpy array\n",
        "min_max_scaler = MinMaxScaler()\n",
        "x_scaled = min_max_scaler.fit_transform(x)\n",
        "df_scl_oe = pd.DataFrame(x_scaled, columns=df_oe.columns)\n",
        "df_scl_oe.head()"
      ],
      "execution_count": null,
      "outputs": [
        {
          "output_type": "execute_result",
          "data": {
            "text/html": [
              "<div>\n",
              "<style scoped>\n",
              "    .dataframe tbody tr th:only-of-type {\n",
              "        vertical-align: middle;\n",
              "    }\n",
              "\n",
              "    .dataframe tbody tr th {\n",
              "        vertical-align: top;\n",
              "    }\n",
              "\n",
              "    .dataframe thead th {\n",
              "        text-align: right;\n",
              "    }\n",
              "</style>\n",
              "<table border=\"1\" class=\"dataframe\">\n",
              "  <thead>\n",
              "    <tr style=\"text-align: right;\">\n",
              "      <th></th>\n",
              "      <th>model</th>\n",
              "      <th>year</th>\n",
              "      <th>price</th>\n",
              "      <th>transmission</th>\n",
              "      <th>mileage</th>\n",
              "      <th>fuelType</th>\n",
              "      <th>tax</th>\n",
              "      <th>mpg</th>\n",
              "      <th>engineSize</th>\n",
              "    </tr>\n",
              "  </thead>\n",
              "  <tbody>\n",
              "    <tr>\n",
              "      <th>0</th>\n",
              "      <td>0.352941</td>\n",
              "      <td>0.818182</td>\n",
              "      <td>0.256150</td>\n",
              "      <td>0.333333</td>\n",
              "      <td>0.138100</td>\n",
              "      <td>1.0</td>\n",
              "      <td>0.469027</td>\n",
              "      <td>0.143842</td>\n",
              "      <td>0.444444</td>\n",
              "    </tr>\n",
              "    <tr>\n",
              "      <th>1</th>\n",
              "      <td>0.352941</td>\n",
              "      <td>0.863636</td>\n",
              "      <td>0.256066</td>\n",
              "      <td>0.333333</td>\n",
              "      <td>0.106716</td>\n",
              "      <td>1.0</td>\n",
              "      <td>0.256637</td>\n",
              "      <td>0.143842</td>\n",
              "      <td>0.444444</td>\n",
              "    </tr>\n",
              "    <tr>\n",
              "      <th>2</th>\n",
              "      <td>0.352941</td>\n",
              "      <td>0.772727</td>\n",
              "      <td>0.222301</td>\n",
              "      <td>0.333333</td>\n",
              "      <td>0.157479</td>\n",
              "      <td>1.0</td>\n",
              "      <td>0.469027</td>\n",
              "      <td>0.143842</td>\n",
              "      <td>0.444444</td>\n",
              "    </tr>\n",
              "    <tr>\n",
              "      <th>3</th>\n",
              "      <td>0.352941</td>\n",
              "      <td>0.863636</td>\n",
              "      <td>0.306839</td>\n",
              "      <td>0.333333</td>\n",
              "      <td>0.084476</td>\n",
              "      <td>1.0</td>\n",
              "      <td>0.265487</td>\n",
              "      <td>0.143842</td>\n",
              "      <td>0.444444</td>\n",
              "    </tr>\n",
              "    <tr>\n",
              "      <th>4</th>\n",
              "      <td>0.352941</td>\n",
              "      <td>0.863636</td>\n",
              "      <td>0.281478</td>\n",
              "      <td>0.333333</td>\n",
              "      <td>0.208019</td>\n",
              "      <td>1.0</td>\n",
              "      <td>0.256637</td>\n",
              "      <td>0.143842</td>\n",
              "      <td>0.444444</td>\n",
              "    </tr>\n",
              "  </tbody>\n",
              "</table>\n",
              "</div>"
            ],
            "text/plain": [
              "      model      year     price  ...       tax       mpg  engineSize\n",
              "0  0.352941  0.818182  0.256150  ...  0.469027  0.143842    0.444444\n",
              "1  0.352941  0.863636  0.256066  ...  0.256637  0.143842    0.444444\n",
              "2  0.352941  0.772727  0.222301  ...  0.469027  0.143842    0.444444\n",
              "3  0.352941  0.863636  0.306839  ...  0.265487  0.143842    0.444444\n",
              "4  0.352941  0.863636  0.281478  ...  0.256637  0.143842    0.444444\n",
              "\n",
              "[5 rows x 9 columns]"
            ]
          },
          "metadata": {},
          "execution_count": 440
        }
      ]
    },
    {
      "cell_type": "markdown",
      "metadata": {
        "id": "Q--D2DD0DGI4"
      },
      "source": [
        "#### Separación de Datos"
      ]
    },
    {
      "cell_type": "code",
      "metadata": {
        "scrolled": true,
        "id": "o1vlZG9JDGI4"
      },
      "source": [
        "X = df_scl_oe.drop(['price'], axis=1)\n",
        "y = df_scl_oe['price']\n",
        "X_train, X_test, y_train, y_test = train_test_split(X, y, train_size=0.3, random_state=22)"
      ],
      "execution_count": null,
      "outputs": []
    },
    {
      "cell_type": "code",
      "metadata": {
        "colab": {
          "base_uri": "https://localhost:8080/"
        },
        "id": "ndHk402dH8qg",
        "outputId": "99cd14ca-1d9d-4a93-a907-028bd0016bae"
      },
      "source": [
        "model_5 = LinearRegression()\n",
        "\n",
        "model_5.fit(X_train, y_train)\n",
        "preds = model_5.predict(X_test)\n",
        "rmse = np.sqrt(mean_squared_error(y_test, preds))\n",
        "rs = model_5.score(X_test, y_test)\n",
        "print(f'RMSE: {round(rmse,3)}')\n",
        "print(f'R^2: {round(rs,3)}\\n')\n",
        "\n",
        "casos.append(\"5\")\n",
        "codificacion.append(\"Ordinal\")\n",
        "escala.append(\"MinMaxScaler\")\n",
        "test.append(\"70%\")\n",
        "rmseResult.append(round(rmse,3))\n",
        "r2Result.append(round(rs,3))"
      ],
      "execution_count": null,
      "outputs": [
        {
          "output_type": "stream",
          "name": "stdout",
          "text": [
            "RMSE: 0.049\n",
            "R^2: 0.785\n",
            "\n"
          ]
        }
      ]
    },
    {
      "cell_type": "markdown",
      "metadata": {
        "id": "zrx9r1UqDGI4"
      },
      "source": [
        "### Caso 6\n",
        "\n",
        "#### Codificación Ordinal"
      ]
    },
    {
      "cell_type": "code",
      "metadata": {
        "id": "_Bks3nhdDGI4",
        "colab": {
          "base_uri": "https://localhost:8080/",
          "height": 203
        },
        "outputId": "65d3d2f4-9dc7-4651-adaf-1bfaab8bc514"
      },
      "source": [
        "oe = OrdinalEncoder()\n",
        "df_oe = df.copy()\n",
        "df_oe[str_categ] = oe.fit_transform(df_oe[str_categ])\n",
        "\n",
        "x = df_oe.values #returns a numpy array\n",
        "min_max_scaler = MinMaxScaler()\n",
        "x_scaled = min_max_scaler.fit_transform(x)\n",
        "df_scl_oe = pd.DataFrame(x_scaled, columns=df_oe.columns)\n",
        "df_scl_oe.head()"
      ],
      "execution_count": null,
      "outputs": [
        {
          "output_type": "execute_result",
          "data": {
            "text/html": [
              "<div>\n",
              "<style scoped>\n",
              "    .dataframe tbody tr th:only-of-type {\n",
              "        vertical-align: middle;\n",
              "    }\n",
              "\n",
              "    .dataframe tbody tr th {\n",
              "        vertical-align: top;\n",
              "    }\n",
              "\n",
              "    .dataframe thead th {\n",
              "        text-align: right;\n",
              "    }\n",
              "</style>\n",
              "<table border=\"1\" class=\"dataframe\">\n",
              "  <thead>\n",
              "    <tr style=\"text-align: right;\">\n",
              "      <th></th>\n",
              "      <th>model</th>\n",
              "      <th>year</th>\n",
              "      <th>price</th>\n",
              "      <th>transmission</th>\n",
              "      <th>mileage</th>\n",
              "      <th>fuelType</th>\n",
              "      <th>tax</th>\n",
              "      <th>mpg</th>\n",
              "      <th>engineSize</th>\n",
              "    </tr>\n",
              "  </thead>\n",
              "  <tbody>\n",
              "    <tr>\n",
              "      <th>0</th>\n",
              "      <td>0.352941</td>\n",
              "      <td>0.818182</td>\n",
              "      <td>0.256150</td>\n",
              "      <td>0.333333</td>\n",
              "      <td>0.138100</td>\n",
              "      <td>1.0</td>\n",
              "      <td>0.469027</td>\n",
              "      <td>0.143842</td>\n",
              "      <td>0.444444</td>\n",
              "    </tr>\n",
              "    <tr>\n",
              "      <th>1</th>\n",
              "      <td>0.352941</td>\n",
              "      <td>0.863636</td>\n",
              "      <td>0.256066</td>\n",
              "      <td>0.333333</td>\n",
              "      <td>0.106716</td>\n",
              "      <td>1.0</td>\n",
              "      <td>0.256637</td>\n",
              "      <td>0.143842</td>\n",
              "      <td>0.444444</td>\n",
              "    </tr>\n",
              "    <tr>\n",
              "      <th>2</th>\n",
              "      <td>0.352941</td>\n",
              "      <td>0.772727</td>\n",
              "      <td>0.222301</td>\n",
              "      <td>0.333333</td>\n",
              "      <td>0.157479</td>\n",
              "      <td>1.0</td>\n",
              "      <td>0.469027</td>\n",
              "      <td>0.143842</td>\n",
              "      <td>0.444444</td>\n",
              "    </tr>\n",
              "    <tr>\n",
              "      <th>3</th>\n",
              "      <td>0.352941</td>\n",
              "      <td>0.863636</td>\n",
              "      <td>0.306839</td>\n",
              "      <td>0.333333</td>\n",
              "      <td>0.084476</td>\n",
              "      <td>1.0</td>\n",
              "      <td>0.265487</td>\n",
              "      <td>0.143842</td>\n",
              "      <td>0.444444</td>\n",
              "    </tr>\n",
              "    <tr>\n",
              "      <th>4</th>\n",
              "      <td>0.352941</td>\n",
              "      <td>0.863636</td>\n",
              "      <td>0.281478</td>\n",
              "      <td>0.333333</td>\n",
              "      <td>0.208019</td>\n",
              "      <td>1.0</td>\n",
              "      <td>0.256637</td>\n",
              "      <td>0.143842</td>\n",
              "      <td>0.444444</td>\n",
              "    </tr>\n",
              "  </tbody>\n",
              "</table>\n",
              "</div>"
            ],
            "text/plain": [
              "      model      year     price  ...       tax       mpg  engineSize\n",
              "0  0.352941  0.818182  0.256150  ...  0.469027  0.143842    0.444444\n",
              "1  0.352941  0.863636  0.256066  ...  0.256637  0.143842    0.444444\n",
              "2  0.352941  0.772727  0.222301  ...  0.469027  0.143842    0.444444\n",
              "3  0.352941  0.863636  0.306839  ...  0.265487  0.143842    0.444444\n",
              "4  0.352941  0.863636  0.281478  ...  0.256637  0.143842    0.444444\n",
              "\n",
              "[5 rows x 9 columns]"
            ]
          },
          "metadata": {},
          "execution_count": 443
        }
      ]
    },
    {
      "cell_type": "markdown",
      "metadata": {
        "id": "2a59U9sODGI4"
      },
      "source": [
        "#### Separación de Datos"
      ]
    },
    {
      "cell_type": "code",
      "metadata": {
        "scrolled": true,
        "id": "QGJv8uSbDGI5"
      },
      "source": [
        "X = df_scl_oe.drop(['price'], axis=1)\n",
        "y = df_scl_oe['price']\n",
        "X_train, X_test, y_train, y_test = train_test_split(X, y, train_size=0.55, random_state=22)"
      ],
      "execution_count": null,
      "outputs": []
    },
    {
      "cell_type": "code",
      "metadata": {
        "colab": {
          "base_uri": "https://localhost:8080/"
        },
        "id": "U74F29wZIlhl",
        "outputId": "da1a6727-2f7c-40e3-d6b2-3e94b3392d18"
      },
      "source": [
        "model_6 = LinearRegression()\n",
        "\n",
        "model_6.fit(X_train, y_train)\n",
        "preds = model_6.predict(X_test)\n",
        "rmse = np.sqrt(mean_squared_error(y_test, preds))\n",
        "rs = model_6.score(X_test, y_test)\n",
        "print(f'RMSE: {round(rmse,3)}')\n",
        "print(f'R^2: {round(rs,3)}\\n')\n",
        "\n",
        "casos.append(\"6\")\n",
        "codificacion.append(\"Ordinal\")\n",
        "escala.append(\"MinMaxScaler\")\n",
        "test.append(\"45%\")\n",
        "rmseResult.append(round(rmse,3))\n",
        "r2Result.append(round(rs,3))"
      ],
      "execution_count": null,
      "outputs": [
        {
          "output_type": "stream",
          "name": "stdout",
          "text": [
            "RMSE: 0.05\n",
            "R^2: 0.784\n",
            "\n"
          ]
        }
      ]
    },
    {
      "cell_type": "markdown",
      "metadata": {
        "id": "f3kTcUNxDGI5"
      },
      "source": [
        "### Caso 7\n",
        "\n",
        "#### Codificación Ordinal"
      ]
    },
    {
      "cell_type": "code",
      "metadata": {
        "id": "dwP3BKa6DGI5",
        "colab": {
          "base_uri": "https://localhost:8080/",
          "height": 203
        },
        "outputId": "55790d1b-810b-48c4-b8cd-9d808e5b61ce"
      },
      "source": [
        "oe = OrdinalEncoder()\n",
        "df_oe = df.copy()\n",
        "df_oe[str_categ] = oe.fit_transform(df_oe[str_categ])\n",
        "\n",
        "x = df_oe.values #returns a numpy array\n",
        "min_max_scaler = MinMaxScaler()\n",
        "x_scaled = min_max_scaler.fit_transform(x)\n",
        "df_scl_oe = pd.DataFrame(x_scaled, columns=df_oe.columns)\n",
        "df_scl_oe.head()"
      ],
      "execution_count": null,
      "outputs": [
        {
          "output_type": "execute_result",
          "data": {
            "text/html": [
              "<div>\n",
              "<style scoped>\n",
              "    .dataframe tbody tr th:only-of-type {\n",
              "        vertical-align: middle;\n",
              "    }\n",
              "\n",
              "    .dataframe tbody tr th {\n",
              "        vertical-align: top;\n",
              "    }\n",
              "\n",
              "    .dataframe thead th {\n",
              "        text-align: right;\n",
              "    }\n",
              "</style>\n",
              "<table border=\"1\" class=\"dataframe\">\n",
              "  <thead>\n",
              "    <tr style=\"text-align: right;\">\n",
              "      <th></th>\n",
              "      <th>model</th>\n",
              "      <th>year</th>\n",
              "      <th>price</th>\n",
              "      <th>transmission</th>\n",
              "      <th>mileage</th>\n",
              "      <th>fuelType</th>\n",
              "      <th>tax</th>\n",
              "      <th>mpg</th>\n",
              "      <th>engineSize</th>\n",
              "    </tr>\n",
              "  </thead>\n",
              "  <tbody>\n",
              "    <tr>\n",
              "      <th>0</th>\n",
              "      <td>0.352941</td>\n",
              "      <td>0.818182</td>\n",
              "      <td>0.256150</td>\n",
              "      <td>0.333333</td>\n",
              "      <td>0.138100</td>\n",
              "      <td>1.0</td>\n",
              "      <td>0.469027</td>\n",
              "      <td>0.143842</td>\n",
              "      <td>0.444444</td>\n",
              "    </tr>\n",
              "    <tr>\n",
              "      <th>1</th>\n",
              "      <td>0.352941</td>\n",
              "      <td>0.863636</td>\n",
              "      <td>0.256066</td>\n",
              "      <td>0.333333</td>\n",
              "      <td>0.106716</td>\n",
              "      <td>1.0</td>\n",
              "      <td>0.256637</td>\n",
              "      <td>0.143842</td>\n",
              "      <td>0.444444</td>\n",
              "    </tr>\n",
              "    <tr>\n",
              "      <th>2</th>\n",
              "      <td>0.352941</td>\n",
              "      <td>0.772727</td>\n",
              "      <td>0.222301</td>\n",
              "      <td>0.333333</td>\n",
              "      <td>0.157479</td>\n",
              "      <td>1.0</td>\n",
              "      <td>0.469027</td>\n",
              "      <td>0.143842</td>\n",
              "      <td>0.444444</td>\n",
              "    </tr>\n",
              "    <tr>\n",
              "      <th>3</th>\n",
              "      <td>0.352941</td>\n",
              "      <td>0.863636</td>\n",
              "      <td>0.306839</td>\n",
              "      <td>0.333333</td>\n",
              "      <td>0.084476</td>\n",
              "      <td>1.0</td>\n",
              "      <td>0.265487</td>\n",
              "      <td>0.143842</td>\n",
              "      <td>0.444444</td>\n",
              "    </tr>\n",
              "    <tr>\n",
              "      <th>4</th>\n",
              "      <td>0.352941</td>\n",
              "      <td>0.863636</td>\n",
              "      <td>0.281478</td>\n",
              "      <td>0.333333</td>\n",
              "      <td>0.208019</td>\n",
              "      <td>1.0</td>\n",
              "      <td>0.256637</td>\n",
              "      <td>0.143842</td>\n",
              "      <td>0.444444</td>\n",
              "    </tr>\n",
              "  </tbody>\n",
              "</table>\n",
              "</div>"
            ],
            "text/plain": [
              "      model      year     price  ...       tax       mpg  engineSize\n",
              "0  0.352941  0.818182  0.256150  ...  0.469027  0.143842    0.444444\n",
              "1  0.352941  0.863636  0.256066  ...  0.256637  0.143842    0.444444\n",
              "2  0.352941  0.772727  0.222301  ...  0.469027  0.143842    0.444444\n",
              "3  0.352941  0.863636  0.306839  ...  0.265487  0.143842    0.444444\n",
              "4  0.352941  0.863636  0.281478  ...  0.256637  0.143842    0.444444\n",
              "\n",
              "[5 rows x 9 columns]"
            ]
          },
          "metadata": {},
          "execution_count": 446
        }
      ]
    },
    {
      "cell_type": "markdown",
      "metadata": {
        "id": "jXuwYTPwDGI5"
      },
      "source": [
        "#### Separación de Datos"
      ]
    },
    {
      "cell_type": "code",
      "metadata": {
        "scrolled": true,
        "id": "y2mMoHlWDGI5"
      },
      "source": [
        "X = df_scl_oe.drop(['price'], axis=1)\n",
        "y = df_scl_oe['price']\n",
        "X_train, X_test, y_train, y_test = train_test_split(X, y, train_size=0.8, random_state=22)"
      ],
      "execution_count": null,
      "outputs": []
    },
    {
      "cell_type": "code",
      "metadata": {
        "colab": {
          "base_uri": "https://localhost:8080/"
        },
        "id": "W5fdW_j7I2Zc",
        "outputId": "be195adc-94c8-400b-8d18-a5be74062cb3"
      },
      "source": [
        "model_6 = LinearRegression()\n",
        "\n",
        "model_6.fit(X_train, y_train)\n",
        "preds = model_6.predict(X_test)\n",
        "rmse = np.sqrt(mean_squared_error(y_test, preds))\n",
        "rs = model_6.score(X_test, y_test)\n",
        "print(f'RMSE: {round(rmse,3)}')\n",
        "print(f'R^2: {round(rs,3)}\\n')\n",
        "\n",
        "casos.append(\"7\")\n",
        "codificacion.append(\"Ordinal\")\n",
        "escala.append(\"MinMaxScaler\")\n",
        "test.append(\"20%\")\n",
        "rmseResult.append(round(rmse,3))\n",
        "r2Result.append(round(rs,3))"
      ],
      "execution_count": null,
      "outputs": [
        {
          "output_type": "stream",
          "name": "stdout",
          "text": [
            "RMSE: 0.05\n",
            "R^2: 0.787\n",
            "\n"
          ]
        }
      ]
    },
    {
      "cell_type": "markdown",
      "metadata": {
        "id": "Tu0F6oK8Kmj-"
      },
      "source": [
        "## Comparación\n",
        "\n",
        "A continuación, se construye una tabla para poder visualizar fácilmente los resultados de los 7 casos para poder sí comparar las métricas de precisión de acuerdo con los parámetros utilizados en cada caso"
      ]
    },
    {
      "cell_type": "code",
      "metadata": {
        "colab": {
          "base_uri": "https://localhost:8080/",
          "height": 265
        },
        "id": "cUbZGMOQKpx-",
        "outputId": "24010070-ced4-4b55-c390-abf4717f42e4"
      },
      "source": [
        "dir = {}\n",
        "dir['Caso'] = casos\n",
        "dir['Codificacion'] = codificacion\n",
        "dir['Escala'] = escala\n",
        "dir['Test'] = test\n",
        "dir['RMSE'] = rmseResult\n",
        "dir['R^2'] = r2Result\n",
        "\n",
        "pd.set_option('max_colwidth', 120)\n",
        "df_dir = pd.DataFrame(dir)\n",
        "display(df_dir)"
      ],
      "execution_count": null,
      "outputs": [
        {
          "output_type": "display_data",
          "data": {
            "text/html": [
              "<div>\n",
              "<style scoped>\n",
              "    .dataframe tbody tr th:only-of-type {\n",
              "        vertical-align: middle;\n",
              "    }\n",
              "\n",
              "    .dataframe tbody tr th {\n",
              "        vertical-align: top;\n",
              "    }\n",
              "\n",
              "    .dataframe thead th {\n",
              "        text-align: right;\n",
              "    }\n",
              "</style>\n",
              "<table border=\"1\" class=\"dataframe\">\n",
              "  <thead>\n",
              "    <tr style=\"text-align: right;\">\n",
              "      <th></th>\n",
              "      <th>Caso</th>\n",
              "      <th>Codificacion</th>\n",
              "      <th>Escala</th>\n",
              "      <th>Test</th>\n",
              "      <th>RMSE</th>\n",
              "      <th>R^2</th>\n",
              "    </tr>\n",
              "  </thead>\n",
              "  <tbody>\n",
              "    <tr>\n",
              "      <th>0</th>\n",
              "      <td>1</td>\n",
              "      <td>One-Hot</td>\n",
              "      <td>MinMaxScaler</td>\n",
              "      <td>20%</td>\n",
              "      <td>0.031</td>\n",
              "      <td>0.917</td>\n",
              "    </tr>\n",
              "    <tr>\n",
              "      <th>1</th>\n",
              "      <td>2</td>\n",
              "      <td>Ordinal</td>\n",
              "      <td>MinMaxScaler</td>\n",
              "      <td>20%</td>\n",
              "      <td>0.050</td>\n",
              "      <td>0.787</td>\n",
              "    </tr>\n",
              "    <tr>\n",
              "      <th>2</th>\n",
              "      <td>3</td>\n",
              "      <td>One-Hot</td>\n",
              "      <td>RobustScaler</td>\n",
              "      <td>20%</td>\n",
              "      <td>0.277</td>\n",
              "      <td>0.917</td>\n",
              "    </tr>\n",
              "    <tr>\n",
              "      <th>3</th>\n",
              "      <td>4</td>\n",
              "      <td>Ordinal</td>\n",
              "      <td>RobustScaler</td>\n",
              "      <td>20%</td>\n",
              "      <td>0.444</td>\n",
              "      <td>0.787</td>\n",
              "    </tr>\n",
              "    <tr>\n",
              "      <th>4</th>\n",
              "      <td>5</td>\n",
              "      <td>Ordinal</td>\n",
              "      <td>MinMaxScaler</td>\n",
              "      <td>70%</td>\n",
              "      <td>0.049</td>\n",
              "      <td>0.785</td>\n",
              "    </tr>\n",
              "    <tr>\n",
              "      <th>5</th>\n",
              "      <td>6</td>\n",
              "      <td>Ordinal</td>\n",
              "      <td>MinMaxScaler</td>\n",
              "      <td>45%</td>\n",
              "      <td>0.050</td>\n",
              "      <td>0.784</td>\n",
              "    </tr>\n",
              "    <tr>\n",
              "      <th>6</th>\n",
              "      <td>7</td>\n",
              "      <td>Ordinal</td>\n",
              "      <td>MinMaxScaler</td>\n",
              "      <td>20%</td>\n",
              "      <td>0.050</td>\n",
              "      <td>0.787</td>\n",
              "    </tr>\n",
              "  </tbody>\n",
              "</table>\n",
              "</div>"
            ],
            "text/plain": [
              "  Caso Codificacion        Escala Test   RMSE    R^2\n",
              "0    1      One-Hot  MinMaxScaler  20%  0.031  0.917\n",
              "1    2      Ordinal  MinMaxScaler  20%  0.050  0.787\n",
              "2    3      One-Hot  RobustScaler  20%  0.277  0.917\n",
              "3    4      Ordinal  RobustScaler  20%  0.444  0.787\n",
              "4    5      Ordinal  MinMaxScaler  70%  0.049  0.785\n",
              "5    6      Ordinal  MinMaxScaler  45%  0.050  0.784\n",
              "6    7      Ordinal  MinMaxScaler  20%  0.050  0.787"
            ]
          },
          "metadata": {}
        }
      ]
    },
    {
      "cell_type": "markdown",
      "metadata": {
        "id": "M8qq3OW_7WLx"
      },
      "source": [
        "*   Se puede observar que se obtuvo el menor error cuadrático medio al hacer uso de la codificación One-Hot y la escala MinMaxScaler (caso 1); esto se debe a que la codificación utilizada permite que cada una de los posibles valores que puede tomar una categoría string se representen en columnas independientes cuyos valores pueden ser 0 o 1. Lo anterior permite que ningún valor de una categoría represente superioridad sobre otro. En el caso de la escala MinMaxScaler permite unificar todas las categorías con valores escalados entre 0 y 1, lo cual permite que todas las variables que se tienen para la predicción tengan la misma importancia.\n",
        "También es importante mencionar, que en el caso 1 se obtiene el mayor R^2 lo cual indica que el modelo se ajusta en buena forma a los datos y los predice mayormente de forma correcta (es cercano a 1)\n",
        "\n",
        "*   Al analizar los casos 1 y 2 los cuales hacen uso de MinMaxScaler, se observa que el mejor modelo (mejores métricas de precisión) se obtiene con la codificación One-Hot dado a que a diferencia de Ordinal, One-Hot da el mismo peso a cada una de las posibles opciones dentro de una categoría, mientras que ordinal da valores tipo integer a cada una de las opciones lo cual implica establecer una relación de orden o superioridad que no existe.\n",
        "\n",
        "*   Al analizar los casos 3 y 4 los cuales hacen uso de RobustScaler se observar que el error cuadrático medio es significativo pero entre estos casos el menor error se obtiene con la codificación One-Hot. Además, se observa que el valor de R^2 sigue siendo alto lo cual indica que el modelo tiene un ajuste cercano a los datos.\n",
        "\n",
        "*   Al analizar los casos 5, 6 y 7, en los cuales se maneja una codificación Ordinal y una escala MinMaxScaler, se observa que las métricas de precisión no varian significativamente al cambiar la cantidad de datos utilizados para el entrenamiento. Una causa de esto puede ser la alta dependencia de las variables estudiadas en relación al precio del automóvil con lo cual un pequeño set de datos puede ser sufiente para entrenar el modelo. Lo anterior se evidencia cuando al aumentar el porcentaje de datos de entrenamiento el valor de R^2 aumenta pero de manera no significativa."
      ]
    },
    {
      "cell_type": "markdown",
      "metadata": {
        "id": "Xghx7CBHDGI5"
      },
      "source": [
        "## Parte 2\n",
        "\n",
        "Ahora usted debe desarrollar su propia implementación del método Descenso de Gradiente estocástico. Para esta ocasión debe utilizar una codificación One-Hot, un RobustScaler y realizar el entrenamiento a partir del 80% de los datos. Al final del entrenamiento, en la lista `errores` se deben tener los valores de la función de error para cada iteración y así poder observar el progreso gráficamente."
      ]
    },
    {
      "cell_type": "code",
      "metadata": {
        "id": "UxIQf2MNDGI5"
      },
      "source": [
        "df_ohe = pd.get_dummies(df)\n",
        "scaler = RobustScaler()\n",
        "df_scl_ohe = scaler.fit_transform(df_ohe)\n",
        "df_scl_ohe = pd.DataFrame(df_scl_ohe, columns = df_ohe.columns)\n",
        "\n",
        "X = df_scl_ohe.drop(['price'], axis=1)\n",
        "y = df_scl_ohe['price']\n",
        "X_train, X_test, y_train, y_test = train_test_split(X, y, test_size=0.2, random_state=22)"
      ],
      "execution_count": null,
      "outputs": []
    },
    {
      "cell_type": "code",
      "metadata": {
        "scrolled": true,
        "id": "k9v6AmntDGI5"
      },
      "source": [
        "X_train_array = np.c_[np.ones(X_train.values.shape[0]), X_train.values]\n",
        "y_train_array = y_train.values\n",
        "X_test_array = np.c_[np.ones(X_test.values.shape[0]), X_test.values]\n",
        "y_test_array = y_test.values\n",
        "\n",
        "#Inicialización de w\n",
        "numVar = np.size(X_train_array[0]) # Cantidad de variables #\n",
        "w0 = np.random.rand(numVar) # Inicializar aleatoriamente #\n",
        "w = w0.copy()\n",
        "#Selección de par aleatorio\n",
        "i = random.randint(0, np.size(y_train_array)-1) # Posición aleatoria #\n",
        "xActual = X_train_array[i]\n",
        "yActual = y_train_array[i]\n",
        "#Inicialización de criterio de parada\n",
        "eps = 1e-3 # Se define un criterio de parada basado en el error en la predicción #\n",
        "error = float('inf') # Valor inicial, se debe actualizar en cada iteración #\n",
        "dif = float('inf') # Diferencia entre vectores de pesos w consecutivos #\n",
        "#Inicialización de valor de la tasa de aprendizaje \n",
        "tasa = 0.08 # Selección de tasa de aprendizaje #\n",
        "#Lista para monitorear aprendizaje\n",
        "errores = [] # Agregar a esta lista los valores de la función de error en cada iteración #\n",
        "\n",
        "#Ciclo iterativo según algoritmo de descenso de gradiente\n",
        "while dif>eps:\n",
        "  #Selección de par aleatorio\n",
        "  i = random.randint(0, np.size(y_train_array)-1) # Posición aleatoria #\n",
        "  xActual = X_train_array[i]\n",
        "  yActual = y_train_array[i]\n",
        "\n",
        "  g = np.dot(w0, xActual)\n",
        "  error = g - yActual\n",
        "  w = w0 - (tasa*error*xActual)  #\n",
        "  \n",
        "  dif = np.linalg.norm(w0 - w) # Diferencia entre vectores de pesos w consecutivos #\n",
        "  w0 = w\n",
        "  errores.append(error)"
      ],
      "execution_count": null,
      "outputs": []
    },
    {
      "cell_type": "markdown",
      "metadata": {
        "id": "4t-PbtosDGI5"
      },
      "source": [
        "#### Evaluación de Modelo"
      ]
    },
    {
      "cell_type": "code",
      "metadata": {
        "id": "kciUxspgDGI5",
        "colab": {
          "base_uri": "https://localhost:8080/"
        },
        "outputId": "72a428c0-b7cc-4430-95bd-ceb840a7155f"
      },
      "source": [
        "y_train_preds = np.zeros(y_train_array.shape)\n",
        "for i in range(X_train_array.shape[0]):\n",
        "    y_train_preds[i] = np.dot(w,X_train_array[i])\n",
        "\n",
        "y_test_preds = np.zeros(y_test_array.shape)\n",
        "for i in range(X_test_array.shape[0]):\n",
        "    y_test_preds[i] = np.dot(w,X_test_array[i])\n",
        "    \n",
        "r2_train = r2_score(y_train_array, y_train_preds)\n",
        "r2_test = r2_score(y_test_array, y_test_preds)\n",
        "print(f'R2 entrenamiento: {round(r2_train,4)}\\nR2 prueba: {round(r2_test,4)}')"
      ],
      "execution_count": null,
      "outputs": [
        {
          "output_type": "stream",
          "name": "stdout",
          "text": [
            "R2 entrenamiento: 0.7512\n",
            "R2 prueba: 0.7711\n"
          ]
        }
      ]
    },
    {
      "cell_type": "markdown",
      "metadata": {
        "id": "QrJccg54DGI6"
      },
      "source": [
        "## Gráfica de Resultados"
      ]
    },
    {
      "cell_type": "code",
      "metadata": {
        "id": "vE1rMeFlDGI6",
        "colab": {
          "base_uri": "https://localhost:8080/",
          "height": 368
        },
        "outputId": "66d24ea6-2418-44be-d3b8-6d88449cf7af"
      },
      "source": [
        "plt.figure(figsize=(15,5))\n",
        "plt.plot(errores)\n",
        "plt.xlabel('# Iteraciones')\n",
        "plt.ylabel('Función de Error')\n",
        "plt.title('Descenso de Gradiente Estocástico')"
      ],
      "execution_count": null,
      "outputs": [
        {
          "output_type": "execute_result",
          "data": {
            "text/plain": [
              "Text(0.5, 1.0, 'Descenso de Gradiente Estocástico')"
            ]
          },
          "metadata": {},
          "execution_count": 453
        },
        {
          "output_type": "display_data",
          "data": {
            "image/png": "[encoded data removed]",
            "text/plain": [
              "<Figure size 1080x360 with 1 Axes>"
            ]
          },
          "metadata": {
            "needs_background": "light"
          }
        }
      ]
    },
    {
      "cell_type": "markdown",
      "metadata": {
        "id": "NLP_hTWOsiij"
      },
      "source": [
        "Al correr varias veces el algoritmo de Descenso de Gradiente Estocastico, se observó que aunque el algoritmo converge en todos los casos (valor de la tasa de aprendizaje fijo) el número de iteraciones varia significativante de una ejecución a otra. Lo anterior se debe a que este algoritmo toma un par (x,y) aleatorio en cada iteración generando que el proceso de entrenamiento sea diferente.\n",
        "\n",
        "\n",
        "También se observó que aunque el algoritmo alcanza un valor de error menor al eps definido, los valores de la métrica de precisión R2 tanto de los datos de entrenamiento como de los de prueba varian significativamente entre una ejecución y otra. Esto se debe a la aleatoriedad en cada iteración del algoritmo.\n",
        "\n",
        "\n",
        "Finalmente, para seleccionar la tasa de aprendizaje se realizaron viarias pruebas con otros valores pero se halló que para 0.08 se tienen buenos valores de R^2 y un buen número de iteraciones."
      ]
    }
  ]
}