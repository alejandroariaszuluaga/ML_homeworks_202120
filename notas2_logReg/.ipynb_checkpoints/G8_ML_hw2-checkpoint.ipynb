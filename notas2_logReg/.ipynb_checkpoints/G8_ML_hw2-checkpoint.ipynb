{
 "cells": [
  {
   "cell_type": "markdown",
   "metadata": {
    "id": "Hoyu0eCDfih_"
   },
   "source": [
    "\n",
    "| Universidad de los Andes<br>Departamento de Ingeniería Eléctrica y Electrónica<br>Machine Learning<br>Ríos Beltrán Manuel Sebastián - Código 201317670<br>Ruiz Ruiz Alison Gissell - Código 202116230<br><br><p style=\"font-size:30px\">Taller 2 - Regresión Logística: Predicción de Enfermedad Coronaria </p> \t||\n",
    "|-----------------------------------------------------------------------------------\t|---\t|"
   ]
  },
  {
   "cell_type": "markdown",
   "metadata": {
    "id": "LCsRMTDEfV4t"
   },
   "source": [
    "A continuación se observa un problema de clasificación binaria y se desea analizar una posible solución a partir de un modelo de regresión logística. Se busca implementar el algoritmo mencionado, inicialmente empleando la librería SciKit-Learn para luego desarrollar el mismo proceso de entrenamiento manualmente (Descenso de Gradiente Estocástico).\n",
    "\n",
    "También se introducirán algunos conceptos para lidiar con datos desbalanceados como: matriz de confusión, curva ROC, y algunas otras métricas importantes."
   ]
  },
  {
   "cell_type": "code",
   "execution_count": 1,
   "metadata": {
    "colab": {
     "base_uri": "https://localhost:8080/"
    },
    "id": "78IjlQH9fV4x",
    "outputId": "e68c1d6c-0a8b-44e6-dcbf-4f93abc88375"
   },
   "outputs": [
    {
     "name": "stderr",
     "output_type": "stream",
     "text": [
      "/usr/local/lib/python3.7/dist-packages/statsmodels/tools/_testing.py:19: FutureWarning: pandas.util.testing is deprecated. Use the functions in the public API at pandas.testing instead.\n",
      "  import pandas.util.testing as tm\n"
     ]
    },
    {
     "name": "stdout",
     "output_type": "stream",
     "text": [
      "Mounted at /content/drive\n"
     ]
    }
   ],
   "source": [
    "import pandas as pd\n",
    "import numpy as np\n",
    "import statsmodels.api as sm\n",
    "import scipy.stats as st\n",
    "import matplotlib.pyplot as plt\n",
    "import seaborn as sn\n",
    "import sklearn\n",
    "import matplotlib.mlab as mlab\n",
    "from google.colab import drive\n",
    "from sklearn.linear_model import LogisticRegression\n",
    "from sklearn.model_selection import train_test_split\n",
    "from sklearn.metrics import confusion_matrix, accuracy_score\n",
    "from sklearn.preprocessing import OrdinalEncoder, MinMaxScaler, RobustScaler\n",
    "drive.mount('/content/drive',force_remount=True)\n",
    "%matplotlib inline"
   ]
  },
  {
   "cell_type": "code",
   "execution_count": 2,
   "metadata": {
    "colab": {
     "base_uri": "https://localhost:8080/",
     "height": 204
    },
    "id": "JdKIs4B7fV4z",
    "outputId": "01473d0c-e004-4bfa-8f2c-a651fe2f067e",
    "scrolled": true
   },
   "outputs": [
    {
     "data": {
      "text/html": [
       "<div>\n",
       "<style scoped>\n",
       "    .dataframe tbody tr th:only-of-type {\n",
       "        vertical-align: middle;\n",
       "    }\n",
       "\n",
       "    .dataframe tbody tr th {\n",
       "        vertical-align: top;\n",
       "    }\n",
       "\n",
       "    .dataframe thead th {\n",
       "        text-align: right;\n",
       "    }\n",
       "</style>\n",
       "<table border=\"1\" class=\"dataframe\">\n",
       "  <thead>\n",
       "    <tr style=\"text-align: right;\">\n",
       "      <th></th>\n",
       "      <th>male</th>\n",
       "      <th>age</th>\n",
       "      <th>currentSmoker</th>\n",
       "      <th>cigsPerDay</th>\n",
       "      <th>BPMeds</th>\n",
       "      <th>prevalentStroke</th>\n",
       "      <th>prevalentHyp</th>\n",
       "      <th>diabetes</th>\n",
       "      <th>totChol</th>\n",
       "      <th>sysBP</th>\n",
       "      <th>diaBP</th>\n",
       "      <th>BMI</th>\n",
       "      <th>heartRate</th>\n",
       "      <th>glucose</th>\n",
       "      <th>TenYearCHD</th>\n",
       "    </tr>\n",
       "  </thead>\n",
       "  <tbody>\n",
       "    <tr>\n",
       "      <th>0</th>\n",
       "      <td>1</td>\n",
       "      <td>39</td>\n",
       "      <td>0</td>\n",
       "      <td>0.0</td>\n",
       "      <td>0.0</td>\n",
       "      <td>0</td>\n",
       "      <td>0</td>\n",
       "      <td>0</td>\n",
       "      <td>195.0</td>\n",
       "      <td>106.0</td>\n",
       "      <td>70.0</td>\n",
       "      <td>26.97</td>\n",
       "      <td>80.0</td>\n",
       "      <td>77.0</td>\n",
       "      <td>0</td>\n",
       "    </tr>\n",
       "    <tr>\n",
       "      <th>1</th>\n",
       "      <td>0</td>\n",
       "      <td>46</td>\n",
       "      <td>0</td>\n",
       "      <td>0.0</td>\n",
       "      <td>0.0</td>\n",
       "      <td>0</td>\n",
       "      <td>0</td>\n",
       "      <td>0</td>\n",
       "      <td>250.0</td>\n",
       "      <td>121.0</td>\n",
       "      <td>81.0</td>\n",
       "      <td>28.73</td>\n",
       "      <td>95.0</td>\n",
       "      <td>76.0</td>\n",
       "      <td>0</td>\n",
       "    </tr>\n",
       "    <tr>\n",
       "      <th>2</th>\n",
       "      <td>1</td>\n",
       "      <td>48</td>\n",
       "      <td>1</td>\n",
       "      <td>20.0</td>\n",
       "      <td>0.0</td>\n",
       "      <td>0</td>\n",
       "      <td>0</td>\n",
       "      <td>0</td>\n",
       "      <td>245.0</td>\n",
       "      <td>127.5</td>\n",
       "      <td>80.0</td>\n",
       "      <td>25.34</td>\n",
       "      <td>75.0</td>\n",
       "      <td>70.0</td>\n",
       "      <td>0</td>\n",
       "    </tr>\n",
       "    <tr>\n",
       "      <th>3</th>\n",
       "      <td>0</td>\n",
       "      <td>61</td>\n",
       "      <td>1</td>\n",
       "      <td>30.0</td>\n",
       "      <td>0.0</td>\n",
       "      <td>0</td>\n",
       "      <td>1</td>\n",
       "      <td>0</td>\n",
       "      <td>225.0</td>\n",
       "      <td>150.0</td>\n",
       "      <td>95.0</td>\n",
       "      <td>28.58</td>\n",
       "      <td>65.0</td>\n",
       "      <td>103.0</td>\n",
       "      <td>1</td>\n",
       "    </tr>\n",
       "    <tr>\n",
       "      <th>4</th>\n",
       "      <td>0</td>\n",
       "      <td>46</td>\n",
       "      <td>1</td>\n",
       "      <td>23.0</td>\n",
       "      <td>0.0</td>\n",
       "      <td>0</td>\n",
       "      <td>0</td>\n",
       "      <td>0</td>\n",
       "      <td>285.0</td>\n",
       "      <td>130.0</td>\n",
       "      <td>84.0</td>\n",
       "      <td>23.10</td>\n",
       "      <td>85.0</td>\n",
       "      <td>85.0</td>\n",
       "      <td>0</td>\n",
       "    </tr>\n",
       "  </tbody>\n",
       "</table>\n",
       "</div>"
      ],
      "text/plain": [
       "   male  age  currentSmoker  cigsPerDay  ...    BMI  heartRate  glucose  TenYearCHD\n",
       "0     1   39              0         0.0  ...  26.97       80.0     77.0           0\n",
       "1     0   46              0         0.0  ...  28.73       95.0     76.0           0\n",
       "2     1   48              1        20.0  ...  25.34       75.0     70.0           0\n",
       "3     0   61              1        30.0  ...  28.58       65.0    103.0           1\n",
       "4     0   46              1        23.0  ...  23.10       85.0     85.0           0\n",
       "\n",
       "[5 rows x 15 columns]"
      ]
     },
     "execution_count": 2,
     "metadata": {},
     "output_type": "execute_result"
    }
   ],
   "source": [
    "heart_df=pd.read_csv(\"/content/drive/MyDrive/ML/HW2/heartDisease/framingham.csv\")\n",
    "heart_df.dropna(axis=0,inplace=True)\n",
    "heart_df.head()"
   ]
  },
  {
   "cell_type": "code",
   "execution_count": 3,
   "metadata": {
    "colab": {
     "base_uri": "https://localhost:8080/"
    },
    "id": "5m5d9A9GfV4z",
    "outputId": "bf9785eb-2c25-4653-9dec-b84149e32eea"
   },
   "outputs": [
    {
     "name": "stdout",
     "output_type": "stream",
     "text": [
      "Se tienen 3749 datos.\n"
     ]
    }
   ],
   "source": [
    "print(f'Se tienen {len(heart_df)} datos.')"
   ]
  },
  {
   "cell_type": "markdown",
   "metadata": {
    "id": "CzBSb7iTfV40"
   },
   "source": [
    "### Análisis de Distribución de Clases\n",
    "\n",
    "En el diagrama a continuación puede observar un claro desbalance de los datos, en pasos posteriores hablaremos al respecto."
   ]
  },
  {
   "cell_type": "code",
   "execution_count": 4,
   "metadata": {
    "colab": {
     "base_uri": "https://localhost:8080/",
     "height": 266
    },
    "id": "fw53yV3kfV40",
    "outputId": "75e626ec-a0b0-45f1-f941-13857fb11433"
   },
   "outputs": [
    {
     "data": {
      "text/plain": [
       "<matplotlib.axes._subplots.AxesSubplot at 0x7faa5671bc50>"
      ]
     },
     "execution_count": 4,
     "metadata": {},
     "output_type": "execute_result"
    },
    {
     "data": {
      "image/png": "[encoded data removed]",
      "text/plain": [
       "<Figure size 432x288 with 1 Axes>"
      ]
     },
     "metadata": {},
     "output_type": "display_data"
    }
   ],
   "source": [
    "heart_df['TenYearCHD'].value_counts().plot(kind='pie')"
   ]
  },
  {
   "cell_type": "markdown",
   "metadata": {
    "id": "OI4ej7rWfV40"
   },
   "source": [
    "## Descripción de Variables\n",
    "\n",
    "Cada atributo es un factor potencial de riesgo. Existen factores demográficos, conductuales y médicos.\n",
    "\n",
    "- Demográfico:\n",
    "\n",
    "    - male: masculino (1) o femenino (0); (Nominal)\n",
    "\n",
    "    - age: edad del paciente; (Continuo: aunque las edades registradas se han truncado a números enteros, el concepto de edad es continuo)\n",
    "\n",
    "- Comportacional:\n",
    "\n",
    "    - currentSmoker: si el paciente es o no fumador actual (nominal)\n",
    "\n",
    "    - cigsPerDay: la cantidad de cigarrillos que la persona fumó en promedio en un día (se puede considerar continuo ya que uno puede tener cualquier cantidad de cigarrillos, incluso medio cigarrillo).\n",
    "\n",
    "- Historia médica:\n",
    "\n",
    "    - BPMeds: si el paciente estaba o no tomando medicación para la presión arterial (nominal)\n",
    "\n",
    "    - prevalentStroke: si el paciente había tenido previamente un accidente cerebrovascular o no (nominal)\n",
    "\n",
    "    - prevalentHyp: si el paciente era hipertenso (nominal)\n",
    "\n",
    "    - diabetes: si el paciente tenía diabetes o no (nominal)\n",
    "\n",
    "- Estado Médico actual:\n",
    "\n",
    "    - totChol: nivel de colesterol total (continuo)\n",
    "\n",
    "    - sysBP: presión arterial sistólica (continua)\n",
    "\n",
    "    - diaBP: presión arterial diastólica (continua)\n",
    "\n",
    "    - IMC: índice de masa corporal (continuo)\n",
    "\n",
    "    - heartRate: frecuencia cardíaca (continua: en la investigación médica, variables como la frecuencia cardíaca, aunque de hecho son discretas, se consideran continuas debido a la gran cantidad de valores posibles).\n",
    "\n",
    "    - glucose: nivel de glucosa (continuo)\n",
    "\n",
    "- **Variable a Predecir**\n",
    "\n",
    "    - TenYearCHD: Riesgo de padecer enfermedad coronaria 10 años en el futuro (binario: \"1\", significa \"Sí\", \"0\" significa \"No\")"
   ]
  },
  {
   "cell_type": "code",
   "execution_count": 5,
   "metadata": {
    "id": "LCKtO3gafV41"
   },
   "outputs": [],
   "source": [
    "x = heart_df.iloc[:,:-1]\n",
    "y = heart_df.iloc[:,-1]\n",
    "\n",
    "x_train,x_test,y_train,y_test=train_test_split(x,y,test_size=.20,random_state=22)"
   ]
  },
  {
   "cell_type": "code",
   "execution_count": 6,
   "metadata": {
    "id": "md1eujyNfV42"
   },
   "outputs": [],
   "source": [
    "scaler = MinMaxScaler()\n",
    "x_train = scaler.fit_transform(x_train)\n",
    "x_test = scaler.transform(x_test)"
   ]
  },
  {
   "cell_type": "markdown",
   "metadata": {
    "id": "tSspo7jpfV42"
   },
   "source": [
    "## Parte 1\n",
    "\n",
    "A continuación, debe utilizar la función `LogisticRegression` de SciKit-Learn para obtener un primer modelo de regresión logística y calcular su precisión a partir de la función `accuracy_score`.\n",
    "\n",
    "Obtenga resultados sobre los datos de entrenamiento y los datos de prueba. Concluya al respecto."
   ]
  },
  {
   "cell_type": "code",
   "execution_count": 7,
   "metadata": {
    "colab": {
     "base_uri": "https://localhost:8080/"
    },
    "id": "LVdjFUfUfV42",
    "outputId": "6a723dff-ea07-433c-a8d9-18b13655a10c"
   },
   "outputs": [
    {
     "name": "stdout",
     "output_type": "stream",
     "text": [
      "Precisión inicial: 0.844\n"
     ]
    }
   ],
   "source": [
    "logreg = LogisticRegression()\n",
    "logreg.fit(x_train, y_train)\n",
    "y_pred = logreg.predict(x_test) # Predicción de Etiquetas #\n",
    "\n",
    "print(f'Precisión inicial: {accuracy_score(y_test, y_pred)}')"
   ]
  },
  {
   "cell_type": "markdown",
   "metadata": {
    "id": "WtVukzlQfV43"
   },
   "source": [
    "### Matriz de Confusión\n",
    "\n",
    "Como recordará, la información en este dataset no posee una distribución de clases balanceada. La matriz de confusión es una herramienta que permite analizar el comportamiento del modelo para estos datos.\n",
    "\n",
    "Puede encontrar más información en este artículo: [Understanding Confusion Matrix](https://towardsdatascience.com/understanding-confusion-matrix-a9ad42dcfd62)"
   ]
  },
  {
   "cell_type": "code",
   "execution_count": 8,
   "metadata": {
    "colab": {
     "base_uri": "https://localhost:8080/",
     "height": 338
    },
    "id": "OObO1rf8fV43",
    "outputId": "f44fee7d-1a1f-4a7c-b9bf-6c285b16ea6b"
   },
   "outputs": [
    {
     "data": {
      "text/plain": [
       "<matplotlib.axes._subplots.AxesSubplot at 0x7faa5669fe10>"
      ]
     },
     "execution_count": 8,
     "metadata": {},
     "output_type": "execute_result"
    },
    {
     "data": {
      "image/png": "[encoded data removed]",
      "text/plain": [
       "<Figure size 576x360 with 2 Axes>"
      ]
     },
     "metadata": {
      "needs_background": "light"
     },
     "output_type": "display_data"
    }
   ],
   "source": [
    "cm = confusion_matrix(y_test,y_pred)\n",
    "conf_matrix = pd.DataFrame(data=cm,columns=['Predicted:0','Predicted:1'],index=['Actual:0','Actual:1'])\n",
    "plt.figure(figsize = (8,5))\n",
    "sn.heatmap(conf_matrix, annot=True,fmt='d',cmap=\"YlGnBu\")"
   ]
  },
  {
   "cell_type": "markdown",
   "metadata": {
    "id": "4eeoA2OjfV44"
   },
   "source": [
    "### Tratamiento de Datos Desbalanceados\n",
    "\n",
    "En casos de estudio como identificación de tendencias patológicas, es común tener datos desbalanceados, o en los cuales la gravedad de cometer [errores tipo I o tipo II](https://www.simplypsychology.org/type_I_and_type_II_errors.html) son bastante diferentes. En muchos casos, se puede preferir cometer cierto tipo de error sobre el otro. Para trabajar con estos problemas, se suele preferir sacrificar algo de [precisión](https://developers.google.com/machine-learning/crash-course/classification/accuracy) del modelo, a cambio de una mejora en términos prácticos.\n",
    "\n",
    "Este proceso se realiza a partir de la modificación del umbral a partir del cual se decide si un dato pertenece a una clase u otra. Utilice la función `binarize` para obtener valores de `0` ó `1` según las probabilidades de las predicciones realizadas utilizando la función `model.predict_proba`.\n",
    "\n",
    "Algunas métricas utilizadas para interpretar el rendimiento del modelo son las siguientes:\n",
    "\n",
    "- F1Score\n",
    "- TP Rate / Recall / Sensitividad\n",
    "- TN Rate / Especificidad\n",
    "\n",
    "Puede encontrar más información sobre estas métricas en los artículos:\n",
    "- [Accuracy, Precision, Recall or F1?](https://towardsdatascience.com/accuracy-precision-recall-or-f1-331fb37c5cb9)\n",
    "- [Sensitivity Vs Specificity In Data Science](https://medium.com/fintechexplained/sensitivity-vs-specificity-in-data-science-2f673039dbd1)"
   ]
  },
  {
   "cell_type": "code",
   "execution_count": 9,
   "metadata": {
    "colab": {
     "base_uri": "https://localhost:8080/"
    },
    "id": "XbD_gDzQfV44",
    "outputId": "659f8208-0384-4b35-ffde-873e12136448",
    "scrolled": false
   },
   "outputs": [
    {
     "name": "stdout",
     "output_type": "stream",
     "text": [
      "->Para un umbral de 0.2 tenemos esta matriz de confusión:\n",
      "[[512 118]\n",
      " [ 63  57]]\n",
      "Predicciones correctas: 569 \n",
      "Falsos negativos: 63 \n",
      "Accuracy: 0.7587\n",
      "Recall: 0.475\n",
      "Precision: 0.3257\n",
      "F1-Score: 0.3864\n",
      "Sensitividad: 0.475\n",
      "Especificidad: 0.8127\n",
      "\n",
      "->Para un umbral de 0.4 tenemos esta matriz de confusión:\n",
      "[[612  18]\n",
      " [104  16]]\n",
      "Predicciones correctas: 628 \n",
      "Falsos negativos: 104 \n",
      "Accuracy: 0.8373\n",
      "Recall: 0.1333\n",
      "Precision: 0.4706\n",
      "F1-Score: 0.2078\n",
      "Sensitividad: 0.1333\n",
      "Especificidad: 0.9714\n",
      "\n",
      "->Para un umbral de 0.5 tenemos esta matriz de confusión:\n",
      "[[627   3]\n",
      " [114   6]]\n",
      "Predicciones correctas: 633 \n",
      "Falsos negativos: 114 \n",
      "Accuracy: 0.844\n",
      "Recall: 0.05\n",
      "Precision: 0.6667\n",
      "F1-Score: 0.093\n",
      "Sensitividad: 0.05\n",
      "Especificidad: 0.9952\n",
      "\n",
      "->Para un umbral de 0.6 tenemos esta matriz de confusión:\n",
      "[[629   1]\n",
      " [119   1]]\n",
      "Predicciones correctas: 630 \n",
      "Falsos negativos: 119 \n",
      "Accuracy: 0.84\n",
      "Recall: 0.0083\n",
      "Precision: 0.5\n",
      "F1-Score: 0.0163\n",
      "Sensitividad: 0.0083\n",
      "Especificidad: 0.9984\n",
      "\n",
      "->Para un umbral de 0.8 tenemos esta matriz de confusión:\n",
      "[[630   0]\n",
      " [119   1]]\n",
      "Predicciones correctas: 631 \n",
      "Falsos negativos: 119 \n",
      "Accuracy: 0.8413\n",
      "Recall: 0.0083\n",
      "Precision: 1.0\n",
      "F1-Score: 0.0165\n",
      "Sensitividad: 0.0083\n",
      "Especificidad: 1.0\n",
      "\n"
     ]
    }
   ],
   "source": [
    "from sklearn.preprocessing import binarize\n",
    "\n",
    "umbrales = [0.2, 0.4, 0.5, 0.6, 0.8]\n",
    "\n",
    "for umbral in umbrales:\n",
    "    cm2 = 0\n",
    "    y_pred_prob_yes = logreg.predict_proba(x_test)\n",
    "    y_pred2 = binarize(y_pred_prob_yes[:, 1].reshape(-1, 1), threshold=umbral)\n",
    "    cm2 = confusion_matrix(y_test,y_pred2)\n",
    "    acc = accuracy_score(y_test, y_pred2)\n",
    "    recall = round(cm2[1,1]/(float(cm2[1,1]+cm2[1,0])), 4)\n",
    "    precision = round(cm2[1,1]/(float(cm2[1,1]+cm2[0,1])), 4)\n",
    "    print(f'''->Para un umbral de {round(umbral,4)} tenemos esta matriz de confusión:\n",
    "{cm2}\n",
    "Predicciones correctas: {cm2[0,0]+cm2[1,1]} \n",
    "Falsos negativos: {cm2[1,0]} \n",
    "Accuracy: {round(acc, 4)}\n",
    "Recall: {recall}\n",
    "Precision: {precision}\n",
    "F1-Score: {round( (2*precision*recall)/(precision+recall), 4)}\n",
    "Sensitividad: {round(cm2[1,1]/(float(cm2[1,1]+cm2[1,0])), 4)}\n",
    "Especificidad: {round(cm2[0,0]/(float(cm2[0,0]+cm2[0,1])), 4)}\\n''')\n"
   ]
  },
  {
   "cell_type": "markdown",
   "metadata": {
    "id": "uvNHRd0vfV45"
   },
   "source": [
    "Por otra parte, un criterio que facilita el visualizar este trade-off se conoce como la Curva ROC, en donde se ubican múltiples puntos para distintos valores del umbral de clasificación. Puede leer el artículo a continuación para una explicación más detallada:\n",
    "- Curva ROC: [Understanding AUC - ROC Curve](https://towardsdatascience.com/understanding-auc-roc-curve-68b2303cc9c5)"
   ]
  },
  {
   "cell_type": "code",
   "execution_count": 10,
   "metadata": {
    "colab": {
     "base_uri": "https://localhost:8080/",
     "height": 295
    },
    "id": "EoXWWEnrfV45",
    "outputId": "36755c86-5c20-4bd0-e710-3f8e62bb175f"
   },
   "outputs": [
    {
     "data": {
      "image/png": "[encoded data removed]",
      "text/plain": [
       "<Figure size 432x288 with 1 Axes>"
      ]
     },
     "metadata": {
      "needs_background": "light"
     },
     "output_type": "display_data"
    }
   ],
   "source": [
    "from sklearn.metrics import roc_curve, roc_auc_score\n",
    "auc = roc_auc_score(y_test, y_pred_prob_yes[:,1])\n",
    "fpr, tpr, thresholds = roc_curve(y_test, y_pred_prob_yes[:,1])\n",
    "plt.plot(fpr,tpr)\n",
    "plt.plot(np.linspace(0, 1, 100), np.linspace(0, 1, 100))\n",
    "plt.xlim([0.0, 1.0])\n",
    "plt.ylim([0.0, 1.0])\n",
    "plt.title('Curva ROC para Clasificador de Enfermedad Coronaria ' + f\"AUC: {round(auc, 2)}\")\n",
    "plt.xlabel('Tasa de Falsos Positivos (1-Especificidad)')\n",
    "plt.ylabel('Tasa de Verdaderos Positivos (Sensitividad)')\n",
    "plt.grid(True)"
   ]
  },
  {
   "cell_type": "markdown",
   "metadata": {
    "id": "-JC7oPekSN9r"
   },
   "source": [
    "Observe la gráfica, y teniendo en cuenta los resultados concluya sobre la proporción que se puede considerar más adecuada en este contexto."
   ]
  },
  {
   "cell_type": "markdown",
   "metadata": {
    "id": "1eQYU3KMSd5h"
   },
   "source": [
    "# Analisis primera parte\n",
    "\n",
    "Primero vamos a visualizar la cantidad de muestras positivas y negativas en el conjunto de pruebas."
   ]
  },
  {
   "cell_type": "code",
   "execution_count": 11,
   "metadata": {
    "colab": {
     "base_uri": "https://localhost:8080/"
    },
    "id": "dYXx74NiSQXI",
    "outputId": "26cb8f85-1cec-463b-b91c-0c9e15e691ee"
   },
   "outputs": [
    {
     "data": {
      "text/plain": [
       "0    630\n",
       "1    120\n",
       "Name: TenYearCHD, dtype: int64"
      ]
     },
     "execution_count": 11,
     "metadata": {},
     "output_type": "execute_result"
    }
   ],
   "source": [
    "y_test.value_counts()"
   ]
  },
  {
   "cell_type": "markdown",
   "metadata": {
    "id": "8n8SoS3PSy-8"
   },
   "source": [
    "## Modelo inicial \n",
    "\n",
    "El modelo inicial desarrollado en sklearn tiene un Accuracy Score de aproximadamente 0.84, el cual podría pasar como un score deseable si los datos estuvieran balanceados, sin embargo, al inspeccionar la matriz de confusión nos damos cuenta que la gran parte de las predicciones son a favor de la clase negativa con poco menos de 10 predicciones de la clase positiva a pesar de que en realidad hay 120 datos que pertenecen a dicha clase. Esto nos lleva a concluir a que en escenarios donde los datos son desbalanceados requerimos más de una métrica para tener un entendimiento acertado de el comportamiento del modelo.\n",
    "\n",
    "\n",
    "## Manejo de datos desbalanceados\n",
    "\n",
    "Para medir correctamente el desempeño de nuestro modelo hacemos uso de tres métricas de desempeño.\n",
    "\n",
    "### Precision:\n",
    "\n",
    "Precision = $\\frac{True Positive}{True Positive + False Positive}$\n",
    "\n",
    "Como se puede inferir de su ecuación, la precision nos indica cuantas de las predicciones que hicimos como pertenecientes a la clase de interés en realidad lo eran. Por ejemplo, si un clasificador predice 10 veces la etiqueta positiva pero solo 5 de estas predicciones son correctas su precision será de 0.5, ya que se tienen 5 verdaderos positivos y 5 falsos positivios (5/(5+5)).\n",
    "\n",
    "### Recall:\n",
    "\n",
    "Recall = $\\frac{True Positive}{True Positive + False Negative}$\n",
    "\n",
    "Como se puede inferir de su ecuación, el recall nos indica cuántas de las muestras pertenecientes a la clase de interés logramos clasificar correctamente. Por ejemplo, si evaluamos un clasificador en un conjunto de pruebas con 100 muestras de la clase positiva y nuestro clasificador solo logro detectar 70 de ellas, este tendría un recall de 0.7.\n",
    "\n",
    "### F1-Score:\n",
    "\n",
    "F1-score = $\\frac{2(Precision)(Recall)}{Precision + Recall}$\n",
    "\n",
    "El F1-Score es la media armónica entre Precision y Recall, nos ayuda a resumir los resultados obtenidos en un solo número. Además, el hecho de usar la media armónica en lugar de una media aritmética beneficia a parejas de precision y recall que tengan valores similares.  \n",
    "\n",
    "El uso de estas tres métricas nos permite evaluar el desempeño de nuestros clasificadores de forma adecuada cuando nos enfrentamos a un problema desbalanceado. Como se puede observar para todos los resultados obtenidos con diferentes umbrales, el Accuracy Score es notoriamente más alto que el F1-Score. Por otro lado, ya que se sabe la tendencia del clasificador de sesgarse por la clase negativa (al ser la mayoritaria) podemos concluir que el uso del F1-Score es una métrica mucho más acertada para este tipo de problemas. En cuanto a la Especificidad, esta tampoco parece ser una buena métrica para este problema, dado que esta nos indica la cantidad de muestras negativas que logramos detectar de manera correcta, dado que el conjunto de datos esta fuertemente desbalanceado a favor de esta clase y que el clasificador tiende a decir esta clase sobre la otra, estamos obteniendo valores muy altos de Especificidad que no representan las falencias del modelo.\n",
    "\n",
    "Finalmente, este experimento evidencia el trade-off que existe entre el precision y recall a medida que el threshold de clasificación aumenta. Entre más grande sea este threshold serán clasificados como muestras de interés aquellas que tengan más probabilidad de pertenecer a la clase positiva, por lo tanto, aunque sean menos, muy seguramente la gran mayoría de estas estarán bien clasificadas causando que la precisión aumente. Sin embargo, mientras el threshold crece el recall caerá dado que aquellas muestras pertenecientes a la clase positiva pero que para el modelo tienen una baja probabilidad de pertecer a dicha clase serán clasificados como negativos, esto incrementará el número de falsos negativos lo que a su vez reducirá el recall.\n",
    "\n",
    "\n",
    "## Análisis de Curva ROC\n",
    "\n",
    "La curva ROC es una forma gráfica de evaluar el desempeño de un clasificador, esta compara la tasa de verdaderos positivos y la tasa de falsos positivos a medida que se varia el threshold de clasificación. La linea naranja indica los puntos en la que estas tasas son iguales, por lo tanto entre más a la izquierda este el punto obtenido mayor es la tasa de verdaderos positivos sobre la de falsos positvos, indicando que es un mejor threshold para el modelo. El área bajo esta curva es una forma de \"resumir\" la información de la misma en una sola métrica, haciendo más fácil el proceso de comparación entre curvas, dado que entre más grande sea esta área, más alejada está de la linea naranja.\n"
   ]
  },
  {
   "cell_type": "markdown",
   "metadata": {
    "id": "8aqJ2m1gfV45"
   },
   "source": [
    "\n",
    "## Parte 2\n",
    "\n",
    "Ahora usted debe desarrollar su propia implementación del método Descenso de Gradiente estocástico para un modelo de regresión logística. Realice el entrenamiento a partir del 80% de los datos. Al final del entrenamiento, en la lista errores se deben tener los valores de la función de error para cada iteración y así poder observar el progreso gráficamente."
   ]
  },
  {
   "cell_type": "code",
   "execution_count": 12,
   "metadata": {
    "colab": {
     "base_uri": "https://localhost:8080/",
     "height": 583
    },
    "id": "fk6femCsfV46",
    "outputId": "0babb045-a271-4a8b-8c99-95c7e00ff257"
   },
   "outputs": [
    {
     "name": "stdout",
     "output_type": "stream",
     "text": [
      "Precisión modelo actual: 0.848 - F1-Score: 0.16176470588235292\n",
      "Min diff 0.010914640841594712\n",
      "------\n",
      "New best model 0.01\n",
      "Precisión modelo actual: 0.8453333333333334 - F1-Score: 0.1212121212121212\n",
      "Min diff 0.0019618717860307782\n",
      "------\n"
     ]
    },
    {
     "name": "stderr",
     "output_type": "stream",
     "text": [
      "/usr/local/lib/python3.7/dist-packages/ipykernel_launcher.py:63: RuntimeWarning: invalid value encountered in sqrt\n"
     ]
    },
    {
     "name": "stdout",
     "output_type": "stream",
     "text": [
      "Precisión modelo actual: 0.84 - F1-Score: 0.01639344262295082\n",
      "Min diff 0.0018998779999023234\n",
      "------\n"
     ]
    },
    {
     "name": "stderr",
     "output_type": "stream",
     "text": [
      "/usr/local/lib/python3.7/dist-packages/ipykernel_launcher.py:63: RuntimeWarning: invalid value encountered in sqrt\n"
     ]
    },
    {
     "name": "stdout",
     "output_type": "stream",
     "text": [
      "Precisión modelo actual: 0.84 - F1-Score: 0.0\n",
      "Min diff 0.0008199173384132697\n",
      "------\n"
     ]
    },
    {
     "data": {
      "text/plain": [
       "<matplotlib.legend.Legend at 0x7faa4d7c9d50>"
      ]
     },
     "execution_count": 12,
     "metadata": {},
     "output_type": "execute_result"
    },
    {
     "data": {
      "image/png": "[encoded data removed]",
      "text/plain": [
       "<Figure size 432x288 with 1 Axes>"
      ]
     },
     "metadata": {
      "needs_background": "light"
     },
     "output_type": "display_data"
    }
   ],
   "source": [
    "import math\n",
    "import random\n",
    "from sklearn.metrics import log_loss\n",
    "\n",
    "np.random.seed(22)\n",
    "X_train_array = np.c_[np.ones(x_train.shape[0]), x_train]\n",
    "y_train_array = y_train.values\n",
    "\n",
    "w0 = np.random.rand(X_train_array.shape[1]) # Inicialización de w #\n",
    "\n",
    "w = w0.copy()\n",
    "# Inicialización de criterio de parada (al disminuir el valor de eps, se aumenta la precisión y el tiempo de procesamiento)\n",
    "eps = 1e-5\n",
    "error = 100\n",
    "dif = 100\n",
    "\n",
    "def sigma(w,x):   \n",
    "    # Implementamos la funcion sigmoide \n",
    "    res_sigmoid = 1/(1+math.e**(-x.T.dot(w)))\n",
    "    return res_sigmoid\n",
    "\n",
    "tasas = [0.01, 0.001, 0.0001, 0.00001]\n",
    "eps = {\n",
    "    0.01: 0.01188,\n",
    "    0.001: 0.00202,\n",
    "    0.0001: 0.0019,\n",
    "    0.00001: 0.00082,\n",
    "}\n",
    "errors_by_lr = list()\n",
    "best_model = None\n",
    "best_f1 = -1\n",
    "best_test_predictions = None\n",
    "for tasa in tasas:\n",
    "    w = w0.copy()\n",
    "    old_w = w.copy()\n",
    "    errors = list()\n",
    "    diff_list = list()\n",
    "    # Como criterio de parada tomaremos el cambio del vector de pesos entre iteraciones.\n",
    "    diff_norm = 1e10\n",
    "    while diff_norm>eps[tasa]:        \n",
    "        # # Desarrollo de algoritmo #\n",
    "        # Revolvemos de manera aleatoria los indices de los datos de entrenamiento.\n",
    "        train_index = list(range(0, X_train_array.shape[0]-1))\n",
    "        random.shuffle(train_index)\n",
    "        y_pred = list()\n",
    "        y_target = list()\n",
    "        # Iteramos sobre estos indices garantizando que pasamos por todos los datos. \n",
    "        for i in train_index:\n",
    "            xActual = np.expand_dims(X_train_array[i], 1)\n",
    "            yActual = y_train_array[i]\n",
    "            w = w.reshape(-1, 1)  \n",
    "            g = sigma(w, xActual)\n",
    "            e = yActual - g\n",
    "            step = tasa*e*xActual\n",
    "            step = step.reshape(-1, 1)          \n",
    "            w = w + step\n",
    "            y_pred.append(g[0][0])\n",
    "            y_target.append(yActual)\n",
    "        # Computamos el log_loss para graficar el error en la primera epoca. \n",
    "        errors.append(log_loss(y_target, y_pred))\n",
    "        # Calculamos el cambio en el vector de pesos\n",
    "        diff = old_w-w\n",
    "        diff_norm = np.sqrt(diff.T.dot(diff))[0][0]\n",
    "        diff_list.append(diff_norm)\n",
    "        old_w = w.copy()\n",
    "    \n",
    "    X_test_array = np.c_[np.ones(x_test.shape[0]), x_test]\n",
    "    y_test_array = y_test.values\n",
    "\n",
    "    y_pred = np.zeros(len(x_test))\n",
    "    errors_by_lr.append(errors)\n",
    "    for i in range(0,len(x_test)):\n",
    "        prob = sigma(w,X_test_array[i])\n",
    "        if prob>0.5:\n",
    "            y_pred[i] = 1\n",
    "        else:\n",
    "            y_pred[i] = 0\n",
    "    ## Computamos el accuracy score y el F1 score\n",
    "    acc = sklearn.metrics.accuracy_score(y_test,y_pred)\n",
    "    f1 = sklearn.metrics.f1_score(y_test,y_pred)\n",
    "    print(f'Precisión modelo actual: {acc} - F1-Score: {f1}')\n",
    "    print(f\"Min diff\", min(diff_list))\n",
    "    print(f\"------\")\n",
    "    ## Guardamos el modelo con mejor F1 score\n",
    "    if f1 > best_f1:\n",
    "        print(f\"New best model {tasa}\")\n",
    "        best_f1 = f1\n",
    "        best_model = w.copy()\n",
    "        best_test_predictions = y_pred\n",
    "\n",
    "plt.figure()\n",
    "for e, t in zip(errors_by_lr, tasas):\n",
    "    plt.plot(e, label=f\"LR = {t}\")\n",
    "plt.title(\"Log Loss vs iterations \")\n",
    "plt.xlabel(\"Iterations\")\n",
    "plt.ylabel(\"Loss\")\n",
    "plt.legend()"
   ]
  },
  {
   "cell_type": "markdown",
   "metadata": {
    "id": "gTUeGF2mfV46"
   },
   "source": [
    "## Matriz de Confusión\n",
    "\n",
    "Observe y analice la matriz de confusión para su mejor modelo. Escriba claramente sus conclusiones."
   ]
  },
  {
   "cell_type": "code",
   "execution_count": 13,
   "metadata": {
    "colab": {
     "base_uri": "https://localhost:8080/",
     "height": 338
    },
    "id": "CZz1g_xOfV46",
    "outputId": "d0ae905d-0710-400f-d3a6-b41a0bd0b398"
   },
   "outputs": [
    {
     "data": {
      "text/plain": [
       "<matplotlib.axes._subplots.AxesSubplot at 0x7faa5663a250>"
      ]
     },
     "execution_count": 13,
     "metadata": {},
     "output_type": "execute_result"
    },
    {
     "data": {
      "image/png": "[encoded data removed]",
      "text/plain": [
       "<Figure size 576x360 with 2 Axes>"
      ]
     },
     "metadata": {
      "needs_background": "light"
     },
     "output_type": "display_data"
    }
   ],
   "source": [
    "y_pred = best_test_predictions\n",
    "cm = confusion_matrix(y_test,y_pred)\n",
    "conf_matrix = pd.DataFrame(data=cm,columns=['Predicted:0','Predicted:1'],index=['Actual:0','Actual:1'])\n",
    "\n",
    "plt.figure(figsize = (8,5))\n",
    "sn.heatmap(conf_matrix, annot=True,fmt='d',cmap=\"YlGnBu\")"
   ]
  },
  {
   "cell_type": "markdown",
   "metadata": {
    "id": "Rjsn05RjhvPG"
   },
   "source": [
    "# Análisis segunda parte\n",
    "\n",
    "En esta parte se implementa el algoritmo de ascenso de gradiente estocástico para el caso de una regresión logística. Su implementacón es bastante similar a la propuesta en el trabajo anterior para la regresión lineal. Con pequeñas diferencias como el ascenso en lugar del descenso y el uso de la función de activación sigmoidal.\n",
    "\n",
    "En las curvas de aprendizaje se puede apreciar el correcto funcionamiento del algoritmo dado que el error disminuye tras cada iteración hasta su punto de convergencia. También, se evidencia el impacto de la tasa de aprendizaje en el proceso de entrenamiento; las tasas de aprendizaje pequeñas causan un entrenamiento más lento en comparacación con las altas. Así mismo, los cambios en esta tasa de aprendizaje afectan el criterio de parada que en este caso es la diferencia entre el vector de pesos para cada iteración. La magnitud del cambio más pequeño entre dichos vectores es directamente proporcional al tamaño de la tasa de aprendizaje, haciendo necesario el uso de diferentes criterios de parada para cada uno de estos modelos.\n",
    "\n",
    "El algoritmo de entrenamiento, guarda los resultados obtenidos con el mejor modelo siguiendo el criterio del F1-Score. Con estos resultados graficamos la matriz de confusión anterior, la cual presenta resultados comparables con el modelo entrenado utilizando la librería Scikit-Learn, demostrando una vez más la eficiencia del algoritmo presentado.\n",
    "\n",
    "\n",
    "\n"
   ]
  },
  {
   "cell_type": "markdown",
   "metadata": {
    "id": "rK_1456i42C8"
   },
   "source": [
    "## CONCLUSIONES\n",
    "\n",
    "* Al aumentar el umbral de 0.2 a 0.8, empleando la librería Scikit-Learn, aumenta el accuracy de 0.75 a 0.84 y la cantidad de predicciones correctas, sin embargo, aumenta la cantidad de falsos negativos ya que el modelo aumenta el sesgo debido al desbalance de datos y tiende a clasificar cualquier entrada como la clase que más tiene datos de entrenamiento (clase 0: No tiene riesgo de padecer enfermedad coronaria en 10 años).\n",
    "\n",
    "* A través de métricas como la sensitividad y especificidad se puede medir de igual manera el cambio que provoca el sesgo del modelo por desbalance de datos, donde al aumentar el umbral y por ende el sesgo, se obtiene una dismnuición en la sensitividad y un aumento en la especificidad, ya que los negativos los predice muy bien (al perder la diferenciación de clases y clasificar la gran mayoría de entradas como esta clase), pero en los positivos es muy malo.  \n",
    "\n",
    "* Tener en cuenta solo la precisión es una muy mala idea en este caso particular con desbalance de datos ya que evalúa únicamente si se tienen pocos falsos positivos, se observa que con umbral de 0.8 el modelo obtiene una precisión de 1 ya que obtiene 0 falsos positivos, sin embargo, el recall da demasiado bajo ya que la cantidad de falsos negativos son significativos, dando a entender que en realidad el modelo no es bueno, ya que no logra diferenciar entre las clases.\n",
    "\n",
    "* La métrica F1 al ser una relación entre precisión y recall, disminuye a medida que el modelo empeora, por ende es una métrica muy importante para mediar la relación de falsos positivos y falsos negativos, obtener un F1 alto quiere decir que el modelo realmente está funcionando de acuerdo a lo esperado al tener un bajo nivel de errores tanto tipo I (falso positivo) como tipo II (falso negativo).\n",
    "\n",
    "* En la curva ROC se observa un AUC de 0.73, esto sucede ya que en relación al desbalance de los datos, como se observó en la gráfica de torta de distribución de clases, aproximadamente un 73% de los datos corresponden a la clase 0, por lo tanto, aunque no es un AUC demasiado malo, en realidad teniendo en cuenta los datos con los que se entrenó, en realidad nos indica que el modelo no logra una buena distinción entre clases. Si el dataset fuera balanceado, un AUC de 0.73 quiere decir que logra alguna separación entre los datos, aunque no lo suficientemente alta para ser un buen modelo, sin embargo en este caso, sin tener en cuenta el desajuste de datos se podría pensar que el modelo no es tan malo como en realidad lo es.\n",
    "\n",
    "* El descenso de gradiente estocástico implementado en la parte 2 logra resultados muy similares a los obtenidos con la libreria, de la gráfica de entrenamiento se observa la influencia del learning rate, donde a menor learning rate se obtiene un descenso que toma mayor número de iteraciones para converger pero logra llegar al criterio de parada antes que con un valor alto de learning rate. La pérdida logra un valor cercano a 0.4 para todos las tasas de aprendizaje, al ser un valor no muy bajo, indica que el modelo no es muy bueno, esto se corrobora en la matriz de confusión al tener un número muy grande de falsos negativos.\n",
    "\n",
    "* El desbalance de datos de entrenamiento afectan de gran forma al comportamiento de un modelo, es importante no limitar las métricas a la presición para no tener una idea errada de que el modelo es bueno, a nivel general es muy importante siempre tener en cuenta las caracteristicas de la data con la que se entrena para saber el tipo de modelo a implementar y las métricas a tener en cuenta.\n",
    "\n",
    "* La matriz de confusión es de gran ayuda para obtener un panorama general del comportamiento del modelo de forma rápida, por su lado, variables como precisión, recall, F1, sensibilidad y especificidad dan estadísticas puntuales sobre el comportamiento del modelo."
   ]
  }
 ],
 "metadata": {
  "colab": {
   "collapsed_sections": [],
   "name": "ML_hw2.ipynb",
   "provenance": []
  },
  "kernelspec": {
   "display_name": "Python 3",
   "language": "python",
   "name": "python3"
  },
  "language_info": {
   "codemirror_mode": {
    "name": "ipython",
    "version": 3
   },
   "file_extension": ".py",
   "mimetype": "text/x-python",
   "name": "python",
   "nbconvert_exporter": "python",
   "pygments_lexer": "ipython3",
   "version": "3.8.10"
  }
 },
 "nbformat": 4,
 "nbformat_minor": 1
}
