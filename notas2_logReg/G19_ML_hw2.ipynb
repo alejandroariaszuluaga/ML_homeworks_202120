{
 "cells": [
  {
   "cell_type": "markdown",
   "metadata": {},
   "source": [
    "# Regresión Logística: Predicción de Enfermedad Coronaria\n",
    "\n",
    "A continuación se observa un problema de clasificación binaria y se desea analizar una posible solución a partir de un modelo de regresión logística. Se busca implementar el algoritmo mencionado, inicialmente empleando la librería SciKit-Learn para luego desarrollar el mismo proceso de entrenamiento manualmente (Descenso de Gradiente Estocástico).\n",
    "\n",
    "También se introducirán algunos conceptos para lidiar con datos desbalanceados como: matriz de confusión, curva ROC, y algunas otras métricas importantes.\n",
    "\n",
    "Debe completar las celdas vacías y seguir las instrucciones anotadas en el cuaderno.\n",
    "\n",
    "La fecha límite de entrega es el día **20 de septiembre** y se realizará a través de Bloque Neón."
   ]
  },
  {
   "cell_type": "code",
   "execution_count": 277,
   "metadata": {},
   "outputs": [],
   "source": [
    "import pandas as pd\n",
    "import numpy as np\n",
    "import statsmodels.api as sm\n",
    "import scipy.stats as st\n",
    "import matplotlib.pyplot as plt\n",
    "import seaborn as sn\n",
    "import sklearn\n",
    "from sklearn.linear_model import LogisticRegression\n",
    "from sklearn.model_selection import train_test_split\n",
    "from sklearn.metrics import confusion_matrix\n",
    "from sklearn.preprocessing import OrdinalEncoder, MinMaxScaler, RobustScaler\n",
    "import matplotlib.mlab as mlab\n",
    "%matplotlib inline"
   ]
  },
  {
   "cell_type": "code",
   "execution_count": 278,
   "metadata": {
    "scrolled": true
   },
   "outputs": [
    {
     "data": {
      "text/html": [
       "<div>\n",
       "<style scoped>\n",
       "    .dataframe tbody tr th:only-of-type {\n",
       "        vertical-align: middle;\n",
       "    }\n",
       "\n",
       "    .dataframe tbody tr th {\n",
       "        vertical-align: top;\n",
       "    }\n",
       "\n",
       "    .dataframe thead th {\n",
       "        text-align: right;\n",
       "    }\n",
       "</style>\n",
       "<table border=\"1\" class=\"dataframe\">\n",
       "  <thead>\n",
       "    <tr style=\"text-align: right;\">\n",
       "      <th></th>\n",
       "      <th>male</th>\n",
       "      <th>age</th>\n",
       "      <th>currentSmoker</th>\n",
       "      <th>cigsPerDay</th>\n",
       "      <th>BPMeds</th>\n",
       "      <th>prevalentStroke</th>\n",
       "      <th>prevalentHyp</th>\n",
       "      <th>diabetes</th>\n",
       "      <th>totChol</th>\n",
       "      <th>sysBP</th>\n",
       "      <th>diaBP</th>\n",
       "      <th>BMI</th>\n",
       "      <th>heartRate</th>\n",
       "      <th>glucose</th>\n",
       "      <th>TenYearCHD</th>\n",
       "    </tr>\n",
       "  </thead>\n",
       "  <tbody>\n",
       "    <tr>\n",
       "      <th>0</th>\n",
       "      <td>1</td>\n",
       "      <td>39</td>\n",
       "      <td>0</td>\n",
       "      <td>0.0</td>\n",
       "      <td>0.0</td>\n",
       "      <td>0</td>\n",
       "      <td>0</td>\n",
       "      <td>0</td>\n",
       "      <td>195.0</td>\n",
       "      <td>106.0</td>\n",
       "      <td>70.0</td>\n",
       "      <td>26.97</td>\n",
       "      <td>80.0</td>\n",
       "      <td>77.0</td>\n",
       "      <td>0</td>\n",
       "    </tr>\n",
       "    <tr>\n",
       "      <th>1</th>\n",
       "      <td>0</td>\n",
       "      <td>46</td>\n",
       "      <td>0</td>\n",
       "      <td>0.0</td>\n",
       "      <td>0.0</td>\n",
       "      <td>0</td>\n",
       "      <td>0</td>\n",
       "      <td>0</td>\n",
       "      <td>250.0</td>\n",
       "      <td>121.0</td>\n",
       "      <td>81.0</td>\n",
       "      <td>28.73</td>\n",
       "      <td>95.0</td>\n",
       "      <td>76.0</td>\n",
       "      <td>0</td>\n",
       "    </tr>\n",
       "    <tr>\n",
       "      <th>2</th>\n",
       "      <td>1</td>\n",
       "      <td>48</td>\n",
       "      <td>1</td>\n",
       "      <td>20.0</td>\n",
       "      <td>0.0</td>\n",
       "      <td>0</td>\n",
       "      <td>0</td>\n",
       "      <td>0</td>\n",
       "      <td>245.0</td>\n",
       "      <td>127.5</td>\n",
       "      <td>80.0</td>\n",
       "      <td>25.34</td>\n",
       "      <td>75.0</td>\n",
       "      <td>70.0</td>\n",
       "      <td>0</td>\n",
       "    </tr>\n",
       "    <tr>\n",
       "      <th>3</th>\n",
       "      <td>0</td>\n",
       "      <td>61</td>\n",
       "      <td>1</td>\n",
       "      <td>30.0</td>\n",
       "      <td>0.0</td>\n",
       "      <td>0</td>\n",
       "      <td>1</td>\n",
       "      <td>0</td>\n",
       "      <td>225.0</td>\n",
       "      <td>150.0</td>\n",
       "      <td>95.0</td>\n",
       "      <td>28.58</td>\n",
       "      <td>65.0</td>\n",
       "      <td>103.0</td>\n",
       "      <td>1</td>\n",
       "    </tr>\n",
       "    <tr>\n",
       "      <th>4</th>\n",
       "      <td>0</td>\n",
       "      <td>46</td>\n",
       "      <td>1</td>\n",
       "      <td>23.0</td>\n",
       "      <td>0.0</td>\n",
       "      <td>0</td>\n",
       "      <td>0</td>\n",
       "      <td>0</td>\n",
       "      <td>285.0</td>\n",
       "      <td>130.0</td>\n",
       "      <td>84.0</td>\n",
       "      <td>23.10</td>\n",
       "      <td>85.0</td>\n",
       "      <td>85.0</td>\n",
       "      <td>0</td>\n",
       "    </tr>\n",
       "  </tbody>\n",
       "</table>\n",
       "</div>"
      ],
      "text/plain": [
       "   male  age  currentSmoker  cigsPerDay  BPMeds  prevalentStroke  \\\n",
       "0     1   39              0         0.0     0.0                0   \n",
       "1     0   46              0         0.0     0.0                0   \n",
       "2     1   48              1        20.0     0.0                0   \n",
       "3     0   61              1        30.0     0.0                0   \n",
       "4     0   46              1        23.0     0.0                0   \n",
       "\n",
       "   prevalentHyp  diabetes  totChol  sysBP  diaBP    BMI  heartRate  glucose  \\\n",
       "0             0         0    195.0  106.0   70.0  26.97       80.0     77.0   \n",
       "1             0         0    250.0  121.0   81.0  28.73       95.0     76.0   \n",
       "2             0         0    245.0  127.5   80.0  25.34       75.0     70.0   \n",
       "3             1         0    225.0  150.0   95.0  28.58       65.0    103.0   \n",
       "4             0         0    285.0  130.0   84.0  23.10       85.0     85.0   \n",
       "\n",
       "   TenYearCHD  \n",
       "0           0  \n",
       "1           0  \n",
       "2           0  \n",
       "3           1  \n",
       "4           0  "
      ]
     },
     "execution_count": 278,
     "metadata": {},
     "output_type": "execute_result"
    }
   ],
   "source": [
    "heart_df=pd.read_csv(\"heartDisease/framingham.csv\")\n",
    "heart_df.dropna(axis=0,inplace=True)\n",
    "heart_df.head()"
   ]
  },
  {
   "cell_type": "code",
   "execution_count": 279,
   "metadata": {},
   "outputs": [
    {
     "name": "stdout",
     "output_type": "stream",
     "text": [
      "Se tienen 3749 datos.\n"
     ]
    }
   ],
   "source": [
    "print(f'Se tienen {len(heart_df)} datos.')"
   ]
  },
  {
   "cell_type": "markdown",
   "metadata": {},
   "source": [
    "### Análisis de Distribución de Clases\n",
    "\n",
    "En el diagrama a continuación puede observar un claro desbalanceo de los datos, en pasos posteriores hablaremos al respecto."
   ]
  },
  {
   "cell_type": "code",
   "execution_count": 280,
   "metadata": {},
   "outputs": [
    {
     "data": {
      "text/plain": [
       "<AxesSubplot:ylabel='TenYearCHD'>"
      ]
     },
     "execution_count": 280,
     "metadata": {},
     "output_type": "execute_result"
    },
    {
     "data": {
      "image/png": "[encoded data removed]",
      "text/plain": [
       "<Figure size 432x288 with 1 Axes>"
      ]
     },
     "metadata": {},
     "output_type": "display_data"
    }
   ],
   "source": [
    "heart_df['TenYearCHD'].value_counts().plot(kind='pie')"
   ]
  },
  {
   "cell_type": "markdown",
   "metadata": {},
   "source": [
    "## Descripción de Variables\n",
    "\n",
    "Cada atributo es un factor potencial de riesgo. Existen factores demográficos, conductuales y médicos.\n",
    "\n",
    "- Demográfico:\n",
    "\n",
    "    - male: masculino (1) o femenino (0); (Nominal)\n",
    "\n",
    "    - age: edad del paciente; (Continuo: aunque las edades registradas se han truncado a números enteros, el concepto de edad es continuo)\n",
    "\n",
    "- Comportacional:\n",
    "\n",
    "    - currentSmoker: si el paciente es o no fumador actual (nominal)\n",
    "\n",
    "    - cigsPerDay: la cantidad de cigarrillos que la persona fumó en promedio en un día (se puede considerar continuo ya que uno puede tener cualquier cantidad de cigarrillos, incluso medio cigarrillo).\n",
    "\n",
    "- Historia médica:\n",
    "\n",
    "    - BPMeds: si el paciente estaba o no tomando medicación para la presión arterial (nominal)\n",
    "\n",
    "    - prevalentStroke: si el paciente había tenido previamente un accidente cerebrovascular o no (nominal)\n",
    "\n",
    "    - prevalentHyp: si el paciente era hipertenso (nominal)\n",
    "\n",
    "    - diabetes: si el paciente tenía diabetes o no (nominal)\n",
    "\n",
    "- Estado Médico actual:\n",
    "\n",
    "    - totChol: nivel de colesterol total (continuo)\n",
    "\n",
    "    - sysBP: presión arterial sistólica (continua)\n",
    "\n",
    "    - diaBP: presión arterial diastólica (continua)\n",
    "\n",
    "    - IMC: índice de masa corporal (continuo)\n",
    "\n",
    "    - heartRate: frecuencia cardíaca (continua: en la investigación médica, variables como la frecuencia cardíaca, aunque de hecho son discretas, se consideran continuas debido a la gran cantidad de valores posibles).\n",
    "\n",
    "    - glucose: nivel de glucosa (continuo)\n",
    "\n",
    "- **Variable a Predecir**\n",
    "\n",
    "    - TenYearCHD: Riesgo de padecer enfermedad coronaria 10 años en el futuro (binario: \"1\", significa \"Sí\", \"0\" significa \"No\")"
   ]
  },
  {
   "cell_type": "code",
   "execution_count": 281,
   "metadata": {},
   "outputs": [],
   "source": [
    "x = heart_df.iloc[:,:-1]\n",
    "y = heart_df.iloc[:,-1]\n",
    "\n",
    "x_train,x_test,y_train,y_test=train_test_split(x,y,test_size=.20,random_state=22)"
   ]
  },
  {
   "cell_type": "code",
   "execution_count": 282,
   "metadata": {},
   "outputs": [],
   "source": [
    "scaler = MinMaxScaler() # Utilice un MinMaxScaler #\n",
    "x_train = scaler.fit_transform(x_train) # Ajuste y Aplique el Escalamiento (función fit_transform) #\n",
    "x_test = scaler.transform(x_test) # Aplique el Escalamiento (función transform) #"
   ]
  },
  {
   "cell_type": "markdown",
   "metadata": {},
   "source": [
    "## Parte 1\n",
    "\n",
    "A continuación, debe utilizar la función `LogisticRegression` de SciKit-Learn para obtener un primer modelo de regresión logística y calcular su precisión a partir de la función `accuracy_score`.\n",
    "\n",
    "Obtenga resultados sobre los datos de entrenamiento y los datos de prueba. Concluya al respecto."
   ]
  },
  {
   "cell_type": "code",
   "execution_count": 283,
   "metadata": {},
   "outputs": [
    {
     "name": "stdout",
     "output_type": "stream",
     "text": [
      "Precisión inicial: 0.844\n"
     ]
    }
   ],
   "source": [
    "logreg = LogisticRegression()  # Modelo de Regresión Logística #\n",
    "logreg.fit(x_train, y_train)  # Entrenamiento sobre los Datos #\n",
    "y_pred = logreg.predict(x_test)  # Predicción de Etiquetas #\n",
    "\n",
    "print(f'Precisión inicial: {logreg.score(x_test, y_test)}') # CÁLCULO DE LA PRECISIÓN DEL MODELO (score de LogisticRegression llama a accuracy_score) #"
   ]
  },
  {
   "cell_type": "markdown",
   "metadata": {},
   "source": [
    "### Conclusión\n",
    "El \"accuracy\" del modelo de 0.844 indica que de todos los datos se prueba, se logró clasificar adecuadamente un 84.4%, es decir que el modelo se equivocará solo en un 15.6% de los casos. Esto quiere decir que podrá predecir correctamente para la mayoría de pacientes si estos tienen un riesgo de padecer enfermedad coronaria en los siguientes 10 años. Aparentemente no está nada mal para ser el primer modelo. Sin embargo, esta información es limitada puesto que no se sabe realmente en qué casos se equivoca más. Además, al leer este resultado se incurre en un sesgo al no tener en cuenta el gran desbalance en los datos. Podría ser perfectamente que todos los pacientes se estén clasificando sin riesgo y que este 84% simplemente corresponda a los que naturalmente no corren ningún riesgo. Esto no aportaría ninguna información valiosa a pesar de tener un \"accuracy\" alto. Es importante entrar evaluar con mayor detalle el modelo o corregir el desbalance de las clases."
   ]
  },
  {
   "cell_type": "markdown",
   "metadata": {},
   "source": [
    "### Matriz de Confusión\n",
    "\n",
    "Como recordará, la información en este dataset no posee una distribución de clases balanceada. La matriz de confusión es una herramienta que permite analizar el comportamiento del modelo para estos datos.\n",
    "\n",
    "Puede encontrar más información en este artículo: [Understanding Confusion Matrix](https://towardsdatascience.com/understanding-confusion-matrix-a9ad42dcfd62)"
   ]
  },
  {
   "cell_type": "code",
   "execution_count": 284,
   "metadata": {},
   "outputs": [
    {
     "data": {
      "text/plain": [
       "<AxesSubplot:>"
      ]
     },
     "execution_count": 284,
     "metadata": {},
     "output_type": "execute_result"
    },
    {
     "data": {
      "image/png": "[encoded data removed]",
      "text/plain": [
       "<Figure size 576x360 with 2 Axes>"
      ]
     },
     "metadata": {
      "needs_background": "light"
     },
     "output_type": "display_data"
    }
   ],
   "source": [
    "cm = confusion_matrix(y_test,y_pred)\n",
    "conf_matrix = pd.DataFrame(data=cm,columns=['Predicted:0','Predicted:1'],index=['Actual:0','Actual:1'])\n",
    "plt.figure(figsize = (8,5))\n",
    "sn.heatmap(conf_matrix, annot=True,fmt='d',cmap=\"YlGnBu\")"
   ]
  },
  {
   "cell_type": "markdown",
   "metadata": {},
   "source": [
    "### Tratamiento de Datos Desbalanceados\n",
    "\n",
    "En casos de estudio como identificación de tendencias patológicas, es común tener datos desbalanceados, o en los cuales la gravedad de cometer [errores tipo I o tipo II](https://www.simplypsychology.org/type_I_and_type_II_errors.html) son bastante diferentes. En muchos casos, se puede preferir cometer cierto tipo de error sobre el otro. Para trabajar con estos problemas, se suele preferir sacrificar algo de [precisión](https://developers.google.com/machine-learning/crash-course/classification/accuracy) del modelo, a cambio de una mejora en términos prácticos.\n",
    "\n",
    "Este proceso se realiza a partir de la modificación del umbral a partir del cual se decide si un dato pertenece a una clase u otra. Utilice la función `binarize` para obtener valores de `0` ó `1` según las probabilidades de las predicciones realizadas utilizando la función `model.predict_proba`.\n",
    "\n",
    "Algunas métricas utilizadas para interpretar el rendimiento del modelo son las siguientes:\n",
    "\n",
    "- F1Score\n",
    "- TP Rate / Recall / Sensitividad\n",
    "- TN Rate / Especificidad\n",
    "\n",
    "Puede encontrar más información sobre estas métricas en los artículos:\n",
    "- [Accuracy, Precision, Recall or F1?](https://towardsdatascience.com/accuracy-precision-recall-or-f1-331fb37c5cb9)\n",
    "- [Sensitivity Vs Specificity In Data Science](https://medium.com/fintechexplained/sensitivity-vs-specificity-in-data-science-2f673039dbd1)"
   ]
  },
  {
   "cell_type": "code",
   "execution_count": 285,
   "metadata": {
    "scrolled": false
   },
   "outputs": [
    {
     "name": "stdout",
     "output_type": "stream",
     "text": [
      "->Para un umbral de 0.1 tenemos esta matriz de confusión:\n",
      "[[306 324]\n",
      " [ 18 102]]\n",
      "Con 408 predicciones correctas y 18 falsos positivos.\n",
      "Sensitividad: 0.85 Especificidad: 0.4857\n",
      "\n",
      "->Para un umbral de 0.2 tenemos esta matriz de confusión:\n",
      "[[512 118]\n",
      " [ 63  57]]\n",
      "Con 569 predicciones correctas y 63 falsos positivos.\n",
      "Sensitividad: 0.475 Especificidad: 0.8127\n",
      "\n",
      "->Para un umbral de 0.3 tenemos esta matriz de confusión:\n",
      "[[583  47]\n",
      " [ 94  26]]\n",
      "Con 609 predicciones correctas y 94 falsos positivos.\n",
      "Sensitividad: 0.2167 Especificidad: 0.9254\n",
      "\n",
      "->Para un umbral de 0.4 tenemos esta matriz de confusión:\n",
      "[[612  18]\n",
      " [104  16]]\n",
      "Con 628 predicciones correctas y 104 falsos positivos.\n",
      "Sensitividad: 0.1333 Especificidad: 0.9714\n",
      "\n",
      "->Para un umbral de 0.5 tenemos esta matriz de confusión:\n",
      "[[627   3]\n",
      " [114   6]]\n",
      "Con 633 predicciones correctas y 114 falsos positivos.\n",
      "Sensitividad: 0.05 Especificidad: 0.9952\n",
      "\n",
      "->Para un umbral de 0.6 tenemos esta matriz de confusión:\n",
      "[[629   1]\n",
      " [119   1]]\n",
      "Con 630 predicciones correctas y 119 falsos positivos.\n",
      "Sensitividad: 0.0083 Especificidad: 0.9984\n",
      "\n",
      "->Para un umbral de 0.7 tenemos esta matriz de confusión:\n",
      "[[629   1]\n",
      " [119   1]]\n",
      "Con 630 predicciones correctas y 119 falsos positivos.\n",
      "Sensitividad: 0.0083 Especificidad: 0.9984\n",
      "\n",
      "->Para un umbral de 0.8 tenemos esta matriz de confusión:\n",
      "[[630   0]\n",
      " [119   1]]\n",
      "Con 631 predicciones correctas y 119 falsos positivos.\n",
      "Sensitividad: 0.0083 Especificidad: 1.0\n",
      "\n",
      "->Para un umbral de 0.9 tenemos esta matriz de confusión:\n",
      "[[630   0]\n",
      " [120   0]]\n",
      "Con 630 predicciones correctas y 120 falsos positivos.\n",
      "Sensitividad: 0.0 Especificidad: 1.0\n",
      "\n"
     ]
    }
   ],
   "source": [
    "from sklearn.preprocessing import binarize\n",
    "\n",
    "umbrales = np.arange(0.1, 1, 0.1) # Vector que Contiene los Umbrales a Analizar #\n",
    "\n",
    "for umbral in umbrales:\n",
    "    cm2 = 0\n",
    "    y_pred_prob_yes = logreg.predict_proba(x_test) # Utilice la función predict_proba para calcular las probabilidades de pertenecer a la clase 1 #\n",
    "    y_pred2 = binarize(y_pred_prob_yes, threshold = umbral)[:,1] # Utilice la función binarize para convertir las probabilidades a clases 0 y 1 #\n",
    "    cm2 = confusion_matrix(y_test,y_pred2)\n",
    "    print(f'''->Para un umbral de {round(umbral,4)} tenemos esta matriz de confusión:\n",
    "{cm2}\n",
    "Con {cm2[0,0]+cm2[1,1]} predicciones correctas y {cm2[1,0]} falsos positivos.\n",
    "Sensitividad: {round(cm2[1,1]/(float(cm2[1,1]+cm2[1,0])), 4)} Especificidad: {round(cm2[0,0]/(float(cm2[0,0]+cm2[0,1])), 4)}\\n''')\n"
   ]
  },
  {
   "cell_type": "markdown",
   "metadata": {},
   "source": [
    "Por otra parte, un criterio que facilita el visualizar este trade-off se conoce como la Curva ROC, en donde se ubican múltiples puntos para distintos valores del umbral de clasificación. Puede leer el artículo a continuación para una explicación más detallada:\n",
    "- Curva ROC: [Understanding AUC - ROC Curve](https://towardsdatascience.com/understanding-auc-roc-curve-68b2303cc9c5)"
   ]
  },
  {
   "cell_type": "code",
   "execution_count": 286,
   "metadata": {},
   "outputs": [
    {
     "data": {
      "image/png": "[encoded data removed]",
      "text/plain": [
       "<Figure size 432x288 with 1 Axes>"
      ]
     },
     "metadata": {
      "needs_background": "light"
     },
     "output_type": "display_data"
    }
   ],
   "source": [
    "from sklearn.metrics import roc_curve\n",
    "\n",
    "fpr, tpr, thresholds = roc_curve(y_test, y_pred_prob_yes[:,1])\n",
    "plt.plot(fpr,tpr)\n",
    "plt.xlim([0.0, 1.0])\n",
    "plt.ylim([0.0, 1.0])\n",
    "plt.title('Curva ROC para Clasificador de Enfermedad Coronaria')\n",
    "plt.xlabel('Tasa de Falsos Positivos (1-Especificidad)')\n",
    "plt.ylabel('Tasa de Verdaderos Positivos (Sensitividad)')\n",
    "plt.grid(True)"
   ]
  },
  {
   "cell_type": "markdown",
   "metadata": {},
   "source": [
    "Observe la gráfica, y teniendo en cuenta los resultados concluya sobre la proporción que se puede considerar más adecuada en este contexto.\n",
    "\n",
    "### Conclusiones\n",
    "Realmente en el caso en el que se quiere predecir si un paciente puede estar en riesgo de sufrir una enfermedad complicada en sus siguientes 10 años se considera que sea preferible equivocarse alertando a un paciente sano sobre un posible riesgo que dejar de alertar a un paciente que puede estar en riesgo. Es decir, en este caso es preferible un falso positivo que un falso negativo. Por lo tanto, se prioriza el deseo de disminuir el error tipo II. La métrica asociada a este error es la sensitividad. Lo primero que se puede observar de la curva ROC es que dada su forma o concavidad se puede deducir que el área debajo de la curva es superior a 0.5. Esto implica que el modelo tiene una medida de separabilidad favorable. En segundo lugar, se debe tener en cuenta de al desear mejorar la sensitividad, podría llegar a ser favorable la disminución del umbral para hacer que más pacientes se clasifiquen como positivos para riesgo de enfermedad coronaria. No obstante, se debe tener cuidado en caer en cualquiera de los extremos. Una sensibilidad que podría ser deseada podría variar entre 0.6 y 0.8 de forma que se obtengan también medidas aceptables de especificidad entre el 0.6 y 0.8. Para lograr esto, según las pruebas realizadas, se podría encontrar un umbral entre 0.1 y 0.2 que haga que se cumpla la sugerencia. Este sería un tratamiento de datos balanceados adecuado."
   ]
  },
  {
   "cell_type": "markdown",
   "metadata": {},
   "source": [
    "## Parte 2\n",
    "\n",
    "Ahora usted debe desarrollar su propia implementación del método Descenso de Gradiente estocástico para un modelo de regresión logística. Realice el entrenamiento a partir del 80% de los datos. Al final del entrenamiento, en la lista errores se deben tener los valores de la función de error para cada iteración y así poder observar el progreso gráficamente."
   ]
  },
  {
   "cell_type": "code",
   "execution_count": 287,
   "metadata": {},
   "outputs": [
    {
     "name": "stdout",
     "output_type": "stream",
     "text": [
      "seed: 1961\n",
      "Precisión modelo tasa 10: 0.84\n",
      "Con 630 predicciones correctas y 120 falsos negativos.\n",
      "Sensitividad: 0.0 Especificidad: 1.0\n",
      "\n",
      "Precisión modelo tasa 1: 0.5186666666666667\n",
      "Con 389 predicciones correctas y 29 falsos negativos.\n",
      "Sensitividad: 0.7583 Especificidad: 0.473\n",
      "\n",
      "Precisión modelo tasa 0.1: 0.8413333333333334\n",
      "Con 631 predicciones correctas y 117 falsos negativos.\n",
      "Sensitividad: 0.025 Especificidad: 0.9968\n",
      "\n",
      "Precisión modelo tasa 0.01: 0.8413333333333334\n",
      "Con 631 predicciones correctas y 117 falsos negativos.\n",
      "Sensitividad: 0.025 Especificidad: 0.9968\n",
      "\n",
      "Precisión modelo tasa 0.001: 0.84\n",
      "Con 630 predicciones correctas y 120 falsos negativos.\n",
      "Sensitividad: 0.0 Especificidad: 1.0\n",
      "\n",
      "Precisión modelo tasa 0.0001: 0.16\n",
      "Con 120 predicciones correctas y 0 falsos negativos.\n",
      "Sensitividad: 1.0 Especificidad: 0.0\n",
      "\n"
     ]
    }
   ],
   "source": [
    "# seed = np.random.randint(100000) # Pruebas #\n",
    "seed = 1961 # Elegido #\n",
    "print(f'seed: {seed}')\n",
    "np.random.seed(seed)\n",
    "X_train_array = np.c_[np.ones(x_train.shape[0]), x_train]\n",
    "y_train_array = y_train.values\n",
    "\n",
    "# Inicialización de criterio de parada (al disminuir el valor de eps, se aumenta la precisión y el tiempo de procesamiento)\n",
    "eps = 1e-5\n",
    "\n",
    "def sigma(w, x):\n",
    "    # Salida de la función sigmoide #\n",
    "    res_sigmoid = 1 / (1 + np.exp(-np.dot(w, x)))\n",
    "    return res_sigmoid\n",
    "\n",
    "tasas = [10, 1, 0.1, 0.01, 0.001, 0.0001] # Defina un vector que contenga las tasas que desea probar - ultimo es mejor modelo#\n",
    "# tasas = [1]  # Defina un vector que contenga las tasas que desea probar #\n",
    "\n",
    "mejor_modelo_w = np.zeros(X_train_array.shape[1])\n",
    "sensitividad_max = 0\n",
    "\n",
    "for tasa in tasas:\n",
    "    w0 = np.random.rand(X_train_array.shape[1])  # Inicialización de w #\n",
    "    w = w0.copy()\n",
    "    # print(f'w0 tasa {tasa}: {w}')\n",
    "\n",
    "    error = float('inf')\n",
    "    dif = float('inf')\n",
    "    iteraciones = 0\n",
    "\n",
    "    while np.abs(error)>eps and iteraciones < 5000:         # Criterio de parada 1 #\n",
    "    # for j in range (0, 1000):  # Criterio de parada 2 #\n",
    "    # while np.abs(dif) > eps and iteraciones < 5000:         # Criterio de parada 3 #\n",
    "        # # Desarrollo de algoritmo # #\n",
    "        # Posición aleatoria #\n",
    "        i = np.random.randint(0, X_train_array.shape[0] - 1)\n",
    "        xActual = X_train_array[i]\n",
    "        yActual = y_train_array[i]\n",
    "        # print(f'random{iteraciones} es {i}')\n",
    "\n",
    "        g = sigma(w, xActual)\n",
    "        error = yActual - g\n",
    "\n",
    "        # print(f'x{iteraciones}: {xActual}, g: {g}, error: {error}')\n",
    "\n",
    "        w_ant = w\n",
    "        w = w + tasa * error * xActual\n",
    "\n",
    "        dif = np.linalg.norm(w - w_ant)\n",
    "        iteraciones += 1\n",
    "\n",
    "        # # # # # # # # # # # # # # # #\n",
    "\n",
    "    # print(f'w{iteraciones} error {error} tasa {tasa}: {w}')\n",
    "    X_test_array = np.c_[np.ones(x_test.shape[0]), x_test]\n",
    "    y_test_array = y_test.values\n",
    "\n",
    "    y_pred = np.zeros(len(x_test))\n",
    "\n",
    "    for k in range(0, len(x_test)):\n",
    "        prob = sigma(w, X_test_array[k])\n",
    "        if prob > 0.5:\n",
    "            y_pred[k] = 1\n",
    "        else:\n",
    "            y_pred[k] = 0\n",
    "\n",
    "    precision = sklearn.metrics.accuracy_score(y_test,y_pred)\n",
    "    print(\n",
    "        f'Precisión modelo tasa {tasa}: {precision}')\n",
    "    cm_temp = confusion_matrix(y_test, y_pred)\n",
    "    conf_matrix_temp = pd.DataFrame(\n",
    "        data=cm_temp, columns=['Predicted:0', 'Predicted:1'], index=['Actual:0', 'Actual:1'])\n",
    "\n",
    "    sensitividad = round(cm_temp[1,1]/(float(cm_temp[1,1]+cm_temp[1,0])), 4)\n",
    "    if sensitividad > sensitividad_max and precision > 0.5: \n",
    "        mejor_modelo_w = w\n",
    "        sensitividad_max = sensitividad\n",
    "\n",
    "    print(f'''Con {cm_temp[0,0]+cm_temp[1,1]} predicciones correctas y {cm_temp[1,0]} falsos negativos.\n",
    "Sensitividad: {sensitividad} Especificidad: {round(cm_temp[0,0]/(float(cm_temp[0,0]+cm_temp[0,1])), 4)}\\n''')\n"
   ]
  },
  {
   "cell_type": "markdown",
   "metadata": {},
   "source": [
    "### Análisis\n",
    "\n",
    "Se hicieron muchas pruebas variando distintos hiperparámetros tales como la tasa y los criterios de parada, e incluso la aleatoriedad de los datos. En estas pruebas se encontró como tendencia general que con tasas muy altas se encontraba la mayor \"accuracy\" y a tasas muy bajas lo contrario. Sin embargo, no era fiable guiarse únicamente por este parámetro. Por lo tanto, se entró a revisar las matrices de confusión asociadas y se encontró que con las tasas muy altas simplemente el modelo predecía la clase positiva (que de hecho es la minoritaria) en todos los casos. Debido al desbalance, esto causa un \"accuracy\" alto a pesar de que sea un modelo muy \"dummy\". En el extremo contrario, disminuir mucho la tasa causa todo lo contrario, la sensitividad aumentaba a 1 y el \"accuracy\" a 0.16 dado que el modelo solo predecía la clase negativa. Aunque es deseable aumentar la sensitividad como se mencionó anteriormente, no se debe incurrir en seleccionar un modelo \"dummy\" ni se debe castigar tanto las demás métricas. Dado el análisis hecho con la curva ROC se seleccionó un modelo con una sensitividad de 0.7583 y un \"accuracy\" de 0.5187. Esto se logró con una tasa de 1. También se intentó modificar el umbral una vez se fijó la tasa pero se encontró que rápidamente se salía de la zona en la que el trade off es aceptable. Por lo tanto, en este caso se mantuvo en 0.5 aunque cabe resaltar que vale la pena jugar con ambos hiperparámetros (tasa y threshold)."
   ]
  },
  {
   "cell_type": "markdown",
   "metadata": {},
   "source": [
    "## Matriz de Confusión\n",
    "\n",
    "Observe y analice la matriz de confusión para su mejor modelo. Escriba claramente sus conclusiones."
   ]
  },
  {
   "cell_type": "code",
   "execution_count": 290,
   "metadata": {},
   "outputs": [],
   "source": [
    "# MEJOR MODELO #\n",
    "X_test_array = np.c_[np.ones(x_test.shape[0]), x_test]\n",
    "y_test_array = y_test.values\n",
    "y_pred = np.zeros(len(x_test))\n",
    "\n",
    "for k in range(0, len(x_test)):\n",
    "        prob = sigma(mejor_modelo_w, X_test_array[k])\n",
    "        if prob > 0.5:\n",
    "            y_pred[k] = 1\n",
    "        else:\n",
    "            y_pred[k] = 0\n"
   ]
  },
  {
   "cell_type": "code",
   "execution_count": 293,
   "metadata": {},
   "outputs": [
    {
     "name": "stdout",
     "output_type": "stream",
     "text": [
      "Con 389 predicciones correctas y 29 falsos negativos.\n",
      "Sensitividad: 0.7583 Especificidad: 0.473\n",
      "\n",
      "Ponderando tanto sensitividad como precisión, el score F es 0.33513525785905074\n",
      "\n"
     ]
    },
    {
     "data": {
      "image/png": "[encoded data removed]",
      "text/plain": [
       "<Figure size 576x360 with 2 Axes>"
      ]
     },
     "metadata": {
      "needs_background": "light"
     },
     "output_type": "display_data"
    }
   ],
   "source": [
    "cm = confusion_matrix(y_test,y_pred)\n",
    "conf_matrix = pd.DataFrame(data=cm,columns=['Predicted:0','Predicted:1'],index=['Actual:0','Actual:1'])\n",
    "\n",
    "plt.figure(figsize = (8,5))\n",
    "sn.heatmap(conf_matrix, annot=True,fmt='d',cmap=\"YlGnBu\")\n",
    "\n",
    "sensitivity = round(cm[1,1]/(float(cm[1,1]+cm[1,0])), 4)\n",
    "prec = round(cm[1,1]/(float(cm[1,1]+cm[0,1])), 4)\n",
    "\n",
    "print(f'''Con {cm[0,0]+cm[1,1]} predicciones correctas y {cm[1,0]} falsos negativos.\n",
    "Sensitividad: {sensitivity} Especificidad: {round(cm[0,0]/(float(cm[0,0]+cm[0,1])), 4)}\\n''')\n",
    "print(f'''Ponderando tanto sensitividad como precisión, el score F es {(2*sensitivity*prec)/(sensitivity+prec)}\\n''')"
   ]
  },
  {
   "cell_type": "markdown",
   "metadata": {},
   "source": [
    "### Análisis\n",
    "\n",
    "Como se mencionó anteriormente, el modelo fue seleccionado de una vez teniendo en cuenta la matriz de confusión. Particularmente se puede deducir que este modelo deja pasar una cantidad relativamente baja (en comparación con otros modelos) de pacientes con riesgo de padecer enfermedad coronaria sin alertarlos pero alerta a un montón de otros pacientes que realmente no tienen ningún riesgo. No necesariamente es un buen modelo, de hecho ponderando ambos sensitividad y precisión se halla un F-score de 0.33, lo cual no parece ser muy alto. En realidad si se fuese a implementar en la vida real, se sugeriría entender mejor el problema para poder tomar mejores decisiones teniendo en cuenta las implicaciones que pueden tener los errores tipo I y tipo II para los pacientes. En segundo lugar, se podría \"jugar\" un poco más con los hiperparámetros, sacar más modelos y hacer uso del F-score para evaluarlos además de las demás métricas. Finalmente, lo mejor sería experimentar con un oversampling de la clase minoritaria pues puede ser una técnica más robusta para lidiar con la clase desbalanceada."
   ]
  }
 ],
 "metadata": {
  "interpreter": {
   "hash": "e134e05457d34029b6460cd73bbf1ed73f339b5b6d98c95be70b69eba114fe95"
  },
  "kernelspec": {
   "display_name": "Python 3",
   "language": "python",
   "name": "python3"
  },
  "language_info": {
   "codemirror_mode": {
    "name": "ipython",
    "version": 3
   },
   "file_extension": ".py",
   "mimetype": "text/x-python",
   "name": "python",
   "nbconvert_exporter": "python",
   "pygments_lexer": "ipython3",
   "version": "3.8.10"
  }
 },
 "nbformat": 4,
 "nbformat_minor": 4
}
