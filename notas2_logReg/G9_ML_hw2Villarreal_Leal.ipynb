{
 "cells": [
  {
   "cell_type": "markdown",
   "metadata": {
    "id": "8t6HOJ3glw2i",
    "tags": []
   },
   "source": [
    "# Regresión Logística: Predicción de Enfermedad Coronaria\n",
    "\n",
    "A continuación se observa un problema de clasificación binaria y se desea analizar una posible solución a partir de un modelo de regresión logística. Se busca implementar el algoritmo mencionado, inicialmente empleando la librería SciKit-Learn para luego desarrollar el mismo proceso de entrenamiento manualmente (Descenso de Gradiente Estocástico).\n",
    "\n",
    "También se introducirán algunos conceptos para lidiar con datos desbalanceados como: matriz de confusión, curva ROC, y algunas otras métricas importantes.\n",
    "\n",
    "Debe completar las celdas vacías y seguir las instrucciones anotadas en el cuaderno.\n",
    "\n",
    "La fecha límite de entrega es el día **20 de septiembre** y se realizará a través de Bloque Neón."
   ]
  },
  {
   "cell_type": "code",
   "execution_count": 1,
   "metadata": {
    "id": "3cPViqRelw2k",
    "tags": []
   },
   "outputs": [],
   "source": [
    "import pandas as pd\n",
    "import numpy as np\n",
    "import statsmodels.api as sm\n",
    "import scipy.stats as st\n",
    "import matplotlib.pyplot as plt\n",
    "import seaborn as sn\n",
    "import sklearn\n",
    "from sklearn.linear_model import LogisticRegression\n",
    "from sklearn.model_selection import train_test_split\n",
    "from sklearn.metrics import confusion_matrix, accuracy_score, roc_auc_score\n",
    "from sklearn.preprocessing import OrdinalEncoder, MinMaxScaler, RobustScaler\n",
    "import matplotlib.mlab as mlab\n",
    "%matplotlib inline"
   ]
  },
  {
   "cell_type": "code",
   "execution_count": 2,
   "metadata": {
    "id": "bDLZm2jIlw2l",
    "scrolled": true
   },
   "outputs": [
    {
     "data": {
      "text/html": [
       "<div>\n",
       "<style scoped>\n",
       "    .dataframe tbody tr th:only-of-type {\n",
       "        vertical-align: middle;\n",
       "    }\n",
       "\n",
       "    .dataframe tbody tr th {\n",
       "        vertical-align: top;\n",
       "    }\n",
       "\n",
       "    .dataframe thead th {\n",
       "        text-align: right;\n",
       "    }\n",
       "</style>\n",
       "<table border=\"1\" class=\"dataframe\">\n",
       "  <thead>\n",
       "    <tr style=\"text-align: right;\">\n",
       "      <th></th>\n",
       "      <th>male</th>\n",
       "      <th>age</th>\n",
       "      <th>currentSmoker</th>\n",
       "      <th>cigsPerDay</th>\n",
       "      <th>BPMeds</th>\n",
       "      <th>prevalentStroke</th>\n",
       "      <th>prevalentHyp</th>\n",
       "      <th>diabetes</th>\n",
       "      <th>totChol</th>\n",
       "      <th>sysBP</th>\n",
       "      <th>diaBP</th>\n",
       "      <th>BMI</th>\n",
       "      <th>heartRate</th>\n",
       "      <th>glucose</th>\n",
       "      <th>TenYearCHD</th>\n",
       "    </tr>\n",
       "  </thead>\n",
       "  <tbody>\n",
       "    <tr>\n",
       "      <th>0</th>\n",
       "      <td>1</td>\n",
       "      <td>39</td>\n",
       "      <td>0</td>\n",
       "      <td>0.0</td>\n",
       "      <td>0.0</td>\n",
       "      <td>0</td>\n",
       "      <td>0</td>\n",
       "      <td>0</td>\n",
       "      <td>195.0</td>\n",
       "      <td>106.0</td>\n",
       "      <td>70.0</td>\n",
       "      <td>26.97</td>\n",
       "      <td>80.0</td>\n",
       "      <td>77.0</td>\n",
       "      <td>0</td>\n",
       "    </tr>\n",
       "    <tr>\n",
       "      <th>1</th>\n",
       "      <td>0</td>\n",
       "      <td>46</td>\n",
       "      <td>0</td>\n",
       "      <td>0.0</td>\n",
       "      <td>0.0</td>\n",
       "      <td>0</td>\n",
       "      <td>0</td>\n",
       "      <td>0</td>\n",
       "      <td>250.0</td>\n",
       "      <td>121.0</td>\n",
       "      <td>81.0</td>\n",
       "      <td>28.73</td>\n",
       "      <td>95.0</td>\n",
       "      <td>76.0</td>\n",
       "      <td>0</td>\n",
       "    </tr>\n",
       "    <tr>\n",
       "      <th>2</th>\n",
       "      <td>1</td>\n",
       "      <td>48</td>\n",
       "      <td>1</td>\n",
       "      <td>20.0</td>\n",
       "      <td>0.0</td>\n",
       "      <td>0</td>\n",
       "      <td>0</td>\n",
       "      <td>0</td>\n",
       "      <td>245.0</td>\n",
       "      <td>127.5</td>\n",
       "      <td>80.0</td>\n",
       "      <td>25.34</td>\n",
       "      <td>75.0</td>\n",
       "      <td>70.0</td>\n",
       "      <td>0</td>\n",
       "    </tr>\n",
       "    <tr>\n",
       "      <th>3</th>\n",
       "      <td>0</td>\n",
       "      <td>61</td>\n",
       "      <td>1</td>\n",
       "      <td>30.0</td>\n",
       "      <td>0.0</td>\n",
       "      <td>0</td>\n",
       "      <td>1</td>\n",
       "      <td>0</td>\n",
       "      <td>225.0</td>\n",
       "      <td>150.0</td>\n",
       "      <td>95.0</td>\n",
       "      <td>28.58</td>\n",
       "      <td>65.0</td>\n",
       "      <td>103.0</td>\n",
       "      <td>1</td>\n",
       "    </tr>\n",
       "    <tr>\n",
       "      <th>4</th>\n",
       "      <td>0</td>\n",
       "      <td>46</td>\n",
       "      <td>1</td>\n",
       "      <td>23.0</td>\n",
       "      <td>0.0</td>\n",
       "      <td>0</td>\n",
       "      <td>0</td>\n",
       "      <td>0</td>\n",
       "      <td>285.0</td>\n",
       "      <td>130.0</td>\n",
       "      <td>84.0</td>\n",
       "      <td>23.10</td>\n",
       "      <td>85.0</td>\n",
       "      <td>85.0</td>\n",
       "      <td>0</td>\n",
       "    </tr>\n",
       "  </tbody>\n",
       "</table>\n",
       "</div>"
      ],
      "text/plain": [
       "   male  age  currentSmoker  cigsPerDay  BPMeds  prevalentStroke  \\\n",
       "0     1   39              0         0.0     0.0                0   \n",
       "1     0   46              0         0.0     0.0                0   \n",
       "2     1   48              1        20.0     0.0                0   \n",
       "3     0   61              1        30.0     0.0                0   \n",
       "4     0   46              1        23.0     0.0                0   \n",
       "\n",
       "   prevalentHyp  diabetes  totChol  sysBP  diaBP    BMI  heartRate  glucose  \\\n",
       "0             0         0    195.0  106.0   70.0  26.97       80.0     77.0   \n",
       "1             0         0    250.0  121.0   81.0  28.73       95.0     76.0   \n",
       "2             0         0    245.0  127.5   80.0  25.34       75.0     70.0   \n",
       "3             1         0    225.0  150.0   95.0  28.58       65.0    103.0   \n",
       "4             0         0    285.0  130.0   84.0  23.10       85.0     85.0   \n",
       "\n",
       "   TenYearCHD  \n",
       "0           0  \n",
       "1           0  \n",
       "2           0  \n",
       "3           1  \n",
       "4           0  "
      ]
     },
     "execution_count": 2,
     "metadata": {},
     "output_type": "execute_result"
    }
   ],
   "source": [
    "heart_df=pd.read_csv(\"heartDisease/framingham.csv\")\n",
    "heart_df.dropna(axis=0,inplace=True)\n",
    "heart_df.head()"
   ]
  },
  {
   "cell_type": "code",
   "execution_count": 3,
   "metadata": {
    "id": "IVs3sWznlw2l"
   },
   "outputs": [
    {
     "name": "stdout",
     "output_type": "stream",
     "text": [
      "Se tienen 3749 datos.\n"
     ]
    }
   ],
   "source": [
    "print(f'Se tienen {len(heart_df)} datos.')"
   ]
  },
  {
   "cell_type": "markdown",
   "metadata": {
    "id": "9QZNdyAHlw2l"
   },
   "source": [
    "### Análisis de Distribución de Clases\n",
    "\n",
    "En el diagrama a continuación puede observar un claro desbalanceo de los datos, en pasos posteriores hablaremos al respecto."
   ]
  },
  {
   "cell_type": "code",
   "execution_count": 4,
   "metadata": {
    "id": "PQWRMf2zlw2l"
   },
   "outputs": [
    {
     "data": {
      "text/plain": [
       "<AxesSubplot:ylabel='TenYearCHD'>"
      ]
     },
     "execution_count": 4,
     "metadata": {},
     "output_type": "execute_result"
    },
    {
     "data": {
      "image/png": "[encoded data removed]",
      "text/plain": [
       "<Figure size 432x288 with 1 Axes>"
      ]
     },
     "metadata": {},
     "output_type": "display_data"
    }
   ],
   "source": [
    "heart_df['TenYearCHD'].value_counts().plot(kind='pie')"
   ]
  },
  {
   "cell_type": "markdown",
   "metadata": {
    "id": "-eRjGZwvlw2m"
   },
   "source": [
    "## Descripción de Variables\n",
    "\n",
    "Cada atributo es un factor potencial de riesgo. Existen factores demográficos, conductuales y médicos.\n",
    "\n",
    "- Demográfico:\n",
    "\n",
    "    - male: masculino (1) o femenino (0); (Nominal)\n",
    "\n",
    "    - age: edad del paciente; (Continuo: aunque las edades registradas se han truncado a números enteros, el concepto de edad es continuo)\n",
    "\n",
    "- Comportacional:\n",
    "\n",
    "    - currentSmoker: si el paciente es o no fumador actual (nominal)\n",
    "\n",
    "    - cigsPerDay: la cantidad de cigarrillos que la persona fumó en promedio en un día (se puede considerar continuo ya que uno puede tener cualquier cantidad de cigarrillos, incluso medio cigarrillo).\n",
    "\n",
    "- Historia médica:\n",
    "\n",
    "    - BPMeds: si el paciente estaba o no tomando medicación para la presión arterial (nominal)\n",
    "\n",
    "    - prevalentStroke: si el paciente había tenido previamente un accidente cerebrovascular o no (nominal)\n",
    "\n",
    "    - prevalentHyp: si el paciente era hipertenso (nominal)\n",
    "\n",
    "    - diabetes: si el paciente tenía diabetes o no (nominal)\n",
    "\n",
    "- Estado Médico actual:\n",
    "\n",
    "    - totChol: nivel de colesterol total (continuo)\n",
    "\n",
    "    - sysBP: presión arterial sistólica (continua)\n",
    "\n",
    "    - diaBP: presión arterial diastólica (continua)\n",
    "\n",
    "    - IMC: índice de masa corporal (continuo)\n",
    "\n",
    "    - heartRate: frecuencia cardíaca (continua: en la investigación médica, variables como la frecuencia cardíaca, aunque de hecho son discretas, se consideran continuas debido a la gran cantidad de valores posibles).\n",
    "\n",
    "    - glucose: nivel de glucosa (continuo)\n",
    "\n",
    "- **Variable a Predecir**\n",
    "\n",
    "    - TenYearCHD: Riesgo de padecer enfermedad coronaria 10 años en el futuro (binario: \"1\", significa \"Sí\", \"0\" significa \"No\")"
   ]
  },
  {
   "cell_type": "code",
   "execution_count": 5,
   "metadata": {
    "id": "UHHqKByIlw2m"
   },
   "outputs": [],
   "source": [
    "x = heart_df.values\n",
    "scaler = MinMaxScaler()# Utilice un MinMaxScaler en esta ocasión #\n",
    "x_scaled = scaler.fit_transform(x) # Aplique el escalamiento #\n",
    "heart_df_scaled = pd.DataFrame(x_scaled, columns=heart_df.columns) # Conversión a un DataFrame #"
   ]
  },
  {
   "cell_type": "code",
   "execution_count": 6,
   "metadata": {
    "id": "O_UZd4oLlw2m"
   },
   "outputs": [],
   "source": [
    "x = heart_df_scaled.iloc[:,:-1]\n",
    "y = heart_df_scaled.iloc[:,-1]\n",
    "x_train,x_test,y_train,y_test=train_test_split(x,y,test_size=0.2,random_state=20)"
   ]
  },
  {
   "cell_type": "markdown",
   "metadata": {
    "id": "vnX6oiimlw2n"
   },
   "source": [
    "## Parte 1\n",
    "\n",
    "A continuación, debe utilizar la función `LogisticRegression` de SciKit-Learn para obtener un primer modelo de regresión logística y calcular su precisión a partir de la función `accuracy_score`.\n",
    "\n",
    "Obtenga resultados sobre los datos de entrenamiento y los datos de prueba. Concluya al respecto."
   ]
  },
  {
   "cell_type": "code",
   "execution_count": 7,
   "metadata": {
    "id": "_EAx_0zPlw2n"
   },
   "outputs": [
    {
     "name": "stdout",
     "output_type": "stream",
     "text": [
      "Precisión inicial: 0.8453333333333334\n"
     ]
    }
   ],
   "source": [
    "logreg = LogisticRegression() # Modelo de Regresión Logística #\n",
    "logreg.fit(x_train,y_train) # Entrenamiento sobre los Datos #\n",
    "y_pred = logreg.predict(x_test) # Predicción de Etiquetas #\n",
    "\n",
    "print(f'Precisión inicial: {accuracy_score(y_test,y_pred)}')"
   ]
  },
  {
   "cell_type": "markdown",
   "metadata": {
    "id": "XNMHw2ITlw2n"
   },
   "source": [
    "### Matriz de Confusión\n",
    "\n",
    "Como recordará, la información en este dataset no posee una distribución de clases balanceada. La matriz de confusión es una herramienta que permite analizar el comportamiento del modelo para estos datos.\n",
    "\n",
    "Puede encontrar más información en este artículo: [Understanding Confusion Matrix](https://towardsdatascience.com/understanding-confusion-matrix-a9ad42dcfd62)"
   ]
  },
  {
   "cell_type": "code",
   "execution_count": 8,
   "metadata": {
    "id": "4W4kDHcIlw2o"
   },
   "outputs": [
    {
     "data": {
      "text/plain": [
       "<AxesSubplot:>"
      ]
     },
     "execution_count": 8,
     "metadata": {},
     "output_type": "execute_result"
    },
    {
     "data": {
      "image/png": "[encoded data removed]",
      "text/plain": [
       "<Figure size 576x360 with 2 Axes>"
      ]
     },
     "metadata": {
      "needs_background": "light"
     },
     "output_type": "display_data"
    }
   ],
   "source": [
    "cm = confusion_matrix(y_test,y_pred)\n",
    "conf_matrix = pd.DataFrame(data=cm,columns=['Predicted:0','Predicted:1'],index=['Actual:0','Actual:1'])\n",
    "plt.figure(figsize = (8,5))\n",
    "sn.heatmap(conf_matrix, annot=True,fmt='d',cmap=\"YlGnBu\")"
   ]
  },
  {
   "cell_type": "markdown",
   "metadata": {
    "id": "GSjtloQIlw2o"
   },
   "source": [
    "### Tratamiento de Datos Desbalanceados\n",
    "\n",
    "En casos de estudio como identificación de tendencias patológicas, es común tener datos desbalanceados, o en los cuales la gravedad de cometer [errores tipo I o tipo II](https://www.simplypsychology.org/type_I_and_type_II_errors.html) son bastante diferentes. En muchos casos, se puede preferir cometer cierto tipo de error sobre el otro. Para trabajar con estos problemas, se suele preferir sacrificar algo de [precisión](https://developers.google.com/machine-learning/crash-course/classification/accuracy) del modelo, a cambio de una mejora en términos prácticos.\n",
    "\n",
    "Este proceso se realiza a partir de la modificación del umbral a partir del cual se decide si un dato pertenece a una clase u otra. Utilice la función `binarize` para obtener valores de `0` ó `1` según las probabilidades de las predicciones realizadas utilizando la función `model.predict_proba`.\n",
    "\n",
    "Algunas métricas utilizadas para interpretar el rendimiento del modelo son las siguientes:\n",
    "\n",
    "- F1Score\n",
    "- TP Rate / Recall / Sensitividad\n",
    "- TN Rate / Especificidad\n",
    "\n",
    "Puede encontrar más información sobre estas métricas en los artículos:\n",
    "- [Accuracy, Precision, Recall or F1?](https://towardsdatascience.com/accuracy-precision-recall-or-f1-331fb37c5cb9)\n",
    "- [Sensitivity Vs Specificity In Data Science](https://medium.com/fintechexplained/sensitivity-vs-specificity-in-data-science-2f673039dbd1)"
   ]
  },
  {
   "cell_type": "code",
   "execution_count": 9,
   "metadata": {
    "id": "lVfKH-stlw2p"
   },
   "outputs": [
    {
     "name": "stdout",
     "output_type": "stream",
     "text": [
      "->Para un umbral de 0.0 tenemos esta matriz de confusión:\n",
      "[[  0 628]\n",
      " [  0 122]]\n",
      "Con 122 predicciones correctas y 0 falsos negativos.\n",
      "Sensitividad: 1.0 Especificidad: 0.0\n",
      "\n",
      "Precisión: 0.16266666666666665\n",
      "\n",
      "->Para un umbral de 0.1 tenemos esta matriz de confusión:\n",
      "[[296 332]\n",
      " [ 20 102]]\n",
      "Con 398 predicciones correctas y 20 falsos negativos.\n",
      "Sensitividad: 0.8361 Especificidad: 0.4713\n",
      "\n",
      "Precisión: 0.5306666666666666\n",
      "\n",
      "->Para un umbral de 0.2 tenemos esta matriz de confusión:\n",
      "[[499 129]\n",
      " [ 55  67]]\n",
      "Con 566 predicciones correctas y 55 falsos negativos.\n",
      "Sensitividad: 0.5492 Especificidad: 0.7946\n",
      "\n",
      "Precisión: 0.7546666666666667\n",
      "\n",
      "->Para un umbral de 0.3 tenemos esta matriz de confusión:\n",
      "[[582  46]\n",
      " [ 87  35]]\n",
      "Con 617 predicciones correctas y 87 falsos negativos.\n",
      "Sensitividad: 0.2869 Especificidad: 0.9268\n",
      "\n",
      "Precisión: 0.8226666666666667\n",
      "\n",
      "->Para un umbral de 0.4 tenemos esta matriz de confusión:\n",
      "[[610  18]\n",
      " [104  18]]\n",
      "Con 628 predicciones correctas y 104 falsos negativos.\n",
      "Sensitividad: 0.1475 Especificidad: 0.9713\n",
      "\n",
      "Precisión: 0.8373333333333334\n",
      "\n",
      "->Para un umbral de 0.5 tenemos esta matriz de confusión:\n",
      "[[624   4]\n",
      " [112  10]]\n",
      "Con 634 predicciones correctas y 112 falsos negativos.\n",
      "Sensitividad: 0.082 Especificidad: 0.9936\n",
      "\n",
      "Precisión: 0.8453333333333334\n",
      "\n",
      "->Para un umbral de 0.6 tenemos esta matriz de confusión:\n",
      "[[627   1]\n",
      " [121   1]]\n",
      "Con 628 predicciones correctas y 121 falsos negativos.\n",
      "Sensitividad: 0.0082 Especificidad: 0.9984\n",
      "\n",
      "Precisión: 0.8373333333333334\n",
      "\n",
      "->Para un umbral de 0.7 tenemos esta matriz de confusión:\n",
      "[[628   0]\n",
      " [122   0]]\n",
      "Con 628 predicciones correctas y 122 falsos negativos.\n",
      "Sensitividad: 0.0 Especificidad: 1.0\n",
      "\n",
      "Precisión: 0.8373333333333334\n",
      "\n",
      "->Para un umbral de 0.8 tenemos esta matriz de confusión:\n",
      "[[628   0]\n",
      " [122   0]]\n",
      "Con 628 predicciones correctas y 122 falsos negativos.\n",
      "Sensitividad: 0.0 Especificidad: 1.0\n",
      "\n",
      "Precisión: 0.8373333333333334\n",
      "\n",
      "->Para un umbral de 0.9 tenemos esta matriz de confusión:\n",
      "[[628   0]\n",
      " [122   0]]\n",
      "Con 628 predicciones correctas y 122 falsos negativos.\n",
      "Sensitividad: 0.0 Especificidad: 1.0\n",
      "\n",
      "Precisión: 0.8373333333333334\n",
      "\n"
     ]
    }
   ],
   "source": [
    "from sklearn.preprocessing import binarize\n",
    "\n",
    "umbrales = np.arange(0,1,0.1) # Vector que Contiene los Umbrales a Analizar #\n",
    "\n",
    "for umbral in umbrales:\n",
    "    cm2 = 0\n",
    "    y_pred_prob_yes = logreg.predict_proba(x_test)[:,1] # Utilice la función predict_proba para calcular las probabilidades de pertenecer a la clase 1 #\n",
    "    y_pred_prob_yes = y_pred_prob_yes.reshape(1,-1)\n",
    "    y_pred2 = binarize(y_pred_prob_yes, threshold=umbral)[0] # Utilice la función binarize para convertir las probabilidades a clases 0 y 1 #\n",
    "    cm2 = confusion_matrix(y_test,y_pred2)\n",
    "    print(f'''->Para un umbral de {round(umbral,4)} tenemos esta matriz de confusión:\n",
    "{cm2}\n",
    "Con {cm2[0,0]+cm2[1,1]} predicciones correctas y {cm2[1,0]} falsos negativos.\n",
    "Sensitividad: {round(cm2[1,1]/(float(cm2[1,1]+cm2[1,0])), 4)} Especificidad: {round(cm2[0,0]/(float(cm2[0,0]+cm2[0,1])), 4)}\\n\n",
    "Precisión: {accuracy_score(y_test,y_pred2)}\\n''')\n"
   ]
  },
  {
   "cell_type": "markdown",
   "metadata": {},
   "source": [
    "Por otra parte, un criterio que facilita el visualizar este trade-off se conoce como la Curva ROC, en donde se ubican múltiples puntos para distintos valores del umbral de clasificación. Puede leer el artículo a continuación para una explicación más detallada:\n",
    "- Curva ROC: [Understanding AUC - ROC Curve](https://towardsdatascience.com/understanding-auc-roc-curve-68b2303cc9c5)"
   ]
  },
  {
   "cell_type": "code",
   "execution_count": 10,
   "metadata": {
    "id": "9ekcS0iflw2p"
   },
   "outputs": [
    {
     "data": {
      "image/png": "[encoded data removed]",
      "text/plain": [
       "<Figure size 432x288 with 1 Axes>"
      ]
     },
     "metadata": {
      "needs_background": "light"
     },
     "output_type": "display_data"
    }
   ],
   "source": [
    "from sklearn.metrics import roc_curve\n",
    "\n",
    "fpr, tpr, thresholds = roc_curve(y_test, y_pred_prob_yes.reshape(-1,1))\n",
    "auc = roc_auc_score(y_test, y_pred_prob_yes.reshape(-1,1))\n",
    "plt.plot(fpr,tpr, label='AUC = %0.2f' % auc)\n",
    "plt.xlim([0.0, 1.0])\n",
    "plt.ylim([0.0, 1.0])\n",
    "plt.title('Curva ROC para Clasificador de Enfermedad Coronaria')\n",
    "plt.xlabel('Tasa de Falsos Positivos (1-Especificidad)')\n",
    "plt.ylabel('Tasa de Verdaderos Positivos (Sensitividad)')\n",
    "plt.legend(loc=\"lower right\")\n",
    "plt.grid(True)"
   ]
  },
  {
   "cell_type": "markdown",
   "metadata": {},
   "source": [
    "Observe la gráfica, y teniendo en cuenta los resultados concluya sobre la proporción que se puede considerar más adecuada en este contexto.\n",
    "\n",
    "## Parte 2\n",
    "\n",
    "Ahora usted debe desarrollar su propia implementación del método Descenso de Gradiente estocástico para un modelo de regresión logística. Realice el entrenamiento a partir del 80% de los datos. Al final del entrenamiento, en la lista errores se deben tener los valores de la función de error para cada iteración y así poder observar el progreso gráficamente."
   ]
  },
  {
   "cell_type": "code",
   "execution_count": 11,
   "metadata": {
    "tags": []
   },
   "outputs": [
    {
     "name": "stdout",
     "output_type": "stream",
     "text": [
      "Para una tasa de: 0.1, la precisión de modelo actual es: 0.8067\n",
      "El número de errores calculados fue: 22673 \n",
      "\n"
     ]
    }
   ],
   "source": [
    "np.random.seed(22)\n",
    "X_train_array = np.c_[np.ones(x_train.values.shape[0]), x_train.values]\n",
    "y_train_array = y_train.values\n",
    "\n",
    "w0 = np.random.rand(X_train_array.shape[1]) # Inicialización de w #\n",
    "\n",
    "w = w0.copy()\n",
    "# Inicialización de criterio de parada (al disminuir el valor de eps, se aumenta la precisión y el tiempo de procesamiento)\n",
    "eps = 1e-2\n",
    "error = 100\n",
    "dif = 100\n",
    "errores = [] # En esta lista se agregan los valores de la función de error en cada iteración #\n",
    "\n",
    "\n",
    "def sigma(w,x):\n",
    "    res_sigmoid = 1 / (1 + np.exp(-(np.dot(w,x)))) # Salida de la función sigmoide #\n",
    "    return res_sigmoid\n",
    "\n",
    "tasas = [0.1] # Defina un vector que contenga las tasas que desea probar #\n",
    "for tasa in tasas:\n",
    "    w0 = np.random.rand(X_train_array.shape[1]) # Inicialización de w #\n",
    "    w = w0.copy()\n",
    "    error = 100\n",
    "    errores = [] # En esta lista se agregan los valores de la función de error en cada iteración #\n",
    "\n",
    "    while abs(error)>eps:         # Criterio de parada 1 #\n",
    "    #for j in range (0, 1000):  # Criterio de parada 2 #\n",
    "        # # Desarrollo de algoritmo # #\n",
    "        # Selección de par aleatorio\n",
    "        i = np.random.randint(len(y_train_array))\n",
    "        xActual = X_train_array[i]\n",
    "        yActual = y_train_array[i]\n",
    "        \n",
    "        g = sigma(w,xActual) # Predicción del modelo\n",
    "        \n",
    "        error = yActual-g     #Cálculo del error\n",
    "        \n",
    "        w = w + (tasa*error*xActual) #Cálculo del modelo w\n",
    "        \n",
    "        errores.append(abs(error)) # Norma del gradiente a la lista de errores #\n",
    "        # # # # # # # # # # # # # # # #\n",
    "        \n",
    "    X_test_array = np.c_[np.ones(x_test.values.shape[0]), x_test.values]\n",
    "    y_test_array = y_test.values\n",
    "\n",
    "    y_pred = np.zeros(len(x_test))\n",
    "    y_pred_prob=[]\n",
    "    for i in range(0,len(x_test)):\n",
    "        prob = sigma(w,X_test_array[i])\n",
    "        y_pred_prob.append(prob)\n",
    "        if prob>0.2:\n",
    "          y_pred[i] = 1\n",
    "        else:\n",
    "          y_pred[i] = 0\n",
    "\n",
    "    print(f'Para una tasa de: {tasa}, la precisión de modelo actual es: {round(sklearn.metrics.accuracy_score(y_test,y_pred),4)}\\nEl número de errores calculados fue: {len(errores)} \\n')"
   ]
  },
  {
   "cell_type": "markdown",
   "metadata": {
    "id": "Kr4CWhGJlw2q"
   },
   "source": [
    "## Matriz de Confusión\n",
    "\n",
    "Observe y analice la matriz de confusión para su mejor modelo. Escriba claramente sus conclusiones."
   ]
  },
  {
   "cell_type": "code",
   "execution_count": 14,
   "metadata": {
    "id": "zLf5AD5blw2q"
   },
   "outputs": [
    {
     "name": "stdout",
     "output_type": "stream",
     "text": [
      "Con 605 predicciones correctas y 76 falsos negativos.\n",
      "Sensitividad: 0.377 Especificidad: 0.8901\n",
      "\n",
      "Precisión: 0.8373333333333334\n",
      "\n"
     ]
    },
    {
     "data": {
      "image/png": "[encoded data removed]",
      "text/plain": [
       "<Figure size 576x360 with 2 Axes>"
      ]
     },
     "metadata": {
      "needs_background": "light"
     },
     "output_type": "display_data"
    }
   ],
   "source": [
    "cm = confusion_matrix(y_test,y_pred)\n",
    "conf_matrix = pd.DataFrame(data=cm,columns=['Predicted:0','Predicted:1'],index=['Actual:0','Actual:1'])\n",
    "\n",
    "plt.figure(figsize = (8,5))\n",
    "sn.heatmap(conf_matrix, annot=True,fmt='d',cmap=\"YlGnBu\")\n",
    "print(f'''Con {cm[0,0]+cm[1,1]} predicciones correctas y {cm[1,0]} falsos negativos.\n",
    "Sensitividad: {round(cm[1,1]/(float(cm[1,1]+cm[1,0])), 4)} Especificidad: {round(cm[0,0]/(float(cm[0,0]+cm[0,1])), 4)}\\n\n",
    "Precisión: {accuracy_score(y_test,y_pred2)}\\n''')"
   ]
  },
  {
   "cell_type": "code",
   "execution_count": 15,
   "metadata": {
    "id": "CQgSKfOIlw2q"
   },
   "outputs": [
    {
     "data": {
      "text/plain": [
       "0.7382661585047509"
      ]
     },
     "execution_count": 15,
     "metadata": {},
     "output_type": "execute_result"
    },
    {
     "data": {
      "image/png": "[encoded data removed]",
      "text/plain": [
       "<Figure size 432x288 with 1 Axes>"
      ]
     },
     "metadata": {
      "needs_background": "light"
     },
     "output_type": "display_data"
    }
   ],
   "source": [
    "from sklearn.metrics import roc_curve\n",
    "\n",
    "fpr, tpr, thresholds = roc_curve(y_test, y_pred_prob)\n",
    "auc = roc_auc_score(y_test, y_pred_prob)\n",
    "plt.plot(fpr,tpr, label='AUC = %0.2f' % auc)\n",
    "plt.xlim([0.0, 1.0])\n",
    "plt.ylim([0.0, 1.0])\n",
    "plt.title('Curva ROC para Clasificador de Enfermedad Coronaria')\n",
    "plt.xlabel('Tasa de Falsos Positivos (1-Especificidad)')\n",
    "plt.ylabel('Tasa de Verdaderos Positivos (Sensitividad)')\n",
    "plt.legend(loc=\"lower right\")\n",
    "plt.grid(True)\n",
    "auc"
   ]
  },
  {
   "cell_type": "markdown",
   "metadata": {},
   "source": [
    "## Conclusiones\n",
    "\n",
    "De los resultados obtenidos en la parte 1 se concluye:\n",
    "- La sensitividad o tasa de verdaderos positivos (TPR en inglés) y la especificidad o tasa de verdaderos negativos (TNR en inglés) son inversamente proporcional y pueden varíar respecto al valor umbral definido.\n",
    "\n",
    "- Si se desea aumentar la sensitividad o el TPR se debe disminuir el valor del umbral teniendo presente que al mismo tiempo aumenta la tasa de falsos positivos (FPR en inglés). En el caso de la predicción de padecer enfermedad coronaria 10 años en el futuro, consideramos que se debe aumentar la sensitividad para predecir correctamente el mayor número de pacientes que padecen la enfermedad así aumente el número de falsos positivos, consideramos un umbral de 0.2 como adecuado porque aumenta la sensitividad a 0.55 y mantiene una precisión de 0.75.\n",
    "\n",
    "- La métrica AUC obtenida en el modelo de regresión logística fue de 0,73, lo que indica que hay una probabilidad del 73% que el modelo sea capaz de distinguir entre padecer o no padecer enfermedad coronaria a 10 años en el futuro. Es un buen resultado teniendo en cuenta que es cercano a uno lo que indica una buena medida de separabilidad de los datos.\n",
    "\n",
    "De los resultados obtenidos en la parte 2 se concluye:\n",
    "\n",
    "- En el algoritmo de ascenso de gradiente estocástico se probaron tasas de aprendizaje de 1, 0.5, 0.1 y 0.05 con un umbral de 0.2. Se obtuvieron modelos de buena precisión (aprox. 0,84) con pocas iteraciones (alrededor de 100) para tasas de 1 y 0.5. Sin embargo, se comprobó que a pesar de la precisión en estas tasas, el modelo no es \"bueno\" porque la tasa de verdaderos positivos es 0.0, es decir, el modelo no predijo correctamente persona alguna con la enfermedad coronaria lo cuál resulta muy grave.\n",
    "\n",
    "- De las tasas de aprendizaje probadas la de 0.1 fue la que obtuvo el mejor modelo con una tasa de verdaderos positivos de 0.377, una precisión de 0.837 y un AUC de 0.74. En este caso se predijeron correctamente 46 pacientes de 122 positivos."
   ]
  }
 ],
 "metadata": {
  "colab": {
   "name": "ML_hw2.ipynb",
   "provenance": []
  },
  "kernelspec": {
   "display_name": "Python 3 (ipykernel)",
   "language": "python",
   "name": "python3"
  },
  "language_info": {
   "codemirror_mode": {
    "name": "ipython",
    "version": 3
   },
   "file_extension": ".py",
   "mimetype": "text/x-python",
   "name": "python",
   "nbconvert_exporter": "python",
   "pygments_lexer": "ipython3",
   "version": "3.7.11"
  }
 },
 "nbformat": 4,
 "nbformat_minor": 4
}
