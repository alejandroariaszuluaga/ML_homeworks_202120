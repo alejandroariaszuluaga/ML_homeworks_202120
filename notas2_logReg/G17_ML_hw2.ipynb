{
  "nbformat": 4,
  "nbformat_minor": 0,
  "metadata": {
    "kernelspec": {
      "display_name": "Python 3",
      "language": "python",
      "name": "python3"
    },
    "language_info": {
      "codemirror_mode": {
        "name": "ipython",
        "version": 3
      },
      "file_extension": ".py",
      "mimetype": "text/x-python",
      "name": "python",
      "nbconvert_exporter": "python",
      "pygments_lexer": "ipython3",
      "version": "3.8.10"
    },
    "colab": {
      "name": "ML_hw2.ipynb",
      "provenance": [],
      "collapsed_sections": []
    }
  },
  "cells": [
    {
      "cell_type": "markdown",
      "metadata": {
        "id": "422BmOrKKRYd"
      },
      "source": [
        "# Regresión Logística: Predicción de Enfermedad Coronaria\n",
        "\n",
        "A continuación se observa un problema de clasificación binaria y se desea analizar una posible solución a partir de un modelo de regresión logística. Se busca implementar el algoritmo mencionado, inicialmente empleando la librería SciKit-Learn para luego desarrollar el mismo proceso de entrenamiento manualmente (Descenso de Gradiente Estocástico).\n",
        "\n",
        "También se introducirán algunos conceptos para lidiar con datos desbalanceados como: matriz de confusión, curva ROC, y algunas otras métricas importantes.\n",
        "\n",
        "Debe completar las celdas vacías y seguir las instrucciones anotadas en el cuaderno.\n",
        "\n",
        "La fecha límite de entrega es el día **20 de septiembre** y se realizará a través de Bloque Neón."
      ]
    },
    {
      "cell_type": "code",
      "metadata": {
        "id": "4cpmIYqNKRYh",
        "colab": {
          "base_uri": "https://localhost:8080/"
        },
        "outputId": "bb16dc85-6ce6-49a8-8662-b02dc3f22e70"
      },
      "source": [
        "import pandas as pd\n",
        "import numpy as np\n",
        "import statsmodels.api as sm\n",
        "import scipy.stats as st\n",
        "import matplotlib.pyplot as plt\n",
        "import seaborn as sn\n",
        "import sklearn\n",
        "from sklearn.linear_model import LogisticRegression\n",
        "from sklearn.model_selection import train_test_split\n",
        "from sklearn.metrics import confusion_matrix\n",
        "from sklearn.preprocessing import OrdinalEncoder, MinMaxScaler, RobustScaler\n",
        "import matplotlib.mlab as mlab\n",
        "%matplotlib inline"
      ],
      "execution_count": 2,
      "outputs": [
        {
          "output_type": "stream",
          "name": "stderr",
          "text": [
            "/usr/local/lib/python3.7/dist-packages/statsmodels/tools/_testing.py:19: FutureWarning: pandas.util.testing is deprecated. Use the functions in the public API at pandas.testing instead.\n",
            "  import pandas.util.testing as tm\n"
          ]
        }
      ]
    },
    {
      "cell_type": "code",
      "metadata": {
        "scrolled": true,
        "colab": {
          "base_uri": "https://localhost:8080/",
          "height": 224
        },
        "id": "8uh5ZTY9KRYi",
        "outputId": "97f7692e-cd86-41d2-aa98-97615410a3e3"
      },
      "source": [
        "heart_df=pd.read_csv(\"heartDisease/framingham.csv\")\n",
        "heart_df.dropna(axis=0,inplace=True)\n",
        "heart_df.head()"
      ],
      "execution_count": 3,
      "outputs": [
        {
          "output_type": "execute_result",
          "data": {
            "text/html": [
              "<div>\n",
              "<style scoped>\n",
              "    .dataframe tbody tr th:only-of-type {\n",
              "        vertical-align: middle;\n",
              "    }\n",
              "\n",
              "    .dataframe tbody tr th {\n",
              "        vertical-align: top;\n",
              "    }\n",
              "\n",
              "    .dataframe thead th {\n",
              "        text-align: right;\n",
              "    }\n",
              "</style>\n",
              "<table border=\"1\" class=\"dataframe\">\n",
              "  <thead>\n",
              "    <tr style=\"text-align: right;\">\n",
              "      <th></th>\n",
              "      <th>male</th>\n",
              "      <th>age</th>\n",
              "      <th>currentSmoker</th>\n",
              "      <th>cigsPerDay</th>\n",
              "      <th>BPMeds</th>\n",
              "      <th>prevalentStroke</th>\n",
              "      <th>prevalentHyp</th>\n",
              "      <th>diabetes</th>\n",
              "      <th>totChol</th>\n",
              "      <th>sysBP</th>\n",
              "      <th>diaBP</th>\n",
              "      <th>BMI</th>\n",
              "      <th>heartRate</th>\n",
              "      <th>glucose</th>\n",
              "      <th>TenYearCHD</th>\n",
              "    </tr>\n",
              "  </thead>\n",
              "  <tbody>\n",
              "    <tr>\n",
              "      <th>0</th>\n",
              "      <td>1</td>\n",
              "      <td>39</td>\n",
              "      <td>0</td>\n",
              "      <td>0.0</td>\n",
              "      <td>0.0</td>\n",
              "      <td>0</td>\n",
              "      <td>0</td>\n",
              "      <td>0</td>\n",
              "      <td>195.0</td>\n",
              "      <td>106.0</td>\n",
              "      <td>70.0</td>\n",
              "      <td>26.97</td>\n",
              "      <td>80.0</td>\n",
              "      <td>77.0</td>\n",
              "      <td>0</td>\n",
              "    </tr>\n",
              "    <tr>\n",
              "      <th>1</th>\n",
              "      <td>0</td>\n",
              "      <td>46</td>\n",
              "      <td>0</td>\n",
              "      <td>0.0</td>\n",
              "      <td>0.0</td>\n",
              "      <td>0</td>\n",
              "      <td>0</td>\n",
              "      <td>0</td>\n",
              "      <td>250.0</td>\n",
              "      <td>121.0</td>\n",
              "      <td>81.0</td>\n",
              "      <td>28.73</td>\n",
              "      <td>95.0</td>\n",
              "      <td>76.0</td>\n",
              "      <td>0</td>\n",
              "    </tr>\n",
              "    <tr>\n",
              "      <th>2</th>\n",
              "      <td>1</td>\n",
              "      <td>48</td>\n",
              "      <td>1</td>\n",
              "      <td>20.0</td>\n",
              "      <td>0.0</td>\n",
              "      <td>0</td>\n",
              "      <td>0</td>\n",
              "      <td>0</td>\n",
              "      <td>245.0</td>\n",
              "      <td>127.5</td>\n",
              "      <td>80.0</td>\n",
              "      <td>25.34</td>\n",
              "      <td>75.0</td>\n",
              "      <td>70.0</td>\n",
              "      <td>0</td>\n",
              "    </tr>\n",
              "    <tr>\n",
              "      <th>3</th>\n",
              "      <td>0</td>\n",
              "      <td>61</td>\n",
              "      <td>1</td>\n",
              "      <td>30.0</td>\n",
              "      <td>0.0</td>\n",
              "      <td>0</td>\n",
              "      <td>1</td>\n",
              "      <td>0</td>\n",
              "      <td>225.0</td>\n",
              "      <td>150.0</td>\n",
              "      <td>95.0</td>\n",
              "      <td>28.58</td>\n",
              "      <td>65.0</td>\n",
              "      <td>103.0</td>\n",
              "      <td>1</td>\n",
              "    </tr>\n",
              "    <tr>\n",
              "      <th>4</th>\n",
              "      <td>0</td>\n",
              "      <td>46</td>\n",
              "      <td>1</td>\n",
              "      <td>23.0</td>\n",
              "      <td>0.0</td>\n",
              "      <td>0</td>\n",
              "      <td>0</td>\n",
              "      <td>0</td>\n",
              "      <td>285.0</td>\n",
              "      <td>130.0</td>\n",
              "      <td>84.0</td>\n",
              "      <td>23.10</td>\n",
              "      <td>85.0</td>\n",
              "      <td>85.0</td>\n",
              "      <td>0</td>\n",
              "    </tr>\n",
              "  </tbody>\n",
              "</table>\n",
              "</div>"
            ],
            "text/plain": [
              "   male  age  currentSmoker  cigsPerDay  ...    BMI  heartRate  glucose  TenYearCHD\n",
              "0     1   39              0         0.0  ...  26.97       80.0     77.0           0\n",
              "1     0   46              0         0.0  ...  28.73       95.0     76.0           0\n",
              "2     1   48              1        20.0  ...  25.34       75.0     70.0           0\n",
              "3     0   61              1        30.0  ...  28.58       65.0    103.0           1\n",
              "4     0   46              1        23.0  ...  23.10       85.0     85.0           0\n",
              "\n",
              "[5 rows x 15 columns]"
            ]
          },
          "metadata": {},
          "execution_count": 3
        }
      ]
    },
    {
      "cell_type": "code",
      "metadata": {
        "colab": {
          "base_uri": "https://localhost:8080/"
        },
        "id": "DeN7zJ3EKRYi",
        "outputId": "6549d1db-0fa8-4882-9ea2-e7715013f8f6"
      },
      "source": [
        "print(f'Se tienen {len(heart_df)} datos.')"
      ],
      "execution_count": 4,
      "outputs": [
        {
          "output_type": "stream",
          "name": "stdout",
          "text": [
            "Se tienen 3749 datos.\n"
          ]
        }
      ]
    },
    {
      "cell_type": "markdown",
      "metadata": {
        "id": "s6EgG5u-KRYi"
      },
      "source": [
        "### Análisis de Distribución de Clases\n",
        "\n",
        "En el diagrama a continuación puede observar un claro desbalanceo de los datos, en pasos posteriores hablaremos al respecto."
      ]
    },
    {
      "cell_type": "code",
      "metadata": {
        "colab": {
          "base_uri": "https://localhost:8080/",
          "height": 265
        },
        "id": "Svbp2X3iKRYj",
        "outputId": "3d9d16ad-f17a-4890-9498-608a612a5f43"
      },
      "source": [
        "heart_df['TenYearCHD'].value_counts().plot(kind='pie')"
      ],
      "execution_count": 5,
      "outputs": [
        {
          "output_type": "execute_result",
          "data": {
            "text/plain": [
              "<matplotlib.axes._subplots.AxesSubplot at 0x7f1dd973d310>"
            ]
          },
          "metadata": {},
          "execution_count": 5
        },
        {
          "output_type": "display_data",
          "data": {
            "image/png": "[encoded data removed]",
            "text/plain": [
              "<Figure size 432x288 with 1 Axes>"
            ]
          },
          "metadata": {}
        }
      ]
    },
    {
      "cell_type": "markdown",
      "metadata": {
        "id": "41RaDMwmKRYj"
      },
      "source": [
        "## Descripción de Variables\n",
        "\n",
        "Cada atributo es un factor potencial de riesgo. Existen factores demográficos, conductuales y médicos.\n",
        "\n",
        "- Demográfico:\n",
        "\n",
        "    - male: masculino (1) o femenino (0); (Nominal)\n",
        "\n",
        "    - age: edad del paciente; (Continuo: aunque las edades registradas se han truncado a números enteros, el concepto de edad es continuo)\n",
        "\n",
        "- Comportacional:\n",
        "\n",
        "    - currentSmoker: si el paciente es o no fumador actual (nominal)\n",
        "\n",
        "    - cigsPerDay: la cantidad de cigarrillos que la persona fumó en promedio en un día (se puede considerar continuo ya que uno puede tener cualquier cantidad de cigarrillos, incluso medio cigarrillo).\n",
        "\n",
        "- Historia médica:\n",
        "\n",
        "    - BPMeds: si el paciente estaba o no tomando medicación para la presión arterial (nominal)\n",
        "\n",
        "    - prevalentStroke: si el paciente había tenido previamente un accidente cerebrovascular o no (nominal)\n",
        "\n",
        "    - prevalentHyp: si el paciente era hipertenso (nominal)\n",
        "\n",
        "    - diabetes: si el paciente tenía diabetes o no (nominal)\n",
        "\n",
        "- Estado Médico actual:\n",
        "\n",
        "    - totChol: nivel de colesterol total (continuo)\n",
        "\n",
        "    - sysBP: presión arterial sistólica (continua)\n",
        "\n",
        "    - diaBP: presión arterial diastólica (continua)\n",
        "\n",
        "    - IMC: índice de masa corporal (continuo)\n",
        "\n",
        "    - heartRate: frecuencia cardíaca (continua: en la investigación médica, variables como la frecuencia cardíaca, aunque de hecho son discretas, se consideran continuas debido a la gran cantidad de valores posibles).\n",
        "\n",
        "    - glucose: nivel de glucosa (continuo)\n",
        "\n",
        "- **Variable a Predecir**\n",
        "\n",
        "    - TenYearCHD: Riesgo de padecer enfermedad coronaria 10 años en el futuro (binario: \"1\", significa \"Sí\", \"0\" significa \"No\")"
      ]
    },
    {
      "cell_type": "code",
      "metadata": {
        "id": "YtfOapJUKRYk"
      },
      "source": [
        "x = heart_df.iloc[:,:-1]\n",
        "y = heart_df.iloc[:,-1]\n",
        "\n",
        "x_train,x_test,y_train,y_test=train_test_split(x,y,test_size=.20,random_state=22)"
      ],
      "execution_count": 14,
      "outputs": []
    },
    {
      "cell_type": "code",
      "metadata": {
        "colab": {
          "base_uri": "https://localhost:8080/"
        },
        "id": "qWkgJr1M3Mhz",
        "outputId": "d90dba20-9572-4772-9931-d208c204f25e"
      },
      "source": [
        "y.head()"
      ],
      "execution_count": 7,
      "outputs": [
        {
          "output_type": "execute_result",
          "data": {
            "text/plain": [
              "0    0\n",
              "1    0\n",
              "2    0\n",
              "3    1\n",
              "4    0\n",
              "Name: TenYearCHD, dtype: int64"
            ]
          },
          "metadata": {},
          "execution_count": 7
        }
      ]
    },
    {
      "cell_type": "code",
      "metadata": {
        "id": "sigqnqw_KRYk"
      },
      "source": [
        "scaler = MinMaxScaler() # Utilice un MinMaxScaler #\n",
        "x_train = scaler.fit_transform(x_train)# Ajuste y Aplique el Escalamiento (función fit_transform) #\n",
        "x_test = scaler.fit_transform(x_test)# Aplique el Escalamiento (función transform) #"
      ],
      "execution_count": 8,
      "outputs": []
    },
    {
      "cell_type": "markdown",
      "metadata": {
        "id": "vCsLiDYiKRYl"
      },
      "source": [
        "## Parte 1\n",
        "\n",
        "A continuación, debe utilizar la función `LogisticRegression` de SciKit-Learn para obtener un primer modelo de regresión logística y calcular su precisión a partir de la función `accuracy_score`.\n",
        "\n",
        "Obtenga resultados sobre los datos de entrenamiento y los datos de prueba. Concluya al respecto."
      ]
    },
    {
      "cell_type": "code",
      "metadata": {
        "colab": {
          "base_uri": "https://localhost:8080/"
        },
        "id": "i4DuSHLCKRYl",
        "outputId": "b95999f5-91b4-49a5-f2d5-bc3e5cc44494"
      },
      "source": [
        "logreg = LogisticRegression() # Modelo de Regresión Logística #\n",
        "logreg.fit(x_train,y_train) # Entrenamiento sobre los Datos #\n",
        "y_pred = logreg.predict(x_test) # Predicción de Etiquetas #\n",
        "\n",
        "accuracy=sklearn.metrics.accuracy_score(y_test,y_pred)\n",
        "\n",
        "print(f'Precisión inicial: {accuracy}')"
      ],
      "execution_count": 9,
      "outputs": [
        {
          "output_type": "stream",
          "name": "stdout",
          "text": [
            "Precisión inicial: 0.84\n"
          ]
        }
      ]
    },
    {
      "cell_type": "markdown",
      "metadata": {
        "id": "RnP1L3V1KRYm"
      },
      "source": [
        "### Matriz de Confusión\n",
        "\n",
        "Como recordará, la información en este dataset no posee una distribución de clases balanceada. La matriz de confusión es una herramienta que permite analizar el comportamiento del modelo para estos datos.\n",
        "\n",
        "Puede encontrar más información en este artículo: [Understanding Confusion Matrix](https://towardsdatascience.com/understanding-confusion-matrix-a9ad42dcfd62)"
      ]
    },
    {
      "cell_type": "code",
      "metadata": {
        "colab": {
          "base_uri": "https://localhost:8080/",
          "height": 337
        },
        "id": "lq5jTPZRKRYm",
        "outputId": "5873b050-5a5a-49f5-936e-c82bbce14384"
      },
      "source": [
        "cm = confusion_matrix(y_test,y_pred)\n",
        "conf_matrix = pd.DataFrame(data=cm,columns=['Predicted:0','Predicted:1'],index=['Actual:0','Actual:1'])\n",
        "plt.figure(figsize = (8,5))\n",
        "sn.heatmap(conf_matrix, annot=True,fmt='d',cmap=\"YlGnBu\")\n"
      ],
      "execution_count": 10,
      "outputs": [
        {
          "output_type": "execute_result",
          "data": {
            "text/plain": [
              "<matplotlib.axes._subplots.AxesSubplot at 0x7f1dd96f3810>"
            ]
          },
          "metadata": {},
          "execution_count": 10
        },
        {
          "output_type": "display_data",
          "data": {
            "image/png": "[encoded data removed]",
            "text/plain": [
              "<Figure size 576x360 with 2 Axes>"
            ]
          },
          "metadata": {
            "needs_background": "light"
          }
        }
      ]
    },
    {
      "cell_type": "markdown",
      "metadata": {
        "id": "H-9rDRJvKRYm"
      },
      "source": [
        "### Tratamiento de Datos Desbalanceados\n",
        "\n",
        "En casos de estudio como identificación de tendencias patológicas, es común tener datos desbalanceados, o en los cuales la gravedad de cometer [errores tipo I o tipo II](https://www.simplypsychology.org/type_I_and_type_II_errors.html) son bastante diferentes. En muchos casos, se puede preferir cometer cierto tipo de error sobre el otro. Para trabajar con estos problemas, se suele preferir sacrificar algo de [precisión](https://developers.google.com/machine-learning/crash-course/classification/accuracy) del modelo, a cambio de una mejora en términos prácticos.\n",
        "\n",
        "Este proceso se realiza a partir de la modificación del umbral a partir del cual se decide si un dato pertenece a una clase u otra. Utilice la función `binarize` para obtener valores de `0` ó `1` según las probabilidades de las predicciones realizadas utilizando la función `model.predict_proba`.\n",
        "\n",
        "Algunas métricas utilizadas para interpretar el rendimiento del modelo son las siguientes:\n",
        "\n",
        "- F1Score\n",
        "- TP Rate / Recall / Sensitividad\n",
        "- TN Rate / Especificidad\n",
        "\n",
        "Puede encontrar más información sobre estas métricas en los artículos:\n",
        "- [Accuracy, Precision, Recall or F1?](https://towardsdatascience.com/accuracy-precision-recall-or-f1-331fb37c5cb9)\n",
        "- [Sensitivity Vs Specificity In Data Science](https://medium.com/fintechexplained/sensitivity-vs-specificity-in-data-science-2f673039dbd1)"
      ]
    },
    {
      "cell_type": "code",
      "metadata": {
        "scrolled": false,
        "colab": {
          "base_uri": "https://localhost:8080/"
        },
        "id": "UAC7xhvHKRYn",
        "outputId": "d5930b0e-7c50-4616-d082-cec6cbc04210"
      },
      "source": [
        "from sklearn.preprocessing import binarize\n",
        "\n",
        "umbrales = np.linspace(0.1,1,num=10)# Vector que Contiene los Umbrales a Analizar #\n",
        "\n",
        "for umbral in umbrales:\n",
        "    cm2 = 0\n",
        "    y_pred_prob_yes = logreg.predict_proba(x_test) # Utilice la función predict_proba para calcular las probabilidades de pertenecer a la clase 1 #\n",
        "    y_pred2 =sklearn.preprocessing.binarize(y_pred_prob_yes,threshold=umbral)[:,0]# Utilice la función binarize para convertir las probabilidades a clases 0 y 1 #\n",
        "    cm2 = confusion_matrix(y_test,y_pred2)\n",
        "    print(f'''->Para un umbral de {round(umbral,4)} tenemos esta matriz de confusión:\n",
        "{cm2}\n",
        "Con {cm2[0,0]+cm2[1,1]} predicciones correctas y {cm2[1,0]} falsos positivos.\n",
        "Sensitividad: {round(cm2[1,1]/(float(cm2[1,1]+cm2[1,0])), 4)} Especificidad: {round(cm2[0,0]/(float(cm2[0,0]+cm2[0,1])), 4)}\\n''')\n"
      ],
      "execution_count": 11,
      "outputs": [
        {
          "output_type": "stream",
          "name": "stdout",
          "text": [
            "->Para un umbral de 0.1 tenemos esta matriz de confusión:\n",
            "[[  0 630]\n",
            " [  1 119]]\n",
            "Con 119 predicciones correctas y 1 falsos positivos.\n",
            "Sensitividad: 0.9917 Especificidad: 0.0\n",
            "\n",
            "->Para un umbral de 0.2 tenemos esta matriz de confusión:\n",
            "[[  1 629]\n",
            " [  1 119]]\n",
            "Con 120 predicciones correctas y 1 falsos positivos.\n",
            "Sensitividad: 0.9917 Especificidad: 0.0016\n",
            "\n",
            "->Para un umbral de 0.3 tenemos esta matriz de confusión:\n",
            "[[  1 629]\n",
            " [  1 119]]\n",
            "Con 120 predicciones correctas y 1 falsos positivos.\n",
            "Sensitividad: 0.9917 Especificidad: 0.0016\n",
            "\n",
            "->Para un umbral de 0.4 tenemos esta matriz de confusión:\n",
            "[[  1 629]\n",
            " [  6 114]]\n",
            "Con 115 predicciones correctas y 6 falsos positivos.\n",
            "Sensitividad: 0.95 Especificidad: 0.0016\n",
            "\n",
            "->Para un umbral de 0.5 tenemos esta matriz de confusión:\n",
            "[[ 12 618]\n",
            " [ 12 108]]\n",
            "Con 120 predicciones correctas y 12 falsos positivos.\n",
            "Sensitividad: 0.9 Especificidad: 0.019\n",
            "\n",
            "->Para un umbral de 0.6 tenemos esta matriz de confusión:\n",
            "[[ 33 597]\n",
            " [ 21  99]]\n",
            "Con 132 predicciones correctas y 21 falsos positivos.\n",
            "Sensitividad: 0.825 Especificidad: 0.0524\n",
            "\n",
            "->Para un umbral de 0.7 tenemos esta matriz de confusión:\n",
            "[[ 78 552]\n",
            " [ 40  80]]\n",
            "Con 158 predicciones correctas y 40 falsos positivos.\n",
            "Sensitividad: 0.6667 Especificidad: 0.1238\n",
            "\n",
            "->Para un umbral de 0.8 tenemos esta matriz de confusión:\n",
            "[[144 486]\n",
            " [ 75  45]]\n",
            "Con 189 predicciones correctas y 75 falsos positivos.\n",
            "Sensitividad: 0.375 Especificidad: 0.2286\n",
            "\n",
            "->Para un umbral de 0.9 tenemos esta matriz de confusión:\n",
            "[[355 275]\n",
            " [102  18]]\n",
            "Con 373 predicciones correctas y 102 falsos positivos.\n",
            "Sensitividad: 0.15 Especificidad: 0.5635\n",
            "\n",
            "->Para un umbral de 1.0 tenemos esta matriz de confusión:\n",
            "[[630   0]\n",
            " [120   0]]\n",
            "Con 630 predicciones correctas y 120 falsos positivos.\n",
            "Sensitividad: 0.0 Especificidad: 1.0\n",
            "\n"
          ]
        }
      ]
    },
    {
      "cell_type": "markdown",
      "metadata": {
        "id": "gnTZ_CBxKRYn"
      },
      "source": [
        "Por otra parte, un criterio que facilita el visualizar este trade-off se conoce como la Curva ROC, en donde se ubican múltiples puntos para distintos valores del umbral de clasificación. Puede leer el artículo a continuación para una explicación más detallada:\n",
        "- Curva ROC: [Understanding AUC - ROC Curve](https://towardsdatascience.com/understanding-auc-roc-curve-68b2303cc9c5)"
      ]
    },
    {
      "cell_type": "code",
      "metadata": {
        "colab": {
          "base_uri": "https://localhost:8080/",
          "height": 295
        },
        "id": "-xrTxMK_KRYn",
        "outputId": "94123951-eee8-44f1-947c-97f84cfd9c6b"
      },
      "source": [
        "from sklearn.metrics import roc_curve\n",
        "\n",
        "fpr, tpr, thresholds = roc_curve(y_test, y_pred_prob_yes[:,1])\n",
        "plt.plot(fpr,tpr)\n",
        "plt.xlim([0.0, 1.0])\n",
        "plt.ylim([0.0, 1.0])\n",
        "plt.title('Curva ROC para Clasificador de Enfermedad Coronaria')\n",
        "plt.xlabel('Tasa de Falsos Positivos (1-Especificidad)')\n",
        "plt.ylabel('Tasa de Verdaderos Positivos (Sensitividad)')\n",
        "plt.grid(True)"
      ],
      "execution_count": 12,
      "outputs": [
        {
          "output_type": "display_data",
          "data": {
            "image/png": "[encoded data removed]",
            "text/plain": [
              "<Figure size 432x288 with 1 Axes>"
            ]
          },
          "metadata": {
            "needs_background": "light"
          }
        }
      ]
    },
    {
      "cell_type": "markdown",
      "metadata": {
        "id": "Is8ZhjchKRYo"
      },
      "source": [
        "\n",
        "\n",
        "```\n",
        "# Tiene formato de código\n",
        "```\n",
        "\n",
        "Observe la gráfica, y teniendo en cuenta los resultados concluya sobre la proporción que se puede considerar más adecuada en este contexto.\n",
        "\n",
        "**R/** Para este contexto, ya que es una predicción a largo plazo y no un diagnóstico médico, es más importante tratar de mantener una buena relación de tasa de verdaderos positivos y de falsos positivos. La cual puede estar a una tasa de Falsos positivos de 0.2 y una tasa de Verdaderos positivos de aproximadamente 0.5.\n",
        "## Parte 2\n",
        "\n",
        "Ahora usted debe desarrollar su propia implementación del método Descenso de Gradiente estocástico para un modelo de regresión logística. Realice el entrenamiento a partir del 80% de los datos. Al final del entrenamiento, en la lista errores se deben tener los valores de la función de error para cada iteración y así poder observar el progreso gráficamente."
      ]
    },
    {
      "cell_type": "code",
      "metadata": {
        "colab": {
          "base_uri": "https://localhost:8080/"
        },
        "id": "XuC0yphpKRYo",
        "outputId": "8d56ff2a-154c-46ac-f17e-53f826562a0c"
      },
      "source": [
        "np.random.seed(22)\n",
        "X_train_array = np.c_[np.ones(x_train.values.shape[0]), x_train.values]\n",
        "y_train_array = y_train.values\n",
        "\n",
        "w0 = np.random.rand(X_train_array.shape[1]) # Inicialización de w #\n",
        "\n",
        "w = w0.copy()\n",
        "# Inicialización de criterio de parada (al disminuir el valor de eps, se aumenta la precisión y el tiempo de procesamiento)\n",
        "eps = 1e-5\n",
        "error = 100\n",
        "dif = 100\n",
        "\n",
        "def sigma(w,x):\n",
        "    res_sigmoid =  1/(1+np.exp(-np.dot(w,x)))# Salida de la función sigmoide #\n",
        "    return res_sigmoid\n",
        "\n",
        "tasas = [0.1,0.05,0.01,0.005,0.001,0.0005,0.0001]# Defina un vector que contenga las tasas que desea probar #\n",
        "#tasas = [0.1]\n",
        "for tasa in tasas:\n",
        "    # while error>eps:         # Criterio de parada 1 #\n",
        "    for j in range (0, 1000):  # Criterio de parada 2 #\n",
        "        i = round(np.random.rand()*len(X_train_array))-1\n",
        "        xActual = X_train_array[i]\n",
        "        yActual = y_train_array[i]\n",
        "        g=sigma(w,xActual)\n",
        "        error=yActual-g\n",
        "        w=w0+tasa*error*xActual\n",
        "        w0=w.copy()\n",
        "\n",
        "\n",
        "        # # Desarrollo de algoritmo # #\n",
        "        #\n",
        "        #\n",
        "        #\n",
        "        #\n",
        "        #\n",
        "        #\n",
        "        # # # # # # # # # # # # # # # #\n",
        "    X_test_array = np.c_[np.ones(x_test.values.shape[0]), x_test.values]\n",
        "    y_test_array = y_test.values\n",
        "\n",
        "    y_pred = np.zeros(len(x_test))\n",
        "\n",
        "    for i in range(0,len(x_test)):\n",
        "      prob = sigma(w,X_test_array[i])\n",
        "      if prob>0.5:\n",
        "        y_pred[i] = 1\n",
        "      else:\n",
        "        y_pred[i] = 0\n",
        "\n",
        "    print(f'Precisión modelo actual: {sklearn.metrics.accuracy_score(y_test,y_pred)}')"
      ],
      "execution_count": 37,
      "outputs": [
        {
          "output_type": "stream",
          "name": "stdout",
          "text": [
            "Precisión modelo actual: 0.836\n",
            "Precisión modelo actual: 0.6826666666666666\n",
            "Precisión modelo actual: 0.836\n",
            "Precisión modelo actual: 0.8066666666666666\n",
            "Precisión modelo actual: 0.772\n",
            "Precisión modelo actual: 0.7826666666666666\n",
            "Precisión modelo actual: 0.7653333333333333\n"
          ]
        },
        {
          "output_type": "stream",
          "name": "stderr",
          "text": [
            "/usr/local/lib/python3.7/dist-packages/ipykernel_launcher.py:14: RuntimeWarning: overflow encountered in exp\n",
            "  \n"
          ]
        }
      ]
    },
    {
      "cell_type": "markdown",
      "metadata": {
        "id": "Ai7mbsQRKRYp"
      },
      "source": [
        "## Matriz de Confusión\n",
        "\n",
        "Observe y analice la matriz de confusión para su mejor modelo. Escriba claramente sus conclusiones."
      ]
    },
    {
      "cell_type": "code",
      "metadata": {
        "colab": {
          "base_uri": "https://localhost:8080/",
          "height": 337
        },
        "id": "v1kI3WBIKRYp",
        "outputId": "2a9578be-9b72-4420-b01a-f59391d55177"
      },
      "source": [
        "cm = confusion_matrix(y_test,y_pred)\n",
        "conf_matrix = pd.DataFrame(data=cm,columns=['Predicted:0','Predicted:1'],index=['Actual:0','Actual:1'])\n",
        "\n",
        "plt.figure(figsize = (8,5))\n",
        "sn.heatmap(conf_matrix, annot=True,fmt='d',cmap=\"YlGnBu\")"
      ],
      "execution_count": 36,
      "outputs": [
        {
          "output_type": "execute_result",
          "data": {
            "text/plain": [
              "<matplotlib.axes._subplots.AxesSubplot at 0x7f1dcbad6610>"
            ]
          },
          "metadata": {},
          "execution_count": 36
        },
        {
          "output_type": "display_data",
          "data": {
            "image/png": "[encoded data removed]",
            "text/plain": [
              "<Figure size 576x360 with 2 Axes>"
            ]
          },
          "metadata": {
            "needs_background": "light"
          }
        }
      ]
    },
    {
      "cell_type": "markdown",
      "metadata": {
        "id": "eCNpGWtJc5a9"
      },
      "source": [
        "La tasa con la que se obtuvo una mejor predicción fue con la de 0.1, así que con esta se realizó la nueva matriz de confusión. En esta, se nota que la matriz de confusión es muy parecida a la primer matriz de confusión hallada en puntos anteriorres, donde la gran mayoría de los datos y que indican que la persona no tendría ninguna enferemedad coronaria a los 10 años fueron predichos de manera correcta; sin embargo, la gran mayoría de datos de las personas que sí tendrían una enfermedad coronaria no se predicen bien. Esto se cree que es debido a la gran diferencia en proporción de los datos."
      ]
    },
    {
      "cell_type": "code",
      "metadata": {
        "id": "98ksINJ2KRYp"
      },
      "source": [
        ""
      ],
      "execution_count": null,
      "outputs": []
    }
  ]
}