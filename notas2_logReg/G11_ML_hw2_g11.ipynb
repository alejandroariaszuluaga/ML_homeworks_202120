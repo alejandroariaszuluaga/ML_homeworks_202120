{
  "nbformat": 4,
  "nbformat_minor": 0,
  "metadata": {
    "kernelspec": {
      "display_name": "Python 3",
      "language": "python",
      "name": "python3"
    },
    "language_info": {
      "codemirror_mode": {
        "name": "ipython",
        "version": 3
      },
      "file_extension": ".py",
      "mimetype": "text/x-python",
      "name": "python",
      "nbconvert_exporter": "python",
      "pygments_lexer": "ipython3",
      "version": "3.7.4"
    },
    "colab": {
      "name": "ML_hw2_g11.ipynb",
      "provenance": []
    }
  },
  "cells": [
    {
      "cell_type": "markdown",
      "metadata": {
        "id": "5YSOXGPdJGr1"
      },
      "source": [
        "# Regresión Logística: Predicción de Enfermedad Coronaria\n",
        "\n",
        "A continuación se observa un problema de clasificación binaria y se desea analizar una posible solución a partir de un modelo de regresión logística. Se busca implementar el algoritmo mencionado, inicialmente empleando la librería SciKit-Learn para luego desarrollar el mismo proceso de entrenamiento manualmente (Descenso de Gradiente Estocástico).\n",
        "\n",
        "También se introducirán algunos conceptos para lidiar con datos desbalanceados como: matriz de confusión, curva ROC, y algunas otras métricas importantes.\n",
        "\n",
        "Debe completar las celdas vacías y seguir las instrucciones anotadas en el cuaderno.\n",
        "\n",
        "La fecha límite de entrega es el día **20 de septiembre** y se realizará a través de Bloque Neón."
      ]
    },
    {
      "cell_type": "code",
      "metadata": {
        "id": "EOAMy4OyJGr7"
      },
      "source": [
        "import pandas as pd\n",
        "import numpy as np\n",
        "#To get a sintaxis like R. also the results are displayed like in R\n",
        "import statsmodels.api as sm\n",
        "import scipy.stats as st\n",
        "import matplotlib.pyplot as plt\n",
        "#Graphical module \n",
        "import seaborn as sn\n",
        "import sklearn\n",
        "from sklearn.linear_model import LogisticRegression\n",
        "from sklearn.model_selection import train_test_split\n",
        "from sklearn.metrics import confusion_matrix\n",
        "from sklearn.preprocessing import OrdinalEncoder, MinMaxScaler, RobustScaler\n",
        "import matplotlib.mlab as mlab\n",
        "%matplotlib inline"
      ],
      "execution_count": 17,
      "outputs": []
    },
    {
      "cell_type": "code",
      "metadata": {
        "colab": {
          "base_uri": "https://localhost:8080/"
        },
        "id": "Y3QnTrDyJM6R",
        "outputId": "2277e4d3-1209-4a45-ed1d-84e9b5ddb27d"
      },
      "source": [
        "from google.colab import drive\n",
        "drive.mount('/content/drive')"
      ],
      "execution_count": 18,
      "outputs": [
        {
          "output_type": "stream",
          "name": "stdout",
          "text": [
            "Drive already mounted at /content/drive; to attempt to forcibly remount, call drive.mount(\"/content/drive\", force_remount=True).\n"
          ]
        }
      ]
    },
    {
      "cell_type": "code",
      "metadata": {
        "scrolled": true,
        "colab": {
          "base_uri": "https://localhost:8080/",
          "height": 224
        },
        "id": "_euwouwgJGr9",
        "outputId": "99d33bcd-a6e6-4e41-c2ea-6dcb82d2ec0f"
      },
      "source": [
        "heart_df=pd.read_csv(\"drive/MyDrive/Semestre8/Machine learning/Tareas/Tarea 2/heartDisease/framingham.csv\")\n",
        "#For drop missing values\n",
        "heart_df.dropna(axis=0,inplace=True)\n",
        "heart_df.head()"
      ],
      "execution_count": 19,
      "outputs": [
        {
          "output_type": "execute_result",
          "data": {
            "text/html": [
              "<div>\n",
              "<style scoped>\n",
              "    .dataframe tbody tr th:only-of-type {\n",
              "        vertical-align: middle;\n",
              "    }\n",
              "\n",
              "    .dataframe tbody tr th {\n",
              "        vertical-align: top;\n",
              "    }\n",
              "\n",
              "    .dataframe thead th {\n",
              "        text-align: right;\n",
              "    }\n",
              "</style>\n",
              "<table border=\"1\" class=\"dataframe\">\n",
              "  <thead>\n",
              "    <tr style=\"text-align: right;\">\n",
              "      <th></th>\n",
              "      <th>male</th>\n",
              "      <th>age</th>\n",
              "      <th>currentSmoker</th>\n",
              "      <th>cigsPerDay</th>\n",
              "      <th>BPMeds</th>\n",
              "      <th>prevalentStroke</th>\n",
              "      <th>prevalentHyp</th>\n",
              "      <th>diabetes</th>\n",
              "      <th>totChol</th>\n",
              "      <th>sysBP</th>\n",
              "      <th>diaBP</th>\n",
              "      <th>BMI</th>\n",
              "      <th>heartRate</th>\n",
              "      <th>glucose</th>\n",
              "      <th>TenYearCHD</th>\n",
              "    </tr>\n",
              "  </thead>\n",
              "  <tbody>\n",
              "    <tr>\n",
              "      <th>0</th>\n",
              "      <td>1</td>\n",
              "      <td>39</td>\n",
              "      <td>0</td>\n",
              "      <td>0.0</td>\n",
              "      <td>0.0</td>\n",
              "      <td>0</td>\n",
              "      <td>0</td>\n",
              "      <td>0</td>\n",
              "      <td>195.0</td>\n",
              "      <td>106.0</td>\n",
              "      <td>70.0</td>\n",
              "      <td>26.97</td>\n",
              "      <td>80.0</td>\n",
              "      <td>77.0</td>\n",
              "      <td>0</td>\n",
              "    </tr>\n",
              "    <tr>\n",
              "      <th>1</th>\n",
              "      <td>0</td>\n",
              "      <td>46</td>\n",
              "      <td>0</td>\n",
              "      <td>0.0</td>\n",
              "      <td>0.0</td>\n",
              "      <td>0</td>\n",
              "      <td>0</td>\n",
              "      <td>0</td>\n",
              "      <td>250.0</td>\n",
              "      <td>121.0</td>\n",
              "      <td>81.0</td>\n",
              "      <td>28.73</td>\n",
              "      <td>95.0</td>\n",
              "      <td>76.0</td>\n",
              "      <td>0</td>\n",
              "    </tr>\n",
              "    <tr>\n",
              "      <th>2</th>\n",
              "      <td>1</td>\n",
              "      <td>48</td>\n",
              "      <td>1</td>\n",
              "      <td>20.0</td>\n",
              "      <td>0.0</td>\n",
              "      <td>0</td>\n",
              "      <td>0</td>\n",
              "      <td>0</td>\n",
              "      <td>245.0</td>\n",
              "      <td>127.5</td>\n",
              "      <td>80.0</td>\n",
              "      <td>25.34</td>\n",
              "      <td>75.0</td>\n",
              "      <td>70.0</td>\n",
              "      <td>0</td>\n",
              "    </tr>\n",
              "    <tr>\n",
              "      <th>3</th>\n",
              "      <td>0</td>\n",
              "      <td>61</td>\n",
              "      <td>1</td>\n",
              "      <td>30.0</td>\n",
              "      <td>0.0</td>\n",
              "      <td>0</td>\n",
              "      <td>1</td>\n",
              "      <td>0</td>\n",
              "      <td>225.0</td>\n",
              "      <td>150.0</td>\n",
              "      <td>95.0</td>\n",
              "      <td>28.58</td>\n",
              "      <td>65.0</td>\n",
              "      <td>103.0</td>\n",
              "      <td>1</td>\n",
              "    </tr>\n",
              "    <tr>\n",
              "      <th>4</th>\n",
              "      <td>0</td>\n",
              "      <td>46</td>\n",
              "      <td>1</td>\n",
              "      <td>23.0</td>\n",
              "      <td>0.0</td>\n",
              "      <td>0</td>\n",
              "      <td>0</td>\n",
              "      <td>0</td>\n",
              "      <td>285.0</td>\n",
              "      <td>130.0</td>\n",
              "      <td>84.0</td>\n",
              "      <td>23.10</td>\n",
              "      <td>85.0</td>\n",
              "      <td>85.0</td>\n",
              "      <td>0</td>\n",
              "    </tr>\n",
              "  </tbody>\n",
              "</table>\n",
              "</div>"
            ],
            "text/plain": [
              "   male  age  currentSmoker  cigsPerDay  ...    BMI  heartRate  glucose  TenYearCHD\n",
              "0     1   39              0         0.0  ...  26.97       80.0     77.0           0\n",
              "1     0   46              0         0.0  ...  28.73       95.0     76.0           0\n",
              "2     1   48              1        20.0  ...  25.34       75.0     70.0           0\n",
              "3     0   61              1        30.0  ...  28.58       65.0    103.0           1\n",
              "4     0   46              1        23.0  ...  23.10       85.0     85.0           0\n",
              "\n",
              "[5 rows x 15 columns]"
            ]
          },
          "metadata": {},
          "execution_count": 19
        }
      ]
    },
    {
      "cell_type": "code",
      "metadata": {
        "colab": {
          "base_uri": "https://localhost:8080/"
        },
        "id": "BAY5ngXHJGr-",
        "outputId": "0078c8bf-1241-41a1-fd1f-6298d3d0c001"
      },
      "source": [
        "print(f'Se tienen {len(heart_df)} observaciones.')"
      ],
      "execution_count": 20,
      "outputs": [
        {
          "output_type": "stream",
          "name": "stdout",
          "text": [
            "Se tienen 3749 observaciones.\n"
          ]
        }
      ]
    },
    {
      "cell_type": "markdown",
      "metadata": {
        "id": "V0FQOYr4JGr-"
      },
      "source": [
        "### Análisis de Distribución de Clases\n",
        "\n",
        "En el diagrama a continuación puede observar un claro desbalanceo de los datos, en pasos posteriores hablaremos al respecto."
      ]
    },
    {
      "cell_type": "code",
      "metadata": {
        "colab": {
          "base_uri": "https://localhost:8080/",
          "height": 265
        },
        "id": "g193LKFRJGr_",
        "outputId": "699ed86f-346a-4ad0-cfbd-cffdd3319edd"
      },
      "source": [
        "heart_df['TenYearCHD'].value_counts().plot(kind='pie')"
      ],
      "execution_count": 21,
      "outputs": [
        {
          "output_type": "execute_result",
          "data": {
            "text/plain": [
              "<matplotlib.axes._subplots.AxesSubplot at 0x7f4109c7eb50>"
            ]
          },
          "metadata": {},
          "execution_count": 21
        },
        {
          "output_type": "display_data",
          "data": {
            "image/png": "[encoded data removed]",
            "text/plain": [
              "<Figure size 432x288 with 1 Axes>"
            ]
          },
          "metadata": {}
        }
      ]
    },
    {
      "cell_type": "markdown",
      "metadata": {
        "id": "p7Nc-CmKJGsA"
      },
      "source": [
        "## Descripción de Variables\n",
        "\n",
        "Cada atributo es un factor potencial de riesgo. Existen factores demográficos, conductuales y médicos.\n",
        "\n",
        "- Demográfico:\n",
        "\n",
        "    - male: masculino (1) o femenino (0); (Nominal)\n",
        "\n",
        "    - age: edad del paciente; (Continuo: aunque las edades registradas se han truncado a números enteros, el concepto de edad es continuo)\n",
        "\n",
        "- Comportacional:\n",
        "\n",
        "    - currentSmoker: si el paciente es o no fumador actual (nominal)\n",
        "\n",
        "    - cigsPerDay: la cantidad de cigarrillos que la persona fumó en promedio en un día (se puede considerar continuo ya que uno puede tener cualquier cantidad de cigarrillos, incluso medio cigarrillo).\n",
        "\n",
        "- Historia médica:\n",
        "\n",
        "    - BPMeds: si el paciente estaba o no tomando medicación para la presión arterial (nominal)\n",
        "\n",
        "    - prevalentStroke: si el paciente había tenido previamente un accidente cerebrovascular o no (nominal)\n",
        "\n",
        "    - prevalentHyp: si el paciente era hipertenso (nominal)\n",
        "\n",
        "    - diabetes: si el paciente tenía diabetes o no (nominal)\n",
        "\n",
        "- Estado Médico actual:\n",
        "\n",
        "    - totChol: nivel de colesterol total (continuo)\n",
        "\n",
        "    - sysBP: presión arterial sistólica (continua)\n",
        "\n",
        "    - diaBP: presión arterial diastólica (continua)\n",
        "\n",
        "    - IMC: índice de masa corporal (continuo)\n",
        "\n",
        "    - heartRate: frecuencia cardíaca (continua: en la investigación médica, variables como la frecuencia cardíaca, aunque de hecho son discretas, se consideran continuas debido a la gran cantidad de valores posibles).\n",
        "\n",
        "    - glucose: nivel de glucosa (continuo)\n",
        "\n",
        "- **Variable a Predecir**\n",
        "\n",
        "    - TenYearCHD: Riesgo de padecer enfermedad coronaria 10 años en el futuro (binario: \"1\", significa \"Sí\", \"0\" significa \"No\")"
      ]
    },
    {
      "cell_type": "code",
      "metadata": {
        "id": "kY5bD_2fJGsB"
      },
      "source": [
        "x = heart_df.iloc[:,:-1]\n",
        "y = heart_df.iloc[:,-1]\n",
        "#Firts we should make the MinMaxSacler, after, split the set\n",
        "x_train,x_test,y_train,y_test=train_test_split(x,y,test_size=.20,random_state=22)"
      ],
      "execution_count": 22,
      "outputs": []
    },
    {
      "cell_type": "code",
      "metadata": {
        "id": "0pU8cPq9JGsD"
      },
      "source": [
        "scaler = MinMaxScaler()\n",
        "x_train = scaler.fit_transform(x_train)\n",
        "x_test = scaler.transform(x_test)"
      ],
      "execution_count": 23,
      "outputs": []
    },
    {
      "cell_type": "markdown",
      "metadata": {
        "id": "Vq59LM2rJGsE"
      },
      "source": [
        "## Parte 1\n",
        "\n",
        "A continuación, debe utilizar la función `LogisticRegression` de SciKit-Learn para obtener un primer modelo de regresión logística y calcular su precisión a partir de la función `accuracy_score`.\n",
        "\n",
        "Obtenga resultados sobre los datos de entrenamiento y los datos de prueba. Concluya al respecto."
      ]
    },
    {
      "cell_type": "code",
      "metadata": {
        "colab": {
          "base_uri": "https://localhost:8080/"
        },
        "id": "RSpq7OvtJGsF",
        "outputId": "147c425f-d6f8-45f0-a884-cf0e665cf543"
      },
      "source": [
        "from sklearn.metrics import accuracy_score as ac\n",
        "logreg = LogisticRegression()\n",
        "logreg.fit(x_train, y_train)\n",
        "y_pred = logreg.predict(x_test) # Predicción de Etiquetas #\n",
        "print(f'Precisión inicial: {round(ac(y_test, y_pred, normalize=True, sample_weight=None)*100,4)}%')"
      ],
      "execution_count": 24,
      "outputs": [
        {
          "output_type": "stream",
          "name": "stdout",
          "text": [
            "Precisión inicial: 84.4%\n"
          ]
        }
      ]
    },
    {
      "cell_type": "markdown",
      "metadata": {
        "id": "XhpfrSblJGsF"
      },
      "source": [
        "#### Conclusiones\n",
        "De acuerdo a la métrica ***Accuracy*** el modelo es capaz de clasificar correctamente el 84.13% de los datos. Por lo tanto, se puede considerar un buen modelo. No obstante, se recomienda analizar las métricas de ***Precision, Recall and Specificity***."
      ]
    },
    {
      "cell_type": "markdown",
      "metadata": {
        "id": "yho-Jh2HJGsF"
      },
      "source": [
        "### Matriz de Confusión\n",
        "\n",
        "Como recordará, la información en este dataset no posee una distribución de clases balanceada. La matriz de confusión es una herramienta que permite analizar el comportamiento del modelo para estos datos.\n",
        "\n",
        "Puede encontrar más información en este artículo: [Understanding Confusion Matrix](https://towardsdatascience.com/understanding-confusion-matrix-a9ad42dcfd62)"
      ]
    },
    {
      "cell_type": "code",
      "metadata": {
        "colab": {
          "base_uri": "https://localhost:8080/",
          "height": 337
        },
        "id": "iKQvHeT7JGsG",
        "outputId": "b3d0fb0a-f912-487b-acc5-b9b2621e2859"
      },
      "source": [
        "cm = confusion_matrix(y_test,y_pred)\n",
        "conf_matrix = pd.DataFrame(data=cm,columns=['Predicted:0','Predicted:1'],index=['Actual:0','Actual:1'])\n",
        "plt.figure(figsize = (8,5))\n",
        "sn.heatmap(conf_matrix, annot=True,fmt='d',cmap=\"YlGnBu\")"
      ],
      "execution_count": 25,
      "outputs": [
        {
          "output_type": "execute_result",
          "data": {
            "text/plain": [
              "<matplotlib.axes._subplots.AxesSubplot at 0x7f4109c5fe10>"
            ]
          },
          "metadata": {},
          "execution_count": 25
        },
        {
          "output_type": "display_data",
          "data": {
            "image/png": "[encoded data removed]",
            "text/plain": [
              "<Figure size 576x360 with 2 Axes>"
            ]
          },
          "metadata": {
            "needs_background": "light"
          }
        }
      ]
    },
    {
      "cell_type": "markdown",
      "metadata": {
        "id": "PzSIRv3fJGsG"
      },
      "source": [
        "### Tratamiento de Datos Desbalanceados\n",
        "\n",
        "En casos de estudio como identificación de tendencias patológicas, es común tener datos desbalanceados, o en los cuales la gravedad de cometer [errores tipo I o tipo II](https://www.simplypsychology.org/type_I_and_type_II_errors.html) son bastante diferentes. En muchos casos, se puede preferir cometer cierto tipo de error sobre el otro. Para trabajar con estos problemas, se suele preferir sacrificar algo de [precisión](https://developers.google.com/machine-learning/crash-course/classification/accuracy) del modelo, a cambio de una mejora en términos prácticos.\n",
        "\n",
        "Este proceso se realiza a partir de la modificación del umbral a partir del cual se decide si un dato pertenece a una clase u otra. Utilice la función `binarize` para obtener valores de `0` ó `1` según las probabilidades de las predicciones realizadas utilizando la función `model.predict_proba`.\n",
        "\n",
        "Algunas métricas utilizadas para interpretar el rendimiento del modelo son las siguientes:\n",
        "\n",
        "- F1Score\n",
        "- TP Rate / Recall / Sensitividad\n",
        "- TN Rate / Especificidad\n",
        "\n",
        "Puede encontrar más información sobre estas métricas en los artículos:\n",
        "- [Accuracy, Precision, Recall or F1?](https://towardsdatascience.com/accuracy-precision-recall-or-f1-331fb37c5cb9)\n",
        "- [Sensitivity Vs Specificity In Data Science](https://medium.com/fintechexplained/sensitivity-vs-specificity-in-data-science-2f673039dbd1)"
      ]
    },
    {
      "cell_type": "code",
      "metadata": {
        "colab": {
          "base_uri": "https://localhost:8080/"
        },
        "id": "ftONOIMRJGsG",
        "outputId": "25136566-45be-4d56-8754-b2c6052c374d"
      },
      "source": [
        "from sklearn.preprocessing import binarize\n",
        "\n",
        "umbrales =[0.4,0.5,0.6,0.7] # Vector que Contiene los Umbrales a Analizar #\n",
        "um = []\n",
        "for umbral in umbrales:\n",
        "    cm2 = 0\n",
        "    y_pred_prob_yes = logreg.predict_proba(x_test)# Utilice la función predict_proba para calcular las probabilidades de pertenecer a la clase 1 #\n",
        "    y_pred2 = binarize(y_pred_prob_yes, threshold=umbral)# Utilice la función binarize para convertir las probabilidades a clases 0 y 1 #\n",
        "    cm2 = confusion_matrix(y_test,y_pred2[:,1])\n",
        "    #Error on line 3, [1,0] -> false negatives\n",
        "    print(f'''->Para un umbral de {round(umbral,4)} tenemos esta matriz de confusión:\n",
        "{cm2}\n",
        "Con {cm2[0,0]+cm2[1,1]} predicciones correctas y {cm2[1,0]} falsos negativos.\n",
        "Sensitividad: {round(cm2[1,1]/(float(cm2[1,1]+cm2[1,0])), 4)} Especificidad: {round(cm2[0,0]/(float(cm2[0,0]+cm2[0,1])), 4)}\\n''')\n",
        "\n"
      ],
      "execution_count": 26,
      "outputs": [
        {
          "output_type": "stream",
          "name": "stdout",
          "text": [
            "->Para un umbral de 0.4 tenemos esta matriz de confusión:\n",
            "[[612  18]\n",
            " [104  16]]\n",
            "Con 628 predicciones correctas y 104 falsos negativos.\n",
            "Sensitividad: 0.1333 Especificidad: 0.9714\n",
            "\n",
            "->Para un umbral de 0.5 tenemos esta matriz de confusión:\n",
            "[[627   3]\n",
            " [114   6]]\n",
            "Con 633 predicciones correctas y 114 falsos negativos.\n",
            "Sensitividad: 0.05 Especificidad: 0.9952\n",
            "\n",
            "->Para un umbral de 0.6 tenemos esta matriz de confusión:\n",
            "[[629   1]\n",
            " [119   1]]\n",
            "Con 630 predicciones correctas y 119 falsos negativos.\n",
            "Sensitividad: 0.0083 Especificidad: 0.9984\n",
            "\n",
            "->Para un umbral de 0.7 tenemos esta matriz de confusión:\n",
            "[[629   1]\n",
            " [119   1]]\n",
            "Con 630 predicciones correctas y 119 falsos negativos.\n",
            "Sensitividad: 0.0083 Especificidad: 0.9984\n",
            "\n"
          ]
        }
      ]
    },
    {
      "cell_type": "markdown",
      "metadata": {
        "id": "09QA4latJGsH"
      },
      "source": [
        "Por otra parte, un criterio que facilita el visualizar este trade-off se conoce como la Curva ROC, en donde se ubican múltiples puntos para distintos valores del umbral de clasificación. Puede leer el artículo a continuación para una explicación más detallada:\n",
        "- Curva ROC: [Understanding AUC - ROC Curve](https://towardsdatascience.com/understanding-auc-roc-curve-68b2303cc9c5)"
      ]
    },
    {
      "cell_type": "code",
      "metadata": {
        "scrolled": true,
        "colab": {
          "base_uri": "https://localhost:8080/",
          "height": 323
        },
        "id": "h_bC8Ym_JGsH",
        "outputId": "0cf865d5-6655-4545-8185-7fb8faf13e83"
      },
      "source": [
        "from sklearn.metrics import roc_curve\n",
        "fpr, tpr, thresholds = roc_curve(y_test, y_pred_prob_yes[:,1])\n",
        "plt.figure(dpi = 80)\n",
        "plt.plot(fpr,tpr)\n",
        "plt.xlim([0.0, 1.0])\n",
        "plt.ylim([0.0, 1.0])\n",
        "plt.title('Curva ROC para Clasificador de Enfermedad Coronaria')\n",
        "plt.xlabel('Tasa de Falsos Positivos (1-Especificidad)')\n",
        "plt.ylabel('Tasa de Verdaderos Positivos (Sensitividad)')\n",
        "plt.grid(True)\n",
        "plt.show()\n",
        "#plt.legend((\"0.4\",\"0.5\",\"0.6\",\"0.7\"))\n",
        "plt.show()"
      ],
      "execution_count": 27,
      "outputs": [
        {
          "output_type": "display_data",
          "data": {
            "image/png": "[encoded data removed]",
            "text/plain": [
              "<Figure size 480x320 with 1 Axes>"
            ]
          },
          "metadata": {
            "needs_background": "light"
          }
        }
      ]
    },
    {
      "cell_type": "markdown",
      "metadata": {
        "id": "K0PDRLhvJGsH"
      },
      "source": [
        "Observe la gráfica, y teniendo en cuenta los resultados concluya sobre la proporción que se puede considerar más adecuada en este contexto.\n"
      ]
    },
    {
      "cell_type": "markdown",
      "metadata": {
        "id": "hJwaEWGQJGsH"
      },
      "source": [
        "#### Conclusión\n",
        "Considerando el contexto del problema, clasificador de enferemdad coronaria a 10 años, se puede considerar que es preferible tener una mayor tasa de falso positivos que una tasa baja de verdaderos positivos. Por lo cual, observando la curva AUC-ROC, se puede considerar adecuado tomar una tasa de falsos positivos de 0.75, que genera una tasa de detección de verdaderos positivos de 0.92."
      ]
    },
    {
      "cell_type": "markdown",
      "metadata": {
        "id": "xpHXcfdnJGsI"
      },
      "source": [
        "\n",
        "## Parte 2\n",
        "\n",
        "Ahora usted debe desarrollar su propia implementación del método Descenso de Gradiente estocástico para un modelo de regresión logística. Realice el entrenamiento a partir del 80% de los datos. Al final del entrenamiento, en la lista errores se deben tener los valores de la función de error para cada iteración y así poder observar el progreso gráficamente."
      ]
    },
    {
      "cell_type": "markdown",
      "metadata": {
        "id": "b-FPR6a4JGsI"
      },
      "source": [
        "<span style=\"color:red\">En el proceso de probar el código, nos dimos cuenta que la posición en el vector de tasas se ve afectada por la semilla del generador aleatorio, de modo que una ***de las posiciones se ve favorecida por los datos que se toman para la estimación.*** </span>"
      ]
    },
    {
      "cell_type": "code",
      "metadata": {
        "colab": {
          "base_uri": "https://localhost:8080/",
          "height": 1000
        },
        "id": "hCrkh_PqJGsI",
        "outputId": "e8695188-def0-4a26-b6c0-bd4e90672c0b"
      },
      "source": [
        "np.random.seed(22)\n",
        "X_train_array = np.c_[np.ones(x_train.shape[0]), x_train]\n",
        "y_train_array = y_train.values\n",
        "\n",
        "def sigma(w,x):\n",
        "    res_sigmoid = 1/(1+np.exp(-np.dot(w,x)))\n",
        "    return res_sigmoid\n",
        "\n",
        "tasas = [0.3,0.003,0.03]# Defina un vector que contenga las tasas que desea probar #\n",
        "\n",
        "N = 200000  # número máxmio de iteraciones\n",
        "for tasa in tasas:\n",
        "    iteraciones = 0\n",
        "    w0 = np.random.rand(X_train_array.shape[1])\n",
        "    w = w0.copy()\n",
        "    #Selección de par aleatorio\n",
        "    i = np.random.randint(0, len(X_train_array) - 1)\n",
        "    xActual = X_train_array[i]\n",
        "    yActual = y_train_array[i]\n",
        "    errores = []\n",
        "    # Inicialización de criterio de parada (al disminuir el valor de eps, se aumenta la precisión y el tiempo de procesamiento)\n",
        "    eps = 1e-7\n",
        "    error = 100\n",
        "    dif = 100\n",
        "    while dif > eps and iteraciones < N:  # Criterio de parada 1 y 2 #\n",
        "        # Dot product\n",
        "        g = sigma(w0,xActual)\n",
        "        # Error\n",
        "        error = g - yActual\n",
        "        errores.append(error)\n",
        "        # Update of candidates on t\n",
        "        w = w0 - tasa * error * xActual\n",
        "        # Infinity norm vector \n",
        "        dif = np.linalg.norm(w - w0, ord=np.inf)\n",
        "        # Update of candidates on t-1\n",
        "        w0 = w\n",
        "        # Take random one set to test on t+1\n",
        "        i = np.random.randint(0, len(X_train_array) - 1)\n",
        "        xActual = X_train_array[i]\n",
        "        yActual = y_train_array[i]\n",
        "        iteraciones += 1\n",
        "    X_test_array = np.c_[np.ones(x_test.shape[0]), x_test]\n",
        "    y_test_array = y_test.values\n",
        "    \n",
        "    y_pred = np.zeros(len(x_test))\n",
        "    for i in range(0,len(x_test)):\n",
        "        prob = sigma(w,X_test_array[i])\n",
        "        if prob>0.5:\n",
        "            y_pred[i] = 1\n",
        "        else:\n",
        "            y_pred[i] = 0\n",
        "    print(\"############################################################################\")\n",
        "    print(f\"Resultados para un modelo con tasa de aprendizaje de {tasa}\")\n",
        "    print(f\"Coeficientes:\\n{w}\\n\")\n",
        "    print(f'Accuracy modelo actual: {sklearn.metrics.accuracy_score(y_test,y_pred)*100}%')\n",
        "    cm2 = confusion_matrix(y_test,y_pred)\n",
        "    print(f\"Recall: {round(cm2[1,1]/(float(cm2[1,1]+cm2[1,0]))*100, 4)}%\")\n",
        "    print(f\"Specificity: {round(cm2[0,0]/(float(cm2[0,0]+cm2[0,1]))*100, 4)}%\")\n",
        "    print(f\"Precision:{round(cm2[1,1]/(float(cm2[1,1]+cm2[0,1]))*100, 4)}%\")\n",
        "    plt.figure(dpi=100)\n",
        "    plt.plot(errores)\n",
        "    plt.xlabel(\"Iteraciones\")\n",
        "    plt.ylabel(\"Erroes\")\n",
        "    plt.title(f\"Error vs Iteraciones para un $n_k$: {tasa}\")\n",
        "    plt.show()\n",
        "    print(dif)\n",
        "    print(\"############################################################################\\n\")\n"
      ],
      "execution_count": 28,
      "outputs": [
        {
          "output_type": "stream",
          "name": "stdout",
          "text": [
            "############################################################################\n",
            "Resultados para un modelo con tasa de aprendizaje de 0.3\n",
            "Coeficientes:\n",
            "[-4.84603162  0.12399625  2.31021122 -0.34642537  0.84048003  0.26044439\n",
            "  0.90797422  0.37906089  0.52482711  1.21861746  3.80318024 -1.19745627\n",
            "  0.93877734 -0.72236551  2.72583533]\n",
            "\n",
            "Accuracy modelo actual: 84.26666666666667%\n",
            "Recall: 5.8333%\n",
            "Specificity: 99.2063%\n",
            "Precision:58.3333%\n"
          ]
        },
        {
          "output_type": "display_data",
          "data": {
            "image/png": "[encoded data removed]",
            "text/plain": [
              "<Figure size 600x400 with 1 Axes>"
            ]
          },
          "metadata": {
            "needs_background": "light"
          }
        },
        {
          "output_type": "stream",
          "name": "stdout",
          "text": [
            "0.008485098986618311\n",
            "############################################################################\n",
            "\n",
            "############################################################################\n",
            "Resultados para un modelo con tasa de aprendizaje de 0.003\n",
            "Coeficientes:\n",
            "[-3.86844723  0.57241124  2.30926353  0.09122066  0.58680201  0.33245778\n",
            "  0.4056932   0.56375441  0.70385121  0.22252679  1.14882323  0.11640449\n",
            " -0.06002197 -0.2658155   0.86403374]\n",
            "\n",
            "Accuracy modelo actual: 83.86666666666667%\n",
            "Recall: 4.1667%\n",
            "Specificity: 99.0476%\n",
            "Precision:45.4545%\n"
          ]
        },
        {
          "output_type": "display_data",
          "data": {
            "image/png": "[encoded data removed]",
            "text/plain": [
              "<Figure size 600x400 with 1 Axes>"
            ]
          },
          "metadata": {
            "needs_background": "light"
          }
        },
        {
          "output_type": "stream",
          "name": "stdout",
          "text": [
            "0.0001232829857884532\n",
            "############################################################################\n",
            "\n",
            "############################################################################\n",
            "Resultados para un modelo con tasa de aprendizaje de 0.03\n",
            "Coeficientes:\n",
            "[-5.03792745  0.45888539  2.56749739  0.08601023  1.0469044   0.24966637\n",
            "  0.38526567  0.19315754  0.125901    0.64213195  3.46556838 -0.33076275\n",
            "  0.53731174 -0.33388998  2.70268369]\n",
            "\n",
            "Accuracy modelo actual: 84.8%\n",
            "Recall: 7.5%\n",
            "Specificity: 99.5238%\n",
            "Precision:75.0%\n"
          ]
        },
        {
          "output_type": "display_data",
          "data": {
            "image/png": "[encoded data removed]",
            "text/plain": [
              "<Figure size 600x400 with 1 Axes>"
            ]
          },
          "metadata": {
            "needs_background": "light"
          }
        },
        {
          "output_type": "stream",
          "name": "stdout",
          "text": [
            "0.02705495597113572\n",
            "############################################################################\n",
            "\n"
          ]
        }
      ]
    },
    {
      "cell_type": "markdown",
      "metadata": {
        "id": "ve-A6f-WJGsJ"
      },
      "source": [
        "## Matriz de Confusión\n",
        "\n",
        "Observe y analice la matriz de confusión para su mejor modelo. Escriba claramente sus conclusiones."
      ]
    },
    {
      "cell_type": "code",
      "metadata": {
        "scrolled": true,
        "colab": {
          "base_uri": "https://localhost:8080/",
          "height": 337
        },
        "id": "CYSropVWJGsK",
        "outputId": "cd3ff9a5-798d-4be5-bf09-dbee8398cefd"
      },
      "source": [
        "cm = confusion_matrix(y_test,y_pred)\n",
        "conf_matrix = pd.DataFrame(data=cm,columns=['Predicted:0','Predicted:1'],index=['Actual:0','Actual:1'])\n",
        "\n",
        "plt.figure(figsize = (8,5))\n",
        "sn.heatmap(conf_matrix, annot=True,fmt='d',cmap=\"YlGnBu\")"
      ],
      "execution_count": 29,
      "outputs": [
        {
          "output_type": "execute_result",
          "data": {
            "text/plain": [
              "<matplotlib.axes._subplots.AxesSubplot at 0x7f4109c5f910>"
            ]
          },
          "metadata": {},
          "execution_count": 29
        },
        {
          "output_type": "display_data",
          "data": {
            "image/png": "[encoded data removed]",
            "text/plain": [
              "<Figure size 576x360 with 2 Axes>"
            ]
          },
          "metadata": {
            "needs_background": "light"
          }
        }
      ]
    },
    {
      "cell_type": "markdown",
      "metadata": {
        "id": "WPy-ZqtPJGsL"
      },
      "source": [
        "#### Conclusiones:\n",
        "\n",
        "De acuerdo a la métrica **Accuracy** propuesta para definir el mejor modelo, con tasa de aprendizaje de 0.03 se obtuvo un accuracy de 84.8%. Sin embargo, analizando la matriz de confusión y los resultados de las métricas precision, recall & specificity, el modelo presenta falencias y puede indicar que un paciente no padece riesgo de tener una enfermedad coronaria  en 10 años, cuando realmente, si tiene un alto riesgo ***Recall = 7.5%***. En el contexto presentado, el modelo elegido debería considerar la métrica Recall por encima de la métrica Accuracy. En ese sentido, el mejor modelo, a pesar de tener el mejor recall, aún se puede considerar deficiente."
      ]
    }
  ]
}