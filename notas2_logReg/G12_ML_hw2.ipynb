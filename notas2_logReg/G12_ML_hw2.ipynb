{
  "nbformat": 4,
  "nbformat_minor": 0,
  "metadata": {
    "kernelspec": {
      "display_name": "Python 3",
      "language": "python",
      "name": "python3"
    },
    "language_info": {
      "codemirror_mode": {
        "name": "ipython",
        "version": 3
      },
      "file_extension": ".py",
      "mimetype": "text/x-python",
      "name": "python",
      "nbconvert_exporter": "python",
      "pygments_lexer": "ipython3",
      "version": "3.8.10"
    },
    "colab": {
      "name": "ML_hw2.ipynb",
      "provenance": [],
      "collapsed_sections": []
    }
  },
  "cells": [
    {
      "cell_type": "markdown",
      "metadata": {
        "id": "8t6HOJ3glw2i"
      },
      "source": [
        "# Regresión Logística: Predicción de Enfermedad Coronaria\n",
        "\n",
        "A continuación se observa un problema de clasificación binaria y se desea analizar una posible solución a partir de un modelo de regresión logística. Se busca implementar el algoritmo mencionado, inicialmente empleando la librería SciKit-Learn para luego desarrollar el mismo proceso de entrenamiento manualmente (Descenso de Gradiente Estocástico).\n",
        "\n",
        "También se introducirán algunos conceptos para lidiar con datos desbalanceados como: matriz de confusión, curva ROC, y algunas otras métricas importantes.\n",
        "\n",
        "Debe completar las celdas vacías y seguir las instrucciones anotadas en el cuaderno.\n",
        "\n",
        "La fecha límite de entrega es el día **20 de septiembre** y se realizará a través de Bloque Neón."
      ]
    },
    {
      "cell_type": "code",
      "metadata": {
        "id": "3cPViqRelw2k",
        "colab": {
          "base_uri": "https://localhost:8080/"
        },
        "outputId": "adbb8398-4c05-46c9-f9a1-410777e5565a"
      },
      "source": [
        "import pandas as pd\n",
        "import numpy as np\n",
        "import statsmodels.api as sm\n",
        "import scipy.stats as st\n",
        "import matplotlib.pyplot as plt\n",
        "import seaborn as sn\n",
        "import sklearn\n",
        "from sklearn.linear_model import LogisticRegression\n",
        "from sklearn.model_selection import train_test_split\n",
        "from sklearn.metrics import confusion_matrix\n",
        "from sklearn.preprocessing import OrdinalEncoder, MinMaxScaler, RobustScaler\n",
        "import matplotlib.mlab as mlab\n",
        "from numpy import random\n",
        "import math\n",
        "%matplotlib inline"
      ],
      "execution_count": null,
      "outputs": [
        {
          "output_type": "stream",
          "name": "stderr",
          "text": [
            "/usr/local/lib/python3.7/dist-packages/statsmodels/tools/_testing.py:19: FutureWarning: pandas.util.testing is deprecated. Use the functions in the public API at pandas.testing instead.\n",
            "  import pandas.util.testing as tm\n"
          ]
        }
      ]
    },
    {
      "cell_type": "code",
      "metadata": {
        "scrolled": true,
        "id": "bDLZm2jIlw2l",
        "colab": {
          "base_uri": "https://localhost:8080/",
          "height": 203
        },
        "outputId": "a949700e-d91b-47da-8af9-1802a6c6fd4a"
      },
      "source": [
        "heart_df=pd.read_csv(\"heartDisease/framingham.csv\")\n",
        "heart_df.dropna(axis=0,inplace=True)\n",
        "heart_df.head()"
      ],
      "execution_count": null,
      "outputs": [
        {
          "output_type": "execute_result",
          "data": {
            "text/html": [
              "<div>\n",
              "<style scoped>\n",
              "    .dataframe tbody tr th:only-of-type {\n",
              "        vertical-align: middle;\n",
              "    }\n",
              "\n",
              "    .dataframe tbody tr th {\n",
              "        vertical-align: top;\n",
              "    }\n",
              "\n",
              "    .dataframe thead th {\n",
              "        text-align: right;\n",
              "    }\n",
              "</style>\n",
              "<table border=\"1\" class=\"dataframe\">\n",
              "  <thead>\n",
              "    <tr style=\"text-align: right;\">\n",
              "      <th></th>\n",
              "      <th>male</th>\n",
              "      <th>age</th>\n",
              "      <th>currentSmoker</th>\n",
              "      <th>cigsPerDay</th>\n",
              "      <th>BPMeds</th>\n",
              "      <th>prevalentStroke</th>\n",
              "      <th>prevalentHyp</th>\n",
              "      <th>diabetes</th>\n",
              "      <th>totChol</th>\n",
              "      <th>sysBP</th>\n",
              "      <th>diaBP</th>\n",
              "      <th>BMI</th>\n",
              "      <th>heartRate</th>\n",
              "      <th>glucose</th>\n",
              "      <th>TenYearCHD</th>\n",
              "    </tr>\n",
              "  </thead>\n",
              "  <tbody>\n",
              "    <tr>\n",
              "      <th>0</th>\n",
              "      <td>1</td>\n",
              "      <td>39</td>\n",
              "      <td>0</td>\n",
              "      <td>0.0</td>\n",
              "      <td>0.0</td>\n",
              "      <td>0</td>\n",
              "      <td>0</td>\n",
              "      <td>0</td>\n",
              "      <td>195.0</td>\n",
              "      <td>106.0</td>\n",
              "      <td>70.0</td>\n",
              "      <td>26.97</td>\n",
              "      <td>80.0</td>\n",
              "      <td>77.0</td>\n",
              "      <td>0</td>\n",
              "    </tr>\n",
              "    <tr>\n",
              "      <th>1</th>\n",
              "      <td>0</td>\n",
              "      <td>46</td>\n",
              "      <td>0</td>\n",
              "      <td>0.0</td>\n",
              "      <td>0.0</td>\n",
              "      <td>0</td>\n",
              "      <td>0</td>\n",
              "      <td>0</td>\n",
              "      <td>250.0</td>\n",
              "      <td>121.0</td>\n",
              "      <td>81.0</td>\n",
              "      <td>28.73</td>\n",
              "      <td>95.0</td>\n",
              "      <td>76.0</td>\n",
              "      <td>0</td>\n",
              "    </tr>\n",
              "    <tr>\n",
              "      <th>2</th>\n",
              "      <td>1</td>\n",
              "      <td>48</td>\n",
              "      <td>1</td>\n",
              "      <td>20.0</td>\n",
              "      <td>0.0</td>\n",
              "      <td>0</td>\n",
              "      <td>0</td>\n",
              "      <td>0</td>\n",
              "      <td>245.0</td>\n",
              "      <td>127.5</td>\n",
              "      <td>80.0</td>\n",
              "      <td>25.34</td>\n",
              "      <td>75.0</td>\n",
              "      <td>70.0</td>\n",
              "      <td>0</td>\n",
              "    </tr>\n",
              "    <tr>\n",
              "      <th>3</th>\n",
              "      <td>0</td>\n",
              "      <td>61</td>\n",
              "      <td>1</td>\n",
              "      <td>30.0</td>\n",
              "      <td>0.0</td>\n",
              "      <td>0</td>\n",
              "      <td>1</td>\n",
              "      <td>0</td>\n",
              "      <td>225.0</td>\n",
              "      <td>150.0</td>\n",
              "      <td>95.0</td>\n",
              "      <td>28.58</td>\n",
              "      <td>65.0</td>\n",
              "      <td>103.0</td>\n",
              "      <td>1</td>\n",
              "    </tr>\n",
              "    <tr>\n",
              "      <th>4</th>\n",
              "      <td>0</td>\n",
              "      <td>46</td>\n",
              "      <td>1</td>\n",
              "      <td>23.0</td>\n",
              "      <td>0.0</td>\n",
              "      <td>0</td>\n",
              "      <td>0</td>\n",
              "      <td>0</td>\n",
              "      <td>285.0</td>\n",
              "      <td>130.0</td>\n",
              "      <td>84.0</td>\n",
              "      <td>23.10</td>\n",
              "      <td>85.0</td>\n",
              "      <td>85.0</td>\n",
              "      <td>0</td>\n",
              "    </tr>\n",
              "  </tbody>\n",
              "</table>\n",
              "</div>"
            ],
            "text/plain": [
              "   male  age  currentSmoker  cigsPerDay  ...    BMI  heartRate  glucose  TenYearCHD\n",
              "0     1   39              0         0.0  ...  26.97       80.0     77.0           0\n",
              "1     0   46              0         0.0  ...  28.73       95.0     76.0           0\n",
              "2     1   48              1        20.0  ...  25.34       75.0     70.0           0\n",
              "3     0   61              1        30.0  ...  28.58       65.0    103.0           1\n",
              "4     0   46              1        23.0  ...  23.10       85.0     85.0           0\n",
              "\n",
              "[5 rows x 15 columns]"
            ]
          },
          "metadata": {},
          "execution_count": 3
        }
      ]
    },
    {
      "cell_type": "code",
      "metadata": {
        "id": "IVs3sWznlw2l",
        "colab": {
          "base_uri": "https://localhost:8080/"
        },
        "outputId": "a37546d1-1a79-46f0-e469-e0f8a50cd733"
      },
      "source": [
        "print(f'Se tienen {len(heart_df)} datos.')"
      ],
      "execution_count": null,
      "outputs": [
        {
          "output_type": "stream",
          "name": "stdout",
          "text": [
            "Se tienen 3749 datos.\n"
          ]
        }
      ]
    },
    {
      "cell_type": "markdown",
      "metadata": {
        "id": "9QZNdyAHlw2l"
      },
      "source": [
        "### Análisis de Distribución de Clases\n",
        "\n",
        "En el diagrama a continuación puede observar un claro desbalanceo de los datos, en pasos posteriores hablaremos al respecto."
      ]
    },
    {
      "cell_type": "code",
      "metadata": {
        "id": "PQWRMf2zlw2l",
        "colab": {
          "base_uri": "https://localhost:8080/",
          "height": 265
        },
        "outputId": "3b40288e-6b79-4553-bc9a-fe706606a5ba"
      },
      "source": [
        "heart_df['TenYearCHD'].value_counts().plot(kind='pie')"
      ],
      "execution_count": null,
      "outputs": [
        {
          "output_type": "execute_result",
          "data": {
            "text/plain": [
              "<matplotlib.axes._subplots.AxesSubplot at 0x7f7856a31190>"
            ]
          },
          "metadata": {},
          "execution_count": 5
        },
        {
          "output_type": "display_data",
          "data": {
            "image/png": "[encoded data removed]",
            "text/plain": [
              "<Figure size 432x288 with 1 Axes>"
            ]
          },
          "metadata": {}
        }
      ]
    },
    {
      "cell_type": "markdown",
      "metadata": {
        "id": "-eRjGZwvlw2m"
      },
      "source": [
        "## Descripción de Variables\n",
        "\n",
        "Cada atributo es un factor potencial de riesgo. Existen factores demográficos, conductuales y médicos.\n",
        "\n",
        "- Demográfico:\n",
        "\n",
        "    - male: masculino (1) o femenino (0); (Nominal)\n",
        "\n",
        "    - age: edad del paciente; (Continuo: aunque las edades registradas se han truncado a números enteros, el concepto de edad es continuo)\n",
        "\n",
        "- Comportacional:\n",
        "\n",
        "    - currentSmoker: si el paciente es o no fumador actual (nominal)\n",
        "\n",
        "    - cigsPerDay: la cantidad de cigarrillos que la persona fumó en promedio en un día (se puede considerar continuo ya que uno puede tener cualquier cantidad de cigarrillos, incluso medio cigarrillo).\n",
        "\n",
        "- Historia médica:\n",
        "\n",
        "    - BPMeds: si el paciente estaba o no tomando medicación para la presión arterial (nominal)\n",
        "\n",
        "    - prevalentStroke: si el paciente había tenido previamente un accidente cerebrovascular o no (nominal)\n",
        "\n",
        "    - prevalentHyp: si el paciente era hipertenso (nominal)\n",
        "\n",
        "    - diabetes: si el paciente tenía diabetes o no (nominal)\n",
        "\n",
        "- Estado Médico actual:\n",
        "\n",
        "    - totChol: nivel de colesterol total (continuo)\n",
        "\n",
        "    - sysBP: presión arterial sistólica (continua)\n",
        "\n",
        "    - diaBP: presión arterial diastólica (continua)\n",
        "\n",
        "    - IMC: índice de masa corporal (continuo)\n",
        "\n",
        "    - heartRate: frecuencia cardíaca (continua: en la investigación médica, variables como la frecuencia cardíaca, aunque de hecho son discretas, se consideran continuas debido a la gran cantidad de valores posibles).\n",
        "\n",
        "    - glucose: nivel de glucosa (continuo)\n",
        "\n",
        "- **Variable a Predecir**\n",
        "\n",
        "    - TenYearCHD: Riesgo de padecer enfermedad coronaria 10 años en el futuro (binario: \"1\", significa \"Sí\", \"0\" significa \"No\")"
      ]
    },
    {
      "cell_type": "code",
      "metadata": {
        "id": "UHHqKByIlw2m"
      },
      "source": [
        "x = heart_df.values\n",
        "min_max_scaler = MinMaxScaler()\n",
        "x_scaled = min_max_scaler.fit_transform(x)\n",
        "heart_df_scaled = pd.DataFrame(x_scaled, columns=heart_df.columns) # Conversión a un DataFrame #"
      ],
      "execution_count": null,
      "outputs": []
    },
    {
      "cell_type": "code",
      "metadata": {
        "id": "O_UZd4oLlw2m"
      },
      "source": [
        "x = heart_df_scaled.iloc[:,:-1]\n",
        "y = heart_df_scaled.iloc[:,-1]\n",
        "\n",
        "x_train,x_test,y_train,y_test=train_test_split(x,y,test_size=0.2,random_state=20)"
      ],
      "execution_count": null,
      "outputs": []
    },
    {
      "cell_type": "markdown",
      "metadata": {
        "id": "vnX6oiimlw2n"
      },
      "source": [
        "## Parte 1\n",
        "\n",
        "A continuación, debe utilizar la función `LogisticRegression` de SciKit-Learn para obtener un primer modelo de regresión logística y calcular su precisión a partir de la función `accuracy_score`.\n",
        "\n",
        "Obtenga resultados sobre los datos de entrenamiento y los datos de prueba. Concluya al respecto."
      ]
    },
    {
      "cell_type": "code",
      "metadata": {
        "id": "_EAx_0zPlw2n",
        "colab": {
          "base_uri": "https://localhost:8080/"
        },
        "outputId": "23fdf93b-f003-48e2-fca6-f928aba3650f"
      },
      "source": [
        "from sklearn.metrics import accuracy_score\n",
        "logreg = LogisticRegression() # Modelo de Regresión Logística #\n",
        "clf= logreg.fit(x_train, y_train) # Entrenamiento sobre los Datos #\n",
        "y_pred = clf.predict(x_test) # Predicción de Etiquetas #\n",
        "score = accuracy_score(y_test,y_pred)\n",
        "print(f'Precisión inicial: {round(score,3)}')\n"
      ],
      "execution_count": null,
      "outputs": [
        {
          "output_type": "stream",
          "name": "stdout",
          "text": [
            "Precisión inicial: 0.845\n"
          ]
        }
      ]
    },
    {
      "cell_type": "markdown",
      "metadata": {
        "id": "a-ExCwil87jO"
      },
      "source": [
        "\n",
        "Se usó la función `LogisticRegression` de SciKit-Learn para obtener un primer modelo de regresión logística, el cual es un clasificador, donde es posible elegir en sus parametros el solver o algoritmo a usar en el modelo, así como la posibilidad de asociar pesos a las clases para clases desbalanceadas, así mismo, la posiblidad de configurar un numero de iteraciones, regularizaciones y penalizaciones. Usando la función por defecto, la presición inicial es de 0.845, lo cual puede concluir que el modelo si predice regularmente los pacientes con enfermedad coronaria."
      ]
    },
    {
      "cell_type": "markdown",
      "metadata": {
        "id": "XNMHw2ITlw2n"
      },
      "source": [
        "### Matriz de Confusión\n",
        "\n",
        "Como recordará, la información en este dataset no posee una distribución de clases balanceada. La matriz de confusión es una herramienta que permite analizar el comportamiento del modelo para estos datos.\n",
        "\n",
        "Puede encontrar más información en este artículo: [Understanding Confusion Matrix](https://towardsdatascience.com/understanding-confusion-matrix-a9ad42dcfd62)."
      ]
    },
    {
      "cell_type": "code",
      "metadata": {
        "id": "4W4kDHcIlw2o",
        "colab": {
          "base_uri": "https://localhost:8080/",
          "height": 337
        },
        "outputId": "83eac4cb-6bee-4359-cac2-e37127c7aa0d"
      },
      "source": [
        "cm = confusion_matrix(y_test,y_pred)\n",
        "conf_matrix = pd.DataFrame(data=cm,columns=['Predicted:0','Predicted:1'],index=['Actual:0','Actual:1'])\n",
        "plt.figure(figsize = (8,5))\n",
        "sn.heatmap(conf_matrix, annot=True,fmt='d',cmap=\"YlGnBu\")"
      ],
      "execution_count": null,
      "outputs": [
        {
          "output_type": "execute_result",
          "data": {
            "text/plain": [
              "<matplotlib.axes._subplots.AxesSubplot at 0x7f784cf2a590>"
            ]
          },
          "metadata": {},
          "execution_count": 81
        },
        {
          "output_type": "display_data",
          "data": {
            "image/png": "[encoded data removed]",
            "text/plain": [
              "<Figure size 576x360 with 2 Axes>"
            ]
          },
          "metadata": {
            "needs_background": "light"
          }
        }
      ]
    },
    {
      "cell_type": "code",
      "metadata": {
        "id": "DIX9fcR-eAiz"
      },
      "source": [
        ""
      ],
      "execution_count": null,
      "outputs": []
    },
    {
      "cell_type": "code",
      "metadata": {
        "id": "TDaYptd8eArD",
        "colab": {
          "base_uri": "https://localhost:8080/"
        },
        "outputId": "7cdb0f1f-0a38-4ab1-8aea-94f8d5ee3e37"
      },
      "source": [
        "tn, fp, fn, tp = confusion_matrix(y_test,y_pred).ravel()\n",
        "print(tn, fp, fn, tp ) "
      ],
      "execution_count": null,
      "outputs": [
        {
          "output_type": "stream",
          "name": "stdout",
          "text": [
            "624 4 112 10\n"
          ]
        }
      ]
    },
    {
      "cell_type": "markdown",
      "metadata": {
        "id": "jlmsfy8GKaag"
      },
      "source": [
        "En la matriz de confusión extraida del modelo reciente se puede observar que el modelo predice correctamente los datos negativos, ya que predice correctamente 624 pacientes que no están enfermos, y sólo se equivoca en 4 pacientes que no estaban enfermos y los estimó que sí. En cambio, se observa que en cuanto a los verdaderos positivos si posee un importante error, ya que estima erróneamente que 112 pacientes no padecen una enfermedad coronaria pero que sí son propensos a estar enfermos, y tan solamente estima correctamente 10 pacientes enfermos. "
      ]
    },
    {
      "cell_type": "markdown",
      "metadata": {
        "id": "GSjtloQIlw2o"
      },
      "source": [
        "### Tratamiento de Datos Desbalanceados\n",
        "\n",
        "En casos de estudio como identificación de tendencias patológicas, es común tener datos desbalanceados, o en los cuales la gravedad de cometer [errores tipo I o tipo II](https://www.simplypsychology.org/type_I_and_type_II_errors.html) son bastante diferentes. En muchos casos, se puede preferir cometer cierto tipo de error sobre el otro. Para trabajar con estos problemas, se suele preferir sacrificar algo de [precisión](https://developers.google.com/machine-learning/crash-course/classification/accuracy) del modelo, a cambio de una mejora en términos prácticos.\n",
        "\n",
        "Este proceso se realiza a partir de la modificación del umbral a partir del cual se decide si un dato pertenece a una clase u otra. Utilice la función `binarize` para obtener valores de `0` ó `1` según las probabilidades de las predicciones realizadas utilizando la función `model.predict_proba`.\n",
        "\n",
        "Algunas métricas utilizadas para interpretar el rendimiento del modelo son las siguientes:\n",
        "\n",
        "- F1Score\n",
        "- TP Rate / Recall / Sensitividad\n",
        "- TN Rate / Especificidad\n",
        "\n",
        "Puede encontrar más información sobre estas métricas en los artículos:\n",
        "- [Accuracy, Precision, Recall or F1?](https://towardsdatascience.com/accuracy-precision-recall-or-f1-331fb37c5cb9)\n",
        "- [Sensitivity Vs Specificity In Data Science](https://medium.com/fintechexplained/sensitivity-vs-specificity-in-data-science-2f673039dbd1)"
      ]
    },
    {
      "cell_type": "code",
      "metadata": {
        "scrolled": false,
        "id": "lVfKH-stlw2p",
        "colab": {
          "base_uri": "https://localhost:8080/"
        },
        "outputId": "70f9bbaf-37cd-4322-a456-c88cf46284f1"
      },
      "source": [
        "from sklearn.preprocessing import binarize\n",
        "from sklearn import preprocessing\n",
        "umbrales = [0,0.1, 0.155, 0.2, 0.3, 0.4, 0.45, 0.5, 0.6, 0.6, 0.8, 0.9] # Vector que Contiene los Umbrales a Analizar # Valores enter 0 y 1\n",
        "\n",
        "for umbral in umbrales:\n",
        "    cm2 = 0\n",
        "    # \n",
        "    y_pred_prob_yes =  clf.predict_proba(x_test)# Si usamos la funcion [:,1] para este caso, se tendran problemas en la func binarize().\n",
        "    y_ayuda = clf.predict_proba(x_test)[:,1] # Para esto se crea una variable que en efecto, calcule la probabilidad de que sea clase 1\n",
        "    y_pred2 = binarize(y_pred_prob_yes,threshold=umbral)[:,1] # Utilice la función binarize para convertir las probabilidades a clases 0 y 1 #\n",
        "    cm2 = confusion_matrix(y_test,y_pred2)\n",
        "    sen = round(cm2[1,1]/(float(cm2[1,1]+cm2[1,0])), 4)\n",
        "    esp = round(cm2[0,0]/(float(cm2[0,0]+cm2[0,1])), 4)\n",
        "    f1 = (2*sen*esp)/(sen+esp)\n",
        "    print(f'''->Para un umbral de {round(umbral,4)} tenemos esta matriz de confusión:\n",
        "{cm2}\n",
        "Con {cm2[0,0]+cm2[1,1]} predicciones correctas y {cm2[1,0]} falsos negativos.\n",
        "Sensitividad: {sen} Especificidad: {esp} F1: {f1}\\n''')\n",
        "\n"
      ],
      "execution_count": null,
      "outputs": [
        {
          "output_type": "stream",
          "name": "stdout",
          "text": [
            "->Para un umbral de 0 tenemos esta matriz de confusión:\n",
            "[[  0 628]\n",
            " [  0 122]]\n",
            "Con 122 predicciones correctas y 0 falsos negativos.\n",
            "Sensitividad: 1.0 Especificidad: 0.0 F1: 0.0\n",
            "\n",
            "->Para un umbral de 0.1 tenemos esta matriz de confusión:\n",
            "[[296 332]\n",
            " [ 20 102]]\n",
            "Con 398 predicciones correctas y 20 falsos negativos.\n",
            "Sensitividad: 0.8361 Especificidad: 0.4713 F1: 0.6028054612207435\n",
            "\n",
            "->Para un umbral de 0.155 tenemos esta matriz de confusión:\n",
            "[[424 204]\n",
            " [ 40  82]]\n",
            "Con 506 predicciones correctas y 40 falsos negativos.\n",
            "Sensitividad: 0.6721 Especificidad: 0.6752 F1: 0.6736464336079566\n",
            "\n",
            "->Para un umbral de 0.2 tenemos esta matriz de confusión:\n",
            "[[499 129]\n",
            " [ 55  67]]\n",
            "Con 566 predicciones correctas y 55 falsos negativos.\n",
            "Sensitividad: 0.5492 Especificidad: 0.7946 F1: 0.6494929602619438\n",
            "\n",
            "->Para un umbral de 0.3 tenemos esta matriz de confusión:\n",
            "[[582  46]\n",
            " [ 87  35]]\n",
            "Con 617 predicciones correctas y 87 falsos negativos.\n",
            "Sensitividad: 0.2869 Especificidad: 0.9268 F1: 0.438162511328994\n",
            "\n",
            "->Para un umbral de 0.4 tenemos esta matriz de confusión:\n",
            "[[610  18]\n",
            " [104  18]]\n",
            "Con 628 predicciones correctas y 104 falsos negativos.\n",
            "Sensitividad: 0.1475 Especificidad: 0.9713 F1: 0.2561078834465499\n",
            "\n",
            "->Para un umbral de 0.45 tenemos esta matriz de confusión:\n",
            "[[623   5]\n",
            " [105  17]]\n",
            "Con 640 predicciones correctas y 105 falsos negativos.\n",
            "Sensitividad: 0.1393 Especificidad: 0.992 F1: 0.24429523556969862\n",
            "\n",
            "->Para un umbral de 0.5 tenemos esta matriz de confusión:\n",
            "[[624   4]\n",
            " [112  10]]\n",
            "Con 634 predicciones correctas y 112 falsos negativos.\n",
            "Sensitividad: 0.082 Especificidad: 0.9936 F1: 0.1514972108590554\n",
            "\n",
            "->Para un umbral de 0.6 tenemos esta matriz de confusión:\n",
            "[[627   1]\n",
            " [121   1]]\n",
            "Con 628 predicciones correctas y 121 falsos negativos.\n",
            "Sensitividad: 0.0082 Especificidad: 0.9984 F1: 0.016266401748460165\n",
            "\n",
            "->Para un umbral de 0.6 tenemos esta matriz de confusión:\n",
            "[[627   1]\n",
            " [121   1]]\n",
            "Con 628 predicciones correctas y 121 falsos negativos.\n",
            "Sensitividad: 0.0082 Especificidad: 0.9984 F1: 0.016266401748460165\n",
            "\n",
            "->Para un umbral de 0.8 tenemos esta matriz de confusión:\n",
            "[[628   0]\n",
            " [122   0]]\n",
            "Con 628 predicciones correctas y 122 falsos negativos.\n",
            "Sensitividad: 0.0 Especificidad: 1.0 F1: 0.0\n",
            "\n",
            "->Para un umbral de 0.9 tenemos esta matriz de confusión:\n",
            "[[628   0]\n",
            " [122   0]]\n",
            "Con 628 predicciones correctas y 122 falsos negativos.\n",
            "Sensitividad: 0.0 Especificidad: 1.0 F1: 0.0\n",
            "\n"
          ]
        }
      ]
    },
    {
      "cell_type": "markdown",
      "metadata": {
        "id": "ZhxGRHnBUcjv"
      },
      "source": [
        "En este caso de estudio, se modificó el umbral que decide si un dato pertenece a una clase o a otra, para poder cambiar el rendimiento del modelo bajo diferentes parámetros, como lo son la sensitividad, la especificidad, o ambas combinadas (F1 score). \n",
        "\n",
        "Este proceso se realizó usando la función `binarize` para obtener valores de `0` ó `1` según las probabilidades (predict_proba) de que se clasifique como un paciente propenso a la enfermedad.\n",
        "Ahora, si se identifica la tendencia patológica de una enfermedad coronaria, hay que tener en cuenta que es preferible identificar todos los pacientes propensos, ya que son los que están en peligro de muerte; mientras que se aceptan casos en donde no estaban enfermos pero fueron diagnosticados así, por lo que es mejor disminuir la especificidad para obtener sensitividad en la predicción del modelo.\n",
        "\n",
        "Pero para manejar un equilibrio en los pacientes diagnosticados, y no sencillamente predecir que todos son propensos, es prudente sacrificar un poco la sensitividad para obtener especificidad en la predicción del modelo. El rendimiento que describe realiza una adecuada compensación, es F1 score, el cual busca un equilibrio entre sensitividad y especificidad. El mejor umbral encontrado para obetener un alto F1, fue de 0.155, con el que se obtienen 506 predicciones correctas y 40 falsos negativos. Lo que se traduce en una \n",
        "sensitividad de 0.6721 y una especificidad de 0.6752, lo que significa un rendimiento general F1 de 0.67, valor similar que se obtiene si se evalua la precisión del modelo original eligiendo clases balanceadas dentro de los parámetros de la función de regresión logística:\n"
      ]
    },
    {
      "cell_type": "code",
      "metadata": {
        "colab": {
          "base_uri": "https://localhost:8080/"
        },
        "id": "-P-ioWHwHhru",
        "outputId": "99f250ed-5872-4b3e-d0dd-80fa5e511454"
      },
      "source": [
        "logregf = LogisticRegression(class_weight='balanced',max_iter=1000) # Modelo de Regresión Logística #\n",
        "clff= logregf.fit(x_train, y_train) # Entrenamiento sobre los Datos #\n",
        "y_predf = clff.predict(x_test) # Predicción de Etiquetas #\n",
        "scoref = accuracy_score(y_test,y_predf)\n",
        "print(f'Precisión final: {round(scoref,3)}')\n"
      ],
      "execution_count": null,
      "outputs": [
        {
          "output_type": "stream",
          "name": "stdout",
          "text": [
            "Precisión final: 0.669\n"
          ]
        }
      ]
    },
    {
      "cell_type": "code",
      "metadata": {
        "colab": {
          "base_uri": "https://localhost:8080/"
        },
        "id": "x6z-p7o_rvS9",
        "outputId": "0b1e6fa3-33d2-46c5-d528-3cca4424cacb"
      },
      "source": [
        "print(np.shape(y_ayuda),np.shape(y_test),np.shape(y_pred_prob_yes)) # Se verifican los tamanos de las array"
      ],
      "execution_count": null,
      "outputs": [
        {
          "output_type": "stream",
          "name": "stdout",
          "text": [
            "(750,) (750,) (750, 2)\n"
          ]
        }
      ]
    },
    {
      "cell_type": "markdown",
      "metadata": {
        "id": "jlgjkH63lw2p"
      },
      "source": [
        "Por otra parte, un criterio que facilita el visualizar este trade-off se conoce como la Curva ROC, en donde se ubican múltiples puntos para distintos valores del umbral de clasificación. Puede leer el artículo a continuación para una explicación más detallada:\n",
        "- Curva ROC: [Understanding AUC - ROC Curve](https://towardsdatascience.com/understanding-auc-roc-curve-68b2303cc9c5)"
      ]
    },
    {
      "cell_type": "code",
      "metadata": {
        "id": "9ekcS0iflw2p",
        "colab": {
          "base_uri": "https://localhost:8080/",
          "height": 295
        },
        "outputId": "0a0de921-c5c8-4f91-f797-cd54483a05c0"
      },
      "source": [
        "from sklearn.metrics import roc_curve\n",
        "\n",
        "fpr, tpr, thresholds = roc_curve(y_test, y_ayuda) # En este caso, se utiliza la func que calcula la prob de que sea de clase 1. \n",
        "# Se verifica con los tamanos de las outputs, teniendo en cuenta el tamano de y_test\n",
        "plt.plot(fpr,tpr)\n",
        "plt.xlim([0.0, 1.0])\n",
        "plt.ylim([0.0, 1.0])\n",
        "plt.title('Curva ROC para Clasificador de Enfermedad Coronaria')\n",
        "plt.xlabel('Tasa de Falsos Positivos (1-Especificidad)')\n",
        "plt.ylabel('Tasa de Verdaderos Positivos (Sensitividad)')\n",
        "plt.grid(True)"
      ],
      "execution_count": null,
      "outputs": [
        {
          "output_type": "display_data",
          "data": {
            "image/png": "[encoded data removed]",
            "text/plain": [
              "<Figure size 432x288 with 1 Axes>"
            ]
          },
          "metadata": {
            "needs_background": "light"
          }
        }
      ]
    },
    {
      "cell_type": "code",
      "metadata": {
        "id": "Hl-lLIR5nlly"
      },
      "source": [
        ""
      ],
      "execution_count": null,
      "outputs": []
    },
    {
      "cell_type": "markdown",
      "metadata": {
        "id": "d9u3ZjKClw2p"
      },
      "source": [
        "Observe la gráfica, y teniendo en cuenta los resultados concluya sobre la proporción que se puede considerar más adecuada en este contexto.\n",
        "\n",
        "Teniendo en cuenta el análisis desarrollado con los diferentes umbrales, y la curva ROC bajo diferentes umbrales de clasificación, se concluye que la proporción más adecuada es que haya una sensitividad alrededor de 0.8 y una especificidad aproximada de 0.5, con el objetivo de predecir en su mayoría los pacientes propensos a sufrir dicha enfermedad para comenzar con su tratamiento, pero con un sacrificio de estimar pacientes que no estan propensos. \n",
        "\n",
        "## Parte 2\n",
        "\n",
        "Ahora usted debe desarrollar su propia implementación del método Descenso de Gradiente estocástico para un modelo de regresión logística. Realice el entrenamiento a partir del 80% de los datos. Al final del entrenamiento, en la lista errores se deben tener los valores de la función de error para cada iteración y así poder observar el progreso gráficamente."
      ]
    },
    {
      "cell_type": "markdown",
      "metadata": {
        "id": "D8wA4IEbjId_"
      },
      "source": [
        "Teniendo en cuenta que:\n",
        "\n",
        "$h_w(x) = \\sigma(w^Tx) = \\frac{1}{1 + e^{-w^Tx}}$\n",
        "\n",
        "\\\\\n",
        "\n",
        "Se procede a completar la iteracion de descenso de gradiente, vista en el taller uno, tal como:"
      ]
    },
    {
      "cell_type": "code",
      "metadata": {
        "id": "1SOKwoeIlw2q",
        "colab": {
          "base_uri": "https://localhost:8080/"
        },
        "outputId": "fcc5b1da-68bc-4d19-b130-9ade7f210cc8"
      },
      "source": [
        "x_train,x_test,y_train,y_test=train_test_split(x,y,train_size=0.8,random_state=20) # Se prepara la base\n",
        "# De datos con los porcetanjes propuestos\n",
        "np.random.seed(22) # Se altera la funcion random\n",
        "X_train_array = np.c_[np.ones(x_train.values.shape[0]), x_train.values]\n",
        "y_train_array = y_train.values\n",
        "# Se extraen los valores de la base de datos necesarios, de forma aleatoria.\n",
        "\n",
        "# Se definen los valores de error y epsilon, que funcionaran en el metodo como una medida de parada.\n",
        "# Estas se definen para ecnontrar un modelo optimo teniendo en cuenta un uso computacional prudente.\n",
        "eps = 1e-5\n",
        "error = 100\n",
        "\n",
        "# Se definen los valores aleatorias que se usaran para extraer del arreglo de valores definidos como\n",
        "# de entrenamineto del modelo.\n",
        "\n",
        "i = random.randint(X_train_array.shape[0]-1)\n",
        "xActual = X_train_array[i]\n",
        "yActual = y_train_array[i]\n",
        "\n",
        "\n",
        "# Segun lo visto en clase se define la funcion sigma\n",
        "def sigma(w,x):\n",
        "    res_sigmoid = 1/(1 + math.exp(-(np.transpose(w).dot(x))))# Salida de la función sigmoide #\n",
        "    return res_sigmoid\n",
        "\n",
        "\n",
        "# Defina un vector que contenga las tasas que desea probar\n",
        "#tasas =[0.01,0.02,0.05,0.1,0.4,1,2,10,20,100]\n",
        "tasas = [0.1, 0.2, 0.3, 0.4, 0.5, 0.6, 0.7, 0.8, 0.9]\n",
        "# Se proponen dos vectores de tasas, con el fin de \n",
        "# Observar diferencias en las simulaciones. Se usa el mas conveniente\n",
        "\n",
        "\n",
        "# Teniendo en cuenta que se usaran diferentes tasas en ese proceso, es importante seleccionar la mejor de todas.\n",
        "mejtasa=0\n",
        "mejpred=0\n",
        "mejypred=0\n",
        "\n",
        "\n",
        "# Se contabiliza el numero de simulaciones\n",
        "Loops = 0\n",
        "num = 1 \n",
        "\n",
        "# Para este descenso de gradiente, se utilizaron diferentes opciones el proceso, con el fin de encontrar un model mas optimo:\n",
        "\n",
        "\n",
        "for tasa in tasas:\n",
        "     w0 = np.random.rand(X_train_array.shape[1]) # Se escoge un vector aleatorio de parametros w inicial\n",
        "     w = w0.copy() # Se actualiza w0 (Anterior) con w (Actual) Para las distintas tasas de apredizaje\n",
        "     error = 100   # Se inicializa\n",
        "     while error>eps:         # Criterio de parada 1 #\n",
        "     # 1. ------------------------------------------------------------------------------------------------------\n",
        "        for j in range (0, 2000):  # Criterio de parada 2 #\n",
        "          # # Desarrollo de algoritmo # #\n",
        "          w0 = w.copy() # Se actualiza w0 (Anterior) con w (Actual) para cada paso del descenso\n",
        "          g = sigma(w0, xActual)  # A diferencia del taller 1, el g se establece con la funcion sigma\n",
        "          error = g - yActual # Se actualiza el error para el criterio de parada\n",
        "          w = w0 - tasa*error*xActual # Se actualiza el nuevo vector de parametros\n",
        "\n",
        "          # Nueva seleccion de valores aleatorias de entrenamiento\n",
        "          i = random.randint(X_train_array.shape[0]-1)\n",
        "          xActual = X_train_array[i]\n",
        "          yActual = y_train_array[i]\n",
        "\n",
        "          # Se contabilizan las iteraciones dentro del proceso de descenso\n",
        "          Loops += 1\n",
        "\n",
        "     # 2. ------------------------------------------------------------------------------------------------------           \n",
        "     X_test_array = np.c_[np.ones(x_test.values.shape[0]), x_test.values]\n",
        "     y_test_array = y_test.values\n",
        "\n",
        "     y_pred = np.zeros(len(x_test))\n",
        "\n",
        "     for i in range(0,len(x_test)):\n",
        "            prob = sigma(w,X_test_array[i])\n",
        "            if prob>0.5:\n",
        "              y_pred[i] = 1\n",
        "            else:\n",
        "              y_pred[i] = 0\n",
        "     presactual = sklearn.metrics.accuracy_score(y_test,y_pred)\n",
        "     print('Precisión del modelo con tasa', tasa, 'es' , presactual)\n",
        "     num += 1\n",
        "     if presactual > mejpred:\n",
        "        mejpred =presactual\n",
        "        mejtasa =tasa\n",
        "        mejypred=y_pred\n",
        "# 3. ------------------------------------------------------------------------------------------------------\n",
        "print(f'Precisión mejor modelo actual: {mejpred}')\n",
        "print(f'Mejor Tasa: {mejtasa}')\n",
        "print('Numero de iteraciones con ultima tasa fue:', Loops)\n",
        "\n"
      ],
      "execution_count": null,
      "outputs": [
        {
          "output_type": "stream",
          "name": "stdout",
          "text": [
            "Precisión del modelo con tasa 0.1 es 0.8413333333333334\n",
            "Precisión del modelo con tasa 0.2 es 0.82\n",
            "Precisión del modelo con tasa 0.3 es 0.788\n",
            "Precisión del modelo con tasa 0.4 es 0.7386666666666667\n",
            "Precisión del modelo con tasa 0.5 es 0.8373333333333334\n",
            "Precisión del modelo con tasa 0.6 es 0.7266666666666667\n",
            "Precisión del modelo con tasa 0.7 es 0.8146666666666667\n",
            "Precisión del modelo con tasa 0.8 es 0.848\n",
            "Precisión del modelo con tasa 0.9 es 0.744\n",
            "Precisión mejor modelo actual: 0.848\n",
            "Mejor Tasa: 0.8\n",
            "Numero de iteraciones con ultima tasa fue: 94000\n"
          ]
        }
      ]
    },
    {
      "cell_type": "markdown",
      "metadata": {
        "id": "Kr4CWhGJlw2q"
      },
      "source": [
        "## Matriz de Confusión\n",
        "\n",
        "Observe y analice la matriz de confusión para su mejor modelo. Escriba claramente sus conclusiones."
      ]
    },
    {
      "cell_type": "markdown",
      "metadata": {
        "id": "42NI5r_Wo2Ed"
      },
      "source": [
        "Teniendo en cuenta que la matriz de confusion puede tomar diferentes estructuras dependiendo de la refrencia e iterprectacion de los datos, se hace un bosquejo general del orden de los valores producidos especificamente por la funcion  confusion_matrix() de python. En este, la primera letra hace referencia a si el modelo diagnostico como verdadero o falso la enfermedad, y la segunda a que si efectivamente el paciente tenia la enfermedad (Positivo) o no (Negativo) \n",
        "\n",
        "\n",
        "\n",
        "![CONF.png](data:image/png;base64,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)"
      ]
    },
    {
      "cell_type": "code",
      "metadata": {
        "id": "zLf5AD5blw2q",
        "colab": {
          "base_uri": "https://localhost:8080/",
          "height": 339
        },
        "outputId": "1f54b606-a027-492b-a38f-11eac367d934"
      },
      "source": [
        "cm = confusion_matrix(y_test,y_pred)\n",
        "conf_matrix = pd.DataFrame(data=cm,columns=['Predicted:0','Predicted:1'],index=['Actual:0','Actual:1'])\n",
        "\n",
        "plt.figure(figsize = (8,5))\n",
        "sn.heatmap(conf_matrix, annot=True,fmt='d',cmap=\"YlGnBu\")"
      ],
      "execution_count": null,
      "outputs": [
        {
          "output_type": "execute_result",
          "data": {
            "text/plain": [
              "<matplotlib.axes._subplots.AxesSubplot at 0x7fa4409ad3d0>"
            ]
          },
          "metadata": {},
          "execution_count": 77
        },
        {
          "output_type": "display_data",
          "data": {
            "image/png": "[encoded data removed]",
            "text/plain": [
              "<Figure size 576x360 with 2 Axes>"
            ]
          },
          "metadata": {
            "needs_background": "light"
          }
        }
      ]
    },
    {
      "cell_type": "code",
      "metadata": {
        "id": "CQgSKfOIlw2q",
        "colab": {
          "base_uri": "https://localhost:8080/"
        },
        "outputId": "cada7386-e226-4189-beed-e285885215a1"
      },
      "source": [
        "tn, fp, fn, tp = confusion_matrix(y_test,y_pred).ravel()\n",
        "print(tn, fp, fn, tp ) "
      ],
      "execution_count": null,
      "outputs": [
        {
          "output_type": "stream",
          "name": "stdout",
          "text": [
            "497 131 61 61\n"
          ]
        }
      ]
    },
    {
      "cell_type": "markdown",
      "metadata": {
        "id": "qYWnWLRRrm0_"
      },
      "source": [
        "Como se observa, el modelo  tiene mas ruido que el modelo visto en la primera parte. Sin embargo, se sigue dando prioridad a los diagnosticos Verdaderos Negativos, pues teniendo en cuenta la gravedad de la enfermedad, un Diagnostico Falso Positivo, es correr el riesgo que ese grupo muera en su totalidad, es decir, tratar de disminuir su valor al maximo."
      ]
    },
    {
      "cell_type": "code",
      "metadata": {
        "id": "XSmbQh9JsFaN"
      },
      "source": [
        ""
      ],
      "execution_count": null,
      "outputs": []
    }
  ]
}