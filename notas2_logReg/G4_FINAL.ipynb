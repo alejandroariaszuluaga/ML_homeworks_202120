{
 "cells": [
  {
   "cell_type": "markdown",
   "metadata": {},
   "source": [
    "# Regresión Logística: Predicción de Enfermedad Coronaria\n",
    "\n",
    "A continuación se observa un problema de clasificación binaria y se desea analizar una posible solución a partir de un modelo de regresión logística. Se busca implementar el algoritmo mencionado, inicialmente empleando la librería SciKit-Learn para luego desarrollar el mismo proceso de entrenamiento manualmente (Descenso de Gradiente Estocástico).\n",
    "\n",
    "También se introducirán algunos conceptos para lidiar con datos desbalanceados como: matriz de confusión, curva ROC, y algunas otras métricas importantes.\n",
    "\n",
    "Debe completar las celdas vacías y seguir las instrucciones anotadas en el cuaderno.\n",
    "\n",
    "La fecha límite de entrega es el día **20 de septiembre** y se realizará a través de Bloque Neón."
   ]
  },
  {
   "cell_type": "code",
   "execution_count": 1,
   "metadata": {},
   "outputs": [],
   "source": [
    "import pandas as pd\n",
    "import numpy as np\n",
    "import statsmodels.api as sm\n",
    "import scipy.stats as st\n",
    "import matplotlib.pyplot as plt\n",
    "import seaborn as sn\n",
    "import sklearn\n",
    "from sklearn.linear_model import LogisticRegression\n",
    "from sklearn.model_selection import train_test_split\n",
    "from sklearn.metrics import confusion_matrix\n",
    "from sklearn.metrics import accuracy_score\n",
    "from sklearn.preprocessing import OrdinalEncoder, MinMaxScaler, RobustScaler\n",
    "from sklearn.preprocessing import binarize\n",
    "import matplotlib.mlab as mlab\n",
    "%matplotlib inline"
   ]
  },
  {
   "cell_type": "code",
   "execution_count": 2,
   "metadata": {
    "scrolled": true
   },
   "outputs": [
    {
     "data": {
      "text/html": [
       "<div>\n",
       "<style scoped>\n",
       "    .dataframe tbody tr th:only-of-type {\n",
       "        vertical-align: middle;\n",
       "    }\n",
       "\n",
       "    .dataframe tbody tr th {\n",
       "        vertical-align: top;\n",
       "    }\n",
       "\n",
       "    .dataframe thead th {\n",
       "        text-align: right;\n",
       "    }\n",
       "</style>\n",
       "<table border=\"1\" class=\"dataframe\">\n",
       "  <thead>\n",
       "    <tr style=\"text-align: right;\">\n",
       "      <th></th>\n",
       "      <th>male</th>\n",
       "      <th>age</th>\n",
       "      <th>currentSmoker</th>\n",
       "      <th>cigsPerDay</th>\n",
       "      <th>BPMeds</th>\n",
       "      <th>prevalentStroke</th>\n",
       "      <th>prevalentHyp</th>\n",
       "      <th>diabetes</th>\n",
       "      <th>totChol</th>\n",
       "      <th>sysBP</th>\n",
       "      <th>diaBP</th>\n",
       "      <th>BMI</th>\n",
       "      <th>heartRate</th>\n",
       "      <th>glucose</th>\n",
       "      <th>TenYearCHD</th>\n",
       "    </tr>\n",
       "  </thead>\n",
       "  <tbody>\n",
       "    <tr>\n",
       "      <th>0</th>\n",
       "      <td>1</td>\n",
       "      <td>39</td>\n",
       "      <td>0</td>\n",
       "      <td>0.0</td>\n",
       "      <td>0.0</td>\n",
       "      <td>0</td>\n",
       "      <td>0</td>\n",
       "      <td>0</td>\n",
       "      <td>195.0</td>\n",
       "      <td>106.0</td>\n",
       "      <td>70.0</td>\n",
       "      <td>26.97</td>\n",
       "      <td>80.0</td>\n",
       "      <td>77.0</td>\n",
       "      <td>0</td>\n",
       "    </tr>\n",
       "    <tr>\n",
       "      <th>1</th>\n",
       "      <td>0</td>\n",
       "      <td>46</td>\n",
       "      <td>0</td>\n",
       "      <td>0.0</td>\n",
       "      <td>0.0</td>\n",
       "      <td>0</td>\n",
       "      <td>0</td>\n",
       "      <td>0</td>\n",
       "      <td>250.0</td>\n",
       "      <td>121.0</td>\n",
       "      <td>81.0</td>\n",
       "      <td>28.73</td>\n",
       "      <td>95.0</td>\n",
       "      <td>76.0</td>\n",
       "      <td>0</td>\n",
       "    </tr>\n",
       "    <tr>\n",
       "      <th>2</th>\n",
       "      <td>1</td>\n",
       "      <td>48</td>\n",
       "      <td>1</td>\n",
       "      <td>20.0</td>\n",
       "      <td>0.0</td>\n",
       "      <td>0</td>\n",
       "      <td>0</td>\n",
       "      <td>0</td>\n",
       "      <td>245.0</td>\n",
       "      <td>127.5</td>\n",
       "      <td>80.0</td>\n",
       "      <td>25.34</td>\n",
       "      <td>75.0</td>\n",
       "      <td>70.0</td>\n",
       "      <td>0</td>\n",
       "    </tr>\n",
       "    <tr>\n",
       "      <th>3</th>\n",
       "      <td>0</td>\n",
       "      <td>61</td>\n",
       "      <td>1</td>\n",
       "      <td>30.0</td>\n",
       "      <td>0.0</td>\n",
       "      <td>0</td>\n",
       "      <td>1</td>\n",
       "      <td>0</td>\n",
       "      <td>225.0</td>\n",
       "      <td>150.0</td>\n",
       "      <td>95.0</td>\n",
       "      <td>28.58</td>\n",
       "      <td>65.0</td>\n",
       "      <td>103.0</td>\n",
       "      <td>1</td>\n",
       "    </tr>\n",
       "    <tr>\n",
       "      <th>4</th>\n",
       "      <td>0</td>\n",
       "      <td>46</td>\n",
       "      <td>1</td>\n",
       "      <td>23.0</td>\n",
       "      <td>0.0</td>\n",
       "      <td>0</td>\n",
       "      <td>0</td>\n",
       "      <td>0</td>\n",
       "      <td>285.0</td>\n",
       "      <td>130.0</td>\n",
       "      <td>84.0</td>\n",
       "      <td>23.10</td>\n",
       "      <td>85.0</td>\n",
       "      <td>85.0</td>\n",
       "      <td>0</td>\n",
       "    </tr>\n",
       "  </tbody>\n",
       "</table>\n",
       "</div>"
      ],
      "text/plain": [
       "   male  age  currentSmoker  cigsPerDay  BPMeds  prevalentStroke  \\\n",
       "0     1   39              0         0.0     0.0                0   \n",
       "1     0   46              0         0.0     0.0                0   \n",
       "2     1   48              1        20.0     0.0                0   \n",
       "3     0   61              1        30.0     0.0                0   \n",
       "4     0   46              1        23.0     0.0                0   \n",
       "\n",
       "   prevalentHyp  diabetes  totChol  sysBP  diaBP    BMI  heartRate  glucose  \\\n",
       "0             0         0    195.0  106.0   70.0  26.97       80.0     77.0   \n",
       "1             0         0    250.0  121.0   81.0  28.73       95.0     76.0   \n",
       "2             0         0    245.0  127.5   80.0  25.34       75.0     70.0   \n",
       "3             1         0    225.0  150.0   95.0  28.58       65.0    103.0   \n",
       "4             0         0    285.0  130.0   84.0  23.10       85.0     85.0   \n",
       "\n",
       "   TenYearCHD  \n",
       "0           0  \n",
       "1           0  \n",
       "2           0  \n",
       "3           1  \n",
       "4           0  "
      ]
     },
     "execution_count": 2,
     "metadata": {},
     "output_type": "execute_result"
    }
   ],
   "source": [
    "heart_df=pd.read_csv(\"heartDisease/framingham.csv\")\n",
    "heart_df.dropna(axis=0,inplace=True)\n",
    "heart_df.head()"
   ]
  },
  {
   "cell_type": "code",
   "execution_count": 3,
   "metadata": {},
   "outputs": [
    {
     "name": "stdout",
     "output_type": "stream",
     "text": [
      "Se tienen 3749 datos.\n"
     ]
    }
   ],
   "source": [
    "print(f'Se tienen {len(heart_df)} datos.')"
   ]
  },
  {
   "cell_type": "markdown",
   "metadata": {},
   "source": [
    "### Análisis de Distribución de Clases\n",
    "\n",
    "En el diagrama a continuación puede observar un claro desbalanceo de los datos, en pasos posteriores hablaremos al respecto."
   ]
  },
  {
   "cell_type": "code",
   "execution_count": 4,
   "metadata": {},
   "outputs": [
    {
     "data": {
      "text/plain": [
       "<AxesSubplot:ylabel='TenYearCHD'>"
      ]
     },
     "execution_count": 4,
     "metadata": {},
     "output_type": "execute_result"
    },
    {
     "data": {
      "image/png": "[encoded data removed]",
      "text/plain": [
       "<Figure size 432x288 with 1 Axes>"
      ]
     },
     "metadata": {},
     "output_type": "display_data"
    }
   ],
   "source": [
    "heart_df['TenYearCHD'].value_counts().plot(kind='pie')"
   ]
  },
  {
   "cell_type": "markdown",
   "metadata": {},
   "source": [
    "## Descripción de Variables\n",
    "\n",
    "Cada atributo es un factor potencial de riesgo. Existen factores demográficos, conductuales y médicos.\n",
    "\n",
    "- Demográfico:\n",
    "\n",
    "    - male: masculino (1) o femenino (0); (Nominal)\n",
    "\n",
    "    - age: edad del paciente; (Continuo: aunque las edades registradas se han truncado a números enteros, el concepto de edad es continuo)\n",
    "\n",
    "- Comportacional:\n",
    "\n",
    "    - currentSmoker: si el paciente es o no fumador actual (nominal)\n",
    "\n",
    "    - cigsPerDay: la cantidad de cigarrillos que la persona fumó en promedio en un día (se puede considerar continuo ya que uno puede tener cualquier cantidad de cigarrillos, incluso medio cigarrillo).\n",
    "\n",
    "- Historia médica:\n",
    "\n",
    "    - BPMeds: si el paciente estaba o no tomando medicación para la presión arterial (nominal)\n",
    "\n",
    "    - prevalentStroke: si el paciente había tenido previamente un accidente cerebrovascular o no (nominal)\n",
    "\n",
    "    - prevalentHyp: si el paciente era hipertenso (nominal)\n",
    "\n",
    "    - diabetes: si el paciente tenía diabetes o no (nominal)\n",
    "\n",
    "- Estado Médico actual:\n",
    "\n",
    "    - totChol: nivel de colesterol total (continuo)\n",
    "\n",
    "    - sysBP: presión arterial sistólica (continua)\n",
    "\n",
    "    - diaBP: presión arterial diastólica (continua)\n",
    "\n",
    "    - IMC: índice de masa corporal (continuo)\n",
    "\n",
    "    - heartRate: frecuencia cardíaca (continua: en la investigación médica, variables como la frecuencia cardíaca, aunque de hecho son discretas, se consideran continuas debido a la gran cantidad de valores posibles).\n",
    "\n",
    "    - glucose: nivel de glucosa (continuo)\n",
    "\n",
    "- **Variable a Predecir**\n",
    "\n",
    "    - TenYearCHD: Riesgo de padecer enfermedad coronaria 10 años en el futuro (binario: \"1\", significa \"Sí\", \"0\" significa \"No\")"
   ]
  },
  {
   "cell_type": "code",
   "execution_count": 7,
   "metadata": {},
   "outputs": [],
   "source": [
    "x = heart_df.iloc[:,:-1]\n",
    "y = heart_df.iloc[:,-1]\n",
    "\n",
    "x_train,x_test,y_train,y_test=train_test_split(x,y,test_size=.20,random_state=22)"
   ]
  },
  {
   "cell_type": "code",
   "execution_count": 6,
   "metadata": {},
   "outputs": [],
   "source": [
    "scaler = MinMaxScaler()# Utilice un MinMaxScaler #\n",
    "x_train = scaler.fit_transform(x_train)# Ajuste y Aplique el Escalamiento (función fit_transform) #\n",
    "x_test = scaler.transform(x_test)# Aplique el Escalamiento (función transform) #"
   ]
  },
  {
   "cell_type": "markdown",
   "metadata": {},
   "source": [
    "Análisis:\n",
    "Se pretende escalar los datos de entrenamiento y de prueba mediante las funciones correspondientes, que se encargan de asignar y retornar los valores de los vectores de diferente forma para evitar problemas de tipo \"leaking\""
   ]
  },
  {
   "cell_type": "markdown",
   "metadata": {},
   "source": [
    "## Parte 1\n",
    "\n",
    "A continuación, debe utilizar la función `LogisticRegression` de SciKit-Learn para obtener un primer modelo de regresión logística y calcular su precisión a partir de la función `accuracy_score`.\n",
    "\n",
    "Obtenga resultados sobre los datos de entrenamiento y los datos de prueba. Concluya al respecto."
   ]
  },
  {
   "cell_type": "code",
   "execution_count": 52,
   "metadata": {},
   "outputs": [
    {
     "name": "stdout",
     "output_type": "stream",
     "text": [
      "Precisión inicial: 0.844\n"
     ]
    }
   ],
   "source": [
    "logreg = LogisticRegression()# Modelo de Regresión Logística #\n",
    "logreg.fit(x_train, y_train) # Entrenamiento sobre los Datos #\n",
    "y_pred = logreg.predict(x_test) # Predicción de Etiquetas #\n",
    "\n",
    "print(f'Precisión inicial: {accuracy_score(y_test, y_pred)  }') # INCLUYA AQUÍ EL CÁLCULO DE LA PRECISIÓN DEL MODELO"
   ]
  },
  {
   "cell_type": "markdown",
   "metadata": {},
   "source": [
    "Análisis:\n",
    "Se procede a crear la instancia de regresión lineal y con ella entrenar el modelo a partir de los datos de entrenamiento para así obtener los pesos del modelo, que luego serán útiles a la hora de estimar los valores de salida de los datos de prueba. Una vez se estimen, se compararán con las salidas de prueba para calcular su precisión mediante la función \"accuracy_score\""
   ]
  },
  {
   "cell_type": "markdown",
   "metadata": {},
   "source": [
    "### Matriz de Confusión\n",
    "\n",
    "Como recordará, la información en este dataset no posee una distribución de clases balanceada. La matriz de confusión es una herramienta que permite analizar el comportamiento del modelo para estos datos.\n",
    "\n",
    "Puede encontrar más información en este artículo: [Understanding Confusion Matrix](https://towardsdatascience.com/understanding-confusion-matrix-a9ad42dcfd62)"
   ]
  },
  {
   "cell_type": "code",
   "execution_count": 53,
   "metadata": {},
   "outputs": [
    {
     "data": {
      "text/plain": [
       "<matplotlib.axes._subplots.AxesSubplot at 0x28d3b5c3850>"
      ]
     },
     "execution_count": 53,
     "metadata": {},
     "output_type": "execute_result"
    },
    {
     "data": {
      "image/png": "[encoded data removed]",
      "text/plain": [
       "<Figure size 576x360 with 2 Axes>"
      ]
     },
     "metadata": {
      "needs_background": "light"
     },
     "output_type": "display_data"
    }
   ],
   "source": [
    "cm = confusion_matrix(y_test,y_pred)\n",
    "conf_matrix = pd.DataFrame(data=cm,columns=['Predicted:0','Predicted:1'],index=['Actual:0','Actual:1'])\n",
    "plt.figure(figsize = (8,5))\n",
    "sn.heatmap(conf_matrix, annot=True,fmt='d',cmap=\"YlGnBu\")"
   ]
  },
  {
   "cell_type": "markdown",
   "metadata": {},
   "source": [
    "Comentario\n",
    "En este caso se utiliza una matriz de confusión que indica qué valores son falsos o verdaderos positivos, y falsos o verdaderos negativos. La presición anteriormente calculada se obtiene del cociente entre la suma de los verdaderos datos (primera diagonal) entre la totalidad de los datos."
   ]
  },
  {
   "cell_type": "markdown",
   "metadata": {},
   "source": [
    "### Tratamiento de Datos Desbalanceados\n",
    "\n",
    "En casos de estudio como identificación de tendencias patológicas, es común tener datos desbalanceados, o en los cuales la gravedad de cometer [errores tipo I o tipo II](https://www.simplypsychology.org/type_I_and_type_II_errors.html) son bastante diferentes. En muchos casos, se puede preferir cometer cierto tipo de error sobre el otro. Para trabajar con estos problemas, se suele preferir sacrificar algo de [precisión](https://developers.google.com/machine-learning/crash-course/classification/accuracy) del modelo, a cambio de una mejora en términos prácticos.\n",
    "\n",
    "Este proceso se realiza a partir de la modificación del umbral a partir del cual se decide si un dato pertenece a una clase u otra. Utilice la función `binarize` para obtener valores de `0` ó `1` según las probabilidades de las predicciones realizadas utilizando la función `model.predict_proba`.\n",
    "\n",
    "Algunas métricas utilizadas para interpretar el rendimiento del modelo son las siguientes:\n",
    "\n",
    "- F1Score\n",
    "- TP Rate / Recall / Sensitividad\n",
    "- TN Rate / Especificidad\n",
    "\n",
    "Puede encontrar más información sobre estas métricas en los artículos:\n",
    "- [Accuracy, Precision, Recall or F1?](https://towardsdatascience.com/accuracy-precision-recall-or-f1-331fb37c5cb9)\n",
    "- [Sensitivity Vs Specificity In Data Science](https://medium.com/fintechexplained/sensitivity-vs-specificity-in-data-science-2f673039dbd1)"
   ]
  },
  {
   "cell_type": "code",
   "execution_count": 58,
   "metadata": {
    "scrolled": false
   },
   "outputs": [
    {
     "name": "stdout",
     "output_type": "stream",
     "text": [
      "->Para un umbral de 0.1 tenemos esta matriz de confusión:\n",
      "[[  0 630]\n",
      " [  0 120]]\n",
      "Con 120 predicciones correctas y 0 falsos positivos.\n",
      "Sensitividad: 1.0 Especificidad: 0.0\n",
      "\n",
      "->Para un umbral de 0.2 tenemos esta matriz de confusión:\n",
      "[[  0 630]\n",
      " [  1 119]]\n",
      "Con 119 predicciones correctas y 1 falsos positivos.\n",
      "Sensitividad: 0.9917 Especificidad: 0.0\n",
      "\n",
      "->Para un umbral de 0.3 tenemos esta matriz de confusión:\n",
      "[[  1 629]\n",
      " [  1 119]]\n",
      "Con 120 predicciones correctas y 1 falsos positivos.\n",
      "Sensitividad: 0.9917 Especificidad: 0.0016\n",
      "\n",
      "->Para un umbral de 0.4 tenemos esta matriz de confusión:\n",
      "[[  1 629]\n",
      " [  1 119]]\n",
      "Con 120 predicciones correctas y 1 falsos positivos.\n",
      "Sensitividad: 0.9917 Especificidad: 0.0016\n",
      "\n",
      "->Para un umbral de 0.5 tenemos esta matriz de confusión:\n",
      "[[  3 627]\n",
      " [  6 114]]\n",
      "Con 117 predicciones correctas y 6 falsos positivos.\n",
      "Sensitividad: 0.95 Especificidad: 0.0048\n",
      "\n",
      "->Para un umbral de 0.6 tenemos esta matriz de confusión:\n",
      "[[ 18 612]\n",
      " [ 16 104]]\n",
      "Con 122 predicciones correctas y 16 falsos positivos.\n",
      "Sensitividad: 0.8667 Especificidad: 0.0286\n",
      "\n",
      "->Para un umbral de 0.7 tenemos esta matriz de confusión:\n",
      "[[ 47 583]\n",
      " [ 26  94]]\n",
      "Con 141 predicciones correctas y 26 falsos positivos.\n",
      "Sensitividad: 0.7833 Especificidad: 0.0746\n",
      "\n",
      "->Para un umbral de 0.8 tenemos esta matriz de confusión:\n",
      "[[118 512]\n",
      " [ 57  63]]\n",
      "Con 181 predicciones correctas y 57 falsos positivos.\n",
      "Sensitividad: 0.525 Especificidad: 0.1873\n",
      "\n",
      "->Para un umbral de 0.9 tenemos esta matriz de confusión:\n",
      "[[324 306]\n",
      " [102  18]]\n",
      "Con 342 predicciones correctas y 102 falsos positivos.\n",
      "Sensitividad: 0.15 Especificidad: 0.5143\n",
      "\n",
      "->Para un umbral de 1.0 tenemos esta matriz de confusión:\n",
      "[[630   0]\n",
      " [120   0]]\n",
      "Con 630 predicciones correctas y 120 falsos positivos.\n",
      "Sensitividad: 0.0 Especificidad: 1.0\n",
      "\n"
     ]
    }
   ],
   "source": [
    "from sklearn.preprocessing import binarize\n",
    "\n",
    "umbrales = [0.1,0.2,0.3,0.4,0.5,0.6,0.7,0.8,0.9,1.0]# Vector que Contiene los Umbrales a Analizar #\n",
    "\n",
    "for umbral in umbrales:\n",
    "    cm2 = 0\n",
    "    y_pred_prob_yes = logreg.predict_proba(x_test)# Utilice la función predict_proba para calcular las probabilidades de pertenecer a la clase 1 #\n",
    "    y_pred2 = binarize(y_pred_prob_yes, threshold= umbral)# Utilice la función binarize para convertir las probabilidades a clases 0 y 1 #\n",
    "    cm2 = confusion_matrix(y_test,y_pred2[:,0])\n",
    "    print(f'''->Para un umbral de {round(umbral,4)} tenemos esta matriz de confusión:\n",
    "{cm2}\n",
    "Con {cm2[0,0]+cm2[1,1]} predicciones correctas y {cm2[1,0]} falsos positivos.\n",
    "Sensitividad: {round(cm2[1,1]/(float(cm2[1,1]+cm2[1,0])), 4)} Especificidad: {round(cm2[0,0]/(float(cm2[0,0]+cm2[0,1])), 4)}\\n''')\n"
   ]
  },
  {
   "cell_type": "markdown",
   "metadata": {},
   "source": [
    "Comentario:\n",
    "\n",
    "Se utilizaron diferentes umbrales que asignarán valores de clasificación al vector de probabilidades, donde si la probabilidad es mayor al umbral entonces se le asigna el valor de clasificación \"1\", de lo contrario su valor será \"0\". Luego, el vector con valores de clasificación será comparado con el vector de salidas de prueba para determinar las predicciones correctas y los errores Tipo I y Tipo II para cada umbral calculado."
   ]
  },
  {
   "cell_type": "markdown",
   "metadata": {},
   "source": [
    "Por otra parte, un criterio que facilita el visualizar este trade-off se conoce como la Curva ROC, en donde se ubican múltiples puntos para distintos valores del umbral de clasificación. Puede leer el artículo a continuación para una explicación más detallada:\n",
    "- Curva ROC: [Understanding AUC - ROC Curve](https://towardsdatascience.com/understanding-auc-roc-curve-68b2303cc9c5)"
   ]
  },
  {
   "cell_type": "code",
   "execution_count": 59,
   "metadata": {},
   "outputs": [
    {
     "data": {
      "image/png": "[encoded data removed]",
      "text/plain": [
       "<Figure size 432x288 with 1 Axes>"
      ]
     },
     "metadata": {
      "needs_background": "light"
     },
     "output_type": "display_data"
    }
   ],
   "source": [
    "from sklearn.metrics import roc_curve\n",
    "\n",
    "fpr, tpr, thresholds = roc_curve(y_test, y_pred_prob_yes[:,1])\n",
    "plt.plot(fpr,tpr)\n",
    "plt.xlim([0.0, 1.0])\n",
    "plt.ylim([0.0, 1.0])\n",
    "plt.title('Curva ROC para Clasificador de Enfermedad Coronaria')\n",
    "plt.xlabel('Tasa de Falsos Positivos (1-Especificidad)')\n",
    "plt.ylabel('Tasa de Verdaderos Positivos (Sensitividad)')\n",
    "plt.grid(True)"
   ]
  },
  {
   "cell_type": "markdown",
   "metadata": {},
   "source": [
    "Con base en los datos anteriores y a la gráfica, se puede indicar que un umbral entre 0.3 y 0.4, con tendencia a este último, permite un mejor desempeño del modelo ya que se logra la mayor sensitividad y la menor especificidad (basado en las matrices de confusión) a su vez que genera el mayor cociente de sensitividad entre especificidad (basado en la curva ROC)"
   ]
  },
  {
   "cell_type": "markdown",
   "metadata": {},
   "source": [
    "Observe la gráfica, y teniendo en cuenta los resultados concluya sobre la proporción que se puede considerar más adecuada en este contexto.\n",
    "\n",
    "## Parte 2\n",
    "\n",
    "Ahora usted debe desarrollar su propia implementación del método Descenso de Gradiente estocástico para un modelo de regresión logística. Realice el entrenamiento a partir del 80% de los datos. Al final del entrenamiento, en la lista errores se deben tener los valores de la función de error para cada iteración y así poder observar el progreso gráficamente."
   ]
  },
  {
   "cell_type": "code",
   "execution_count": 9,
   "metadata": {},
   "outputs": [
    {
     "name": "stdout",
     "output_type": "stream",
     "text": [
      "error de 0.0\n",
      "Precisión modelo actual: 0.7853333333333333\n",
      "error de 0.0\n",
      "Precisión modelo actual: 0.776\n",
      "error de -3.2410993333326616e-282\n",
      "Precisión modelo actual: 0.7946666666666666\n",
      "error de 0.0\n",
      "Precisión modelo actual: 0.8213333333333334\n"
     ]
    },
    {
     "name": "stderr",
     "output_type": "stream",
     "text": [
      "<ipython-input-9-60f1b5e8b009>:14: RuntimeWarning: overflow encountered in exp\n",
      "  res_sigmoid =1 / (1+ np.exp(np.dot(-w,x)))\n"
     ]
    }
   ],
   "source": [
    "np.random.seed(22)\n",
    "tasas = [0.1,0.8,0.03,0.08]\n",
    "for tasa in tasas:\n",
    "    \n",
    "    X_train_array = np.c_[np.ones(x_train.values.shape[0]), x_train.values]\n",
    "    y_train_array = y_train.values\n",
    "    w0 = np.random.rand(X_train_array.shape[1]) # Inicialización de w #\n",
    "    w = w0.copy()\n",
    "    # Inicialización de criterio de parada (al disminuir el valor de eps, se aumenta la precisión y el tiempo de procesamiento)\n",
    "    eps = 1e-1\n",
    "    error = 100\n",
    "    dif = 100\n",
    "    def sigma(w,x):\n",
    "        res_sigmoid =1 / (1+ np.exp(np.dot(-w,x)))\n",
    "        return res_sigmoid\n",
    "\n",
    "\n",
    "    #Selección de par aleatorio\n",
    "    i = np.random.randint(0,len(X_train_array[0])) # Posición aleatoria #\n",
    "    xActual = X_train_array[i]\n",
    "    yActual = y_train_array[i]\n",
    "    w_trans = w.transpose()\n",
    "\n",
    "    #while error>eps:         # Criterio de parada 1 #\n",
    "    for j in range (0, 1000):  # Criterio de parada 2 #\n",
    "        g= sigma(w_trans,xActual)\n",
    "        e=yActual-g\n",
    "        error= e\n",
    "        w = w0 + (tasa*e*xActual)\n",
    "        w0 = w.copy()\n",
    "        i = np.random.randint(0,len(X_train_array[0])) # Posición aleatoria #\n",
    "        xActual = X_train_array[i]\n",
    "        yActual = y_train_array[i]\n",
    "        w_trans = w.transpose()\n",
    "\n",
    "    print('error de ' + str(error))\n",
    "    X_test_array = np.c_[np.ones(x_test.values.shape[0]), x_test.values]\n",
    "    y_test_array = y_test.values\n",
    "\n",
    "    y_pred = np.zeros(len(x_test))\n",
    "\n",
    "    for i in range(0,len(x_test)):\n",
    "      prob = sigma(w,X_test_array[i])\n",
    "      if prob>0.5:\n",
    "        y_pred[i] = 1\n",
    "      else:\n",
    "        y_pred[i] = 0\n",
    "\n",
    "    print(f'Precisión modelo actual: {sklearn.metrics.accuracy_score(y_test,y_pred)}')"
   ]
  },
  {
   "cell_type": "markdown",
   "metadata": {},
   "source": [
    "## Matriz de Confusión\n",
    "\n",
    "Observe y analice la matriz de confusión para su mejor modelo. Escriba claramente sus conclusiones."
   ]
  },
  {
   "cell_type": "code",
   "execution_count": 10,
   "metadata": {},
   "outputs": [
    {
     "data": {
      "text/plain": [
       "<AxesSubplot:>"
      ]
     },
     "execution_count": 10,
     "metadata": {},
     "output_type": "execute_result"
    },
    {
     "data": {
      "image/png": "[encoded data removed]",
      "text/plain": [
       "<Figure size 576x360 with 2 Axes>"
      ]
     },
     "metadata": {
      "needs_background": "light"
     },
     "output_type": "display_data"
    }
   ],
   "source": [
    "cm = confusion_matrix(y_test,y_pred)\n",
    "conf_matrix = pd.DataFrame(data=cm,columns=['Predicted:0','Predicted:1'],index=['Actual:0','Actual:1'])\n",
    "\n",
    "plt.figure(figsize = (8,5))\n",
    "sn.heatmap(conf_matrix, annot=True,fmt='d',cmap=\"YlGnBu\")"
   ]
  },
  {
   "cell_type": "markdown",
   "metadata": {},
   "source": [
    "\n",
    "\n",
    "## Conclusion\n",
    "\n",
    "Basandonos en la matriz de confusión obtenida para el último modelo, cuya tasa de aprendizaje es del 0.08, se tienen bastantes aciertos positivos y esto indica que el modelo logra identificar en su mayoría correctamente los casos positivos, sin embargo, para los casos negativos ocurre lo contrario y es que hay más falsos negativos que verdaderos negativos lo cual indica que el modelo no es capaz de reconocer correctamente los casos negativos."
   ]
  }
 ],
 "metadata": {
  "kernelspec": {
   "display_name": "Python 3",
   "language": "python",
   "name": "python3"
  },
  "language_info": {
   "codemirror_mode": {
    "name": "ipython",
    "version": 3
   },
   "file_extension": ".py",
   "mimetype": "text/x-python",
   "name": "python",
   "nbconvert_exporter": "python",
   "pygments_lexer": "ipython3",
   "version": "3.8.10"
  }
 },
 "nbformat": 4,
 "nbformat_minor": 4
}
