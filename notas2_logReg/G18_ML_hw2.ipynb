{
  "nbformat": 4,
  "nbformat_minor": 0,
  "metadata": {
    "kernelspec": {
      "display_name": "Python 3",
      "language": "python",
      "name": "python3"
    },
    "language_info": {
      "codemirror_mode": {
        "name": "ipython",
        "version": 3
      },
      "file_extension": ".py",
      "mimetype": "text/x-python",
      "name": "python",
      "nbconvert_exporter": "python",
      "pygments_lexer": "ipython3",
      "version": "3.8.10"
    },
    "colab": {
      "name": "ML_hw2222.ipynb",
      "provenance": [],
      "collapsed_sections": []
    }
  },
  "cells": [
    {
      "cell_type": "markdown",
      "metadata": {
        "id": "O8aXoWDizVjv"
      },
      "source": [
        "Jorge Mario Becerra\n",
        "\n",
        "Vhanessa Cardona"
      ]
    },
    {
      "cell_type": "markdown",
      "metadata": {
        "id": "h1AAi8IIjg-n"
      },
      "source": [
        "# Regresión Logística: Predicción de Enfermedad Coronaria\n",
        "\n",
        "A continuación se observa un problema de clasificación binaria y se desea analizar una posible solución a partir de un modelo de regresión logística. Se busca implementar el algoritmo mencionado, inicialmente empleando la librería SciKit-Learn para luego desarrollar el mismo proceso de entrenamiento manualmente (Descenso de Gradiente Estocástico).\n",
        "\n",
        "También se introducirán algunos conceptos para lidiar con datos desbalanceados como: matriz de confusión, curva ROC, y algunas otras métricas importantes.\n",
        "\n",
        "Debe completar las celdas vacías y seguir las instrucciones anotadas en el cuaderno.\n",
        "\n",
        "La fecha límite de entrega es el día **20 de septiembre** y se realizará a través de Bloque Neón."
      ]
    },
    {
      "cell_type": "code",
      "metadata": {
        "id": "0OfEBmo5jg-w"
      },
      "source": [
        "import pandas as pd\n",
        "import numpy as np\n",
        "import statsmodels.api as sm\n",
        "import scipy.stats as st\n",
        "import matplotlib.pyplot as plt\n",
        "import seaborn as sn\n",
        "import sklearn\n",
        "from sklearn.linear_model import LogisticRegression\n",
        "from sklearn.model_selection import train_test_split\n",
        "from sklearn.metrics import confusion_matrix, accuracy_score, f1_score, auc\n",
        "from sklearn.preprocessing import OrdinalEncoder, MinMaxScaler, RobustScaler\n",
        "import matplotlib.mlab as mlab\n",
        "%matplotlib inline"
      ],
      "execution_count": null,
      "outputs": []
    },
    {
      "cell_type": "code",
      "metadata": {
        "scrolled": true,
        "colab": {
          "base_uri": "https://localhost:8080/",
          "height": 223
        },
        "id": "7mF_dFLEjg-w",
        "outputId": "35a9846d-a1c0-41a9-9f88-482f7dbe62cb"
      },
      "source": [
        "heart_df=pd.read_csv(\"heartDisease/framingham.csv\")\n",
        "heart_df.dropna(axis=0,inplace=True)\n",
        "heart_df.head()"
      ],
      "execution_count": null,
      "outputs": [
        {
          "output_type": "execute_result",
          "data": {
            "text/html": [
              "<div>\n",
              "<style scoped>\n",
              "    .dataframe tbody tr th:only-of-type {\n",
              "        vertical-align: middle;\n",
              "    }\n",
              "\n",
              "    .dataframe tbody tr th {\n",
              "        vertical-align: top;\n",
              "    }\n",
              "\n",
              "    .dataframe thead th {\n",
              "        text-align: right;\n",
              "    }\n",
              "</style>\n",
              "<table border=\"1\" class=\"dataframe\">\n",
              "  <thead>\n",
              "    <tr style=\"text-align: right;\">\n",
              "      <th></th>\n",
              "      <th>male</th>\n",
              "      <th>age</th>\n",
              "      <th>currentSmoker</th>\n",
              "      <th>cigsPerDay</th>\n",
              "      <th>BPMeds</th>\n",
              "      <th>prevalentStroke</th>\n",
              "      <th>prevalentHyp</th>\n",
              "      <th>diabetes</th>\n",
              "      <th>totChol</th>\n",
              "      <th>sysBP</th>\n",
              "      <th>diaBP</th>\n",
              "      <th>BMI</th>\n",
              "      <th>heartRate</th>\n",
              "      <th>glucose</th>\n",
              "      <th>TenYearCHD</th>\n",
              "    </tr>\n",
              "  </thead>\n",
              "  <tbody>\n",
              "    <tr>\n",
              "      <th>0</th>\n",
              "      <td>1</td>\n",
              "      <td>39</td>\n",
              "      <td>0</td>\n",
              "      <td>0.0</td>\n",
              "      <td>0.0</td>\n",
              "      <td>0</td>\n",
              "      <td>0</td>\n",
              "      <td>0</td>\n",
              "      <td>195.0</td>\n",
              "      <td>106.0</td>\n",
              "      <td>70.0</td>\n",
              "      <td>26.97</td>\n",
              "      <td>80.0</td>\n",
              "      <td>77.0</td>\n",
              "      <td>0</td>\n",
              "    </tr>\n",
              "    <tr>\n",
              "      <th>1</th>\n",
              "      <td>0</td>\n",
              "      <td>46</td>\n",
              "      <td>0</td>\n",
              "      <td>0.0</td>\n",
              "      <td>0.0</td>\n",
              "      <td>0</td>\n",
              "      <td>0</td>\n",
              "      <td>0</td>\n",
              "      <td>250.0</td>\n",
              "      <td>121.0</td>\n",
              "      <td>81.0</td>\n",
              "      <td>28.73</td>\n",
              "      <td>95.0</td>\n",
              "      <td>76.0</td>\n",
              "      <td>0</td>\n",
              "    </tr>\n",
              "    <tr>\n",
              "      <th>2</th>\n",
              "      <td>1</td>\n",
              "      <td>48</td>\n",
              "      <td>1</td>\n",
              "      <td>20.0</td>\n",
              "      <td>0.0</td>\n",
              "      <td>0</td>\n",
              "      <td>0</td>\n",
              "      <td>0</td>\n",
              "      <td>245.0</td>\n",
              "      <td>127.5</td>\n",
              "      <td>80.0</td>\n",
              "      <td>25.34</td>\n",
              "      <td>75.0</td>\n",
              "      <td>70.0</td>\n",
              "      <td>0</td>\n",
              "    </tr>\n",
              "    <tr>\n",
              "      <th>3</th>\n",
              "      <td>0</td>\n",
              "      <td>61</td>\n",
              "      <td>1</td>\n",
              "      <td>30.0</td>\n",
              "      <td>0.0</td>\n",
              "      <td>0</td>\n",
              "      <td>1</td>\n",
              "      <td>0</td>\n",
              "      <td>225.0</td>\n",
              "      <td>150.0</td>\n",
              "      <td>95.0</td>\n",
              "      <td>28.58</td>\n",
              "      <td>65.0</td>\n",
              "      <td>103.0</td>\n",
              "      <td>1</td>\n",
              "    </tr>\n",
              "    <tr>\n",
              "      <th>4</th>\n",
              "      <td>0</td>\n",
              "      <td>46</td>\n",
              "      <td>1</td>\n",
              "      <td>23.0</td>\n",
              "      <td>0.0</td>\n",
              "      <td>0</td>\n",
              "      <td>0</td>\n",
              "      <td>0</td>\n",
              "      <td>285.0</td>\n",
              "      <td>130.0</td>\n",
              "      <td>84.0</td>\n",
              "      <td>23.10</td>\n",
              "      <td>85.0</td>\n",
              "      <td>85.0</td>\n",
              "      <td>0</td>\n",
              "    </tr>\n",
              "  </tbody>\n",
              "</table>\n",
              "</div>"
            ],
            "text/plain": [
              "   male  age  currentSmoker  cigsPerDay  ...    BMI  heartRate  glucose  TenYearCHD\n",
              "0     1   39              0         0.0  ...  26.97       80.0     77.0           0\n",
              "1     0   46              0         0.0  ...  28.73       95.0     76.0           0\n",
              "2     1   48              1        20.0  ...  25.34       75.0     70.0           0\n",
              "3     0   61              1        30.0  ...  28.58       65.0    103.0           1\n",
              "4     0   46              1        23.0  ...  23.10       85.0     85.0           0\n",
              "\n",
              "[5 rows x 15 columns]"
            ]
          },
          "metadata": {},
          "execution_count": 4
        }
      ]
    },
    {
      "cell_type": "code",
      "metadata": {
        "colab": {
          "base_uri": "https://localhost:8080/"
        },
        "id": "saBPGKzDjg-w",
        "outputId": "faa10b29-221d-4548-fca5-ebc3f6b13f70"
      },
      "source": [
        "print(f'Se tienen {len(heart_df)} datos.')"
      ],
      "execution_count": null,
      "outputs": [
        {
          "output_type": "stream",
          "name": "stdout",
          "text": [
            "Se tienen 3749 datos.\n"
          ]
        }
      ]
    },
    {
      "cell_type": "markdown",
      "metadata": {
        "id": "4uiX0n2Cjg-w"
      },
      "source": [
        "### Análisis de Distribución de Clases\n",
        "\n",
        "En el diagrama a continuación puede observar un claro desbalanceo de los datos, en pasos posteriores hablaremos al respecto."
      ]
    },
    {
      "cell_type": "code",
      "metadata": {
        "colab": {
          "base_uri": "https://localhost:8080/",
          "height": 266
        },
        "id": "wAOPcHTAjg-x",
        "outputId": "039d12d1-22cb-402c-d88f-65ee3e06896f"
      },
      "source": [
        "heart_df['TenYearCHD'].value_counts().plot(kind='pie')"
      ],
      "execution_count": null,
      "outputs": [
        {
          "output_type": "execute_result",
          "data": {
            "text/plain": [
              "<matplotlib.axes._subplots.AxesSubplot at 0x7fb29bb1a690>"
            ]
          },
          "metadata": {},
          "execution_count": 6
        },
        {
          "output_type": "display_data",
          "data": {
            "image/png": "[encoded data removed]",
            "text/plain": [
              "<Figure size 432x288 with 1 Axes>"
            ]
          },
          "metadata": {}
        }
      ]
    },
    {
      "cell_type": "markdown",
      "metadata": {
        "id": "TC1oKxc4jg-x"
      },
      "source": [
        "## Descripción de Variables\n",
        "\n",
        "Cada atributo es un factor potencial de riesgo. Existen factores demográficos, conductuales y médicos.\n",
        "\n",
        "- Demográfico:\n",
        "\n",
        "    - male: masculino (1) o femenino (0); (Nominal)\n",
        "\n",
        "    - age: edad del paciente; (Continuo: aunque las edades registradas se han truncado a números enteros, el concepto de edad es continuo)\n",
        "\n",
        "- Comportacional:\n",
        "\n",
        "    - currentSmoker: si el paciente es o no fumador actual (nominal)\n",
        "\n",
        "    - cigsPerDay: la cantidad de cigarrillos que la persona fumó en promedio en un día (se puede considerar continuo ya que uno puede tener cualquier cantidad de cigarrillos, incluso medio cigarrillo).\n",
        "\n",
        "- Historia médica:\n",
        "\n",
        "    - BPMeds: si el paciente estaba o no tomando medicación para la presión arterial (nominal)\n",
        "\n",
        "    - prevalentStroke: si el paciente había tenido previamente un accidente cerebrovascular o no (nominal)\n",
        "\n",
        "    - prevalentHyp: si el paciente era hipertenso (nominal)\n",
        "\n",
        "    - diabetes: si el paciente tenía diabetes o no (nominal)\n",
        "\n",
        "- Estado Médico actual:\n",
        "\n",
        "    - totChol: nivel de colesterol total (continuo)\n",
        "\n",
        "    - sysBP: presión arterial sistólica (continua)\n",
        "\n",
        "    - diaBP: presión arterial diastólica (continua)\n",
        "\n",
        "    - IMC: índice de masa corporal (continuo)\n",
        "\n",
        "    - heartRate: frecuencia cardíaca (continua: en la investigación médica, variables como la frecuencia cardíaca, aunque de hecho son discretas, se consideran continuas debido a la gran cantidad de valores posibles).\n",
        "\n",
        "    - glucose: nivel de glucosa (continuo)\n",
        "\n",
        "- **Variable a Predecir**\n",
        "\n",
        "    - TenYearCHD: Riesgo de padecer enfermedad coronaria 10 años en el futuro (binario: \"1\", significa \"Sí\", \"0\" significa \"No\")"
      ]
    },
    {
      "cell_type": "code",
      "metadata": {
        "id": "RJdGP8cDjg-y"
      },
      "source": [
        "x = heart_df.iloc[:,:-1]\n",
        "y = heart_df.iloc[:,-1]\n",
        "\n",
        "x_train,x_test,y_train,y_test=train_test_split(x,y,test_size=.20,random_state=22)"
      ],
      "execution_count": null,
      "outputs": []
    },
    {
      "cell_type": "code",
      "metadata": {
        "id": "OMuxxrEsjg-y"
      },
      "source": [
        "scaler = MinMaxScaler() # Utilice un MinMaxScaler #\n",
        "x_train = scaler.fit_transform(x_train) # Ajuste y Aplique el Escalamiento (función fit_transform) #\n",
        "x_test = scaler.transform(x_test) # Aplique el Escalamiento (función transform) #"
      ],
      "execution_count": null,
      "outputs": []
    },
    {
      "cell_type": "markdown",
      "metadata": {
        "id": "AO7tIpEzjg-y"
      },
      "source": [
        "## Parte 1\n",
        "\n",
        "A continuación, debe utilizar la función `LogisticRegression` de SciKit-Learn para obtener un primer modelo de regresión logística y calcular su precisión a partir de la función `accuracy_score`.\n",
        "\n",
        "Obtenga resultados sobre los datos de entrenamiento y los datos de prueba. Concluya al respecto."
      ]
    },
    {
      "cell_type": "code",
      "metadata": {
        "colab": {
          "base_uri": "https://localhost:8080/"
        },
        "id": "lzE7LafUjg-y",
        "outputId": "ba3ca6de-4468-40b1-e9e1-fc7c63370ee5"
      },
      "source": [
        "logreg = LogisticRegression() # Modelo de Regresión Logística #\n",
        "logreg.fit(x_train, y_train) # Entrenamiento sobre los Datos #\n",
        "y_pred = logreg.predict(x_test) # Predicción de Etiquetas #\n",
        "\n",
        "print(f'Precisión inicial: {accuracy_score(y_test,y_pred)}')"
      ],
      "execution_count": null,
      "outputs": [
        {
          "output_type": "stream",
          "name": "stdout",
          "text": [
            "Precisión inicial: 0.844\n"
          ]
        }
      ]
    },
    {
      "cell_type": "markdown",
      "metadata": {
        "id": "UBH6WucGjg-y"
      },
      "source": [
        "### Matriz de Confusión\n",
        "\n",
        "Como recordará, la información en este dataset no posee una distribución de clases balanceada. La matriz de confusión es una herramienta que permite analizar el comportamiento del modelo para estos datos.\n",
        "\n",
        "Puede encontrar más información en este artículo: [Understanding Confusion Matrix](https://towardsdatascience.com/understanding-confusion-matrix-a9ad42dcfd62)"
      ]
    },
    {
      "cell_type": "code",
      "metadata": {
        "colab": {
          "base_uri": "https://localhost:8080/",
          "height": 338
        },
        "id": "44W7cn-Djg-z",
        "outputId": "7db469b4-4f9a-448a-d092-67112ce1f408"
      },
      "source": [
        "cm = confusion_matrix(y_test,y_pred)\n",
        "conf_matrix = pd.DataFrame(data=cm,columns=['Predicted:0','Predicted:1'],index=['Actual:0','Actual:1'])\n",
        "plt.figure(figsize = (8,5))\n",
        "sn.heatmap(conf_matrix, annot=True,fmt='d',cmap=\"YlGnBu\")"
      ],
      "execution_count": null,
      "outputs": [
        {
          "output_type": "execute_result",
          "data": {
            "text/plain": [
              "<matplotlib.axes._subplots.AxesSubplot at 0x7fb2979344d0>"
            ]
          },
          "metadata": {},
          "execution_count": 10
        },
        {
          "output_type": "display_data",
          "data": {
            "image/png": "[encoded data removed]",
            "text/plain": [
              "<Figure size 576x360 with 2 Axes>"
            ]
          },
          "metadata": {
            "needs_background": "light"
          }
        }
      ]
    },
    {
      "cell_type": "markdown",
      "metadata": {
        "id": "k1iwiRtSjg-z"
      },
      "source": [
        "### Tratamiento de Datos Desbalanceados\n",
        "\n",
        "En casos de estudio como identificación de tendencias patológicas, es común tener datos desbalanceados, o en los cuales la gravedad de cometer [errores tipo I o tipo II](https://www.simplypsychology.org/type_I_and_type_II_errors.html) son bastante diferentes. En muchos casos, se puede preferir cometer cierto tipo de error sobre el otro. Para trabajar con estos problemas, se suele preferir sacrificar algo de [precisión](https://developers.google.com/machine-learning/crash-course/classification/accuracy) del modelo, a cambio de una mejora en términos prácticos.\n",
        "\n",
        "Este proceso se realiza a partir de la modificación del umbral a partir del cual se decide si un dato pertenece a una clase u otra. Utilice la función `binarize` para obtener valores de `0` ó `1` según las probabilidades de las predicciones realizadas utilizando la función `model.predict_proba`.\n",
        "\n",
        "Algunas métricas utilizadas para interpretar el rendimiento del modelo son las siguientes:\n",
        "\n",
        "- F1Score\n",
        "- TP Rate / Recall / Sensitividad\n",
        "- TN Rate / Especificidad\n",
        "\n",
        "Puede encontrar más información sobre estas métricas en los artículos:\n",
        "- [Accuracy, Precision, Recall or F1?](https://towardsdatascience.com/accuracy-precision-recall-or-f1-331fb37c5cb9)\n",
        "- [Sensitivity Vs Specificity In Data Science](https://medium.com/fintechexplained/sensitivity-vs-specificity-in-data-science-2f673039dbd1)"
      ]
    },
    {
      "cell_type": "code",
      "metadata": {
        "scrolled": false,
        "colab": {
          "base_uri": "https://localhost:8080/"
        },
        "id": "GC_TXp0Hjg-z",
        "outputId": "a46a5603-8ba1-4031-b92b-e5b0e5f45f26"
      },
      "source": [
        "from sklearn.preprocessing import binarize\n",
        "\n",
        "umbrales = np.arange(0.05, 1, 0.05) # Vector que Contiene los Umbrales a Analizar #\n",
        "\n",
        "for umbral in umbrales:\n",
        "    cm2 = 0\n",
        "    y_pred_prob_yes = logreg.predict_proba(x_test) # Utilice la función predict_proba para calcular las probabilidades de pertenecer a la clase 1 #\n",
        "    y_pred2 = binarize(y_pred_prob_yes, threshold=umbral)[:,1] # Utilice la función binarize para convertir las probabilidades a clases 0 y 1 #\n",
        "    cm2 = confusion_matrix(y_test,y_pred2)\n",
        "    print(f'''->Para un umbral de {round(umbral,4)} tenemos esta matriz de confusión:\n",
        "{cm2}\n",
        "Con {cm2[0,0]+cm2[1,1]} predicciones correctas y {cm2[1,0]} falsos positivos.\n",
        "Sensitividad: {round(cm2[1,1]/(float(cm2[1,1]+cm2[1,0])), 4)} \\nEspecificidad: {round(cm2[0,0]/(float(cm2[0,0]+cm2[0,1])), 4)}\\nF1-score: {f1_score(y_test,y_pred2)} \\n''')\n"
      ],
      "execution_count": null,
      "outputs": [
        {
          "output_type": "stream",
          "name": "stdout",
          "text": [
            "->Para un umbral de 0.05 tenemos esta matriz de confusión:\n",
            "[[107 523]\n",
            " [  8 112]]\n",
            "Con 219 predicciones correctas y 8 falsos positivos.\n",
            "Sensitividad: 0.9333 \n",
            "Especificidad: 0.1698\n",
            "F1-score: 0.29668874172185433 \n",
            "\n",
            "->Para un umbral de 0.1 tenemos esta matriz de confusión:\n",
            "[[306 324]\n",
            " [ 18 102]]\n",
            "Con 408 predicciones correctas y 18 falsos positivos.\n",
            "Sensitividad: 0.85 \n",
            "Especificidad: 0.4857\n",
            "F1-score: 0.3736263736263736 \n",
            "\n",
            "->Para un umbral de 0.15 tenemos esta matriz de confusión:\n",
            "[[438 192]\n",
            " [ 35  85]]\n",
            "Con 523 predicciones correctas y 35 falsos positivos.\n",
            "Sensitividad: 0.7083 \n",
            "Especificidad: 0.6952\n",
            "F1-score: 0.4282115869017632 \n",
            "\n",
            "->Para un umbral de 0.2 tenemos esta matriz de confusión:\n",
            "[[512 118]\n",
            " [ 63  57]]\n",
            "Con 569 predicciones correctas y 63 falsos positivos.\n",
            "Sensitividad: 0.475 \n",
            "Especificidad: 0.8127\n",
            "F1-score: 0.3864406779661017 \n",
            "\n",
            "->Para un umbral de 0.25 tenemos esta matriz de confusión:\n",
            "[[545  85]\n",
            " [ 75  45]]\n",
            "Con 590 predicciones correctas y 75 falsos positivos.\n",
            "Sensitividad: 0.375 \n",
            "Especificidad: 0.8651\n",
            "F1-score: 0.35999999999999993 \n",
            "\n",
            "->Para un umbral de 0.3 tenemos esta matriz de confusión:\n",
            "[[583  47]\n",
            " [ 94  26]]\n",
            "Con 609 predicciones correctas y 94 falsos positivos.\n",
            "Sensitividad: 0.2167 \n",
            "Especificidad: 0.9254\n",
            "F1-score: 0.26943005181347146 \n",
            "\n",
            "->Para un umbral de 0.35 tenemos esta matriz de confusión:\n",
            "[[597  33]\n",
            " [ 99  21]]\n",
            "Con 618 predicciones correctas y 99 falsos positivos.\n",
            "Sensitividad: 0.175 \n",
            "Especificidad: 0.9476\n",
            "F1-score: 0.24137931034482757 \n",
            "\n",
            "->Para un umbral de 0.4 tenemos esta matriz de confusión:\n",
            "[[612  18]\n",
            " [104  16]]\n",
            "Con 628 predicciones correctas y 104 falsos positivos.\n",
            "Sensitividad: 0.1333 \n",
            "Especificidad: 0.9714\n",
            "F1-score: 0.2077922077922078 \n",
            "\n",
            "->Para un umbral de 0.45 tenemos esta matriz de confusión:\n",
            "[[622   8]\n",
            " [107  13]]\n",
            "Con 635 predicciones correctas y 107 falsos positivos.\n",
            "Sensitividad: 0.1083 \n",
            "Especificidad: 0.9873\n",
            "F1-score: 0.18439716312056734 \n",
            "\n",
            "->Para un umbral de 0.5 tenemos esta matriz de confusión:\n",
            "[[627   3]\n",
            " [114   6]]\n",
            "Con 633 predicciones correctas y 114 falsos positivos.\n",
            "Sensitividad: 0.05 \n",
            "Especificidad: 0.9952\n",
            "F1-score: 0.09302325581395349 \n",
            "\n",
            "->Para un umbral de 0.55 tenemos esta matriz de confusión:\n",
            "[[629   1]\n",
            " [116   4]]\n",
            "Con 633 predicciones correctas y 116 falsos positivos.\n",
            "Sensitividad: 0.0333 \n",
            "Especificidad: 0.9984\n",
            "F1-score: 0.064 \n",
            "\n",
            "->Para un umbral de 0.6 tenemos esta matriz de confusión:\n",
            "[[629   1]\n",
            " [119   1]]\n",
            "Con 630 predicciones correctas y 119 falsos positivos.\n",
            "Sensitividad: 0.0083 \n",
            "Especificidad: 0.9984\n",
            "F1-score: 0.01639344262295082 \n",
            "\n",
            "->Para un umbral de 0.65 tenemos esta matriz de confusión:\n",
            "[[629   1]\n",
            " [119   1]]\n",
            "Con 630 predicciones correctas y 119 falsos positivos.\n",
            "Sensitividad: 0.0083 \n",
            "Especificidad: 0.9984\n",
            "F1-score: 0.01639344262295082 \n",
            "\n",
            "->Para un umbral de 0.7 tenemos esta matriz de confusión:\n",
            "[[629   1]\n",
            " [119   1]]\n",
            "Con 630 predicciones correctas y 119 falsos positivos.\n",
            "Sensitividad: 0.0083 \n",
            "Especificidad: 0.9984\n",
            "F1-score: 0.01639344262295082 \n",
            "\n",
            "->Para un umbral de 0.75 tenemos esta matriz de confusión:\n",
            "[[629   1]\n",
            " [119   1]]\n",
            "Con 630 predicciones correctas y 119 falsos positivos.\n",
            "Sensitividad: 0.0083 \n",
            "Especificidad: 0.9984\n",
            "F1-score: 0.01639344262295082 \n",
            "\n",
            "->Para un umbral de 0.8 tenemos esta matriz de confusión:\n",
            "[[630   0]\n",
            " [119   1]]\n",
            "Con 631 predicciones correctas y 119 falsos positivos.\n",
            "Sensitividad: 0.0083 \n",
            "Especificidad: 1.0\n",
            "F1-score: 0.01652892561983471 \n",
            "\n",
            "->Para un umbral de 0.85 tenemos esta matriz de confusión:\n",
            "[[630   0]\n",
            " [119   1]]\n",
            "Con 631 predicciones correctas y 119 falsos positivos.\n",
            "Sensitividad: 0.0083 \n",
            "Especificidad: 1.0\n",
            "F1-score: 0.01652892561983471 \n",
            "\n",
            "->Para un umbral de 0.9 tenemos esta matriz de confusión:\n",
            "[[630   0]\n",
            " [120   0]]\n",
            "Con 630 predicciones correctas y 120 falsos positivos.\n",
            "Sensitividad: 0.0 \n",
            "Especificidad: 1.0\n",
            "F1-score: 0.0 \n",
            "\n",
            "->Para un umbral de 0.95 tenemos esta matriz de confusión:\n",
            "[[630   0]\n",
            " [120   0]]\n",
            "Con 630 predicciones correctas y 120 falsos positivos.\n",
            "Sensitividad: 0.0 \n",
            "Especificidad: 1.0\n",
            "F1-score: 0.0 \n",
            "\n"
          ]
        }
      ]
    },
    {
      "cell_type": "markdown",
      "metadata": {
        "id": "2hsxFKCR2LaK"
      },
      "source": [
        "En esta parte se decide adicionar la métrica F1-score la cual balancea los Falsos Positivos y los Falsos Negativos. Esta métrica permite determinar cual modelo tiene en general menos error (tipo 1 y tipo 2) sin dar prioridad a ninguno. \n",
        "\n",
        "\n",
        "De esto se encuentra que el mejor umbral es 0.15 ya que tiene un valor de F1-score de 0.4282 y, como se observa en su matriz de confunsión correspondiente, los errores tipo 1 y tipo 2 son menores que en los otros casos."
      ]
    },
    {
      "cell_type": "markdown",
      "metadata": {
        "id": "Iv7fhK64jg-z"
      },
      "source": [
        "Por otra parte, un criterio que facilita el visualizar este trade-off se conoce como la Curva ROC, en donde se ubican múltiples puntos para distintos valores del umbral de clasificación. Puede leer el artículo a continuación para una explicación más detallada:\n",
        "- Curva ROC: [Understanding AUC - ROC Curve](https://towardsdatascience.com/understanding-auc-roc-curve-68b2303cc9c5)"
      ]
    },
    {
      "cell_type": "code",
      "metadata": {
        "colab": {
          "base_uri": "https://localhost:8080/",
          "height": 366
        },
        "id": "SCvq3TZVjg-z",
        "outputId": "e0b4df14-26fd-4b8e-9be1-500759bcf080"
      },
      "source": [
        "from sklearn.metrics import roc_curve\n",
        "\n",
        "fpr, tpr, thresholds = roc_curve(y_test, y_pred_prob_yes[:,1])\n",
        "plt.plot(fpr,tpr)\n",
        "plt.xlim([0.0, 1.0])\n",
        "plt.ylim([0.0, 1.0])\n",
        "plt.title('Curva ROC para Clasificador de Enfermedad Coronaria')\n",
        "plt.xlabel('Tasa de Falsos Positivos (1-Especificidad)')\n",
        "plt.ylabel('Tasa de Verdaderos Positivos (Sensitividad)')\n",
        "plt.grid(True)\n",
        "\n",
        "for i in range(len(fpr)):\n",
        "  if fpr[i] >= 0.445:\n",
        "    break\n",
        "\n",
        "print(f'Coordenadas proporción: ({fpr[i]},{tpr[i]})\\nProporción: {tpr[i]/fpr[i]}\\n')\n",
        "print(f'AUC: {auc(fpr,tpr)}')"
      ],
      "execution_count": null,
      "outputs": [
        {
          "output_type": "stream",
          "name": "stdout",
          "text": [
            "Coordenadas proporción: (0.4936507936507937,0.825)\n",
            "Proporción: 1.6712218649517683\n",
            "\n",
            "AUC: 0.7348809523809523\n"
          ]
        },
        {
          "output_type": "display_data",
          "data": {
            "image/png": "[encoded data removed]",
            "text/plain": [
              "<Figure size 432x288 with 1 Axes>"
            ]
          },
          "metadata": {
            "needs_background": "light"
          }
        }
      ]
    },
    {
      "cell_type": "markdown",
      "metadata": {
        "id": "-XsaenDmpTli"
      },
      "source": [
        "**Observe la gráfica, y teniendo en cuenta los resultados concluya sobre la proporción que se puede considerar más adecuada en este contexto.**\n",
        "\n",
        "Dado que el valor de AUC (área debajo de la curva) es 0.7348 esto indica que el modelo tiene una probabilidad del 73.48% de distinguir entre una clase u otra.\n",
        "\n",
        "\n",
        "Ahora, para determinar la proporción más adecuada en el contexto, es primero necesario analizar la gráfica e identicar dónde se encuentra la parte mayor curvatura (aproximandamente entre 0.10 y 0.5 en el eje `x`).\n",
        "\n",
        "En términos del contexto, los verdaderos positivos corresponden a personas que tienen riesgo de padecer enfermedad coronaria 10 años en el futuro y el modelo lo predijo, mientras que los falsos positivos son personas que no tienen riesfo de padecerla pero que modelo predijo que si. En este contexto es importante poder identificar la mayor cantidad de personas que pueden sufrir la enfermedad (verdaderos positivos) con la finalidad de que hagan cambios en sus hábitos que le permitan disminuir el riesgo y hasta evitar sufirir la enfermedad. También es impotante no clasificar a todas las personas con riesgo de tener la enfermedad ya que un gran porcentaje de ellas no la tendrá; es en este punto donde se requiere balancear el hecho de detectar la mayor cantidad de personas que tienen riesgo de sufrirla (verdaderos positivos), y minimizar la cantidad de personas que el modelo predice mal (falsos positivos).\n",
        "\n",
        "Para esto, se analiza la gráfica y se tiene que el mayor crecimiento en el eje `y` se da entre `0<x<0.5` por lo que la proporción que se propone se encuentra en las coordenadas (`0.493 , 0.825`)\n",
        "\n",
        "\n"
      ]
    },
    {
      "cell_type": "markdown",
      "metadata": {
        "id": "hQk0H6ABjg-0"
      },
      "source": [
        "## Parte 2\n",
        "\n",
        "Ahora usted debe desarrollar su propia implementación del método Descenso de Gradiente estocástico para un modelo de regresión logística. Realice el entrenamiento a partir del 80% de los datos. Al final del entrenamiento, en la lista errores se deben tener los valores de la función de error para cada iteración y así poder observar el progreso gráficamente."
      ]
    },
    {
      "cell_type": "code",
      "metadata": {
        "colab": {
          "base_uri": "https://localhost:8080/",
          "height": 357
        },
        "id": "ansm0xgmjg-0",
        "outputId": "8e8586d2-db82-4a18-e63d-20b17b901a11"
      },
      "source": [
        "import random\n",
        "listTasas = []\n",
        "listPrecision= []\n",
        "listF1 = []\n",
        "listCM = []\n",
        "\n",
        "dir= {}\n",
        "\n",
        "np.random.seed(22)\n",
        "X_train_array = x_train\n",
        "y_train_array = y_train.values\n",
        "\n",
        "w0 = np.random.rand(X_train_array.shape[1]) # Inicialización de w #\n",
        "\n",
        "w = w0.copy()\n",
        "# Inicialización de criterio de parada (al disminuir el valor de eps, se aumenta la precisión y el tiempo de procesamiento)\n",
        "eps = 1e-5\n",
        "error = 100\n",
        "dif = 100\n",
        "\n",
        "def sigma(w,x):\n",
        "    res_sigmoid = 1/(1+np.exp((-1)*x.dot(np.transpose(w)))) # Salida de la función sigmoide #\n",
        "    return res_sigmoid\n",
        "\n",
        "tasas = [1e-6, 1e-5, 1e-4, 1e-3, 1e-2, 1e-1, 0.5, 1, 5, 10] # Defina un vector que contenga las tasas que desea probar #\n",
        "for tasa in tasas:\n",
        "    # while error>eps:         # Criterio de parada 1 #\n",
        "    for j in range (0, 100000):  # Criterio de parada 2 #\n",
        "      i = random.randint(0, np.size(y_train_array)-1) # Posición aleatoria # \n",
        "      xActual = X_train_array[i]\n",
        "      yActual = y_train_array[i]\n",
        "\n",
        "      g = sigma(w0, xActual)\n",
        "      error = g - yActual\n",
        "      w = w0 - tasa*error*xActual\n",
        "      w0 = w\n",
        "\n",
        "    X_test_array = x_test\n",
        "    y_test_array = y_test.values\n",
        "\n",
        "    y_pred = np.zeros(len(x_test))\n",
        "\n",
        "    for i in range(0,len(x_test)):\n",
        "      prob = sigma(w,X_test_array[i])\n",
        "      if prob>0.5:\n",
        "        y_pred[i] = 1\n",
        "      else:\n",
        "        y_pred[i] = 0\n",
        "    \n",
        "    listTasas.append(tasa)\n",
        "    listPrecision.append( round(accuracy_score(y_test,y_pred),3))\n",
        "    listF1.append(round(f1_score(y_test,y_pred),4))\n",
        "    listCM.append(confusion_matrix(y_test,y_pred))\n",
        "\n",
        "dir['Tasa'] = listTasas\n",
        "dir['Precisión'] = listPrecision\n",
        "dir['F1-score'] = listF1\n",
        "pd.set_option('max_colwidth', 120)\n",
        "df_dir = pd.DataFrame(dir)\n",
        "display(df_dir)"
      ],
      "execution_count": null,
      "outputs": [
        {
          "output_type": "display_data",
          "data": {
            "text/html": [
              "<div>\n",
              "<style scoped>\n",
              "    .dataframe tbody tr th:only-of-type {\n",
              "        vertical-align: middle;\n",
              "    }\n",
              "\n",
              "    .dataframe tbody tr th {\n",
              "        vertical-align: top;\n",
              "    }\n",
              "\n",
              "    .dataframe thead th {\n",
              "        text-align: right;\n",
              "    }\n",
              "</style>\n",
              "<table border=\"1\" class=\"dataframe\">\n",
              "  <thead>\n",
              "    <tr style=\"text-align: right;\">\n",
              "      <th></th>\n",
              "      <th>Tasa</th>\n",
              "      <th>Precisión</th>\n",
              "      <th>F1-score</th>\n",
              "    </tr>\n",
              "  </thead>\n",
              "  <tbody>\n",
              "    <tr>\n",
              "      <th>0</th>\n",
              "      <td>0.000001</td>\n",
              "      <td>0.160</td>\n",
              "      <td>0.2759</td>\n",
              "    </tr>\n",
              "    <tr>\n",
              "      <th>1</th>\n",
              "      <td>0.000010</td>\n",
              "      <td>0.160</td>\n",
              "      <td>0.2759</td>\n",
              "    </tr>\n",
              "    <tr>\n",
              "      <th>2</th>\n",
              "      <td>0.000100</td>\n",
              "      <td>0.840</td>\n",
              "      <td>0.0000</td>\n",
              "    </tr>\n",
              "    <tr>\n",
              "      <th>3</th>\n",
              "      <td>0.001000</td>\n",
              "      <td>0.840</td>\n",
              "      <td>0.0164</td>\n",
              "    </tr>\n",
              "    <tr>\n",
              "      <th>4</th>\n",
              "      <td>0.010000</td>\n",
              "      <td>0.833</td>\n",
              "      <td>0.0458</td>\n",
              "    </tr>\n",
              "    <tr>\n",
              "      <th>5</th>\n",
              "      <td>0.100000</td>\n",
              "      <td>0.832</td>\n",
              "      <td>0.0870</td>\n",
              "    </tr>\n",
              "    <tr>\n",
              "      <th>6</th>\n",
              "      <td>0.500000</td>\n",
              "      <td>0.815</td>\n",
              "      <td>0.1576</td>\n",
              "    </tr>\n",
              "    <tr>\n",
              "      <th>7</th>\n",
              "      <td>1.000000</td>\n",
              "      <td>0.708</td>\n",
              "      <td>0.4000</td>\n",
              "    </tr>\n",
              "    <tr>\n",
              "      <th>8</th>\n",
              "      <td>5.000000</td>\n",
              "      <td>0.825</td>\n",
              "      <td>0.1088</td>\n",
              "    </tr>\n",
              "    <tr>\n",
              "      <th>9</th>\n",
              "      <td>10.000000</td>\n",
              "      <td>0.837</td>\n",
              "      <td>0.0896</td>\n",
              "    </tr>\n",
              "  </tbody>\n",
              "</table>\n",
              "</div>"
            ],
            "text/plain": [
              "        Tasa  Precisión  F1-score\n",
              "0   0.000001      0.160    0.2759\n",
              "1   0.000010      0.160    0.2759\n",
              "2   0.000100      0.840    0.0000\n",
              "3   0.001000      0.840    0.0164\n",
              "4   0.010000      0.833    0.0458\n",
              "5   0.100000      0.832    0.0870\n",
              "6   0.500000      0.815    0.1576\n",
              "7   1.000000      0.708    0.4000\n",
              "8   5.000000      0.825    0.1088\n",
              "9  10.000000      0.837    0.0896"
            ]
          },
          "metadata": {}
        }
      ]
    },
    {
      "cell_type": "markdown",
      "metadata": {
        "id": "Hs32CUHG9Agh"
      },
      "source": [
        "Al analizar los diferentes resultados que se tienen al variar el valor de la tasa de aprendizaje se observa que cuando la tasa de aprendizaje es muy pequeña, el modelo no alcanza a converger en el número de pasos que se tienen y por eso la matriz de confusión que se tiene clasifica todos los datos como positivos (1) o todos como negativos (0) por lo que el modelo no funciona.\n",
        "\n",
        "Al aumentar el valor de la tasa el valor de f1-score mejora significativamente, para lo cual se observa que el mejor resultado de esta métrica se obtiene cuando la tasa se encuentra entre 1 y 10. En el caso que se presenta se obtuvo el mejor con tasa = 1.\n",
        "\n",
        "A continuación se presenta la matriz de confusión del modelo con el mejor valor de f1-score ya que como se mencionó anteriormenete esta métrica balancea los errores tipo 1 y tipo 2"
      ]
    },
    {
      "cell_type": "markdown",
      "metadata": {
        "id": "YiMZkOShjg-0"
      },
      "source": [
        "## Matriz de Confusión\n",
        "\n",
        "Observe y analice la matriz de confusión para su mejor modelo. Escriba claramente sus conclusiones."
      ]
    },
    {
      "cell_type": "code",
      "metadata": {
        "colab": {
          "base_uri": "https://localhost:8080/",
          "height": 338
        },
        "id": "mr99v7Mxjg-0",
        "outputId": "844207db-9ff6-4268-cbf9-a0b3d201cdff"
      },
      "source": [
        "index = listF1.index(max(listF1))\n",
        "conf_matrix = pd.DataFrame(data=listCM[index],columns=['Predicted:0','Predicted:1'],index=['Actual:0','Actual:1'])\n",
        "\n",
        "plt.figure(figsize = (8,5))\n",
        "sn.heatmap(conf_matrix, annot=True,fmt='d',cmap=\"YlGnBu\")"
      ],
      "execution_count": null,
      "outputs": [
        {
          "output_type": "execute_result",
          "data": {
            "text/plain": [
              "<matplotlib.axes._subplots.AxesSubplot at 0x7fb28eb42210>"
            ]
          },
          "metadata": {},
          "execution_count": 14
        },
        {
          "output_type": "display_data",
          "data": {
            "image/png": "[encoded data removed]",
            "text/plain": [
              "<Figure size 576x360 with 2 Axes>"
            ]
          },
          "metadata": {
            "needs_background": "light"
          }
        }
      ]
    },
    {
      "cell_type": "markdown",
      "metadata": {
        "id": "Pik57InJ975z"
      },
      "source": [
        "Se puede observar que el modelo logra identificar más de la mitad de los pacientes que tienen riesgo de padecer de la enfemedad y, la cantidad de pacientes que no tienen riesgo y el modelo las clasifica como que si lo tienen es mucho menor en comparación a la totalidad de las personas que no tienen riesgo de padecer la información.\n",
        "\n",
        "\n",
        "En conclusión, se observa que la métrica f1-score es buena en contextos como estos en los que se deben priorizar los dos tipos de error"
      ]
    }
  ]
}