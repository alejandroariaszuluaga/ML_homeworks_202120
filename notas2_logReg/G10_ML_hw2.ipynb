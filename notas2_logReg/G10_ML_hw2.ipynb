{
  "nbformat": 4,
  "nbformat_minor": 0,
  "metadata": {
    "kernelspec": {
      "display_name": "Python 3",
      "language": "python",
      "name": "python3"
    },
    "language_info": {
      "codemirror_mode": {
        "name": "ipython",
        "version": 3
      },
      "file_extension": ".py",
      "mimetype": "text/x-python",
      "name": "python",
      "nbconvert_exporter": "python",
      "pygments_lexer": "ipython3",
      "version": "3.8.10"
    },
    "colab": {
      "name": "ML_hw2.ipynb",
      "provenance": [],
      "collapsed_sections": []
    }
  },
  "cells": [
    {
      "cell_type": "markdown",
      "metadata": {
        "id": "LEVC_BYDSERF"
      },
      "source": [
        "# Regresión Logística: Predicción de Enfermedad Coronaria\n",
        "\n",
        "A continuación se observa un problema de clasificación binaria y se desea analizar una posible solución a partir de un modelo de regresión logística. Se busca implementar el algoritmo mencionado, inicialmente empleando la librería SciKit-Learn para luego desarrollar el mismo proceso de entrenamiento manualmente (Descenso de Gradiente Estocástico).\n",
        "\n",
        "También se introducirán algunos conceptos para lidiar con datos desbalanceados como: matriz de confusión, curva ROC, y algunas otras métricas importantes.\n",
        "\n",
        "Debe completar las celdas vacías y seguir las instrucciones anotadas en el cuaderno.\n",
        "\n",
        "La fecha límite de entrega es el día **20 de septiembre** y se realizará a través de Bloque Neón."
      ]
    },
    {
      "cell_type": "code",
      "metadata": {
        "id": "tqKd18SCSERH"
      },
      "source": [
        "import pandas as pd\n",
        "import numpy as np\n",
        "import random\n",
        "import statsmodels.api as sm\n",
        "import scipy.stats as st\n",
        "import matplotlib.pyplot as plt\n",
        "import seaborn as sn\n",
        "import sklearn\n",
        "from sklearn.linear_model import LogisticRegression\n",
        "from sklearn.model_selection import train_test_split\n",
        "from sklearn.metrics import confusion_matrix, accuracy_score\n",
        "from sklearn.preprocessing import OrdinalEncoder, MinMaxScaler, RobustScaler\n",
        "import matplotlib.mlab as mlab\n",
        "from sklearn.metrics import log_loss\n",
        "%matplotlib inline"
      ],
      "execution_count": 13,
      "outputs": []
    },
    {
      "cell_type": "code",
      "metadata": {
        "colab": {
          "resources": {
            "http://localhost:8080/nbextensions/google.colab/files.js": {
              "data": "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",
              "ok": true,
              "headers": [
                [
                  "content-type",
                  "application/javascript"
                ]
              ],
              "status": 200,
              "status_text": ""
            }
          },
          "base_uri": "https://localhost:8080/",
          "height": 38
        },
        "id": "8V_lVNFKpP3F",
        "outputId": "c7e05010-4a66-44f8-bf71-71004c8ca0e0"
      },
      "source": [
        "from google.colab import files\n",
        "uploaded = files.upload()\n",
        "for fn in uploaded.keys():\n",
        "  print('User uploaded file \"{name}\" with length {length} bytes'.format(\n",
        "      name=fn, length=len(uploaded[fn])))"
      ],
      "execution_count": 7,
      "outputs": [
        {
          "output_type": "display_data",
          "data": {
            "text/html": [
              "\n",
              "     <input type=\"file\" id=\"files-126fb7e0-07c5-452e-b53f-729ac923e56b\" name=\"files[]\" multiple disabled\n",
              "        style=\"border:none\" />\n",
              "     <output id=\"result-126fb7e0-07c5-452e-b53f-729ac923e56b\">\n",
              "      Upload widget is only available when the cell has been executed in the\n",
              "      current browser session. Please rerun this cell to enable.\n",
              "      </output>\n",
              "      <script src=\"/nbextensions/google.colab/files.js\"></script> "
            ],
            "text/plain": [
              "<IPython.core.display.HTML object>"
            ]
          },
          "metadata": {}
        }
      ]
    },
    {
      "cell_type": "code",
      "metadata": {
        "scrolled": true,
        "colab": {
          "base_uri": "https://localhost:8080/",
          "height": 224
        },
        "id": "56DYjDY_SERI",
        "outputId": "1488b742-b708-4bb6-9643-22939fc323c1"
      },
      "source": [
        "heart_df=pd.read_csv(\"framingham.csv\")\n",
        "heart_df.dropna(axis=0,inplace=True)\n",
        "heart_df.head()"
      ],
      "execution_count": 8,
      "outputs": [
        {
          "output_type": "execute_result",
          "data": {
            "text/html": [
              "<div>\n",
              "<style scoped>\n",
              "    .dataframe tbody tr th:only-of-type {\n",
              "        vertical-align: middle;\n",
              "    }\n",
              "\n",
              "    .dataframe tbody tr th {\n",
              "        vertical-align: top;\n",
              "    }\n",
              "\n",
              "    .dataframe thead th {\n",
              "        text-align: right;\n",
              "    }\n",
              "</style>\n",
              "<table border=\"1\" class=\"dataframe\">\n",
              "  <thead>\n",
              "    <tr style=\"text-align: right;\">\n",
              "      <th></th>\n",
              "      <th>male</th>\n",
              "      <th>age</th>\n",
              "      <th>currentSmoker</th>\n",
              "      <th>cigsPerDay</th>\n",
              "      <th>BPMeds</th>\n",
              "      <th>prevalentStroke</th>\n",
              "      <th>prevalentHyp</th>\n",
              "      <th>diabetes</th>\n",
              "      <th>totChol</th>\n",
              "      <th>sysBP</th>\n",
              "      <th>diaBP</th>\n",
              "      <th>BMI</th>\n",
              "      <th>heartRate</th>\n",
              "      <th>glucose</th>\n",
              "      <th>TenYearCHD</th>\n",
              "    </tr>\n",
              "  </thead>\n",
              "  <tbody>\n",
              "    <tr>\n",
              "      <th>0</th>\n",
              "      <td>1</td>\n",
              "      <td>39</td>\n",
              "      <td>0</td>\n",
              "      <td>0.0</td>\n",
              "      <td>0.0</td>\n",
              "      <td>0</td>\n",
              "      <td>0</td>\n",
              "      <td>0</td>\n",
              "      <td>195.0</td>\n",
              "      <td>106.0</td>\n",
              "      <td>70.0</td>\n",
              "      <td>26.97</td>\n",
              "      <td>80.0</td>\n",
              "      <td>77.0</td>\n",
              "      <td>0</td>\n",
              "    </tr>\n",
              "    <tr>\n",
              "      <th>1</th>\n",
              "      <td>0</td>\n",
              "      <td>46</td>\n",
              "      <td>0</td>\n",
              "      <td>0.0</td>\n",
              "      <td>0.0</td>\n",
              "      <td>0</td>\n",
              "      <td>0</td>\n",
              "      <td>0</td>\n",
              "      <td>250.0</td>\n",
              "      <td>121.0</td>\n",
              "      <td>81.0</td>\n",
              "      <td>28.73</td>\n",
              "      <td>95.0</td>\n",
              "      <td>76.0</td>\n",
              "      <td>0</td>\n",
              "    </tr>\n",
              "    <tr>\n",
              "      <th>2</th>\n",
              "      <td>1</td>\n",
              "      <td>48</td>\n",
              "      <td>1</td>\n",
              "      <td>20.0</td>\n",
              "      <td>0.0</td>\n",
              "      <td>0</td>\n",
              "      <td>0</td>\n",
              "      <td>0</td>\n",
              "      <td>245.0</td>\n",
              "      <td>127.5</td>\n",
              "      <td>80.0</td>\n",
              "      <td>25.34</td>\n",
              "      <td>75.0</td>\n",
              "      <td>70.0</td>\n",
              "      <td>0</td>\n",
              "    </tr>\n",
              "    <tr>\n",
              "      <th>3</th>\n",
              "      <td>0</td>\n",
              "      <td>61</td>\n",
              "      <td>1</td>\n",
              "      <td>30.0</td>\n",
              "      <td>0.0</td>\n",
              "      <td>0</td>\n",
              "      <td>1</td>\n",
              "      <td>0</td>\n",
              "      <td>225.0</td>\n",
              "      <td>150.0</td>\n",
              "      <td>95.0</td>\n",
              "      <td>28.58</td>\n",
              "      <td>65.0</td>\n",
              "      <td>103.0</td>\n",
              "      <td>1</td>\n",
              "    </tr>\n",
              "    <tr>\n",
              "      <th>4</th>\n",
              "      <td>0</td>\n",
              "      <td>46</td>\n",
              "      <td>1</td>\n",
              "      <td>23.0</td>\n",
              "      <td>0.0</td>\n",
              "      <td>0</td>\n",
              "      <td>0</td>\n",
              "      <td>0</td>\n",
              "      <td>285.0</td>\n",
              "      <td>130.0</td>\n",
              "      <td>84.0</td>\n",
              "      <td>23.10</td>\n",
              "      <td>85.0</td>\n",
              "      <td>85.0</td>\n",
              "      <td>0</td>\n",
              "    </tr>\n",
              "  </tbody>\n",
              "</table>\n",
              "</div>"
            ],
            "text/plain": [
              "   male  age  currentSmoker  cigsPerDay  ...    BMI  heartRate  glucose  TenYearCHD\n",
              "0     1   39              0         0.0  ...  26.97       80.0     77.0           0\n",
              "1     0   46              0         0.0  ...  28.73       95.0     76.0           0\n",
              "2     1   48              1        20.0  ...  25.34       75.0     70.0           0\n",
              "3     0   61              1        30.0  ...  28.58       65.0    103.0           1\n",
              "4     0   46              1        23.0  ...  23.10       85.0     85.0           0\n",
              "\n",
              "[5 rows x 15 columns]"
            ]
          },
          "metadata": {},
          "execution_count": 8
        }
      ]
    },
    {
      "cell_type": "code",
      "metadata": {
        "colab": {
          "base_uri": "https://localhost:8080/"
        },
        "id": "TqjHfqy7SERJ",
        "outputId": "ba45e2fc-3a37-4628-f0f4-3117617cb0bc"
      },
      "source": [
        "print(f'Se tienen {len(heart_df)} datos.')"
      ],
      "execution_count": 9,
      "outputs": [
        {
          "output_type": "stream",
          "name": "stdout",
          "text": [
            "Se tienen 3749 datos.\n"
          ]
        }
      ]
    },
    {
      "cell_type": "markdown",
      "metadata": {
        "id": "FflLpCK2SERJ"
      },
      "source": [
        "### Análisis de Distribución de Clases\n",
        "\n",
        "En el diagrama a continuación puede observar un claro desbalanceo de los datos, en pasos posteriores hablaremos al respecto."
      ]
    },
    {
      "cell_type": "code",
      "metadata": {
        "colab": {
          "base_uri": "https://localhost:8080/",
          "height": 265
        },
        "id": "onI5PPjESERJ",
        "outputId": "33ecfbf9-7d3a-4d71-ef62-3a3cd9943d7f"
      },
      "source": [
        "heart_df['TenYearCHD'].value_counts().plot(kind='pie')"
      ],
      "execution_count": null,
      "outputs": [
        {
          "output_type": "execute_result",
          "data": {
            "text/plain": [
              "<matplotlib.axes._subplots.AxesSubplot at 0x7f87697546d0>"
            ]
          },
          "metadata": {},
          "execution_count": 5
        },
        {
          "output_type": "display_data",
          "data": {
            "image/png": "[encoded data removed]",
            "text/plain": [
              "<Figure size 432x288 with 1 Axes>"
            ]
          },
          "metadata": {}
        }
      ]
    },
    {
      "cell_type": "markdown",
      "metadata": {
        "id": "ukehr2bDSERK"
      },
      "source": [
        "## Descripción de Variables\n",
        "\n",
        "Cada atributo es un factor potencial de riesgo. Existen factores demográficos, conductuales y médicos.\n",
        "\n",
        "- Demográfico:\n",
        "\n",
        "    - male: masculino (1) o femenino (0); (Nominal)\n",
        "\n",
        "    - age: edad del paciente; (Continuo: aunque las edades registradas se han truncado a números enteros, el concepto de edad es continuo)\n",
        "\n",
        "- Comportacional:\n",
        "\n",
        "    - currentSmoker: si el paciente es o no fumador actual (nominal)\n",
        "\n",
        "    - cigsPerDay: la cantidad de cigarrillos que la persona fumó en promedio en un día (se puede considerar continuo ya que uno puede tener cualquier cantidad de cigarrillos, incluso medio cigarrillo).\n",
        "\n",
        "- Historia médica:\n",
        "\n",
        "    - BPMeds: si el paciente estaba o no tomando medicación para la presión arterial (nominal)\n",
        "\n",
        "    - prevalentStroke: si el paciente había tenido previamente un accidente cerebrovascular o no (nominal)\n",
        "\n",
        "    - prevalentHyp: si el paciente era hipertenso (nominal)\n",
        "\n",
        "    - diabetes: si el paciente tenía diabetes o no (nominal)\n",
        "\n",
        "- Estado Médico actual:\n",
        "\n",
        "    - totChol: nivel de colesterol total (continuo)\n",
        "\n",
        "    - sysBP: presión arterial sistólica (continua)\n",
        "\n",
        "    - diaBP: presión arterial diastólica (continua)\n",
        "\n",
        "    - IMC: índice de masa corporal (continuo)\n",
        "\n",
        "    - heartRate: frecuencia cardíaca (continua: en la investigación médica, variables como la frecuencia cardíaca, aunque de hecho son discretas, se consideran continuas debido a la gran cantidad de valores posibles).\n",
        "\n",
        "    - glucose: nivel de glucosa (continuo)\n",
        "\n",
        "- **Variable a Predecir**\n",
        "\n",
        "    - TenYearCHD: Riesgo de padecer enfermedad coronaria 10 años en el futuro (binario: \"1\", significa \"Sí\", \"0\" significa \"No\")"
      ]
    },
    {
      "cell_type": "code",
      "metadata": {
        "id": "N3z6429TSERK"
      },
      "source": [
        "x = heart_df.values\n",
        "scaler = MinMaxScaler()\n",
        "x_scaled = scaler.fit_transform(x)\n",
        "heart_df_scaled = pd.DataFrame(x_scaled, columns=heart_df.columns) # Conversión a un DataFrame #"
      ],
      "execution_count": 10,
      "outputs": []
    },
    {
      "cell_type": "code",
      "metadata": {
        "id": "CUKkcFUTSERL"
      },
      "source": [
        "x = heart_df_scaled.iloc[:,:-1]\n",
        "y = heart_df_scaled.iloc[:,-1]\n",
        "\n",
        "x_train,x_test,y_train,y_test=train_test_split(x,y,test_size=0.2,random_state=20)"
      ],
      "execution_count": 11,
      "outputs": []
    },
    {
      "cell_type": "markdown",
      "metadata": {
        "id": "eZflD9AdSERL"
      },
      "source": [
        "## Parte 1\n",
        "\n",
        "A continuación, debe utilizar la función `LogisticRegression` de SciKit-Learn para obtener un primer modelo de regresión logística y calcular su precisión a partir de la función `accuracy_score`.\n",
        "\n",
        "Obtenga resultados sobre los datos de entrenamiento y los datos de prueba. Concluya al respecto."
      ]
    },
    {
      "cell_type": "code",
      "metadata": {
        "colab": {
          "base_uri": "https://localhost:8080/"
        },
        "id": "W_kj-sEJSERM",
        "outputId": "c92b1a8a-2ef6-4b14-9208-9f6a15157c4d"
      },
      "source": [
        "logreg = LogisticRegression().fit(x_train,y_train)\n",
        "y_pred = logreg.predict(x_test) \n",
        "\n",
        "score = accuracy_score(y_test,y_pred)\n",
        "score2 = accuracy_score(y_test,y_pred,normalize=False)\n",
        "\n",
        "print(f'Precisión inicial: {round(score*100,ndigits=2)}%')\n",
        "print(f'Es decir predijo bien: {score2} de {y_test.size}')"
      ],
      "execution_count": null,
      "outputs": [
        {
          "output_type": "stream",
          "name": "stdout",
          "text": [
            "Precisión inicial: 84.53%\n",
            "Es decir predijo bien: 634 de 750\n"
          ]
        }
      ]
    },
    {
      "cell_type": "markdown",
      "metadata": {
        "id": "cxQ-U1Hkpcuo"
      },
      "source": [
        "**Análisis**\n",
        "\n",
        "Se puede observar que la precisión inicial del modelo es mayor al 80% lo cual es una buena aproximación. Sin embargo, no se puede olvidar que se tiene un set de **datos desbalanceado**, esto implica que esta medida del error no este mostrando el verdadero rendimiento del modelo."
      ]
    },
    {
      "cell_type": "markdown",
      "metadata": {
        "id": "6G3q_AAASERM"
      },
      "source": [
        "### Matriz de Confusión\n",
        "\n",
        "Como recordará, la información en este dataset no posee una distribución de clases balanceada. La matriz de confusión es una herramienta que permite analizar el comportamiento del modelo para estos datos.\n",
        "\n",
        "Puede encontrar más información en este artículo: [Understanding Confusion Matrix](https://towardsdatascience.com/understanding-confusion-matrix-a9ad42dcfd62)"
      ]
    },
    {
      "cell_type": "code",
      "metadata": {
        "colab": {
          "base_uri": "https://localhost:8080/",
          "height": 336
        },
        "id": "bLQcAzkTSERM",
        "outputId": "4a901799-f993-47ed-ac8f-57beb96376ed"
      },
      "source": [
        "import collections\n",
        "cm = confusion_matrix(y_test,y_pred)\n",
        "conf_matrix = pd.DataFrame(data=cm,columns=['Predicted:0','Predicted:1'],index=['Actual:0','Actual:1'])\n",
        "plt.figure(figsize = (8,5))\n",
        "sn.heatmap(conf_matrix, annot=True,fmt='d',cmap=\"YlGnBu\")"
      ],
      "execution_count": null,
      "outputs": [
        {
          "output_type": "execute_result",
          "data": {
            "text/plain": [
              "<matplotlib.axes._subplots.AxesSubplot at 0x7f74be670850>"
            ]
          },
          "metadata": {},
          "execution_count": 8
        },
        {
          "output_type": "display_data",
          "data": {
            "image/png": "[encoded data removed]",
            "text/plain": [
              "<Figure size 576x360 with 2 Axes>"
            ]
          },
          "metadata": {
            "needs_background": "light"
          }
        }
      ]
    },
    {
      "cell_type": "markdown",
      "metadata": {
        "id": "NR-_ErVdSERN"
      },
      "source": [
        "### Tratamiento de Datos Desbalanceados\n",
        "\n",
        "En casos de estudio como identificación de tendencias patológicas, es común tener datos desbalanceados, o en los cuales la gravedad de cometer [errores tipo I o tipo II](https://www.simplypsychology.org/type_I_and_type_II_errors.html) son bastante diferentes. En muchos casos, se puede preferir cometer cierto tipo de error sobre el otro. Para trabajar con estos problemas, se suele preferir sacrificar algo de [precisión](https://developers.google.com/machine-learning/crash-course/classification/accuracy) del modelo, a cambio de una mejora en términos prácticos.\n",
        "\n",
        "Este proceso se realiza a partir de la modificación del umbral a partir del cual se decide si un dato pertenece a una clase u otra. Utilice la función `binarize` para obtener valores de `0` ó `1` según las probabilidades de las predicciones realizadas utilizando la función `model.predict_proba`.\n",
        "\n",
        "Algunas métricas utilizadas para interpretar el rendimiento del modelo son las siguientes:\n",
        "\n",
        "- F1Score\n",
        "- TP Rate / Recall / Sensitividad\n",
        "- TN Rate / Especificidad\n",
        "\n",
        "Puede encontrar más información sobre estas métricas en los artículos:\n",
        "- [Accuracy, Precision, Recall or F1?](https://towardsdatascience.com/accuracy-precision-recall-or-f1-331fb37c5cb9)\n",
        "- [Sensitivity Vs Specificity In Data Science](https://medium.com/fintechexplained/sensitivity-vs-specificity-in-data-science-2f673039dbd1)"
      ]
    },
    {
      "cell_type": "code",
      "metadata": {
        "colab": {
          "base_uri": "https://localhost:8080/"
        },
        "id": "pp8sWfuyufQC",
        "outputId": "54db4b01-b489-4dc8-8bc2-c684732953d0"
      },
      "source": [
        "print(logreg.classes_) #Esto es para saber como organizo las clases el modelo."
      ],
      "execution_count": null,
      "outputs": [
        {
          "output_type": "stream",
          "name": "stdout",
          "text": [
            "[0. 1.]\n"
          ]
        }
      ]
    },
    {
      "cell_type": "code",
      "metadata": {
        "scrolled": false,
        "colab": {
          "base_uri": "https://localhost:8080/"
        },
        "id": "K4wP89l-SERN",
        "outputId": "cc6ca39e-ef3b-43b9-dc4d-03cb768b7389"
      },
      "source": [
        "from sklearn.preprocessing import binarize\n",
        "\n",
        "umbrales = np.random.rand(10)# Vector que Contiene los Umbrales a Analizar #\n",
        "\n",
        "for umbral in umbrales:\n",
        "    cm2 = 0\n",
        "    y_pred_prob_yes = logreg.predict_proba(x_test)# Utilice la función predict_proba para calcular las probabilidades de pertenecer a la clase 1 #\n",
        "    y_pred2 = binarize(y_pred_prob_yes[:,1].reshape(-1,1),threshold=umbral)# Utilice la función binarize para convertir las probabilidades a clases 0 y 1 #\n",
        "    cm2 = confusion_matrix(y_test,y_pred2)\n",
        "    print(f'''->Para un umbral de {round(umbral,4)} tenemos esta matriz de confusión:\n",
        "{np.array([['TN','FP'],['FN','TP']])}\n",
        "{cm2}\n",
        "Con {cm2[0,0]+cm2[1,1]} predicciones correctas y {cm2[1,0]} falsos negativo.\n",
        "Recall: {round(cm2[1,1]/(float(cm2[1,1]+cm2[1,0])), 4)} Precision: {round(cm2[1,1]/(float(cm2[1,1]+cm2[0,1])), 4)}\\n''')\n"
      ],
      "execution_count": null,
      "outputs": [
        {
          "output_type": "stream",
          "name": "stdout",
          "text": [
            "->Para un umbral de 0.1674 tenemos esta matriz de confusión:\n",
            "[['TN' 'FP']\n",
            " ['FN' 'TP']]\n",
            "[[455 173]\n",
            " [ 45  77]]\n",
            "Con 532 predicciones correctas y 45 falsos negativo.\n",
            "Recall: 0.6311 Precision: 0.308\n",
            "\n",
            "->Para un umbral de 0.8186 tenemos esta matriz de confusión:\n",
            "[['TN' 'FP']\n",
            " ['FN' 'TP']]\n",
            "[[628   0]\n",
            " [122   0]]\n",
            "Con 628 predicciones correctas y 122 falsos negativo.\n",
            "Recall: 0.0 Precision: nan\n",
            "\n",
            "->Para un umbral de 0.4986 tenemos esta matriz de confusión:\n",
            "[['TN' 'FP']\n",
            " ['FN' 'TP']]\n",
            "[[624   4]\n",
            " [111  11]]\n",
            "Con 635 predicciones correctas y 111 falsos negativo.\n",
            "Recall: 0.0902 Precision: 0.7333\n",
            "\n",
            "->Para un umbral de 0.1604 tenemos esta matriz de confusión:\n",
            "[['TN' 'FP']\n",
            " ['FN' 'TP']]\n",
            "[[442 186]\n",
            " [ 43  79]]\n",
            "Con 521 predicciones correctas y 43 falsos negativo.\n",
            "Recall: 0.6475 Precision: 0.2981\n",
            "\n",
            "->Para un umbral de 0.5372 tenemos esta matriz de confusión:\n",
            "[['TN' 'FP']\n",
            " ['FN' 'TP']]\n",
            "[[625   3]\n",
            " [118   4]]\n",
            "Con 629 predicciones correctas y 118 falsos negativo.\n",
            "Recall: 0.0328 Precision: 0.5714\n",
            "\n",
            "->Para un umbral de 0.9914 tenemos esta matriz de confusión:\n",
            "[['TN' 'FP']\n",
            " ['FN' 'TP']]\n",
            "[[628   0]\n",
            " [122   0]]\n",
            "Con 628 predicciones correctas y 122 falsos negativo.\n",
            "Recall: 0.0 Precision: nan\n",
            "\n",
            "->Para un umbral de 0.4078 tenemos esta matriz de confusión:\n",
            "[['TN' 'FP']\n",
            " ['FN' 'TP']]\n",
            "[[612  16]\n",
            " [104  18]]\n",
            "Con 630 predicciones correctas y 104 falsos negativo.\n",
            "Recall: 0.1475 Precision: 0.5294\n",
            "\n",
            "->Para un umbral de 0.5611 tenemos esta matriz de confusión:\n",
            "[['TN' 'FP']\n",
            " ['FN' 'TP']]\n",
            "[[626   2]\n",
            " [119   3]]\n",
            "Con 629 predicciones correctas y 119 falsos negativo.\n",
            "Recall: 0.0246 Precision: 0.6\n",
            "\n",
            "->Para un umbral de 0.0393 tenemos esta matriz de confusión:\n",
            "[['TN' 'FP']\n",
            " ['FN' 'TP']]\n",
            "[[ 52 576]\n",
            " [  2 120]]\n",
            "Con 172 predicciones correctas y 2 falsos negativo.\n",
            "Recall: 0.9836 Precision: 0.1724\n",
            "\n",
            "->Para un umbral de 0.4172 tenemos esta matriz de confusión:\n",
            "[['TN' 'FP']\n",
            " ['FN' 'TP']]\n",
            "[[614  14]\n",
            " [104  18]]\n",
            "Con 632 predicciones correctas y 104 falsos negativo.\n",
            "Recall: 0.1475 Precision: 0.5625\n",
            "\n"
          ]
        },
        {
          "output_type": "stream",
          "name": "stderr",
          "text": [
            "/usr/local/lib/python3.7/dist-packages/ipykernel_launcher.py:14: RuntimeWarning: invalid value encountered in true_divide\n",
            "  \n",
            "/usr/local/lib/python3.7/dist-packages/ipykernel_launcher.py:14: RuntimeWarning: invalid value encountered in true_divide\n",
            "  \n"
          ]
        }
      ]
    },
    {
      "cell_type": "markdown",
      "metadata": {
        "id": "fLvV8XxiSERO"
      },
      "source": [
        "Por otra parte, un criterio que facilita el visualizar este trade-off se conoce como la Curva ROC, en donde se ubican múltiples puntos para distintos valores del umbral de clasificación. Puede leer el artículo a continuación para una explicación más detallada:\n",
        "- Curva ROC: [Understanding AUC - ROC Curve](https://towardsdatascience.com/understanding-auc-roc-curve-68b2303cc9c5)"
      ]
    },
    {
      "cell_type": "code",
      "metadata": {
        "colab": {
          "base_uri": "https://localhost:8080/",
          "height": 312
        },
        "id": "x4o399BQSERO",
        "outputId": "8a2cb135-5398-420d-f510-05dba9d1d0e6"
      },
      "source": [
        "from sklearn.metrics import roc_curve\n",
        "\n",
        "fpr, tpr, thresholds = roc_curve(y_test, y_pred_prob_yes[:,1])\n",
        "plt.plot(fpr,tpr)\n",
        "plt.xlim([0.0, 1.0])\n",
        "plt.ylim([0.0, 1.0])\n",
        "plt.title('Curva ROC para Clasificador de Enfermedad Coronaria')\n",
        "plt.xlabel('Tasa de Falsos Positivos (1-Especificidad)')\n",
        "plt.ylabel('Tasa de Verdaderos Positivos (Sensitividad)')\n",
        "plt.grid(True)\n",
        "\n",
        "sklearn.metrics.roc_auc_score(y_test,y_pred_prob_yes[:,1])"
      ],
      "execution_count": null,
      "outputs": [
        {
          "output_type": "execute_result",
          "data": {
            "text/plain": [
              "0.7338806515610317"
            ]
          },
          "metadata": {},
          "execution_count": 11
        },
        {
          "output_type": "display_data",
          "data": {
            "image/png": "[encoded data removed]",
            "text/plain": [
              "<Figure size 432x288 with 1 Axes>"
            ]
          },
          "metadata": {
            "needs_background": "light"
          }
        }
      ]
    },
    {
      "cell_type": "markdown",
      "metadata": {
        "id": "9OqMTRtiqfsq"
      },
      "source": [
        "**Curva ROC**\n",
        "\n",
        "Se conoce que cuanto mayor sea el AUC, mejor será el modelo para predecir la clase 0 como 0 y la clase 1 como 1 y, de la función calculada, este valor es de 0.73 lo que indica que a pesar de que no se tiene una cercanía a 1 posee cierta medida de separabilidad. De este modo, hay un 73% de posibilidades de que el modelo pueda distinguir entre la clase positiva y la clase negativa."
      ]
    },
    {
      "cell_type": "markdown",
      "metadata": {
        "id": "QsdWHDO_SERO"
      },
      "source": [
        "Observe la gráfica, y teniendo en cuenta los resultados concluya sobre la proporción que se puede considerar más adecuada en este contexto.\n",
        "\n",
        "## Parte 2\n",
        "\n",
        "Ahora usted debe desarrollar su propia implementación del método Descenso de Gradiente estocástico para un modelo de regresión logística. Realice el entrenamiento a partir del 80% de los datos. Al final del entrenamiento, en la lista errores se deben tener los valores de la función de error para cada iteración y así poder observar el progreso gráficamente."
      ]
    },
    {
      "cell_type": "code",
      "metadata": {
        "id": "oYiBocLstM47"
      },
      "source": [
        "np.random.seed(22)\n",
        "X_train_array = np.c_[np.ones(x_train.values.shape[0]), x_train.values]\n",
        "y_train_array = y_train.values"
      ],
      "execution_count": null,
      "outputs": []
    },
    {
      "cell_type": "markdown",
      "metadata": {
        "id": "LRuEGRlW3G-M"
      },
      "source": [
        "#Este es un analisis de velocidad de convergencia.\n",
        "En donde vamos a mirar el mismo modelo con el mismo Learning rate, para observar que diferencia obtenemos."
      ]
    },
    {
      "cell_type": "code",
      "metadata": {
        "id": "nkp4tA37SERP",
        "colab": {
          "base_uri": "https://localhost:8080/"
        },
        "outputId": "19c08d5c-090b-4b74-947e-a72428cf826b"
      },
      "source": [
        "random.seed(22)\n",
        "\n",
        "X_train_array = np.c_[np.ones(x_train.values.shape[0]), x_train.values]\n",
        "y_train_array = y_train.values\n",
        "y_train_array = y_train_array.reshape(-1,1)\n",
        "\n",
        "w0 = np.random.rand(X_train_array.shape[1]) # Inicialización de w#\n",
        "\n",
        "w = w0.copy()\n",
        "wi = w\n",
        "# Inicialización de criterio de parada (al disminuir el valor de eps, se aumenta la precisión y el tiempo de procesamiento)\n",
        "eps = 0.39\n",
        "\n",
        "def sigma(w,x):\n",
        "  w = w.reshape(-1,1)\n",
        "  res_sigmoid = 1/(1+np.exp(-np.dot(x,w)))\n",
        "  return res_sigmoid\n",
        "\n",
        "iter = 1000\n",
        "\n",
        "aveItera = np.zeros((20,5))\n",
        "tasas = np.arange(1,6,1,dtype=np.float64)\n",
        "for h in range(20):\n",
        "  w0 = np.random.rand(X_train_array.shape[1]) # Inicialización de w#\n",
        "  w = w0.copy()\n",
        "  for idx,tasa in enumerate(tasas):\n",
        "    cont = 0\n",
        "    errores = np.array([])\n",
        "    error = 100\n",
        "  \n",
        "    while cont <= iter and error > eps:\n",
        "      i = random.randint(0,X_train_array.shape[0]-1)\n",
        "      x,y = X_train_array[i],y_train_array[i]\n",
        "      g = sigma(w,x)\n",
        "      e = y - g\n",
        "      tasa = (10**-tasa)\n",
        "      w1 = w + tasa*e*x\n",
        "\n",
        "    #Calculo del error de entropia cruzada.\n",
        "      pred = sigma(w1,X_train_array)\n",
        "      error = log_loss(y_train_array,pred) \n",
        "      errores = np.append(errores,error)\n",
        "    #Actualizaciòn de vector con los pesos.\n",
        "      w = w1\n",
        "      cont += 1\n",
        "  \n",
        "    aveItera[h,idx] = cont\n",
        "\n",
        "    #Volver a colocar los w iniciales.\n",
        "    w = w0\n",
        "\n",
        "print(aveItera)\n",
        "print(\"El promedio por tasa es\")\n",
        "print(np.array([\"1e-1\",\"1e-2\",\"1e-3\",\"1e-4\",\"1e-5\",]))\n",
        "print(np.mean(aveItera,axis=0))\n",
        "  "
      ],
      "execution_count": null,
      "outputs": [
        {
          "output_type": "stream",
          "name": "stdout",
          "text": [
            "[[407. 651. 305. 416. 371.]\n",
            " [559. 800. 573. 468. 484.]\n",
            " [291. 803. 594. 464. 355.]\n",
            " [639. 484. 577. 831. 617.]\n",
            " [692. 364. 370. 439. 519.]\n",
            " [515. 592. 668. 696. 336.]\n",
            " [418. 334. 346. 748. 489.]\n",
            " [327. 534. 605. 463. 539.]\n",
            " [479. 673. 314. 197. 689.]\n",
            " [667. 489. 670. 414. 865.]\n",
            " [798. 856. 523. 585. 563.]\n",
            " [451. 393. 332. 659. 410.]\n",
            " [759. 360. 449. 498. 378.]\n",
            " [513. 296. 420. 294. 463.]\n",
            " [101. 368. 543. 306. 205.]\n",
            " [515. 928. 603. 271. 679.]\n",
            " [430. 302. 364. 712. 556.]\n",
            " [543. 399. 682. 529. 505.]\n",
            " [833. 495. 928. 627. 569.]\n",
            " [481. 739. 397. 265. 508.]]\n",
            "El promedio por tasa es\n",
            "['1e-1' '1e-2' '1e-3' '1e-4' '1e-5']\n",
            "[520.9  543.   513.15 494.1  505.  ]\n"
          ]
        }
      ]
    },
    {
      "cell_type": "markdown",
      "metadata": {
        "id": "oIl9TRXXVFbo"
      },
      "source": [
        "Despues de realizar varias iteraciones, no parece haber un valor exacto del learning rate que nos asegure que va a converger mas rapido que los otros, sin embargo se aprecia que los mejores resultados siempre estuvieron entre '1e-3' y '1e-4', por lo que se toma '1e-3' para el siguiente analisis."
      ]
    },
    {
      "cell_type": "code",
      "metadata": {
        "colab": {
          "base_uri": "https://localhost:8080/",
          "height": 367
        },
        "id": "QZXZ3lhs-gmi",
        "outputId": "1629c647-d21f-44a8-8509-29c87721c591"
      },
      "source": [
        "from sklearn.metrics import log_loss\n",
        "np.random.seed(22)\n",
        "random.seed(22)\n",
        "\n",
        "X_train_array = np.c_[np.ones(x_train.values.shape[0]), x_train.values]\n",
        "y_train_array = y_train.values\n",
        "y_train_array = y_train_array.reshape(-1,1)\n",
        "\n",
        "w0 = np.random.rand(X_train_array.shape[1]) # Inicialización de w #\n",
        "\n",
        "w = w0.copy()\n",
        "# Inicialización de criterio de parada (al disminuir el valor de eps, se aumenta la precisión y el tiempo de procesamiento)\n",
        "eps = 1e-3\n",
        "error = 100\n",
        "\n",
        "def sigma(w,x):\n",
        "  w = w.reshape(-1,1)\n",
        "  res_sigmoid = 1/(1+np.exp(-np.dot(x,w)))\n",
        "  return res_sigmoid\n",
        "\n",
        "iter = 1000\n",
        "\n",
        "tasa = 3\n",
        "\n",
        "cont = 0\n",
        "errores = np.array([])\n",
        "while cont <= iter and error > eps:\n",
        "  i = random.randint(0,X_train_array.shape[0]-1)\n",
        "  x,y = X_train_array[i],y_train_array[i]\n",
        "  g = sigma(w,x)\n",
        "  e = y - g\n",
        "  tasa = (10**-tasa)\n",
        "  w1 = w + tasa*e*x\n",
        "\n",
        "  #Calculo del error de entropia cruzada.\n",
        "  pred = sigma(w1,X_train_array)\n",
        "  error = log_loss(y_train_array,pred) \n",
        "  errores = np.append(errores,error)\n",
        "  #Actualizaciòn de vector con los pesos.\n",
        "  w = w1\n",
        "  cont += 1\n",
        "\n",
        "plt.figure(figsize=(15,5))\n",
        "plt.plot(errores)\n",
        "plt.xlabel('# Iteraciones')\n",
        "plt.ylabel('Función de Error')\n",
        "plt.title('Descenso de Gradiente Estocástico')\n",
        "print(errores[-1],np.amin(errores))"
      ],
      "execution_count": null,
      "outputs": [
        {
          "output_type": "stream",
          "name": "stdout",
          "text": [
            "0.4006727781347989 0.3870862588759111\n"
          ]
        },
        {
          "output_type": "display_data",
          "data": {
            "image/png": "[encoded data removed]",
            "text/plain": [
              "<Figure size 1080x360 with 1 Axes>"
            ]
          },
          "metadata": {
            "needs_background": "light"
          }
        }
      ]
    },
    {
      "cell_type": "markdown",
      "metadata": {
        "id": "w4Au7VY4SERP"
      },
      "source": [
        "## Matriz de Confusión\n",
        "\n",
        "Observe y analice la matriz de confusión para su mejor modelo. Escriba claramente sus conclusiones."
      ]
    },
    {
      "cell_type": "code",
      "metadata": {
        "id": "FM12rgNSSERP",
        "colab": {
          "base_uri": "https://localhost:8080/",
          "height": 337
        },
        "outputId": "7c8ffbc8-7b03-4140-d962-2f194957ab4e"
      },
      "source": [
        "cm = confusion_matrix(y_test,y_pred)\n",
        "conf_matrix = pd.DataFrame(data=cm,columns=['Predicted:0','Predicted:1'],index=['Actual:0','Actual:1'])\n",
        "\n",
        "plt.figure(figsize = (8,5))\n",
        "sn.heatmap(conf_matrix, annot=True,fmt='d',cmap=\"YlGnBu\")"
      ],
      "execution_count": null,
      "outputs": [
        {
          "output_type": "execute_result",
          "data": {
            "text/plain": [
              "<matplotlib.axes._subplots.AxesSubplot at 0x7f8760925bd0>"
            ]
          },
          "metadata": {},
          "execution_count": 21
        },
        {
          "output_type": "display_data",
          "data": {
            "image/png": "[encoded data removed]",
            "text/plain": [
              "<Figure size 576x360 with 2 Axes>"
            ]
          },
          "metadata": {
            "needs_background": "light"
          }
        }
      ]
    },
    {
      "cell_type": "markdown",
      "metadata": {
        "id": "fxIWHPZT1vF_"
      },
      "source": [
        "**Cálculos matriz de confusión**"
      ]
    },
    {
      "cell_type": "code",
      "metadata": {
        "colab": {
          "base_uri": "https://localhost:8080/"
        },
        "id": "JQlzxNVAxcbH",
        "outputId": "47765cf0-4527-4216-ed3d-fe6f835cfbc9"
      },
      "source": [
        "TN=cm[0,0]\n",
        "TP=cm[1,1]\n",
        "FN=cm[1,0]\n",
        "FP=cm[0,1]\n",
        "Precision=(TP)/float(TP+FP)\n",
        "Recall=(TP)/float(TP+FN)\n",
        "Accuracy=(TP+TN)/float(TP+TN+FP+FN)\n",
        "print('Precision=', Precision)\n",
        "print('Recall=',Recall)\n",
        "print('Accuracy=',Accuracy)\n",
        "print('F-measure=',(2*Recall*Precision)/float(Recall+Precision))"
      ],
      "execution_count": null,
      "outputs": [
        {
          "output_type": "stream",
          "name": "stdout",
          "text": [
            "Precision= 0.6428571428571429\n",
            "Recall= 0.07377049180327869\n",
            "Accuracy= 0.8426666666666667\n",
            "F-measure= 0.1323529411764706\n"
          ]
        }
      ]
    },
    {
      "cell_type": "markdown",
      "metadata": {
        "id": "JVVE3g7Isb9Q"
      },
      "source": [
        "**Análisis de la matriz de confusión**\n",
        "\n",
        "La matriz de confusión muestra 632 predicciones correctas y 118 predicciones incorrectas. De esta manera se tiene que:\n",
        "\n",
        "* Positivos verdaderos: 9\n",
        "* Negativos verdaderos: 623\n",
        "* Error tipo I (falsos positivos): 5 \n",
        "* Error tipo II (falsos negativos): 113\n",
        "\n",
        " Del *recall* se puede observar que de todas las clases posibles, se predijeron correctamente 0.073. Lo cual es un mal indicador, ya que nuestro modelo no identifica bien cuando son positivos. \n",
        "\n",
        " Del *precision* se puede decir que de todas las clases que se predijeron como positivas, las que son verdaderamente positivas son 0.64. A pesar de que este valor no es tan cercano a 1, es una aproximación satisfactoria. \n",
        "\n",
        " Del *accuracy* se puede concluir que de todas las clases (positivas y negativas), se predijeron correctamente 0.84. \n",
        "\n",
        " Finalmente, del *F-measure* se comparan al tiempo *recall* y *precision* siendo este 0.13. \n",
        "\n",
        "\n",
        "Por lo tanto se decide hacer un analisis de umbralización, para apreciar si se puede llegar a mejorar el modelo, entendiendo que para cuestiones medicas, es importante tener un *recall* alto, ya que se requiere identificar los casos positivos."
      ]
    },
    {
      "cell_type": "markdown",
      "metadata": {
        "id": "_oejJtta6o2t"
      },
      "source": [
        "#Analisis con umbralización"
      ]
    },
    {
      "cell_type": "code",
      "metadata": {
        "colab": {
          "base_uri": "https://localhost:8080/"
        },
        "id": "jwgrMP7G6d2x",
        "outputId": "6825c7d2-5d89-4462-ac48-2f02426905ff"
      },
      "source": [
        "np.random.seed(22)\n",
        "random.seed(22)\n",
        "\n",
        "X_train_array = np.c_[np.ones(x_train.values.shape[0]), x_train.values]\n",
        "y_train_array = y_train.values\n",
        "y_train_array = y_train_array.reshape(-1,1)\n",
        "\n",
        "w0 = np.random.rand(X_train_array.shape[1]) # Inicialización de w#\n",
        "\n",
        "w = w0.copy()\n",
        "wi = w\n",
        "# Inicialización de criterio de parada (al disminuir el valor de eps, se aumenta la precisión y el tiempo de procesamiento)\n",
        "eps = 0.39\n",
        "\n",
        "def sigma(w,x):\n",
        "  w = w.reshape(-1,1)\n",
        "  res_sigmoid = 1/(1+np.exp(-np.dot(x,w)))\n",
        "  return res_sigmoid\n",
        "\n",
        "iter = 1000\n",
        "\n",
        "umbrales = np.arange(0.0,1.0,0.1)\n",
        "tasa = 3\n",
        "cont = 0\n",
        "error = 100\n",
        "errores = np.array([])\n",
        "\n",
        "while cont <= iter and error > eps:\n",
        "  i = random.randint(0,X_train_array.shape[0]-1)\n",
        "  x,y = X_train_array[i],y_train_array[i]\n",
        "  g = sigma(w,x)\n",
        "  e = y - g\n",
        "  tasa = (10**-tasa)\n",
        "  w1 = w + tasa*e*x\n",
        "\n",
        "    #Calculo del error de entropia cruzada.\n",
        "  pred = sigma(w1,X_train_array)\n",
        "  error = log_loss(y_train_array,pred) \n",
        "  errores = np.append(errores,error)\n",
        "    #Actualizaciòn de vector con los pesos.\n",
        "  w = w1\n",
        "  cont += 1\n",
        "\n",
        "for umbral in umbrales:\n",
        "  X_test_array = np.c_[np.ones(x_test.values.shape[0]), x_test.values]\n",
        "  y_test_array = y_test.values\n",
        "\n",
        "  y_pred = np.zeros(len(x_test))\n",
        "  prob = sigma(w,X_test_array)\n",
        "  y_pred = np.where(prob>umbral,1,0)\n",
        "\n",
        "  cm = confusion_matrix(y_test,y_pred)\n",
        "  TN=cm[0,0]\n",
        "  TP=cm[1,1]\n",
        "  FN=cm[1,0]\n",
        "  FP=cm[0,1]\n",
        "\n",
        "  Recall=(TP)/float(TP+FN)\n",
        "  Precision=(TP)/float(TP+FP)\n",
        "  F = (2*Recall*Precision)/float(Recall+Precision)\n",
        "\n",
        "  print('\\n')\n",
        "  print(f'Para el umbral {umbral}')\n",
        "  print(f'El Recall es igual a {Recall}')\n",
        "  print(f'El f1_score es igual a {F}')"
      ],
      "execution_count": 17,
      "outputs": [
        {
          "output_type": "stream",
          "name": "stdout",
          "text": [
            "\n",
            "\n",
            "Para el umbral 0.0\n",
            "El Recall es igual a 1.0\n",
            "El f1_score es igual a 0.2798165137614679\n",
            "\n",
            "\n",
            "Para el umbral 0.1\n",
            "El Recall es igual a 0.8032786885245902\n",
            "El f1_score es igual a 0.3414634146341463\n",
            "\n",
            "\n",
            "Para el umbral 0.2\n",
            "El Recall es igual a 0.4180327868852459\n",
            "El f1_score es igual a 0.3669064748201438\n",
            "\n",
            "\n",
            "Para el umbral 0.30000000000000004\n",
            "El Recall es igual a 0.13114754098360656\n",
            "El f1_score es igual a 0.20125786163522014\n",
            "\n",
            "\n",
            "Para el umbral 0.4\n",
            "El Recall es igual a 0.01639344262295082\n",
            "El f1_score es igual a 0.03125\n",
            "\n",
            "\n",
            "Para el umbral 0.5\n",
            "El Recall es igual a 0.00819672131147541\n",
            "El f1_score es igual a 0.016129032258064516\n",
            "\n",
            "\n",
            "Para el umbral 0.6000000000000001\n",
            "El Recall es igual a 0.0\n",
            "El f1_score es igual a nan\n",
            "\n",
            "\n",
            "Para el umbral 0.7000000000000001\n",
            "El Recall es igual a 0.0\n",
            "El f1_score es igual a nan\n",
            "\n",
            "\n",
            "Para el umbral 0.8\n",
            "El Recall es igual a 0.0\n",
            "El f1_score es igual a nan\n",
            "\n",
            "\n",
            "Para el umbral 0.9\n",
            "El Recall es igual a 0.0\n",
            "El f1_score es igual a nan\n"
          ]
        },
        {
          "output_type": "stream",
          "name": "stderr",
          "text": [
            "/usr/local/lib/python3.7/dist-packages/ipykernel_launcher.py:59: RuntimeWarning: invalid value encountered in true_divide\n"
          ]
        }
      ]
    },
    {
      "cell_type": "markdown",
      "metadata": {
        "id": "JsTVpkGMgtD2"
      },
      "source": [
        "El umbral del 10%, parece ser un buen modelo."
      ]
    }
  ]
}