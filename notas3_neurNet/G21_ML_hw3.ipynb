{
  "nbformat": 4,
  "nbformat_minor": 0,
  "metadata": {
    "colab": {
      "name": "ML_hw3.ipynb",
      "provenance": [],
      "collapsed_sections": [
        "yHdW-IhtL8nx",
        "gSlhEgBzL8n6",
        "xsGDPL5OL8oK",
        "lMVMPFhCL8oL"
      ]
    },
    "kernelspec": {
      "display_name": "Python 3",
      "language": "python",
      "name": "python3"
    },
    "language_info": {
      "codemirror_mode": {
        "name": "ipython",
        "version": 3
      },
      "file_extension": ".py",
      "mimetype": "text/x-python",
      "name": "python",
      "nbconvert_exporter": "python",
      "pygments_lexer": "ipython3",
      "version": "3.8.10"
    }
  },
  "cells": [
    {
      "cell_type": "markdown",
      "metadata": {
        "id": "f7BSmwmYL8nZ"
      },
      "source": [
        "# Puntaje Bancario: Aprobación de Crédito Mediante Redes Neuronales\n",
        "\n",
        "En esta ocasión se busca desarrollar un protocolo de pruebas que permita encontrar la mejor arquitectura de red neuronal completamente conectada. En esta ocasión debe utilizar la librería SciKit-Learn (sklearn.neural_network) para diseñar cada red. Además, veremos algunos conceptos de _feature engineering_ para analizar los datos a nuestra disposición.\n",
        "\n",
        "Debe completar las celdas vacías y seguir las instrucciones anotadas en el cuaderno.\n",
        "\n",
        "La fecha límite de entrega es el día **18 de octubre** y se realizará a través de Bloque Neón."
      ]
    },
    {
      "cell_type": "code",
      "metadata": {
        "id": "RTHPDERBL8nf"
      },
      "source": [
        "%matplotlib inline\n",
        "%config InlineBackend.figure_format = 'svg'\n",
        "import warnings\n",
        "warnings.filterwarnings('ignore')\n",
        "import numpy as np\n",
        "import pandas as pd   \n",
        "import matplotlib.pyplot as plt\n",
        "import seaborn as sns\n",
        "from imblearn.over_sampling import SMOTE\n",
        "import itertools\n",
        "\n",
        "from sklearn.model_selection import train_test_split\n",
        "from sklearn.metrics import accuracy_score, confusion_matrix\n",
        "from sklearn.linear_model import LogisticRegression\n",
        "from sklearn.tree import DecisionTreeClassifier\n",
        "\n",
        "from sklearn import svm\n",
        "from sklearn.ensemble import RandomForestClassifier"
      ],
      "execution_count": 122,
      "outputs": []
    },
    {
      "cell_type": "markdown",
      "metadata": {
        "id": "VxJrWdj0L8ni"
      },
      "source": [
        "Se tienen dos archivos:\n",
        "\n",
        "`application_record.csv`: posee información general (puede observar los nombres de las columnas a continuación) sobre cada usuario, definido a partir de una ID única.\n",
        "\n",
        "- ID: número de cliente\n",
        "- CODE_GENDER: género\n",
        "- FLAG_OWN_CAR:\tposee un automóvil\n",
        "- FLAG_OWN_REALTY: posee un inmueble\n",
        "- CNT_CHILDREN:\tcantidad de hijos\n",
        "- AMT_INCOME_TOTAL:\tingresos anuales\n",
        "- NAME_INCOME_TYPE: categoría de ingresos\n",
        "- NAME_EDUCATION_TYPE: nivel educativo\n",
        "- NAME_FAMILY_STATUS estado civil\n",
        "- NAME_HOUSING_TYPE: forma de vivienda (e.g. renta, apartamento propio, ...)\n",
        "- DAYS_BIRTH: fecha de nacimiento, en días hacia atrás desde la actualidad, -1 significa ayer\n",
        "\n",
        "- DAYS_EMPLOYED: tiempo de empleo, en días hacia atrás desde la actualidad, -1 significa ayer. Si es positivo, el usuario se encuentra desempleado.\n",
        "- FLAG_MOBIL: teléfono móvil\n",
        "- FLAG_WORK_PHONE: teléfono de trabajo\n",
        "- FLAG_PHONE: teléfono\n",
        "- FLAG_EMAIL: email\n",
        "- OCCUPATION_TYPE: ocupación\n",
        "- CNT_FAM_MEMBERS: tamaño de familia\n",
        "\n",
        "\n",
        "`credit_record.csv`:\n",
        "\n",
        "- ID: número de cliente\n",
        "- MONTHS_BALANCE: mes de registro\n",
        "- ESTADO:\n",
        "    - 0: 1-29 días atrasados\n",
        "    - 1: 30-59 días atrasados\n",
        "    - 2: 60-89 días atrasados\n",
        "    - 3: 90-119 días atrasados\n",
        "    - 4: 120-149 días atrasados\n",
        "    - 5: Atrasados o incobrables, cancelaciones durante más de 150 días\n",
        "    - C: cancelado ese mes X: sin préstamo durante el mes"
      ]
    },
    {
      "cell_type": "code",
      "metadata": {
        "id": "CCsQF67pi7ag"
      },
      "source": [
        "\n",
        "data = pd.read_csv(\"application_record.csv\", encoding = 'utf-8')\n",
        "record = pd.read_csv(\"credit_record.csv\", encoding = 'utf-8')\n",
        "\n",
        "\n"
      ],
      "execution_count": 123,
      "outputs": []
    },
    {
      "cell_type": "code",
      "metadata": {
        "id": "LeXFIkJ0L8nk"
      },
      "source": [
        "plt.rcParams['figure.facecolor'] = 'white'"
      ],
      "execution_count": 124,
      "outputs": []
    },
    {
      "cell_type": "code",
      "metadata": {
        "colab": {
          "base_uri": "https://localhost:8080/",
          "height": 310
        },
        "id": "5AZFYr_oL8nl",
        "scrolled": true,
        "outputId": "4bb65430-fdeb-4b9a-c5e0-d11dd8a12699"
      },
      "source": [
        "data.tail()"
      ],
      "execution_count": 125,
      "outputs": [
        {
          "output_type": "execute_result",
          "data": {
            "text/html": [
              "<div>\n",
              "<style scoped>\n",
              "    .dataframe tbody tr th:only-of-type {\n",
              "        vertical-align: middle;\n",
              "    }\n",
              "\n",
              "    .dataframe tbody tr th {\n",
              "        vertical-align: top;\n",
              "    }\n",
              "\n",
              "    .dataframe thead th {\n",
              "        text-align: right;\n",
              "    }\n",
              "</style>\n",
              "<table border=\"1\" class=\"dataframe\">\n",
              "  <thead>\n",
              "    <tr style=\"text-align: right;\">\n",
              "      <th></th>\n",
              "      <th>ID</th>\n",
              "      <th>CODE_GENDER</th>\n",
              "      <th>FLAG_OWN_CAR</th>\n",
              "      <th>FLAG_OWN_REALTY</th>\n",
              "      <th>CNT_CHILDREN</th>\n",
              "      <th>AMT_INCOME_TOTAL</th>\n",
              "      <th>NAME_INCOME_TYPE</th>\n",
              "      <th>NAME_EDUCATION_TYPE</th>\n",
              "      <th>NAME_FAMILY_STATUS</th>\n",
              "      <th>NAME_HOUSING_TYPE</th>\n",
              "      <th>DAYS_BIRTH</th>\n",
              "      <th>DAYS_EMPLOYED</th>\n",
              "      <th>FLAG_MOBIL</th>\n",
              "      <th>FLAG_WORK_PHONE</th>\n",
              "      <th>FLAG_PHONE</th>\n",
              "      <th>FLAG_EMAIL</th>\n",
              "      <th>OCCUPATION_TYPE</th>\n",
              "      <th>CNT_FAM_MEMBERS</th>\n",
              "    </tr>\n",
              "  </thead>\n",
              "  <tbody>\n",
              "    <tr>\n",
              "      <th>438552</th>\n",
              "      <td>6840104</td>\n",
              "      <td>M</td>\n",
              "      <td>N</td>\n",
              "      <td>Y</td>\n",
              "      <td>0</td>\n",
              "      <td>135000.0</td>\n",
              "      <td>Pensioner</td>\n",
              "      <td>Secondary / secondary special</td>\n",
              "      <td>Separated</td>\n",
              "      <td>House / apartment</td>\n",
              "      <td>-22717</td>\n",
              "      <td>365243</td>\n",
              "      <td>1</td>\n",
              "      <td>0</td>\n",
              "      <td>0</td>\n",
              "      <td>0</td>\n",
              "      <td>NaN</td>\n",
              "      <td>1.0</td>\n",
              "    </tr>\n",
              "    <tr>\n",
              "      <th>438553</th>\n",
              "      <td>6840222</td>\n",
              "      <td>F</td>\n",
              "      <td>N</td>\n",
              "      <td>N</td>\n",
              "      <td>0</td>\n",
              "      <td>103500.0</td>\n",
              "      <td>Working</td>\n",
              "      <td>Secondary / secondary special</td>\n",
              "      <td>Single / not married</td>\n",
              "      <td>House / apartment</td>\n",
              "      <td>-15939</td>\n",
              "      <td>-3007</td>\n",
              "      <td>1</td>\n",
              "      <td>0</td>\n",
              "      <td>0</td>\n",
              "      <td>0</td>\n",
              "      <td>Laborers</td>\n",
              "      <td>1.0</td>\n",
              "    </tr>\n",
              "    <tr>\n",
              "      <th>438554</th>\n",
              "      <td>6841878</td>\n",
              "      <td>F</td>\n",
              "      <td>N</td>\n",
              "      <td>N</td>\n",
              "      <td>0</td>\n",
              "      <td>54000.0</td>\n",
              "      <td>Commercial associate</td>\n",
              "      <td>Higher education</td>\n",
              "      <td>Single / not married</td>\n",
              "      <td>With parents</td>\n",
              "      <td>-8169</td>\n",
              "      <td>-372</td>\n",
              "      <td>1</td>\n",
              "      <td>1</td>\n",
              "      <td>0</td>\n",
              "      <td>0</td>\n",
              "      <td>Sales staff</td>\n",
              "      <td>1.0</td>\n",
              "    </tr>\n",
              "    <tr>\n",
              "      <th>438555</th>\n",
              "      <td>6842765</td>\n",
              "      <td>F</td>\n",
              "      <td>N</td>\n",
              "      <td>Y</td>\n",
              "      <td>0</td>\n",
              "      <td>72000.0</td>\n",
              "      <td>Pensioner</td>\n",
              "      <td>Secondary / secondary special</td>\n",
              "      <td>Married</td>\n",
              "      <td>House / apartment</td>\n",
              "      <td>-21673</td>\n",
              "      <td>365243</td>\n",
              "      <td>1</td>\n",
              "      <td>0</td>\n",
              "      <td>0</td>\n",
              "      <td>0</td>\n",
              "      <td>NaN</td>\n",
              "      <td>2.0</td>\n",
              "    </tr>\n",
              "    <tr>\n",
              "      <th>438556</th>\n",
              "      <td>6842885</td>\n",
              "      <td>F</td>\n",
              "      <td>N</td>\n",
              "      <td>Y</td>\n",
              "      <td>0</td>\n",
              "      <td>121500.0</td>\n",
              "      <td>Working</td>\n",
              "      <td>Secondary / secondary special</td>\n",
              "      <td>Married</td>\n",
              "      <td>House / apartment</td>\n",
              "      <td>-18858</td>\n",
              "      <td>-1201</td>\n",
              "      <td>1</td>\n",
              "      <td>0</td>\n",
              "      <td>1</td>\n",
              "      <td>0</td>\n",
              "      <td>Sales staff</td>\n",
              "      <td>2.0</td>\n",
              "    </tr>\n",
              "  </tbody>\n",
              "</table>\n",
              "</div>"
            ],
            "text/plain": [
              "             ID CODE_GENDER  ... OCCUPATION_TYPE CNT_FAM_MEMBERS\n",
              "438552  6840104           M  ...             NaN             1.0\n",
              "438553  6840222           F  ...        Laborers             1.0\n",
              "438554  6841878           F  ...     Sales staff             1.0\n",
              "438555  6842765           F  ...             NaN             2.0\n",
              "438556  6842885           F  ...     Sales staff             2.0\n",
              "\n",
              "[5 rows x 18 columns]"
            ]
          },
          "metadata": {},
          "execution_count": 125
        }
      ]
    },
    {
      "cell_type": "code",
      "metadata": {
        "colab": {
          "base_uri": "https://localhost:8080/",
          "height": 204
        },
        "id": "qYz8l-Y_L8nm",
        "outputId": "91b59271-c7e1-4dea-be3b-7c7d3649a9a3"
      },
      "source": [
        "record.head()"
      ],
      "execution_count": 126,
      "outputs": [
        {
          "output_type": "execute_result",
          "data": {
            "text/html": [
              "<div>\n",
              "<style scoped>\n",
              "    .dataframe tbody tr th:only-of-type {\n",
              "        vertical-align: middle;\n",
              "    }\n",
              "\n",
              "    .dataframe tbody tr th {\n",
              "        vertical-align: top;\n",
              "    }\n",
              "\n",
              "    .dataframe thead th {\n",
              "        text-align: right;\n",
              "    }\n",
              "</style>\n",
              "<table border=\"1\" class=\"dataframe\">\n",
              "  <thead>\n",
              "    <tr style=\"text-align: right;\">\n",
              "      <th></th>\n",
              "      <th>ID</th>\n",
              "      <th>MONTHS_BALANCE</th>\n",
              "      <th>STATUS</th>\n",
              "    </tr>\n",
              "  </thead>\n",
              "  <tbody>\n",
              "    <tr>\n",
              "      <th>0</th>\n",
              "      <td>5001711</td>\n",
              "      <td>0</td>\n",
              "      <td>X</td>\n",
              "    </tr>\n",
              "    <tr>\n",
              "      <th>1</th>\n",
              "      <td>5001711</td>\n",
              "      <td>-1</td>\n",
              "      <td>0</td>\n",
              "    </tr>\n",
              "    <tr>\n",
              "      <th>2</th>\n",
              "      <td>5001711</td>\n",
              "      <td>-2</td>\n",
              "      <td>0</td>\n",
              "    </tr>\n",
              "    <tr>\n",
              "      <th>3</th>\n",
              "      <td>5001711</td>\n",
              "      <td>-3</td>\n",
              "      <td>0</td>\n",
              "    </tr>\n",
              "    <tr>\n",
              "      <th>4</th>\n",
              "      <td>5001712</td>\n",
              "      <td>0</td>\n",
              "      <td>C</td>\n",
              "    </tr>\n",
              "  </tbody>\n",
              "</table>\n",
              "</div>"
            ],
            "text/plain": [
              "        ID  MONTHS_BALANCE STATUS\n",
              "0  5001711               0      X\n",
              "1  5001711              -1      0\n",
              "2  5001711              -2      0\n",
              "3  5001711              -3      0\n",
              "4  5001712               0      C"
            ]
          },
          "metadata": {},
          "execution_count": 126
        }
      ]
    },
    {
      "cell_type": "markdown",
      "metadata": {
        "id": "PYs24ueGL8nn"
      },
      "source": [
        "## Preparación de los Datos"
      ]
    },
    {
      "cell_type": "markdown",
      "metadata": {
        "id": "vegNvAGZL8no"
      },
      "source": [
        "### Etiquetas\n",
        "\n",
        "Inicialmente, se concatenan ambas tablas mediante el tiempo de registro máximo (`MONTHS_BALANCE`) y la ID del cliente."
      ]
    },
    {
      "cell_type": "code",
      "metadata": {
        "id": "BXyUXBD4L8no"
      },
      "source": [
        "# find all users' account open month.\n",
        "begin_month=pd.DataFrame(record.groupby([\"ID\"])[\"MONTHS_BALANCE\"].agg(min)) #de record copia la columna \"ID\" y \"MONTHS_BALANCE\"\n",
        "begin_month=begin_month.rename(columns={'MONTHS_BALANCE':'begin_month'}) # se remplaza  \"MONTHS_BALANCE\" por 'begin_month'\n",
        "new_data=pd.merge(data,begin_month,how=\"left\",on=\"ID\") #merge to record data   #se concate en data, en la última columna ''begin_month'"
      ],
      "execution_count": 127,
      "outputs": []
    },
    {
      "cell_type": "markdown",
      "metadata": {
        "id": "AVvCbOjm3K-P"
      },
      "source": [
        ""
      ]
    },
    {
      "cell_type": "markdown",
      "metadata": {
        "id": "Qd-Xm-3hL8np"
      },
      "source": [
        "Los usuarios con mora durante más de 60 días se etiquerarán como `1`, de lo contrario, serán `0`."
      ]
    },
    {
      "cell_type": "code",
      "metadata": {
        "id": "uKmste_bL8nq"
      },
      "source": [
        "record['dep_value'] = None  #Se agrega una columna a record si'status' es mayor de dos meses se asigna un 'yes', caso contrario in 'none'\n",
        "record['dep_value'][record['STATUS'] =='2']='Yes' \n",
        "record['dep_value'][record['STATUS'] =='3']='Yes' \n",
        "record['dep_value'][record['STATUS'] =='4']='Yes' \n",
        "record['dep_value'][record['STATUS'] =='5']='Yes' "
      ],
      "execution_count": 128,
      "outputs": []
    },
    {
      "cell_type": "code",
      "metadata": {
        "id": "OSI7ALFKL8nq"
      },
      "source": [
        "cpunt=record.groupby('ID').count()\n",
        "cpunt['dep_value'][cpunt['dep_value'] > 0]='Yes' \n",
        "cpunt['dep_value'][cpunt['dep_value'] == 0]='No' \n",
        "cpunt = cpunt[['dep_value']]\n",
        "new_data=pd.merge(new_data,cpunt,how='inner',on='ID')\n",
        "new_data['target']=new_data['dep_value']\n",
        "new_data.loc[new_data['target']=='Yes','target']=1\n",
        "new_data.loc[new_data['target']=='No','target']=0"
      ],
      "execution_count": 129,
      "outputs": []
    },
    {
      "cell_type": "code",
      "metadata": {
        "colab": {
          "base_uri": "https://localhost:8080/"
        },
        "id": "5oANaAUhL8nr",
        "outputId": "2aeb28d2-b543-411e-f9bf-bf9acbd5c488"
      },
      "source": [
        "print(cpunt['dep_value'].value_counts()) #Acá se puede ver la matriz desbalanceada hay 45318 No, Yes 667\n",
        "cpunt['dep_value'].value_counts(normalize=True)"
      ],
      "execution_count": 130,
      "outputs": [
        {
          "output_type": "stream",
          "name": "stdout",
          "text": [
            "No     45318\n",
            "Yes      667\n",
            "Name: dep_value, dtype: int64\n"
          ]
        },
        {
          "output_type": "execute_result",
          "data": {
            "text/plain": [
              "No     0.985495\n",
              "Yes    0.014505\n",
              "Name: dep_value, dtype: float64"
            ]
          },
          "metadata": {},
          "execution_count": 130
        }
      ]
    },
    {
      "cell_type": "markdown",
      "metadata": {
        "id": "qvQ2347jL8nr"
      },
      "source": [
        "Proporción de clases.\n",
        "\n",
        "### Descriptores"
      ]
    },
    {
      "cell_type": "markdown",
      "metadata": {
        "id": "5hWEcIIUL8nr"
      },
      "source": [
        "+ Renombramiento de las Columnas"
      ]
    },
    {
      "cell_type": "code",
      "metadata": {
        "id": "XQQ1tuOmL8ns"
      },
      "source": [
        "new_data.rename(columns={'CODE_GENDER':'Gender','FLAG_OWN_CAR':'Car','FLAG_OWN_REALTY':'Reality', #hay tres columna add:'begin_month', 'dep_value','target'\n",
        "                         'CNT_CHILDREN':'ChldNo','AMT_INCOME_TOTAL':'inc',\n",
        "                         'NAME_EDUCATION_TYPE':'edutp','NAME_FAMILY_STATUS':'famtp',\n",
        "                        'NAME_HOUSING_TYPE':'houtp','FLAG_EMAIL':'email',\n",
        "                         'NAME_INCOME_TYPE':'inctp','FLAG_WORK_PHONE':'wkphone',\n",
        "                         'FLAG_PHONE':'phone','CNT_FAM_MEMBERS':'famsize',\n",
        "                        'OCCUPATION_TYPE':'occyp'\n",
        "                        },inplace=True)"
      ],
      "execution_count": 131,
      "outputs": []
    },
    {
      "cell_type": "code",
      "metadata": {
        "colab": {
          "base_uri": "https://localhost:8080/",
          "height": 341
        },
        "id": "JogPTjBmCXDD",
        "outputId": "8e648f2a-ebb5-4ff7-fcb7-889a9fec742e"
      },
      "source": [
        "new_data.tail()"
      ],
      "execution_count": 132,
      "outputs": [
        {
          "output_type": "execute_result",
          "data": {
            "text/html": [
              "<div>\n",
              "<style scoped>\n",
              "    .dataframe tbody tr th:only-of-type {\n",
              "        vertical-align: middle;\n",
              "    }\n",
              "\n",
              "    .dataframe tbody tr th {\n",
              "        vertical-align: top;\n",
              "    }\n",
              "\n",
              "    .dataframe thead th {\n",
              "        text-align: right;\n",
              "    }\n",
              "</style>\n",
              "<table border=\"1\" class=\"dataframe\">\n",
              "  <thead>\n",
              "    <tr style=\"text-align: right;\">\n",
              "      <th></th>\n",
              "      <th>ID</th>\n",
              "      <th>Gender</th>\n",
              "      <th>Car</th>\n",
              "      <th>Reality</th>\n",
              "      <th>ChldNo</th>\n",
              "      <th>inc</th>\n",
              "      <th>inctp</th>\n",
              "      <th>edutp</th>\n",
              "      <th>famtp</th>\n",
              "      <th>houtp</th>\n",
              "      <th>DAYS_BIRTH</th>\n",
              "      <th>DAYS_EMPLOYED</th>\n",
              "      <th>FLAG_MOBIL</th>\n",
              "      <th>wkphone</th>\n",
              "      <th>phone</th>\n",
              "      <th>email</th>\n",
              "      <th>occyp</th>\n",
              "      <th>famsize</th>\n",
              "      <th>begin_month</th>\n",
              "      <th>dep_value</th>\n",
              "      <th>target</th>\n",
              "    </tr>\n",
              "  </thead>\n",
              "  <tbody>\n",
              "    <tr>\n",
              "      <th>36452</th>\n",
              "      <td>5149828</td>\n",
              "      <td>M</td>\n",
              "      <td>Y</td>\n",
              "      <td>Y</td>\n",
              "      <td>0</td>\n",
              "      <td>315000.0</td>\n",
              "      <td>Working</td>\n",
              "      <td>Secondary / secondary special</td>\n",
              "      <td>Married</td>\n",
              "      <td>House / apartment</td>\n",
              "      <td>-17348</td>\n",
              "      <td>-2420</td>\n",
              "      <td>1</td>\n",
              "      <td>0</td>\n",
              "      <td>0</td>\n",
              "      <td>0</td>\n",
              "      <td>Managers</td>\n",
              "      <td>2.0</td>\n",
              "      <td>-11.0</td>\n",
              "      <td>Yes</td>\n",
              "      <td>1</td>\n",
              "    </tr>\n",
              "    <tr>\n",
              "      <th>36453</th>\n",
              "      <td>5149834</td>\n",
              "      <td>F</td>\n",
              "      <td>N</td>\n",
              "      <td>Y</td>\n",
              "      <td>0</td>\n",
              "      <td>157500.0</td>\n",
              "      <td>Commercial associate</td>\n",
              "      <td>Higher education</td>\n",
              "      <td>Married</td>\n",
              "      <td>House / apartment</td>\n",
              "      <td>-12387</td>\n",
              "      <td>-1325</td>\n",
              "      <td>1</td>\n",
              "      <td>0</td>\n",
              "      <td>1</td>\n",
              "      <td>1</td>\n",
              "      <td>Medicine staff</td>\n",
              "      <td>2.0</td>\n",
              "      <td>-23.0</td>\n",
              "      <td>Yes</td>\n",
              "      <td>1</td>\n",
              "    </tr>\n",
              "    <tr>\n",
              "      <th>36454</th>\n",
              "      <td>5149838</td>\n",
              "      <td>F</td>\n",
              "      <td>N</td>\n",
              "      <td>Y</td>\n",
              "      <td>0</td>\n",
              "      <td>157500.0</td>\n",
              "      <td>Pensioner</td>\n",
              "      <td>Higher education</td>\n",
              "      <td>Married</td>\n",
              "      <td>House / apartment</td>\n",
              "      <td>-12387</td>\n",
              "      <td>-1325</td>\n",
              "      <td>1</td>\n",
              "      <td>0</td>\n",
              "      <td>1</td>\n",
              "      <td>1</td>\n",
              "      <td>Medicine staff</td>\n",
              "      <td>2.0</td>\n",
              "      <td>-32.0</td>\n",
              "      <td>Yes</td>\n",
              "      <td>1</td>\n",
              "    </tr>\n",
              "    <tr>\n",
              "      <th>36455</th>\n",
              "      <td>5150049</td>\n",
              "      <td>F</td>\n",
              "      <td>N</td>\n",
              "      <td>Y</td>\n",
              "      <td>0</td>\n",
              "      <td>283500.0</td>\n",
              "      <td>Working</td>\n",
              "      <td>Secondary / secondary special</td>\n",
              "      <td>Married</td>\n",
              "      <td>House / apartment</td>\n",
              "      <td>-17958</td>\n",
              "      <td>-655</td>\n",
              "      <td>1</td>\n",
              "      <td>0</td>\n",
              "      <td>0</td>\n",
              "      <td>0</td>\n",
              "      <td>Sales staff</td>\n",
              "      <td>2.0</td>\n",
              "      <td>-9.0</td>\n",
              "      <td>Yes</td>\n",
              "      <td>1</td>\n",
              "    </tr>\n",
              "    <tr>\n",
              "      <th>36456</th>\n",
              "      <td>5150337</td>\n",
              "      <td>M</td>\n",
              "      <td>N</td>\n",
              "      <td>Y</td>\n",
              "      <td>0</td>\n",
              "      <td>112500.0</td>\n",
              "      <td>Working</td>\n",
              "      <td>Secondary / secondary special</td>\n",
              "      <td>Single / not married</td>\n",
              "      <td>Rented apartment</td>\n",
              "      <td>-9188</td>\n",
              "      <td>-1193</td>\n",
              "      <td>1</td>\n",
              "      <td>0</td>\n",
              "      <td>0</td>\n",
              "      <td>0</td>\n",
              "      <td>Laborers</td>\n",
              "      <td>1.0</td>\n",
              "      <td>-13.0</td>\n",
              "      <td>Yes</td>\n",
              "      <td>1</td>\n",
              "    </tr>\n",
              "  </tbody>\n",
              "</table>\n",
              "</div>"
            ],
            "text/plain": [
              "            ID Gender Car Reality  ...  famsize  begin_month dep_value target\n",
              "36452  5149828      M   Y       Y  ...      2.0        -11.0       Yes      1\n",
              "36453  5149834      F   N       Y  ...      2.0        -23.0       Yes      1\n",
              "36454  5149838      F   N       Y  ...      2.0        -32.0       Yes      1\n",
              "36455  5150049      F   N       Y  ...      2.0         -9.0       Yes      1\n",
              "36456  5150337      M   N       Y  ...      1.0        -13.0       Yes      1\n",
              "\n",
              "[5 rows x 21 columns]"
            ]
          },
          "metadata": {},
          "execution_count": 132
        }
      ]
    },
    {
      "cell_type": "code",
      "metadata": {
        "id": "oz0NpxbGL8ns"
      },
      "source": [
        "new_data.dropna()\n",
        "new_data = new_data.mask(new_data == 'NULL').dropna() # Retiramos los valores NaN"
      ],
      "execution_count": 133,
      "outputs": []
    },
    {
      "cell_type": "code",
      "metadata": {
        "id": "XRDpMDutL8ns"
      },
      "source": [
        "ivtable=pd.DataFrame(new_data.columns,columns=['variable'])\n",
        "ivtable['IV']=None\n",
        "namelist = ['FLAG_MOBIL','begin_month','dep_value','target','ID']\n",
        "\n",
        "for i in namelist:\n",
        "    ivtable.drop(ivtable[ivtable['variable'] == i].index, inplace=True)"
      ],
      "execution_count": 134,
      "outputs": []
    },
    {
      "cell_type": "markdown",
      "metadata": {
        "id": "w8WGDHYhL8nt"
      },
      "source": [
        "### Funciones Auxiliares"
      ]
    },
    {
      "cell_type": "markdown",
      "metadata": {
        "id": "LAuR5pLML8nt"
      },
      "source": [
        "A continuación se crean algunas funciones que serán utilizadas más adelante.\n",
        "\n",
        "Función `calc_iv` para obtener las variables IV (information value) y WoE (weight of evidence). Estas variables, de forma general, nos permiten conocer la importancia de cada feature disponible.\n",
        "\n",
        "Puede encontrar más información en:\n",
        "- https://www.kaggle.com/puremath86/iv-woe-starter-for-python\n",
        "- https://www.listendata.com/2015/03/weight-of-evidence-woe-and-information.html"
      ]
    },
    {
      "cell_type": "code",
      "metadata": {
        "id": "Avywp7Y0L8nt"
      },
      "source": [
        "# Cálculo de IV\n",
        "def calc_iv(df, feature, target, pr=False):\n",
        "    lst = []\n",
        "    df[feature] = df[feature].fillna(\"NULL\")\n",
        "\n",
        "    for i in range(df[feature].nunique()):\n",
        "        val = list(df[feature].unique())[i]\n",
        "        lst.append([feature,                                                        # Variable\n",
        "                    val,                                                            # Value\n",
        "                    df[df[feature] == val].count()[feature],                        # All\n",
        "                    df[(df[feature] == val) & (df[target] == 0)].count()[feature],  # Good (think: Fraud == 0)\n",
        "                    df[(df[feature] == val) & (df[target] == 1)].count()[feature]]) # Bad (think: Fraud == 1)\n",
        "\n",
        "    data = pd.DataFrame(lst, columns=['Variable', 'Value', 'All', 'Good', 'Bad'])\n",
        "    data['Share'] = data['All'] / data['All'].sum()\n",
        "    data['Bad Rate'] = data['Bad'] / data['All']\n",
        "    data['Distribution Good'] = (data['All'] - data['Bad']) / (data['All'].sum() - data['Bad'].sum())\n",
        "    data['Distribution Bad'] = data['Bad'] / data['Bad'].sum()\n",
        "    data['WoE'] = np.log(data['Distribution Good'] / data['Distribution Bad'])\n",
        "    \n",
        "    data = data.replace({'WoE': {np.inf: 0, -np.inf: 0}})\n",
        "\n",
        "    data['IV'] = data['WoE'] * (data['Distribution Good'] - data['Distribution Bad'])\n",
        "\n",
        "    data = data.sort_values(by=['Variable', 'Value'], ascending=[True, True])\n",
        "    data.index = range(len(data.index))\n",
        "\n",
        "    if pr:\n",
        "        print(data)\n",
        "        print('IV = ', data['IV'].sum())\n",
        "\n",
        "    iv = data['IV'].sum()\n",
        "    print('El IV de esta variable es:',iv)\n",
        "    print(df[feature].value_counts())\n",
        "    return iv, data"
      ],
      "execution_count": 135,
      "outputs": []
    },
    {
      "cell_type": "code",
      "metadata": {
        "id": "ko9ICNawL8nu"
      },
      "source": [
        "# Codificación One-Hot\n",
        "def convert_dummy(df, feature,rank=0):\n",
        "    pos = pd.get_dummies(df[feature], prefix=feature)\n",
        "    mode = df[feature].value_counts().index[rank]\n",
        "    biggest = feature + '_' + str(mode)\n",
        "    pos.drop([biggest],axis=1,inplace=True)\n",
        "    df.drop([feature],axis=1,inplace=True)\n",
        "    df=df.join(pos)\n",
        "    return df"
      ],
      "execution_count": 136,
      "outputs": []
    },
    {
      "cell_type": "code",
      "metadata": {
        "id": "SC43FOJRL8nu"
      },
      "source": [
        "def get_category(df, col, binsnum, labels, qcut = False):\n",
        "    if qcut:\n",
        "        localdf = pd.qcut(df[col], q = binsnum, labels = labels) # quantile cut\n",
        "    else:\n",
        "        localdf = pd.cut(df[col], bins = binsnum, labels = labels) # equal-length cut\n",
        "        \n",
        "    localdf = pd.DataFrame(localdf)\n",
        "    name = 'gp' + '_' + col\n",
        "    localdf[name] = localdf[col]\n",
        "    df = df.join(localdf[name])\n",
        "    df[name] = df[name].astype(object)\n",
        "    return df"
      ],
      "execution_count": 137,
      "outputs": []
    },
    {
      "cell_type": "code",
      "metadata": {
        "id": "tOWoaqBVL8nv"
      },
      "source": [
        "# Matriz de Confusión\n",
        "def plot_confusion_matrix(cm, classes,\n",
        "                          normalize=False,\n",
        "                          title='Confusion matrix',\n",
        "                          cmap=plt.cm.Blues):\n",
        "    if normalize:\n",
        "        cm = cm.astype('float') / cm.sum(axis=1)[:, np.newaxis]\n",
        "        \n",
        "    print(cm)\n",
        "\n",
        "    plt.imshow(cm, interpolation='nearest', cmap=cmap)\n",
        "    plt.title(title)\n",
        "    plt.colorbar()\n",
        "    tick_marks = np.arange(len(classes))\n",
        "    plt.xticks(tick_marks, classes)\n",
        "    plt.yticks(tick_marks, classes)\n",
        "\n",
        "    fmt = '.2f' if normalize else 'd'\n",
        "    thresh = cm.max() / 2.\n",
        "    for i, j in itertools.product(range(cm.shape[0]), range(cm.shape[1])):\n",
        "        plt.text(j, i, format(cm[i, j], fmt),\n",
        "                 horizontalalignment=\"center\",\n",
        "                 color=\"white\" if cm[i, j] > thresh else \"black\")\n",
        "\n",
        "    plt.tight_layout()\n",
        "    plt.ylabel('Etiqueta')\n",
        "    plt.xlabel('Predicción')"
      ],
      "execution_count": 138,
      "outputs": []
    },
    {
      "cell_type": "markdown",
      "metadata": {
        "id": "JANP8EG_L8nv"
      },
      "source": [
        "### Descriptores Binarios\n",
        "\n",
        "Se utilizará la función desarrollada anteriormente para realizar un análisis de cada uno de los descriptores binarios y **su influencia dentro de la predicción de cada clase**.\n",
        "\n",
        "#### Género"
      ]
    },
    {
      "cell_type": "code",
      "metadata": {
        "colab": {
          "base_uri": "https://localhost:8080/",
          "height": 230
        },
        "id": "BiFzAcFvL8nv",
        "outputId": "9e6094f1-5dfb-4218-ff8d-f4816bbddf48"
      },
      "source": [
        "new_data['Gender'] = new_data['Gender'].replace(['F','M'],[0,1])\n",
        "print(new_data['Gender'].value_counts())\n",
        "iv, data = calc_iv(new_data,'Gender','target')\n",
        "ivtable.loc[ivtable['variable']=='Gender','IV']=iv\n",
        "data.head()"
      ],
      "execution_count": 139,
      "outputs": [
        {
          "output_type": "stream",
          "name": "stdout",
          "text": [
            "0    15630\n",
            "1     9504\n",
            "Name: Gender, dtype: int64\n",
            "El IV de esta variable es: 0.02520350452745081\n",
            "0    15630\n",
            "1     9504\n",
            "Name: Gender, dtype: int64\n"
          ]
        },
        {
          "output_type": "execute_result",
          "data": {
            "text/html": [
              "<div>\n",
              "<style scoped>\n",
              "    .dataframe tbody tr th:only-of-type {\n",
              "        vertical-align: middle;\n",
              "    }\n",
              "\n",
              "    .dataframe tbody tr th {\n",
              "        vertical-align: top;\n",
              "    }\n",
              "\n",
              "    .dataframe thead th {\n",
              "        text-align: right;\n",
              "    }\n",
              "</style>\n",
              "<table border=\"1\" class=\"dataframe\">\n",
              "  <thead>\n",
              "    <tr style=\"text-align: right;\">\n",
              "      <th></th>\n",
              "      <th>Variable</th>\n",
              "      <th>Value</th>\n",
              "      <th>All</th>\n",
              "      <th>Good</th>\n",
              "      <th>Bad</th>\n",
              "      <th>Share</th>\n",
              "      <th>Bad Rate</th>\n",
              "      <th>Distribution Good</th>\n",
              "      <th>Distribution Bad</th>\n",
              "      <th>WoE</th>\n",
              "      <th>IV</th>\n",
              "    </tr>\n",
              "  </thead>\n",
              "  <tbody>\n",
              "    <tr>\n",
              "      <th>0</th>\n",
              "      <td>Gender</td>\n",
              "      <td>0</td>\n",
              "      <td>15630</td>\n",
              "      <td>15400</td>\n",
              "      <td>230</td>\n",
              "      <td>0.621867</td>\n",
              "      <td>0.014715</td>\n",
              "      <td>0.623179</td>\n",
              "      <td>0.545024</td>\n",
              "      <td>0.134005</td>\n",
              "      <td>0.010473</td>\n",
              "    </tr>\n",
              "    <tr>\n",
              "      <th>1</th>\n",
              "      <td>Gender</td>\n",
              "      <td>1</td>\n",
              "      <td>9504</td>\n",
              "      <td>9312</td>\n",
              "      <td>192</td>\n",
              "      <td>0.378133</td>\n",
              "      <td>0.020202</td>\n",
              "      <td>0.376821</td>\n",
              "      <td>0.454976</td>\n",
              "      <td>-0.188475</td>\n",
              "      <td>0.014730</td>\n",
              "    </tr>\n",
              "  </tbody>\n",
              "</table>\n",
              "</div>"
            ],
            "text/plain": [
              "  Variable  Value    All  ...  Distribution Bad       WoE        IV\n",
              "0   Gender      0  15630  ...          0.545024  0.134005  0.010473\n",
              "1   Gender      1   9504  ...          0.454976 -0.188475  0.014730\n",
              "\n",
              "[2 rows x 11 columns]"
            ]
          },
          "metadata": {},
          "execution_count": 139
        }
      ]
    },
    {
      "cell_type": "markdown",
      "metadata": {
        "id": "tF23P9eS59yw"
      },
      "source": [
        "Análisis de resultados\n",
        "Gender (F)\n",
        "\n",
        "Si WoE es positivo es porque Distribution Good > Distibution bad .WOE 0.1340.\n",
        "IV=0.010473, Se observa que para valores de less 0.02 La variable de predicción no es buena para separar GOODS from BADS\n",
        "\n",
        "Gender (M)\n",
        "\n",
        "Woe es negativo porque Distribution Good < Distribution Bad, WoE=-0.188475 .\n",
        "IV=0.014730. Se observa que para valores de less 0.02 La variable de predicción no es buena para separar GOODS from BADS\n"
      ]
    },
    {
      "cell_type": "markdown",
      "metadata": {
        "id": "ewk4LmklL8nw"
      },
      "source": [
        "#### Posesión de un Automóvil"
      ]
    },
    {
      "cell_type": "code",
      "metadata": {
        "colab": {
          "base_uri": "https://localhost:8080/",
          "height": 230
        },
        "id": "0ewr461OL8nw",
        "outputId": "f65f9ab2-ed22-4897-cf91-6185891d893d"
      },
      "source": [
        "new_data['Car'] = new_data['Car'].replace(['N','Y'],[0,1])\n",
        "print(new_data['Car'].value_counts())\n",
        "iv, data=calc_iv(new_data,'Car','target')\n",
        "ivtable.loc[ivtable['variable']=='Car','IV']=iv\n",
        "data.head()"
      ],
      "execution_count": 140,
      "outputs": [
        {
          "output_type": "stream",
          "name": "stdout",
          "text": [
            "0    14618\n",
            "1    10516\n",
            "Name: Car, dtype: int64\n",
            "El IV de esta variable es: 4.54248124999671e-06\n",
            "0    14618\n",
            "1    10516\n",
            "Name: Car, dtype: int64\n"
          ]
        },
        {
          "output_type": "execute_result",
          "data": {
            "text/html": [
              "<div>\n",
              "<style scoped>\n",
              "    .dataframe tbody tr th:only-of-type {\n",
              "        vertical-align: middle;\n",
              "    }\n",
              "\n",
              "    .dataframe tbody tr th {\n",
              "        vertical-align: top;\n",
              "    }\n",
              "\n",
              "    .dataframe thead th {\n",
              "        text-align: right;\n",
              "    }\n",
              "</style>\n",
              "<table border=\"1\" class=\"dataframe\">\n",
              "  <thead>\n",
              "    <tr style=\"text-align: right;\">\n",
              "      <th></th>\n",
              "      <th>Variable</th>\n",
              "      <th>Value</th>\n",
              "      <th>All</th>\n",
              "      <th>Good</th>\n",
              "      <th>Bad</th>\n",
              "      <th>Share</th>\n",
              "      <th>Bad Rate</th>\n",
              "      <th>Distribution Good</th>\n",
              "      <th>Distribution Bad</th>\n",
              "      <th>WoE</th>\n",
              "      <th>IV</th>\n",
              "    </tr>\n",
              "  </thead>\n",
              "  <tbody>\n",
              "    <tr>\n",
              "      <th>0</th>\n",
              "      <td>Car</td>\n",
              "      <td>0</td>\n",
              "      <td>14618</td>\n",
              "      <td>14373</td>\n",
              "      <td>245</td>\n",
              "      <td>0.581603</td>\n",
              "      <td>0.016760</td>\n",
              "      <td>0.58162</td>\n",
              "      <td>0.580569</td>\n",
              "      <td>0.00181</td>\n",
              "      <td>0.000002</td>\n",
              "    </tr>\n",
              "    <tr>\n",
              "      <th>1</th>\n",
              "      <td>Car</td>\n",
              "      <td>1</td>\n",
              "      <td>10516</td>\n",
              "      <td>10339</td>\n",
              "      <td>177</td>\n",
              "      <td>0.418397</td>\n",
              "      <td>0.016831</td>\n",
              "      <td>0.41838</td>\n",
              "      <td>0.419431</td>\n",
              "      <td>-0.00251</td>\n",
              "      <td>0.000003</td>\n",
              "    </tr>\n",
              "  </tbody>\n",
              "</table>\n",
              "</div>"
            ],
            "text/plain": [
              "  Variable  Value    All  ...  Distribution Bad      WoE        IV\n",
              "0      Car      0  14618  ...          0.580569  0.00181  0.000002\n",
              "1      Car      1  10516  ...          0.419431 -0.00251  0.000003\n",
              "\n",
              "[2 rows x 11 columns]"
            ]
          },
          "metadata": {},
          "execution_count": 140
        }
      ]
    },
    {
      "cell_type": "markdown",
      "metadata": {
        "id": "GLRRV3S89-8y"
      },
      "source": [
        "Posesión de un automóvil\n",
        "\n",
        "0=No, IV less 0.02 No es una buena variable de predicción.\n",
        "1=YES, IV less 0.02 No es una buena variable de predicción.\n"
      ]
    },
    {
      "cell_type": "markdown",
      "metadata": {
        "id": "2duArK0VL8nw"
      },
      "source": [
        "#### Posesión de un Inmueble"
      ]
    },
    {
      "cell_type": "code",
      "metadata": {
        "colab": {
          "base_uri": "https://localhost:8080/",
          "height": 230
        },
        "id": "3JpwSA4rL8nw",
        "outputId": "35dbf5f6-10e2-4ae4-a294-913a2aa66b67"
      },
      "source": [
        "new_data['Reality'] = new_data['Reality'].replace(['N','Y'],[0,1])\n",
        "print(new_data['Reality'].value_counts())\n",
        "iv, data=calc_iv(new_data,'Reality','target')\n",
        "ivtable.loc[ivtable['variable']=='Reality','IV']=iv\n",
        "data.head()"
      ],
      "execution_count": 141,
      "outputs": [
        {
          "output_type": "stream",
          "name": "stdout",
          "text": [
            "1    16461\n",
            "0     8673\n",
            "Name: Reality, dtype: int64\n",
            "El IV de esta variable es: 0.02744070350168343\n",
            "1    16461\n",
            "0     8673\n",
            "Name: Reality, dtype: int64\n"
          ]
        },
        {
          "output_type": "execute_result",
          "data": {
            "text/html": [
              "<div>\n",
              "<style scoped>\n",
              "    .dataframe tbody tr th:only-of-type {\n",
              "        vertical-align: middle;\n",
              "    }\n",
              "\n",
              "    .dataframe tbody tr th {\n",
              "        vertical-align: top;\n",
              "    }\n",
              "\n",
              "    .dataframe thead th {\n",
              "        text-align: right;\n",
              "    }\n",
              "</style>\n",
              "<table border=\"1\" class=\"dataframe\">\n",
              "  <thead>\n",
              "    <tr style=\"text-align: right;\">\n",
              "      <th></th>\n",
              "      <th>Variable</th>\n",
              "      <th>Value</th>\n",
              "      <th>All</th>\n",
              "      <th>Good</th>\n",
              "      <th>Bad</th>\n",
              "      <th>Share</th>\n",
              "      <th>Bad Rate</th>\n",
              "      <th>Distribution Good</th>\n",
              "      <th>Distribution Bad</th>\n",
              "      <th>WoE</th>\n",
              "      <th>IV</th>\n",
              "    </tr>\n",
              "  </thead>\n",
              "  <tbody>\n",
              "    <tr>\n",
              "      <th>0</th>\n",
              "      <td>Reality</td>\n",
              "      <td>0</td>\n",
              "      <td>8673</td>\n",
              "      <td>8494</td>\n",
              "      <td>179</td>\n",
              "      <td>0.34507</td>\n",
              "      <td>0.020639</td>\n",
              "      <td>0.34372</td>\n",
              "      <td>0.424171</td>\n",
              "      <td>-0.210309</td>\n",
              "      <td>0.016920</td>\n",
              "    </tr>\n",
              "    <tr>\n",
              "      <th>1</th>\n",
              "      <td>Reality</td>\n",
              "      <td>1</td>\n",
              "      <td>16461</td>\n",
              "      <td>16218</td>\n",
              "      <td>243</td>\n",
              "      <td>0.65493</td>\n",
              "      <td>0.014762</td>\n",
              "      <td>0.65628</td>\n",
              "      <td>0.575829</td>\n",
              "      <td>0.130777</td>\n",
              "      <td>0.010521</td>\n",
              "    </tr>\n",
              "  </tbody>\n",
              "</table>\n",
              "</div>"
            ],
            "text/plain": [
              "  Variable  Value    All  ...  Distribution Bad       WoE        IV\n",
              "0  Reality      0   8673  ...          0.424171 -0.210309  0.016920\n",
              "1  Reality      1  16461  ...          0.575829  0.130777  0.010521\n",
              "\n",
              "[2 rows x 11 columns]"
            ]
          },
          "metadata": {},
          "execution_count": 141
        }
      ]
    },
    {
      "cell_type": "markdown",
      "metadata": {
        "id": "2GTDWrtF-moU"
      },
      "source": [
        "IV es less 0.02 no es una variable de predicción buena."
      ]
    },
    {
      "cell_type": "markdown",
      "metadata": {
        "id": "-ci42_JFL8nx"
      },
      "source": [
        "#### Posesión de un Teléfono"
      ]
    },
    {
      "cell_type": "code",
      "metadata": {
        "colab": {
          "base_uri": "https://localhost:8080/",
          "height": 230
        },
        "id": "37H2GRt_L8nx",
        "outputId": "9aeb1281-7d78-43dd-c2b5-59e45c2be18a"
      },
      "source": [
        "new_data['phone']=new_data['phone'].astype(str)\n",
        "print(new_data['phone'].value_counts(normalize=True,sort=False))\n",
        "new_data.drop(new_data[new_data['phone'] == 'nan' ].index, inplace=True)\n",
        "iv, data=calc_iv(new_data,'phone','target')\n",
        "ivtable.loc[ivtable['variable']=='phone','IV']=iv\n",
        "data.head()"
      ],
      "execution_count": 142,
      "outputs": [
        {
          "output_type": "stream",
          "name": "stdout",
          "text": [
            "1    0.292791\n",
            "0    0.707209\n",
            "Name: phone, dtype: float64\n",
            "El IV de esta variable es: 0.0005480495762639297\n",
            "0    17775\n",
            "1     7359\n",
            "Name: phone, dtype: int64\n"
          ]
        },
        {
          "output_type": "execute_result",
          "data": {
            "text/html": [
              "<div>\n",
              "<style scoped>\n",
              "    .dataframe tbody tr th:only-of-type {\n",
              "        vertical-align: middle;\n",
              "    }\n",
              "\n",
              "    .dataframe tbody tr th {\n",
              "        vertical-align: top;\n",
              "    }\n",
              "\n",
              "    .dataframe thead th {\n",
              "        text-align: right;\n",
              "    }\n",
              "</style>\n",
              "<table border=\"1\" class=\"dataframe\">\n",
              "  <thead>\n",
              "    <tr style=\"text-align: right;\">\n",
              "      <th></th>\n",
              "      <th>Variable</th>\n",
              "      <th>Value</th>\n",
              "      <th>All</th>\n",
              "      <th>Good</th>\n",
              "      <th>Bad</th>\n",
              "      <th>Share</th>\n",
              "      <th>Bad Rate</th>\n",
              "      <th>Distribution Good</th>\n",
              "      <th>Distribution Bad</th>\n",
              "      <th>WoE</th>\n",
              "      <th>IV</th>\n",
              "    </tr>\n",
              "  </thead>\n",
              "  <tbody>\n",
              "    <tr>\n",
              "      <th>0</th>\n",
              "      <td>phone</td>\n",
              "      <td>0</td>\n",
              "      <td>17775</td>\n",
              "      <td>17481</td>\n",
              "      <td>294</td>\n",
              "      <td>0.707209</td>\n",
              "      <td>0.016540</td>\n",
              "      <td>0.707389</td>\n",
              "      <td>0.696682</td>\n",
              "      <td>0.015251</td>\n",
              "      <td>0.000163</td>\n",
              "    </tr>\n",
              "    <tr>\n",
              "      <th>1</th>\n",
              "      <td>phone</td>\n",
              "      <td>1</td>\n",
              "      <td>7359</td>\n",
              "      <td>7231</td>\n",
              "      <td>128</td>\n",
              "      <td>0.292791</td>\n",
              "      <td>0.017394</td>\n",
              "      <td>0.292611</td>\n",
              "      <td>0.303318</td>\n",
              "      <td>-0.035937</td>\n",
              "      <td>0.000385</td>\n",
              "    </tr>\n",
              "  </tbody>\n",
              "</table>\n",
              "</div>"
            ],
            "text/plain": [
              "  Variable Value    All  ...  Distribution Bad       WoE        IV\n",
              "0    phone     0  17775  ...          0.696682  0.015251  0.000163\n",
              "1    phone     1   7359  ...          0.303318 -0.035937  0.000385\n",
              "\n",
              "[2 rows x 11 columns]"
            ]
          },
          "metadata": {},
          "execution_count": 142
        }
      ]
    },
    {
      "cell_type": "markdown",
      "metadata": {
        "id": "C6xCnz-9-05r"
      },
      "source": [
        "IV es less 0.02 no es una variable de predicción buena."
      ]
    },
    {
      "cell_type": "markdown",
      "metadata": {
        "id": "yHdW-IhtL8nx"
      },
      "source": [
        "#### Posesión de Correo Electrónico (Email)"
      ]
    },
    {
      "cell_type": "code",
      "metadata": {
        "colab": {
          "base_uri": "https://localhost:8080/",
          "height": 0
        },
        "id": "L7KZZl9tL8nx",
        "outputId": "747ed860-2213-499f-ddf2-c481e59dc233"
      },
      "source": [
        "print(new_data['email'].value_counts(normalize=True,sort=False))\n",
        "new_data['email']=new_data['email'].astype(str)\n",
        "iv, data=calc_iv(new_data,'email','target')\n",
        "ivtable.loc[ivtable['variable']=='email','IV']=iv\n",
        "data.head()"
      ],
      "execution_count": 143,
      "outputs": [
        {
          "output_type": "stream",
          "name": "stdout",
          "text": [
            "0    0.89934\n",
            "1    0.10066\n",
            "Name: email, dtype: float64\n",
            "El IV de esta variable es: 1.7343581493999816e-05\n",
            "0    22604\n",
            "1     2530\n",
            "Name: email, dtype: int64\n"
          ]
        },
        {
          "output_type": "execute_result",
          "data": {
            "text/html": [
              "<div>\n",
              "<style scoped>\n",
              "    .dataframe tbody tr th:only-of-type {\n",
              "        vertical-align: middle;\n",
              "    }\n",
              "\n",
              "    .dataframe tbody tr th {\n",
              "        vertical-align: top;\n",
              "    }\n",
              "\n",
              "    .dataframe thead th {\n",
              "        text-align: right;\n",
              "    }\n",
              "</style>\n",
              "<table border=\"1\" class=\"dataframe\">\n",
              "  <thead>\n",
              "    <tr style=\"text-align: right;\">\n",
              "      <th></th>\n",
              "      <th>Variable</th>\n",
              "      <th>Value</th>\n",
              "      <th>All</th>\n",
              "      <th>Good</th>\n",
              "      <th>Bad</th>\n",
              "      <th>Share</th>\n",
              "      <th>Bad Rate</th>\n",
              "      <th>Distribution Good</th>\n",
              "      <th>Distribution Bad</th>\n",
              "      <th>WoE</th>\n",
              "      <th>IV</th>\n",
              "    </tr>\n",
              "  </thead>\n",
              "  <tbody>\n",
              "    <tr>\n",
              "      <th>0</th>\n",
              "      <td>email</td>\n",
              "      <td>0</td>\n",
              "      <td>22604</td>\n",
              "      <td>22225</td>\n",
              "      <td>379</td>\n",
              "      <td>0.89934</td>\n",
              "      <td>0.016767</td>\n",
              "      <td>0.899361</td>\n",
              "      <td>0.898104</td>\n",
              "      <td>0.001398</td>\n",
              "      <td>0.000002</td>\n",
              "    </tr>\n",
              "    <tr>\n",
              "      <th>1</th>\n",
              "      <td>email</td>\n",
              "      <td>1</td>\n",
              "      <td>2530</td>\n",
              "      <td>2487</td>\n",
              "      <td>43</td>\n",
              "      <td>0.10066</td>\n",
              "      <td>0.016996</td>\n",
              "      <td>0.100639</td>\n",
              "      <td>0.101896</td>\n",
              "      <td>-0.012407</td>\n",
              "      <td>0.000016</td>\n",
              "    </tr>\n",
              "  </tbody>\n",
              "</table>\n",
              "</div>"
            ],
            "text/plain": [
              "  Variable Value    All  ...  Distribution Bad       WoE        IV\n",
              "0    email     0  22604  ...          0.898104  0.001398  0.000002\n",
              "1    email     1   2530  ...          0.101896 -0.012407  0.000016\n",
              "\n",
              "[2 rows x 11 columns]"
            ]
          },
          "metadata": {},
          "execution_count": 143
        }
      ]
    },
    {
      "cell_type": "markdown",
      "metadata": {
        "id": "dvyAkBeU-7Bf"
      },
      "source": [
        "IV es less 0.02 no es una variable de predicción buena."
      ]
    },
    {
      "cell_type": "markdown",
      "metadata": {
        "id": "V3WekQqlL8nx"
      },
      "source": [
        "#### Posesión de Teléfono para Trabajo"
      ]
    },
    {
      "cell_type": "code",
      "metadata": {
        "colab": {
          "base_uri": "https://localhost:8080/",
          "height": 179
        },
        "id": "uQgL3gPJL8ny",
        "outputId": "21b45c29-b02e-4087-dffa-95c0950fd73e"
      },
      "source": [
        "new_data['wkphone']=new_data['wkphone'].astype(str)\n",
        "iv, data = calc_iv(new_data,'wkphone','target')\n",
        "new_data.drop(new_data[new_data['wkphone'] == 'nan' ].index, inplace=True)\n",
        "ivtable.loc[ivtable['variable']=='wkphone','IV']=iv\n",
        "data.head()"
      ],
      "execution_count": 144,
      "outputs": [
        {
          "output_type": "stream",
          "name": "stdout",
          "text": [
            "El IV de esta variable es: 0.002042429795148461\n",
            "0    18252\n",
            "1     6882\n",
            "Name: wkphone, dtype: int64\n"
          ]
        },
        {
          "output_type": "execute_result",
          "data": {
            "text/html": [
              "<div>\n",
              "<style scoped>\n",
              "    .dataframe tbody tr th:only-of-type {\n",
              "        vertical-align: middle;\n",
              "    }\n",
              "\n",
              "    .dataframe tbody tr th {\n",
              "        vertical-align: top;\n",
              "    }\n",
              "\n",
              "    .dataframe thead th {\n",
              "        text-align: right;\n",
              "    }\n",
              "</style>\n",
              "<table border=\"1\" class=\"dataframe\">\n",
              "  <thead>\n",
              "    <tr style=\"text-align: right;\">\n",
              "      <th></th>\n",
              "      <th>Variable</th>\n",
              "      <th>Value</th>\n",
              "      <th>All</th>\n",
              "      <th>Good</th>\n",
              "      <th>Bad</th>\n",
              "      <th>Share</th>\n",
              "      <th>Bad Rate</th>\n",
              "      <th>Distribution Good</th>\n",
              "      <th>Distribution Bad</th>\n",
              "      <th>WoE</th>\n",
              "      <th>IV</th>\n",
              "    </tr>\n",
              "  </thead>\n",
              "  <tbody>\n",
              "    <tr>\n",
              "      <th>0</th>\n",
              "      <td>wkphone</td>\n",
              "      <td>0</td>\n",
              "      <td>18252</td>\n",
              "      <td>17954</td>\n",
              "      <td>298</td>\n",
              "      <td>0.726188</td>\n",
              "      <td>0.016327</td>\n",
              "      <td>0.72653</td>\n",
              "      <td>0.706161</td>\n",
              "      <td>0.028436</td>\n",
              "      <td>0.000579</td>\n",
              "    </tr>\n",
              "    <tr>\n",
              "      <th>1</th>\n",
              "      <td>wkphone</td>\n",
              "      <td>1</td>\n",
              "      <td>6882</td>\n",
              "      <td>6758</td>\n",
              "      <td>124</td>\n",
              "      <td>0.273812</td>\n",
              "      <td>0.018018</td>\n",
              "      <td>0.27347</td>\n",
              "      <td>0.293839</td>\n",
              "      <td>-0.071838</td>\n",
              "      <td>0.001463</td>\n",
              "    </tr>\n",
              "  </tbody>\n",
              "</table>\n",
              "</div>"
            ],
            "text/plain": [
              "  Variable Value    All  ...  Distribution Bad       WoE        IV\n",
              "0  wkphone     0  18252  ...          0.706161  0.028436  0.000579\n",
              "1  wkphone     1   6882  ...          0.293839 -0.071838  0.001463\n",
              "\n",
              "[2 rows x 11 columns]"
            ]
          },
          "metadata": {},
          "execution_count": 144
        }
      ]
    },
    {
      "cell_type": "markdown",
      "metadata": {
        "id": "ZkL2_H6g_DcN"
      },
      "source": [
        "IV es less 0.02 no es una variable de predicción buena."
      ]
    },
    {
      "cell_type": "markdown",
      "metadata": {
        "id": "cX4rc7kKL8ny"
      },
      "source": [
        "### Descriptores Continuos\n",
        "\n",
        "#### Cantidad de Hijos"
      ]
    },
    {
      "cell_type": "code",
      "metadata": {
        "colab": {
          "base_uri": "https://localhost:8080/"
        },
        "id": "RtI0l523L8nz",
        "outputId": "4f0e942f-accd-45ed-ede9-c9d6fcef9bd3"
      },
      "source": [
        "# Separamos aquellos que: no tienen hijos, tienen 1 hijo, tienen 2 o más hijos.\n",
        "new_data.loc[new_data['ChldNo'] >= 2,'ChldNo']='2More'\n",
        "print(new_data['ChldNo'].value_counts(sort=False))"
      ],
      "execution_count": 145,
      "outputs": [
        {
          "output_type": "stream",
          "name": "stdout",
          "text": [
            "0        15908\n",
            "1         6118\n",
            "2More     3108\n",
            "Name: ChldNo, dtype: int64\n"
          ]
        }
      ]
    },
    {
      "cell_type": "code",
      "metadata": {
        "colab": {
          "base_uri": "https://localhost:8080/",
          "height": 227
        },
        "id": "KYjcH0txL8nz",
        "outputId": "96c318ae-61dd-4ddc-b185-35e5f6bf0fd5"
      },
      "source": [
        "iv, data=calc_iv(new_data,'ChldNo','target')\n",
        "ivtable.loc[ivtable['variable']=='ChldNo','IV']=iv\n",
        "data.head()"
      ],
      "execution_count": 146,
      "outputs": [
        {
          "output_type": "stream",
          "name": "stdout",
          "text": [
            "El IV de esta variable es: 0.0011214542503301935\n",
            "0        15908\n",
            "1         6118\n",
            "2More     3108\n",
            "Name: ChldNo, dtype: int64\n"
          ]
        },
        {
          "output_type": "execute_result",
          "data": {
            "text/html": [
              "<div>\n",
              "<style scoped>\n",
              "    .dataframe tbody tr th:only-of-type {\n",
              "        vertical-align: middle;\n",
              "    }\n",
              "\n",
              "    .dataframe tbody tr th {\n",
              "        vertical-align: top;\n",
              "    }\n",
              "\n",
              "    .dataframe thead th {\n",
              "        text-align: right;\n",
              "    }\n",
              "</style>\n",
              "<table border=\"1\" class=\"dataframe\">\n",
              "  <thead>\n",
              "    <tr style=\"text-align: right;\">\n",
              "      <th></th>\n",
              "      <th>Variable</th>\n",
              "      <th>Value</th>\n",
              "      <th>All</th>\n",
              "      <th>Good</th>\n",
              "      <th>Bad</th>\n",
              "      <th>Share</th>\n",
              "      <th>Bad Rate</th>\n",
              "      <th>Distribution Good</th>\n",
              "      <th>Distribution Bad</th>\n",
              "      <th>WoE</th>\n",
              "      <th>IV</th>\n",
              "    </tr>\n",
              "  </thead>\n",
              "  <tbody>\n",
              "    <tr>\n",
              "      <th>0</th>\n",
              "      <td>ChldNo</td>\n",
              "      <td>0</td>\n",
              "      <td>15908</td>\n",
              "      <td>15635</td>\n",
              "      <td>273</td>\n",
              "      <td>0.632928</td>\n",
              "      <td>0.017161</td>\n",
              "      <td>0.632689</td>\n",
              "      <td>0.646919</td>\n",
              "      <td>-0.022243</td>\n",
              "      <td>0.000317</td>\n",
              "    </tr>\n",
              "    <tr>\n",
              "      <th>1</th>\n",
              "      <td>ChldNo</td>\n",
              "      <td>1</td>\n",
              "      <td>6118</td>\n",
              "      <td>6021</td>\n",
              "      <td>97</td>\n",
              "      <td>0.243415</td>\n",
              "      <td>0.015855</td>\n",
              "      <td>0.243647</td>\n",
              "      <td>0.229858</td>\n",
              "      <td>0.058259</td>\n",
              "      <td>0.000803</td>\n",
              "    </tr>\n",
              "    <tr>\n",
              "      <th>2</th>\n",
              "      <td>ChldNo</td>\n",
              "      <td>2More</td>\n",
              "      <td>3108</td>\n",
              "      <td>3056</td>\n",
              "      <td>52</td>\n",
              "      <td>0.123657</td>\n",
              "      <td>0.016731</td>\n",
              "      <td>0.123665</td>\n",
              "      <td>0.123223</td>\n",
              "      <td>0.003580</td>\n",
              "      <td>0.000002</td>\n",
              "    </tr>\n",
              "  </tbody>\n",
              "</table>\n",
              "</div>"
            ],
            "text/plain": [
              "  Variable  Value    All  ...  Distribution Bad       WoE        IV\n",
              "0   ChldNo      0  15908  ...          0.646919 -0.022243  0.000317\n",
              "1   ChldNo      1   6118  ...          0.229858  0.058259  0.000803\n",
              "2   ChldNo  2More   3108  ...          0.123223  0.003580  0.000002\n",
              "\n",
              "[3 rows x 11 columns]"
            ]
          },
          "metadata": {},
          "execution_count": 146
        }
      ]
    },
    {
      "cell_type": "markdown",
      "metadata": {
        "id": "a55FmmmL_MYc"
      },
      "source": [
        "Análisis, Como es una variable continua se debe dividir primero, se dividio en 3.\n",
        "\n",
        "IV es less 0.02 no es una variable de predicción buena."
      ]
    },
    {
      "cell_type": "code",
      "metadata": {
        "id": "cYKPffN5L8nz"
      },
      "source": [
        "new_data = convert_dummy(new_data,'ChldNo') # Adicionamos una Codificación One-Hot "
      ],
      "execution_count": 147,
      "outputs": []
    },
    {
      "cell_type": "code",
      "metadata": {
        "colab": {
          "base_uri": "https://localhost:8080/",
          "height": 480
        },
        "id": "rsKhdUMyL8n0",
        "outputId": "5d8cff37-30da-4fcb-f367-4bc21bc90a4e"
      },
      "source": [
        "new_data.head()"
      ],
      "execution_count": 148,
      "outputs": [
        {
          "output_type": "execute_result",
          "data": {
            "text/html": [
              "<div>\n",
              "<style scoped>\n",
              "    .dataframe tbody tr th:only-of-type {\n",
              "        vertical-align: middle;\n",
              "    }\n",
              "\n",
              "    .dataframe tbody tr th {\n",
              "        vertical-align: top;\n",
              "    }\n",
              "\n",
              "    .dataframe thead th {\n",
              "        text-align: right;\n",
              "    }\n",
              "</style>\n",
              "<table border=\"1\" class=\"dataframe\">\n",
              "  <thead>\n",
              "    <tr style=\"text-align: right;\">\n",
              "      <th></th>\n",
              "      <th>ID</th>\n",
              "      <th>Gender</th>\n",
              "      <th>Car</th>\n",
              "      <th>Reality</th>\n",
              "      <th>inc</th>\n",
              "      <th>inctp</th>\n",
              "      <th>edutp</th>\n",
              "      <th>famtp</th>\n",
              "      <th>houtp</th>\n",
              "      <th>DAYS_BIRTH</th>\n",
              "      <th>DAYS_EMPLOYED</th>\n",
              "      <th>FLAG_MOBIL</th>\n",
              "      <th>wkphone</th>\n",
              "      <th>phone</th>\n",
              "      <th>email</th>\n",
              "      <th>occyp</th>\n",
              "      <th>famsize</th>\n",
              "      <th>begin_month</th>\n",
              "      <th>dep_value</th>\n",
              "      <th>target</th>\n",
              "      <th>ChldNo_1</th>\n",
              "      <th>ChldNo_2More</th>\n",
              "    </tr>\n",
              "  </thead>\n",
              "  <tbody>\n",
              "    <tr>\n",
              "      <th>2</th>\n",
              "      <td>5008806</td>\n",
              "      <td>1</td>\n",
              "      <td>1</td>\n",
              "      <td>1</td>\n",
              "      <td>112500.0</td>\n",
              "      <td>Working</td>\n",
              "      <td>Secondary / secondary special</td>\n",
              "      <td>Married</td>\n",
              "      <td>House / apartment</td>\n",
              "      <td>-21474</td>\n",
              "      <td>-1134</td>\n",
              "      <td>1</td>\n",
              "      <td>0</td>\n",
              "      <td>0</td>\n",
              "      <td>0</td>\n",
              "      <td>Security staff</td>\n",
              "      <td>2.0</td>\n",
              "      <td>-29.0</td>\n",
              "      <td>No</td>\n",
              "      <td>0</td>\n",
              "      <td>0</td>\n",
              "      <td>0</td>\n",
              "    </tr>\n",
              "    <tr>\n",
              "      <th>3</th>\n",
              "      <td>5008808</td>\n",
              "      <td>0</td>\n",
              "      <td>0</td>\n",
              "      <td>1</td>\n",
              "      <td>270000.0</td>\n",
              "      <td>Commercial associate</td>\n",
              "      <td>Secondary / secondary special</td>\n",
              "      <td>Single / not married</td>\n",
              "      <td>House / apartment</td>\n",
              "      <td>-19110</td>\n",
              "      <td>-3051</td>\n",
              "      <td>1</td>\n",
              "      <td>0</td>\n",
              "      <td>1</td>\n",
              "      <td>1</td>\n",
              "      <td>Sales staff</td>\n",
              "      <td>1.0</td>\n",
              "      <td>-4.0</td>\n",
              "      <td>No</td>\n",
              "      <td>0</td>\n",
              "      <td>0</td>\n",
              "      <td>0</td>\n",
              "    </tr>\n",
              "    <tr>\n",
              "      <th>4</th>\n",
              "      <td>5008809</td>\n",
              "      <td>0</td>\n",
              "      <td>0</td>\n",
              "      <td>1</td>\n",
              "      <td>270000.0</td>\n",
              "      <td>Commercial associate</td>\n",
              "      <td>Secondary / secondary special</td>\n",
              "      <td>Single / not married</td>\n",
              "      <td>House / apartment</td>\n",
              "      <td>-19110</td>\n",
              "      <td>-3051</td>\n",
              "      <td>1</td>\n",
              "      <td>0</td>\n",
              "      <td>1</td>\n",
              "      <td>1</td>\n",
              "      <td>Sales staff</td>\n",
              "      <td>1.0</td>\n",
              "      <td>-26.0</td>\n",
              "      <td>No</td>\n",
              "      <td>0</td>\n",
              "      <td>0</td>\n",
              "      <td>0</td>\n",
              "    </tr>\n",
              "    <tr>\n",
              "      <th>5</th>\n",
              "      <td>5008810</td>\n",
              "      <td>0</td>\n",
              "      <td>0</td>\n",
              "      <td>1</td>\n",
              "      <td>270000.0</td>\n",
              "      <td>Commercial associate</td>\n",
              "      <td>Secondary / secondary special</td>\n",
              "      <td>Single / not married</td>\n",
              "      <td>House / apartment</td>\n",
              "      <td>-19110</td>\n",
              "      <td>-3051</td>\n",
              "      <td>1</td>\n",
              "      <td>0</td>\n",
              "      <td>1</td>\n",
              "      <td>1</td>\n",
              "      <td>Sales staff</td>\n",
              "      <td>1.0</td>\n",
              "      <td>-26.0</td>\n",
              "      <td>No</td>\n",
              "      <td>0</td>\n",
              "      <td>0</td>\n",
              "      <td>0</td>\n",
              "    </tr>\n",
              "    <tr>\n",
              "      <th>6</th>\n",
              "      <td>5008811</td>\n",
              "      <td>0</td>\n",
              "      <td>0</td>\n",
              "      <td>1</td>\n",
              "      <td>270000.0</td>\n",
              "      <td>Commercial associate</td>\n",
              "      <td>Secondary / secondary special</td>\n",
              "      <td>Single / not married</td>\n",
              "      <td>House / apartment</td>\n",
              "      <td>-19110</td>\n",
              "      <td>-3051</td>\n",
              "      <td>1</td>\n",
              "      <td>0</td>\n",
              "      <td>1</td>\n",
              "      <td>1</td>\n",
              "      <td>Sales staff</td>\n",
              "      <td>1.0</td>\n",
              "      <td>-38.0</td>\n",
              "      <td>No</td>\n",
              "      <td>0</td>\n",
              "      <td>0</td>\n",
              "      <td>0</td>\n",
              "    </tr>\n",
              "  </tbody>\n",
              "</table>\n",
              "</div>"
            ],
            "text/plain": [
              "        ID  Gender  Car  Reality  ...  dep_value target ChldNo_1 ChldNo_2More\n",
              "2  5008806       1    1        1  ...         No      0        0            0\n",
              "3  5008808       0    0        1  ...         No      0        0            0\n",
              "4  5008809       0    0        1  ...         No      0        0            0\n",
              "5  5008810       0    0        1  ...         No      0        0            0\n",
              "6  5008811       0    0        1  ...         No      0        0            0\n",
              "\n",
              "[5 rows x 22 columns]"
            ]
          },
          "metadata": {},
          "execution_count": 148
        }
      ]
    },
    {
      "cell_type": "markdown",
      "metadata": {
        "id": "5D89q8ZdL8n0"
      },
      "source": [
        "#### Ingresos Anuales\n",
        "\n",
        "Gráfica de Histograma para observar la distribución."
      ]
    },
    {
      "cell_type": "code",
      "metadata": {
        "colab": {
          "base_uri": "https://localhost:8080/"
        },
        "id": "UgEFoM13L8n0",
        "outputId": "af58c115-5fb8-42ac-9705-4ad9763ae59e"
      },
      "source": [
        "new_data['inc'] = new_data['inc'].astype(object)\n",
        "new_data['inc'] = new_data['inc']/10000 \n",
        "print(new_data['inc'].value_counts(bins=10,sort=False))"
      ],
      "execution_count": 149,
      "outputs": [
        {
          "output_type": "stream",
          "name": "stdout",
          "text": [
            "(2.544, 18.18]      14663\n",
            "(18.18, 33.66]       8464\n",
            "(33.66, 49.14]       1637\n",
            "(49.14, 64.62]        175\n",
            "(64.62, 80.1]         124\n",
            "(80.1, 95.58]          50\n",
            "(95.58, 111.06]         4\n",
            "(111.06, 126.54]        3\n",
            "(126.54, 142.02]        6\n",
            "(142.02, 157.5]         8\n",
            "Name: inc, dtype: int64\n"
          ]
        }
      ]
    },
    {
      "cell_type": "code",
      "metadata": {
        "colab": {
          "base_uri": "https://localhost:8080/",
          "height": 370
        },
        "id": "rJo7_JhRL8n1",
        "outputId": "6b649a39-a0b3-435f-d64a-7a4f90f3100e"
      },
      "source": [
        "new_data['inc'].plot(kind='hist',bins=50,density=True)"
      ],
      "execution_count": 150,
      "outputs": [
        {
          "output_type": "execute_result",
          "data": {
            "text/plain": [
              "<matplotlib.axes._subplots.AxesSubplot at 0x7ff458a4fd50>"
            ]
          },
          "metadata": {},
          "execution_count": 150
        },
        {
          "output_type": "display_data",
          "data": {
            "text/plain": [
              "<Figure size 432x288 with 1 Axes>"
            ],
            "image/svg+xml": "<?xml version=\"1.0\" encoding=\"utf-8\" standalone=\"no\"?>\n<!DOCTYPE svg PUBLIC \"-//W3C//DTD SVG 1.1//EN\"\n  \"http://www.w3.org/Graphics/SVG/1.1/DTD/svg11.dtd\">\n<!-- Created with matplotlib (https://matplotlib.org/) -->\n<svg height=\"248.518125pt\" version=\"1.1\" viewBox=\"0 0 392.14375 248.518125\" width=\"392.14375pt\" xmlns=\"http://www.w3.org/2000/svg\" xmlns:xlink=\"http://www.w3.org/1999/xlink\">\n <defs>\n  <style type=\"text/css\">\n*{stroke-linecap:butt;stroke-linejoin:round;}\n  </style>\n </defs>\n <g id=\"figure_1\">\n  <g id=\"patch_1\">\n   <path d=\"M 0 248.518125 \nL 392.14375 248.518125 \nL 392.14375 0 \nL 0 0 \nz\n\" style=\"fill:#ffffff;\"/>\n  </g>\n  <g id=\"axes_1\">\n   <g id=\"patch_2\">\n    <path d=\"M 50.14375 224.64 \nL 384.94375 224.64 \nL 384.94375 7.2 \nL 50.14375 7.2 \nz\n\" style=\"fill:#ffffff;\"/>\n   </g>\n   <g id=\"matplotlib.axis_1\">\n    <g id=\"xtick_1\">\n     <g id=\"text_1\">\n      <!-- 0 -->\n      <defs>\n       <path d=\"M 31.78125 66.40625 \nQ 24.171875 66.40625 20.328125 58.90625 \nQ 16.5 51.421875 16.5 36.375 \nQ 16.5 21.390625 20.328125 13.890625 \nQ 24.171875 6.390625 31.78125 6.390625 \nQ 39.453125 6.390625 43.28125 13.890625 \nQ 47.125 21.390625 47.125 36.375 \nQ 47.125 51.421875 43.28125 58.90625 \nQ 39.453125 66.40625 31.78125 66.40625 \nz\nM 31.78125 74.21875 \nQ 44.046875 74.21875 50.515625 64.515625 \nQ 56.984375 54.828125 56.984375 36.375 \nQ 56.984375 17.96875 50.515625 8.265625 \nQ 44.046875 -1.421875 31.78125 -1.421875 \nQ 19.53125 -1.421875 13.0625 8.265625 \nQ 6.59375 17.96875 6.59375 36.375 \nQ 6.59375 54.828125 13.0625 64.515625 \nQ 19.53125 74.21875 31.78125 74.21875 \nz\n\" id=\"DejaVuSans-48\"/>\n      </defs>\n      <g style=\"fill:#262626;\" transform=\"translate(56.872014 239.238437)scale(0.1 -0.1)\">\n       <use xlink:href=\"#DejaVuSans-48\"/>\n      </g>\n     </g>\n    </g>\n    <g id=\"xtick_2\">\n     <g id=\"text_2\">\n      <!-- 20 -->\n      <defs>\n       <path d=\"M 19.1875 8.296875 \nL 53.609375 8.296875 \nL 53.609375 0 \nL 7.328125 0 \nL 7.328125 8.296875 \nQ 12.9375 14.109375 22.625 23.890625 \nQ 32.328125 33.6875 34.8125 36.53125 \nQ 39.546875 41.84375 41.421875 45.53125 \nQ 43.3125 49.21875 43.3125 52.78125 \nQ 43.3125 58.59375 39.234375 62.25 \nQ 35.15625 65.921875 28.609375 65.921875 \nQ 23.96875 65.921875 18.8125 64.3125 \nQ 13.671875 62.703125 7.8125 59.421875 \nL 7.8125 69.390625 \nQ 13.765625 71.78125 18.9375 73 \nQ 24.125 74.21875 28.421875 74.21875 \nQ 39.75 74.21875 46.484375 68.546875 \nQ 53.21875 62.890625 53.21875 53.421875 \nQ 53.21875 48.921875 51.53125 44.890625 \nQ 49.859375 40.875 45.40625 35.40625 \nQ 44.1875 33.984375 37.640625 27.21875 \nQ 31.109375 20.453125 19.1875 8.296875 \nz\n\" id=\"DejaVuSans-50\"/>\n      </defs>\n      <g style=\"fill:#262626;\" transform=\"translate(93.014231 239.238437)scale(0.1 -0.1)\">\n       <use xlink:href=\"#DejaVuSans-50\"/>\n       <use x=\"63.623047\" xlink:href=\"#DejaVuSans-48\"/>\n      </g>\n     </g>\n    </g>\n    <g id=\"xtick_3\">\n     <g id=\"text_3\">\n      <!-- 40 -->\n      <defs>\n       <path d=\"M 37.796875 64.3125 \nL 12.890625 25.390625 \nL 37.796875 25.390625 \nz\nM 35.203125 72.90625 \nL 47.609375 72.90625 \nL 47.609375 25.390625 \nL 58.015625 25.390625 \nL 58.015625 17.1875 \nL 47.609375 17.1875 \nL 47.609375 0 \nL 37.796875 0 \nL 37.796875 17.1875 \nL 4.890625 17.1875 \nL 4.890625 26.703125 \nz\n\" id=\"DejaVuSans-52\"/>\n      </defs>\n      <g style=\"fill:#262626;\" transform=\"translate(132.337698 239.238437)scale(0.1 -0.1)\">\n       <use xlink:href=\"#DejaVuSans-52\"/>\n       <use x=\"63.623047\" xlink:href=\"#DejaVuSans-48\"/>\n      </g>\n     </g>\n    </g>\n    <g id=\"xtick_4\">\n     <g id=\"text_4\">\n      <!-- 60 -->\n      <defs>\n       <path d=\"M 33.015625 40.375 \nQ 26.375 40.375 22.484375 35.828125 \nQ 18.609375 31.296875 18.609375 23.390625 \nQ 18.609375 15.53125 22.484375 10.953125 \nQ 26.375 6.390625 33.015625 6.390625 \nQ 39.65625 6.390625 43.53125 10.953125 \nQ 47.40625 15.53125 47.40625 23.390625 \nQ 47.40625 31.296875 43.53125 35.828125 \nQ 39.65625 40.375 33.015625 40.375 \nz\nM 52.59375 71.296875 \nL 52.59375 62.3125 \nQ 48.875 64.0625 45.09375 64.984375 \nQ 41.3125 65.921875 37.59375 65.921875 \nQ 27.828125 65.921875 22.671875 59.328125 \nQ 17.53125 52.734375 16.796875 39.40625 \nQ 19.671875 43.65625 24.015625 45.921875 \nQ 28.375 48.1875 33.59375 48.1875 \nQ 44.578125 48.1875 50.953125 41.515625 \nQ 57.328125 34.859375 57.328125 23.390625 \nQ 57.328125 12.15625 50.6875 5.359375 \nQ 44.046875 -1.421875 33.015625 -1.421875 \nQ 20.359375 -1.421875 13.671875 8.265625 \nQ 6.984375 17.96875 6.984375 36.375 \nQ 6.984375 53.65625 15.1875 63.9375 \nQ 23.390625 74.21875 37.203125 74.21875 \nQ 40.921875 74.21875 44.703125 73.484375 \nQ 48.484375 72.75 52.59375 71.296875 \nz\n\" id=\"DejaVuSans-54\"/>\n      </defs>\n      <g style=\"fill:#262626;\" transform=\"translate(171.661165 239.238437)scale(0.1 -0.1)\">\n       <use xlink:href=\"#DejaVuSans-54\"/>\n       <use x=\"63.623047\" xlink:href=\"#DejaVuSans-48\"/>\n      </g>\n     </g>\n    </g>\n    <g id=\"xtick_5\">\n     <g id=\"text_5\">\n      <!-- 80 -->\n      <defs>\n       <path d=\"M 31.78125 34.625 \nQ 24.75 34.625 20.71875 30.859375 \nQ 16.703125 27.09375 16.703125 20.515625 \nQ 16.703125 13.921875 20.71875 10.15625 \nQ 24.75 6.390625 31.78125 6.390625 \nQ 38.8125 6.390625 42.859375 10.171875 \nQ 46.921875 13.96875 46.921875 20.515625 \nQ 46.921875 27.09375 42.890625 30.859375 \nQ 38.875 34.625 31.78125 34.625 \nz\nM 21.921875 38.8125 \nQ 15.578125 40.375 12.03125 44.71875 \nQ 8.5 49.078125 8.5 55.328125 \nQ 8.5 64.0625 14.71875 69.140625 \nQ 20.953125 74.21875 31.78125 74.21875 \nQ 42.671875 74.21875 48.875 69.140625 \nQ 55.078125 64.0625 55.078125 55.328125 \nQ 55.078125 49.078125 51.53125 44.71875 \nQ 48 40.375 41.703125 38.8125 \nQ 48.828125 37.15625 52.796875 32.3125 \nQ 56.78125 27.484375 56.78125 20.515625 \nQ 56.78125 9.90625 50.3125 4.234375 \nQ 43.84375 -1.421875 31.78125 -1.421875 \nQ 19.734375 -1.421875 13.25 4.234375 \nQ 6.78125 9.90625 6.78125 20.515625 \nQ 6.78125 27.484375 10.78125 32.3125 \nQ 14.796875 37.15625 21.921875 38.8125 \nz\nM 18.3125 54.390625 \nQ 18.3125 48.734375 21.84375 45.5625 \nQ 25.390625 42.390625 31.78125 42.390625 \nQ 38.140625 42.390625 41.71875 45.5625 \nQ 45.3125 48.734375 45.3125 54.390625 \nQ 45.3125 60.0625 41.71875 63.234375 \nQ 38.140625 66.40625 31.78125 66.40625 \nQ 25.390625 66.40625 21.84375 63.234375 \nQ 18.3125 60.0625 18.3125 54.390625 \nz\n\" id=\"DejaVuSans-56\"/>\n      </defs>\n      <g style=\"fill:#262626;\" transform=\"translate(210.984633 239.238437)scale(0.1 -0.1)\">\n       <use xlink:href=\"#DejaVuSans-56\"/>\n       <use x=\"63.623047\" xlink:href=\"#DejaVuSans-48\"/>\n      </g>\n     </g>\n    </g>\n    <g id=\"xtick_6\">\n     <g id=\"text_6\">\n      <!-- 100 -->\n      <defs>\n       <path d=\"M 12.40625 8.296875 \nL 28.515625 8.296875 \nL 28.515625 63.921875 \nL 10.984375 60.40625 \nL 10.984375 69.390625 \nL 28.421875 72.90625 \nL 38.28125 72.90625 \nL 38.28125 8.296875 \nL 54.390625 8.296875 \nL 54.390625 0 \nL 12.40625 0 \nz\n\" id=\"DejaVuSans-49\"/>\n      </defs>\n      <g style=\"fill:#262626;\" transform=\"translate(247.12685 239.238437)scale(0.1 -0.1)\">\n       <use xlink:href=\"#DejaVuSans-49\"/>\n       <use x=\"63.623047\" xlink:href=\"#DejaVuSans-48\"/>\n       <use x=\"127.246094\" xlink:href=\"#DejaVuSans-48\"/>\n      </g>\n     </g>\n    </g>\n    <g id=\"xtick_7\">\n     <g id=\"text_7\">\n      <!-- 120 -->\n      <g style=\"fill:#262626;\" transform=\"translate(286.450317 239.238437)scale(0.1 -0.1)\">\n       <use xlink:href=\"#DejaVuSans-49\"/>\n       <use x=\"63.623047\" xlink:href=\"#DejaVuSans-50\"/>\n       <use x=\"127.246094\" xlink:href=\"#DejaVuSans-48\"/>\n      </g>\n     </g>\n    </g>\n    <g id=\"xtick_8\">\n     <g id=\"text_8\">\n      <!-- 140 -->\n      <g style=\"fill:#262626;\" transform=\"translate(325.773784 239.238437)scale(0.1 -0.1)\">\n       <use xlink:href=\"#DejaVuSans-49\"/>\n       <use x=\"63.623047\" xlink:href=\"#DejaVuSans-52\"/>\n       <use x=\"127.246094\" xlink:href=\"#DejaVuSans-48\"/>\n      </g>\n     </g>\n    </g>\n    <g id=\"xtick_9\">\n     <g id=\"text_9\">\n      <!-- 160 -->\n      <g style=\"fill:#262626;\" transform=\"translate(365.097252 239.238437)scale(0.1 -0.1)\">\n       <use xlink:href=\"#DejaVuSans-49\"/>\n       <use x=\"63.623047\" xlink:href=\"#DejaVuSans-54\"/>\n       <use x=\"127.246094\" xlink:href=\"#DejaVuSans-48\"/>\n      </g>\n     </g>\n    </g>\n   </g>\n   <g id=\"matplotlib.axis_2\">\n    <g id=\"ytick_1\">\n     <g id=\"text_10\">\n      <!-- 0.00 -->\n      <defs>\n       <path d=\"M 10.6875 12.40625 \nL 21 12.40625 \nL 21 0 \nL 10.6875 0 \nz\n\" id=\"DejaVuSans-46\"/>\n      </defs>\n      <g style=\"fill:#262626;\" transform=\"translate(20.878125 228.439219)scale(0.1 -0.1)\">\n       <use xlink:href=\"#DejaVuSans-48\"/>\n       <use x=\"63.623047\" xlink:href=\"#DejaVuSans-46\"/>\n       <use x=\"95.410156\" xlink:href=\"#DejaVuSans-48\"/>\n       <use x=\"159.033203\" xlink:href=\"#DejaVuSans-48\"/>\n      </g>\n     </g>\n    </g>\n    <g id=\"ytick_2\">\n     <g id=\"text_11\">\n      <!-- 0.01 -->\n      <g style=\"fill:#262626;\" transform=\"translate(20.878125 197.008857)scale(0.1 -0.1)\">\n       <use xlink:href=\"#DejaVuSans-48\"/>\n       <use x=\"63.623047\" xlink:href=\"#DejaVuSans-46\"/>\n       <use x=\"95.410156\" xlink:href=\"#DejaVuSans-48\"/>\n       <use x=\"159.033203\" xlink:href=\"#DejaVuSans-49\"/>\n      </g>\n     </g>\n    </g>\n    <g id=\"ytick_3\">\n     <g id=\"text_12\">\n      <!-- 0.02 -->\n      <g style=\"fill:#262626;\" transform=\"translate(20.878125 165.578494)scale(0.1 -0.1)\">\n       <use xlink:href=\"#DejaVuSans-48\"/>\n       <use x=\"63.623047\" xlink:href=\"#DejaVuSans-46\"/>\n       <use x=\"95.410156\" xlink:href=\"#DejaVuSans-48\"/>\n       <use x=\"159.033203\" xlink:href=\"#DejaVuSans-50\"/>\n      </g>\n     </g>\n    </g>\n    <g id=\"ytick_4\">\n     <g id=\"text_13\">\n      <!-- 0.03 -->\n      <defs>\n       <path d=\"M 40.578125 39.3125 \nQ 47.65625 37.796875 51.625 33 \nQ 55.609375 28.21875 55.609375 21.1875 \nQ 55.609375 10.40625 48.1875 4.484375 \nQ 40.765625 -1.421875 27.09375 -1.421875 \nQ 22.515625 -1.421875 17.65625 -0.515625 \nQ 12.796875 0.390625 7.625 2.203125 \nL 7.625 11.71875 \nQ 11.71875 9.328125 16.59375 8.109375 \nQ 21.484375 6.890625 26.8125 6.890625 \nQ 36.078125 6.890625 40.9375 10.546875 \nQ 45.796875 14.203125 45.796875 21.1875 \nQ 45.796875 27.640625 41.28125 31.265625 \nQ 36.765625 34.90625 28.71875 34.90625 \nL 20.21875 34.90625 \nL 20.21875 43.015625 \nL 29.109375 43.015625 \nQ 36.375 43.015625 40.234375 45.921875 \nQ 44.09375 48.828125 44.09375 54.296875 \nQ 44.09375 59.90625 40.109375 62.90625 \nQ 36.140625 65.921875 28.71875 65.921875 \nQ 24.65625 65.921875 20.015625 65.03125 \nQ 15.375 64.15625 9.8125 62.3125 \nL 9.8125 71.09375 \nQ 15.4375 72.65625 20.34375 73.4375 \nQ 25.25 74.21875 29.59375 74.21875 \nQ 40.828125 74.21875 47.359375 69.109375 \nQ 53.90625 64.015625 53.90625 55.328125 \nQ 53.90625 49.265625 50.4375 45.09375 \nQ 46.96875 40.921875 40.578125 39.3125 \nz\n\" id=\"DejaVuSans-51\"/>\n      </defs>\n      <g style=\"fill:#262626;\" transform=\"translate(20.878125 134.148132)scale(0.1 -0.1)\">\n       <use xlink:href=\"#DejaVuSans-48\"/>\n       <use x=\"63.623047\" xlink:href=\"#DejaVuSans-46\"/>\n       <use x=\"95.410156\" xlink:href=\"#DejaVuSans-48\"/>\n       <use x=\"159.033203\" xlink:href=\"#DejaVuSans-51\"/>\n      </g>\n     </g>\n    </g>\n    <g id=\"ytick_5\">\n     <g id=\"text_14\">\n      <!-- 0.04 -->\n      <g style=\"fill:#262626;\" transform=\"translate(20.878125 102.71777)scale(0.1 -0.1)\">\n       <use xlink:href=\"#DejaVuSans-48\"/>\n       <use x=\"63.623047\" xlink:href=\"#DejaVuSans-46\"/>\n       <use x=\"95.410156\" xlink:href=\"#DejaVuSans-48\"/>\n       <use x=\"159.033203\" xlink:href=\"#DejaVuSans-52\"/>\n      </g>\n     </g>\n    </g>\n    <g id=\"ytick_6\">\n     <g id=\"text_15\">\n      <!-- 0.05 -->\n      <defs>\n       <path d=\"M 10.796875 72.90625 \nL 49.515625 72.90625 \nL 49.515625 64.59375 \nL 19.828125 64.59375 \nL 19.828125 46.734375 \nQ 21.96875 47.46875 24.109375 47.828125 \nQ 26.265625 48.1875 28.421875 48.1875 \nQ 40.625 48.1875 47.75 41.5 \nQ 54.890625 34.8125 54.890625 23.390625 \nQ 54.890625 11.625 47.5625 5.09375 \nQ 40.234375 -1.421875 26.90625 -1.421875 \nQ 22.3125 -1.421875 17.546875 -0.640625 \nQ 12.796875 0.140625 7.71875 1.703125 \nL 7.71875 11.625 \nQ 12.109375 9.234375 16.796875 8.0625 \nQ 21.484375 6.890625 26.703125 6.890625 \nQ 35.15625 6.890625 40.078125 11.328125 \nQ 45.015625 15.765625 45.015625 23.390625 \nQ 45.015625 31 40.078125 35.4375 \nQ 35.15625 39.890625 26.703125 39.890625 \nQ 22.75 39.890625 18.8125 39.015625 \nQ 14.890625 38.140625 10.796875 36.28125 \nz\n\" id=\"DejaVuSans-53\"/>\n      </defs>\n      <g style=\"fill:#262626;\" transform=\"translate(20.878125 71.287408)scale(0.1 -0.1)\">\n       <use xlink:href=\"#DejaVuSans-48\"/>\n       <use x=\"63.623047\" xlink:href=\"#DejaVuSans-46\"/>\n       <use x=\"95.410156\" xlink:href=\"#DejaVuSans-48\"/>\n       <use x=\"159.033203\" xlink:href=\"#DejaVuSans-53\"/>\n      </g>\n     </g>\n    </g>\n    <g id=\"ytick_7\">\n     <g id=\"text_16\">\n      <!-- 0.06 -->\n      <g style=\"fill:#262626;\" transform=\"translate(20.878125 39.857046)scale(0.1 -0.1)\">\n       <use xlink:href=\"#DejaVuSans-48\"/>\n       <use x=\"63.623047\" xlink:href=\"#DejaVuSans-46\"/>\n       <use x=\"95.410156\" xlink:href=\"#DejaVuSans-48\"/>\n       <use x=\"159.033203\" xlink:href=\"#DejaVuSans-54\"/>\n      </g>\n     </g>\n    </g>\n    <g id=\"text_17\">\n     <!-- Frequency -->\n     <defs>\n      <path d=\"M 9.8125 72.90625 \nL 51.703125 72.90625 \nL 51.703125 64.59375 \nL 19.671875 64.59375 \nL 19.671875 43.109375 \nL 48.578125 43.109375 \nL 48.578125 34.8125 \nL 19.671875 34.8125 \nL 19.671875 0 \nL 9.8125 0 \nz\n\" id=\"DejaVuSans-70\"/>\n      <path d=\"M 41.109375 46.296875 \nQ 39.59375 47.171875 37.8125 47.578125 \nQ 36.03125 48 33.890625 48 \nQ 26.265625 48 22.1875 43.046875 \nQ 18.109375 38.09375 18.109375 28.8125 \nL 18.109375 0 \nL 9.078125 0 \nL 9.078125 54.6875 \nL 18.109375 54.6875 \nL 18.109375 46.1875 \nQ 20.953125 51.171875 25.484375 53.578125 \nQ 30.03125 56 36.53125 56 \nQ 37.453125 56 38.578125 55.875 \nQ 39.703125 55.765625 41.0625 55.515625 \nz\n\" id=\"DejaVuSans-114\"/>\n      <path d=\"M 56.203125 29.59375 \nL 56.203125 25.203125 \nL 14.890625 25.203125 \nQ 15.484375 15.921875 20.484375 11.0625 \nQ 25.484375 6.203125 34.421875 6.203125 \nQ 39.59375 6.203125 44.453125 7.46875 \nQ 49.3125 8.734375 54.109375 11.28125 \nL 54.109375 2.78125 \nQ 49.265625 0.734375 44.1875 -0.34375 \nQ 39.109375 -1.421875 33.890625 -1.421875 \nQ 20.796875 -1.421875 13.15625 6.1875 \nQ 5.515625 13.8125 5.515625 26.8125 \nQ 5.515625 40.234375 12.765625 48.109375 \nQ 20.015625 56 32.328125 56 \nQ 43.359375 56 49.78125 48.890625 \nQ 56.203125 41.796875 56.203125 29.59375 \nz\nM 47.21875 32.234375 \nQ 47.125 39.59375 43.09375 43.984375 \nQ 39.0625 48.390625 32.421875 48.390625 \nQ 24.90625 48.390625 20.390625 44.140625 \nQ 15.875 39.890625 15.1875 32.171875 \nz\n\" id=\"DejaVuSans-101\"/>\n      <path d=\"M 14.796875 27.296875 \nQ 14.796875 17.390625 18.875 11.75 \nQ 22.953125 6.109375 30.078125 6.109375 \nQ 37.203125 6.109375 41.296875 11.75 \nQ 45.40625 17.390625 45.40625 27.296875 \nQ 45.40625 37.203125 41.296875 42.84375 \nQ 37.203125 48.484375 30.078125 48.484375 \nQ 22.953125 48.484375 18.875 42.84375 \nQ 14.796875 37.203125 14.796875 27.296875 \nz\nM 45.40625 8.203125 \nQ 42.578125 3.328125 38.25 0.953125 \nQ 33.9375 -1.421875 27.875 -1.421875 \nQ 17.96875 -1.421875 11.734375 6.484375 \nQ 5.515625 14.40625 5.515625 27.296875 \nQ 5.515625 40.1875 11.734375 48.09375 \nQ 17.96875 56 27.875 56 \nQ 33.9375 56 38.25 53.625 \nQ 42.578125 51.265625 45.40625 46.390625 \nL 45.40625 54.6875 \nL 54.390625 54.6875 \nL 54.390625 -20.796875 \nL 45.40625 -20.796875 \nz\n\" id=\"DejaVuSans-113\"/>\n      <path d=\"M 8.5 21.578125 \nL 8.5 54.6875 \nL 17.484375 54.6875 \nL 17.484375 21.921875 \nQ 17.484375 14.15625 20.5 10.265625 \nQ 23.53125 6.390625 29.59375 6.390625 \nQ 36.859375 6.390625 41.078125 11.03125 \nQ 45.3125 15.671875 45.3125 23.6875 \nL 45.3125 54.6875 \nL 54.296875 54.6875 \nL 54.296875 0 \nL 45.3125 0 \nL 45.3125 8.40625 \nQ 42.046875 3.421875 37.71875 1 \nQ 33.40625 -1.421875 27.6875 -1.421875 \nQ 18.265625 -1.421875 13.375 4.4375 \nQ 8.5 10.296875 8.5 21.578125 \nz\nM 31.109375 56 \nz\n\" id=\"DejaVuSans-117\"/>\n      <path d=\"M 54.890625 33.015625 \nL 54.890625 0 \nL 45.90625 0 \nL 45.90625 32.71875 \nQ 45.90625 40.484375 42.875 44.328125 \nQ 39.84375 48.1875 33.796875 48.1875 \nQ 26.515625 48.1875 22.3125 43.546875 \nQ 18.109375 38.921875 18.109375 30.90625 \nL 18.109375 0 \nL 9.078125 0 \nL 9.078125 54.6875 \nL 18.109375 54.6875 \nL 18.109375 46.1875 \nQ 21.34375 51.125 25.703125 53.5625 \nQ 30.078125 56 35.796875 56 \nQ 45.21875 56 50.046875 50.171875 \nQ 54.890625 44.34375 54.890625 33.015625 \nz\n\" id=\"DejaVuSans-110\"/>\n      <path d=\"M 48.78125 52.59375 \nL 48.78125 44.1875 \nQ 44.96875 46.296875 41.140625 47.34375 \nQ 37.3125 48.390625 33.40625 48.390625 \nQ 24.65625 48.390625 19.8125 42.84375 \nQ 14.984375 37.3125 14.984375 27.296875 \nQ 14.984375 17.28125 19.8125 11.734375 \nQ 24.65625 6.203125 33.40625 6.203125 \nQ 37.3125 6.203125 41.140625 7.25 \nQ 44.96875 8.296875 48.78125 10.40625 \nL 48.78125 2.09375 \nQ 45.015625 0.34375 40.984375 -0.53125 \nQ 36.96875 -1.421875 32.421875 -1.421875 \nQ 20.0625 -1.421875 12.78125 6.34375 \nQ 5.515625 14.109375 5.515625 27.296875 \nQ 5.515625 40.671875 12.859375 48.328125 \nQ 20.21875 56 33.015625 56 \nQ 37.15625 56 41.109375 55.140625 \nQ 45.0625 54.296875 48.78125 52.59375 \nz\n\" id=\"DejaVuSans-99\"/>\n      <path d=\"M 32.171875 -5.078125 \nQ 28.375 -14.84375 24.75 -17.8125 \nQ 21.140625 -20.796875 15.09375 -20.796875 \nL 7.90625 -20.796875 \nL 7.90625 -13.28125 \nL 13.1875 -13.28125 \nQ 16.890625 -13.28125 18.9375 -11.515625 \nQ 21 -9.765625 23.484375 -3.21875 \nL 25.09375 0.875 \nL 2.984375 54.6875 \nL 12.5 54.6875 \nL 29.59375 11.921875 \nL 46.6875 54.6875 \nL 56.203125 54.6875 \nz\n\" id=\"DejaVuSans-121\"/>\n     </defs>\n     <g style=\"fill:#262626;\" transform=\"translate(14.798438 141.749687)rotate(-90)scale(0.1 -0.1)\">\n      <use xlink:href=\"#DejaVuSans-70\"/>\n      <use x=\"50.269531\" xlink:href=\"#DejaVuSans-114\"/>\n      <use x=\"89.132812\" xlink:href=\"#DejaVuSans-101\"/>\n      <use x=\"150.65625\" xlink:href=\"#DejaVuSans-113\"/>\n      <use x=\"214.132812\" xlink:href=\"#DejaVuSans-117\"/>\n      <use x=\"277.511719\" xlink:href=\"#DejaVuSans-101\"/>\n      <use x=\"339.035156\" xlink:href=\"#DejaVuSans-110\"/>\n      <use x=\"402.414062\" xlink:href=\"#DejaVuSans-99\"/>\n      <use x=\"457.394531\" xlink:href=\"#DejaVuSans-121\"/>\n     </g>\n    </g>\n   </g>\n   <g id=\"patch_3\">\n    <path clip-path=\"url(#p81e7fe7e7c)\" d=\"M 65.361932 224.64 \nL 71.449205 224.64 \nL 71.449205 217.93506 \nL 65.361932 217.93506 \nz\n\" style=\"fill:#1f77b4;stroke:#ffffff;stroke-linejoin:miter;\"/>\n   </g>\n   <g id=\"patch_4\">\n    <path clip-path=\"url(#p81e7fe7e7c)\" d=\"M 71.449205 224.64 \nL 77.536477 224.64 \nL 77.536477 176.210944 \nL 71.449205 176.210944 \nz\n\" style=\"fill:#1f77b4;stroke:#ffffff;stroke-linejoin:miter;\"/>\n   </g>\n   <g id=\"patch_5\">\n    <path clip-path=\"url(#p81e7fe7e7c)\" d=\"M 77.536477 224.64 \nL 83.62375 224.64 \nL 83.62375 71.557328 \nL 77.536477 71.557328 \nz\n\" style=\"fill:#1f77b4;stroke:#ffffff;stroke-linejoin:miter;\"/>\n   </g>\n   <g id=\"patch_6\">\n    <path clip-path=\"url(#p81e7fe7e7c)\" d=\"M 83.62375 224.64 \nL 89.711023 224.64 \nL 89.711023 47.686126 \nL 83.62375 47.686126 \nz\n\" style=\"fill:#1f77b4;stroke:#ffffff;stroke-linejoin:miter;\"/>\n   </g>\n   <g id=\"patch_7\">\n    <path clip-path=\"url(#p81e7fe7e7c)\" d=\"M 89.711023 224.64 \nL 95.798295 224.64 \nL 95.798295 17.554286 \nL 89.711023 17.554286 \nz\n\" style=\"fill:#1f77b4;stroke:#ffffff;stroke-linejoin:miter;\"/>\n   </g>\n   <g id=\"patch_8\">\n    <path clip-path=\"url(#p81e7fe7e7c)\" d=\"M 95.798295 224.64 \nL 101.885568 224.64 \nL 101.885568 143.332502 \nL 95.798295 143.332502 \nz\n\" style=\"fill:#1f77b4;stroke:#ffffff;stroke-linejoin:miter;\"/>\n   </g>\n   <g id=\"patch_9\">\n    <path clip-path=\"url(#p81e7fe7e7c)\" d=\"M 101.885568 224.64 \nL 107.972841 224.64 \nL 107.972841 116.553132 \nL 101.885568 116.553132 \nz\n\" style=\"fill:#1f77b4;stroke:#ffffff;stroke-linejoin:miter;\"/>\n   </g>\n   <g id=\"patch_10\">\n    <path clip-path=\"url(#p81e7fe7e7c)\" d=\"M 107.972841 224.64 \nL 114.060114 224.64 \nL 114.060114 132.669223 \nL 107.972841 132.669223 \nz\n\" style=\"fill:#1f77b4;stroke:#ffffff;stroke-linejoin:miter;\"/>\n   </g>\n   <g id=\"patch_11\">\n    <path clip-path=\"url(#p81e7fe7e7c)\" d=\"M 114.060114 224.64 \nL 120.147386 224.64 \nL 120.147386 202.465228 \nL 114.060114 202.465228 \nz\n\" style=\"fill:#1f77b4;stroke:#ffffff;stroke-linejoin:miter;\"/>\n   </g>\n   <g id=\"patch_12\">\n    <path clip-path=\"url(#p81e7fe7e7c)\" d=\"M 120.147386 224.64 \nL 126.234659 224.64 \nL 126.234659 186.308745 \nL 120.147386 186.308745 \nz\n\" style=\"fill:#1f77b4;stroke:#ffffff;stroke-linejoin:miter;\"/>\n   </g>\n   <g id=\"patch_13\">\n    <path clip-path=\"url(#p81e7fe7e7c)\" d=\"M 126.234659 224.64 \nL 132.321932 224.64 \nL 132.321932 190.994125 \nL 126.234659 190.994125 \nz\n\" style=\"fill:#1f77b4;stroke:#ffffff;stroke-linejoin:miter;\"/>\n   </g>\n   <g id=\"patch_14\">\n    <path clip-path=\"url(#p81e7fe7e7c)\" d=\"M 132.321932 224.64 \nL 138.409205 224.64 \nL 138.409205 216.198238 \nL 132.321932 216.198238 \nz\n\" style=\"fill:#1f77b4;stroke:#ffffff;stroke-linejoin:miter;\"/>\n   </g>\n   <g id=\"patch_15\">\n    <path clip-path=\"url(#p81e7fe7e7c)\" d=\"M 138.409205 224.64 \nL 144.496477 224.64 \nL 144.496477 214.380634 \nL 138.409205 214.380634 \nz\n\" style=\"fill:#1f77b4;stroke:#ffffff;stroke-linejoin:miter;\"/>\n   </g>\n   <g id=\"patch_16\">\n    <path clip-path=\"url(#p81e7fe7e7c)\" d=\"M 144.496477 224.64 \nL 150.58375 224.64 \nL 150.58375 211.755205 \nL 144.496477 211.755205 \nz\n\" style=\"fill:#1f77b4;stroke:#ffffff;stroke-linejoin:miter;\"/>\n   </g>\n   <g id=\"patch_17\">\n    <path clip-path=\"url(#p81e7fe7e7c)\" d=\"M 150.58375 224.64 \nL 156.671023 224.64 \nL 156.671023 223.751393 \nL 150.58375 223.751393 \nz\n\" style=\"fill:#1f77b4;stroke:#ffffff;stroke-linejoin:miter;\"/>\n   </g>\n   <g id=\"patch_18\">\n    <path clip-path=\"url(#p81e7fe7e7c)\" d=\"M 156.671023 224.64 \nL 162.758295 224.64 \nL 162.758295 222.903178 \nL 156.671023 222.903178 \nz\n\" style=\"fill:#1f77b4;stroke:#ffffff;stroke-linejoin:miter;\"/>\n   </g>\n   <g id=\"patch_19\">\n    <path clip-path=\"url(#p81e7fe7e7c)\" d=\"M 162.758295 224.64 \nL 168.845568 224.64 \nL 168.845568 222.660831 \nL 162.758295 222.660831 \nz\n\" style=\"fill:#1f77b4;stroke:#ffffff;stroke-linejoin:miter;\"/>\n   </g>\n   <g id=\"patch_20\">\n    <path clip-path=\"url(#p81e7fe7e7c)\" d=\"M 168.845568 224.64 \nL 174.932841 224.64 \nL 174.932841 223.670611 \nL 168.845568 223.670611 \nz\n\" style=\"fill:#1f77b4;stroke:#ffffff;stroke-linejoin:miter;\"/>\n   </g>\n   <g id=\"patch_21\">\n    <path clip-path=\"url(#p81e7fe7e7c)\" d=\"M 174.932841 224.64 \nL 181.020114 224.64 \nL 181.020114 223.30709 \nL 174.932841 223.30709 \nz\n\" style=\"fill:#1f77b4;stroke:#ffffff;stroke-linejoin:miter;\"/>\n   </g>\n   <g id=\"patch_22\">\n    <path clip-path=\"url(#p81e7fe7e7c)\" d=\"M 181.020114 224.64 \nL 187.107386 224.64 \nL 187.107386 223.589829 \nL 181.020114 223.589829 \nz\n\" style=\"fill:#1f77b4;stroke:#ffffff;stroke-linejoin:miter;\"/>\n   </g>\n   <g id=\"patch_23\">\n    <path clip-path=\"url(#p81e7fe7e7c)\" d=\"M 187.107386 224.64 \nL 193.194659 224.64 \nL 193.194659 221.125965 \nL 187.107386 221.125965 \nz\n\" style=\"fill:#1f77b4;stroke:#ffffff;stroke-linejoin:miter;\"/>\n   </g>\n   <g id=\"patch_24\">\n    <path clip-path=\"url(#p81e7fe7e7c)\" d=\"M 193.194659 224.64 \nL 199.281932 224.64 \nL 199.281932 224.559218 \nL 193.194659 224.559218 \nz\n\" style=\"fill:#1f77b4;stroke:#ffffff;stroke-linejoin:miter;\"/>\n   </g>\n   <g id=\"patch_25\">\n    <path clip-path=\"url(#p81e7fe7e7c)\" d=\"M 199.281932 224.64 \nL 205.369205 224.64 \nL 205.369205 223.791785 \nL 199.281932 223.791785 \nz\n\" style=\"fill:#1f77b4;stroke:#ffffff;stroke-linejoin:miter;\"/>\n   </g>\n   <g id=\"patch_26\">\n    <path clip-path=\"url(#p81e7fe7e7c)\" d=\"M 205.369205 224.64 \nL 211.456477 224.64 \nL 211.456477 224.276479 \nL 205.369205 224.276479 \nz\n\" style=\"fill:#1f77b4;stroke:#ffffff;stroke-linejoin:miter;\"/>\n   </g>\n   <g id=\"patch_27\">\n    <path clip-path=\"url(#p81e7fe7e7c)\" d=\"M 211.456477 224.64 \nL 217.54375 224.64 \nL 217.54375 224.438044 \nL 211.456477 224.438044 \nz\n\" style=\"fill:#1f77b4;stroke:#ffffff;stroke-linejoin:miter;\"/>\n   </g>\n   <g id=\"patch_28\">\n    <path clip-path=\"url(#p81e7fe7e7c)\" d=\"M 217.54375 224.64 \nL 223.631023 224.64 \nL 223.631023 224.31687 \nL 217.54375 224.31687 \nz\n\" style=\"fill:#1f77b4;stroke:#ffffff;stroke-linejoin:miter;\"/>\n   </g>\n   <g id=\"patch_29\">\n    <path clip-path=\"url(#p81e7fe7e7c)\" d=\"M 223.631023 224.64 \nL 229.718295 224.64 \nL 229.718295 224.64 \nL 223.631023 224.64 \nz\n\" style=\"fill:#1f77b4;stroke:#ffffff;stroke-linejoin:miter;\"/>\n   </g>\n   <g id=\"patch_30\">\n    <path clip-path=\"url(#p81e7fe7e7c)\" d=\"M 229.718295 224.64 \nL 235.805568 224.64 \nL 235.805568 224.64 \nL 229.718295 224.64 \nz\n\" style=\"fill:#1f77b4;stroke:#ffffff;stroke-linejoin:miter;\"/>\n   </g>\n   <g id=\"patch_31\">\n    <path clip-path=\"url(#p81e7fe7e7c)\" d=\"M 235.805568 224.64 \nL 241.892841 224.64 \nL 241.892841 223.105134 \nL 235.805568 223.105134 \nz\n\" style=\"fill:#1f77b4;stroke:#ffffff;stroke-linejoin:miter;\"/>\n   </g>\n   <g id=\"patch_32\">\n    <path clip-path=\"url(#p81e7fe7e7c)\" d=\"M 241.892841 224.64 \nL 247.980114 224.64 \nL 247.980114 224.478435 \nL 241.892841 224.478435 \nz\n\" style=\"fill:#1f77b4;stroke:#ffffff;stroke-linejoin:miter;\"/>\n   </g>\n   <g id=\"patch_33\">\n    <path clip-path=\"url(#p81e7fe7e7c)\" d=\"M 247.980114 224.64 \nL 254.067386 224.64 \nL 254.067386 224.64 \nL 247.980114 224.64 \nz\n\" style=\"fill:#1f77b4;stroke:#ffffff;stroke-linejoin:miter;\"/>\n   </g>\n   <g id=\"patch_34\">\n    <path clip-path=\"url(#p81e7fe7e7c)\" d=\"M 254.067386 224.64 \nL 260.154659 224.64 \nL 260.154659 224.478435 \nL 254.067386 224.478435 \nz\n\" style=\"fill:#1f77b4;stroke:#ffffff;stroke-linejoin:miter;\"/>\n   </g>\n   <g id=\"patch_35\">\n    <path clip-path=\"url(#p81e7fe7e7c)\" d=\"M 260.154659 224.64 \nL 266.241932 224.64 \nL 266.241932 224.64 \nL 260.154659 224.64 \nz\n\" style=\"fill:#1f77b4;stroke:#ffffff;stroke-linejoin:miter;\"/>\n   </g>\n   <g id=\"patch_36\">\n    <path clip-path=\"url(#p81e7fe7e7c)\" d=\"M 266.241932 224.64 \nL 272.329205 224.64 \nL 272.329205 224.64 \nL 266.241932 224.64 \nz\n\" style=\"fill:#1f77b4;stroke:#ffffff;stroke-linejoin:miter;\"/>\n   </g>\n   <g id=\"patch_37\">\n    <path clip-path=\"url(#p81e7fe7e7c)\" d=\"M 272.329205 224.64 \nL 278.416477 224.64 \nL 278.416477 224.64 \nL 272.329205 224.64 \nz\n\" style=\"fill:#1f77b4;stroke:#ffffff;stroke-linejoin:miter;\"/>\n   </g>\n   <g id=\"patch_38\">\n    <path clip-path=\"url(#p81e7fe7e7c)\" d=\"M 278.416477 224.64 \nL 284.50375 224.64 \nL 284.50375 224.518826 \nL 278.416477 224.518826 \nz\n\" style=\"fill:#1f77b4;stroke:#ffffff;stroke-linejoin:miter;\"/>\n   </g>\n   <g id=\"patch_39\">\n    <path clip-path=\"url(#p81e7fe7e7c)\" d=\"M 284.50375 224.64 \nL 290.591023 224.64 \nL 290.591023 224.64 \nL 284.50375 224.64 \nz\n\" style=\"fill:#1f77b4;stroke:#ffffff;stroke-linejoin:miter;\"/>\n   </g>\n   <g id=\"patch_40\">\n    <path clip-path=\"url(#p81e7fe7e7c)\" d=\"M 290.591023 224.64 \nL 296.678295 224.64 \nL 296.678295 224.64 \nL 290.591023 224.64 \nz\n\" style=\"fill:#1f77b4;stroke:#ffffff;stroke-linejoin:miter;\"/>\n   </g>\n   <g id=\"patch_41\">\n    <path clip-path=\"url(#p81e7fe7e7c)\" d=\"M 296.678295 224.64 \nL 302.765568 224.64 \nL 302.765568 224.64 \nL 296.678295 224.64 \nz\n\" style=\"fill:#1f77b4;stroke:#ffffff;stroke-linejoin:miter;\"/>\n   </g>\n   <g id=\"patch_42\">\n    <path clip-path=\"url(#p81e7fe7e7c)\" d=\"M 302.765568 224.64 \nL 308.852841 224.64 \nL 308.852841 224.64 \nL 302.765568 224.64 \nz\n\" style=\"fill:#1f77b4;stroke:#ffffff;stroke-linejoin:miter;\"/>\n   </g>\n   <g id=\"patch_43\">\n    <path clip-path=\"url(#p81e7fe7e7c)\" d=\"M 308.852841 224.64 \nL 314.940114 224.64 \nL 314.940114 224.64 \nL 308.852841 224.64 \nz\n\" style=\"fill:#1f77b4;stroke:#ffffff;stroke-linejoin:miter;\"/>\n   </g>\n   <g id=\"patch_44\">\n    <path clip-path=\"url(#p81e7fe7e7c)\" d=\"M 314.940114 224.64 \nL 321.027386 224.64 \nL 321.027386 224.64 \nL 314.940114 224.64 \nz\n\" style=\"fill:#1f77b4;stroke:#ffffff;stroke-linejoin:miter;\"/>\n   </g>\n   <g id=\"patch_45\">\n    <path clip-path=\"url(#p81e7fe7e7c)\" d=\"M 321.027386 224.64 \nL 327.114659 224.64 \nL 327.114659 224.397653 \nL 321.027386 224.397653 \nz\n\" style=\"fill:#1f77b4;stroke:#ffffff;stroke-linejoin:miter;\"/>\n   </g>\n   <g id=\"patch_46\">\n    <path clip-path=\"url(#p81e7fe7e7c)\" d=\"M 327.114659 224.64 \nL 333.201932 224.64 \nL 333.201932 224.64 \nL 327.114659 224.64 \nz\n\" style=\"fill:#1f77b4;stroke:#ffffff;stroke-linejoin:miter;\"/>\n   </g>\n   <g id=\"patch_47\">\n    <path clip-path=\"url(#p81e7fe7e7c)\" d=\"M 333.201932 224.64 \nL 339.289205 224.64 \nL 339.289205 224.64 \nL 333.201932 224.64 \nz\n\" style=\"fill:#1f77b4;stroke:#ffffff;stroke-linejoin:miter;\"/>\n   </g>\n   <g id=\"patch_48\">\n    <path clip-path=\"url(#p81e7fe7e7c)\" d=\"M 339.289205 224.64 \nL 345.376477 224.64 \nL 345.376477 224.64 \nL 339.289205 224.64 \nz\n\" style=\"fill:#1f77b4;stroke:#ffffff;stroke-linejoin:miter;\"/>\n   </g>\n   <g id=\"patch_49\">\n    <path clip-path=\"url(#p81e7fe7e7c)\" d=\"M 345.376477 224.64 \nL 351.46375 224.64 \nL 351.46375 224.64 \nL 345.376477 224.64 \nz\n\" style=\"fill:#1f77b4;stroke:#ffffff;stroke-linejoin:miter;\"/>\n   </g>\n   <g id=\"patch_50\">\n    <path clip-path=\"url(#p81e7fe7e7c)\" d=\"M 351.46375 224.64 \nL 357.551023 224.64 \nL 357.551023 224.64 \nL 351.46375 224.64 \nz\n\" style=\"fill:#1f77b4;stroke:#ffffff;stroke-linejoin:miter;\"/>\n   </g>\n   <g id=\"patch_51\">\n    <path clip-path=\"url(#p81e7fe7e7c)\" d=\"M 357.551023 224.64 \nL 363.638295 224.64 \nL 363.638295 224.64 \nL 357.551023 224.64 \nz\n\" style=\"fill:#1f77b4;stroke:#ffffff;stroke-linejoin:miter;\"/>\n   </g>\n   <g id=\"patch_52\">\n    <path clip-path=\"url(#p81e7fe7e7c)\" d=\"M 363.638295 224.64 \nL 369.725568 224.64 \nL 369.725568 224.31687 \nL 363.638295 224.31687 \nz\n\" style=\"fill:#1f77b4;stroke:#ffffff;stroke-linejoin:miter;\"/>\n   </g>\n   <g id=\"patch_53\">\n    <path d=\"M 50.14375 224.64 \nL 50.14375 7.2 \n\" style=\"fill:none;stroke:#262626;stroke-linecap:square;stroke-linejoin:miter;stroke-width:0.8;\"/>\n   </g>\n   <g id=\"patch_54\">\n    <path d=\"M 384.94375 224.64 \nL 384.94375 7.2 \n\" style=\"fill:none;stroke:#262626;stroke-linecap:square;stroke-linejoin:miter;stroke-width:0.8;\"/>\n   </g>\n   <g id=\"patch_55\">\n    <path d=\"M 50.14375 224.64 \nL 384.94375 224.64 \n\" style=\"fill:none;stroke:#262626;stroke-linecap:square;stroke-linejoin:miter;stroke-width:0.8;\"/>\n   </g>\n   <g id=\"patch_56\">\n    <path d=\"M 50.14375 7.2 \nL 384.94375 7.2 \n\" style=\"fill:none;stroke:#262626;stroke-linecap:square;stroke-linejoin:miter;stroke-width:0.8;\"/>\n   </g>\n  </g>\n </g>\n <defs>\n  <clipPath id=\"p81e7fe7e7c\">\n   <rect height=\"217.44\" width=\"334.8\" x=\"50.14375\" y=\"7.2\"/>\n  </clipPath>\n </defs>\n</svg>\n"
          },
          "metadata": {}
        }
      ]
    },
    {
      "cell_type": "code",
      "metadata": {
        "colab": {
          "base_uri": "https://localhost:8080/",
          "height": 227
        },
        "id": "_77JVRWlL8n1",
        "outputId": "b677d5e1-d325-496a-c118-5d4e5be7b5b7"
      },
      "source": [
        "new_data = get_category(new_data,'inc', 3, [\"low\",\"medium\", \"high\"], qcut = True)\n",
        "iv, data = calc_iv(new_data,'gp_inc','target')\n",
        "ivtable.loc[ivtable['variable']=='inc','IV']=iv\n",
        "data.head()"
      ],
      "execution_count": 151,
      "outputs": [
        {
          "output_type": "stream",
          "name": "stdout",
          "text": [
            "El IV de esta variable es: 0.0024219962221596752\n",
            "low       8996\n",
            "high      8244\n",
            "medium    7894\n",
            "Name: gp_inc, dtype: int64\n"
          ]
        },
        {
          "output_type": "execute_result",
          "data": {
            "text/html": [
              "<div>\n",
              "<style scoped>\n",
              "    .dataframe tbody tr th:only-of-type {\n",
              "        vertical-align: middle;\n",
              "    }\n",
              "\n",
              "    .dataframe tbody tr th {\n",
              "        vertical-align: top;\n",
              "    }\n",
              "\n",
              "    .dataframe thead th {\n",
              "        text-align: right;\n",
              "    }\n",
              "</style>\n",
              "<table border=\"1\" class=\"dataframe\">\n",
              "  <thead>\n",
              "    <tr style=\"text-align: right;\">\n",
              "      <th></th>\n",
              "      <th>Variable</th>\n",
              "      <th>Value</th>\n",
              "      <th>All</th>\n",
              "      <th>Good</th>\n",
              "      <th>Bad</th>\n",
              "      <th>Share</th>\n",
              "      <th>Bad Rate</th>\n",
              "      <th>Distribution Good</th>\n",
              "      <th>Distribution Bad</th>\n",
              "      <th>WoE</th>\n",
              "      <th>IV</th>\n",
              "    </tr>\n",
              "  </thead>\n",
              "  <tbody>\n",
              "    <tr>\n",
              "      <th>0</th>\n",
              "      <td>gp_inc</td>\n",
              "      <td>high</td>\n",
              "      <td>8244</td>\n",
              "      <td>8096</td>\n",
              "      <td>148</td>\n",
              "      <td>0.328002</td>\n",
              "      <td>0.017952</td>\n",
              "      <td>0.327614</td>\n",
              "      <td>0.350711</td>\n",
              "      <td>-0.068126</td>\n",
              "      <td>0.001573</td>\n",
              "    </tr>\n",
              "    <tr>\n",
              "      <th>1</th>\n",
              "      <td>gp_inc</td>\n",
              "      <td>low</td>\n",
              "      <td>8996</td>\n",
              "      <td>8849</td>\n",
              "      <td>147</td>\n",
              "      <td>0.357922</td>\n",
              "      <td>0.016341</td>\n",
              "      <td>0.358085</td>\n",
              "      <td>0.348341</td>\n",
              "      <td>0.027588</td>\n",
              "      <td>0.000269</td>\n",
              "    </tr>\n",
              "    <tr>\n",
              "      <th>2</th>\n",
              "      <td>gp_inc</td>\n",
              "      <td>medium</td>\n",
              "      <td>7894</td>\n",
              "      <td>7767</td>\n",
              "      <td>127</td>\n",
              "      <td>0.314077</td>\n",
              "      <td>0.016088</td>\n",
              "      <td>0.314301</td>\n",
              "      <td>0.300948</td>\n",
              "      <td>0.043413</td>\n",
              "      <td>0.000580</td>\n",
              "    </tr>\n",
              "  </tbody>\n",
              "</table>\n",
              "</div>"
            ],
            "text/plain": [
              "  Variable   Value   All  ...  Distribution Bad       WoE        IV\n",
              "0   gp_inc    high  8244  ...          0.350711 -0.068126  0.001573\n",
              "1   gp_inc     low  8996  ...          0.348341  0.027588  0.000269\n",
              "2   gp_inc  medium  7894  ...          0.300948  0.043413  0.000580\n",
              "\n",
              "[3 rows x 11 columns]"
            ]
          },
          "metadata": {},
          "execution_count": 151
        }
      ]
    },
    {
      "cell_type": "markdown",
      "metadata": {
        "id": "AyMgf7H9DE4b"
      },
      "source": [
        "IV es less 0.02 no es una variable de predicción buena."
      ]
    },
    {
      "cell_type": "code",
      "metadata": {
        "id": "qPxngJ-6L8n2"
      },
      "source": [
        "new_data = convert_dummy(new_data,'gp_inc')"
      ],
      "execution_count": 152,
      "outputs": []
    },
    {
      "cell_type": "markdown",
      "metadata": {
        "id": "Av7BW5xlL8n2"
      },
      "source": [
        "#### Edad"
      ]
    },
    {
      "cell_type": "code",
      "metadata": {
        "colab": {
          "base_uri": "https://localhost:8080/"
        },
        "id": "5jsj1QLnL8n2",
        "scrolled": false,
        "outputId": "23bb9577-99cb-4b8a-de9c-1b637ab21a8a"
      },
      "source": [
        "new_data['Age']=-(new_data['DAYS_BIRTH'])//365\t\n",
        "print(new_data['Age'].value_counts(bins=10,normalize=True,sort=False))"
      ],
      "execution_count": 153,
      "outputs": [
        {
          "output_type": "stream",
          "name": "stdout",
          "text": [
            "(19.951999999999998, 24.7]    0.025066\n",
            "(24.7, 29.4]                  0.134280\n",
            "(29.4, 34.1]                  0.169770\n",
            "(34.1, 38.8]                  0.140805\n",
            "(38.8, 43.5]                  0.173072\n",
            "(43.5, 48.2]                  0.141880\n",
            "(48.2, 52.9]                  0.099069\n",
            "(52.9, 57.6]                  0.076550\n",
            "(57.6, 62.3]                  0.032585\n",
            "(62.3, 67.0]                  0.006923\n",
            "Name: Age, dtype: float64\n"
          ]
        }
      ]
    },
    {
      "cell_type": "code",
      "metadata": {
        "colab": {
          "base_uri": "https://localhost:8080/",
          "height": 370
        },
        "id": "oQaWwvGNL8n2",
        "outputId": "d8eb4d4e-dc53-4c1d-f184-96d4cf977ce7"
      },
      "source": [
        "new_data['Age'].plot(kind='hist',bins=20,density=True)"
      ],
      "execution_count": 154,
      "outputs": [
        {
          "output_type": "execute_result",
          "data": {
            "text/plain": [
              "<matplotlib.axes._subplots.AxesSubplot at 0x7ff45875d690>"
            ]
          },
          "metadata": {},
          "execution_count": 154
        },
        {
          "output_type": "display_data",
          "data": {
            "text/plain": [
              "<Figure size 432x288 with 1 Axes>"
            ],
            "image/svg+xml": "<?xml version=\"1.0\" encoding=\"utf-8\" standalone=\"no\"?>\n<!DOCTYPE svg PUBLIC \"-//W3C//DTD SVG 1.1//EN\"\n  \"http://www.w3.org/Graphics/SVG/1.1/DTD/svg11.dtd\">\n<!-- Created with matplotlib (https://matplotlib.org/) -->\n<svg height=\"248.518125pt\" version=\"1.1\" viewBox=\"0 0 392.14375 248.518125\" width=\"392.14375pt\" xmlns=\"http://www.w3.org/2000/svg\" xmlns:xlink=\"http://www.w3.org/1999/xlink\">\n <defs>\n  <style type=\"text/css\">\n*{stroke-linecap:butt;stroke-linejoin:round;}\n  </style>\n </defs>\n <g id=\"figure_1\">\n  <g id=\"patch_1\">\n   <path d=\"M 0 248.518125 \nL 392.14375 248.518125 \nL 392.14375 0 \nL 0 0 \nz\n\" style=\"fill:#ffffff;\"/>\n  </g>\n  <g id=\"axes_1\">\n   <g id=\"patch_2\">\n    <path d=\"M 50.14375 224.64 \nL 384.94375 224.64 \nL 384.94375 7.2 \nL 50.14375 7.2 \nz\n\" style=\"fill:#ffffff;\"/>\n   </g>\n   <g id=\"matplotlib.axis_1\">\n    <g id=\"xtick_1\">\n     <g id=\"text_1\">\n      <!-- 20 -->\n      <defs>\n       <path d=\"M 19.1875 8.296875 \nL 53.609375 8.296875 \nL 53.609375 0 \nL 7.328125 0 \nL 7.328125 8.296875 \nQ 12.9375 14.109375 22.625 23.890625 \nQ 32.328125 33.6875 34.8125 36.53125 \nQ 39.546875 41.84375 41.421875 45.53125 \nQ 43.3125 49.21875 43.3125 52.78125 \nQ 43.3125 58.59375 39.234375 62.25 \nQ 35.15625 65.921875 28.609375 65.921875 \nQ 23.96875 65.921875 18.8125 64.3125 \nQ 13.671875 62.703125 7.8125 59.421875 \nL 7.8125 69.390625 \nQ 13.765625 71.78125 18.9375 73 \nQ 24.125 74.21875 28.421875 74.21875 \nQ 39.75 74.21875 46.484375 68.546875 \nQ 53.21875 62.890625 53.21875 53.421875 \nQ 53.21875 48.921875 51.53125 44.890625 \nQ 49.859375 40.875 45.40625 35.40625 \nQ 44.1875 33.984375 37.640625 27.21875 \nQ 31.109375 20.453125 19.1875 8.296875 \nz\n\" id=\"DejaVuSans-50\"/>\n       <path d=\"M 31.78125 66.40625 \nQ 24.171875 66.40625 20.328125 58.90625 \nQ 16.5 51.421875 16.5 36.375 \nQ 16.5 21.390625 20.328125 13.890625 \nQ 24.171875 6.390625 31.78125 6.390625 \nQ 39.453125 6.390625 43.28125 13.890625 \nQ 47.125 21.390625 47.125 36.375 \nQ 47.125 51.421875 43.28125 58.90625 \nQ 39.453125 66.40625 31.78125 66.40625 \nz\nM 31.78125 74.21875 \nQ 44.046875 74.21875 50.515625 64.515625 \nQ 56.984375 54.828125 56.984375 36.375 \nQ 56.984375 17.96875 50.515625 8.265625 \nQ 44.046875 -1.421875 31.78125 -1.421875 \nQ 19.53125 -1.421875 13.0625 8.265625 \nQ 6.59375 17.96875 6.59375 36.375 \nQ 6.59375 54.828125 13.0625 64.515625 \nQ 19.53125 74.21875 31.78125 74.21875 \nz\n\" id=\"DejaVuSans-48\"/>\n      </defs>\n      <g style=\"fill:#262626;\" transform=\"translate(58.999432 239.238437)scale(0.1 -0.1)\">\n       <use xlink:href=\"#DejaVuSans-50\"/>\n       <use x=\"63.623047\" xlink:href=\"#DejaVuSans-48\"/>\n      </g>\n     </g>\n    </g>\n    <g id=\"xtick_2\">\n     <g id=\"text_2\">\n      <!-- 30 -->\n      <defs>\n       <path d=\"M 40.578125 39.3125 \nQ 47.65625 37.796875 51.625 33 \nQ 55.609375 28.21875 55.609375 21.1875 \nQ 55.609375 10.40625 48.1875 4.484375 \nQ 40.765625 -1.421875 27.09375 -1.421875 \nQ 22.515625 -1.421875 17.65625 -0.515625 \nQ 12.796875 0.390625 7.625 2.203125 \nL 7.625 11.71875 \nQ 11.71875 9.328125 16.59375 8.109375 \nQ 21.484375 6.890625 26.8125 6.890625 \nQ 36.078125 6.890625 40.9375 10.546875 \nQ 45.796875 14.203125 45.796875 21.1875 \nQ 45.796875 27.640625 41.28125 31.265625 \nQ 36.765625 34.90625 28.71875 34.90625 \nL 20.21875 34.90625 \nL 20.21875 43.015625 \nL 29.109375 43.015625 \nQ 36.375 43.015625 40.234375 45.921875 \nQ 44.09375 48.828125 44.09375 54.296875 \nQ 44.09375 59.90625 40.109375 62.90625 \nQ 36.140625 65.921875 28.71875 65.921875 \nQ 24.65625 65.921875 20.015625 65.03125 \nQ 15.375 64.15625 9.8125 62.3125 \nL 9.8125 71.09375 \nQ 15.4375 72.65625 20.34375 73.4375 \nQ 25.25 74.21875 29.59375 74.21875 \nQ 40.828125 74.21875 47.359375 69.109375 \nQ 53.90625 64.015625 53.90625 55.328125 \nQ 53.90625 49.265625 50.4375 45.09375 \nQ 46.96875 40.921875 40.578125 39.3125 \nz\n\" id=\"DejaVuSans-51\"/>\n      </defs>\n      <g style=\"fill:#262626;\" transform=\"translate(123.757652 239.238437)scale(0.1 -0.1)\">\n       <use xlink:href=\"#DejaVuSans-51\"/>\n       <use x=\"63.623047\" xlink:href=\"#DejaVuSans-48\"/>\n      </g>\n     </g>\n    </g>\n    <g id=\"xtick_3\">\n     <g id=\"text_3\">\n      <!-- 40 -->\n      <defs>\n       <path d=\"M 37.796875 64.3125 \nL 12.890625 25.390625 \nL 37.796875 25.390625 \nz\nM 35.203125 72.90625 \nL 47.609375 72.90625 \nL 47.609375 25.390625 \nL 58.015625 25.390625 \nL 58.015625 17.1875 \nL 47.609375 17.1875 \nL 47.609375 0 \nL 37.796875 0 \nL 37.796875 17.1875 \nL 4.890625 17.1875 \nL 4.890625 26.703125 \nz\n\" id=\"DejaVuSans-52\"/>\n      </defs>\n      <g style=\"fill:#262626;\" transform=\"translate(188.515873 239.238437)scale(0.1 -0.1)\">\n       <use xlink:href=\"#DejaVuSans-52\"/>\n       <use x=\"63.623047\" xlink:href=\"#DejaVuSans-48\"/>\n      </g>\n     </g>\n    </g>\n    <g id=\"xtick_4\">\n     <g id=\"text_4\">\n      <!-- 50 -->\n      <defs>\n       <path d=\"M 10.796875 72.90625 \nL 49.515625 72.90625 \nL 49.515625 64.59375 \nL 19.828125 64.59375 \nL 19.828125 46.734375 \nQ 21.96875 47.46875 24.109375 47.828125 \nQ 26.265625 48.1875 28.421875 48.1875 \nQ 40.625 48.1875 47.75 41.5 \nQ 54.890625 34.8125 54.890625 23.390625 \nQ 54.890625 11.625 47.5625 5.09375 \nQ 40.234375 -1.421875 26.90625 -1.421875 \nQ 22.3125 -1.421875 17.546875 -0.640625 \nQ 12.796875 0.140625 7.71875 1.703125 \nL 7.71875 11.625 \nQ 12.109375 9.234375 16.796875 8.0625 \nQ 21.484375 6.890625 26.703125 6.890625 \nQ 35.15625 6.890625 40.078125 11.328125 \nQ 45.015625 15.765625 45.015625 23.390625 \nQ 45.015625 31 40.078125 35.4375 \nQ 35.15625 39.890625 26.703125 39.890625 \nQ 22.75 39.890625 18.8125 39.015625 \nQ 14.890625 38.140625 10.796875 36.28125 \nz\n\" id=\"DejaVuSans-53\"/>\n      </defs>\n      <g style=\"fill:#262626;\" transform=\"translate(253.274093 239.238437)scale(0.1 -0.1)\">\n       <use xlink:href=\"#DejaVuSans-53\"/>\n       <use x=\"63.623047\" xlink:href=\"#DejaVuSans-48\"/>\n      </g>\n     </g>\n    </g>\n    <g id=\"xtick_5\">\n     <g id=\"text_5\">\n      <!-- 60 -->\n      <defs>\n       <path d=\"M 33.015625 40.375 \nQ 26.375 40.375 22.484375 35.828125 \nQ 18.609375 31.296875 18.609375 23.390625 \nQ 18.609375 15.53125 22.484375 10.953125 \nQ 26.375 6.390625 33.015625 6.390625 \nQ 39.65625 6.390625 43.53125 10.953125 \nQ 47.40625 15.53125 47.40625 23.390625 \nQ 47.40625 31.296875 43.53125 35.828125 \nQ 39.65625 40.375 33.015625 40.375 \nz\nM 52.59375 71.296875 \nL 52.59375 62.3125 \nQ 48.875 64.0625 45.09375 64.984375 \nQ 41.3125 65.921875 37.59375 65.921875 \nQ 27.828125 65.921875 22.671875 59.328125 \nQ 17.53125 52.734375 16.796875 39.40625 \nQ 19.671875 43.65625 24.015625 45.921875 \nQ 28.375 48.1875 33.59375 48.1875 \nQ 44.578125 48.1875 50.953125 41.515625 \nQ 57.328125 34.859375 57.328125 23.390625 \nQ 57.328125 12.15625 50.6875 5.359375 \nQ 44.046875 -1.421875 33.015625 -1.421875 \nQ 20.359375 -1.421875 13.671875 8.265625 \nQ 6.984375 17.96875 6.984375 36.375 \nQ 6.984375 53.65625 15.1875 63.9375 \nQ 23.390625 74.21875 37.203125 74.21875 \nQ 40.921875 74.21875 44.703125 73.484375 \nQ 48.484375 72.75 52.59375 71.296875 \nz\n\" id=\"DejaVuSans-54\"/>\n      </defs>\n      <g style=\"fill:#262626;\" transform=\"translate(318.032314 239.238437)scale(0.1 -0.1)\">\n       <use xlink:href=\"#DejaVuSans-54\"/>\n       <use x=\"63.623047\" xlink:href=\"#DejaVuSans-48\"/>\n      </g>\n     </g>\n    </g>\n   </g>\n   <g id=\"matplotlib.axis_2\">\n    <g id=\"ytick_1\">\n     <g id=\"text_6\">\n      <!-- 0.00 -->\n      <defs>\n       <path d=\"M 10.6875 12.40625 \nL 21 12.40625 \nL 21 0 \nL 10.6875 0 \nz\n\" id=\"DejaVuSans-46\"/>\n      </defs>\n      <g style=\"fill:#262626;\" transform=\"translate(20.878125 228.439219)scale(0.1 -0.1)\">\n       <use xlink:href=\"#DejaVuSans-48\"/>\n       <use x=\"63.623047\" xlink:href=\"#DejaVuSans-46\"/>\n       <use x=\"95.410156\" xlink:href=\"#DejaVuSans-48\"/>\n       <use x=\"159.033203\" xlink:href=\"#DejaVuSans-48\"/>\n      </g>\n     </g>\n    </g>\n    <g id=\"ytick_2\">\n     <g id=\"text_7\">\n      <!-- 0.01 -->\n      <defs>\n       <path d=\"M 12.40625 8.296875 \nL 28.515625 8.296875 \nL 28.515625 63.921875 \nL 10.984375 60.40625 \nL 10.984375 69.390625 \nL 28.421875 72.90625 \nL 38.28125 72.90625 \nL 38.28125 8.296875 \nL 54.390625 8.296875 \nL 54.390625 0 \nL 12.40625 0 \nz\n\" id=\"DejaVuSans-49\"/>\n      </defs>\n      <g style=\"fill:#262626;\" transform=\"translate(20.878125 182.918203)scale(0.1 -0.1)\">\n       <use xlink:href=\"#DejaVuSans-48\"/>\n       <use x=\"63.623047\" xlink:href=\"#DejaVuSans-46\"/>\n       <use x=\"95.410156\" xlink:href=\"#DejaVuSans-48\"/>\n       <use x=\"159.033203\" xlink:href=\"#DejaVuSans-49\"/>\n      </g>\n     </g>\n    </g>\n    <g id=\"ytick_3\">\n     <g id=\"text_8\">\n      <!-- 0.02 -->\n      <g style=\"fill:#262626;\" transform=\"translate(20.878125 137.397187)scale(0.1 -0.1)\">\n       <use xlink:href=\"#DejaVuSans-48\"/>\n       <use x=\"63.623047\" xlink:href=\"#DejaVuSans-46\"/>\n       <use x=\"95.410156\" xlink:href=\"#DejaVuSans-48\"/>\n       <use x=\"159.033203\" xlink:href=\"#DejaVuSans-50\"/>\n      </g>\n     </g>\n    </g>\n    <g id=\"ytick_4\">\n     <g id=\"text_9\">\n      <!-- 0.03 -->\n      <g style=\"fill:#262626;\" transform=\"translate(20.878125 91.876171)scale(0.1 -0.1)\">\n       <use xlink:href=\"#DejaVuSans-48\"/>\n       <use x=\"63.623047\" xlink:href=\"#DejaVuSans-46\"/>\n       <use x=\"95.410156\" xlink:href=\"#DejaVuSans-48\"/>\n       <use x=\"159.033203\" xlink:href=\"#DejaVuSans-51\"/>\n      </g>\n     </g>\n    </g>\n    <g id=\"ytick_5\">\n     <g id=\"text_10\">\n      <!-- 0.04 -->\n      <g style=\"fill:#262626;\" transform=\"translate(20.878125 46.355155)scale(0.1 -0.1)\">\n       <use xlink:href=\"#DejaVuSans-48\"/>\n       <use x=\"63.623047\" xlink:href=\"#DejaVuSans-46\"/>\n       <use x=\"95.410156\" xlink:href=\"#DejaVuSans-48\"/>\n       <use x=\"159.033203\" xlink:href=\"#DejaVuSans-52\"/>\n      </g>\n     </g>\n    </g>\n    <g id=\"text_11\">\n     <!-- Frequency -->\n     <defs>\n      <path d=\"M 9.8125 72.90625 \nL 51.703125 72.90625 \nL 51.703125 64.59375 \nL 19.671875 64.59375 \nL 19.671875 43.109375 \nL 48.578125 43.109375 \nL 48.578125 34.8125 \nL 19.671875 34.8125 \nL 19.671875 0 \nL 9.8125 0 \nz\n\" id=\"DejaVuSans-70\"/>\n      <path d=\"M 41.109375 46.296875 \nQ 39.59375 47.171875 37.8125 47.578125 \nQ 36.03125 48 33.890625 48 \nQ 26.265625 48 22.1875 43.046875 \nQ 18.109375 38.09375 18.109375 28.8125 \nL 18.109375 0 \nL 9.078125 0 \nL 9.078125 54.6875 \nL 18.109375 54.6875 \nL 18.109375 46.1875 \nQ 20.953125 51.171875 25.484375 53.578125 \nQ 30.03125 56 36.53125 56 \nQ 37.453125 56 38.578125 55.875 \nQ 39.703125 55.765625 41.0625 55.515625 \nz\n\" id=\"DejaVuSans-114\"/>\n      <path d=\"M 56.203125 29.59375 \nL 56.203125 25.203125 \nL 14.890625 25.203125 \nQ 15.484375 15.921875 20.484375 11.0625 \nQ 25.484375 6.203125 34.421875 6.203125 \nQ 39.59375 6.203125 44.453125 7.46875 \nQ 49.3125 8.734375 54.109375 11.28125 \nL 54.109375 2.78125 \nQ 49.265625 0.734375 44.1875 -0.34375 \nQ 39.109375 -1.421875 33.890625 -1.421875 \nQ 20.796875 -1.421875 13.15625 6.1875 \nQ 5.515625 13.8125 5.515625 26.8125 \nQ 5.515625 40.234375 12.765625 48.109375 \nQ 20.015625 56 32.328125 56 \nQ 43.359375 56 49.78125 48.890625 \nQ 56.203125 41.796875 56.203125 29.59375 \nz\nM 47.21875 32.234375 \nQ 47.125 39.59375 43.09375 43.984375 \nQ 39.0625 48.390625 32.421875 48.390625 \nQ 24.90625 48.390625 20.390625 44.140625 \nQ 15.875 39.890625 15.1875 32.171875 \nz\n\" id=\"DejaVuSans-101\"/>\n      <path d=\"M 14.796875 27.296875 \nQ 14.796875 17.390625 18.875 11.75 \nQ 22.953125 6.109375 30.078125 6.109375 \nQ 37.203125 6.109375 41.296875 11.75 \nQ 45.40625 17.390625 45.40625 27.296875 \nQ 45.40625 37.203125 41.296875 42.84375 \nQ 37.203125 48.484375 30.078125 48.484375 \nQ 22.953125 48.484375 18.875 42.84375 \nQ 14.796875 37.203125 14.796875 27.296875 \nz\nM 45.40625 8.203125 \nQ 42.578125 3.328125 38.25 0.953125 \nQ 33.9375 -1.421875 27.875 -1.421875 \nQ 17.96875 -1.421875 11.734375 6.484375 \nQ 5.515625 14.40625 5.515625 27.296875 \nQ 5.515625 40.1875 11.734375 48.09375 \nQ 17.96875 56 27.875 56 \nQ 33.9375 56 38.25 53.625 \nQ 42.578125 51.265625 45.40625 46.390625 \nL 45.40625 54.6875 \nL 54.390625 54.6875 \nL 54.390625 -20.796875 \nL 45.40625 -20.796875 \nz\n\" id=\"DejaVuSans-113\"/>\n      <path d=\"M 8.5 21.578125 \nL 8.5 54.6875 \nL 17.484375 54.6875 \nL 17.484375 21.921875 \nQ 17.484375 14.15625 20.5 10.265625 \nQ 23.53125 6.390625 29.59375 6.390625 \nQ 36.859375 6.390625 41.078125 11.03125 \nQ 45.3125 15.671875 45.3125 23.6875 \nL 45.3125 54.6875 \nL 54.296875 54.6875 \nL 54.296875 0 \nL 45.3125 0 \nL 45.3125 8.40625 \nQ 42.046875 3.421875 37.71875 1 \nQ 33.40625 -1.421875 27.6875 -1.421875 \nQ 18.265625 -1.421875 13.375 4.4375 \nQ 8.5 10.296875 8.5 21.578125 \nz\nM 31.109375 56 \nz\n\" id=\"DejaVuSans-117\"/>\n      <path d=\"M 54.890625 33.015625 \nL 54.890625 0 \nL 45.90625 0 \nL 45.90625 32.71875 \nQ 45.90625 40.484375 42.875 44.328125 \nQ 39.84375 48.1875 33.796875 48.1875 \nQ 26.515625 48.1875 22.3125 43.546875 \nQ 18.109375 38.921875 18.109375 30.90625 \nL 18.109375 0 \nL 9.078125 0 \nL 9.078125 54.6875 \nL 18.109375 54.6875 \nL 18.109375 46.1875 \nQ 21.34375 51.125 25.703125 53.5625 \nQ 30.078125 56 35.796875 56 \nQ 45.21875 56 50.046875 50.171875 \nQ 54.890625 44.34375 54.890625 33.015625 \nz\n\" id=\"DejaVuSans-110\"/>\n      <path d=\"M 48.78125 52.59375 \nL 48.78125 44.1875 \nQ 44.96875 46.296875 41.140625 47.34375 \nQ 37.3125 48.390625 33.40625 48.390625 \nQ 24.65625 48.390625 19.8125 42.84375 \nQ 14.984375 37.3125 14.984375 27.296875 \nQ 14.984375 17.28125 19.8125 11.734375 \nQ 24.65625 6.203125 33.40625 6.203125 \nQ 37.3125 6.203125 41.140625 7.25 \nQ 44.96875 8.296875 48.78125 10.40625 \nL 48.78125 2.09375 \nQ 45.015625 0.34375 40.984375 -0.53125 \nQ 36.96875 -1.421875 32.421875 -1.421875 \nQ 20.0625 -1.421875 12.78125 6.34375 \nQ 5.515625 14.109375 5.515625 27.296875 \nQ 5.515625 40.671875 12.859375 48.328125 \nQ 20.21875 56 33.015625 56 \nQ 37.15625 56 41.109375 55.140625 \nQ 45.0625 54.296875 48.78125 52.59375 \nz\n\" id=\"DejaVuSans-99\"/>\n      <path d=\"M 32.171875 -5.078125 \nQ 28.375 -14.84375 24.75 -17.8125 \nQ 21.140625 -20.796875 15.09375 -20.796875 \nL 7.90625 -20.796875 \nL 7.90625 -13.28125 \nL 13.1875 -13.28125 \nQ 16.890625 -13.28125 18.9375 -11.515625 \nQ 21 -9.765625 23.484375 -3.21875 \nL 25.09375 0.875 \nL 2.984375 54.6875 \nL 12.5 54.6875 \nL 29.59375 11.921875 \nL 46.6875 54.6875 \nL 56.203125 54.6875 \nz\n\" id=\"DejaVuSans-121\"/>\n     </defs>\n     <g style=\"fill:#262626;\" transform=\"translate(14.798438 141.749687)rotate(-90)scale(0.1 -0.1)\">\n      <use xlink:href=\"#DejaVuSans-70\"/>\n      <use x=\"50.269531\" xlink:href=\"#DejaVuSans-114\"/>\n      <use x=\"89.132812\" xlink:href=\"#DejaVuSans-101\"/>\n      <use x=\"150.65625\" xlink:href=\"#DejaVuSans-113\"/>\n      <use x=\"214.132812\" xlink:href=\"#DejaVuSans-117\"/>\n      <use x=\"277.511719\" xlink:href=\"#DejaVuSans-101\"/>\n      <use x=\"339.035156\" xlink:href=\"#DejaVuSans-110\"/>\n      <use x=\"402.414062\" xlink:href=\"#DejaVuSans-99\"/>\n      <use x=\"457.394531\" xlink:href=\"#DejaVuSans-121\"/>\n     </g>\n    </g>\n   </g>\n   <g id=\"patch_3\">\n    <path clip-path=\"url(#pc154b6a44c)\" d=\"M 65.361932 224.64 \nL 80.580114 224.64 \nL 80.580114 214.620967 \nL 65.361932 214.620967 \nz\n\" style=\"fill:#1f77b4;stroke:#ffffff;stroke-linejoin:miter;\"/>\n   </g>\n   <g id=\"patch_4\">\n    <path clip-path=\"url(#pc154b6a44c)\" d=\"M 80.580114 224.64 \nL 95.798295 224.64 \nL 95.798295 186.105256 \nL 80.580114 186.105256 \nz\n\" style=\"fill:#1f77b4;stroke:#ffffff;stroke-linejoin:miter;\"/>\n   </g>\n   <g id=\"patch_5\">\n    <path clip-path=\"url(#pc154b6a44c)\" d=\"M 95.798295 224.64 \nL 111.016477 224.64 \nL 111.016477 95.317399 \nL 95.798295 95.317399 \nz\n\" style=\"fill:#1f77b4;stroke:#ffffff;stroke-linejoin:miter;\"/>\n   </g>\n   <g id=\"patch_6\">\n    <path clip-path=\"url(#pc154b6a44c)\" d=\"M 111.016477 224.64 \nL 126.234659 224.64 \nL 126.234659 93.853079 \nL 111.016477 93.853079 \nz\n\" style=\"fill:#1f77b4;stroke:#ffffff;stroke-linejoin:miter;\"/>\n   </g>\n   <g id=\"patch_7\">\n    <path clip-path=\"url(#pc154b6a44c)\" d=\"M 126.234659 224.64 \nL 141.452841 224.64 \nL 141.452841 99.093804 \nL 126.234659 99.093804 \nz\n\" style=\"fill:#1f77b4;stroke:#ffffff;stroke-linejoin:miter;\"/>\n   </g>\n   <g id=\"patch_8\">\n    <path clip-path=\"url(#pc154b6a44c)\" d=\"M 141.452841 224.64 \nL 156.671023 224.64 \nL 156.671023 21.330691 \nL 141.452841 21.330691 \nz\n\" style=\"fill:#1f77b4;stroke:#ffffff;stroke-linejoin:miter;\"/>\n   </g>\n   <g id=\"patch_9\">\n    <path clip-path=\"url(#pc154b6a44c)\" d=\"M 156.671023 224.64 \nL 171.889205 224.64 \nL 171.889205 100.866402 \nL 156.671023 100.866402 \nz\n\" style=\"fill:#1f77b4;stroke:#ffffff;stroke-linejoin:miter;\"/>\n   </g>\n   <g id=\"patch_10\">\n    <path clip-path=\"url(#pc154b6a44c)\" d=\"M 171.889205 224.64 \nL 187.107386 224.64 \nL 187.107386 75.66468 \nL 171.889205 75.66468 \nz\n\" style=\"fill:#1f77b4;stroke:#ffffff;stroke-linejoin:miter;\"/>\n   </g>\n   <g id=\"patch_11\">\n    <path clip-path=\"url(#pc154b6a44c)\" d=\"M 187.107386 224.64 \nL 202.325568 224.64 \nL 202.325568 17.554286 \nL 187.107386 17.554286 \nz\n\" style=\"fill:#1f77b4;stroke:#ffffff;stroke-linejoin:miter;\"/>\n   </g>\n   <g id=\"patch_12\">\n    <path clip-path=\"url(#pc154b6a44c)\" d=\"M 202.325568 224.64 \nL 217.54375 224.64 \nL 217.54375 96.473441 \nL 202.325568 96.473441 \nz\n\" style=\"fill:#1f77b4;stroke:#ffffff;stroke-linejoin:miter;\"/>\n   </g>\n   <g id=\"patch_13\">\n    <path clip-path=\"url(#pc154b6a44c)\" d=\"M 217.54375 224.64 \nL 232.761932 224.64 \nL 232.761932 115.047188 \nL 217.54375 115.047188 \nz\n\" style=\"fill:#1f77b4;stroke:#ffffff;stroke-linejoin:miter;\"/>\n   </g>\n   <g id=\"patch_14\">\n    <path clip-path=\"url(#pc154b6a44c)\" d=\"M 232.761932 224.64 \nL 247.980114 224.64 \nL 247.980114 59.403018 \nL 232.761932 59.403018 \nz\n\" style=\"fill:#1f77b4;stroke:#ffffff;stroke-linejoin:miter;\"/>\n   </g>\n   <g id=\"patch_15\">\n    <path clip-path=\"url(#pc154b6a44c)\" d=\"M 247.980114 224.64 \nL 263.198295 224.64 \nL 263.198295 125.451569 \nL 247.980114 125.451569 \nz\n\" style=\"fill:#1f77b4;stroke:#ffffff;stroke-linejoin:miter;\"/>\n   </g>\n   <g id=\"patch_16\">\n    <path clip-path=\"url(#pc154b6a44c)\" d=\"M 263.198295 224.64 \nL 278.416477 224.64 \nL 278.416477 131.925406 \nL 263.198295 131.925406 \nz\n\" style=\"fill:#1f77b4;stroke:#ffffff;stroke-linejoin:miter;\"/>\n   </g>\n   <g id=\"patch_17\">\n    <path clip-path=\"url(#pc154b6a44c)\" d=\"M 278.416477 224.64 \nL 293.634659 224.64 \nL 293.634659 120.981539 \nL 278.416477 120.981539 \nz\n\" style=\"fill:#1f77b4;stroke:#ffffff;stroke-linejoin:miter;\"/>\n   </g>\n   <g id=\"patch_18\">\n    <path clip-path=\"url(#pc154b6a44c)\" d=\"M 293.634659 224.64 \nL 308.852841 224.64 \nL 308.852841 180.016766 \nL 293.634659 180.016766 \nz\n\" style=\"fill:#1f77b4;stroke:#ffffff;stroke-linejoin:miter;\"/>\n   </g>\n   <g id=\"patch_19\">\n    <path clip-path=\"url(#pc154b6a44c)\" d=\"M 308.852841 224.64 \nL 324.071023 224.64 \nL 324.071023 189.881661 \nL 308.852841 189.881661 \nz\n\" style=\"fill:#1f77b4;stroke:#ffffff;stroke-linejoin:miter;\"/>\n   </g>\n   <g id=\"patch_20\">\n    <path clip-path=\"url(#pc154b6a44c)\" d=\"M 324.071023 224.64 \nL 339.289205 224.64 \nL 339.289205 196.278428 \nL 324.071023 196.278428 \nz\n\" style=\"fill:#1f77b4;stroke:#ffffff;stroke-linejoin:miter;\"/>\n   </g>\n   <g id=\"patch_21\">\n    <path clip-path=\"url(#pc154b6a44c)\" d=\"M 339.289205 224.64 \nL 354.507386 224.64 \nL 354.507386 213.927341 \nL 339.289205 213.927341 \nz\n\" style=\"fill:#1f77b4;stroke:#ffffff;stroke-linejoin:miter;\"/>\n   </g>\n   <g id=\"patch_22\">\n    <path clip-path=\"url(#pc154b6a44c)\" d=\"M 354.507386 224.64 \nL 369.725568 224.64 \nL 369.725568 221.942568 \nL 354.507386 221.942568 \nz\n\" style=\"fill:#1f77b4;stroke:#ffffff;stroke-linejoin:miter;\"/>\n   </g>\n   <g id=\"patch_23\">\n    <path d=\"M 50.14375 224.64 \nL 50.14375 7.2 \n\" style=\"fill:none;stroke:#262626;stroke-linecap:square;stroke-linejoin:miter;stroke-width:0.8;\"/>\n   </g>\n   <g id=\"patch_24\">\n    <path d=\"M 384.94375 224.64 \nL 384.94375 7.2 \n\" style=\"fill:none;stroke:#262626;stroke-linecap:square;stroke-linejoin:miter;stroke-width:0.8;\"/>\n   </g>\n   <g id=\"patch_25\">\n    <path d=\"M 50.14375 224.64 \nL 384.94375 224.64 \n\" style=\"fill:none;stroke:#262626;stroke-linecap:square;stroke-linejoin:miter;stroke-width:0.8;\"/>\n   </g>\n   <g id=\"patch_26\">\n    <path d=\"M 50.14375 7.2 \nL 384.94375 7.2 \n\" style=\"fill:none;stroke:#262626;stroke-linecap:square;stroke-linejoin:miter;stroke-width:0.8;\"/>\n   </g>\n  </g>\n </g>\n <defs>\n  <clipPath id=\"pc154b6a44c\">\n   <rect height=\"217.44\" width=\"334.8\" x=\"50.14375\" y=\"7.2\"/>\n  </clipPath>\n </defs>\n</svg>\n"
          },
          "metadata": {}
        }
      ]
    },
    {
      "cell_type": "code",
      "metadata": {
        "colab": {
          "base_uri": "https://localhost:8080/",
          "height": 324
        },
        "id": "A9oZQv2lL8n2",
        "outputId": "12e47250-8ad9-422d-f380-441156ebd9c8"
      },
      "source": [
        "new_data = get_category(new_data,'Age',5, [\"lowest\",\"low\",\"medium\",\"high\",\"highest\"])\n",
        "iv, data = calc_iv(new_data,'gp_Age','target')\n",
        "ivtable.loc[ivtable['variable']=='DAYS_BIRTH','IV'] = iv\n",
        "data.head()"
      ],
      "execution_count": 155,
      "outputs": [
        {
          "output_type": "stream",
          "name": "stdout",
          "text": [
            "El IV de esta variable es: 0.06593513858884348\n",
            "medium     7916\n",
            "low        7806\n",
            "high       4414\n",
            "lowest     4005\n",
            "highest     993\n",
            "Name: gp_Age, dtype: int64\n"
          ]
        },
        {
          "output_type": "execute_result",
          "data": {
            "text/html": [
              "<div>\n",
              "<style scoped>\n",
              "    .dataframe tbody tr th:only-of-type {\n",
              "        vertical-align: middle;\n",
              "    }\n",
              "\n",
              "    .dataframe tbody tr th {\n",
              "        vertical-align: top;\n",
              "    }\n",
              "\n",
              "    .dataframe thead th {\n",
              "        text-align: right;\n",
              "    }\n",
              "</style>\n",
              "<table border=\"1\" class=\"dataframe\">\n",
              "  <thead>\n",
              "    <tr style=\"text-align: right;\">\n",
              "      <th></th>\n",
              "      <th>Variable</th>\n",
              "      <th>Value</th>\n",
              "      <th>All</th>\n",
              "      <th>Good</th>\n",
              "      <th>Bad</th>\n",
              "      <th>Share</th>\n",
              "      <th>Bad Rate</th>\n",
              "      <th>Distribution Good</th>\n",
              "      <th>Distribution Bad</th>\n",
              "      <th>WoE</th>\n",
              "      <th>IV</th>\n",
              "    </tr>\n",
              "  </thead>\n",
              "  <tbody>\n",
              "    <tr>\n",
              "      <th>0</th>\n",
              "      <td>gp_Age</td>\n",
              "      <td>high</td>\n",
              "      <td>4414</td>\n",
              "      <td>4323</td>\n",
              "      <td>91</td>\n",
              "      <td>0.175619</td>\n",
              "      <td>0.020616</td>\n",
              "      <td>0.174935</td>\n",
              "      <td>0.215640</td>\n",
              "      <td>-0.209194</td>\n",
              "      <td>0.008515</td>\n",
              "    </tr>\n",
              "    <tr>\n",
              "      <th>1</th>\n",
              "      <td>gp_Age</td>\n",
              "      <td>highest</td>\n",
              "      <td>993</td>\n",
              "      <td>989</td>\n",
              "      <td>4</td>\n",
              "      <td>0.039508</td>\n",
              "      <td>0.004028</td>\n",
              "      <td>0.040021</td>\n",
              "      <td>0.009479</td>\n",
              "      <td>1.440361</td>\n",
              "      <td>0.043992</td>\n",
              "    </tr>\n",
              "    <tr>\n",
              "      <th>2</th>\n",
              "      <td>gp_Age</td>\n",
              "      <td>low</td>\n",
              "      <td>7806</td>\n",
              "      <td>7686</td>\n",
              "      <td>120</td>\n",
              "      <td>0.310575</td>\n",
              "      <td>0.015373</td>\n",
              "      <td>0.311023</td>\n",
              "      <td>0.284360</td>\n",
              "      <td>0.089625</td>\n",
              "      <td>0.002390</td>\n",
              "    </tr>\n",
              "    <tr>\n",
              "      <th>3</th>\n",
              "      <td>gp_Age</td>\n",
              "      <td>lowest</td>\n",
              "      <td>4005</td>\n",
              "      <td>3921</td>\n",
              "      <td>84</td>\n",
              "      <td>0.159346</td>\n",
              "      <td>0.020974</td>\n",
              "      <td>0.158668</td>\n",
              "      <td>0.199052</td>\n",
              "      <td>-0.226754</td>\n",
              "      <td>0.009157</td>\n",
              "    </tr>\n",
              "    <tr>\n",
              "      <th>4</th>\n",
              "      <td>gp_Age</td>\n",
              "      <td>medium</td>\n",
              "      <td>7916</td>\n",
              "      <td>7793</td>\n",
              "      <td>123</td>\n",
              "      <td>0.314952</td>\n",
              "      <td>0.015538</td>\n",
              "      <td>0.315353</td>\n",
              "      <td>0.291469</td>\n",
              "      <td>0.078758</td>\n",
              "      <td>0.001881</td>\n",
              "    </tr>\n",
              "  </tbody>\n",
              "</table>\n",
              "</div>"
            ],
            "text/plain": [
              "  Variable    Value   All  ...  Distribution Bad       WoE        IV\n",
              "0   gp_Age     high  4414  ...          0.215640 -0.209194  0.008515\n",
              "1   gp_Age  highest   993  ...          0.009479  1.440361  0.043992\n",
              "2   gp_Age      low  7806  ...          0.284360  0.089625  0.002390\n",
              "3   gp_Age   lowest  4005  ...          0.199052 -0.226754  0.009157\n",
              "4   gp_Age   medium  7916  ...          0.291469  0.078758  0.001881\n",
              "\n",
              "[5 rows x 11 columns]"
            ]
          },
          "metadata": {},
          "execution_count": 155
        }
      ]
    },
    {
      "cell_type": "markdown",
      "metadata": {
        "id": "MtzfS2hGDsdW"
      },
      "source": [
        "IV Value Highes= 0.04399, tiene una debil predicción, pero es mejor que los demas grupos de edad,  se puede ver que el rango mas alto de edad tiende a tener buenos pronósticos bancários, Además se puede corroborrar con los Good=989 vs Bads=4"
      ]
    },
    {
      "cell_type": "code",
      "metadata": {
        "id": "Qqa1Cu9vL8n3"
      },
      "source": [
        "new_data = convert_dummy(new_data,'gp_Age')"
      ],
      "execution_count": 156,
      "outputs": []
    },
    {
      "cell_type": "code",
      "metadata": {
        "colab": {
          "base_uri": "https://localhost:8080/",
          "height": 480
        },
        "id": "y99Tp1gzDbF7",
        "outputId": "0b3034f5-4fa7-4a96-e52a-f091d1abc2f5"
      },
      "source": [
        "new_data.head()"
      ],
      "execution_count": 157,
      "outputs": [
        {
          "output_type": "execute_result",
          "data": {
            "text/html": [
              "<div>\n",
              "<style scoped>\n",
              "    .dataframe tbody tr th:only-of-type {\n",
              "        vertical-align: middle;\n",
              "    }\n",
              "\n",
              "    .dataframe tbody tr th {\n",
              "        vertical-align: top;\n",
              "    }\n",
              "\n",
              "    .dataframe thead th {\n",
              "        text-align: right;\n",
              "    }\n",
              "</style>\n",
              "<table border=\"1\" class=\"dataframe\">\n",
              "  <thead>\n",
              "    <tr style=\"text-align: right;\">\n",
              "      <th></th>\n",
              "      <th>ID</th>\n",
              "      <th>Gender</th>\n",
              "      <th>Car</th>\n",
              "      <th>Reality</th>\n",
              "      <th>inc</th>\n",
              "      <th>inctp</th>\n",
              "      <th>edutp</th>\n",
              "      <th>famtp</th>\n",
              "      <th>houtp</th>\n",
              "      <th>DAYS_BIRTH</th>\n",
              "      <th>DAYS_EMPLOYED</th>\n",
              "      <th>FLAG_MOBIL</th>\n",
              "      <th>wkphone</th>\n",
              "      <th>phone</th>\n",
              "      <th>email</th>\n",
              "      <th>occyp</th>\n",
              "      <th>famsize</th>\n",
              "      <th>begin_month</th>\n",
              "      <th>dep_value</th>\n",
              "      <th>target</th>\n",
              "      <th>ChldNo_1</th>\n",
              "      <th>ChldNo_2More</th>\n",
              "      <th>gp_inc_high</th>\n",
              "      <th>gp_inc_medium</th>\n",
              "      <th>Age</th>\n",
              "      <th>gp_Age_high</th>\n",
              "      <th>gp_Age_highest</th>\n",
              "      <th>gp_Age_low</th>\n",
              "      <th>gp_Age_lowest</th>\n",
              "    </tr>\n",
              "  </thead>\n",
              "  <tbody>\n",
              "    <tr>\n",
              "      <th>2</th>\n",
              "      <td>5008806</td>\n",
              "      <td>1</td>\n",
              "      <td>1</td>\n",
              "      <td>1</td>\n",
              "      <td>11.25</td>\n",
              "      <td>Working</td>\n",
              "      <td>Secondary / secondary special</td>\n",
              "      <td>Married</td>\n",
              "      <td>House / apartment</td>\n",
              "      <td>-21474</td>\n",
              "      <td>-1134</td>\n",
              "      <td>1</td>\n",
              "      <td>0</td>\n",
              "      <td>0</td>\n",
              "      <td>0</td>\n",
              "      <td>Security staff</td>\n",
              "      <td>2.0</td>\n",
              "      <td>-29.0</td>\n",
              "      <td>No</td>\n",
              "      <td>0</td>\n",
              "      <td>0</td>\n",
              "      <td>0</td>\n",
              "      <td>0</td>\n",
              "      <td>0</td>\n",
              "      <td>58</td>\n",
              "      <td>0</td>\n",
              "      <td>1</td>\n",
              "      <td>0</td>\n",
              "      <td>0</td>\n",
              "    </tr>\n",
              "    <tr>\n",
              "      <th>3</th>\n",
              "      <td>5008808</td>\n",
              "      <td>0</td>\n",
              "      <td>0</td>\n",
              "      <td>1</td>\n",
              "      <td>27</td>\n",
              "      <td>Commercial associate</td>\n",
              "      <td>Secondary / secondary special</td>\n",
              "      <td>Single / not married</td>\n",
              "      <td>House / apartment</td>\n",
              "      <td>-19110</td>\n",
              "      <td>-3051</td>\n",
              "      <td>1</td>\n",
              "      <td>0</td>\n",
              "      <td>1</td>\n",
              "      <td>1</td>\n",
              "      <td>Sales staff</td>\n",
              "      <td>1.0</td>\n",
              "      <td>-4.0</td>\n",
              "      <td>No</td>\n",
              "      <td>0</td>\n",
              "      <td>0</td>\n",
              "      <td>0</td>\n",
              "      <td>1</td>\n",
              "      <td>0</td>\n",
              "      <td>52</td>\n",
              "      <td>1</td>\n",
              "      <td>0</td>\n",
              "      <td>0</td>\n",
              "      <td>0</td>\n",
              "    </tr>\n",
              "    <tr>\n",
              "      <th>4</th>\n",
              "      <td>5008809</td>\n",
              "      <td>0</td>\n",
              "      <td>0</td>\n",
              "      <td>1</td>\n",
              "      <td>27</td>\n",
              "      <td>Commercial associate</td>\n",
              "      <td>Secondary / secondary special</td>\n",
              "      <td>Single / not married</td>\n",
              "      <td>House / apartment</td>\n",
              "      <td>-19110</td>\n",
              "      <td>-3051</td>\n",
              "      <td>1</td>\n",
              "      <td>0</td>\n",
              "      <td>1</td>\n",
              "      <td>1</td>\n",
              "      <td>Sales staff</td>\n",
              "      <td>1.0</td>\n",
              "      <td>-26.0</td>\n",
              "      <td>No</td>\n",
              "      <td>0</td>\n",
              "      <td>0</td>\n",
              "      <td>0</td>\n",
              "      <td>1</td>\n",
              "      <td>0</td>\n",
              "      <td>52</td>\n",
              "      <td>1</td>\n",
              "      <td>0</td>\n",
              "      <td>0</td>\n",
              "      <td>0</td>\n",
              "    </tr>\n",
              "    <tr>\n",
              "      <th>5</th>\n",
              "      <td>5008810</td>\n",
              "      <td>0</td>\n",
              "      <td>0</td>\n",
              "      <td>1</td>\n",
              "      <td>27</td>\n",
              "      <td>Commercial associate</td>\n",
              "      <td>Secondary / secondary special</td>\n",
              "      <td>Single / not married</td>\n",
              "      <td>House / apartment</td>\n",
              "      <td>-19110</td>\n",
              "      <td>-3051</td>\n",
              "      <td>1</td>\n",
              "      <td>0</td>\n",
              "      <td>1</td>\n",
              "      <td>1</td>\n",
              "      <td>Sales staff</td>\n",
              "      <td>1.0</td>\n",
              "      <td>-26.0</td>\n",
              "      <td>No</td>\n",
              "      <td>0</td>\n",
              "      <td>0</td>\n",
              "      <td>0</td>\n",
              "      <td>1</td>\n",
              "      <td>0</td>\n",
              "      <td>52</td>\n",
              "      <td>1</td>\n",
              "      <td>0</td>\n",
              "      <td>0</td>\n",
              "      <td>0</td>\n",
              "    </tr>\n",
              "    <tr>\n",
              "      <th>6</th>\n",
              "      <td>5008811</td>\n",
              "      <td>0</td>\n",
              "      <td>0</td>\n",
              "      <td>1</td>\n",
              "      <td>27</td>\n",
              "      <td>Commercial associate</td>\n",
              "      <td>Secondary / secondary special</td>\n",
              "      <td>Single / not married</td>\n",
              "      <td>House / apartment</td>\n",
              "      <td>-19110</td>\n",
              "      <td>-3051</td>\n",
              "      <td>1</td>\n",
              "      <td>0</td>\n",
              "      <td>1</td>\n",
              "      <td>1</td>\n",
              "      <td>Sales staff</td>\n",
              "      <td>1.0</td>\n",
              "      <td>-38.0</td>\n",
              "      <td>No</td>\n",
              "      <td>0</td>\n",
              "      <td>0</td>\n",
              "      <td>0</td>\n",
              "      <td>1</td>\n",
              "      <td>0</td>\n",
              "      <td>52</td>\n",
              "      <td>1</td>\n",
              "      <td>0</td>\n",
              "      <td>0</td>\n",
              "      <td>0</td>\n",
              "    </tr>\n",
              "  </tbody>\n",
              "</table>\n",
              "</div>"
            ],
            "text/plain": [
              "        ID  Gender  Car  ...  gp_Age_highest gp_Age_low gp_Age_lowest\n",
              "2  5008806       1    1  ...               1          0             0\n",
              "3  5008808       0    0  ...               0          0             0\n",
              "4  5008809       0    0  ...               0          0             0\n",
              "5  5008810       0    0  ...               0          0             0\n",
              "6  5008811       0    0  ...               0          0             0\n",
              "\n",
              "[5 rows x 29 columns]"
            ]
          },
          "metadata": {},
          "execution_count": 157
        }
      ]
    },
    {
      "cell_type": "markdown",
      "metadata": {
        "id": "8Dnoq4ocL8n3"
      },
      "source": [
        "#### Años de Trabajo"
      ]
    },
    {
      "cell_type": "code",
      "metadata": {
        "id": "XqxcWOteL8n3"
      },
      "source": [
        "new_data['worktm']=-(new_data['DAYS_EMPLOYED'])//365\n",
        "new_data[new_data['worktm']<0] = np.nan # replace by na\n",
        "new_data['DAYS_EMPLOYED']\n",
        "new_data['worktm'].fillna(new_data['worktm'].mean(),inplace=True) #replace na by mean"
      ],
      "execution_count": 158,
      "outputs": []
    },
    {
      "cell_type": "code",
      "metadata": {
        "colab": {
          "base_uri": "https://localhost:8080/",
          "height": 370
        },
        "id": "Yo8I7grHL8n3",
        "outputId": "b01ef5af-7e7a-42f9-fedb-ff5509b3125e"
      },
      "source": [
        "new_data['worktm'].plot(kind='hist',bins=20,density=True)"
      ],
      "execution_count": 159,
      "outputs": [
        {
          "output_type": "execute_result",
          "data": {
            "text/plain": [
              "<matplotlib.axes._subplots.AxesSubplot at 0x7ff458707290>"
            ]
          },
          "metadata": {},
          "execution_count": 159
        },
        {
          "output_type": "display_data",
          "data": {
            "text/plain": [
              "<Figure size 432x288 with 1 Axes>"
            ],
            "image/svg+xml": "<?xml version=\"1.0\" encoding=\"utf-8\" standalone=\"no\"?>\n<!DOCTYPE svg PUBLIC \"-//W3C//DTD SVG 1.1//EN\"\n  \"http://www.w3.org/Graphics/SVG/1.1/DTD/svg11.dtd\">\n<!-- Created with matplotlib (https://matplotlib.org/) -->\n<svg height=\"248.518125pt\" version=\"1.1\" viewBox=\"0 0 392.14375 248.518125\" width=\"392.14375pt\" xmlns=\"http://www.w3.org/2000/svg\" xmlns:xlink=\"http://www.w3.org/1999/xlink\">\n <defs>\n  <style type=\"text/css\">\n*{stroke-linecap:butt;stroke-linejoin:round;}\n  </style>\n </defs>\n <g id=\"figure_1\">\n  <g id=\"patch_1\">\n   <path d=\"M 0 248.518125 \nL 392.14375 248.518125 \nL 392.14375 0 \nL 0 0 \nz\n\" style=\"fill:#ffffff;\"/>\n  </g>\n  <g id=\"axes_1\">\n   <g id=\"patch_2\">\n    <path d=\"M 50.14375 224.64 \nL 384.94375 224.64 \nL 384.94375 7.2 \nL 50.14375 7.2 \nz\n\" style=\"fill:#ffffff;\"/>\n   </g>\n   <g id=\"matplotlib.axis_1\">\n    <g id=\"xtick_1\">\n     <g id=\"text_1\">\n      <!-- 0 -->\n      <defs>\n       <path d=\"M 31.78125 66.40625 \nQ 24.171875 66.40625 20.328125 58.90625 \nQ 16.5 51.421875 16.5 36.375 \nQ 16.5 21.390625 20.328125 13.890625 \nQ 24.171875 6.390625 31.78125 6.390625 \nQ 39.453125 6.390625 43.28125 13.890625 \nQ 47.125 21.390625 47.125 36.375 \nQ 47.125 51.421875 43.28125 58.90625 \nQ 39.453125 66.40625 31.78125 66.40625 \nz\nM 31.78125 74.21875 \nQ 44.046875 74.21875 50.515625 64.515625 \nQ 56.984375 54.828125 56.984375 36.375 \nQ 56.984375 17.96875 50.515625 8.265625 \nQ 44.046875 -1.421875 31.78125 -1.421875 \nQ 19.53125 -1.421875 13.0625 8.265625 \nQ 6.59375 17.96875 6.59375 36.375 \nQ 6.59375 54.828125 13.0625 64.515625 \nQ 19.53125 74.21875 31.78125 74.21875 \nz\n\" id=\"DejaVuSans-48\"/>\n      </defs>\n      <g style=\"fill:#262626;\" transform=\"translate(62.180682 239.238437)scale(0.1 -0.1)\">\n       <use xlink:href=\"#DejaVuSans-48\"/>\n      </g>\n     </g>\n    </g>\n    <g id=\"xtick_2\">\n     <g id=\"text_2\">\n      <!-- 10 -->\n      <defs>\n       <path d=\"M 12.40625 8.296875 \nL 28.515625 8.296875 \nL 28.515625 63.921875 \nL 10.984375 60.40625 \nL 10.984375 69.390625 \nL 28.421875 72.90625 \nL 38.28125 72.90625 \nL 38.28125 8.296875 \nL 54.390625 8.296875 \nL 54.390625 0 \nL 12.40625 0 \nz\n\" id=\"DejaVuSans-49\"/>\n      </defs>\n      <g style=\"fill:#262626;\" transform=\"translate(129.781673 239.238437)scale(0.1 -0.1)\">\n       <use xlink:href=\"#DejaVuSans-49\"/>\n       <use x=\"63.623047\" xlink:href=\"#DejaVuSans-48\"/>\n      </g>\n     </g>\n    </g>\n    <g id=\"xtick_3\">\n     <g id=\"text_3\">\n      <!-- 20 -->\n      <defs>\n       <path d=\"M 19.1875 8.296875 \nL 53.609375 8.296875 \nL 53.609375 0 \nL 7.328125 0 \nL 7.328125 8.296875 \nQ 12.9375 14.109375 22.625 23.890625 \nQ 32.328125 33.6875 34.8125 36.53125 \nQ 39.546875 41.84375 41.421875 45.53125 \nQ 43.3125 49.21875 43.3125 52.78125 \nQ 43.3125 58.59375 39.234375 62.25 \nQ 35.15625 65.921875 28.609375 65.921875 \nQ 23.96875 65.921875 18.8125 64.3125 \nQ 13.671875 62.703125 7.8125 59.421875 \nL 7.8125 69.390625 \nQ 13.765625 71.78125 18.9375 73 \nQ 24.125 74.21875 28.421875 74.21875 \nQ 39.75 74.21875 46.484375 68.546875 \nQ 53.21875 62.890625 53.21875 53.421875 \nQ 53.21875 48.921875 51.53125 44.890625 \nQ 49.859375 40.875 45.40625 35.40625 \nQ 44.1875 33.984375 37.640625 27.21875 \nQ 31.109375 20.453125 19.1875 8.296875 \nz\n\" id=\"DejaVuSans-50\"/>\n      </defs>\n      <g style=\"fill:#262626;\" transform=\"translate(200.563914 239.238437)scale(0.1 -0.1)\">\n       <use xlink:href=\"#DejaVuSans-50\"/>\n       <use x=\"63.623047\" xlink:href=\"#DejaVuSans-48\"/>\n      </g>\n     </g>\n    </g>\n    <g id=\"xtick_4\">\n     <g id=\"text_4\">\n      <!-- 30 -->\n      <defs>\n       <path d=\"M 40.578125 39.3125 \nQ 47.65625 37.796875 51.625 33 \nQ 55.609375 28.21875 55.609375 21.1875 \nQ 55.609375 10.40625 48.1875 4.484375 \nQ 40.765625 -1.421875 27.09375 -1.421875 \nQ 22.515625 -1.421875 17.65625 -0.515625 \nQ 12.796875 0.390625 7.625 2.203125 \nL 7.625 11.71875 \nQ 11.71875 9.328125 16.59375 8.109375 \nQ 21.484375 6.890625 26.8125 6.890625 \nQ 36.078125 6.890625 40.9375 10.546875 \nQ 45.796875 14.203125 45.796875 21.1875 \nQ 45.796875 27.640625 41.28125 31.265625 \nQ 36.765625 34.90625 28.71875 34.90625 \nL 20.21875 34.90625 \nL 20.21875 43.015625 \nL 29.109375 43.015625 \nQ 36.375 43.015625 40.234375 45.921875 \nQ 44.09375 48.828125 44.09375 54.296875 \nQ 44.09375 59.90625 40.109375 62.90625 \nQ 36.140625 65.921875 28.71875 65.921875 \nQ 24.65625 65.921875 20.015625 65.03125 \nQ 15.375 64.15625 9.8125 62.3125 \nL 9.8125 71.09375 \nQ 15.4375 72.65625 20.34375 73.4375 \nQ 25.25 74.21875 29.59375 74.21875 \nQ 40.828125 74.21875 47.359375 69.109375 \nQ 53.90625 64.015625 53.90625 55.328125 \nQ 53.90625 49.265625 50.4375 45.09375 \nQ 46.96875 40.921875 40.578125 39.3125 \nz\n\" id=\"DejaVuSans-51\"/>\n      </defs>\n      <g style=\"fill:#262626;\" transform=\"translate(271.346155 239.238437)scale(0.1 -0.1)\">\n       <use xlink:href=\"#DejaVuSans-51\"/>\n       <use x=\"63.623047\" xlink:href=\"#DejaVuSans-48\"/>\n      </g>\n     </g>\n    </g>\n    <g id=\"xtick_5\">\n     <g id=\"text_5\">\n      <!-- 40 -->\n      <defs>\n       <path d=\"M 37.796875 64.3125 \nL 12.890625 25.390625 \nL 37.796875 25.390625 \nz\nM 35.203125 72.90625 \nL 47.609375 72.90625 \nL 47.609375 25.390625 \nL 58.015625 25.390625 \nL 58.015625 17.1875 \nL 47.609375 17.1875 \nL 47.609375 0 \nL 37.796875 0 \nL 37.796875 17.1875 \nL 4.890625 17.1875 \nL 4.890625 26.703125 \nz\n\" id=\"DejaVuSans-52\"/>\n      </defs>\n      <g style=\"fill:#262626;\" transform=\"translate(342.128396 239.238437)scale(0.1 -0.1)\">\n       <use xlink:href=\"#DejaVuSans-52\"/>\n       <use x=\"63.623047\" xlink:href=\"#DejaVuSans-48\"/>\n      </g>\n     </g>\n    </g>\n   </g>\n   <g id=\"matplotlib.axis_2\">\n    <g id=\"ytick_1\">\n     <g id=\"text_6\">\n      <!-- 0.00 -->\n      <defs>\n       <path d=\"M 10.6875 12.40625 \nL 21 12.40625 \nL 21 0 \nL 10.6875 0 \nz\n\" id=\"DejaVuSans-46\"/>\n      </defs>\n      <g style=\"fill:#262626;\" transform=\"translate(20.878125 228.439219)scale(0.1 -0.1)\">\n       <use xlink:href=\"#DejaVuSans-48\"/>\n       <use x=\"63.623047\" xlink:href=\"#DejaVuSans-46\"/>\n       <use x=\"95.410156\" xlink:href=\"#DejaVuSans-48\"/>\n       <use x=\"159.033203\" xlink:href=\"#DejaVuSans-48\"/>\n      </g>\n     </g>\n    </g>\n    <g id=\"ytick_2\">\n     <g id=\"text_7\">\n      <!-- 0.02 -->\n      <g style=\"fill:#262626;\" transform=\"translate(20.878125 196.755984)scale(0.1 -0.1)\">\n       <use xlink:href=\"#DejaVuSans-48\"/>\n       <use x=\"63.623047\" xlink:href=\"#DejaVuSans-46\"/>\n       <use x=\"95.410156\" xlink:href=\"#DejaVuSans-48\"/>\n       <use x=\"159.033203\" xlink:href=\"#DejaVuSans-50\"/>\n      </g>\n     </g>\n    </g>\n    <g id=\"ytick_3\">\n     <g id=\"text_8\">\n      <!-- 0.04 -->\n      <g style=\"fill:#262626;\" transform=\"translate(20.878125 165.072749)scale(0.1 -0.1)\">\n       <use xlink:href=\"#DejaVuSans-48\"/>\n       <use x=\"63.623047\" xlink:href=\"#DejaVuSans-46\"/>\n       <use x=\"95.410156\" xlink:href=\"#DejaVuSans-48\"/>\n       <use x=\"159.033203\" xlink:href=\"#DejaVuSans-52\"/>\n      </g>\n     </g>\n    </g>\n    <g id=\"ytick_4\">\n     <g id=\"text_9\">\n      <!-- 0.06 -->\n      <defs>\n       <path d=\"M 33.015625 40.375 \nQ 26.375 40.375 22.484375 35.828125 \nQ 18.609375 31.296875 18.609375 23.390625 \nQ 18.609375 15.53125 22.484375 10.953125 \nQ 26.375 6.390625 33.015625 6.390625 \nQ 39.65625 6.390625 43.53125 10.953125 \nQ 47.40625 15.53125 47.40625 23.390625 \nQ 47.40625 31.296875 43.53125 35.828125 \nQ 39.65625 40.375 33.015625 40.375 \nz\nM 52.59375 71.296875 \nL 52.59375 62.3125 \nQ 48.875 64.0625 45.09375 64.984375 \nQ 41.3125 65.921875 37.59375 65.921875 \nQ 27.828125 65.921875 22.671875 59.328125 \nQ 17.53125 52.734375 16.796875 39.40625 \nQ 19.671875 43.65625 24.015625 45.921875 \nQ 28.375 48.1875 33.59375 48.1875 \nQ 44.578125 48.1875 50.953125 41.515625 \nQ 57.328125 34.859375 57.328125 23.390625 \nQ 57.328125 12.15625 50.6875 5.359375 \nQ 44.046875 -1.421875 33.015625 -1.421875 \nQ 20.359375 -1.421875 13.671875 8.265625 \nQ 6.984375 17.96875 6.984375 36.375 \nQ 6.984375 53.65625 15.1875 63.9375 \nQ 23.390625 74.21875 37.203125 74.21875 \nQ 40.921875 74.21875 44.703125 73.484375 \nQ 48.484375 72.75 52.59375 71.296875 \nz\n\" id=\"DejaVuSans-54\"/>\n      </defs>\n      <g style=\"fill:#262626;\" transform=\"translate(20.878125 133.389514)scale(0.1 -0.1)\">\n       <use xlink:href=\"#DejaVuSans-48\"/>\n       <use x=\"63.623047\" xlink:href=\"#DejaVuSans-46\"/>\n       <use x=\"95.410156\" xlink:href=\"#DejaVuSans-48\"/>\n       <use x=\"159.033203\" xlink:href=\"#DejaVuSans-54\"/>\n      </g>\n     </g>\n    </g>\n    <g id=\"ytick_5\">\n     <g id=\"text_10\">\n      <!-- 0.08 -->\n      <defs>\n       <path d=\"M 31.78125 34.625 \nQ 24.75 34.625 20.71875 30.859375 \nQ 16.703125 27.09375 16.703125 20.515625 \nQ 16.703125 13.921875 20.71875 10.15625 \nQ 24.75 6.390625 31.78125 6.390625 \nQ 38.8125 6.390625 42.859375 10.171875 \nQ 46.921875 13.96875 46.921875 20.515625 \nQ 46.921875 27.09375 42.890625 30.859375 \nQ 38.875 34.625 31.78125 34.625 \nz\nM 21.921875 38.8125 \nQ 15.578125 40.375 12.03125 44.71875 \nQ 8.5 49.078125 8.5 55.328125 \nQ 8.5 64.0625 14.71875 69.140625 \nQ 20.953125 74.21875 31.78125 74.21875 \nQ 42.671875 74.21875 48.875 69.140625 \nQ 55.078125 64.0625 55.078125 55.328125 \nQ 55.078125 49.078125 51.53125 44.71875 \nQ 48 40.375 41.703125 38.8125 \nQ 48.828125 37.15625 52.796875 32.3125 \nQ 56.78125 27.484375 56.78125 20.515625 \nQ 56.78125 9.90625 50.3125 4.234375 \nQ 43.84375 -1.421875 31.78125 -1.421875 \nQ 19.734375 -1.421875 13.25 4.234375 \nQ 6.78125 9.90625 6.78125 20.515625 \nQ 6.78125 27.484375 10.78125 32.3125 \nQ 14.796875 37.15625 21.921875 38.8125 \nz\nM 18.3125 54.390625 \nQ 18.3125 48.734375 21.84375 45.5625 \nQ 25.390625 42.390625 31.78125 42.390625 \nQ 38.140625 42.390625 41.71875 45.5625 \nQ 45.3125 48.734375 45.3125 54.390625 \nQ 45.3125 60.0625 41.71875 63.234375 \nQ 38.140625 66.40625 31.78125 66.40625 \nQ 25.390625 66.40625 21.84375 63.234375 \nQ 18.3125 60.0625 18.3125 54.390625 \nz\n\" id=\"DejaVuSans-56\"/>\n      </defs>\n      <g style=\"fill:#262626;\" transform=\"translate(20.878125 101.706279)scale(0.1 -0.1)\">\n       <use xlink:href=\"#DejaVuSans-48\"/>\n       <use x=\"63.623047\" xlink:href=\"#DejaVuSans-46\"/>\n       <use x=\"95.410156\" xlink:href=\"#DejaVuSans-48\"/>\n       <use x=\"159.033203\" xlink:href=\"#DejaVuSans-56\"/>\n      </g>\n     </g>\n    </g>\n    <g id=\"ytick_6\">\n     <g id=\"text_11\">\n      <!-- 0.10 -->\n      <g style=\"fill:#262626;\" transform=\"translate(20.878125 70.023045)scale(0.1 -0.1)\">\n       <use xlink:href=\"#DejaVuSans-48\"/>\n       <use x=\"63.623047\" xlink:href=\"#DejaVuSans-46\"/>\n       <use x=\"95.410156\" xlink:href=\"#DejaVuSans-49\"/>\n       <use x=\"159.033203\" xlink:href=\"#DejaVuSans-48\"/>\n      </g>\n     </g>\n    </g>\n    <g id=\"ytick_7\">\n     <g id=\"text_12\">\n      <!-- 0.12 -->\n      <g style=\"fill:#262626;\" transform=\"translate(20.878125 38.33981)scale(0.1 -0.1)\">\n       <use xlink:href=\"#DejaVuSans-48\"/>\n       <use x=\"63.623047\" xlink:href=\"#DejaVuSans-46\"/>\n       <use x=\"95.410156\" xlink:href=\"#DejaVuSans-49\"/>\n       <use x=\"159.033203\" xlink:href=\"#DejaVuSans-50\"/>\n      </g>\n     </g>\n    </g>\n    <g id=\"text_13\">\n     <!-- Frequency -->\n     <defs>\n      <path d=\"M 9.8125 72.90625 \nL 51.703125 72.90625 \nL 51.703125 64.59375 \nL 19.671875 64.59375 \nL 19.671875 43.109375 \nL 48.578125 43.109375 \nL 48.578125 34.8125 \nL 19.671875 34.8125 \nL 19.671875 0 \nL 9.8125 0 \nz\n\" id=\"DejaVuSans-70\"/>\n      <path d=\"M 41.109375 46.296875 \nQ 39.59375 47.171875 37.8125 47.578125 \nQ 36.03125 48 33.890625 48 \nQ 26.265625 48 22.1875 43.046875 \nQ 18.109375 38.09375 18.109375 28.8125 \nL 18.109375 0 \nL 9.078125 0 \nL 9.078125 54.6875 \nL 18.109375 54.6875 \nL 18.109375 46.1875 \nQ 20.953125 51.171875 25.484375 53.578125 \nQ 30.03125 56 36.53125 56 \nQ 37.453125 56 38.578125 55.875 \nQ 39.703125 55.765625 41.0625 55.515625 \nz\n\" id=\"DejaVuSans-114\"/>\n      <path d=\"M 56.203125 29.59375 \nL 56.203125 25.203125 \nL 14.890625 25.203125 \nQ 15.484375 15.921875 20.484375 11.0625 \nQ 25.484375 6.203125 34.421875 6.203125 \nQ 39.59375 6.203125 44.453125 7.46875 \nQ 49.3125 8.734375 54.109375 11.28125 \nL 54.109375 2.78125 \nQ 49.265625 0.734375 44.1875 -0.34375 \nQ 39.109375 -1.421875 33.890625 -1.421875 \nQ 20.796875 -1.421875 13.15625 6.1875 \nQ 5.515625 13.8125 5.515625 26.8125 \nQ 5.515625 40.234375 12.765625 48.109375 \nQ 20.015625 56 32.328125 56 \nQ 43.359375 56 49.78125 48.890625 \nQ 56.203125 41.796875 56.203125 29.59375 \nz\nM 47.21875 32.234375 \nQ 47.125 39.59375 43.09375 43.984375 \nQ 39.0625 48.390625 32.421875 48.390625 \nQ 24.90625 48.390625 20.390625 44.140625 \nQ 15.875 39.890625 15.1875 32.171875 \nz\n\" id=\"DejaVuSans-101\"/>\n      <path d=\"M 14.796875 27.296875 \nQ 14.796875 17.390625 18.875 11.75 \nQ 22.953125 6.109375 30.078125 6.109375 \nQ 37.203125 6.109375 41.296875 11.75 \nQ 45.40625 17.390625 45.40625 27.296875 \nQ 45.40625 37.203125 41.296875 42.84375 \nQ 37.203125 48.484375 30.078125 48.484375 \nQ 22.953125 48.484375 18.875 42.84375 \nQ 14.796875 37.203125 14.796875 27.296875 \nz\nM 45.40625 8.203125 \nQ 42.578125 3.328125 38.25 0.953125 \nQ 33.9375 -1.421875 27.875 -1.421875 \nQ 17.96875 -1.421875 11.734375 6.484375 \nQ 5.515625 14.40625 5.515625 27.296875 \nQ 5.515625 40.1875 11.734375 48.09375 \nQ 17.96875 56 27.875 56 \nQ 33.9375 56 38.25 53.625 \nQ 42.578125 51.265625 45.40625 46.390625 \nL 45.40625 54.6875 \nL 54.390625 54.6875 \nL 54.390625 -20.796875 \nL 45.40625 -20.796875 \nz\n\" id=\"DejaVuSans-113\"/>\n      <path d=\"M 8.5 21.578125 \nL 8.5 54.6875 \nL 17.484375 54.6875 \nL 17.484375 21.921875 \nQ 17.484375 14.15625 20.5 10.265625 \nQ 23.53125 6.390625 29.59375 6.390625 \nQ 36.859375 6.390625 41.078125 11.03125 \nQ 45.3125 15.671875 45.3125 23.6875 \nL 45.3125 54.6875 \nL 54.296875 54.6875 \nL 54.296875 0 \nL 45.3125 0 \nL 45.3125 8.40625 \nQ 42.046875 3.421875 37.71875 1 \nQ 33.40625 -1.421875 27.6875 -1.421875 \nQ 18.265625 -1.421875 13.375 4.4375 \nQ 8.5 10.296875 8.5 21.578125 \nz\nM 31.109375 56 \nz\n\" id=\"DejaVuSans-117\"/>\n      <path d=\"M 54.890625 33.015625 \nL 54.890625 0 \nL 45.90625 0 \nL 45.90625 32.71875 \nQ 45.90625 40.484375 42.875 44.328125 \nQ 39.84375 48.1875 33.796875 48.1875 \nQ 26.515625 48.1875 22.3125 43.546875 \nQ 18.109375 38.921875 18.109375 30.90625 \nL 18.109375 0 \nL 9.078125 0 \nL 9.078125 54.6875 \nL 18.109375 54.6875 \nL 18.109375 46.1875 \nQ 21.34375 51.125 25.703125 53.5625 \nQ 30.078125 56 35.796875 56 \nQ 45.21875 56 50.046875 50.171875 \nQ 54.890625 44.34375 54.890625 33.015625 \nz\n\" id=\"DejaVuSans-110\"/>\n      <path d=\"M 48.78125 52.59375 \nL 48.78125 44.1875 \nQ 44.96875 46.296875 41.140625 47.34375 \nQ 37.3125 48.390625 33.40625 48.390625 \nQ 24.65625 48.390625 19.8125 42.84375 \nQ 14.984375 37.3125 14.984375 27.296875 \nQ 14.984375 17.28125 19.8125 11.734375 \nQ 24.65625 6.203125 33.40625 6.203125 \nQ 37.3125 6.203125 41.140625 7.25 \nQ 44.96875 8.296875 48.78125 10.40625 \nL 48.78125 2.09375 \nQ 45.015625 0.34375 40.984375 -0.53125 \nQ 36.96875 -1.421875 32.421875 -1.421875 \nQ 20.0625 -1.421875 12.78125 6.34375 \nQ 5.515625 14.109375 5.515625 27.296875 \nQ 5.515625 40.671875 12.859375 48.328125 \nQ 20.21875 56 33.015625 56 \nQ 37.15625 56 41.109375 55.140625 \nQ 45.0625 54.296875 48.78125 52.59375 \nz\n\" id=\"DejaVuSans-99\"/>\n      <path d=\"M 32.171875 -5.078125 \nQ 28.375 -14.84375 24.75 -17.8125 \nQ 21.140625 -20.796875 15.09375 -20.796875 \nL 7.90625 -20.796875 \nL 7.90625 -13.28125 \nL 13.1875 -13.28125 \nQ 16.890625 -13.28125 18.9375 -11.515625 \nQ 21 -9.765625 23.484375 -3.21875 \nL 25.09375 0.875 \nL 2.984375 54.6875 \nL 12.5 54.6875 \nL 29.59375 11.921875 \nL 46.6875 54.6875 \nL 56.203125 54.6875 \nz\n\" id=\"DejaVuSans-121\"/>\n     </defs>\n     <g style=\"fill:#262626;\" transform=\"translate(14.798438 141.749687)rotate(-90)scale(0.1 -0.1)\">\n      <use xlink:href=\"#DejaVuSans-70\"/>\n      <use x=\"50.269531\" xlink:href=\"#DejaVuSans-114\"/>\n      <use x=\"89.132812\" xlink:href=\"#DejaVuSans-101\"/>\n      <use x=\"150.65625\" xlink:href=\"#DejaVuSans-113\"/>\n      <use x=\"214.132812\" xlink:href=\"#DejaVuSans-117\"/>\n      <use x=\"277.511719\" xlink:href=\"#DejaVuSans-101\"/>\n      <use x=\"339.035156\" xlink:href=\"#DejaVuSans-110\"/>\n      <use x=\"402.414062\" xlink:href=\"#DejaVuSans-99\"/>\n      <use x=\"457.394531\" xlink:href=\"#DejaVuSans-121\"/>\n     </g>\n    </g>\n   </g>\n   <g id=\"patch_3\">\n    <path clip-path=\"url(#pf05df993a9)\" d=\"M 65.361932 224.64 \nL 80.580114 224.64 \nL 80.580114 17.554286 \nL 65.361932 17.554286 \nz\n\" style=\"fill:#1f77b4;stroke:#ffffff;stroke-linejoin:miter;\"/>\n   </g>\n   <g id=\"patch_4\">\n    <path clip-path=\"url(#pf05df993a9)\" d=\"M 80.580114 224.64 \nL 95.798295 224.64 \nL 95.798295 80.582922 \nL 80.580114 80.582922 \nz\n\" style=\"fill:#1f77b4;stroke:#ffffff;stroke-linejoin:miter;\"/>\n   </g>\n   <g id=\"patch_5\">\n    <path clip-path=\"url(#pf05df993a9)\" d=\"M 95.798295 224.64 \nL 111.016477 224.64 \nL 111.016477 124.996124 \nL 95.798295 124.996124 \nz\n\" style=\"fill:#1f77b4;stroke:#ffffff;stroke-linejoin:miter;\"/>\n   </g>\n   <g id=\"patch_6\">\n    <path clip-path=\"url(#pf05df993a9)\" d=\"M 111.016477 224.64 \nL 126.234659 224.64 \nL 126.234659 140.29889 \nL 111.016477 140.29889 \nz\n\" style=\"fill:#1f77b4;stroke:#ffffff;stroke-linejoin:miter;\"/>\n   </g>\n   <g id=\"patch_7\">\n    <path clip-path=\"url(#pf05df993a9)\" d=\"M 126.234659 224.64 \nL 141.452841 224.64 \nL 141.452841 167.064074 \nL 126.234659 167.064074 \nz\n\" style=\"fill:#1f77b4;stroke:#ffffff;stroke-linejoin:miter;\"/>\n   </g>\n   <g id=\"patch_8\">\n    <path clip-path=\"url(#pf05df993a9)\" d=\"M 141.452841 224.64 \nL 156.671023 224.64 \nL 156.671023 189.695751 \nL 141.452841 189.695751 \nz\n\" style=\"fill:#1f77b4;stroke:#ffffff;stroke-linejoin:miter;\"/>\n   </g>\n   <g id=\"patch_9\">\n    <path clip-path=\"url(#pf05df993a9)\" d=\"M 156.671023 224.64 \nL 171.889205 224.64 \nL 171.889205 183.334257 \nL 156.671023 183.334257 \nz\n\" style=\"fill:#1f77b4;stroke:#ffffff;stroke-linejoin:miter;\"/>\n   </g>\n   <g id=\"patch_10\">\n    <path clip-path=\"url(#pf05df993a9)\" d=\"M 171.889205 224.64 \nL 187.107386 224.64 \nL 187.107386 212.268798 \nL 171.889205 212.268798 \nz\n\" style=\"fill:#1f77b4;stroke:#ffffff;stroke-linejoin:miter;\"/>\n   </g>\n   <g id=\"patch_11\">\n    <path clip-path=\"url(#pf05df993a9)\" d=\"M 187.107386 224.64 \nL 202.325568 224.64 \nL 202.325568 210.7737 \nL 187.107386 210.7737 \nz\n\" style=\"fill:#1f77b4;stroke:#ffffff;stroke-linejoin:miter;\"/>\n   </g>\n   <g id=\"patch_12\">\n    <path clip-path=\"url(#pf05df993a9)\" d=\"M 202.325568 224.64 \nL 217.54375 224.64 \nL 217.54375 213.500055 \nL 202.325568 213.500055 \nz\n\" style=\"fill:#1f77b4;stroke:#ffffff;stroke-linejoin:miter;\"/>\n   </g>\n   <g id=\"patch_13\">\n    <path clip-path=\"url(#pf05df993a9)\" d=\"M 217.54375 224.64 \nL 232.761932 224.64 \nL 232.761932 215.874622 \nL 217.54375 215.874622 \nz\n\" style=\"fill:#1f77b4;stroke:#ffffff;stroke-linejoin:miter;\"/>\n   </g>\n   <g id=\"patch_14\">\n    <path clip-path=\"url(#pf05df993a9)\" d=\"M 232.761932 224.64 \nL 247.980114 224.64 \nL 247.980114 218.014664 \nL 232.761932 218.014664 \nz\n\" style=\"fill:#1f77b4;stroke:#ffffff;stroke-linejoin:miter;\"/>\n   </g>\n   <g id=\"patch_15\">\n    <path clip-path=\"url(#pf05df993a9)\" d=\"M 247.980114 224.64 \nL 263.198295 224.64 \nL 263.198295 220.125391 \nL 247.980114 220.125391 \nz\n\" style=\"fill:#1f77b4;stroke:#ffffff;stroke-linejoin:miter;\"/>\n   </g>\n   <g id=\"patch_16\">\n    <path clip-path=\"url(#pf05df993a9)\" d=\"M 263.198295 224.64 \nL 278.416477 224.64 \nL 278.416477 220.711704 \nL 263.198295 220.711704 \nz\n\" style=\"fill:#1f77b4;stroke:#ffffff;stroke-linejoin:miter;\"/>\n   </g>\n   <g id=\"patch_17\">\n    <path clip-path=\"url(#pf05df993a9)\" d=\"M 278.416477 224.64 \nL 293.634659 224.64 \nL 293.634659 222.236117 \nL 278.416477 222.236117 \nz\n\" style=\"fill:#1f77b4;stroke:#ffffff;stroke-linejoin:miter;\"/>\n   </g>\n   <g id=\"patch_18\">\n    <path clip-path=\"url(#pf05df993a9)\" d=\"M 293.634659 224.64 \nL 308.852841 224.64 \nL 308.852841 223.02764 \nL 293.634659 223.02764 \nz\n\" style=\"fill:#1f77b4;stroke:#ffffff;stroke-linejoin:miter;\"/>\n   </g>\n   <g id=\"patch_19\">\n    <path clip-path=\"url(#pf05df993a9)\" d=\"M 308.852841 224.64 \nL 324.071023 224.64 \nL 324.071023 223.379427 \nL 308.852841 223.379427 \nz\n\" style=\"fill:#1f77b4;stroke:#ffffff;stroke-linejoin:miter;\"/>\n   </g>\n   <g id=\"patch_20\">\n    <path clip-path=\"url(#pf05df993a9)\" d=\"M 324.071023 224.64 \nL 339.289205 224.64 \nL 339.289205 224.200265 \nL 324.071023 224.200265 \nz\n\" style=\"fill:#1f77b4;stroke:#ffffff;stroke-linejoin:miter;\"/>\n   </g>\n   <g id=\"patch_21\">\n    <path clip-path=\"url(#pf05df993a9)\" d=\"M 339.289205 224.64 \nL 354.507386 224.64 \nL 354.507386 223.848478 \nL 339.289205 223.848478 \nz\n\" style=\"fill:#1f77b4;stroke:#ffffff;stroke-linejoin:miter;\"/>\n   </g>\n   <g id=\"patch_22\">\n    <path clip-path=\"url(#pf05df993a9)\" d=\"M 354.507386 224.64 \nL 369.725568 224.64 \nL 369.725568 224.493422 \nL 354.507386 224.493422 \nz\n\" style=\"fill:#1f77b4;stroke:#ffffff;stroke-linejoin:miter;\"/>\n   </g>\n   <g id=\"patch_23\">\n    <path d=\"M 50.14375 224.64 \nL 50.14375 7.2 \n\" style=\"fill:none;stroke:#262626;stroke-linecap:square;stroke-linejoin:miter;stroke-width:0.8;\"/>\n   </g>\n   <g id=\"patch_24\">\n    <path d=\"M 384.94375 224.64 \nL 384.94375 7.2 \n\" style=\"fill:none;stroke:#262626;stroke-linecap:square;stroke-linejoin:miter;stroke-width:0.8;\"/>\n   </g>\n   <g id=\"patch_25\">\n    <path d=\"M 50.14375 224.64 \nL 384.94375 224.64 \n\" style=\"fill:none;stroke:#262626;stroke-linecap:square;stroke-linejoin:miter;stroke-width:0.8;\"/>\n   </g>\n   <g id=\"patch_26\">\n    <path d=\"M 50.14375 7.2 \nL 384.94375 7.2 \n\" style=\"fill:none;stroke:#262626;stroke-linecap:square;stroke-linejoin:miter;stroke-width:0.8;\"/>\n   </g>\n  </g>\n </g>\n <defs>\n  <clipPath id=\"pf05df993a9\">\n   <rect height=\"217.44\" width=\"334.8\" x=\"50.14375\" y=\"7.2\"/>\n  </clipPath>\n </defs>\n</svg>\n"
          },
          "metadata": {}
        }
      ]
    },
    {
      "cell_type": "code",
      "metadata": {
        "colab": {
          "base_uri": "https://localhost:8080/",
          "height": 324
        },
        "id": "z-Wh2qjVL8n3",
        "outputId": "56ad5971-32e5-4529-80be-d873abd703e0"
      },
      "source": [
        "new_data = get_category(new_data,'worktm',5, [\"lowest\",\"low\",\"medium\",\"high\",\"highest\"])\n",
        "iv, data=calc_iv(new_data,'gp_worktm','target')\n",
        "ivtable.loc[ivtable['variable']=='DAYS_EMPLOYED','IV']=iv\n",
        "data.head()"
      ],
      "execution_count": 160,
      "outputs": [
        {
          "output_type": "stream",
          "name": "stdout",
          "text": [
            "El IV de esta variable es: 0.04022152230816303\n",
            "lowest     18254\n",
            "low         4987\n",
            "medium      1378\n",
            "high         425\n",
            "highest       90\n",
            "Name: gp_worktm, dtype: int64\n"
          ]
        },
        {
          "output_type": "execute_result",
          "data": {
            "text/html": [
              "<div>\n",
              "<style scoped>\n",
              "    .dataframe tbody tr th:only-of-type {\n",
              "        vertical-align: middle;\n",
              "    }\n",
              "\n",
              "    .dataframe tbody tr th {\n",
              "        vertical-align: top;\n",
              "    }\n",
              "\n",
              "    .dataframe thead th {\n",
              "        text-align: right;\n",
              "    }\n",
              "</style>\n",
              "<table border=\"1\" class=\"dataframe\">\n",
              "  <thead>\n",
              "    <tr style=\"text-align: right;\">\n",
              "      <th></th>\n",
              "      <th>Variable</th>\n",
              "      <th>Value</th>\n",
              "      <th>All</th>\n",
              "      <th>Good</th>\n",
              "      <th>Bad</th>\n",
              "      <th>Share</th>\n",
              "      <th>Bad Rate</th>\n",
              "      <th>Distribution Good</th>\n",
              "      <th>Distribution Bad</th>\n",
              "      <th>WoE</th>\n",
              "      <th>IV</th>\n",
              "    </tr>\n",
              "  </thead>\n",
              "  <tbody>\n",
              "    <tr>\n",
              "      <th>0</th>\n",
              "      <td>gp_worktm</td>\n",
              "      <td>high</td>\n",
              "      <td>425</td>\n",
              "      <td>423</td>\n",
              "      <td>2</td>\n",
              "      <td>0.016909</td>\n",
              "      <td>0.004706</td>\n",
              "      <td>0.017117</td>\n",
              "      <td>0.004739</td>\n",
              "      <td>1.284186</td>\n",
              "      <td>0.015895</td>\n",
              "    </tr>\n",
              "    <tr>\n",
              "      <th>1</th>\n",
              "      <td>gp_worktm</td>\n",
              "      <td>highest</td>\n",
              "      <td>90</td>\n",
              "      <td>90</td>\n",
              "      <td>0</td>\n",
              "      <td>0.003581</td>\n",
              "      <td>0.000000</td>\n",
              "      <td>0.003642</td>\n",
              "      <td>0.000000</td>\n",
              "      <td>0.000000</td>\n",
              "      <td>0.000000</td>\n",
              "    </tr>\n",
              "    <tr>\n",
              "      <th>2</th>\n",
              "      <td>gp_worktm</td>\n",
              "      <td>low</td>\n",
              "      <td>4987</td>\n",
              "      <td>4921</td>\n",
              "      <td>66</td>\n",
              "      <td>0.198416</td>\n",
              "      <td>0.013234</td>\n",
              "      <td>0.199134</td>\n",
              "      <td>0.156398</td>\n",
              "      <td>0.241573</td>\n",
              "      <td>0.010324</td>\n",
              "    </tr>\n",
              "    <tr>\n",
              "      <th>3</th>\n",
              "      <td>gp_worktm</td>\n",
              "      <td>lowest</td>\n",
              "      <td>18254</td>\n",
              "      <td>17916</td>\n",
              "      <td>338</td>\n",
              "      <td>0.726267</td>\n",
              "      <td>0.018516</td>\n",
              "      <td>0.724992</td>\n",
              "      <td>0.800948</td>\n",
              "      <td>-0.099635</td>\n",
              "      <td>0.007568</td>\n",
              "    </tr>\n",
              "    <tr>\n",
              "      <th>4</th>\n",
              "      <td>gp_worktm</td>\n",
              "      <td>medium</td>\n",
              "      <td>1378</td>\n",
              "      <td>1362</td>\n",
              "      <td>16</td>\n",
              "      <td>0.054826</td>\n",
              "      <td>0.011611</td>\n",
              "      <td>0.055115</td>\n",
              "      <td>0.037915</td>\n",
              "      <td>0.374082</td>\n",
              "      <td>0.006434</td>\n",
              "    </tr>\n",
              "  </tbody>\n",
              "</table>\n",
              "</div>"
            ],
            "text/plain": [
              "    Variable    Value    All  ...  Distribution Bad       WoE        IV\n",
              "0  gp_worktm     high    425  ...          0.004739  1.284186  0.015895\n",
              "1  gp_worktm  highest     90  ...          0.000000  0.000000  0.000000\n",
              "2  gp_worktm      low   4987  ...          0.156398  0.241573  0.010324\n",
              "3  gp_worktm   lowest  18254  ...          0.800948 -0.099635  0.007568\n",
              "4  gp_worktm   medium   1378  ...          0.037915  0.374082  0.006434\n",
              "\n",
              "[5 rows x 11 columns]"
            ]
          },
          "metadata": {},
          "execution_count": 160
        }
      ]
    },
    {
      "cell_type": "code",
      "metadata": {
        "id": "i4kScUDeL8n4"
      },
      "source": [
        "# Codificación One-Hot\n",
        "new_data = convert_dummy(new_data,'gp_worktm')"
      ],
      "execution_count": 161,
      "outputs": []
    },
    {
      "cell_type": "markdown",
      "metadata": {
        "id": "ominktl_L8n4"
      },
      "source": [
        "#### Tamaño de Familia"
      ]
    },
    {
      "cell_type": "code",
      "metadata": {
        "colab": {
          "base_uri": "https://localhost:8080/"
        },
        "id": "_DE-LSM5L8n4",
        "outputId": "ecbafb2c-2637-44c9-872b-ed4335bc294b"
      },
      "source": [
        "new_data['famsize'].value_counts(sort=False)"
      ],
      "execution_count": 162,
      "outputs": [
        {
          "output_type": "execute_result",
          "data": {
            "text/plain": [
              "2.0     12697\n",
              "1.0      4263\n",
              "3.0      5216\n",
              "4.0      2576\n",
              "6.0        51\n",
              "9.0         2\n",
              "5.0       307\n",
              "7.0        18\n",
              "20.0        1\n",
              "15.0        3\n",
              "Name: famsize, dtype: int64"
            ]
          },
          "metadata": {},
          "execution_count": 162
        }
      ]
    },
    {
      "cell_type": "code",
      "metadata": {
        "colab": {
          "base_uri": "https://localhost:8080/",
          "height": 227
        },
        "id": "DkdqHQjFL8n4",
        "outputId": "a3321f56-e426-493c-d2aa-429c296adff9"
      },
      "source": [
        "new_data['famsize']=new_data['famsize'].astype(int)\n",
        "new_data['famsizegp']=new_data['famsize']\n",
        "new_data['famsizegp']=new_data['famsizegp'].astype(object)\n",
        "new_data.loc[new_data['famsizegp']>=3,'famsizegp']='3more'\n",
        "iv, data=calc_iv(new_data,'famsizegp','target')\n",
        "ivtable.loc[ivtable['variable']=='famsize','IV']=iv\n",
        "data.head()"
      ],
      "execution_count": 163,
      "outputs": [
        {
          "output_type": "stream",
          "name": "stdout",
          "text": [
            "El IV de esta variable es: 0.006156138510778323\n",
            "2        12697\n",
            "3more     8174\n",
            "1         4263\n",
            "Name: famsizegp, dtype: int64\n"
          ]
        },
        {
          "output_type": "execute_result",
          "data": {
            "text/html": [
              "<div>\n",
              "<style scoped>\n",
              "    .dataframe tbody tr th:only-of-type {\n",
              "        vertical-align: middle;\n",
              "    }\n",
              "\n",
              "    .dataframe tbody tr th {\n",
              "        vertical-align: top;\n",
              "    }\n",
              "\n",
              "    .dataframe thead th {\n",
              "        text-align: right;\n",
              "    }\n",
              "</style>\n",
              "<table border=\"1\" class=\"dataframe\">\n",
              "  <thead>\n",
              "    <tr style=\"text-align: right;\">\n",
              "      <th></th>\n",
              "      <th>Variable</th>\n",
              "      <th>Value</th>\n",
              "      <th>All</th>\n",
              "      <th>Good</th>\n",
              "      <th>Bad</th>\n",
              "      <th>Share</th>\n",
              "      <th>Bad Rate</th>\n",
              "      <th>Distribution Good</th>\n",
              "      <th>Distribution Bad</th>\n",
              "      <th>WoE</th>\n",
              "      <th>IV</th>\n",
              "    </tr>\n",
              "  </thead>\n",
              "  <tbody>\n",
              "    <tr>\n",
              "      <th>0</th>\n",
              "      <td>famsizegp</td>\n",
              "      <td>1</td>\n",
              "      <td>4263</td>\n",
              "      <td>4179</td>\n",
              "      <td>84</td>\n",
              "      <td>0.169611</td>\n",
              "      <td>0.019704</td>\n",
              "      <td>0.169108</td>\n",
              "      <td>0.199052</td>\n",
              "      <td>-0.163028</td>\n",
              "      <td>0.004882</td>\n",
              "    </tr>\n",
              "    <tr>\n",
              "      <th>1</th>\n",
              "      <td>famsizegp</td>\n",
              "      <td>2</td>\n",
              "      <td>12697</td>\n",
              "      <td>12489</td>\n",
              "      <td>208</td>\n",
              "      <td>0.505172</td>\n",
              "      <td>0.016382</td>\n",
              "      <td>0.505382</td>\n",
              "      <td>0.492891</td>\n",
              "      <td>0.025027</td>\n",
              "      <td>0.000313</td>\n",
              "    </tr>\n",
              "    <tr>\n",
              "      <th>2</th>\n",
              "      <td>famsizegp</td>\n",
              "      <td>3more</td>\n",
              "      <td>8174</td>\n",
              "      <td>8044</td>\n",
              "      <td>130</td>\n",
              "      <td>0.325217</td>\n",
              "      <td>0.015904</td>\n",
              "      <td>0.325510</td>\n",
              "      <td>0.308057</td>\n",
              "      <td>0.055108</td>\n",
              "      <td>0.000962</td>\n",
              "    </tr>\n",
              "  </tbody>\n",
              "</table>\n",
              "</div>"
            ],
            "text/plain": [
              "    Variable  Value    All  ...  Distribution Bad       WoE        IV\n",
              "0  famsizegp      1   4263  ...          0.199052 -0.163028  0.004882\n",
              "1  famsizegp      2  12697  ...          0.492891  0.025027  0.000313\n",
              "2  famsizegp  3more   8174  ...          0.308057  0.055108  0.000962\n",
              "\n",
              "[3 rows x 11 columns]"
            ]
          },
          "metadata": {},
          "execution_count": 163
        }
      ]
    },
    {
      "cell_type": "code",
      "metadata": {
        "id": "pwvjAujRL8n5"
      },
      "source": [
        "# Codificación One-Hot\n",
        "new_data = convert_dummy(new_data,'famsizegp')"
      ],
      "execution_count": 164,
      "outputs": []
    },
    {
      "cell_type": "markdown",
      "metadata": {
        "id": "Ys2Boz1cL8n5"
      },
      "source": [
        "### Descriptores Categóricos\n",
        "\n",
        "#### Forma de Ingresos"
      ]
    },
    {
      "cell_type": "code",
      "metadata": {
        "colab": {
          "base_uri": "https://localhost:8080/",
          "height": 884
        },
        "id": "5maTQcBFJmHv",
        "outputId": "e65f9d22-2d62-47a3-dcff-9849f29e7f29"
      },
      "source": [
        "new_data"
      ],
      "execution_count": 165,
      "outputs": [
        {
          "output_type": "execute_result",
          "data": {
            "text/html": [
              "<div>\n",
              "<style scoped>\n",
              "    .dataframe tbody tr th:only-of-type {\n",
              "        vertical-align: middle;\n",
              "    }\n",
              "\n",
              "    .dataframe tbody tr th {\n",
              "        vertical-align: top;\n",
              "    }\n",
              "\n",
              "    .dataframe thead th {\n",
              "        text-align: right;\n",
              "    }\n",
              "</style>\n",
              "<table border=\"1\" class=\"dataframe\">\n",
              "  <thead>\n",
              "    <tr style=\"text-align: right;\">\n",
              "      <th></th>\n",
              "      <th>ID</th>\n",
              "      <th>Gender</th>\n",
              "      <th>Car</th>\n",
              "      <th>Reality</th>\n",
              "      <th>inc</th>\n",
              "      <th>inctp</th>\n",
              "      <th>edutp</th>\n",
              "      <th>famtp</th>\n",
              "      <th>houtp</th>\n",
              "      <th>DAYS_BIRTH</th>\n",
              "      <th>DAYS_EMPLOYED</th>\n",
              "      <th>FLAG_MOBIL</th>\n",
              "      <th>wkphone</th>\n",
              "      <th>phone</th>\n",
              "      <th>email</th>\n",
              "      <th>occyp</th>\n",
              "      <th>famsize</th>\n",
              "      <th>begin_month</th>\n",
              "      <th>dep_value</th>\n",
              "      <th>target</th>\n",
              "      <th>ChldNo_1</th>\n",
              "      <th>ChldNo_2More</th>\n",
              "      <th>gp_inc_high</th>\n",
              "      <th>gp_inc_medium</th>\n",
              "      <th>Age</th>\n",
              "      <th>gp_Age_high</th>\n",
              "      <th>gp_Age_highest</th>\n",
              "      <th>gp_Age_low</th>\n",
              "      <th>gp_Age_lowest</th>\n",
              "      <th>worktm</th>\n",
              "      <th>gp_worktm_high</th>\n",
              "      <th>gp_worktm_highest</th>\n",
              "      <th>gp_worktm_low</th>\n",
              "      <th>gp_worktm_medium</th>\n",
              "      <th>famsizegp_1</th>\n",
              "      <th>famsizegp_3more</th>\n",
              "    </tr>\n",
              "  </thead>\n",
              "  <tbody>\n",
              "    <tr>\n",
              "      <th>2</th>\n",
              "      <td>5008806.0</td>\n",
              "      <td>1.0</td>\n",
              "      <td>1.0</td>\n",
              "      <td>1.0</td>\n",
              "      <td>11.25</td>\n",
              "      <td>Working</td>\n",
              "      <td>Secondary / secondary special</td>\n",
              "      <td>Married</td>\n",
              "      <td>House / apartment</td>\n",
              "      <td>-21474.0</td>\n",
              "      <td>-1134.0</td>\n",
              "      <td>1.0</td>\n",
              "      <td>0</td>\n",
              "      <td>0</td>\n",
              "      <td>0</td>\n",
              "      <td>Security staff</td>\n",
              "      <td>2</td>\n",
              "      <td>-29.0</td>\n",
              "      <td>No</td>\n",
              "      <td>0</td>\n",
              "      <td>0.0</td>\n",
              "      <td>0.0</td>\n",
              "      <td>0.0</td>\n",
              "      <td>0.0</td>\n",
              "      <td>58.0</td>\n",
              "      <td>0.0</td>\n",
              "      <td>1.0</td>\n",
              "      <td>0.0</td>\n",
              "      <td>0.0</td>\n",
              "      <td>3.0</td>\n",
              "      <td>0</td>\n",
              "      <td>0</td>\n",
              "      <td>0</td>\n",
              "      <td>0</td>\n",
              "      <td>0</td>\n",
              "      <td>0</td>\n",
              "    </tr>\n",
              "    <tr>\n",
              "      <th>3</th>\n",
              "      <td>5008808.0</td>\n",
              "      <td>0.0</td>\n",
              "      <td>0.0</td>\n",
              "      <td>1.0</td>\n",
              "      <td>27</td>\n",
              "      <td>Commercial associate</td>\n",
              "      <td>Secondary / secondary special</td>\n",
              "      <td>Single / not married</td>\n",
              "      <td>House / apartment</td>\n",
              "      <td>-19110.0</td>\n",
              "      <td>-3051.0</td>\n",
              "      <td>1.0</td>\n",
              "      <td>0</td>\n",
              "      <td>1</td>\n",
              "      <td>1</td>\n",
              "      <td>Sales staff</td>\n",
              "      <td>1</td>\n",
              "      <td>-4.0</td>\n",
              "      <td>No</td>\n",
              "      <td>0</td>\n",
              "      <td>0.0</td>\n",
              "      <td>0.0</td>\n",
              "      <td>1.0</td>\n",
              "      <td>0.0</td>\n",
              "      <td>52.0</td>\n",
              "      <td>1.0</td>\n",
              "      <td>0.0</td>\n",
              "      <td>0.0</td>\n",
              "      <td>0.0</td>\n",
              "      <td>8.0</td>\n",
              "      <td>0</td>\n",
              "      <td>0</td>\n",
              "      <td>0</td>\n",
              "      <td>0</td>\n",
              "      <td>1</td>\n",
              "      <td>0</td>\n",
              "    </tr>\n",
              "    <tr>\n",
              "      <th>4</th>\n",
              "      <td>5008809.0</td>\n",
              "      <td>0.0</td>\n",
              "      <td>0.0</td>\n",
              "      <td>1.0</td>\n",
              "      <td>27</td>\n",
              "      <td>Commercial associate</td>\n",
              "      <td>Secondary / secondary special</td>\n",
              "      <td>Single / not married</td>\n",
              "      <td>House / apartment</td>\n",
              "      <td>-19110.0</td>\n",
              "      <td>-3051.0</td>\n",
              "      <td>1.0</td>\n",
              "      <td>0</td>\n",
              "      <td>1</td>\n",
              "      <td>1</td>\n",
              "      <td>Sales staff</td>\n",
              "      <td>1</td>\n",
              "      <td>-26.0</td>\n",
              "      <td>No</td>\n",
              "      <td>0</td>\n",
              "      <td>0.0</td>\n",
              "      <td>0.0</td>\n",
              "      <td>1.0</td>\n",
              "      <td>0.0</td>\n",
              "      <td>52.0</td>\n",
              "      <td>1.0</td>\n",
              "      <td>0.0</td>\n",
              "      <td>0.0</td>\n",
              "      <td>0.0</td>\n",
              "      <td>8.0</td>\n",
              "      <td>0</td>\n",
              "      <td>0</td>\n",
              "      <td>0</td>\n",
              "      <td>0</td>\n",
              "      <td>1</td>\n",
              "      <td>0</td>\n",
              "    </tr>\n",
              "    <tr>\n",
              "      <th>5</th>\n",
              "      <td>5008810.0</td>\n",
              "      <td>0.0</td>\n",
              "      <td>0.0</td>\n",
              "      <td>1.0</td>\n",
              "      <td>27</td>\n",
              "      <td>Commercial associate</td>\n",
              "      <td>Secondary / secondary special</td>\n",
              "      <td>Single / not married</td>\n",
              "      <td>House / apartment</td>\n",
              "      <td>-19110.0</td>\n",
              "      <td>-3051.0</td>\n",
              "      <td>1.0</td>\n",
              "      <td>0</td>\n",
              "      <td>1</td>\n",
              "      <td>1</td>\n",
              "      <td>Sales staff</td>\n",
              "      <td>1</td>\n",
              "      <td>-26.0</td>\n",
              "      <td>No</td>\n",
              "      <td>0</td>\n",
              "      <td>0.0</td>\n",
              "      <td>0.0</td>\n",
              "      <td>1.0</td>\n",
              "      <td>0.0</td>\n",
              "      <td>52.0</td>\n",
              "      <td>1.0</td>\n",
              "      <td>0.0</td>\n",
              "      <td>0.0</td>\n",
              "      <td>0.0</td>\n",
              "      <td>8.0</td>\n",
              "      <td>0</td>\n",
              "      <td>0</td>\n",
              "      <td>0</td>\n",
              "      <td>0</td>\n",
              "      <td>1</td>\n",
              "      <td>0</td>\n",
              "    </tr>\n",
              "    <tr>\n",
              "      <th>6</th>\n",
              "      <td>5008811.0</td>\n",
              "      <td>0.0</td>\n",
              "      <td>0.0</td>\n",
              "      <td>1.0</td>\n",
              "      <td>27</td>\n",
              "      <td>Commercial associate</td>\n",
              "      <td>Secondary / secondary special</td>\n",
              "      <td>Single / not married</td>\n",
              "      <td>House / apartment</td>\n",
              "      <td>-19110.0</td>\n",
              "      <td>-3051.0</td>\n",
              "      <td>1.0</td>\n",
              "      <td>0</td>\n",
              "      <td>1</td>\n",
              "      <td>1</td>\n",
              "      <td>Sales staff</td>\n",
              "      <td>1</td>\n",
              "      <td>-38.0</td>\n",
              "      <td>No</td>\n",
              "      <td>0</td>\n",
              "      <td>0.0</td>\n",
              "      <td>0.0</td>\n",
              "      <td>1.0</td>\n",
              "      <td>0.0</td>\n",
              "      <td>52.0</td>\n",
              "      <td>1.0</td>\n",
              "      <td>0.0</td>\n",
              "      <td>0.0</td>\n",
              "      <td>0.0</td>\n",
              "      <td>8.0</td>\n",
              "      <td>0</td>\n",
              "      <td>0</td>\n",
              "      <td>0</td>\n",
              "      <td>0</td>\n",
              "      <td>1</td>\n",
              "      <td>0</td>\n",
              "    </tr>\n",
              "    <tr>\n",
              "      <th>...</th>\n",
              "      <td>...</td>\n",
              "      <td>...</td>\n",
              "      <td>...</td>\n",
              "      <td>...</td>\n",
              "      <td>...</td>\n",
              "      <td>...</td>\n",
              "      <td>...</td>\n",
              "      <td>...</td>\n",
              "      <td>...</td>\n",
              "      <td>...</td>\n",
              "      <td>...</td>\n",
              "      <td>...</td>\n",
              "      <td>...</td>\n",
              "      <td>...</td>\n",
              "      <td>...</td>\n",
              "      <td>...</td>\n",
              "      <td>...</td>\n",
              "      <td>...</td>\n",
              "      <td>...</td>\n",
              "      <td>...</td>\n",
              "      <td>...</td>\n",
              "      <td>...</td>\n",
              "      <td>...</td>\n",
              "      <td>...</td>\n",
              "      <td>...</td>\n",
              "      <td>...</td>\n",
              "      <td>...</td>\n",
              "      <td>...</td>\n",
              "      <td>...</td>\n",
              "      <td>...</td>\n",
              "      <td>...</td>\n",
              "      <td>...</td>\n",
              "      <td>...</td>\n",
              "      <td>...</td>\n",
              "      <td>...</td>\n",
              "      <td>...</td>\n",
              "    </tr>\n",
              "    <tr>\n",
              "      <th>36452</th>\n",
              "      <td>5149828.0</td>\n",
              "      <td>1.0</td>\n",
              "      <td>1.0</td>\n",
              "      <td>1.0</td>\n",
              "      <td>31.5</td>\n",
              "      <td>Working</td>\n",
              "      <td>Secondary / secondary special</td>\n",
              "      <td>Married</td>\n",
              "      <td>House / apartment</td>\n",
              "      <td>-17348.0</td>\n",
              "      <td>-2420.0</td>\n",
              "      <td>1.0</td>\n",
              "      <td>0</td>\n",
              "      <td>0</td>\n",
              "      <td>0</td>\n",
              "      <td>Managers</td>\n",
              "      <td>2</td>\n",
              "      <td>-11.0</td>\n",
              "      <td>Yes</td>\n",
              "      <td>1</td>\n",
              "      <td>0.0</td>\n",
              "      <td>0.0</td>\n",
              "      <td>1.0</td>\n",
              "      <td>0.0</td>\n",
              "      <td>47.0</td>\n",
              "      <td>0.0</td>\n",
              "      <td>0.0</td>\n",
              "      <td>0.0</td>\n",
              "      <td>0.0</td>\n",
              "      <td>6.0</td>\n",
              "      <td>0</td>\n",
              "      <td>0</td>\n",
              "      <td>0</td>\n",
              "      <td>0</td>\n",
              "      <td>0</td>\n",
              "      <td>0</td>\n",
              "    </tr>\n",
              "    <tr>\n",
              "      <th>36453</th>\n",
              "      <td>5149834.0</td>\n",
              "      <td>0.0</td>\n",
              "      <td>0.0</td>\n",
              "      <td>1.0</td>\n",
              "      <td>15.75</td>\n",
              "      <td>Commercial associate</td>\n",
              "      <td>Higher education</td>\n",
              "      <td>Married</td>\n",
              "      <td>House / apartment</td>\n",
              "      <td>-12387.0</td>\n",
              "      <td>-1325.0</td>\n",
              "      <td>1.0</td>\n",
              "      <td>0</td>\n",
              "      <td>1</td>\n",
              "      <td>1</td>\n",
              "      <td>Medicine staff</td>\n",
              "      <td>2</td>\n",
              "      <td>-23.0</td>\n",
              "      <td>Yes</td>\n",
              "      <td>1</td>\n",
              "      <td>0.0</td>\n",
              "      <td>0.0</td>\n",
              "      <td>0.0</td>\n",
              "      <td>1.0</td>\n",
              "      <td>33.0</td>\n",
              "      <td>0.0</td>\n",
              "      <td>0.0</td>\n",
              "      <td>1.0</td>\n",
              "      <td>0.0</td>\n",
              "      <td>3.0</td>\n",
              "      <td>0</td>\n",
              "      <td>0</td>\n",
              "      <td>0</td>\n",
              "      <td>0</td>\n",
              "      <td>0</td>\n",
              "      <td>0</td>\n",
              "    </tr>\n",
              "    <tr>\n",
              "      <th>36454</th>\n",
              "      <td>5149838.0</td>\n",
              "      <td>0.0</td>\n",
              "      <td>0.0</td>\n",
              "      <td>1.0</td>\n",
              "      <td>15.75</td>\n",
              "      <td>Pensioner</td>\n",
              "      <td>Higher education</td>\n",
              "      <td>Married</td>\n",
              "      <td>House / apartment</td>\n",
              "      <td>-12387.0</td>\n",
              "      <td>-1325.0</td>\n",
              "      <td>1.0</td>\n",
              "      <td>0</td>\n",
              "      <td>1</td>\n",
              "      <td>1</td>\n",
              "      <td>Medicine staff</td>\n",
              "      <td>2</td>\n",
              "      <td>-32.0</td>\n",
              "      <td>Yes</td>\n",
              "      <td>1</td>\n",
              "      <td>0.0</td>\n",
              "      <td>0.0</td>\n",
              "      <td>0.0</td>\n",
              "      <td>1.0</td>\n",
              "      <td>33.0</td>\n",
              "      <td>0.0</td>\n",
              "      <td>0.0</td>\n",
              "      <td>1.0</td>\n",
              "      <td>0.0</td>\n",
              "      <td>3.0</td>\n",
              "      <td>0</td>\n",
              "      <td>0</td>\n",
              "      <td>0</td>\n",
              "      <td>0</td>\n",
              "      <td>0</td>\n",
              "      <td>0</td>\n",
              "    </tr>\n",
              "    <tr>\n",
              "      <th>36455</th>\n",
              "      <td>5150049.0</td>\n",
              "      <td>0.0</td>\n",
              "      <td>0.0</td>\n",
              "      <td>1.0</td>\n",
              "      <td>28.35</td>\n",
              "      <td>Working</td>\n",
              "      <td>Secondary / secondary special</td>\n",
              "      <td>Married</td>\n",
              "      <td>House / apartment</td>\n",
              "      <td>-17958.0</td>\n",
              "      <td>-655.0</td>\n",
              "      <td>1.0</td>\n",
              "      <td>0</td>\n",
              "      <td>0</td>\n",
              "      <td>0</td>\n",
              "      <td>Sales staff</td>\n",
              "      <td>2</td>\n",
              "      <td>-9.0</td>\n",
              "      <td>Yes</td>\n",
              "      <td>1</td>\n",
              "      <td>0.0</td>\n",
              "      <td>0.0</td>\n",
              "      <td>1.0</td>\n",
              "      <td>0.0</td>\n",
              "      <td>49.0</td>\n",
              "      <td>1.0</td>\n",
              "      <td>0.0</td>\n",
              "      <td>0.0</td>\n",
              "      <td>0.0</td>\n",
              "      <td>1.0</td>\n",
              "      <td>0</td>\n",
              "      <td>0</td>\n",
              "      <td>0</td>\n",
              "      <td>0</td>\n",
              "      <td>0</td>\n",
              "      <td>0</td>\n",
              "    </tr>\n",
              "    <tr>\n",
              "      <th>36456</th>\n",
              "      <td>5150337.0</td>\n",
              "      <td>1.0</td>\n",
              "      <td>0.0</td>\n",
              "      <td>1.0</td>\n",
              "      <td>11.25</td>\n",
              "      <td>Working</td>\n",
              "      <td>Secondary / secondary special</td>\n",
              "      <td>Single / not married</td>\n",
              "      <td>Rented apartment</td>\n",
              "      <td>-9188.0</td>\n",
              "      <td>-1193.0</td>\n",
              "      <td>1.0</td>\n",
              "      <td>0</td>\n",
              "      <td>0</td>\n",
              "      <td>0</td>\n",
              "      <td>Laborers</td>\n",
              "      <td>1</td>\n",
              "      <td>-13.0</td>\n",
              "      <td>Yes</td>\n",
              "      <td>1</td>\n",
              "      <td>0.0</td>\n",
              "      <td>0.0</td>\n",
              "      <td>0.0</td>\n",
              "      <td>0.0</td>\n",
              "      <td>25.0</td>\n",
              "      <td>0.0</td>\n",
              "      <td>0.0</td>\n",
              "      <td>0.0</td>\n",
              "      <td>1.0</td>\n",
              "      <td>3.0</td>\n",
              "      <td>0</td>\n",
              "      <td>0</td>\n",
              "      <td>0</td>\n",
              "      <td>0</td>\n",
              "      <td>1</td>\n",
              "      <td>0</td>\n",
              "    </tr>\n",
              "  </tbody>\n",
              "</table>\n",
              "<p>25134 rows × 36 columns</p>\n",
              "</div>"
            ],
            "text/plain": [
              "              ID  Gender  Car  ...  gp_worktm_medium famsizegp_1 famsizegp_3more\n",
              "2      5008806.0     1.0  1.0  ...                 0           0               0\n",
              "3      5008808.0     0.0  0.0  ...                 0           1               0\n",
              "4      5008809.0     0.0  0.0  ...                 0           1               0\n",
              "5      5008810.0     0.0  0.0  ...                 0           1               0\n",
              "6      5008811.0     0.0  0.0  ...                 0           1               0\n",
              "...          ...     ...  ...  ...               ...         ...             ...\n",
              "36452  5149828.0     1.0  1.0  ...                 0           0               0\n",
              "36453  5149834.0     0.0  0.0  ...                 0           0               0\n",
              "36454  5149838.0     0.0  0.0  ...                 0           0               0\n",
              "36455  5150049.0     0.0  0.0  ...                 0           0               0\n",
              "36456  5150337.0     1.0  0.0  ...                 0           1               0\n",
              "\n",
              "[25134 rows x 36 columns]"
            ]
          },
          "metadata": {},
          "execution_count": 165
        }
      ]
    },
    {
      "cell_type": "code",
      "metadata": {
        "colab": {
          "base_uri": "https://localhost:8080/",
          "height": 432
        },
        "id": "78eYHIwyL8n5",
        "outputId": "09f87ef1-169d-423b-e865-1c0048ffc5c4"
      },
      "source": [
        "print(new_data['inctp'].value_counts(sort=False))\n",
        "print(new_data['inctp'].value_counts(normalize=True,sort=False))\n",
        "new_data.loc[new_data['inctp']=='Pensioner','inctp']='State servant'\n",
        "new_data.loc[new_data['inctp']=='Student','inctp']='State servant'\n",
        "iv, data=calc_iv(new_data,'inctp','target')\n",
        "ivtable.loc[ivtable['variable']=='inctp','IV']=iv\n",
        "data.head()"
      ],
      "execution_count": 166,
      "outputs": [
        {
          "output_type": "stream",
          "name": "stdout",
          "text": [
            "Student                    10\n",
            "Working                 15622\n",
            "Pensioner                  13\n",
            "State servant            2437\n",
            "Commercial associate     7052\n",
            "Name: inctp, dtype: int64\n",
            "Student                 0.000398\n",
            "Working                 0.621549\n",
            "Pensioner               0.000517\n",
            "State servant           0.096960\n",
            "Commercial associate    0.280576\n",
            "Name: inctp, dtype: float64\n",
            "El IV de esta variable es: 5.159303327851404e-05\n",
            "Working                 15622\n",
            "Commercial associate     7052\n",
            "State servant            2460\n",
            "Name: inctp, dtype: int64\n"
          ]
        },
        {
          "output_type": "execute_result",
          "data": {
            "text/html": [
              "<div>\n",
              "<style scoped>\n",
              "    .dataframe tbody tr th:only-of-type {\n",
              "        vertical-align: middle;\n",
              "    }\n",
              "\n",
              "    .dataframe tbody tr th {\n",
              "        vertical-align: top;\n",
              "    }\n",
              "\n",
              "    .dataframe thead th {\n",
              "        text-align: right;\n",
              "    }\n",
              "</style>\n",
              "<table border=\"1\" class=\"dataframe\">\n",
              "  <thead>\n",
              "    <tr style=\"text-align: right;\">\n",
              "      <th></th>\n",
              "      <th>Variable</th>\n",
              "      <th>Value</th>\n",
              "      <th>All</th>\n",
              "      <th>Good</th>\n",
              "      <th>Bad</th>\n",
              "      <th>Share</th>\n",
              "      <th>Bad Rate</th>\n",
              "      <th>Distribution Good</th>\n",
              "      <th>Distribution Bad</th>\n",
              "      <th>WoE</th>\n",
              "      <th>IV</th>\n",
              "    </tr>\n",
              "  </thead>\n",
              "  <tbody>\n",
              "    <tr>\n",
              "      <th>0</th>\n",
              "      <td>inctp</td>\n",
              "      <td>Commercial associate</td>\n",
              "      <td>7052</td>\n",
              "      <td>6933</td>\n",
              "      <td>119</td>\n",
              "      <td>0.280576</td>\n",
              "      <td>0.016875</td>\n",
              "      <td>0.280552</td>\n",
              "      <td>0.281991</td>\n",
              "      <td>-0.005115</td>\n",
              "      <td>0.000007</td>\n",
              "    </tr>\n",
              "    <tr>\n",
              "      <th>1</th>\n",
              "      <td>inctp</td>\n",
              "      <td>State servant</td>\n",
              "      <td>2460</td>\n",
              "      <td>2418</td>\n",
              "      <td>42</td>\n",
              "      <td>0.097875</td>\n",
              "      <td>0.017073</td>\n",
              "      <td>0.097847</td>\n",
              "      <td>0.099526</td>\n",
              "      <td>-0.017013</td>\n",
              "      <td>0.000029</td>\n",
              "    </tr>\n",
              "    <tr>\n",
              "      <th>2</th>\n",
              "      <td>inctp</td>\n",
              "      <td>Working</td>\n",
              "      <td>15622</td>\n",
              "      <td>15361</td>\n",
              "      <td>261</td>\n",
              "      <td>0.621549</td>\n",
              "      <td>0.016707</td>\n",
              "      <td>0.621601</td>\n",
              "      <td>0.618483</td>\n",
              "      <td>0.005028</td>\n",
              "      <td>0.000016</td>\n",
              "    </tr>\n",
              "  </tbody>\n",
              "</table>\n",
              "</div>"
            ],
            "text/plain": [
              "  Variable                 Value    All  ...  Distribution Bad       WoE        IV\n",
              "0    inctp  Commercial associate   7052  ...          0.281991 -0.005115  0.000007\n",
              "1    inctp         State servant   2460  ...          0.099526 -0.017013  0.000029\n",
              "2    inctp               Working  15622  ...          0.618483  0.005028  0.000016\n",
              "\n",
              "[3 rows x 11 columns]"
            ]
          },
          "metadata": {},
          "execution_count": 166
        }
      ]
    },
    {
      "cell_type": "code",
      "metadata": {
        "id": "3BtYAxCIL8n5"
      },
      "source": [
        "# Codificación One-Hot\n",
        "new_data = convert_dummy(new_data,'inctp')"
      ],
      "execution_count": 167,
      "outputs": []
    },
    {
      "cell_type": "markdown",
      "metadata": {
        "id": "QAnUF3-yL8n5"
      },
      "source": [
        "#### Tipo de Ocupación"
      ]
    },
    {
      "cell_type": "code",
      "metadata": {
        "colab": {
          "base_uri": "https://localhost:8080/",
          "height": 295
        },
        "id": "ZvWksHjNL8n6",
        "outputId": "91f25a29-3699-464f-e2dd-5d04e11ec0e4"
      },
      "source": [
        "new_data.loc[(new_data['occyp']=='Cleaning staff') | (new_data['occyp']=='Cooking staff') | (new_data['occyp']=='Drivers') | (new_data['occyp']=='Laborers') | (new_data['occyp']=='Low-skill Laborers') | (new_data['occyp']=='Security staff') | (new_data['occyp']=='Waiters/barmen staff'),'occyp']='Laborwk'\n",
        "new_data.loc[(new_data['occyp']=='Accountants') | (new_data['occyp']=='Core staff') | (new_data['occyp']=='HR staff') | (new_data['occyp']=='Medicine staff') | (new_data['occyp']=='Private service staff') | (new_data['occyp']=='Realty agents') | (new_data['occyp']=='Sales staff') | (new_data['occyp']=='Secretaries'),'occyp']='officewk'\n",
        "new_data.loc[(new_data['occyp']=='Managers') | (new_data['occyp']=='High skill tech staff') | (new_data['occyp']=='IT staff'),'occyp']='hightecwk'\n",
        "print(new_data['occyp'].value_counts())\n",
        "iv, data=calc_iv(new_data,'occyp','target')\n",
        "ivtable.loc[ivtable['variable']=='occyp','IV']=iv\n",
        "data.head()         "
      ],
      "execution_count": 168,
      "outputs": [
        {
          "output_type": "stream",
          "name": "stdout",
          "text": [
            "Laborwk      10496\n",
            "officewk     10183\n",
            "hightecwk     4455\n",
            "Name: occyp, dtype: int64\n",
            "El IV de esta variable es: 0.004820472062853304\n",
            "Laborwk      10496\n",
            "officewk     10183\n",
            "hightecwk     4455\n",
            "Name: occyp, dtype: int64\n"
          ]
        },
        {
          "output_type": "execute_result",
          "data": {
            "text/html": [
              "<div>\n",
              "<style scoped>\n",
              "    .dataframe tbody tr th:only-of-type {\n",
              "        vertical-align: middle;\n",
              "    }\n",
              "\n",
              "    .dataframe tbody tr th {\n",
              "        vertical-align: top;\n",
              "    }\n",
              "\n",
              "    .dataframe thead th {\n",
              "        text-align: right;\n",
              "    }\n",
              "</style>\n",
              "<table border=\"1\" class=\"dataframe\">\n",
              "  <thead>\n",
              "    <tr style=\"text-align: right;\">\n",
              "      <th></th>\n",
              "      <th>Variable</th>\n",
              "      <th>Value</th>\n",
              "      <th>All</th>\n",
              "      <th>Good</th>\n",
              "      <th>Bad</th>\n",
              "      <th>Share</th>\n",
              "      <th>Bad Rate</th>\n",
              "      <th>Distribution Good</th>\n",
              "      <th>Distribution Bad</th>\n",
              "      <th>WoE</th>\n",
              "      <th>IV</th>\n",
              "    </tr>\n",
              "  </thead>\n",
              "  <tbody>\n",
              "    <tr>\n",
              "      <th>0</th>\n",
              "      <td>occyp</td>\n",
              "      <td>Laborwk</td>\n",
              "      <td>10496</td>\n",
              "      <td>10311</td>\n",
              "      <td>185</td>\n",
              "      <td>0.417602</td>\n",
              "      <td>0.017626</td>\n",
              "      <td>0.417247</td>\n",
              "      <td>0.438389</td>\n",
              "      <td>-0.049428</td>\n",
              "      <td>0.001045</td>\n",
              "    </tr>\n",
              "    <tr>\n",
              "      <th>1</th>\n",
              "      <td>occyp</td>\n",
              "      <td>hightecwk</td>\n",
              "      <td>4455</td>\n",
              "      <td>4375</td>\n",
              "      <td>80</td>\n",
              "      <td>0.177250</td>\n",
              "      <td>0.017957</td>\n",
              "      <td>0.177039</td>\n",
              "      <td>0.189573</td>\n",
              "      <td>-0.068404</td>\n",
              "      <td>0.000857</td>\n",
              "    </tr>\n",
              "    <tr>\n",
              "      <th>2</th>\n",
              "      <td>occyp</td>\n",
              "      <td>officewk</td>\n",
              "      <td>10183</td>\n",
              "      <td>10026</td>\n",
              "      <td>157</td>\n",
              "      <td>0.405148</td>\n",
              "      <td>0.015418</td>\n",
              "      <td>0.405714</td>\n",
              "      <td>0.372038</td>\n",
              "      <td>0.086652</td>\n",
              "      <td>0.002918</td>\n",
              "    </tr>\n",
              "  </tbody>\n",
              "</table>\n",
              "</div>"
            ],
            "text/plain": [
              "  Variable      Value    All  ...  Distribution Bad       WoE        IV\n",
              "0    occyp    Laborwk  10496  ...          0.438389 -0.049428  0.001045\n",
              "1    occyp  hightecwk   4455  ...          0.189573 -0.068404  0.000857\n",
              "2    occyp   officewk  10183  ...          0.372038  0.086652  0.002918\n",
              "\n",
              "[3 rows x 11 columns]"
            ]
          },
          "metadata": {},
          "execution_count": 168
        }
      ]
    },
    {
      "cell_type": "code",
      "metadata": {
        "id": "WoFxt50eL8n6"
      },
      "source": [
        "new_data = convert_dummy(new_data,'occyp')"
      ],
      "execution_count": 169,
      "outputs": []
    },
    {
      "cell_type": "code",
      "metadata": {
        "colab": {
          "base_uri": "https://localhost:8080/"
        },
        "id": "ToNWt9z5L8n6",
        "outputId": "ea8fb691-81b7-4fbb-bebf-03f24ad5a448"
      },
      "source": [
        "new_data.columns"
      ],
      "execution_count": 170,
      "outputs": [
        {
          "output_type": "execute_result",
          "data": {
            "text/plain": [
              "Index(['ID', 'Gender', 'Car', 'Reality', 'inc', 'edutp', 'famtp', 'houtp',\n",
              "       'DAYS_BIRTH', 'DAYS_EMPLOYED', 'FLAG_MOBIL', 'wkphone', 'phone',\n",
              "       'email', 'famsize', 'begin_month', 'dep_value', 'target', 'ChldNo_1',\n",
              "       'ChldNo_2More', 'gp_inc_high', 'gp_inc_medium', 'Age', 'gp_Age_high',\n",
              "       'gp_Age_highest', 'gp_Age_low', 'gp_Age_lowest', 'worktm',\n",
              "       'gp_worktm_high', 'gp_worktm_highest', 'gp_worktm_low',\n",
              "       'gp_worktm_medium', 'famsizegp_1', 'famsizegp_3more',\n",
              "       'inctp_Commercial associate', 'inctp_State servant', 'occyp_hightecwk',\n",
              "       'occyp_officewk'],\n",
              "      dtype='object')"
            ]
          },
          "metadata": {},
          "execution_count": 170
        }
      ]
    },
    {
      "cell_type": "markdown",
      "metadata": {
        "id": "gSlhEgBzL8n6"
      },
      "source": [
        "#### Forma de Vivienda"
      ]
    },
    {
      "cell_type": "code",
      "metadata": {
        "colab": {
          "base_uri": "https://localhost:8080/",
          "height": 0
        },
        "id": "OGDiJIvBL8n6",
        "outputId": "7537d9a1-3f71-4590-b4a6-f30d14d0a05d"
      },
      "source": [
        "iv, data=calc_iv(new_data,'houtp','target')\n",
        "ivtable.loc[ivtable['variable']=='houtp','IV']=iv\n",
        "data.head()"
      ],
      "execution_count": 171,
      "outputs": [
        {
          "output_type": "stream",
          "name": "stdout",
          "text": [
            "El IV de esta variable es: 0.0073275026880227365\n",
            "House / apartment      22102\n",
            "With parents            1430\n",
            "Municipal apartment      812\n",
            "Rented apartment         439\n",
            "Office apartment         199\n",
            "Co-op apartment          152\n",
            "Name: houtp, dtype: int64\n"
          ]
        },
        {
          "output_type": "execute_result",
          "data": {
            "text/html": [
              "<div>\n",
              "<style scoped>\n",
              "    .dataframe tbody tr th:only-of-type {\n",
              "        vertical-align: middle;\n",
              "    }\n",
              "\n",
              "    .dataframe tbody tr th {\n",
              "        vertical-align: top;\n",
              "    }\n",
              "\n",
              "    .dataframe thead th {\n",
              "        text-align: right;\n",
              "    }\n",
              "</style>\n",
              "<table border=\"1\" class=\"dataframe\">\n",
              "  <thead>\n",
              "    <tr style=\"text-align: right;\">\n",
              "      <th></th>\n",
              "      <th>Variable</th>\n",
              "      <th>Value</th>\n",
              "      <th>All</th>\n",
              "      <th>Good</th>\n",
              "      <th>Bad</th>\n",
              "      <th>Share</th>\n",
              "      <th>Bad Rate</th>\n",
              "      <th>Distribution Good</th>\n",
              "      <th>Distribution Bad</th>\n",
              "      <th>WoE</th>\n",
              "      <th>IV</th>\n",
              "    </tr>\n",
              "  </thead>\n",
              "  <tbody>\n",
              "    <tr>\n",
              "      <th>0</th>\n",
              "      <td>houtp</td>\n",
              "      <td>Co-op apartment</td>\n",
              "      <td>152</td>\n",
              "      <td>149</td>\n",
              "      <td>3</td>\n",
              "      <td>0.006048</td>\n",
              "      <td>0.019737</td>\n",
              "      <td>0.006029</td>\n",
              "      <td>0.007109</td>\n",
              "      <td>-0.164705</td>\n",
              "      <td>0.000178</td>\n",
              "    </tr>\n",
              "    <tr>\n",
              "      <th>1</th>\n",
              "      <td>houtp</td>\n",
              "      <td>House / apartment</td>\n",
              "      <td>22102</td>\n",
              "      <td>21738</td>\n",
              "      <td>364</td>\n",
              "      <td>0.879367</td>\n",
              "      <td>0.016469</td>\n",
              "      <td>0.879654</td>\n",
              "      <td>0.862559</td>\n",
              "      <td>0.019624</td>\n",
              "      <td>0.000335</td>\n",
              "    </tr>\n",
              "    <tr>\n",
              "      <th>2</th>\n",
              "      <td>houtp</td>\n",
              "      <td>Municipal apartment</td>\n",
              "      <td>812</td>\n",
              "      <td>793</td>\n",
              "      <td>19</td>\n",
              "      <td>0.032307</td>\n",
              "      <td>0.023399</td>\n",
              "      <td>0.032090</td>\n",
              "      <td>0.045024</td>\n",
              "      <td>-0.338655</td>\n",
              "      <td>0.004380</td>\n",
              "    </tr>\n",
              "    <tr>\n",
              "      <th>3</th>\n",
              "      <td>houtp</td>\n",
              "      <td>Office apartment</td>\n",
              "      <td>199</td>\n",
              "      <td>194</td>\n",
              "      <td>5</td>\n",
              "      <td>0.007918</td>\n",
              "      <td>0.025126</td>\n",
              "      <td>0.007850</td>\n",
              "      <td>0.011848</td>\n",
              "      <td>-0.411619</td>\n",
              "      <td>0.001646</td>\n",
              "    </tr>\n",
              "    <tr>\n",
              "      <th>4</th>\n",
              "      <td>houtp</td>\n",
              "      <td>Rented apartment</td>\n",
              "      <td>439</td>\n",
              "      <td>433</td>\n",
              "      <td>6</td>\n",
              "      <td>0.017466</td>\n",
              "      <td>0.013667</td>\n",
              "      <td>0.017522</td>\n",
              "      <td>0.014218</td>\n",
              "      <td>0.208939</td>\n",
              "      <td>0.000690</td>\n",
              "    </tr>\n",
              "  </tbody>\n",
              "</table>\n",
              "</div>"
            ],
            "text/plain": [
              "  Variable                Value    All  ...  Distribution Bad       WoE        IV\n",
              "0    houtp      Co-op apartment    152  ...          0.007109 -0.164705  0.000178\n",
              "1    houtp    House / apartment  22102  ...          0.862559  0.019624  0.000335\n",
              "2    houtp  Municipal apartment    812  ...          0.045024 -0.338655  0.004380\n",
              "3    houtp     Office apartment    199  ...          0.011848 -0.411619  0.001646\n",
              "4    houtp     Rented apartment    439  ...          0.014218  0.208939  0.000690\n",
              "\n",
              "[5 rows x 11 columns]"
            ]
          },
          "metadata": {},
          "execution_count": 171
        }
      ]
    },
    {
      "cell_type": "markdown",
      "metadata": {
        "id": "99y6HbG9Konk"
      },
      "source": [
        ""
      ]
    },
    {
      "cell_type": "code",
      "metadata": {
        "id": "XJPMMDr_L8n7"
      },
      "source": [
        "new_data = convert_dummy(new_data,'houtp')"
      ],
      "execution_count": 172,
      "outputs": []
    },
    {
      "cell_type": "code",
      "metadata": {
        "colab": {
          "base_uri": "https://localhost:8080/"
        },
        "id": "x1M-Q47DL8n7",
        "outputId": "122159b0-97a3-409c-df33-d1f61cbfb04c"
      },
      "source": [
        "new_data.columns"
      ],
      "execution_count": 173,
      "outputs": [
        {
          "output_type": "execute_result",
          "data": {
            "text/plain": [
              "Index(['ID', 'Gender', 'Car', 'Reality', 'inc', 'edutp', 'famtp', 'DAYS_BIRTH',\n",
              "       'DAYS_EMPLOYED', 'FLAG_MOBIL', 'wkphone', 'phone', 'email', 'famsize',\n",
              "       'begin_month', 'dep_value', 'target', 'ChldNo_1', 'ChldNo_2More',\n",
              "       'gp_inc_high', 'gp_inc_medium', 'Age', 'gp_Age_high', 'gp_Age_highest',\n",
              "       'gp_Age_low', 'gp_Age_lowest', 'worktm', 'gp_worktm_high',\n",
              "       'gp_worktm_highest', 'gp_worktm_low', 'gp_worktm_medium', 'famsizegp_1',\n",
              "       'famsizegp_3more', 'inctp_Commercial associate', 'inctp_State servant',\n",
              "       'occyp_hightecwk', 'occyp_officewk', 'houtp_Co-op apartment',\n",
              "       'houtp_Municipal apartment', 'houtp_Office apartment',\n",
              "       'houtp_Rented apartment', 'houtp_With parents'],\n",
              "      dtype='object')"
            ]
          },
          "metadata": {},
          "execution_count": 173
        }
      ]
    },
    {
      "cell_type": "markdown",
      "metadata": {
        "id": "LFKdjg3NL8n7"
      },
      "source": [
        "#### Educación"
      ]
    },
    {
      "cell_type": "code",
      "metadata": {
        "colab": {
          "base_uri": "https://localhost:8080/",
          "height": 276
        },
        "id": "7cvvKWuOL8n7",
        "outputId": "aa9b84b6-e217-4ba6-c91d-adc1743cf824"
      },
      "source": [
        "new_data.loc[new_data['edutp']=='Academic degree','edutp']='Higher education'\n",
        "iv, data=calc_iv(new_data,'edutp','target')\n",
        "ivtable.loc[ivtable['variable']=='edutp','IV']=iv\n",
        "data.head()"
      ],
      "execution_count": 174,
      "outputs": [
        {
          "output_type": "stream",
          "name": "stdout",
          "text": [
            "El IV de esta variable es: 0.010361794017679489\n",
            "Secondary / secondary special    16808\n",
            "Higher education                  7146\n",
            "Incomplete higher                  993\n",
            "Lower secondary                    187\n",
            "Name: edutp, dtype: int64\n"
          ]
        },
        {
          "output_type": "execute_result",
          "data": {
            "text/html": [
              "<div>\n",
              "<style scoped>\n",
              "    .dataframe tbody tr th:only-of-type {\n",
              "        vertical-align: middle;\n",
              "    }\n",
              "\n",
              "    .dataframe tbody tr th {\n",
              "        vertical-align: top;\n",
              "    }\n",
              "\n",
              "    .dataframe thead th {\n",
              "        text-align: right;\n",
              "    }\n",
              "</style>\n",
              "<table border=\"1\" class=\"dataframe\">\n",
              "  <thead>\n",
              "    <tr style=\"text-align: right;\">\n",
              "      <th></th>\n",
              "      <th>Variable</th>\n",
              "      <th>Value</th>\n",
              "      <th>All</th>\n",
              "      <th>Good</th>\n",
              "      <th>Bad</th>\n",
              "      <th>Share</th>\n",
              "      <th>Bad Rate</th>\n",
              "      <th>Distribution Good</th>\n",
              "      <th>Distribution Bad</th>\n",
              "      <th>WoE</th>\n",
              "      <th>IV</th>\n",
              "    </tr>\n",
              "  </thead>\n",
              "  <tbody>\n",
              "    <tr>\n",
              "      <th>0</th>\n",
              "      <td>edutp</td>\n",
              "      <td>Higher education</td>\n",
              "      <td>7146</td>\n",
              "      <td>7018</td>\n",
              "      <td>128</td>\n",
              "      <td>0.284316</td>\n",
              "      <td>0.017912</td>\n",
              "      <td>0.283992</td>\n",
              "      <td>0.303318</td>\n",
              "      <td>-0.065836</td>\n",
              "      <td>0.001272</td>\n",
              "    </tr>\n",
              "    <tr>\n",
              "      <th>1</th>\n",
              "      <td>edutp</td>\n",
              "      <td>Incomplete higher</td>\n",
              "      <td>993</td>\n",
              "      <td>972</td>\n",
              "      <td>21</td>\n",
              "      <td>0.039508</td>\n",
              "      <td>0.021148</td>\n",
              "      <td>0.039333</td>\n",
              "      <td>0.049763</td>\n",
              "      <td>-0.235206</td>\n",
              "      <td>0.002453</td>\n",
              "    </tr>\n",
              "    <tr>\n",
              "      <th>2</th>\n",
              "      <td>edutp</td>\n",
              "      <td>Lower secondary</td>\n",
              "      <td>187</td>\n",
              "      <td>181</td>\n",
              "      <td>6</td>\n",
              "      <td>0.007440</td>\n",
              "      <td>0.032086</td>\n",
              "      <td>0.007324</td>\n",
              "      <td>0.014218</td>\n",
              "      <td>-0.663301</td>\n",
              "      <td>0.004573</td>\n",
              "    </tr>\n",
              "    <tr>\n",
              "      <th>3</th>\n",
              "      <td>edutp</td>\n",
              "      <td>Secondary / secondary special</td>\n",
              "      <td>16808</td>\n",
              "      <td>16541</td>\n",
              "      <td>267</td>\n",
              "      <td>0.668736</td>\n",
              "      <td>0.015885</td>\n",
              "      <td>0.669351</td>\n",
              "      <td>0.632701</td>\n",
              "      <td>0.056310</td>\n",
              "      <td>0.002064</td>\n",
              "    </tr>\n",
              "  </tbody>\n",
              "</table>\n",
              "</div>"
            ],
            "text/plain": [
              "  Variable                          Value  ...       WoE        IV\n",
              "0    edutp               Higher education  ... -0.065836  0.001272\n",
              "1    edutp              Incomplete higher  ... -0.235206  0.002453\n",
              "2    edutp                Lower secondary  ... -0.663301  0.004573\n",
              "3    edutp  Secondary / secondary special  ...  0.056310  0.002064\n",
              "\n",
              "[4 rows x 11 columns]"
            ]
          },
          "metadata": {},
          "execution_count": 174
        }
      ]
    },
    {
      "cell_type": "code",
      "metadata": {
        "id": "7_2kTbt1L8n7"
      },
      "source": [
        "new_data = convert_dummy(new_data,'edutp')"
      ],
      "execution_count": 175,
      "outputs": []
    },
    {
      "cell_type": "code",
      "metadata": {
        "colab": {
          "base_uri": "https://localhost:8080/"
        },
        "id": "SUVy88h9L8n8",
        "outputId": "7ac2f87c-5389-4288-f4ae-e502c267c57f"
      },
      "source": [
        "new_data.columns"
      ],
      "execution_count": 176,
      "outputs": [
        {
          "output_type": "execute_result",
          "data": {
            "text/plain": [
              "Index(['ID', 'Gender', 'Car', 'Reality', 'inc', 'famtp', 'DAYS_BIRTH',\n",
              "       'DAYS_EMPLOYED', 'FLAG_MOBIL', 'wkphone', 'phone', 'email', 'famsize',\n",
              "       'begin_month', 'dep_value', 'target', 'ChldNo_1', 'ChldNo_2More',\n",
              "       'gp_inc_high', 'gp_inc_medium', 'Age', 'gp_Age_high', 'gp_Age_highest',\n",
              "       'gp_Age_low', 'gp_Age_lowest', 'worktm', 'gp_worktm_high',\n",
              "       'gp_worktm_highest', 'gp_worktm_low', 'gp_worktm_medium', 'famsizegp_1',\n",
              "       'famsizegp_3more', 'inctp_Commercial associate', 'inctp_State servant',\n",
              "       'occyp_hightecwk', 'occyp_officewk', 'houtp_Co-op apartment',\n",
              "       'houtp_Municipal apartment', 'houtp_Office apartment',\n",
              "       'houtp_Rented apartment', 'houtp_With parents',\n",
              "       'edutp_Higher education', 'edutp_Incomplete higher',\n",
              "       'edutp_Lower secondary'],\n",
              "      dtype='object')"
            ]
          },
          "metadata": {},
          "execution_count": 176
        }
      ]
    },
    {
      "cell_type": "markdown",
      "metadata": {
        "id": "j_9zMAmNL8n8"
      },
      "source": [
        "####  Estado Civil"
      ]
    },
    {
      "cell_type": "code",
      "metadata": {
        "colab": {
          "base_uri": "https://localhost:8080/"
        },
        "id": "unhqZnR_L8n8",
        "scrolled": true,
        "outputId": "4aa94519-5d1e-4173-9c83-8dab2faca82d"
      },
      "source": [
        "new_data['famtp'].value_counts(normalize=True,sort=False)"
      ],
      "execution_count": 177,
      "outputs": [
        {
          "output_type": "execute_result",
          "data": {
            "text/plain": [
              "Civil marriage          0.084865\n",
              "Separated               0.058367\n",
              "Married                 0.696626\n",
              "Widow                   0.023076\n",
              "Single / not married    0.137065\n",
              "Name: famtp, dtype: float64"
            ]
          },
          "metadata": {},
          "execution_count": 177
        }
      ]
    },
    {
      "cell_type": "code",
      "metadata": {
        "colab": {
          "base_uri": "https://localhost:8080/",
          "height": 324
        },
        "id": "qS3Ny_skL8n8",
        "outputId": "d0d6aed5-45c1-45cc-9e8c-6ca852c9ee6d"
      },
      "source": [
        "iv, data=calc_iv(new_data,'famtp','target')\n",
        "ivtable.loc[ivtable['variable']=='famtp','IV']=iv\n",
        "data.head()"
      ],
      "execution_count": 178,
      "outputs": [
        {
          "output_type": "stream",
          "name": "stdout",
          "text": [
            "El IV de esta variable es: 0.043137115423127946\n",
            "Married                 17509\n",
            "Single / not married     3445\n",
            "Civil marriage           2133\n",
            "Separated                1467\n",
            "Widow                     580\n",
            "Name: famtp, dtype: int64\n"
          ]
        },
        {
          "output_type": "execute_result",
          "data": {
            "text/html": [
              "<div>\n",
              "<style scoped>\n",
              "    .dataframe tbody tr th:only-of-type {\n",
              "        vertical-align: middle;\n",
              "    }\n",
              "\n",
              "    .dataframe tbody tr th {\n",
              "        vertical-align: top;\n",
              "    }\n",
              "\n",
              "    .dataframe thead th {\n",
              "        text-align: right;\n",
              "    }\n",
              "</style>\n",
              "<table border=\"1\" class=\"dataframe\">\n",
              "  <thead>\n",
              "    <tr style=\"text-align: right;\">\n",
              "      <th></th>\n",
              "      <th>Variable</th>\n",
              "      <th>Value</th>\n",
              "      <th>All</th>\n",
              "      <th>Good</th>\n",
              "      <th>Bad</th>\n",
              "      <th>Share</th>\n",
              "      <th>Bad Rate</th>\n",
              "      <th>Distribution Good</th>\n",
              "      <th>Distribution Bad</th>\n",
              "      <th>WoE</th>\n",
              "      <th>IV</th>\n",
              "    </tr>\n",
              "  </thead>\n",
              "  <tbody>\n",
              "    <tr>\n",
              "      <th>0</th>\n",
              "      <td>famtp</td>\n",
              "      <td>Civil marriage</td>\n",
              "      <td>2133</td>\n",
              "      <td>2101</td>\n",
              "      <td>32</td>\n",
              "      <td>0.084865</td>\n",
              "      <td>0.015002</td>\n",
              "      <td>0.085019</td>\n",
              "      <td>0.075829</td>\n",
              "      <td>0.114394</td>\n",
              "      <td>0.001051</td>\n",
              "    </tr>\n",
              "    <tr>\n",
              "      <th>1</th>\n",
              "      <td>famtp</td>\n",
              "      <td>Married</td>\n",
              "      <td>17509</td>\n",
              "      <td>17232</td>\n",
              "      <td>277</td>\n",
              "      <td>0.696626</td>\n",
              "      <td>0.015820</td>\n",
              "      <td>0.697313</td>\n",
              "      <td>0.656398</td>\n",
              "      <td>0.060467</td>\n",
              "      <td>0.002474</td>\n",
              "    </tr>\n",
              "    <tr>\n",
              "      <th>2</th>\n",
              "      <td>famtp</td>\n",
              "      <td>Separated</td>\n",
              "      <td>1467</td>\n",
              "      <td>1452</td>\n",
              "      <td>15</td>\n",
              "      <td>0.058367</td>\n",
              "      <td>0.010225</td>\n",
              "      <td>0.058757</td>\n",
              "      <td>0.035545</td>\n",
              "      <td>0.502608</td>\n",
              "      <td>0.011666</td>\n",
              "    </tr>\n",
              "    <tr>\n",
              "      <th>3</th>\n",
              "      <td>famtp</td>\n",
              "      <td>Single / not married</td>\n",
              "      <td>3445</td>\n",
              "      <td>3362</td>\n",
              "      <td>83</td>\n",
              "      <td>0.137065</td>\n",
              "      <td>0.024093</td>\n",
              "      <td>0.136047</td>\n",
              "      <td>0.196682</td>\n",
              "      <td>-0.368588</td>\n",
              "      <td>0.022349</td>\n",
              "    </tr>\n",
              "    <tr>\n",
              "      <th>4</th>\n",
              "      <td>famtp</td>\n",
              "      <td>Widow</td>\n",
              "      <td>580</td>\n",
              "      <td>565</td>\n",
              "      <td>15</td>\n",
              "      <td>0.023076</td>\n",
              "      <td>0.025862</td>\n",
              "      <td>0.022863</td>\n",
              "      <td>0.035545</td>\n",
              "      <td>-0.441263</td>\n",
              "      <td>0.005596</td>\n",
              "    </tr>\n",
              "  </tbody>\n",
              "</table>\n",
              "</div>"
            ],
            "text/plain": [
              "  Variable                 Value    All  ...  Distribution Bad       WoE        IV\n",
              "0    famtp        Civil marriage   2133  ...          0.075829  0.114394  0.001051\n",
              "1    famtp               Married  17509  ...          0.656398  0.060467  0.002474\n",
              "2    famtp             Separated   1467  ...          0.035545  0.502608  0.011666\n",
              "3    famtp  Single / not married   3445  ...          0.196682 -0.368588  0.022349\n",
              "4    famtp                 Widow    580  ...          0.035545 -0.441263  0.005596\n",
              "\n",
              "[5 rows x 11 columns]"
            ]
          },
          "metadata": {},
          "execution_count": 178
        }
      ]
    },
    {
      "cell_type": "code",
      "metadata": {
        "id": "LYF_IfzmL8n8"
      },
      "source": [
        "new_data = convert_dummy(new_data,'famtp')"
      ],
      "execution_count": 179,
      "outputs": []
    },
    {
      "cell_type": "code",
      "metadata": {
        "colab": {
          "base_uri": "https://localhost:8080/"
        },
        "id": "ByDO7yo-L8n9",
        "outputId": "00e33bf7-7421-40ac-b082-e9065b9e54a1"
      },
      "source": [
        "new_data.columns"
      ],
      "execution_count": 180,
      "outputs": [
        {
          "output_type": "execute_result",
          "data": {
            "text/plain": [
              "Index(['ID', 'Gender', 'Car', 'Reality', 'inc', 'DAYS_BIRTH', 'DAYS_EMPLOYED',\n",
              "       'FLAG_MOBIL', 'wkphone', 'phone', 'email', 'famsize', 'begin_month',\n",
              "       'dep_value', 'target', 'ChldNo_1', 'ChldNo_2More', 'gp_inc_high',\n",
              "       'gp_inc_medium', 'Age', 'gp_Age_high', 'gp_Age_highest', 'gp_Age_low',\n",
              "       'gp_Age_lowest', 'worktm', 'gp_worktm_high', 'gp_worktm_highest',\n",
              "       'gp_worktm_low', 'gp_worktm_medium', 'famsizegp_1', 'famsizegp_3more',\n",
              "       'inctp_Commercial associate', 'inctp_State servant', 'occyp_hightecwk',\n",
              "       'occyp_officewk', 'houtp_Co-op apartment', 'houtp_Municipal apartment',\n",
              "       'houtp_Office apartment', 'houtp_Rented apartment',\n",
              "       'houtp_With parents', 'edutp_Higher education',\n",
              "       'edutp_Incomplete higher', 'edutp_Lower secondary',\n",
              "       'famtp_Civil marriage', 'famtp_Separated', 'famtp_Single / not married',\n",
              "       'famtp_Widow'],\n",
              "      dtype='object')"
            ]
          },
          "metadata": {},
          "execution_count": 180
        }
      ]
    },
    {
      "cell_type": "markdown",
      "metadata": {
        "id": "nwXtXOckL8n9"
      },
      "source": [
        "## Utilidad de: IV y WoE"
      ]
    },
    {
      "cell_type": "markdown",
      "metadata": {
        "id": "y_8i4rb6L8n9"
      },
      "source": [
        "Puede leer el artículo a continuación para comprender un poco más sobre los conceptos de IV y WoE:\n",
        "\n",
        "https://docs.tibco.com/pub/sfire-dsc/6.5.0/doc/html/TIB_sfire-dsc_user-guide/GUID-07A78308-525A-406F-8221-9281F4E9D7CF.html\n",
        "\n",
        "La tabla a continuación fue tomada de la referencia indicada:\n",
        "\n",
        "| IV| Ability to predict | \n",
        "|:------|:------:| \n",
        "| <0.02 | Bajo poder predictivo | \n",
        "|0.02~0.1 |Poder predictivo débil|\n",
        "|0.1~0.3|Poder predictivo moderado|\n",
        "|0.3~0.5|Poder predictivo fuerte|\n",
        "|>0.5|Sospechosamente alto, revisar esta variable| "
      ]
    },
    {
      "cell_type": "code",
      "metadata": {
        "colab": {
          "base_uri": "https://localhost:8080/",
          "height": 546
        },
        "id": "Zgh2MsnkL8n9",
        "outputId": "eb936bbf-97f0-4c28-d83d-3934be13c354"
      },
      "source": [
        "ivtable=ivtable.sort_values(by='IV',ascending=False)\n",
        "ivtable.loc[ivtable['variable']=='DAYS_BIRTH','variable']='agegp'\n",
        "ivtable.loc[ivtable['variable']=='DAYS_EMPLOYED','variable']='worktmgp'\n",
        "ivtable.loc[ivtable['variable']=='inc','variable']='incgp'\n",
        "ivtable"
      ],
      "execution_count": 181,
      "outputs": [
        {
          "output_type": "execute_result",
          "data": {
            "text/html": [
              "<div>\n",
              "<style scoped>\n",
              "    .dataframe tbody tr th:only-of-type {\n",
              "        vertical-align: middle;\n",
              "    }\n",
              "\n",
              "    .dataframe tbody tr th {\n",
              "        vertical-align: top;\n",
              "    }\n",
              "\n",
              "    .dataframe thead th {\n",
              "        text-align: right;\n",
              "    }\n",
              "</style>\n",
              "<table border=\"1\" class=\"dataframe\">\n",
              "  <thead>\n",
              "    <tr style=\"text-align: right;\">\n",
              "      <th></th>\n",
              "      <th>variable</th>\n",
              "      <th>IV</th>\n",
              "    </tr>\n",
              "  </thead>\n",
              "  <tbody>\n",
              "    <tr>\n",
              "      <th>10</th>\n",
              "      <td>agegp</td>\n",
              "      <td>0.0659351</td>\n",
              "    </tr>\n",
              "    <tr>\n",
              "      <th>8</th>\n",
              "      <td>famtp</td>\n",
              "      <td>0.0431371</td>\n",
              "    </tr>\n",
              "    <tr>\n",
              "      <th>11</th>\n",
              "      <td>worktmgp</td>\n",
              "      <td>0.0402215</td>\n",
              "    </tr>\n",
              "    <tr>\n",
              "      <th>3</th>\n",
              "      <td>Reality</td>\n",
              "      <td>0.0274407</td>\n",
              "    </tr>\n",
              "    <tr>\n",
              "      <th>1</th>\n",
              "      <td>Gender</td>\n",
              "      <td>0.0252035</td>\n",
              "    </tr>\n",
              "    <tr>\n",
              "      <th>7</th>\n",
              "      <td>edutp</td>\n",
              "      <td>0.0103618</td>\n",
              "    </tr>\n",
              "    <tr>\n",
              "      <th>9</th>\n",
              "      <td>houtp</td>\n",
              "      <td>0.0073275</td>\n",
              "    </tr>\n",
              "    <tr>\n",
              "      <th>17</th>\n",
              "      <td>famsize</td>\n",
              "      <td>0.00615614</td>\n",
              "    </tr>\n",
              "    <tr>\n",
              "      <th>16</th>\n",
              "      <td>occyp</td>\n",
              "      <td>0.00482047</td>\n",
              "    </tr>\n",
              "    <tr>\n",
              "      <th>5</th>\n",
              "      <td>incgp</td>\n",
              "      <td>0.002422</td>\n",
              "    </tr>\n",
              "    <tr>\n",
              "      <th>13</th>\n",
              "      <td>wkphone</td>\n",
              "      <td>0.00204243</td>\n",
              "    </tr>\n",
              "    <tr>\n",
              "      <th>4</th>\n",
              "      <td>ChldNo</td>\n",
              "      <td>0.00112145</td>\n",
              "    </tr>\n",
              "    <tr>\n",
              "      <th>14</th>\n",
              "      <td>phone</td>\n",
              "      <td>0.00054805</td>\n",
              "    </tr>\n",
              "    <tr>\n",
              "      <th>6</th>\n",
              "      <td>inctp</td>\n",
              "      <td>5.1593e-05</td>\n",
              "    </tr>\n",
              "    <tr>\n",
              "      <th>15</th>\n",
              "      <td>email</td>\n",
              "      <td>1.73436e-05</td>\n",
              "    </tr>\n",
              "    <tr>\n",
              "      <th>2</th>\n",
              "      <td>Car</td>\n",
              "      <td>4.54248e-06</td>\n",
              "    </tr>\n",
              "  </tbody>\n",
              "</table>\n",
              "</div>"
            ],
            "text/plain": [
              "    variable           IV\n",
              "10     agegp    0.0659351\n",
              "8      famtp    0.0431371\n",
              "11  worktmgp    0.0402215\n",
              "3    Reality    0.0274407\n",
              "1     Gender    0.0252035\n",
              "7      edutp    0.0103618\n",
              "9      houtp    0.0073275\n",
              "17   famsize   0.00615614\n",
              "16     occyp   0.00482047\n",
              "5      incgp     0.002422\n",
              "13   wkphone   0.00204243\n",
              "4     ChldNo   0.00112145\n",
              "14     phone   0.00054805\n",
              "6      inctp   5.1593e-05\n",
              "15     email  1.73436e-05\n",
              "2        Car  4.54248e-06"
            ]
          },
          "metadata": {},
          "execution_count": 181
        }
      ]
    },
    {
      "cell_type": "markdown",
      "metadata": {
        "id": "DNvgJoOCL8n9"
      },
      "source": [
        "# Predicción de Buen/Mal Cliente Mediante Redes Neuronales"
      ]
    },
    {
      "cell_type": "markdown",
      "metadata": {
        "id": "NgOn9o22L8n-"
      },
      "source": [
        "+ Split Dataset"
      ]
    },
    {
      "cell_type": "code",
      "metadata": {
        "colab": {
          "base_uri": "https://localhost:8080/"
        },
        "id": "R9mEZD7_L8n-",
        "outputId": "f389abb8-12af-45c6-d6db-d5cf84210c6c"
      },
      "source": [
        "new_data.columns"
      ],
      "execution_count": 182,
      "outputs": [
        {
          "output_type": "execute_result",
          "data": {
            "text/plain": [
              "Index(['ID', 'Gender', 'Car', 'Reality', 'inc', 'DAYS_BIRTH', 'DAYS_EMPLOYED',\n",
              "       'FLAG_MOBIL', 'wkphone', 'phone', 'email', 'famsize', 'begin_month',\n",
              "       'dep_value', 'target', 'ChldNo_1', 'ChldNo_2More', 'gp_inc_high',\n",
              "       'gp_inc_medium', 'Age', 'gp_Age_high', 'gp_Age_highest', 'gp_Age_low',\n",
              "       'gp_Age_lowest', 'worktm', 'gp_worktm_high', 'gp_worktm_highest',\n",
              "       'gp_worktm_low', 'gp_worktm_medium', 'famsizegp_1', 'famsizegp_3more',\n",
              "       'inctp_Commercial associate', 'inctp_State servant', 'occyp_hightecwk',\n",
              "       'occyp_officewk', 'houtp_Co-op apartment', 'houtp_Municipal apartment',\n",
              "       'houtp_Office apartment', 'houtp_Rented apartment',\n",
              "       'houtp_With parents', 'edutp_Higher education',\n",
              "       'edutp_Incomplete higher', 'edutp_Lower secondary',\n",
              "       'famtp_Civil marriage', 'famtp_Separated', 'famtp_Single / not married',\n",
              "       'famtp_Widow'],\n",
              "      dtype='object')"
            ]
          },
          "metadata": {},
          "execution_count": 182
        }
      ]
    },
    {
      "cell_type": "markdown",
      "metadata": {
        "id": "J3VG83__L8n-"
      },
      "source": [
        "Se tomarán únicamente aquellas columnas preprocesadas y con un $IV>0.001$"
      ]
    },
    {
      "cell_type": "code",
      "metadata": {
        "id": "01sQKzV2L8n-"
      },
      "source": [
        "Y = new_data['target']\n",
        "X = new_data[['Gender','Reality','ChldNo_1', 'ChldNo_2More', 'gp_inc_medium',  'gp_inc_high','wkphone',\n",
        "              'gp_Age_high', 'gp_Age_highest', 'gp_Age_low',\n",
        "              'gp_Age_lowest','gp_worktm_high', 'gp_worktm_highest',\n",
        "              'gp_worktm_low', 'gp_worktm_medium','occyp_hightecwk', \n",
        "              'occyp_officewk','famsizegp_1', 'famsizegp_3more',\n",
        "              'houtp_Co-op apartment', 'houtp_Municipal apartment',\n",
        "              'houtp_Office apartment', 'houtp_Rented apartment',\n",
        "              'houtp_With parents','edutp_Higher education',\n",
        "              'edutp_Incomplete higher', 'edutp_Lower secondary','famtp_Civil marriage',\n",
        "              'famtp_Separated','famtp_Single / not married','famtp_Widow']]"
      ],
      "execution_count": 183,
      "outputs": []
    },
    {
      "cell_type": "markdown",
      "metadata": {
        "id": "25WjIIZfL8n-"
      },
      "source": [
        "### SMOTE\n",
        "\n",
        "Concepto: Synthetic Minority Over-Sampling Technique(`SMOTE`) utilizado para lidiar con datos desbalanceados. Puede encontrar más información en:\n",
        "\n",
        "- http://glemaitre.github.io/imbalanced-learn/generated/imblearn.over_sampling.SMOTE.html\n",
        "- https://machinelearningmastery.com/smote-oversampling-for-imbalanced-classification/"
      ]
    },
    {
      "cell_type": "code",
      "metadata": {
        "id": "89hRqR3BL8n_"
      },
      "source": [
        "Y = Y.astype('int')\n",
        "sm = SMOTE()\n",
        "X_balance,Y_balance = sm.fit_resample(X,Y)\n",
        "X_balance = pd.DataFrame(X_balance, columns = X.columns)"
      ],
      "execution_count": 184,
      "outputs": []
    },
    {
      "cell_type": "markdown",
      "metadata": {
        "id": "odpX0je4qUjo"
      },
      "source": [
        "## Análisis SMOTE. The Synthetic Minority Oversampling Technique\n",
        "El balanceo de datos es un punto clave e indispensable, porque si está desbalanceada va a generar un mal desempeño sobre la clase más pequeña, y la clase más pequeña generalmente es más importante a clasificar. La técnica que se usa es sobremuestrear la clase minoritaria, estos datos no agregan nueva información al modelo, en cambio sintetiza nuevos ejemplos a partir de los existentes. "
      ]
    },
    {
      "cell_type": "markdown",
      "metadata": {
        "id": "Z8CrGNF6L8n_"
      },
      "source": [
        "Separación de datos en conjuntos: entrenamiento y prueba. 70 % datos de entrenamiento , 30 % datos de prueba"
      ]
    },
    {
      "cell_type": "code",
      "metadata": {
        "id": "sQ8T1bCpL8n_"
      },
      "source": [
        "X_train, X_test, y_train, y_test = train_test_split(X_balance,Y_balance, \n",
        "                                                    stratify=Y_balance, test_size=0.3,\n",
        "                                                    random_state = 10086)"
      ],
      "execution_count": 185,
      "outputs": []
    },
    {
      "cell_type": "markdown",
      "metadata": {
        "id": "sYX4McDCL8oD"
      },
      "source": [
        "# \\*Seleccione esta celda y luego la opción `Run All Above`\\*\n",
        "\n",
        "# PARTE 1\n",
        "\n",
        "## Separación de Conjunto de Features\n",
        "\n",
        "Teniendo en cuenta los resultados de IV obtenidos anteriormente, comprobaremos la capacidad predictiva de tres conjuntos de datos basados en la tabla anterior. Primero removeremos los últimos cuatro ('phone', 'inctp', 'email', 'Car'), y luego realizaremos la siguiente división:\n",
        "\n",
        "- A. Primera mitad: 'agegp', 'famtp', 'worktmgp', 'Reality', 'Gender', 'edutp'\n",
        "- B. Segunda mitad: 'houtp', 'famsize', 'occyp', 'incgp', 'wkphone', 'ChldNo'\n",
        "- C. Todos los descriptores.\n",
        "\n",
        "De acuerdo a estos nombres, utilice la siguiente lista para identificar aquellos solicitados en cada caso:\n",
        "```\n",
        "    'Gender','Reality','ChldNo_1', 'ChldNo_2More', 'gp_inc_medium',  'gp_inc_high','wkphone',\n",
        "    'gp_Age_high', 'gp_Age_highest', 'gp_Age_low',\n",
        "    'gp_Age_lowest','gp_worktm_high', 'gp_worktm_highest',\n",
        "    'gp_worktm_low', 'gp_worktm_medium','occyp_hightecwk', \n",
        "    'occyp_officewk','famsizegp_1', 'famsizegp_3more',\n",
        "    'houtp_Co-op apartment', 'houtp_Municipal apartment',\n",
        "    'houtp_Office apartment', 'houtp_Rented apartment',\n",
        "    'houtp_With parents','edutp_Higher education',\n",
        "    'edutp_Incomplete higher', 'edutp_Lower secondary','famtp_Civil marriage',\n",
        "    'famtp_Separated','famtp_Single / not married','famtp_Widow'\n",
        "```\n",
        "### A. Top 6. se seleccionó 6 features del grupo A"
      ]
    },
    {
      "cell_type": "code",
      "metadata": {
        "colab": {
          "base_uri": "https://localhost:8080/",
          "height": 258
        },
        "id": "a5G8akn62JcD",
        "outputId": "8c17e412-bfb6-45f9-d3b8-e298516e13d6"
      },
      "source": [
        "\n",
        "X_train_subA = X_train[[ 'edutp_Lower secondary','edutp_Incomplete higher','edutp_Higher education','Gender','gp_Age_high','gp_Age_highest', 'gp_Age_low', 'gp_Age_lowest','famtp_Widow','famtp_Single / not married','famtp_Separated','famtp_Civil marriage','gp_worktm_high', 'gp_worktm_high','gp_worktm_low', 'gp_worktm_medium','Reality']]\n",
        "\n",
        "\n",
        "\n",
        "X_test_subA = X_test[[ 'edutp_Lower secondary','edutp_Incomplete higher','edutp_Higher education','Gender','gp_Age_high','gp_Age_highest', 'gp_Age_low', 'gp_Age_lowest','famtp_Widow','famtp_Single / not married','famtp_Separated','famtp_Civil marriage','gp_worktm_high', 'gp_worktm_high','gp_worktm_low', 'gp_worktm_medium','Reality']]\n",
        "\n",
        "X_train_subA.head()"
      ],
      "execution_count": 186,
      "outputs": [
        {
          "output_type": "execute_result",
          "data": {
            "text/html": [
              "<div>\n",
              "<style scoped>\n",
              "    .dataframe tbody tr th:only-of-type {\n",
              "        vertical-align: middle;\n",
              "    }\n",
              "\n",
              "    .dataframe tbody tr th {\n",
              "        vertical-align: top;\n",
              "    }\n",
              "\n",
              "    .dataframe thead th {\n",
              "        text-align: right;\n",
              "    }\n",
              "</style>\n",
              "<table border=\"1\" class=\"dataframe\">\n",
              "  <thead>\n",
              "    <tr style=\"text-align: right;\">\n",
              "      <th></th>\n",
              "      <th>edutp_Lower secondary</th>\n",
              "      <th>edutp_Incomplete higher</th>\n",
              "      <th>edutp_Higher education</th>\n",
              "      <th>Gender</th>\n",
              "      <th>gp_Age_high</th>\n",
              "      <th>gp_Age_highest</th>\n",
              "      <th>gp_Age_low</th>\n",
              "      <th>gp_Age_lowest</th>\n",
              "      <th>famtp_Widow</th>\n",
              "      <th>famtp_Single / not married</th>\n",
              "      <th>famtp_Separated</th>\n",
              "      <th>famtp_Civil marriage</th>\n",
              "      <th>gp_worktm_high</th>\n",
              "      <th>gp_worktm_high</th>\n",
              "      <th>gp_worktm_low</th>\n",
              "      <th>gp_worktm_medium</th>\n",
              "      <th>Reality</th>\n",
              "    </tr>\n",
              "  </thead>\n",
              "  <tbody>\n",
              "    <tr>\n",
              "      <th>32515</th>\n",
              "      <td>0.0</td>\n",
              "      <td>0.0</td>\n",
              "      <td>0.0</td>\n",
              "      <td>1.0</td>\n",
              "      <td>0.0</td>\n",
              "      <td>0.0</td>\n",
              "      <td>0.786358</td>\n",
              "      <td>0.000000</td>\n",
              "      <td>0.0</td>\n",
              "      <td>0.0</td>\n",
              "      <td>0.0</td>\n",
              "      <td>0.0</td>\n",
              "      <td>0.0</td>\n",
              "      <td>0.0</td>\n",
              "      <td>0.000000</td>\n",
              "      <td>0.213642</td>\n",
              "      <td>0.0</td>\n",
              "    </tr>\n",
              "    <tr>\n",
              "      <th>14471</th>\n",
              "      <td>0.0</td>\n",
              "      <td>0.0</td>\n",
              "      <td>0.0</td>\n",
              "      <td>0.0</td>\n",
              "      <td>0.0</td>\n",
              "      <td>0.0</td>\n",
              "      <td>1.000000</td>\n",
              "      <td>0.000000</td>\n",
              "      <td>0.0</td>\n",
              "      <td>0.0</td>\n",
              "      <td>1.0</td>\n",
              "      <td>0.0</td>\n",
              "      <td>0.0</td>\n",
              "      <td>0.0</td>\n",
              "      <td>0.000000</td>\n",
              "      <td>0.000000</td>\n",
              "      <td>0.0</td>\n",
              "    </tr>\n",
              "    <tr>\n",
              "      <th>16400</th>\n",
              "      <td>0.0</td>\n",
              "      <td>0.0</td>\n",
              "      <td>0.0</td>\n",
              "      <td>0.0</td>\n",
              "      <td>0.0</td>\n",
              "      <td>0.0</td>\n",
              "      <td>1.000000</td>\n",
              "      <td>0.000000</td>\n",
              "      <td>0.0</td>\n",
              "      <td>0.0</td>\n",
              "      <td>0.0</td>\n",
              "      <td>0.0</td>\n",
              "      <td>0.0</td>\n",
              "      <td>0.0</td>\n",
              "      <td>1.000000</td>\n",
              "      <td>0.000000</td>\n",
              "      <td>0.0</td>\n",
              "    </tr>\n",
              "    <tr>\n",
              "      <th>29956</th>\n",
              "      <td>0.0</td>\n",
              "      <td>0.0</td>\n",
              "      <td>0.0</td>\n",
              "      <td>0.0</td>\n",
              "      <td>0.0</td>\n",
              "      <td>0.0</td>\n",
              "      <td>1.000000</td>\n",
              "      <td>0.000000</td>\n",
              "      <td>0.0</td>\n",
              "      <td>0.0</td>\n",
              "      <td>0.0</td>\n",
              "      <td>0.0</td>\n",
              "      <td>0.0</td>\n",
              "      <td>0.0</td>\n",
              "      <td>0.000000</td>\n",
              "      <td>0.000000</td>\n",
              "      <td>1.0</td>\n",
              "    </tr>\n",
              "    <tr>\n",
              "      <th>39904</th>\n",
              "      <td>0.0</td>\n",
              "      <td>0.0</td>\n",
              "      <td>1.0</td>\n",
              "      <td>0.0</td>\n",
              "      <td>0.0</td>\n",
              "      <td>0.0</td>\n",
              "      <td>0.936987</td>\n",
              "      <td>0.063013</td>\n",
              "      <td>0.0</td>\n",
              "      <td>0.0</td>\n",
              "      <td>0.0</td>\n",
              "      <td>0.0</td>\n",
              "      <td>0.0</td>\n",
              "      <td>0.0</td>\n",
              "      <td>0.936987</td>\n",
              "      <td>0.000000</td>\n",
              "      <td>0.0</td>\n",
              "    </tr>\n",
              "  </tbody>\n",
              "</table>\n",
              "</div>"
            ],
            "text/plain": [
              "       edutp_Lower secondary  ...  Reality\n",
              "32515                    0.0  ...      0.0\n",
              "14471                    0.0  ...      0.0\n",
              "16400                    0.0  ...      0.0\n",
              "29956                    0.0  ...      1.0\n",
              "39904                    0.0  ...      0.0\n",
              "\n",
              "[5 rows x 17 columns]"
            ]
          },
          "metadata": {},
          "execution_count": 186
        }
      ]
    },
    {
      "cell_type": "markdown",
      "metadata": {
        "id": "4QIjDqc-L8oE"
      },
      "source": [
        "### B. Últimos 6"
      ]
    },
    {
      "cell_type": "code",
      "metadata": {
        "colab": {
          "base_uri": "https://localhost:8080/",
          "height": 221
        },
        "id": "u94Y6SjZL8oE",
        "scrolled": true,
        "outputId": "2c5fe0bd-35f3-49a2-8b48-4a35097f11d3"
      },
      "source": [
        "X_train_subB = X_train[['houtp_Co-op apartment','houtp_Municipal apartment','houtp_Office apartment', 'houtp_Rented apartment','houtp_With parents','famsizegp_1', 'famsizegp_3more','occyp_hightecwk', \n",
        "    'occyp_officewk','gp_inc_medium',  'gp_inc_high','wkphone','ChldNo_1', 'ChldNo_2More' ]]\n",
        "\n",
        "X_test_subB = X_test[['houtp_Co-op apartment','houtp_Municipal apartment','houtp_Office apartment', 'houtp_Rented apartment','houtp_With parents','famsizegp_1', 'famsizegp_3more','occyp_hightecwk', \n",
        "    'occyp_officewk', 'gp_inc_medium',  'gp_inc_high','wkphone','ChldNo_1', 'ChldNo_2More']]\n",
        "\n",
        "X_train_subB.head()"
      ],
      "execution_count": 187,
      "outputs": [
        {
          "output_type": "execute_result",
          "data": {
            "text/html": [
              "<div>\n",
              "<style scoped>\n",
              "    .dataframe tbody tr th:only-of-type {\n",
              "        vertical-align: middle;\n",
              "    }\n",
              "\n",
              "    .dataframe tbody tr th {\n",
              "        vertical-align: top;\n",
              "    }\n",
              "\n",
              "    .dataframe thead th {\n",
              "        text-align: right;\n",
              "    }\n",
              "</style>\n",
              "<table border=\"1\" class=\"dataframe\">\n",
              "  <thead>\n",
              "    <tr style=\"text-align: right;\">\n",
              "      <th></th>\n",
              "      <th>houtp_Co-op apartment</th>\n",
              "      <th>houtp_Municipal apartment</th>\n",
              "      <th>houtp_Office apartment</th>\n",
              "      <th>houtp_Rented apartment</th>\n",
              "      <th>houtp_With parents</th>\n",
              "      <th>famsizegp_1</th>\n",
              "      <th>famsizegp_3more</th>\n",
              "      <th>occyp_hightecwk</th>\n",
              "      <th>occyp_officewk</th>\n",
              "      <th>gp_inc_medium</th>\n",
              "      <th>gp_inc_high</th>\n",
              "      <th>wkphone</th>\n",
              "      <th>ChldNo_1</th>\n",
              "      <th>ChldNo_2More</th>\n",
              "    </tr>\n",
              "  </thead>\n",
              "  <tbody>\n",
              "    <tr>\n",
              "      <th>32515</th>\n",
              "      <td>0.0</td>\n",
              "      <td>1.0</td>\n",
              "      <td>0.0</td>\n",
              "      <td>0.000000</td>\n",
              "      <td>0.0</td>\n",
              "      <td>0.0</td>\n",
              "      <td>1.0</td>\n",
              "      <td>0.0</td>\n",
              "      <td>0.213642</td>\n",
              "      <td>0.786358</td>\n",
              "      <td>0.0</td>\n",
              "      <td>0.0</td>\n",
              "      <td>1.0</td>\n",
              "      <td>0.0</td>\n",
              "    </tr>\n",
              "    <tr>\n",
              "      <th>14471</th>\n",
              "      <td>0.0</td>\n",
              "      <td>0.0</td>\n",
              "      <td>0.0</td>\n",
              "      <td>0.000000</td>\n",
              "      <td>0.0</td>\n",
              "      <td>1.0</td>\n",
              "      <td>0.0</td>\n",
              "      <td>0.0</td>\n",
              "      <td>0.000000</td>\n",
              "      <td>0.000000</td>\n",
              "      <td>1.0</td>\n",
              "      <td>0.0</td>\n",
              "      <td>0.0</td>\n",
              "      <td>0.0</td>\n",
              "    </tr>\n",
              "    <tr>\n",
              "      <th>16400</th>\n",
              "      <td>0.0</td>\n",
              "      <td>0.0</td>\n",
              "      <td>0.0</td>\n",
              "      <td>0.000000</td>\n",
              "      <td>0.0</td>\n",
              "      <td>0.0</td>\n",
              "      <td>0.0</td>\n",
              "      <td>0.0</td>\n",
              "      <td>0.000000</td>\n",
              "      <td>0.000000</td>\n",
              "      <td>1.0</td>\n",
              "      <td>1.0</td>\n",
              "      <td>0.0</td>\n",
              "      <td>0.0</td>\n",
              "    </tr>\n",
              "    <tr>\n",
              "      <th>29956</th>\n",
              "      <td>0.0</td>\n",
              "      <td>0.0</td>\n",
              "      <td>0.0</td>\n",
              "      <td>0.000000</td>\n",
              "      <td>0.0</td>\n",
              "      <td>0.0</td>\n",
              "      <td>1.0</td>\n",
              "      <td>0.0</td>\n",
              "      <td>0.821401</td>\n",
              "      <td>0.000000</td>\n",
              "      <td>0.0</td>\n",
              "      <td>0.0</td>\n",
              "      <td>0.0</td>\n",
              "      <td>1.0</td>\n",
              "    </tr>\n",
              "    <tr>\n",
              "      <th>39904</th>\n",
              "      <td>0.0</td>\n",
              "      <td>0.0</td>\n",
              "      <td>0.0</td>\n",
              "      <td>0.063013</td>\n",
              "      <td>0.0</td>\n",
              "      <td>0.0</td>\n",
              "      <td>1.0</td>\n",
              "      <td>0.0</td>\n",
              "      <td>0.000000</td>\n",
              "      <td>1.000000</td>\n",
              "      <td>0.0</td>\n",
              "      <td>0.0</td>\n",
              "      <td>1.0</td>\n",
              "      <td>0.0</td>\n",
              "    </tr>\n",
              "  </tbody>\n",
              "</table>\n",
              "</div>"
            ],
            "text/plain": [
              "       houtp_Co-op apartment  houtp_Municipal apartment  ...  ChldNo_1  ChldNo_2More\n",
              "32515                    0.0                        1.0  ...       1.0           0.0\n",
              "14471                    0.0                        0.0  ...       0.0           0.0\n",
              "16400                    0.0                        0.0  ...       0.0           0.0\n",
              "29956                    0.0                        0.0  ...       0.0           1.0\n",
              "39904                    0.0                        0.0  ...       1.0           0.0\n",
              "\n",
              "[5 rows x 14 columns]"
            ]
          },
          "metadata": {},
          "execution_count": 187
        }
      ]
    },
    {
      "cell_type": "markdown",
      "metadata": {
        "id": "3cmWTZZ2L8oF"
      },
      "source": [
        "## Caso C\n",
        "\n",
        "Acá simplemente tomaremos, no es necesario crear nuevas variables:\n",
        "```\n",
        "X_train_subC = X_train\n",
        "X_test_subC = X_test\n",
        "```"
      ]
    },
    {
      "cell_type": "code",
      "metadata": {
        "id": "jpaE_yWeHn17"
      },
      "source": [
        "X_train_subC = X_train\n",
        "X_test_subC = X_test"
      ],
      "execution_count": 188,
      "outputs": []
    },
    {
      "cell_type": "markdown",
      "metadata": {
        "id": "zxrTp_ZvziQg"
      },
      "source": [
        "## Análisis y Conclusiones Parte 1\n",
        "\n",
        "\n",
        "\n",
        "\n",
        "1. Caso A: 'agegp', 'famtp', 'worktmgp', 'Reality', 'Gender', 'edutp'   \n",
        "\n",
        "*   'agegp'   IV =0.0659351\n",
        "*   'famtp'   IV = 0.04313 \n",
        "*   'worktmgp'IV = 0.04022\n",
        "*   'Reality' IV = 0.02744\n",
        "*   'Gender'  IV =0.0252035\n",
        "*   'edutp'   IV =0.01036 \n",
        "\n",
        "2.   Caso B:  'houtp', 'famsize', 'occyp', 'incgp', 'wkphone', 'ChldNo'\n",
        "\n",
        "\n",
        "*   'houtp'     IV = 0.00732\n",
        "*   'famsize'   IV = 0.00615 \n",
        "*   'occyp'     IV = 0.00482\n",
        "*   'incgp'     IV = 0.00242\n",
        "*   'wkphone'   IV = 0.00204\n",
        "*   'ChldNo'    IV = 0.00112\n",
        "\n",
        "\n",
        "El valor de IV (Information Value), es la técnica más utilizada para seleccionar variables en un modelo de predicción y ranquea las variables desde las básicas hasta las más importantes.\n",
        "\n",
        "IV esta definido por :Sumatoria(% de no enventos- % de no enventos )*WOE\n",
        "\n",
        "WOE= ln (%Distribución de 'Goods'/ % Distribución de 'Bads')\n",
        "\n",
        "Se cuenta con una tabla de indicación de IV si es una buena variable de predicción:\n",
        "\n",
        "\n",
        "\n",
        "*   Menos de 0.02, el predictor no es bueno para separar 'GOODS' vs 'BADS'\n",
        "*   0.02 a 0.1, débil predicción \n",
        "*   0.1 a 0.3 predictor medio\n",
        "*   0.3 a 0.5 fuerte predictor\n",
        "*  Mayor que 0.5, sospechoso volverlo a medir\n",
        "\n",
        "Observando los valores indicados, no hay valores IV por encima de 0.1. En el caso A todas las variables de predicción están posicionadas como variables de débil predicción (0.02 a 0.1). El caso A tienen los mejores resultados por ende se supone de antemano antes de ver el resultados del clasificador, se creé\n",
        "que va a dar una mejor respuesta, más confiabilidad, porque evidencia que estas variables son más importantes. Este problma de red neuronal es bancario y sin ser una experta en el tema se puede inferir que variables como: la edad, estado civil, género, tiempo de empleado, variables del caso A se consideran de más peso ya que tienen más poder adquisitivo. En caso contrario el caso B los valores IV se encunentran en menores a 0.02, por tanto estas variables no van a ser una predicción confiable.\n",
        "\n",
        "En el caso C, como se encuentran todas las variables, va a  ser el clasificador mas confiable, pero debemos anotar que una variable importante en casos de machine learning es la carga computacional, por tal motivo si hay muchos datos y la carga computacional es muy pesada es conveniente realizar el entrenamiento con las variables más importantes que se encuentran en el caso A.\n",
        "\n",
        "\n",
        "\n",
        "---\n",
        "\n",
        "\n"
      ]
    },
    {
      "cell_type": "markdown",
      "metadata": {
        "id": "gisCKxWoL8oF"
      },
      "source": [
        "# PARTE 2\n",
        "\n",
        "Implementación de pruebas en los conjuntos de descriptores. A continuación debe implementar, inicialmente tres modelos de regresión logística, y posteriormente tres redes neuronales (2 capas escondidas, 20 neuronas en cada una). Observe los resultados y analice lo sucedido. Concluya sobre qué modelo es deseable teniendo en cuenta la factibilidad de implementación práctica y la matriz de confusión correspondiente."
      ]
    },
    {
      "cell_type": "markdown",
      "metadata": {
        "id": "6iRNhE_4L8oF"
      },
      "source": [
        "## Regresión Logística\n",
        "\n",
        "Inicialmente se probará un modelo de regresión logística para tener una referencia (también se conoce como _baseline_) y comprobar que un modelo de red neuronal permite obtener mejores resultados.\n",
        "\n",
        "$$\\log ({p \\over {1 - p}}) = {\\beta _0} + {\\beta _1}{x_1} +  \\cdot  \\cdot  \\cdot  + {\\beta _q}{x_q}$$\n",
        "\n",
        "### Caso A"
      ]
    },
    {
      "cell_type": "code",
      "metadata": {
        "colab": {
          "base_uri": "https://localhost:8080/",
          "height": 515
        },
        "id": "Zkz03DeBL8oF",
        "scrolled": false,
        "outputId": "61677d10-45d0-41c1-9869-f7853b10f2a0"
      },
      "source": [
        "model = LogisticRegression(C=0.8,\n",
        "                           random_state=0,\n",
        "                           solver='lbfgs')\n",
        "model.fit(X_train_subA,y_train) # Ajuste el modelo con los datos del conjunto A # Con los datos de y_train, \n",
        "\n",
        "y_predict = model.predict(X_test_subA) # Realice la predicción de etiquetas con los datos de prueba del conjunto A #\n",
        "\n",
        "print(f'Precisión {round(accuracy_score(y_test, y_predict),5)}')\n",
        "print(pd.DataFrame(confusion_matrix(y_test,y_predict)))\n",
        "\n",
        "sns.set_style('white') \n",
        "class_names = ['0','1']\n",
        "plot_confusion_matrix(confusion_matrix(y_test,y_predict),\n",
        "                      classes= class_names, \n",
        "                      title='Matriz de Confusión Normalizada: Regresión Logística')"
      ],
      "execution_count": 189,
      "outputs": [
        {
          "output_type": "stream",
          "name": "stdout",
          "text": [
            "Precisión 0.59125\n",
            "      0     1\n",
            "0  3977  3437\n",
            "1  2624  4790\n",
            "[[3977 3437]\n",
            " [2624 4790]]\n"
          ]
        },
        {
          "output_type": "display_data",
          "data": {
            "text/plain": [
              "<Figure size 432x288 with 2 Axes>"
            ],
            "image/svg+xml": "<?xml version=\"1.0\" encoding=\"utf-8\" standalone=\"no\"?>\n<!DOCTYPE svg PUBLIC \"-//W3C//DTD SVG 1.1//EN\"\n  \"http://www.w3.org/Graphics/SVG/1.1/DTD/svg11.dtd\">\n<!-- Created with matplotlib (https://matplotlib.org/) -->\n<svg height=\"293.754375pt\" version=\"1.1\" viewBox=\"0 0 356.878812 293.754375\" width=\"356.878812pt\" xmlns=\"http://www.w3.org/2000/svg\" xmlns:xlink=\"http://www.w3.org/1999/xlink\">\n <defs>\n  <style type=\"text/css\">\n*{stroke-linecap:butt;stroke-linejoin:round;}\n  </style>\n </defs>\n <g id=\"figure_1\">\n  <g id=\"patch_1\">\n   <path d=\"M 0 293.754375 \nL 356.878812 293.754375 \nL 356.878812 0 \nL 0 0 \nz\n\" style=\"fill:#ffffff;\"/>\n  </g>\n  <g id=\"axes_1\">\n   <g id=\"patch_2\">\n    <path d=\"M 51.773437 256.198125 \nL 285.173437 256.198125 \nL 285.173437 22.798125 \nL 51.773437 22.798125 \nz\n\" style=\"fill:#ffffff;\"/>\n   </g>\n   <g clip-path=\"url(#p624e6b07ee)\">\n    <image height=\"234\" id=\"imagecd0a7032d7\" transform=\"scale(1 -1)translate(0 -234)\" width=\"234\" x=\"51.773437\" xlink:href=\"data:image/png;base64,\niVBORw0KGgoAAAANSUhEUgAAAOoAAADqCAYAAACslNlOAAAABHNCSVQICAgIfAhkiAAAAuNJREFUeJzt1TENAkEARFEOB7T4IPTYwMKpQRSWKCgWCddssvnkPQXT/Mz2+Y5x4q9cbvvqCUx2Xj0AOCZUCBAqBAgVAoQKAUKFAKFCgFAhQKgQIFQIECoECBUChAoBQoUAoUKAUCFAqBAgVAgQKgQIFQKECgFChQChQoBQIUCoECBUCBAqBAgVAoQKAUKFAKFCgFAhQKgQIFQIECoECBUChAoBQoUAoUKAUCFAqBAgVAgQKgQIFQKECgFChQChQoBQIUCoECBUCBAqBAgVAoQKAUKFAKFCgFAhQKgQIFQIECoECBUChAoBQoUAoUKAUCFAqBAgVAgQKgQIFQKECgFChQChQoBQIUCoECBUCBAqBAgVAoQKAUKFAKFCgFAhQKgQIFQIECoECBUChAoBQoUAoUKAUCFAqBAgVAgQKgQIFQKECgFChQChQoBQIUCoECBUCBAqBAgVAoQKAUKFAKFCgFAhQKgQIFQIECoECBUChAoBQoUAoUKAUCFAqBAgVAgQKgQIFQK2x+s9Vo9gruf9unoCk3lUCBAqBAgVAoQKAUKFAKFCgFAhQKgQIFQIECoECBUChAoBQoUAoUKAUCFAqBAgVAgQKgQIFQKECgFChQChQoBQIUCoECBUCBAqBAgVAoQKAUKFAKFCgFAhQKgQIFQIECoECBUChAoBQoUAoUKAUCFAqBAgVAgQKgQIFQKECgFChQChQoBQIUCoECBUCBAqBAgVAoQKAUKFAKFCgFAhQKgQIFQIECoECBUChAoBQoUAoUKAUCFAqBAgVAgQKgQIFQKECgFChQChQoBQIUCoECBUCBAqBAgVAoQKAUKFAKFCgFAhQKgQIFQIECoECBUChAoBQoUAoUKAUCFAqBAgVAgQKgQIFQKECgFChQChQoBQIUCoECBUCBAqBAgVAoQKAUKFAKFCgFAhQKgQIFQIECoECBUChAoBQoUAoUKAUCFAqBAgVAgQKgQIFQKECgE/aIcJuhVXwmgAAAAASUVORK5CYII=\" y=\"-22.198125\"/>\n   </g>\n   <g id=\"matplotlib.axis_1\">\n    <g id=\"xtick_1\">\n     <g id=\"text_1\">\n      <!-- 0 -->\n      <defs>\n       <path d=\"M 31.78125 66.40625 \nQ 24.171875 66.40625 20.328125 58.90625 \nQ 16.5 51.421875 16.5 36.375 \nQ 16.5 21.390625 20.328125 13.890625 \nQ 24.171875 6.390625 31.78125 6.390625 \nQ 39.453125 6.390625 43.28125 13.890625 \nQ 47.125 21.390625 47.125 36.375 \nQ 47.125 51.421875 43.28125 58.90625 \nQ 39.453125 66.40625 31.78125 66.40625 \nz\nM 31.78125 74.21875 \nQ 44.046875 74.21875 50.515625 64.515625 \nQ 56.984375 54.828125 56.984375 36.375 \nQ 56.984375 17.96875 50.515625 8.265625 \nQ 44.046875 -1.421875 31.78125 -1.421875 \nQ 19.53125 -1.421875 13.0625 8.265625 \nQ 6.59375 17.96875 6.59375 36.375 \nQ 6.59375 54.828125 13.0625 64.515625 \nQ 19.53125 74.21875 31.78125 74.21875 \nz\n\" id=\"DejaVuSans-48\"/>\n      </defs>\n      <g style=\"fill:#262626;\" transform=\"translate(106.942187 270.796562)scale(0.1 -0.1)\">\n       <use xlink:href=\"#DejaVuSans-48\"/>\n      </g>\n     </g>\n    </g>\n    <g id=\"xtick_2\">\n     <g id=\"text_2\">\n      <!-- 1 -->\n      <defs>\n       <path d=\"M 12.40625 8.296875 \nL 28.515625 8.296875 \nL 28.515625 63.921875 \nL 10.984375 60.40625 \nL 10.984375 69.390625 \nL 28.421875 72.90625 \nL 38.28125 72.90625 \nL 38.28125 8.296875 \nL 54.390625 8.296875 \nL 54.390625 0 \nL 12.40625 0 \nz\n\" id=\"DejaVuSans-49\"/>\n      </defs>\n      <g style=\"fill:#262626;\" transform=\"translate(223.642187 270.796562)scale(0.1 -0.1)\">\n       <use xlink:href=\"#DejaVuSans-49\"/>\n      </g>\n     </g>\n    </g>\n    <g id=\"text_3\">\n     <!-- Predicción -->\n     <defs>\n      <path d=\"M 19.671875 64.796875 \nL 19.671875 37.40625 \nL 32.078125 37.40625 \nQ 38.96875 37.40625 42.71875 40.96875 \nQ 46.484375 44.53125 46.484375 51.125 \nQ 46.484375 57.671875 42.71875 61.234375 \nQ 38.96875 64.796875 32.078125 64.796875 \nz\nM 9.8125 72.90625 \nL 32.078125 72.90625 \nQ 44.34375 72.90625 50.609375 67.359375 \nQ 56.890625 61.8125 56.890625 51.125 \nQ 56.890625 40.328125 50.609375 34.8125 \nQ 44.34375 29.296875 32.078125 29.296875 \nL 19.671875 29.296875 \nL 19.671875 0 \nL 9.8125 0 \nz\n\" id=\"DejaVuSans-80\"/>\n      <path d=\"M 41.109375 46.296875 \nQ 39.59375 47.171875 37.8125 47.578125 \nQ 36.03125 48 33.890625 48 \nQ 26.265625 48 22.1875 43.046875 \nQ 18.109375 38.09375 18.109375 28.8125 \nL 18.109375 0 \nL 9.078125 0 \nL 9.078125 54.6875 \nL 18.109375 54.6875 \nL 18.109375 46.1875 \nQ 20.953125 51.171875 25.484375 53.578125 \nQ 30.03125 56 36.53125 56 \nQ 37.453125 56 38.578125 55.875 \nQ 39.703125 55.765625 41.0625 55.515625 \nz\n\" id=\"DejaVuSans-114\"/>\n      <path d=\"M 56.203125 29.59375 \nL 56.203125 25.203125 \nL 14.890625 25.203125 \nQ 15.484375 15.921875 20.484375 11.0625 \nQ 25.484375 6.203125 34.421875 6.203125 \nQ 39.59375 6.203125 44.453125 7.46875 \nQ 49.3125 8.734375 54.109375 11.28125 \nL 54.109375 2.78125 \nQ 49.265625 0.734375 44.1875 -0.34375 \nQ 39.109375 -1.421875 33.890625 -1.421875 \nQ 20.796875 -1.421875 13.15625 6.1875 \nQ 5.515625 13.8125 5.515625 26.8125 \nQ 5.515625 40.234375 12.765625 48.109375 \nQ 20.015625 56 32.328125 56 \nQ 43.359375 56 49.78125 48.890625 \nQ 56.203125 41.796875 56.203125 29.59375 \nz\nM 47.21875 32.234375 \nQ 47.125 39.59375 43.09375 43.984375 \nQ 39.0625 48.390625 32.421875 48.390625 \nQ 24.90625 48.390625 20.390625 44.140625 \nQ 15.875 39.890625 15.1875 32.171875 \nz\n\" id=\"DejaVuSans-101\"/>\n      <path d=\"M 45.40625 46.390625 \nL 45.40625 75.984375 \nL 54.390625 75.984375 \nL 54.390625 0 \nL 45.40625 0 \nL 45.40625 8.203125 \nQ 42.578125 3.328125 38.25 0.953125 \nQ 33.9375 -1.421875 27.875 -1.421875 \nQ 17.96875 -1.421875 11.734375 6.484375 \nQ 5.515625 14.40625 5.515625 27.296875 \nQ 5.515625 40.1875 11.734375 48.09375 \nQ 17.96875 56 27.875 56 \nQ 33.9375 56 38.25 53.625 \nQ 42.578125 51.265625 45.40625 46.390625 \nz\nM 14.796875 27.296875 \nQ 14.796875 17.390625 18.875 11.75 \nQ 22.953125 6.109375 30.078125 6.109375 \nQ 37.203125 6.109375 41.296875 11.75 \nQ 45.40625 17.390625 45.40625 27.296875 \nQ 45.40625 37.203125 41.296875 42.84375 \nQ 37.203125 48.484375 30.078125 48.484375 \nQ 22.953125 48.484375 18.875 42.84375 \nQ 14.796875 37.203125 14.796875 27.296875 \nz\n\" id=\"DejaVuSans-100\"/>\n      <path d=\"M 9.421875 54.6875 \nL 18.40625 54.6875 \nL 18.40625 0 \nL 9.421875 0 \nz\nM 9.421875 75.984375 \nL 18.40625 75.984375 \nL 18.40625 64.59375 \nL 9.421875 64.59375 \nz\n\" id=\"DejaVuSans-105\"/>\n      <path d=\"M 48.78125 52.59375 \nL 48.78125 44.1875 \nQ 44.96875 46.296875 41.140625 47.34375 \nQ 37.3125 48.390625 33.40625 48.390625 \nQ 24.65625 48.390625 19.8125 42.84375 \nQ 14.984375 37.3125 14.984375 27.296875 \nQ 14.984375 17.28125 19.8125 11.734375 \nQ 24.65625 6.203125 33.40625 6.203125 \nQ 37.3125 6.203125 41.140625 7.25 \nQ 44.96875 8.296875 48.78125 10.40625 \nL 48.78125 2.09375 \nQ 45.015625 0.34375 40.984375 -0.53125 \nQ 36.96875 -1.421875 32.421875 -1.421875 \nQ 20.0625 -1.421875 12.78125 6.34375 \nQ 5.515625 14.109375 5.515625 27.296875 \nQ 5.515625 40.671875 12.859375 48.328125 \nQ 20.21875 56 33.015625 56 \nQ 37.15625 56 41.109375 55.140625 \nQ 45.0625 54.296875 48.78125 52.59375 \nz\n\" id=\"DejaVuSans-99\"/>\n      <path d=\"M 30.609375 48.390625 \nQ 23.390625 48.390625 19.1875 42.75 \nQ 14.984375 37.109375 14.984375 27.296875 \nQ 14.984375 17.484375 19.15625 11.84375 \nQ 23.34375 6.203125 30.609375 6.203125 \nQ 37.796875 6.203125 41.984375 11.859375 \nQ 46.1875 17.53125 46.1875 27.296875 \nQ 46.1875 37.015625 41.984375 42.703125 \nQ 37.796875 48.390625 30.609375 48.390625 \nz\nM 30.609375 56 \nQ 42.328125 56 49.015625 48.375 \nQ 55.71875 40.765625 55.71875 27.296875 \nQ 55.71875 13.875 49.015625 6.21875 \nQ 42.328125 -1.421875 30.609375 -1.421875 \nQ 18.84375 -1.421875 12.171875 6.21875 \nQ 5.515625 13.875 5.515625 27.296875 \nQ 5.515625 40.765625 12.171875 48.375 \nQ 18.84375 56 30.609375 56 \nz\nM 37.40625 79.984375 \nL 47.125 79.984375 \nL 31.21875 61.625 \nL 23.734375 61.625 \nz\n\" id=\"DejaVuSans-243\"/>\n      <path d=\"M 54.890625 33.015625 \nL 54.890625 0 \nL 45.90625 0 \nL 45.90625 32.71875 \nQ 45.90625 40.484375 42.875 44.328125 \nQ 39.84375 48.1875 33.796875 48.1875 \nQ 26.515625 48.1875 22.3125 43.546875 \nQ 18.109375 38.921875 18.109375 30.90625 \nL 18.109375 0 \nL 9.078125 0 \nL 9.078125 54.6875 \nL 18.109375 54.6875 \nL 18.109375 46.1875 \nQ 21.34375 51.125 25.703125 53.5625 \nQ 30.078125 56 35.796875 56 \nQ 45.21875 56 50.046875 50.171875 \nQ 54.890625 44.34375 54.890625 33.015625 \nz\n\" id=\"DejaVuSans-110\"/>\n     </defs>\n     <g style=\"fill:#262626;\" transform=\"translate(142.847656 284.474687)scale(0.1 -0.1)\">\n      <use xlink:href=\"#DejaVuSans-80\"/>\n      <use x=\"58.552734\" xlink:href=\"#DejaVuSans-114\"/>\n      <use x=\"97.416016\" xlink:href=\"#DejaVuSans-101\"/>\n      <use x=\"158.939453\" xlink:href=\"#DejaVuSans-100\"/>\n      <use x=\"222.416016\" xlink:href=\"#DejaVuSans-105\"/>\n      <use x=\"250.199219\" xlink:href=\"#DejaVuSans-99\"/>\n      <use x=\"305.179688\" xlink:href=\"#DejaVuSans-99\"/>\n      <use x=\"360.160156\" xlink:href=\"#DejaVuSans-105\"/>\n      <use x=\"387.943359\" xlink:href=\"#DejaVuSans-243\"/>\n      <use x=\"449.125\" xlink:href=\"#DejaVuSans-110\"/>\n     </g>\n    </g>\n   </g>\n   <g id=\"matplotlib.axis_2\">\n    <g id=\"ytick_1\">\n     <g id=\"text_4\">\n      <!-- 0 -->\n      <g style=\"fill:#262626;\" transform=\"translate(38.410937 84.947344)scale(0.1 -0.1)\">\n       <use xlink:href=\"#DejaVuSans-48\"/>\n      </g>\n     </g>\n    </g>\n    <g id=\"ytick_2\">\n     <g id=\"text_5\">\n      <!-- 1 -->\n      <g style=\"fill:#262626;\" transform=\"translate(38.410937 201.647344)scale(0.1 -0.1)\">\n       <use xlink:href=\"#DejaVuSans-49\"/>\n      </g>\n     </g>\n    </g>\n    <g id=\"text_6\">\n     <!-- Etiqueta -->\n     <defs>\n      <path d=\"M 9.8125 72.90625 \nL 55.90625 72.90625 \nL 55.90625 64.59375 \nL 19.671875 64.59375 \nL 19.671875 43.015625 \nL 54.390625 43.015625 \nL 54.390625 34.71875 \nL 19.671875 34.71875 \nL 19.671875 8.296875 \nL 56.78125 8.296875 \nL 56.78125 0 \nL 9.8125 0 \nz\n\" id=\"DejaVuSans-69\"/>\n      <path d=\"M 18.3125 70.21875 \nL 18.3125 54.6875 \nL 36.8125 54.6875 \nL 36.8125 47.703125 \nL 18.3125 47.703125 \nL 18.3125 18.015625 \nQ 18.3125 11.328125 20.140625 9.421875 \nQ 21.96875 7.515625 27.59375 7.515625 \nL 36.8125 7.515625 \nL 36.8125 0 \nL 27.59375 0 \nQ 17.1875 0 13.234375 3.875 \nQ 9.28125 7.765625 9.28125 18.015625 \nL 9.28125 47.703125 \nL 2.6875 47.703125 \nL 2.6875 54.6875 \nL 9.28125 54.6875 \nL 9.28125 70.21875 \nz\n\" id=\"DejaVuSans-116\"/>\n      <path d=\"M 14.796875 27.296875 \nQ 14.796875 17.390625 18.875 11.75 \nQ 22.953125 6.109375 30.078125 6.109375 \nQ 37.203125 6.109375 41.296875 11.75 \nQ 45.40625 17.390625 45.40625 27.296875 \nQ 45.40625 37.203125 41.296875 42.84375 \nQ 37.203125 48.484375 30.078125 48.484375 \nQ 22.953125 48.484375 18.875 42.84375 \nQ 14.796875 37.203125 14.796875 27.296875 \nz\nM 45.40625 8.203125 \nQ 42.578125 3.328125 38.25 0.953125 \nQ 33.9375 -1.421875 27.875 -1.421875 \nQ 17.96875 -1.421875 11.734375 6.484375 \nQ 5.515625 14.40625 5.515625 27.296875 \nQ 5.515625 40.1875 11.734375 48.09375 \nQ 17.96875 56 27.875 56 \nQ 33.9375 56 38.25 53.625 \nQ 42.578125 51.265625 45.40625 46.390625 \nL 45.40625 54.6875 \nL 54.390625 54.6875 \nL 54.390625 -20.796875 \nL 45.40625 -20.796875 \nz\n\" id=\"DejaVuSans-113\"/>\n      <path d=\"M 8.5 21.578125 \nL 8.5 54.6875 \nL 17.484375 54.6875 \nL 17.484375 21.921875 \nQ 17.484375 14.15625 20.5 10.265625 \nQ 23.53125 6.390625 29.59375 6.390625 \nQ 36.859375 6.390625 41.078125 11.03125 \nQ 45.3125 15.671875 45.3125 23.6875 \nL 45.3125 54.6875 \nL 54.296875 54.6875 \nL 54.296875 0 \nL 45.3125 0 \nL 45.3125 8.40625 \nQ 42.046875 3.421875 37.71875 1 \nQ 33.40625 -1.421875 27.6875 -1.421875 \nQ 18.265625 -1.421875 13.375 4.4375 \nQ 8.5 10.296875 8.5 21.578125 \nz\nM 31.109375 56 \nz\n\" id=\"DejaVuSans-117\"/>\n      <path d=\"M 34.28125 27.484375 \nQ 23.390625 27.484375 19.1875 25 \nQ 14.984375 22.515625 14.984375 16.5 \nQ 14.984375 11.71875 18.140625 8.90625 \nQ 21.296875 6.109375 26.703125 6.109375 \nQ 34.1875 6.109375 38.703125 11.40625 \nQ 43.21875 16.703125 43.21875 25.484375 \nL 43.21875 27.484375 \nz\nM 52.203125 31.203125 \nL 52.203125 0 \nL 43.21875 0 \nL 43.21875 8.296875 \nQ 40.140625 3.328125 35.546875 0.953125 \nQ 30.953125 -1.421875 24.3125 -1.421875 \nQ 15.921875 -1.421875 10.953125 3.296875 \nQ 6 8.015625 6 15.921875 \nQ 6 25.140625 12.171875 29.828125 \nQ 18.359375 34.515625 30.609375 34.515625 \nL 43.21875 34.515625 \nL 43.21875 35.40625 \nQ 43.21875 41.609375 39.140625 45 \nQ 35.0625 48.390625 27.6875 48.390625 \nQ 23 48.390625 18.546875 47.265625 \nQ 14.109375 46.140625 10.015625 43.890625 \nL 10.015625 52.203125 \nQ 14.9375 54.109375 19.578125 55.046875 \nQ 24.21875 56 28.609375 56 \nQ 40.484375 56 46.34375 49.84375 \nQ 52.203125 43.703125 52.203125 31.203125 \nz\n\" id=\"DejaVuSans-97\"/>\n     </defs>\n     <g style=\"fill:#262626;\" transform=\"translate(32.33125 160.450469)rotate(-90)scale(0.1 -0.1)\">\n      <use xlink:href=\"#DejaVuSans-69\"/>\n      <use x=\"63.183594\" xlink:href=\"#DejaVuSans-116\"/>\n      <use x=\"102.392578\" xlink:href=\"#DejaVuSans-105\"/>\n      <use x=\"130.175781\" xlink:href=\"#DejaVuSans-113\"/>\n      <use x=\"193.652344\" xlink:href=\"#DejaVuSans-117\"/>\n      <use x=\"257.03125\" xlink:href=\"#DejaVuSans-101\"/>\n      <use x=\"318.554688\" xlink:href=\"#DejaVuSans-116\"/>\n      <use x=\"357.763672\" xlink:href=\"#DejaVuSans-97\"/>\n     </g>\n    </g>\n   </g>\n   <g id=\"patch_3\">\n    <path d=\"M 51.773437 256.198125 \nL 51.773437 22.798125 \n\" style=\"fill:none;stroke:#262626;stroke-linecap:square;stroke-linejoin:miter;stroke-width:0.8;\"/>\n   </g>\n   <g id=\"patch_4\">\n    <path d=\"M 285.173437 256.198125 \nL 285.173437 22.798125 \n\" style=\"fill:none;stroke:#262626;stroke-linecap:square;stroke-linejoin:miter;stroke-width:0.8;\"/>\n   </g>\n   <g id=\"patch_5\">\n    <path d=\"M 51.773437 256.198125 \nL 285.173437 256.198125 \n\" style=\"fill:none;stroke:#262626;stroke-linecap:square;stroke-linejoin:miter;stroke-width:0.8;\"/>\n   </g>\n   <g id=\"patch_6\">\n    <path d=\"M 51.773437 22.798125 \nL 285.173437 22.798125 \n\" style=\"fill:none;stroke:#262626;stroke-linecap:square;stroke-linejoin:miter;stroke-width:0.8;\"/>\n   </g>\n   <g id=\"text_7\">\n    <!-- 3977 -->\n    <defs>\n     <path d=\"M 40.578125 39.3125 \nQ 47.65625 37.796875 51.625 33 \nQ 55.609375 28.21875 55.609375 21.1875 \nQ 55.609375 10.40625 48.1875 4.484375 \nQ 40.765625 -1.421875 27.09375 -1.421875 \nQ 22.515625 -1.421875 17.65625 -0.515625 \nQ 12.796875 0.390625 7.625 2.203125 \nL 7.625 11.71875 \nQ 11.71875 9.328125 16.59375 8.109375 \nQ 21.484375 6.890625 26.8125 6.890625 \nQ 36.078125 6.890625 40.9375 10.546875 \nQ 45.796875 14.203125 45.796875 21.1875 \nQ 45.796875 27.640625 41.28125 31.265625 \nQ 36.765625 34.90625 28.71875 34.90625 \nL 20.21875 34.90625 \nL 20.21875 43.015625 \nL 29.109375 43.015625 \nQ 36.375 43.015625 40.234375 45.921875 \nQ 44.09375 48.828125 44.09375 54.296875 \nQ 44.09375 59.90625 40.109375 62.90625 \nQ 36.140625 65.921875 28.71875 65.921875 \nQ 24.65625 65.921875 20.015625 65.03125 \nQ 15.375 64.15625 9.8125 62.3125 \nL 9.8125 71.09375 \nQ 15.4375 72.65625 20.34375 73.4375 \nQ 25.25 74.21875 29.59375 74.21875 \nQ 40.828125 74.21875 47.359375 69.109375 \nQ 53.90625 64.015625 53.90625 55.328125 \nQ 53.90625 49.265625 50.4375 45.09375 \nQ 46.96875 40.921875 40.578125 39.3125 \nz\n\" id=\"DejaVuSans-51\"/>\n     <path d=\"M 10.984375 1.515625 \nL 10.984375 10.5 \nQ 14.703125 8.734375 18.5 7.8125 \nQ 22.3125 6.890625 25.984375 6.890625 \nQ 35.75 6.890625 40.890625 13.453125 \nQ 46.046875 20.015625 46.78125 33.40625 \nQ 43.953125 29.203125 39.59375 26.953125 \nQ 35.25 24.703125 29.984375 24.703125 \nQ 19.046875 24.703125 12.671875 31.3125 \nQ 6.296875 37.9375 6.296875 49.421875 \nQ 6.296875 60.640625 12.9375 67.421875 \nQ 19.578125 74.21875 30.609375 74.21875 \nQ 43.265625 74.21875 49.921875 64.515625 \nQ 56.59375 54.828125 56.59375 36.375 \nQ 56.59375 19.140625 48.40625 8.859375 \nQ 40.234375 -1.421875 26.421875 -1.421875 \nQ 22.703125 -1.421875 18.890625 -0.6875 \nQ 15.09375 0.046875 10.984375 1.515625 \nz\nM 30.609375 32.421875 \nQ 37.25 32.421875 41.125 36.953125 \nQ 45.015625 41.5 45.015625 49.421875 \nQ 45.015625 57.28125 41.125 61.84375 \nQ 37.25 66.40625 30.609375 66.40625 \nQ 23.96875 66.40625 20.09375 61.84375 \nQ 16.21875 57.28125 16.21875 49.421875 \nQ 16.21875 41.5 20.09375 36.953125 \nQ 23.96875 32.421875 30.609375 32.421875 \nz\n\" id=\"DejaVuSans-57\"/>\n     <path d=\"M 8.203125 72.90625 \nL 55.078125 72.90625 \nL 55.078125 68.703125 \nL 28.609375 0 \nL 18.3125 0 \nL 43.21875 64.59375 \nL 8.203125 64.59375 \nz\n\" id=\"DejaVuSans-55\"/>\n    </defs>\n    <g style=\"fill:#ffffff;\" transform=\"translate(97.398437 81.148125)scale(0.1 -0.1)\">\n     <use xlink:href=\"#DejaVuSans-51\"/>\n     <use x=\"63.623047\" xlink:href=\"#DejaVuSans-57\"/>\n     <use x=\"127.246094\" xlink:href=\"#DejaVuSans-55\"/>\n     <use x=\"190.869141\" xlink:href=\"#DejaVuSans-55\"/>\n    </g>\n   </g>\n   <g id=\"text_8\">\n    <!-- 3437 -->\n    <defs>\n     <path d=\"M 37.796875 64.3125 \nL 12.890625 25.390625 \nL 37.796875 25.390625 \nz\nM 35.203125 72.90625 \nL 47.609375 72.90625 \nL 47.609375 25.390625 \nL 58.015625 25.390625 \nL 58.015625 17.1875 \nL 47.609375 17.1875 \nL 47.609375 0 \nL 37.796875 0 \nL 37.796875 17.1875 \nL 4.890625 17.1875 \nL 4.890625 26.703125 \nz\n\" id=\"DejaVuSans-52\"/>\n    </defs>\n    <g style=\"fill:#ffffff;\" transform=\"translate(214.098437 81.148125)scale(0.1 -0.1)\">\n     <use xlink:href=\"#DejaVuSans-51\"/>\n     <use x=\"63.623047\" xlink:href=\"#DejaVuSans-52\"/>\n     <use x=\"127.246094\" xlink:href=\"#DejaVuSans-51\"/>\n     <use x=\"190.869141\" xlink:href=\"#DejaVuSans-55\"/>\n    </g>\n   </g>\n   <g id=\"text_9\">\n    <!-- 2624 -->\n    <defs>\n     <path d=\"M 19.1875 8.296875 \nL 53.609375 8.296875 \nL 53.609375 0 \nL 7.328125 0 \nL 7.328125 8.296875 \nQ 12.9375 14.109375 22.625 23.890625 \nQ 32.328125 33.6875 34.8125 36.53125 \nQ 39.546875 41.84375 41.421875 45.53125 \nQ 43.3125 49.21875 43.3125 52.78125 \nQ 43.3125 58.59375 39.234375 62.25 \nQ 35.15625 65.921875 28.609375 65.921875 \nQ 23.96875 65.921875 18.8125 64.3125 \nQ 13.671875 62.703125 7.8125 59.421875 \nL 7.8125 69.390625 \nQ 13.765625 71.78125 18.9375 73 \nQ 24.125 74.21875 28.421875 74.21875 \nQ 39.75 74.21875 46.484375 68.546875 \nQ 53.21875 62.890625 53.21875 53.421875 \nQ 53.21875 48.921875 51.53125 44.890625 \nQ 49.859375 40.875 45.40625 35.40625 \nQ 44.1875 33.984375 37.640625 27.21875 \nQ 31.109375 20.453125 19.1875 8.296875 \nz\n\" id=\"DejaVuSans-50\"/>\n     <path d=\"M 33.015625 40.375 \nQ 26.375 40.375 22.484375 35.828125 \nQ 18.609375 31.296875 18.609375 23.390625 \nQ 18.609375 15.53125 22.484375 10.953125 \nQ 26.375 6.390625 33.015625 6.390625 \nQ 39.65625 6.390625 43.53125 10.953125 \nQ 47.40625 15.53125 47.40625 23.390625 \nQ 47.40625 31.296875 43.53125 35.828125 \nQ 39.65625 40.375 33.015625 40.375 \nz\nM 52.59375 71.296875 \nL 52.59375 62.3125 \nQ 48.875 64.0625 45.09375 64.984375 \nQ 41.3125 65.921875 37.59375 65.921875 \nQ 27.828125 65.921875 22.671875 59.328125 \nQ 17.53125 52.734375 16.796875 39.40625 \nQ 19.671875 43.65625 24.015625 45.921875 \nQ 28.375 48.1875 33.59375 48.1875 \nQ 44.578125 48.1875 50.953125 41.515625 \nQ 57.328125 34.859375 57.328125 23.390625 \nQ 57.328125 12.15625 50.6875 5.359375 \nQ 44.046875 -1.421875 33.015625 -1.421875 \nQ 20.359375 -1.421875 13.671875 8.265625 \nQ 6.984375 17.96875 6.984375 36.375 \nQ 6.984375 53.65625 15.1875 63.9375 \nQ 23.390625 74.21875 37.203125 74.21875 \nQ 40.921875 74.21875 44.703125 73.484375 \nQ 48.484375 72.75 52.59375 71.296875 \nz\n\" id=\"DejaVuSans-54\"/>\n    </defs>\n    <g style=\"fill:#ffffff;\" transform=\"translate(97.398437 197.848125)scale(0.1 -0.1)\">\n     <use xlink:href=\"#DejaVuSans-50\"/>\n     <use x=\"63.623047\" xlink:href=\"#DejaVuSans-54\"/>\n     <use x=\"127.246094\" xlink:href=\"#DejaVuSans-50\"/>\n     <use x=\"190.869141\" xlink:href=\"#DejaVuSans-52\"/>\n    </g>\n   </g>\n   <g id=\"text_10\">\n    <!-- 4790 -->\n    <g style=\"fill:#ffffff;\" transform=\"translate(214.098437 197.848125)scale(0.1 -0.1)\">\n     <use xlink:href=\"#DejaVuSans-52\"/>\n     <use x=\"63.623047\" xlink:href=\"#DejaVuSans-55\"/>\n     <use x=\"127.246094\" xlink:href=\"#DejaVuSans-57\"/>\n     <use x=\"190.869141\" xlink:href=\"#DejaVuSans-48\"/>\n    </g>\n   </g>\n   <g id=\"text_11\">\n    <!-- Matriz de Confusión Normalizada: Regresión Logística -->\n    <defs>\n     <path d=\"M 9.8125 72.90625 \nL 24.515625 72.90625 \nL 43.109375 23.296875 \nL 61.8125 72.90625 \nL 76.515625 72.90625 \nL 76.515625 0 \nL 66.890625 0 \nL 66.890625 64.015625 \nL 48.09375 14.015625 \nL 38.1875 14.015625 \nL 19.390625 64.015625 \nL 19.390625 0 \nL 9.8125 0 \nz\n\" id=\"DejaVuSans-77\"/>\n     <path d=\"M 5.515625 54.6875 \nL 48.1875 54.6875 \nL 48.1875 46.484375 \nL 14.40625 7.171875 \nL 48.1875 7.171875 \nL 48.1875 0 \nL 4.296875 0 \nL 4.296875 8.203125 \nL 38.09375 47.515625 \nL 5.515625 47.515625 \nz\n\" id=\"DejaVuSans-122\"/>\n     <path id=\"DejaVuSans-32\"/>\n     <path d=\"M 64.40625 67.28125 \nL 64.40625 56.890625 \nQ 59.421875 61.53125 53.78125 63.8125 \nQ 48.140625 66.109375 41.796875 66.109375 \nQ 29.296875 66.109375 22.65625 58.46875 \nQ 16.015625 50.828125 16.015625 36.375 \nQ 16.015625 21.96875 22.65625 14.328125 \nQ 29.296875 6.6875 41.796875 6.6875 \nQ 48.140625 6.6875 53.78125 8.984375 \nQ 59.421875 11.28125 64.40625 15.921875 \nL 64.40625 5.609375 \nQ 59.234375 2.09375 53.4375 0.328125 \nQ 47.65625 -1.421875 41.21875 -1.421875 \nQ 24.65625 -1.421875 15.125 8.703125 \nQ 5.609375 18.84375 5.609375 36.375 \nQ 5.609375 53.953125 15.125 64.078125 \nQ 24.65625 74.21875 41.21875 74.21875 \nQ 47.75 74.21875 53.53125 72.484375 \nQ 59.328125 70.75 64.40625 67.28125 \nz\n\" id=\"DejaVuSans-67\"/>\n     <path d=\"M 30.609375 48.390625 \nQ 23.390625 48.390625 19.1875 42.75 \nQ 14.984375 37.109375 14.984375 27.296875 \nQ 14.984375 17.484375 19.15625 11.84375 \nQ 23.34375 6.203125 30.609375 6.203125 \nQ 37.796875 6.203125 41.984375 11.859375 \nQ 46.1875 17.53125 46.1875 27.296875 \nQ 46.1875 37.015625 41.984375 42.703125 \nQ 37.796875 48.390625 30.609375 48.390625 \nz\nM 30.609375 56 \nQ 42.328125 56 49.015625 48.375 \nQ 55.71875 40.765625 55.71875 27.296875 \nQ 55.71875 13.875 49.015625 6.21875 \nQ 42.328125 -1.421875 30.609375 -1.421875 \nQ 18.84375 -1.421875 12.171875 6.21875 \nQ 5.515625 13.875 5.515625 27.296875 \nQ 5.515625 40.765625 12.171875 48.375 \nQ 18.84375 56 30.609375 56 \nz\n\" id=\"DejaVuSans-111\"/>\n     <path d=\"M 37.109375 75.984375 \nL 37.109375 68.5 \nL 28.515625 68.5 \nQ 23.6875 68.5 21.796875 66.546875 \nQ 19.921875 64.59375 19.921875 59.515625 \nL 19.921875 54.6875 \nL 34.71875 54.6875 \nL 34.71875 47.703125 \nL 19.921875 47.703125 \nL 19.921875 0 \nL 10.890625 0 \nL 10.890625 47.703125 \nL 2.296875 47.703125 \nL 2.296875 54.6875 \nL 10.890625 54.6875 \nL 10.890625 58.5 \nQ 10.890625 67.625 15.140625 71.796875 \nQ 19.390625 75.984375 28.609375 75.984375 \nz\n\" id=\"DejaVuSans-102\"/>\n     <path d=\"M 44.28125 53.078125 \nL 44.28125 44.578125 \nQ 40.484375 46.53125 36.375 47.5 \nQ 32.28125 48.484375 27.875 48.484375 \nQ 21.1875 48.484375 17.84375 46.4375 \nQ 14.5 44.390625 14.5 40.28125 \nQ 14.5 37.15625 16.890625 35.375 \nQ 19.28125 33.59375 26.515625 31.984375 \nL 29.59375 31.296875 \nQ 39.15625 29.25 43.1875 25.515625 \nQ 47.21875 21.78125 47.21875 15.09375 \nQ 47.21875 7.46875 41.1875 3.015625 \nQ 35.15625 -1.421875 24.609375 -1.421875 \nQ 20.21875 -1.421875 15.453125 -0.5625 \nQ 10.6875 0.296875 5.421875 2 \nL 5.421875 11.28125 \nQ 10.40625 8.6875 15.234375 7.390625 \nQ 20.0625 6.109375 24.8125 6.109375 \nQ 31.15625 6.109375 34.5625 8.28125 \nQ 37.984375 10.453125 37.984375 14.40625 \nQ 37.984375 18.0625 35.515625 20.015625 \nQ 33.0625 21.96875 24.703125 23.78125 \nL 21.578125 24.515625 \nQ 13.234375 26.265625 9.515625 29.90625 \nQ 5.8125 33.546875 5.8125 39.890625 \nQ 5.8125 47.609375 11.28125 51.796875 \nQ 16.75 56 26.8125 56 \nQ 31.78125 56 36.171875 55.265625 \nQ 40.578125 54.546875 44.28125 53.078125 \nz\n\" id=\"DejaVuSans-115\"/>\n     <path d=\"M 9.8125 72.90625 \nL 23.09375 72.90625 \nL 55.421875 11.921875 \nL 55.421875 72.90625 \nL 64.984375 72.90625 \nL 64.984375 0 \nL 51.703125 0 \nL 19.390625 60.984375 \nL 19.390625 0 \nL 9.8125 0 \nz\n\" id=\"DejaVuSans-78\"/>\n     <path d=\"M 52 44.1875 \nQ 55.375 50.25 60.0625 53.125 \nQ 64.75 56 71.09375 56 \nQ 79.640625 56 84.28125 50.015625 \nQ 88.921875 44.046875 88.921875 33.015625 \nL 88.921875 0 \nL 79.890625 0 \nL 79.890625 32.71875 \nQ 79.890625 40.578125 77.09375 44.375 \nQ 74.3125 48.1875 68.609375 48.1875 \nQ 61.625 48.1875 57.5625 43.546875 \nQ 53.515625 38.921875 53.515625 30.90625 \nL 53.515625 0 \nL 44.484375 0 \nL 44.484375 32.71875 \nQ 44.484375 40.625 41.703125 44.40625 \nQ 38.921875 48.1875 33.109375 48.1875 \nQ 26.21875 48.1875 22.15625 43.53125 \nQ 18.109375 38.875 18.109375 30.90625 \nL 18.109375 0 \nL 9.078125 0 \nL 9.078125 54.6875 \nL 18.109375 54.6875 \nL 18.109375 46.1875 \nQ 21.1875 51.21875 25.484375 53.609375 \nQ 29.78125 56 35.6875 56 \nQ 41.65625 56 45.828125 52.96875 \nQ 50 49.953125 52 44.1875 \nz\n\" id=\"DejaVuSans-109\"/>\n     <path d=\"M 9.421875 75.984375 \nL 18.40625 75.984375 \nL 18.40625 0 \nL 9.421875 0 \nz\n\" id=\"DejaVuSans-108\"/>\n     <path d=\"M 11.71875 12.40625 \nL 22.015625 12.40625 \nL 22.015625 0 \nL 11.71875 0 \nz\nM 11.71875 51.703125 \nL 22.015625 51.703125 \nL 22.015625 39.3125 \nL 11.71875 39.3125 \nz\n\" id=\"DejaVuSans-58\"/>\n     <path d=\"M 44.390625 34.1875 \nQ 47.5625 33.109375 50.5625 29.59375 \nQ 53.5625 26.078125 56.59375 19.921875 \nL 66.609375 0 \nL 56 0 \nL 46.6875 18.703125 \nQ 43.0625 26.03125 39.671875 28.421875 \nQ 36.28125 30.8125 30.421875 30.8125 \nL 19.671875 30.8125 \nL 19.671875 0 \nL 9.8125 0 \nL 9.8125 72.90625 \nL 32.078125 72.90625 \nQ 44.578125 72.90625 50.734375 67.671875 \nQ 56.890625 62.453125 56.890625 51.90625 \nQ 56.890625 45.015625 53.6875 40.46875 \nQ 50.484375 35.9375 44.390625 34.1875 \nz\nM 19.671875 64.796875 \nL 19.671875 38.921875 \nL 32.078125 38.921875 \nQ 39.203125 38.921875 42.84375 42.21875 \nQ 46.484375 45.515625 46.484375 51.90625 \nQ 46.484375 58.296875 42.84375 61.546875 \nQ 39.203125 64.796875 32.078125 64.796875 \nz\n\" id=\"DejaVuSans-82\"/>\n     <path d=\"M 45.40625 27.984375 \nQ 45.40625 37.75 41.375 43.109375 \nQ 37.359375 48.484375 30.078125 48.484375 \nQ 22.859375 48.484375 18.828125 43.109375 \nQ 14.796875 37.75 14.796875 27.984375 \nQ 14.796875 18.265625 18.828125 12.890625 \nQ 22.859375 7.515625 30.078125 7.515625 \nQ 37.359375 7.515625 41.375 12.890625 \nQ 45.40625 18.265625 45.40625 27.984375 \nz\nM 54.390625 6.78125 \nQ 54.390625 -7.171875 48.1875 -13.984375 \nQ 42 -20.796875 29.203125 -20.796875 \nQ 24.46875 -20.796875 20.265625 -20.09375 \nQ 16.0625 -19.390625 12.109375 -17.921875 \nL 12.109375 -9.1875 \nQ 16.0625 -11.328125 19.921875 -12.34375 \nQ 23.78125 -13.375 27.78125 -13.375 \nQ 36.625 -13.375 41.015625 -8.765625 \nQ 45.40625 -4.15625 45.40625 5.171875 \nL 45.40625 9.625 \nQ 42.625 4.78125 38.28125 2.390625 \nQ 33.9375 0 27.875 0 \nQ 17.828125 0 11.671875 7.65625 \nQ 5.515625 15.328125 5.515625 27.984375 \nQ 5.515625 40.671875 11.671875 48.328125 \nQ 17.828125 56 27.875 56 \nQ 33.9375 56 38.28125 53.609375 \nQ 42.625 51.21875 45.40625 46.390625 \nL 45.40625 54.6875 \nL 54.390625 54.6875 \nz\n\" id=\"DejaVuSans-103\"/>\n     <path d=\"M 9.8125 72.90625 \nL 19.671875 72.90625 \nL 19.671875 8.296875 \nL 55.171875 8.296875 \nL 55.171875 0 \nL 9.8125 0 \nz\n\" id=\"DejaVuSans-76\"/>\n     <path d=\"M 20.65625 79.984375 \nL 30.375 79.984375 \nL 14.46875 61.625 \nL 6.984375 61.625 \nz\nM 9.421875 54.6875 \nL 18.40625 54.6875 \nL 18.40625 0 \nL 9.421875 0 \nz\nM 13.921875 56 \nz\n\" id=\"DejaVuSans-237\"/>\n    </defs>\n    <g style=\"fill:#262626;\" transform=\"translate(7.2 16.798125)scale(0.12 -0.12)\">\n     <use xlink:href=\"#DejaVuSans-77\"/>\n     <use x=\"86.279297\" xlink:href=\"#DejaVuSans-97\"/>\n     <use x=\"147.558594\" xlink:href=\"#DejaVuSans-116\"/>\n     <use x=\"186.767578\" xlink:href=\"#DejaVuSans-114\"/>\n     <use x=\"227.880859\" xlink:href=\"#DejaVuSans-105\"/>\n     <use x=\"255.664062\" xlink:href=\"#DejaVuSans-122\"/>\n     <use x=\"308.154297\" xlink:href=\"#DejaVuSans-32\"/>\n     <use x=\"339.941406\" xlink:href=\"#DejaVuSans-100\"/>\n     <use x=\"403.417969\" xlink:href=\"#DejaVuSans-101\"/>\n     <use x=\"464.941406\" xlink:href=\"#DejaVuSans-32\"/>\n     <use x=\"496.728516\" xlink:href=\"#DejaVuSans-67\"/>\n     <use x=\"566.552734\" xlink:href=\"#DejaVuSans-111\"/>\n     <use x=\"627.734375\" xlink:href=\"#DejaVuSans-110\"/>\n     <use x=\"691.113281\" xlink:href=\"#DejaVuSans-102\"/>\n     <use x=\"726.318359\" xlink:href=\"#DejaVuSans-117\"/>\n     <use x=\"789.697266\" xlink:href=\"#DejaVuSans-115\"/>\n     <use x=\"841.796875\" xlink:href=\"#DejaVuSans-105\"/>\n     <use x=\"869.580078\" xlink:href=\"#DejaVuSans-243\"/>\n     <use x=\"930.761719\" xlink:href=\"#DejaVuSans-110\"/>\n     <use x=\"994.140625\" xlink:href=\"#DejaVuSans-32\"/>\n     <use x=\"1025.927734\" xlink:href=\"#DejaVuSans-78\"/>\n     <use x=\"1100.732422\" xlink:href=\"#DejaVuSans-111\"/>\n     <use x=\"1161.914062\" xlink:href=\"#DejaVuSans-114\"/>\n     <use x=\"1201.277344\" xlink:href=\"#DejaVuSans-109\"/>\n     <use x=\"1298.689453\" xlink:href=\"#DejaVuSans-97\"/>\n     <use x=\"1359.96875\" xlink:href=\"#DejaVuSans-108\"/>\n     <use x=\"1387.751953\" xlink:href=\"#DejaVuSans-105\"/>\n     <use x=\"1415.535156\" xlink:href=\"#DejaVuSans-122\"/>\n     <use x=\"1468.025391\" xlink:href=\"#DejaVuSans-97\"/>\n     <use x=\"1529.304688\" xlink:href=\"#DejaVuSans-100\"/>\n     <use x=\"1592.78125\" xlink:href=\"#DejaVuSans-97\"/>\n     <use x=\"1654.060547\" xlink:href=\"#DejaVuSans-58\"/>\n     <use x=\"1687.751953\" xlink:href=\"#DejaVuSans-32\"/>\n     <use x=\"1719.539062\" xlink:href=\"#DejaVuSans-82\"/>\n     <use x=\"1784.521484\" xlink:href=\"#DejaVuSans-101\"/>\n     <use x=\"1846.044922\" xlink:href=\"#DejaVuSans-103\"/>\n     <use x=\"1909.521484\" xlink:href=\"#DejaVuSans-114\"/>\n     <use x=\"1948.384766\" xlink:href=\"#DejaVuSans-101\"/>\n     <use x=\"2009.908203\" xlink:href=\"#DejaVuSans-115\"/>\n     <use x=\"2062.007812\" xlink:href=\"#DejaVuSans-105\"/>\n     <use x=\"2089.791016\" xlink:href=\"#DejaVuSans-243\"/>\n     <use x=\"2150.972656\" xlink:href=\"#DejaVuSans-110\"/>\n     <use x=\"2214.351562\" xlink:href=\"#DejaVuSans-32\"/>\n     <use x=\"2246.138672\" xlink:href=\"#DejaVuSans-76\"/>\n     <use x=\"2300.101562\" xlink:href=\"#DejaVuSans-111\"/>\n     <use x=\"2361.283203\" xlink:href=\"#DejaVuSans-103\"/>\n     <use x=\"2424.759766\" xlink:href=\"#DejaVuSans-237\"/>\n     <use x=\"2452.542969\" xlink:href=\"#DejaVuSans-115\"/>\n     <use x=\"2504.642578\" xlink:href=\"#DejaVuSans-116\"/>\n     <use x=\"2543.851562\" xlink:href=\"#DejaVuSans-105\"/>\n     <use x=\"2571.634766\" xlink:href=\"#DejaVuSans-99\"/>\n     <use x=\"2626.615234\" xlink:href=\"#DejaVuSans-97\"/>\n    </g>\n   </g>\n  </g>\n  <g id=\"axes_2\">\n   <g id=\"patch_7\">\n    <path clip-path=\"url(#p61ea4593bb)\" d=\"M 305.558812 256.198125 \nL 305.558812 255.286406 \nL 305.558812 23.709844 \nL 305.558812 22.798125 \nL 317.228813 22.798125 \nL 317.228813 23.709844 \nL 317.228813 255.286406 \nL 317.228813 256.198125 \nz\n\" style=\"fill:#ffffff;stroke:#ffffff;stroke-linejoin:miter;stroke-width:0.01;\"/>\n   </g>\n   <g id=\"matplotlib.axis_3\"/>\n   <g id=\"matplotlib.axis_4\">\n    <g id=\"ytick_3\">\n     <g id=\"line2d_1\">\n      <defs>\n       <path d=\"M 0 0 \nL 3.5 0 \n\" id=\"m2dc3804e14\" style=\"stroke:#262626;stroke-width:0.8;\"/>\n      </defs>\n      <g>\n       <use style=\"fill:#262626;stroke:#262626;stroke-width:0.8;\" x=\"317.228813\" xlink:href=\"#m2dc3804e14\" y=\"242.62084\"/>\n      </g>\n     </g>\n     <g id=\"text_12\">\n      <!-- 2750 -->\n      <defs>\n       <path d=\"M 10.796875 72.90625 \nL 49.515625 72.90625 \nL 49.515625 64.59375 \nL 19.828125 64.59375 \nL 19.828125 46.734375 \nQ 21.96875 47.46875 24.109375 47.828125 \nQ 26.265625 48.1875 28.421875 48.1875 \nQ 40.625 48.1875 47.75 41.5 \nQ 54.890625 34.8125 54.890625 23.390625 \nQ 54.890625 11.625 47.5625 5.09375 \nQ 40.234375 -1.421875 26.90625 -1.421875 \nQ 22.3125 -1.421875 17.546875 -0.640625 \nQ 12.796875 0.140625 7.71875 1.703125 \nL 7.71875 11.625 \nQ 12.109375 9.234375 16.796875 8.0625 \nQ 21.484375 6.890625 26.703125 6.890625 \nQ 35.15625 6.890625 40.078125 11.328125 \nQ 45.015625 15.765625 45.015625 23.390625 \nQ 45.015625 31 40.078125 35.4375 \nQ 35.15625 39.890625 26.703125 39.890625 \nQ 22.75 39.890625 18.8125 39.015625 \nQ 14.890625 38.140625 10.796875 36.28125 \nz\n\" id=\"DejaVuSans-53\"/>\n      </defs>\n      <g style=\"fill:#262626;\" transform=\"translate(324.228813 246.420058)scale(0.1 -0.1)\">\n       <use xlink:href=\"#DejaVuSans-50\"/>\n       <use x=\"63.623047\" xlink:href=\"#DejaVuSans-55\"/>\n       <use x=\"127.246094\" xlink:href=\"#DejaVuSans-53\"/>\n       <use x=\"190.869141\" xlink:href=\"#DejaVuSans-48\"/>\n      </g>\n     </g>\n    </g>\n    <g id=\"ytick_4\">\n     <g id=\"line2d_2\">\n      <g>\n       <use style=\"fill:#262626;stroke:#262626;stroke-width:0.8;\" x=\"317.228813\" xlink:href=\"#m2dc3804e14\" y=\"215.681782\"/>\n      </g>\n     </g>\n     <g id=\"text_13\">\n      <!-- 3000 -->\n      <g style=\"fill:#262626;\" transform=\"translate(324.228813 219.481)scale(0.1 -0.1)\">\n       <use xlink:href=\"#DejaVuSans-51\"/>\n       <use x=\"63.623047\" xlink:href=\"#DejaVuSans-48\"/>\n       <use x=\"127.246094\" xlink:href=\"#DejaVuSans-48\"/>\n       <use x=\"190.869141\" xlink:href=\"#DejaVuSans-48\"/>\n      </g>\n     </g>\n    </g>\n    <g id=\"ytick_5\">\n     <g id=\"line2d_3\">\n      <g>\n       <use style=\"fill:#262626;stroke:#262626;stroke-width:0.8;\" x=\"317.228813\" xlink:href=\"#m2dc3804e14\" y=\"188.742723\"/>\n      </g>\n     </g>\n     <g id=\"text_14\">\n      <!-- 3250 -->\n      <g style=\"fill:#262626;\" transform=\"translate(324.228813 192.541942)scale(0.1 -0.1)\">\n       <use xlink:href=\"#DejaVuSans-51\"/>\n       <use x=\"63.623047\" xlink:href=\"#DejaVuSans-50\"/>\n       <use x=\"127.246094\" xlink:href=\"#DejaVuSans-53\"/>\n       <use x=\"190.869141\" xlink:href=\"#DejaVuSans-48\"/>\n      </g>\n     </g>\n    </g>\n    <g id=\"ytick_6\">\n     <g id=\"line2d_4\">\n      <g>\n       <use style=\"fill:#262626;stroke:#262626;stroke-width:0.8;\" x=\"317.228813\" xlink:href=\"#m2dc3804e14\" y=\"161.803665\"/>\n      </g>\n     </g>\n     <g id=\"text_15\">\n      <!-- 3500 -->\n      <g style=\"fill:#262626;\" transform=\"translate(324.228813 165.602884)scale(0.1 -0.1)\">\n       <use xlink:href=\"#DejaVuSans-51\"/>\n       <use x=\"63.623047\" xlink:href=\"#DejaVuSans-53\"/>\n       <use x=\"127.246094\" xlink:href=\"#DejaVuSans-48\"/>\n       <use x=\"190.869141\" xlink:href=\"#DejaVuSans-48\"/>\n      </g>\n     </g>\n    </g>\n    <g id=\"ytick_7\">\n     <g id=\"line2d_5\">\n      <g>\n       <use style=\"fill:#262626;stroke:#262626;stroke-width:0.8;\" x=\"317.228813\" xlink:href=\"#m2dc3804e14\" y=\"134.864607\"/>\n      </g>\n     </g>\n     <g id=\"text_16\">\n      <!-- 3750 -->\n      <g style=\"fill:#262626;\" transform=\"translate(324.228813 138.663826)scale(0.1 -0.1)\">\n       <use xlink:href=\"#DejaVuSans-51\"/>\n       <use x=\"63.623047\" xlink:href=\"#DejaVuSans-55\"/>\n       <use x=\"127.246094\" xlink:href=\"#DejaVuSans-53\"/>\n       <use x=\"190.869141\" xlink:href=\"#DejaVuSans-48\"/>\n      </g>\n     </g>\n    </g>\n    <g id=\"ytick_8\">\n     <g id=\"line2d_6\">\n      <g>\n       <use style=\"fill:#262626;stroke:#262626;stroke-width:0.8;\" x=\"317.228813\" xlink:href=\"#m2dc3804e14\" y=\"107.925549\"/>\n      </g>\n     </g>\n     <g id=\"text_17\">\n      <!-- 4000 -->\n      <g style=\"fill:#262626;\" transform=\"translate(324.228813 111.724768)scale(0.1 -0.1)\">\n       <use xlink:href=\"#DejaVuSans-52\"/>\n       <use x=\"63.623047\" xlink:href=\"#DejaVuSans-48\"/>\n       <use x=\"127.246094\" xlink:href=\"#DejaVuSans-48\"/>\n       <use x=\"190.869141\" xlink:href=\"#DejaVuSans-48\"/>\n      </g>\n     </g>\n    </g>\n    <g id=\"ytick_9\">\n     <g id=\"line2d_7\">\n      <g>\n       <use style=\"fill:#262626;stroke:#262626;stroke-width:0.8;\" x=\"317.228813\" xlink:href=\"#m2dc3804e14\" y=\"80.986491\"/>\n      </g>\n     </g>\n     <g id=\"text_18\">\n      <!-- 4250 -->\n      <g style=\"fill:#262626;\" transform=\"translate(324.228813 84.785709)scale(0.1 -0.1)\">\n       <use xlink:href=\"#DejaVuSans-52\"/>\n       <use x=\"63.623047\" xlink:href=\"#DejaVuSans-50\"/>\n       <use x=\"127.246094\" xlink:href=\"#DejaVuSans-53\"/>\n       <use x=\"190.869141\" xlink:href=\"#DejaVuSans-48\"/>\n      </g>\n     </g>\n    </g>\n    <g id=\"ytick_10\">\n     <g id=\"line2d_8\">\n      <g>\n       <use style=\"fill:#262626;stroke:#262626;stroke-width:0.8;\" x=\"317.228813\" xlink:href=\"#m2dc3804e14\" y=\"54.047432\"/>\n      </g>\n     </g>\n     <g id=\"text_19\">\n      <!-- 4500 -->\n      <g style=\"fill:#262626;\" transform=\"translate(324.228813 57.846651)scale(0.1 -0.1)\">\n       <use xlink:href=\"#DejaVuSans-52\"/>\n       <use x=\"63.623047\" xlink:href=\"#DejaVuSans-53\"/>\n       <use x=\"127.246094\" xlink:href=\"#DejaVuSans-48\"/>\n       <use x=\"190.869141\" xlink:href=\"#DejaVuSans-48\"/>\n      </g>\n     </g>\n    </g>\n    <g id=\"ytick_11\">\n     <g id=\"line2d_9\">\n      <g>\n       <use style=\"fill:#262626;stroke:#262626;stroke-width:0.8;\" x=\"317.228813\" xlink:href=\"#m2dc3804e14\" y=\"27.108374\"/>\n      </g>\n     </g>\n     <g id=\"text_20\">\n      <!-- 4750 -->\n      <g style=\"fill:#262626;\" transform=\"translate(324.228813 30.907593)scale(0.1 -0.1)\">\n       <use xlink:href=\"#DejaVuSans-52\"/>\n       <use x=\"63.623047\" xlink:href=\"#DejaVuSans-55\"/>\n       <use x=\"127.246094\" xlink:href=\"#DejaVuSans-53\"/>\n       <use x=\"190.869141\" xlink:href=\"#DejaVuSans-48\"/>\n      </g>\n     </g>\n    </g>\n   </g>\n   <image height=\"233\" id=\"imaged78a829158\" transform=\"scale(1 -1)translate(0 -233)\" width=\"11\" x=\"306\" xlink:href=\"data:image/png;base64,\niVBORw0KGgoAAAANSUhEUgAAAAsAAADpCAYAAADyIM2vAAAABHNCSVQICAgIfAhkiAAAARdJREFUaIHtmEEKwzAMBNXi/z+3h0LiHpOjpzCwCs55WSZaSXby+nznrMVnzFrW1gDaGkBbY524akygNjFI6Yjze10aw0zrHIEB+zmCGTmXxnxqpUtZMpv5Jt5x38UdmeEJa2F0LF0Ks3btORteqLyNFMLMQkHOGdWIYSZiEsohjhXpOs3Zq7O5kVCCwFkcWBS3dtB7MxiyGA/AQZmBWDwHO3Zdy4EFYrbMQzDWjenKJTMo3p+9Rlo3NntDPOi9uNcpzOlOaaSUJYOY+/VzSChi3GzlRjBv57+de8YdggGcYZ0955DSaX9cxUbSxGKCu86XOOUFM+J+fp0bJlhMvP7l3dRZwziPCIzHO5NJEXuDxd2wztv5en48n/5RooIUWgAAAABJRU5ErkJggg==\" y=\"-22\"/>\n   <g id=\"patch_8\">\n    <path d=\"M 305.558812 256.198125 \nL 305.558812 255.286406 \nL 305.558812 23.709844 \nL 305.558812 22.798125 \nL 317.228813 22.798125 \nL 317.228813 23.709844 \nL 317.228813 255.286406 \nL 317.228813 256.198125 \nz\n\" style=\"fill:none;stroke:#262626;stroke-linejoin:miter;stroke-width:0.8;\"/>\n   </g>\n  </g>\n </g>\n <defs>\n  <clipPath id=\"p624e6b07ee\">\n   <rect height=\"233.4\" width=\"233.4\" x=\"51.773437\" y=\"22.798125\"/>\n  </clipPath>\n  <clipPath id=\"p61ea4593bb\">\n   <rect height=\"233.4\" width=\"11.67\" x=\"305.558812\" y=\"22.798125\"/>\n  </clipPath>\n </defs>\n</svg>\n"
          },
          "metadata": {}
        }
      ]
    },
    {
      "cell_type": "code",
      "metadata": {
        "colab": {
          "base_uri": "https://localhost:8080/"
        },
        "id": "8dPZ8nxUN6ML",
        "outputId": "35c78618-cc62-4828-bc55-c5c3b7aa9c1f"
      },
      "source": [
        "y_test.size"
      ],
      "execution_count": 190,
      "outputs": [
        {
          "output_type": "execute_result",
          "data": {
            "text/plain": [
              "14828"
            ]
          },
          "metadata": {},
          "execution_count": 190
        }
      ]
    },
    {
      "cell_type": "markdown",
      "metadata": {
        "id": "m_p3vugvU3Mk"
      },
      "source": [
        "## Análisis modelo Caso A.\n",
        "\n",
        "El la evaluación del clasificador baseline l Caso A, arrojó los siguientes resultados:\n",
        "\n",
        "\n",
        "\n",
        "*   El total de datos de Prueba: 14828.\n",
        "*   La precisión es de 0.591\n",
        "*   Matriz de confusión:\n",
        "        1.   TN(True negative)=3864\n",
        "        2.   TP(True positive)=4908 \n",
        "        3.   FP(False Positive)= 3550   (Datos en clase 1, pero son clase cero)\n",
        "        4.   FN(False Negative)= 2506  (Datos en clase cero, pero son clase uno)\n",
        "\n",
        "Podemos inferir de la matriz de confusión que 3864 (TN)+ 4908(TP)= 8772 datos bien clasificados.Los datos que nos debería preocupar son FP=3550 y FN= 2506 que da un total de FP+FN= 3550 +  2506= 6056 datos mal clasificados que corresponden a 40.84165 % de los datos los datos totales.\n",
        "También lo corrobora el dato de precisión  0.591, que es la fracción de todas instancias donde la predicción del clasificador es correcta, para cualquier positiva o negativa clase.\n",
        "En conclusión no es un buen resultado y el banco puede generar pérdidas supongo que en los datos mal clasificados le puede dar un préstamo a un usuario que a futuro no lo va a poder pagar. \n",
        "\n",
        "\n",
        "\n",
        "  \n",
        "\n",
        "\n",
        "\n"
      ]
    },
    {
      "cell_type": "markdown",
      "metadata": {
        "id": "HyEfQKw9L8oF"
      },
      "source": [
        "## Caso B"
      ]
    },
    {
      "cell_type": "code",
      "metadata": {
        "colab": {
          "base_uri": "https://localhost:8080/",
          "height": 515
        },
        "id": "AJ7BfHFlL8oG",
        "scrolled": false,
        "outputId": "c099e672-e310-45b7-fd8d-b3b175a2dca7"
      },
      "source": [
        "model = LogisticRegression(C=0.8,\n",
        "                           random_state=0,\n",
        "                           solver='lbfgs')\n",
        "model.fit(X_train_subB,y_train) # Ajuste el modelo con los datos del conjunto B #\n",
        "y_predict = model.predict( X_test_subB ) # Realice la predicción de etiquetas con los datos de prueba del conjunto B #\n",
        "\n",
        "print(f'Precisión {round(accuracy_score(y_test, y_predict),5)}')\n",
        "print(pd.DataFrame(confusion_matrix(y_test,y_predict)))\n",
        "\n",
        "sns.set_style('white') \n",
        "class_names = ['0','1']\n",
        "plot_confusion_matrix(confusion_matrix(y_test,y_predict),\n",
        "                      classes= class_names, \n",
        "                      title='Matriz de Confusión Normalizada: Regresión Logística')\n"
      ],
      "execution_count": 193,
      "outputs": [
        {
          "output_type": "stream",
          "name": "stdout",
          "text": [
            "Precisión 0.52644\n",
            "      0     1\n",
            "0  3945  3469\n",
            "1  3553  3861\n",
            "[[3945 3469]\n",
            " [3553 3861]]\n"
          ]
        },
        {
          "output_type": "display_data",
          "data": {
            "text/plain": [
              "<Figure size 432x288 with 2 Axes>"
            ],
            "image/svg+xml": "<?xml version=\"1.0\" encoding=\"utf-8\" standalone=\"no\"?>\n<!DOCTYPE svg PUBLIC \"-//W3C//DTD SVG 1.1//EN\"\n  \"http://www.w3.org/Graphics/SVG/1.1/DTD/svg11.dtd\">\n<!-- Created with matplotlib (https://matplotlib.org/) -->\n<svg height=\"293.754375pt\" version=\"1.1\" viewBox=\"0 0 356.878812 293.754375\" width=\"356.878812pt\" xmlns=\"http://www.w3.org/2000/svg\" xmlns:xlink=\"http://www.w3.org/1999/xlink\">\n <defs>\n  <style type=\"text/css\">\n*{stroke-linecap:butt;stroke-linejoin:round;}\n  </style>\n </defs>\n <g id=\"figure_1\">\n  <g id=\"patch_1\">\n   <path d=\"M 0 293.754375 \nL 356.878812 293.754375 \nL 356.878812 0 \nL 0 0 \nz\n\" style=\"fill:#ffffff;\"/>\n  </g>\n  <g id=\"axes_1\">\n   <g id=\"patch_2\">\n    <path d=\"M 51.773437 256.198125 \nL 285.173437 256.198125 \nL 285.173437 22.798125 \nL 51.773437 22.798125 \nz\n\" style=\"fill:#ffffff;\"/>\n   </g>\n   <g clip-path=\"url(#pc495b865b6)\">\n    <image height=\"234\" id=\"image2ce04cd74c\" transform=\"scale(1 -1)translate(0 -234)\" width=\"234\" x=\"51.773437\" xlink:href=\"data:image/png;base64,\niVBORw0KGgoAAAANSUhEUgAAAOoAAADqCAYAAACslNlOAAAABHNCSVQICAgIfAhkiAAAAuZJREFUeJzt1TENwlAARVHKhBwUYAgH1YGTymBFAjsDAloJLD/5ueQcBW+5ecvr/d1P/JXbus2ewGDn2QOA34QKAUKFAKFCgFAhQKgQIFQIECoECBUChAoBQoUAoUKAUCFAqBAgVAgQKgQIFQKECgFChQChQoBQIUCoECBUCBAqBAgVAoQKAUKFAKFCgFAhQKgQIFQIECoECBUChAoBQoUAoUKAUCFAqBAgVAgQKgQIFQKECgFChQChQoBQIUCoECBUCBAqBAgVAoQKAUKFAKFCgFAhQKgQIFQIECoECBUChAoBQoUAoUKAUCFAqBAgVAgQKgQIFQKECgFChQChQoBQIUCoECBUCBAqBAgVAoQKAUKFAKFCgFAhQKgQIFQIECoECBUChAoBQoUAoUKAUCFAqBAgVAgQKgQIFQKECgFChQChQoBQIUCoECBUCBAqBAgVAoQKAUKFAKFCgFAhQKgQIFQIECoECBUChAoBQoUAoUKAUCFAqBAgVAgQKgQIFQKECgFChQChQsByud732SMY6/N8zJ7AYB4VAoQKAUKFAKFCgFAhQKgQIFQIECoECBUChAoBQoUAoUKAUCFAqBAgVAgQKgQIFQKECgFChQChQoBQIUCoECBUCBAqBAgVAoQKAUKFAKFCgFAhQKgQIFQIECoECBUChAoBQoUAoUKAUCFAqBAgVAgQKgQIFQKECgFChQChQoBQIUCoECBUCBAqBAgVAoQKAUKFAKFCgFAhQKgQIFQIECoECBUChAoBQoUAoUKAUCFAqBAgVAgQKgQIFQKECgFChQChQoBQIUCoECBUCBAqBAgVAoQKAUKFAKFCgFAhQKgQIFQIECoECBUChAoBQoUAoUKAUCFAqBAgVAgQKgQIFQKECgFChQChQoBQIUCoECBUCBAqBAgVAoQKAUKFAKFCgFAhQKgQIFQIECoECBUChAoBQoUAoUKAUCFAqBAgVAgQKgQIFQKECgFChQChQsABCpsK2LsP1YoAAAAASUVORK5CYII=\" y=\"-22.198125\"/>\n   </g>\n   <g id=\"matplotlib.axis_1\">\n    <g id=\"xtick_1\">\n     <g id=\"text_1\">\n      <!-- 0 -->\n      <defs>\n       <path d=\"M 31.78125 66.40625 \nQ 24.171875 66.40625 20.328125 58.90625 \nQ 16.5 51.421875 16.5 36.375 \nQ 16.5 21.390625 20.328125 13.890625 \nQ 24.171875 6.390625 31.78125 6.390625 \nQ 39.453125 6.390625 43.28125 13.890625 \nQ 47.125 21.390625 47.125 36.375 \nQ 47.125 51.421875 43.28125 58.90625 \nQ 39.453125 66.40625 31.78125 66.40625 \nz\nM 31.78125 74.21875 \nQ 44.046875 74.21875 50.515625 64.515625 \nQ 56.984375 54.828125 56.984375 36.375 \nQ 56.984375 17.96875 50.515625 8.265625 \nQ 44.046875 -1.421875 31.78125 -1.421875 \nQ 19.53125 -1.421875 13.0625 8.265625 \nQ 6.59375 17.96875 6.59375 36.375 \nQ 6.59375 54.828125 13.0625 64.515625 \nQ 19.53125 74.21875 31.78125 74.21875 \nz\n\" id=\"DejaVuSans-48\"/>\n      </defs>\n      <g style=\"fill:#262626;\" transform=\"translate(106.942187 270.796562)scale(0.1 -0.1)\">\n       <use xlink:href=\"#DejaVuSans-48\"/>\n      </g>\n     </g>\n    </g>\n    <g id=\"xtick_2\">\n     <g id=\"text_2\">\n      <!-- 1 -->\n      <defs>\n       <path d=\"M 12.40625 8.296875 \nL 28.515625 8.296875 \nL 28.515625 63.921875 \nL 10.984375 60.40625 \nL 10.984375 69.390625 \nL 28.421875 72.90625 \nL 38.28125 72.90625 \nL 38.28125 8.296875 \nL 54.390625 8.296875 \nL 54.390625 0 \nL 12.40625 0 \nz\n\" id=\"DejaVuSans-49\"/>\n      </defs>\n      <g style=\"fill:#262626;\" transform=\"translate(223.642187 270.796562)scale(0.1 -0.1)\">\n       <use xlink:href=\"#DejaVuSans-49\"/>\n      </g>\n     </g>\n    </g>\n    <g id=\"text_3\">\n     <!-- Predicción -->\n     <defs>\n      <path d=\"M 19.671875 64.796875 \nL 19.671875 37.40625 \nL 32.078125 37.40625 \nQ 38.96875 37.40625 42.71875 40.96875 \nQ 46.484375 44.53125 46.484375 51.125 \nQ 46.484375 57.671875 42.71875 61.234375 \nQ 38.96875 64.796875 32.078125 64.796875 \nz\nM 9.8125 72.90625 \nL 32.078125 72.90625 \nQ 44.34375 72.90625 50.609375 67.359375 \nQ 56.890625 61.8125 56.890625 51.125 \nQ 56.890625 40.328125 50.609375 34.8125 \nQ 44.34375 29.296875 32.078125 29.296875 \nL 19.671875 29.296875 \nL 19.671875 0 \nL 9.8125 0 \nz\n\" id=\"DejaVuSans-80\"/>\n      <path d=\"M 41.109375 46.296875 \nQ 39.59375 47.171875 37.8125 47.578125 \nQ 36.03125 48 33.890625 48 \nQ 26.265625 48 22.1875 43.046875 \nQ 18.109375 38.09375 18.109375 28.8125 \nL 18.109375 0 \nL 9.078125 0 \nL 9.078125 54.6875 \nL 18.109375 54.6875 \nL 18.109375 46.1875 \nQ 20.953125 51.171875 25.484375 53.578125 \nQ 30.03125 56 36.53125 56 \nQ 37.453125 56 38.578125 55.875 \nQ 39.703125 55.765625 41.0625 55.515625 \nz\n\" id=\"DejaVuSans-114\"/>\n      <path d=\"M 56.203125 29.59375 \nL 56.203125 25.203125 \nL 14.890625 25.203125 \nQ 15.484375 15.921875 20.484375 11.0625 \nQ 25.484375 6.203125 34.421875 6.203125 \nQ 39.59375 6.203125 44.453125 7.46875 \nQ 49.3125 8.734375 54.109375 11.28125 \nL 54.109375 2.78125 \nQ 49.265625 0.734375 44.1875 -0.34375 \nQ 39.109375 -1.421875 33.890625 -1.421875 \nQ 20.796875 -1.421875 13.15625 6.1875 \nQ 5.515625 13.8125 5.515625 26.8125 \nQ 5.515625 40.234375 12.765625 48.109375 \nQ 20.015625 56 32.328125 56 \nQ 43.359375 56 49.78125 48.890625 \nQ 56.203125 41.796875 56.203125 29.59375 \nz\nM 47.21875 32.234375 \nQ 47.125 39.59375 43.09375 43.984375 \nQ 39.0625 48.390625 32.421875 48.390625 \nQ 24.90625 48.390625 20.390625 44.140625 \nQ 15.875 39.890625 15.1875 32.171875 \nz\n\" id=\"DejaVuSans-101\"/>\n      <path d=\"M 45.40625 46.390625 \nL 45.40625 75.984375 \nL 54.390625 75.984375 \nL 54.390625 0 \nL 45.40625 0 \nL 45.40625 8.203125 \nQ 42.578125 3.328125 38.25 0.953125 \nQ 33.9375 -1.421875 27.875 -1.421875 \nQ 17.96875 -1.421875 11.734375 6.484375 \nQ 5.515625 14.40625 5.515625 27.296875 \nQ 5.515625 40.1875 11.734375 48.09375 \nQ 17.96875 56 27.875 56 \nQ 33.9375 56 38.25 53.625 \nQ 42.578125 51.265625 45.40625 46.390625 \nz\nM 14.796875 27.296875 \nQ 14.796875 17.390625 18.875 11.75 \nQ 22.953125 6.109375 30.078125 6.109375 \nQ 37.203125 6.109375 41.296875 11.75 \nQ 45.40625 17.390625 45.40625 27.296875 \nQ 45.40625 37.203125 41.296875 42.84375 \nQ 37.203125 48.484375 30.078125 48.484375 \nQ 22.953125 48.484375 18.875 42.84375 \nQ 14.796875 37.203125 14.796875 27.296875 \nz\n\" id=\"DejaVuSans-100\"/>\n      <path d=\"M 9.421875 54.6875 \nL 18.40625 54.6875 \nL 18.40625 0 \nL 9.421875 0 \nz\nM 9.421875 75.984375 \nL 18.40625 75.984375 \nL 18.40625 64.59375 \nL 9.421875 64.59375 \nz\n\" id=\"DejaVuSans-105\"/>\n      <path d=\"M 48.78125 52.59375 \nL 48.78125 44.1875 \nQ 44.96875 46.296875 41.140625 47.34375 \nQ 37.3125 48.390625 33.40625 48.390625 \nQ 24.65625 48.390625 19.8125 42.84375 \nQ 14.984375 37.3125 14.984375 27.296875 \nQ 14.984375 17.28125 19.8125 11.734375 \nQ 24.65625 6.203125 33.40625 6.203125 \nQ 37.3125 6.203125 41.140625 7.25 \nQ 44.96875 8.296875 48.78125 10.40625 \nL 48.78125 2.09375 \nQ 45.015625 0.34375 40.984375 -0.53125 \nQ 36.96875 -1.421875 32.421875 -1.421875 \nQ 20.0625 -1.421875 12.78125 6.34375 \nQ 5.515625 14.109375 5.515625 27.296875 \nQ 5.515625 40.671875 12.859375 48.328125 \nQ 20.21875 56 33.015625 56 \nQ 37.15625 56 41.109375 55.140625 \nQ 45.0625 54.296875 48.78125 52.59375 \nz\n\" id=\"DejaVuSans-99\"/>\n      <path d=\"M 30.609375 48.390625 \nQ 23.390625 48.390625 19.1875 42.75 \nQ 14.984375 37.109375 14.984375 27.296875 \nQ 14.984375 17.484375 19.15625 11.84375 \nQ 23.34375 6.203125 30.609375 6.203125 \nQ 37.796875 6.203125 41.984375 11.859375 \nQ 46.1875 17.53125 46.1875 27.296875 \nQ 46.1875 37.015625 41.984375 42.703125 \nQ 37.796875 48.390625 30.609375 48.390625 \nz\nM 30.609375 56 \nQ 42.328125 56 49.015625 48.375 \nQ 55.71875 40.765625 55.71875 27.296875 \nQ 55.71875 13.875 49.015625 6.21875 \nQ 42.328125 -1.421875 30.609375 -1.421875 \nQ 18.84375 -1.421875 12.171875 6.21875 \nQ 5.515625 13.875 5.515625 27.296875 \nQ 5.515625 40.765625 12.171875 48.375 \nQ 18.84375 56 30.609375 56 \nz\nM 37.40625 79.984375 \nL 47.125 79.984375 \nL 31.21875 61.625 \nL 23.734375 61.625 \nz\n\" id=\"DejaVuSans-243\"/>\n      <path d=\"M 54.890625 33.015625 \nL 54.890625 0 \nL 45.90625 0 \nL 45.90625 32.71875 \nQ 45.90625 40.484375 42.875 44.328125 \nQ 39.84375 48.1875 33.796875 48.1875 \nQ 26.515625 48.1875 22.3125 43.546875 \nQ 18.109375 38.921875 18.109375 30.90625 \nL 18.109375 0 \nL 9.078125 0 \nL 9.078125 54.6875 \nL 18.109375 54.6875 \nL 18.109375 46.1875 \nQ 21.34375 51.125 25.703125 53.5625 \nQ 30.078125 56 35.796875 56 \nQ 45.21875 56 50.046875 50.171875 \nQ 54.890625 44.34375 54.890625 33.015625 \nz\n\" id=\"DejaVuSans-110\"/>\n     </defs>\n     <g style=\"fill:#262626;\" transform=\"translate(142.847656 284.474687)scale(0.1 -0.1)\">\n      <use xlink:href=\"#DejaVuSans-80\"/>\n      <use x=\"58.552734\" xlink:href=\"#DejaVuSans-114\"/>\n      <use x=\"97.416016\" xlink:href=\"#DejaVuSans-101\"/>\n      <use x=\"158.939453\" xlink:href=\"#DejaVuSans-100\"/>\n      <use x=\"222.416016\" xlink:href=\"#DejaVuSans-105\"/>\n      <use x=\"250.199219\" xlink:href=\"#DejaVuSans-99\"/>\n      <use x=\"305.179688\" xlink:href=\"#DejaVuSans-99\"/>\n      <use x=\"360.160156\" xlink:href=\"#DejaVuSans-105\"/>\n      <use x=\"387.943359\" xlink:href=\"#DejaVuSans-243\"/>\n      <use x=\"449.125\" xlink:href=\"#DejaVuSans-110\"/>\n     </g>\n    </g>\n   </g>\n   <g id=\"matplotlib.axis_2\">\n    <g id=\"ytick_1\">\n     <g id=\"text_4\">\n      <!-- 0 -->\n      <g style=\"fill:#262626;\" transform=\"translate(38.410937 84.947344)scale(0.1 -0.1)\">\n       <use xlink:href=\"#DejaVuSans-48\"/>\n      </g>\n     </g>\n    </g>\n    <g id=\"ytick_2\">\n     <g id=\"text_5\">\n      <!-- 1 -->\n      <g style=\"fill:#262626;\" transform=\"translate(38.410937 201.647344)scale(0.1 -0.1)\">\n       <use xlink:href=\"#DejaVuSans-49\"/>\n      </g>\n     </g>\n    </g>\n    <g id=\"text_6\">\n     <!-- Etiqueta -->\n     <defs>\n      <path d=\"M 9.8125 72.90625 \nL 55.90625 72.90625 \nL 55.90625 64.59375 \nL 19.671875 64.59375 \nL 19.671875 43.015625 \nL 54.390625 43.015625 \nL 54.390625 34.71875 \nL 19.671875 34.71875 \nL 19.671875 8.296875 \nL 56.78125 8.296875 \nL 56.78125 0 \nL 9.8125 0 \nz\n\" id=\"DejaVuSans-69\"/>\n      <path d=\"M 18.3125 70.21875 \nL 18.3125 54.6875 \nL 36.8125 54.6875 \nL 36.8125 47.703125 \nL 18.3125 47.703125 \nL 18.3125 18.015625 \nQ 18.3125 11.328125 20.140625 9.421875 \nQ 21.96875 7.515625 27.59375 7.515625 \nL 36.8125 7.515625 \nL 36.8125 0 \nL 27.59375 0 \nQ 17.1875 0 13.234375 3.875 \nQ 9.28125 7.765625 9.28125 18.015625 \nL 9.28125 47.703125 \nL 2.6875 47.703125 \nL 2.6875 54.6875 \nL 9.28125 54.6875 \nL 9.28125 70.21875 \nz\n\" id=\"DejaVuSans-116\"/>\n      <path d=\"M 14.796875 27.296875 \nQ 14.796875 17.390625 18.875 11.75 \nQ 22.953125 6.109375 30.078125 6.109375 \nQ 37.203125 6.109375 41.296875 11.75 \nQ 45.40625 17.390625 45.40625 27.296875 \nQ 45.40625 37.203125 41.296875 42.84375 \nQ 37.203125 48.484375 30.078125 48.484375 \nQ 22.953125 48.484375 18.875 42.84375 \nQ 14.796875 37.203125 14.796875 27.296875 \nz\nM 45.40625 8.203125 \nQ 42.578125 3.328125 38.25 0.953125 \nQ 33.9375 -1.421875 27.875 -1.421875 \nQ 17.96875 -1.421875 11.734375 6.484375 \nQ 5.515625 14.40625 5.515625 27.296875 \nQ 5.515625 40.1875 11.734375 48.09375 \nQ 17.96875 56 27.875 56 \nQ 33.9375 56 38.25 53.625 \nQ 42.578125 51.265625 45.40625 46.390625 \nL 45.40625 54.6875 \nL 54.390625 54.6875 \nL 54.390625 -20.796875 \nL 45.40625 -20.796875 \nz\n\" id=\"DejaVuSans-113\"/>\n      <path d=\"M 8.5 21.578125 \nL 8.5 54.6875 \nL 17.484375 54.6875 \nL 17.484375 21.921875 \nQ 17.484375 14.15625 20.5 10.265625 \nQ 23.53125 6.390625 29.59375 6.390625 \nQ 36.859375 6.390625 41.078125 11.03125 \nQ 45.3125 15.671875 45.3125 23.6875 \nL 45.3125 54.6875 \nL 54.296875 54.6875 \nL 54.296875 0 \nL 45.3125 0 \nL 45.3125 8.40625 \nQ 42.046875 3.421875 37.71875 1 \nQ 33.40625 -1.421875 27.6875 -1.421875 \nQ 18.265625 -1.421875 13.375 4.4375 \nQ 8.5 10.296875 8.5 21.578125 \nz\nM 31.109375 56 \nz\n\" id=\"DejaVuSans-117\"/>\n      <path d=\"M 34.28125 27.484375 \nQ 23.390625 27.484375 19.1875 25 \nQ 14.984375 22.515625 14.984375 16.5 \nQ 14.984375 11.71875 18.140625 8.90625 \nQ 21.296875 6.109375 26.703125 6.109375 \nQ 34.1875 6.109375 38.703125 11.40625 \nQ 43.21875 16.703125 43.21875 25.484375 \nL 43.21875 27.484375 \nz\nM 52.203125 31.203125 \nL 52.203125 0 \nL 43.21875 0 \nL 43.21875 8.296875 \nQ 40.140625 3.328125 35.546875 0.953125 \nQ 30.953125 -1.421875 24.3125 -1.421875 \nQ 15.921875 -1.421875 10.953125 3.296875 \nQ 6 8.015625 6 15.921875 \nQ 6 25.140625 12.171875 29.828125 \nQ 18.359375 34.515625 30.609375 34.515625 \nL 43.21875 34.515625 \nL 43.21875 35.40625 \nQ 43.21875 41.609375 39.140625 45 \nQ 35.0625 48.390625 27.6875 48.390625 \nQ 23 48.390625 18.546875 47.265625 \nQ 14.109375 46.140625 10.015625 43.890625 \nL 10.015625 52.203125 \nQ 14.9375 54.109375 19.578125 55.046875 \nQ 24.21875 56 28.609375 56 \nQ 40.484375 56 46.34375 49.84375 \nQ 52.203125 43.703125 52.203125 31.203125 \nz\n\" id=\"DejaVuSans-97\"/>\n     </defs>\n     <g style=\"fill:#262626;\" transform=\"translate(32.33125 160.450469)rotate(-90)scale(0.1 -0.1)\">\n      <use xlink:href=\"#DejaVuSans-69\"/>\n      <use x=\"63.183594\" xlink:href=\"#DejaVuSans-116\"/>\n      <use x=\"102.392578\" xlink:href=\"#DejaVuSans-105\"/>\n      <use x=\"130.175781\" xlink:href=\"#DejaVuSans-113\"/>\n      <use x=\"193.652344\" xlink:href=\"#DejaVuSans-117\"/>\n      <use x=\"257.03125\" xlink:href=\"#DejaVuSans-101\"/>\n      <use x=\"318.554688\" xlink:href=\"#DejaVuSans-116\"/>\n      <use x=\"357.763672\" xlink:href=\"#DejaVuSans-97\"/>\n     </g>\n    </g>\n   </g>\n   <g id=\"patch_3\">\n    <path d=\"M 51.773437 256.198125 \nL 51.773437 22.798125 \n\" style=\"fill:none;stroke:#262626;stroke-linecap:square;stroke-linejoin:miter;stroke-width:0.8;\"/>\n   </g>\n   <g id=\"patch_4\">\n    <path d=\"M 285.173437 256.198125 \nL 285.173437 22.798125 \n\" style=\"fill:none;stroke:#262626;stroke-linecap:square;stroke-linejoin:miter;stroke-width:0.8;\"/>\n   </g>\n   <g id=\"patch_5\">\n    <path d=\"M 51.773437 256.198125 \nL 285.173437 256.198125 \n\" style=\"fill:none;stroke:#262626;stroke-linecap:square;stroke-linejoin:miter;stroke-width:0.8;\"/>\n   </g>\n   <g id=\"patch_6\">\n    <path d=\"M 51.773437 22.798125 \nL 285.173437 22.798125 \n\" style=\"fill:none;stroke:#262626;stroke-linecap:square;stroke-linejoin:miter;stroke-width:0.8;\"/>\n   </g>\n   <g id=\"text_7\">\n    <!-- 3945 -->\n    <defs>\n     <path d=\"M 40.578125 39.3125 \nQ 47.65625 37.796875 51.625 33 \nQ 55.609375 28.21875 55.609375 21.1875 \nQ 55.609375 10.40625 48.1875 4.484375 \nQ 40.765625 -1.421875 27.09375 -1.421875 \nQ 22.515625 -1.421875 17.65625 -0.515625 \nQ 12.796875 0.390625 7.625 2.203125 \nL 7.625 11.71875 \nQ 11.71875 9.328125 16.59375 8.109375 \nQ 21.484375 6.890625 26.8125 6.890625 \nQ 36.078125 6.890625 40.9375 10.546875 \nQ 45.796875 14.203125 45.796875 21.1875 \nQ 45.796875 27.640625 41.28125 31.265625 \nQ 36.765625 34.90625 28.71875 34.90625 \nL 20.21875 34.90625 \nL 20.21875 43.015625 \nL 29.109375 43.015625 \nQ 36.375 43.015625 40.234375 45.921875 \nQ 44.09375 48.828125 44.09375 54.296875 \nQ 44.09375 59.90625 40.109375 62.90625 \nQ 36.140625 65.921875 28.71875 65.921875 \nQ 24.65625 65.921875 20.015625 65.03125 \nQ 15.375 64.15625 9.8125 62.3125 \nL 9.8125 71.09375 \nQ 15.4375 72.65625 20.34375 73.4375 \nQ 25.25 74.21875 29.59375 74.21875 \nQ 40.828125 74.21875 47.359375 69.109375 \nQ 53.90625 64.015625 53.90625 55.328125 \nQ 53.90625 49.265625 50.4375 45.09375 \nQ 46.96875 40.921875 40.578125 39.3125 \nz\n\" id=\"DejaVuSans-51\"/>\n     <path d=\"M 10.984375 1.515625 \nL 10.984375 10.5 \nQ 14.703125 8.734375 18.5 7.8125 \nQ 22.3125 6.890625 25.984375 6.890625 \nQ 35.75 6.890625 40.890625 13.453125 \nQ 46.046875 20.015625 46.78125 33.40625 \nQ 43.953125 29.203125 39.59375 26.953125 \nQ 35.25 24.703125 29.984375 24.703125 \nQ 19.046875 24.703125 12.671875 31.3125 \nQ 6.296875 37.9375 6.296875 49.421875 \nQ 6.296875 60.640625 12.9375 67.421875 \nQ 19.578125 74.21875 30.609375 74.21875 \nQ 43.265625 74.21875 49.921875 64.515625 \nQ 56.59375 54.828125 56.59375 36.375 \nQ 56.59375 19.140625 48.40625 8.859375 \nQ 40.234375 -1.421875 26.421875 -1.421875 \nQ 22.703125 -1.421875 18.890625 -0.6875 \nQ 15.09375 0.046875 10.984375 1.515625 \nz\nM 30.609375 32.421875 \nQ 37.25 32.421875 41.125 36.953125 \nQ 45.015625 41.5 45.015625 49.421875 \nQ 45.015625 57.28125 41.125 61.84375 \nQ 37.25 66.40625 30.609375 66.40625 \nQ 23.96875 66.40625 20.09375 61.84375 \nQ 16.21875 57.28125 16.21875 49.421875 \nQ 16.21875 41.5 20.09375 36.953125 \nQ 23.96875 32.421875 30.609375 32.421875 \nz\n\" id=\"DejaVuSans-57\"/>\n     <path d=\"M 37.796875 64.3125 \nL 12.890625 25.390625 \nL 37.796875 25.390625 \nz\nM 35.203125 72.90625 \nL 47.609375 72.90625 \nL 47.609375 25.390625 \nL 58.015625 25.390625 \nL 58.015625 17.1875 \nL 47.609375 17.1875 \nL 47.609375 0 \nL 37.796875 0 \nL 37.796875 17.1875 \nL 4.890625 17.1875 \nL 4.890625 26.703125 \nz\n\" id=\"DejaVuSans-52\"/>\n     <path d=\"M 10.796875 72.90625 \nL 49.515625 72.90625 \nL 49.515625 64.59375 \nL 19.828125 64.59375 \nL 19.828125 46.734375 \nQ 21.96875 47.46875 24.109375 47.828125 \nQ 26.265625 48.1875 28.421875 48.1875 \nQ 40.625 48.1875 47.75 41.5 \nQ 54.890625 34.8125 54.890625 23.390625 \nQ 54.890625 11.625 47.5625 5.09375 \nQ 40.234375 -1.421875 26.90625 -1.421875 \nQ 22.3125 -1.421875 17.546875 -0.640625 \nQ 12.796875 0.140625 7.71875 1.703125 \nL 7.71875 11.625 \nQ 12.109375 9.234375 16.796875 8.0625 \nQ 21.484375 6.890625 26.703125 6.890625 \nQ 35.15625 6.890625 40.078125 11.328125 \nQ 45.015625 15.765625 45.015625 23.390625 \nQ 45.015625 31 40.078125 35.4375 \nQ 35.15625 39.890625 26.703125 39.890625 \nQ 22.75 39.890625 18.8125 39.015625 \nQ 14.890625 38.140625 10.796875 36.28125 \nz\n\" id=\"DejaVuSans-53\"/>\n    </defs>\n    <g style=\"fill:#ffffff;\" transform=\"translate(97.398437 81.148125)scale(0.1 -0.1)\">\n     <use xlink:href=\"#DejaVuSans-51\"/>\n     <use x=\"63.623047\" xlink:href=\"#DejaVuSans-57\"/>\n     <use x=\"127.246094\" xlink:href=\"#DejaVuSans-52\"/>\n     <use x=\"190.869141\" xlink:href=\"#DejaVuSans-53\"/>\n    </g>\n   </g>\n   <g id=\"text_8\">\n    <!-- 3469 -->\n    <defs>\n     <path d=\"M 33.015625 40.375 \nQ 26.375 40.375 22.484375 35.828125 \nQ 18.609375 31.296875 18.609375 23.390625 \nQ 18.609375 15.53125 22.484375 10.953125 \nQ 26.375 6.390625 33.015625 6.390625 \nQ 39.65625 6.390625 43.53125 10.953125 \nQ 47.40625 15.53125 47.40625 23.390625 \nQ 47.40625 31.296875 43.53125 35.828125 \nQ 39.65625 40.375 33.015625 40.375 \nz\nM 52.59375 71.296875 \nL 52.59375 62.3125 \nQ 48.875 64.0625 45.09375 64.984375 \nQ 41.3125 65.921875 37.59375 65.921875 \nQ 27.828125 65.921875 22.671875 59.328125 \nQ 17.53125 52.734375 16.796875 39.40625 \nQ 19.671875 43.65625 24.015625 45.921875 \nQ 28.375 48.1875 33.59375 48.1875 \nQ 44.578125 48.1875 50.953125 41.515625 \nQ 57.328125 34.859375 57.328125 23.390625 \nQ 57.328125 12.15625 50.6875 5.359375 \nQ 44.046875 -1.421875 33.015625 -1.421875 \nQ 20.359375 -1.421875 13.671875 8.265625 \nQ 6.984375 17.96875 6.984375 36.375 \nQ 6.984375 53.65625 15.1875 63.9375 \nQ 23.390625 74.21875 37.203125 74.21875 \nQ 40.921875 74.21875 44.703125 73.484375 \nQ 48.484375 72.75 52.59375 71.296875 \nz\n\" id=\"DejaVuSans-54\"/>\n    </defs>\n    <g style=\"fill:#ffffff;\" transform=\"translate(214.098437 81.148125)scale(0.1 -0.1)\">\n     <use xlink:href=\"#DejaVuSans-51\"/>\n     <use x=\"63.623047\" xlink:href=\"#DejaVuSans-52\"/>\n     <use x=\"127.246094\" xlink:href=\"#DejaVuSans-54\"/>\n     <use x=\"190.869141\" xlink:href=\"#DejaVuSans-57\"/>\n    </g>\n   </g>\n   <g id=\"text_9\">\n    <!-- 3553 -->\n    <g style=\"fill:#ffffff;\" transform=\"translate(97.398437 197.848125)scale(0.1 -0.1)\">\n     <use xlink:href=\"#DejaVuSans-51\"/>\n     <use x=\"63.623047\" xlink:href=\"#DejaVuSans-53\"/>\n     <use x=\"127.246094\" xlink:href=\"#DejaVuSans-53\"/>\n     <use x=\"190.869141\" xlink:href=\"#DejaVuSans-51\"/>\n    </g>\n   </g>\n   <g id=\"text_10\">\n    <!-- 3861 -->\n    <defs>\n     <path d=\"M 31.78125 34.625 \nQ 24.75 34.625 20.71875 30.859375 \nQ 16.703125 27.09375 16.703125 20.515625 \nQ 16.703125 13.921875 20.71875 10.15625 \nQ 24.75 6.390625 31.78125 6.390625 \nQ 38.8125 6.390625 42.859375 10.171875 \nQ 46.921875 13.96875 46.921875 20.515625 \nQ 46.921875 27.09375 42.890625 30.859375 \nQ 38.875 34.625 31.78125 34.625 \nz\nM 21.921875 38.8125 \nQ 15.578125 40.375 12.03125 44.71875 \nQ 8.5 49.078125 8.5 55.328125 \nQ 8.5 64.0625 14.71875 69.140625 \nQ 20.953125 74.21875 31.78125 74.21875 \nQ 42.671875 74.21875 48.875 69.140625 \nQ 55.078125 64.0625 55.078125 55.328125 \nQ 55.078125 49.078125 51.53125 44.71875 \nQ 48 40.375 41.703125 38.8125 \nQ 48.828125 37.15625 52.796875 32.3125 \nQ 56.78125 27.484375 56.78125 20.515625 \nQ 56.78125 9.90625 50.3125 4.234375 \nQ 43.84375 -1.421875 31.78125 -1.421875 \nQ 19.734375 -1.421875 13.25 4.234375 \nQ 6.78125 9.90625 6.78125 20.515625 \nQ 6.78125 27.484375 10.78125 32.3125 \nQ 14.796875 37.15625 21.921875 38.8125 \nz\nM 18.3125 54.390625 \nQ 18.3125 48.734375 21.84375 45.5625 \nQ 25.390625 42.390625 31.78125 42.390625 \nQ 38.140625 42.390625 41.71875 45.5625 \nQ 45.3125 48.734375 45.3125 54.390625 \nQ 45.3125 60.0625 41.71875 63.234375 \nQ 38.140625 66.40625 31.78125 66.40625 \nQ 25.390625 66.40625 21.84375 63.234375 \nQ 18.3125 60.0625 18.3125 54.390625 \nz\n\" id=\"DejaVuSans-56\"/>\n    </defs>\n    <g style=\"fill:#ffffff;\" transform=\"translate(214.098437 197.848125)scale(0.1 -0.1)\">\n     <use xlink:href=\"#DejaVuSans-51\"/>\n     <use x=\"63.623047\" xlink:href=\"#DejaVuSans-56\"/>\n     <use x=\"127.246094\" xlink:href=\"#DejaVuSans-54\"/>\n     <use x=\"190.869141\" xlink:href=\"#DejaVuSans-49\"/>\n    </g>\n   </g>\n   <g id=\"text_11\">\n    <!-- Matriz de Confusión Normalizada: Regresión Logística -->\n    <defs>\n     <path d=\"M 9.8125 72.90625 \nL 24.515625 72.90625 \nL 43.109375 23.296875 \nL 61.8125 72.90625 \nL 76.515625 72.90625 \nL 76.515625 0 \nL 66.890625 0 \nL 66.890625 64.015625 \nL 48.09375 14.015625 \nL 38.1875 14.015625 \nL 19.390625 64.015625 \nL 19.390625 0 \nL 9.8125 0 \nz\n\" id=\"DejaVuSans-77\"/>\n     <path d=\"M 5.515625 54.6875 \nL 48.1875 54.6875 \nL 48.1875 46.484375 \nL 14.40625 7.171875 \nL 48.1875 7.171875 \nL 48.1875 0 \nL 4.296875 0 \nL 4.296875 8.203125 \nL 38.09375 47.515625 \nL 5.515625 47.515625 \nz\n\" id=\"DejaVuSans-122\"/>\n     <path id=\"DejaVuSans-32\"/>\n     <path d=\"M 64.40625 67.28125 \nL 64.40625 56.890625 \nQ 59.421875 61.53125 53.78125 63.8125 \nQ 48.140625 66.109375 41.796875 66.109375 \nQ 29.296875 66.109375 22.65625 58.46875 \nQ 16.015625 50.828125 16.015625 36.375 \nQ 16.015625 21.96875 22.65625 14.328125 \nQ 29.296875 6.6875 41.796875 6.6875 \nQ 48.140625 6.6875 53.78125 8.984375 \nQ 59.421875 11.28125 64.40625 15.921875 \nL 64.40625 5.609375 \nQ 59.234375 2.09375 53.4375 0.328125 \nQ 47.65625 -1.421875 41.21875 -1.421875 \nQ 24.65625 -1.421875 15.125 8.703125 \nQ 5.609375 18.84375 5.609375 36.375 \nQ 5.609375 53.953125 15.125 64.078125 \nQ 24.65625 74.21875 41.21875 74.21875 \nQ 47.75 74.21875 53.53125 72.484375 \nQ 59.328125 70.75 64.40625 67.28125 \nz\n\" id=\"DejaVuSans-67\"/>\n     <path d=\"M 30.609375 48.390625 \nQ 23.390625 48.390625 19.1875 42.75 \nQ 14.984375 37.109375 14.984375 27.296875 \nQ 14.984375 17.484375 19.15625 11.84375 \nQ 23.34375 6.203125 30.609375 6.203125 \nQ 37.796875 6.203125 41.984375 11.859375 \nQ 46.1875 17.53125 46.1875 27.296875 \nQ 46.1875 37.015625 41.984375 42.703125 \nQ 37.796875 48.390625 30.609375 48.390625 \nz\nM 30.609375 56 \nQ 42.328125 56 49.015625 48.375 \nQ 55.71875 40.765625 55.71875 27.296875 \nQ 55.71875 13.875 49.015625 6.21875 \nQ 42.328125 -1.421875 30.609375 -1.421875 \nQ 18.84375 -1.421875 12.171875 6.21875 \nQ 5.515625 13.875 5.515625 27.296875 \nQ 5.515625 40.765625 12.171875 48.375 \nQ 18.84375 56 30.609375 56 \nz\n\" id=\"DejaVuSans-111\"/>\n     <path d=\"M 37.109375 75.984375 \nL 37.109375 68.5 \nL 28.515625 68.5 \nQ 23.6875 68.5 21.796875 66.546875 \nQ 19.921875 64.59375 19.921875 59.515625 \nL 19.921875 54.6875 \nL 34.71875 54.6875 \nL 34.71875 47.703125 \nL 19.921875 47.703125 \nL 19.921875 0 \nL 10.890625 0 \nL 10.890625 47.703125 \nL 2.296875 47.703125 \nL 2.296875 54.6875 \nL 10.890625 54.6875 \nL 10.890625 58.5 \nQ 10.890625 67.625 15.140625 71.796875 \nQ 19.390625 75.984375 28.609375 75.984375 \nz\n\" id=\"DejaVuSans-102\"/>\n     <path d=\"M 44.28125 53.078125 \nL 44.28125 44.578125 \nQ 40.484375 46.53125 36.375 47.5 \nQ 32.28125 48.484375 27.875 48.484375 \nQ 21.1875 48.484375 17.84375 46.4375 \nQ 14.5 44.390625 14.5 40.28125 \nQ 14.5 37.15625 16.890625 35.375 \nQ 19.28125 33.59375 26.515625 31.984375 \nL 29.59375 31.296875 \nQ 39.15625 29.25 43.1875 25.515625 \nQ 47.21875 21.78125 47.21875 15.09375 \nQ 47.21875 7.46875 41.1875 3.015625 \nQ 35.15625 -1.421875 24.609375 -1.421875 \nQ 20.21875 -1.421875 15.453125 -0.5625 \nQ 10.6875 0.296875 5.421875 2 \nL 5.421875 11.28125 \nQ 10.40625 8.6875 15.234375 7.390625 \nQ 20.0625 6.109375 24.8125 6.109375 \nQ 31.15625 6.109375 34.5625 8.28125 \nQ 37.984375 10.453125 37.984375 14.40625 \nQ 37.984375 18.0625 35.515625 20.015625 \nQ 33.0625 21.96875 24.703125 23.78125 \nL 21.578125 24.515625 \nQ 13.234375 26.265625 9.515625 29.90625 \nQ 5.8125 33.546875 5.8125 39.890625 \nQ 5.8125 47.609375 11.28125 51.796875 \nQ 16.75 56 26.8125 56 \nQ 31.78125 56 36.171875 55.265625 \nQ 40.578125 54.546875 44.28125 53.078125 \nz\n\" id=\"DejaVuSans-115\"/>\n     <path d=\"M 9.8125 72.90625 \nL 23.09375 72.90625 \nL 55.421875 11.921875 \nL 55.421875 72.90625 \nL 64.984375 72.90625 \nL 64.984375 0 \nL 51.703125 0 \nL 19.390625 60.984375 \nL 19.390625 0 \nL 9.8125 0 \nz\n\" id=\"DejaVuSans-78\"/>\n     <path d=\"M 52 44.1875 \nQ 55.375 50.25 60.0625 53.125 \nQ 64.75 56 71.09375 56 \nQ 79.640625 56 84.28125 50.015625 \nQ 88.921875 44.046875 88.921875 33.015625 \nL 88.921875 0 \nL 79.890625 0 \nL 79.890625 32.71875 \nQ 79.890625 40.578125 77.09375 44.375 \nQ 74.3125 48.1875 68.609375 48.1875 \nQ 61.625 48.1875 57.5625 43.546875 \nQ 53.515625 38.921875 53.515625 30.90625 \nL 53.515625 0 \nL 44.484375 0 \nL 44.484375 32.71875 \nQ 44.484375 40.625 41.703125 44.40625 \nQ 38.921875 48.1875 33.109375 48.1875 \nQ 26.21875 48.1875 22.15625 43.53125 \nQ 18.109375 38.875 18.109375 30.90625 \nL 18.109375 0 \nL 9.078125 0 \nL 9.078125 54.6875 \nL 18.109375 54.6875 \nL 18.109375 46.1875 \nQ 21.1875 51.21875 25.484375 53.609375 \nQ 29.78125 56 35.6875 56 \nQ 41.65625 56 45.828125 52.96875 \nQ 50 49.953125 52 44.1875 \nz\n\" id=\"DejaVuSans-109\"/>\n     <path d=\"M 9.421875 75.984375 \nL 18.40625 75.984375 \nL 18.40625 0 \nL 9.421875 0 \nz\n\" id=\"DejaVuSans-108\"/>\n     <path d=\"M 11.71875 12.40625 \nL 22.015625 12.40625 \nL 22.015625 0 \nL 11.71875 0 \nz\nM 11.71875 51.703125 \nL 22.015625 51.703125 \nL 22.015625 39.3125 \nL 11.71875 39.3125 \nz\n\" id=\"DejaVuSans-58\"/>\n     <path d=\"M 44.390625 34.1875 \nQ 47.5625 33.109375 50.5625 29.59375 \nQ 53.5625 26.078125 56.59375 19.921875 \nL 66.609375 0 \nL 56 0 \nL 46.6875 18.703125 \nQ 43.0625 26.03125 39.671875 28.421875 \nQ 36.28125 30.8125 30.421875 30.8125 \nL 19.671875 30.8125 \nL 19.671875 0 \nL 9.8125 0 \nL 9.8125 72.90625 \nL 32.078125 72.90625 \nQ 44.578125 72.90625 50.734375 67.671875 \nQ 56.890625 62.453125 56.890625 51.90625 \nQ 56.890625 45.015625 53.6875 40.46875 \nQ 50.484375 35.9375 44.390625 34.1875 \nz\nM 19.671875 64.796875 \nL 19.671875 38.921875 \nL 32.078125 38.921875 \nQ 39.203125 38.921875 42.84375 42.21875 \nQ 46.484375 45.515625 46.484375 51.90625 \nQ 46.484375 58.296875 42.84375 61.546875 \nQ 39.203125 64.796875 32.078125 64.796875 \nz\n\" id=\"DejaVuSans-82\"/>\n     <path d=\"M 45.40625 27.984375 \nQ 45.40625 37.75 41.375 43.109375 \nQ 37.359375 48.484375 30.078125 48.484375 \nQ 22.859375 48.484375 18.828125 43.109375 \nQ 14.796875 37.75 14.796875 27.984375 \nQ 14.796875 18.265625 18.828125 12.890625 \nQ 22.859375 7.515625 30.078125 7.515625 \nQ 37.359375 7.515625 41.375 12.890625 \nQ 45.40625 18.265625 45.40625 27.984375 \nz\nM 54.390625 6.78125 \nQ 54.390625 -7.171875 48.1875 -13.984375 \nQ 42 -20.796875 29.203125 -20.796875 \nQ 24.46875 -20.796875 20.265625 -20.09375 \nQ 16.0625 -19.390625 12.109375 -17.921875 \nL 12.109375 -9.1875 \nQ 16.0625 -11.328125 19.921875 -12.34375 \nQ 23.78125 -13.375 27.78125 -13.375 \nQ 36.625 -13.375 41.015625 -8.765625 \nQ 45.40625 -4.15625 45.40625 5.171875 \nL 45.40625 9.625 \nQ 42.625 4.78125 38.28125 2.390625 \nQ 33.9375 0 27.875 0 \nQ 17.828125 0 11.671875 7.65625 \nQ 5.515625 15.328125 5.515625 27.984375 \nQ 5.515625 40.671875 11.671875 48.328125 \nQ 17.828125 56 27.875 56 \nQ 33.9375 56 38.28125 53.609375 \nQ 42.625 51.21875 45.40625 46.390625 \nL 45.40625 54.6875 \nL 54.390625 54.6875 \nz\n\" id=\"DejaVuSans-103\"/>\n     <path d=\"M 9.8125 72.90625 \nL 19.671875 72.90625 \nL 19.671875 8.296875 \nL 55.171875 8.296875 \nL 55.171875 0 \nL 9.8125 0 \nz\n\" id=\"DejaVuSans-76\"/>\n     <path d=\"M 20.65625 79.984375 \nL 30.375 79.984375 \nL 14.46875 61.625 \nL 6.984375 61.625 \nz\nM 9.421875 54.6875 \nL 18.40625 54.6875 \nL 18.40625 0 \nL 9.421875 0 \nz\nM 13.921875 56 \nz\n\" id=\"DejaVuSans-237\"/>\n    </defs>\n    <g style=\"fill:#262626;\" transform=\"translate(7.2 16.798125)scale(0.12 -0.12)\">\n     <use xlink:href=\"#DejaVuSans-77\"/>\n     <use x=\"86.279297\" xlink:href=\"#DejaVuSans-97\"/>\n     <use x=\"147.558594\" xlink:href=\"#DejaVuSans-116\"/>\n     <use x=\"186.767578\" xlink:href=\"#DejaVuSans-114\"/>\n     <use x=\"227.880859\" xlink:href=\"#DejaVuSans-105\"/>\n     <use x=\"255.664062\" xlink:href=\"#DejaVuSans-122\"/>\n     <use x=\"308.154297\" xlink:href=\"#DejaVuSans-32\"/>\n     <use x=\"339.941406\" xlink:href=\"#DejaVuSans-100\"/>\n     <use x=\"403.417969\" xlink:href=\"#DejaVuSans-101\"/>\n     <use x=\"464.941406\" xlink:href=\"#DejaVuSans-32\"/>\n     <use x=\"496.728516\" xlink:href=\"#DejaVuSans-67\"/>\n     <use x=\"566.552734\" xlink:href=\"#DejaVuSans-111\"/>\n     <use x=\"627.734375\" xlink:href=\"#DejaVuSans-110\"/>\n     <use x=\"691.113281\" xlink:href=\"#DejaVuSans-102\"/>\n     <use x=\"726.318359\" xlink:href=\"#DejaVuSans-117\"/>\n     <use x=\"789.697266\" xlink:href=\"#DejaVuSans-115\"/>\n     <use x=\"841.796875\" xlink:href=\"#DejaVuSans-105\"/>\n     <use x=\"869.580078\" xlink:href=\"#DejaVuSans-243\"/>\n     <use x=\"930.761719\" xlink:href=\"#DejaVuSans-110\"/>\n     <use x=\"994.140625\" xlink:href=\"#DejaVuSans-32\"/>\n     <use x=\"1025.927734\" xlink:href=\"#DejaVuSans-78\"/>\n     <use x=\"1100.732422\" xlink:href=\"#DejaVuSans-111\"/>\n     <use x=\"1161.914062\" xlink:href=\"#DejaVuSans-114\"/>\n     <use x=\"1201.277344\" xlink:href=\"#DejaVuSans-109\"/>\n     <use x=\"1298.689453\" xlink:href=\"#DejaVuSans-97\"/>\n     <use x=\"1359.96875\" xlink:href=\"#DejaVuSans-108\"/>\n     <use x=\"1387.751953\" xlink:href=\"#DejaVuSans-105\"/>\n     <use x=\"1415.535156\" xlink:href=\"#DejaVuSans-122\"/>\n     <use x=\"1468.025391\" xlink:href=\"#DejaVuSans-97\"/>\n     <use x=\"1529.304688\" xlink:href=\"#DejaVuSans-100\"/>\n     <use x=\"1592.78125\" xlink:href=\"#DejaVuSans-97\"/>\n     <use x=\"1654.060547\" xlink:href=\"#DejaVuSans-58\"/>\n     <use x=\"1687.751953\" xlink:href=\"#DejaVuSans-32\"/>\n     <use x=\"1719.539062\" xlink:href=\"#DejaVuSans-82\"/>\n     <use x=\"1784.521484\" xlink:href=\"#DejaVuSans-101\"/>\n     <use x=\"1846.044922\" xlink:href=\"#DejaVuSans-103\"/>\n     <use x=\"1909.521484\" xlink:href=\"#DejaVuSans-114\"/>\n     <use x=\"1948.384766\" xlink:href=\"#DejaVuSans-101\"/>\n     <use x=\"2009.908203\" xlink:href=\"#DejaVuSans-115\"/>\n     <use x=\"2062.007812\" xlink:href=\"#DejaVuSans-105\"/>\n     <use x=\"2089.791016\" xlink:href=\"#DejaVuSans-243\"/>\n     <use x=\"2150.972656\" xlink:href=\"#DejaVuSans-110\"/>\n     <use x=\"2214.351562\" xlink:href=\"#DejaVuSans-32\"/>\n     <use x=\"2246.138672\" xlink:href=\"#DejaVuSans-76\"/>\n     <use x=\"2300.101562\" xlink:href=\"#DejaVuSans-111\"/>\n     <use x=\"2361.283203\" xlink:href=\"#DejaVuSans-103\"/>\n     <use x=\"2424.759766\" xlink:href=\"#DejaVuSans-237\"/>\n     <use x=\"2452.542969\" xlink:href=\"#DejaVuSans-115\"/>\n     <use x=\"2504.642578\" xlink:href=\"#DejaVuSans-116\"/>\n     <use x=\"2543.851562\" xlink:href=\"#DejaVuSans-105\"/>\n     <use x=\"2571.634766\" xlink:href=\"#DejaVuSans-99\"/>\n     <use x=\"2626.615234\" xlink:href=\"#DejaVuSans-97\"/>\n    </g>\n   </g>\n  </g>\n  <g id=\"axes_2\">\n   <g id=\"patch_7\">\n    <path clip-path=\"url(#p448ccdc9e2)\" d=\"M 305.558812 256.198125 \nL 305.558812 255.286406 \nL 305.558812 23.709844 \nL 305.558812 22.798125 \nL 317.228813 22.798125 \nL 317.228813 23.709844 \nL 317.228813 255.286406 \nL 317.228813 256.198125 \nz\n\" style=\"fill:#ffffff;stroke:#ffffff;stroke-linejoin:miter;stroke-width:0.01;\"/>\n   </g>\n   <g id=\"matplotlib.axis_3\"/>\n   <g id=\"matplotlib.axis_4\">\n    <g id=\"ytick_3\">\n     <g id=\"line2d_1\">\n      <defs>\n       <path d=\"M 0 0 \nL 3.5 0 \n\" id=\"m2171e57f11\" style=\"stroke:#262626;stroke-width:0.8;\"/>\n      </defs>\n      <g>\n       <use style=\"fill:#262626;stroke:#262626;stroke-width:0.8;\" x=\"317.228813\" xlink:href=\"#m2171e57f11\" y=\"240.997705\"/>\n      </g>\n     </g>\n     <g id=\"text_12\">\n      <!-- 3500 -->\n      <g style=\"fill:#262626;\" transform=\"translate(324.228813 244.796924)scale(0.1 -0.1)\">\n       <use xlink:href=\"#DejaVuSans-51\"/>\n       <use x=\"63.623047\" xlink:href=\"#DejaVuSans-53\"/>\n       <use x=\"127.246094\" xlink:href=\"#DejaVuSans-48\"/>\n       <use x=\"190.869141\" xlink:href=\"#DejaVuSans-48\"/>\n      </g>\n     </g>\n    </g>\n    <g id=\"ytick_4\">\n     <g id=\"line2d_2\">\n      <g>\n       <use style=\"fill:#262626;stroke:#262626;stroke-width:0.8;\" x=\"317.228813\" xlink:href=\"#m2171e57f11\" y=\"191.964091\"/>\n      </g>\n     </g>\n     <g id=\"text_13\">\n      <!-- 3600 -->\n      <g style=\"fill:#262626;\" transform=\"translate(324.228813 195.76331)scale(0.1 -0.1)\">\n       <use xlink:href=\"#DejaVuSans-51\"/>\n       <use x=\"63.623047\" xlink:href=\"#DejaVuSans-54\"/>\n       <use x=\"127.246094\" xlink:href=\"#DejaVuSans-48\"/>\n       <use x=\"190.869141\" xlink:href=\"#DejaVuSans-48\"/>\n      </g>\n     </g>\n    </g>\n    <g id=\"ytick_5\">\n     <g id=\"line2d_3\">\n      <g>\n       <use style=\"fill:#262626;stroke:#262626;stroke-width:0.8;\" x=\"317.228813\" xlink:href=\"#m2171e57f11\" y=\"142.930478\"/>\n      </g>\n     </g>\n     <g id=\"text_14\">\n      <!-- 3700 -->\n      <defs>\n       <path d=\"M 8.203125 72.90625 \nL 55.078125 72.90625 \nL 55.078125 68.703125 \nL 28.609375 0 \nL 18.3125 0 \nL 43.21875 64.59375 \nL 8.203125 64.59375 \nz\n\" id=\"DejaVuSans-55\"/>\n      </defs>\n      <g style=\"fill:#262626;\" transform=\"translate(324.228813 146.729697)scale(0.1 -0.1)\">\n       <use xlink:href=\"#DejaVuSans-51\"/>\n       <use x=\"63.623047\" xlink:href=\"#DejaVuSans-55\"/>\n       <use x=\"127.246094\" xlink:href=\"#DejaVuSans-48\"/>\n       <use x=\"190.869141\" xlink:href=\"#DejaVuSans-48\"/>\n      </g>\n     </g>\n    </g>\n    <g id=\"ytick_6\">\n     <g id=\"line2d_4\">\n      <g>\n       <use style=\"fill:#262626;stroke:#262626;stroke-width:0.8;\" x=\"317.228813\" xlink:href=\"#m2171e57f11\" y=\"93.896864\"/>\n      </g>\n     </g>\n     <g id=\"text_15\">\n      <!-- 3800 -->\n      <g style=\"fill:#262626;\" transform=\"translate(324.228813 97.696083)scale(0.1 -0.1)\">\n       <use xlink:href=\"#DejaVuSans-51\"/>\n       <use x=\"63.623047\" xlink:href=\"#DejaVuSans-56\"/>\n       <use x=\"127.246094\" xlink:href=\"#DejaVuSans-48\"/>\n       <use x=\"190.869141\" xlink:href=\"#DejaVuSans-48\"/>\n      </g>\n     </g>\n    </g>\n    <g id=\"ytick_7\">\n     <g id=\"line2d_5\">\n      <g>\n       <use style=\"fill:#262626;stroke:#262626;stroke-width:0.8;\" x=\"317.228813\" xlink:href=\"#m2171e57f11\" y=\"44.863251\"/>\n      </g>\n     </g>\n     <g id=\"text_16\">\n      <!-- 3900 -->\n      <g style=\"fill:#262626;\" transform=\"translate(324.228813 48.66247)scale(0.1 -0.1)\">\n       <use xlink:href=\"#DejaVuSans-51\"/>\n       <use x=\"63.623047\" xlink:href=\"#DejaVuSans-57\"/>\n       <use x=\"127.246094\" xlink:href=\"#DejaVuSans-48\"/>\n       <use x=\"190.869141\" xlink:href=\"#DejaVuSans-48\"/>\n      </g>\n     </g>\n    </g>\n   </g>\n   <image height=\"233\" id=\"image7557fb0971\" transform=\"scale(1 -1)translate(0 -233)\" width=\"11\" x=\"306\" xlink:href=\"data:image/png;base64,\niVBORw0KGgoAAAANSUhEUgAAAAsAAADpCAYAAADyIM2vAAAABHNCSVQICAgIfAhkiAAAARdJREFUaIHtmEEKwzAMBNXi/z+3h0LiHpOjpzCwCs55WSZaSXby+nznrMVnzFrW1gDaGkBbY524akygNjFI6Yjze10aw0zrHIEB+zmCGTmXxnxqpUtZMpv5Jt5x38UdmeEJa2F0LF0Ks3btORteqLyNFMLMQkHOGdWIYSZiEsohjhXpOs3Zq7O5kVCCwFkcWBS3dtB7MxiyGA/AQZmBWDwHO3Zdy4EFYrbMQzDWjenKJTMo3p+9Rlo3NntDPOi9uNcpzOlOaaSUJYOY+/VzSChi3GzlRjBv57+de8YdggGcYZ0955DSaX9cxUbSxGKCu86XOOUFM+J+fp0bJlhMvP7l3dRZwziPCIzHO5NJEXuDxd2wztv5en48n/5RooIUWgAAAABJRU5ErkJggg==\" y=\"-22\"/>\n   <g id=\"patch_8\">\n    <path d=\"M 305.558812 256.198125 \nL 305.558812 255.286406 \nL 305.558812 23.709844 \nL 305.558812 22.798125 \nL 317.228813 22.798125 \nL 317.228813 23.709844 \nL 317.228813 255.286406 \nL 317.228813 256.198125 \nz\n\" style=\"fill:none;stroke:#262626;stroke-linejoin:miter;stroke-width:0.8;\"/>\n   </g>\n  </g>\n </g>\n <defs>\n  <clipPath id=\"pc495b865b6\">\n   <rect height=\"233.4\" width=\"233.4\" x=\"51.773437\" y=\"22.798125\"/>\n  </clipPath>\n  <clipPath id=\"p448ccdc9e2\">\n   <rect height=\"233.4\" width=\"11.67\" x=\"305.558812\" y=\"22.798125\"/>\n  </clipPath>\n </defs>\n</svg>\n"
          },
          "metadata": {}
        }
      ]
    },
    {
      "cell_type": "markdown",
      "metadata": {
        "id": "4DNyY7n5hQsw"
      },
      "source": [
        "Análisis Caso B\n",
        "Acpa ocurre un resultado de la matriz distinto al del caso A; En este grupo de datos no clasificada bien los datos con etiqueta cero,  El valor de TN 1490 equivale a 20.09% muy bajo por eso es que se tiene alto el FP=5924 (79.9). \n"
      ]
    },
    {
      "cell_type": "markdown",
      "metadata": {
        "id": "S8ZRt-QQ4u_2"
      },
      "source": [
        "## Análisis modelo Caso B\n",
        "\n",
        "El la evaluación del clasificador baseline l Caso A, arrojó los siguientes resultados:\n",
        "\n",
        "\n",
        "\n",
        "*   El total de datos de Prueba: 14828.\n",
        "*   La precisión es de: 0.53372\n",
        "*   Matriz de confusión: \n",
        "        1.   TN(True negative)=3913\n",
        "        2.   TP(True positive)=4001 \n",
        "        3.   FP(False Positive)=3501   (Datos en clase 1, pero son clase cero)\n",
        "        4.   FN(False Negative)= 3413  (Datos en clase cero, pero son clase uno)\n",
        "\n",
        "Podemos inferir de la matriz de confusión que 3913 (TN)+ 4001(TP)= 7914 datos bien clasificados.Los datos que nos debería preocupar son FP=3501 y FN= 3413 que da un total de FP+FN= 3501 + 3413= 6914 mal clasificados\n",
        "\n",
        "La precisión es de 0.533, no es muy bueno.\n",
        "\n",
        "\n",
        "```\n",
        "# Tiene formato de código\n",
        "```\n",
        "\n"
      ]
    },
    {
      "cell_type": "markdown",
      "metadata": {
        "id": "XvnU0xKJL8oH"
      },
      "source": [
        "## Caso C"
      ]
    },
    {
      "cell_type": "code",
      "metadata": {
        "colab": {
          "base_uri": "https://localhost:8080/",
          "height": 515
        },
        "id": "no0TUG7GL8oI",
        "scrolled": false,
        "outputId": "6f6c5e47-3a79-4327-d77f-5f27350527f0"
      },
      "source": [
        "model = LogisticRegression(C=0.8,\n",
        "                           random_state=0,\n",
        "                           solver='lbfgs')\n",
        "model.fit(X_train_subC,y_train) # Ajuste el modelo con los datos del conjunto C #\n",
        "y_predict = model.predict(X_test_subC) # Realice la predicción de etiquetas con los datos de prueba del conjunto C #\n",
        "\n",
        "print(f'Precisión {round(accuracy_score(y_test, y_predict),5)}')\n",
        "print(pd.DataFrame(confusion_matrix(y_test,y_predict)))\n",
        "\n",
        "sns.set_style('white') \n",
        "class_names = ['0','1']\n",
        "plot_confusion_matrix(confusion_matrix(y_test,y_predict),\n",
        "                      classes= class_names, \n",
        "                      title='Matriz de Confusión Normalizada: Regresión Logística')\n"
      ],
      "execution_count": 194,
      "outputs": [
        {
          "output_type": "stream",
          "name": "stdout",
          "text": [
            "Precisión 0.60049\n",
            "      0     1\n",
            "0  3993  3421\n",
            "1  2503  4911\n",
            "[[3993 3421]\n",
            " [2503 4911]]\n"
          ]
        },
        {
          "output_type": "display_data",
          "data": {
            "text/plain": [
              "<Figure size 432x288 with 2 Axes>"
            ],
            "image/svg+xml": "<?xml version=\"1.0\" encoding=\"utf-8\" standalone=\"no\"?>\n<!DOCTYPE svg PUBLIC \"-//W3C//DTD SVG 1.1//EN\"\n  \"http://www.w3.org/Graphics/SVG/1.1/DTD/svg11.dtd\">\n<!-- Created with matplotlib (https://matplotlib.org/) -->\n<svg height=\"293.754375pt\" version=\"1.1\" viewBox=\"0 0 356.878812 293.754375\" width=\"356.878812pt\" xmlns=\"http://www.w3.org/2000/svg\" xmlns:xlink=\"http://www.w3.org/1999/xlink\">\n <defs>\n  <style type=\"text/css\">\n*{stroke-linecap:butt;stroke-linejoin:round;}\n  </style>\n </defs>\n <g id=\"figure_1\">\n  <g id=\"patch_1\">\n   <path d=\"M 0 293.754375 \nL 356.878812 293.754375 \nL 356.878812 0 \nL 0 0 \nz\n\" style=\"fill:#ffffff;\"/>\n  </g>\n  <g id=\"axes_1\">\n   <g id=\"patch_2\">\n    <path d=\"M 51.773437 256.198125 \nL 285.173437 256.198125 \nL 285.173437 22.798125 \nL 51.773437 22.798125 \nz\n\" style=\"fill:#ffffff;\"/>\n   </g>\n   <g clip-path=\"url(#p9ce3ec8c31)\">\n    <image height=\"234\" id=\"image2c1ef3764d\" transform=\"scale(1 -1)translate(0 -234)\" width=\"234\" x=\"51.773437\" xlink:href=\"data:image/png;base64,\niVBORw0KGgoAAAANSUhEUgAAAOoAAADqCAYAAACslNlOAAAABHNCSVQICAgIfAhkiAAAAuNJREFUeJzt1TENAkEARFEOB7T4OAWYQARuztNZoqBYJNBssvnkPQXT/Mz2/oxx4a/c9tfqCUx2XT0A+E2oECBUCBAqBAgVAoQKAUKFAKFCgFAhQKgQIFQIECoECBUChAoBQoUAoUKAUCFAqBAgVAgQKgQIFQKECgFChQChQoBQIUCoECBUCBAqBAgVAoQKAUKFAKFCgFAhQKgQIFQIECoECBUChAoBQoUAoUKAUCFAqBAgVAgQKgQIFQKECgFChQChQoBQIUCoECBUCBAqBAgVAoQKAUKFAKFCgFAhQKgQIFQIECoECBUChAoBQoUAoUKAUCFAqBAgVAgQKgQIFQKECgFChQChQoBQIUCoECBUCBAqBAgVAoQKAUKFAKFCgFAhQKgQIFQIECoECBUChAoBQoUAoUKAUCFAqBAgVAgQKgQIFQKECgFChQChQoBQIUCoECBUCBAqBAgVAoQKAUKFAKFCgFAhQKgQIFQIECoECBUChAoBQoUAoUKAUCFAqBAgVAgQKgRsj+Mcq0cw13O/r57AZB4VAoQKAUKFAKFCgFAhQKgQIFQIECoECBUChAoBQoUAoUKAUCFAqBAgVAgQKgQIFQKECgFChQChQoBQIUCoECBUCBAqBAgVAoQKAUKFAKFCgFAhQKgQIFQIECoECBUChAoBQoUAoUKAUCFAqBAgVAgQKgQIFQKECgFChQChQoBQIUCoECBUCBAqBAgVAoQKAUKFAKFCgFAhQKgQIFQIECoECBUChAoBQoUAoUKAUCFAqBAgVAgQKgQIFQKECgFChQChQoBQIUCoECBUCBAqBAgVAoQKAUKFAKFCgFAhQKgQIFQIECoECBUChAoBQoUAoUKAUCFAqBAgVAgQKgQIFQKECgFChQChQoBQIUCoECBUCBAqBAgVAoQKAUKFAKFCgFAhQKgQIFQIECoECBUChAoBQoUAoUKAUCFAqBAgVAgQKgQIFQKECgFChQChQsAXbK0JtxiLSfgAAAAASUVORK5CYII=\" y=\"-22.198125\"/>\n   </g>\n   <g id=\"matplotlib.axis_1\">\n    <g id=\"xtick_1\">\n     <g id=\"text_1\">\n      <!-- 0 -->\n      <defs>\n       <path d=\"M 31.78125 66.40625 \nQ 24.171875 66.40625 20.328125 58.90625 \nQ 16.5 51.421875 16.5 36.375 \nQ 16.5 21.390625 20.328125 13.890625 \nQ 24.171875 6.390625 31.78125 6.390625 \nQ 39.453125 6.390625 43.28125 13.890625 \nQ 47.125 21.390625 47.125 36.375 \nQ 47.125 51.421875 43.28125 58.90625 \nQ 39.453125 66.40625 31.78125 66.40625 \nz\nM 31.78125 74.21875 \nQ 44.046875 74.21875 50.515625 64.515625 \nQ 56.984375 54.828125 56.984375 36.375 \nQ 56.984375 17.96875 50.515625 8.265625 \nQ 44.046875 -1.421875 31.78125 -1.421875 \nQ 19.53125 -1.421875 13.0625 8.265625 \nQ 6.59375 17.96875 6.59375 36.375 \nQ 6.59375 54.828125 13.0625 64.515625 \nQ 19.53125 74.21875 31.78125 74.21875 \nz\n\" id=\"DejaVuSans-48\"/>\n      </defs>\n      <g style=\"fill:#262626;\" transform=\"translate(106.942187 270.796562)scale(0.1 -0.1)\">\n       <use xlink:href=\"#DejaVuSans-48\"/>\n      </g>\n     </g>\n    </g>\n    <g id=\"xtick_2\">\n     <g id=\"text_2\">\n      <!-- 1 -->\n      <defs>\n       <path d=\"M 12.40625 8.296875 \nL 28.515625 8.296875 \nL 28.515625 63.921875 \nL 10.984375 60.40625 \nL 10.984375 69.390625 \nL 28.421875 72.90625 \nL 38.28125 72.90625 \nL 38.28125 8.296875 \nL 54.390625 8.296875 \nL 54.390625 0 \nL 12.40625 0 \nz\n\" id=\"DejaVuSans-49\"/>\n      </defs>\n      <g style=\"fill:#262626;\" transform=\"translate(223.642187 270.796562)scale(0.1 -0.1)\">\n       <use xlink:href=\"#DejaVuSans-49\"/>\n      </g>\n     </g>\n    </g>\n    <g id=\"text_3\">\n     <!-- Predicción -->\n     <defs>\n      <path d=\"M 19.671875 64.796875 \nL 19.671875 37.40625 \nL 32.078125 37.40625 \nQ 38.96875 37.40625 42.71875 40.96875 \nQ 46.484375 44.53125 46.484375 51.125 \nQ 46.484375 57.671875 42.71875 61.234375 \nQ 38.96875 64.796875 32.078125 64.796875 \nz\nM 9.8125 72.90625 \nL 32.078125 72.90625 \nQ 44.34375 72.90625 50.609375 67.359375 \nQ 56.890625 61.8125 56.890625 51.125 \nQ 56.890625 40.328125 50.609375 34.8125 \nQ 44.34375 29.296875 32.078125 29.296875 \nL 19.671875 29.296875 \nL 19.671875 0 \nL 9.8125 0 \nz\n\" id=\"DejaVuSans-80\"/>\n      <path d=\"M 41.109375 46.296875 \nQ 39.59375 47.171875 37.8125 47.578125 \nQ 36.03125 48 33.890625 48 \nQ 26.265625 48 22.1875 43.046875 \nQ 18.109375 38.09375 18.109375 28.8125 \nL 18.109375 0 \nL 9.078125 0 \nL 9.078125 54.6875 \nL 18.109375 54.6875 \nL 18.109375 46.1875 \nQ 20.953125 51.171875 25.484375 53.578125 \nQ 30.03125 56 36.53125 56 \nQ 37.453125 56 38.578125 55.875 \nQ 39.703125 55.765625 41.0625 55.515625 \nz\n\" id=\"DejaVuSans-114\"/>\n      <path d=\"M 56.203125 29.59375 \nL 56.203125 25.203125 \nL 14.890625 25.203125 \nQ 15.484375 15.921875 20.484375 11.0625 \nQ 25.484375 6.203125 34.421875 6.203125 \nQ 39.59375 6.203125 44.453125 7.46875 \nQ 49.3125 8.734375 54.109375 11.28125 \nL 54.109375 2.78125 \nQ 49.265625 0.734375 44.1875 -0.34375 \nQ 39.109375 -1.421875 33.890625 -1.421875 \nQ 20.796875 -1.421875 13.15625 6.1875 \nQ 5.515625 13.8125 5.515625 26.8125 \nQ 5.515625 40.234375 12.765625 48.109375 \nQ 20.015625 56 32.328125 56 \nQ 43.359375 56 49.78125 48.890625 \nQ 56.203125 41.796875 56.203125 29.59375 \nz\nM 47.21875 32.234375 \nQ 47.125 39.59375 43.09375 43.984375 \nQ 39.0625 48.390625 32.421875 48.390625 \nQ 24.90625 48.390625 20.390625 44.140625 \nQ 15.875 39.890625 15.1875 32.171875 \nz\n\" id=\"DejaVuSans-101\"/>\n      <path d=\"M 45.40625 46.390625 \nL 45.40625 75.984375 \nL 54.390625 75.984375 \nL 54.390625 0 \nL 45.40625 0 \nL 45.40625 8.203125 \nQ 42.578125 3.328125 38.25 0.953125 \nQ 33.9375 -1.421875 27.875 -1.421875 \nQ 17.96875 -1.421875 11.734375 6.484375 \nQ 5.515625 14.40625 5.515625 27.296875 \nQ 5.515625 40.1875 11.734375 48.09375 \nQ 17.96875 56 27.875 56 \nQ 33.9375 56 38.25 53.625 \nQ 42.578125 51.265625 45.40625 46.390625 \nz\nM 14.796875 27.296875 \nQ 14.796875 17.390625 18.875 11.75 \nQ 22.953125 6.109375 30.078125 6.109375 \nQ 37.203125 6.109375 41.296875 11.75 \nQ 45.40625 17.390625 45.40625 27.296875 \nQ 45.40625 37.203125 41.296875 42.84375 \nQ 37.203125 48.484375 30.078125 48.484375 \nQ 22.953125 48.484375 18.875 42.84375 \nQ 14.796875 37.203125 14.796875 27.296875 \nz\n\" id=\"DejaVuSans-100\"/>\n      <path d=\"M 9.421875 54.6875 \nL 18.40625 54.6875 \nL 18.40625 0 \nL 9.421875 0 \nz\nM 9.421875 75.984375 \nL 18.40625 75.984375 \nL 18.40625 64.59375 \nL 9.421875 64.59375 \nz\n\" id=\"DejaVuSans-105\"/>\n      <path d=\"M 48.78125 52.59375 \nL 48.78125 44.1875 \nQ 44.96875 46.296875 41.140625 47.34375 \nQ 37.3125 48.390625 33.40625 48.390625 \nQ 24.65625 48.390625 19.8125 42.84375 \nQ 14.984375 37.3125 14.984375 27.296875 \nQ 14.984375 17.28125 19.8125 11.734375 \nQ 24.65625 6.203125 33.40625 6.203125 \nQ 37.3125 6.203125 41.140625 7.25 \nQ 44.96875 8.296875 48.78125 10.40625 \nL 48.78125 2.09375 \nQ 45.015625 0.34375 40.984375 -0.53125 \nQ 36.96875 -1.421875 32.421875 -1.421875 \nQ 20.0625 -1.421875 12.78125 6.34375 \nQ 5.515625 14.109375 5.515625 27.296875 \nQ 5.515625 40.671875 12.859375 48.328125 \nQ 20.21875 56 33.015625 56 \nQ 37.15625 56 41.109375 55.140625 \nQ 45.0625 54.296875 48.78125 52.59375 \nz\n\" id=\"DejaVuSans-99\"/>\n      <path d=\"M 30.609375 48.390625 \nQ 23.390625 48.390625 19.1875 42.75 \nQ 14.984375 37.109375 14.984375 27.296875 \nQ 14.984375 17.484375 19.15625 11.84375 \nQ 23.34375 6.203125 30.609375 6.203125 \nQ 37.796875 6.203125 41.984375 11.859375 \nQ 46.1875 17.53125 46.1875 27.296875 \nQ 46.1875 37.015625 41.984375 42.703125 \nQ 37.796875 48.390625 30.609375 48.390625 \nz\nM 30.609375 56 \nQ 42.328125 56 49.015625 48.375 \nQ 55.71875 40.765625 55.71875 27.296875 \nQ 55.71875 13.875 49.015625 6.21875 \nQ 42.328125 -1.421875 30.609375 -1.421875 \nQ 18.84375 -1.421875 12.171875 6.21875 \nQ 5.515625 13.875 5.515625 27.296875 \nQ 5.515625 40.765625 12.171875 48.375 \nQ 18.84375 56 30.609375 56 \nz\nM 37.40625 79.984375 \nL 47.125 79.984375 \nL 31.21875 61.625 \nL 23.734375 61.625 \nz\n\" id=\"DejaVuSans-243\"/>\n      <path d=\"M 54.890625 33.015625 \nL 54.890625 0 \nL 45.90625 0 \nL 45.90625 32.71875 \nQ 45.90625 40.484375 42.875 44.328125 \nQ 39.84375 48.1875 33.796875 48.1875 \nQ 26.515625 48.1875 22.3125 43.546875 \nQ 18.109375 38.921875 18.109375 30.90625 \nL 18.109375 0 \nL 9.078125 0 \nL 9.078125 54.6875 \nL 18.109375 54.6875 \nL 18.109375 46.1875 \nQ 21.34375 51.125 25.703125 53.5625 \nQ 30.078125 56 35.796875 56 \nQ 45.21875 56 50.046875 50.171875 \nQ 54.890625 44.34375 54.890625 33.015625 \nz\n\" id=\"DejaVuSans-110\"/>\n     </defs>\n     <g style=\"fill:#262626;\" transform=\"translate(142.847656 284.474687)scale(0.1 -0.1)\">\n      <use xlink:href=\"#DejaVuSans-80\"/>\n      <use x=\"58.552734\" xlink:href=\"#DejaVuSans-114\"/>\n      <use x=\"97.416016\" xlink:href=\"#DejaVuSans-101\"/>\n      <use x=\"158.939453\" xlink:href=\"#DejaVuSans-100\"/>\n      <use x=\"222.416016\" xlink:href=\"#DejaVuSans-105\"/>\n      <use x=\"250.199219\" xlink:href=\"#DejaVuSans-99\"/>\n      <use x=\"305.179688\" xlink:href=\"#DejaVuSans-99\"/>\n      <use x=\"360.160156\" xlink:href=\"#DejaVuSans-105\"/>\n      <use x=\"387.943359\" xlink:href=\"#DejaVuSans-243\"/>\n      <use x=\"449.125\" xlink:href=\"#DejaVuSans-110\"/>\n     </g>\n    </g>\n   </g>\n   <g id=\"matplotlib.axis_2\">\n    <g id=\"ytick_1\">\n     <g id=\"text_4\">\n      <!-- 0 -->\n      <g style=\"fill:#262626;\" transform=\"translate(38.410937 84.947344)scale(0.1 -0.1)\">\n       <use xlink:href=\"#DejaVuSans-48\"/>\n      </g>\n     </g>\n    </g>\n    <g id=\"ytick_2\">\n     <g id=\"text_5\">\n      <!-- 1 -->\n      <g style=\"fill:#262626;\" transform=\"translate(38.410937 201.647344)scale(0.1 -0.1)\">\n       <use xlink:href=\"#DejaVuSans-49\"/>\n      </g>\n     </g>\n    </g>\n    <g id=\"text_6\">\n     <!-- Etiqueta -->\n     <defs>\n      <path d=\"M 9.8125 72.90625 \nL 55.90625 72.90625 \nL 55.90625 64.59375 \nL 19.671875 64.59375 \nL 19.671875 43.015625 \nL 54.390625 43.015625 \nL 54.390625 34.71875 \nL 19.671875 34.71875 \nL 19.671875 8.296875 \nL 56.78125 8.296875 \nL 56.78125 0 \nL 9.8125 0 \nz\n\" id=\"DejaVuSans-69\"/>\n      <path d=\"M 18.3125 70.21875 \nL 18.3125 54.6875 \nL 36.8125 54.6875 \nL 36.8125 47.703125 \nL 18.3125 47.703125 \nL 18.3125 18.015625 \nQ 18.3125 11.328125 20.140625 9.421875 \nQ 21.96875 7.515625 27.59375 7.515625 \nL 36.8125 7.515625 \nL 36.8125 0 \nL 27.59375 0 \nQ 17.1875 0 13.234375 3.875 \nQ 9.28125 7.765625 9.28125 18.015625 \nL 9.28125 47.703125 \nL 2.6875 47.703125 \nL 2.6875 54.6875 \nL 9.28125 54.6875 \nL 9.28125 70.21875 \nz\n\" id=\"DejaVuSans-116\"/>\n      <path d=\"M 14.796875 27.296875 \nQ 14.796875 17.390625 18.875 11.75 \nQ 22.953125 6.109375 30.078125 6.109375 \nQ 37.203125 6.109375 41.296875 11.75 \nQ 45.40625 17.390625 45.40625 27.296875 \nQ 45.40625 37.203125 41.296875 42.84375 \nQ 37.203125 48.484375 30.078125 48.484375 \nQ 22.953125 48.484375 18.875 42.84375 \nQ 14.796875 37.203125 14.796875 27.296875 \nz\nM 45.40625 8.203125 \nQ 42.578125 3.328125 38.25 0.953125 \nQ 33.9375 -1.421875 27.875 -1.421875 \nQ 17.96875 -1.421875 11.734375 6.484375 \nQ 5.515625 14.40625 5.515625 27.296875 \nQ 5.515625 40.1875 11.734375 48.09375 \nQ 17.96875 56 27.875 56 \nQ 33.9375 56 38.25 53.625 \nQ 42.578125 51.265625 45.40625 46.390625 \nL 45.40625 54.6875 \nL 54.390625 54.6875 \nL 54.390625 -20.796875 \nL 45.40625 -20.796875 \nz\n\" id=\"DejaVuSans-113\"/>\n      <path d=\"M 8.5 21.578125 \nL 8.5 54.6875 \nL 17.484375 54.6875 \nL 17.484375 21.921875 \nQ 17.484375 14.15625 20.5 10.265625 \nQ 23.53125 6.390625 29.59375 6.390625 \nQ 36.859375 6.390625 41.078125 11.03125 \nQ 45.3125 15.671875 45.3125 23.6875 \nL 45.3125 54.6875 \nL 54.296875 54.6875 \nL 54.296875 0 \nL 45.3125 0 \nL 45.3125 8.40625 \nQ 42.046875 3.421875 37.71875 1 \nQ 33.40625 -1.421875 27.6875 -1.421875 \nQ 18.265625 -1.421875 13.375 4.4375 \nQ 8.5 10.296875 8.5 21.578125 \nz\nM 31.109375 56 \nz\n\" id=\"DejaVuSans-117\"/>\n      <path d=\"M 34.28125 27.484375 \nQ 23.390625 27.484375 19.1875 25 \nQ 14.984375 22.515625 14.984375 16.5 \nQ 14.984375 11.71875 18.140625 8.90625 \nQ 21.296875 6.109375 26.703125 6.109375 \nQ 34.1875 6.109375 38.703125 11.40625 \nQ 43.21875 16.703125 43.21875 25.484375 \nL 43.21875 27.484375 \nz\nM 52.203125 31.203125 \nL 52.203125 0 \nL 43.21875 0 \nL 43.21875 8.296875 \nQ 40.140625 3.328125 35.546875 0.953125 \nQ 30.953125 -1.421875 24.3125 -1.421875 \nQ 15.921875 -1.421875 10.953125 3.296875 \nQ 6 8.015625 6 15.921875 \nQ 6 25.140625 12.171875 29.828125 \nQ 18.359375 34.515625 30.609375 34.515625 \nL 43.21875 34.515625 \nL 43.21875 35.40625 \nQ 43.21875 41.609375 39.140625 45 \nQ 35.0625 48.390625 27.6875 48.390625 \nQ 23 48.390625 18.546875 47.265625 \nQ 14.109375 46.140625 10.015625 43.890625 \nL 10.015625 52.203125 \nQ 14.9375 54.109375 19.578125 55.046875 \nQ 24.21875 56 28.609375 56 \nQ 40.484375 56 46.34375 49.84375 \nQ 52.203125 43.703125 52.203125 31.203125 \nz\n\" id=\"DejaVuSans-97\"/>\n     </defs>\n     <g style=\"fill:#262626;\" transform=\"translate(32.33125 160.450469)rotate(-90)scale(0.1 -0.1)\">\n      <use xlink:href=\"#DejaVuSans-69\"/>\n      <use x=\"63.183594\" xlink:href=\"#DejaVuSans-116\"/>\n      <use x=\"102.392578\" xlink:href=\"#DejaVuSans-105\"/>\n      <use x=\"130.175781\" xlink:href=\"#DejaVuSans-113\"/>\n      <use x=\"193.652344\" xlink:href=\"#DejaVuSans-117\"/>\n      <use x=\"257.03125\" xlink:href=\"#DejaVuSans-101\"/>\n      <use x=\"318.554688\" xlink:href=\"#DejaVuSans-116\"/>\n      <use x=\"357.763672\" xlink:href=\"#DejaVuSans-97\"/>\n     </g>\n    </g>\n   </g>\n   <g id=\"patch_3\">\n    <path d=\"M 51.773437 256.198125 \nL 51.773437 22.798125 \n\" style=\"fill:none;stroke:#262626;stroke-linecap:square;stroke-linejoin:miter;stroke-width:0.8;\"/>\n   </g>\n   <g id=\"patch_4\">\n    <path d=\"M 285.173437 256.198125 \nL 285.173437 22.798125 \n\" style=\"fill:none;stroke:#262626;stroke-linecap:square;stroke-linejoin:miter;stroke-width:0.8;\"/>\n   </g>\n   <g id=\"patch_5\">\n    <path d=\"M 51.773437 256.198125 \nL 285.173437 256.198125 \n\" style=\"fill:none;stroke:#262626;stroke-linecap:square;stroke-linejoin:miter;stroke-width:0.8;\"/>\n   </g>\n   <g id=\"patch_6\">\n    <path d=\"M 51.773437 22.798125 \nL 285.173437 22.798125 \n\" style=\"fill:none;stroke:#262626;stroke-linecap:square;stroke-linejoin:miter;stroke-width:0.8;\"/>\n   </g>\n   <g id=\"text_7\">\n    <!-- 3993 -->\n    <defs>\n     <path d=\"M 40.578125 39.3125 \nQ 47.65625 37.796875 51.625 33 \nQ 55.609375 28.21875 55.609375 21.1875 \nQ 55.609375 10.40625 48.1875 4.484375 \nQ 40.765625 -1.421875 27.09375 -1.421875 \nQ 22.515625 -1.421875 17.65625 -0.515625 \nQ 12.796875 0.390625 7.625 2.203125 \nL 7.625 11.71875 \nQ 11.71875 9.328125 16.59375 8.109375 \nQ 21.484375 6.890625 26.8125 6.890625 \nQ 36.078125 6.890625 40.9375 10.546875 \nQ 45.796875 14.203125 45.796875 21.1875 \nQ 45.796875 27.640625 41.28125 31.265625 \nQ 36.765625 34.90625 28.71875 34.90625 \nL 20.21875 34.90625 \nL 20.21875 43.015625 \nL 29.109375 43.015625 \nQ 36.375 43.015625 40.234375 45.921875 \nQ 44.09375 48.828125 44.09375 54.296875 \nQ 44.09375 59.90625 40.109375 62.90625 \nQ 36.140625 65.921875 28.71875 65.921875 \nQ 24.65625 65.921875 20.015625 65.03125 \nQ 15.375 64.15625 9.8125 62.3125 \nL 9.8125 71.09375 \nQ 15.4375 72.65625 20.34375 73.4375 \nQ 25.25 74.21875 29.59375 74.21875 \nQ 40.828125 74.21875 47.359375 69.109375 \nQ 53.90625 64.015625 53.90625 55.328125 \nQ 53.90625 49.265625 50.4375 45.09375 \nQ 46.96875 40.921875 40.578125 39.3125 \nz\n\" id=\"DejaVuSans-51\"/>\n     <path d=\"M 10.984375 1.515625 \nL 10.984375 10.5 \nQ 14.703125 8.734375 18.5 7.8125 \nQ 22.3125 6.890625 25.984375 6.890625 \nQ 35.75 6.890625 40.890625 13.453125 \nQ 46.046875 20.015625 46.78125 33.40625 \nQ 43.953125 29.203125 39.59375 26.953125 \nQ 35.25 24.703125 29.984375 24.703125 \nQ 19.046875 24.703125 12.671875 31.3125 \nQ 6.296875 37.9375 6.296875 49.421875 \nQ 6.296875 60.640625 12.9375 67.421875 \nQ 19.578125 74.21875 30.609375 74.21875 \nQ 43.265625 74.21875 49.921875 64.515625 \nQ 56.59375 54.828125 56.59375 36.375 \nQ 56.59375 19.140625 48.40625 8.859375 \nQ 40.234375 -1.421875 26.421875 -1.421875 \nQ 22.703125 -1.421875 18.890625 -0.6875 \nQ 15.09375 0.046875 10.984375 1.515625 \nz\nM 30.609375 32.421875 \nQ 37.25 32.421875 41.125 36.953125 \nQ 45.015625 41.5 45.015625 49.421875 \nQ 45.015625 57.28125 41.125 61.84375 \nQ 37.25 66.40625 30.609375 66.40625 \nQ 23.96875 66.40625 20.09375 61.84375 \nQ 16.21875 57.28125 16.21875 49.421875 \nQ 16.21875 41.5 20.09375 36.953125 \nQ 23.96875 32.421875 30.609375 32.421875 \nz\n\" id=\"DejaVuSans-57\"/>\n    </defs>\n    <g style=\"fill:#ffffff;\" transform=\"translate(97.398437 81.148125)scale(0.1 -0.1)\">\n     <use xlink:href=\"#DejaVuSans-51\"/>\n     <use x=\"63.623047\" xlink:href=\"#DejaVuSans-57\"/>\n     <use x=\"127.246094\" xlink:href=\"#DejaVuSans-57\"/>\n     <use x=\"190.869141\" xlink:href=\"#DejaVuSans-51\"/>\n    </g>\n   </g>\n   <g id=\"text_8\">\n    <!-- 3421 -->\n    <defs>\n     <path d=\"M 37.796875 64.3125 \nL 12.890625 25.390625 \nL 37.796875 25.390625 \nz\nM 35.203125 72.90625 \nL 47.609375 72.90625 \nL 47.609375 25.390625 \nL 58.015625 25.390625 \nL 58.015625 17.1875 \nL 47.609375 17.1875 \nL 47.609375 0 \nL 37.796875 0 \nL 37.796875 17.1875 \nL 4.890625 17.1875 \nL 4.890625 26.703125 \nz\n\" id=\"DejaVuSans-52\"/>\n     <path d=\"M 19.1875 8.296875 \nL 53.609375 8.296875 \nL 53.609375 0 \nL 7.328125 0 \nL 7.328125 8.296875 \nQ 12.9375 14.109375 22.625 23.890625 \nQ 32.328125 33.6875 34.8125 36.53125 \nQ 39.546875 41.84375 41.421875 45.53125 \nQ 43.3125 49.21875 43.3125 52.78125 \nQ 43.3125 58.59375 39.234375 62.25 \nQ 35.15625 65.921875 28.609375 65.921875 \nQ 23.96875 65.921875 18.8125 64.3125 \nQ 13.671875 62.703125 7.8125 59.421875 \nL 7.8125 69.390625 \nQ 13.765625 71.78125 18.9375 73 \nQ 24.125 74.21875 28.421875 74.21875 \nQ 39.75 74.21875 46.484375 68.546875 \nQ 53.21875 62.890625 53.21875 53.421875 \nQ 53.21875 48.921875 51.53125 44.890625 \nQ 49.859375 40.875 45.40625 35.40625 \nQ 44.1875 33.984375 37.640625 27.21875 \nQ 31.109375 20.453125 19.1875 8.296875 \nz\n\" id=\"DejaVuSans-50\"/>\n    </defs>\n    <g style=\"fill:#ffffff;\" transform=\"translate(214.098437 81.148125)scale(0.1 -0.1)\">\n     <use xlink:href=\"#DejaVuSans-51\"/>\n     <use x=\"63.623047\" xlink:href=\"#DejaVuSans-52\"/>\n     <use x=\"127.246094\" xlink:href=\"#DejaVuSans-50\"/>\n     <use x=\"190.869141\" xlink:href=\"#DejaVuSans-49\"/>\n    </g>\n   </g>\n   <g id=\"text_9\">\n    <!-- 2503 -->\n    <defs>\n     <path d=\"M 10.796875 72.90625 \nL 49.515625 72.90625 \nL 49.515625 64.59375 \nL 19.828125 64.59375 \nL 19.828125 46.734375 \nQ 21.96875 47.46875 24.109375 47.828125 \nQ 26.265625 48.1875 28.421875 48.1875 \nQ 40.625 48.1875 47.75 41.5 \nQ 54.890625 34.8125 54.890625 23.390625 \nQ 54.890625 11.625 47.5625 5.09375 \nQ 40.234375 -1.421875 26.90625 -1.421875 \nQ 22.3125 -1.421875 17.546875 -0.640625 \nQ 12.796875 0.140625 7.71875 1.703125 \nL 7.71875 11.625 \nQ 12.109375 9.234375 16.796875 8.0625 \nQ 21.484375 6.890625 26.703125 6.890625 \nQ 35.15625 6.890625 40.078125 11.328125 \nQ 45.015625 15.765625 45.015625 23.390625 \nQ 45.015625 31 40.078125 35.4375 \nQ 35.15625 39.890625 26.703125 39.890625 \nQ 22.75 39.890625 18.8125 39.015625 \nQ 14.890625 38.140625 10.796875 36.28125 \nz\n\" id=\"DejaVuSans-53\"/>\n    </defs>\n    <g style=\"fill:#ffffff;\" transform=\"translate(97.398437 197.848125)scale(0.1 -0.1)\">\n     <use xlink:href=\"#DejaVuSans-50\"/>\n     <use x=\"63.623047\" xlink:href=\"#DejaVuSans-53\"/>\n     <use x=\"127.246094\" xlink:href=\"#DejaVuSans-48\"/>\n     <use x=\"190.869141\" xlink:href=\"#DejaVuSans-51\"/>\n    </g>\n   </g>\n   <g id=\"text_10\">\n    <!-- 4911 -->\n    <g style=\"fill:#ffffff;\" transform=\"translate(214.098437 197.848125)scale(0.1 -0.1)\">\n     <use xlink:href=\"#DejaVuSans-52\"/>\n     <use x=\"63.623047\" xlink:href=\"#DejaVuSans-57\"/>\n     <use x=\"127.246094\" xlink:href=\"#DejaVuSans-49\"/>\n     <use x=\"190.869141\" xlink:href=\"#DejaVuSans-49\"/>\n    </g>\n   </g>\n   <g id=\"text_11\">\n    <!-- Matriz de Confusión Normalizada: Regresión Logística -->\n    <defs>\n     <path d=\"M 9.8125 72.90625 \nL 24.515625 72.90625 \nL 43.109375 23.296875 \nL 61.8125 72.90625 \nL 76.515625 72.90625 \nL 76.515625 0 \nL 66.890625 0 \nL 66.890625 64.015625 \nL 48.09375 14.015625 \nL 38.1875 14.015625 \nL 19.390625 64.015625 \nL 19.390625 0 \nL 9.8125 0 \nz\n\" id=\"DejaVuSans-77\"/>\n     <path d=\"M 5.515625 54.6875 \nL 48.1875 54.6875 \nL 48.1875 46.484375 \nL 14.40625 7.171875 \nL 48.1875 7.171875 \nL 48.1875 0 \nL 4.296875 0 \nL 4.296875 8.203125 \nL 38.09375 47.515625 \nL 5.515625 47.515625 \nz\n\" id=\"DejaVuSans-122\"/>\n     <path id=\"DejaVuSans-32\"/>\n     <path d=\"M 64.40625 67.28125 \nL 64.40625 56.890625 \nQ 59.421875 61.53125 53.78125 63.8125 \nQ 48.140625 66.109375 41.796875 66.109375 \nQ 29.296875 66.109375 22.65625 58.46875 \nQ 16.015625 50.828125 16.015625 36.375 \nQ 16.015625 21.96875 22.65625 14.328125 \nQ 29.296875 6.6875 41.796875 6.6875 \nQ 48.140625 6.6875 53.78125 8.984375 \nQ 59.421875 11.28125 64.40625 15.921875 \nL 64.40625 5.609375 \nQ 59.234375 2.09375 53.4375 0.328125 \nQ 47.65625 -1.421875 41.21875 -1.421875 \nQ 24.65625 -1.421875 15.125 8.703125 \nQ 5.609375 18.84375 5.609375 36.375 \nQ 5.609375 53.953125 15.125 64.078125 \nQ 24.65625 74.21875 41.21875 74.21875 \nQ 47.75 74.21875 53.53125 72.484375 \nQ 59.328125 70.75 64.40625 67.28125 \nz\n\" id=\"DejaVuSans-67\"/>\n     <path d=\"M 30.609375 48.390625 \nQ 23.390625 48.390625 19.1875 42.75 \nQ 14.984375 37.109375 14.984375 27.296875 \nQ 14.984375 17.484375 19.15625 11.84375 \nQ 23.34375 6.203125 30.609375 6.203125 \nQ 37.796875 6.203125 41.984375 11.859375 \nQ 46.1875 17.53125 46.1875 27.296875 \nQ 46.1875 37.015625 41.984375 42.703125 \nQ 37.796875 48.390625 30.609375 48.390625 \nz\nM 30.609375 56 \nQ 42.328125 56 49.015625 48.375 \nQ 55.71875 40.765625 55.71875 27.296875 \nQ 55.71875 13.875 49.015625 6.21875 \nQ 42.328125 -1.421875 30.609375 -1.421875 \nQ 18.84375 -1.421875 12.171875 6.21875 \nQ 5.515625 13.875 5.515625 27.296875 \nQ 5.515625 40.765625 12.171875 48.375 \nQ 18.84375 56 30.609375 56 \nz\n\" id=\"DejaVuSans-111\"/>\n     <path d=\"M 37.109375 75.984375 \nL 37.109375 68.5 \nL 28.515625 68.5 \nQ 23.6875 68.5 21.796875 66.546875 \nQ 19.921875 64.59375 19.921875 59.515625 \nL 19.921875 54.6875 \nL 34.71875 54.6875 \nL 34.71875 47.703125 \nL 19.921875 47.703125 \nL 19.921875 0 \nL 10.890625 0 \nL 10.890625 47.703125 \nL 2.296875 47.703125 \nL 2.296875 54.6875 \nL 10.890625 54.6875 \nL 10.890625 58.5 \nQ 10.890625 67.625 15.140625 71.796875 \nQ 19.390625 75.984375 28.609375 75.984375 \nz\n\" id=\"DejaVuSans-102\"/>\n     <path d=\"M 44.28125 53.078125 \nL 44.28125 44.578125 \nQ 40.484375 46.53125 36.375 47.5 \nQ 32.28125 48.484375 27.875 48.484375 \nQ 21.1875 48.484375 17.84375 46.4375 \nQ 14.5 44.390625 14.5 40.28125 \nQ 14.5 37.15625 16.890625 35.375 \nQ 19.28125 33.59375 26.515625 31.984375 \nL 29.59375 31.296875 \nQ 39.15625 29.25 43.1875 25.515625 \nQ 47.21875 21.78125 47.21875 15.09375 \nQ 47.21875 7.46875 41.1875 3.015625 \nQ 35.15625 -1.421875 24.609375 -1.421875 \nQ 20.21875 -1.421875 15.453125 -0.5625 \nQ 10.6875 0.296875 5.421875 2 \nL 5.421875 11.28125 \nQ 10.40625 8.6875 15.234375 7.390625 \nQ 20.0625 6.109375 24.8125 6.109375 \nQ 31.15625 6.109375 34.5625 8.28125 \nQ 37.984375 10.453125 37.984375 14.40625 \nQ 37.984375 18.0625 35.515625 20.015625 \nQ 33.0625 21.96875 24.703125 23.78125 \nL 21.578125 24.515625 \nQ 13.234375 26.265625 9.515625 29.90625 \nQ 5.8125 33.546875 5.8125 39.890625 \nQ 5.8125 47.609375 11.28125 51.796875 \nQ 16.75 56 26.8125 56 \nQ 31.78125 56 36.171875 55.265625 \nQ 40.578125 54.546875 44.28125 53.078125 \nz\n\" id=\"DejaVuSans-115\"/>\n     <path d=\"M 9.8125 72.90625 \nL 23.09375 72.90625 \nL 55.421875 11.921875 \nL 55.421875 72.90625 \nL 64.984375 72.90625 \nL 64.984375 0 \nL 51.703125 0 \nL 19.390625 60.984375 \nL 19.390625 0 \nL 9.8125 0 \nz\n\" id=\"DejaVuSans-78\"/>\n     <path d=\"M 52 44.1875 \nQ 55.375 50.25 60.0625 53.125 \nQ 64.75 56 71.09375 56 \nQ 79.640625 56 84.28125 50.015625 \nQ 88.921875 44.046875 88.921875 33.015625 \nL 88.921875 0 \nL 79.890625 0 \nL 79.890625 32.71875 \nQ 79.890625 40.578125 77.09375 44.375 \nQ 74.3125 48.1875 68.609375 48.1875 \nQ 61.625 48.1875 57.5625 43.546875 \nQ 53.515625 38.921875 53.515625 30.90625 \nL 53.515625 0 \nL 44.484375 0 \nL 44.484375 32.71875 \nQ 44.484375 40.625 41.703125 44.40625 \nQ 38.921875 48.1875 33.109375 48.1875 \nQ 26.21875 48.1875 22.15625 43.53125 \nQ 18.109375 38.875 18.109375 30.90625 \nL 18.109375 0 \nL 9.078125 0 \nL 9.078125 54.6875 \nL 18.109375 54.6875 \nL 18.109375 46.1875 \nQ 21.1875 51.21875 25.484375 53.609375 \nQ 29.78125 56 35.6875 56 \nQ 41.65625 56 45.828125 52.96875 \nQ 50 49.953125 52 44.1875 \nz\n\" id=\"DejaVuSans-109\"/>\n     <path d=\"M 9.421875 75.984375 \nL 18.40625 75.984375 \nL 18.40625 0 \nL 9.421875 0 \nz\n\" id=\"DejaVuSans-108\"/>\n     <path d=\"M 11.71875 12.40625 \nL 22.015625 12.40625 \nL 22.015625 0 \nL 11.71875 0 \nz\nM 11.71875 51.703125 \nL 22.015625 51.703125 \nL 22.015625 39.3125 \nL 11.71875 39.3125 \nz\n\" id=\"DejaVuSans-58\"/>\n     <path d=\"M 44.390625 34.1875 \nQ 47.5625 33.109375 50.5625 29.59375 \nQ 53.5625 26.078125 56.59375 19.921875 \nL 66.609375 0 \nL 56 0 \nL 46.6875 18.703125 \nQ 43.0625 26.03125 39.671875 28.421875 \nQ 36.28125 30.8125 30.421875 30.8125 \nL 19.671875 30.8125 \nL 19.671875 0 \nL 9.8125 0 \nL 9.8125 72.90625 \nL 32.078125 72.90625 \nQ 44.578125 72.90625 50.734375 67.671875 \nQ 56.890625 62.453125 56.890625 51.90625 \nQ 56.890625 45.015625 53.6875 40.46875 \nQ 50.484375 35.9375 44.390625 34.1875 \nz\nM 19.671875 64.796875 \nL 19.671875 38.921875 \nL 32.078125 38.921875 \nQ 39.203125 38.921875 42.84375 42.21875 \nQ 46.484375 45.515625 46.484375 51.90625 \nQ 46.484375 58.296875 42.84375 61.546875 \nQ 39.203125 64.796875 32.078125 64.796875 \nz\n\" id=\"DejaVuSans-82\"/>\n     <path d=\"M 45.40625 27.984375 \nQ 45.40625 37.75 41.375 43.109375 \nQ 37.359375 48.484375 30.078125 48.484375 \nQ 22.859375 48.484375 18.828125 43.109375 \nQ 14.796875 37.75 14.796875 27.984375 \nQ 14.796875 18.265625 18.828125 12.890625 \nQ 22.859375 7.515625 30.078125 7.515625 \nQ 37.359375 7.515625 41.375 12.890625 \nQ 45.40625 18.265625 45.40625 27.984375 \nz\nM 54.390625 6.78125 \nQ 54.390625 -7.171875 48.1875 -13.984375 \nQ 42 -20.796875 29.203125 -20.796875 \nQ 24.46875 -20.796875 20.265625 -20.09375 \nQ 16.0625 -19.390625 12.109375 -17.921875 \nL 12.109375 -9.1875 \nQ 16.0625 -11.328125 19.921875 -12.34375 \nQ 23.78125 -13.375 27.78125 -13.375 \nQ 36.625 -13.375 41.015625 -8.765625 \nQ 45.40625 -4.15625 45.40625 5.171875 \nL 45.40625 9.625 \nQ 42.625 4.78125 38.28125 2.390625 \nQ 33.9375 0 27.875 0 \nQ 17.828125 0 11.671875 7.65625 \nQ 5.515625 15.328125 5.515625 27.984375 \nQ 5.515625 40.671875 11.671875 48.328125 \nQ 17.828125 56 27.875 56 \nQ 33.9375 56 38.28125 53.609375 \nQ 42.625 51.21875 45.40625 46.390625 \nL 45.40625 54.6875 \nL 54.390625 54.6875 \nz\n\" id=\"DejaVuSans-103\"/>\n     <path d=\"M 9.8125 72.90625 \nL 19.671875 72.90625 \nL 19.671875 8.296875 \nL 55.171875 8.296875 \nL 55.171875 0 \nL 9.8125 0 \nz\n\" id=\"DejaVuSans-76\"/>\n     <path d=\"M 20.65625 79.984375 \nL 30.375 79.984375 \nL 14.46875 61.625 \nL 6.984375 61.625 \nz\nM 9.421875 54.6875 \nL 18.40625 54.6875 \nL 18.40625 0 \nL 9.421875 0 \nz\nM 13.921875 56 \nz\n\" id=\"DejaVuSans-237\"/>\n    </defs>\n    <g style=\"fill:#262626;\" transform=\"translate(7.2 16.798125)scale(0.12 -0.12)\">\n     <use xlink:href=\"#DejaVuSans-77\"/>\n     <use x=\"86.279297\" xlink:href=\"#DejaVuSans-97\"/>\n     <use x=\"147.558594\" xlink:href=\"#DejaVuSans-116\"/>\n     <use x=\"186.767578\" xlink:href=\"#DejaVuSans-114\"/>\n     <use x=\"227.880859\" xlink:href=\"#DejaVuSans-105\"/>\n     <use x=\"255.664062\" xlink:href=\"#DejaVuSans-122\"/>\n     <use x=\"308.154297\" xlink:href=\"#DejaVuSans-32\"/>\n     <use x=\"339.941406\" xlink:href=\"#DejaVuSans-100\"/>\n     <use x=\"403.417969\" xlink:href=\"#DejaVuSans-101\"/>\n     <use x=\"464.941406\" xlink:href=\"#DejaVuSans-32\"/>\n     <use x=\"496.728516\" xlink:href=\"#DejaVuSans-67\"/>\n     <use x=\"566.552734\" xlink:href=\"#DejaVuSans-111\"/>\n     <use x=\"627.734375\" xlink:href=\"#DejaVuSans-110\"/>\n     <use x=\"691.113281\" xlink:href=\"#DejaVuSans-102\"/>\n     <use x=\"726.318359\" xlink:href=\"#DejaVuSans-117\"/>\n     <use x=\"789.697266\" xlink:href=\"#DejaVuSans-115\"/>\n     <use x=\"841.796875\" xlink:href=\"#DejaVuSans-105\"/>\n     <use x=\"869.580078\" xlink:href=\"#DejaVuSans-243\"/>\n     <use x=\"930.761719\" xlink:href=\"#DejaVuSans-110\"/>\n     <use x=\"994.140625\" xlink:href=\"#DejaVuSans-32\"/>\n     <use x=\"1025.927734\" xlink:href=\"#DejaVuSans-78\"/>\n     <use x=\"1100.732422\" xlink:href=\"#DejaVuSans-111\"/>\n     <use x=\"1161.914062\" xlink:href=\"#DejaVuSans-114\"/>\n     <use x=\"1201.277344\" xlink:href=\"#DejaVuSans-109\"/>\n     <use x=\"1298.689453\" xlink:href=\"#DejaVuSans-97\"/>\n     <use x=\"1359.96875\" xlink:href=\"#DejaVuSans-108\"/>\n     <use x=\"1387.751953\" xlink:href=\"#DejaVuSans-105\"/>\n     <use x=\"1415.535156\" xlink:href=\"#DejaVuSans-122\"/>\n     <use x=\"1468.025391\" xlink:href=\"#DejaVuSans-97\"/>\n     <use x=\"1529.304688\" xlink:href=\"#DejaVuSans-100\"/>\n     <use x=\"1592.78125\" xlink:href=\"#DejaVuSans-97\"/>\n     <use x=\"1654.060547\" xlink:href=\"#DejaVuSans-58\"/>\n     <use x=\"1687.751953\" xlink:href=\"#DejaVuSans-32\"/>\n     <use x=\"1719.539062\" xlink:href=\"#DejaVuSans-82\"/>\n     <use x=\"1784.521484\" xlink:href=\"#DejaVuSans-101\"/>\n     <use x=\"1846.044922\" xlink:href=\"#DejaVuSans-103\"/>\n     <use x=\"1909.521484\" xlink:href=\"#DejaVuSans-114\"/>\n     <use x=\"1948.384766\" xlink:href=\"#DejaVuSans-101\"/>\n     <use x=\"2009.908203\" xlink:href=\"#DejaVuSans-115\"/>\n     <use x=\"2062.007812\" xlink:href=\"#DejaVuSans-105\"/>\n     <use x=\"2089.791016\" xlink:href=\"#DejaVuSans-243\"/>\n     <use x=\"2150.972656\" xlink:href=\"#DejaVuSans-110\"/>\n     <use x=\"2214.351562\" xlink:href=\"#DejaVuSans-32\"/>\n     <use x=\"2246.138672\" xlink:href=\"#DejaVuSans-76\"/>\n     <use x=\"2300.101562\" xlink:href=\"#DejaVuSans-111\"/>\n     <use x=\"2361.283203\" xlink:href=\"#DejaVuSans-103\"/>\n     <use x=\"2424.759766\" xlink:href=\"#DejaVuSans-237\"/>\n     <use x=\"2452.542969\" xlink:href=\"#DejaVuSans-115\"/>\n     <use x=\"2504.642578\" xlink:href=\"#DejaVuSans-116\"/>\n     <use x=\"2543.851562\" xlink:href=\"#DejaVuSans-105\"/>\n     <use x=\"2571.634766\" xlink:href=\"#DejaVuSans-99\"/>\n     <use x=\"2626.615234\" xlink:href=\"#DejaVuSans-97\"/>\n    </g>\n   </g>\n  </g>\n  <g id=\"axes_2\">\n   <g id=\"patch_7\">\n    <path clip-path=\"url(#p1be5d7595a)\" d=\"M 305.558812 256.198125 \nL 305.558812 255.286406 \nL 305.558812 23.709844 \nL 305.558812 22.798125 \nL 317.228813 22.798125 \nL 317.228813 23.709844 \nL 317.228813 255.286406 \nL 317.228813 256.198125 \nz\n\" style=\"fill:#ffffff;stroke:#ffffff;stroke-linejoin:miter;stroke-width:0.01;\"/>\n   </g>\n   <g id=\"matplotlib.axis_3\"/>\n   <g id=\"matplotlib.axis_4\">\n    <g id=\"ytick_3\">\n     <g id=\"line2d_1\">\n      <defs>\n       <path d=\"M 0 0 \nL 3.5 0 \n\" id=\"mdac9e00022\" style=\"stroke:#262626;stroke-width:0.8;\"/>\n      </defs>\n      <g>\n       <use style=\"fill:#262626;stroke:#262626;stroke-width:0.8;\" x=\"317.228813\" xlink:href=\"#mdac9e00022\" y=\"208.025451\"/>\n      </g>\n     </g>\n     <g id=\"text_12\">\n      <!-- 3000 -->\n      <g style=\"fill:#262626;\" transform=\"translate(324.228813 211.824669)scale(0.1 -0.1)\">\n       <use xlink:href=\"#DejaVuSans-51\"/>\n       <use x=\"63.623047\" xlink:href=\"#DejaVuSans-48\"/>\n       <use x=\"127.246094\" xlink:href=\"#DejaVuSans-48\"/>\n       <use x=\"190.869141\" xlink:href=\"#DejaVuSans-48\"/>\n      </g>\n     </g>\n    </g>\n    <g id=\"ytick_4\">\n     <g id=\"line2d_2\">\n      <g>\n       <use style=\"fill:#262626;stroke:#262626;stroke-width:0.8;\" x=\"317.228813\" xlink:href=\"#mdac9e00022\" y=\"159.561995\"/>\n      </g>\n     </g>\n     <g id=\"text_13\">\n      <!-- 3500 -->\n      <g style=\"fill:#262626;\" transform=\"translate(324.228813 163.361214)scale(0.1 -0.1)\">\n       <use xlink:href=\"#DejaVuSans-51\"/>\n       <use x=\"63.623047\" xlink:href=\"#DejaVuSans-53\"/>\n       <use x=\"127.246094\" xlink:href=\"#DejaVuSans-48\"/>\n       <use x=\"190.869141\" xlink:href=\"#DejaVuSans-48\"/>\n      </g>\n     </g>\n    </g>\n    <g id=\"ytick_5\">\n     <g id=\"line2d_3\">\n      <g>\n       <use style=\"fill:#262626;stroke:#262626;stroke-width:0.8;\" x=\"317.228813\" xlink:href=\"#mdac9e00022\" y=\"111.09854\"/>\n      </g>\n     </g>\n     <g id=\"text_14\">\n      <!-- 4000 -->\n      <g style=\"fill:#262626;\" transform=\"translate(324.228813 114.897759)scale(0.1 -0.1)\">\n       <use xlink:href=\"#DejaVuSans-52\"/>\n       <use x=\"63.623047\" xlink:href=\"#DejaVuSans-48\"/>\n       <use x=\"127.246094\" xlink:href=\"#DejaVuSans-48\"/>\n       <use x=\"190.869141\" xlink:href=\"#DejaVuSans-48\"/>\n      </g>\n     </g>\n    </g>\n    <g id=\"ytick_6\">\n     <g id=\"line2d_4\">\n      <g>\n       <use style=\"fill:#262626;stroke:#262626;stroke-width:0.8;\" x=\"317.228813\" xlink:href=\"#mdac9e00022\" y=\"62.635085\"/>\n      </g>\n     </g>\n     <g id=\"text_15\">\n      <!-- 4500 -->\n      <g style=\"fill:#262626;\" transform=\"translate(324.228813 66.434304)scale(0.1 -0.1)\">\n       <use xlink:href=\"#DejaVuSans-52\"/>\n       <use x=\"63.623047\" xlink:href=\"#DejaVuSans-53\"/>\n       <use x=\"127.246094\" xlink:href=\"#DejaVuSans-48\"/>\n       <use x=\"190.869141\" xlink:href=\"#DejaVuSans-48\"/>\n      </g>\n     </g>\n    </g>\n   </g>\n   <image height=\"233\" id=\"image23c0c46415\" transform=\"scale(1 -1)translate(0 -233)\" width=\"11\" x=\"306\" xlink:href=\"data:image/png;base64,\niVBORw0KGgoAAAANSUhEUgAAAAsAAADpCAYAAADyIM2vAAAABHNCSVQICAgIfAhkiAAAARdJREFUaIHtmEEKwzAMBNXi/z+3h0LiHpOjpzCwCs55WSZaSXby+nznrMVnzFrW1gDaGkBbY524akygNjFI6Yjze10aw0zrHIEB+zmCGTmXxnxqpUtZMpv5Jt5x38UdmeEJa2F0LF0Ks3btORteqLyNFMLMQkHOGdWIYSZiEsohjhXpOs3Zq7O5kVCCwFkcWBS3dtB7MxiyGA/AQZmBWDwHO3Zdy4EFYrbMQzDWjenKJTMo3p+9Rlo3NntDPOi9uNcpzOlOaaSUJYOY+/VzSChi3GzlRjBv57+de8YdggGcYZ0955DSaX9cxUbSxGKCu86XOOUFM+J+fp0bJlhMvP7l3dRZwziPCIzHO5NJEXuDxd2wztv5en48n/5RooIUWgAAAABJRU5ErkJggg==\" y=\"-22\"/>\n   <g id=\"patch_8\">\n    <path d=\"M 305.558812 256.198125 \nL 305.558812 255.286406 \nL 305.558812 23.709844 \nL 305.558812 22.798125 \nL 317.228813 22.798125 \nL 317.228813 23.709844 \nL 317.228813 255.286406 \nL 317.228813 256.198125 \nz\n\" style=\"fill:none;stroke:#262626;stroke-linejoin:miter;stroke-width:0.8;\"/>\n   </g>\n  </g>\n </g>\n <defs>\n  <clipPath id=\"p9ce3ec8c31\">\n   <rect height=\"233.4\" width=\"233.4\" x=\"51.773437\" y=\"22.798125\"/>\n  </clipPath>\n  <clipPath id=\"p1be5d7595a\">\n   <rect height=\"233.4\" width=\"11.67\" x=\"305.558812\" y=\"22.798125\"/>\n  </clipPath>\n </defs>\n</svg>\n"
          },
          "metadata": {}
        }
      ]
    },
    {
      "cell_type": "markdown",
      "metadata": {
        "id": "W1Shy5KmL8oI"
      },
      "source": [
        "## Red Neuronal, Perceptrón Multicapa\n",
        "\n",
        "Ahora utilice la función `MLPClassifier` de la librería SciKit-Learn para desarrollar una red neuronal que permita mejorar el rendimiento del clasificador _baseline_ desarrollado.\n",
        "\n",
        "### Caso A"
      ]
    },
    {
      "cell_type": "code",
      "metadata": {
        "colab": {
          "base_uri": "https://localhost:8080/",
          "height": 515
        },
        "id": "Q5dMsq2VL8oJ",
        "outputId": "996c3a7b-01c4-4861-cc49-c2c71f894fda"
      },
      "source": [
        "from sklearn.neural_network import MLPClassifier\n",
        "\n",
        "\n",
        "model = MLPClassifier(hidden_layer_sizes=[20 , 20], activation='relu') # Inicialice un modelo de red neuronal con 2 capas escondidas x 20 neuronas en cada capa y función de activación ReLu #\n",
        "model.fit(X_train_subA, y_train) # Ajuste el modelo con los datos del conjunto A #\n",
        "y_predict = model.predict(X_test_subA) # Realice la predicción de etiquetas con los datos de prueba del conjunto A #\n",
        "\n",
        "print(f'Precisión {round(accuracy_score(y_test, y_predict),5)}')\n",
        "print(pd.DataFrame(confusion_matrix(y_test,y_predict)))\n",
        "\n",
        "plot_confusion_matrix(confusion_matrix(y_test,y_predict),\n",
        "                      classes=class_names, \n",
        "                      title='Matriz de Confusión Normalizada: Red Neuronal')"
      ],
      "execution_count": 195,
      "outputs": [
        {
          "output_type": "stream",
          "name": "stdout",
          "text": [
            "Precisión 0.82796\n",
            "      0     1\n",
            "0  6344  1070\n",
            "1  1481  5933\n",
            "[[6344 1070]\n",
            " [1481 5933]]\n"
          ]
        },
        {
          "output_type": "display_data",
          "data": {
            "text/plain": [
              "<Figure size 432x288 with 2 Axes>"
            ],
            "image/svg+xml": "<?xml version=\"1.0\" encoding=\"utf-8\" standalone=\"no\"?>\n<!DOCTYPE svg PUBLIC \"-//W3C//DTD SVG 1.1//EN\"\n  \"http://www.w3.org/Graphics/SVG/1.1/DTD/svg11.dtd\">\n<!-- Created with matplotlib (https://matplotlib.org/) -->\n<svg height=\"293.274375pt\" version=\"1.1\" viewBox=\"0 0 339.480625 293.274375\" width=\"339.480625pt\" xmlns=\"http://www.w3.org/2000/svg\" xmlns:xlink=\"http://www.w3.org/1999/xlink\">\n <defs>\n  <style type=\"text/css\">\n*{stroke-linecap:butt;stroke-linejoin:round;}\n  </style>\n </defs>\n <g id=\"figure_1\">\n  <g id=\"patch_1\">\n   <path d=\"M 0 293.274375 \nL 339.480625 293.274375 \nL 339.480625 0 \nL 0 0 \nz\n\" style=\"fill:#ffffff;\"/>\n  </g>\n  <g id=\"axes_1\">\n   <g id=\"patch_2\">\n    <path d=\"M 34.240625 255.718125 \nL 267.640625 255.718125 \nL 267.640625 22.318125 \nL 34.240625 22.318125 \nz\n\" style=\"fill:#ffffff;\"/>\n   </g>\n   <g clip-path=\"url(#pef5466b3a3)\">\n    <image height=\"234\" id=\"image4c51012589\" transform=\"scale(1 -1)translate(0 -234)\" width=\"234\" x=\"34.240625\" xlink:href=\"data:image/png;base64,\niVBORw0KGgoAAAANSUhEUgAAAOoAAADqCAYAAACslNlOAAAABHNCSVQICAgIfAhkiAAAAuVJREFUeJzt1TENwlAARVHKhAwkoAUb9cJUVxhhI6wsrQSWn/xcco6Ct9y85fX57if+yvX+mD2Bwc6zBwC/CRUChAoBQoUAoUKAUCFAqBAgVAgQKgQIFQKECgFChQChQoBQIUCoECBUCBAqBAgVAoQKAUKFAKFCgFAhQKgQIFQIECoECBUChAoBQoUAoUKAUCFAqBAgVAgQKgQIFQKECgFChQChQoBQIUCoECBUCBAqBAgVAoQKAUKFAKFCgFAhQKgQIFQIECoECBUChAoBQoUAoUKAUCFAqBAgVAgQKgQIFQKECgFChQChQoBQIUCoECBUCBAqBAgVAoQKAUKFAKFCgFAhQKgQIFQIECoECBUChAoBQoUAoUKAUCFAqBAgVAgQKgQIFQKECgFChQChQoBQIUCoECBUCBAqBAgVAoQKAUKFAKFCgFAhQKgQIFQIECoECBUChAoBQoUAoUKAUCFAqBAgVAgQKgQIFQKECgFChQChQoBQIUCoECBUCBAqBAgVAoQKAUKFgOVyW/fZIxjr/dxmT2AwjwoBQoUAoUKAUCFAqBAgVAgQKgQIFQKECgFChQChQoBQIUCoECBUCBAqBAgVAoQKAUKFAKFCgFAhQKgQIFQIECoECBUChAoBQoUAoUKAUCFAqBAgVAgQKgQIFQKECgFChQChQoBQIUCoECBUCBAqBAgVAoQKAUKFAKFCgFAhQKgQIFQIECoECBUChAoBQoUAoUKAUCFAqBAgVAgQKgQIFQKECgFChQChQoBQIUCoECBUCBAqBAgVAoQKAUKFAKFCgFAhQKgQIFQIECoECBUChAoBQoUAoUKAUCFAqBAgVAgQKgQIFQKECgFChQChQoBQIUCoECBUCBAqBAgVAoQKAUKFAKFCgFAhQKgQIFQIECoECBUChAoBQoUAoUKAUCFAqBAgVAgQKgQIFQKECgFChQChQoBQIUCoECBUCBAqBAgVAoQKAUKFAKFCgFAh4ACZwwqVu6L0EgAAAABJRU5ErkJggg==\" y=\"-21.718125\"/>\n   </g>\n   <g id=\"matplotlib.axis_1\">\n    <g id=\"xtick_1\">\n     <g id=\"text_1\">\n      <!-- 0 -->\n      <defs>\n       <path d=\"M 31.78125 66.40625 \nQ 24.171875 66.40625 20.328125 58.90625 \nQ 16.5 51.421875 16.5 36.375 \nQ 16.5 21.390625 20.328125 13.890625 \nQ 24.171875 6.390625 31.78125 6.390625 \nQ 39.453125 6.390625 43.28125 13.890625 \nQ 47.125 21.390625 47.125 36.375 \nQ 47.125 51.421875 43.28125 58.90625 \nQ 39.453125 66.40625 31.78125 66.40625 \nz\nM 31.78125 74.21875 \nQ 44.046875 74.21875 50.515625 64.515625 \nQ 56.984375 54.828125 56.984375 36.375 \nQ 56.984375 17.96875 50.515625 8.265625 \nQ 44.046875 -1.421875 31.78125 -1.421875 \nQ 19.53125 -1.421875 13.0625 8.265625 \nQ 6.59375 17.96875 6.59375 36.375 \nQ 6.59375 54.828125 13.0625 64.515625 \nQ 19.53125 74.21875 31.78125 74.21875 \nz\n\" id=\"DejaVuSans-48\"/>\n      </defs>\n      <g style=\"fill:#262626;\" transform=\"translate(89.409375 270.316563)scale(0.1 -0.1)\">\n       <use xlink:href=\"#DejaVuSans-48\"/>\n      </g>\n     </g>\n    </g>\n    <g id=\"xtick_2\">\n     <g id=\"text_2\">\n      <!-- 1 -->\n      <defs>\n       <path d=\"M 12.40625 8.296875 \nL 28.515625 8.296875 \nL 28.515625 63.921875 \nL 10.984375 60.40625 \nL 10.984375 69.390625 \nL 28.421875 72.90625 \nL 38.28125 72.90625 \nL 38.28125 8.296875 \nL 54.390625 8.296875 \nL 54.390625 0 \nL 12.40625 0 \nz\n\" id=\"DejaVuSans-49\"/>\n      </defs>\n      <g style=\"fill:#262626;\" transform=\"translate(206.109375 270.316563)scale(0.1 -0.1)\">\n       <use xlink:href=\"#DejaVuSans-49\"/>\n      </g>\n     </g>\n    </g>\n    <g id=\"text_3\">\n     <!-- Predicción -->\n     <defs>\n      <path d=\"M 19.671875 64.796875 \nL 19.671875 37.40625 \nL 32.078125 37.40625 \nQ 38.96875 37.40625 42.71875 40.96875 \nQ 46.484375 44.53125 46.484375 51.125 \nQ 46.484375 57.671875 42.71875 61.234375 \nQ 38.96875 64.796875 32.078125 64.796875 \nz\nM 9.8125 72.90625 \nL 32.078125 72.90625 \nQ 44.34375 72.90625 50.609375 67.359375 \nQ 56.890625 61.8125 56.890625 51.125 \nQ 56.890625 40.328125 50.609375 34.8125 \nQ 44.34375 29.296875 32.078125 29.296875 \nL 19.671875 29.296875 \nL 19.671875 0 \nL 9.8125 0 \nz\n\" id=\"DejaVuSans-80\"/>\n      <path d=\"M 41.109375 46.296875 \nQ 39.59375 47.171875 37.8125 47.578125 \nQ 36.03125 48 33.890625 48 \nQ 26.265625 48 22.1875 43.046875 \nQ 18.109375 38.09375 18.109375 28.8125 \nL 18.109375 0 \nL 9.078125 0 \nL 9.078125 54.6875 \nL 18.109375 54.6875 \nL 18.109375 46.1875 \nQ 20.953125 51.171875 25.484375 53.578125 \nQ 30.03125 56 36.53125 56 \nQ 37.453125 56 38.578125 55.875 \nQ 39.703125 55.765625 41.0625 55.515625 \nz\n\" id=\"DejaVuSans-114\"/>\n      <path d=\"M 56.203125 29.59375 \nL 56.203125 25.203125 \nL 14.890625 25.203125 \nQ 15.484375 15.921875 20.484375 11.0625 \nQ 25.484375 6.203125 34.421875 6.203125 \nQ 39.59375 6.203125 44.453125 7.46875 \nQ 49.3125 8.734375 54.109375 11.28125 \nL 54.109375 2.78125 \nQ 49.265625 0.734375 44.1875 -0.34375 \nQ 39.109375 -1.421875 33.890625 -1.421875 \nQ 20.796875 -1.421875 13.15625 6.1875 \nQ 5.515625 13.8125 5.515625 26.8125 \nQ 5.515625 40.234375 12.765625 48.109375 \nQ 20.015625 56 32.328125 56 \nQ 43.359375 56 49.78125 48.890625 \nQ 56.203125 41.796875 56.203125 29.59375 \nz\nM 47.21875 32.234375 \nQ 47.125 39.59375 43.09375 43.984375 \nQ 39.0625 48.390625 32.421875 48.390625 \nQ 24.90625 48.390625 20.390625 44.140625 \nQ 15.875 39.890625 15.1875 32.171875 \nz\n\" id=\"DejaVuSans-101\"/>\n      <path d=\"M 45.40625 46.390625 \nL 45.40625 75.984375 \nL 54.390625 75.984375 \nL 54.390625 0 \nL 45.40625 0 \nL 45.40625 8.203125 \nQ 42.578125 3.328125 38.25 0.953125 \nQ 33.9375 -1.421875 27.875 -1.421875 \nQ 17.96875 -1.421875 11.734375 6.484375 \nQ 5.515625 14.40625 5.515625 27.296875 \nQ 5.515625 40.1875 11.734375 48.09375 \nQ 17.96875 56 27.875 56 \nQ 33.9375 56 38.25 53.625 \nQ 42.578125 51.265625 45.40625 46.390625 \nz\nM 14.796875 27.296875 \nQ 14.796875 17.390625 18.875 11.75 \nQ 22.953125 6.109375 30.078125 6.109375 \nQ 37.203125 6.109375 41.296875 11.75 \nQ 45.40625 17.390625 45.40625 27.296875 \nQ 45.40625 37.203125 41.296875 42.84375 \nQ 37.203125 48.484375 30.078125 48.484375 \nQ 22.953125 48.484375 18.875 42.84375 \nQ 14.796875 37.203125 14.796875 27.296875 \nz\n\" id=\"DejaVuSans-100\"/>\n      <path d=\"M 9.421875 54.6875 \nL 18.40625 54.6875 \nL 18.40625 0 \nL 9.421875 0 \nz\nM 9.421875 75.984375 \nL 18.40625 75.984375 \nL 18.40625 64.59375 \nL 9.421875 64.59375 \nz\n\" id=\"DejaVuSans-105\"/>\n      <path d=\"M 48.78125 52.59375 \nL 48.78125 44.1875 \nQ 44.96875 46.296875 41.140625 47.34375 \nQ 37.3125 48.390625 33.40625 48.390625 \nQ 24.65625 48.390625 19.8125 42.84375 \nQ 14.984375 37.3125 14.984375 27.296875 \nQ 14.984375 17.28125 19.8125 11.734375 \nQ 24.65625 6.203125 33.40625 6.203125 \nQ 37.3125 6.203125 41.140625 7.25 \nQ 44.96875 8.296875 48.78125 10.40625 \nL 48.78125 2.09375 \nQ 45.015625 0.34375 40.984375 -0.53125 \nQ 36.96875 -1.421875 32.421875 -1.421875 \nQ 20.0625 -1.421875 12.78125 6.34375 \nQ 5.515625 14.109375 5.515625 27.296875 \nQ 5.515625 40.671875 12.859375 48.328125 \nQ 20.21875 56 33.015625 56 \nQ 37.15625 56 41.109375 55.140625 \nQ 45.0625 54.296875 48.78125 52.59375 \nz\n\" id=\"DejaVuSans-99\"/>\n      <path d=\"M 30.609375 48.390625 \nQ 23.390625 48.390625 19.1875 42.75 \nQ 14.984375 37.109375 14.984375 27.296875 \nQ 14.984375 17.484375 19.15625 11.84375 \nQ 23.34375 6.203125 30.609375 6.203125 \nQ 37.796875 6.203125 41.984375 11.859375 \nQ 46.1875 17.53125 46.1875 27.296875 \nQ 46.1875 37.015625 41.984375 42.703125 \nQ 37.796875 48.390625 30.609375 48.390625 \nz\nM 30.609375 56 \nQ 42.328125 56 49.015625 48.375 \nQ 55.71875 40.765625 55.71875 27.296875 \nQ 55.71875 13.875 49.015625 6.21875 \nQ 42.328125 -1.421875 30.609375 -1.421875 \nQ 18.84375 -1.421875 12.171875 6.21875 \nQ 5.515625 13.875 5.515625 27.296875 \nQ 5.515625 40.765625 12.171875 48.375 \nQ 18.84375 56 30.609375 56 \nz\nM 37.40625 79.984375 \nL 47.125 79.984375 \nL 31.21875 61.625 \nL 23.734375 61.625 \nz\n\" id=\"DejaVuSans-243\"/>\n      <path d=\"M 54.890625 33.015625 \nL 54.890625 0 \nL 45.90625 0 \nL 45.90625 32.71875 \nQ 45.90625 40.484375 42.875 44.328125 \nQ 39.84375 48.1875 33.796875 48.1875 \nQ 26.515625 48.1875 22.3125 43.546875 \nQ 18.109375 38.921875 18.109375 30.90625 \nL 18.109375 0 \nL 9.078125 0 \nL 9.078125 54.6875 \nL 18.109375 54.6875 \nL 18.109375 46.1875 \nQ 21.34375 51.125 25.703125 53.5625 \nQ 30.078125 56 35.796875 56 \nQ 45.21875 56 50.046875 50.171875 \nQ 54.890625 44.34375 54.890625 33.015625 \nz\n\" id=\"DejaVuSans-110\"/>\n     </defs>\n     <g style=\"fill:#262626;\" transform=\"translate(125.314844 283.994688)scale(0.1 -0.1)\">\n      <use xlink:href=\"#DejaVuSans-80\"/>\n      <use x=\"58.552734\" xlink:href=\"#DejaVuSans-114\"/>\n      <use x=\"97.416016\" xlink:href=\"#DejaVuSans-101\"/>\n      <use x=\"158.939453\" xlink:href=\"#DejaVuSans-100\"/>\n      <use x=\"222.416016\" xlink:href=\"#DejaVuSans-105\"/>\n      <use x=\"250.199219\" xlink:href=\"#DejaVuSans-99\"/>\n      <use x=\"305.179688\" xlink:href=\"#DejaVuSans-99\"/>\n      <use x=\"360.160156\" xlink:href=\"#DejaVuSans-105\"/>\n      <use x=\"387.943359\" xlink:href=\"#DejaVuSans-243\"/>\n      <use x=\"449.125\" xlink:href=\"#DejaVuSans-110\"/>\n     </g>\n    </g>\n   </g>\n   <g id=\"matplotlib.axis_2\">\n    <g id=\"ytick_1\">\n     <g id=\"text_4\">\n      <!-- 0 -->\n      <g style=\"fill:#262626;\" transform=\"translate(20.878125 84.467344)scale(0.1 -0.1)\">\n       <use xlink:href=\"#DejaVuSans-48\"/>\n      </g>\n     </g>\n    </g>\n    <g id=\"ytick_2\">\n     <g id=\"text_5\">\n      <!-- 1 -->\n      <g style=\"fill:#262626;\" transform=\"translate(20.878125 201.167344)scale(0.1 -0.1)\">\n       <use xlink:href=\"#DejaVuSans-49\"/>\n      </g>\n     </g>\n    </g>\n    <g id=\"text_6\">\n     <!-- Etiqueta -->\n     <defs>\n      <path d=\"M 9.8125 72.90625 \nL 55.90625 72.90625 \nL 55.90625 64.59375 \nL 19.671875 64.59375 \nL 19.671875 43.015625 \nL 54.390625 43.015625 \nL 54.390625 34.71875 \nL 19.671875 34.71875 \nL 19.671875 8.296875 \nL 56.78125 8.296875 \nL 56.78125 0 \nL 9.8125 0 \nz\n\" id=\"DejaVuSans-69\"/>\n      <path d=\"M 18.3125 70.21875 \nL 18.3125 54.6875 \nL 36.8125 54.6875 \nL 36.8125 47.703125 \nL 18.3125 47.703125 \nL 18.3125 18.015625 \nQ 18.3125 11.328125 20.140625 9.421875 \nQ 21.96875 7.515625 27.59375 7.515625 \nL 36.8125 7.515625 \nL 36.8125 0 \nL 27.59375 0 \nQ 17.1875 0 13.234375 3.875 \nQ 9.28125 7.765625 9.28125 18.015625 \nL 9.28125 47.703125 \nL 2.6875 47.703125 \nL 2.6875 54.6875 \nL 9.28125 54.6875 \nL 9.28125 70.21875 \nz\n\" id=\"DejaVuSans-116\"/>\n      <path d=\"M 14.796875 27.296875 \nQ 14.796875 17.390625 18.875 11.75 \nQ 22.953125 6.109375 30.078125 6.109375 \nQ 37.203125 6.109375 41.296875 11.75 \nQ 45.40625 17.390625 45.40625 27.296875 \nQ 45.40625 37.203125 41.296875 42.84375 \nQ 37.203125 48.484375 30.078125 48.484375 \nQ 22.953125 48.484375 18.875 42.84375 \nQ 14.796875 37.203125 14.796875 27.296875 \nz\nM 45.40625 8.203125 \nQ 42.578125 3.328125 38.25 0.953125 \nQ 33.9375 -1.421875 27.875 -1.421875 \nQ 17.96875 -1.421875 11.734375 6.484375 \nQ 5.515625 14.40625 5.515625 27.296875 \nQ 5.515625 40.1875 11.734375 48.09375 \nQ 17.96875 56 27.875 56 \nQ 33.9375 56 38.25 53.625 \nQ 42.578125 51.265625 45.40625 46.390625 \nL 45.40625 54.6875 \nL 54.390625 54.6875 \nL 54.390625 -20.796875 \nL 45.40625 -20.796875 \nz\n\" id=\"DejaVuSans-113\"/>\n      <path d=\"M 8.5 21.578125 \nL 8.5 54.6875 \nL 17.484375 54.6875 \nL 17.484375 21.921875 \nQ 17.484375 14.15625 20.5 10.265625 \nQ 23.53125 6.390625 29.59375 6.390625 \nQ 36.859375 6.390625 41.078125 11.03125 \nQ 45.3125 15.671875 45.3125 23.6875 \nL 45.3125 54.6875 \nL 54.296875 54.6875 \nL 54.296875 0 \nL 45.3125 0 \nL 45.3125 8.40625 \nQ 42.046875 3.421875 37.71875 1 \nQ 33.40625 -1.421875 27.6875 -1.421875 \nQ 18.265625 -1.421875 13.375 4.4375 \nQ 8.5 10.296875 8.5 21.578125 \nz\nM 31.109375 56 \nz\n\" id=\"DejaVuSans-117\"/>\n      <path d=\"M 34.28125 27.484375 \nQ 23.390625 27.484375 19.1875 25 \nQ 14.984375 22.515625 14.984375 16.5 \nQ 14.984375 11.71875 18.140625 8.90625 \nQ 21.296875 6.109375 26.703125 6.109375 \nQ 34.1875 6.109375 38.703125 11.40625 \nQ 43.21875 16.703125 43.21875 25.484375 \nL 43.21875 27.484375 \nz\nM 52.203125 31.203125 \nL 52.203125 0 \nL 43.21875 0 \nL 43.21875 8.296875 \nQ 40.140625 3.328125 35.546875 0.953125 \nQ 30.953125 -1.421875 24.3125 -1.421875 \nQ 15.921875 -1.421875 10.953125 3.296875 \nQ 6 8.015625 6 15.921875 \nQ 6 25.140625 12.171875 29.828125 \nQ 18.359375 34.515625 30.609375 34.515625 \nL 43.21875 34.515625 \nL 43.21875 35.40625 \nQ 43.21875 41.609375 39.140625 45 \nQ 35.0625 48.390625 27.6875 48.390625 \nQ 23 48.390625 18.546875 47.265625 \nQ 14.109375 46.140625 10.015625 43.890625 \nL 10.015625 52.203125 \nQ 14.9375 54.109375 19.578125 55.046875 \nQ 24.21875 56 28.609375 56 \nQ 40.484375 56 46.34375 49.84375 \nQ 52.203125 43.703125 52.203125 31.203125 \nz\n\" id=\"DejaVuSans-97\"/>\n     </defs>\n     <g style=\"fill:#262626;\" transform=\"translate(14.798438 159.970469)rotate(-90)scale(0.1 -0.1)\">\n      <use xlink:href=\"#DejaVuSans-69\"/>\n      <use x=\"63.183594\" xlink:href=\"#DejaVuSans-116\"/>\n      <use x=\"102.392578\" xlink:href=\"#DejaVuSans-105\"/>\n      <use x=\"130.175781\" xlink:href=\"#DejaVuSans-113\"/>\n      <use x=\"193.652344\" xlink:href=\"#DejaVuSans-117\"/>\n      <use x=\"257.03125\" xlink:href=\"#DejaVuSans-101\"/>\n      <use x=\"318.554688\" xlink:href=\"#DejaVuSans-116\"/>\n      <use x=\"357.763672\" xlink:href=\"#DejaVuSans-97\"/>\n     </g>\n    </g>\n   </g>\n   <g id=\"patch_3\">\n    <path d=\"M 34.240625 255.718125 \nL 34.240625 22.318125 \n\" style=\"fill:none;stroke:#262626;stroke-linecap:square;stroke-linejoin:miter;stroke-width:0.8;\"/>\n   </g>\n   <g id=\"patch_4\">\n    <path d=\"M 267.640625 255.718125 \nL 267.640625 22.318125 \n\" style=\"fill:none;stroke:#262626;stroke-linecap:square;stroke-linejoin:miter;stroke-width:0.8;\"/>\n   </g>\n   <g id=\"patch_5\">\n    <path d=\"M 34.240625 255.718125 \nL 267.640625 255.718125 \n\" style=\"fill:none;stroke:#262626;stroke-linecap:square;stroke-linejoin:miter;stroke-width:0.8;\"/>\n   </g>\n   <g id=\"patch_6\">\n    <path d=\"M 34.240625 22.318125 \nL 267.640625 22.318125 \n\" style=\"fill:none;stroke:#262626;stroke-linecap:square;stroke-linejoin:miter;stroke-width:0.8;\"/>\n   </g>\n   <g id=\"text_7\">\n    <!-- 6344 -->\n    <defs>\n     <path d=\"M 33.015625 40.375 \nQ 26.375 40.375 22.484375 35.828125 \nQ 18.609375 31.296875 18.609375 23.390625 \nQ 18.609375 15.53125 22.484375 10.953125 \nQ 26.375 6.390625 33.015625 6.390625 \nQ 39.65625 6.390625 43.53125 10.953125 \nQ 47.40625 15.53125 47.40625 23.390625 \nQ 47.40625 31.296875 43.53125 35.828125 \nQ 39.65625 40.375 33.015625 40.375 \nz\nM 52.59375 71.296875 \nL 52.59375 62.3125 \nQ 48.875 64.0625 45.09375 64.984375 \nQ 41.3125 65.921875 37.59375 65.921875 \nQ 27.828125 65.921875 22.671875 59.328125 \nQ 17.53125 52.734375 16.796875 39.40625 \nQ 19.671875 43.65625 24.015625 45.921875 \nQ 28.375 48.1875 33.59375 48.1875 \nQ 44.578125 48.1875 50.953125 41.515625 \nQ 57.328125 34.859375 57.328125 23.390625 \nQ 57.328125 12.15625 50.6875 5.359375 \nQ 44.046875 -1.421875 33.015625 -1.421875 \nQ 20.359375 -1.421875 13.671875 8.265625 \nQ 6.984375 17.96875 6.984375 36.375 \nQ 6.984375 53.65625 15.1875 63.9375 \nQ 23.390625 74.21875 37.203125 74.21875 \nQ 40.921875 74.21875 44.703125 73.484375 \nQ 48.484375 72.75 52.59375 71.296875 \nz\n\" id=\"DejaVuSans-54\"/>\n     <path d=\"M 40.578125 39.3125 \nQ 47.65625 37.796875 51.625 33 \nQ 55.609375 28.21875 55.609375 21.1875 \nQ 55.609375 10.40625 48.1875 4.484375 \nQ 40.765625 -1.421875 27.09375 -1.421875 \nQ 22.515625 -1.421875 17.65625 -0.515625 \nQ 12.796875 0.390625 7.625 2.203125 \nL 7.625 11.71875 \nQ 11.71875 9.328125 16.59375 8.109375 \nQ 21.484375 6.890625 26.8125 6.890625 \nQ 36.078125 6.890625 40.9375 10.546875 \nQ 45.796875 14.203125 45.796875 21.1875 \nQ 45.796875 27.640625 41.28125 31.265625 \nQ 36.765625 34.90625 28.71875 34.90625 \nL 20.21875 34.90625 \nL 20.21875 43.015625 \nL 29.109375 43.015625 \nQ 36.375 43.015625 40.234375 45.921875 \nQ 44.09375 48.828125 44.09375 54.296875 \nQ 44.09375 59.90625 40.109375 62.90625 \nQ 36.140625 65.921875 28.71875 65.921875 \nQ 24.65625 65.921875 20.015625 65.03125 \nQ 15.375 64.15625 9.8125 62.3125 \nL 9.8125 71.09375 \nQ 15.4375 72.65625 20.34375 73.4375 \nQ 25.25 74.21875 29.59375 74.21875 \nQ 40.828125 74.21875 47.359375 69.109375 \nQ 53.90625 64.015625 53.90625 55.328125 \nQ 53.90625 49.265625 50.4375 45.09375 \nQ 46.96875 40.921875 40.578125 39.3125 \nz\n\" id=\"DejaVuSans-51\"/>\n     <path d=\"M 37.796875 64.3125 \nL 12.890625 25.390625 \nL 37.796875 25.390625 \nz\nM 35.203125 72.90625 \nL 47.609375 72.90625 \nL 47.609375 25.390625 \nL 58.015625 25.390625 \nL 58.015625 17.1875 \nL 47.609375 17.1875 \nL 47.609375 0 \nL 37.796875 0 \nL 37.796875 17.1875 \nL 4.890625 17.1875 \nL 4.890625 26.703125 \nz\n\" id=\"DejaVuSans-52\"/>\n    </defs>\n    <g style=\"fill:#ffffff;\" transform=\"translate(79.865625 80.668125)scale(0.1 -0.1)\">\n     <use xlink:href=\"#DejaVuSans-54\"/>\n     <use x=\"63.623047\" xlink:href=\"#DejaVuSans-51\"/>\n     <use x=\"127.246094\" xlink:href=\"#DejaVuSans-52\"/>\n     <use x=\"190.869141\" xlink:href=\"#DejaVuSans-52\"/>\n    </g>\n   </g>\n   <g id=\"text_8\">\n    <!-- 1070 -->\n    <defs>\n     <path d=\"M 8.203125 72.90625 \nL 55.078125 72.90625 \nL 55.078125 68.703125 \nL 28.609375 0 \nL 18.3125 0 \nL 43.21875 64.59375 \nL 8.203125 64.59375 \nz\n\" id=\"DejaVuSans-55\"/>\n    </defs>\n    <g transform=\"translate(196.565625 80.668125)scale(0.1 -0.1)\">\n     <use xlink:href=\"#DejaVuSans-49\"/>\n     <use x=\"63.623047\" xlink:href=\"#DejaVuSans-48\"/>\n     <use x=\"127.246094\" xlink:href=\"#DejaVuSans-55\"/>\n     <use x=\"190.869141\" xlink:href=\"#DejaVuSans-48\"/>\n    </g>\n   </g>\n   <g id=\"text_9\">\n    <!-- 1481 -->\n    <defs>\n     <path d=\"M 31.78125 34.625 \nQ 24.75 34.625 20.71875 30.859375 \nQ 16.703125 27.09375 16.703125 20.515625 \nQ 16.703125 13.921875 20.71875 10.15625 \nQ 24.75 6.390625 31.78125 6.390625 \nQ 38.8125 6.390625 42.859375 10.171875 \nQ 46.921875 13.96875 46.921875 20.515625 \nQ 46.921875 27.09375 42.890625 30.859375 \nQ 38.875 34.625 31.78125 34.625 \nz\nM 21.921875 38.8125 \nQ 15.578125 40.375 12.03125 44.71875 \nQ 8.5 49.078125 8.5 55.328125 \nQ 8.5 64.0625 14.71875 69.140625 \nQ 20.953125 74.21875 31.78125 74.21875 \nQ 42.671875 74.21875 48.875 69.140625 \nQ 55.078125 64.0625 55.078125 55.328125 \nQ 55.078125 49.078125 51.53125 44.71875 \nQ 48 40.375 41.703125 38.8125 \nQ 48.828125 37.15625 52.796875 32.3125 \nQ 56.78125 27.484375 56.78125 20.515625 \nQ 56.78125 9.90625 50.3125 4.234375 \nQ 43.84375 -1.421875 31.78125 -1.421875 \nQ 19.734375 -1.421875 13.25 4.234375 \nQ 6.78125 9.90625 6.78125 20.515625 \nQ 6.78125 27.484375 10.78125 32.3125 \nQ 14.796875 37.15625 21.921875 38.8125 \nz\nM 18.3125 54.390625 \nQ 18.3125 48.734375 21.84375 45.5625 \nQ 25.390625 42.390625 31.78125 42.390625 \nQ 38.140625 42.390625 41.71875 45.5625 \nQ 45.3125 48.734375 45.3125 54.390625 \nQ 45.3125 60.0625 41.71875 63.234375 \nQ 38.140625 66.40625 31.78125 66.40625 \nQ 25.390625 66.40625 21.84375 63.234375 \nQ 18.3125 60.0625 18.3125 54.390625 \nz\n\" id=\"DejaVuSans-56\"/>\n    </defs>\n    <g transform=\"translate(79.865625 197.368125)scale(0.1 -0.1)\">\n     <use xlink:href=\"#DejaVuSans-49\"/>\n     <use x=\"63.623047\" xlink:href=\"#DejaVuSans-52\"/>\n     <use x=\"127.246094\" xlink:href=\"#DejaVuSans-56\"/>\n     <use x=\"190.869141\" xlink:href=\"#DejaVuSans-49\"/>\n    </g>\n   </g>\n   <g id=\"text_10\">\n    <!-- 5933 -->\n    <defs>\n     <path d=\"M 10.796875 72.90625 \nL 49.515625 72.90625 \nL 49.515625 64.59375 \nL 19.828125 64.59375 \nL 19.828125 46.734375 \nQ 21.96875 47.46875 24.109375 47.828125 \nQ 26.265625 48.1875 28.421875 48.1875 \nQ 40.625 48.1875 47.75 41.5 \nQ 54.890625 34.8125 54.890625 23.390625 \nQ 54.890625 11.625 47.5625 5.09375 \nQ 40.234375 -1.421875 26.90625 -1.421875 \nQ 22.3125 -1.421875 17.546875 -0.640625 \nQ 12.796875 0.140625 7.71875 1.703125 \nL 7.71875 11.625 \nQ 12.109375 9.234375 16.796875 8.0625 \nQ 21.484375 6.890625 26.703125 6.890625 \nQ 35.15625 6.890625 40.078125 11.328125 \nQ 45.015625 15.765625 45.015625 23.390625 \nQ 45.015625 31 40.078125 35.4375 \nQ 35.15625 39.890625 26.703125 39.890625 \nQ 22.75 39.890625 18.8125 39.015625 \nQ 14.890625 38.140625 10.796875 36.28125 \nz\n\" id=\"DejaVuSans-53\"/>\n     <path d=\"M 10.984375 1.515625 \nL 10.984375 10.5 \nQ 14.703125 8.734375 18.5 7.8125 \nQ 22.3125 6.890625 25.984375 6.890625 \nQ 35.75 6.890625 40.890625 13.453125 \nQ 46.046875 20.015625 46.78125 33.40625 \nQ 43.953125 29.203125 39.59375 26.953125 \nQ 35.25 24.703125 29.984375 24.703125 \nQ 19.046875 24.703125 12.671875 31.3125 \nQ 6.296875 37.9375 6.296875 49.421875 \nQ 6.296875 60.640625 12.9375 67.421875 \nQ 19.578125 74.21875 30.609375 74.21875 \nQ 43.265625 74.21875 49.921875 64.515625 \nQ 56.59375 54.828125 56.59375 36.375 \nQ 56.59375 19.140625 48.40625 8.859375 \nQ 40.234375 -1.421875 26.421875 -1.421875 \nQ 22.703125 -1.421875 18.890625 -0.6875 \nQ 15.09375 0.046875 10.984375 1.515625 \nz\nM 30.609375 32.421875 \nQ 37.25 32.421875 41.125 36.953125 \nQ 45.015625 41.5 45.015625 49.421875 \nQ 45.015625 57.28125 41.125 61.84375 \nQ 37.25 66.40625 30.609375 66.40625 \nQ 23.96875 66.40625 20.09375 61.84375 \nQ 16.21875 57.28125 16.21875 49.421875 \nQ 16.21875 41.5 20.09375 36.953125 \nQ 23.96875 32.421875 30.609375 32.421875 \nz\n\" id=\"DejaVuSans-57\"/>\n    </defs>\n    <g style=\"fill:#ffffff;\" transform=\"translate(196.565625 197.368125)scale(0.1 -0.1)\">\n     <use xlink:href=\"#DejaVuSans-53\"/>\n     <use x=\"63.623047\" xlink:href=\"#DejaVuSans-57\"/>\n     <use x=\"127.246094\" xlink:href=\"#DejaVuSans-51\"/>\n     <use x=\"190.869141\" xlink:href=\"#DejaVuSans-51\"/>\n    </g>\n   </g>\n   <g id=\"text_11\">\n    <!-- Matriz de Confusión Normalizada: Red Neuronal -->\n    <defs>\n     <path d=\"M 9.8125 72.90625 \nL 24.515625 72.90625 \nL 43.109375 23.296875 \nL 61.8125 72.90625 \nL 76.515625 72.90625 \nL 76.515625 0 \nL 66.890625 0 \nL 66.890625 64.015625 \nL 48.09375 14.015625 \nL 38.1875 14.015625 \nL 19.390625 64.015625 \nL 19.390625 0 \nL 9.8125 0 \nz\n\" id=\"DejaVuSans-77\"/>\n     <path d=\"M 5.515625 54.6875 \nL 48.1875 54.6875 \nL 48.1875 46.484375 \nL 14.40625 7.171875 \nL 48.1875 7.171875 \nL 48.1875 0 \nL 4.296875 0 \nL 4.296875 8.203125 \nL 38.09375 47.515625 \nL 5.515625 47.515625 \nz\n\" id=\"DejaVuSans-122\"/>\n     <path id=\"DejaVuSans-32\"/>\n     <path d=\"M 64.40625 67.28125 \nL 64.40625 56.890625 \nQ 59.421875 61.53125 53.78125 63.8125 \nQ 48.140625 66.109375 41.796875 66.109375 \nQ 29.296875 66.109375 22.65625 58.46875 \nQ 16.015625 50.828125 16.015625 36.375 \nQ 16.015625 21.96875 22.65625 14.328125 \nQ 29.296875 6.6875 41.796875 6.6875 \nQ 48.140625 6.6875 53.78125 8.984375 \nQ 59.421875 11.28125 64.40625 15.921875 \nL 64.40625 5.609375 \nQ 59.234375 2.09375 53.4375 0.328125 \nQ 47.65625 -1.421875 41.21875 -1.421875 \nQ 24.65625 -1.421875 15.125 8.703125 \nQ 5.609375 18.84375 5.609375 36.375 \nQ 5.609375 53.953125 15.125 64.078125 \nQ 24.65625 74.21875 41.21875 74.21875 \nQ 47.75 74.21875 53.53125 72.484375 \nQ 59.328125 70.75 64.40625 67.28125 \nz\n\" id=\"DejaVuSans-67\"/>\n     <path d=\"M 30.609375 48.390625 \nQ 23.390625 48.390625 19.1875 42.75 \nQ 14.984375 37.109375 14.984375 27.296875 \nQ 14.984375 17.484375 19.15625 11.84375 \nQ 23.34375 6.203125 30.609375 6.203125 \nQ 37.796875 6.203125 41.984375 11.859375 \nQ 46.1875 17.53125 46.1875 27.296875 \nQ 46.1875 37.015625 41.984375 42.703125 \nQ 37.796875 48.390625 30.609375 48.390625 \nz\nM 30.609375 56 \nQ 42.328125 56 49.015625 48.375 \nQ 55.71875 40.765625 55.71875 27.296875 \nQ 55.71875 13.875 49.015625 6.21875 \nQ 42.328125 -1.421875 30.609375 -1.421875 \nQ 18.84375 -1.421875 12.171875 6.21875 \nQ 5.515625 13.875 5.515625 27.296875 \nQ 5.515625 40.765625 12.171875 48.375 \nQ 18.84375 56 30.609375 56 \nz\n\" id=\"DejaVuSans-111\"/>\n     <path d=\"M 37.109375 75.984375 \nL 37.109375 68.5 \nL 28.515625 68.5 \nQ 23.6875 68.5 21.796875 66.546875 \nQ 19.921875 64.59375 19.921875 59.515625 \nL 19.921875 54.6875 \nL 34.71875 54.6875 \nL 34.71875 47.703125 \nL 19.921875 47.703125 \nL 19.921875 0 \nL 10.890625 0 \nL 10.890625 47.703125 \nL 2.296875 47.703125 \nL 2.296875 54.6875 \nL 10.890625 54.6875 \nL 10.890625 58.5 \nQ 10.890625 67.625 15.140625 71.796875 \nQ 19.390625 75.984375 28.609375 75.984375 \nz\n\" id=\"DejaVuSans-102\"/>\n     <path d=\"M 44.28125 53.078125 \nL 44.28125 44.578125 \nQ 40.484375 46.53125 36.375 47.5 \nQ 32.28125 48.484375 27.875 48.484375 \nQ 21.1875 48.484375 17.84375 46.4375 \nQ 14.5 44.390625 14.5 40.28125 \nQ 14.5 37.15625 16.890625 35.375 \nQ 19.28125 33.59375 26.515625 31.984375 \nL 29.59375 31.296875 \nQ 39.15625 29.25 43.1875 25.515625 \nQ 47.21875 21.78125 47.21875 15.09375 \nQ 47.21875 7.46875 41.1875 3.015625 \nQ 35.15625 -1.421875 24.609375 -1.421875 \nQ 20.21875 -1.421875 15.453125 -0.5625 \nQ 10.6875 0.296875 5.421875 2 \nL 5.421875 11.28125 \nQ 10.40625 8.6875 15.234375 7.390625 \nQ 20.0625 6.109375 24.8125 6.109375 \nQ 31.15625 6.109375 34.5625 8.28125 \nQ 37.984375 10.453125 37.984375 14.40625 \nQ 37.984375 18.0625 35.515625 20.015625 \nQ 33.0625 21.96875 24.703125 23.78125 \nL 21.578125 24.515625 \nQ 13.234375 26.265625 9.515625 29.90625 \nQ 5.8125 33.546875 5.8125 39.890625 \nQ 5.8125 47.609375 11.28125 51.796875 \nQ 16.75 56 26.8125 56 \nQ 31.78125 56 36.171875 55.265625 \nQ 40.578125 54.546875 44.28125 53.078125 \nz\n\" id=\"DejaVuSans-115\"/>\n     <path d=\"M 9.8125 72.90625 \nL 23.09375 72.90625 \nL 55.421875 11.921875 \nL 55.421875 72.90625 \nL 64.984375 72.90625 \nL 64.984375 0 \nL 51.703125 0 \nL 19.390625 60.984375 \nL 19.390625 0 \nL 9.8125 0 \nz\n\" id=\"DejaVuSans-78\"/>\n     <path d=\"M 52 44.1875 \nQ 55.375 50.25 60.0625 53.125 \nQ 64.75 56 71.09375 56 \nQ 79.640625 56 84.28125 50.015625 \nQ 88.921875 44.046875 88.921875 33.015625 \nL 88.921875 0 \nL 79.890625 0 \nL 79.890625 32.71875 \nQ 79.890625 40.578125 77.09375 44.375 \nQ 74.3125 48.1875 68.609375 48.1875 \nQ 61.625 48.1875 57.5625 43.546875 \nQ 53.515625 38.921875 53.515625 30.90625 \nL 53.515625 0 \nL 44.484375 0 \nL 44.484375 32.71875 \nQ 44.484375 40.625 41.703125 44.40625 \nQ 38.921875 48.1875 33.109375 48.1875 \nQ 26.21875 48.1875 22.15625 43.53125 \nQ 18.109375 38.875 18.109375 30.90625 \nL 18.109375 0 \nL 9.078125 0 \nL 9.078125 54.6875 \nL 18.109375 54.6875 \nL 18.109375 46.1875 \nQ 21.1875 51.21875 25.484375 53.609375 \nQ 29.78125 56 35.6875 56 \nQ 41.65625 56 45.828125 52.96875 \nQ 50 49.953125 52 44.1875 \nz\n\" id=\"DejaVuSans-109\"/>\n     <path d=\"M 9.421875 75.984375 \nL 18.40625 75.984375 \nL 18.40625 0 \nL 9.421875 0 \nz\n\" id=\"DejaVuSans-108\"/>\n     <path d=\"M 11.71875 12.40625 \nL 22.015625 12.40625 \nL 22.015625 0 \nL 11.71875 0 \nz\nM 11.71875 51.703125 \nL 22.015625 51.703125 \nL 22.015625 39.3125 \nL 11.71875 39.3125 \nz\n\" id=\"DejaVuSans-58\"/>\n     <path d=\"M 44.390625 34.1875 \nQ 47.5625 33.109375 50.5625 29.59375 \nQ 53.5625 26.078125 56.59375 19.921875 \nL 66.609375 0 \nL 56 0 \nL 46.6875 18.703125 \nQ 43.0625 26.03125 39.671875 28.421875 \nQ 36.28125 30.8125 30.421875 30.8125 \nL 19.671875 30.8125 \nL 19.671875 0 \nL 9.8125 0 \nL 9.8125 72.90625 \nL 32.078125 72.90625 \nQ 44.578125 72.90625 50.734375 67.671875 \nQ 56.890625 62.453125 56.890625 51.90625 \nQ 56.890625 45.015625 53.6875 40.46875 \nQ 50.484375 35.9375 44.390625 34.1875 \nz\nM 19.671875 64.796875 \nL 19.671875 38.921875 \nL 32.078125 38.921875 \nQ 39.203125 38.921875 42.84375 42.21875 \nQ 46.484375 45.515625 46.484375 51.90625 \nQ 46.484375 58.296875 42.84375 61.546875 \nQ 39.203125 64.796875 32.078125 64.796875 \nz\n\" id=\"DejaVuSans-82\"/>\n    </defs>\n    <g style=\"fill:#262626;\" transform=\"translate(7.330625 16.318125)scale(0.12 -0.12)\">\n     <use xlink:href=\"#DejaVuSans-77\"/>\n     <use x=\"86.279297\" xlink:href=\"#DejaVuSans-97\"/>\n     <use x=\"147.558594\" xlink:href=\"#DejaVuSans-116\"/>\n     <use x=\"186.767578\" xlink:href=\"#DejaVuSans-114\"/>\n     <use x=\"227.880859\" xlink:href=\"#DejaVuSans-105\"/>\n     <use x=\"255.664062\" xlink:href=\"#DejaVuSans-122\"/>\n     <use x=\"308.154297\" xlink:href=\"#DejaVuSans-32\"/>\n     <use x=\"339.941406\" xlink:href=\"#DejaVuSans-100\"/>\n     <use x=\"403.417969\" xlink:href=\"#DejaVuSans-101\"/>\n     <use x=\"464.941406\" xlink:href=\"#DejaVuSans-32\"/>\n     <use x=\"496.728516\" xlink:href=\"#DejaVuSans-67\"/>\n     <use x=\"566.552734\" xlink:href=\"#DejaVuSans-111\"/>\n     <use x=\"627.734375\" xlink:href=\"#DejaVuSans-110\"/>\n     <use x=\"691.113281\" xlink:href=\"#DejaVuSans-102\"/>\n     <use x=\"726.318359\" xlink:href=\"#DejaVuSans-117\"/>\n     <use x=\"789.697266\" xlink:href=\"#DejaVuSans-115\"/>\n     <use x=\"841.796875\" xlink:href=\"#DejaVuSans-105\"/>\n     <use x=\"869.580078\" xlink:href=\"#DejaVuSans-243\"/>\n     <use x=\"930.761719\" xlink:href=\"#DejaVuSans-110\"/>\n     <use x=\"994.140625\" xlink:href=\"#DejaVuSans-32\"/>\n     <use x=\"1025.927734\" xlink:href=\"#DejaVuSans-78\"/>\n     <use x=\"1100.732422\" xlink:href=\"#DejaVuSans-111\"/>\n     <use x=\"1161.914062\" xlink:href=\"#DejaVuSans-114\"/>\n     <use x=\"1201.277344\" xlink:href=\"#DejaVuSans-109\"/>\n     <use x=\"1298.689453\" xlink:href=\"#DejaVuSans-97\"/>\n     <use x=\"1359.96875\" xlink:href=\"#DejaVuSans-108\"/>\n     <use x=\"1387.751953\" xlink:href=\"#DejaVuSans-105\"/>\n     <use x=\"1415.535156\" xlink:href=\"#DejaVuSans-122\"/>\n     <use x=\"1468.025391\" xlink:href=\"#DejaVuSans-97\"/>\n     <use x=\"1529.304688\" xlink:href=\"#DejaVuSans-100\"/>\n     <use x=\"1592.78125\" xlink:href=\"#DejaVuSans-97\"/>\n     <use x=\"1654.060547\" xlink:href=\"#DejaVuSans-58\"/>\n     <use x=\"1687.751953\" xlink:href=\"#DejaVuSans-32\"/>\n     <use x=\"1719.539062\" xlink:href=\"#DejaVuSans-82\"/>\n     <use x=\"1784.521484\" xlink:href=\"#DejaVuSans-101\"/>\n     <use x=\"1846.044922\" xlink:href=\"#DejaVuSans-100\"/>\n     <use x=\"1909.521484\" xlink:href=\"#DejaVuSans-32\"/>\n     <use x=\"1941.308594\" xlink:href=\"#DejaVuSans-78\"/>\n     <use x=\"2016.113281\" xlink:href=\"#DejaVuSans-101\"/>\n     <use x=\"2077.636719\" xlink:href=\"#DejaVuSans-117\"/>\n     <use x=\"2141.015625\" xlink:href=\"#DejaVuSans-114\"/>\n     <use x=\"2179.878906\" xlink:href=\"#DejaVuSans-111\"/>\n     <use x=\"2241.060547\" xlink:href=\"#DejaVuSans-110\"/>\n     <use x=\"2304.439453\" xlink:href=\"#DejaVuSans-97\"/>\n     <use x=\"2365.71875\" xlink:href=\"#DejaVuSans-108\"/>\n    </g>\n   </g>\n  </g>\n  <g id=\"axes_2\">\n   <g id=\"patch_7\">\n    <path clip-path=\"url(#p9e80e070db)\" d=\"M 288.160625 255.718125 \nL 288.160625 254.806406 \nL 288.160625 23.229844 \nL 288.160625 22.318125 \nL 299.830625 22.318125 \nL 299.830625 23.229844 \nL 299.830625 254.806406 \nL 299.830625 255.718125 \nz\n\" style=\"fill:#ffffff;stroke:#ffffff;stroke-linejoin:miter;stroke-width:0.01;\"/>\n   </g>\n   <g id=\"matplotlib.axis_3\"/>\n   <g id=\"matplotlib.axis_4\">\n    <g id=\"ytick_3\">\n     <g id=\"line2d_1\">\n      <defs>\n       <path d=\"M 0 0 \nL 3.5 0 \n\" id=\"ma2d5053722\" style=\"stroke:#262626;stroke-width:0.8;\"/>\n      </defs>\n      <g>\n       <use style=\"fill:#262626;stroke:#262626;stroke-width:0.8;\" x=\"299.830625\" xlink:href=\"#ma2d5053722\" y=\"214.561128\"/>\n      </g>\n     </g>\n     <g id=\"text_12\">\n      <!-- 2000 -->\n      <defs>\n       <path d=\"M 19.1875 8.296875 \nL 53.609375 8.296875 \nL 53.609375 0 \nL 7.328125 0 \nL 7.328125 8.296875 \nQ 12.9375 14.109375 22.625 23.890625 \nQ 32.328125 33.6875 34.8125 36.53125 \nQ 39.546875 41.84375 41.421875 45.53125 \nQ 43.3125 49.21875 43.3125 52.78125 \nQ 43.3125 58.59375 39.234375 62.25 \nQ 35.15625 65.921875 28.609375 65.921875 \nQ 23.96875 65.921875 18.8125 64.3125 \nQ 13.671875 62.703125 7.8125 59.421875 \nL 7.8125 69.390625 \nQ 13.765625 71.78125 18.9375 73 \nQ 24.125 74.21875 28.421875 74.21875 \nQ 39.75 74.21875 46.484375 68.546875 \nQ 53.21875 62.890625 53.21875 53.421875 \nQ 53.21875 48.921875 51.53125 44.890625 \nQ 49.859375 40.875 45.40625 35.40625 \nQ 44.1875 33.984375 37.640625 27.21875 \nQ 31.109375 20.453125 19.1875 8.296875 \nz\n\" id=\"DejaVuSans-50\"/>\n      </defs>\n      <g style=\"fill:#262626;\" transform=\"translate(306.830625 218.360347)scale(0.1 -0.1)\">\n       <use xlink:href=\"#DejaVuSans-50\"/>\n       <use x=\"63.623047\" xlink:href=\"#DejaVuSans-48\"/>\n       <use x=\"127.246094\" xlink:href=\"#DejaVuSans-48\"/>\n       <use x=\"190.869141\" xlink:href=\"#DejaVuSans-48\"/>\n      </g>\n     </g>\n    </g>\n    <g id=\"ytick_4\">\n     <g id=\"line2d_2\">\n      <g>\n       <use style=\"fill:#262626;stroke:#262626;stroke-width:0.8;\" x=\"299.830625\" xlink:href=\"#ma2d5053722\" y=\"170.306293\"/>\n      </g>\n     </g>\n     <g id=\"text_13\">\n      <!-- 3000 -->\n      <g style=\"fill:#262626;\" transform=\"translate(306.830625 174.105512)scale(0.1 -0.1)\">\n       <use xlink:href=\"#DejaVuSans-51\"/>\n       <use x=\"63.623047\" xlink:href=\"#DejaVuSans-48\"/>\n       <use x=\"127.246094\" xlink:href=\"#DejaVuSans-48\"/>\n       <use x=\"190.869141\" xlink:href=\"#DejaVuSans-48\"/>\n      </g>\n     </g>\n    </g>\n    <g id=\"ytick_5\">\n     <g id=\"line2d_3\">\n      <g>\n       <use style=\"fill:#262626;stroke:#262626;stroke-width:0.8;\" x=\"299.830625\" xlink:href=\"#ma2d5053722\" y=\"126.051458\"/>\n      </g>\n     </g>\n     <g id=\"text_14\">\n      <!-- 4000 -->\n      <g style=\"fill:#262626;\" transform=\"translate(306.830625 129.850677)scale(0.1 -0.1)\">\n       <use xlink:href=\"#DejaVuSans-52\"/>\n       <use x=\"63.623047\" xlink:href=\"#DejaVuSans-48\"/>\n       <use x=\"127.246094\" xlink:href=\"#DejaVuSans-48\"/>\n       <use x=\"190.869141\" xlink:href=\"#DejaVuSans-48\"/>\n      </g>\n     </g>\n    </g>\n    <g id=\"ytick_6\">\n     <g id=\"line2d_4\">\n      <g>\n       <use style=\"fill:#262626;stroke:#262626;stroke-width:0.8;\" x=\"299.830625\" xlink:href=\"#ma2d5053722\" y=\"81.796623\"/>\n      </g>\n     </g>\n     <g id=\"text_15\">\n      <!-- 5000 -->\n      <g style=\"fill:#262626;\" transform=\"translate(306.830625 85.595842)scale(0.1 -0.1)\">\n       <use xlink:href=\"#DejaVuSans-53\"/>\n       <use x=\"63.623047\" xlink:href=\"#DejaVuSans-48\"/>\n       <use x=\"127.246094\" xlink:href=\"#DejaVuSans-48\"/>\n       <use x=\"190.869141\" xlink:href=\"#DejaVuSans-48\"/>\n      </g>\n     </g>\n    </g>\n    <g id=\"ytick_7\">\n     <g id=\"line2d_5\">\n      <g>\n       <use style=\"fill:#262626;stroke:#262626;stroke-width:0.8;\" x=\"299.830625\" xlink:href=\"#ma2d5053722\" y=\"37.541788\"/>\n      </g>\n     </g>\n     <g id=\"text_16\">\n      <!-- 6000 -->\n      <g style=\"fill:#262626;\" transform=\"translate(306.830625 41.341007)scale(0.1 -0.1)\">\n       <use xlink:href=\"#DejaVuSans-54\"/>\n       <use x=\"63.623047\" xlink:href=\"#DejaVuSans-48\"/>\n       <use x=\"127.246094\" xlink:href=\"#DejaVuSans-48\"/>\n       <use x=\"190.869141\" xlink:href=\"#DejaVuSans-48\"/>\n      </g>\n     </g>\n    </g>\n   </g>\n   <image height=\"233\" id=\"image975b0df936\" transform=\"scale(1 -1)translate(0 -233)\" width=\"12\" x=\"288\" xlink:href=\"data:image/png;base64,\niVBORw0KGgoAAAANSUhEUgAAAAwAAADpCAYAAAAQ/NbWAAAABHNCSVQICAgIfAhkiAAAASBJREFUaIHtmFEOwzAIQ9mU+x93H5Pa7Ajti2TLo+k3yBgbSvv6fOcs8IxZKL4GjK8B42swBlVjwgxHSbStFOHNwiM5rOgQV9LCPMRxwAgl53DK25q4yDaHGwnbGncSOnBYuARowhPbmshBfsKdDY5E/eYL5MCFwwh5XYrkQBOocIdhRKlb5Qh6HRybDysNEQxLAFtDfpzoZzpwGR+wphUOMMHwnu7g1hZLACbwF0pgSQxgZd3TmTZ8P+jNxwAcXjIcJ3proHDL1kg0X+Iiwxz+fx4ChTNYg6/7OA4bQYLQwxqBJUGEBR30CIFtlf9ZN5hPnmBQeutwnZBIOs8az9ShgdLFE9ifjSYI8pLOgyIEdqkBAp04g5e4NRrosBGunx9j8v5RzGJoQQAAAABJRU5ErkJggg==\" y=\"-22\"/>\n   <g id=\"patch_8\">\n    <path d=\"M 288.160625 255.718125 \nL 288.160625 254.806406 \nL 288.160625 23.229844 \nL 288.160625 22.318125 \nL 299.830625 22.318125 \nL 299.830625 23.229844 \nL 299.830625 254.806406 \nL 299.830625 255.718125 \nz\n\" style=\"fill:none;stroke:#262626;stroke-linejoin:miter;stroke-width:0.8;\"/>\n   </g>\n  </g>\n </g>\n <defs>\n  <clipPath id=\"pef5466b3a3\">\n   <rect height=\"233.4\" width=\"233.4\" x=\"34.240625\" y=\"22.318125\"/>\n  </clipPath>\n  <clipPath id=\"p9e80e070db\">\n   <rect height=\"233.4\" width=\"11.67\" x=\"288.160625\" y=\"22.318125\"/>\n  </clipPath>\n </defs>\n</svg>\n"
          },
          "metadata": {}
        }
      ]
    },
    {
      "cell_type": "markdown",
      "metadata": {
        "id": "XbQxI2RAL8oJ"
      },
      "source": [
        "### Caso B"
      ]
    },
    {
      "cell_type": "code",
      "metadata": {
        "id": "5p12vj4CL8oJ",
        "colab": {
          "base_uri": "https://localhost:8080/",
          "height": 515
        },
        "outputId": "7f89ae68-5fea-4457-af8b-cf47714d0531"
      },
      "source": [
        "from sklearn.neural_network import MLPClassifier\n",
        "\n",
        "model = MLPClassifier(hidden_layer_sizes=[20 , 20], activation='relu') # Inicialice un modelo de red neuronal con 2 capas escondidas x 20 neuronas en cada capa y función de activación ReLu #\n",
        "model.fit(X_train_subB,y_train) # Ajuste el modelo con los datos del conjunto B #\n",
        "y_predict = model.predict(X_test_subB) # Realice la predicción de etiquetas con los datos de prueba del conjunto B #\n",
        "\n",
        "print(f'Precisión {round(accuracy_score(y_test, y_predict),5)}')\n",
        "print(pd.DataFrame(confusion_matrix(y_test,y_predict)))\n",
        "\n",
        "plot_confusion_matrix(confusion_matrix(y_test,y_predict),\n",
        "                      classes=class_names, \n",
        "                      title='Matriz de Confusión Normalizada: Red Neuronal')"
      ],
      "execution_count": 196,
      "outputs": [
        {
          "output_type": "stream",
          "name": "stdout",
          "text": [
            "Precisión 0.77367\n",
            "      0     1\n",
            "0  5687  1727\n",
            "1  1629  5785\n",
            "[[5687 1727]\n",
            " [1629 5785]]\n"
          ]
        },
        {
          "output_type": "display_data",
          "data": {
            "text/plain": [
              "<Figure size 432x288 with 2 Axes>"
            ],
            "image/svg+xml": "<?xml version=\"1.0\" encoding=\"utf-8\" standalone=\"no\"?>\n<!DOCTYPE svg PUBLIC \"-//W3C//DTD SVG 1.1//EN\"\n  \"http://www.w3.org/Graphics/SVG/1.1/DTD/svg11.dtd\">\n<!-- Created with matplotlib (https://matplotlib.org/) -->\n<svg height=\"293.274375pt\" version=\"1.1\" viewBox=\"0 0 339.480625 293.274375\" width=\"339.480625pt\" xmlns=\"http://www.w3.org/2000/svg\" xmlns:xlink=\"http://www.w3.org/1999/xlink\">\n <defs>\n  <style type=\"text/css\">\n*{stroke-linecap:butt;stroke-linejoin:round;}\n  </style>\n </defs>\n <g id=\"figure_1\">\n  <g id=\"patch_1\">\n   <path d=\"M 0 293.274375 \nL 339.480625 293.274375 \nL 339.480625 0 \nL 0 0 \nz\n\" style=\"fill:#ffffff;\"/>\n  </g>\n  <g id=\"axes_1\">\n   <g id=\"patch_2\">\n    <path d=\"M 34.240625 255.718125 \nL 267.640625 255.718125 \nL 267.640625 22.318125 \nL 34.240625 22.318125 \nz\n\" style=\"fill:#ffffff;\"/>\n   </g>\n   <g clip-path=\"url(#p25b7b832dd)\">\n    <image height=\"234\" id=\"image10c8b682a4\" transform=\"scale(1 -1)translate(0 -234)\" width=\"234\" x=\"34.240625\" xlink:href=\"data:image/png;base64,\niVBORw0KGgoAAAANSUhEUgAAAOoAAADqCAYAAACslNlOAAAABHNCSVQICAgIfAhkiAAAAuNJREFUeJzt1TENwlAARVEgNVAxTFhirRFM4aUGOjAUCSw/+bnkHAVvuXnX43OeF/7Ken/OnsBgt9kDgN+ECgFChQChQoBQIUCoECBUCBAqBAgVAoQKAUKFAKFCgFAhQKgQIFQIECoECBUChAoBQoUAoUKAUCFAqBAgVAgQKgQIFQKECgFChQChQoBQIUCoECBUCBAqBAgVAoQKAUKFAKFCgFAhQKgQIFQIECoECBUChAoBQoUAoUKAUCFAqBAgVAgQKgQIFQKECgFChQChQoBQIUCoECBUCBAqBAgVAoQKAUKFAKFCgFAhQKgQIFQIECoECBUChAoBQoUAoUKAUCFAqBAgVAgQKgQIFQKECgFChQChQoBQIUCoECBUCBAqBAgVAoQKAUKFAKFCgFAhQKgQIFQIECoECBUChAoBQoUAoUKAUCFAqBAgVAgQKgQIFQKECgFChQChQoBQIUCoECBUCBAqBAgVAoQKAUKFAKFCgFAhQKgQIFQIECoECBUChAoBQoUAoULAsj622RsYbH+/Zk9gMI8KAUKFAKFCgFAhQKgQIFQIECoECBUChAoBQoUAoUKAUCFAqBAgVAgQKgQIFQKECgFChQChQoBQIUCoECBUCBAqBAgVAoQKAUKFAKFCgFAhQKgQIFQIECoECBUChAoBQoUAoUKAUCFAqBAgVAgQKgQIFQKECgFChQChQoBQIUCoECBUCBAqBAgVAoQKAUKFAKFCgFAhQKgQIFQIECoECBUChAoBQoUAoUKAUCFAqBAgVAgQKgQIFQKECgFChQChQoBQIUCoECBUCBAqBAgVAoQKAUKFAKFCgFAhQKgQIFQIECoECBUChAoBQoUAoUKAUCFAqBAgVAgQKgQIFQKECgFChQChQoBQIUCoECBUCBAqBAgVAoQKAUKFAKFCgFAhQKgQIFQIECoECBUChAoBQoUAoUKAUCFAqBAgVAgQKgQIFQKECgFChQChQoBQIeALxicJfCU1O1QAAAAASUVORK5CYII=\" y=\"-21.718125\"/>\n   </g>\n   <g id=\"matplotlib.axis_1\">\n    <g id=\"xtick_1\">\n     <g id=\"text_1\">\n      <!-- 0 -->\n      <defs>\n       <path d=\"M 31.78125 66.40625 \nQ 24.171875 66.40625 20.328125 58.90625 \nQ 16.5 51.421875 16.5 36.375 \nQ 16.5 21.390625 20.328125 13.890625 \nQ 24.171875 6.390625 31.78125 6.390625 \nQ 39.453125 6.390625 43.28125 13.890625 \nQ 47.125 21.390625 47.125 36.375 \nQ 47.125 51.421875 43.28125 58.90625 \nQ 39.453125 66.40625 31.78125 66.40625 \nz\nM 31.78125 74.21875 \nQ 44.046875 74.21875 50.515625 64.515625 \nQ 56.984375 54.828125 56.984375 36.375 \nQ 56.984375 17.96875 50.515625 8.265625 \nQ 44.046875 -1.421875 31.78125 -1.421875 \nQ 19.53125 -1.421875 13.0625 8.265625 \nQ 6.59375 17.96875 6.59375 36.375 \nQ 6.59375 54.828125 13.0625 64.515625 \nQ 19.53125 74.21875 31.78125 74.21875 \nz\n\" id=\"DejaVuSans-48\"/>\n      </defs>\n      <g style=\"fill:#262626;\" transform=\"translate(89.409375 270.316563)scale(0.1 -0.1)\">\n       <use xlink:href=\"#DejaVuSans-48\"/>\n      </g>\n     </g>\n    </g>\n    <g id=\"xtick_2\">\n     <g id=\"text_2\">\n      <!-- 1 -->\n      <defs>\n       <path d=\"M 12.40625 8.296875 \nL 28.515625 8.296875 \nL 28.515625 63.921875 \nL 10.984375 60.40625 \nL 10.984375 69.390625 \nL 28.421875 72.90625 \nL 38.28125 72.90625 \nL 38.28125 8.296875 \nL 54.390625 8.296875 \nL 54.390625 0 \nL 12.40625 0 \nz\n\" id=\"DejaVuSans-49\"/>\n      </defs>\n      <g style=\"fill:#262626;\" transform=\"translate(206.109375 270.316563)scale(0.1 -0.1)\">\n       <use xlink:href=\"#DejaVuSans-49\"/>\n      </g>\n     </g>\n    </g>\n    <g id=\"text_3\">\n     <!-- Predicción -->\n     <defs>\n      <path d=\"M 19.671875 64.796875 \nL 19.671875 37.40625 \nL 32.078125 37.40625 \nQ 38.96875 37.40625 42.71875 40.96875 \nQ 46.484375 44.53125 46.484375 51.125 \nQ 46.484375 57.671875 42.71875 61.234375 \nQ 38.96875 64.796875 32.078125 64.796875 \nz\nM 9.8125 72.90625 \nL 32.078125 72.90625 \nQ 44.34375 72.90625 50.609375 67.359375 \nQ 56.890625 61.8125 56.890625 51.125 \nQ 56.890625 40.328125 50.609375 34.8125 \nQ 44.34375 29.296875 32.078125 29.296875 \nL 19.671875 29.296875 \nL 19.671875 0 \nL 9.8125 0 \nz\n\" id=\"DejaVuSans-80\"/>\n      <path d=\"M 41.109375 46.296875 \nQ 39.59375 47.171875 37.8125 47.578125 \nQ 36.03125 48 33.890625 48 \nQ 26.265625 48 22.1875 43.046875 \nQ 18.109375 38.09375 18.109375 28.8125 \nL 18.109375 0 \nL 9.078125 0 \nL 9.078125 54.6875 \nL 18.109375 54.6875 \nL 18.109375 46.1875 \nQ 20.953125 51.171875 25.484375 53.578125 \nQ 30.03125 56 36.53125 56 \nQ 37.453125 56 38.578125 55.875 \nQ 39.703125 55.765625 41.0625 55.515625 \nz\n\" id=\"DejaVuSans-114\"/>\n      <path d=\"M 56.203125 29.59375 \nL 56.203125 25.203125 \nL 14.890625 25.203125 \nQ 15.484375 15.921875 20.484375 11.0625 \nQ 25.484375 6.203125 34.421875 6.203125 \nQ 39.59375 6.203125 44.453125 7.46875 \nQ 49.3125 8.734375 54.109375 11.28125 \nL 54.109375 2.78125 \nQ 49.265625 0.734375 44.1875 -0.34375 \nQ 39.109375 -1.421875 33.890625 -1.421875 \nQ 20.796875 -1.421875 13.15625 6.1875 \nQ 5.515625 13.8125 5.515625 26.8125 \nQ 5.515625 40.234375 12.765625 48.109375 \nQ 20.015625 56 32.328125 56 \nQ 43.359375 56 49.78125 48.890625 \nQ 56.203125 41.796875 56.203125 29.59375 \nz\nM 47.21875 32.234375 \nQ 47.125 39.59375 43.09375 43.984375 \nQ 39.0625 48.390625 32.421875 48.390625 \nQ 24.90625 48.390625 20.390625 44.140625 \nQ 15.875 39.890625 15.1875 32.171875 \nz\n\" id=\"DejaVuSans-101\"/>\n      <path d=\"M 45.40625 46.390625 \nL 45.40625 75.984375 \nL 54.390625 75.984375 \nL 54.390625 0 \nL 45.40625 0 \nL 45.40625 8.203125 \nQ 42.578125 3.328125 38.25 0.953125 \nQ 33.9375 -1.421875 27.875 -1.421875 \nQ 17.96875 -1.421875 11.734375 6.484375 \nQ 5.515625 14.40625 5.515625 27.296875 \nQ 5.515625 40.1875 11.734375 48.09375 \nQ 17.96875 56 27.875 56 \nQ 33.9375 56 38.25 53.625 \nQ 42.578125 51.265625 45.40625 46.390625 \nz\nM 14.796875 27.296875 \nQ 14.796875 17.390625 18.875 11.75 \nQ 22.953125 6.109375 30.078125 6.109375 \nQ 37.203125 6.109375 41.296875 11.75 \nQ 45.40625 17.390625 45.40625 27.296875 \nQ 45.40625 37.203125 41.296875 42.84375 \nQ 37.203125 48.484375 30.078125 48.484375 \nQ 22.953125 48.484375 18.875 42.84375 \nQ 14.796875 37.203125 14.796875 27.296875 \nz\n\" id=\"DejaVuSans-100\"/>\n      <path d=\"M 9.421875 54.6875 \nL 18.40625 54.6875 \nL 18.40625 0 \nL 9.421875 0 \nz\nM 9.421875 75.984375 \nL 18.40625 75.984375 \nL 18.40625 64.59375 \nL 9.421875 64.59375 \nz\n\" id=\"DejaVuSans-105\"/>\n      <path d=\"M 48.78125 52.59375 \nL 48.78125 44.1875 \nQ 44.96875 46.296875 41.140625 47.34375 \nQ 37.3125 48.390625 33.40625 48.390625 \nQ 24.65625 48.390625 19.8125 42.84375 \nQ 14.984375 37.3125 14.984375 27.296875 \nQ 14.984375 17.28125 19.8125 11.734375 \nQ 24.65625 6.203125 33.40625 6.203125 \nQ 37.3125 6.203125 41.140625 7.25 \nQ 44.96875 8.296875 48.78125 10.40625 \nL 48.78125 2.09375 \nQ 45.015625 0.34375 40.984375 -0.53125 \nQ 36.96875 -1.421875 32.421875 -1.421875 \nQ 20.0625 -1.421875 12.78125 6.34375 \nQ 5.515625 14.109375 5.515625 27.296875 \nQ 5.515625 40.671875 12.859375 48.328125 \nQ 20.21875 56 33.015625 56 \nQ 37.15625 56 41.109375 55.140625 \nQ 45.0625 54.296875 48.78125 52.59375 \nz\n\" id=\"DejaVuSans-99\"/>\n      <path d=\"M 30.609375 48.390625 \nQ 23.390625 48.390625 19.1875 42.75 \nQ 14.984375 37.109375 14.984375 27.296875 \nQ 14.984375 17.484375 19.15625 11.84375 \nQ 23.34375 6.203125 30.609375 6.203125 \nQ 37.796875 6.203125 41.984375 11.859375 \nQ 46.1875 17.53125 46.1875 27.296875 \nQ 46.1875 37.015625 41.984375 42.703125 \nQ 37.796875 48.390625 30.609375 48.390625 \nz\nM 30.609375 56 \nQ 42.328125 56 49.015625 48.375 \nQ 55.71875 40.765625 55.71875 27.296875 \nQ 55.71875 13.875 49.015625 6.21875 \nQ 42.328125 -1.421875 30.609375 -1.421875 \nQ 18.84375 -1.421875 12.171875 6.21875 \nQ 5.515625 13.875 5.515625 27.296875 \nQ 5.515625 40.765625 12.171875 48.375 \nQ 18.84375 56 30.609375 56 \nz\nM 37.40625 79.984375 \nL 47.125 79.984375 \nL 31.21875 61.625 \nL 23.734375 61.625 \nz\n\" id=\"DejaVuSans-243\"/>\n      <path d=\"M 54.890625 33.015625 \nL 54.890625 0 \nL 45.90625 0 \nL 45.90625 32.71875 \nQ 45.90625 40.484375 42.875 44.328125 \nQ 39.84375 48.1875 33.796875 48.1875 \nQ 26.515625 48.1875 22.3125 43.546875 \nQ 18.109375 38.921875 18.109375 30.90625 \nL 18.109375 0 \nL 9.078125 0 \nL 9.078125 54.6875 \nL 18.109375 54.6875 \nL 18.109375 46.1875 \nQ 21.34375 51.125 25.703125 53.5625 \nQ 30.078125 56 35.796875 56 \nQ 45.21875 56 50.046875 50.171875 \nQ 54.890625 44.34375 54.890625 33.015625 \nz\n\" id=\"DejaVuSans-110\"/>\n     </defs>\n     <g style=\"fill:#262626;\" transform=\"translate(125.314844 283.994688)scale(0.1 -0.1)\">\n      <use xlink:href=\"#DejaVuSans-80\"/>\n      <use x=\"58.552734\" xlink:href=\"#DejaVuSans-114\"/>\n      <use x=\"97.416016\" xlink:href=\"#DejaVuSans-101\"/>\n      <use x=\"158.939453\" xlink:href=\"#DejaVuSans-100\"/>\n      <use x=\"222.416016\" xlink:href=\"#DejaVuSans-105\"/>\n      <use x=\"250.199219\" xlink:href=\"#DejaVuSans-99\"/>\n      <use x=\"305.179688\" xlink:href=\"#DejaVuSans-99\"/>\n      <use x=\"360.160156\" xlink:href=\"#DejaVuSans-105\"/>\n      <use x=\"387.943359\" xlink:href=\"#DejaVuSans-243\"/>\n      <use x=\"449.125\" xlink:href=\"#DejaVuSans-110\"/>\n     </g>\n    </g>\n   </g>\n   <g id=\"matplotlib.axis_2\">\n    <g id=\"ytick_1\">\n     <g id=\"text_4\">\n      <!-- 0 -->\n      <g style=\"fill:#262626;\" transform=\"translate(20.878125 84.467344)scale(0.1 -0.1)\">\n       <use xlink:href=\"#DejaVuSans-48\"/>\n      </g>\n     </g>\n    </g>\n    <g id=\"ytick_2\">\n     <g id=\"text_5\">\n      <!-- 1 -->\n      <g style=\"fill:#262626;\" transform=\"translate(20.878125 201.167344)scale(0.1 -0.1)\">\n       <use xlink:href=\"#DejaVuSans-49\"/>\n      </g>\n     </g>\n    </g>\n    <g id=\"text_6\">\n     <!-- Etiqueta -->\n     <defs>\n      <path d=\"M 9.8125 72.90625 \nL 55.90625 72.90625 \nL 55.90625 64.59375 \nL 19.671875 64.59375 \nL 19.671875 43.015625 \nL 54.390625 43.015625 \nL 54.390625 34.71875 \nL 19.671875 34.71875 \nL 19.671875 8.296875 \nL 56.78125 8.296875 \nL 56.78125 0 \nL 9.8125 0 \nz\n\" id=\"DejaVuSans-69\"/>\n      <path d=\"M 18.3125 70.21875 \nL 18.3125 54.6875 \nL 36.8125 54.6875 \nL 36.8125 47.703125 \nL 18.3125 47.703125 \nL 18.3125 18.015625 \nQ 18.3125 11.328125 20.140625 9.421875 \nQ 21.96875 7.515625 27.59375 7.515625 \nL 36.8125 7.515625 \nL 36.8125 0 \nL 27.59375 0 \nQ 17.1875 0 13.234375 3.875 \nQ 9.28125 7.765625 9.28125 18.015625 \nL 9.28125 47.703125 \nL 2.6875 47.703125 \nL 2.6875 54.6875 \nL 9.28125 54.6875 \nL 9.28125 70.21875 \nz\n\" id=\"DejaVuSans-116\"/>\n      <path d=\"M 14.796875 27.296875 \nQ 14.796875 17.390625 18.875 11.75 \nQ 22.953125 6.109375 30.078125 6.109375 \nQ 37.203125 6.109375 41.296875 11.75 \nQ 45.40625 17.390625 45.40625 27.296875 \nQ 45.40625 37.203125 41.296875 42.84375 \nQ 37.203125 48.484375 30.078125 48.484375 \nQ 22.953125 48.484375 18.875 42.84375 \nQ 14.796875 37.203125 14.796875 27.296875 \nz\nM 45.40625 8.203125 \nQ 42.578125 3.328125 38.25 0.953125 \nQ 33.9375 -1.421875 27.875 -1.421875 \nQ 17.96875 -1.421875 11.734375 6.484375 \nQ 5.515625 14.40625 5.515625 27.296875 \nQ 5.515625 40.1875 11.734375 48.09375 \nQ 17.96875 56 27.875 56 \nQ 33.9375 56 38.25 53.625 \nQ 42.578125 51.265625 45.40625 46.390625 \nL 45.40625 54.6875 \nL 54.390625 54.6875 \nL 54.390625 -20.796875 \nL 45.40625 -20.796875 \nz\n\" id=\"DejaVuSans-113\"/>\n      <path d=\"M 8.5 21.578125 \nL 8.5 54.6875 \nL 17.484375 54.6875 \nL 17.484375 21.921875 \nQ 17.484375 14.15625 20.5 10.265625 \nQ 23.53125 6.390625 29.59375 6.390625 \nQ 36.859375 6.390625 41.078125 11.03125 \nQ 45.3125 15.671875 45.3125 23.6875 \nL 45.3125 54.6875 \nL 54.296875 54.6875 \nL 54.296875 0 \nL 45.3125 0 \nL 45.3125 8.40625 \nQ 42.046875 3.421875 37.71875 1 \nQ 33.40625 -1.421875 27.6875 -1.421875 \nQ 18.265625 -1.421875 13.375 4.4375 \nQ 8.5 10.296875 8.5 21.578125 \nz\nM 31.109375 56 \nz\n\" id=\"DejaVuSans-117\"/>\n      <path d=\"M 34.28125 27.484375 \nQ 23.390625 27.484375 19.1875 25 \nQ 14.984375 22.515625 14.984375 16.5 \nQ 14.984375 11.71875 18.140625 8.90625 \nQ 21.296875 6.109375 26.703125 6.109375 \nQ 34.1875 6.109375 38.703125 11.40625 \nQ 43.21875 16.703125 43.21875 25.484375 \nL 43.21875 27.484375 \nz\nM 52.203125 31.203125 \nL 52.203125 0 \nL 43.21875 0 \nL 43.21875 8.296875 \nQ 40.140625 3.328125 35.546875 0.953125 \nQ 30.953125 -1.421875 24.3125 -1.421875 \nQ 15.921875 -1.421875 10.953125 3.296875 \nQ 6 8.015625 6 15.921875 \nQ 6 25.140625 12.171875 29.828125 \nQ 18.359375 34.515625 30.609375 34.515625 \nL 43.21875 34.515625 \nL 43.21875 35.40625 \nQ 43.21875 41.609375 39.140625 45 \nQ 35.0625 48.390625 27.6875 48.390625 \nQ 23 48.390625 18.546875 47.265625 \nQ 14.109375 46.140625 10.015625 43.890625 \nL 10.015625 52.203125 \nQ 14.9375 54.109375 19.578125 55.046875 \nQ 24.21875 56 28.609375 56 \nQ 40.484375 56 46.34375 49.84375 \nQ 52.203125 43.703125 52.203125 31.203125 \nz\n\" id=\"DejaVuSans-97\"/>\n     </defs>\n     <g style=\"fill:#262626;\" transform=\"translate(14.798438 159.970469)rotate(-90)scale(0.1 -0.1)\">\n      <use xlink:href=\"#DejaVuSans-69\"/>\n      <use x=\"63.183594\" xlink:href=\"#DejaVuSans-116\"/>\n      <use x=\"102.392578\" xlink:href=\"#DejaVuSans-105\"/>\n      <use x=\"130.175781\" xlink:href=\"#DejaVuSans-113\"/>\n      <use x=\"193.652344\" xlink:href=\"#DejaVuSans-117\"/>\n      <use x=\"257.03125\" xlink:href=\"#DejaVuSans-101\"/>\n      <use x=\"318.554688\" xlink:href=\"#DejaVuSans-116\"/>\n      <use x=\"357.763672\" xlink:href=\"#DejaVuSans-97\"/>\n     </g>\n    </g>\n   </g>\n   <g id=\"patch_3\">\n    <path d=\"M 34.240625 255.718125 \nL 34.240625 22.318125 \n\" style=\"fill:none;stroke:#262626;stroke-linecap:square;stroke-linejoin:miter;stroke-width:0.8;\"/>\n   </g>\n   <g id=\"patch_4\">\n    <path d=\"M 267.640625 255.718125 \nL 267.640625 22.318125 \n\" style=\"fill:none;stroke:#262626;stroke-linecap:square;stroke-linejoin:miter;stroke-width:0.8;\"/>\n   </g>\n   <g id=\"patch_5\">\n    <path d=\"M 34.240625 255.718125 \nL 267.640625 255.718125 \n\" style=\"fill:none;stroke:#262626;stroke-linecap:square;stroke-linejoin:miter;stroke-width:0.8;\"/>\n   </g>\n   <g id=\"patch_6\">\n    <path d=\"M 34.240625 22.318125 \nL 267.640625 22.318125 \n\" style=\"fill:none;stroke:#262626;stroke-linecap:square;stroke-linejoin:miter;stroke-width:0.8;\"/>\n   </g>\n   <g id=\"text_7\">\n    <!-- 5687 -->\n    <defs>\n     <path d=\"M 10.796875 72.90625 \nL 49.515625 72.90625 \nL 49.515625 64.59375 \nL 19.828125 64.59375 \nL 19.828125 46.734375 \nQ 21.96875 47.46875 24.109375 47.828125 \nQ 26.265625 48.1875 28.421875 48.1875 \nQ 40.625 48.1875 47.75 41.5 \nQ 54.890625 34.8125 54.890625 23.390625 \nQ 54.890625 11.625 47.5625 5.09375 \nQ 40.234375 -1.421875 26.90625 -1.421875 \nQ 22.3125 -1.421875 17.546875 -0.640625 \nQ 12.796875 0.140625 7.71875 1.703125 \nL 7.71875 11.625 \nQ 12.109375 9.234375 16.796875 8.0625 \nQ 21.484375 6.890625 26.703125 6.890625 \nQ 35.15625 6.890625 40.078125 11.328125 \nQ 45.015625 15.765625 45.015625 23.390625 \nQ 45.015625 31 40.078125 35.4375 \nQ 35.15625 39.890625 26.703125 39.890625 \nQ 22.75 39.890625 18.8125 39.015625 \nQ 14.890625 38.140625 10.796875 36.28125 \nz\n\" id=\"DejaVuSans-53\"/>\n     <path d=\"M 33.015625 40.375 \nQ 26.375 40.375 22.484375 35.828125 \nQ 18.609375 31.296875 18.609375 23.390625 \nQ 18.609375 15.53125 22.484375 10.953125 \nQ 26.375 6.390625 33.015625 6.390625 \nQ 39.65625 6.390625 43.53125 10.953125 \nQ 47.40625 15.53125 47.40625 23.390625 \nQ 47.40625 31.296875 43.53125 35.828125 \nQ 39.65625 40.375 33.015625 40.375 \nz\nM 52.59375 71.296875 \nL 52.59375 62.3125 \nQ 48.875 64.0625 45.09375 64.984375 \nQ 41.3125 65.921875 37.59375 65.921875 \nQ 27.828125 65.921875 22.671875 59.328125 \nQ 17.53125 52.734375 16.796875 39.40625 \nQ 19.671875 43.65625 24.015625 45.921875 \nQ 28.375 48.1875 33.59375 48.1875 \nQ 44.578125 48.1875 50.953125 41.515625 \nQ 57.328125 34.859375 57.328125 23.390625 \nQ 57.328125 12.15625 50.6875 5.359375 \nQ 44.046875 -1.421875 33.015625 -1.421875 \nQ 20.359375 -1.421875 13.671875 8.265625 \nQ 6.984375 17.96875 6.984375 36.375 \nQ 6.984375 53.65625 15.1875 63.9375 \nQ 23.390625 74.21875 37.203125 74.21875 \nQ 40.921875 74.21875 44.703125 73.484375 \nQ 48.484375 72.75 52.59375 71.296875 \nz\n\" id=\"DejaVuSans-54\"/>\n     <path d=\"M 31.78125 34.625 \nQ 24.75 34.625 20.71875 30.859375 \nQ 16.703125 27.09375 16.703125 20.515625 \nQ 16.703125 13.921875 20.71875 10.15625 \nQ 24.75 6.390625 31.78125 6.390625 \nQ 38.8125 6.390625 42.859375 10.171875 \nQ 46.921875 13.96875 46.921875 20.515625 \nQ 46.921875 27.09375 42.890625 30.859375 \nQ 38.875 34.625 31.78125 34.625 \nz\nM 21.921875 38.8125 \nQ 15.578125 40.375 12.03125 44.71875 \nQ 8.5 49.078125 8.5 55.328125 \nQ 8.5 64.0625 14.71875 69.140625 \nQ 20.953125 74.21875 31.78125 74.21875 \nQ 42.671875 74.21875 48.875 69.140625 \nQ 55.078125 64.0625 55.078125 55.328125 \nQ 55.078125 49.078125 51.53125 44.71875 \nQ 48 40.375 41.703125 38.8125 \nQ 48.828125 37.15625 52.796875 32.3125 \nQ 56.78125 27.484375 56.78125 20.515625 \nQ 56.78125 9.90625 50.3125 4.234375 \nQ 43.84375 -1.421875 31.78125 -1.421875 \nQ 19.734375 -1.421875 13.25 4.234375 \nQ 6.78125 9.90625 6.78125 20.515625 \nQ 6.78125 27.484375 10.78125 32.3125 \nQ 14.796875 37.15625 21.921875 38.8125 \nz\nM 18.3125 54.390625 \nQ 18.3125 48.734375 21.84375 45.5625 \nQ 25.390625 42.390625 31.78125 42.390625 \nQ 38.140625 42.390625 41.71875 45.5625 \nQ 45.3125 48.734375 45.3125 54.390625 \nQ 45.3125 60.0625 41.71875 63.234375 \nQ 38.140625 66.40625 31.78125 66.40625 \nQ 25.390625 66.40625 21.84375 63.234375 \nQ 18.3125 60.0625 18.3125 54.390625 \nz\n\" id=\"DejaVuSans-56\"/>\n     <path d=\"M 8.203125 72.90625 \nL 55.078125 72.90625 \nL 55.078125 68.703125 \nL 28.609375 0 \nL 18.3125 0 \nL 43.21875 64.59375 \nL 8.203125 64.59375 \nz\n\" id=\"DejaVuSans-55\"/>\n    </defs>\n    <g style=\"fill:#ffffff;\" transform=\"translate(79.865625 80.668125)scale(0.1 -0.1)\">\n     <use xlink:href=\"#DejaVuSans-53\"/>\n     <use x=\"63.623047\" xlink:href=\"#DejaVuSans-54\"/>\n     <use x=\"127.246094\" xlink:href=\"#DejaVuSans-56\"/>\n     <use x=\"190.869141\" xlink:href=\"#DejaVuSans-55\"/>\n    </g>\n   </g>\n   <g id=\"text_8\">\n    <!-- 1727 -->\n    <defs>\n     <path d=\"M 19.1875 8.296875 \nL 53.609375 8.296875 \nL 53.609375 0 \nL 7.328125 0 \nL 7.328125 8.296875 \nQ 12.9375 14.109375 22.625 23.890625 \nQ 32.328125 33.6875 34.8125 36.53125 \nQ 39.546875 41.84375 41.421875 45.53125 \nQ 43.3125 49.21875 43.3125 52.78125 \nQ 43.3125 58.59375 39.234375 62.25 \nQ 35.15625 65.921875 28.609375 65.921875 \nQ 23.96875 65.921875 18.8125 64.3125 \nQ 13.671875 62.703125 7.8125 59.421875 \nL 7.8125 69.390625 \nQ 13.765625 71.78125 18.9375 73 \nQ 24.125 74.21875 28.421875 74.21875 \nQ 39.75 74.21875 46.484375 68.546875 \nQ 53.21875 62.890625 53.21875 53.421875 \nQ 53.21875 48.921875 51.53125 44.890625 \nQ 49.859375 40.875 45.40625 35.40625 \nQ 44.1875 33.984375 37.640625 27.21875 \nQ 31.109375 20.453125 19.1875 8.296875 \nz\n\" id=\"DejaVuSans-50\"/>\n    </defs>\n    <g transform=\"translate(196.565625 80.668125)scale(0.1 -0.1)\">\n     <use xlink:href=\"#DejaVuSans-49\"/>\n     <use x=\"63.623047\" xlink:href=\"#DejaVuSans-55\"/>\n     <use x=\"127.246094\" xlink:href=\"#DejaVuSans-50\"/>\n     <use x=\"190.869141\" xlink:href=\"#DejaVuSans-55\"/>\n    </g>\n   </g>\n   <g id=\"text_9\">\n    <!-- 1629 -->\n    <defs>\n     <path d=\"M 10.984375 1.515625 \nL 10.984375 10.5 \nQ 14.703125 8.734375 18.5 7.8125 \nQ 22.3125 6.890625 25.984375 6.890625 \nQ 35.75 6.890625 40.890625 13.453125 \nQ 46.046875 20.015625 46.78125 33.40625 \nQ 43.953125 29.203125 39.59375 26.953125 \nQ 35.25 24.703125 29.984375 24.703125 \nQ 19.046875 24.703125 12.671875 31.3125 \nQ 6.296875 37.9375 6.296875 49.421875 \nQ 6.296875 60.640625 12.9375 67.421875 \nQ 19.578125 74.21875 30.609375 74.21875 \nQ 43.265625 74.21875 49.921875 64.515625 \nQ 56.59375 54.828125 56.59375 36.375 \nQ 56.59375 19.140625 48.40625 8.859375 \nQ 40.234375 -1.421875 26.421875 -1.421875 \nQ 22.703125 -1.421875 18.890625 -0.6875 \nQ 15.09375 0.046875 10.984375 1.515625 \nz\nM 30.609375 32.421875 \nQ 37.25 32.421875 41.125 36.953125 \nQ 45.015625 41.5 45.015625 49.421875 \nQ 45.015625 57.28125 41.125 61.84375 \nQ 37.25 66.40625 30.609375 66.40625 \nQ 23.96875 66.40625 20.09375 61.84375 \nQ 16.21875 57.28125 16.21875 49.421875 \nQ 16.21875 41.5 20.09375 36.953125 \nQ 23.96875 32.421875 30.609375 32.421875 \nz\n\" id=\"DejaVuSans-57\"/>\n    </defs>\n    <g transform=\"translate(79.865625 197.368125)scale(0.1 -0.1)\">\n     <use xlink:href=\"#DejaVuSans-49\"/>\n     <use x=\"63.623047\" xlink:href=\"#DejaVuSans-54\"/>\n     <use x=\"127.246094\" xlink:href=\"#DejaVuSans-50\"/>\n     <use x=\"190.869141\" xlink:href=\"#DejaVuSans-57\"/>\n    </g>\n   </g>\n   <g id=\"text_10\">\n    <!-- 5785 -->\n    <g style=\"fill:#ffffff;\" transform=\"translate(196.565625 197.368125)scale(0.1 -0.1)\">\n     <use xlink:href=\"#DejaVuSans-53\"/>\n     <use x=\"63.623047\" xlink:href=\"#DejaVuSans-55\"/>\n     <use x=\"127.246094\" xlink:href=\"#DejaVuSans-56\"/>\n     <use x=\"190.869141\" xlink:href=\"#DejaVuSans-53\"/>\n    </g>\n   </g>\n   <g id=\"text_11\">\n    <!-- Matriz de Confusión Normalizada: Red Neuronal -->\n    <defs>\n     <path d=\"M 9.8125 72.90625 \nL 24.515625 72.90625 \nL 43.109375 23.296875 \nL 61.8125 72.90625 \nL 76.515625 72.90625 \nL 76.515625 0 \nL 66.890625 0 \nL 66.890625 64.015625 \nL 48.09375 14.015625 \nL 38.1875 14.015625 \nL 19.390625 64.015625 \nL 19.390625 0 \nL 9.8125 0 \nz\n\" id=\"DejaVuSans-77\"/>\n     <path d=\"M 5.515625 54.6875 \nL 48.1875 54.6875 \nL 48.1875 46.484375 \nL 14.40625 7.171875 \nL 48.1875 7.171875 \nL 48.1875 0 \nL 4.296875 0 \nL 4.296875 8.203125 \nL 38.09375 47.515625 \nL 5.515625 47.515625 \nz\n\" id=\"DejaVuSans-122\"/>\n     <path id=\"DejaVuSans-32\"/>\n     <path d=\"M 64.40625 67.28125 \nL 64.40625 56.890625 \nQ 59.421875 61.53125 53.78125 63.8125 \nQ 48.140625 66.109375 41.796875 66.109375 \nQ 29.296875 66.109375 22.65625 58.46875 \nQ 16.015625 50.828125 16.015625 36.375 \nQ 16.015625 21.96875 22.65625 14.328125 \nQ 29.296875 6.6875 41.796875 6.6875 \nQ 48.140625 6.6875 53.78125 8.984375 \nQ 59.421875 11.28125 64.40625 15.921875 \nL 64.40625 5.609375 \nQ 59.234375 2.09375 53.4375 0.328125 \nQ 47.65625 -1.421875 41.21875 -1.421875 \nQ 24.65625 -1.421875 15.125 8.703125 \nQ 5.609375 18.84375 5.609375 36.375 \nQ 5.609375 53.953125 15.125 64.078125 \nQ 24.65625 74.21875 41.21875 74.21875 \nQ 47.75 74.21875 53.53125 72.484375 \nQ 59.328125 70.75 64.40625 67.28125 \nz\n\" id=\"DejaVuSans-67\"/>\n     <path d=\"M 30.609375 48.390625 \nQ 23.390625 48.390625 19.1875 42.75 \nQ 14.984375 37.109375 14.984375 27.296875 \nQ 14.984375 17.484375 19.15625 11.84375 \nQ 23.34375 6.203125 30.609375 6.203125 \nQ 37.796875 6.203125 41.984375 11.859375 \nQ 46.1875 17.53125 46.1875 27.296875 \nQ 46.1875 37.015625 41.984375 42.703125 \nQ 37.796875 48.390625 30.609375 48.390625 \nz\nM 30.609375 56 \nQ 42.328125 56 49.015625 48.375 \nQ 55.71875 40.765625 55.71875 27.296875 \nQ 55.71875 13.875 49.015625 6.21875 \nQ 42.328125 -1.421875 30.609375 -1.421875 \nQ 18.84375 -1.421875 12.171875 6.21875 \nQ 5.515625 13.875 5.515625 27.296875 \nQ 5.515625 40.765625 12.171875 48.375 \nQ 18.84375 56 30.609375 56 \nz\n\" id=\"DejaVuSans-111\"/>\n     <path d=\"M 37.109375 75.984375 \nL 37.109375 68.5 \nL 28.515625 68.5 \nQ 23.6875 68.5 21.796875 66.546875 \nQ 19.921875 64.59375 19.921875 59.515625 \nL 19.921875 54.6875 \nL 34.71875 54.6875 \nL 34.71875 47.703125 \nL 19.921875 47.703125 \nL 19.921875 0 \nL 10.890625 0 \nL 10.890625 47.703125 \nL 2.296875 47.703125 \nL 2.296875 54.6875 \nL 10.890625 54.6875 \nL 10.890625 58.5 \nQ 10.890625 67.625 15.140625 71.796875 \nQ 19.390625 75.984375 28.609375 75.984375 \nz\n\" id=\"DejaVuSans-102\"/>\n     <path d=\"M 44.28125 53.078125 \nL 44.28125 44.578125 \nQ 40.484375 46.53125 36.375 47.5 \nQ 32.28125 48.484375 27.875 48.484375 \nQ 21.1875 48.484375 17.84375 46.4375 \nQ 14.5 44.390625 14.5 40.28125 \nQ 14.5 37.15625 16.890625 35.375 \nQ 19.28125 33.59375 26.515625 31.984375 \nL 29.59375 31.296875 \nQ 39.15625 29.25 43.1875 25.515625 \nQ 47.21875 21.78125 47.21875 15.09375 \nQ 47.21875 7.46875 41.1875 3.015625 \nQ 35.15625 -1.421875 24.609375 -1.421875 \nQ 20.21875 -1.421875 15.453125 -0.5625 \nQ 10.6875 0.296875 5.421875 2 \nL 5.421875 11.28125 \nQ 10.40625 8.6875 15.234375 7.390625 \nQ 20.0625 6.109375 24.8125 6.109375 \nQ 31.15625 6.109375 34.5625 8.28125 \nQ 37.984375 10.453125 37.984375 14.40625 \nQ 37.984375 18.0625 35.515625 20.015625 \nQ 33.0625 21.96875 24.703125 23.78125 \nL 21.578125 24.515625 \nQ 13.234375 26.265625 9.515625 29.90625 \nQ 5.8125 33.546875 5.8125 39.890625 \nQ 5.8125 47.609375 11.28125 51.796875 \nQ 16.75 56 26.8125 56 \nQ 31.78125 56 36.171875 55.265625 \nQ 40.578125 54.546875 44.28125 53.078125 \nz\n\" id=\"DejaVuSans-115\"/>\n     <path d=\"M 9.8125 72.90625 \nL 23.09375 72.90625 \nL 55.421875 11.921875 \nL 55.421875 72.90625 \nL 64.984375 72.90625 \nL 64.984375 0 \nL 51.703125 0 \nL 19.390625 60.984375 \nL 19.390625 0 \nL 9.8125 0 \nz\n\" id=\"DejaVuSans-78\"/>\n     <path d=\"M 52 44.1875 \nQ 55.375 50.25 60.0625 53.125 \nQ 64.75 56 71.09375 56 \nQ 79.640625 56 84.28125 50.015625 \nQ 88.921875 44.046875 88.921875 33.015625 \nL 88.921875 0 \nL 79.890625 0 \nL 79.890625 32.71875 \nQ 79.890625 40.578125 77.09375 44.375 \nQ 74.3125 48.1875 68.609375 48.1875 \nQ 61.625 48.1875 57.5625 43.546875 \nQ 53.515625 38.921875 53.515625 30.90625 \nL 53.515625 0 \nL 44.484375 0 \nL 44.484375 32.71875 \nQ 44.484375 40.625 41.703125 44.40625 \nQ 38.921875 48.1875 33.109375 48.1875 \nQ 26.21875 48.1875 22.15625 43.53125 \nQ 18.109375 38.875 18.109375 30.90625 \nL 18.109375 0 \nL 9.078125 0 \nL 9.078125 54.6875 \nL 18.109375 54.6875 \nL 18.109375 46.1875 \nQ 21.1875 51.21875 25.484375 53.609375 \nQ 29.78125 56 35.6875 56 \nQ 41.65625 56 45.828125 52.96875 \nQ 50 49.953125 52 44.1875 \nz\n\" id=\"DejaVuSans-109\"/>\n     <path d=\"M 9.421875 75.984375 \nL 18.40625 75.984375 \nL 18.40625 0 \nL 9.421875 0 \nz\n\" id=\"DejaVuSans-108\"/>\n     <path d=\"M 11.71875 12.40625 \nL 22.015625 12.40625 \nL 22.015625 0 \nL 11.71875 0 \nz\nM 11.71875 51.703125 \nL 22.015625 51.703125 \nL 22.015625 39.3125 \nL 11.71875 39.3125 \nz\n\" id=\"DejaVuSans-58\"/>\n     <path d=\"M 44.390625 34.1875 \nQ 47.5625 33.109375 50.5625 29.59375 \nQ 53.5625 26.078125 56.59375 19.921875 \nL 66.609375 0 \nL 56 0 \nL 46.6875 18.703125 \nQ 43.0625 26.03125 39.671875 28.421875 \nQ 36.28125 30.8125 30.421875 30.8125 \nL 19.671875 30.8125 \nL 19.671875 0 \nL 9.8125 0 \nL 9.8125 72.90625 \nL 32.078125 72.90625 \nQ 44.578125 72.90625 50.734375 67.671875 \nQ 56.890625 62.453125 56.890625 51.90625 \nQ 56.890625 45.015625 53.6875 40.46875 \nQ 50.484375 35.9375 44.390625 34.1875 \nz\nM 19.671875 64.796875 \nL 19.671875 38.921875 \nL 32.078125 38.921875 \nQ 39.203125 38.921875 42.84375 42.21875 \nQ 46.484375 45.515625 46.484375 51.90625 \nQ 46.484375 58.296875 42.84375 61.546875 \nQ 39.203125 64.796875 32.078125 64.796875 \nz\n\" id=\"DejaVuSans-82\"/>\n    </defs>\n    <g style=\"fill:#262626;\" transform=\"translate(7.330625 16.318125)scale(0.12 -0.12)\">\n     <use xlink:href=\"#DejaVuSans-77\"/>\n     <use x=\"86.279297\" xlink:href=\"#DejaVuSans-97\"/>\n     <use x=\"147.558594\" xlink:href=\"#DejaVuSans-116\"/>\n     <use x=\"186.767578\" xlink:href=\"#DejaVuSans-114\"/>\n     <use x=\"227.880859\" xlink:href=\"#DejaVuSans-105\"/>\n     <use x=\"255.664062\" xlink:href=\"#DejaVuSans-122\"/>\n     <use x=\"308.154297\" xlink:href=\"#DejaVuSans-32\"/>\n     <use x=\"339.941406\" xlink:href=\"#DejaVuSans-100\"/>\n     <use x=\"403.417969\" xlink:href=\"#DejaVuSans-101\"/>\n     <use x=\"464.941406\" xlink:href=\"#DejaVuSans-32\"/>\n     <use x=\"496.728516\" xlink:href=\"#DejaVuSans-67\"/>\n     <use x=\"566.552734\" xlink:href=\"#DejaVuSans-111\"/>\n     <use x=\"627.734375\" xlink:href=\"#DejaVuSans-110\"/>\n     <use x=\"691.113281\" xlink:href=\"#DejaVuSans-102\"/>\n     <use x=\"726.318359\" xlink:href=\"#DejaVuSans-117\"/>\n     <use x=\"789.697266\" xlink:href=\"#DejaVuSans-115\"/>\n     <use x=\"841.796875\" xlink:href=\"#DejaVuSans-105\"/>\n     <use x=\"869.580078\" xlink:href=\"#DejaVuSans-243\"/>\n     <use x=\"930.761719\" xlink:href=\"#DejaVuSans-110\"/>\n     <use x=\"994.140625\" xlink:href=\"#DejaVuSans-32\"/>\n     <use x=\"1025.927734\" xlink:href=\"#DejaVuSans-78\"/>\n     <use x=\"1100.732422\" xlink:href=\"#DejaVuSans-111\"/>\n     <use x=\"1161.914062\" xlink:href=\"#DejaVuSans-114\"/>\n     <use x=\"1201.277344\" xlink:href=\"#DejaVuSans-109\"/>\n     <use x=\"1298.689453\" xlink:href=\"#DejaVuSans-97\"/>\n     <use x=\"1359.96875\" xlink:href=\"#DejaVuSans-108\"/>\n     <use x=\"1387.751953\" xlink:href=\"#DejaVuSans-105\"/>\n     <use x=\"1415.535156\" xlink:href=\"#DejaVuSans-122\"/>\n     <use x=\"1468.025391\" xlink:href=\"#DejaVuSans-97\"/>\n     <use x=\"1529.304688\" xlink:href=\"#DejaVuSans-100\"/>\n     <use x=\"1592.78125\" xlink:href=\"#DejaVuSans-97\"/>\n     <use x=\"1654.060547\" xlink:href=\"#DejaVuSans-58\"/>\n     <use x=\"1687.751953\" xlink:href=\"#DejaVuSans-32\"/>\n     <use x=\"1719.539062\" xlink:href=\"#DejaVuSans-82\"/>\n     <use x=\"1784.521484\" xlink:href=\"#DejaVuSans-101\"/>\n     <use x=\"1846.044922\" xlink:href=\"#DejaVuSans-100\"/>\n     <use x=\"1909.521484\" xlink:href=\"#DejaVuSans-32\"/>\n     <use x=\"1941.308594\" xlink:href=\"#DejaVuSans-78\"/>\n     <use x=\"2016.113281\" xlink:href=\"#DejaVuSans-101\"/>\n     <use x=\"2077.636719\" xlink:href=\"#DejaVuSans-117\"/>\n     <use x=\"2141.015625\" xlink:href=\"#DejaVuSans-114\"/>\n     <use x=\"2179.878906\" xlink:href=\"#DejaVuSans-111\"/>\n     <use x=\"2241.060547\" xlink:href=\"#DejaVuSans-110\"/>\n     <use x=\"2304.439453\" xlink:href=\"#DejaVuSans-97\"/>\n     <use x=\"2365.71875\" xlink:href=\"#DejaVuSans-108\"/>\n    </g>\n   </g>\n  </g>\n  <g id=\"axes_2\">\n   <g id=\"patch_7\">\n    <path clip-path=\"url(#p0bd5e4ddbf)\" d=\"M 288.160625 255.718125 \nL 288.160625 254.806406 \nL 288.160625 23.229844 \nL 288.160625 22.318125 \nL 299.830625 22.318125 \nL 299.830625 23.229844 \nL 299.830625 254.806406 \nL 299.830625 255.718125 \nz\n\" style=\"fill:#ffffff;stroke:#ffffff;stroke-linejoin:miter;stroke-width:0.01;\"/>\n   </g>\n   <g id=\"matplotlib.axis_3\"/>\n   <g id=\"matplotlib.axis_4\">\n    <g id=\"ytick_3\">\n     <g id=\"line2d_1\">\n      <defs>\n       <path d=\"M 0 0 \nL 3.5 0 \n\" id=\"m6a377d2ca7\" style=\"stroke:#262626;stroke-width:0.8;\"/>\n      </defs>\n      <g>\n       <use style=\"fill:#262626;stroke:#262626;stroke-width:0.8;\" x=\"299.830625\" xlink:href=\"#m6a377d2ca7\" y=\"234.882851\"/>\n      </g>\n     </g>\n     <g id=\"text_12\">\n      <!-- 2000 -->\n      <g style=\"fill:#262626;\" transform=\"translate(306.830625 238.682069)scale(0.1 -0.1)\">\n       <use xlink:href=\"#DejaVuSans-50\"/>\n       <use x=\"63.623047\" xlink:href=\"#DejaVuSans-48\"/>\n       <use x=\"127.246094\" xlink:href=\"#DejaVuSans-48\"/>\n       <use x=\"190.869141\" xlink:href=\"#DejaVuSans-48\"/>\n      </g>\n     </g>\n    </g>\n    <g id=\"ytick_4\">\n     <g id=\"line2d_2\">\n      <g>\n       <use style=\"fill:#262626;stroke:#262626;stroke-width:0.8;\" x=\"299.830625\" xlink:href=\"#m6a377d2ca7\" y=\"206.802966\"/>\n      </g>\n     </g>\n     <g id=\"text_13\">\n      <!-- 2500 -->\n      <g style=\"fill:#262626;\" transform=\"translate(306.830625 210.602185)scale(0.1 -0.1)\">\n       <use xlink:href=\"#DejaVuSans-50\"/>\n       <use x=\"63.623047\" xlink:href=\"#DejaVuSans-53\"/>\n       <use x=\"127.246094\" xlink:href=\"#DejaVuSans-48\"/>\n       <use x=\"190.869141\" xlink:href=\"#DejaVuSans-48\"/>\n      </g>\n     </g>\n    </g>\n    <g id=\"ytick_5\">\n     <g id=\"line2d_3\">\n      <g>\n       <use style=\"fill:#262626;stroke:#262626;stroke-width:0.8;\" x=\"299.830625\" xlink:href=\"#m6a377d2ca7\" y=\"178.723082\"/>\n      </g>\n     </g>\n     <g id=\"text_14\">\n      <!-- 3000 -->\n      <defs>\n       <path d=\"M 40.578125 39.3125 \nQ 47.65625 37.796875 51.625 33 \nQ 55.609375 28.21875 55.609375 21.1875 \nQ 55.609375 10.40625 48.1875 4.484375 \nQ 40.765625 -1.421875 27.09375 -1.421875 \nQ 22.515625 -1.421875 17.65625 -0.515625 \nQ 12.796875 0.390625 7.625 2.203125 \nL 7.625 11.71875 \nQ 11.71875 9.328125 16.59375 8.109375 \nQ 21.484375 6.890625 26.8125 6.890625 \nQ 36.078125 6.890625 40.9375 10.546875 \nQ 45.796875 14.203125 45.796875 21.1875 \nQ 45.796875 27.640625 41.28125 31.265625 \nQ 36.765625 34.90625 28.71875 34.90625 \nL 20.21875 34.90625 \nL 20.21875 43.015625 \nL 29.109375 43.015625 \nQ 36.375 43.015625 40.234375 45.921875 \nQ 44.09375 48.828125 44.09375 54.296875 \nQ 44.09375 59.90625 40.109375 62.90625 \nQ 36.140625 65.921875 28.71875 65.921875 \nQ 24.65625 65.921875 20.015625 65.03125 \nQ 15.375 64.15625 9.8125 62.3125 \nL 9.8125 71.09375 \nQ 15.4375 72.65625 20.34375 73.4375 \nQ 25.25 74.21875 29.59375 74.21875 \nQ 40.828125 74.21875 47.359375 69.109375 \nQ 53.90625 64.015625 53.90625 55.328125 \nQ 53.90625 49.265625 50.4375 45.09375 \nQ 46.96875 40.921875 40.578125 39.3125 \nz\n\" id=\"DejaVuSans-51\"/>\n      </defs>\n      <g style=\"fill:#262626;\" transform=\"translate(306.830625 182.5223)scale(0.1 -0.1)\">\n       <use xlink:href=\"#DejaVuSans-51\"/>\n       <use x=\"63.623047\" xlink:href=\"#DejaVuSans-48\"/>\n       <use x=\"127.246094\" xlink:href=\"#DejaVuSans-48\"/>\n       <use x=\"190.869141\" xlink:href=\"#DejaVuSans-48\"/>\n      </g>\n     </g>\n    </g>\n    <g id=\"ytick_6\">\n     <g id=\"line2d_4\">\n      <g>\n       <use style=\"fill:#262626;stroke:#262626;stroke-width:0.8;\" x=\"299.830625\" xlink:href=\"#m6a377d2ca7\" y=\"150.643197\"/>\n      </g>\n     </g>\n     <g id=\"text_15\">\n      <!-- 3500 -->\n      <g style=\"fill:#262626;\" transform=\"translate(306.830625 154.442416)scale(0.1 -0.1)\">\n       <use xlink:href=\"#DejaVuSans-51\"/>\n       <use x=\"63.623047\" xlink:href=\"#DejaVuSans-53\"/>\n       <use x=\"127.246094\" xlink:href=\"#DejaVuSans-48\"/>\n       <use x=\"190.869141\" xlink:href=\"#DejaVuSans-48\"/>\n      </g>\n     </g>\n    </g>\n    <g id=\"ytick_7\">\n     <g id=\"line2d_5\">\n      <g>\n       <use style=\"fill:#262626;stroke:#262626;stroke-width:0.8;\" x=\"299.830625\" xlink:href=\"#m6a377d2ca7\" y=\"122.563313\"/>\n      </g>\n     </g>\n     <g id=\"text_16\">\n      <!-- 4000 -->\n      <defs>\n       <path d=\"M 37.796875 64.3125 \nL 12.890625 25.390625 \nL 37.796875 25.390625 \nz\nM 35.203125 72.90625 \nL 47.609375 72.90625 \nL 47.609375 25.390625 \nL 58.015625 25.390625 \nL 58.015625 17.1875 \nL 47.609375 17.1875 \nL 47.609375 0 \nL 37.796875 0 \nL 37.796875 17.1875 \nL 4.890625 17.1875 \nL 4.890625 26.703125 \nz\n\" id=\"DejaVuSans-52\"/>\n      </defs>\n      <g style=\"fill:#262626;\" transform=\"translate(306.830625 126.362531)scale(0.1 -0.1)\">\n       <use xlink:href=\"#DejaVuSans-52\"/>\n       <use x=\"63.623047\" xlink:href=\"#DejaVuSans-48\"/>\n       <use x=\"127.246094\" xlink:href=\"#DejaVuSans-48\"/>\n       <use x=\"190.869141\" xlink:href=\"#DejaVuSans-48\"/>\n      </g>\n     </g>\n    </g>\n    <g id=\"ytick_8\">\n     <g id=\"line2d_6\">\n      <g>\n       <use style=\"fill:#262626;stroke:#262626;stroke-width:0.8;\" x=\"299.830625\" xlink:href=\"#m6a377d2ca7\" y=\"94.483428\"/>\n      </g>\n     </g>\n     <g id=\"text_17\">\n      <!-- 4500 -->\n      <g style=\"fill:#262626;\" transform=\"translate(306.830625 98.282647)scale(0.1 -0.1)\">\n       <use xlink:href=\"#DejaVuSans-52\"/>\n       <use x=\"63.623047\" xlink:href=\"#DejaVuSans-53\"/>\n       <use x=\"127.246094\" xlink:href=\"#DejaVuSans-48\"/>\n       <use x=\"190.869141\" xlink:href=\"#DejaVuSans-48\"/>\n      </g>\n     </g>\n    </g>\n    <g id=\"ytick_9\">\n     <g id=\"line2d_7\">\n      <g>\n       <use style=\"fill:#262626;stroke:#262626;stroke-width:0.8;\" x=\"299.830625\" xlink:href=\"#m6a377d2ca7\" y=\"66.403544\"/>\n      </g>\n     </g>\n     <g id=\"text_18\">\n      <!-- 5000 -->\n      <g style=\"fill:#262626;\" transform=\"translate(306.830625 70.202762)scale(0.1 -0.1)\">\n       <use xlink:href=\"#DejaVuSans-53\"/>\n       <use x=\"63.623047\" xlink:href=\"#DejaVuSans-48\"/>\n       <use x=\"127.246094\" xlink:href=\"#DejaVuSans-48\"/>\n       <use x=\"190.869141\" xlink:href=\"#DejaVuSans-48\"/>\n      </g>\n     </g>\n    </g>\n    <g id=\"ytick_10\">\n     <g id=\"line2d_8\">\n      <g>\n       <use style=\"fill:#262626;stroke:#262626;stroke-width:0.8;\" x=\"299.830625\" xlink:href=\"#m6a377d2ca7\" y=\"38.323659\"/>\n      </g>\n     </g>\n     <g id=\"text_19\">\n      <!-- 5500 -->\n      <g style=\"fill:#262626;\" transform=\"translate(306.830625 42.122878)scale(0.1 -0.1)\">\n       <use xlink:href=\"#DejaVuSans-53\"/>\n       <use x=\"63.623047\" xlink:href=\"#DejaVuSans-53\"/>\n       <use x=\"127.246094\" xlink:href=\"#DejaVuSans-48\"/>\n       <use x=\"190.869141\" xlink:href=\"#DejaVuSans-48\"/>\n      </g>\n     </g>\n    </g>\n   </g>\n   <image height=\"233\" id=\"image68e4658c99\" transform=\"scale(1 -1)translate(0 -233)\" width=\"12\" x=\"288\" xlink:href=\"data:image/png;base64,\niVBORw0KGgoAAAANSUhEUgAAAAwAAADpCAYAAAAQ/NbWAAAABHNCSVQICAgIfAhkiAAAASBJREFUaIHtmFEOwzAIQ9mU+x93H5Pa7Ajti2TLo+k3yBgbSvv6fOcs8IxZKL4GjK8B42swBlVjwgxHSbStFOHNwiM5rOgQV9LCPMRxwAgl53DK25q4yDaHGwnbGncSOnBYuARowhPbmshBfsKdDY5E/eYL5MCFwwh5XYrkQBOocIdhRKlb5Qh6HRybDysNEQxLAFtDfpzoZzpwGR+wphUOMMHwnu7g1hZLACbwF0pgSQxgZd3TmTZ8P+jNxwAcXjIcJ3proHDL1kg0X+Iiwxz+fx4ChTNYg6/7OA4bQYLQwxqBJUGEBR30CIFtlf9ZN5hPnmBQeutwnZBIOs8az9ShgdLFE9ifjSYI8pLOgyIEdqkBAp04g5e4NRrosBGunx9j8v5RzGJoQQAAAABJRU5ErkJggg==\" y=\"-22\"/>\n   <g id=\"patch_8\">\n    <path d=\"M 288.160625 255.718125 \nL 288.160625 254.806406 \nL 288.160625 23.229844 \nL 288.160625 22.318125 \nL 299.830625 22.318125 \nL 299.830625 23.229844 \nL 299.830625 254.806406 \nL 299.830625 255.718125 \nz\n\" style=\"fill:none;stroke:#262626;stroke-linejoin:miter;stroke-width:0.8;\"/>\n   </g>\n  </g>\n </g>\n <defs>\n  <clipPath id=\"p25b7b832dd\">\n   <rect height=\"233.4\" width=\"233.4\" x=\"34.240625\" y=\"22.318125\"/>\n  </clipPath>\n  <clipPath id=\"p0bd5e4ddbf\">\n   <rect height=\"233.4\" width=\"11.67\" x=\"288.160625\" y=\"22.318125\"/>\n  </clipPath>\n </defs>\n</svg>\n"
          },
          "metadata": {}
        }
      ]
    },
    {
      "cell_type": "markdown",
      "metadata": {
        "id": "esOxE4z_L8oK"
      },
      "source": [
        "### Caso C"
      ]
    },
    {
      "cell_type": "code",
      "metadata": {
        "id": "HMvMsLS2L8oK",
        "colab": {
          "base_uri": "https://localhost:8080/",
          "height": 515
        },
        "outputId": "f78994e8-9741-49eb-bd25-06436126d5dc"
      },
      "source": [
        "from sklearn.neural_network import MLPClassifier\n",
        "\n",
        "model = MLPClassifier( hidden_layer_sizes=[20 , 20], activation='relu') # Inicialice un modelo de red neuronal con 2 capas escondidas x 20 neuronas en cada capa y función de activación ReLu #\n",
        "model.fit(X_train_subC,y_train  ) # Ajuste el modelo con los datos del conjunto C #\n",
        "y_predict = model.predict( X_test_subC ) # Realice la predicción de etiquetas con los datos de prueba del conjunto Cmm #\n",
        "\n",
        "print(f'Precisión {round(accuracy_score(y_test, y_predict),5)}')\n",
        "print(pd.DataFrame(confusion_matrix(y_test,y_predict)))\n",
        "\n",
        "plot_confusion_matrix(confusion_matrix(y_test,y_predict),\n",
        "                      classes=class_names, \n",
        "                      title='Matriz de Confusión Normalizada: Red Neuronal')"
      ],
      "execution_count": 197,
      "outputs": [
        {
          "output_type": "stream",
          "name": "stdout",
          "text": [
            "Precisión 0.94794\n",
            "      0     1\n",
            "0  6928   486\n",
            "1   286  7128\n",
            "[[6928  486]\n",
            " [ 286 7128]]\n"
          ]
        },
        {
          "output_type": "display_data",
          "data": {
            "text/plain": [
              "<Figure size 432x288 with 2 Axes>"
            ],
            "image/svg+xml": "<?xml version=\"1.0\" encoding=\"utf-8\" standalone=\"no\"?>\n<!DOCTYPE svg PUBLIC \"-//W3C//DTD SVG 1.1//EN\"\n  \"http://www.w3.org/Graphics/SVG/1.1/DTD/svg11.dtd\">\n<!-- Created with matplotlib (https://matplotlib.org/) -->\n<svg height=\"293.274375pt\" version=\"1.1\" viewBox=\"0 0 339.480625 293.274375\" width=\"339.480625pt\" xmlns=\"http://www.w3.org/2000/svg\" xmlns:xlink=\"http://www.w3.org/1999/xlink\">\n <defs>\n  <style type=\"text/css\">\n*{stroke-linecap:butt;stroke-linejoin:round;}\n  </style>\n </defs>\n <g id=\"figure_1\">\n  <g id=\"patch_1\">\n   <path d=\"M 0 293.274375 \nL 339.480625 293.274375 \nL 339.480625 0 \nL 0 0 \nz\n\" style=\"fill:#ffffff;\"/>\n  </g>\n  <g id=\"axes_1\">\n   <g id=\"patch_2\">\n    <path d=\"M 34.240625 255.718125 \nL 267.640625 255.718125 \nL 267.640625 22.318125 \nL 34.240625 22.318125 \nz\n\" style=\"fill:#ffffff;\"/>\n   </g>\n   <g clip-path=\"url(#pba5e25411b)\">\n    <image height=\"234\" id=\"imagefdb4271cf2\" transform=\"scale(1 -1)translate(0 -234)\" width=\"234\" x=\"34.240625\" xlink:href=\"data:image/png;base64,\niVBORw0KGgoAAAANSUhEUgAAAOoAAADqCAYAAACslNlOAAAABHNCSVQICAgIfAhkiAAAAuNJREFUeJzt1TENwlAARVEgNVAxbEhirhBMoaUKOjAUCSw/+bnkHAVvuXnX43OeF/7Ken/OnsBgt9kDgN+ECgFChQChQoBQIUCoECBUCBAqBAgVAoQKAUKFAKFCgFAhQKgQIFQIECoECBUChAoBQoUAoUKAUCFAqBAgVAgQKgQIFQKECgFChQChQoBQIUCoECBUCBAqBAgVAoQKAUKFAKFCgFAhQKgQIFQIECoECBUChAoBQoUAoUKAUCFAqBAgVAgQKgQIFQKECgFChQChQoBQIUCoECBUCBAqBAgVAoQKAUKFAKFCgFAhQKgQIFQIECoECBUChAoBQoUAoUKAUCFAqBAgVAgQKgQIFQKECgFChQChQoBQIUCoECBUCBAqBAgVAoQKAUKFAKFCgFAhQKgQIFQIECoECBUChAoBQoUAoUKAUCFAqBAgVAgQKgQIFQKECgFChQChQoBQIUCoECBUCBAqBAgVAoQKAUKFAKFCgFAhQKgQIFQIECoECBUChAoBQoUAoULAsj622RsYbH+/Zk9gMI8KAUKFAKFCgFAhQKgQIFQIECoECBUChAoBQoUAoUKAUCFAqBAgVAgQKgQIFQKECgFChQChQoBQIUCoECBUCBAqBAgVAoQKAUKFAKFCgFAhQKgQIFQIECoECBUChAoBQoUAoUKAUCFAqBAgVAgQKgQIFQKECgFChQChQoBQIUCoECBUCBAqBAgVAoQKAUKFAKFCgFAhQKgQIFQIECoECBUChAoBQoUAoUKAUCFAqBAgVAgQKgQIFQKECgFChQChQoBQIUCoECBUCBAqBAgVAoQKAUKFAKFCgFAhQKgQIFQIECoECBUChAoBQoUAoUKAUCFAqBAgVAgQKgQIFQKECgFChQChQoBQIUCoECBUCBAqBAgVAoQKAUKFAKFCgFAhQKgQIFQIECoECBUChAoBQoUAoUKAUCFAqBAgVAgQKgQIFQKECgFChQChQoBQIeALdFIJffma1+EAAAAASUVORK5CYII=\" y=\"-21.718125\"/>\n   </g>\n   <g id=\"matplotlib.axis_1\">\n    <g id=\"xtick_1\">\n     <g id=\"text_1\">\n      <!-- 0 -->\n      <defs>\n       <path d=\"M 31.78125 66.40625 \nQ 24.171875 66.40625 20.328125 58.90625 \nQ 16.5 51.421875 16.5 36.375 \nQ 16.5 21.390625 20.328125 13.890625 \nQ 24.171875 6.390625 31.78125 6.390625 \nQ 39.453125 6.390625 43.28125 13.890625 \nQ 47.125 21.390625 47.125 36.375 \nQ 47.125 51.421875 43.28125 58.90625 \nQ 39.453125 66.40625 31.78125 66.40625 \nz\nM 31.78125 74.21875 \nQ 44.046875 74.21875 50.515625 64.515625 \nQ 56.984375 54.828125 56.984375 36.375 \nQ 56.984375 17.96875 50.515625 8.265625 \nQ 44.046875 -1.421875 31.78125 -1.421875 \nQ 19.53125 -1.421875 13.0625 8.265625 \nQ 6.59375 17.96875 6.59375 36.375 \nQ 6.59375 54.828125 13.0625 64.515625 \nQ 19.53125 74.21875 31.78125 74.21875 \nz\n\" id=\"DejaVuSans-48\"/>\n      </defs>\n      <g style=\"fill:#262626;\" transform=\"translate(89.409375 270.316563)scale(0.1 -0.1)\">\n       <use xlink:href=\"#DejaVuSans-48\"/>\n      </g>\n     </g>\n    </g>\n    <g id=\"xtick_2\">\n     <g id=\"text_2\">\n      <!-- 1 -->\n      <defs>\n       <path d=\"M 12.40625 8.296875 \nL 28.515625 8.296875 \nL 28.515625 63.921875 \nL 10.984375 60.40625 \nL 10.984375 69.390625 \nL 28.421875 72.90625 \nL 38.28125 72.90625 \nL 38.28125 8.296875 \nL 54.390625 8.296875 \nL 54.390625 0 \nL 12.40625 0 \nz\n\" id=\"DejaVuSans-49\"/>\n      </defs>\n      <g style=\"fill:#262626;\" transform=\"translate(206.109375 270.316563)scale(0.1 -0.1)\">\n       <use xlink:href=\"#DejaVuSans-49\"/>\n      </g>\n     </g>\n    </g>\n    <g id=\"text_3\">\n     <!-- Predicción -->\n     <defs>\n      <path d=\"M 19.671875 64.796875 \nL 19.671875 37.40625 \nL 32.078125 37.40625 \nQ 38.96875 37.40625 42.71875 40.96875 \nQ 46.484375 44.53125 46.484375 51.125 \nQ 46.484375 57.671875 42.71875 61.234375 \nQ 38.96875 64.796875 32.078125 64.796875 \nz\nM 9.8125 72.90625 \nL 32.078125 72.90625 \nQ 44.34375 72.90625 50.609375 67.359375 \nQ 56.890625 61.8125 56.890625 51.125 \nQ 56.890625 40.328125 50.609375 34.8125 \nQ 44.34375 29.296875 32.078125 29.296875 \nL 19.671875 29.296875 \nL 19.671875 0 \nL 9.8125 0 \nz\n\" id=\"DejaVuSans-80\"/>\n      <path d=\"M 41.109375 46.296875 \nQ 39.59375 47.171875 37.8125 47.578125 \nQ 36.03125 48 33.890625 48 \nQ 26.265625 48 22.1875 43.046875 \nQ 18.109375 38.09375 18.109375 28.8125 \nL 18.109375 0 \nL 9.078125 0 \nL 9.078125 54.6875 \nL 18.109375 54.6875 \nL 18.109375 46.1875 \nQ 20.953125 51.171875 25.484375 53.578125 \nQ 30.03125 56 36.53125 56 \nQ 37.453125 56 38.578125 55.875 \nQ 39.703125 55.765625 41.0625 55.515625 \nz\n\" id=\"DejaVuSans-114\"/>\n      <path d=\"M 56.203125 29.59375 \nL 56.203125 25.203125 \nL 14.890625 25.203125 \nQ 15.484375 15.921875 20.484375 11.0625 \nQ 25.484375 6.203125 34.421875 6.203125 \nQ 39.59375 6.203125 44.453125 7.46875 \nQ 49.3125 8.734375 54.109375 11.28125 \nL 54.109375 2.78125 \nQ 49.265625 0.734375 44.1875 -0.34375 \nQ 39.109375 -1.421875 33.890625 -1.421875 \nQ 20.796875 -1.421875 13.15625 6.1875 \nQ 5.515625 13.8125 5.515625 26.8125 \nQ 5.515625 40.234375 12.765625 48.109375 \nQ 20.015625 56 32.328125 56 \nQ 43.359375 56 49.78125 48.890625 \nQ 56.203125 41.796875 56.203125 29.59375 \nz\nM 47.21875 32.234375 \nQ 47.125 39.59375 43.09375 43.984375 \nQ 39.0625 48.390625 32.421875 48.390625 \nQ 24.90625 48.390625 20.390625 44.140625 \nQ 15.875 39.890625 15.1875 32.171875 \nz\n\" id=\"DejaVuSans-101\"/>\n      <path d=\"M 45.40625 46.390625 \nL 45.40625 75.984375 \nL 54.390625 75.984375 \nL 54.390625 0 \nL 45.40625 0 \nL 45.40625 8.203125 \nQ 42.578125 3.328125 38.25 0.953125 \nQ 33.9375 -1.421875 27.875 -1.421875 \nQ 17.96875 -1.421875 11.734375 6.484375 \nQ 5.515625 14.40625 5.515625 27.296875 \nQ 5.515625 40.1875 11.734375 48.09375 \nQ 17.96875 56 27.875 56 \nQ 33.9375 56 38.25 53.625 \nQ 42.578125 51.265625 45.40625 46.390625 \nz\nM 14.796875 27.296875 \nQ 14.796875 17.390625 18.875 11.75 \nQ 22.953125 6.109375 30.078125 6.109375 \nQ 37.203125 6.109375 41.296875 11.75 \nQ 45.40625 17.390625 45.40625 27.296875 \nQ 45.40625 37.203125 41.296875 42.84375 \nQ 37.203125 48.484375 30.078125 48.484375 \nQ 22.953125 48.484375 18.875 42.84375 \nQ 14.796875 37.203125 14.796875 27.296875 \nz\n\" id=\"DejaVuSans-100\"/>\n      <path d=\"M 9.421875 54.6875 \nL 18.40625 54.6875 \nL 18.40625 0 \nL 9.421875 0 \nz\nM 9.421875 75.984375 \nL 18.40625 75.984375 \nL 18.40625 64.59375 \nL 9.421875 64.59375 \nz\n\" id=\"DejaVuSans-105\"/>\n      <path d=\"M 48.78125 52.59375 \nL 48.78125 44.1875 \nQ 44.96875 46.296875 41.140625 47.34375 \nQ 37.3125 48.390625 33.40625 48.390625 \nQ 24.65625 48.390625 19.8125 42.84375 \nQ 14.984375 37.3125 14.984375 27.296875 \nQ 14.984375 17.28125 19.8125 11.734375 \nQ 24.65625 6.203125 33.40625 6.203125 \nQ 37.3125 6.203125 41.140625 7.25 \nQ 44.96875 8.296875 48.78125 10.40625 \nL 48.78125 2.09375 \nQ 45.015625 0.34375 40.984375 -0.53125 \nQ 36.96875 -1.421875 32.421875 -1.421875 \nQ 20.0625 -1.421875 12.78125 6.34375 \nQ 5.515625 14.109375 5.515625 27.296875 \nQ 5.515625 40.671875 12.859375 48.328125 \nQ 20.21875 56 33.015625 56 \nQ 37.15625 56 41.109375 55.140625 \nQ 45.0625 54.296875 48.78125 52.59375 \nz\n\" id=\"DejaVuSans-99\"/>\n      <path d=\"M 30.609375 48.390625 \nQ 23.390625 48.390625 19.1875 42.75 \nQ 14.984375 37.109375 14.984375 27.296875 \nQ 14.984375 17.484375 19.15625 11.84375 \nQ 23.34375 6.203125 30.609375 6.203125 \nQ 37.796875 6.203125 41.984375 11.859375 \nQ 46.1875 17.53125 46.1875 27.296875 \nQ 46.1875 37.015625 41.984375 42.703125 \nQ 37.796875 48.390625 30.609375 48.390625 \nz\nM 30.609375 56 \nQ 42.328125 56 49.015625 48.375 \nQ 55.71875 40.765625 55.71875 27.296875 \nQ 55.71875 13.875 49.015625 6.21875 \nQ 42.328125 -1.421875 30.609375 -1.421875 \nQ 18.84375 -1.421875 12.171875 6.21875 \nQ 5.515625 13.875 5.515625 27.296875 \nQ 5.515625 40.765625 12.171875 48.375 \nQ 18.84375 56 30.609375 56 \nz\nM 37.40625 79.984375 \nL 47.125 79.984375 \nL 31.21875 61.625 \nL 23.734375 61.625 \nz\n\" id=\"DejaVuSans-243\"/>\n      <path d=\"M 54.890625 33.015625 \nL 54.890625 0 \nL 45.90625 0 \nL 45.90625 32.71875 \nQ 45.90625 40.484375 42.875 44.328125 \nQ 39.84375 48.1875 33.796875 48.1875 \nQ 26.515625 48.1875 22.3125 43.546875 \nQ 18.109375 38.921875 18.109375 30.90625 \nL 18.109375 0 \nL 9.078125 0 \nL 9.078125 54.6875 \nL 18.109375 54.6875 \nL 18.109375 46.1875 \nQ 21.34375 51.125 25.703125 53.5625 \nQ 30.078125 56 35.796875 56 \nQ 45.21875 56 50.046875 50.171875 \nQ 54.890625 44.34375 54.890625 33.015625 \nz\n\" id=\"DejaVuSans-110\"/>\n     </defs>\n     <g style=\"fill:#262626;\" transform=\"translate(125.314844 283.994688)scale(0.1 -0.1)\">\n      <use xlink:href=\"#DejaVuSans-80\"/>\n      <use x=\"58.552734\" xlink:href=\"#DejaVuSans-114\"/>\n      <use x=\"97.416016\" xlink:href=\"#DejaVuSans-101\"/>\n      <use x=\"158.939453\" xlink:href=\"#DejaVuSans-100\"/>\n      <use x=\"222.416016\" xlink:href=\"#DejaVuSans-105\"/>\n      <use x=\"250.199219\" xlink:href=\"#DejaVuSans-99\"/>\n      <use x=\"305.179688\" xlink:href=\"#DejaVuSans-99\"/>\n      <use x=\"360.160156\" xlink:href=\"#DejaVuSans-105\"/>\n      <use x=\"387.943359\" xlink:href=\"#DejaVuSans-243\"/>\n      <use x=\"449.125\" xlink:href=\"#DejaVuSans-110\"/>\n     </g>\n    </g>\n   </g>\n   <g id=\"matplotlib.axis_2\">\n    <g id=\"ytick_1\">\n     <g id=\"text_4\">\n      <!-- 0 -->\n      <g style=\"fill:#262626;\" transform=\"translate(20.878125 84.467344)scale(0.1 -0.1)\">\n       <use xlink:href=\"#DejaVuSans-48\"/>\n      </g>\n     </g>\n    </g>\n    <g id=\"ytick_2\">\n     <g id=\"text_5\">\n      <!-- 1 -->\n      <g style=\"fill:#262626;\" transform=\"translate(20.878125 201.167344)scale(0.1 -0.1)\">\n       <use xlink:href=\"#DejaVuSans-49\"/>\n      </g>\n     </g>\n    </g>\n    <g id=\"text_6\">\n     <!-- Etiqueta -->\n     <defs>\n      <path d=\"M 9.8125 72.90625 \nL 55.90625 72.90625 \nL 55.90625 64.59375 \nL 19.671875 64.59375 \nL 19.671875 43.015625 \nL 54.390625 43.015625 \nL 54.390625 34.71875 \nL 19.671875 34.71875 \nL 19.671875 8.296875 \nL 56.78125 8.296875 \nL 56.78125 0 \nL 9.8125 0 \nz\n\" id=\"DejaVuSans-69\"/>\n      <path d=\"M 18.3125 70.21875 \nL 18.3125 54.6875 \nL 36.8125 54.6875 \nL 36.8125 47.703125 \nL 18.3125 47.703125 \nL 18.3125 18.015625 \nQ 18.3125 11.328125 20.140625 9.421875 \nQ 21.96875 7.515625 27.59375 7.515625 \nL 36.8125 7.515625 \nL 36.8125 0 \nL 27.59375 0 \nQ 17.1875 0 13.234375 3.875 \nQ 9.28125 7.765625 9.28125 18.015625 \nL 9.28125 47.703125 \nL 2.6875 47.703125 \nL 2.6875 54.6875 \nL 9.28125 54.6875 \nL 9.28125 70.21875 \nz\n\" id=\"DejaVuSans-116\"/>\n      <path d=\"M 14.796875 27.296875 \nQ 14.796875 17.390625 18.875 11.75 \nQ 22.953125 6.109375 30.078125 6.109375 \nQ 37.203125 6.109375 41.296875 11.75 \nQ 45.40625 17.390625 45.40625 27.296875 \nQ 45.40625 37.203125 41.296875 42.84375 \nQ 37.203125 48.484375 30.078125 48.484375 \nQ 22.953125 48.484375 18.875 42.84375 \nQ 14.796875 37.203125 14.796875 27.296875 \nz\nM 45.40625 8.203125 \nQ 42.578125 3.328125 38.25 0.953125 \nQ 33.9375 -1.421875 27.875 -1.421875 \nQ 17.96875 -1.421875 11.734375 6.484375 \nQ 5.515625 14.40625 5.515625 27.296875 \nQ 5.515625 40.1875 11.734375 48.09375 \nQ 17.96875 56 27.875 56 \nQ 33.9375 56 38.25 53.625 \nQ 42.578125 51.265625 45.40625 46.390625 \nL 45.40625 54.6875 \nL 54.390625 54.6875 \nL 54.390625 -20.796875 \nL 45.40625 -20.796875 \nz\n\" id=\"DejaVuSans-113\"/>\n      <path d=\"M 8.5 21.578125 \nL 8.5 54.6875 \nL 17.484375 54.6875 \nL 17.484375 21.921875 \nQ 17.484375 14.15625 20.5 10.265625 \nQ 23.53125 6.390625 29.59375 6.390625 \nQ 36.859375 6.390625 41.078125 11.03125 \nQ 45.3125 15.671875 45.3125 23.6875 \nL 45.3125 54.6875 \nL 54.296875 54.6875 \nL 54.296875 0 \nL 45.3125 0 \nL 45.3125 8.40625 \nQ 42.046875 3.421875 37.71875 1 \nQ 33.40625 -1.421875 27.6875 -1.421875 \nQ 18.265625 -1.421875 13.375 4.4375 \nQ 8.5 10.296875 8.5 21.578125 \nz\nM 31.109375 56 \nz\n\" id=\"DejaVuSans-117\"/>\n      <path d=\"M 34.28125 27.484375 \nQ 23.390625 27.484375 19.1875 25 \nQ 14.984375 22.515625 14.984375 16.5 \nQ 14.984375 11.71875 18.140625 8.90625 \nQ 21.296875 6.109375 26.703125 6.109375 \nQ 34.1875 6.109375 38.703125 11.40625 \nQ 43.21875 16.703125 43.21875 25.484375 \nL 43.21875 27.484375 \nz\nM 52.203125 31.203125 \nL 52.203125 0 \nL 43.21875 0 \nL 43.21875 8.296875 \nQ 40.140625 3.328125 35.546875 0.953125 \nQ 30.953125 -1.421875 24.3125 -1.421875 \nQ 15.921875 -1.421875 10.953125 3.296875 \nQ 6 8.015625 6 15.921875 \nQ 6 25.140625 12.171875 29.828125 \nQ 18.359375 34.515625 30.609375 34.515625 \nL 43.21875 34.515625 \nL 43.21875 35.40625 \nQ 43.21875 41.609375 39.140625 45 \nQ 35.0625 48.390625 27.6875 48.390625 \nQ 23 48.390625 18.546875 47.265625 \nQ 14.109375 46.140625 10.015625 43.890625 \nL 10.015625 52.203125 \nQ 14.9375 54.109375 19.578125 55.046875 \nQ 24.21875 56 28.609375 56 \nQ 40.484375 56 46.34375 49.84375 \nQ 52.203125 43.703125 52.203125 31.203125 \nz\n\" id=\"DejaVuSans-97\"/>\n     </defs>\n     <g style=\"fill:#262626;\" transform=\"translate(14.798438 159.970469)rotate(-90)scale(0.1 -0.1)\">\n      <use xlink:href=\"#DejaVuSans-69\"/>\n      <use x=\"63.183594\" xlink:href=\"#DejaVuSans-116\"/>\n      <use x=\"102.392578\" xlink:href=\"#DejaVuSans-105\"/>\n      <use x=\"130.175781\" xlink:href=\"#DejaVuSans-113\"/>\n      <use x=\"193.652344\" xlink:href=\"#DejaVuSans-117\"/>\n      <use x=\"257.03125\" xlink:href=\"#DejaVuSans-101\"/>\n      <use x=\"318.554688\" xlink:href=\"#DejaVuSans-116\"/>\n      <use x=\"357.763672\" xlink:href=\"#DejaVuSans-97\"/>\n     </g>\n    </g>\n   </g>\n   <g id=\"patch_3\">\n    <path d=\"M 34.240625 255.718125 \nL 34.240625 22.318125 \n\" style=\"fill:none;stroke:#262626;stroke-linecap:square;stroke-linejoin:miter;stroke-width:0.8;\"/>\n   </g>\n   <g id=\"patch_4\">\n    <path d=\"M 267.640625 255.718125 \nL 267.640625 22.318125 \n\" style=\"fill:none;stroke:#262626;stroke-linecap:square;stroke-linejoin:miter;stroke-width:0.8;\"/>\n   </g>\n   <g id=\"patch_5\">\n    <path d=\"M 34.240625 255.718125 \nL 267.640625 255.718125 \n\" style=\"fill:none;stroke:#262626;stroke-linecap:square;stroke-linejoin:miter;stroke-width:0.8;\"/>\n   </g>\n   <g id=\"patch_6\">\n    <path d=\"M 34.240625 22.318125 \nL 267.640625 22.318125 \n\" style=\"fill:none;stroke:#262626;stroke-linecap:square;stroke-linejoin:miter;stroke-width:0.8;\"/>\n   </g>\n   <g id=\"text_7\">\n    <!-- 6928 -->\n    <defs>\n     <path d=\"M 33.015625 40.375 \nQ 26.375 40.375 22.484375 35.828125 \nQ 18.609375 31.296875 18.609375 23.390625 \nQ 18.609375 15.53125 22.484375 10.953125 \nQ 26.375 6.390625 33.015625 6.390625 \nQ 39.65625 6.390625 43.53125 10.953125 \nQ 47.40625 15.53125 47.40625 23.390625 \nQ 47.40625 31.296875 43.53125 35.828125 \nQ 39.65625 40.375 33.015625 40.375 \nz\nM 52.59375 71.296875 \nL 52.59375 62.3125 \nQ 48.875 64.0625 45.09375 64.984375 \nQ 41.3125 65.921875 37.59375 65.921875 \nQ 27.828125 65.921875 22.671875 59.328125 \nQ 17.53125 52.734375 16.796875 39.40625 \nQ 19.671875 43.65625 24.015625 45.921875 \nQ 28.375 48.1875 33.59375 48.1875 \nQ 44.578125 48.1875 50.953125 41.515625 \nQ 57.328125 34.859375 57.328125 23.390625 \nQ 57.328125 12.15625 50.6875 5.359375 \nQ 44.046875 -1.421875 33.015625 -1.421875 \nQ 20.359375 -1.421875 13.671875 8.265625 \nQ 6.984375 17.96875 6.984375 36.375 \nQ 6.984375 53.65625 15.1875 63.9375 \nQ 23.390625 74.21875 37.203125 74.21875 \nQ 40.921875 74.21875 44.703125 73.484375 \nQ 48.484375 72.75 52.59375 71.296875 \nz\n\" id=\"DejaVuSans-54\"/>\n     <path d=\"M 10.984375 1.515625 \nL 10.984375 10.5 \nQ 14.703125 8.734375 18.5 7.8125 \nQ 22.3125 6.890625 25.984375 6.890625 \nQ 35.75 6.890625 40.890625 13.453125 \nQ 46.046875 20.015625 46.78125 33.40625 \nQ 43.953125 29.203125 39.59375 26.953125 \nQ 35.25 24.703125 29.984375 24.703125 \nQ 19.046875 24.703125 12.671875 31.3125 \nQ 6.296875 37.9375 6.296875 49.421875 \nQ 6.296875 60.640625 12.9375 67.421875 \nQ 19.578125 74.21875 30.609375 74.21875 \nQ 43.265625 74.21875 49.921875 64.515625 \nQ 56.59375 54.828125 56.59375 36.375 \nQ 56.59375 19.140625 48.40625 8.859375 \nQ 40.234375 -1.421875 26.421875 -1.421875 \nQ 22.703125 -1.421875 18.890625 -0.6875 \nQ 15.09375 0.046875 10.984375 1.515625 \nz\nM 30.609375 32.421875 \nQ 37.25 32.421875 41.125 36.953125 \nQ 45.015625 41.5 45.015625 49.421875 \nQ 45.015625 57.28125 41.125 61.84375 \nQ 37.25 66.40625 30.609375 66.40625 \nQ 23.96875 66.40625 20.09375 61.84375 \nQ 16.21875 57.28125 16.21875 49.421875 \nQ 16.21875 41.5 20.09375 36.953125 \nQ 23.96875 32.421875 30.609375 32.421875 \nz\n\" id=\"DejaVuSans-57\"/>\n     <path d=\"M 19.1875 8.296875 \nL 53.609375 8.296875 \nL 53.609375 0 \nL 7.328125 0 \nL 7.328125 8.296875 \nQ 12.9375 14.109375 22.625 23.890625 \nQ 32.328125 33.6875 34.8125 36.53125 \nQ 39.546875 41.84375 41.421875 45.53125 \nQ 43.3125 49.21875 43.3125 52.78125 \nQ 43.3125 58.59375 39.234375 62.25 \nQ 35.15625 65.921875 28.609375 65.921875 \nQ 23.96875 65.921875 18.8125 64.3125 \nQ 13.671875 62.703125 7.8125 59.421875 \nL 7.8125 69.390625 \nQ 13.765625 71.78125 18.9375 73 \nQ 24.125 74.21875 28.421875 74.21875 \nQ 39.75 74.21875 46.484375 68.546875 \nQ 53.21875 62.890625 53.21875 53.421875 \nQ 53.21875 48.921875 51.53125 44.890625 \nQ 49.859375 40.875 45.40625 35.40625 \nQ 44.1875 33.984375 37.640625 27.21875 \nQ 31.109375 20.453125 19.1875 8.296875 \nz\n\" id=\"DejaVuSans-50\"/>\n     <path d=\"M 31.78125 34.625 \nQ 24.75 34.625 20.71875 30.859375 \nQ 16.703125 27.09375 16.703125 20.515625 \nQ 16.703125 13.921875 20.71875 10.15625 \nQ 24.75 6.390625 31.78125 6.390625 \nQ 38.8125 6.390625 42.859375 10.171875 \nQ 46.921875 13.96875 46.921875 20.515625 \nQ 46.921875 27.09375 42.890625 30.859375 \nQ 38.875 34.625 31.78125 34.625 \nz\nM 21.921875 38.8125 \nQ 15.578125 40.375 12.03125 44.71875 \nQ 8.5 49.078125 8.5 55.328125 \nQ 8.5 64.0625 14.71875 69.140625 \nQ 20.953125 74.21875 31.78125 74.21875 \nQ 42.671875 74.21875 48.875 69.140625 \nQ 55.078125 64.0625 55.078125 55.328125 \nQ 55.078125 49.078125 51.53125 44.71875 \nQ 48 40.375 41.703125 38.8125 \nQ 48.828125 37.15625 52.796875 32.3125 \nQ 56.78125 27.484375 56.78125 20.515625 \nQ 56.78125 9.90625 50.3125 4.234375 \nQ 43.84375 -1.421875 31.78125 -1.421875 \nQ 19.734375 -1.421875 13.25 4.234375 \nQ 6.78125 9.90625 6.78125 20.515625 \nQ 6.78125 27.484375 10.78125 32.3125 \nQ 14.796875 37.15625 21.921875 38.8125 \nz\nM 18.3125 54.390625 \nQ 18.3125 48.734375 21.84375 45.5625 \nQ 25.390625 42.390625 31.78125 42.390625 \nQ 38.140625 42.390625 41.71875 45.5625 \nQ 45.3125 48.734375 45.3125 54.390625 \nQ 45.3125 60.0625 41.71875 63.234375 \nQ 38.140625 66.40625 31.78125 66.40625 \nQ 25.390625 66.40625 21.84375 63.234375 \nQ 18.3125 60.0625 18.3125 54.390625 \nz\n\" id=\"DejaVuSans-56\"/>\n    </defs>\n    <g style=\"fill:#ffffff;\" transform=\"translate(79.865625 80.668125)scale(0.1 -0.1)\">\n     <use xlink:href=\"#DejaVuSans-54\"/>\n     <use x=\"63.623047\" xlink:href=\"#DejaVuSans-57\"/>\n     <use x=\"127.246094\" xlink:href=\"#DejaVuSans-50\"/>\n     <use x=\"190.869141\" xlink:href=\"#DejaVuSans-56\"/>\n    </g>\n   </g>\n   <g id=\"text_8\">\n    <!-- 486 -->\n    <defs>\n     <path d=\"M 37.796875 64.3125 \nL 12.890625 25.390625 \nL 37.796875 25.390625 \nz\nM 35.203125 72.90625 \nL 47.609375 72.90625 \nL 47.609375 25.390625 \nL 58.015625 25.390625 \nL 58.015625 17.1875 \nL 47.609375 17.1875 \nL 47.609375 0 \nL 37.796875 0 \nL 37.796875 17.1875 \nL 4.890625 17.1875 \nL 4.890625 26.703125 \nz\n\" id=\"DejaVuSans-52\"/>\n    </defs>\n    <g transform=\"translate(199.746875 80.668125)scale(0.1 -0.1)\">\n     <use xlink:href=\"#DejaVuSans-52\"/>\n     <use x=\"63.623047\" xlink:href=\"#DejaVuSans-56\"/>\n     <use x=\"127.246094\" xlink:href=\"#DejaVuSans-54\"/>\n    </g>\n   </g>\n   <g id=\"text_9\">\n    <!-- 286 -->\n    <g transform=\"translate(83.046875 197.368125)scale(0.1 -0.1)\">\n     <use xlink:href=\"#DejaVuSans-50\"/>\n     <use x=\"63.623047\" xlink:href=\"#DejaVuSans-56\"/>\n     <use x=\"127.246094\" xlink:href=\"#DejaVuSans-54\"/>\n    </g>\n   </g>\n   <g id=\"text_10\">\n    <!-- 7128 -->\n    <defs>\n     <path d=\"M 8.203125 72.90625 \nL 55.078125 72.90625 \nL 55.078125 68.703125 \nL 28.609375 0 \nL 18.3125 0 \nL 43.21875 64.59375 \nL 8.203125 64.59375 \nz\n\" id=\"DejaVuSans-55\"/>\n    </defs>\n    <g style=\"fill:#ffffff;\" transform=\"translate(196.565625 197.368125)scale(0.1 -0.1)\">\n     <use xlink:href=\"#DejaVuSans-55\"/>\n     <use x=\"63.623047\" xlink:href=\"#DejaVuSans-49\"/>\n     <use x=\"127.246094\" xlink:href=\"#DejaVuSans-50\"/>\n     <use x=\"190.869141\" xlink:href=\"#DejaVuSans-56\"/>\n    </g>\n   </g>\n   <g id=\"text_11\">\n    <!-- Matriz de Confusión Normalizada: Red Neuronal -->\n    <defs>\n     <path d=\"M 9.8125 72.90625 \nL 24.515625 72.90625 \nL 43.109375 23.296875 \nL 61.8125 72.90625 \nL 76.515625 72.90625 \nL 76.515625 0 \nL 66.890625 0 \nL 66.890625 64.015625 \nL 48.09375 14.015625 \nL 38.1875 14.015625 \nL 19.390625 64.015625 \nL 19.390625 0 \nL 9.8125 0 \nz\n\" id=\"DejaVuSans-77\"/>\n     <path d=\"M 5.515625 54.6875 \nL 48.1875 54.6875 \nL 48.1875 46.484375 \nL 14.40625 7.171875 \nL 48.1875 7.171875 \nL 48.1875 0 \nL 4.296875 0 \nL 4.296875 8.203125 \nL 38.09375 47.515625 \nL 5.515625 47.515625 \nz\n\" id=\"DejaVuSans-122\"/>\n     <path id=\"DejaVuSans-32\"/>\n     <path d=\"M 64.40625 67.28125 \nL 64.40625 56.890625 \nQ 59.421875 61.53125 53.78125 63.8125 \nQ 48.140625 66.109375 41.796875 66.109375 \nQ 29.296875 66.109375 22.65625 58.46875 \nQ 16.015625 50.828125 16.015625 36.375 \nQ 16.015625 21.96875 22.65625 14.328125 \nQ 29.296875 6.6875 41.796875 6.6875 \nQ 48.140625 6.6875 53.78125 8.984375 \nQ 59.421875 11.28125 64.40625 15.921875 \nL 64.40625 5.609375 \nQ 59.234375 2.09375 53.4375 0.328125 \nQ 47.65625 -1.421875 41.21875 -1.421875 \nQ 24.65625 -1.421875 15.125 8.703125 \nQ 5.609375 18.84375 5.609375 36.375 \nQ 5.609375 53.953125 15.125 64.078125 \nQ 24.65625 74.21875 41.21875 74.21875 \nQ 47.75 74.21875 53.53125 72.484375 \nQ 59.328125 70.75 64.40625 67.28125 \nz\n\" id=\"DejaVuSans-67\"/>\n     <path d=\"M 30.609375 48.390625 \nQ 23.390625 48.390625 19.1875 42.75 \nQ 14.984375 37.109375 14.984375 27.296875 \nQ 14.984375 17.484375 19.15625 11.84375 \nQ 23.34375 6.203125 30.609375 6.203125 \nQ 37.796875 6.203125 41.984375 11.859375 \nQ 46.1875 17.53125 46.1875 27.296875 \nQ 46.1875 37.015625 41.984375 42.703125 \nQ 37.796875 48.390625 30.609375 48.390625 \nz\nM 30.609375 56 \nQ 42.328125 56 49.015625 48.375 \nQ 55.71875 40.765625 55.71875 27.296875 \nQ 55.71875 13.875 49.015625 6.21875 \nQ 42.328125 -1.421875 30.609375 -1.421875 \nQ 18.84375 -1.421875 12.171875 6.21875 \nQ 5.515625 13.875 5.515625 27.296875 \nQ 5.515625 40.765625 12.171875 48.375 \nQ 18.84375 56 30.609375 56 \nz\n\" id=\"DejaVuSans-111\"/>\n     <path d=\"M 37.109375 75.984375 \nL 37.109375 68.5 \nL 28.515625 68.5 \nQ 23.6875 68.5 21.796875 66.546875 \nQ 19.921875 64.59375 19.921875 59.515625 \nL 19.921875 54.6875 \nL 34.71875 54.6875 \nL 34.71875 47.703125 \nL 19.921875 47.703125 \nL 19.921875 0 \nL 10.890625 0 \nL 10.890625 47.703125 \nL 2.296875 47.703125 \nL 2.296875 54.6875 \nL 10.890625 54.6875 \nL 10.890625 58.5 \nQ 10.890625 67.625 15.140625 71.796875 \nQ 19.390625 75.984375 28.609375 75.984375 \nz\n\" id=\"DejaVuSans-102\"/>\n     <path d=\"M 44.28125 53.078125 \nL 44.28125 44.578125 \nQ 40.484375 46.53125 36.375 47.5 \nQ 32.28125 48.484375 27.875 48.484375 \nQ 21.1875 48.484375 17.84375 46.4375 \nQ 14.5 44.390625 14.5 40.28125 \nQ 14.5 37.15625 16.890625 35.375 \nQ 19.28125 33.59375 26.515625 31.984375 \nL 29.59375 31.296875 \nQ 39.15625 29.25 43.1875 25.515625 \nQ 47.21875 21.78125 47.21875 15.09375 \nQ 47.21875 7.46875 41.1875 3.015625 \nQ 35.15625 -1.421875 24.609375 -1.421875 \nQ 20.21875 -1.421875 15.453125 -0.5625 \nQ 10.6875 0.296875 5.421875 2 \nL 5.421875 11.28125 \nQ 10.40625 8.6875 15.234375 7.390625 \nQ 20.0625 6.109375 24.8125 6.109375 \nQ 31.15625 6.109375 34.5625 8.28125 \nQ 37.984375 10.453125 37.984375 14.40625 \nQ 37.984375 18.0625 35.515625 20.015625 \nQ 33.0625 21.96875 24.703125 23.78125 \nL 21.578125 24.515625 \nQ 13.234375 26.265625 9.515625 29.90625 \nQ 5.8125 33.546875 5.8125 39.890625 \nQ 5.8125 47.609375 11.28125 51.796875 \nQ 16.75 56 26.8125 56 \nQ 31.78125 56 36.171875 55.265625 \nQ 40.578125 54.546875 44.28125 53.078125 \nz\n\" id=\"DejaVuSans-115\"/>\n     <path d=\"M 9.8125 72.90625 \nL 23.09375 72.90625 \nL 55.421875 11.921875 \nL 55.421875 72.90625 \nL 64.984375 72.90625 \nL 64.984375 0 \nL 51.703125 0 \nL 19.390625 60.984375 \nL 19.390625 0 \nL 9.8125 0 \nz\n\" id=\"DejaVuSans-78\"/>\n     <path d=\"M 52 44.1875 \nQ 55.375 50.25 60.0625 53.125 \nQ 64.75 56 71.09375 56 \nQ 79.640625 56 84.28125 50.015625 \nQ 88.921875 44.046875 88.921875 33.015625 \nL 88.921875 0 \nL 79.890625 0 \nL 79.890625 32.71875 \nQ 79.890625 40.578125 77.09375 44.375 \nQ 74.3125 48.1875 68.609375 48.1875 \nQ 61.625 48.1875 57.5625 43.546875 \nQ 53.515625 38.921875 53.515625 30.90625 \nL 53.515625 0 \nL 44.484375 0 \nL 44.484375 32.71875 \nQ 44.484375 40.625 41.703125 44.40625 \nQ 38.921875 48.1875 33.109375 48.1875 \nQ 26.21875 48.1875 22.15625 43.53125 \nQ 18.109375 38.875 18.109375 30.90625 \nL 18.109375 0 \nL 9.078125 0 \nL 9.078125 54.6875 \nL 18.109375 54.6875 \nL 18.109375 46.1875 \nQ 21.1875 51.21875 25.484375 53.609375 \nQ 29.78125 56 35.6875 56 \nQ 41.65625 56 45.828125 52.96875 \nQ 50 49.953125 52 44.1875 \nz\n\" id=\"DejaVuSans-109\"/>\n     <path d=\"M 9.421875 75.984375 \nL 18.40625 75.984375 \nL 18.40625 0 \nL 9.421875 0 \nz\n\" id=\"DejaVuSans-108\"/>\n     <path d=\"M 11.71875 12.40625 \nL 22.015625 12.40625 \nL 22.015625 0 \nL 11.71875 0 \nz\nM 11.71875 51.703125 \nL 22.015625 51.703125 \nL 22.015625 39.3125 \nL 11.71875 39.3125 \nz\n\" id=\"DejaVuSans-58\"/>\n     <path d=\"M 44.390625 34.1875 \nQ 47.5625 33.109375 50.5625 29.59375 \nQ 53.5625 26.078125 56.59375 19.921875 \nL 66.609375 0 \nL 56 0 \nL 46.6875 18.703125 \nQ 43.0625 26.03125 39.671875 28.421875 \nQ 36.28125 30.8125 30.421875 30.8125 \nL 19.671875 30.8125 \nL 19.671875 0 \nL 9.8125 0 \nL 9.8125 72.90625 \nL 32.078125 72.90625 \nQ 44.578125 72.90625 50.734375 67.671875 \nQ 56.890625 62.453125 56.890625 51.90625 \nQ 56.890625 45.015625 53.6875 40.46875 \nQ 50.484375 35.9375 44.390625 34.1875 \nz\nM 19.671875 64.796875 \nL 19.671875 38.921875 \nL 32.078125 38.921875 \nQ 39.203125 38.921875 42.84375 42.21875 \nQ 46.484375 45.515625 46.484375 51.90625 \nQ 46.484375 58.296875 42.84375 61.546875 \nQ 39.203125 64.796875 32.078125 64.796875 \nz\n\" id=\"DejaVuSans-82\"/>\n    </defs>\n    <g style=\"fill:#262626;\" transform=\"translate(7.330625 16.318125)scale(0.12 -0.12)\">\n     <use xlink:href=\"#DejaVuSans-77\"/>\n     <use x=\"86.279297\" xlink:href=\"#DejaVuSans-97\"/>\n     <use x=\"147.558594\" xlink:href=\"#DejaVuSans-116\"/>\n     <use x=\"186.767578\" xlink:href=\"#DejaVuSans-114\"/>\n     <use x=\"227.880859\" xlink:href=\"#DejaVuSans-105\"/>\n     <use x=\"255.664062\" xlink:href=\"#DejaVuSans-122\"/>\n     <use x=\"308.154297\" xlink:href=\"#DejaVuSans-32\"/>\n     <use x=\"339.941406\" xlink:href=\"#DejaVuSans-100\"/>\n     <use x=\"403.417969\" xlink:href=\"#DejaVuSans-101\"/>\n     <use x=\"464.941406\" xlink:href=\"#DejaVuSans-32\"/>\n     <use x=\"496.728516\" xlink:href=\"#DejaVuSans-67\"/>\n     <use x=\"566.552734\" xlink:href=\"#DejaVuSans-111\"/>\n     <use x=\"627.734375\" xlink:href=\"#DejaVuSans-110\"/>\n     <use x=\"691.113281\" xlink:href=\"#DejaVuSans-102\"/>\n     <use x=\"726.318359\" xlink:href=\"#DejaVuSans-117\"/>\n     <use x=\"789.697266\" xlink:href=\"#DejaVuSans-115\"/>\n     <use x=\"841.796875\" xlink:href=\"#DejaVuSans-105\"/>\n     <use x=\"869.580078\" xlink:href=\"#DejaVuSans-243\"/>\n     <use x=\"930.761719\" xlink:href=\"#DejaVuSans-110\"/>\n     <use x=\"994.140625\" xlink:href=\"#DejaVuSans-32\"/>\n     <use x=\"1025.927734\" xlink:href=\"#DejaVuSans-78\"/>\n     <use x=\"1100.732422\" xlink:href=\"#DejaVuSans-111\"/>\n     <use x=\"1161.914062\" xlink:href=\"#DejaVuSans-114\"/>\n     <use x=\"1201.277344\" xlink:href=\"#DejaVuSans-109\"/>\n     <use x=\"1298.689453\" xlink:href=\"#DejaVuSans-97\"/>\n     <use x=\"1359.96875\" xlink:href=\"#DejaVuSans-108\"/>\n     <use x=\"1387.751953\" xlink:href=\"#DejaVuSans-105\"/>\n     <use x=\"1415.535156\" xlink:href=\"#DejaVuSans-122\"/>\n     <use x=\"1468.025391\" xlink:href=\"#DejaVuSans-97\"/>\n     <use x=\"1529.304688\" xlink:href=\"#DejaVuSans-100\"/>\n     <use x=\"1592.78125\" xlink:href=\"#DejaVuSans-97\"/>\n     <use x=\"1654.060547\" xlink:href=\"#DejaVuSans-58\"/>\n     <use x=\"1687.751953\" xlink:href=\"#DejaVuSans-32\"/>\n     <use x=\"1719.539062\" xlink:href=\"#DejaVuSans-82\"/>\n     <use x=\"1784.521484\" xlink:href=\"#DejaVuSans-101\"/>\n     <use x=\"1846.044922\" xlink:href=\"#DejaVuSans-100\"/>\n     <use x=\"1909.521484\" xlink:href=\"#DejaVuSans-32\"/>\n     <use x=\"1941.308594\" xlink:href=\"#DejaVuSans-78\"/>\n     <use x=\"2016.113281\" xlink:href=\"#DejaVuSans-101\"/>\n     <use x=\"2077.636719\" xlink:href=\"#DejaVuSans-117\"/>\n     <use x=\"2141.015625\" xlink:href=\"#DejaVuSans-114\"/>\n     <use x=\"2179.878906\" xlink:href=\"#DejaVuSans-111\"/>\n     <use x=\"2241.060547\" xlink:href=\"#DejaVuSans-110\"/>\n     <use x=\"2304.439453\" xlink:href=\"#DejaVuSans-97\"/>\n     <use x=\"2365.71875\" xlink:href=\"#DejaVuSans-108\"/>\n    </g>\n   </g>\n  </g>\n  <g id=\"axes_2\">\n   <g id=\"patch_7\">\n    <path clip-path=\"url(#p879a3bc7dc)\" d=\"M 288.160625 255.718125 \nL 288.160625 254.806406 \nL 288.160625 23.229844 \nL 288.160625 22.318125 \nL 299.830625 22.318125 \nL 299.830625 23.229844 \nL 299.830625 254.806406 \nL 299.830625 255.718125 \nz\n\" style=\"fill:#ffffff;stroke:#ffffff;stroke-linejoin:miter;stroke-width:0.01;\"/>\n   </g>\n   <g id=\"matplotlib.axis_3\"/>\n   <g id=\"matplotlib.axis_4\">\n    <g id=\"ytick_3\">\n     <g id=\"line2d_1\">\n      <defs>\n       <path d=\"M 0 0 \nL 3.5 0 \n\" id=\"m6ae57ded35\" style=\"stroke:#262626;stroke-width:0.8;\"/>\n      </defs>\n      <g>\n       <use style=\"fill:#262626;stroke:#262626;stroke-width:0.8;\" x=\"299.830625\" xlink:href=\"#m6ae57ded35\" y=\"231.361563\"/>\n      </g>\n     </g>\n     <g id=\"text_12\">\n      <!-- 1000 -->\n      <g style=\"fill:#262626;\" transform=\"translate(306.830625 235.160781)scale(0.1 -0.1)\">\n       <use xlink:href=\"#DejaVuSans-49\"/>\n       <use x=\"63.623047\" xlink:href=\"#DejaVuSans-48\"/>\n       <use x=\"127.246094\" xlink:href=\"#DejaVuSans-48\"/>\n       <use x=\"190.869141\" xlink:href=\"#DejaVuSans-48\"/>\n      </g>\n     </g>\n    </g>\n    <g id=\"ytick_4\">\n     <g id=\"line2d_2\">\n      <g>\n       <use style=\"fill:#262626;stroke:#262626;stroke-width:0.8;\" x=\"299.830625\" xlink:href=\"#m6ae57ded35\" y=\"197.24873\"/>\n      </g>\n     </g>\n     <g id=\"text_13\">\n      <!-- 2000 -->\n      <g style=\"fill:#262626;\" transform=\"translate(306.830625 201.047949)scale(0.1 -0.1)\">\n       <use xlink:href=\"#DejaVuSans-50\"/>\n       <use x=\"63.623047\" xlink:href=\"#DejaVuSans-48\"/>\n       <use x=\"127.246094\" xlink:href=\"#DejaVuSans-48\"/>\n       <use x=\"190.869141\" xlink:href=\"#DejaVuSans-48\"/>\n      </g>\n     </g>\n    </g>\n    <g id=\"ytick_5\">\n     <g id=\"line2d_3\">\n      <g>\n       <use style=\"fill:#262626;stroke:#262626;stroke-width:0.8;\" x=\"299.830625\" xlink:href=\"#m6ae57ded35\" y=\"163.135898\"/>\n      </g>\n     </g>\n     <g id=\"text_14\">\n      <!-- 3000 -->\n      <defs>\n       <path d=\"M 40.578125 39.3125 \nQ 47.65625 37.796875 51.625 33 \nQ 55.609375 28.21875 55.609375 21.1875 \nQ 55.609375 10.40625 48.1875 4.484375 \nQ 40.765625 -1.421875 27.09375 -1.421875 \nQ 22.515625 -1.421875 17.65625 -0.515625 \nQ 12.796875 0.390625 7.625 2.203125 \nL 7.625 11.71875 \nQ 11.71875 9.328125 16.59375 8.109375 \nQ 21.484375 6.890625 26.8125 6.890625 \nQ 36.078125 6.890625 40.9375 10.546875 \nQ 45.796875 14.203125 45.796875 21.1875 \nQ 45.796875 27.640625 41.28125 31.265625 \nQ 36.765625 34.90625 28.71875 34.90625 \nL 20.21875 34.90625 \nL 20.21875 43.015625 \nL 29.109375 43.015625 \nQ 36.375 43.015625 40.234375 45.921875 \nQ 44.09375 48.828125 44.09375 54.296875 \nQ 44.09375 59.90625 40.109375 62.90625 \nQ 36.140625 65.921875 28.71875 65.921875 \nQ 24.65625 65.921875 20.015625 65.03125 \nQ 15.375 64.15625 9.8125 62.3125 \nL 9.8125 71.09375 \nQ 15.4375 72.65625 20.34375 73.4375 \nQ 25.25 74.21875 29.59375 74.21875 \nQ 40.828125 74.21875 47.359375 69.109375 \nQ 53.90625 64.015625 53.90625 55.328125 \nQ 53.90625 49.265625 50.4375 45.09375 \nQ 46.96875 40.921875 40.578125 39.3125 \nz\n\" id=\"DejaVuSans-51\"/>\n      </defs>\n      <g style=\"fill:#262626;\" transform=\"translate(306.830625 166.935116)scale(0.1 -0.1)\">\n       <use xlink:href=\"#DejaVuSans-51\"/>\n       <use x=\"63.623047\" xlink:href=\"#DejaVuSans-48\"/>\n       <use x=\"127.246094\" xlink:href=\"#DejaVuSans-48\"/>\n       <use x=\"190.869141\" xlink:href=\"#DejaVuSans-48\"/>\n      </g>\n     </g>\n    </g>\n    <g id=\"ytick_6\">\n     <g id=\"line2d_4\">\n      <g>\n       <use style=\"fill:#262626;stroke:#262626;stroke-width:0.8;\" x=\"299.830625\" xlink:href=\"#m6ae57ded35\" y=\"129.023065\"/>\n      </g>\n     </g>\n     <g id=\"text_15\">\n      <!-- 4000 -->\n      <g style=\"fill:#262626;\" transform=\"translate(306.830625 132.822284)scale(0.1 -0.1)\">\n       <use xlink:href=\"#DejaVuSans-52\"/>\n       <use x=\"63.623047\" xlink:href=\"#DejaVuSans-48\"/>\n       <use x=\"127.246094\" xlink:href=\"#DejaVuSans-48\"/>\n       <use x=\"190.869141\" xlink:href=\"#DejaVuSans-48\"/>\n      </g>\n     </g>\n    </g>\n    <g id=\"ytick_7\">\n     <g id=\"line2d_5\">\n      <g>\n       <use style=\"fill:#262626;stroke:#262626;stroke-width:0.8;\" x=\"299.830625\" xlink:href=\"#m6ae57ded35\" y=\"94.910233\"/>\n      </g>\n     </g>\n     <g id=\"text_16\">\n      <!-- 5000 -->\n      <defs>\n       <path d=\"M 10.796875 72.90625 \nL 49.515625 72.90625 \nL 49.515625 64.59375 \nL 19.828125 64.59375 \nL 19.828125 46.734375 \nQ 21.96875 47.46875 24.109375 47.828125 \nQ 26.265625 48.1875 28.421875 48.1875 \nQ 40.625 48.1875 47.75 41.5 \nQ 54.890625 34.8125 54.890625 23.390625 \nQ 54.890625 11.625 47.5625 5.09375 \nQ 40.234375 -1.421875 26.90625 -1.421875 \nQ 22.3125 -1.421875 17.546875 -0.640625 \nQ 12.796875 0.140625 7.71875 1.703125 \nL 7.71875 11.625 \nQ 12.109375 9.234375 16.796875 8.0625 \nQ 21.484375 6.890625 26.703125 6.890625 \nQ 35.15625 6.890625 40.078125 11.328125 \nQ 45.015625 15.765625 45.015625 23.390625 \nQ 45.015625 31 40.078125 35.4375 \nQ 35.15625 39.890625 26.703125 39.890625 \nQ 22.75 39.890625 18.8125 39.015625 \nQ 14.890625 38.140625 10.796875 36.28125 \nz\n\" id=\"DejaVuSans-53\"/>\n      </defs>\n      <g style=\"fill:#262626;\" transform=\"translate(306.830625 98.709451)scale(0.1 -0.1)\">\n       <use xlink:href=\"#DejaVuSans-53\"/>\n       <use x=\"63.623047\" xlink:href=\"#DejaVuSans-48\"/>\n       <use x=\"127.246094\" xlink:href=\"#DejaVuSans-48\"/>\n       <use x=\"190.869141\" xlink:href=\"#DejaVuSans-48\"/>\n      </g>\n     </g>\n    </g>\n    <g id=\"ytick_8\">\n     <g id=\"line2d_6\">\n      <g>\n       <use style=\"fill:#262626;stroke:#262626;stroke-width:0.8;\" x=\"299.830625\" xlink:href=\"#m6ae57ded35\" y=\"60.7974\"/>\n      </g>\n     </g>\n     <g id=\"text_17\">\n      <!-- 6000 -->\n      <g style=\"fill:#262626;\" transform=\"translate(306.830625 64.596619)scale(0.1 -0.1)\">\n       <use xlink:href=\"#DejaVuSans-54\"/>\n       <use x=\"63.623047\" xlink:href=\"#DejaVuSans-48\"/>\n       <use x=\"127.246094\" xlink:href=\"#DejaVuSans-48\"/>\n       <use x=\"190.869141\" xlink:href=\"#DejaVuSans-48\"/>\n      </g>\n     </g>\n    </g>\n    <g id=\"ytick_9\">\n     <g id=\"line2d_7\">\n      <g>\n       <use style=\"fill:#262626;stroke:#262626;stroke-width:0.8;\" x=\"299.830625\" xlink:href=\"#m6ae57ded35\" y=\"26.684568\"/>\n      </g>\n     </g>\n     <g id=\"text_18\">\n      <!-- 7000 -->\n      <g style=\"fill:#262626;\" transform=\"translate(306.830625 30.483786)scale(0.1 -0.1)\">\n       <use xlink:href=\"#DejaVuSans-55\"/>\n       <use x=\"63.623047\" xlink:href=\"#DejaVuSans-48\"/>\n       <use x=\"127.246094\" xlink:href=\"#DejaVuSans-48\"/>\n       <use x=\"190.869141\" xlink:href=\"#DejaVuSans-48\"/>\n      </g>\n     </g>\n    </g>\n   </g>\n   <image height=\"233\" id=\"image5b799ea8bf\" transform=\"scale(1 -1)translate(0 -233)\" width=\"12\" x=\"288\" xlink:href=\"data:image/png;base64,\niVBORw0KGgoAAAANSUhEUgAAAAwAAADpCAYAAAAQ/NbWAAAABHNCSVQICAgIfAhkiAAAASBJREFUaIHtmFEOwzAIQ9mU+x93H5Pa7Ajti2TLo+k3yBgbSvv6fOcs8IxZKL4GjK8B42swBlVjwgxHSbStFOHNwiM5rOgQV9LCPMRxwAgl53DK25q4yDaHGwnbGncSOnBYuARowhPbmshBfsKdDY5E/eYL5MCFwwh5XYrkQBOocIdhRKlb5Qh6HRybDysNEQxLAFtDfpzoZzpwGR+wphUOMMHwnu7g1hZLACbwF0pgSQxgZd3TmTZ8P+jNxwAcXjIcJ3proHDL1kg0X+Iiwxz+fx4ChTNYg6/7OA4bQYLQwxqBJUGEBR30CIFtlf9ZN5hPnmBQeutwnZBIOs8az9ShgdLFE9ifjSYI8pLOgyIEdqkBAp04g5e4NRrosBGunx9j8v5RzGJoQQAAAABJRU5ErkJggg==\" y=\"-22\"/>\n   <g id=\"patch_8\">\n    <path d=\"M 288.160625 255.718125 \nL 288.160625 254.806406 \nL 288.160625 23.229844 \nL 288.160625 22.318125 \nL 299.830625 22.318125 \nL 299.830625 23.229844 \nL 299.830625 254.806406 \nL 299.830625 255.718125 \nz\n\" style=\"fill:none;stroke:#262626;stroke-linejoin:miter;stroke-width:0.8;\"/>\n   </g>\n  </g>\n </g>\n <defs>\n  <clipPath id=\"pba5e25411b\">\n   <rect height=\"233.4\" width=\"233.4\" x=\"34.240625\" y=\"22.318125\"/>\n  </clipPath>\n  <clipPath id=\"p879a3bc7dc\">\n   <rect height=\"233.4\" width=\"11.67\" x=\"288.160625\" y=\"22.318125\"/>\n  </clipPath>\n </defs>\n</svg>\n"
          },
          "metadata": {}
        }
      ]
    },
    {
      "cell_type": "markdown",
      "metadata": {
        "id": "xsGDPL5OL8oK"
      },
      "source": [
        "## Conclusiones Parte 2\n",
        "Cuadros comparativos![image.png](data:image/png;base64,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)\n",
        "\n",
        "\n",
        "\n",
        "*   El clasificador con menos eficiencia es el caso B donde se tienen las variables predictoras que no tienen tanto peso, se puede ver esto los valores de IV. Le sigue el clasificador caso A, que sus datos de entrenamiento la componen las variables de más importancia (Datos más altos de IV) y por último el mejor es el caso donde se tienen las variables se suponía de antemano que iba a ser el mejor. También podemos inferir que en problemas de machine learning la carga computacional es una medida que se debe tener en cuenta, entonces si hay una carga computacional muy grande yo escogería el caso A.\n",
        "\n",
        "* Caso A con baseline vs red neuronal. La red permite el mejoramiento de la baseline. La precisión subió 23.46% es un salto de eficiencia grandísimo. Tener una precisión en 82.62 es un clasificador muy bueno.   \n",
        "\n",
        "\n",
        "\n",
        "*\tCaso B con baseline vs red neuronal. La precisión subió 24.67%, subió un puntico de porcentaje más que el caso A, pero de todas maneras la precisión es de 78.04 por debajo del caso A.\n",
        "\n",
        "*\tCaso C con baseline vs red neuronal. La precisión subió 35.02 %, es el mejor de todos. \n",
        "\n",
        "* Conclusión final: Utilizar la red neuronal mejora muchísimo un clasificador de regresión logística. Un dato para añadir en la teoría evidencian que el IV es un valor de información diseñado mas que todo en casos de ‘Binary Logistic Regression’ como es este caso.\n",
        "\n"
      ]
    },
    {
      "cell_type": "markdown",
      "metadata": {
        "id": "os3aLUDtL8oK"
      },
      "source": [
        "# PARTE 3\n",
        "\n",
        "Los resultados obtenidos para las redes neuronales anteriores únicamente corresponden a una arquitectura. Un proceso necesario e importante en casos de estudio como este es la búsqueda de hiperparámetros, en este caso, el número de neuronas más adecuado (al menos dentro de cierto rango, este proceso también se conoce como [GridSearch](https://towardsdatascience.com/grid-search-for-model-tuning-3319b259367e)).\n",
        "\n",
        "**Divida el conjunto de datos de prueba en dos mitades: datos de validación y datos de prueba. Utilice los datos de validación para realizar una evaluación preliminar de cada modelo.** Utilice `train_test_split` para esta parte.\n",
        "\n",
        "Utilice todos los descriptores para esta prueba y realice las siguientes búsquedas:\n",
        "\n",
        "- Caso A: 1 capa escondida $\\times$ {5, 10, 20, 50, 100} neuronas.\n",
        "- Caso B: 2 capas escondidas $\\times$ {5, 10, 20, 50, 100} neuronas.\n",
        "- Caso C: 3 capas escondidas $\\times$ {5, 10, 20, 50, 100} neuronas.\n",
        "\n",
        "Utilice `matplotlib.pyplot` para graficar la precisión en los datos de validación, seleccione el mejor modelo, y obtenga una evaluación final para esta selección utilizando los datos de prueba.\n",
        "\n",
        "### Caso A"
      ]
    },
    {
      "cell_type": "code",
      "metadata": {
        "id": "h-Qb_vZTL8oL",
        "colab": {
          "base_uri": "https://localhost:8080/",
          "height": 818
        },
        "outputId": "1a7c78f4-a921-49e7-d0ee-91891acb1e09"
      },
      "source": [
        "# # # # Implemente un ciclo FOR para entrenar cada una de las configuraciones solicitadas # # # #\n",
        "# 1. División datos de prueba\n",
        "\n",
        "#x_train,x_test,y_train,y_test=train_test_split(x,y,test_size=0.5,random_state=20)\n",
        "\n",
        "import numpy as np\n",
        "from sklearn.model_selection import train_test_split\n",
        "from sklearn.metrics import roc_curve\n",
        "\n",
        "\n",
        "X_valid, X_test2, y_valid, y_test2 = train_test_split( X_test, y_test, test_size=0.5, random_state=42)\n",
        "\n",
        "neuronas=[5,10,20,50,100]\n",
        "#neurona=0\n",
        "\n",
        "\n",
        "for i in neuronas:\n",
        "    model = MLPClassifier( hidden_layer_sizes=[i], activation='relu') ##\n",
        "    model.fit(X_valid,y_valid) # Acá se entrena con los datos de validación #\n",
        "    y_predict = model.predict(X_test2) #Acá y_predict se evalua con los datos test_2#\n",
        "    print (i)\n",
        "    print(f'Precisión con {round(i,5)} neuronas y una capa escondida {round(accuracy_score(y_test2, y_predict),5)} ')\n",
        "    print(pd.DataFrame(confusion_matrix(y_test2,y_predict)))\n",
        "    # Grafica ROC\n",
        "    fpr, tpr, thresholds = roc_curve(y_test2,y_predict)\n",
        "    plt.plot(fpr,tpr)\n",
        "    plt.xlim([0.0, 1.0])\n",
        "    plt.ylim([0.0, 1.0])\n",
        "    plt.title('Curva ROC para Caso A: 1 Capa escondida:5(b),10(y),20(g),50(r),100(m),neuronas.')\n",
        "    plt.xlabel('Tasa de Falsos Positivos (1-Especificidad)')\n",
        "    plt.ylabel('Tasa de Verdaderos Positivos (Sensitividad)')\n",
        "    plt.grid(True)\n",
        "\n",
        "\n",
        "\n"
      ],
      "execution_count": 198,
      "outputs": [
        {
          "output_type": "stream",
          "name": "stdout",
          "text": [
            "5\n",
            "Precisión con 5 neuronas y una capa escondida 0.71325 \n",
            "      0     1\n",
            "0  2386  1323\n",
            "1   803  2902\n",
            "10\n",
            "Precisión con 10 neuronas y una capa escondida 0.78514 \n",
            "      0     1\n",
            "0  2736   973\n",
            "1   620  3085\n",
            "20\n",
            "Precisión con 20 neuronas y una capa escondida 0.82236 \n",
            "      0     1\n",
            "0  2939   770\n",
            "1   547  3158\n",
            "50\n",
            "Precisión con 50 neuronas y una capa escondida 0.90167 \n",
            "      0     1\n",
            "0  3266   443\n",
            "1   286  3419\n",
            "100\n",
            "Precisión con 100 neuronas y una capa escondida 0.93674 \n",
            "      0     1\n",
            "0  3399   310\n",
            "1   159  3546\n"
          ]
        },
        {
          "output_type": "display_data",
          "data": {
            "text/plain": [
              "<Figure size 432x288 with 1 Axes>"
            ],
            "image/svg+xml": "<?xml version=\"1.0\" encoding=\"utf-8\" standalone=\"no\"?>\n<!DOCTYPE svg PUBLIC \"-//W3C//DTD SVG 1.1//EN\"\n  \"http://www.w3.org/Graphics/SVG/1.1/DTD/svg11.dtd\">\n<!-- Created with matplotlib (https://matplotlib.org/) -->\n<svg height=\"277.314375pt\" version=\"1.1\" viewBox=\"0 0 515.56875 277.314375\" width=\"515.56875pt\" xmlns=\"http://www.w3.org/2000/svg\" xmlns:xlink=\"http://www.w3.org/1999/xlink\">\n <defs>\n  <style type=\"text/css\">\n*{stroke-linecap:butt;stroke-linejoin:round;}\n  </style>\n </defs>\n <g id=\"figure_1\">\n  <g id=\"patch_1\">\n   <path d=\"M 0 277.314375 \nL 515.56875 277.314375 \nL 515.56875 0 \nL 0 0 \nz\n\" style=\"fill:#ffffff;\"/>\n  </g>\n  <g id=\"axes_1\">\n   <g id=\"patch_2\">\n    <path d=\"M 90.384375 239.758125 \nL 425.184375 239.758125 \nL 425.184375 22.318125 \nL 90.384375 22.318125 \nz\n\" style=\"fill:#ffffff;\"/>\n   </g>\n   <g id=\"matplotlib.axis_1\">\n    <g id=\"xtick_1\">\n     <g id=\"line2d_1\">\n      <path clip-path=\"url(#p038dfa7e3e)\" d=\"M 90.384375 239.758125 \nL 90.384375 22.318125 \n\" style=\"fill:none;stroke:#cccccc;stroke-linecap:round;stroke-width:0.8;\"/>\n     </g>\n     <g id=\"text_1\">\n      <!-- 0.0 -->\n      <defs>\n       <path d=\"M 31.78125 66.40625 \nQ 24.171875 66.40625 20.328125 58.90625 \nQ 16.5 51.421875 16.5 36.375 \nQ 16.5 21.390625 20.328125 13.890625 \nQ 24.171875 6.390625 31.78125 6.390625 \nQ 39.453125 6.390625 43.28125 13.890625 \nQ 47.125 21.390625 47.125 36.375 \nQ 47.125 51.421875 43.28125 58.90625 \nQ 39.453125 66.40625 31.78125 66.40625 \nz\nM 31.78125 74.21875 \nQ 44.046875 74.21875 50.515625 64.515625 \nQ 56.984375 54.828125 56.984375 36.375 \nQ 56.984375 17.96875 50.515625 8.265625 \nQ 44.046875 -1.421875 31.78125 -1.421875 \nQ 19.53125 -1.421875 13.0625 8.265625 \nQ 6.59375 17.96875 6.59375 36.375 \nQ 6.59375 54.828125 13.0625 64.515625 \nQ 19.53125 74.21875 31.78125 74.21875 \nz\n\" id=\"DejaVuSans-48\"/>\n       <path d=\"M 10.6875 12.40625 \nL 21 12.40625 \nL 21 0 \nL 10.6875 0 \nz\n\" id=\"DejaVuSans-46\"/>\n      </defs>\n      <g style=\"fill:#262626;\" transform=\"translate(82.432812 254.356562)scale(0.1 -0.1)\">\n       <use xlink:href=\"#DejaVuSans-48\"/>\n       <use x=\"63.623047\" xlink:href=\"#DejaVuSans-46\"/>\n       <use x=\"95.410156\" xlink:href=\"#DejaVuSans-48\"/>\n      </g>\n     </g>\n    </g>\n    <g id=\"xtick_2\">\n     <g id=\"line2d_2\">\n      <path clip-path=\"url(#p038dfa7e3e)\" d=\"M 157.344375 239.758125 \nL 157.344375 22.318125 \n\" style=\"fill:none;stroke:#cccccc;stroke-linecap:round;stroke-width:0.8;\"/>\n     </g>\n     <g id=\"text_2\">\n      <!-- 0.2 -->\n      <defs>\n       <path d=\"M 19.1875 8.296875 \nL 53.609375 8.296875 \nL 53.609375 0 \nL 7.328125 0 \nL 7.328125 8.296875 \nQ 12.9375 14.109375 22.625 23.890625 \nQ 32.328125 33.6875 34.8125 36.53125 \nQ 39.546875 41.84375 41.421875 45.53125 \nQ 43.3125 49.21875 43.3125 52.78125 \nQ 43.3125 58.59375 39.234375 62.25 \nQ 35.15625 65.921875 28.609375 65.921875 \nQ 23.96875 65.921875 18.8125 64.3125 \nQ 13.671875 62.703125 7.8125 59.421875 \nL 7.8125 69.390625 \nQ 13.765625 71.78125 18.9375 73 \nQ 24.125 74.21875 28.421875 74.21875 \nQ 39.75 74.21875 46.484375 68.546875 \nQ 53.21875 62.890625 53.21875 53.421875 \nQ 53.21875 48.921875 51.53125 44.890625 \nQ 49.859375 40.875 45.40625 35.40625 \nQ 44.1875 33.984375 37.640625 27.21875 \nQ 31.109375 20.453125 19.1875 8.296875 \nz\n\" id=\"DejaVuSans-50\"/>\n      </defs>\n      <g style=\"fill:#262626;\" transform=\"translate(149.392812 254.356562)scale(0.1 -0.1)\">\n       <use xlink:href=\"#DejaVuSans-48\"/>\n       <use x=\"63.623047\" xlink:href=\"#DejaVuSans-46\"/>\n       <use x=\"95.410156\" xlink:href=\"#DejaVuSans-50\"/>\n      </g>\n     </g>\n    </g>\n    <g id=\"xtick_3\">\n     <g id=\"line2d_3\">\n      <path clip-path=\"url(#p038dfa7e3e)\" d=\"M 224.304375 239.758125 \nL 224.304375 22.318125 \n\" style=\"fill:none;stroke:#cccccc;stroke-linecap:round;stroke-width:0.8;\"/>\n     </g>\n     <g id=\"text_3\">\n      <!-- 0.4 -->\n      <defs>\n       <path d=\"M 37.796875 64.3125 \nL 12.890625 25.390625 \nL 37.796875 25.390625 \nz\nM 35.203125 72.90625 \nL 47.609375 72.90625 \nL 47.609375 25.390625 \nL 58.015625 25.390625 \nL 58.015625 17.1875 \nL 47.609375 17.1875 \nL 47.609375 0 \nL 37.796875 0 \nL 37.796875 17.1875 \nL 4.890625 17.1875 \nL 4.890625 26.703125 \nz\n\" id=\"DejaVuSans-52\"/>\n      </defs>\n      <g style=\"fill:#262626;\" transform=\"translate(216.352812 254.356562)scale(0.1 -0.1)\">\n       <use xlink:href=\"#DejaVuSans-48\"/>\n       <use x=\"63.623047\" xlink:href=\"#DejaVuSans-46\"/>\n       <use x=\"95.410156\" xlink:href=\"#DejaVuSans-52\"/>\n      </g>\n     </g>\n    </g>\n    <g id=\"xtick_4\">\n     <g id=\"line2d_4\">\n      <path clip-path=\"url(#p038dfa7e3e)\" d=\"M 291.264375 239.758125 \nL 291.264375 22.318125 \n\" style=\"fill:none;stroke:#cccccc;stroke-linecap:round;stroke-width:0.8;\"/>\n     </g>\n     <g id=\"text_4\">\n      <!-- 0.6 -->\n      <defs>\n       <path d=\"M 33.015625 40.375 \nQ 26.375 40.375 22.484375 35.828125 \nQ 18.609375 31.296875 18.609375 23.390625 \nQ 18.609375 15.53125 22.484375 10.953125 \nQ 26.375 6.390625 33.015625 6.390625 \nQ 39.65625 6.390625 43.53125 10.953125 \nQ 47.40625 15.53125 47.40625 23.390625 \nQ 47.40625 31.296875 43.53125 35.828125 \nQ 39.65625 40.375 33.015625 40.375 \nz\nM 52.59375 71.296875 \nL 52.59375 62.3125 \nQ 48.875 64.0625 45.09375 64.984375 \nQ 41.3125 65.921875 37.59375 65.921875 \nQ 27.828125 65.921875 22.671875 59.328125 \nQ 17.53125 52.734375 16.796875 39.40625 \nQ 19.671875 43.65625 24.015625 45.921875 \nQ 28.375 48.1875 33.59375 48.1875 \nQ 44.578125 48.1875 50.953125 41.515625 \nQ 57.328125 34.859375 57.328125 23.390625 \nQ 57.328125 12.15625 50.6875 5.359375 \nQ 44.046875 -1.421875 33.015625 -1.421875 \nQ 20.359375 -1.421875 13.671875 8.265625 \nQ 6.984375 17.96875 6.984375 36.375 \nQ 6.984375 53.65625 15.1875 63.9375 \nQ 23.390625 74.21875 37.203125 74.21875 \nQ 40.921875 74.21875 44.703125 73.484375 \nQ 48.484375 72.75 52.59375 71.296875 \nz\n\" id=\"DejaVuSans-54\"/>\n      </defs>\n      <g style=\"fill:#262626;\" transform=\"translate(283.312812 254.356562)scale(0.1 -0.1)\">\n       <use xlink:href=\"#DejaVuSans-48\"/>\n       <use x=\"63.623047\" xlink:href=\"#DejaVuSans-46\"/>\n       <use x=\"95.410156\" xlink:href=\"#DejaVuSans-54\"/>\n      </g>\n     </g>\n    </g>\n    <g id=\"xtick_5\">\n     <g id=\"line2d_5\">\n      <path clip-path=\"url(#p038dfa7e3e)\" d=\"M 358.224375 239.758125 \nL 358.224375 22.318125 \n\" style=\"fill:none;stroke:#cccccc;stroke-linecap:round;stroke-width:0.8;\"/>\n     </g>\n     <g id=\"text_5\">\n      <!-- 0.8 -->\n      <defs>\n       <path d=\"M 31.78125 34.625 \nQ 24.75 34.625 20.71875 30.859375 \nQ 16.703125 27.09375 16.703125 20.515625 \nQ 16.703125 13.921875 20.71875 10.15625 \nQ 24.75 6.390625 31.78125 6.390625 \nQ 38.8125 6.390625 42.859375 10.171875 \nQ 46.921875 13.96875 46.921875 20.515625 \nQ 46.921875 27.09375 42.890625 30.859375 \nQ 38.875 34.625 31.78125 34.625 \nz\nM 21.921875 38.8125 \nQ 15.578125 40.375 12.03125 44.71875 \nQ 8.5 49.078125 8.5 55.328125 \nQ 8.5 64.0625 14.71875 69.140625 \nQ 20.953125 74.21875 31.78125 74.21875 \nQ 42.671875 74.21875 48.875 69.140625 \nQ 55.078125 64.0625 55.078125 55.328125 \nQ 55.078125 49.078125 51.53125 44.71875 \nQ 48 40.375 41.703125 38.8125 \nQ 48.828125 37.15625 52.796875 32.3125 \nQ 56.78125 27.484375 56.78125 20.515625 \nQ 56.78125 9.90625 50.3125 4.234375 \nQ 43.84375 -1.421875 31.78125 -1.421875 \nQ 19.734375 -1.421875 13.25 4.234375 \nQ 6.78125 9.90625 6.78125 20.515625 \nQ 6.78125 27.484375 10.78125 32.3125 \nQ 14.796875 37.15625 21.921875 38.8125 \nz\nM 18.3125 54.390625 \nQ 18.3125 48.734375 21.84375 45.5625 \nQ 25.390625 42.390625 31.78125 42.390625 \nQ 38.140625 42.390625 41.71875 45.5625 \nQ 45.3125 48.734375 45.3125 54.390625 \nQ 45.3125 60.0625 41.71875 63.234375 \nQ 38.140625 66.40625 31.78125 66.40625 \nQ 25.390625 66.40625 21.84375 63.234375 \nQ 18.3125 60.0625 18.3125 54.390625 \nz\n\" id=\"DejaVuSans-56\"/>\n      </defs>\n      <g style=\"fill:#262626;\" transform=\"translate(350.272812 254.356562)scale(0.1 -0.1)\">\n       <use xlink:href=\"#DejaVuSans-48\"/>\n       <use x=\"63.623047\" xlink:href=\"#DejaVuSans-46\"/>\n       <use x=\"95.410156\" xlink:href=\"#DejaVuSans-56\"/>\n      </g>\n     </g>\n    </g>\n    <g id=\"xtick_6\">\n     <g id=\"line2d_6\">\n      <path clip-path=\"url(#p038dfa7e3e)\" d=\"M 425.184375 239.758125 \nL 425.184375 22.318125 \n\" style=\"fill:none;stroke:#cccccc;stroke-linecap:round;stroke-width:0.8;\"/>\n     </g>\n     <g id=\"text_6\">\n      <!-- 1.0 -->\n      <defs>\n       <path d=\"M 12.40625 8.296875 \nL 28.515625 8.296875 \nL 28.515625 63.921875 \nL 10.984375 60.40625 \nL 10.984375 69.390625 \nL 28.421875 72.90625 \nL 38.28125 72.90625 \nL 38.28125 8.296875 \nL 54.390625 8.296875 \nL 54.390625 0 \nL 12.40625 0 \nz\n\" id=\"DejaVuSans-49\"/>\n      </defs>\n      <g style=\"fill:#262626;\" transform=\"translate(417.232812 254.356562)scale(0.1 -0.1)\">\n       <use xlink:href=\"#DejaVuSans-49\"/>\n       <use x=\"63.623047\" xlink:href=\"#DejaVuSans-46\"/>\n       <use x=\"95.410156\" xlink:href=\"#DejaVuSans-48\"/>\n      </g>\n     </g>\n    </g>\n    <g id=\"text_7\">\n     <!-- Tasa de Falsos Positivos (1-Especificidad) -->\n     <defs>\n      <path d=\"M -0.296875 72.90625 \nL 61.375 72.90625 \nL 61.375 64.59375 \nL 35.5 64.59375 \nL 35.5 0 \nL 25.59375 0 \nL 25.59375 64.59375 \nL -0.296875 64.59375 \nz\n\" id=\"DejaVuSans-84\"/>\n      <path d=\"M 34.28125 27.484375 \nQ 23.390625 27.484375 19.1875 25 \nQ 14.984375 22.515625 14.984375 16.5 \nQ 14.984375 11.71875 18.140625 8.90625 \nQ 21.296875 6.109375 26.703125 6.109375 \nQ 34.1875 6.109375 38.703125 11.40625 \nQ 43.21875 16.703125 43.21875 25.484375 \nL 43.21875 27.484375 \nz\nM 52.203125 31.203125 \nL 52.203125 0 \nL 43.21875 0 \nL 43.21875 8.296875 \nQ 40.140625 3.328125 35.546875 0.953125 \nQ 30.953125 -1.421875 24.3125 -1.421875 \nQ 15.921875 -1.421875 10.953125 3.296875 \nQ 6 8.015625 6 15.921875 \nQ 6 25.140625 12.171875 29.828125 \nQ 18.359375 34.515625 30.609375 34.515625 \nL 43.21875 34.515625 \nL 43.21875 35.40625 \nQ 43.21875 41.609375 39.140625 45 \nQ 35.0625 48.390625 27.6875 48.390625 \nQ 23 48.390625 18.546875 47.265625 \nQ 14.109375 46.140625 10.015625 43.890625 \nL 10.015625 52.203125 \nQ 14.9375 54.109375 19.578125 55.046875 \nQ 24.21875 56 28.609375 56 \nQ 40.484375 56 46.34375 49.84375 \nQ 52.203125 43.703125 52.203125 31.203125 \nz\n\" id=\"DejaVuSans-97\"/>\n      <path d=\"M 44.28125 53.078125 \nL 44.28125 44.578125 \nQ 40.484375 46.53125 36.375 47.5 \nQ 32.28125 48.484375 27.875 48.484375 \nQ 21.1875 48.484375 17.84375 46.4375 \nQ 14.5 44.390625 14.5 40.28125 \nQ 14.5 37.15625 16.890625 35.375 \nQ 19.28125 33.59375 26.515625 31.984375 \nL 29.59375 31.296875 \nQ 39.15625 29.25 43.1875 25.515625 \nQ 47.21875 21.78125 47.21875 15.09375 \nQ 47.21875 7.46875 41.1875 3.015625 \nQ 35.15625 -1.421875 24.609375 -1.421875 \nQ 20.21875 -1.421875 15.453125 -0.5625 \nQ 10.6875 0.296875 5.421875 2 \nL 5.421875 11.28125 \nQ 10.40625 8.6875 15.234375 7.390625 \nQ 20.0625 6.109375 24.8125 6.109375 \nQ 31.15625 6.109375 34.5625 8.28125 \nQ 37.984375 10.453125 37.984375 14.40625 \nQ 37.984375 18.0625 35.515625 20.015625 \nQ 33.0625 21.96875 24.703125 23.78125 \nL 21.578125 24.515625 \nQ 13.234375 26.265625 9.515625 29.90625 \nQ 5.8125 33.546875 5.8125 39.890625 \nQ 5.8125 47.609375 11.28125 51.796875 \nQ 16.75 56 26.8125 56 \nQ 31.78125 56 36.171875 55.265625 \nQ 40.578125 54.546875 44.28125 53.078125 \nz\n\" id=\"DejaVuSans-115\"/>\n      <path id=\"DejaVuSans-32\"/>\n      <path d=\"M 45.40625 46.390625 \nL 45.40625 75.984375 \nL 54.390625 75.984375 \nL 54.390625 0 \nL 45.40625 0 \nL 45.40625 8.203125 \nQ 42.578125 3.328125 38.25 0.953125 \nQ 33.9375 -1.421875 27.875 -1.421875 \nQ 17.96875 -1.421875 11.734375 6.484375 \nQ 5.515625 14.40625 5.515625 27.296875 \nQ 5.515625 40.1875 11.734375 48.09375 \nQ 17.96875 56 27.875 56 \nQ 33.9375 56 38.25 53.625 \nQ 42.578125 51.265625 45.40625 46.390625 \nz\nM 14.796875 27.296875 \nQ 14.796875 17.390625 18.875 11.75 \nQ 22.953125 6.109375 30.078125 6.109375 \nQ 37.203125 6.109375 41.296875 11.75 \nQ 45.40625 17.390625 45.40625 27.296875 \nQ 45.40625 37.203125 41.296875 42.84375 \nQ 37.203125 48.484375 30.078125 48.484375 \nQ 22.953125 48.484375 18.875 42.84375 \nQ 14.796875 37.203125 14.796875 27.296875 \nz\n\" id=\"DejaVuSans-100\"/>\n      <path d=\"M 56.203125 29.59375 \nL 56.203125 25.203125 \nL 14.890625 25.203125 \nQ 15.484375 15.921875 20.484375 11.0625 \nQ 25.484375 6.203125 34.421875 6.203125 \nQ 39.59375 6.203125 44.453125 7.46875 \nQ 49.3125 8.734375 54.109375 11.28125 \nL 54.109375 2.78125 \nQ 49.265625 0.734375 44.1875 -0.34375 \nQ 39.109375 -1.421875 33.890625 -1.421875 \nQ 20.796875 -1.421875 13.15625 6.1875 \nQ 5.515625 13.8125 5.515625 26.8125 \nQ 5.515625 40.234375 12.765625 48.109375 \nQ 20.015625 56 32.328125 56 \nQ 43.359375 56 49.78125 48.890625 \nQ 56.203125 41.796875 56.203125 29.59375 \nz\nM 47.21875 32.234375 \nQ 47.125 39.59375 43.09375 43.984375 \nQ 39.0625 48.390625 32.421875 48.390625 \nQ 24.90625 48.390625 20.390625 44.140625 \nQ 15.875 39.890625 15.1875 32.171875 \nz\n\" id=\"DejaVuSans-101\"/>\n      <path d=\"M 9.8125 72.90625 \nL 51.703125 72.90625 \nL 51.703125 64.59375 \nL 19.671875 64.59375 \nL 19.671875 43.109375 \nL 48.578125 43.109375 \nL 48.578125 34.8125 \nL 19.671875 34.8125 \nL 19.671875 0 \nL 9.8125 0 \nz\n\" id=\"DejaVuSans-70\"/>\n      <path d=\"M 9.421875 75.984375 \nL 18.40625 75.984375 \nL 18.40625 0 \nL 9.421875 0 \nz\n\" id=\"DejaVuSans-108\"/>\n      <path d=\"M 30.609375 48.390625 \nQ 23.390625 48.390625 19.1875 42.75 \nQ 14.984375 37.109375 14.984375 27.296875 \nQ 14.984375 17.484375 19.15625 11.84375 \nQ 23.34375 6.203125 30.609375 6.203125 \nQ 37.796875 6.203125 41.984375 11.859375 \nQ 46.1875 17.53125 46.1875 27.296875 \nQ 46.1875 37.015625 41.984375 42.703125 \nQ 37.796875 48.390625 30.609375 48.390625 \nz\nM 30.609375 56 \nQ 42.328125 56 49.015625 48.375 \nQ 55.71875 40.765625 55.71875 27.296875 \nQ 55.71875 13.875 49.015625 6.21875 \nQ 42.328125 -1.421875 30.609375 -1.421875 \nQ 18.84375 -1.421875 12.171875 6.21875 \nQ 5.515625 13.875 5.515625 27.296875 \nQ 5.515625 40.765625 12.171875 48.375 \nQ 18.84375 56 30.609375 56 \nz\n\" id=\"DejaVuSans-111\"/>\n      <path d=\"M 19.671875 64.796875 \nL 19.671875 37.40625 \nL 32.078125 37.40625 \nQ 38.96875 37.40625 42.71875 40.96875 \nQ 46.484375 44.53125 46.484375 51.125 \nQ 46.484375 57.671875 42.71875 61.234375 \nQ 38.96875 64.796875 32.078125 64.796875 \nz\nM 9.8125 72.90625 \nL 32.078125 72.90625 \nQ 44.34375 72.90625 50.609375 67.359375 \nQ 56.890625 61.8125 56.890625 51.125 \nQ 56.890625 40.328125 50.609375 34.8125 \nQ 44.34375 29.296875 32.078125 29.296875 \nL 19.671875 29.296875 \nL 19.671875 0 \nL 9.8125 0 \nz\n\" id=\"DejaVuSans-80\"/>\n      <path d=\"M 9.421875 54.6875 \nL 18.40625 54.6875 \nL 18.40625 0 \nL 9.421875 0 \nz\nM 9.421875 75.984375 \nL 18.40625 75.984375 \nL 18.40625 64.59375 \nL 9.421875 64.59375 \nz\n\" id=\"DejaVuSans-105\"/>\n      <path d=\"M 18.3125 70.21875 \nL 18.3125 54.6875 \nL 36.8125 54.6875 \nL 36.8125 47.703125 \nL 18.3125 47.703125 \nL 18.3125 18.015625 \nQ 18.3125 11.328125 20.140625 9.421875 \nQ 21.96875 7.515625 27.59375 7.515625 \nL 36.8125 7.515625 \nL 36.8125 0 \nL 27.59375 0 \nQ 17.1875 0 13.234375 3.875 \nQ 9.28125 7.765625 9.28125 18.015625 \nL 9.28125 47.703125 \nL 2.6875 47.703125 \nL 2.6875 54.6875 \nL 9.28125 54.6875 \nL 9.28125 70.21875 \nz\n\" id=\"DejaVuSans-116\"/>\n      <path d=\"M 2.984375 54.6875 \nL 12.5 54.6875 \nL 29.59375 8.796875 \nL 46.6875 54.6875 \nL 56.203125 54.6875 \nL 35.6875 0 \nL 23.484375 0 \nz\n\" id=\"DejaVuSans-118\"/>\n      <path d=\"M 31 75.875 \nQ 24.46875 64.65625 21.28125 53.65625 \nQ 18.109375 42.671875 18.109375 31.390625 \nQ 18.109375 20.125 21.3125 9.0625 \nQ 24.515625 -2 31 -13.1875 \nL 23.1875 -13.1875 \nQ 15.875 -1.703125 12.234375 9.375 \nQ 8.59375 20.453125 8.59375 31.390625 \nQ 8.59375 42.28125 12.203125 53.3125 \nQ 15.828125 64.359375 23.1875 75.875 \nz\n\" id=\"DejaVuSans-40\"/>\n      <path d=\"M 4.890625 31.390625 \nL 31.203125 31.390625 \nL 31.203125 23.390625 \nL 4.890625 23.390625 \nz\n\" id=\"DejaVuSans-45\"/>\n      <path d=\"M 9.8125 72.90625 \nL 55.90625 72.90625 \nL 55.90625 64.59375 \nL 19.671875 64.59375 \nL 19.671875 43.015625 \nL 54.390625 43.015625 \nL 54.390625 34.71875 \nL 19.671875 34.71875 \nL 19.671875 8.296875 \nL 56.78125 8.296875 \nL 56.78125 0 \nL 9.8125 0 \nz\n\" id=\"DejaVuSans-69\"/>\n      <path d=\"M 18.109375 8.203125 \nL 18.109375 -20.796875 \nL 9.078125 -20.796875 \nL 9.078125 54.6875 \nL 18.109375 54.6875 \nL 18.109375 46.390625 \nQ 20.953125 51.265625 25.265625 53.625 \nQ 29.59375 56 35.59375 56 \nQ 45.5625 56 51.78125 48.09375 \nQ 58.015625 40.1875 58.015625 27.296875 \nQ 58.015625 14.40625 51.78125 6.484375 \nQ 45.5625 -1.421875 35.59375 -1.421875 \nQ 29.59375 -1.421875 25.265625 0.953125 \nQ 20.953125 3.328125 18.109375 8.203125 \nz\nM 48.6875 27.296875 \nQ 48.6875 37.203125 44.609375 42.84375 \nQ 40.53125 48.484375 33.40625 48.484375 \nQ 26.265625 48.484375 22.1875 42.84375 \nQ 18.109375 37.203125 18.109375 27.296875 \nQ 18.109375 17.390625 22.1875 11.75 \nQ 26.265625 6.109375 33.40625 6.109375 \nQ 40.53125 6.109375 44.609375 11.75 \nQ 48.6875 17.390625 48.6875 27.296875 \nz\n\" id=\"DejaVuSans-112\"/>\n      <path d=\"M 48.78125 52.59375 \nL 48.78125 44.1875 \nQ 44.96875 46.296875 41.140625 47.34375 \nQ 37.3125 48.390625 33.40625 48.390625 \nQ 24.65625 48.390625 19.8125 42.84375 \nQ 14.984375 37.3125 14.984375 27.296875 \nQ 14.984375 17.28125 19.8125 11.734375 \nQ 24.65625 6.203125 33.40625 6.203125 \nQ 37.3125 6.203125 41.140625 7.25 \nQ 44.96875 8.296875 48.78125 10.40625 \nL 48.78125 2.09375 \nQ 45.015625 0.34375 40.984375 -0.53125 \nQ 36.96875 -1.421875 32.421875 -1.421875 \nQ 20.0625 -1.421875 12.78125 6.34375 \nQ 5.515625 14.109375 5.515625 27.296875 \nQ 5.515625 40.671875 12.859375 48.328125 \nQ 20.21875 56 33.015625 56 \nQ 37.15625 56 41.109375 55.140625 \nQ 45.0625 54.296875 48.78125 52.59375 \nz\n\" id=\"DejaVuSans-99\"/>\n      <path d=\"M 37.109375 75.984375 \nL 37.109375 68.5 \nL 28.515625 68.5 \nQ 23.6875 68.5 21.796875 66.546875 \nQ 19.921875 64.59375 19.921875 59.515625 \nL 19.921875 54.6875 \nL 34.71875 54.6875 \nL 34.71875 47.703125 \nL 19.921875 47.703125 \nL 19.921875 0 \nL 10.890625 0 \nL 10.890625 47.703125 \nL 2.296875 47.703125 \nL 2.296875 54.6875 \nL 10.890625 54.6875 \nL 10.890625 58.5 \nQ 10.890625 67.625 15.140625 71.796875 \nQ 19.390625 75.984375 28.609375 75.984375 \nz\n\" id=\"DejaVuSans-102\"/>\n      <path d=\"M 8.015625 75.875 \nL 15.828125 75.875 \nQ 23.140625 64.359375 26.78125 53.3125 \nQ 30.421875 42.28125 30.421875 31.390625 \nQ 30.421875 20.453125 26.78125 9.375 \nQ 23.140625 -1.703125 15.828125 -13.1875 \nL 8.015625 -13.1875 \nQ 14.5 -2 17.703125 9.0625 \nQ 20.90625 20.125 20.90625 31.390625 \nQ 20.90625 42.671875 17.703125 53.65625 \nQ 14.5 64.65625 8.015625 75.875 \nz\n\" id=\"DejaVuSans-41\"/>\n     </defs>\n     <g style=\"fill:#262626;\" transform=\"translate(155.475 268.034687)scale(0.1 -0.1)\">\n      <use xlink:href=\"#DejaVuSans-84\"/>\n      <use x=\"44.583984\" xlink:href=\"#DejaVuSans-97\"/>\n      <use x=\"105.863281\" xlink:href=\"#DejaVuSans-115\"/>\n      <use x=\"157.962891\" xlink:href=\"#DejaVuSans-97\"/>\n      <use x=\"219.242188\" xlink:href=\"#DejaVuSans-32\"/>\n      <use x=\"251.029297\" xlink:href=\"#DejaVuSans-100\"/>\n      <use x=\"314.505859\" xlink:href=\"#DejaVuSans-101\"/>\n      <use x=\"376.029297\" xlink:href=\"#DejaVuSans-32\"/>\n      <use x=\"407.816406\" xlink:href=\"#DejaVuSans-70\"/>\n      <use x=\"456.210938\" xlink:href=\"#DejaVuSans-97\"/>\n      <use x=\"517.490234\" xlink:href=\"#DejaVuSans-108\"/>\n      <use x=\"545.273438\" xlink:href=\"#DejaVuSans-115\"/>\n      <use x=\"597.373047\" xlink:href=\"#DejaVuSans-111\"/>\n      <use x=\"658.554688\" xlink:href=\"#DejaVuSans-115\"/>\n      <use x=\"710.654297\" xlink:href=\"#DejaVuSans-32\"/>\n      <use x=\"742.441406\" xlink:href=\"#DejaVuSans-80\"/>\n      <use x=\"799.119141\" xlink:href=\"#DejaVuSans-111\"/>\n      <use x=\"860.300781\" xlink:href=\"#DejaVuSans-115\"/>\n      <use x=\"912.400391\" xlink:href=\"#DejaVuSans-105\"/>\n      <use x=\"940.183594\" xlink:href=\"#DejaVuSans-116\"/>\n      <use x=\"979.392578\" xlink:href=\"#DejaVuSans-105\"/>\n      <use x=\"1007.175781\" xlink:href=\"#DejaVuSans-118\"/>\n      <use x=\"1066.355469\" xlink:href=\"#DejaVuSans-111\"/>\n      <use x=\"1127.537109\" xlink:href=\"#DejaVuSans-115\"/>\n      <use x=\"1179.636719\" xlink:href=\"#DejaVuSans-32\"/>\n      <use x=\"1211.423828\" xlink:href=\"#DejaVuSans-40\"/>\n      <use x=\"1250.4375\" xlink:href=\"#DejaVuSans-49\"/>\n      <use x=\"1314.060547\" xlink:href=\"#DejaVuSans-45\"/>\n      <use x=\"1350.144531\" xlink:href=\"#DejaVuSans-69\"/>\n      <use x=\"1413.328125\" xlink:href=\"#DejaVuSans-115\"/>\n      <use x=\"1465.427734\" xlink:href=\"#DejaVuSans-112\"/>\n      <use x=\"1528.904297\" xlink:href=\"#DejaVuSans-101\"/>\n      <use x=\"1590.427734\" xlink:href=\"#DejaVuSans-99\"/>\n      <use x=\"1645.408203\" xlink:href=\"#DejaVuSans-105\"/>\n      <use x=\"1673.191406\" xlink:href=\"#DejaVuSans-102\"/>\n      <use x=\"1708.396484\" xlink:href=\"#DejaVuSans-105\"/>\n      <use x=\"1736.179688\" xlink:href=\"#DejaVuSans-99\"/>\n      <use x=\"1791.160156\" xlink:href=\"#DejaVuSans-105\"/>\n      <use x=\"1818.943359\" xlink:href=\"#DejaVuSans-100\"/>\n      <use x=\"1882.419922\" xlink:href=\"#DejaVuSans-97\"/>\n      <use x=\"1943.699219\" xlink:href=\"#DejaVuSans-100\"/>\n      <use x=\"2007.175781\" xlink:href=\"#DejaVuSans-41\"/>\n     </g>\n    </g>\n   </g>\n   <g id=\"matplotlib.axis_2\">\n    <g id=\"ytick_1\">\n     <g id=\"line2d_7\">\n      <path clip-path=\"url(#p038dfa7e3e)\" d=\"M 90.384375 239.758125 \nL 425.184375 239.758125 \n\" style=\"fill:none;stroke:#cccccc;stroke-linecap:round;stroke-width:0.8;\"/>\n     </g>\n     <g id=\"text_8\">\n      <!-- 0.0 -->\n      <g style=\"fill:#262626;\" transform=\"translate(67.48125 243.557344)scale(0.1 -0.1)\">\n       <use xlink:href=\"#DejaVuSans-48\"/>\n       <use x=\"63.623047\" xlink:href=\"#DejaVuSans-46\"/>\n       <use x=\"95.410156\" xlink:href=\"#DejaVuSans-48\"/>\n      </g>\n     </g>\n    </g>\n    <g id=\"ytick_2\">\n     <g id=\"line2d_8\">\n      <path clip-path=\"url(#p038dfa7e3e)\" d=\"M 90.384375 196.270125 \nL 425.184375 196.270125 \n\" style=\"fill:none;stroke:#cccccc;stroke-linecap:round;stroke-width:0.8;\"/>\n     </g>\n     <g id=\"text_9\">\n      <!-- 0.2 -->\n      <g style=\"fill:#262626;\" transform=\"translate(67.48125 200.069344)scale(0.1 -0.1)\">\n       <use xlink:href=\"#DejaVuSans-48\"/>\n       <use x=\"63.623047\" xlink:href=\"#DejaVuSans-46\"/>\n       <use x=\"95.410156\" xlink:href=\"#DejaVuSans-50\"/>\n      </g>\n     </g>\n    </g>\n    <g id=\"ytick_3\">\n     <g id=\"line2d_9\">\n      <path clip-path=\"url(#p038dfa7e3e)\" d=\"M 90.384375 152.782125 \nL 425.184375 152.782125 \n\" style=\"fill:none;stroke:#cccccc;stroke-linecap:round;stroke-width:0.8;\"/>\n     </g>\n     <g id=\"text_10\">\n      <!-- 0.4 -->\n      <g style=\"fill:#262626;\" transform=\"translate(67.48125 156.581344)scale(0.1 -0.1)\">\n       <use xlink:href=\"#DejaVuSans-48\"/>\n       <use x=\"63.623047\" xlink:href=\"#DejaVuSans-46\"/>\n       <use x=\"95.410156\" xlink:href=\"#DejaVuSans-52\"/>\n      </g>\n     </g>\n    </g>\n    <g id=\"ytick_4\">\n     <g id=\"line2d_10\">\n      <path clip-path=\"url(#p038dfa7e3e)\" d=\"M 90.384375 109.294125 \nL 425.184375 109.294125 \n\" style=\"fill:none;stroke:#cccccc;stroke-linecap:round;stroke-width:0.8;\"/>\n     </g>\n     <g id=\"text_11\">\n      <!-- 0.6 -->\n      <g style=\"fill:#262626;\" transform=\"translate(67.48125 113.093344)scale(0.1 -0.1)\">\n       <use xlink:href=\"#DejaVuSans-48\"/>\n       <use x=\"63.623047\" xlink:href=\"#DejaVuSans-46\"/>\n       <use x=\"95.410156\" xlink:href=\"#DejaVuSans-54\"/>\n      </g>\n     </g>\n    </g>\n    <g id=\"ytick_5\">\n     <g id=\"line2d_11\">\n      <path clip-path=\"url(#p038dfa7e3e)\" d=\"M 90.384375 65.806125 \nL 425.184375 65.806125 \n\" style=\"fill:none;stroke:#cccccc;stroke-linecap:round;stroke-width:0.8;\"/>\n     </g>\n     <g id=\"text_12\">\n      <!-- 0.8 -->\n      <g style=\"fill:#262626;\" transform=\"translate(67.48125 69.605344)scale(0.1 -0.1)\">\n       <use xlink:href=\"#DejaVuSans-48\"/>\n       <use x=\"63.623047\" xlink:href=\"#DejaVuSans-46\"/>\n       <use x=\"95.410156\" xlink:href=\"#DejaVuSans-56\"/>\n      </g>\n     </g>\n    </g>\n    <g id=\"ytick_6\">\n     <g id=\"line2d_12\">\n      <path clip-path=\"url(#p038dfa7e3e)\" d=\"M 90.384375 22.318125 \nL 425.184375 22.318125 \n\" style=\"fill:none;stroke:#cccccc;stroke-linecap:round;stroke-width:0.8;\"/>\n     </g>\n     <g id=\"text_13\">\n      <!-- 1.0 -->\n      <g style=\"fill:#262626;\" transform=\"translate(67.48125 26.117344)scale(0.1 -0.1)\">\n       <use xlink:href=\"#DejaVuSans-49\"/>\n       <use x=\"63.623047\" xlink:href=\"#DejaVuSans-46\"/>\n       <use x=\"95.410156\" xlink:href=\"#DejaVuSans-48\"/>\n      </g>\n     </g>\n    </g>\n    <g id=\"text_14\">\n     <!-- Tasa de Verdaderos Positivos (Sensitividad) -->\n     <defs>\n      <path d=\"M 28.609375 0 \nL 0.78125 72.90625 \nL 11.078125 72.90625 \nL 34.1875 11.53125 \nL 57.328125 72.90625 \nL 67.578125 72.90625 \nL 39.796875 0 \nz\n\" id=\"DejaVuSans-86\"/>\n      <path d=\"M 41.109375 46.296875 \nQ 39.59375 47.171875 37.8125 47.578125 \nQ 36.03125 48 33.890625 48 \nQ 26.265625 48 22.1875 43.046875 \nQ 18.109375 38.09375 18.109375 28.8125 \nL 18.109375 0 \nL 9.078125 0 \nL 9.078125 54.6875 \nL 18.109375 54.6875 \nL 18.109375 46.1875 \nQ 20.953125 51.171875 25.484375 53.578125 \nQ 30.03125 56 36.53125 56 \nQ 37.453125 56 38.578125 55.875 \nQ 39.703125 55.765625 41.0625 55.515625 \nz\n\" id=\"DejaVuSans-114\"/>\n      <path d=\"M 53.515625 70.515625 \nL 53.515625 60.890625 \nQ 47.90625 63.578125 42.921875 64.890625 \nQ 37.9375 66.21875 33.296875 66.21875 \nQ 25.25 66.21875 20.875 63.09375 \nQ 16.5 59.96875 16.5 54.203125 \nQ 16.5 49.359375 19.40625 46.890625 \nQ 22.3125 44.4375 30.421875 42.921875 \nL 36.375 41.703125 \nQ 47.40625 39.59375 52.65625 34.296875 \nQ 57.90625 29 57.90625 20.125 \nQ 57.90625 9.515625 50.796875 4.046875 \nQ 43.703125 -1.421875 29.984375 -1.421875 \nQ 24.8125 -1.421875 18.96875 -0.25 \nQ 13.140625 0.921875 6.890625 3.21875 \nL 6.890625 13.375 \nQ 12.890625 10.015625 18.65625 8.296875 \nQ 24.421875 6.59375 29.984375 6.59375 \nQ 38.421875 6.59375 43.015625 9.90625 \nQ 47.609375 13.234375 47.609375 19.390625 \nQ 47.609375 24.75 44.3125 27.78125 \nQ 41.015625 30.8125 33.5 32.328125 \nL 27.484375 33.5 \nQ 16.453125 35.6875 11.515625 40.375 \nQ 6.59375 45.0625 6.59375 53.421875 \nQ 6.59375 63.09375 13.40625 68.65625 \nQ 20.21875 74.21875 32.171875 74.21875 \nQ 37.3125 74.21875 42.625 73.28125 \nQ 47.953125 72.359375 53.515625 70.515625 \nz\n\" id=\"DejaVuSans-83\"/>\n      <path d=\"M 54.890625 33.015625 \nL 54.890625 0 \nL 45.90625 0 \nL 45.90625 32.71875 \nQ 45.90625 40.484375 42.875 44.328125 \nQ 39.84375 48.1875 33.796875 48.1875 \nQ 26.515625 48.1875 22.3125 43.546875 \nQ 18.109375 38.921875 18.109375 30.90625 \nL 18.109375 0 \nL 9.078125 0 \nL 9.078125 54.6875 \nL 18.109375 54.6875 \nL 18.109375 46.1875 \nQ 21.34375 51.125 25.703125 53.5625 \nQ 30.078125 56 35.796875 56 \nQ 45.21875 56 50.046875 50.171875 \nQ 54.890625 44.34375 54.890625 33.015625 \nz\n\" id=\"DejaVuSans-110\"/>\n     </defs>\n     <g style=\"fill:#262626;\" transform=\"translate(61.401562 239.064687)rotate(-90)scale(0.1 -0.1)\">\n      <use xlink:href=\"#DejaVuSans-84\"/>\n      <use x=\"44.583984\" xlink:href=\"#DejaVuSans-97\"/>\n      <use x=\"105.863281\" xlink:href=\"#DejaVuSans-115\"/>\n      <use x=\"157.962891\" xlink:href=\"#DejaVuSans-97\"/>\n      <use x=\"219.242188\" xlink:href=\"#DejaVuSans-32\"/>\n      <use x=\"251.029297\" xlink:href=\"#DejaVuSans-100\"/>\n      <use x=\"314.505859\" xlink:href=\"#DejaVuSans-101\"/>\n      <use x=\"376.029297\" xlink:href=\"#DejaVuSans-32\"/>\n      <use x=\"407.816406\" xlink:href=\"#DejaVuSans-86\"/>\n      <use x=\"468.474609\" xlink:href=\"#DejaVuSans-101\"/>\n      <use x=\"529.998047\" xlink:href=\"#DejaVuSans-114\"/>\n      <use x=\"569.361328\" xlink:href=\"#DejaVuSans-100\"/>\n      <use x=\"632.837891\" xlink:href=\"#DejaVuSans-97\"/>\n      <use x=\"694.117188\" xlink:href=\"#DejaVuSans-100\"/>\n      <use x=\"757.59375\" xlink:href=\"#DejaVuSans-101\"/>\n      <use x=\"819.117188\" xlink:href=\"#DejaVuSans-114\"/>\n      <use x=\"857.980469\" xlink:href=\"#DejaVuSans-111\"/>\n      <use x=\"919.162109\" xlink:href=\"#DejaVuSans-115\"/>\n      <use x=\"971.261719\" xlink:href=\"#DejaVuSans-32\"/>\n      <use x=\"1003.048828\" xlink:href=\"#DejaVuSans-80\"/>\n      <use x=\"1059.726562\" xlink:href=\"#DejaVuSans-111\"/>\n      <use x=\"1120.908203\" xlink:href=\"#DejaVuSans-115\"/>\n      <use x=\"1173.007812\" xlink:href=\"#DejaVuSans-105\"/>\n      <use x=\"1200.791016\" xlink:href=\"#DejaVuSans-116\"/>\n      <use x=\"1240\" xlink:href=\"#DejaVuSans-105\"/>\n      <use x=\"1267.783203\" xlink:href=\"#DejaVuSans-118\"/>\n      <use x=\"1326.962891\" xlink:href=\"#DejaVuSans-111\"/>\n      <use x=\"1388.144531\" xlink:href=\"#DejaVuSans-115\"/>\n      <use x=\"1440.244141\" xlink:href=\"#DejaVuSans-32\"/>\n      <use x=\"1472.03125\" xlink:href=\"#DejaVuSans-40\"/>\n      <use x=\"1511.044922\" xlink:href=\"#DejaVuSans-83\"/>\n      <use x=\"1574.521484\" xlink:href=\"#DejaVuSans-101\"/>\n      <use x=\"1636.044922\" xlink:href=\"#DejaVuSans-110\"/>\n      <use x=\"1699.423828\" xlink:href=\"#DejaVuSans-115\"/>\n      <use x=\"1751.523438\" xlink:href=\"#DejaVuSans-105\"/>\n      <use x=\"1779.306641\" xlink:href=\"#DejaVuSans-116\"/>\n      <use x=\"1818.515625\" xlink:href=\"#DejaVuSans-105\"/>\n      <use x=\"1846.298828\" xlink:href=\"#DejaVuSans-118\"/>\n      <use x=\"1905.478516\" xlink:href=\"#DejaVuSans-105\"/>\n      <use x=\"1933.261719\" xlink:href=\"#DejaVuSans-100\"/>\n      <use x=\"1996.738281\" xlink:href=\"#DejaVuSans-97\"/>\n      <use x=\"2058.017578\" xlink:href=\"#DejaVuSans-100\"/>\n      <use x=\"2121.494141\" xlink:href=\"#DejaVuSans-41\"/>\n     </g>\n    </g>\n   </g>\n   <g id=\"line2d_13\">\n    <path clip-path=\"url(#p038dfa7e3e)\" d=\"M 90.384375 239.758125 \nL 209.807508 69.444797 \nL 425.184375 22.318125 \n\" style=\"fill:none;stroke:#1f77b4;stroke-linecap:round;stroke-width:1.5;\"/>\n   </g>\n   <g id=\"line2d_14\">\n    <path clip-path=\"url(#p038dfa7e3e)\" d=\"M 90.384375 239.758125 \nL 178.214087 58.704846 \nL 425.184375 22.318125 \n\" style=\"fill:none;stroke:#ff7f0e;stroke-linecap:round;stroke-width:1.5;\"/>\n   </g>\n   <g id=\"line2d_15\">\n    <path clip-path=\"url(#p038dfa7e3e)\" d=\"M 90.384375 239.758125 \nL 159.889902 54.420603 \nL 425.184375 22.318125 \n\" style=\"fill:none;stroke:#2ca02c;stroke-linecap:round;stroke-width:1.5;\"/>\n   </g>\n   <g id=\"line2d_16\">\n    <path clip-path=\"url(#p038dfa7e3e)\" d=\"M 90.384375 239.758125 \nL 130.37262 39.102967 \nL 425.184375 22.318125 \n\" style=\"fill:none;stroke:#d62728;stroke-linecap:round;stroke-width:1.5;\"/>\n   </g>\n   <g id=\"line2d_17\">\n    <path clip-path=\"url(#p038dfa7e3e)\" d=\"M 90.384375 239.758125 \nL 118.36712 31.649558 \nL 425.184375 22.318125 \n\" style=\"fill:none;stroke:#9467bd;stroke-linecap:round;stroke-width:1.5;\"/>\n   </g>\n   <g id=\"patch_3\">\n    <path d=\"M 90.384375 239.758125 \nL 90.384375 22.318125 \n\" style=\"fill:none;stroke:#262626;stroke-linecap:square;stroke-linejoin:miter;stroke-width:0.8;\"/>\n   </g>\n   <g id=\"patch_4\">\n    <path d=\"M 425.184375 239.758125 \nL 425.184375 22.318125 \n\" style=\"fill:none;stroke:#262626;stroke-linecap:square;stroke-linejoin:miter;stroke-width:0.8;\"/>\n   </g>\n   <g id=\"patch_5\">\n    <path d=\"M 90.384375 239.758125 \nL 425.184375 239.758125 \n\" style=\"fill:none;stroke:#262626;stroke-linecap:square;stroke-linejoin:miter;stroke-width:0.8;\"/>\n   </g>\n   <g id=\"patch_6\">\n    <path d=\"M 90.384375 22.318125 \nL 425.184375 22.318125 \n\" style=\"fill:none;stroke:#262626;stroke-linecap:square;stroke-linejoin:miter;stroke-width:0.8;\"/>\n   </g>\n   <g id=\"text_15\">\n    <!-- Curva ROC para Caso A: 1 Capa escondida:5(b),10(y),20(g),50(r),100(m),neuronas. -->\n    <defs>\n     <path d=\"M 64.40625 67.28125 \nL 64.40625 56.890625 \nQ 59.421875 61.53125 53.78125 63.8125 \nQ 48.140625 66.109375 41.796875 66.109375 \nQ 29.296875 66.109375 22.65625 58.46875 \nQ 16.015625 50.828125 16.015625 36.375 \nQ 16.015625 21.96875 22.65625 14.328125 \nQ 29.296875 6.6875 41.796875 6.6875 \nQ 48.140625 6.6875 53.78125 8.984375 \nQ 59.421875 11.28125 64.40625 15.921875 \nL 64.40625 5.609375 \nQ 59.234375 2.09375 53.4375 0.328125 \nQ 47.65625 -1.421875 41.21875 -1.421875 \nQ 24.65625 -1.421875 15.125 8.703125 \nQ 5.609375 18.84375 5.609375 36.375 \nQ 5.609375 53.953125 15.125 64.078125 \nQ 24.65625 74.21875 41.21875 74.21875 \nQ 47.75 74.21875 53.53125 72.484375 \nQ 59.328125 70.75 64.40625 67.28125 \nz\n\" id=\"DejaVuSans-67\"/>\n     <path d=\"M 8.5 21.578125 \nL 8.5 54.6875 \nL 17.484375 54.6875 \nL 17.484375 21.921875 \nQ 17.484375 14.15625 20.5 10.265625 \nQ 23.53125 6.390625 29.59375 6.390625 \nQ 36.859375 6.390625 41.078125 11.03125 \nQ 45.3125 15.671875 45.3125 23.6875 \nL 45.3125 54.6875 \nL 54.296875 54.6875 \nL 54.296875 0 \nL 45.3125 0 \nL 45.3125 8.40625 \nQ 42.046875 3.421875 37.71875 1 \nQ 33.40625 -1.421875 27.6875 -1.421875 \nQ 18.265625 -1.421875 13.375 4.4375 \nQ 8.5 10.296875 8.5 21.578125 \nz\nM 31.109375 56 \nz\n\" id=\"DejaVuSans-117\"/>\n     <path d=\"M 44.390625 34.1875 \nQ 47.5625 33.109375 50.5625 29.59375 \nQ 53.5625 26.078125 56.59375 19.921875 \nL 66.609375 0 \nL 56 0 \nL 46.6875 18.703125 \nQ 43.0625 26.03125 39.671875 28.421875 \nQ 36.28125 30.8125 30.421875 30.8125 \nL 19.671875 30.8125 \nL 19.671875 0 \nL 9.8125 0 \nL 9.8125 72.90625 \nL 32.078125 72.90625 \nQ 44.578125 72.90625 50.734375 67.671875 \nQ 56.890625 62.453125 56.890625 51.90625 \nQ 56.890625 45.015625 53.6875 40.46875 \nQ 50.484375 35.9375 44.390625 34.1875 \nz\nM 19.671875 64.796875 \nL 19.671875 38.921875 \nL 32.078125 38.921875 \nQ 39.203125 38.921875 42.84375 42.21875 \nQ 46.484375 45.515625 46.484375 51.90625 \nQ 46.484375 58.296875 42.84375 61.546875 \nQ 39.203125 64.796875 32.078125 64.796875 \nz\n\" id=\"DejaVuSans-82\"/>\n     <path d=\"M 39.40625 66.21875 \nQ 28.65625 66.21875 22.328125 58.203125 \nQ 16.015625 50.203125 16.015625 36.375 \nQ 16.015625 22.609375 22.328125 14.59375 \nQ 28.65625 6.59375 39.40625 6.59375 \nQ 50.140625 6.59375 56.421875 14.59375 \nQ 62.703125 22.609375 62.703125 36.375 \nQ 62.703125 50.203125 56.421875 58.203125 \nQ 50.140625 66.21875 39.40625 66.21875 \nz\nM 39.40625 74.21875 \nQ 54.734375 74.21875 63.90625 63.9375 \nQ 73.09375 53.65625 73.09375 36.375 \nQ 73.09375 19.140625 63.90625 8.859375 \nQ 54.734375 -1.421875 39.40625 -1.421875 \nQ 24.03125 -1.421875 14.8125 8.828125 \nQ 5.609375 19.09375 5.609375 36.375 \nQ 5.609375 53.65625 14.8125 63.9375 \nQ 24.03125 74.21875 39.40625 74.21875 \nz\n\" id=\"DejaVuSans-79\"/>\n     <path d=\"M 34.1875 63.1875 \nL 20.796875 26.90625 \nL 47.609375 26.90625 \nz\nM 28.609375 72.90625 \nL 39.796875 72.90625 \nL 67.578125 0 \nL 57.328125 0 \nL 50.6875 18.703125 \nL 17.828125 18.703125 \nL 11.1875 0 \nL 0.78125 0 \nz\n\" id=\"DejaVuSans-65\"/>\n     <path d=\"M 11.71875 12.40625 \nL 22.015625 12.40625 \nL 22.015625 0 \nL 11.71875 0 \nz\nM 11.71875 51.703125 \nL 22.015625 51.703125 \nL 22.015625 39.3125 \nL 11.71875 39.3125 \nz\n\" id=\"DejaVuSans-58\"/>\n     <path d=\"M 10.796875 72.90625 \nL 49.515625 72.90625 \nL 49.515625 64.59375 \nL 19.828125 64.59375 \nL 19.828125 46.734375 \nQ 21.96875 47.46875 24.109375 47.828125 \nQ 26.265625 48.1875 28.421875 48.1875 \nQ 40.625 48.1875 47.75 41.5 \nQ 54.890625 34.8125 54.890625 23.390625 \nQ 54.890625 11.625 47.5625 5.09375 \nQ 40.234375 -1.421875 26.90625 -1.421875 \nQ 22.3125 -1.421875 17.546875 -0.640625 \nQ 12.796875 0.140625 7.71875 1.703125 \nL 7.71875 11.625 \nQ 12.109375 9.234375 16.796875 8.0625 \nQ 21.484375 6.890625 26.703125 6.890625 \nQ 35.15625 6.890625 40.078125 11.328125 \nQ 45.015625 15.765625 45.015625 23.390625 \nQ 45.015625 31 40.078125 35.4375 \nQ 35.15625 39.890625 26.703125 39.890625 \nQ 22.75 39.890625 18.8125 39.015625 \nQ 14.890625 38.140625 10.796875 36.28125 \nz\n\" id=\"DejaVuSans-53\"/>\n     <path d=\"M 48.6875 27.296875 \nQ 48.6875 37.203125 44.609375 42.84375 \nQ 40.53125 48.484375 33.40625 48.484375 \nQ 26.265625 48.484375 22.1875 42.84375 \nQ 18.109375 37.203125 18.109375 27.296875 \nQ 18.109375 17.390625 22.1875 11.75 \nQ 26.265625 6.109375 33.40625 6.109375 \nQ 40.53125 6.109375 44.609375 11.75 \nQ 48.6875 17.390625 48.6875 27.296875 \nz\nM 18.109375 46.390625 \nQ 20.953125 51.265625 25.265625 53.625 \nQ 29.59375 56 35.59375 56 \nQ 45.5625 56 51.78125 48.09375 \nQ 58.015625 40.1875 58.015625 27.296875 \nQ 58.015625 14.40625 51.78125 6.484375 \nQ 45.5625 -1.421875 35.59375 -1.421875 \nQ 29.59375 -1.421875 25.265625 0.953125 \nQ 20.953125 3.328125 18.109375 8.203125 \nL 18.109375 0 \nL 9.078125 0 \nL 9.078125 75.984375 \nL 18.109375 75.984375 \nz\n\" id=\"DejaVuSans-98\"/>\n     <path d=\"M 11.71875 12.40625 \nL 22.015625 12.40625 \nL 22.015625 4 \nL 14.015625 -11.625 \nL 7.71875 -11.625 \nL 11.71875 4 \nz\n\" id=\"DejaVuSans-44\"/>\n     <path d=\"M 32.171875 -5.078125 \nQ 28.375 -14.84375 24.75 -17.8125 \nQ 21.140625 -20.796875 15.09375 -20.796875 \nL 7.90625 -20.796875 \nL 7.90625 -13.28125 \nL 13.1875 -13.28125 \nQ 16.890625 -13.28125 18.9375 -11.515625 \nQ 21 -9.765625 23.484375 -3.21875 \nL 25.09375 0.875 \nL 2.984375 54.6875 \nL 12.5 54.6875 \nL 29.59375 11.921875 \nL 46.6875 54.6875 \nL 56.203125 54.6875 \nz\n\" id=\"DejaVuSans-121\"/>\n     <path d=\"M 45.40625 27.984375 \nQ 45.40625 37.75 41.375 43.109375 \nQ 37.359375 48.484375 30.078125 48.484375 \nQ 22.859375 48.484375 18.828125 43.109375 \nQ 14.796875 37.75 14.796875 27.984375 \nQ 14.796875 18.265625 18.828125 12.890625 \nQ 22.859375 7.515625 30.078125 7.515625 \nQ 37.359375 7.515625 41.375 12.890625 \nQ 45.40625 18.265625 45.40625 27.984375 \nz\nM 54.390625 6.78125 \nQ 54.390625 -7.171875 48.1875 -13.984375 \nQ 42 -20.796875 29.203125 -20.796875 \nQ 24.46875 -20.796875 20.265625 -20.09375 \nQ 16.0625 -19.390625 12.109375 -17.921875 \nL 12.109375 -9.1875 \nQ 16.0625 -11.328125 19.921875 -12.34375 \nQ 23.78125 -13.375 27.78125 -13.375 \nQ 36.625 -13.375 41.015625 -8.765625 \nQ 45.40625 -4.15625 45.40625 5.171875 \nL 45.40625 9.625 \nQ 42.625 4.78125 38.28125 2.390625 \nQ 33.9375 0 27.875 0 \nQ 17.828125 0 11.671875 7.65625 \nQ 5.515625 15.328125 5.515625 27.984375 \nQ 5.515625 40.671875 11.671875 48.328125 \nQ 17.828125 56 27.875 56 \nQ 33.9375 56 38.28125 53.609375 \nQ 42.625 51.21875 45.40625 46.390625 \nL 45.40625 54.6875 \nL 54.390625 54.6875 \nz\n\" id=\"DejaVuSans-103\"/>\n     <path d=\"M 52 44.1875 \nQ 55.375 50.25 60.0625 53.125 \nQ 64.75 56 71.09375 56 \nQ 79.640625 56 84.28125 50.015625 \nQ 88.921875 44.046875 88.921875 33.015625 \nL 88.921875 0 \nL 79.890625 0 \nL 79.890625 32.71875 \nQ 79.890625 40.578125 77.09375 44.375 \nQ 74.3125 48.1875 68.609375 48.1875 \nQ 61.625 48.1875 57.5625 43.546875 \nQ 53.515625 38.921875 53.515625 30.90625 \nL 53.515625 0 \nL 44.484375 0 \nL 44.484375 32.71875 \nQ 44.484375 40.625 41.703125 44.40625 \nQ 38.921875 48.1875 33.109375 48.1875 \nQ 26.21875 48.1875 22.15625 43.53125 \nQ 18.109375 38.875 18.109375 30.90625 \nL 18.109375 0 \nL 9.078125 0 \nL 9.078125 54.6875 \nL 18.109375 54.6875 \nL 18.109375 46.1875 \nQ 21.1875 51.21875 25.484375 53.609375 \nQ 29.78125 56 35.6875 56 \nQ 41.65625 56 45.828125 52.96875 \nQ 50 49.953125 52 44.1875 \nz\n\" id=\"DejaVuSans-109\"/>\n    </defs>\n    <g style=\"fill:#262626;\" transform=\"translate(7.2 16.318125)scale(0.12 -0.12)\">\n     <use xlink:href=\"#DejaVuSans-67\"/>\n     <use x=\"69.824219\" xlink:href=\"#DejaVuSans-117\"/>\n     <use x=\"133.203125\" xlink:href=\"#DejaVuSans-114\"/>\n     <use x=\"174.316406\" xlink:href=\"#DejaVuSans-118\"/>\n     <use x=\"233.496094\" xlink:href=\"#DejaVuSans-97\"/>\n     <use x=\"294.775391\" xlink:href=\"#DejaVuSans-32\"/>\n     <use x=\"326.5625\" xlink:href=\"#DejaVuSans-82\"/>\n     <use x=\"396.044922\" xlink:href=\"#DejaVuSans-79\"/>\n     <use x=\"474.755859\" xlink:href=\"#DejaVuSans-67\"/>\n     <use x=\"544.580078\" xlink:href=\"#DejaVuSans-32\"/>\n     <use x=\"576.367188\" xlink:href=\"#DejaVuSans-112\"/>\n     <use x=\"639.84375\" xlink:href=\"#DejaVuSans-97\"/>\n     <use x=\"701.123047\" xlink:href=\"#DejaVuSans-114\"/>\n     <use x=\"742.236328\" xlink:href=\"#DejaVuSans-97\"/>\n     <use x=\"803.515625\" xlink:href=\"#DejaVuSans-32\"/>\n     <use x=\"835.302734\" xlink:href=\"#DejaVuSans-67\"/>\n     <use x=\"905.126953\" xlink:href=\"#DejaVuSans-97\"/>\n     <use x=\"966.40625\" xlink:href=\"#DejaVuSans-115\"/>\n     <use x=\"1018.505859\" xlink:href=\"#DejaVuSans-111\"/>\n     <use x=\"1079.6875\" xlink:href=\"#DejaVuSans-32\"/>\n     <use x=\"1111.474609\" xlink:href=\"#DejaVuSans-65\"/>\n     <use x=\"1178.132812\" xlink:href=\"#DejaVuSans-58\"/>\n     <use x=\"1211.824219\" xlink:href=\"#DejaVuSans-32\"/>\n     <use x=\"1243.611328\" xlink:href=\"#DejaVuSans-49\"/>\n     <use x=\"1307.234375\" xlink:href=\"#DejaVuSans-32\"/>\n     <use x=\"1339.021484\" xlink:href=\"#DejaVuSans-67\"/>\n     <use x=\"1408.845703\" xlink:href=\"#DejaVuSans-97\"/>\n     <use x=\"1470.125\" xlink:href=\"#DejaVuSans-112\"/>\n     <use x=\"1533.601562\" xlink:href=\"#DejaVuSans-97\"/>\n     <use x=\"1594.880859\" xlink:href=\"#DejaVuSans-32\"/>\n     <use x=\"1626.667969\" xlink:href=\"#DejaVuSans-101\"/>\n     <use x=\"1688.191406\" xlink:href=\"#DejaVuSans-115\"/>\n     <use x=\"1740.291016\" xlink:href=\"#DejaVuSans-99\"/>\n     <use x=\"1795.271484\" xlink:href=\"#DejaVuSans-111\"/>\n     <use x=\"1856.453125\" xlink:href=\"#DejaVuSans-110\"/>\n     <use x=\"1919.832031\" xlink:href=\"#DejaVuSans-100\"/>\n     <use x=\"1983.308594\" xlink:href=\"#DejaVuSans-105\"/>\n     <use x=\"2011.091797\" xlink:href=\"#DejaVuSans-100\"/>\n     <use x=\"2074.568359\" xlink:href=\"#DejaVuSans-97\"/>\n     <use x=\"2135.847656\" xlink:href=\"#DejaVuSans-58\"/>\n     <use x=\"2169.539062\" xlink:href=\"#DejaVuSans-53\"/>\n     <use x=\"2233.162109\" xlink:href=\"#DejaVuSans-40\"/>\n     <use x=\"2272.175781\" xlink:href=\"#DejaVuSans-98\"/>\n     <use x=\"2335.652344\" xlink:href=\"#DejaVuSans-41\"/>\n     <use x=\"2374.666016\" xlink:href=\"#DejaVuSans-44\"/>\n     <use x=\"2406.453125\" xlink:href=\"#DejaVuSans-49\"/>\n     <use x=\"2470.076172\" xlink:href=\"#DejaVuSans-48\"/>\n     <use x=\"2533.699219\" xlink:href=\"#DejaVuSans-40\"/>\n     <use x=\"2572.712891\" xlink:href=\"#DejaVuSans-121\"/>\n     <use x=\"2631.892578\" xlink:href=\"#DejaVuSans-41\"/>\n     <use x=\"2670.90625\" xlink:href=\"#DejaVuSans-44\"/>\n     <use x=\"2702.693359\" xlink:href=\"#DejaVuSans-50\"/>\n     <use x=\"2766.316406\" xlink:href=\"#DejaVuSans-48\"/>\n     <use x=\"2829.939453\" xlink:href=\"#DejaVuSans-40\"/>\n     <use x=\"2868.953125\" xlink:href=\"#DejaVuSans-103\"/>\n     <use x=\"2932.429688\" xlink:href=\"#DejaVuSans-41\"/>\n     <use x=\"2971.443359\" xlink:href=\"#DejaVuSans-44\"/>\n     <use x=\"3003.230469\" xlink:href=\"#DejaVuSans-53\"/>\n     <use x=\"3066.853516\" xlink:href=\"#DejaVuSans-48\"/>\n     <use x=\"3130.476562\" xlink:href=\"#DejaVuSans-40\"/>\n     <use x=\"3169.490234\" xlink:href=\"#DejaVuSans-114\"/>\n     <use x=\"3210.603516\" xlink:href=\"#DejaVuSans-41\"/>\n     <use x=\"3249.617188\" xlink:href=\"#DejaVuSans-44\"/>\n     <use x=\"3281.404297\" xlink:href=\"#DejaVuSans-49\"/>\n     <use x=\"3345.027344\" xlink:href=\"#DejaVuSans-48\"/>\n     <use x=\"3408.650391\" xlink:href=\"#DejaVuSans-48\"/>\n     <use x=\"3472.273438\" xlink:href=\"#DejaVuSans-40\"/>\n     <use x=\"3511.287109\" xlink:href=\"#DejaVuSans-109\"/>\n     <use x=\"3608.699219\" xlink:href=\"#DejaVuSans-41\"/>\n     <use x=\"3647.712891\" xlink:href=\"#DejaVuSans-44\"/>\n     <use x=\"3679.5\" xlink:href=\"#DejaVuSans-110\"/>\n     <use x=\"3742.878906\" xlink:href=\"#DejaVuSans-101\"/>\n     <use x=\"3804.402344\" xlink:href=\"#DejaVuSans-117\"/>\n     <use x=\"3867.78125\" xlink:href=\"#DejaVuSans-114\"/>\n     <use x=\"3906.644531\" xlink:href=\"#DejaVuSans-111\"/>\n     <use x=\"3967.826172\" xlink:href=\"#DejaVuSans-110\"/>\n     <use x=\"4031.205078\" xlink:href=\"#DejaVuSans-97\"/>\n     <use x=\"4092.484375\" xlink:href=\"#DejaVuSans-115\"/>\n     <use x=\"4144.583984\" xlink:href=\"#DejaVuSans-46\"/>\n    </g>\n   </g>\n  </g>\n </g>\n <defs>\n  <clipPath id=\"p038dfa7e3e\">\n   <rect height=\"217.44\" width=\"334.8\" x=\"90.384375\" y=\"22.318125\"/>\n  </clipPath>\n </defs>\n</svg>\n"
          },
          "metadata": {}
        }
      ]
    },
    {
      "cell_type": "markdown",
      "metadata": {
        "id": "hvuySkaxL8oL"
      },
      "source": [
        "### Caso B"
      ]
    },
    {
      "cell_type": "code",
      "metadata": {
        "id": "E_fdERBmL8oL",
        "colab": {
          "base_uri": "https://localhost:8080/",
          "height": 818
        },
        "outputId": "e80c6135-46f3-49ef-c5cb-6f4ec1769114"
      },
      "source": [
        "# Caso B: 2 capas escondidas  ×  {5, 10, 20, 50, 100} neuronas #\n",
        "\n",
        "#import numpy as np\n",
        "from sklearn.model_selection import train_test_split\n",
        "\n",
        "X_valid, X_test2, y_valid, y_test2 = train_test_split( X_test, y_test, test_size=0.5, random_state=42)\n",
        "\n",
        "neuronas=[5,10,20,50,100]\n",
        "#neurona=0\n",
        "\n",
        "for i in neuronas:\n",
        "    model = MLPClassifier( hidden_layer_sizes=[i,i], activation='relu') ##\n",
        "    model.fit(X_valid,y_valid) # Acá se entrena con los datos de validación #\n",
        "    y_predict = model.predict(X_test2) #Acá y_predict se evalua con los datos test_2#\n",
        "    print (i)\n",
        "    print(f'Precisión con {round(i,5)} neuronas y dos capas escondidas {round(accuracy_score(y_test2, y_predict),5)}')\n",
        "    print(pd.DataFrame(confusion_matrix(y_test2,y_predict)))\n",
        "     # Grafica ROC\n",
        "    fpr, tpr, thresholds = roc_curve(y_test2,y_predict)\n",
        "    plt.plot(fpr,tpr)\n",
        "    plt.xlim([0.0, 1.0])\n",
        "    plt.ylim([0.0, 1.0])\n",
        "    plt.title('Curva ROC para Caso A: 2 Capas escondidas:5(b),10(y),20(g),50(r),100(m),neuronas.')\n",
        "    plt.xlabel('Tasa de Falsos Positivos (1-Especificidad)')\n",
        "    plt.ylabel('Tasa de Verdaderos Positivos (Sensitividad)')\n",
        "    plt.grid(True)\n",
        "  \n",
        "      \n",
        "\n"
      ],
      "execution_count": 199,
      "outputs": [
        {
          "output_type": "stream",
          "name": "stdout",
          "text": [
            "5\n",
            "Precisión con 5 neuronas y dos capas escondidas 0.73199\n",
            "      0     1\n",
            "0  2396  1313\n",
            "1   674  3031\n",
            "10\n",
            "Precisión con 10 neuronas y dos capas escondidas 0.7823\n",
            "      0     1\n",
            "0  2774   935\n",
            "1   679  3026\n",
            "20\n",
            "Precisión con 20 neuronas y dos capas escondidas 0.88764\n",
            "      0     1\n",
            "0  3137   572\n",
            "1   261  3444\n",
            "50\n",
            "Precisión con 50 neuronas y dos capas escondidas 0.94295\n",
            "      0     1\n",
            "0  3380   329\n",
            "1    94  3611\n",
            "100\n",
            "Precisión con 100 neuronas y dos capas escondidas 0.94429\n",
            "      0     1\n",
            "0  3482   227\n",
            "1   186  3519\n"
          ]
        },
        {
          "output_type": "display_data",
          "data": {
            "text/plain": [
              "<Figure size 432x288 with 1 Axes>"
            ],
            "image/svg+xml": "<?xml version=\"1.0\" encoding=\"utf-8\" standalone=\"no\"?>\n<!DOCTYPE svg PUBLIC \"-//W3C//DTD SVG 1.1//EN\"\n  \"http://www.w3.org/Graphics/SVG/1.1/DTD/svg11.dtd\">\n<!-- Created with matplotlib (https://matplotlib.org/) -->\n<svg height=\"277.314375pt\" version=\"1.1\" viewBox=\"0 0 528.07125 277.314375\" width=\"528.07125pt\" xmlns=\"http://www.w3.org/2000/svg\" xmlns:xlink=\"http://www.w3.org/1999/xlink\">\n <defs>\n  <style type=\"text/css\">\n*{stroke-linecap:butt;stroke-linejoin:round;}\n  </style>\n </defs>\n <g id=\"figure_1\">\n  <g id=\"patch_1\">\n   <path d=\"M 0 277.314375 \nL 528.07125 277.314375 \nL 528.07125 0 \nL 0 0 \nz\n\" style=\"fill:#ffffff;\"/>\n  </g>\n  <g id=\"axes_1\">\n   <g id=\"patch_2\">\n    <path d=\"M 96.635625 239.758125 \nL 431.435625 239.758125 \nL 431.435625 22.318125 \nL 96.635625 22.318125 \nz\n\" style=\"fill:#ffffff;\"/>\n   </g>\n   <g id=\"matplotlib.axis_1\">\n    <g id=\"xtick_1\">\n     <g id=\"line2d_1\">\n      <path clip-path=\"url(#pf63bfdd11f)\" d=\"M 96.635625 239.758125 \nL 96.635625 22.318125 \n\" style=\"fill:none;stroke:#cccccc;stroke-linecap:round;stroke-width:0.8;\"/>\n     </g>\n     <g id=\"text_1\">\n      <!-- 0.0 -->\n      <defs>\n       <path d=\"M 31.78125 66.40625 \nQ 24.171875 66.40625 20.328125 58.90625 \nQ 16.5 51.421875 16.5 36.375 \nQ 16.5 21.390625 20.328125 13.890625 \nQ 24.171875 6.390625 31.78125 6.390625 \nQ 39.453125 6.390625 43.28125 13.890625 \nQ 47.125 21.390625 47.125 36.375 \nQ 47.125 51.421875 43.28125 58.90625 \nQ 39.453125 66.40625 31.78125 66.40625 \nz\nM 31.78125 74.21875 \nQ 44.046875 74.21875 50.515625 64.515625 \nQ 56.984375 54.828125 56.984375 36.375 \nQ 56.984375 17.96875 50.515625 8.265625 \nQ 44.046875 -1.421875 31.78125 -1.421875 \nQ 19.53125 -1.421875 13.0625 8.265625 \nQ 6.59375 17.96875 6.59375 36.375 \nQ 6.59375 54.828125 13.0625 64.515625 \nQ 19.53125 74.21875 31.78125 74.21875 \nz\n\" id=\"DejaVuSans-48\"/>\n       <path d=\"M 10.6875 12.40625 \nL 21 12.40625 \nL 21 0 \nL 10.6875 0 \nz\n\" id=\"DejaVuSans-46\"/>\n      </defs>\n      <g style=\"fill:#262626;\" transform=\"translate(88.684062 254.356562)scale(0.1 -0.1)\">\n       <use xlink:href=\"#DejaVuSans-48\"/>\n       <use x=\"63.623047\" xlink:href=\"#DejaVuSans-46\"/>\n       <use x=\"95.410156\" xlink:href=\"#DejaVuSans-48\"/>\n      </g>\n     </g>\n    </g>\n    <g id=\"xtick_2\">\n     <g id=\"line2d_2\">\n      <path clip-path=\"url(#pf63bfdd11f)\" d=\"M 163.595625 239.758125 \nL 163.595625 22.318125 \n\" style=\"fill:none;stroke:#cccccc;stroke-linecap:round;stroke-width:0.8;\"/>\n     </g>\n     <g id=\"text_2\">\n      <!-- 0.2 -->\n      <defs>\n       <path d=\"M 19.1875 8.296875 \nL 53.609375 8.296875 \nL 53.609375 0 \nL 7.328125 0 \nL 7.328125 8.296875 \nQ 12.9375 14.109375 22.625 23.890625 \nQ 32.328125 33.6875 34.8125 36.53125 \nQ 39.546875 41.84375 41.421875 45.53125 \nQ 43.3125 49.21875 43.3125 52.78125 \nQ 43.3125 58.59375 39.234375 62.25 \nQ 35.15625 65.921875 28.609375 65.921875 \nQ 23.96875 65.921875 18.8125 64.3125 \nQ 13.671875 62.703125 7.8125 59.421875 \nL 7.8125 69.390625 \nQ 13.765625 71.78125 18.9375 73 \nQ 24.125 74.21875 28.421875 74.21875 \nQ 39.75 74.21875 46.484375 68.546875 \nQ 53.21875 62.890625 53.21875 53.421875 \nQ 53.21875 48.921875 51.53125 44.890625 \nQ 49.859375 40.875 45.40625 35.40625 \nQ 44.1875 33.984375 37.640625 27.21875 \nQ 31.109375 20.453125 19.1875 8.296875 \nz\n\" id=\"DejaVuSans-50\"/>\n      </defs>\n      <g style=\"fill:#262626;\" transform=\"translate(155.644062 254.356562)scale(0.1 -0.1)\">\n       <use xlink:href=\"#DejaVuSans-48\"/>\n       <use x=\"63.623047\" xlink:href=\"#DejaVuSans-46\"/>\n       <use x=\"95.410156\" xlink:href=\"#DejaVuSans-50\"/>\n      </g>\n     </g>\n    </g>\n    <g id=\"xtick_3\">\n     <g id=\"line2d_3\">\n      <path clip-path=\"url(#pf63bfdd11f)\" d=\"M 230.555625 239.758125 \nL 230.555625 22.318125 \n\" style=\"fill:none;stroke:#cccccc;stroke-linecap:round;stroke-width:0.8;\"/>\n     </g>\n     <g id=\"text_3\">\n      <!-- 0.4 -->\n      <defs>\n       <path d=\"M 37.796875 64.3125 \nL 12.890625 25.390625 \nL 37.796875 25.390625 \nz\nM 35.203125 72.90625 \nL 47.609375 72.90625 \nL 47.609375 25.390625 \nL 58.015625 25.390625 \nL 58.015625 17.1875 \nL 47.609375 17.1875 \nL 47.609375 0 \nL 37.796875 0 \nL 37.796875 17.1875 \nL 4.890625 17.1875 \nL 4.890625 26.703125 \nz\n\" id=\"DejaVuSans-52\"/>\n      </defs>\n      <g style=\"fill:#262626;\" transform=\"translate(222.604063 254.356562)scale(0.1 -0.1)\">\n       <use xlink:href=\"#DejaVuSans-48\"/>\n       <use x=\"63.623047\" xlink:href=\"#DejaVuSans-46\"/>\n       <use x=\"95.410156\" xlink:href=\"#DejaVuSans-52\"/>\n      </g>\n     </g>\n    </g>\n    <g id=\"xtick_4\">\n     <g id=\"line2d_4\">\n      <path clip-path=\"url(#pf63bfdd11f)\" d=\"M 297.515625 239.758125 \nL 297.515625 22.318125 \n\" style=\"fill:none;stroke:#cccccc;stroke-linecap:round;stroke-width:0.8;\"/>\n     </g>\n     <g id=\"text_4\">\n      <!-- 0.6 -->\n      <defs>\n       <path d=\"M 33.015625 40.375 \nQ 26.375 40.375 22.484375 35.828125 \nQ 18.609375 31.296875 18.609375 23.390625 \nQ 18.609375 15.53125 22.484375 10.953125 \nQ 26.375 6.390625 33.015625 6.390625 \nQ 39.65625 6.390625 43.53125 10.953125 \nQ 47.40625 15.53125 47.40625 23.390625 \nQ 47.40625 31.296875 43.53125 35.828125 \nQ 39.65625 40.375 33.015625 40.375 \nz\nM 52.59375 71.296875 \nL 52.59375 62.3125 \nQ 48.875 64.0625 45.09375 64.984375 \nQ 41.3125 65.921875 37.59375 65.921875 \nQ 27.828125 65.921875 22.671875 59.328125 \nQ 17.53125 52.734375 16.796875 39.40625 \nQ 19.671875 43.65625 24.015625 45.921875 \nQ 28.375 48.1875 33.59375 48.1875 \nQ 44.578125 48.1875 50.953125 41.515625 \nQ 57.328125 34.859375 57.328125 23.390625 \nQ 57.328125 12.15625 50.6875 5.359375 \nQ 44.046875 -1.421875 33.015625 -1.421875 \nQ 20.359375 -1.421875 13.671875 8.265625 \nQ 6.984375 17.96875 6.984375 36.375 \nQ 6.984375 53.65625 15.1875 63.9375 \nQ 23.390625 74.21875 37.203125 74.21875 \nQ 40.921875 74.21875 44.703125 73.484375 \nQ 48.484375 72.75 52.59375 71.296875 \nz\n\" id=\"DejaVuSans-54\"/>\n      </defs>\n      <g style=\"fill:#262626;\" transform=\"translate(289.564063 254.356562)scale(0.1 -0.1)\">\n       <use xlink:href=\"#DejaVuSans-48\"/>\n       <use x=\"63.623047\" xlink:href=\"#DejaVuSans-46\"/>\n       <use x=\"95.410156\" xlink:href=\"#DejaVuSans-54\"/>\n      </g>\n     </g>\n    </g>\n    <g id=\"xtick_5\">\n     <g id=\"line2d_5\">\n      <path clip-path=\"url(#pf63bfdd11f)\" d=\"M 364.475625 239.758125 \nL 364.475625 22.318125 \n\" style=\"fill:none;stroke:#cccccc;stroke-linecap:round;stroke-width:0.8;\"/>\n     </g>\n     <g id=\"text_5\">\n      <!-- 0.8 -->\n      <defs>\n       <path d=\"M 31.78125 34.625 \nQ 24.75 34.625 20.71875 30.859375 \nQ 16.703125 27.09375 16.703125 20.515625 \nQ 16.703125 13.921875 20.71875 10.15625 \nQ 24.75 6.390625 31.78125 6.390625 \nQ 38.8125 6.390625 42.859375 10.171875 \nQ 46.921875 13.96875 46.921875 20.515625 \nQ 46.921875 27.09375 42.890625 30.859375 \nQ 38.875 34.625 31.78125 34.625 \nz\nM 21.921875 38.8125 \nQ 15.578125 40.375 12.03125 44.71875 \nQ 8.5 49.078125 8.5 55.328125 \nQ 8.5 64.0625 14.71875 69.140625 \nQ 20.953125 74.21875 31.78125 74.21875 \nQ 42.671875 74.21875 48.875 69.140625 \nQ 55.078125 64.0625 55.078125 55.328125 \nQ 55.078125 49.078125 51.53125 44.71875 \nQ 48 40.375 41.703125 38.8125 \nQ 48.828125 37.15625 52.796875 32.3125 \nQ 56.78125 27.484375 56.78125 20.515625 \nQ 56.78125 9.90625 50.3125 4.234375 \nQ 43.84375 -1.421875 31.78125 -1.421875 \nQ 19.734375 -1.421875 13.25 4.234375 \nQ 6.78125 9.90625 6.78125 20.515625 \nQ 6.78125 27.484375 10.78125 32.3125 \nQ 14.796875 37.15625 21.921875 38.8125 \nz\nM 18.3125 54.390625 \nQ 18.3125 48.734375 21.84375 45.5625 \nQ 25.390625 42.390625 31.78125 42.390625 \nQ 38.140625 42.390625 41.71875 45.5625 \nQ 45.3125 48.734375 45.3125 54.390625 \nQ 45.3125 60.0625 41.71875 63.234375 \nQ 38.140625 66.40625 31.78125 66.40625 \nQ 25.390625 66.40625 21.84375 63.234375 \nQ 18.3125 60.0625 18.3125 54.390625 \nz\n\" id=\"DejaVuSans-56\"/>\n      </defs>\n      <g style=\"fill:#262626;\" transform=\"translate(356.524063 254.356562)scale(0.1 -0.1)\">\n       <use xlink:href=\"#DejaVuSans-48\"/>\n       <use x=\"63.623047\" xlink:href=\"#DejaVuSans-46\"/>\n       <use x=\"95.410156\" xlink:href=\"#DejaVuSans-56\"/>\n      </g>\n     </g>\n    </g>\n    <g id=\"xtick_6\">\n     <g id=\"line2d_6\">\n      <path clip-path=\"url(#pf63bfdd11f)\" d=\"M 431.435625 239.758125 \nL 431.435625 22.318125 \n\" style=\"fill:none;stroke:#cccccc;stroke-linecap:round;stroke-width:0.8;\"/>\n     </g>\n     <g id=\"text_6\">\n      <!-- 1.0 -->\n      <defs>\n       <path d=\"M 12.40625 8.296875 \nL 28.515625 8.296875 \nL 28.515625 63.921875 \nL 10.984375 60.40625 \nL 10.984375 69.390625 \nL 28.421875 72.90625 \nL 38.28125 72.90625 \nL 38.28125 8.296875 \nL 54.390625 8.296875 \nL 54.390625 0 \nL 12.40625 0 \nz\n\" id=\"DejaVuSans-49\"/>\n      </defs>\n      <g style=\"fill:#262626;\" transform=\"translate(423.484063 254.356562)scale(0.1 -0.1)\">\n       <use xlink:href=\"#DejaVuSans-49\"/>\n       <use x=\"63.623047\" xlink:href=\"#DejaVuSans-46\"/>\n       <use x=\"95.410156\" xlink:href=\"#DejaVuSans-48\"/>\n      </g>\n     </g>\n    </g>\n    <g id=\"text_7\">\n     <!-- Tasa de Falsos Positivos (1-Especificidad) -->\n     <defs>\n      <path d=\"M -0.296875 72.90625 \nL 61.375 72.90625 \nL 61.375 64.59375 \nL 35.5 64.59375 \nL 35.5 0 \nL 25.59375 0 \nL 25.59375 64.59375 \nL -0.296875 64.59375 \nz\n\" id=\"DejaVuSans-84\"/>\n      <path d=\"M 34.28125 27.484375 \nQ 23.390625 27.484375 19.1875 25 \nQ 14.984375 22.515625 14.984375 16.5 \nQ 14.984375 11.71875 18.140625 8.90625 \nQ 21.296875 6.109375 26.703125 6.109375 \nQ 34.1875 6.109375 38.703125 11.40625 \nQ 43.21875 16.703125 43.21875 25.484375 \nL 43.21875 27.484375 \nz\nM 52.203125 31.203125 \nL 52.203125 0 \nL 43.21875 0 \nL 43.21875 8.296875 \nQ 40.140625 3.328125 35.546875 0.953125 \nQ 30.953125 -1.421875 24.3125 -1.421875 \nQ 15.921875 -1.421875 10.953125 3.296875 \nQ 6 8.015625 6 15.921875 \nQ 6 25.140625 12.171875 29.828125 \nQ 18.359375 34.515625 30.609375 34.515625 \nL 43.21875 34.515625 \nL 43.21875 35.40625 \nQ 43.21875 41.609375 39.140625 45 \nQ 35.0625 48.390625 27.6875 48.390625 \nQ 23 48.390625 18.546875 47.265625 \nQ 14.109375 46.140625 10.015625 43.890625 \nL 10.015625 52.203125 \nQ 14.9375 54.109375 19.578125 55.046875 \nQ 24.21875 56 28.609375 56 \nQ 40.484375 56 46.34375 49.84375 \nQ 52.203125 43.703125 52.203125 31.203125 \nz\n\" id=\"DejaVuSans-97\"/>\n      <path d=\"M 44.28125 53.078125 \nL 44.28125 44.578125 \nQ 40.484375 46.53125 36.375 47.5 \nQ 32.28125 48.484375 27.875 48.484375 \nQ 21.1875 48.484375 17.84375 46.4375 \nQ 14.5 44.390625 14.5 40.28125 \nQ 14.5 37.15625 16.890625 35.375 \nQ 19.28125 33.59375 26.515625 31.984375 \nL 29.59375 31.296875 \nQ 39.15625 29.25 43.1875 25.515625 \nQ 47.21875 21.78125 47.21875 15.09375 \nQ 47.21875 7.46875 41.1875 3.015625 \nQ 35.15625 -1.421875 24.609375 -1.421875 \nQ 20.21875 -1.421875 15.453125 -0.5625 \nQ 10.6875 0.296875 5.421875 2 \nL 5.421875 11.28125 \nQ 10.40625 8.6875 15.234375 7.390625 \nQ 20.0625 6.109375 24.8125 6.109375 \nQ 31.15625 6.109375 34.5625 8.28125 \nQ 37.984375 10.453125 37.984375 14.40625 \nQ 37.984375 18.0625 35.515625 20.015625 \nQ 33.0625 21.96875 24.703125 23.78125 \nL 21.578125 24.515625 \nQ 13.234375 26.265625 9.515625 29.90625 \nQ 5.8125 33.546875 5.8125 39.890625 \nQ 5.8125 47.609375 11.28125 51.796875 \nQ 16.75 56 26.8125 56 \nQ 31.78125 56 36.171875 55.265625 \nQ 40.578125 54.546875 44.28125 53.078125 \nz\n\" id=\"DejaVuSans-115\"/>\n      <path id=\"DejaVuSans-32\"/>\n      <path d=\"M 45.40625 46.390625 \nL 45.40625 75.984375 \nL 54.390625 75.984375 \nL 54.390625 0 \nL 45.40625 0 \nL 45.40625 8.203125 \nQ 42.578125 3.328125 38.25 0.953125 \nQ 33.9375 -1.421875 27.875 -1.421875 \nQ 17.96875 -1.421875 11.734375 6.484375 \nQ 5.515625 14.40625 5.515625 27.296875 \nQ 5.515625 40.1875 11.734375 48.09375 \nQ 17.96875 56 27.875 56 \nQ 33.9375 56 38.25 53.625 \nQ 42.578125 51.265625 45.40625 46.390625 \nz\nM 14.796875 27.296875 \nQ 14.796875 17.390625 18.875 11.75 \nQ 22.953125 6.109375 30.078125 6.109375 \nQ 37.203125 6.109375 41.296875 11.75 \nQ 45.40625 17.390625 45.40625 27.296875 \nQ 45.40625 37.203125 41.296875 42.84375 \nQ 37.203125 48.484375 30.078125 48.484375 \nQ 22.953125 48.484375 18.875 42.84375 \nQ 14.796875 37.203125 14.796875 27.296875 \nz\n\" id=\"DejaVuSans-100\"/>\n      <path d=\"M 56.203125 29.59375 \nL 56.203125 25.203125 \nL 14.890625 25.203125 \nQ 15.484375 15.921875 20.484375 11.0625 \nQ 25.484375 6.203125 34.421875 6.203125 \nQ 39.59375 6.203125 44.453125 7.46875 \nQ 49.3125 8.734375 54.109375 11.28125 \nL 54.109375 2.78125 \nQ 49.265625 0.734375 44.1875 -0.34375 \nQ 39.109375 -1.421875 33.890625 -1.421875 \nQ 20.796875 -1.421875 13.15625 6.1875 \nQ 5.515625 13.8125 5.515625 26.8125 \nQ 5.515625 40.234375 12.765625 48.109375 \nQ 20.015625 56 32.328125 56 \nQ 43.359375 56 49.78125 48.890625 \nQ 56.203125 41.796875 56.203125 29.59375 \nz\nM 47.21875 32.234375 \nQ 47.125 39.59375 43.09375 43.984375 \nQ 39.0625 48.390625 32.421875 48.390625 \nQ 24.90625 48.390625 20.390625 44.140625 \nQ 15.875 39.890625 15.1875 32.171875 \nz\n\" id=\"DejaVuSans-101\"/>\n      <path d=\"M 9.8125 72.90625 \nL 51.703125 72.90625 \nL 51.703125 64.59375 \nL 19.671875 64.59375 \nL 19.671875 43.109375 \nL 48.578125 43.109375 \nL 48.578125 34.8125 \nL 19.671875 34.8125 \nL 19.671875 0 \nL 9.8125 0 \nz\n\" id=\"DejaVuSans-70\"/>\n      <path d=\"M 9.421875 75.984375 \nL 18.40625 75.984375 \nL 18.40625 0 \nL 9.421875 0 \nz\n\" id=\"DejaVuSans-108\"/>\n      <path d=\"M 30.609375 48.390625 \nQ 23.390625 48.390625 19.1875 42.75 \nQ 14.984375 37.109375 14.984375 27.296875 \nQ 14.984375 17.484375 19.15625 11.84375 \nQ 23.34375 6.203125 30.609375 6.203125 \nQ 37.796875 6.203125 41.984375 11.859375 \nQ 46.1875 17.53125 46.1875 27.296875 \nQ 46.1875 37.015625 41.984375 42.703125 \nQ 37.796875 48.390625 30.609375 48.390625 \nz\nM 30.609375 56 \nQ 42.328125 56 49.015625 48.375 \nQ 55.71875 40.765625 55.71875 27.296875 \nQ 55.71875 13.875 49.015625 6.21875 \nQ 42.328125 -1.421875 30.609375 -1.421875 \nQ 18.84375 -1.421875 12.171875 6.21875 \nQ 5.515625 13.875 5.515625 27.296875 \nQ 5.515625 40.765625 12.171875 48.375 \nQ 18.84375 56 30.609375 56 \nz\n\" id=\"DejaVuSans-111\"/>\n      <path d=\"M 19.671875 64.796875 \nL 19.671875 37.40625 \nL 32.078125 37.40625 \nQ 38.96875 37.40625 42.71875 40.96875 \nQ 46.484375 44.53125 46.484375 51.125 \nQ 46.484375 57.671875 42.71875 61.234375 \nQ 38.96875 64.796875 32.078125 64.796875 \nz\nM 9.8125 72.90625 \nL 32.078125 72.90625 \nQ 44.34375 72.90625 50.609375 67.359375 \nQ 56.890625 61.8125 56.890625 51.125 \nQ 56.890625 40.328125 50.609375 34.8125 \nQ 44.34375 29.296875 32.078125 29.296875 \nL 19.671875 29.296875 \nL 19.671875 0 \nL 9.8125 0 \nz\n\" id=\"DejaVuSans-80\"/>\n      <path d=\"M 9.421875 54.6875 \nL 18.40625 54.6875 \nL 18.40625 0 \nL 9.421875 0 \nz\nM 9.421875 75.984375 \nL 18.40625 75.984375 \nL 18.40625 64.59375 \nL 9.421875 64.59375 \nz\n\" id=\"DejaVuSans-105\"/>\n      <path d=\"M 18.3125 70.21875 \nL 18.3125 54.6875 \nL 36.8125 54.6875 \nL 36.8125 47.703125 \nL 18.3125 47.703125 \nL 18.3125 18.015625 \nQ 18.3125 11.328125 20.140625 9.421875 \nQ 21.96875 7.515625 27.59375 7.515625 \nL 36.8125 7.515625 \nL 36.8125 0 \nL 27.59375 0 \nQ 17.1875 0 13.234375 3.875 \nQ 9.28125 7.765625 9.28125 18.015625 \nL 9.28125 47.703125 \nL 2.6875 47.703125 \nL 2.6875 54.6875 \nL 9.28125 54.6875 \nL 9.28125 70.21875 \nz\n\" id=\"DejaVuSans-116\"/>\n      <path d=\"M 2.984375 54.6875 \nL 12.5 54.6875 \nL 29.59375 8.796875 \nL 46.6875 54.6875 \nL 56.203125 54.6875 \nL 35.6875 0 \nL 23.484375 0 \nz\n\" id=\"DejaVuSans-118\"/>\n      <path d=\"M 31 75.875 \nQ 24.46875 64.65625 21.28125 53.65625 \nQ 18.109375 42.671875 18.109375 31.390625 \nQ 18.109375 20.125 21.3125 9.0625 \nQ 24.515625 -2 31 -13.1875 \nL 23.1875 -13.1875 \nQ 15.875 -1.703125 12.234375 9.375 \nQ 8.59375 20.453125 8.59375 31.390625 \nQ 8.59375 42.28125 12.203125 53.3125 \nQ 15.828125 64.359375 23.1875 75.875 \nz\n\" id=\"DejaVuSans-40\"/>\n      <path d=\"M 4.890625 31.390625 \nL 31.203125 31.390625 \nL 31.203125 23.390625 \nL 4.890625 23.390625 \nz\n\" id=\"DejaVuSans-45\"/>\n      <path d=\"M 9.8125 72.90625 \nL 55.90625 72.90625 \nL 55.90625 64.59375 \nL 19.671875 64.59375 \nL 19.671875 43.015625 \nL 54.390625 43.015625 \nL 54.390625 34.71875 \nL 19.671875 34.71875 \nL 19.671875 8.296875 \nL 56.78125 8.296875 \nL 56.78125 0 \nL 9.8125 0 \nz\n\" id=\"DejaVuSans-69\"/>\n      <path d=\"M 18.109375 8.203125 \nL 18.109375 -20.796875 \nL 9.078125 -20.796875 \nL 9.078125 54.6875 \nL 18.109375 54.6875 \nL 18.109375 46.390625 \nQ 20.953125 51.265625 25.265625 53.625 \nQ 29.59375 56 35.59375 56 \nQ 45.5625 56 51.78125 48.09375 \nQ 58.015625 40.1875 58.015625 27.296875 \nQ 58.015625 14.40625 51.78125 6.484375 \nQ 45.5625 -1.421875 35.59375 -1.421875 \nQ 29.59375 -1.421875 25.265625 0.953125 \nQ 20.953125 3.328125 18.109375 8.203125 \nz\nM 48.6875 27.296875 \nQ 48.6875 37.203125 44.609375 42.84375 \nQ 40.53125 48.484375 33.40625 48.484375 \nQ 26.265625 48.484375 22.1875 42.84375 \nQ 18.109375 37.203125 18.109375 27.296875 \nQ 18.109375 17.390625 22.1875 11.75 \nQ 26.265625 6.109375 33.40625 6.109375 \nQ 40.53125 6.109375 44.609375 11.75 \nQ 48.6875 17.390625 48.6875 27.296875 \nz\n\" id=\"DejaVuSans-112\"/>\n      <path d=\"M 48.78125 52.59375 \nL 48.78125 44.1875 \nQ 44.96875 46.296875 41.140625 47.34375 \nQ 37.3125 48.390625 33.40625 48.390625 \nQ 24.65625 48.390625 19.8125 42.84375 \nQ 14.984375 37.3125 14.984375 27.296875 \nQ 14.984375 17.28125 19.8125 11.734375 \nQ 24.65625 6.203125 33.40625 6.203125 \nQ 37.3125 6.203125 41.140625 7.25 \nQ 44.96875 8.296875 48.78125 10.40625 \nL 48.78125 2.09375 \nQ 45.015625 0.34375 40.984375 -0.53125 \nQ 36.96875 -1.421875 32.421875 -1.421875 \nQ 20.0625 -1.421875 12.78125 6.34375 \nQ 5.515625 14.109375 5.515625 27.296875 \nQ 5.515625 40.671875 12.859375 48.328125 \nQ 20.21875 56 33.015625 56 \nQ 37.15625 56 41.109375 55.140625 \nQ 45.0625 54.296875 48.78125 52.59375 \nz\n\" id=\"DejaVuSans-99\"/>\n      <path d=\"M 37.109375 75.984375 \nL 37.109375 68.5 \nL 28.515625 68.5 \nQ 23.6875 68.5 21.796875 66.546875 \nQ 19.921875 64.59375 19.921875 59.515625 \nL 19.921875 54.6875 \nL 34.71875 54.6875 \nL 34.71875 47.703125 \nL 19.921875 47.703125 \nL 19.921875 0 \nL 10.890625 0 \nL 10.890625 47.703125 \nL 2.296875 47.703125 \nL 2.296875 54.6875 \nL 10.890625 54.6875 \nL 10.890625 58.5 \nQ 10.890625 67.625 15.140625 71.796875 \nQ 19.390625 75.984375 28.609375 75.984375 \nz\n\" id=\"DejaVuSans-102\"/>\n      <path d=\"M 8.015625 75.875 \nL 15.828125 75.875 \nQ 23.140625 64.359375 26.78125 53.3125 \nQ 30.421875 42.28125 30.421875 31.390625 \nQ 30.421875 20.453125 26.78125 9.375 \nQ 23.140625 -1.703125 15.828125 -13.1875 \nL 8.015625 -13.1875 \nQ 14.5 -2 17.703125 9.0625 \nQ 20.90625 20.125 20.90625 31.390625 \nQ 20.90625 42.671875 17.703125 53.65625 \nQ 14.5 64.65625 8.015625 75.875 \nz\n\" id=\"DejaVuSans-41\"/>\n     </defs>\n     <g style=\"fill:#262626;\" transform=\"translate(161.72625 268.034687)scale(0.1 -0.1)\">\n      <use xlink:href=\"#DejaVuSans-84\"/>\n      <use x=\"44.583984\" xlink:href=\"#DejaVuSans-97\"/>\n      <use x=\"105.863281\" xlink:href=\"#DejaVuSans-115\"/>\n      <use x=\"157.962891\" xlink:href=\"#DejaVuSans-97\"/>\n      <use x=\"219.242188\" xlink:href=\"#DejaVuSans-32\"/>\n      <use x=\"251.029297\" xlink:href=\"#DejaVuSans-100\"/>\n      <use x=\"314.505859\" xlink:href=\"#DejaVuSans-101\"/>\n      <use x=\"376.029297\" xlink:href=\"#DejaVuSans-32\"/>\n      <use x=\"407.816406\" xlink:href=\"#DejaVuSans-70\"/>\n      <use x=\"456.210938\" xlink:href=\"#DejaVuSans-97\"/>\n      <use x=\"517.490234\" xlink:href=\"#DejaVuSans-108\"/>\n      <use x=\"545.273438\" xlink:href=\"#DejaVuSans-115\"/>\n      <use x=\"597.373047\" xlink:href=\"#DejaVuSans-111\"/>\n      <use x=\"658.554688\" xlink:href=\"#DejaVuSans-115\"/>\n      <use x=\"710.654297\" xlink:href=\"#DejaVuSans-32\"/>\n      <use x=\"742.441406\" xlink:href=\"#DejaVuSans-80\"/>\n      <use x=\"799.119141\" xlink:href=\"#DejaVuSans-111\"/>\n      <use x=\"860.300781\" xlink:href=\"#DejaVuSans-115\"/>\n      <use x=\"912.400391\" xlink:href=\"#DejaVuSans-105\"/>\n      <use x=\"940.183594\" xlink:href=\"#DejaVuSans-116\"/>\n      <use x=\"979.392578\" xlink:href=\"#DejaVuSans-105\"/>\n      <use x=\"1007.175781\" xlink:href=\"#DejaVuSans-118\"/>\n      <use x=\"1066.355469\" xlink:href=\"#DejaVuSans-111\"/>\n      <use x=\"1127.537109\" xlink:href=\"#DejaVuSans-115\"/>\n      <use x=\"1179.636719\" xlink:href=\"#DejaVuSans-32\"/>\n      <use x=\"1211.423828\" xlink:href=\"#DejaVuSans-40\"/>\n      <use x=\"1250.4375\" xlink:href=\"#DejaVuSans-49\"/>\n      <use x=\"1314.060547\" xlink:href=\"#DejaVuSans-45\"/>\n      <use x=\"1350.144531\" xlink:href=\"#DejaVuSans-69\"/>\n      <use x=\"1413.328125\" xlink:href=\"#DejaVuSans-115\"/>\n      <use x=\"1465.427734\" xlink:href=\"#DejaVuSans-112\"/>\n      <use x=\"1528.904297\" xlink:href=\"#DejaVuSans-101\"/>\n      <use x=\"1590.427734\" xlink:href=\"#DejaVuSans-99\"/>\n      <use x=\"1645.408203\" xlink:href=\"#DejaVuSans-105\"/>\n      <use x=\"1673.191406\" xlink:href=\"#DejaVuSans-102\"/>\n      <use x=\"1708.396484\" xlink:href=\"#DejaVuSans-105\"/>\n      <use x=\"1736.179688\" xlink:href=\"#DejaVuSans-99\"/>\n      <use x=\"1791.160156\" xlink:href=\"#DejaVuSans-105\"/>\n      <use x=\"1818.943359\" xlink:href=\"#DejaVuSans-100\"/>\n      <use x=\"1882.419922\" xlink:href=\"#DejaVuSans-97\"/>\n      <use x=\"1943.699219\" xlink:href=\"#DejaVuSans-100\"/>\n      <use x=\"2007.175781\" xlink:href=\"#DejaVuSans-41\"/>\n     </g>\n    </g>\n   </g>\n   <g id=\"matplotlib.axis_2\">\n    <g id=\"ytick_1\">\n     <g id=\"line2d_7\">\n      <path clip-path=\"url(#pf63bfdd11f)\" d=\"M 96.635625 239.758125 \nL 431.435625 239.758125 \n\" style=\"fill:none;stroke:#cccccc;stroke-linecap:round;stroke-width:0.8;\"/>\n     </g>\n     <g id=\"text_8\">\n      <!-- 0.0 -->\n      <g style=\"fill:#262626;\" transform=\"translate(73.7325 243.557344)scale(0.1 -0.1)\">\n       <use xlink:href=\"#DejaVuSans-48\"/>\n       <use x=\"63.623047\" xlink:href=\"#DejaVuSans-46\"/>\n       <use x=\"95.410156\" xlink:href=\"#DejaVuSans-48\"/>\n      </g>\n     </g>\n    </g>\n    <g id=\"ytick_2\">\n     <g id=\"line2d_8\">\n      <path clip-path=\"url(#pf63bfdd11f)\" d=\"M 96.635625 196.270125 \nL 431.435625 196.270125 \n\" style=\"fill:none;stroke:#cccccc;stroke-linecap:round;stroke-width:0.8;\"/>\n     </g>\n     <g id=\"text_9\">\n      <!-- 0.2 -->\n      <g style=\"fill:#262626;\" transform=\"translate(73.7325 200.069344)scale(0.1 -0.1)\">\n       <use xlink:href=\"#DejaVuSans-48\"/>\n       <use x=\"63.623047\" xlink:href=\"#DejaVuSans-46\"/>\n       <use x=\"95.410156\" xlink:href=\"#DejaVuSans-50\"/>\n      </g>\n     </g>\n    </g>\n    <g id=\"ytick_3\">\n     <g id=\"line2d_9\">\n      <path clip-path=\"url(#pf63bfdd11f)\" d=\"M 96.635625 152.782125 \nL 431.435625 152.782125 \n\" style=\"fill:none;stroke:#cccccc;stroke-linecap:round;stroke-width:0.8;\"/>\n     </g>\n     <g id=\"text_10\">\n      <!-- 0.4 -->\n      <g style=\"fill:#262626;\" transform=\"translate(73.7325 156.581344)scale(0.1 -0.1)\">\n       <use xlink:href=\"#DejaVuSans-48\"/>\n       <use x=\"63.623047\" xlink:href=\"#DejaVuSans-46\"/>\n       <use x=\"95.410156\" xlink:href=\"#DejaVuSans-52\"/>\n      </g>\n     </g>\n    </g>\n    <g id=\"ytick_4\">\n     <g id=\"line2d_10\">\n      <path clip-path=\"url(#pf63bfdd11f)\" d=\"M 96.635625 109.294125 \nL 431.435625 109.294125 \n\" style=\"fill:none;stroke:#cccccc;stroke-linecap:round;stroke-width:0.8;\"/>\n     </g>\n     <g id=\"text_11\">\n      <!-- 0.6 -->\n      <g style=\"fill:#262626;\" transform=\"translate(73.7325 113.093344)scale(0.1 -0.1)\">\n       <use xlink:href=\"#DejaVuSans-48\"/>\n       <use x=\"63.623047\" xlink:href=\"#DejaVuSans-46\"/>\n       <use x=\"95.410156\" xlink:href=\"#DejaVuSans-54\"/>\n      </g>\n     </g>\n    </g>\n    <g id=\"ytick_5\">\n     <g id=\"line2d_11\">\n      <path clip-path=\"url(#pf63bfdd11f)\" d=\"M 96.635625 65.806125 \nL 431.435625 65.806125 \n\" style=\"fill:none;stroke:#cccccc;stroke-linecap:round;stroke-width:0.8;\"/>\n     </g>\n     <g id=\"text_12\">\n      <!-- 0.8 -->\n      <g style=\"fill:#262626;\" transform=\"translate(73.7325 69.605344)scale(0.1 -0.1)\">\n       <use xlink:href=\"#DejaVuSans-48\"/>\n       <use x=\"63.623047\" xlink:href=\"#DejaVuSans-46\"/>\n       <use x=\"95.410156\" xlink:href=\"#DejaVuSans-56\"/>\n      </g>\n     </g>\n    </g>\n    <g id=\"ytick_6\">\n     <g id=\"line2d_12\">\n      <path clip-path=\"url(#pf63bfdd11f)\" d=\"M 96.635625 22.318125 \nL 431.435625 22.318125 \n\" style=\"fill:none;stroke:#cccccc;stroke-linecap:round;stroke-width:0.8;\"/>\n     </g>\n     <g id=\"text_13\">\n      <!-- 1.0 -->\n      <g style=\"fill:#262626;\" transform=\"translate(73.7325 26.117344)scale(0.1 -0.1)\">\n       <use xlink:href=\"#DejaVuSans-49\"/>\n       <use x=\"63.623047\" xlink:href=\"#DejaVuSans-46\"/>\n       <use x=\"95.410156\" xlink:href=\"#DejaVuSans-48\"/>\n      </g>\n     </g>\n    </g>\n    <g id=\"text_14\">\n     <!-- Tasa de Verdaderos Positivos (Sensitividad) -->\n     <defs>\n      <path d=\"M 28.609375 0 \nL 0.78125 72.90625 \nL 11.078125 72.90625 \nL 34.1875 11.53125 \nL 57.328125 72.90625 \nL 67.578125 72.90625 \nL 39.796875 0 \nz\n\" id=\"DejaVuSans-86\"/>\n      <path d=\"M 41.109375 46.296875 \nQ 39.59375 47.171875 37.8125 47.578125 \nQ 36.03125 48 33.890625 48 \nQ 26.265625 48 22.1875 43.046875 \nQ 18.109375 38.09375 18.109375 28.8125 \nL 18.109375 0 \nL 9.078125 0 \nL 9.078125 54.6875 \nL 18.109375 54.6875 \nL 18.109375 46.1875 \nQ 20.953125 51.171875 25.484375 53.578125 \nQ 30.03125 56 36.53125 56 \nQ 37.453125 56 38.578125 55.875 \nQ 39.703125 55.765625 41.0625 55.515625 \nz\n\" id=\"DejaVuSans-114\"/>\n      <path d=\"M 53.515625 70.515625 \nL 53.515625 60.890625 \nQ 47.90625 63.578125 42.921875 64.890625 \nQ 37.9375 66.21875 33.296875 66.21875 \nQ 25.25 66.21875 20.875 63.09375 \nQ 16.5 59.96875 16.5 54.203125 \nQ 16.5 49.359375 19.40625 46.890625 \nQ 22.3125 44.4375 30.421875 42.921875 \nL 36.375 41.703125 \nQ 47.40625 39.59375 52.65625 34.296875 \nQ 57.90625 29 57.90625 20.125 \nQ 57.90625 9.515625 50.796875 4.046875 \nQ 43.703125 -1.421875 29.984375 -1.421875 \nQ 24.8125 -1.421875 18.96875 -0.25 \nQ 13.140625 0.921875 6.890625 3.21875 \nL 6.890625 13.375 \nQ 12.890625 10.015625 18.65625 8.296875 \nQ 24.421875 6.59375 29.984375 6.59375 \nQ 38.421875 6.59375 43.015625 9.90625 \nQ 47.609375 13.234375 47.609375 19.390625 \nQ 47.609375 24.75 44.3125 27.78125 \nQ 41.015625 30.8125 33.5 32.328125 \nL 27.484375 33.5 \nQ 16.453125 35.6875 11.515625 40.375 \nQ 6.59375 45.0625 6.59375 53.421875 \nQ 6.59375 63.09375 13.40625 68.65625 \nQ 20.21875 74.21875 32.171875 74.21875 \nQ 37.3125 74.21875 42.625 73.28125 \nQ 47.953125 72.359375 53.515625 70.515625 \nz\n\" id=\"DejaVuSans-83\"/>\n      <path d=\"M 54.890625 33.015625 \nL 54.890625 0 \nL 45.90625 0 \nL 45.90625 32.71875 \nQ 45.90625 40.484375 42.875 44.328125 \nQ 39.84375 48.1875 33.796875 48.1875 \nQ 26.515625 48.1875 22.3125 43.546875 \nQ 18.109375 38.921875 18.109375 30.90625 \nL 18.109375 0 \nL 9.078125 0 \nL 9.078125 54.6875 \nL 18.109375 54.6875 \nL 18.109375 46.1875 \nQ 21.34375 51.125 25.703125 53.5625 \nQ 30.078125 56 35.796875 56 \nQ 45.21875 56 50.046875 50.171875 \nQ 54.890625 44.34375 54.890625 33.015625 \nz\n\" id=\"DejaVuSans-110\"/>\n     </defs>\n     <g style=\"fill:#262626;\" transform=\"translate(67.652812 239.064687)rotate(-90)scale(0.1 -0.1)\">\n      <use xlink:href=\"#DejaVuSans-84\"/>\n      <use x=\"44.583984\" xlink:href=\"#DejaVuSans-97\"/>\n      <use x=\"105.863281\" xlink:href=\"#DejaVuSans-115\"/>\n      <use x=\"157.962891\" xlink:href=\"#DejaVuSans-97\"/>\n      <use x=\"219.242188\" xlink:href=\"#DejaVuSans-32\"/>\n      <use x=\"251.029297\" xlink:href=\"#DejaVuSans-100\"/>\n      <use x=\"314.505859\" xlink:href=\"#DejaVuSans-101\"/>\n      <use x=\"376.029297\" xlink:href=\"#DejaVuSans-32\"/>\n      <use x=\"407.816406\" xlink:href=\"#DejaVuSans-86\"/>\n      <use x=\"468.474609\" xlink:href=\"#DejaVuSans-101\"/>\n      <use x=\"529.998047\" xlink:href=\"#DejaVuSans-114\"/>\n      <use x=\"569.361328\" xlink:href=\"#DejaVuSans-100\"/>\n      <use x=\"632.837891\" xlink:href=\"#DejaVuSans-97\"/>\n      <use x=\"694.117188\" xlink:href=\"#DejaVuSans-100\"/>\n      <use x=\"757.59375\" xlink:href=\"#DejaVuSans-101\"/>\n      <use x=\"819.117188\" xlink:href=\"#DejaVuSans-114\"/>\n      <use x=\"857.980469\" xlink:href=\"#DejaVuSans-111\"/>\n      <use x=\"919.162109\" xlink:href=\"#DejaVuSans-115\"/>\n      <use x=\"971.261719\" xlink:href=\"#DejaVuSans-32\"/>\n      <use x=\"1003.048828\" xlink:href=\"#DejaVuSans-80\"/>\n      <use x=\"1059.726562\" xlink:href=\"#DejaVuSans-111\"/>\n      <use x=\"1120.908203\" xlink:href=\"#DejaVuSans-115\"/>\n      <use x=\"1173.007812\" xlink:href=\"#DejaVuSans-105\"/>\n      <use x=\"1200.791016\" xlink:href=\"#DejaVuSans-116\"/>\n      <use x=\"1240\" xlink:href=\"#DejaVuSans-105\"/>\n      <use x=\"1267.783203\" xlink:href=\"#DejaVuSans-118\"/>\n      <use x=\"1326.962891\" xlink:href=\"#DejaVuSans-111\"/>\n      <use x=\"1388.144531\" xlink:href=\"#DejaVuSans-115\"/>\n      <use x=\"1440.244141\" xlink:href=\"#DejaVuSans-32\"/>\n      <use x=\"1472.03125\" xlink:href=\"#DejaVuSans-40\"/>\n      <use x=\"1511.044922\" xlink:href=\"#DejaVuSans-83\"/>\n      <use x=\"1574.521484\" xlink:href=\"#DejaVuSans-101\"/>\n      <use x=\"1636.044922\" xlink:href=\"#DejaVuSans-110\"/>\n      <use x=\"1699.423828\" xlink:href=\"#DejaVuSans-115\"/>\n      <use x=\"1751.523438\" xlink:href=\"#DejaVuSans-105\"/>\n      <use x=\"1779.306641\" xlink:href=\"#DejaVuSans-116\"/>\n      <use x=\"1818.515625\" xlink:href=\"#DejaVuSans-105\"/>\n      <use x=\"1846.298828\" xlink:href=\"#DejaVuSans-118\"/>\n      <use x=\"1905.478516\" xlink:href=\"#DejaVuSans-105\"/>\n      <use x=\"1933.261719\" xlink:href=\"#DejaVuSans-100\"/>\n      <use x=\"1996.738281\" xlink:href=\"#DejaVuSans-97\"/>\n      <use x=\"2058.017578\" xlink:href=\"#DejaVuSans-100\"/>\n      <use x=\"2121.494141\" xlink:href=\"#DejaVuSans-41\"/>\n     </g>\n    </g>\n   </g>\n   <g id=\"line2d_13\">\n    <path clip-path=\"url(#pf63bfdd11f)\" d=\"M 96.635625 239.758125 \nL 215.156089 61.874012 \nL 431.435625 22.318125 \n\" style=\"fill:none;stroke:#1f77b4;stroke-linecap:round;stroke-width:1.5;\"/>\n   </g>\n   <g id=\"line2d_14\">\n    <path clip-path=\"url(#pf63bfdd11f)\" d=\"M 96.635625 239.758125 \nL 181.035194 62.167453 \nL 431.435625 22.318125 \n\" style=\"fill:none;stroke:#ff7f0e;stroke-linecap:round;stroke-width:1.5;\"/>\n   </g>\n   <g id=\"line2d_15\">\n    <path clip-path=\"url(#pf63bfdd11f)\" d=\"M 96.635625 239.758125 \nL 148.268302 37.635761 \nL 431.435625 22.318125 \n\" style=\"fill:none;stroke:#2ca02c;stroke-linecap:round;stroke-width:1.5;\"/>\n   </g>\n   <g id=\"line2d_16\">\n    <path clip-path=\"url(#pf63bfdd11f)\" d=\"M 96.635625 239.758125 \nL 126.333441 27.834821 \nL 431.435625 22.318125 \n\" style=\"fill:none;stroke:#d62728;stroke-linecap:round;stroke-width:1.5;\"/>\n   </g>\n   <g id=\"line2d_17\">\n    <path clip-path=\"url(#pf63bfdd11f)\" d=\"M 96.635625 239.758125 \nL 117.126215 33.234141 \nL 431.435625 22.318125 \n\" style=\"fill:none;stroke:#9467bd;stroke-linecap:round;stroke-width:1.5;\"/>\n   </g>\n   <g id=\"patch_3\">\n    <path d=\"M 96.635625 239.758125 \nL 96.635625 22.318125 \n\" style=\"fill:none;stroke:#262626;stroke-linecap:square;stroke-linejoin:miter;stroke-width:0.8;\"/>\n   </g>\n   <g id=\"patch_4\">\n    <path d=\"M 431.435625 239.758125 \nL 431.435625 22.318125 \n\" style=\"fill:none;stroke:#262626;stroke-linecap:square;stroke-linejoin:miter;stroke-width:0.8;\"/>\n   </g>\n   <g id=\"patch_5\">\n    <path d=\"M 96.635625 239.758125 \nL 431.435625 239.758125 \n\" style=\"fill:none;stroke:#262626;stroke-linecap:square;stroke-linejoin:miter;stroke-width:0.8;\"/>\n   </g>\n   <g id=\"patch_6\">\n    <path d=\"M 96.635625 22.318125 \nL 431.435625 22.318125 \n\" style=\"fill:none;stroke:#262626;stroke-linecap:square;stroke-linejoin:miter;stroke-width:0.8;\"/>\n   </g>\n   <g id=\"text_15\">\n    <!-- Curva ROC para Caso A: 2 Capas escondidas:5(b),10(y),20(g),50(r),100(m),neuronas. -->\n    <defs>\n     <path d=\"M 64.40625 67.28125 \nL 64.40625 56.890625 \nQ 59.421875 61.53125 53.78125 63.8125 \nQ 48.140625 66.109375 41.796875 66.109375 \nQ 29.296875 66.109375 22.65625 58.46875 \nQ 16.015625 50.828125 16.015625 36.375 \nQ 16.015625 21.96875 22.65625 14.328125 \nQ 29.296875 6.6875 41.796875 6.6875 \nQ 48.140625 6.6875 53.78125 8.984375 \nQ 59.421875 11.28125 64.40625 15.921875 \nL 64.40625 5.609375 \nQ 59.234375 2.09375 53.4375 0.328125 \nQ 47.65625 -1.421875 41.21875 -1.421875 \nQ 24.65625 -1.421875 15.125 8.703125 \nQ 5.609375 18.84375 5.609375 36.375 \nQ 5.609375 53.953125 15.125 64.078125 \nQ 24.65625 74.21875 41.21875 74.21875 \nQ 47.75 74.21875 53.53125 72.484375 \nQ 59.328125 70.75 64.40625 67.28125 \nz\n\" id=\"DejaVuSans-67\"/>\n     <path d=\"M 8.5 21.578125 \nL 8.5 54.6875 \nL 17.484375 54.6875 \nL 17.484375 21.921875 \nQ 17.484375 14.15625 20.5 10.265625 \nQ 23.53125 6.390625 29.59375 6.390625 \nQ 36.859375 6.390625 41.078125 11.03125 \nQ 45.3125 15.671875 45.3125 23.6875 \nL 45.3125 54.6875 \nL 54.296875 54.6875 \nL 54.296875 0 \nL 45.3125 0 \nL 45.3125 8.40625 \nQ 42.046875 3.421875 37.71875 1 \nQ 33.40625 -1.421875 27.6875 -1.421875 \nQ 18.265625 -1.421875 13.375 4.4375 \nQ 8.5 10.296875 8.5 21.578125 \nz\nM 31.109375 56 \nz\n\" id=\"DejaVuSans-117\"/>\n     <path d=\"M 44.390625 34.1875 \nQ 47.5625 33.109375 50.5625 29.59375 \nQ 53.5625 26.078125 56.59375 19.921875 \nL 66.609375 0 \nL 56 0 \nL 46.6875 18.703125 \nQ 43.0625 26.03125 39.671875 28.421875 \nQ 36.28125 30.8125 30.421875 30.8125 \nL 19.671875 30.8125 \nL 19.671875 0 \nL 9.8125 0 \nL 9.8125 72.90625 \nL 32.078125 72.90625 \nQ 44.578125 72.90625 50.734375 67.671875 \nQ 56.890625 62.453125 56.890625 51.90625 \nQ 56.890625 45.015625 53.6875 40.46875 \nQ 50.484375 35.9375 44.390625 34.1875 \nz\nM 19.671875 64.796875 \nL 19.671875 38.921875 \nL 32.078125 38.921875 \nQ 39.203125 38.921875 42.84375 42.21875 \nQ 46.484375 45.515625 46.484375 51.90625 \nQ 46.484375 58.296875 42.84375 61.546875 \nQ 39.203125 64.796875 32.078125 64.796875 \nz\n\" id=\"DejaVuSans-82\"/>\n     <path d=\"M 39.40625 66.21875 \nQ 28.65625 66.21875 22.328125 58.203125 \nQ 16.015625 50.203125 16.015625 36.375 \nQ 16.015625 22.609375 22.328125 14.59375 \nQ 28.65625 6.59375 39.40625 6.59375 \nQ 50.140625 6.59375 56.421875 14.59375 \nQ 62.703125 22.609375 62.703125 36.375 \nQ 62.703125 50.203125 56.421875 58.203125 \nQ 50.140625 66.21875 39.40625 66.21875 \nz\nM 39.40625 74.21875 \nQ 54.734375 74.21875 63.90625 63.9375 \nQ 73.09375 53.65625 73.09375 36.375 \nQ 73.09375 19.140625 63.90625 8.859375 \nQ 54.734375 -1.421875 39.40625 -1.421875 \nQ 24.03125 -1.421875 14.8125 8.828125 \nQ 5.609375 19.09375 5.609375 36.375 \nQ 5.609375 53.65625 14.8125 63.9375 \nQ 24.03125 74.21875 39.40625 74.21875 \nz\n\" id=\"DejaVuSans-79\"/>\n     <path d=\"M 34.1875 63.1875 \nL 20.796875 26.90625 \nL 47.609375 26.90625 \nz\nM 28.609375 72.90625 \nL 39.796875 72.90625 \nL 67.578125 0 \nL 57.328125 0 \nL 50.6875 18.703125 \nL 17.828125 18.703125 \nL 11.1875 0 \nL 0.78125 0 \nz\n\" id=\"DejaVuSans-65\"/>\n     <path d=\"M 11.71875 12.40625 \nL 22.015625 12.40625 \nL 22.015625 0 \nL 11.71875 0 \nz\nM 11.71875 51.703125 \nL 22.015625 51.703125 \nL 22.015625 39.3125 \nL 11.71875 39.3125 \nz\n\" id=\"DejaVuSans-58\"/>\n     <path d=\"M 10.796875 72.90625 \nL 49.515625 72.90625 \nL 49.515625 64.59375 \nL 19.828125 64.59375 \nL 19.828125 46.734375 \nQ 21.96875 47.46875 24.109375 47.828125 \nQ 26.265625 48.1875 28.421875 48.1875 \nQ 40.625 48.1875 47.75 41.5 \nQ 54.890625 34.8125 54.890625 23.390625 \nQ 54.890625 11.625 47.5625 5.09375 \nQ 40.234375 -1.421875 26.90625 -1.421875 \nQ 22.3125 -1.421875 17.546875 -0.640625 \nQ 12.796875 0.140625 7.71875 1.703125 \nL 7.71875 11.625 \nQ 12.109375 9.234375 16.796875 8.0625 \nQ 21.484375 6.890625 26.703125 6.890625 \nQ 35.15625 6.890625 40.078125 11.328125 \nQ 45.015625 15.765625 45.015625 23.390625 \nQ 45.015625 31 40.078125 35.4375 \nQ 35.15625 39.890625 26.703125 39.890625 \nQ 22.75 39.890625 18.8125 39.015625 \nQ 14.890625 38.140625 10.796875 36.28125 \nz\n\" id=\"DejaVuSans-53\"/>\n     <path d=\"M 48.6875 27.296875 \nQ 48.6875 37.203125 44.609375 42.84375 \nQ 40.53125 48.484375 33.40625 48.484375 \nQ 26.265625 48.484375 22.1875 42.84375 \nQ 18.109375 37.203125 18.109375 27.296875 \nQ 18.109375 17.390625 22.1875 11.75 \nQ 26.265625 6.109375 33.40625 6.109375 \nQ 40.53125 6.109375 44.609375 11.75 \nQ 48.6875 17.390625 48.6875 27.296875 \nz\nM 18.109375 46.390625 \nQ 20.953125 51.265625 25.265625 53.625 \nQ 29.59375 56 35.59375 56 \nQ 45.5625 56 51.78125 48.09375 \nQ 58.015625 40.1875 58.015625 27.296875 \nQ 58.015625 14.40625 51.78125 6.484375 \nQ 45.5625 -1.421875 35.59375 -1.421875 \nQ 29.59375 -1.421875 25.265625 0.953125 \nQ 20.953125 3.328125 18.109375 8.203125 \nL 18.109375 0 \nL 9.078125 0 \nL 9.078125 75.984375 \nL 18.109375 75.984375 \nz\n\" id=\"DejaVuSans-98\"/>\n     <path d=\"M 11.71875 12.40625 \nL 22.015625 12.40625 \nL 22.015625 4 \nL 14.015625 -11.625 \nL 7.71875 -11.625 \nL 11.71875 4 \nz\n\" id=\"DejaVuSans-44\"/>\n     <path d=\"M 32.171875 -5.078125 \nQ 28.375 -14.84375 24.75 -17.8125 \nQ 21.140625 -20.796875 15.09375 -20.796875 \nL 7.90625 -20.796875 \nL 7.90625 -13.28125 \nL 13.1875 -13.28125 \nQ 16.890625 -13.28125 18.9375 -11.515625 \nQ 21 -9.765625 23.484375 -3.21875 \nL 25.09375 0.875 \nL 2.984375 54.6875 \nL 12.5 54.6875 \nL 29.59375 11.921875 \nL 46.6875 54.6875 \nL 56.203125 54.6875 \nz\n\" id=\"DejaVuSans-121\"/>\n     <path d=\"M 45.40625 27.984375 \nQ 45.40625 37.75 41.375 43.109375 \nQ 37.359375 48.484375 30.078125 48.484375 \nQ 22.859375 48.484375 18.828125 43.109375 \nQ 14.796875 37.75 14.796875 27.984375 \nQ 14.796875 18.265625 18.828125 12.890625 \nQ 22.859375 7.515625 30.078125 7.515625 \nQ 37.359375 7.515625 41.375 12.890625 \nQ 45.40625 18.265625 45.40625 27.984375 \nz\nM 54.390625 6.78125 \nQ 54.390625 -7.171875 48.1875 -13.984375 \nQ 42 -20.796875 29.203125 -20.796875 \nQ 24.46875 -20.796875 20.265625 -20.09375 \nQ 16.0625 -19.390625 12.109375 -17.921875 \nL 12.109375 -9.1875 \nQ 16.0625 -11.328125 19.921875 -12.34375 \nQ 23.78125 -13.375 27.78125 -13.375 \nQ 36.625 -13.375 41.015625 -8.765625 \nQ 45.40625 -4.15625 45.40625 5.171875 \nL 45.40625 9.625 \nQ 42.625 4.78125 38.28125 2.390625 \nQ 33.9375 0 27.875 0 \nQ 17.828125 0 11.671875 7.65625 \nQ 5.515625 15.328125 5.515625 27.984375 \nQ 5.515625 40.671875 11.671875 48.328125 \nQ 17.828125 56 27.875 56 \nQ 33.9375 56 38.28125 53.609375 \nQ 42.625 51.21875 45.40625 46.390625 \nL 45.40625 54.6875 \nL 54.390625 54.6875 \nz\n\" id=\"DejaVuSans-103\"/>\n     <path d=\"M 52 44.1875 \nQ 55.375 50.25 60.0625 53.125 \nQ 64.75 56 71.09375 56 \nQ 79.640625 56 84.28125 50.015625 \nQ 88.921875 44.046875 88.921875 33.015625 \nL 88.921875 0 \nL 79.890625 0 \nL 79.890625 32.71875 \nQ 79.890625 40.578125 77.09375 44.375 \nQ 74.3125 48.1875 68.609375 48.1875 \nQ 61.625 48.1875 57.5625 43.546875 \nQ 53.515625 38.921875 53.515625 30.90625 \nL 53.515625 0 \nL 44.484375 0 \nL 44.484375 32.71875 \nQ 44.484375 40.625 41.703125 44.40625 \nQ 38.921875 48.1875 33.109375 48.1875 \nQ 26.21875 48.1875 22.15625 43.53125 \nQ 18.109375 38.875 18.109375 30.90625 \nL 18.109375 0 \nL 9.078125 0 \nL 9.078125 54.6875 \nL 18.109375 54.6875 \nL 18.109375 46.1875 \nQ 21.1875 51.21875 25.484375 53.609375 \nQ 29.78125 56 35.6875 56 \nQ 41.65625 56 45.828125 52.96875 \nQ 50 49.953125 52 44.1875 \nz\n\" id=\"DejaVuSans-109\"/>\n    </defs>\n    <g style=\"fill:#262626;\" transform=\"translate(7.2 16.318125)scale(0.12 -0.12)\">\n     <use xlink:href=\"#DejaVuSans-67\"/>\n     <use x=\"69.824219\" xlink:href=\"#DejaVuSans-117\"/>\n     <use x=\"133.203125\" xlink:href=\"#DejaVuSans-114\"/>\n     <use x=\"174.316406\" xlink:href=\"#DejaVuSans-118\"/>\n     <use x=\"233.496094\" xlink:href=\"#DejaVuSans-97\"/>\n     <use x=\"294.775391\" xlink:href=\"#DejaVuSans-32\"/>\n     <use x=\"326.5625\" xlink:href=\"#DejaVuSans-82\"/>\n     <use x=\"396.044922\" xlink:href=\"#DejaVuSans-79\"/>\n     <use x=\"474.755859\" xlink:href=\"#DejaVuSans-67\"/>\n     <use x=\"544.580078\" xlink:href=\"#DejaVuSans-32\"/>\n     <use x=\"576.367188\" xlink:href=\"#DejaVuSans-112\"/>\n     <use x=\"639.84375\" xlink:href=\"#DejaVuSans-97\"/>\n     <use x=\"701.123047\" xlink:href=\"#DejaVuSans-114\"/>\n     <use x=\"742.236328\" xlink:href=\"#DejaVuSans-97\"/>\n     <use x=\"803.515625\" xlink:href=\"#DejaVuSans-32\"/>\n     <use x=\"835.302734\" xlink:href=\"#DejaVuSans-67\"/>\n     <use x=\"905.126953\" xlink:href=\"#DejaVuSans-97\"/>\n     <use x=\"966.40625\" xlink:href=\"#DejaVuSans-115\"/>\n     <use x=\"1018.505859\" xlink:href=\"#DejaVuSans-111\"/>\n     <use x=\"1079.6875\" xlink:href=\"#DejaVuSans-32\"/>\n     <use x=\"1111.474609\" xlink:href=\"#DejaVuSans-65\"/>\n     <use x=\"1178.132812\" xlink:href=\"#DejaVuSans-58\"/>\n     <use x=\"1211.824219\" xlink:href=\"#DejaVuSans-32\"/>\n     <use x=\"1243.611328\" xlink:href=\"#DejaVuSans-50\"/>\n     <use x=\"1307.234375\" xlink:href=\"#DejaVuSans-32\"/>\n     <use x=\"1339.021484\" xlink:href=\"#DejaVuSans-67\"/>\n     <use x=\"1408.845703\" xlink:href=\"#DejaVuSans-97\"/>\n     <use x=\"1470.125\" xlink:href=\"#DejaVuSans-112\"/>\n     <use x=\"1533.601562\" xlink:href=\"#DejaVuSans-97\"/>\n     <use x=\"1594.880859\" xlink:href=\"#DejaVuSans-115\"/>\n     <use x=\"1646.980469\" xlink:href=\"#DejaVuSans-32\"/>\n     <use x=\"1678.767578\" xlink:href=\"#DejaVuSans-101\"/>\n     <use x=\"1740.291016\" xlink:href=\"#DejaVuSans-115\"/>\n     <use x=\"1792.390625\" xlink:href=\"#DejaVuSans-99\"/>\n     <use x=\"1847.371094\" xlink:href=\"#DejaVuSans-111\"/>\n     <use x=\"1908.552734\" xlink:href=\"#DejaVuSans-110\"/>\n     <use x=\"1971.931641\" xlink:href=\"#DejaVuSans-100\"/>\n     <use x=\"2035.408203\" xlink:href=\"#DejaVuSans-105\"/>\n     <use x=\"2063.191406\" xlink:href=\"#DejaVuSans-100\"/>\n     <use x=\"2126.667969\" xlink:href=\"#DejaVuSans-97\"/>\n     <use x=\"2187.947266\" xlink:href=\"#DejaVuSans-115\"/>\n     <use x=\"2240.046875\" xlink:href=\"#DejaVuSans-58\"/>\n     <use x=\"2273.738281\" xlink:href=\"#DejaVuSans-53\"/>\n     <use x=\"2337.361328\" xlink:href=\"#DejaVuSans-40\"/>\n     <use x=\"2376.375\" xlink:href=\"#DejaVuSans-98\"/>\n     <use x=\"2439.851562\" xlink:href=\"#DejaVuSans-41\"/>\n     <use x=\"2478.865234\" xlink:href=\"#DejaVuSans-44\"/>\n     <use x=\"2510.652344\" xlink:href=\"#DejaVuSans-49\"/>\n     <use x=\"2574.275391\" xlink:href=\"#DejaVuSans-48\"/>\n     <use x=\"2637.898438\" xlink:href=\"#DejaVuSans-40\"/>\n     <use x=\"2676.912109\" xlink:href=\"#DejaVuSans-121\"/>\n     <use x=\"2736.091797\" xlink:href=\"#DejaVuSans-41\"/>\n     <use x=\"2775.105469\" xlink:href=\"#DejaVuSans-44\"/>\n     <use x=\"2806.892578\" xlink:href=\"#DejaVuSans-50\"/>\n     <use x=\"2870.515625\" xlink:href=\"#DejaVuSans-48\"/>\n     <use x=\"2934.138672\" xlink:href=\"#DejaVuSans-40\"/>\n     <use x=\"2973.152344\" xlink:href=\"#DejaVuSans-103\"/>\n     <use x=\"3036.628906\" xlink:href=\"#DejaVuSans-41\"/>\n     <use x=\"3075.642578\" xlink:href=\"#DejaVuSans-44\"/>\n     <use x=\"3107.429688\" xlink:href=\"#DejaVuSans-53\"/>\n     <use x=\"3171.052734\" xlink:href=\"#DejaVuSans-48\"/>\n     <use x=\"3234.675781\" xlink:href=\"#DejaVuSans-40\"/>\n     <use x=\"3273.689453\" xlink:href=\"#DejaVuSans-114\"/>\n     <use x=\"3314.802734\" xlink:href=\"#DejaVuSans-41\"/>\n     <use x=\"3353.816406\" xlink:href=\"#DejaVuSans-44\"/>\n     <use x=\"3385.603516\" xlink:href=\"#DejaVuSans-49\"/>\n     <use x=\"3449.226562\" xlink:href=\"#DejaVuSans-48\"/>\n     <use x=\"3512.849609\" xlink:href=\"#DejaVuSans-48\"/>\n     <use x=\"3576.472656\" xlink:href=\"#DejaVuSans-40\"/>\n     <use x=\"3615.486328\" xlink:href=\"#DejaVuSans-109\"/>\n     <use x=\"3712.898438\" xlink:href=\"#DejaVuSans-41\"/>\n     <use x=\"3751.912109\" xlink:href=\"#DejaVuSans-44\"/>\n     <use x=\"3783.699219\" xlink:href=\"#DejaVuSans-110\"/>\n     <use x=\"3847.078125\" xlink:href=\"#DejaVuSans-101\"/>\n     <use x=\"3908.601562\" xlink:href=\"#DejaVuSans-117\"/>\n     <use x=\"3971.980469\" xlink:href=\"#DejaVuSans-114\"/>\n     <use x=\"4010.84375\" xlink:href=\"#DejaVuSans-111\"/>\n     <use x=\"4072.025391\" xlink:href=\"#DejaVuSans-110\"/>\n     <use x=\"4135.404297\" xlink:href=\"#DejaVuSans-97\"/>\n     <use x=\"4196.683594\" xlink:href=\"#DejaVuSans-115\"/>\n     <use x=\"4248.783203\" xlink:href=\"#DejaVuSans-46\"/>\n    </g>\n   </g>\n  </g>\n </g>\n <defs>\n  <clipPath id=\"pf63bfdd11f\">\n   <rect height=\"217.44\" width=\"334.8\" x=\"96.635625\" y=\"22.318125\"/>\n  </clipPath>\n </defs>\n</svg>\n"
          },
          "metadata": {}
        }
      ]
    },
    {
      "cell_type": "markdown",
      "metadata": {
        "id": "7QdrWTYHL8oL"
      },
      "source": [
        "### Caso C"
      ]
    },
    {
      "cell_type": "code",
      "metadata": {
        "id": "NmWOOBvYL8oL",
        "colab": {
          "base_uri": "https://localhost:8080/",
          "height": 818
        },
        "outputId": "b184b262-d96c-4b6e-8757-5153265f9432"
      },
      "source": [
        "# # # # Implemente un ciclo FOR para entrenar cada una de las configuraciones solicitadas # # # #\n",
        "# Caso C: 3 capas escondidas  ×  {5, 10, 20, 50, 100} neuronas.\n",
        "\n",
        "from sklearn.model_selection import train_test_split\n",
        "\n",
        "X_valid, X_test2, y_valid, y_test2 = train_test_split( X_test, y_test, test_size=0.5, random_state=42)\n",
        "\n",
        "neuronas=[5,10,20,50,100]\n",
        "#neurona=0\n",
        "\n",
        "for i in neuronas:\n",
        "    model = MLPClassifier( hidden_layer_sizes=[i,i,i], activation='relu') ##\n",
        "    model.fit(X_valid,y_valid) # Acá se entrena con los datos de validación #\n",
        "    y_predict = model.predict(X_test2) #Acá y_predict se evalua con los datos test_2#\n",
        "    print (i)\n",
        "    print(f'Precisión con {round(i,5)} neuronas y tres capas escondidas {round(accuracy_score(y_test2, y_predict),5)}')\n",
        "    print(pd.DataFrame(confusion_matrix(y_test2,y_predict)))\n",
        "     # Grafica ROC\n",
        "    fpr, tpr, thresholds = roc_curve(y_test2,y_predict)\n",
        "    plt.plot(fpr,tpr)\n",
        "    plt.xlim([0.0, 1.0])\n",
        "    plt.ylim([0.0, 1.0])\n",
        "    plt.title('Curva ROC para Caso A: 3 Capas escondidas:5(b),10(y),20(g),50(r),100(m),neuronas.')\n",
        "    plt.xlabel('Tasa de Falsos Positivos (1-Especificidad)')\n",
        "    plt.ylabel('Tasa de Verdaderos Positivos (Sensitividad)')\n",
        "    plt.grid(True)\n",
        "\n",
        "\n"
      ],
      "execution_count": 200,
      "outputs": [
        {
          "output_type": "stream",
          "name": "stdout",
          "text": [
            "5\n",
            "Precisión con 5 neuronas y tres capas escondidas 0.74427\n",
            "      0     1\n",
            "0  2612  1097\n",
            "1   799  2906\n",
            "10\n",
            "Precisión con 10 neuronas y tres capas escondidas 0.80955\n",
            "      0     1\n",
            "0  2878   831\n",
            "1   581  3124\n",
            "20\n",
            "Precisión con 20 neuronas y tres capas escondidas 0.91489\n",
            "      0     1\n",
            "0  3276   433\n",
            "1   198  3507\n",
            "50\n",
            "Precisión con 50 neuronas y tres capas escondidas 0.94025\n",
            "      0     1\n",
            "0  3439   270\n",
            "1   173  3532\n",
            "100\n",
            "Precisión con 100 neuronas y tres capas escondidas 0.94322\n",
            "      0     1\n",
            "0  3384   325\n",
            "1    96  3609\n"
          ]
        },
        {
          "output_type": "display_data",
          "data": {
            "text/plain": [
              "<Figure size 432x288 with 1 Axes>"
            ],
            "image/svg+xml": "<?xml version=\"1.0\" encoding=\"utf-8\" standalone=\"no\"?>\n<!DOCTYPE svg PUBLIC \"-//W3C//DTD SVG 1.1//EN\"\n  \"http://www.w3.org/Graphics/SVG/1.1/DTD/svg11.dtd\">\n<!-- Created with matplotlib (https://matplotlib.org/) -->\n<svg height=\"277.314375pt\" version=\"1.1\" viewBox=\"0 0 528.07125 277.314375\" width=\"528.07125pt\" xmlns=\"http://www.w3.org/2000/svg\" xmlns:xlink=\"http://www.w3.org/1999/xlink\">\n <defs>\n  <style type=\"text/css\">\n*{stroke-linecap:butt;stroke-linejoin:round;}\n  </style>\n </defs>\n <g id=\"figure_1\">\n  <g id=\"patch_1\">\n   <path d=\"M 0 277.314375 \nL 528.07125 277.314375 \nL 528.07125 0 \nL 0 0 \nz\n\" style=\"fill:#ffffff;\"/>\n  </g>\n  <g id=\"axes_1\">\n   <g id=\"patch_2\">\n    <path d=\"M 96.635625 239.758125 \nL 431.435625 239.758125 \nL 431.435625 22.318125 \nL 96.635625 22.318125 \nz\n\" style=\"fill:#ffffff;\"/>\n   </g>\n   <g id=\"matplotlib.axis_1\">\n    <g id=\"xtick_1\">\n     <g id=\"line2d_1\">\n      <path clip-path=\"url(#p980c078289)\" d=\"M 96.635625 239.758125 \nL 96.635625 22.318125 \n\" style=\"fill:none;stroke:#cccccc;stroke-linecap:round;stroke-width:0.8;\"/>\n     </g>\n     <g id=\"text_1\">\n      <!-- 0.0 -->\n      <defs>\n       <path d=\"M 31.78125 66.40625 \nQ 24.171875 66.40625 20.328125 58.90625 \nQ 16.5 51.421875 16.5 36.375 \nQ 16.5 21.390625 20.328125 13.890625 \nQ 24.171875 6.390625 31.78125 6.390625 \nQ 39.453125 6.390625 43.28125 13.890625 \nQ 47.125 21.390625 47.125 36.375 \nQ 47.125 51.421875 43.28125 58.90625 \nQ 39.453125 66.40625 31.78125 66.40625 \nz\nM 31.78125 74.21875 \nQ 44.046875 74.21875 50.515625 64.515625 \nQ 56.984375 54.828125 56.984375 36.375 \nQ 56.984375 17.96875 50.515625 8.265625 \nQ 44.046875 -1.421875 31.78125 -1.421875 \nQ 19.53125 -1.421875 13.0625 8.265625 \nQ 6.59375 17.96875 6.59375 36.375 \nQ 6.59375 54.828125 13.0625 64.515625 \nQ 19.53125 74.21875 31.78125 74.21875 \nz\n\" id=\"DejaVuSans-48\"/>\n       <path d=\"M 10.6875 12.40625 \nL 21 12.40625 \nL 21 0 \nL 10.6875 0 \nz\n\" id=\"DejaVuSans-46\"/>\n      </defs>\n      <g style=\"fill:#262626;\" transform=\"translate(88.684062 254.356562)scale(0.1 -0.1)\">\n       <use xlink:href=\"#DejaVuSans-48\"/>\n       <use x=\"63.623047\" xlink:href=\"#DejaVuSans-46\"/>\n       <use x=\"95.410156\" xlink:href=\"#DejaVuSans-48\"/>\n      </g>\n     </g>\n    </g>\n    <g id=\"xtick_2\">\n     <g id=\"line2d_2\">\n      <path clip-path=\"url(#p980c078289)\" d=\"M 163.595625 239.758125 \nL 163.595625 22.318125 \n\" style=\"fill:none;stroke:#cccccc;stroke-linecap:round;stroke-width:0.8;\"/>\n     </g>\n     <g id=\"text_2\">\n      <!-- 0.2 -->\n      <defs>\n       <path d=\"M 19.1875 8.296875 \nL 53.609375 8.296875 \nL 53.609375 0 \nL 7.328125 0 \nL 7.328125 8.296875 \nQ 12.9375 14.109375 22.625 23.890625 \nQ 32.328125 33.6875 34.8125 36.53125 \nQ 39.546875 41.84375 41.421875 45.53125 \nQ 43.3125 49.21875 43.3125 52.78125 \nQ 43.3125 58.59375 39.234375 62.25 \nQ 35.15625 65.921875 28.609375 65.921875 \nQ 23.96875 65.921875 18.8125 64.3125 \nQ 13.671875 62.703125 7.8125 59.421875 \nL 7.8125 69.390625 \nQ 13.765625 71.78125 18.9375 73 \nQ 24.125 74.21875 28.421875 74.21875 \nQ 39.75 74.21875 46.484375 68.546875 \nQ 53.21875 62.890625 53.21875 53.421875 \nQ 53.21875 48.921875 51.53125 44.890625 \nQ 49.859375 40.875 45.40625 35.40625 \nQ 44.1875 33.984375 37.640625 27.21875 \nQ 31.109375 20.453125 19.1875 8.296875 \nz\n\" id=\"DejaVuSans-50\"/>\n      </defs>\n      <g style=\"fill:#262626;\" transform=\"translate(155.644062 254.356562)scale(0.1 -0.1)\">\n       <use xlink:href=\"#DejaVuSans-48\"/>\n       <use x=\"63.623047\" xlink:href=\"#DejaVuSans-46\"/>\n       <use x=\"95.410156\" xlink:href=\"#DejaVuSans-50\"/>\n      </g>\n     </g>\n    </g>\n    <g id=\"xtick_3\">\n     <g id=\"line2d_3\">\n      <path clip-path=\"url(#p980c078289)\" d=\"M 230.555625 239.758125 \nL 230.555625 22.318125 \n\" style=\"fill:none;stroke:#cccccc;stroke-linecap:round;stroke-width:0.8;\"/>\n     </g>\n     <g id=\"text_3\">\n      <!-- 0.4 -->\n      <defs>\n       <path d=\"M 37.796875 64.3125 \nL 12.890625 25.390625 \nL 37.796875 25.390625 \nz\nM 35.203125 72.90625 \nL 47.609375 72.90625 \nL 47.609375 25.390625 \nL 58.015625 25.390625 \nL 58.015625 17.1875 \nL 47.609375 17.1875 \nL 47.609375 0 \nL 37.796875 0 \nL 37.796875 17.1875 \nL 4.890625 17.1875 \nL 4.890625 26.703125 \nz\n\" id=\"DejaVuSans-52\"/>\n      </defs>\n      <g style=\"fill:#262626;\" transform=\"translate(222.604063 254.356562)scale(0.1 -0.1)\">\n       <use xlink:href=\"#DejaVuSans-48\"/>\n       <use x=\"63.623047\" xlink:href=\"#DejaVuSans-46\"/>\n       <use x=\"95.410156\" xlink:href=\"#DejaVuSans-52\"/>\n      </g>\n     </g>\n    </g>\n    <g id=\"xtick_4\">\n     <g id=\"line2d_4\">\n      <path clip-path=\"url(#p980c078289)\" d=\"M 297.515625 239.758125 \nL 297.515625 22.318125 \n\" style=\"fill:none;stroke:#cccccc;stroke-linecap:round;stroke-width:0.8;\"/>\n     </g>\n     <g id=\"text_4\">\n      <!-- 0.6 -->\n      <defs>\n       <path d=\"M 33.015625 40.375 \nQ 26.375 40.375 22.484375 35.828125 \nQ 18.609375 31.296875 18.609375 23.390625 \nQ 18.609375 15.53125 22.484375 10.953125 \nQ 26.375 6.390625 33.015625 6.390625 \nQ 39.65625 6.390625 43.53125 10.953125 \nQ 47.40625 15.53125 47.40625 23.390625 \nQ 47.40625 31.296875 43.53125 35.828125 \nQ 39.65625 40.375 33.015625 40.375 \nz\nM 52.59375 71.296875 \nL 52.59375 62.3125 \nQ 48.875 64.0625 45.09375 64.984375 \nQ 41.3125 65.921875 37.59375 65.921875 \nQ 27.828125 65.921875 22.671875 59.328125 \nQ 17.53125 52.734375 16.796875 39.40625 \nQ 19.671875 43.65625 24.015625 45.921875 \nQ 28.375 48.1875 33.59375 48.1875 \nQ 44.578125 48.1875 50.953125 41.515625 \nQ 57.328125 34.859375 57.328125 23.390625 \nQ 57.328125 12.15625 50.6875 5.359375 \nQ 44.046875 -1.421875 33.015625 -1.421875 \nQ 20.359375 -1.421875 13.671875 8.265625 \nQ 6.984375 17.96875 6.984375 36.375 \nQ 6.984375 53.65625 15.1875 63.9375 \nQ 23.390625 74.21875 37.203125 74.21875 \nQ 40.921875 74.21875 44.703125 73.484375 \nQ 48.484375 72.75 52.59375 71.296875 \nz\n\" id=\"DejaVuSans-54\"/>\n      </defs>\n      <g style=\"fill:#262626;\" transform=\"translate(289.564063 254.356562)scale(0.1 -0.1)\">\n       <use xlink:href=\"#DejaVuSans-48\"/>\n       <use x=\"63.623047\" xlink:href=\"#DejaVuSans-46\"/>\n       <use x=\"95.410156\" xlink:href=\"#DejaVuSans-54\"/>\n      </g>\n     </g>\n    </g>\n    <g id=\"xtick_5\">\n     <g id=\"line2d_5\">\n      <path clip-path=\"url(#p980c078289)\" d=\"M 364.475625 239.758125 \nL 364.475625 22.318125 \n\" style=\"fill:none;stroke:#cccccc;stroke-linecap:round;stroke-width:0.8;\"/>\n     </g>\n     <g id=\"text_5\">\n      <!-- 0.8 -->\n      <defs>\n       <path d=\"M 31.78125 34.625 \nQ 24.75 34.625 20.71875 30.859375 \nQ 16.703125 27.09375 16.703125 20.515625 \nQ 16.703125 13.921875 20.71875 10.15625 \nQ 24.75 6.390625 31.78125 6.390625 \nQ 38.8125 6.390625 42.859375 10.171875 \nQ 46.921875 13.96875 46.921875 20.515625 \nQ 46.921875 27.09375 42.890625 30.859375 \nQ 38.875 34.625 31.78125 34.625 \nz\nM 21.921875 38.8125 \nQ 15.578125 40.375 12.03125 44.71875 \nQ 8.5 49.078125 8.5 55.328125 \nQ 8.5 64.0625 14.71875 69.140625 \nQ 20.953125 74.21875 31.78125 74.21875 \nQ 42.671875 74.21875 48.875 69.140625 \nQ 55.078125 64.0625 55.078125 55.328125 \nQ 55.078125 49.078125 51.53125 44.71875 \nQ 48 40.375 41.703125 38.8125 \nQ 48.828125 37.15625 52.796875 32.3125 \nQ 56.78125 27.484375 56.78125 20.515625 \nQ 56.78125 9.90625 50.3125 4.234375 \nQ 43.84375 -1.421875 31.78125 -1.421875 \nQ 19.734375 -1.421875 13.25 4.234375 \nQ 6.78125 9.90625 6.78125 20.515625 \nQ 6.78125 27.484375 10.78125 32.3125 \nQ 14.796875 37.15625 21.921875 38.8125 \nz\nM 18.3125 54.390625 \nQ 18.3125 48.734375 21.84375 45.5625 \nQ 25.390625 42.390625 31.78125 42.390625 \nQ 38.140625 42.390625 41.71875 45.5625 \nQ 45.3125 48.734375 45.3125 54.390625 \nQ 45.3125 60.0625 41.71875 63.234375 \nQ 38.140625 66.40625 31.78125 66.40625 \nQ 25.390625 66.40625 21.84375 63.234375 \nQ 18.3125 60.0625 18.3125 54.390625 \nz\n\" id=\"DejaVuSans-56\"/>\n      </defs>\n      <g style=\"fill:#262626;\" transform=\"translate(356.524063 254.356562)scale(0.1 -0.1)\">\n       <use xlink:href=\"#DejaVuSans-48\"/>\n       <use x=\"63.623047\" xlink:href=\"#DejaVuSans-46\"/>\n       <use x=\"95.410156\" xlink:href=\"#DejaVuSans-56\"/>\n      </g>\n     </g>\n    </g>\n    <g id=\"xtick_6\">\n     <g id=\"line2d_6\">\n      <path clip-path=\"url(#p980c078289)\" d=\"M 431.435625 239.758125 \nL 431.435625 22.318125 \n\" style=\"fill:none;stroke:#cccccc;stroke-linecap:round;stroke-width:0.8;\"/>\n     </g>\n     <g id=\"text_6\">\n      <!-- 1.0 -->\n      <defs>\n       <path d=\"M 12.40625 8.296875 \nL 28.515625 8.296875 \nL 28.515625 63.921875 \nL 10.984375 60.40625 \nL 10.984375 69.390625 \nL 28.421875 72.90625 \nL 38.28125 72.90625 \nL 38.28125 8.296875 \nL 54.390625 8.296875 \nL 54.390625 0 \nL 12.40625 0 \nz\n\" id=\"DejaVuSans-49\"/>\n      </defs>\n      <g style=\"fill:#262626;\" transform=\"translate(423.484063 254.356562)scale(0.1 -0.1)\">\n       <use xlink:href=\"#DejaVuSans-49\"/>\n       <use x=\"63.623047\" xlink:href=\"#DejaVuSans-46\"/>\n       <use x=\"95.410156\" xlink:href=\"#DejaVuSans-48\"/>\n      </g>\n     </g>\n    </g>\n    <g id=\"text_7\">\n     <!-- Tasa de Falsos Positivos (1-Especificidad) -->\n     <defs>\n      <path d=\"M -0.296875 72.90625 \nL 61.375 72.90625 \nL 61.375 64.59375 \nL 35.5 64.59375 \nL 35.5 0 \nL 25.59375 0 \nL 25.59375 64.59375 \nL -0.296875 64.59375 \nz\n\" id=\"DejaVuSans-84\"/>\n      <path d=\"M 34.28125 27.484375 \nQ 23.390625 27.484375 19.1875 25 \nQ 14.984375 22.515625 14.984375 16.5 \nQ 14.984375 11.71875 18.140625 8.90625 \nQ 21.296875 6.109375 26.703125 6.109375 \nQ 34.1875 6.109375 38.703125 11.40625 \nQ 43.21875 16.703125 43.21875 25.484375 \nL 43.21875 27.484375 \nz\nM 52.203125 31.203125 \nL 52.203125 0 \nL 43.21875 0 \nL 43.21875 8.296875 \nQ 40.140625 3.328125 35.546875 0.953125 \nQ 30.953125 -1.421875 24.3125 -1.421875 \nQ 15.921875 -1.421875 10.953125 3.296875 \nQ 6 8.015625 6 15.921875 \nQ 6 25.140625 12.171875 29.828125 \nQ 18.359375 34.515625 30.609375 34.515625 \nL 43.21875 34.515625 \nL 43.21875 35.40625 \nQ 43.21875 41.609375 39.140625 45 \nQ 35.0625 48.390625 27.6875 48.390625 \nQ 23 48.390625 18.546875 47.265625 \nQ 14.109375 46.140625 10.015625 43.890625 \nL 10.015625 52.203125 \nQ 14.9375 54.109375 19.578125 55.046875 \nQ 24.21875 56 28.609375 56 \nQ 40.484375 56 46.34375 49.84375 \nQ 52.203125 43.703125 52.203125 31.203125 \nz\n\" id=\"DejaVuSans-97\"/>\n      <path d=\"M 44.28125 53.078125 \nL 44.28125 44.578125 \nQ 40.484375 46.53125 36.375 47.5 \nQ 32.28125 48.484375 27.875 48.484375 \nQ 21.1875 48.484375 17.84375 46.4375 \nQ 14.5 44.390625 14.5 40.28125 \nQ 14.5 37.15625 16.890625 35.375 \nQ 19.28125 33.59375 26.515625 31.984375 \nL 29.59375 31.296875 \nQ 39.15625 29.25 43.1875 25.515625 \nQ 47.21875 21.78125 47.21875 15.09375 \nQ 47.21875 7.46875 41.1875 3.015625 \nQ 35.15625 -1.421875 24.609375 -1.421875 \nQ 20.21875 -1.421875 15.453125 -0.5625 \nQ 10.6875 0.296875 5.421875 2 \nL 5.421875 11.28125 \nQ 10.40625 8.6875 15.234375 7.390625 \nQ 20.0625 6.109375 24.8125 6.109375 \nQ 31.15625 6.109375 34.5625 8.28125 \nQ 37.984375 10.453125 37.984375 14.40625 \nQ 37.984375 18.0625 35.515625 20.015625 \nQ 33.0625 21.96875 24.703125 23.78125 \nL 21.578125 24.515625 \nQ 13.234375 26.265625 9.515625 29.90625 \nQ 5.8125 33.546875 5.8125 39.890625 \nQ 5.8125 47.609375 11.28125 51.796875 \nQ 16.75 56 26.8125 56 \nQ 31.78125 56 36.171875 55.265625 \nQ 40.578125 54.546875 44.28125 53.078125 \nz\n\" id=\"DejaVuSans-115\"/>\n      <path id=\"DejaVuSans-32\"/>\n      <path d=\"M 45.40625 46.390625 \nL 45.40625 75.984375 \nL 54.390625 75.984375 \nL 54.390625 0 \nL 45.40625 0 \nL 45.40625 8.203125 \nQ 42.578125 3.328125 38.25 0.953125 \nQ 33.9375 -1.421875 27.875 -1.421875 \nQ 17.96875 -1.421875 11.734375 6.484375 \nQ 5.515625 14.40625 5.515625 27.296875 \nQ 5.515625 40.1875 11.734375 48.09375 \nQ 17.96875 56 27.875 56 \nQ 33.9375 56 38.25 53.625 \nQ 42.578125 51.265625 45.40625 46.390625 \nz\nM 14.796875 27.296875 \nQ 14.796875 17.390625 18.875 11.75 \nQ 22.953125 6.109375 30.078125 6.109375 \nQ 37.203125 6.109375 41.296875 11.75 \nQ 45.40625 17.390625 45.40625 27.296875 \nQ 45.40625 37.203125 41.296875 42.84375 \nQ 37.203125 48.484375 30.078125 48.484375 \nQ 22.953125 48.484375 18.875 42.84375 \nQ 14.796875 37.203125 14.796875 27.296875 \nz\n\" id=\"DejaVuSans-100\"/>\n      <path d=\"M 56.203125 29.59375 \nL 56.203125 25.203125 \nL 14.890625 25.203125 \nQ 15.484375 15.921875 20.484375 11.0625 \nQ 25.484375 6.203125 34.421875 6.203125 \nQ 39.59375 6.203125 44.453125 7.46875 \nQ 49.3125 8.734375 54.109375 11.28125 \nL 54.109375 2.78125 \nQ 49.265625 0.734375 44.1875 -0.34375 \nQ 39.109375 -1.421875 33.890625 -1.421875 \nQ 20.796875 -1.421875 13.15625 6.1875 \nQ 5.515625 13.8125 5.515625 26.8125 \nQ 5.515625 40.234375 12.765625 48.109375 \nQ 20.015625 56 32.328125 56 \nQ 43.359375 56 49.78125 48.890625 \nQ 56.203125 41.796875 56.203125 29.59375 \nz\nM 47.21875 32.234375 \nQ 47.125 39.59375 43.09375 43.984375 \nQ 39.0625 48.390625 32.421875 48.390625 \nQ 24.90625 48.390625 20.390625 44.140625 \nQ 15.875 39.890625 15.1875 32.171875 \nz\n\" id=\"DejaVuSans-101\"/>\n      <path d=\"M 9.8125 72.90625 \nL 51.703125 72.90625 \nL 51.703125 64.59375 \nL 19.671875 64.59375 \nL 19.671875 43.109375 \nL 48.578125 43.109375 \nL 48.578125 34.8125 \nL 19.671875 34.8125 \nL 19.671875 0 \nL 9.8125 0 \nz\n\" id=\"DejaVuSans-70\"/>\n      <path d=\"M 9.421875 75.984375 \nL 18.40625 75.984375 \nL 18.40625 0 \nL 9.421875 0 \nz\n\" id=\"DejaVuSans-108\"/>\n      <path d=\"M 30.609375 48.390625 \nQ 23.390625 48.390625 19.1875 42.75 \nQ 14.984375 37.109375 14.984375 27.296875 \nQ 14.984375 17.484375 19.15625 11.84375 \nQ 23.34375 6.203125 30.609375 6.203125 \nQ 37.796875 6.203125 41.984375 11.859375 \nQ 46.1875 17.53125 46.1875 27.296875 \nQ 46.1875 37.015625 41.984375 42.703125 \nQ 37.796875 48.390625 30.609375 48.390625 \nz\nM 30.609375 56 \nQ 42.328125 56 49.015625 48.375 \nQ 55.71875 40.765625 55.71875 27.296875 \nQ 55.71875 13.875 49.015625 6.21875 \nQ 42.328125 -1.421875 30.609375 -1.421875 \nQ 18.84375 -1.421875 12.171875 6.21875 \nQ 5.515625 13.875 5.515625 27.296875 \nQ 5.515625 40.765625 12.171875 48.375 \nQ 18.84375 56 30.609375 56 \nz\n\" id=\"DejaVuSans-111\"/>\n      <path d=\"M 19.671875 64.796875 \nL 19.671875 37.40625 \nL 32.078125 37.40625 \nQ 38.96875 37.40625 42.71875 40.96875 \nQ 46.484375 44.53125 46.484375 51.125 \nQ 46.484375 57.671875 42.71875 61.234375 \nQ 38.96875 64.796875 32.078125 64.796875 \nz\nM 9.8125 72.90625 \nL 32.078125 72.90625 \nQ 44.34375 72.90625 50.609375 67.359375 \nQ 56.890625 61.8125 56.890625 51.125 \nQ 56.890625 40.328125 50.609375 34.8125 \nQ 44.34375 29.296875 32.078125 29.296875 \nL 19.671875 29.296875 \nL 19.671875 0 \nL 9.8125 0 \nz\n\" id=\"DejaVuSans-80\"/>\n      <path d=\"M 9.421875 54.6875 \nL 18.40625 54.6875 \nL 18.40625 0 \nL 9.421875 0 \nz\nM 9.421875 75.984375 \nL 18.40625 75.984375 \nL 18.40625 64.59375 \nL 9.421875 64.59375 \nz\n\" id=\"DejaVuSans-105\"/>\n      <path d=\"M 18.3125 70.21875 \nL 18.3125 54.6875 \nL 36.8125 54.6875 \nL 36.8125 47.703125 \nL 18.3125 47.703125 \nL 18.3125 18.015625 \nQ 18.3125 11.328125 20.140625 9.421875 \nQ 21.96875 7.515625 27.59375 7.515625 \nL 36.8125 7.515625 \nL 36.8125 0 \nL 27.59375 0 \nQ 17.1875 0 13.234375 3.875 \nQ 9.28125 7.765625 9.28125 18.015625 \nL 9.28125 47.703125 \nL 2.6875 47.703125 \nL 2.6875 54.6875 \nL 9.28125 54.6875 \nL 9.28125 70.21875 \nz\n\" id=\"DejaVuSans-116\"/>\n      <path d=\"M 2.984375 54.6875 \nL 12.5 54.6875 \nL 29.59375 8.796875 \nL 46.6875 54.6875 \nL 56.203125 54.6875 \nL 35.6875 0 \nL 23.484375 0 \nz\n\" id=\"DejaVuSans-118\"/>\n      <path d=\"M 31 75.875 \nQ 24.46875 64.65625 21.28125 53.65625 \nQ 18.109375 42.671875 18.109375 31.390625 \nQ 18.109375 20.125 21.3125 9.0625 \nQ 24.515625 -2 31 -13.1875 \nL 23.1875 -13.1875 \nQ 15.875 -1.703125 12.234375 9.375 \nQ 8.59375 20.453125 8.59375 31.390625 \nQ 8.59375 42.28125 12.203125 53.3125 \nQ 15.828125 64.359375 23.1875 75.875 \nz\n\" id=\"DejaVuSans-40\"/>\n      <path d=\"M 4.890625 31.390625 \nL 31.203125 31.390625 \nL 31.203125 23.390625 \nL 4.890625 23.390625 \nz\n\" id=\"DejaVuSans-45\"/>\n      <path d=\"M 9.8125 72.90625 \nL 55.90625 72.90625 \nL 55.90625 64.59375 \nL 19.671875 64.59375 \nL 19.671875 43.015625 \nL 54.390625 43.015625 \nL 54.390625 34.71875 \nL 19.671875 34.71875 \nL 19.671875 8.296875 \nL 56.78125 8.296875 \nL 56.78125 0 \nL 9.8125 0 \nz\n\" id=\"DejaVuSans-69\"/>\n      <path d=\"M 18.109375 8.203125 \nL 18.109375 -20.796875 \nL 9.078125 -20.796875 \nL 9.078125 54.6875 \nL 18.109375 54.6875 \nL 18.109375 46.390625 \nQ 20.953125 51.265625 25.265625 53.625 \nQ 29.59375 56 35.59375 56 \nQ 45.5625 56 51.78125 48.09375 \nQ 58.015625 40.1875 58.015625 27.296875 \nQ 58.015625 14.40625 51.78125 6.484375 \nQ 45.5625 -1.421875 35.59375 -1.421875 \nQ 29.59375 -1.421875 25.265625 0.953125 \nQ 20.953125 3.328125 18.109375 8.203125 \nz\nM 48.6875 27.296875 \nQ 48.6875 37.203125 44.609375 42.84375 \nQ 40.53125 48.484375 33.40625 48.484375 \nQ 26.265625 48.484375 22.1875 42.84375 \nQ 18.109375 37.203125 18.109375 27.296875 \nQ 18.109375 17.390625 22.1875 11.75 \nQ 26.265625 6.109375 33.40625 6.109375 \nQ 40.53125 6.109375 44.609375 11.75 \nQ 48.6875 17.390625 48.6875 27.296875 \nz\n\" id=\"DejaVuSans-112\"/>\n      <path d=\"M 48.78125 52.59375 \nL 48.78125 44.1875 \nQ 44.96875 46.296875 41.140625 47.34375 \nQ 37.3125 48.390625 33.40625 48.390625 \nQ 24.65625 48.390625 19.8125 42.84375 \nQ 14.984375 37.3125 14.984375 27.296875 \nQ 14.984375 17.28125 19.8125 11.734375 \nQ 24.65625 6.203125 33.40625 6.203125 \nQ 37.3125 6.203125 41.140625 7.25 \nQ 44.96875 8.296875 48.78125 10.40625 \nL 48.78125 2.09375 \nQ 45.015625 0.34375 40.984375 -0.53125 \nQ 36.96875 -1.421875 32.421875 -1.421875 \nQ 20.0625 -1.421875 12.78125 6.34375 \nQ 5.515625 14.109375 5.515625 27.296875 \nQ 5.515625 40.671875 12.859375 48.328125 \nQ 20.21875 56 33.015625 56 \nQ 37.15625 56 41.109375 55.140625 \nQ 45.0625 54.296875 48.78125 52.59375 \nz\n\" id=\"DejaVuSans-99\"/>\n      <path d=\"M 37.109375 75.984375 \nL 37.109375 68.5 \nL 28.515625 68.5 \nQ 23.6875 68.5 21.796875 66.546875 \nQ 19.921875 64.59375 19.921875 59.515625 \nL 19.921875 54.6875 \nL 34.71875 54.6875 \nL 34.71875 47.703125 \nL 19.921875 47.703125 \nL 19.921875 0 \nL 10.890625 0 \nL 10.890625 47.703125 \nL 2.296875 47.703125 \nL 2.296875 54.6875 \nL 10.890625 54.6875 \nL 10.890625 58.5 \nQ 10.890625 67.625 15.140625 71.796875 \nQ 19.390625 75.984375 28.609375 75.984375 \nz\n\" id=\"DejaVuSans-102\"/>\n      <path d=\"M 8.015625 75.875 \nL 15.828125 75.875 \nQ 23.140625 64.359375 26.78125 53.3125 \nQ 30.421875 42.28125 30.421875 31.390625 \nQ 30.421875 20.453125 26.78125 9.375 \nQ 23.140625 -1.703125 15.828125 -13.1875 \nL 8.015625 -13.1875 \nQ 14.5 -2 17.703125 9.0625 \nQ 20.90625 20.125 20.90625 31.390625 \nQ 20.90625 42.671875 17.703125 53.65625 \nQ 14.5 64.65625 8.015625 75.875 \nz\n\" id=\"DejaVuSans-41\"/>\n     </defs>\n     <g style=\"fill:#262626;\" transform=\"translate(161.72625 268.034687)scale(0.1 -0.1)\">\n      <use xlink:href=\"#DejaVuSans-84\"/>\n      <use x=\"44.583984\" xlink:href=\"#DejaVuSans-97\"/>\n      <use x=\"105.863281\" xlink:href=\"#DejaVuSans-115\"/>\n      <use x=\"157.962891\" xlink:href=\"#DejaVuSans-97\"/>\n      <use x=\"219.242188\" xlink:href=\"#DejaVuSans-32\"/>\n      <use x=\"251.029297\" xlink:href=\"#DejaVuSans-100\"/>\n      <use x=\"314.505859\" xlink:href=\"#DejaVuSans-101\"/>\n      <use x=\"376.029297\" xlink:href=\"#DejaVuSans-32\"/>\n      <use x=\"407.816406\" xlink:href=\"#DejaVuSans-70\"/>\n      <use x=\"456.210938\" xlink:href=\"#DejaVuSans-97\"/>\n      <use x=\"517.490234\" xlink:href=\"#DejaVuSans-108\"/>\n      <use x=\"545.273438\" xlink:href=\"#DejaVuSans-115\"/>\n      <use x=\"597.373047\" xlink:href=\"#DejaVuSans-111\"/>\n      <use x=\"658.554688\" xlink:href=\"#DejaVuSans-115\"/>\n      <use x=\"710.654297\" xlink:href=\"#DejaVuSans-32\"/>\n      <use x=\"742.441406\" xlink:href=\"#DejaVuSans-80\"/>\n      <use x=\"799.119141\" xlink:href=\"#DejaVuSans-111\"/>\n      <use x=\"860.300781\" xlink:href=\"#DejaVuSans-115\"/>\n      <use x=\"912.400391\" xlink:href=\"#DejaVuSans-105\"/>\n      <use x=\"940.183594\" xlink:href=\"#DejaVuSans-116\"/>\n      <use x=\"979.392578\" xlink:href=\"#DejaVuSans-105\"/>\n      <use x=\"1007.175781\" xlink:href=\"#DejaVuSans-118\"/>\n      <use x=\"1066.355469\" xlink:href=\"#DejaVuSans-111\"/>\n      <use x=\"1127.537109\" xlink:href=\"#DejaVuSans-115\"/>\n      <use x=\"1179.636719\" xlink:href=\"#DejaVuSans-32\"/>\n      <use x=\"1211.423828\" xlink:href=\"#DejaVuSans-40\"/>\n      <use x=\"1250.4375\" xlink:href=\"#DejaVuSans-49\"/>\n      <use x=\"1314.060547\" xlink:href=\"#DejaVuSans-45\"/>\n      <use x=\"1350.144531\" xlink:href=\"#DejaVuSans-69\"/>\n      <use x=\"1413.328125\" xlink:href=\"#DejaVuSans-115\"/>\n      <use x=\"1465.427734\" xlink:href=\"#DejaVuSans-112\"/>\n      <use x=\"1528.904297\" xlink:href=\"#DejaVuSans-101\"/>\n      <use x=\"1590.427734\" xlink:href=\"#DejaVuSans-99\"/>\n      <use x=\"1645.408203\" xlink:href=\"#DejaVuSans-105\"/>\n      <use x=\"1673.191406\" xlink:href=\"#DejaVuSans-102\"/>\n      <use x=\"1708.396484\" xlink:href=\"#DejaVuSans-105\"/>\n      <use x=\"1736.179688\" xlink:href=\"#DejaVuSans-99\"/>\n      <use x=\"1791.160156\" xlink:href=\"#DejaVuSans-105\"/>\n      <use x=\"1818.943359\" xlink:href=\"#DejaVuSans-100\"/>\n      <use x=\"1882.419922\" xlink:href=\"#DejaVuSans-97\"/>\n      <use x=\"1943.699219\" xlink:href=\"#DejaVuSans-100\"/>\n      <use x=\"2007.175781\" xlink:href=\"#DejaVuSans-41\"/>\n     </g>\n    </g>\n   </g>\n   <g id=\"matplotlib.axis_2\">\n    <g id=\"ytick_1\">\n     <g id=\"line2d_7\">\n      <path clip-path=\"url(#p980c078289)\" d=\"M 96.635625 239.758125 \nL 431.435625 239.758125 \n\" style=\"fill:none;stroke:#cccccc;stroke-linecap:round;stroke-width:0.8;\"/>\n     </g>\n     <g id=\"text_8\">\n      <!-- 0.0 -->\n      <g style=\"fill:#262626;\" transform=\"translate(73.7325 243.557344)scale(0.1 -0.1)\">\n       <use xlink:href=\"#DejaVuSans-48\"/>\n       <use x=\"63.623047\" xlink:href=\"#DejaVuSans-46\"/>\n       <use x=\"95.410156\" xlink:href=\"#DejaVuSans-48\"/>\n      </g>\n     </g>\n    </g>\n    <g id=\"ytick_2\">\n     <g id=\"line2d_8\">\n      <path clip-path=\"url(#p980c078289)\" d=\"M 96.635625 196.270125 \nL 431.435625 196.270125 \n\" style=\"fill:none;stroke:#cccccc;stroke-linecap:round;stroke-width:0.8;\"/>\n     </g>\n     <g id=\"text_9\">\n      <!-- 0.2 -->\n      <g style=\"fill:#262626;\" transform=\"translate(73.7325 200.069344)scale(0.1 -0.1)\">\n       <use xlink:href=\"#DejaVuSans-48\"/>\n       <use x=\"63.623047\" xlink:href=\"#DejaVuSans-46\"/>\n       <use x=\"95.410156\" xlink:href=\"#DejaVuSans-50\"/>\n      </g>\n     </g>\n    </g>\n    <g id=\"ytick_3\">\n     <g id=\"line2d_9\">\n      <path clip-path=\"url(#p980c078289)\" d=\"M 96.635625 152.782125 \nL 431.435625 152.782125 \n\" style=\"fill:none;stroke:#cccccc;stroke-linecap:round;stroke-width:0.8;\"/>\n     </g>\n     <g id=\"text_10\">\n      <!-- 0.4 -->\n      <g style=\"fill:#262626;\" transform=\"translate(73.7325 156.581344)scale(0.1 -0.1)\">\n       <use xlink:href=\"#DejaVuSans-48\"/>\n       <use x=\"63.623047\" xlink:href=\"#DejaVuSans-46\"/>\n       <use x=\"95.410156\" xlink:href=\"#DejaVuSans-52\"/>\n      </g>\n     </g>\n    </g>\n    <g id=\"ytick_4\">\n     <g id=\"line2d_10\">\n      <path clip-path=\"url(#p980c078289)\" d=\"M 96.635625 109.294125 \nL 431.435625 109.294125 \n\" style=\"fill:none;stroke:#cccccc;stroke-linecap:round;stroke-width:0.8;\"/>\n     </g>\n     <g id=\"text_11\">\n      <!-- 0.6 -->\n      <g style=\"fill:#262626;\" transform=\"translate(73.7325 113.093344)scale(0.1 -0.1)\">\n       <use xlink:href=\"#DejaVuSans-48\"/>\n       <use x=\"63.623047\" xlink:href=\"#DejaVuSans-46\"/>\n       <use x=\"95.410156\" xlink:href=\"#DejaVuSans-54\"/>\n      </g>\n     </g>\n    </g>\n    <g id=\"ytick_5\">\n     <g id=\"line2d_11\">\n      <path clip-path=\"url(#p980c078289)\" d=\"M 96.635625 65.806125 \nL 431.435625 65.806125 \n\" style=\"fill:none;stroke:#cccccc;stroke-linecap:round;stroke-width:0.8;\"/>\n     </g>\n     <g id=\"text_12\">\n      <!-- 0.8 -->\n      <g style=\"fill:#262626;\" transform=\"translate(73.7325 69.605344)scale(0.1 -0.1)\">\n       <use xlink:href=\"#DejaVuSans-48\"/>\n       <use x=\"63.623047\" xlink:href=\"#DejaVuSans-46\"/>\n       <use x=\"95.410156\" xlink:href=\"#DejaVuSans-56\"/>\n      </g>\n     </g>\n    </g>\n    <g id=\"ytick_6\">\n     <g id=\"line2d_12\">\n      <path clip-path=\"url(#p980c078289)\" d=\"M 96.635625 22.318125 \nL 431.435625 22.318125 \n\" style=\"fill:none;stroke:#cccccc;stroke-linecap:round;stroke-width:0.8;\"/>\n     </g>\n     <g id=\"text_13\">\n      <!-- 1.0 -->\n      <g style=\"fill:#262626;\" transform=\"translate(73.7325 26.117344)scale(0.1 -0.1)\">\n       <use xlink:href=\"#DejaVuSans-49\"/>\n       <use x=\"63.623047\" xlink:href=\"#DejaVuSans-46\"/>\n       <use x=\"95.410156\" xlink:href=\"#DejaVuSans-48\"/>\n      </g>\n     </g>\n    </g>\n    <g id=\"text_14\">\n     <!-- Tasa de Verdaderos Positivos (Sensitividad) -->\n     <defs>\n      <path d=\"M 28.609375 0 \nL 0.78125 72.90625 \nL 11.078125 72.90625 \nL 34.1875 11.53125 \nL 57.328125 72.90625 \nL 67.578125 72.90625 \nL 39.796875 0 \nz\n\" id=\"DejaVuSans-86\"/>\n      <path d=\"M 41.109375 46.296875 \nQ 39.59375 47.171875 37.8125 47.578125 \nQ 36.03125 48 33.890625 48 \nQ 26.265625 48 22.1875 43.046875 \nQ 18.109375 38.09375 18.109375 28.8125 \nL 18.109375 0 \nL 9.078125 0 \nL 9.078125 54.6875 \nL 18.109375 54.6875 \nL 18.109375 46.1875 \nQ 20.953125 51.171875 25.484375 53.578125 \nQ 30.03125 56 36.53125 56 \nQ 37.453125 56 38.578125 55.875 \nQ 39.703125 55.765625 41.0625 55.515625 \nz\n\" id=\"DejaVuSans-114\"/>\n      <path d=\"M 53.515625 70.515625 \nL 53.515625 60.890625 \nQ 47.90625 63.578125 42.921875 64.890625 \nQ 37.9375 66.21875 33.296875 66.21875 \nQ 25.25 66.21875 20.875 63.09375 \nQ 16.5 59.96875 16.5 54.203125 \nQ 16.5 49.359375 19.40625 46.890625 \nQ 22.3125 44.4375 30.421875 42.921875 \nL 36.375 41.703125 \nQ 47.40625 39.59375 52.65625 34.296875 \nQ 57.90625 29 57.90625 20.125 \nQ 57.90625 9.515625 50.796875 4.046875 \nQ 43.703125 -1.421875 29.984375 -1.421875 \nQ 24.8125 -1.421875 18.96875 -0.25 \nQ 13.140625 0.921875 6.890625 3.21875 \nL 6.890625 13.375 \nQ 12.890625 10.015625 18.65625 8.296875 \nQ 24.421875 6.59375 29.984375 6.59375 \nQ 38.421875 6.59375 43.015625 9.90625 \nQ 47.609375 13.234375 47.609375 19.390625 \nQ 47.609375 24.75 44.3125 27.78125 \nQ 41.015625 30.8125 33.5 32.328125 \nL 27.484375 33.5 \nQ 16.453125 35.6875 11.515625 40.375 \nQ 6.59375 45.0625 6.59375 53.421875 \nQ 6.59375 63.09375 13.40625 68.65625 \nQ 20.21875 74.21875 32.171875 74.21875 \nQ 37.3125 74.21875 42.625 73.28125 \nQ 47.953125 72.359375 53.515625 70.515625 \nz\n\" id=\"DejaVuSans-83\"/>\n      <path d=\"M 54.890625 33.015625 \nL 54.890625 0 \nL 45.90625 0 \nL 45.90625 32.71875 \nQ 45.90625 40.484375 42.875 44.328125 \nQ 39.84375 48.1875 33.796875 48.1875 \nQ 26.515625 48.1875 22.3125 43.546875 \nQ 18.109375 38.921875 18.109375 30.90625 \nL 18.109375 0 \nL 9.078125 0 \nL 9.078125 54.6875 \nL 18.109375 54.6875 \nL 18.109375 46.1875 \nQ 21.34375 51.125 25.703125 53.5625 \nQ 30.078125 56 35.796875 56 \nQ 45.21875 56 50.046875 50.171875 \nQ 54.890625 44.34375 54.890625 33.015625 \nz\n\" id=\"DejaVuSans-110\"/>\n     </defs>\n     <g style=\"fill:#262626;\" transform=\"translate(67.652812 239.064687)rotate(-90)scale(0.1 -0.1)\">\n      <use xlink:href=\"#DejaVuSans-84\"/>\n      <use x=\"44.583984\" xlink:href=\"#DejaVuSans-97\"/>\n      <use x=\"105.863281\" xlink:href=\"#DejaVuSans-115\"/>\n      <use x=\"157.962891\" xlink:href=\"#DejaVuSans-97\"/>\n      <use x=\"219.242188\" xlink:href=\"#DejaVuSans-32\"/>\n      <use x=\"251.029297\" xlink:href=\"#DejaVuSans-100\"/>\n      <use x=\"314.505859\" xlink:href=\"#DejaVuSans-101\"/>\n      <use x=\"376.029297\" xlink:href=\"#DejaVuSans-32\"/>\n      <use x=\"407.816406\" xlink:href=\"#DejaVuSans-86\"/>\n      <use x=\"468.474609\" xlink:href=\"#DejaVuSans-101\"/>\n      <use x=\"529.998047\" xlink:href=\"#DejaVuSans-114\"/>\n      <use x=\"569.361328\" xlink:href=\"#DejaVuSans-100\"/>\n      <use x=\"632.837891\" xlink:href=\"#DejaVuSans-97\"/>\n      <use x=\"694.117188\" xlink:href=\"#DejaVuSans-100\"/>\n      <use x=\"757.59375\" xlink:href=\"#DejaVuSans-101\"/>\n      <use x=\"819.117188\" xlink:href=\"#DejaVuSans-114\"/>\n      <use x=\"857.980469\" xlink:href=\"#DejaVuSans-111\"/>\n      <use x=\"919.162109\" xlink:href=\"#DejaVuSans-115\"/>\n      <use x=\"971.261719\" xlink:href=\"#DejaVuSans-32\"/>\n      <use x=\"1003.048828\" xlink:href=\"#DejaVuSans-80\"/>\n      <use x=\"1059.726562\" xlink:href=\"#DejaVuSans-111\"/>\n      <use x=\"1120.908203\" xlink:href=\"#DejaVuSans-115\"/>\n      <use x=\"1173.007812\" xlink:href=\"#DejaVuSans-105\"/>\n      <use x=\"1200.791016\" xlink:href=\"#DejaVuSans-116\"/>\n      <use x=\"1240\" xlink:href=\"#DejaVuSans-105\"/>\n      <use x=\"1267.783203\" xlink:href=\"#DejaVuSans-118\"/>\n      <use x=\"1326.962891\" xlink:href=\"#DejaVuSans-111\"/>\n      <use x=\"1388.144531\" xlink:href=\"#DejaVuSans-115\"/>\n      <use x=\"1440.244141\" xlink:href=\"#DejaVuSans-32\"/>\n      <use x=\"1472.03125\" xlink:href=\"#DejaVuSans-40\"/>\n      <use x=\"1511.044922\" xlink:href=\"#DejaVuSans-83\"/>\n      <use x=\"1574.521484\" xlink:href=\"#DejaVuSans-101\"/>\n      <use x=\"1636.044922\" xlink:href=\"#DejaVuSans-110\"/>\n      <use x=\"1699.423828\" xlink:href=\"#DejaVuSans-115\"/>\n      <use x=\"1751.523438\" xlink:href=\"#DejaVuSans-105\"/>\n      <use x=\"1779.306641\" xlink:href=\"#DejaVuSans-116\"/>\n      <use x=\"1818.515625\" xlink:href=\"#DejaVuSans-105\"/>\n      <use x=\"1846.298828\" xlink:href=\"#DejaVuSans-118\"/>\n      <use x=\"1905.478516\" xlink:href=\"#DejaVuSans-105\"/>\n      <use x=\"1933.261719\" xlink:href=\"#DejaVuSans-100\"/>\n      <use x=\"1996.738281\" xlink:href=\"#DejaVuSans-97\"/>\n      <use x=\"2058.017578\" xlink:href=\"#DejaVuSans-100\"/>\n      <use x=\"2121.494141\" xlink:href=\"#DejaVuSans-41\"/>\n     </g>\n    </g>\n   </g>\n   <g id=\"line2d_13\">\n    <path clip-path=\"url(#p980c078289)\" d=\"M 96.635625 239.758125 \nL 195.658434 69.210044 \nL 431.435625 22.318125 \n\" style=\"fill:none;stroke:#1f77b4;stroke-linecap:round;stroke-width:1.5;\"/>\n   </g>\n   <g id=\"line2d_14\">\n    <path clip-path=\"url(#p980c078289)\" d=\"M 96.635625 239.758125 \nL 171.647434 56.416004 \nL 431.435625 22.318125 \n\" style=\"fill:none;stroke:#ff7f0e;stroke-linecap:round;stroke-width:1.5;\"/>\n   </g>\n   <g id=\"line2d_15\">\n    <path clip-path=\"url(#p980c078289)\" d=\"M 96.635625 239.758125 \nL 135.721201 33.9384 \nL 431.435625 22.318125 \n\" style=\"fill:none;stroke:#2ca02c;stroke-linecap:round;stroke-width:1.5;\"/>\n   </g>\n   <g id=\"line2d_16\">\n    <path clip-path=\"url(#p980c078289)\" d=\"M 96.635625 239.758125 \nL 121.007693 32.471194 \nL 431.435625 22.318125 \n\" style=\"fill:none;stroke:#d62728;stroke-linecap:round;stroke-width:1.5;\"/>\n   </g>\n   <g id=\"line2d_17\">\n    <path clip-path=\"url(#p980c078289)\" d=\"M 96.635625 239.758125 \nL 125.972373 27.952198 \nL 431.435625 22.318125 \n\" style=\"fill:none;stroke:#9467bd;stroke-linecap:round;stroke-width:1.5;\"/>\n   </g>\n   <g id=\"patch_3\">\n    <path d=\"M 96.635625 239.758125 \nL 96.635625 22.318125 \n\" style=\"fill:none;stroke:#262626;stroke-linecap:square;stroke-linejoin:miter;stroke-width:0.8;\"/>\n   </g>\n   <g id=\"patch_4\">\n    <path d=\"M 431.435625 239.758125 \nL 431.435625 22.318125 \n\" style=\"fill:none;stroke:#262626;stroke-linecap:square;stroke-linejoin:miter;stroke-width:0.8;\"/>\n   </g>\n   <g id=\"patch_5\">\n    <path d=\"M 96.635625 239.758125 \nL 431.435625 239.758125 \n\" style=\"fill:none;stroke:#262626;stroke-linecap:square;stroke-linejoin:miter;stroke-width:0.8;\"/>\n   </g>\n   <g id=\"patch_6\">\n    <path d=\"M 96.635625 22.318125 \nL 431.435625 22.318125 \n\" style=\"fill:none;stroke:#262626;stroke-linecap:square;stroke-linejoin:miter;stroke-width:0.8;\"/>\n   </g>\n   <g id=\"text_15\">\n    <!-- Curva ROC para Caso A: 3 Capas escondidas:5(b),10(y),20(g),50(r),100(m),neuronas. -->\n    <defs>\n     <path d=\"M 64.40625 67.28125 \nL 64.40625 56.890625 \nQ 59.421875 61.53125 53.78125 63.8125 \nQ 48.140625 66.109375 41.796875 66.109375 \nQ 29.296875 66.109375 22.65625 58.46875 \nQ 16.015625 50.828125 16.015625 36.375 \nQ 16.015625 21.96875 22.65625 14.328125 \nQ 29.296875 6.6875 41.796875 6.6875 \nQ 48.140625 6.6875 53.78125 8.984375 \nQ 59.421875 11.28125 64.40625 15.921875 \nL 64.40625 5.609375 \nQ 59.234375 2.09375 53.4375 0.328125 \nQ 47.65625 -1.421875 41.21875 -1.421875 \nQ 24.65625 -1.421875 15.125 8.703125 \nQ 5.609375 18.84375 5.609375 36.375 \nQ 5.609375 53.953125 15.125 64.078125 \nQ 24.65625 74.21875 41.21875 74.21875 \nQ 47.75 74.21875 53.53125 72.484375 \nQ 59.328125 70.75 64.40625 67.28125 \nz\n\" id=\"DejaVuSans-67\"/>\n     <path d=\"M 8.5 21.578125 \nL 8.5 54.6875 \nL 17.484375 54.6875 \nL 17.484375 21.921875 \nQ 17.484375 14.15625 20.5 10.265625 \nQ 23.53125 6.390625 29.59375 6.390625 \nQ 36.859375 6.390625 41.078125 11.03125 \nQ 45.3125 15.671875 45.3125 23.6875 \nL 45.3125 54.6875 \nL 54.296875 54.6875 \nL 54.296875 0 \nL 45.3125 0 \nL 45.3125 8.40625 \nQ 42.046875 3.421875 37.71875 1 \nQ 33.40625 -1.421875 27.6875 -1.421875 \nQ 18.265625 -1.421875 13.375 4.4375 \nQ 8.5 10.296875 8.5 21.578125 \nz\nM 31.109375 56 \nz\n\" id=\"DejaVuSans-117\"/>\n     <path d=\"M 44.390625 34.1875 \nQ 47.5625 33.109375 50.5625 29.59375 \nQ 53.5625 26.078125 56.59375 19.921875 \nL 66.609375 0 \nL 56 0 \nL 46.6875 18.703125 \nQ 43.0625 26.03125 39.671875 28.421875 \nQ 36.28125 30.8125 30.421875 30.8125 \nL 19.671875 30.8125 \nL 19.671875 0 \nL 9.8125 0 \nL 9.8125 72.90625 \nL 32.078125 72.90625 \nQ 44.578125 72.90625 50.734375 67.671875 \nQ 56.890625 62.453125 56.890625 51.90625 \nQ 56.890625 45.015625 53.6875 40.46875 \nQ 50.484375 35.9375 44.390625 34.1875 \nz\nM 19.671875 64.796875 \nL 19.671875 38.921875 \nL 32.078125 38.921875 \nQ 39.203125 38.921875 42.84375 42.21875 \nQ 46.484375 45.515625 46.484375 51.90625 \nQ 46.484375 58.296875 42.84375 61.546875 \nQ 39.203125 64.796875 32.078125 64.796875 \nz\n\" id=\"DejaVuSans-82\"/>\n     <path d=\"M 39.40625 66.21875 \nQ 28.65625 66.21875 22.328125 58.203125 \nQ 16.015625 50.203125 16.015625 36.375 \nQ 16.015625 22.609375 22.328125 14.59375 \nQ 28.65625 6.59375 39.40625 6.59375 \nQ 50.140625 6.59375 56.421875 14.59375 \nQ 62.703125 22.609375 62.703125 36.375 \nQ 62.703125 50.203125 56.421875 58.203125 \nQ 50.140625 66.21875 39.40625 66.21875 \nz\nM 39.40625 74.21875 \nQ 54.734375 74.21875 63.90625 63.9375 \nQ 73.09375 53.65625 73.09375 36.375 \nQ 73.09375 19.140625 63.90625 8.859375 \nQ 54.734375 -1.421875 39.40625 -1.421875 \nQ 24.03125 -1.421875 14.8125 8.828125 \nQ 5.609375 19.09375 5.609375 36.375 \nQ 5.609375 53.65625 14.8125 63.9375 \nQ 24.03125 74.21875 39.40625 74.21875 \nz\n\" id=\"DejaVuSans-79\"/>\n     <path d=\"M 34.1875 63.1875 \nL 20.796875 26.90625 \nL 47.609375 26.90625 \nz\nM 28.609375 72.90625 \nL 39.796875 72.90625 \nL 67.578125 0 \nL 57.328125 0 \nL 50.6875 18.703125 \nL 17.828125 18.703125 \nL 11.1875 0 \nL 0.78125 0 \nz\n\" id=\"DejaVuSans-65\"/>\n     <path d=\"M 11.71875 12.40625 \nL 22.015625 12.40625 \nL 22.015625 0 \nL 11.71875 0 \nz\nM 11.71875 51.703125 \nL 22.015625 51.703125 \nL 22.015625 39.3125 \nL 11.71875 39.3125 \nz\n\" id=\"DejaVuSans-58\"/>\n     <path d=\"M 40.578125 39.3125 \nQ 47.65625 37.796875 51.625 33 \nQ 55.609375 28.21875 55.609375 21.1875 \nQ 55.609375 10.40625 48.1875 4.484375 \nQ 40.765625 -1.421875 27.09375 -1.421875 \nQ 22.515625 -1.421875 17.65625 -0.515625 \nQ 12.796875 0.390625 7.625 2.203125 \nL 7.625 11.71875 \nQ 11.71875 9.328125 16.59375 8.109375 \nQ 21.484375 6.890625 26.8125 6.890625 \nQ 36.078125 6.890625 40.9375 10.546875 \nQ 45.796875 14.203125 45.796875 21.1875 \nQ 45.796875 27.640625 41.28125 31.265625 \nQ 36.765625 34.90625 28.71875 34.90625 \nL 20.21875 34.90625 \nL 20.21875 43.015625 \nL 29.109375 43.015625 \nQ 36.375 43.015625 40.234375 45.921875 \nQ 44.09375 48.828125 44.09375 54.296875 \nQ 44.09375 59.90625 40.109375 62.90625 \nQ 36.140625 65.921875 28.71875 65.921875 \nQ 24.65625 65.921875 20.015625 65.03125 \nQ 15.375 64.15625 9.8125 62.3125 \nL 9.8125 71.09375 \nQ 15.4375 72.65625 20.34375 73.4375 \nQ 25.25 74.21875 29.59375 74.21875 \nQ 40.828125 74.21875 47.359375 69.109375 \nQ 53.90625 64.015625 53.90625 55.328125 \nQ 53.90625 49.265625 50.4375 45.09375 \nQ 46.96875 40.921875 40.578125 39.3125 \nz\n\" id=\"DejaVuSans-51\"/>\n     <path d=\"M 10.796875 72.90625 \nL 49.515625 72.90625 \nL 49.515625 64.59375 \nL 19.828125 64.59375 \nL 19.828125 46.734375 \nQ 21.96875 47.46875 24.109375 47.828125 \nQ 26.265625 48.1875 28.421875 48.1875 \nQ 40.625 48.1875 47.75 41.5 \nQ 54.890625 34.8125 54.890625 23.390625 \nQ 54.890625 11.625 47.5625 5.09375 \nQ 40.234375 -1.421875 26.90625 -1.421875 \nQ 22.3125 -1.421875 17.546875 -0.640625 \nQ 12.796875 0.140625 7.71875 1.703125 \nL 7.71875 11.625 \nQ 12.109375 9.234375 16.796875 8.0625 \nQ 21.484375 6.890625 26.703125 6.890625 \nQ 35.15625 6.890625 40.078125 11.328125 \nQ 45.015625 15.765625 45.015625 23.390625 \nQ 45.015625 31 40.078125 35.4375 \nQ 35.15625 39.890625 26.703125 39.890625 \nQ 22.75 39.890625 18.8125 39.015625 \nQ 14.890625 38.140625 10.796875 36.28125 \nz\n\" id=\"DejaVuSans-53\"/>\n     <path d=\"M 48.6875 27.296875 \nQ 48.6875 37.203125 44.609375 42.84375 \nQ 40.53125 48.484375 33.40625 48.484375 \nQ 26.265625 48.484375 22.1875 42.84375 \nQ 18.109375 37.203125 18.109375 27.296875 \nQ 18.109375 17.390625 22.1875 11.75 \nQ 26.265625 6.109375 33.40625 6.109375 \nQ 40.53125 6.109375 44.609375 11.75 \nQ 48.6875 17.390625 48.6875 27.296875 \nz\nM 18.109375 46.390625 \nQ 20.953125 51.265625 25.265625 53.625 \nQ 29.59375 56 35.59375 56 \nQ 45.5625 56 51.78125 48.09375 \nQ 58.015625 40.1875 58.015625 27.296875 \nQ 58.015625 14.40625 51.78125 6.484375 \nQ 45.5625 -1.421875 35.59375 -1.421875 \nQ 29.59375 -1.421875 25.265625 0.953125 \nQ 20.953125 3.328125 18.109375 8.203125 \nL 18.109375 0 \nL 9.078125 0 \nL 9.078125 75.984375 \nL 18.109375 75.984375 \nz\n\" id=\"DejaVuSans-98\"/>\n     <path d=\"M 11.71875 12.40625 \nL 22.015625 12.40625 \nL 22.015625 4 \nL 14.015625 -11.625 \nL 7.71875 -11.625 \nL 11.71875 4 \nz\n\" id=\"DejaVuSans-44\"/>\n     <path d=\"M 32.171875 -5.078125 \nQ 28.375 -14.84375 24.75 -17.8125 \nQ 21.140625 -20.796875 15.09375 -20.796875 \nL 7.90625 -20.796875 \nL 7.90625 -13.28125 \nL 13.1875 -13.28125 \nQ 16.890625 -13.28125 18.9375 -11.515625 \nQ 21 -9.765625 23.484375 -3.21875 \nL 25.09375 0.875 \nL 2.984375 54.6875 \nL 12.5 54.6875 \nL 29.59375 11.921875 \nL 46.6875 54.6875 \nL 56.203125 54.6875 \nz\n\" id=\"DejaVuSans-121\"/>\n     <path d=\"M 45.40625 27.984375 \nQ 45.40625 37.75 41.375 43.109375 \nQ 37.359375 48.484375 30.078125 48.484375 \nQ 22.859375 48.484375 18.828125 43.109375 \nQ 14.796875 37.75 14.796875 27.984375 \nQ 14.796875 18.265625 18.828125 12.890625 \nQ 22.859375 7.515625 30.078125 7.515625 \nQ 37.359375 7.515625 41.375 12.890625 \nQ 45.40625 18.265625 45.40625 27.984375 \nz\nM 54.390625 6.78125 \nQ 54.390625 -7.171875 48.1875 -13.984375 \nQ 42 -20.796875 29.203125 -20.796875 \nQ 24.46875 -20.796875 20.265625 -20.09375 \nQ 16.0625 -19.390625 12.109375 -17.921875 \nL 12.109375 -9.1875 \nQ 16.0625 -11.328125 19.921875 -12.34375 \nQ 23.78125 -13.375 27.78125 -13.375 \nQ 36.625 -13.375 41.015625 -8.765625 \nQ 45.40625 -4.15625 45.40625 5.171875 \nL 45.40625 9.625 \nQ 42.625 4.78125 38.28125 2.390625 \nQ 33.9375 0 27.875 0 \nQ 17.828125 0 11.671875 7.65625 \nQ 5.515625 15.328125 5.515625 27.984375 \nQ 5.515625 40.671875 11.671875 48.328125 \nQ 17.828125 56 27.875 56 \nQ 33.9375 56 38.28125 53.609375 \nQ 42.625 51.21875 45.40625 46.390625 \nL 45.40625 54.6875 \nL 54.390625 54.6875 \nz\n\" id=\"DejaVuSans-103\"/>\n     <path d=\"M 52 44.1875 \nQ 55.375 50.25 60.0625 53.125 \nQ 64.75 56 71.09375 56 \nQ 79.640625 56 84.28125 50.015625 \nQ 88.921875 44.046875 88.921875 33.015625 \nL 88.921875 0 \nL 79.890625 0 \nL 79.890625 32.71875 \nQ 79.890625 40.578125 77.09375 44.375 \nQ 74.3125 48.1875 68.609375 48.1875 \nQ 61.625 48.1875 57.5625 43.546875 \nQ 53.515625 38.921875 53.515625 30.90625 \nL 53.515625 0 \nL 44.484375 0 \nL 44.484375 32.71875 \nQ 44.484375 40.625 41.703125 44.40625 \nQ 38.921875 48.1875 33.109375 48.1875 \nQ 26.21875 48.1875 22.15625 43.53125 \nQ 18.109375 38.875 18.109375 30.90625 \nL 18.109375 0 \nL 9.078125 0 \nL 9.078125 54.6875 \nL 18.109375 54.6875 \nL 18.109375 46.1875 \nQ 21.1875 51.21875 25.484375 53.609375 \nQ 29.78125 56 35.6875 56 \nQ 41.65625 56 45.828125 52.96875 \nQ 50 49.953125 52 44.1875 \nz\n\" id=\"DejaVuSans-109\"/>\n    </defs>\n    <g style=\"fill:#262626;\" transform=\"translate(7.2 16.318125)scale(0.12 -0.12)\">\n     <use xlink:href=\"#DejaVuSans-67\"/>\n     <use x=\"69.824219\" xlink:href=\"#DejaVuSans-117\"/>\n     <use x=\"133.203125\" xlink:href=\"#DejaVuSans-114\"/>\n     <use x=\"174.316406\" xlink:href=\"#DejaVuSans-118\"/>\n     <use x=\"233.496094\" xlink:href=\"#DejaVuSans-97\"/>\n     <use x=\"294.775391\" xlink:href=\"#DejaVuSans-32\"/>\n     <use x=\"326.5625\" xlink:href=\"#DejaVuSans-82\"/>\n     <use x=\"396.044922\" xlink:href=\"#DejaVuSans-79\"/>\n     <use x=\"474.755859\" xlink:href=\"#DejaVuSans-67\"/>\n     <use x=\"544.580078\" xlink:href=\"#DejaVuSans-32\"/>\n     <use x=\"576.367188\" xlink:href=\"#DejaVuSans-112\"/>\n     <use x=\"639.84375\" xlink:href=\"#DejaVuSans-97\"/>\n     <use x=\"701.123047\" xlink:href=\"#DejaVuSans-114\"/>\n     <use x=\"742.236328\" xlink:href=\"#DejaVuSans-97\"/>\n     <use x=\"803.515625\" xlink:href=\"#DejaVuSans-32\"/>\n     <use x=\"835.302734\" xlink:href=\"#DejaVuSans-67\"/>\n     <use x=\"905.126953\" xlink:href=\"#DejaVuSans-97\"/>\n     <use x=\"966.40625\" xlink:href=\"#DejaVuSans-115\"/>\n     <use x=\"1018.505859\" xlink:href=\"#DejaVuSans-111\"/>\n     <use x=\"1079.6875\" xlink:href=\"#DejaVuSans-32\"/>\n     <use x=\"1111.474609\" xlink:href=\"#DejaVuSans-65\"/>\n     <use x=\"1178.132812\" xlink:href=\"#DejaVuSans-58\"/>\n     <use x=\"1211.824219\" xlink:href=\"#DejaVuSans-32\"/>\n     <use x=\"1243.611328\" xlink:href=\"#DejaVuSans-51\"/>\n     <use x=\"1307.234375\" xlink:href=\"#DejaVuSans-32\"/>\n     <use x=\"1339.021484\" xlink:href=\"#DejaVuSans-67\"/>\n     <use x=\"1408.845703\" xlink:href=\"#DejaVuSans-97\"/>\n     <use x=\"1470.125\" xlink:href=\"#DejaVuSans-112\"/>\n     <use x=\"1533.601562\" xlink:href=\"#DejaVuSans-97\"/>\n     <use x=\"1594.880859\" xlink:href=\"#DejaVuSans-115\"/>\n     <use x=\"1646.980469\" xlink:href=\"#DejaVuSans-32\"/>\n     <use x=\"1678.767578\" xlink:href=\"#DejaVuSans-101\"/>\n     <use x=\"1740.291016\" xlink:href=\"#DejaVuSans-115\"/>\n     <use x=\"1792.390625\" xlink:href=\"#DejaVuSans-99\"/>\n     <use x=\"1847.371094\" xlink:href=\"#DejaVuSans-111\"/>\n     <use x=\"1908.552734\" xlink:href=\"#DejaVuSans-110\"/>\n     <use x=\"1971.931641\" xlink:href=\"#DejaVuSans-100\"/>\n     <use x=\"2035.408203\" xlink:href=\"#DejaVuSans-105\"/>\n     <use x=\"2063.191406\" xlink:href=\"#DejaVuSans-100\"/>\n     <use x=\"2126.667969\" xlink:href=\"#DejaVuSans-97\"/>\n     <use x=\"2187.947266\" xlink:href=\"#DejaVuSans-115\"/>\n     <use x=\"2240.046875\" xlink:href=\"#DejaVuSans-58\"/>\n     <use x=\"2273.738281\" xlink:href=\"#DejaVuSans-53\"/>\n     <use x=\"2337.361328\" xlink:href=\"#DejaVuSans-40\"/>\n     <use x=\"2376.375\" xlink:href=\"#DejaVuSans-98\"/>\n     <use x=\"2439.851562\" xlink:href=\"#DejaVuSans-41\"/>\n     <use x=\"2478.865234\" xlink:href=\"#DejaVuSans-44\"/>\n     <use x=\"2510.652344\" xlink:href=\"#DejaVuSans-49\"/>\n     <use x=\"2574.275391\" xlink:href=\"#DejaVuSans-48\"/>\n     <use x=\"2637.898438\" xlink:href=\"#DejaVuSans-40\"/>\n     <use x=\"2676.912109\" xlink:href=\"#DejaVuSans-121\"/>\n     <use x=\"2736.091797\" xlink:href=\"#DejaVuSans-41\"/>\n     <use x=\"2775.105469\" xlink:href=\"#DejaVuSans-44\"/>\n     <use x=\"2806.892578\" xlink:href=\"#DejaVuSans-50\"/>\n     <use x=\"2870.515625\" xlink:href=\"#DejaVuSans-48\"/>\n     <use x=\"2934.138672\" xlink:href=\"#DejaVuSans-40\"/>\n     <use x=\"2973.152344\" xlink:href=\"#DejaVuSans-103\"/>\n     <use x=\"3036.628906\" xlink:href=\"#DejaVuSans-41\"/>\n     <use x=\"3075.642578\" xlink:href=\"#DejaVuSans-44\"/>\n     <use x=\"3107.429688\" xlink:href=\"#DejaVuSans-53\"/>\n     <use x=\"3171.052734\" xlink:href=\"#DejaVuSans-48\"/>\n     <use x=\"3234.675781\" xlink:href=\"#DejaVuSans-40\"/>\n     <use x=\"3273.689453\" xlink:href=\"#DejaVuSans-114\"/>\n     <use x=\"3314.802734\" xlink:href=\"#DejaVuSans-41\"/>\n     <use x=\"3353.816406\" xlink:href=\"#DejaVuSans-44\"/>\n     <use x=\"3385.603516\" xlink:href=\"#DejaVuSans-49\"/>\n     <use x=\"3449.226562\" xlink:href=\"#DejaVuSans-48\"/>\n     <use x=\"3512.849609\" xlink:href=\"#DejaVuSans-48\"/>\n     <use x=\"3576.472656\" xlink:href=\"#DejaVuSans-40\"/>\n     <use x=\"3615.486328\" xlink:href=\"#DejaVuSans-109\"/>\n     <use x=\"3712.898438\" xlink:href=\"#DejaVuSans-41\"/>\n     <use x=\"3751.912109\" xlink:href=\"#DejaVuSans-44\"/>\n     <use x=\"3783.699219\" xlink:href=\"#DejaVuSans-110\"/>\n     <use x=\"3847.078125\" xlink:href=\"#DejaVuSans-101\"/>\n     <use x=\"3908.601562\" xlink:href=\"#DejaVuSans-117\"/>\n     <use x=\"3971.980469\" xlink:href=\"#DejaVuSans-114\"/>\n     <use x=\"4010.84375\" xlink:href=\"#DejaVuSans-111\"/>\n     <use x=\"4072.025391\" xlink:href=\"#DejaVuSans-110\"/>\n     <use x=\"4135.404297\" xlink:href=\"#DejaVuSans-97\"/>\n     <use x=\"4196.683594\" xlink:href=\"#DejaVuSans-115\"/>\n     <use x=\"4248.783203\" xlink:href=\"#DejaVuSans-46\"/>\n    </g>\n   </g>\n  </g>\n </g>\n <defs>\n  <clipPath id=\"p980c078289\">\n   <rect height=\"217.44\" width=\"334.8\" x=\"96.635625\" y=\"22.318125\"/>\n  </clipPath>\n </defs>\n</svg>\n"
          },
          "metadata": {}
        }
      ]
    },
    {
      "cell_type": "code",
      "metadata": {
        "colab": {
          "base_uri": "https://localhost:8080/",
          "height": 818
        },
        "id": "KbKchPkCWpaf",
        "outputId": "5d98a73e-68a1-4d28-f7a8-bac440d8c245"
      },
      "source": [
        "## Provemos con más capas porque esta bajando la precisión, provemos con 4 y con 5 capas\n",
        "## 4 Capas escondidas.\n",
        "from sklearn.model_selection import train_test_split\n",
        "\n",
        "X_valid, X_test2, y_valid, y_test2 = train_test_split( X_test, y_test, test_size=0.5, random_state=42)\n",
        "\n",
        "neuronas=[5,10,20,50,100]\n",
        "#neurona=0\n",
        "\n",
        "for i in neuronas:\n",
        "    model = MLPClassifier( hidden_layer_sizes=[i,i,i,i], activation='relu') ##\n",
        "    model.fit(X_valid,y_valid) # Acá se entrena con los datos de validación #\n",
        "    y_predict = model.predict(X_test2) #Acá y_predict se evalua con los datos test_2#\n",
        "    print (i)\n",
        "    print(f'Precisión con {round(i,5)} neuronas y cuatro capas escondidas {round(accuracy_score(y_test2, y_predict),5)}')\n",
        "    print(pd.DataFrame(confusion_matrix(y_test2,y_predict)))\n",
        "     # Grafica ROC\n",
        "    fpr, tpr, thresholds = roc_curve(y_test2,y_predict)\n",
        "    plt.plot(fpr,tpr)\n",
        "    plt.xlim([0.0, 1.0])\n",
        "    plt.ylim([0.0, 1.0])\n",
        "    plt.title('Curva ROC para Caso A: 4 Capas escondidas:5(b),10(y),20(g),50(r),100(m),neuronas.')\n",
        "    plt.xlabel('Tasa de Falsos Positivos (1-Especificidad)')\n",
        "    plt.ylabel('Tasa de Verdaderos Positivos (Sensitividad)')\n",
        "    plt.grid(True)\n",
        " \n"
      ],
      "execution_count": 201,
      "outputs": [
        {
          "output_type": "stream",
          "name": "stdout",
          "text": [
            "5\n",
            "Precisión con 5 neuronas y cuatro capas escondidas 0.75263\n",
            "      0     1\n",
            "0  2589  1120\n",
            "1   714  2991\n",
            "10\n",
            "Precisión con 10 neuronas y cuatro capas escondidas 0.84017\n",
            "      0     1\n",
            "0  2921   788\n",
            "1   397  3308\n",
            "20\n",
            "Precisión con 20 neuronas y cuatro capas escondidas 0.91813\n",
            "      0     1\n",
            "0  3254   455\n",
            "1   152  3553\n",
            "50\n",
            "Precisión con 50 neuronas y cuatro capas escondidas 0.93323\n",
            "      0     1\n",
            "0  3266   443\n",
            "1    52  3653\n",
            "100\n",
            "Precisión con 100 neuronas y cuatro capas escondidas 0.94807\n",
            "      0     1\n",
            "0  3409   300\n",
            "1    85  3620\n"
          ]
        },
        {
          "output_type": "display_data",
          "data": {
            "text/plain": [
              "<Figure size 432x288 with 1 Axes>"
            ],
            "image/svg+xml": "<?xml version=\"1.0\" encoding=\"utf-8\" standalone=\"no\"?>\n<!DOCTYPE svg PUBLIC \"-//W3C//DTD SVG 1.1//EN\"\n  \"http://www.w3.org/Graphics/SVG/1.1/DTD/svg11.dtd\">\n<!-- Created with matplotlib (https://matplotlib.org/) -->\n<svg height=\"277.314375pt\" version=\"1.1\" viewBox=\"0 0 528.07125 277.314375\" width=\"528.07125pt\" xmlns=\"http://www.w3.org/2000/svg\" xmlns:xlink=\"http://www.w3.org/1999/xlink\">\n <defs>\n  <style type=\"text/css\">\n*{stroke-linecap:butt;stroke-linejoin:round;}\n  </style>\n </defs>\n <g id=\"figure_1\">\n  <g id=\"patch_1\">\n   <path d=\"M 0 277.314375 \nL 528.07125 277.314375 \nL 528.07125 0 \nL 0 0 \nz\n\" style=\"fill:#ffffff;\"/>\n  </g>\n  <g id=\"axes_1\">\n   <g id=\"patch_2\">\n    <path d=\"M 96.635625 239.758125 \nL 431.435625 239.758125 \nL 431.435625 22.318125 \nL 96.635625 22.318125 \nz\n\" style=\"fill:#ffffff;\"/>\n   </g>\n   <g id=\"matplotlib.axis_1\">\n    <g id=\"xtick_1\">\n     <g id=\"line2d_1\">\n      <path clip-path=\"url(#pb110a647f8)\" d=\"M 96.635625 239.758125 \nL 96.635625 22.318125 \n\" style=\"fill:none;stroke:#cccccc;stroke-linecap:round;stroke-width:0.8;\"/>\n     </g>\n     <g id=\"text_1\">\n      <!-- 0.0 -->\n      <defs>\n       <path d=\"M 31.78125 66.40625 \nQ 24.171875 66.40625 20.328125 58.90625 \nQ 16.5 51.421875 16.5 36.375 \nQ 16.5 21.390625 20.328125 13.890625 \nQ 24.171875 6.390625 31.78125 6.390625 \nQ 39.453125 6.390625 43.28125 13.890625 \nQ 47.125 21.390625 47.125 36.375 \nQ 47.125 51.421875 43.28125 58.90625 \nQ 39.453125 66.40625 31.78125 66.40625 \nz\nM 31.78125 74.21875 \nQ 44.046875 74.21875 50.515625 64.515625 \nQ 56.984375 54.828125 56.984375 36.375 \nQ 56.984375 17.96875 50.515625 8.265625 \nQ 44.046875 -1.421875 31.78125 -1.421875 \nQ 19.53125 -1.421875 13.0625 8.265625 \nQ 6.59375 17.96875 6.59375 36.375 \nQ 6.59375 54.828125 13.0625 64.515625 \nQ 19.53125 74.21875 31.78125 74.21875 \nz\n\" id=\"DejaVuSans-48\"/>\n       <path d=\"M 10.6875 12.40625 \nL 21 12.40625 \nL 21 0 \nL 10.6875 0 \nz\n\" id=\"DejaVuSans-46\"/>\n      </defs>\n      <g style=\"fill:#262626;\" transform=\"translate(88.684062 254.356562)scale(0.1 -0.1)\">\n       <use xlink:href=\"#DejaVuSans-48\"/>\n       <use x=\"63.623047\" xlink:href=\"#DejaVuSans-46\"/>\n       <use x=\"95.410156\" xlink:href=\"#DejaVuSans-48\"/>\n      </g>\n     </g>\n    </g>\n    <g id=\"xtick_2\">\n     <g id=\"line2d_2\">\n      <path clip-path=\"url(#pb110a647f8)\" d=\"M 163.595625 239.758125 \nL 163.595625 22.318125 \n\" style=\"fill:none;stroke:#cccccc;stroke-linecap:round;stroke-width:0.8;\"/>\n     </g>\n     <g id=\"text_2\">\n      <!-- 0.2 -->\n      <defs>\n       <path d=\"M 19.1875 8.296875 \nL 53.609375 8.296875 \nL 53.609375 0 \nL 7.328125 0 \nL 7.328125 8.296875 \nQ 12.9375 14.109375 22.625 23.890625 \nQ 32.328125 33.6875 34.8125 36.53125 \nQ 39.546875 41.84375 41.421875 45.53125 \nQ 43.3125 49.21875 43.3125 52.78125 \nQ 43.3125 58.59375 39.234375 62.25 \nQ 35.15625 65.921875 28.609375 65.921875 \nQ 23.96875 65.921875 18.8125 64.3125 \nQ 13.671875 62.703125 7.8125 59.421875 \nL 7.8125 69.390625 \nQ 13.765625 71.78125 18.9375 73 \nQ 24.125 74.21875 28.421875 74.21875 \nQ 39.75 74.21875 46.484375 68.546875 \nQ 53.21875 62.890625 53.21875 53.421875 \nQ 53.21875 48.921875 51.53125 44.890625 \nQ 49.859375 40.875 45.40625 35.40625 \nQ 44.1875 33.984375 37.640625 27.21875 \nQ 31.109375 20.453125 19.1875 8.296875 \nz\n\" id=\"DejaVuSans-50\"/>\n      </defs>\n      <g style=\"fill:#262626;\" transform=\"translate(155.644062 254.356562)scale(0.1 -0.1)\">\n       <use xlink:href=\"#DejaVuSans-48\"/>\n       <use x=\"63.623047\" xlink:href=\"#DejaVuSans-46\"/>\n       <use x=\"95.410156\" xlink:href=\"#DejaVuSans-50\"/>\n      </g>\n     </g>\n    </g>\n    <g id=\"xtick_3\">\n     <g id=\"line2d_3\">\n      <path clip-path=\"url(#pb110a647f8)\" d=\"M 230.555625 239.758125 \nL 230.555625 22.318125 \n\" style=\"fill:none;stroke:#cccccc;stroke-linecap:round;stroke-width:0.8;\"/>\n     </g>\n     <g id=\"text_3\">\n      <!-- 0.4 -->\n      <defs>\n       <path d=\"M 37.796875 64.3125 \nL 12.890625 25.390625 \nL 37.796875 25.390625 \nz\nM 35.203125 72.90625 \nL 47.609375 72.90625 \nL 47.609375 25.390625 \nL 58.015625 25.390625 \nL 58.015625 17.1875 \nL 47.609375 17.1875 \nL 47.609375 0 \nL 37.796875 0 \nL 37.796875 17.1875 \nL 4.890625 17.1875 \nL 4.890625 26.703125 \nz\n\" id=\"DejaVuSans-52\"/>\n      </defs>\n      <g style=\"fill:#262626;\" transform=\"translate(222.604063 254.356562)scale(0.1 -0.1)\">\n       <use xlink:href=\"#DejaVuSans-48\"/>\n       <use x=\"63.623047\" xlink:href=\"#DejaVuSans-46\"/>\n       <use x=\"95.410156\" xlink:href=\"#DejaVuSans-52\"/>\n      </g>\n     </g>\n    </g>\n    <g id=\"xtick_4\">\n     <g id=\"line2d_4\">\n      <path clip-path=\"url(#pb110a647f8)\" d=\"M 297.515625 239.758125 \nL 297.515625 22.318125 \n\" style=\"fill:none;stroke:#cccccc;stroke-linecap:round;stroke-width:0.8;\"/>\n     </g>\n     <g id=\"text_4\">\n      <!-- 0.6 -->\n      <defs>\n       <path d=\"M 33.015625 40.375 \nQ 26.375 40.375 22.484375 35.828125 \nQ 18.609375 31.296875 18.609375 23.390625 \nQ 18.609375 15.53125 22.484375 10.953125 \nQ 26.375 6.390625 33.015625 6.390625 \nQ 39.65625 6.390625 43.53125 10.953125 \nQ 47.40625 15.53125 47.40625 23.390625 \nQ 47.40625 31.296875 43.53125 35.828125 \nQ 39.65625 40.375 33.015625 40.375 \nz\nM 52.59375 71.296875 \nL 52.59375 62.3125 \nQ 48.875 64.0625 45.09375 64.984375 \nQ 41.3125 65.921875 37.59375 65.921875 \nQ 27.828125 65.921875 22.671875 59.328125 \nQ 17.53125 52.734375 16.796875 39.40625 \nQ 19.671875 43.65625 24.015625 45.921875 \nQ 28.375 48.1875 33.59375 48.1875 \nQ 44.578125 48.1875 50.953125 41.515625 \nQ 57.328125 34.859375 57.328125 23.390625 \nQ 57.328125 12.15625 50.6875 5.359375 \nQ 44.046875 -1.421875 33.015625 -1.421875 \nQ 20.359375 -1.421875 13.671875 8.265625 \nQ 6.984375 17.96875 6.984375 36.375 \nQ 6.984375 53.65625 15.1875 63.9375 \nQ 23.390625 74.21875 37.203125 74.21875 \nQ 40.921875 74.21875 44.703125 73.484375 \nQ 48.484375 72.75 52.59375 71.296875 \nz\n\" id=\"DejaVuSans-54\"/>\n      </defs>\n      <g style=\"fill:#262626;\" transform=\"translate(289.564063 254.356562)scale(0.1 -0.1)\">\n       <use xlink:href=\"#DejaVuSans-48\"/>\n       <use x=\"63.623047\" xlink:href=\"#DejaVuSans-46\"/>\n       <use x=\"95.410156\" xlink:href=\"#DejaVuSans-54\"/>\n      </g>\n     </g>\n    </g>\n    <g id=\"xtick_5\">\n     <g id=\"line2d_5\">\n      <path clip-path=\"url(#pb110a647f8)\" d=\"M 364.475625 239.758125 \nL 364.475625 22.318125 \n\" style=\"fill:none;stroke:#cccccc;stroke-linecap:round;stroke-width:0.8;\"/>\n     </g>\n     <g id=\"text_5\">\n      <!-- 0.8 -->\n      <defs>\n       <path d=\"M 31.78125 34.625 \nQ 24.75 34.625 20.71875 30.859375 \nQ 16.703125 27.09375 16.703125 20.515625 \nQ 16.703125 13.921875 20.71875 10.15625 \nQ 24.75 6.390625 31.78125 6.390625 \nQ 38.8125 6.390625 42.859375 10.171875 \nQ 46.921875 13.96875 46.921875 20.515625 \nQ 46.921875 27.09375 42.890625 30.859375 \nQ 38.875 34.625 31.78125 34.625 \nz\nM 21.921875 38.8125 \nQ 15.578125 40.375 12.03125 44.71875 \nQ 8.5 49.078125 8.5 55.328125 \nQ 8.5 64.0625 14.71875 69.140625 \nQ 20.953125 74.21875 31.78125 74.21875 \nQ 42.671875 74.21875 48.875 69.140625 \nQ 55.078125 64.0625 55.078125 55.328125 \nQ 55.078125 49.078125 51.53125 44.71875 \nQ 48 40.375 41.703125 38.8125 \nQ 48.828125 37.15625 52.796875 32.3125 \nQ 56.78125 27.484375 56.78125 20.515625 \nQ 56.78125 9.90625 50.3125 4.234375 \nQ 43.84375 -1.421875 31.78125 -1.421875 \nQ 19.734375 -1.421875 13.25 4.234375 \nQ 6.78125 9.90625 6.78125 20.515625 \nQ 6.78125 27.484375 10.78125 32.3125 \nQ 14.796875 37.15625 21.921875 38.8125 \nz\nM 18.3125 54.390625 \nQ 18.3125 48.734375 21.84375 45.5625 \nQ 25.390625 42.390625 31.78125 42.390625 \nQ 38.140625 42.390625 41.71875 45.5625 \nQ 45.3125 48.734375 45.3125 54.390625 \nQ 45.3125 60.0625 41.71875 63.234375 \nQ 38.140625 66.40625 31.78125 66.40625 \nQ 25.390625 66.40625 21.84375 63.234375 \nQ 18.3125 60.0625 18.3125 54.390625 \nz\n\" id=\"DejaVuSans-56\"/>\n      </defs>\n      <g style=\"fill:#262626;\" transform=\"translate(356.524063 254.356562)scale(0.1 -0.1)\">\n       <use xlink:href=\"#DejaVuSans-48\"/>\n       <use x=\"63.623047\" xlink:href=\"#DejaVuSans-46\"/>\n       <use x=\"95.410156\" xlink:href=\"#DejaVuSans-56\"/>\n      </g>\n     </g>\n    </g>\n    <g id=\"xtick_6\">\n     <g id=\"line2d_6\">\n      <path clip-path=\"url(#pb110a647f8)\" d=\"M 431.435625 239.758125 \nL 431.435625 22.318125 \n\" style=\"fill:none;stroke:#cccccc;stroke-linecap:round;stroke-width:0.8;\"/>\n     </g>\n     <g id=\"text_6\">\n      <!-- 1.0 -->\n      <defs>\n       <path d=\"M 12.40625 8.296875 \nL 28.515625 8.296875 \nL 28.515625 63.921875 \nL 10.984375 60.40625 \nL 10.984375 69.390625 \nL 28.421875 72.90625 \nL 38.28125 72.90625 \nL 38.28125 8.296875 \nL 54.390625 8.296875 \nL 54.390625 0 \nL 12.40625 0 \nz\n\" id=\"DejaVuSans-49\"/>\n      </defs>\n      <g style=\"fill:#262626;\" transform=\"translate(423.484063 254.356562)scale(0.1 -0.1)\">\n       <use xlink:href=\"#DejaVuSans-49\"/>\n       <use x=\"63.623047\" xlink:href=\"#DejaVuSans-46\"/>\n       <use x=\"95.410156\" xlink:href=\"#DejaVuSans-48\"/>\n      </g>\n     </g>\n    </g>\n    <g id=\"text_7\">\n     <!-- Tasa de Falsos Positivos (1-Especificidad) -->\n     <defs>\n      <path d=\"M -0.296875 72.90625 \nL 61.375 72.90625 \nL 61.375 64.59375 \nL 35.5 64.59375 \nL 35.5 0 \nL 25.59375 0 \nL 25.59375 64.59375 \nL -0.296875 64.59375 \nz\n\" id=\"DejaVuSans-84\"/>\n      <path d=\"M 34.28125 27.484375 \nQ 23.390625 27.484375 19.1875 25 \nQ 14.984375 22.515625 14.984375 16.5 \nQ 14.984375 11.71875 18.140625 8.90625 \nQ 21.296875 6.109375 26.703125 6.109375 \nQ 34.1875 6.109375 38.703125 11.40625 \nQ 43.21875 16.703125 43.21875 25.484375 \nL 43.21875 27.484375 \nz\nM 52.203125 31.203125 \nL 52.203125 0 \nL 43.21875 0 \nL 43.21875 8.296875 \nQ 40.140625 3.328125 35.546875 0.953125 \nQ 30.953125 -1.421875 24.3125 -1.421875 \nQ 15.921875 -1.421875 10.953125 3.296875 \nQ 6 8.015625 6 15.921875 \nQ 6 25.140625 12.171875 29.828125 \nQ 18.359375 34.515625 30.609375 34.515625 \nL 43.21875 34.515625 \nL 43.21875 35.40625 \nQ 43.21875 41.609375 39.140625 45 \nQ 35.0625 48.390625 27.6875 48.390625 \nQ 23 48.390625 18.546875 47.265625 \nQ 14.109375 46.140625 10.015625 43.890625 \nL 10.015625 52.203125 \nQ 14.9375 54.109375 19.578125 55.046875 \nQ 24.21875 56 28.609375 56 \nQ 40.484375 56 46.34375 49.84375 \nQ 52.203125 43.703125 52.203125 31.203125 \nz\n\" id=\"DejaVuSans-97\"/>\n      <path d=\"M 44.28125 53.078125 \nL 44.28125 44.578125 \nQ 40.484375 46.53125 36.375 47.5 \nQ 32.28125 48.484375 27.875 48.484375 \nQ 21.1875 48.484375 17.84375 46.4375 \nQ 14.5 44.390625 14.5 40.28125 \nQ 14.5 37.15625 16.890625 35.375 \nQ 19.28125 33.59375 26.515625 31.984375 \nL 29.59375 31.296875 \nQ 39.15625 29.25 43.1875 25.515625 \nQ 47.21875 21.78125 47.21875 15.09375 \nQ 47.21875 7.46875 41.1875 3.015625 \nQ 35.15625 -1.421875 24.609375 -1.421875 \nQ 20.21875 -1.421875 15.453125 -0.5625 \nQ 10.6875 0.296875 5.421875 2 \nL 5.421875 11.28125 \nQ 10.40625 8.6875 15.234375 7.390625 \nQ 20.0625 6.109375 24.8125 6.109375 \nQ 31.15625 6.109375 34.5625 8.28125 \nQ 37.984375 10.453125 37.984375 14.40625 \nQ 37.984375 18.0625 35.515625 20.015625 \nQ 33.0625 21.96875 24.703125 23.78125 \nL 21.578125 24.515625 \nQ 13.234375 26.265625 9.515625 29.90625 \nQ 5.8125 33.546875 5.8125 39.890625 \nQ 5.8125 47.609375 11.28125 51.796875 \nQ 16.75 56 26.8125 56 \nQ 31.78125 56 36.171875 55.265625 \nQ 40.578125 54.546875 44.28125 53.078125 \nz\n\" id=\"DejaVuSans-115\"/>\n      <path id=\"DejaVuSans-32\"/>\n      <path d=\"M 45.40625 46.390625 \nL 45.40625 75.984375 \nL 54.390625 75.984375 \nL 54.390625 0 \nL 45.40625 0 \nL 45.40625 8.203125 \nQ 42.578125 3.328125 38.25 0.953125 \nQ 33.9375 -1.421875 27.875 -1.421875 \nQ 17.96875 -1.421875 11.734375 6.484375 \nQ 5.515625 14.40625 5.515625 27.296875 \nQ 5.515625 40.1875 11.734375 48.09375 \nQ 17.96875 56 27.875 56 \nQ 33.9375 56 38.25 53.625 \nQ 42.578125 51.265625 45.40625 46.390625 \nz\nM 14.796875 27.296875 \nQ 14.796875 17.390625 18.875 11.75 \nQ 22.953125 6.109375 30.078125 6.109375 \nQ 37.203125 6.109375 41.296875 11.75 \nQ 45.40625 17.390625 45.40625 27.296875 \nQ 45.40625 37.203125 41.296875 42.84375 \nQ 37.203125 48.484375 30.078125 48.484375 \nQ 22.953125 48.484375 18.875 42.84375 \nQ 14.796875 37.203125 14.796875 27.296875 \nz\n\" id=\"DejaVuSans-100\"/>\n      <path d=\"M 56.203125 29.59375 \nL 56.203125 25.203125 \nL 14.890625 25.203125 \nQ 15.484375 15.921875 20.484375 11.0625 \nQ 25.484375 6.203125 34.421875 6.203125 \nQ 39.59375 6.203125 44.453125 7.46875 \nQ 49.3125 8.734375 54.109375 11.28125 \nL 54.109375 2.78125 \nQ 49.265625 0.734375 44.1875 -0.34375 \nQ 39.109375 -1.421875 33.890625 -1.421875 \nQ 20.796875 -1.421875 13.15625 6.1875 \nQ 5.515625 13.8125 5.515625 26.8125 \nQ 5.515625 40.234375 12.765625 48.109375 \nQ 20.015625 56 32.328125 56 \nQ 43.359375 56 49.78125 48.890625 \nQ 56.203125 41.796875 56.203125 29.59375 \nz\nM 47.21875 32.234375 \nQ 47.125 39.59375 43.09375 43.984375 \nQ 39.0625 48.390625 32.421875 48.390625 \nQ 24.90625 48.390625 20.390625 44.140625 \nQ 15.875 39.890625 15.1875 32.171875 \nz\n\" id=\"DejaVuSans-101\"/>\n      <path d=\"M 9.8125 72.90625 \nL 51.703125 72.90625 \nL 51.703125 64.59375 \nL 19.671875 64.59375 \nL 19.671875 43.109375 \nL 48.578125 43.109375 \nL 48.578125 34.8125 \nL 19.671875 34.8125 \nL 19.671875 0 \nL 9.8125 0 \nz\n\" id=\"DejaVuSans-70\"/>\n      <path d=\"M 9.421875 75.984375 \nL 18.40625 75.984375 \nL 18.40625 0 \nL 9.421875 0 \nz\n\" id=\"DejaVuSans-108\"/>\n      <path d=\"M 30.609375 48.390625 \nQ 23.390625 48.390625 19.1875 42.75 \nQ 14.984375 37.109375 14.984375 27.296875 \nQ 14.984375 17.484375 19.15625 11.84375 \nQ 23.34375 6.203125 30.609375 6.203125 \nQ 37.796875 6.203125 41.984375 11.859375 \nQ 46.1875 17.53125 46.1875 27.296875 \nQ 46.1875 37.015625 41.984375 42.703125 \nQ 37.796875 48.390625 30.609375 48.390625 \nz\nM 30.609375 56 \nQ 42.328125 56 49.015625 48.375 \nQ 55.71875 40.765625 55.71875 27.296875 \nQ 55.71875 13.875 49.015625 6.21875 \nQ 42.328125 -1.421875 30.609375 -1.421875 \nQ 18.84375 -1.421875 12.171875 6.21875 \nQ 5.515625 13.875 5.515625 27.296875 \nQ 5.515625 40.765625 12.171875 48.375 \nQ 18.84375 56 30.609375 56 \nz\n\" id=\"DejaVuSans-111\"/>\n      <path d=\"M 19.671875 64.796875 \nL 19.671875 37.40625 \nL 32.078125 37.40625 \nQ 38.96875 37.40625 42.71875 40.96875 \nQ 46.484375 44.53125 46.484375 51.125 \nQ 46.484375 57.671875 42.71875 61.234375 \nQ 38.96875 64.796875 32.078125 64.796875 \nz\nM 9.8125 72.90625 \nL 32.078125 72.90625 \nQ 44.34375 72.90625 50.609375 67.359375 \nQ 56.890625 61.8125 56.890625 51.125 \nQ 56.890625 40.328125 50.609375 34.8125 \nQ 44.34375 29.296875 32.078125 29.296875 \nL 19.671875 29.296875 \nL 19.671875 0 \nL 9.8125 0 \nz\n\" id=\"DejaVuSans-80\"/>\n      <path d=\"M 9.421875 54.6875 \nL 18.40625 54.6875 \nL 18.40625 0 \nL 9.421875 0 \nz\nM 9.421875 75.984375 \nL 18.40625 75.984375 \nL 18.40625 64.59375 \nL 9.421875 64.59375 \nz\n\" id=\"DejaVuSans-105\"/>\n      <path d=\"M 18.3125 70.21875 \nL 18.3125 54.6875 \nL 36.8125 54.6875 \nL 36.8125 47.703125 \nL 18.3125 47.703125 \nL 18.3125 18.015625 \nQ 18.3125 11.328125 20.140625 9.421875 \nQ 21.96875 7.515625 27.59375 7.515625 \nL 36.8125 7.515625 \nL 36.8125 0 \nL 27.59375 0 \nQ 17.1875 0 13.234375 3.875 \nQ 9.28125 7.765625 9.28125 18.015625 \nL 9.28125 47.703125 \nL 2.6875 47.703125 \nL 2.6875 54.6875 \nL 9.28125 54.6875 \nL 9.28125 70.21875 \nz\n\" id=\"DejaVuSans-116\"/>\n      <path d=\"M 2.984375 54.6875 \nL 12.5 54.6875 \nL 29.59375 8.796875 \nL 46.6875 54.6875 \nL 56.203125 54.6875 \nL 35.6875 0 \nL 23.484375 0 \nz\n\" id=\"DejaVuSans-118\"/>\n      <path d=\"M 31 75.875 \nQ 24.46875 64.65625 21.28125 53.65625 \nQ 18.109375 42.671875 18.109375 31.390625 \nQ 18.109375 20.125 21.3125 9.0625 \nQ 24.515625 -2 31 -13.1875 \nL 23.1875 -13.1875 \nQ 15.875 -1.703125 12.234375 9.375 \nQ 8.59375 20.453125 8.59375 31.390625 \nQ 8.59375 42.28125 12.203125 53.3125 \nQ 15.828125 64.359375 23.1875 75.875 \nz\n\" id=\"DejaVuSans-40\"/>\n      <path d=\"M 4.890625 31.390625 \nL 31.203125 31.390625 \nL 31.203125 23.390625 \nL 4.890625 23.390625 \nz\n\" id=\"DejaVuSans-45\"/>\n      <path d=\"M 9.8125 72.90625 \nL 55.90625 72.90625 \nL 55.90625 64.59375 \nL 19.671875 64.59375 \nL 19.671875 43.015625 \nL 54.390625 43.015625 \nL 54.390625 34.71875 \nL 19.671875 34.71875 \nL 19.671875 8.296875 \nL 56.78125 8.296875 \nL 56.78125 0 \nL 9.8125 0 \nz\n\" id=\"DejaVuSans-69\"/>\n      <path d=\"M 18.109375 8.203125 \nL 18.109375 -20.796875 \nL 9.078125 -20.796875 \nL 9.078125 54.6875 \nL 18.109375 54.6875 \nL 18.109375 46.390625 \nQ 20.953125 51.265625 25.265625 53.625 \nQ 29.59375 56 35.59375 56 \nQ 45.5625 56 51.78125 48.09375 \nQ 58.015625 40.1875 58.015625 27.296875 \nQ 58.015625 14.40625 51.78125 6.484375 \nQ 45.5625 -1.421875 35.59375 -1.421875 \nQ 29.59375 -1.421875 25.265625 0.953125 \nQ 20.953125 3.328125 18.109375 8.203125 \nz\nM 48.6875 27.296875 \nQ 48.6875 37.203125 44.609375 42.84375 \nQ 40.53125 48.484375 33.40625 48.484375 \nQ 26.265625 48.484375 22.1875 42.84375 \nQ 18.109375 37.203125 18.109375 27.296875 \nQ 18.109375 17.390625 22.1875 11.75 \nQ 26.265625 6.109375 33.40625 6.109375 \nQ 40.53125 6.109375 44.609375 11.75 \nQ 48.6875 17.390625 48.6875 27.296875 \nz\n\" id=\"DejaVuSans-112\"/>\n      <path d=\"M 48.78125 52.59375 \nL 48.78125 44.1875 \nQ 44.96875 46.296875 41.140625 47.34375 \nQ 37.3125 48.390625 33.40625 48.390625 \nQ 24.65625 48.390625 19.8125 42.84375 \nQ 14.984375 37.3125 14.984375 27.296875 \nQ 14.984375 17.28125 19.8125 11.734375 \nQ 24.65625 6.203125 33.40625 6.203125 \nQ 37.3125 6.203125 41.140625 7.25 \nQ 44.96875 8.296875 48.78125 10.40625 \nL 48.78125 2.09375 \nQ 45.015625 0.34375 40.984375 -0.53125 \nQ 36.96875 -1.421875 32.421875 -1.421875 \nQ 20.0625 -1.421875 12.78125 6.34375 \nQ 5.515625 14.109375 5.515625 27.296875 \nQ 5.515625 40.671875 12.859375 48.328125 \nQ 20.21875 56 33.015625 56 \nQ 37.15625 56 41.109375 55.140625 \nQ 45.0625 54.296875 48.78125 52.59375 \nz\n\" id=\"DejaVuSans-99\"/>\n      <path d=\"M 37.109375 75.984375 \nL 37.109375 68.5 \nL 28.515625 68.5 \nQ 23.6875 68.5 21.796875 66.546875 \nQ 19.921875 64.59375 19.921875 59.515625 \nL 19.921875 54.6875 \nL 34.71875 54.6875 \nL 34.71875 47.703125 \nL 19.921875 47.703125 \nL 19.921875 0 \nL 10.890625 0 \nL 10.890625 47.703125 \nL 2.296875 47.703125 \nL 2.296875 54.6875 \nL 10.890625 54.6875 \nL 10.890625 58.5 \nQ 10.890625 67.625 15.140625 71.796875 \nQ 19.390625 75.984375 28.609375 75.984375 \nz\n\" id=\"DejaVuSans-102\"/>\n      <path d=\"M 8.015625 75.875 \nL 15.828125 75.875 \nQ 23.140625 64.359375 26.78125 53.3125 \nQ 30.421875 42.28125 30.421875 31.390625 \nQ 30.421875 20.453125 26.78125 9.375 \nQ 23.140625 -1.703125 15.828125 -13.1875 \nL 8.015625 -13.1875 \nQ 14.5 -2 17.703125 9.0625 \nQ 20.90625 20.125 20.90625 31.390625 \nQ 20.90625 42.671875 17.703125 53.65625 \nQ 14.5 64.65625 8.015625 75.875 \nz\n\" id=\"DejaVuSans-41\"/>\n     </defs>\n     <g style=\"fill:#262626;\" transform=\"translate(161.72625 268.034687)scale(0.1 -0.1)\">\n      <use xlink:href=\"#DejaVuSans-84\"/>\n      <use x=\"44.583984\" xlink:href=\"#DejaVuSans-97\"/>\n      <use x=\"105.863281\" xlink:href=\"#DejaVuSans-115\"/>\n      <use x=\"157.962891\" xlink:href=\"#DejaVuSans-97\"/>\n      <use x=\"219.242188\" xlink:href=\"#DejaVuSans-32\"/>\n      <use x=\"251.029297\" xlink:href=\"#DejaVuSans-100\"/>\n      <use x=\"314.505859\" xlink:href=\"#DejaVuSans-101\"/>\n      <use x=\"376.029297\" xlink:href=\"#DejaVuSans-32\"/>\n      <use x=\"407.816406\" xlink:href=\"#DejaVuSans-70\"/>\n      <use x=\"456.210938\" xlink:href=\"#DejaVuSans-97\"/>\n      <use x=\"517.490234\" xlink:href=\"#DejaVuSans-108\"/>\n      <use x=\"545.273438\" xlink:href=\"#DejaVuSans-115\"/>\n      <use x=\"597.373047\" xlink:href=\"#DejaVuSans-111\"/>\n      <use x=\"658.554688\" xlink:href=\"#DejaVuSans-115\"/>\n      <use x=\"710.654297\" xlink:href=\"#DejaVuSans-32\"/>\n      <use x=\"742.441406\" xlink:href=\"#DejaVuSans-80\"/>\n      <use x=\"799.119141\" xlink:href=\"#DejaVuSans-111\"/>\n      <use x=\"860.300781\" xlink:href=\"#DejaVuSans-115\"/>\n      <use x=\"912.400391\" xlink:href=\"#DejaVuSans-105\"/>\n      <use x=\"940.183594\" xlink:href=\"#DejaVuSans-116\"/>\n      <use x=\"979.392578\" xlink:href=\"#DejaVuSans-105\"/>\n      <use x=\"1007.175781\" xlink:href=\"#DejaVuSans-118\"/>\n      <use x=\"1066.355469\" xlink:href=\"#DejaVuSans-111\"/>\n      <use x=\"1127.537109\" xlink:href=\"#DejaVuSans-115\"/>\n      <use x=\"1179.636719\" xlink:href=\"#DejaVuSans-32\"/>\n      <use x=\"1211.423828\" xlink:href=\"#DejaVuSans-40\"/>\n      <use x=\"1250.4375\" xlink:href=\"#DejaVuSans-49\"/>\n      <use x=\"1314.060547\" xlink:href=\"#DejaVuSans-45\"/>\n      <use x=\"1350.144531\" xlink:href=\"#DejaVuSans-69\"/>\n      <use x=\"1413.328125\" xlink:href=\"#DejaVuSans-115\"/>\n      <use x=\"1465.427734\" xlink:href=\"#DejaVuSans-112\"/>\n      <use x=\"1528.904297\" xlink:href=\"#DejaVuSans-101\"/>\n      <use x=\"1590.427734\" xlink:href=\"#DejaVuSans-99\"/>\n      <use x=\"1645.408203\" xlink:href=\"#DejaVuSans-105\"/>\n      <use x=\"1673.191406\" xlink:href=\"#DejaVuSans-102\"/>\n      <use x=\"1708.396484\" xlink:href=\"#DejaVuSans-105\"/>\n      <use x=\"1736.179688\" xlink:href=\"#DejaVuSans-99\"/>\n      <use x=\"1791.160156\" xlink:href=\"#DejaVuSans-105\"/>\n      <use x=\"1818.943359\" xlink:href=\"#DejaVuSans-100\"/>\n      <use x=\"1882.419922\" xlink:href=\"#DejaVuSans-97\"/>\n      <use x=\"1943.699219\" xlink:href=\"#DejaVuSans-100\"/>\n      <use x=\"2007.175781\" xlink:href=\"#DejaVuSans-41\"/>\n     </g>\n    </g>\n   </g>\n   <g id=\"matplotlib.axis_2\">\n    <g id=\"ytick_1\">\n     <g id=\"line2d_7\">\n      <path clip-path=\"url(#pb110a647f8)\" d=\"M 96.635625 239.758125 \nL 431.435625 239.758125 \n\" style=\"fill:none;stroke:#cccccc;stroke-linecap:round;stroke-width:0.8;\"/>\n     </g>\n     <g id=\"text_8\">\n      <!-- 0.0 -->\n      <g style=\"fill:#262626;\" transform=\"translate(73.7325 243.557344)scale(0.1 -0.1)\">\n       <use xlink:href=\"#DejaVuSans-48\"/>\n       <use x=\"63.623047\" xlink:href=\"#DejaVuSans-46\"/>\n       <use x=\"95.410156\" xlink:href=\"#DejaVuSans-48\"/>\n      </g>\n     </g>\n    </g>\n    <g id=\"ytick_2\">\n     <g id=\"line2d_8\">\n      <path clip-path=\"url(#pb110a647f8)\" d=\"M 96.635625 196.270125 \nL 431.435625 196.270125 \n\" style=\"fill:none;stroke:#cccccc;stroke-linecap:round;stroke-width:0.8;\"/>\n     </g>\n     <g id=\"text_9\">\n      <!-- 0.2 -->\n      <g style=\"fill:#262626;\" transform=\"translate(73.7325 200.069344)scale(0.1 -0.1)\">\n       <use xlink:href=\"#DejaVuSans-48\"/>\n       <use x=\"63.623047\" xlink:href=\"#DejaVuSans-46\"/>\n       <use x=\"95.410156\" xlink:href=\"#DejaVuSans-50\"/>\n      </g>\n     </g>\n    </g>\n    <g id=\"ytick_3\">\n     <g id=\"line2d_9\">\n      <path clip-path=\"url(#pb110a647f8)\" d=\"M 96.635625 152.782125 \nL 431.435625 152.782125 \n\" style=\"fill:none;stroke:#cccccc;stroke-linecap:round;stroke-width:0.8;\"/>\n     </g>\n     <g id=\"text_10\">\n      <!-- 0.4 -->\n      <g style=\"fill:#262626;\" transform=\"translate(73.7325 156.581344)scale(0.1 -0.1)\">\n       <use xlink:href=\"#DejaVuSans-48\"/>\n       <use x=\"63.623047\" xlink:href=\"#DejaVuSans-46\"/>\n       <use x=\"95.410156\" xlink:href=\"#DejaVuSans-52\"/>\n      </g>\n     </g>\n    </g>\n    <g id=\"ytick_4\">\n     <g id=\"line2d_10\">\n      <path clip-path=\"url(#pb110a647f8)\" d=\"M 96.635625 109.294125 \nL 431.435625 109.294125 \n\" style=\"fill:none;stroke:#cccccc;stroke-linecap:round;stroke-width:0.8;\"/>\n     </g>\n     <g id=\"text_11\">\n      <!-- 0.6 -->\n      <g style=\"fill:#262626;\" transform=\"translate(73.7325 113.093344)scale(0.1 -0.1)\">\n       <use xlink:href=\"#DejaVuSans-48\"/>\n       <use x=\"63.623047\" xlink:href=\"#DejaVuSans-46\"/>\n       <use x=\"95.410156\" xlink:href=\"#DejaVuSans-54\"/>\n      </g>\n     </g>\n    </g>\n    <g id=\"ytick_5\">\n     <g id=\"line2d_11\">\n      <path clip-path=\"url(#pb110a647f8)\" d=\"M 96.635625 65.806125 \nL 431.435625 65.806125 \n\" style=\"fill:none;stroke:#cccccc;stroke-linecap:round;stroke-width:0.8;\"/>\n     </g>\n     <g id=\"text_12\">\n      <!-- 0.8 -->\n      <g style=\"fill:#262626;\" transform=\"translate(73.7325 69.605344)scale(0.1 -0.1)\">\n       <use xlink:href=\"#DejaVuSans-48\"/>\n       <use x=\"63.623047\" xlink:href=\"#DejaVuSans-46\"/>\n       <use x=\"95.410156\" xlink:href=\"#DejaVuSans-56\"/>\n      </g>\n     </g>\n    </g>\n    <g id=\"ytick_6\">\n     <g id=\"line2d_12\">\n      <path clip-path=\"url(#pb110a647f8)\" d=\"M 96.635625 22.318125 \nL 431.435625 22.318125 \n\" style=\"fill:none;stroke:#cccccc;stroke-linecap:round;stroke-width:0.8;\"/>\n     </g>\n     <g id=\"text_13\">\n      <!-- 1.0 -->\n      <g style=\"fill:#262626;\" transform=\"translate(73.7325 26.117344)scale(0.1 -0.1)\">\n       <use xlink:href=\"#DejaVuSans-49\"/>\n       <use x=\"63.623047\" xlink:href=\"#DejaVuSans-46\"/>\n       <use x=\"95.410156\" xlink:href=\"#DejaVuSans-48\"/>\n      </g>\n     </g>\n    </g>\n    <g id=\"text_14\">\n     <!-- Tasa de Verdaderos Positivos (Sensitividad) -->\n     <defs>\n      <path d=\"M 28.609375 0 \nL 0.78125 72.90625 \nL 11.078125 72.90625 \nL 34.1875 11.53125 \nL 57.328125 72.90625 \nL 67.578125 72.90625 \nL 39.796875 0 \nz\n\" id=\"DejaVuSans-86\"/>\n      <path d=\"M 41.109375 46.296875 \nQ 39.59375 47.171875 37.8125 47.578125 \nQ 36.03125 48 33.890625 48 \nQ 26.265625 48 22.1875 43.046875 \nQ 18.109375 38.09375 18.109375 28.8125 \nL 18.109375 0 \nL 9.078125 0 \nL 9.078125 54.6875 \nL 18.109375 54.6875 \nL 18.109375 46.1875 \nQ 20.953125 51.171875 25.484375 53.578125 \nQ 30.03125 56 36.53125 56 \nQ 37.453125 56 38.578125 55.875 \nQ 39.703125 55.765625 41.0625 55.515625 \nz\n\" id=\"DejaVuSans-114\"/>\n      <path d=\"M 53.515625 70.515625 \nL 53.515625 60.890625 \nQ 47.90625 63.578125 42.921875 64.890625 \nQ 37.9375 66.21875 33.296875 66.21875 \nQ 25.25 66.21875 20.875 63.09375 \nQ 16.5 59.96875 16.5 54.203125 \nQ 16.5 49.359375 19.40625 46.890625 \nQ 22.3125 44.4375 30.421875 42.921875 \nL 36.375 41.703125 \nQ 47.40625 39.59375 52.65625 34.296875 \nQ 57.90625 29 57.90625 20.125 \nQ 57.90625 9.515625 50.796875 4.046875 \nQ 43.703125 -1.421875 29.984375 -1.421875 \nQ 24.8125 -1.421875 18.96875 -0.25 \nQ 13.140625 0.921875 6.890625 3.21875 \nL 6.890625 13.375 \nQ 12.890625 10.015625 18.65625 8.296875 \nQ 24.421875 6.59375 29.984375 6.59375 \nQ 38.421875 6.59375 43.015625 9.90625 \nQ 47.609375 13.234375 47.609375 19.390625 \nQ 47.609375 24.75 44.3125 27.78125 \nQ 41.015625 30.8125 33.5 32.328125 \nL 27.484375 33.5 \nQ 16.453125 35.6875 11.515625 40.375 \nQ 6.59375 45.0625 6.59375 53.421875 \nQ 6.59375 63.09375 13.40625 68.65625 \nQ 20.21875 74.21875 32.171875 74.21875 \nQ 37.3125 74.21875 42.625 73.28125 \nQ 47.953125 72.359375 53.515625 70.515625 \nz\n\" id=\"DejaVuSans-83\"/>\n      <path d=\"M 54.890625 33.015625 \nL 54.890625 0 \nL 45.90625 0 \nL 45.90625 32.71875 \nQ 45.90625 40.484375 42.875 44.328125 \nQ 39.84375 48.1875 33.796875 48.1875 \nQ 26.515625 48.1875 22.3125 43.546875 \nQ 18.109375 38.921875 18.109375 30.90625 \nL 18.109375 0 \nL 9.078125 0 \nL 9.078125 54.6875 \nL 18.109375 54.6875 \nL 18.109375 46.1875 \nQ 21.34375 51.125 25.703125 53.5625 \nQ 30.078125 56 35.796875 56 \nQ 45.21875 56 50.046875 50.171875 \nQ 54.890625 44.34375 54.890625 33.015625 \nz\n\" id=\"DejaVuSans-110\"/>\n     </defs>\n     <g style=\"fill:#262626;\" transform=\"translate(67.652812 239.064687)rotate(-90)scale(0.1 -0.1)\">\n      <use xlink:href=\"#DejaVuSans-84\"/>\n      <use x=\"44.583984\" xlink:href=\"#DejaVuSans-97\"/>\n      <use x=\"105.863281\" xlink:href=\"#DejaVuSans-115\"/>\n      <use x=\"157.962891\" xlink:href=\"#DejaVuSans-97\"/>\n      <use x=\"219.242188\" xlink:href=\"#DejaVuSans-32\"/>\n      <use x=\"251.029297\" xlink:href=\"#DejaVuSans-100\"/>\n      <use x=\"314.505859\" xlink:href=\"#DejaVuSans-101\"/>\n      <use x=\"376.029297\" xlink:href=\"#DejaVuSans-32\"/>\n      <use x=\"407.816406\" xlink:href=\"#DejaVuSans-86\"/>\n      <use x=\"468.474609\" xlink:href=\"#DejaVuSans-101\"/>\n      <use x=\"529.998047\" xlink:href=\"#DejaVuSans-114\"/>\n      <use x=\"569.361328\" xlink:href=\"#DejaVuSans-100\"/>\n      <use x=\"632.837891\" xlink:href=\"#DejaVuSans-97\"/>\n      <use x=\"694.117188\" xlink:href=\"#DejaVuSans-100\"/>\n      <use x=\"757.59375\" xlink:href=\"#DejaVuSans-101\"/>\n      <use x=\"819.117188\" xlink:href=\"#DejaVuSans-114\"/>\n      <use x=\"857.980469\" xlink:href=\"#DejaVuSans-111\"/>\n      <use x=\"919.162109\" xlink:href=\"#DejaVuSans-115\"/>\n      <use x=\"971.261719\" xlink:href=\"#DejaVuSans-32\"/>\n      <use x=\"1003.048828\" xlink:href=\"#DejaVuSans-80\"/>\n      <use x=\"1059.726562\" xlink:href=\"#DejaVuSans-111\"/>\n      <use x=\"1120.908203\" xlink:href=\"#DejaVuSans-115\"/>\n      <use x=\"1173.007812\" xlink:href=\"#DejaVuSans-105\"/>\n      <use x=\"1200.791016\" xlink:href=\"#DejaVuSans-116\"/>\n      <use x=\"1240\" xlink:href=\"#DejaVuSans-105\"/>\n      <use x=\"1267.783203\" xlink:href=\"#DejaVuSans-118\"/>\n      <use x=\"1326.962891\" xlink:href=\"#DejaVuSans-111\"/>\n      <use x=\"1388.144531\" xlink:href=\"#DejaVuSans-115\"/>\n      <use x=\"1440.244141\" xlink:href=\"#DejaVuSans-32\"/>\n      <use x=\"1472.03125\" xlink:href=\"#DejaVuSans-40\"/>\n      <use x=\"1511.044922\" xlink:href=\"#DejaVuSans-83\"/>\n      <use x=\"1574.521484\" xlink:href=\"#DejaVuSans-101\"/>\n      <use x=\"1636.044922\" xlink:href=\"#DejaVuSans-110\"/>\n      <use x=\"1699.423828\" xlink:href=\"#DejaVuSans-115\"/>\n      <use x=\"1751.523438\" xlink:href=\"#DejaVuSans-105\"/>\n      <use x=\"1779.306641\" xlink:href=\"#DejaVuSans-116\"/>\n      <use x=\"1818.515625\" xlink:href=\"#DejaVuSans-105\"/>\n      <use x=\"1846.298828\" xlink:href=\"#DejaVuSans-118\"/>\n      <use x=\"1905.478516\" xlink:href=\"#DejaVuSans-105\"/>\n      <use x=\"1933.261719\" xlink:href=\"#DejaVuSans-100\"/>\n      <use x=\"1996.738281\" xlink:href=\"#DejaVuSans-97\"/>\n      <use x=\"2058.017578\" xlink:href=\"#DejaVuSans-100\"/>\n      <use x=\"2121.494141\" xlink:href=\"#DejaVuSans-41\"/>\n     </g>\n    </g>\n   </g>\n   <g id=\"line2d_13\">\n    <path clip-path=\"url(#pb110a647f8)\" d=\"M 96.635625 239.758125 \nL 197.734574 64.221542 \nL 431.435625 22.318125 \n\" style=\"fill:none;stroke:#1f77b4;stroke-linecap:round;stroke-width:1.5;\"/>\n   </g>\n   <g id=\"line2d_14\">\n    <path clip-path=\"url(#pb110a647f8)\" d=\"M 96.635625 239.758125 \nL 167.765957 45.617364 \nL 431.435625 22.318125 \n\" style=\"fill:none;stroke:#ff7f0e;stroke-linecap:round;stroke-width:1.5;\"/>\n   </g>\n   <g id=\"line2d_15\">\n    <path clip-path=\"url(#pb110a647f8)\" d=\"M 96.635625 239.758125 \nL 137.707073 31.23874 \nL 431.435625 22.318125 \n\" style=\"fill:none;stroke:#2ca02c;stroke-linecap:round;stroke-width:1.5;\"/>\n   </g>\n   <g id=\"line2d_16\">\n    <path clip-path=\"url(#pb110a647f8)\" d=\"M 96.635625 239.758125 \nL 136.62387 25.369914 \nL 431.435625 22.318125 \n\" style=\"fill:none;stroke:#d62728;stroke-linecap:round;stroke-width:1.5;\"/>\n   </g>\n   <g id=\"line2d_17\">\n    <path clip-path=\"url(#pb110a647f8)\" d=\"M 96.635625 239.758125 \nL 123.7157 27.306627 \nL 431.435625 22.318125 \n\" style=\"fill:none;stroke:#9467bd;stroke-linecap:round;stroke-width:1.5;\"/>\n   </g>\n   <g id=\"patch_3\">\n    <path d=\"M 96.635625 239.758125 \nL 96.635625 22.318125 \n\" style=\"fill:none;stroke:#262626;stroke-linecap:square;stroke-linejoin:miter;stroke-width:0.8;\"/>\n   </g>\n   <g id=\"patch_4\">\n    <path d=\"M 431.435625 239.758125 \nL 431.435625 22.318125 \n\" style=\"fill:none;stroke:#262626;stroke-linecap:square;stroke-linejoin:miter;stroke-width:0.8;\"/>\n   </g>\n   <g id=\"patch_5\">\n    <path d=\"M 96.635625 239.758125 \nL 431.435625 239.758125 \n\" style=\"fill:none;stroke:#262626;stroke-linecap:square;stroke-linejoin:miter;stroke-width:0.8;\"/>\n   </g>\n   <g id=\"patch_6\">\n    <path d=\"M 96.635625 22.318125 \nL 431.435625 22.318125 \n\" style=\"fill:none;stroke:#262626;stroke-linecap:square;stroke-linejoin:miter;stroke-width:0.8;\"/>\n   </g>\n   <g id=\"text_15\">\n    <!-- Curva ROC para Caso A: 4 Capas escondidas:5(b),10(y),20(g),50(r),100(m),neuronas. -->\n    <defs>\n     <path d=\"M 64.40625 67.28125 \nL 64.40625 56.890625 \nQ 59.421875 61.53125 53.78125 63.8125 \nQ 48.140625 66.109375 41.796875 66.109375 \nQ 29.296875 66.109375 22.65625 58.46875 \nQ 16.015625 50.828125 16.015625 36.375 \nQ 16.015625 21.96875 22.65625 14.328125 \nQ 29.296875 6.6875 41.796875 6.6875 \nQ 48.140625 6.6875 53.78125 8.984375 \nQ 59.421875 11.28125 64.40625 15.921875 \nL 64.40625 5.609375 \nQ 59.234375 2.09375 53.4375 0.328125 \nQ 47.65625 -1.421875 41.21875 -1.421875 \nQ 24.65625 -1.421875 15.125 8.703125 \nQ 5.609375 18.84375 5.609375 36.375 \nQ 5.609375 53.953125 15.125 64.078125 \nQ 24.65625 74.21875 41.21875 74.21875 \nQ 47.75 74.21875 53.53125 72.484375 \nQ 59.328125 70.75 64.40625 67.28125 \nz\n\" id=\"DejaVuSans-67\"/>\n     <path d=\"M 8.5 21.578125 \nL 8.5 54.6875 \nL 17.484375 54.6875 \nL 17.484375 21.921875 \nQ 17.484375 14.15625 20.5 10.265625 \nQ 23.53125 6.390625 29.59375 6.390625 \nQ 36.859375 6.390625 41.078125 11.03125 \nQ 45.3125 15.671875 45.3125 23.6875 \nL 45.3125 54.6875 \nL 54.296875 54.6875 \nL 54.296875 0 \nL 45.3125 0 \nL 45.3125 8.40625 \nQ 42.046875 3.421875 37.71875 1 \nQ 33.40625 -1.421875 27.6875 -1.421875 \nQ 18.265625 -1.421875 13.375 4.4375 \nQ 8.5 10.296875 8.5 21.578125 \nz\nM 31.109375 56 \nz\n\" id=\"DejaVuSans-117\"/>\n     <path d=\"M 44.390625 34.1875 \nQ 47.5625 33.109375 50.5625 29.59375 \nQ 53.5625 26.078125 56.59375 19.921875 \nL 66.609375 0 \nL 56 0 \nL 46.6875 18.703125 \nQ 43.0625 26.03125 39.671875 28.421875 \nQ 36.28125 30.8125 30.421875 30.8125 \nL 19.671875 30.8125 \nL 19.671875 0 \nL 9.8125 0 \nL 9.8125 72.90625 \nL 32.078125 72.90625 \nQ 44.578125 72.90625 50.734375 67.671875 \nQ 56.890625 62.453125 56.890625 51.90625 \nQ 56.890625 45.015625 53.6875 40.46875 \nQ 50.484375 35.9375 44.390625 34.1875 \nz\nM 19.671875 64.796875 \nL 19.671875 38.921875 \nL 32.078125 38.921875 \nQ 39.203125 38.921875 42.84375 42.21875 \nQ 46.484375 45.515625 46.484375 51.90625 \nQ 46.484375 58.296875 42.84375 61.546875 \nQ 39.203125 64.796875 32.078125 64.796875 \nz\n\" id=\"DejaVuSans-82\"/>\n     <path d=\"M 39.40625 66.21875 \nQ 28.65625 66.21875 22.328125 58.203125 \nQ 16.015625 50.203125 16.015625 36.375 \nQ 16.015625 22.609375 22.328125 14.59375 \nQ 28.65625 6.59375 39.40625 6.59375 \nQ 50.140625 6.59375 56.421875 14.59375 \nQ 62.703125 22.609375 62.703125 36.375 \nQ 62.703125 50.203125 56.421875 58.203125 \nQ 50.140625 66.21875 39.40625 66.21875 \nz\nM 39.40625 74.21875 \nQ 54.734375 74.21875 63.90625 63.9375 \nQ 73.09375 53.65625 73.09375 36.375 \nQ 73.09375 19.140625 63.90625 8.859375 \nQ 54.734375 -1.421875 39.40625 -1.421875 \nQ 24.03125 -1.421875 14.8125 8.828125 \nQ 5.609375 19.09375 5.609375 36.375 \nQ 5.609375 53.65625 14.8125 63.9375 \nQ 24.03125 74.21875 39.40625 74.21875 \nz\n\" id=\"DejaVuSans-79\"/>\n     <path d=\"M 34.1875 63.1875 \nL 20.796875 26.90625 \nL 47.609375 26.90625 \nz\nM 28.609375 72.90625 \nL 39.796875 72.90625 \nL 67.578125 0 \nL 57.328125 0 \nL 50.6875 18.703125 \nL 17.828125 18.703125 \nL 11.1875 0 \nL 0.78125 0 \nz\n\" id=\"DejaVuSans-65\"/>\n     <path d=\"M 11.71875 12.40625 \nL 22.015625 12.40625 \nL 22.015625 0 \nL 11.71875 0 \nz\nM 11.71875 51.703125 \nL 22.015625 51.703125 \nL 22.015625 39.3125 \nL 11.71875 39.3125 \nz\n\" id=\"DejaVuSans-58\"/>\n     <path d=\"M 10.796875 72.90625 \nL 49.515625 72.90625 \nL 49.515625 64.59375 \nL 19.828125 64.59375 \nL 19.828125 46.734375 \nQ 21.96875 47.46875 24.109375 47.828125 \nQ 26.265625 48.1875 28.421875 48.1875 \nQ 40.625 48.1875 47.75 41.5 \nQ 54.890625 34.8125 54.890625 23.390625 \nQ 54.890625 11.625 47.5625 5.09375 \nQ 40.234375 -1.421875 26.90625 -1.421875 \nQ 22.3125 -1.421875 17.546875 -0.640625 \nQ 12.796875 0.140625 7.71875 1.703125 \nL 7.71875 11.625 \nQ 12.109375 9.234375 16.796875 8.0625 \nQ 21.484375 6.890625 26.703125 6.890625 \nQ 35.15625 6.890625 40.078125 11.328125 \nQ 45.015625 15.765625 45.015625 23.390625 \nQ 45.015625 31 40.078125 35.4375 \nQ 35.15625 39.890625 26.703125 39.890625 \nQ 22.75 39.890625 18.8125 39.015625 \nQ 14.890625 38.140625 10.796875 36.28125 \nz\n\" id=\"DejaVuSans-53\"/>\n     <path d=\"M 48.6875 27.296875 \nQ 48.6875 37.203125 44.609375 42.84375 \nQ 40.53125 48.484375 33.40625 48.484375 \nQ 26.265625 48.484375 22.1875 42.84375 \nQ 18.109375 37.203125 18.109375 27.296875 \nQ 18.109375 17.390625 22.1875 11.75 \nQ 26.265625 6.109375 33.40625 6.109375 \nQ 40.53125 6.109375 44.609375 11.75 \nQ 48.6875 17.390625 48.6875 27.296875 \nz\nM 18.109375 46.390625 \nQ 20.953125 51.265625 25.265625 53.625 \nQ 29.59375 56 35.59375 56 \nQ 45.5625 56 51.78125 48.09375 \nQ 58.015625 40.1875 58.015625 27.296875 \nQ 58.015625 14.40625 51.78125 6.484375 \nQ 45.5625 -1.421875 35.59375 -1.421875 \nQ 29.59375 -1.421875 25.265625 0.953125 \nQ 20.953125 3.328125 18.109375 8.203125 \nL 18.109375 0 \nL 9.078125 0 \nL 9.078125 75.984375 \nL 18.109375 75.984375 \nz\n\" id=\"DejaVuSans-98\"/>\n     <path d=\"M 11.71875 12.40625 \nL 22.015625 12.40625 \nL 22.015625 4 \nL 14.015625 -11.625 \nL 7.71875 -11.625 \nL 11.71875 4 \nz\n\" id=\"DejaVuSans-44\"/>\n     <path d=\"M 32.171875 -5.078125 \nQ 28.375 -14.84375 24.75 -17.8125 \nQ 21.140625 -20.796875 15.09375 -20.796875 \nL 7.90625 -20.796875 \nL 7.90625 -13.28125 \nL 13.1875 -13.28125 \nQ 16.890625 -13.28125 18.9375 -11.515625 \nQ 21 -9.765625 23.484375 -3.21875 \nL 25.09375 0.875 \nL 2.984375 54.6875 \nL 12.5 54.6875 \nL 29.59375 11.921875 \nL 46.6875 54.6875 \nL 56.203125 54.6875 \nz\n\" id=\"DejaVuSans-121\"/>\n     <path d=\"M 45.40625 27.984375 \nQ 45.40625 37.75 41.375 43.109375 \nQ 37.359375 48.484375 30.078125 48.484375 \nQ 22.859375 48.484375 18.828125 43.109375 \nQ 14.796875 37.75 14.796875 27.984375 \nQ 14.796875 18.265625 18.828125 12.890625 \nQ 22.859375 7.515625 30.078125 7.515625 \nQ 37.359375 7.515625 41.375 12.890625 \nQ 45.40625 18.265625 45.40625 27.984375 \nz\nM 54.390625 6.78125 \nQ 54.390625 -7.171875 48.1875 -13.984375 \nQ 42 -20.796875 29.203125 -20.796875 \nQ 24.46875 -20.796875 20.265625 -20.09375 \nQ 16.0625 -19.390625 12.109375 -17.921875 \nL 12.109375 -9.1875 \nQ 16.0625 -11.328125 19.921875 -12.34375 \nQ 23.78125 -13.375 27.78125 -13.375 \nQ 36.625 -13.375 41.015625 -8.765625 \nQ 45.40625 -4.15625 45.40625 5.171875 \nL 45.40625 9.625 \nQ 42.625 4.78125 38.28125 2.390625 \nQ 33.9375 0 27.875 0 \nQ 17.828125 0 11.671875 7.65625 \nQ 5.515625 15.328125 5.515625 27.984375 \nQ 5.515625 40.671875 11.671875 48.328125 \nQ 17.828125 56 27.875 56 \nQ 33.9375 56 38.28125 53.609375 \nQ 42.625 51.21875 45.40625 46.390625 \nL 45.40625 54.6875 \nL 54.390625 54.6875 \nz\n\" id=\"DejaVuSans-103\"/>\n     <path d=\"M 52 44.1875 \nQ 55.375 50.25 60.0625 53.125 \nQ 64.75 56 71.09375 56 \nQ 79.640625 56 84.28125 50.015625 \nQ 88.921875 44.046875 88.921875 33.015625 \nL 88.921875 0 \nL 79.890625 0 \nL 79.890625 32.71875 \nQ 79.890625 40.578125 77.09375 44.375 \nQ 74.3125 48.1875 68.609375 48.1875 \nQ 61.625 48.1875 57.5625 43.546875 \nQ 53.515625 38.921875 53.515625 30.90625 \nL 53.515625 0 \nL 44.484375 0 \nL 44.484375 32.71875 \nQ 44.484375 40.625 41.703125 44.40625 \nQ 38.921875 48.1875 33.109375 48.1875 \nQ 26.21875 48.1875 22.15625 43.53125 \nQ 18.109375 38.875 18.109375 30.90625 \nL 18.109375 0 \nL 9.078125 0 \nL 9.078125 54.6875 \nL 18.109375 54.6875 \nL 18.109375 46.1875 \nQ 21.1875 51.21875 25.484375 53.609375 \nQ 29.78125 56 35.6875 56 \nQ 41.65625 56 45.828125 52.96875 \nQ 50 49.953125 52 44.1875 \nz\n\" id=\"DejaVuSans-109\"/>\n    </defs>\n    <g style=\"fill:#262626;\" transform=\"translate(7.2 16.318125)scale(0.12 -0.12)\">\n     <use xlink:href=\"#DejaVuSans-67\"/>\n     <use x=\"69.824219\" xlink:href=\"#DejaVuSans-117\"/>\n     <use x=\"133.203125\" xlink:href=\"#DejaVuSans-114\"/>\n     <use x=\"174.316406\" xlink:href=\"#DejaVuSans-118\"/>\n     <use x=\"233.496094\" xlink:href=\"#DejaVuSans-97\"/>\n     <use x=\"294.775391\" xlink:href=\"#DejaVuSans-32\"/>\n     <use x=\"326.5625\" xlink:href=\"#DejaVuSans-82\"/>\n     <use x=\"396.044922\" xlink:href=\"#DejaVuSans-79\"/>\n     <use x=\"474.755859\" xlink:href=\"#DejaVuSans-67\"/>\n     <use x=\"544.580078\" xlink:href=\"#DejaVuSans-32\"/>\n     <use x=\"576.367188\" xlink:href=\"#DejaVuSans-112\"/>\n     <use x=\"639.84375\" xlink:href=\"#DejaVuSans-97\"/>\n     <use x=\"701.123047\" xlink:href=\"#DejaVuSans-114\"/>\n     <use x=\"742.236328\" xlink:href=\"#DejaVuSans-97\"/>\n     <use x=\"803.515625\" xlink:href=\"#DejaVuSans-32\"/>\n     <use x=\"835.302734\" xlink:href=\"#DejaVuSans-67\"/>\n     <use x=\"905.126953\" xlink:href=\"#DejaVuSans-97\"/>\n     <use x=\"966.40625\" xlink:href=\"#DejaVuSans-115\"/>\n     <use x=\"1018.505859\" xlink:href=\"#DejaVuSans-111\"/>\n     <use x=\"1079.6875\" xlink:href=\"#DejaVuSans-32\"/>\n     <use x=\"1111.474609\" xlink:href=\"#DejaVuSans-65\"/>\n     <use x=\"1178.132812\" xlink:href=\"#DejaVuSans-58\"/>\n     <use x=\"1211.824219\" xlink:href=\"#DejaVuSans-32\"/>\n     <use x=\"1243.611328\" xlink:href=\"#DejaVuSans-52\"/>\n     <use x=\"1307.234375\" xlink:href=\"#DejaVuSans-32\"/>\n     <use x=\"1339.021484\" xlink:href=\"#DejaVuSans-67\"/>\n     <use x=\"1408.845703\" xlink:href=\"#DejaVuSans-97\"/>\n     <use x=\"1470.125\" xlink:href=\"#DejaVuSans-112\"/>\n     <use x=\"1533.601562\" xlink:href=\"#DejaVuSans-97\"/>\n     <use x=\"1594.880859\" xlink:href=\"#DejaVuSans-115\"/>\n     <use x=\"1646.980469\" xlink:href=\"#DejaVuSans-32\"/>\n     <use x=\"1678.767578\" xlink:href=\"#DejaVuSans-101\"/>\n     <use x=\"1740.291016\" xlink:href=\"#DejaVuSans-115\"/>\n     <use x=\"1792.390625\" xlink:href=\"#DejaVuSans-99\"/>\n     <use x=\"1847.371094\" xlink:href=\"#DejaVuSans-111\"/>\n     <use x=\"1908.552734\" xlink:href=\"#DejaVuSans-110\"/>\n     <use x=\"1971.931641\" xlink:href=\"#DejaVuSans-100\"/>\n     <use x=\"2035.408203\" xlink:href=\"#DejaVuSans-105\"/>\n     <use x=\"2063.191406\" xlink:href=\"#DejaVuSans-100\"/>\n     <use x=\"2126.667969\" xlink:href=\"#DejaVuSans-97\"/>\n     <use x=\"2187.947266\" xlink:href=\"#DejaVuSans-115\"/>\n     <use x=\"2240.046875\" xlink:href=\"#DejaVuSans-58\"/>\n     <use x=\"2273.738281\" xlink:href=\"#DejaVuSans-53\"/>\n     <use x=\"2337.361328\" xlink:href=\"#DejaVuSans-40\"/>\n     <use x=\"2376.375\" xlink:href=\"#DejaVuSans-98\"/>\n     <use x=\"2439.851562\" xlink:href=\"#DejaVuSans-41\"/>\n     <use x=\"2478.865234\" xlink:href=\"#DejaVuSans-44\"/>\n     <use x=\"2510.652344\" xlink:href=\"#DejaVuSans-49\"/>\n     <use x=\"2574.275391\" xlink:href=\"#DejaVuSans-48\"/>\n     <use x=\"2637.898438\" xlink:href=\"#DejaVuSans-40\"/>\n     <use x=\"2676.912109\" xlink:href=\"#DejaVuSans-121\"/>\n     <use x=\"2736.091797\" xlink:href=\"#DejaVuSans-41\"/>\n     <use x=\"2775.105469\" xlink:href=\"#DejaVuSans-44\"/>\n     <use x=\"2806.892578\" xlink:href=\"#DejaVuSans-50\"/>\n     <use x=\"2870.515625\" xlink:href=\"#DejaVuSans-48\"/>\n     <use x=\"2934.138672\" xlink:href=\"#DejaVuSans-40\"/>\n     <use x=\"2973.152344\" xlink:href=\"#DejaVuSans-103\"/>\n     <use x=\"3036.628906\" xlink:href=\"#DejaVuSans-41\"/>\n     <use x=\"3075.642578\" xlink:href=\"#DejaVuSans-44\"/>\n     <use x=\"3107.429688\" xlink:href=\"#DejaVuSans-53\"/>\n     <use x=\"3171.052734\" xlink:href=\"#DejaVuSans-48\"/>\n     <use x=\"3234.675781\" xlink:href=\"#DejaVuSans-40\"/>\n     <use x=\"3273.689453\" xlink:href=\"#DejaVuSans-114\"/>\n     <use x=\"3314.802734\" xlink:href=\"#DejaVuSans-41\"/>\n     <use x=\"3353.816406\" xlink:href=\"#DejaVuSans-44\"/>\n     <use x=\"3385.603516\" xlink:href=\"#DejaVuSans-49\"/>\n     <use x=\"3449.226562\" xlink:href=\"#DejaVuSans-48\"/>\n     <use x=\"3512.849609\" xlink:href=\"#DejaVuSans-48\"/>\n     <use x=\"3576.472656\" xlink:href=\"#DejaVuSans-40\"/>\n     <use x=\"3615.486328\" xlink:href=\"#DejaVuSans-109\"/>\n     <use x=\"3712.898438\" xlink:href=\"#DejaVuSans-41\"/>\n     <use x=\"3751.912109\" xlink:href=\"#DejaVuSans-44\"/>\n     <use x=\"3783.699219\" xlink:href=\"#DejaVuSans-110\"/>\n     <use x=\"3847.078125\" xlink:href=\"#DejaVuSans-101\"/>\n     <use x=\"3908.601562\" xlink:href=\"#DejaVuSans-117\"/>\n     <use x=\"3971.980469\" xlink:href=\"#DejaVuSans-114\"/>\n     <use x=\"4010.84375\" xlink:href=\"#DejaVuSans-111\"/>\n     <use x=\"4072.025391\" xlink:href=\"#DejaVuSans-110\"/>\n     <use x=\"4135.404297\" xlink:href=\"#DejaVuSans-97\"/>\n     <use x=\"4196.683594\" xlink:href=\"#DejaVuSans-115\"/>\n     <use x=\"4248.783203\" xlink:href=\"#DejaVuSans-46\"/>\n    </g>\n   </g>\n  </g>\n </g>\n <defs>\n  <clipPath id=\"pb110a647f8\">\n   <rect height=\"217.44\" width=\"334.8\" x=\"96.635625\" y=\"22.318125\"/>\n  </clipPath>\n </defs>\n</svg>\n"
          },
          "metadata": {}
        }
      ]
    },
    {
      "cell_type": "code",
      "metadata": {
        "colab": {
          "base_uri": "https://localhost:8080/",
          "height": 818
        },
        "id": "Yn3nxrQZYGKr",
        "outputId": "12e1c95a-a512-4e74-cbf0-aff51c12c0a6"
      },
      "source": [
        "## 5 Capas escondidas.\n",
        "from sklearn.model_selection import train_test_split\n",
        "\n",
        "X_valid, X_test2, y_valid, y_test2 = train_test_split( X_test, y_test, test_size=0.5, random_state=42)\n",
        "\n",
        "neuronas=[5,10,20,50,100]\n",
        "#neurona=0\n",
        "\n",
        "for i in neuronas:\n",
        "    model = MLPClassifier( hidden_layer_sizes=[i,i,i,i,i], activation='relu') ##\n",
        "    model.fit(X_valid,y_valid) # Acá se entrena con los datos de validación #\n",
        "    y_predict = model.predict(X_test2) #Acá y_predict se evalua con los datos test_2#\n",
        "    print (i)\n",
        "    print(f'Precisión con {round(i,5)} neuronas y cinco capas escondidas {round(accuracy_score(y_test2, y_predict),5)}')\n",
        "    print(pd.DataFrame(confusion_matrix(y_test2,y_predict)))\n",
        "     # Grafica ROC\n",
        "    fpr, tpr, thresholds = roc_curve(y_test2,y_predict)\n",
        "    plt.plot(fpr,tpr)\n",
        "    plt.xlim([0.0, 1.0])\n",
        "    plt.ylim([0.0, 1.0])\n",
        "    plt.title('Curva ROC para Caso A: 5 Capas escondidas:5(b),10(y),20(g),50(r),100(m),neuronas.')\n",
        "    plt.xlabel('Tasa de Falsos Positivos (1-Especificidad)')\n",
        "    plt.ylabel('Tasa de Verdaderos Positivos (Sensitividad)')\n",
        "    plt.grid(True) \n"
      ],
      "execution_count": 202,
      "outputs": [
        {
          "output_type": "stream",
          "name": "stdout",
          "text": [
            "5\n",
            "Precisión con 5 neuronas y cinco capas escondidas 0.68708\n",
            "      0     1\n",
            "0  3145   564\n",
            "1  1756  1949\n",
            "10\n",
            "Precisión con 10 neuronas y cinco capas escondidas 0.85082\n",
            "      0     1\n",
            "0  3019   690\n",
            "1   416  3289\n",
            "20\n",
            "Precisión con 20 neuronas y cinco capas escondidas 0.92015\n",
            "      0     1\n",
            "0  3303   406\n",
            "1   186  3519\n",
            "50\n",
            "Precisión con 50 neuronas y cinco capas escondidas 0.93998\n",
            "      0     1\n",
            "0  3452   257\n",
            "1   188  3517\n",
            "100\n",
            "Precisión con 100 neuronas y cinco capas escondidas 0.94443\n",
            "      0     1\n",
            "0  3356   353\n",
            "1    59  3646\n"
          ]
        },
        {
          "output_type": "display_data",
          "data": {
            "text/plain": [
              "<Figure size 432x288 with 1 Axes>"
            ],
            "image/svg+xml": "<?xml version=\"1.0\" encoding=\"utf-8\" standalone=\"no\"?>\n<!DOCTYPE svg PUBLIC \"-//W3C//DTD SVG 1.1//EN\"\n  \"http://www.w3.org/Graphics/SVG/1.1/DTD/svg11.dtd\">\n<!-- Created with matplotlib (https://matplotlib.org/) -->\n<svg height=\"277.314375pt\" version=\"1.1\" viewBox=\"0 0 528.07125 277.314375\" width=\"528.07125pt\" xmlns=\"http://www.w3.org/2000/svg\" xmlns:xlink=\"http://www.w3.org/1999/xlink\">\n <defs>\n  <style type=\"text/css\">\n*{stroke-linecap:butt;stroke-linejoin:round;}\n  </style>\n </defs>\n <g id=\"figure_1\">\n  <g id=\"patch_1\">\n   <path d=\"M 0 277.314375 \nL 528.07125 277.314375 \nL 528.07125 0 \nL 0 0 \nz\n\" style=\"fill:#ffffff;\"/>\n  </g>\n  <g id=\"axes_1\">\n   <g id=\"patch_2\">\n    <path d=\"M 96.635625 239.758125 \nL 431.435625 239.758125 \nL 431.435625 22.318125 \nL 96.635625 22.318125 \nz\n\" style=\"fill:#ffffff;\"/>\n   </g>\n   <g id=\"matplotlib.axis_1\">\n    <g id=\"xtick_1\">\n     <g id=\"line2d_1\">\n      <path clip-path=\"url(#p7ca581c17a)\" d=\"M 96.635625 239.758125 \nL 96.635625 22.318125 \n\" style=\"fill:none;stroke:#cccccc;stroke-linecap:round;stroke-width:0.8;\"/>\n     </g>\n     <g id=\"text_1\">\n      <!-- 0.0 -->\n      <defs>\n       <path d=\"M 31.78125 66.40625 \nQ 24.171875 66.40625 20.328125 58.90625 \nQ 16.5 51.421875 16.5 36.375 \nQ 16.5 21.390625 20.328125 13.890625 \nQ 24.171875 6.390625 31.78125 6.390625 \nQ 39.453125 6.390625 43.28125 13.890625 \nQ 47.125 21.390625 47.125 36.375 \nQ 47.125 51.421875 43.28125 58.90625 \nQ 39.453125 66.40625 31.78125 66.40625 \nz\nM 31.78125 74.21875 \nQ 44.046875 74.21875 50.515625 64.515625 \nQ 56.984375 54.828125 56.984375 36.375 \nQ 56.984375 17.96875 50.515625 8.265625 \nQ 44.046875 -1.421875 31.78125 -1.421875 \nQ 19.53125 -1.421875 13.0625 8.265625 \nQ 6.59375 17.96875 6.59375 36.375 \nQ 6.59375 54.828125 13.0625 64.515625 \nQ 19.53125 74.21875 31.78125 74.21875 \nz\n\" id=\"DejaVuSans-48\"/>\n       <path d=\"M 10.6875 12.40625 \nL 21 12.40625 \nL 21 0 \nL 10.6875 0 \nz\n\" id=\"DejaVuSans-46\"/>\n      </defs>\n      <g style=\"fill:#262626;\" transform=\"translate(88.684062 254.356562)scale(0.1 -0.1)\">\n       <use xlink:href=\"#DejaVuSans-48\"/>\n       <use x=\"63.623047\" xlink:href=\"#DejaVuSans-46\"/>\n       <use x=\"95.410156\" xlink:href=\"#DejaVuSans-48\"/>\n      </g>\n     </g>\n    </g>\n    <g id=\"xtick_2\">\n     <g id=\"line2d_2\">\n      <path clip-path=\"url(#p7ca581c17a)\" d=\"M 163.595625 239.758125 \nL 163.595625 22.318125 \n\" style=\"fill:none;stroke:#cccccc;stroke-linecap:round;stroke-width:0.8;\"/>\n     </g>\n     <g id=\"text_2\">\n      <!-- 0.2 -->\n      <defs>\n       <path d=\"M 19.1875 8.296875 \nL 53.609375 8.296875 \nL 53.609375 0 \nL 7.328125 0 \nL 7.328125 8.296875 \nQ 12.9375 14.109375 22.625 23.890625 \nQ 32.328125 33.6875 34.8125 36.53125 \nQ 39.546875 41.84375 41.421875 45.53125 \nQ 43.3125 49.21875 43.3125 52.78125 \nQ 43.3125 58.59375 39.234375 62.25 \nQ 35.15625 65.921875 28.609375 65.921875 \nQ 23.96875 65.921875 18.8125 64.3125 \nQ 13.671875 62.703125 7.8125 59.421875 \nL 7.8125 69.390625 \nQ 13.765625 71.78125 18.9375 73 \nQ 24.125 74.21875 28.421875 74.21875 \nQ 39.75 74.21875 46.484375 68.546875 \nQ 53.21875 62.890625 53.21875 53.421875 \nQ 53.21875 48.921875 51.53125 44.890625 \nQ 49.859375 40.875 45.40625 35.40625 \nQ 44.1875 33.984375 37.640625 27.21875 \nQ 31.109375 20.453125 19.1875 8.296875 \nz\n\" id=\"DejaVuSans-50\"/>\n      </defs>\n      <g style=\"fill:#262626;\" transform=\"translate(155.644062 254.356562)scale(0.1 -0.1)\">\n       <use xlink:href=\"#DejaVuSans-48\"/>\n       <use x=\"63.623047\" xlink:href=\"#DejaVuSans-46\"/>\n       <use x=\"95.410156\" xlink:href=\"#DejaVuSans-50\"/>\n      </g>\n     </g>\n    </g>\n    <g id=\"xtick_3\">\n     <g id=\"line2d_3\">\n      <path clip-path=\"url(#p7ca581c17a)\" d=\"M 230.555625 239.758125 \nL 230.555625 22.318125 \n\" style=\"fill:none;stroke:#cccccc;stroke-linecap:round;stroke-width:0.8;\"/>\n     </g>\n     <g id=\"text_3\">\n      <!-- 0.4 -->\n      <defs>\n       <path d=\"M 37.796875 64.3125 \nL 12.890625 25.390625 \nL 37.796875 25.390625 \nz\nM 35.203125 72.90625 \nL 47.609375 72.90625 \nL 47.609375 25.390625 \nL 58.015625 25.390625 \nL 58.015625 17.1875 \nL 47.609375 17.1875 \nL 47.609375 0 \nL 37.796875 0 \nL 37.796875 17.1875 \nL 4.890625 17.1875 \nL 4.890625 26.703125 \nz\n\" id=\"DejaVuSans-52\"/>\n      </defs>\n      <g style=\"fill:#262626;\" transform=\"translate(222.604063 254.356562)scale(0.1 -0.1)\">\n       <use xlink:href=\"#DejaVuSans-48\"/>\n       <use x=\"63.623047\" xlink:href=\"#DejaVuSans-46\"/>\n       <use x=\"95.410156\" xlink:href=\"#DejaVuSans-52\"/>\n      </g>\n     </g>\n    </g>\n    <g id=\"xtick_4\">\n     <g id=\"line2d_4\">\n      <path clip-path=\"url(#p7ca581c17a)\" d=\"M 297.515625 239.758125 \nL 297.515625 22.318125 \n\" style=\"fill:none;stroke:#cccccc;stroke-linecap:round;stroke-width:0.8;\"/>\n     </g>\n     <g id=\"text_4\">\n      <!-- 0.6 -->\n      <defs>\n       <path d=\"M 33.015625 40.375 \nQ 26.375 40.375 22.484375 35.828125 \nQ 18.609375 31.296875 18.609375 23.390625 \nQ 18.609375 15.53125 22.484375 10.953125 \nQ 26.375 6.390625 33.015625 6.390625 \nQ 39.65625 6.390625 43.53125 10.953125 \nQ 47.40625 15.53125 47.40625 23.390625 \nQ 47.40625 31.296875 43.53125 35.828125 \nQ 39.65625 40.375 33.015625 40.375 \nz\nM 52.59375 71.296875 \nL 52.59375 62.3125 \nQ 48.875 64.0625 45.09375 64.984375 \nQ 41.3125 65.921875 37.59375 65.921875 \nQ 27.828125 65.921875 22.671875 59.328125 \nQ 17.53125 52.734375 16.796875 39.40625 \nQ 19.671875 43.65625 24.015625 45.921875 \nQ 28.375 48.1875 33.59375 48.1875 \nQ 44.578125 48.1875 50.953125 41.515625 \nQ 57.328125 34.859375 57.328125 23.390625 \nQ 57.328125 12.15625 50.6875 5.359375 \nQ 44.046875 -1.421875 33.015625 -1.421875 \nQ 20.359375 -1.421875 13.671875 8.265625 \nQ 6.984375 17.96875 6.984375 36.375 \nQ 6.984375 53.65625 15.1875 63.9375 \nQ 23.390625 74.21875 37.203125 74.21875 \nQ 40.921875 74.21875 44.703125 73.484375 \nQ 48.484375 72.75 52.59375 71.296875 \nz\n\" id=\"DejaVuSans-54\"/>\n      </defs>\n      <g style=\"fill:#262626;\" transform=\"translate(289.564063 254.356562)scale(0.1 -0.1)\">\n       <use xlink:href=\"#DejaVuSans-48\"/>\n       <use x=\"63.623047\" xlink:href=\"#DejaVuSans-46\"/>\n       <use x=\"95.410156\" xlink:href=\"#DejaVuSans-54\"/>\n      </g>\n     </g>\n    </g>\n    <g id=\"xtick_5\">\n     <g id=\"line2d_5\">\n      <path clip-path=\"url(#p7ca581c17a)\" d=\"M 364.475625 239.758125 \nL 364.475625 22.318125 \n\" style=\"fill:none;stroke:#cccccc;stroke-linecap:round;stroke-width:0.8;\"/>\n     </g>\n     <g id=\"text_5\">\n      <!-- 0.8 -->\n      <defs>\n       <path d=\"M 31.78125 34.625 \nQ 24.75 34.625 20.71875 30.859375 \nQ 16.703125 27.09375 16.703125 20.515625 \nQ 16.703125 13.921875 20.71875 10.15625 \nQ 24.75 6.390625 31.78125 6.390625 \nQ 38.8125 6.390625 42.859375 10.171875 \nQ 46.921875 13.96875 46.921875 20.515625 \nQ 46.921875 27.09375 42.890625 30.859375 \nQ 38.875 34.625 31.78125 34.625 \nz\nM 21.921875 38.8125 \nQ 15.578125 40.375 12.03125 44.71875 \nQ 8.5 49.078125 8.5 55.328125 \nQ 8.5 64.0625 14.71875 69.140625 \nQ 20.953125 74.21875 31.78125 74.21875 \nQ 42.671875 74.21875 48.875 69.140625 \nQ 55.078125 64.0625 55.078125 55.328125 \nQ 55.078125 49.078125 51.53125 44.71875 \nQ 48 40.375 41.703125 38.8125 \nQ 48.828125 37.15625 52.796875 32.3125 \nQ 56.78125 27.484375 56.78125 20.515625 \nQ 56.78125 9.90625 50.3125 4.234375 \nQ 43.84375 -1.421875 31.78125 -1.421875 \nQ 19.734375 -1.421875 13.25 4.234375 \nQ 6.78125 9.90625 6.78125 20.515625 \nQ 6.78125 27.484375 10.78125 32.3125 \nQ 14.796875 37.15625 21.921875 38.8125 \nz\nM 18.3125 54.390625 \nQ 18.3125 48.734375 21.84375 45.5625 \nQ 25.390625 42.390625 31.78125 42.390625 \nQ 38.140625 42.390625 41.71875 45.5625 \nQ 45.3125 48.734375 45.3125 54.390625 \nQ 45.3125 60.0625 41.71875 63.234375 \nQ 38.140625 66.40625 31.78125 66.40625 \nQ 25.390625 66.40625 21.84375 63.234375 \nQ 18.3125 60.0625 18.3125 54.390625 \nz\n\" id=\"DejaVuSans-56\"/>\n      </defs>\n      <g style=\"fill:#262626;\" transform=\"translate(356.524063 254.356562)scale(0.1 -0.1)\">\n       <use xlink:href=\"#DejaVuSans-48\"/>\n       <use x=\"63.623047\" xlink:href=\"#DejaVuSans-46\"/>\n       <use x=\"95.410156\" xlink:href=\"#DejaVuSans-56\"/>\n      </g>\n     </g>\n    </g>\n    <g id=\"xtick_6\">\n     <g id=\"line2d_6\">\n      <path clip-path=\"url(#p7ca581c17a)\" d=\"M 431.435625 239.758125 \nL 431.435625 22.318125 \n\" style=\"fill:none;stroke:#cccccc;stroke-linecap:round;stroke-width:0.8;\"/>\n     </g>\n     <g id=\"text_6\">\n      <!-- 1.0 -->\n      <defs>\n       <path d=\"M 12.40625 8.296875 \nL 28.515625 8.296875 \nL 28.515625 63.921875 \nL 10.984375 60.40625 \nL 10.984375 69.390625 \nL 28.421875 72.90625 \nL 38.28125 72.90625 \nL 38.28125 8.296875 \nL 54.390625 8.296875 \nL 54.390625 0 \nL 12.40625 0 \nz\n\" id=\"DejaVuSans-49\"/>\n      </defs>\n      <g style=\"fill:#262626;\" transform=\"translate(423.484063 254.356562)scale(0.1 -0.1)\">\n       <use xlink:href=\"#DejaVuSans-49\"/>\n       <use x=\"63.623047\" xlink:href=\"#DejaVuSans-46\"/>\n       <use x=\"95.410156\" xlink:href=\"#DejaVuSans-48\"/>\n      </g>\n     </g>\n    </g>\n    <g id=\"text_7\">\n     <!-- Tasa de Falsos Positivos (1-Especificidad) -->\n     <defs>\n      <path d=\"M -0.296875 72.90625 \nL 61.375 72.90625 \nL 61.375 64.59375 \nL 35.5 64.59375 \nL 35.5 0 \nL 25.59375 0 \nL 25.59375 64.59375 \nL -0.296875 64.59375 \nz\n\" id=\"DejaVuSans-84\"/>\n      <path d=\"M 34.28125 27.484375 \nQ 23.390625 27.484375 19.1875 25 \nQ 14.984375 22.515625 14.984375 16.5 \nQ 14.984375 11.71875 18.140625 8.90625 \nQ 21.296875 6.109375 26.703125 6.109375 \nQ 34.1875 6.109375 38.703125 11.40625 \nQ 43.21875 16.703125 43.21875 25.484375 \nL 43.21875 27.484375 \nz\nM 52.203125 31.203125 \nL 52.203125 0 \nL 43.21875 0 \nL 43.21875 8.296875 \nQ 40.140625 3.328125 35.546875 0.953125 \nQ 30.953125 -1.421875 24.3125 -1.421875 \nQ 15.921875 -1.421875 10.953125 3.296875 \nQ 6 8.015625 6 15.921875 \nQ 6 25.140625 12.171875 29.828125 \nQ 18.359375 34.515625 30.609375 34.515625 \nL 43.21875 34.515625 \nL 43.21875 35.40625 \nQ 43.21875 41.609375 39.140625 45 \nQ 35.0625 48.390625 27.6875 48.390625 \nQ 23 48.390625 18.546875 47.265625 \nQ 14.109375 46.140625 10.015625 43.890625 \nL 10.015625 52.203125 \nQ 14.9375 54.109375 19.578125 55.046875 \nQ 24.21875 56 28.609375 56 \nQ 40.484375 56 46.34375 49.84375 \nQ 52.203125 43.703125 52.203125 31.203125 \nz\n\" id=\"DejaVuSans-97\"/>\n      <path d=\"M 44.28125 53.078125 \nL 44.28125 44.578125 \nQ 40.484375 46.53125 36.375 47.5 \nQ 32.28125 48.484375 27.875 48.484375 \nQ 21.1875 48.484375 17.84375 46.4375 \nQ 14.5 44.390625 14.5 40.28125 \nQ 14.5 37.15625 16.890625 35.375 \nQ 19.28125 33.59375 26.515625 31.984375 \nL 29.59375 31.296875 \nQ 39.15625 29.25 43.1875 25.515625 \nQ 47.21875 21.78125 47.21875 15.09375 \nQ 47.21875 7.46875 41.1875 3.015625 \nQ 35.15625 -1.421875 24.609375 -1.421875 \nQ 20.21875 -1.421875 15.453125 -0.5625 \nQ 10.6875 0.296875 5.421875 2 \nL 5.421875 11.28125 \nQ 10.40625 8.6875 15.234375 7.390625 \nQ 20.0625 6.109375 24.8125 6.109375 \nQ 31.15625 6.109375 34.5625 8.28125 \nQ 37.984375 10.453125 37.984375 14.40625 \nQ 37.984375 18.0625 35.515625 20.015625 \nQ 33.0625 21.96875 24.703125 23.78125 \nL 21.578125 24.515625 \nQ 13.234375 26.265625 9.515625 29.90625 \nQ 5.8125 33.546875 5.8125 39.890625 \nQ 5.8125 47.609375 11.28125 51.796875 \nQ 16.75 56 26.8125 56 \nQ 31.78125 56 36.171875 55.265625 \nQ 40.578125 54.546875 44.28125 53.078125 \nz\n\" id=\"DejaVuSans-115\"/>\n      <path id=\"DejaVuSans-32\"/>\n      <path d=\"M 45.40625 46.390625 \nL 45.40625 75.984375 \nL 54.390625 75.984375 \nL 54.390625 0 \nL 45.40625 0 \nL 45.40625 8.203125 \nQ 42.578125 3.328125 38.25 0.953125 \nQ 33.9375 -1.421875 27.875 -1.421875 \nQ 17.96875 -1.421875 11.734375 6.484375 \nQ 5.515625 14.40625 5.515625 27.296875 \nQ 5.515625 40.1875 11.734375 48.09375 \nQ 17.96875 56 27.875 56 \nQ 33.9375 56 38.25 53.625 \nQ 42.578125 51.265625 45.40625 46.390625 \nz\nM 14.796875 27.296875 \nQ 14.796875 17.390625 18.875 11.75 \nQ 22.953125 6.109375 30.078125 6.109375 \nQ 37.203125 6.109375 41.296875 11.75 \nQ 45.40625 17.390625 45.40625 27.296875 \nQ 45.40625 37.203125 41.296875 42.84375 \nQ 37.203125 48.484375 30.078125 48.484375 \nQ 22.953125 48.484375 18.875 42.84375 \nQ 14.796875 37.203125 14.796875 27.296875 \nz\n\" id=\"DejaVuSans-100\"/>\n      <path d=\"M 56.203125 29.59375 \nL 56.203125 25.203125 \nL 14.890625 25.203125 \nQ 15.484375 15.921875 20.484375 11.0625 \nQ 25.484375 6.203125 34.421875 6.203125 \nQ 39.59375 6.203125 44.453125 7.46875 \nQ 49.3125 8.734375 54.109375 11.28125 \nL 54.109375 2.78125 \nQ 49.265625 0.734375 44.1875 -0.34375 \nQ 39.109375 -1.421875 33.890625 -1.421875 \nQ 20.796875 -1.421875 13.15625 6.1875 \nQ 5.515625 13.8125 5.515625 26.8125 \nQ 5.515625 40.234375 12.765625 48.109375 \nQ 20.015625 56 32.328125 56 \nQ 43.359375 56 49.78125 48.890625 \nQ 56.203125 41.796875 56.203125 29.59375 \nz\nM 47.21875 32.234375 \nQ 47.125 39.59375 43.09375 43.984375 \nQ 39.0625 48.390625 32.421875 48.390625 \nQ 24.90625 48.390625 20.390625 44.140625 \nQ 15.875 39.890625 15.1875 32.171875 \nz\n\" id=\"DejaVuSans-101\"/>\n      <path d=\"M 9.8125 72.90625 \nL 51.703125 72.90625 \nL 51.703125 64.59375 \nL 19.671875 64.59375 \nL 19.671875 43.109375 \nL 48.578125 43.109375 \nL 48.578125 34.8125 \nL 19.671875 34.8125 \nL 19.671875 0 \nL 9.8125 0 \nz\n\" id=\"DejaVuSans-70\"/>\n      <path d=\"M 9.421875 75.984375 \nL 18.40625 75.984375 \nL 18.40625 0 \nL 9.421875 0 \nz\n\" id=\"DejaVuSans-108\"/>\n      <path d=\"M 30.609375 48.390625 \nQ 23.390625 48.390625 19.1875 42.75 \nQ 14.984375 37.109375 14.984375 27.296875 \nQ 14.984375 17.484375 19.15625 11.84375 \nQ 23.34375 6.203125 30.609375 6.203125 \nQ 37.796875 6.203125 41.984375 11.859375 \nQ 46.1875 17.53125 46.1875 27.296875 \nQ 46.1875 37.015625 41.984375 42.703125 \nQ 37.796875 48.390625 30.609375 48.390625 \nz\nM 30.609375 56 \nQ 42.328125 56 49.015625 48.375 \nQ 55.71875 40.765625 55.71875 27.296875 \nQ 55.71875 13.875 49.015625 6.21875 \nQ 42.328125 -1.421875 30.609375 -1.421875 \nQ 18.84375 -1.421875 12.171875 6.21875 \nQ 5.515625 13.875 5.515625 27.296875 \nQ 5.515625 40.765625 12.171875 48.375 \nQ 18.84375 56 30.609375 56 \nz\n\" id=\"DejaVuSans-111\"/>\n      <path d=\"M 19.671875 64.796875 \nL 19.671875 37.40625 \nL 32.078125 37.40625 \nQ 38.96875 37.40625 42.71875 40.96875 \nQ 46.484375 44.53125 46.484375 51.125 \nQ 46.484375 57.671875 42.71875 61.234375 \nQ 38.96875 64.796875 32.078125 64.796875 \nz\nM 9.8125 72.90625 \nL 32.078125 72.90625 \nQ 44.34375 72.90625 50.609375 67.359375 \nQ 56.890625 61.8125 56.890625 51.125 \nQ 56.890625 40.328125 50.609375 34.8125 \nQ 44.34375 29.296875 32.078125 29.296875 \nL 19.671875 29.296875 \nL 19.671875 0 \nL 9.8125 0 \nz\n\" id=\"DejaVuSans-80\"/>\n      <path d=\"M 9.421875 54.6875 \nL 18.40625 54.6875 \nL 18.40625 0 \nL 9.421875 0 \nz\nM 9.421875 75.984375 \nL 18.40625 75.984375 \nL 18.40625 64.59375 \nL 9.421875 64.59375 \nz\n\" id=\"DejaVuSans-105\"/>\n      <path d=\"M 18.3125 70.21875 \nL 18.3125 54.6875 \nL 36.8125 54.6875 \nL 36.8125 47.703125 \nL 18.3125 47.703125 \nL 18.3125 18.015625 \nQ 18.3125 11.328125 20.140625 9.421875 \nQ 21.96875 7.515625 27.59375 7.515625 \nL 36.8125 7.515625 \nL 36.8125 0 \nL 27.59375 0 \nQ 17.1875 0 13.234375 3.875 \nQ 9.28125 7.765625 9.28125 18.015625 \nL 9.28125 47.703125 \nL 2.6875 47.703125 \nL 2.6875 54.6875 \nL 9.28125 54.6875 \nL 9.28125 70.21875 \nz\n\" id=\"DejaVuSans-116\"/>\n      <path d=\"M 2.984375 54.6875 \nL 12.5 54.6875 \nL 29.59375 8.796875 \nL 46.6875 54.6875 \nL 56.203125 54.6875 \nL 35.6875 0 \nL 23.484375 0 \nz\n\" id=\"DejaVuSans-118\"/>\n      <path d=\"M 31 75.875 \nQ 24.46875 64.65625 21.28125 53.65625 \nQ 18.109375 42.671875 18.109375 31.390625 \nQ 18.109375 20.125 21.3125 9.0625 \nQ 24.515625 -2 31 -13.1875 \nL 23.1875 -13.1875 \nQ 15.875 -1.703125 12.234375 9.375 \nQ 8.59375 20.453125 8.59375 31.390625 \nQ 8.59375 42.28125 12.203125 53.3125 \nQ 15.828125 64.359375 23.1875 75.875 \nz\n\" id=\"DejaVuSans-40\"/>\n      <path d=\"M 4.890625 31.390625 \nL 31.203125 31.390625 \nL 31.203125 23.390625 \nL 4.890625 23.390625 \nz\n\" id=\"DejaVuSans-45\"/>\n      <path d=\"M 9.8125 72.90625 \nL 55.90625 72.90625 \nL 55.90625 64.59375 \nL 19.671875 64.59375 \nL 19.671875 43.015625 \nL 54.390625 43.015625 \nL 54.390625 34.71875 \nL 19.671875 34.71875 \nL 19.671875 8.296875 \nL 56.78125 8.296875 \nL 56.78125 0 \nL 9.8125 0 \nz\n\" id=\"DejaVuSans-69\"/>\n      <path d=\"M 18.109375 8.203125 \nL 18.109375 -20.796875 \nL 9.078125 -20.796875 \nL 9.078125 54.6875 \nL 18.109375 54.6875 \nL 18.109375 46.390625 \nQ 20.953125 51.265625 25.265625 53.625 \nQ 29.59375 56 35.59375 56 \nQ 45.5625 56 51.78125 48.09375 \nQ 58.015625 40.1875 58.015625 27.296875 \nQ 58.015625 14.40625 51.78125 6.484375 \nQ 45.5625 -1.421875 35.59375 -1.421875 \nQ 29.59375 -1.421875 25.265625 0.953125 \nQ 20.953125 3.328125 18.109375 8.203125 \nz\nM 48.6875 27.296875 \nQ 48.6875 37.203125 44.609375 42.84375 \nQ 40.53125 48.484375 33.40625 48.484375 \nQ 26.265625 48.484375 22.1875 42.84375 \nQ 18.109375 37.203125 18.109375 27.296875 \nQ 18.109375 17.390625 22.1875 11.75 \nQ 26.265625 6.109375 33.40625 6.109375 \nQ 40.53125 6.109375 44.609375 11.75 \nQ 48.6875 17.390625 48.6875 27.296875 \nz\n\" id=\"DejaVuSans-112\"/>\n      <path d=\"M 48.78125 52.59375 \nL 48.78125 44.1875 \nQ 44.96875 46.296875 41.140625 47.34375 \nQ 37.3125 48.390625 33.40625 48.390625 \nQ 24.65625 48.390625 19.8125 42.84375 \nQ 14.984375 37.3125 14.984375 27.296875 \nQ 14.984375 17.28125 19.8125 11.734375 \nQ 24.65625 6.203125 33.40625 6.203125 \nQ 37.3125 6.203125 41.140625 7.25 \nQ 44.96875 8.296875 48.78125 10.40625 \nL 48.78125 2.09375 \nQ 45.015625 0.34375 40.984375 -0.53125 \nQ 36.96875 -1.421875 32.421875 -1.421875 \nQ 20.0625 -1.421875 12.78125 6.34375 \nQ 5.515625 14.109375 5.515625 27.296875 \nQ 5.515625 40.671875 12.859375 48.328125 \nQ 20.21875 56 33.015625 56 \nQ 37.15625 56 41.109375 55.140625 \nQ 45.0625 54.296875 48.78125 52.59375 \nz\n\" id=\"DejaVuSans-99\"/>\n      <path d=\"M 37.109375 75.984375 \nL 37.109375 68.5 \nL 28.515625 68.5 \nQ 23.6875 68.5 21.796875 66.546875 \nQ 19.921875 64.59375 19.921875 59.515625 \nL 19.921875 54.6875 \nL 34.71875 54.6875 \nL 34.71875 47.703125 \nL 19.921875 47.703125 \nL 19.921875 0 \nL 10.890625 0 \nL 10.890625 47.703125 \nL 2.296875 47.703125 \nL 2.296875 54.6875 \nL 10.890625 54.6875 \nL 10.890625 58.5 \nQ 10.890625 67.625 15.140625 71.796875 \nQ 19.390625 75.984375 28.609375 75.984375 \nz\n\" id=\"DejaVuSans-102\"/>\n      <path d=\"M 8.015625 75.875 \nL 15.828125 75.875 \nQ 23.140625 64.359375 26.78125 53.3125 \nQ 30.421875 42.28125 30.421875 31.390625 \nQ 30.421875 20.453125 26.78125 9.375 \nQ 23.140625 -1.703125 15.828125 -13.1875 \nL 8.015625 -13.1875 \nQ 14.5 -2 17.703125 9.0625 \nQ 20.90625 20.125 20.90625 31.390625 \nQ 20.90625 42.671875 17.703125 53.65625 \nQ 14.5 64.65625 8.015625 75.875 \nz\n\" id=\"DejaVuSans-41\"/>\n     </defs>\n     <g style=\"fill:#262626;\" transform=\"translate(161.72625 268.034687)scale(0.1 -0.1)\">\n      <use xlink:href=\"#DejaVuSans-84\"/>\n      <use x=\"44.583984\" xlink:href=\"#DejaVuSans-97\"/>\n      <use x=\"105.863281\" xlink:href=\"#DejaVuSans-115\"/>\n      <use x=\"157.962891\" xlink:href=\"#DejaVuSans-97\"/>\n      <use x=\"219.242188\" xlink:href=\"#DejaVuSans-32\"/>\n      <use x=\"251.029297\" xlink:href=\"#DejaVuSans-100\"/>\n      <use x=\"314.505859\" xlink:href=\"#DejaVuSans-101\"/>\n      <use x=\"376.029297\" xlink:href=\"#DejaVuSans-32\"/>\n      <use x=\"407.816406\" xlink:href=\"#DejaVuSans-70\"/>\n      <use x=\"456.210938\" xlink:href=\"#DejaVuSans-97\"/>\n      <use x=\"517.490234\" xlink:href=\"#DejaVuSans-108\"/>\n      <use x=\"545.273438\" xlink:href=\"#DejaVuSans-115\"/>\n      <use x=\"597.373047\" xlink:href=\"#DejaVuSans-111\"/>\n      <use x=\"658.554688\" xlink:href=\"#DejaVuSans-115\"/>\n      <use x=\"710.654297\" xlink:href=\"#DejaVuSans-32\"/>\n      <use x=\"742.441406\" xlink:href=\"#DejaVuSans-80\"/>\n      <use x=\"799.119141\" xlink:href=\"#DejaVuSans-111\"/>\n      <use x=\"860.300781\" xlink:href=\"#DejaVuSans-115\"/>\n      <use x=\"912.400391\" xlink:href=\"#DejaVuSans-105\"/>\n      <use x=\"940.183594\" xlink:href=\"#DejaVuSans-116\"/>\n      <use x=\"979.392578\" xlink:href=\"#DejaVuSans-105\"/>\n      <use x=\"1007.175781\" xlink:href=\"#DejaVuSans-118\"/>\n      <use x=\"1066.355469\" xlink:href=\"#DejaVuSans-111\"/>\n      <use x=\"1127.537109\" xlink:href=\"#DejaVuSans-115\"/>\n      <use x=\"1179.636719\" xlink:href=\"#DejaVuSans-32\"/>\n      <use x=\"1211.423828\" xlink:href=\"#DejaVuSans-40\"/>\n      <use x=\"1250.4375\" xlink:href=\"#DejaVuSans-49\"/>\n      <use x=\"1314.060547\" xlink:href=\"#DejaVuSans-45\"/>\n      <use x=\"1350.144531\" xlink:href=\"#DejaVuSans-69\"/>\n      <use x=\"1413.328125\" xlink:href=\"#DejaVuSans-115\"/>\n      <use x=\"1465.427734\" xlink:href=\"#DejaVuSans-112\"/>\n      <use x=\"1528.904297\" xlink:href=\"#DejaVuSans-101\"/>\n      <use x=\"1590.427734\" xlink:href=\"#DejaVuSans-99\"/>\n      <use x=\"1645.408203\" xlink:href=\"#DejaVuSans-105\"/>\n      <use x=\"1673.191406\" xlink:href=\"#DejaVuSans-102\"/>\n      <use x=\"1708.396484\" xlink:href=\"#DejaVuSans-105\"/>\n      <use x=\"1736.179688\" xlink:href=\"#DejaVuSans-99\"/>\n      <use x=\"1791.160156\" xlink:href=\"#DejaVuSans-105\"/>\n      <use x=\"1818.943359\" xlink:href=\"#DejaVuSans-100\"/>\n      <use x=\"1882.419922\" xlink:href=\"#DejaVuSans-97\"/>\n      <use x=\"1943.699219\" xlink:href=\"#DejaVuSans-100\"/>\n      <use x=\"2007.175781\" xlink:href=\"#DejaVuSans-41\"/>\n     </g>\n    </g>\n   </g>\n   <g id=\"matplotlib.axis_2\">\n    <g id=\"ytick_1\">\n     <g id=\"line2d_7\">\n      <path clip-path=\"url(#p7ca581c17a)\" d=\"M 96.635625 239.758125 \nL 431.435625 239.758125 \n\" style=\"fill:none;stroke:#cccccc;stroke-linecap:round;stroke-width:0.8;\"/>\n     </g>\n     <g id=\"text_8\">\n      <!-- 0.0 -->\n      <g style=\"fill:#262626;\" transform=\"translate(73.7325 243.557344)scale(0.1 -0.1)\">\n       <use xlink:href=\"#DejaVuSans-48\"/>\n       <use x=\"63.623047\" xlink:href=\"#DejaVuSans-46\"/>\n       <use x=\"95.410156\" xlink:href=\"#DejaVuSans-48\"/>\n      </g>\n     </g>\n    </g>\n    <g id=\"ytick_2\">\n     <g id=\"line2d_8\">\n      <path clip-path=\"url(#p7ca581c17a)\" d=\"M 96.635625 196.270125 \nL 431.435625 196.270125 \n\" style=\"fill:none;stroke:#cccccc;stroke-linecap:round;stroke-width:0.8;\"/>\n     </g>\n     <g id=\"text_9\">\n      <!-- 0.2 -->\n      <g style=\"fill:#262626;\" transform=\"translate(73.7325 200.069344)scale(0.1 -0.1)\">\n       <use xlink:href=\"#DejaVuSans-48\"/>\n       <use x=\"63.623047\" xlink:href=\"#DejaVuSans-46\"/>\n       <use x=\"95.410156\" xlink:href=\"#DejaVuSans-50\"/>\n      </g>\n     </g>\n    </g>\n    <g id=\"ytick_3\">\n     <g id=\"line2d_9\">\n      <path clip-path=\"url(#p7ca581c17a)\" d=\"M 96.635625 152.782125 \nL 431.435625 152.782125 \n\" style=\"fill:none;stroke:#cccccc;stroke-linecap:round;stroke-width:0.8;\"/>\n     </g>\n     <g id=\"text_10\">\n      <!-- 0.4 -->\n      <g style=\"fill:#262626;\" transform=\"translate(73.7325 156.581344)scale(0.1 -0.1)\">\n       <use xlink:href=\"#DejaVuSans-48\"/>\n       <use x=\"63.623047\" xlink:href=\"#DejaVuSans-46\"/>\n       <use x=\"95.410156\" xlink:href=\"#DejaVuSans-52\"/>\n      </g>\n     </g>\n    </g>\n    <g id=\"ytick_4\">\n     <g id=\"line2d_10\">\n      <path clip-path=\"url(#p7ca581c17a)\" d=\"M 96.635625 109.294125 \nL 431.435625 109.294125 \n\" style=\"fill:none;stroke:#cccccc;stroke-linecap:round;stroke-width:0.8;\"/>\n     </g>\n     <g id=\"text_11\">\n      <!-- 0.6 -->\n      <g style=\"fill:#262626;\" transform=\"translate(73.7325 113.093344)scale(0.1 -0.1)\">\n       <use xlink:href=\"#DejaVuSans-48\"/>\n       <use x=\"63.623047\" xlink:href=\"#DejaVuSans-46\"/>\n       <use x=\"95.410156\" xlink:href=\"#DejaVuSans-54\"/>\n      </g>\n     </g>\n    </g>\n    <g id=\"ytick_5\">\n     <g id=\"line2d_11\">\n      <path clip-path=\"url(#p7ca581c17a)\" d=\"M 96.635625 65.806125 \nL 431.435625 65.806125 \n\" style=\"fill:none;stroke:#cccccc;stroke-linecap:round;stroke-width:0.8;\"/>\n     </g>\n     <g id=\"text_12\">\n      <!-- 0.8 -->\n      <g style=\"fill:#262626;\" transform=\"translate(73.7325 69.605344)scale(0.1 -0.1)\">\n       <use xlink:href=\"#DejaVuSans-48\"/>\n       <use x=\"63.623047\" xlink:href=\"#DejaVuSans-46\"/>\n       <use x=\"95.410156\" xlink:href=\"#DejaVuSans-56\"/>\n      </g>\n     </g>\n    </g>\n    <g id=\"ytick_6\">\n     <g id=\"line2d_12\">\n      <path clip-path=\"url(#p7ca581c17a)\" d=\"M 96.635625 22.318125 \nL 431.435625 22.318125 \n\" style=\"fill:none;stroke:#cccccc;stroke-linecap:round;stroke-width:0.8;\"/>\n     </g>\n     <g id=\"text_13\">\n      <!-- 1.0 -->\n      <g style=\"fill:#262626;\" transform=\"translate(73.7325 26.117344)scale(0.1 -0.1)\">\n       <use xlink:href=\"#DejaVuSans-49\"/>\n       <use x=\"63.623047\" xlink:href=\"#DejaVuSans-46\"/>\n       <use x=\"95.410156\" xlink:href=\"#DejaVuSans-48\"/>\n      </g>\n     </g>\n    </g>\n    <g id=\"text_14\">\n     <!-- Tasa de Verdaderos Positivos (Sensitividad) -->\n     <defs>\n      <path d=\"M 28.609375 0 \nL 0.78125 72.90625 \nL 11.078125 72.90625 \nL 34.1875 11.53125 \nL 57.328125 72.90625 \nL 67.578125 72.90625 \nL 39.796875 0 \nz\n\" id=\"DejaVuSans-86\"/>\n      <path d=\"M 41.109375 46.296875 \nQ 39.59375 47.171875 37.8125 47.578125 \nQ 36.03125 48 33.890625 48 \nQ 26.265625 48 22.1875 43.046875 \nQ 18.109375 38.09375 18.109375 28.8125 \nL 18.109375 0 \nL 9.078125 0 \nL 9.078125 54.6875 \nL 18.109375 54.6875 \nL 18.109375 46.1875 \nQ 20.953125 51.171875 25.484375 53.578125 \nQ 30.03125 56 36.53125 56 \nQ 37.453125 56 38.578125 55.875 \nQ 39.703125 55.765625 41.0625 55.515625 \nz\n\" id=\"DejaVuSans-114\"/>\n      <path d=\"M 53.515625 70.515625 \nL 53.515625 60.890625 \nQ 47.90625 63.578125 42.921875 64.890625 \nQ 37.9375 66.21875 33.296875 66.21875 \nQ 25.25 66.21875 20.875 63.09375 \nQ 16.5 59.96875 16.5 54.203125 \nQ 16.5 49.359375 19.40625 46.890625 \nQ 22.3125 44.4375 30.421875 42.921875 \nL 36.375 41.703125 \nQ 47.40625 39.59375 52.65625 34.296875 \nQ 57.90625 29 57.90625 20.125 \nQ 57.90625 9.515625 50.796875 4.046875 \nQ 43.703125 -1.421875 29.984375 -1.421875 \nQ 24.8125 -1.421875 18.96875 -0.25 \nQ 13.140625 0.921875 6.890625 3.21875 \nL 6.890625 13.375 \nQ 12.890625 10.015625 18.65625 8.296875 \nQ 24.421875 6.59375 29.984375 6.59375 \nQ 38.421875 6.59375 43.015625 9.90625 \nQ 47.609375 13.234375 47.609375 19.390625 \nQ 47.609375 24.75 44.3125 27.78125 \nQ 41.015625 30.8125 33.5 32.328125 \nL 27.484375 33.5 \nQ 16.453125 35.6875 11.515625 40.375 \nQ 6.59375 45.0625 6.59375 53.421875 \nQ 6.59375 63.09375 13.40625 68.65625 \nQ 20.21875 74.21875 32.171875 74.21875 \nQ 37.3125 74.21875 42.625 73.28125 \nQ 47.953125 72.359375 53.515625 70.515625 \nz\n\" id=\"DejaVuSans-83\"/>\n      <path d=\"M 54.890625 33.015625 \nL 54.890625 0 \nL 45.90625 0 \nL 45.90625 32.71875 \nQ 45.90625 40.484375 42.875 44.328125 \nQ 39.84375 48.1875 33.796875 48.1875 \nQ 26.515625 48.1875 22.3125 43.546875 \nQ 18.109375 38.921875 18.109375 30.90625 \nL 18.109375 0 \nL 9.078125 0 \nL 9.078125 54.6875 \nL 18.109375 54.6875 \nL 18.109375 46.1875 \nQ 21.34375 51.125 25.703125 53.5625 \nQ 30.078125 56 35.796875 56 \nQ 45.21875 56 50.046875 50.171875 \nQ 54.890625 44.34375 54.890625 33.015625 \nz\n\" id=\"DejaVuSans-110\"/>\n     </defs>\n     <g style=\"fill:#262626;\" transform=\"translate(67.652812 239.064687)rotate(-90)scale(0.1 -0.1)\">\n      <use xlink:href=\"#DejaVuSans-84\"/>\n      <use x=\"44.583984\" xlink:href=\"#DejaVuSans-97\"/>\n      <use x=\"105.863281\" xlink:href=\"#DejaVuSans-115\"/>\n      <use x=\"157.962891\" xlink:href=\"#DejaVuSans-97\"/>\n      <use x=\"219.242188\" xlink:href=\"#DejaVuSans-32\"/>\n      <use x=\"251.029297\" xlink:href=\"#DejaVuSans-100\"/>\n      <use x=\"314.505859\" xlink:href=\"#DejaVuSans-101\"/>\n      <use x=\"376.029297\" xlink:href=\"#DejaVuSans-32\"/>\n      <use x=\"407.816406\" xlink:href=\"#DejaVuSans-86\"/>\n      <use x=\"468.474609\" xlink:href=\"#DejaVuSans-101\"/>\n      <use x=\"529.998047\" xlink:href=\"#DejaVuSans-114\"/>\n      <use x=\"569.361328\" xlink:href=\"#DejaVuSans-100\"/>\n      <use x=\"632.837891\" xlink:href=\"#DejaVuSans-97\"/>\n      <use x=\"694.117188\" xlink:href=\"#DejaVuSans-100\"/>\n      <use x=\"757.59375\" xlink:href=\"#DejaVuSans-101\"/>\n      <use x=\"819.117188\" xlink:href=\"#DejaVuSans-114\"/>\n      <use x=\"857.980469\" xlink:href=\"#DejaVuSans-111\"/>\n      <use x=\"919.162109\" xlink:href=\"#DejaVuSans-115\"/>\n      <use x=\"971.261719\" xlink:href=\"#DejaVuSans-32\"/>\n      <use x=\"1003.048828\" xlink:href=\"#DejaVuSans-80\"/>\n      <use x=\"1059.726562\" xlink:href=\"#DejaVuSans-111\"/>\n      <use x=\"1120.908203\" xlink:href=\"#DejaVuSans-115\"/>\n      <use x=\"1173.007812\" xlink:href=\"#DejaVuSans-105\"/>\n      <use x=\"1200.791016\" xlink:href=\"#DejaVuSans-116\"/>\n      <use x=\"1240\" xlink:href=\"#DejaVuSans-105\"/>\n      <use x=\"1267.783203\" xlink:href=\"#DejaVuSans-118\"/>\n      <use x=\"1326.962891\" xlink:href=\"#DejaVuSans-111\"/>\n      <use x=\"1388.144531\" xlink:href=\"#DejaVuSans-115\"/>\n      <use x=\"1440.244141\" xlink:href=\"#DejaVuSans-32\"/>\n      <use x=\"1472.03125\" xlink:href=\"#DejaVuSans-40\"/>\n      <use x=\"1511.044922\" xlink:href=\"#DejaVuSans-83\"/>\n      <use x=\"1574.521484\" xlink:href=\"#DejaVuSans-101\"/>\n      <use x=\"1636.044922\" xlink:href=\"#DejaVuSans-110\"/>\n      <use x=\"1699.423828\" xlink:href=\"#DejaVuSans-115\"/>\n      <use x=\"1751.523438\" xlink:href=\"#DejaVuSans-105\"/>\n      <use x=\"1779.306641\" xlink:href=\"#DejaVuSans-116\"/>\n      <use x=\"1818.515625\" xlink:href=\"#DejaVuSans-105\"/>\n      <use x=\"1846.298828\" xlink:href=\"#DejaVuSans-118\"/>\n      <use x=\"1905.478516\" xlink:href=\"#DejaVuSans-105\"/>\n      <use x=\"1933.261719\" xlink:href=\"#DejaVuSans-100\"/>\n      <use x=\"1996.738281\" xlink:href=\"#DejaVuSans-97\"/>\n      <use x=\"2058.017578\" xlink:href=\"#DejaVuSans-100\"/>\n      <use x=\"2121.494141\" xlink:href=\"#DejaVuSans-41\"/>\n     </g>\n    </g>\n   </g>\n   <g id=\"line2d_13\">\n    <path clip-path=\"url(#p7ca581c17a)\" d=\"M 96.635625 239.758125 \nL 147.546167 125.374708 \nL 431.435625 22.318125 \n\" style=\"fill:none;stroke:#1f77b4;stroke-linecap:round;stroke-width:1.5;\"/>\n   </g>\n   <g id=\"line2d_14\">\n    <path clip-path=\"url(#p7ca581c17a)\" d=\"M 96.635625 239.758125 \nL 158.919799 46.732441 \nL 431.435625 22.318125 \n\" style=\"fill:none;stroke:#ff7f0e;stroke-linecap:round;stroke-width:1.5;\"/>\n   </g>\n   <g id=\"line2d_15\">\n    <path clip-path=\"url(#p7ca581c17a)\" d=\"M 96.635625 239.758125 \nL 133.283994 33.234141 \nL 431.435625 22.318125 \n\" style=\"fill:none;stroke:#2ca02c;stroke-linecap:round;stroke-width:1.5;\"/>\n   </g>\n   <g id=\"line2d_16\">\n    <path clip-path=\"url(#p7ca581c17a)\" d=\"M 96.635625 239.758125 \nL 119.834223 33.351518 \nL 431.435625 22.318125 \n\" style=\"fill:none;stroke:#d62728;stroke-linecap:round;stroke-width:1.5;\"/>\n   </g>\n   <g id=\"line2d_17\">\n    <path clip-path=\"url(#p7ca581c17a)\" d=\"M 96.635625 239.758125 \nL 128.499847 25.780732 \nL 431.435625 22.318125 \n\" style=\"fill:none;stroke:#9467bd;stroke-linecap:round;stroke-width:1.5;\"/>\n   </g>\n   <g id=\"patch_3\">\n    <path d=\"M 96.635625 239.758125 \nL 96.635625 22.318125 \n\" style=\"fill:none;stroke:#262626;stroke-linecap:square;stroke-linejoin:miter;stroke-width:0.8;\"/>\n   </g>\n   <g id=\"patch_4\">\n    <path d=\"M 431.435625 239.758125 \nL 431.435625 22.318125 \n\" style=\"fill:none;stroke:#262626;stroke-linecap:square;stroke-linejoin:miter;stroke-width:0.8;\"/>\n   </g>\n   <g id=\"patch_5\">\n    <path d=\"M 96.635625 239.758125 \nL 431.435625 239.758125 \n\" style=\"fill:none;stroke:#262626;stroke-linecap:square;stroke-linejoin:miter;stroke-width:0.8;\"/>\n   </g>\n   <g id=\"patch_6\">\n    <path d=\"M 96.635625 22.318125 \nL 431.435625 22.318125 \n\" style=\"fill:none;stroke:#262626;stroke-linecap:square;stroke-linejoin:miter;stroke-width:0.8;\"/>\n   </g>\n   <g id=\"text_15\">\n    <!-- Curva ROC para Caso A: 5 Capas escondidas:5(b),10(y),20(g),50(r),100(m),neuronas. -->\n    <defs>\n     <path d=\"M 64.40625 67.28125 \nL 64.40625 56.890625 \nQ 59.421875 61.53125 53.78125 63.8125 \nQ 48.140625 66.109375 41.796875 66.109375 \nQ 29.296875 66.109375 22.65625 58.46875 \nQ 16.015625 50.828125 16.015625 36.375 \nQ 16.015625 21.96875 22.65625 14.328125 \nQ 29.296875 6.6875 41.796875 6.6875 \nQ 48.140625 6.6875 53.78125 8.984375 \nQ 59.421875 11.28125 64.40625 15.921875 \nL 64.40625 5.609375 \nQ 59.234375 2.09375 53.4375 0.328125 \nQ 47.65625 -1.421875 41.21875 -1.421875 \nQ 24.65625 -1.421875 15.125 8.703125 \nQ 5.609375 18.84375 5.609375 36.375 \nQ 5.609375 53.953125 15.125 64.078125 \nQ 24.65625 74.21875 41.21875 74.21875 \nQ 47.75 74.21875 53.53125 72.484375 \nQ 59.328125 70.75 64.40625 67.28125 \nz\n\" id=\"DejaVuSans-67\"/>\n     <path d=\"M 8.5 21.578125 \nL 8.5 54.6875 \nL 17.484375 54.6875 \nL 17.484375 21.921875 \nQ 17.484375 14.15625 20.5 10.265625 \nQ 23.53125 6.390625 29.59375 6.390625 \nQ 36.859375 6.390625 41.078125 11.03125 \nQ 45.3125 15.671875 45.3125 23.6875 \nL 45.3125 54.6875 \nL 54.296875 54.6875 \nL 54.296875 0 \nL 45.3125 0 \nL 45.3125 8.40625 \nQ 42.046875 3.421875 37.71875 1 \nQ 33.40625 -1.421875 27.6875 -1.421875 \nQ 18.265625 -1.421875 13.375 4.4375 \nQ 8.5 10.296875 8.5 21.578125 \nz\nM 31.109375 56 \nz\n\" id=\"DejaVuSans-117\"/>\n     <path d=\"M 44.390625 34.1875 \nQ 47.5625 33.109375 50.5625 29.59375 \nQ 53.5625 26.078125 56.59375 19.921875 \nL 66.609375 0 \nL 56 0 \nL 46.6875 18.703125 \nQ 43.0625 26.03125 39.671875 28.421875 \nQ 36.28125 30.8125 30.421875 30.8125 \nL 19.671875 30.8125 \nL 19.671875 0 \nL 9.8125 0 \nL 9.8125 72.90625 \nL 32.078125 72.90625 \nQ 44.578125 72.90625 50.734375 67.671875 \nQ 56.890625 62.453125 56.890625 51.90625 \nQ 56.890625 45.015625 53.6875 40.46875 \nQ 50.484375 35.9375 44.390625 34.1875 \nz\nM 19.671875 64.796875 \nL 19.671875 38.921875 \nL 32.078125 38.921875 \nQ 39.203125 38.921875 42.84375 42.21875 \nQ 46.484375 45.515625 46.484375 51.90625 \nQ 46.484375 58.296875 42.84375 61.546875 \nQ 39.203125 64.796875 32.078125 64.796875 \nz\n\" id=\"DejaVuSans-82\"/>\n     <path d=\"M 39.40625 66.21875 \nQ 28.65625 66.21875 22.328125 58.203125 \nQ 16.015625 50.203125 16.015625 36.375 \nQ 16.015625 22.609375 22.328125 14.59375 \nQ 28.65625 6.59375 39.40625 6.59375 \nQ 50.140625 6.59375 56.421875 14.59375 \nQ 62.703125 22.609375 62.703125 36.375 \nQ 62.703125 50.203125 56.421875 58.203125 \nQ 50.140625 66.21875 39.40625 66.21875 \nz\nM 39.40625 74.21875 \nQ 54.734375 74.21875 63.90625 63.9375 \nQ 73.09375 53.65625 73.09375 36.375 \nQ 73.09375 19.140625 63.90625 8.859375 \nQ 54.734375 -1.421875 39.40625 -1.421875 \nQ 24.03125 -1.421875 14.8125 8.828125 \nQ 5.609375 19.09375 5.609375 36.375 \nQ 5.609375 53.65625 14.8125 63.9375 \nQ 24.03125 74.21875 39.40625 74.21875 \nz\n\" id=\"DejaVuSans-79\"/>\n     <path d=\"M 34.1875 63.1875 \nL 20.796875 26.90625 \nL 47.609375 26.90625 \nz\nM 28.609375 72.90625 \nL 39.796875 72.90625 \nL 67.578125 0 \nL 57.328125 0 \nL 50.6875 18.703125 \nL 17.828125 18.703125 \nL 11.1875 0 \nL 0.78125 0 \nz\n\" id=\"DejaVuSans-65\"/>\n     <path d=\"M 11.71875 12.40625 \nL 22.015625 12.40625 \nL 22.015625 0 \nL 11.71875 0 \nz\nM 11.71875 51.703125 \nL 22.015625 51.703125 \nL 22.015625 39.3125 \nL 11.71875 39.3125 \nz\n\" id=\"DejaVuSans-58\"/>\n     <path d=\"M 10.796875 72.90625 \nL 49.515625 72.90625 \nL 49.515625 64.59375 \nL 19.828125 64.59375 \nL 19.828125 46.734375 \nQ 21.96875 47.46875 24.109375 47.828125 \nQ 26.265625 48.1875 28.421875 48.1875 \nQ 40.625 48.1875 47.75 41.5 \nQ 54.890625 34.8125 54.890625 23.390625 \nQ 54.890625 11.625 47.5625 5.09375 \nQ 40.234375 -1.421875 26.90625 -1.421875 \nQ 22.3125 -1.421875 17.546875 -0.640625 \nQ 12.796875 0.140625 7.71875 1.703125 \nL 7.71875 11.625 \nQ 12.109375 9.234375 16.796875 8.0625 \nQ 21.484375 6.890625 26.703125 6.890625 \nQ 35.15625 6.890625 40.078125 11.328125 \nQ 45.015625 15.765625 45.015625 23.390625 \nQ 45.015625 31 40.078125 35.4375 \nQ 35.15625 39.890625 26.703125 39.890625 \nQ 22.75 39.890625 18.8125 39.015625 \nQ 14.890625 38.140625 10.796875 36.28125 \nz\n\" id=\"DejaVuSans-53\"/>\n     <path d=\"M 48.6875 27.296875 \nQ 48.6875 37.203125 44.609375 42.84375 \nQ 40.53125 48.484375 33.40625 48.484375 \nQ 26.265625 48.484375 22.1875 42.84375 \nQ 18.109375 37.203125 18.109375 27.296875 \nQ 18.109375 17.390625 22.1875 11.75 \nQ 26.265625 6.109375 33.40625 6.109375 \nQ 40.53125 6.109375 44.609375 11.75 \nQ 48.6875 17.390625 48.6875 27.296875 \nz\nM 18.109375 46.390625 \nQ 20.953125 51.265625 25.265625 53.625 \nQ 29.59375 56 35.59375 56 \nQ 45.5625 56 51.78125 48.09375 \nQ 58.015625 40.1875 58.015625 27.296875 \nQ 58.015625 14.40625 51.78125 6.484375 \nQ 45.5625 -1.421875 35.59375 -1.421875 \nQ 29.59375 -1.421875 25.265625 0.953125 \nQ 20.953125 3.328125 18.109375 8.203125 \nL 18.109375 0 \nL 9.078125 0 \nL 9.078125 75.984375 \nL 18.109375 75.984375 \nz\n\" id=\"DejaVuSans-98\"/>\n     <path d=\"M 11.71875 12.40625 \nL 22.015625 12.40625 \nL 22.015625 4 \nL 14.015625 -11.625 \nL 7.71875 -11.625 \nL 11.71875 4 \nz\n\" id=\"DejaVuSans-44\"/>\n     <path d=\"M 32.171875 -5.078125 \nQ 28.375 -14.84375 24.75 -17.8125 \nQ 21.140625 -20.796875 15.09375 -20.796875 \nL 7.90625 -20.796875 \nL 7.90625 -13.28125 \nL 13.1875 -13.28125 \nQ 16.890625 -13.28125 18.9375 -11.515625 \nQ 21 -9.765625 23.484375 -3.21875 \nL 25.09375 0.875 \nL 2.984375 54.6875 \nL 12.5 54.6875 \nL 29.59375 11.921875 \nL 46.6875 54.6875 \nL 56.203125 54.6875 \nz\n\" id=\"DejaVuSans-121\"/>\n     <path d=\"M 45.40625 27.984375 \nQ 45.40625 37.75 41.375 43.109375 \nQ 37.359375 48.484375 30.078125 48.484375 \nQ 22.859375 48.484375 18.828125 43.109375 \nQ 14.796875 37.75 14.796875 27.984375 \nQ 14.796875 18.265625 18.828125 12.890625 \nQ 22.859375 7.515625 30.078125 7.515625 \nQ 37.359375 7.515625 41.375 12.890625 \nQ 45.40625 18.265625 45.40625 27.984375 \nz\nM 54.390625 6.78125 \nQ 54.390625 -7.171875 48.1875 -13.984375 \nQ 42 -20.796875 29.203125 -20.796875 \nQ 24.46875 -20.796875 20.265625 -20.09375 \nQ 16.0625 -19.390625 12.109375 -17.921875 \nL 12.109375 -9.1875 \nQ 16.0625 -11.328125 19.921875 -12.34375 \nQ 23.78125 -13.375 27.78125 -13.375 \nQ 36.625 -13.375 41.015625 -8.765625 \nQ 45.40625 -4.15625 45.40625 5.171875 \nL 45.40625 9.625 \nQ 42.625 4.78125 38.28125 2.390625 \nQ 33.9375 0 27.875 0 \nQ 17.828125 0 11.671875 7.65625 \nQ 5.515625 15.328125 5.515625 27.984375 \nQ 5.515625 40.671875 11.671875 48.328125 \nQ 17.828125 56 27.875 56 \nQ 33.9375 56 38.28125 53.609375 \nQ 42.625 51.21875 45.40625 46.390625 \nL 45.40625 54.6875 \nL 54.390625 54.6875 \nz\n\" id=\"DejaVuSans-103\"/>\n     <path d=\"M 52 44.1875 \nQ 55.375 50.25 60.0625 53.125 \nQ 64.75 56 71.09375 56 \nQ 79.640625 56 84.28125 50.015625 \nQ 88.921875 44.046875 88.921875 33.015625 \nL 88.921875 0 \nL 79.890625 0 \nL 79.890625 32.71875 \nQ 79.890625 40.578125 77.09375 44.375 \nQ 74.3125 48.1875 68.609375 48.1875 \nQ 61.625 48.1875 57.5625 43.546875 \nQ 53.515625 38.921875 53.515625 30.90625 \nL 53.515625 0 \nL 44.484375 0 \nL 44.484375 32.71875 \nQ 44.484375 40.625 41.703125 44.40625 \nQ 38.921875 48.1875 33.109375 48.1875 \nQ 26.21875 48.1875 22.15625 43.53125 \nQ 18.109375 38.875 18.109375 30.90625 \nL 18.109375 0 \nL 9.078125 0 \nL 9.078125 54.6875 \nL 18.109375 54.6875 \nL 18.109375 46.1875 \nQ 21.1875 51.21875 25.484375 53.609375 \nQ 29.78125 56 35.6875 56 \nQ 41.65625 56 45.828125 52.96875 \nQ 50 49.953125 52 44.1875 \nz\n\" id=\"DejaVuSans-109\"/>\n    </defs>\n    <g style=\"fill:#262626;\" transform=\"translate(7.2 16.318125)scale(0.12 -0.12)\">\n     <use xlink:href=\"#DejaVuSans-67\"/>\n     <use x=\"69.824219\" xlink:href=\"#DejaVuSans-117\"/>\n     <use x=\"133.203125\" xlink:href=\"#DejaVuSans-114\"/>\n     <use x=\"174.316406\" xlink:href=\"#DejaVuSans-118\"/>\n     <use x=\"233.496094\" xlink:href=\"#DejaVuSans-97\"/>\n     <use x=\"294.775391\" xlink:href=\"#DejaVuSans-32\"/>\n     <use x=\"326.5625\" xlink:href=\"#DejaVuSans-82\"/>\n     <use x=\"396.044922\" xlink:href=\"#DejaVuSans-79\"/>\n     <use x=\"474.755859\" xlink:href=\"#DejaVuSans-67\"/>\n     <use x=\"544.580078\" xlink:href=\"#DejaVuSans-32\"/>\n     <use x=\"576.367188\" xlink:href=\"#DejaVuSans-112\"/>\n     <use x=\"639.84375\" xlink:href=\"#DejaVuSans-97\"/>\n     <use x=\"701.123047\" xlink:href=\"#DejaVuSans-114\"/>\n     <use x=\"742.236328\" xlink:href=\"#DejaVuSans-97\"/>\n     <use x=\"803.515625\" xlink:href=\"#DejaVuSans-32\"/>\n     <use x=\"835.302734\" xlink:href=\"#DejaVuSans-67\"/>\n     <use x=\"905.126953\" xlink:href=\"#DejaVuSans-97\"/>\n     <use x=\"966.40625\" xlink:href=\"#DejaVuSans-115\"/>\n     <use x=\"1018.505859\" xlink:href=\"#DejaVuSans-111\"/>\n     <use x=\"1079.6875\" xlink:href=\"#DejaVuSans-32\"/>\n     <use x=\"1111.474609\" xlink:href=\"#DejaVuSans-65\"/>\n     <use x=\"1178.132812\" xlink:href=\"#DejaVuSans-58\"/>\n     <use x=\"1211.824219\" xlink:href=\"#DejaVuSans-32\"/>\n     <use x=\"1243.611328\" xlink:href=\"#DejaVuSans-53\"/>\n     <use x=\"1307.234375\" xlink:href=\"#DejaVuSans-32\"/>\n     <use x=\"1339.021484\" xlink:href=\"#DejaVuSans-67\"/>\n     <use x=\"1408.845703\" xlink:href=\"#DejaVuSans-97\"/>\n     <use x=\"1470.125\" xlink:href=\"#DejaVuSans-112\"/>\n     <use x=\"1533.601562\" xlink:href=\"#DejaVuSans-97\"/>\n     <use x=\"1594.880859\" xlink:href=\"#DejaVuSans-115\"/>\n     <use x=\"1646.980469\" xlink:href=\"#DejaVuSans-32\"/>\n     <use x=\"1678.767578\" xlink:href=\"#DejaVuSans-101\"/>\n     <use x=\"1740.291016\" xlink:href=\"#DejaVuSans-115\"/>\n     <use x=\"1792.390625\" xlink:href=\"#DejaVuSans-99\"/>\n     <use x=\"1847.371094\" xlink:href=\"#DejaVuSans-111\"/>\n     <use x=\"1908.552734\" xlink:href=\"#DejaVuSans-110\"/>\n     <use x=\"1971.931641\" xlink:href=\"#DejaVuSans-100\"/>\n     <use x=\"2035.408203\" xlink:href=\"#DejaVuSans-105\"/>\n     <use x=\"2063.191406\" xlink:href=\"#DejaVuSans-100\"/>\n     <use x=\"2126.667969\" xlink:href=\"#DejaVuSans-97\"/>\n     <use x=\"2187.947266\" xlink:href=\"#DejaVuSans-115\"/>\n     <use x=\"2240.046875\" xlink:href=\"#DejaVuSans-58\"/>\n     <use x=\"2273.738281\" xlink:href=\"#DejaVuSans-53\"/>\n     <use x=\"2337.361328\" xlink:href=\"#DejaVuSans-40\"/>\n     <use x=\"2376.375\" xlink:href=\"#DejaVuSans-98\"/>\n     <use x=\"2439.851562\" xlink:href=\"#DejaVuSans-41\"/>\n     <use x=\"2478.865234\" xlink:href=\"#DejaVuSans-44\"/>\n     <use x=\"2510.652344\" xlink:href=\"#DejaVuSans-49\"/>\n     <use x=\"2574.275391\" xlink:href=\"#DejaVuSans-48\"/>\n     <use x=\"2637.898438\" xlink:href=\"#DejaVuSans-40\"/>\n     <use x=\"2676.912109\" xlink:href=\"#DejaVuSans-121\"/>\n     <use x=\"2736.091797\" xlink:href=\"#DejaVuSans-41\"/>\n     <use x=\"2775.105469\" xlink:href=\"#DejaVuSans-44\"/>\n     <use x=\"2806.892578\" xlink:href=\"#DejaVuSans-50\"/>\n     <use x=\"2870.515625\" xlink:href=\"#DejaVuSans-48\"/>\n     <use x=\"2934.138672\" xlink:href=\"#DejaVuSans-40\"/>\n     <use x=\"2973.152344\" xlink:href=\"#DejaVuSans-103\"/>\n     <use x=\"3036.628906\" xlink:href=\"#DejaVuSans-41\"/>\n     <use x=\"3075.642578\" xlink:href=\"#DejaVuSans-44\"/>\n     <use x=\"3107.429688\" xlink:href=\"#DejaVuSans-53\"/>\n     <use x=\"3171.052734\" xlink:href=\"#DejaVuSans-48\"/>\n     <use x=\"3234.675781\" xlink:href=\"#DejaVuSans-40\"/>\n     <use x=\"3273.689453\" xlink:href=\"#DejaVuSans-114\"/>\n     <use x=\"3314.802734\" xlink:href=\"#DejaVuSans-41\"/>\n     <use x=\"3353.816406\" xlink:href=\"#DejaVuSans-44\"/>\n     <use x=\"3385.603516\" xlink:href=\"#DejaVuSans-49\"/>\n     <use x=\"3449.226562\" xlink:href=\"#DejaVuSans-48\"/>\n     <use x=\"3512.849609\" xlink:href=\"#DejaVuSans-48\"/>\n     <use x=\"3576.472656\" xlink:href=\"#DejaVuSans-40\"/>\n     <use x=\"3615.486328\" xlink:href=\"#DejaVuSans-109\"/>\n     <use x=\"3712.898438\" xlink:href=\"#DejaVuSans-41\"/>\n     <use x=\"3751.912109\" xlink:href=\"#DejaVuSans-44\"/>\n     <use x=\"3783.699219\" xlink:href=\"#DejaVuSans-110\"/>\n     <use x=\"3847.078125\" xlink:href=\"#DejaVuSans-101\"/>\n     <use x=\"3908.601562\" xlink:href=\"#DejaVuSans-117\"/>\n     <use x=\"3971.980469\" xlink:href=\"#DejaVuSans-114\"/>\n     <use x=\"4010.84375\" xlink:href=\"#DejaVuSans-111\"/>\n     <use x=\"4072.025391\" xlink:href=\"#DejaVuSans-110\"/>\n     <use x=\"4135.404297\" xlink:href=\"#DejaVuSans-97\"/>\n     <use x=\"4196.683594\" xlink:href=\"#DejaVuSans-115\"/>\n     <use x=\"4248.783203\" xlink:href=\"#DejaVuSans-46\"/>\n    </g>\n   </g>\n  </g>\n </g>\n <defs>\n  <clipPath id=\"p7ca581c17a\">\n   <rect height=\"217.44\" width=\"334.8\" x=\"96.635625\" y=\"22.318125\"/>\n  </clipPath>\n </defs>\n</svg>\n"
          },
          "metadata": {}
        }
      ]
    },
    {
      "cell_type": "code",
      "metadata": {
        "colab": {
          "base_uri": "https://localhost:8080/",
          "height": 818
        },
        "id": "33x5fxx0Yp-g",
        "outputId": "a65edc60-98a8-4787-dba5-fbffc8c6d921"
      },
      "source": [
        "# La última prueba con 10 capas escondidas\n",
        "\n",
        "from sklearn.model_selection import train_test_split\n",
        "\n",
        "X_valid, X_test2, y_valid, y_test2 = train_test_split( X_test, y_test, test_size=0.5, random_state=42)\n",
        "\n",
        "neuronas=[5,10,20,50,100]\n",
        "#neurona=0\n",
        "\n",
        "for i in neuronas:\n",
        "    model = MLPClassifier( hidden_layer_sizes=[i,i,i,i,i,i,i,i,i,i], activation='relu') ##\n",
        "    model.fit(X_valid,y_valid) # Acá se entrena con los datos de validación #\n",
        "    y_predict = model.predict(X_test2) #Acá y_predict se evalua con los datos test_2#\n",
        "    print (i)\n",
        "    print(f'Precisión con {round(i,5)} neuronas y diez capas escondidas {round(accuracy_score(y_test2, y_predict),5)}')\n",
        "    print(pd.DataFrame(confusion_matrix(y_test2,y_predict)))\n",
        "     # Grafica ROC\n",
        "    fpr, tpr, thresholds = roc_curve(y_test2,y_predict)\n",
        "    plt.plot(fpr,tpr)\n",
        "    plt.xlim([0.0, 1.0])\n",
        "    plt.ylim([0.0, 1.0])\n",
        "    plt.title('Curva ROC para Caso A: 10 Capas escondidas:5(b),10(y),20(g),50(r),100(m),neuronas.')\n",
        "    plt.xlabel('Tasa de Falsos Positivos (1-Especificidad)')\n",
        "    plt.ylabel('Tasa de Verdaderos Positivos (Sensitividad)')\n",
        "    plt.grid(True)\n"
      ],
      "execution_count": 203,
      "outputs": [
        {
          "output_type": "stream",
          "name": "stdout",
          "text": [
            "5\n",
            "Precisión con 5 neuronas y diez capas escondidas 0.7266\n",
            "      0     1\n",
            "0  2626  1083\n",
            "1   944  2761\n",
            "10\n",
            "Precisión con 10 neuronas y diez capas escondidas 0.79161\n",
            "      0     1\n",
            "0  3146   563\n",
            "1   982  2723\n",
            "20\n",
            "Precisión con 20 neuronas y diez capas escondidas 0.90477\n",
            "      0     1\n",
            "0  3180   529\n",
            "1   177  3528\n",
            "50\n",
            "Precisión con 50 neuronas y diez capas escondidas 0.93674\n",
            "      0     1\n",
            "0  3475   234\n",
            "1   235  3470\n",
            "100\n",
            "Precisión con 100 neuronas y diez capas escondidas 0.94227\n",
            "      0     1\n",
            "0  3341   368\n",
            "1    60  3645\n"
          ]
        },
        {
          "output_type": "display_data",
          "data": {
            "text/plain": [
              "<Figure size 432x288 with 1 Axes>"
            ],
            "image/svg+xml": "<?xml version=\"1.0\" encoding=\"utf-8\" standalone=\"no\"?>\n<!DOCTYPE svg PUBLIC \"-//W3C//DTD SVG 1.1//EN\"\n  \"http://www.w3.org/Graphics/SVG/1.1/DTD/svg11.dtd\">\n<!-- Created with matplotlib (https://matplotlib.org/) -->\n<svg height=\"277.314375pt\" version=\"1.1\" viewBox=\"0 0 535.70625 277.314375\" width=\"535.70625pt\" xmlns=\"http://www.w3.org/2000/svg\" xmlns:xlink=\"http://www.w3.org/1999/xlink\">\n <defs>\n  <style type=\"text/css\">\n*{stroke-linecap:butt;stroke-linejoin:round;}\n  </style>\n </defs>\n <g id=\"figure_1\">\n  <g id=\"patch_1\">\n   <path d=\"M 0 277.314375 \nL 535.70625 277.314375 \nL 535.70625 0 \nL 0 0 \nz\n\" style=\"fill:#ffffff;\"/>\n  </g>\n  <g id=\"axes_1\">\n   <g id=\"patch_2\">\n    <path d=\"M 100.453125 239.758125 \nL 435.253125 239.758125 \nL 435.253125 22.318125 \nL 100.453125 22.318125 \nz\n\" style=\"fill:#ffffff;\"/>\n   </g>\n   <g id=\"matplotlib.axis_1\">\n    <g id=\"xtick_1\">\n     <g id=\"line2d_1\">\n      <path clip-path=\"url(#pfb147928e3)\" d=\"M 100.453125 239.758125 \nL 100.453125 22.318125 \n\" style=\"fill:none;stroke:#cccccc;stroke-linecap:round;stroke-width:0.8;\"/>\n     </g>\n     <g id=\"text_1\">\n      <!-- 0.0 -->\n      <defs>\n       <path d=\"M 31.78125 66.40625 \nQ 24.171875 66.40625 20.328125 58.90625 \nQ 16.5 51.421875 16.5 36.375 \nQ 16.5 21.390625 20.328125 13.890625 \nQ 24.171875 6.390625 31.78125 6.390625 \nQ 39.453125 6.390625 43.28125 13.890625 \nQ 47.125 21.390625 47.125 36.375 \nQ 47.125 51.421875 43.28125 58.90625 \nQ 39.453125 66.40625 31.78125 66.40625 \nz\nM 31.78125 74.21875 \nQ 44.046875 74.21875 50.515625 64.515625 \nQ 56.984375 54.828125 56.984375 36.375 \nQ 56.984375 17.96875 50.515625 8.265625 \nQ 44.046875 -1.421875 31.78125 -1.421875 \nQ 19.53125 -1.421875 13.0625 8.265625 \nQ 6.59375 17.96875 6.59375 36.375 \nQ 6.59375 54.828125 13.0625 64.515625 \nQ 19.53125 74.21875 31.78125 74.21875 \nz\n\" id=\"DejaVuSans-48\"/>\n       <path d=\"M 10.6875 12.40625 \nL 21 12.40625 \nL 21 0 \nL 10.6875 0 \nz\n\" id=\"DejaVuSans-46\"/>\n      </defs>\n      <g style=\"fill:#262626;\" transform=\"translate(92.501562 254.356562)scale(0.1 -0.1)\">\n       <use xlink:href=\"#DejaVuSans-48\"/>\n       <use x=\"63.623047\" xlink:href=\"#DejaVuSans-46\"/>\n       <use x=\"95.410156\" xlink:href=\"#DejaVuSans-48\"/>\n      </g>\n     </g>\n    </g>\n    <g id=\"xtick_2\">\n     <g id=\"line2d_2\">\n      <path clip-path=\"url(#pfb147928e3)\" d=\"M 167.413125 239.758125 \nL 167.413125 22.318125 \n\" style=\"fill:none;stroke:#cccccc;stroke-linecap:round;stroke-width:0.8;\"/>\n     </g>\n     <g id=\"text_2\">\n      <!-- 0.2 -->\n      <defs>\n       <path d=\"M 19.1875 8.296875 \nL 53.609375 8.296875 \nL 53.609375 0 \nL 7.328125 0 \nL 7.328125 8.296875 \nQ 12.9375 14.109375 22.625 23.890625 \nQ 32.328125 33.6875 34.8125 36.53125 \nQ 39.546875 41.84375 41.421875 45.53125 \nQ 43.3125 49.21875 43.3125 52.78125 \nQ 43.3125 58.59375 39.234375 62.25 \nQ 35.15625 65.921875 28.609375 65.921875 \nQ 23.96875 65.921875 18.8125 64.3125 \nQ 13.671875 62.703125 7.8125 59.421875 \nL 7.8125 69.390625 \nQ 13.765625 71.78125 18.9375 73 \nQ 24.125 74.21875 28.421875 74.21875 \nQ 39.75 74.21875 46.484375 68.546875 \nQ 53.21875 62.890625 53.21875 53.421875 \nQ 53.21875 48.921875 51.53125 44.890625 \nQ 49.859375 40.875 45.40625 35.40625 \nQ 44.1875 33.984375 37.640625 27.21875 \nQ 31.109375 20.453125 19.1875 8.296875 \nz\n\" id=\"DejaVuSans-50\"/>\n      </defs>\n      <g style=\"fill:#262626;\" transform=\"translate(159.461562 254.356562)scale(0.1 -0.1)\">\n       <use xlink:href=\"#DejaVuSans-48\"/>\n       <use x=\"63.623047\" xlink:href=\"#DejaVuSans-46\"/>\n       <use x=\"95.410156\" xlink:href=\"#DejaVuSans-50\"/>\n      </g>\n     </g>\n    </g>\n    <g id=\"xtick_3\">\n     <g id=\"line2d_3\">\n      <path clip-path=\"url(#pfb147928e3)\" d=\"M 234.373125 239.758125 \nL 234.373125 22.318125 \n\" style=\"fill:none;stroke:#cccccc;stroke-linecap:round;stroke-width:0.8;\"/>\n     </g>\n     <g id=\"text_3\">\n      <!-- 0.4 -->\n      <defs>\n       <path d=\"M 37.796875 64.3125 \nL 12.890625 25.390625 \nL 37.796875 25.390625 \nz\nM 35.203125 72.90625 \nL 47.609375 72.90625 \nL 47.609375 25.390625 \nL 58.015625 25.390625 \nL 58.015625 17.1875 \nL 47.609375 17.1875 \nL 47.609375 0 \nL 37.796875 0 \nL 37.796875 17.1875 \nL 4.890625 17.1875 \nL 4.890625 26.703125 \nz\n\" id=\"DejaVuSans-52\"/>\n      </defs>\n      <g style=\"fill:#262626;\" transform=\"translate(226.421563 254.356562)scale(0.1 -0.1)\">\n       <use xlink:href=\"#DejaVuSans-48\"/>\n       <use x=\"63.623047\" xlink:href=\"#DejaVuSans-46\"/>\n       <use x=\"95.410156\" xlink:href=\"#DejaVuSans-52\"/>\n      </g>\n     </g>\n    </g>\n    <g id=\"xtick_4\">\n     <g id=\"line2d_4\">\n      <path clip-path=\"url(#pfb147928e3)\" d=\"M 301.333125 239.758125 \nL 301.333125 22.318125 \n\" style=\"fill:none;stroke:#cccccc;stroke-linecap:round;stroke-width:0.8;\"/>\n     </g>\n     <g id=\"text_4\">\n      <!-- 0.6 -->\n      <defs>\n       <path d=\"M 33.015625 40.375 \nQ 26.375 40.375 22.484375 35.828125 \nQ 18.609375 31.296875 18.609375 23.390625 \nQ 18.609375 15.53125 22.484375 10.953125 \nQ 26.375 6.390625 33.015625 6.390625 \nQ 39.65625 6.390625 43.53125 10.953125 \nQ 47.40625 15.53125 47.40625 23.390625 \nQ 47.40625 31.296875 43.53125 35.828125 \nQ 39.65625 40.375 33.015625 40.375 \nz\nM 52.59375 71.296875 \nL 52.59375 62.3125 \nQ 48.875 64.0625 45.09375 64.984375 \nQ 41.3125 65.921875 37.59375 65.921875 \nQ 27.828125 65.921875 22.671875 59.328125 \nQ 17.53125 52.734375 16.796875 39.40625 \nQ 19.671875 43.65625 24.015625 45.921875 \nQ 28.375 48.1875 33.59375 48.1875 \nQ 44.578125 48.1875 50.953125 41.515625 \nQ 57.328125 34.859375 57.328125 23.390625 \nQ 57.328125 12.15625 50.6875 5.359375 \nQ 44.046875 -1.421875 33.015625 -1.421875 \nQ 20.359375 -1.421875 13.671875 8.265625 \nQ 6.984375 17.96875 6.984375 36.375 \nQ 6.984375 53.65625 15.1875 63.9375 \nQ 23.390625 74.21875 37.203125 74.21875 \nQ 40.921875 74.21875 44.703125 73.484375 \nQ 48.484375 72.75 52.59375 71.296875 \nz\n\" id=\"DejaVuSans-54\"/>\n      </defs>\n      <g style=\"fill:#262626;\" transform=\"translate(293.381563 254.356562)scale(0.1 -0.1)\">\n       <use xlink:href=\"#DejaVuSans-48\"/>\n       <use x=\"63.623047\" xlink:href=\"#DejaVuSans-46\"/>\n       <use x=\"95.410156\" xlink:href=\"#DejaVuSans-54\"/>\n      </g>\n     </g>\n    </g>\n    <g id=\"xtick_5\">\n     <g id=\"line2d_5\">\n      <path clip-path=\"url(#pfb147928e3)\" d=\"M 368.293125 239.758125 \nL 368.293125 22.318125 \n\" style=\"fill:none;stroke:#cccccc;stroke-linecap:round;stroke-width:0.8;\"/>\n     </g>\n     <g id=\"text_5\">\n      <!-- 0.8 -->\n      <defs>\n       <path d=\"M 31.78125 34.625 \nQ 24.75 34.625 20.71875 30.859375 \nQ 16.703125 27.09375 16.703125 20.515625 \nQ 16.703125 13.921875 20.71875 10.15625 \nQ 24.75 6.390625 31.78125 6.390625 \nQ 38.8125 6.390625 42.859375 10.171875 \nQ 46.921875 13.96875 46.921875 20.515625 \nQ 46.921875 27.09375 42.890625 30.859375 \nQ 38.875 34.625 31.78125 34.625 \nz\nM 21.921875 38.8125 \nQ 15.578125 40.375 12.03125 44.71875 \nQ 8.5 49.078125 8.5 55.328125 \nQ 8.5 64.0625 14.71875 69.140625 \nQ 20.953125 74.21875 31.78125 74.21875 \nQ 42.671875 74.21875 48.875 69.140625 \nQ 55.078125 64.0625 55.078125 55.328125 \nQ 55.078125 49.078125 51.53125 44.71875 \nQ 48 40.375 41.703125 38.8125 \nQ 48.828125 37.15625 52.796875 32.3125 \nQ 56.78125 27.484375 56.78125 20.515625 \nQ 56.78125 9.90625 50.3125 4.234375 \nQ 43.84375 -1.421875 31.78125 -1.421875 \nQ 19.734375 -1.421875 13.25 4.234375 \nQ 6.78125 9.90625 6.78125 20.515625 \nQ 6.78125 27.484375 10.78125 32.3125 \nQ 14.796875 37.15625 21.921875 38.8125 \nz\nM 18.3125 54.390625 \nQ 18.3125 48.734375 21.84375 45.5625 \nQ 25.390625 42.390625 31.78125 42.390625 \nQ 38.140625 42.390625 41.71875 45.5625 \nQ 45.3125 48.734375 45.3125 54.390625 \nQ 45.3125 60.0625 41.71875 63.234375 \nQ 38.140625 66.40625 31.78125 66.40625 \nQ 25.390625 66.40625 21.84375 63.234375 \nQ 18.3125 60.0625 18.3125 54.390625 \nz\n\" id=\"DejaVuSans-56\"/>\n      </defs>\n      <g style=\"fill:#262626;\" transform=\"translate(360.341563 254.356562)scale(0.1 -0.1)\">\n       <use xlink:href=\"#DejaVuSans-48\"/>\n       <use x=\"63.623047\" xlink:href=\"#DejaVuSans-46\"/>\n       <use x=\"95.410156\" xlink:href=\"#DejaVuSans-56\"/>\n      </g>\n     </g>\n    </g>\n    <g id=\"xtick_6\">\n     <g id=\"line2d_6\">\n      <path clip-path=\"url(#pfb147928e3)\" d=\"M 435.253125 239.758125 \nL 435.253125 22.318125 \n\" style=\"fill:none;stroke:#cccccc;stroke-linecap:round;stroke-width:0.8;\"/>\n     </g>\n     <g id=\"text_6\">\n      <!-- 1.0 -->\n      <defs>\n       <path d=\"M 12.40625 8.296875 \nL 28.515625 8.296875 \nL 28.515625 63.921875 \nL 10.984375 60.40625 \nL 10.984375 69.390625 \nL 28.421875 72.90625 \nL 38.28125 72.90625 \nL 38.28125 8.296875 \nL 54.390625 8.296875 \nL 54.390625 0 \nL 12.40625 0 \nz\n\" id=\"DejaVuSans-49\"/>\n      </defs>\n      <g style=\"fill:#262626;\" transform=\"translate(427.301563 254.356562)scale(0.1 -0.1)\">\n       <use xlink:href=\"#DejaVuSans-49\"/>\n       <use x=\"63.623047\" xlink:href=\"#DejaVuSans-46\"/>\n       <use x=\"95.410156\" xlink:href=\"#DejaVuSans-48\"/>\n      </g>\n     </g>\n    </g>\n    <g id=\"text_7\">\n     <!-- Tasa de Falsos Positivos (1-Especificidad) -->\n     <defs>\n      <path d=\"M -0.296875 72.90625 \nL 61.375 72.90625 \nL 61.375 64.59375 \nL 35.5 64.59375 \nL 35.5 0 \nL 25.59375 0 \nL 25.59375 64.59375 \nL -0.296875 64.59375 \nz\n\" id=\"DejaVuSans-84\"/>\n      <path d=\"M 34.28125 27.484375 \nQ 23.390625 27.484375 19.1875 25 \nQ 14.984375 22.515625 14.984375 16.5 \nQ 14.984375 11.71875 18.140625 8.90625 \nQ 21.296875 6.109375 26.703125 6.109375 \nQ 34.1875 6.109375 38.703125 11.40625 \nQ 43.21875 16.703125 43.21875 25.484375 \nL 43.21875 27.484375 \nz\nM 52.203125 31.203125 \nL 52.203125 0 \nL 43.21875 0 \nL 43.21875 8.296875 \nQ 40.140625 3.328125 35.546875 0.953125 \nQ 30.953125 -1.421875 24.3125 -1.421875 \nQ 15.921875 -1.421875 10.953125 3.296875 \nQ 6 8.015625 6 15.921875 \nQ 6 25.140625 12.171875 29.828125 \nQ 18.359375 34.515625 30.609375 34.515625 \nL 43.21875 34.515625 \nL 43.21875 35.40625 \nQ 43.21875 41.609375 39.140625 45 \nQ 35.0625 48.390625 27.6875 48.390625 \nQ 23 48.390625 18.546875 47.265625 \nQ 14.109375 46.140625 10.015625 43.890625 \nL 10.015625 52.203125 \nQ 14.9375 54.109375 19.578125 55.046875 \nQ 24.21875 56 28.609375 56 \nQ 40.484375 56 46.34375 49.84375 \nQ 52.203125 43.703125 52.203125 31.203125 \nz\n\" id=\"DejaVuSans-97\"/>\n      <path d=\"M 44.28125 53.078125 \nL 44.28125 44.578125 \nQ 40.484375 46.53125 36.375 47.5 \nQ 32.28125 48.484375 27.875 48.484375 \nQ 21.1875 48.484375 17.84375 46.4375 \nQ 14.5 44.390625 14.5 40.28125 \nQ 14.5 37.15625 16.890625 35.375 \nQ 19.28125 33.59375 26.515625 31.984375 \nL 29.59375 31.296875 \nQ 39.15625 29.25 43.1875 25.515625 \nQ 47.21875 21.78125 47.21875 15.09375 \nQ 47.21875 7.46875 41.1875 3.015625 \nQ 35.15625 -1.421875 24.609375 -1.421875 \nQ 20.21875 -1.421875 15.453125 -0.5625 \nQ 10.6875 0.296875 5.421875 2 \nL 5.421875 11.28125 \nQ 10.40625 8.6875 15.234375 7.390625 \nQ 20.0625 6.109375 24.8125 6.109375 \nQ 31.15625 6.109375 34.5625 8.28125 \nQ 37.984375 10.453125 37.984375 14.40625 \nQ 37.984375 18.0625 35.515625 20.015625 \nQ 33.0625 21.96875 24.703125 23.78125 \nL 21.578125 24.515625 \nQ 13.234375 26.265625 9.515625 29.90625 \nQ 5.8125 33.546875 5.8125 39.890625 \nQ 5.8125 47.609375 11.28125 51.796875 \nQ 16.75 56 26.8125 56 \nQ 31.78125 56 36.171875 55.265625 \nQ 40.578125 54.546875 44.28125 53.078125 \nz\n\" id=\"DejaVuSans-115\"/>\n      <path id=\"DejaVuSans-32\"/>\n      <path d=\"M 45.40625 46.390625 \nL 45.40625 75.984375 \nL 54.390625 75.984375 \nL 54.390625 0 \nL 45.40625 0 \nL 45.40625 8.203125 \nQ 42.578125 3.328125 38.25 0.953125 \nQ 33.9375 -1.421875 27.875 -1.421875 \nQ 17.96875 -1.421875 11.734375 6.484375 \nQ 5.515625 14.40625 5.515625 27.296875 \nQ 5.515625 40.1875 11.734375 48.09375 \nQ 17.96875 56 27.875 56 \nQ 33.9375 56 38.25 53.625 \nQ 42.578125 51.265625 45.40625 46.390625 \nz\nM 14.796875 27.296875 \nQ 14.796875 17.390625 18.875 11.75 \nQ 22.953125 6.109375 30.078125 6.109375 \nQ 37.203125 6.109375 41.296875 11.75 \nQ 45.40625 17.390625 45.40625 27.296875 \nQ 45.40625 37.203125 41.296875 42.84375 \nQ 37.203125 48.484375 30.078125 48.484375 \nQ 22.953125 48.484375 18.875 42.84375 \nQ 14.796875 37.203125 14.796875 27.296875 \nz\n\" id=\"DejaVuSans-100\"/>\n      <path d=\"M 56.203125 29.59375 \nL 56.203125 25.203125 \nL 14.890625 25.203125 \nQ 15.484375 15.921875 20.484375 11.0625 \nQ 25.484375 6.203125 34.421875 6.203125 \nQ 39.59375 6.203125 44.453125 7.46875 \nQ 49.3125 8.734375 54.109375 11.28125 \nL 54.109375 2.78125 \nQ 49.265625 0.734375 44.1875 -0.34375 \nQ 39.109375 -1.421875 33.890625 -1.421875 \nQ 20.796875 -1.421875 13.15625 6.1875 \nQ 5.515625 13.8125 5.515625 26.8125 \nQ 5.515625 40.234375 12.765625 48.109375 \nQ 20.015625 56 32.328125 56 \nQ 43.359375 56 49.78125 48.890625 \nQ 56.203125 41.796875 56.203125 29.59375 \nz\nM 47.21875 32.234375 \nQ 47.125 39.59375 43.09375 43.984375 \nQ 39.0625 48.390625 32.421875 48.390625 \nQ 24.90625 48.390625 20.390625 44.140625 \nQ 15.875 39.890625 15.1875 32.171875 \nz\n\" id=\"DejaVuSans-101\"/>\n      <path d=\"M 9.8125 72.90625 \nL 51.703125 72.90625 \nL 51.703125 64.59375 \nL 19.671875 64.59375 \nL 19.671875 43.109375 \nL 48.578125 43.109375 \nL 48.578125 34.8125 \nL 19.671875 34.8125 \nL 19.671875 0 \nL 9.8125 0 \nz\n\" id=\"DejaVuSans-70\"/>\n      <path d=\"M 9.421875 75.984375 \nL 18.40625 75.984375 \nL 18.40625 0 \nL 9.421875 0 \nz\n\" id=\"DejaVuSans-108\"/>\n      <path d=\"M 30.609375 48.390625 \nQ 23.390625 48.390625 19.1875 42.75 \nQ 14.984375 37.109375 14.984375 27.296875 \nQ 14.984375 17.484375 19.15625 11.84375 \nQ 23.34375 6.203125 30.609375 6.203125 \nQ 37.796875 6.203125 41.984375 11.859375 \nQ 46.1875 17.53125 46.1875 27.296875 \nQ 46.1875 37.015625 41.984375 42.703125 \nQ 37.796875 48.390625 30.609375 48.390625 \nz\nM 30.609375 56 \nQ 42.328125 56 49.015625 48.375 \nQ 55.71875 40.765625 55.71875 27.296875 \nQ 55.71875 13.875 49.015625 6.21875 \nQ 42.328125 -1.421875 30.609375 -1.421875 \nQ 18.84375 -1.421875 12.171875 6.21875 \nQ 5.515625 13.875 5.515625 27.296875 \nQ 5.515625 40.765625 12.171875 48.375 \nQ 18.84375 56 30.609375 56 \nz\n\" id=\"DejaVuSans-111\"/>\n      <path d=\"M 19.671875 64.796875 \nL 19.671875 37.40625 \nL 32.078125 37.40625 \nQ 38.96875 37.40625 42.71875 40.96875 \nQ 46.484375 44.53125 46.484375 51.125 \nQ 46.484375 57.671875 42.71875 61.234375 \nQ 38.96875 64.796875 32.078125 64.796875 \nz\nM 9.8125 72.90625 \nL 32.078125 72.90625 \nQ 44.34375 72.90625 50.609375 67.359375 \nQ 56.890625 61.8125 56.890625 51.125 \nQ 56.890625 40.328125 50.609375 34.8125 \nQ 44.34375 29.296875 32.078125 29.296875 \nL 19.671875 29.296875 \nL 19.671875 0 \nL 9.8125 0 \nz\n\" id=\"DejaVuSans-80\"/>\n      <path d=\"M 9.421875 54.6875 \nL 18.40625 54.6875 \nL 18.40625 0 \nL 9.421875 0 \nz\nM 9.421875 75.984375 \nL 18.40625 75.984375 \nL 18.40625 64.59375 \nL 9.421875 64.59375 \nz\n\" id=\"DejaVuSans-105\"/>\n      <path d=\"M 18.3125 70.21875 \nL 18.3125 54.6875 \nL 36.8125 54.6875 \nL 36.8125 47.703125 \nL 18.3125 47.703125 \nL 18.3125 18.015625 \nQ 18.3125 11.328125 20.140625 9.421875 \nQ 21.96875 7.515625 27.59375 7.515625 \nL 36.8125 7.515625 \nL 36.8125 0 \nL 27.59375 0 \nQ 17.1875 0 13.234375 3.875 \nQ 9.28125 7.765625 9.28125 18.015625 \nL 9.28125 47.703125 \nL 2.6875 47.703125 \nL 2.6875 54.6875 \nL 9.28125 54.6875 \nL 9.28125 70.21875 \nz\n\" id=\"DejaVuSans-116\"/>\n      <path d=\"M 2.984375 54.6875 \nL 12.5 54.6875 \nL 29.59375 8.796875 \nL 46.6875 54.6875 \nL 56.203125 54.6875 \nL 35.6875 0 \nL 23.484375 0 \nz\n\" id=\"DejaVuSans-118\"/>\n      <path d=\"M 31 75.875 \nQ 24.46875 64.65625 21.28125 53.65625 \nQ 18.109375 42.671875 18.109375 31.390625 \nQ 18.109375 20.125 21.3125 9.0625 \nQ 24.515625 -2 31 -13.1875 \nL 23.1875 -13.1875 \nQ 15.875 -1.703125 12.234375 9.375 \nQ 8.59375 20.453125 8.59375 31.390625 \nQ 8.59375 42.28125 12.203125 53.3125 \nQ 15.828125 64.359375 23.1875 75.875 \nz\n\" id=\"DejaVuSans-40\"/>\n      <path d=\"M 4.890625 31.390625 \nL 31.203125 31.390625 \nL 31.203125 23.390625 \nL 4.890625 23.390625 \nz\n\" id=\"DejaVuSans-45\"/>\n      <path d=\"M 9.8125 72.90625 \nL 55.90625 72.90625 \nL 55.90625 64.59375 \nL 19.671875 64.59375 \nL 19.671875 43.015625 \nL 54.390625 43.015625 \nL 54.390625 34.71875 \nL 19.671875 34.71875 \nL 19.671875 8.296875 \nL 56.78125 8.296875 \nL 56.78125 0 \nL 9.8125 0 \nz\n\" id=\"DejaVuSans-69\"/>\n      <path d=\"M 18.109375 8.203125 \nL 18.109375 -20.796875 \nL 9.078125 -20.796875 \nL 9.078125 54.6875 \nL 18.109375 54.6875 \nL 18.109375 46.390625 \nQ 20.953125 51.265625 25.265625 53.625 \nQ 29.59375 56 35.59375 56 \nQ 45.5625 56 51.78125 48.09375 \nQ 58.015625 40.1875 58.015625 27.296875 \nQ 58.015625 14.40625 51.78125 6.484375 \nQ 45.5625 -1.421875 35.59375 -1.421875 \nQ 29.59375 -1.421875 25.265625 0.953125 \nQ 20.953125 3.328125 18.109375 8.203125 \nz\nM 48.6875 27.296875 \nQ 48.6875 37.203125 44.609375 42.84375 \nQ 40.53125 48.484375 33.40625 48.484375 \nQ 26.265625 48.484375 22.1875 42.84375 \nQ 18.109375 37.203125 18.109375 27.296875 \nQ 18.109375 17.390625 22.1875 11.75 \nQ 26.265625 6.109375 33.40625 6.109375 \nQ 40.53125 6.109375 44.609375 11.75 \nQ 48.6875 17.390625 48.6875 27.296875 \nz\n\" id=\"DejaVuSans-112\"/>\n      <path d=\"M 48.78125 52.59375 \nL 48.78125 44.1875 \nQ 44.96875 46.296875 41.140625 47.34375 \nQ 37.3125 48.390625 33.40625 48.390625 \nQ 24.65625 48.390625 19.8125 42.84375 \nQ 14.984375 37.3125 14.984375 27.296875 \nQ 14.984375 17.28125 19.8125 11.734375 \nQ 24.65625 6.203125 33.40625 6.203125 \nQ 37.3125 6.203125 41.140625 7.25 \nQ 44.96875 8.296875 48.78125 10.40625 \nL 48.78125 2.09375 \nQ 45.015625 0.34375 40.984375 -0.53125 \nQ 36.96875 -1.421875 32.421875 -1.421875 \nQ 20.0625 -1.421875 12.78125 6.34375 \nQ 5.515625 14.109375 5.515625 27.296875 \nQ 5.515625 40.671875 12.859375 48.328125 \nQ 20.21875 56 33.015625 56 \nQ 37.15625 56 41.109375 55.140625 \nQ 45.0625 54.296875 48.78125 52.59375 \nz\n\" id=\"DejaVuSans-99\"/>\n      <path d=\"M 37.109375 75.984375 \nL 37.109375 68.5 \nL 28.515625 68.5 \nQ 23.6875 68.5 21.796875 66.546875 \nQ 19.921875 64.59375 19.921875 59.515625 \nL 19.921875 54.6875 \nL 34.71875 54.6875 \nL 34.71875 47.703125 \nL 19.921875 47.703125 \nL 19.921875 0 \nL 10.890625 0 \nL 10.890625 47.703125 \nL 2.296875 47.703125 \nL 2.296875 54.6875 \nL 10.890625 54.6875 \nL 10.890625 58.5 \nQ 10.890625 67.625 15.140625 71.796875 \nQ 19.390625 75.984375 28.609375 75.984375 \nz\n\" id=\"DejaVuSans-102\"/>\n      <path d=\"M 8.015625 75.875 \nL 15.828125 75.875 \nQ 23.140625 64.359375 26.78125 53.3125 \nQ 30.421875 42.28125 30.421875 31.390625 \nQ 30.421875 20.453125 26.78125 9.375 \nQ 23.140625 -1.703125 15.828125 -13.1875 \nL 8.015625 -13.1875 \nQ 14.5 -2 17.703125 9.0625 \nQ 20.90625 20.125 20.90625 31.390625 \nQ 20.90625 42.671875 17.703125 53.65625 \nQ 14.5 64.65625 8.015625 75.875 \nz\n\" id=\"DejaVuSans-41\"/>\n     </defs>\n     <g style=\"fill:#262626;\" transform=\"translate(165.54375 268.034687)scale(0.1 -0.1)\">\n      <use xlink:href=\"#DejaVuSans-84\"/>\n      <use x=\"44.583984\" xlink:href=\"#DejaVuSans-97\"/>\n      <use x=\"105.863281\" xlink:href=\"#DejaVuSans-115\"/>\n      <use x=\"157.962891\" xlink:href=\"#DejaVuSans-97\"/>\n      <use x=\"219.242188\" xlink:href=\"#DejaVuSans-32\"/>\n      <use x=\"251.029297\" xlink:href=\"#DejaVuSans-100\"/>\n      <use x=\"314.505859\" xlink:href=\"#DejaVuSans-101\"/>\n      <use x=\"376.029297\" xlink:href=\"#DejaVuSans-32\"/>\n      <use x=\"407.816406\" xlink:href=\"#DejaVuSans-70\"/>\n      <use x=\"456.210938\" xlink:href=\"#DejaVuSans-97\"/>\n      <use x=\"517.490234\" xlink:href=\"#DejaVuSans-108\"/>\n      <use x=\"545.273438\" xlink:href=\"#DejaVuSans-115\"/>\n      <use x=\"597.373047\" xlink:href=\"#DejaVuSans-111\"/>\n      <use x=\"658.554688\" xlink:href=\"#DejaVuSans-115\"/>\n      <use x=\"710.654297\" xlink:href=\"#DejaVuSans-32\"/>\n      <use x=\"742.441406\" xlink:href=\"#DejaVuSans-80\"/>\n      <use x=\"799.119141\" xlink:href=\"#DejaVuSans-111\"/>\n      <use x=\"860.300781\" xlink:href=\"#DejaVuSans-115\"/>\n      <use x=\"912.400391\" xlink:href=\"#DejaVuSans-105\"/>\n      <use x=\"940.183594\" xlink:href=\"#DejaVuSans-116\"/>\n      <use x=\"979.392578\" xlink:href=\"#DejaVuSans-105\"/>\n      <use x=\"1007.175781\" xlink:href=\"#DejaVuSans-118\"/>\n      <use x=\"1066.355469\" xlink:href=\"#DejaVuSans-111\"/>\n      <use x=\"1127.537109\" xlink:href=\"#DejaVuSans-115\"/>\n      <use x=\"1179.636719\" xlink:href=\"#DejaVuSans-32\"/>\n      <use x=\"1211.423828\" xlink:href=\"#DejaVuSans-40\"/>\n      <use x=\"1250.4375\" xlink:href=\"#DejaVuSans-49\"/>\n      <use x=\"1314.060547\" xlink:href=\"#DejaVuSans-45\"/>\n      <use x=\"1350.144531\" xlink:href=\"#DejaVuSans-69\"/>\n      <use x=\"1413.328125\" xlink:href=\"#DejaVuSans-115\"/>\n      <use x=\"1465.427734\" xlink:href=\"#DejaVuSans-112\"/>\n      <use x=\"1528.904297\" xlink:href=\"#DejaVuSans-101\"/>\n      <use x=\"1590.427734\" xlink:href=\"#DejaVuSans-99\"/>\n      <use x=\"1645.408203\" xlink:href=\"#DejaVuSans-105\"/>\n      <use x=\"1673.191406\" xlink:href=\"#DejaVuSans-102\"/>\n      <use x=\"1708.396484\" xlink:href=\"#DejaVuSans-105\"/>\n      <use x=\"1736.179688\" xlink:href=\"#DejaVuSans-99\"/>\n      <use x=\"1791.160156\" xlink:href=\"#DejaVuSans-105\"/>\n      <use x=\"1818.943359\" xlink:href=\"#DejaVuSans-100\"/>\n      <use x=\"1882.419922\" xlink:href=\"#DejaVuSans-97\"/>\n      <use x=\"1943.699219\" xlink:href=\"#DejaVuSans-100\"/>\n      <use x=\"2007.175781\" xlink:href=\"#DejaVuSans-41\"/>\n     </g>\n    </g>\n   </g>\n   <g id=\"matplotlib.axis_2\">\n    <g id=\"ytick_1\">\n     <g id=\"line2d_7\">\n      <path clip-path=\"url(#pfb147928e3)\" d=\"M 100.453125 239.758125 \nL 435.253125 239.758125 \n\" style=\"fill:none;stroke:#cccccc;stroke-linecap:round;stroke-width:0.8;\"/>\n     </g>\n     <g id=\"text_8\">\n      <!-- 0.0 -->\n      <g style=\"fill:#262626;\" transform=\"translate(77.55 243.557344)scale(0.1 -0.1)\">\n       <use xlink:href=\"#DejaVuSans-48\"/>\n       <use x=\"63.623047\" xlink:href=\"#DejaVuSans-46\"/>\n       <use x=\"95.410156\" xlink:href=\"#DejaVuSans-48\"/>\n      </g>\n     </g>\n    </g>\n    <g id=\"ytick_2\">\n     <g id=\"line2d_8\">\n      <path clip-path=\"url(#pfb147928e3)\" d=\"M 100.453125 196.270125 \nL 435.253125 196.270125 \n\" style=\"fill:none;stroke:#cccccc;stroke-linecap:round;stroke-width:0.8;\"/>\n     </g>\n     <g id=\"text_9\">\n      <!-- 0.2 -->\n      <g style=\"fill:#262626;\" transform=\"translate(77.55 200.069344)scale(0.1 -0.1)\">\n       <use xlink:href=\"#DejaVuSans-48\"/>\n       <use x=\"63.623047\" xlink:href=\"#DejaVuSans-46\"/>\n       <use x=\"95.410156\" xlink:href=\"#DejaVuSans-50\"/>\n      </g>\n     </g>\n    </g>\n    <g id=\"ytick_3\">\n     <g id=\"line2d_9\">\n      <path clip-path=\"url(#pfb147928e3)\" d=\"M 100.453125 152.782125 \nL 435.253125 152.782125 \n\" style=\"fill:none;stroke:#cccccc;stroke-linecap:round;stroke-width:0.8;\"/>\n     </g>\n     <g id=\"text_10\">\n      <!-- 0.4 -->\n      <g style=\"fill:#262626;\" transform=\"translate(77.55 156.581344)scale(0.1 -0.1)\">\n       <use xlink:href=\"#DejaVuSans-48\"/>\n       <use x=\"63.623047\" xlink:href=\"#DejaVuSans-46\"/>\n       <use x=\"95.410156\" xlink:href=\"#DejaVuSans-52\"/>\n      </g>\n     </g>\n    </g>\n    <g id=\"ytick_4\">\n     <g id=\"line2d_10\">\n      <path clip-path=\"url(#pfb147928e3)\" d=\"M 100.453125 109.294125 \nL 435.253125 109.294125 \n\" style=\"fill:none;stroke:#cccccc;stroke-linecap:round;stroke-width:0.8;\"/>\n     </g>\n     <g id=\"text_11\">\n      <!-- 0.6 -->\n      <g style=\"fill:#262626;\" transform=\"translate(77.55 113.093344)scale(0.1 -0.1)\">\n       <use xlink:href=\"#DejaVuSans-48\"/>\n       <use x=\"63.623047\" xlink:href=\"#DejaVuSans-46\"/>\n       <use x=\"95.410156\" xlink:href=\"#DejaVuSans-54\"/>\n      </g>\n     </g>\n    </g>\n    <g id=\"ytick_5\">\n     <g id=\"line2d_11\">\n      <path clip-path=\"url(#pfb147928e3)\" d=\"M 100.453125 65.806125 \nL 435.253125 65.806125 \n\" style=\"fill:none;stroke:#cccccc;stroke-linecap:round;stroke-width:0.8;\"/>\n     </g>\n     <g id=\"text_12\">\n      <!-- 0.8 -->\n      <g style=\"fill:#262626;\" transform=\"translate(77.55 69.605344)scale(0.1 -0.1)\">\n       <use xlink:href=\"#DejaVuSans-48\"/>\n       <use x=\"63.623047\" xlink:href=\"#DejaVuSans-46\"/>\n       <use x=\"95.410156\" xlink:href=\"#DejaVuSans-56\"/>\n      </g>\n     </g>\n    </g>\n    <g id=\"ytick_6\">\n     <g id=\"line2d_12\">\n      <path clip-path=\"url(#pfb147928e3)\" d=\"M 100.453125 22.318125 \nL 435.253125 22.318125 \n\" style=\"fill:none;stroke:#cccccc;stroke-linecap:round;stroke-width:0.8;\"/>\n     </g>\n     <g id=\"text_13\">\n      <!-- 1.0 -->\n      <g style=\"fill:#262626;\" transform=\"translate(77.55 26.117344)scale(0.1 -0.1)\">\n       <use xlink:href=\"#DejaVuSans-49\"/>\n       <use x=\"63.623047\" xlink:href=\"#DejaVuSans-46\"/>\n       <use x=\"95.410156\" xlink:href=\"#DejaVuSans-48\"/>\n      </g>\n     </g>\n    </g>\n    <g id=\"text_14\">\n     <!-- Tasa de Verdaderos Positivos (Sensitividad) -->\n     <defs>\n      <path d=\"M 28.609375 0 \nL 0.78125 72.90625 \nL 11.078125 72.90625 \nL 34.1875 11.53125 \nL 57.328125 72.90625 \nL 67.578125 72.90625 \nL 39.796875 0 \nz\n\" id=\"DejaVuSans-86\"/>\n      <path d=\"M 41.109375 46.296875 \nQ 39.59375 47.171875 37.8125 47.578125 \nQ 36.03125 48 33.890625 48 \nQ 26.265625 48 22.1875 43.046875 \nQ 18.109375 38.09375 18.109375 28.8125 \nL 18.109375 0 \nL 9.078125 0 \nL 9.078125 54.6875 \nL 18.109375 54.6875 \nL 18.109375 46.1875 \nQ 20.953125 51.171875 25.484375 53.578125 \nQ 30.03125 56 36.53125 56 \nQ 37.453125 56 38.578125 55.875 \nQ 39.703125 55.765625 41.0625 55.515625 \nz\n\" id=\"DejaVuSans-114\"/>\n      <path d=\"M 53.515625 70.515625 \nL 53.515625 60.890625 \nQ 47.90625 63.578125 42.921875 64.890625 \nQ 37.9375 66.21875 33.296875 66.21875 \nQ 25.25 66.21875 20.875 63.09375 \nQ 16.5 59.96875 16.5 54.203125 \nQ 16.5 49.359375 19.40625 46.890625 \nQ 22.3125 44.4375 30.421875 42.921875 \nL 36.375 41.703125 \nQ 47.40625 39.59375 52.65625 34.296875 \nQ 57.90625 29 57.90625 20.125 \nQ 57.90625 9.515625 50.796875 4.046875 \nQ 43.703125 -1.421875 29.984375 -1.421875 \nQ 24.8125 -1.421875 18.96875 -0.25 \nQ 13.140625 0.921875 6.890625 3.21875 \nL 6.890625 13.375 \nQ 12.890625 10.015625 18.65625 8.296875 \nQ 24.421875 6.59375 29.984375 6.59375 \nQ 38.421875 6.59375 43.015625 9.90625 \nQ 47.609375 13.234375 47.609375 19.390625 \nQ 47.609375 24.75 44.3125 27.78125 \nQ 41.015625 30.8125 33.5 32.328125 \nL 27.484375 33.5 \nQ 16.453125 35.6875 11.515625 40.375 \nQ 6.59375 45.0625 6.59375 53.421875 \nQ 6.59375 63.09375 13.40625 68.65625 \nQ 20.21875 74.21875 32.171875 74.21875 \nQ 37.3125 74.21875 42.625 73.28125 \nQ 47.953125 72.359375 53.515625 70.515625 \nz\n\" id=\"DejaVuSans-83\"/>\n      <path d=\"M 54.890625 33.015625 \nL 54.890625 0 \nL 45.90625 0 \nL 45.90625 32.71875 \nQ 45.90625 40.484375 42.875 44.328125 \nQ 39.84375 48.1875 33.796875 48.1875 \nQ 26.515625 48.1875 22.3125 43.546875 \nQ 18.109375 38.921875 18.109375 30.90625 \nL 18.109375 0 \nL 9.078125 0 \nL 9.078125 54.6875 \nL 18.109375 54.6875 \nL 18.109375 46.1875 \nQ 21.34375 51.125 25.703125 53.5625 \nQ 30.078125 56 35.796875 56 \nQ 45.21875 56 50.046875 50.171875 \nQ 54.890625 44.34375 54.890625 33.015625 \nz\n\" id=\"DejaVuSans-110\"/>\n     </defs>\n     <g style=\"fill:#262626;\" transform=\"translate(71.470312 239.064687)rotate(-90)scale(0.1 -0.1)\">\n      <use xlink:href=\"#DejaVuSans-84\"/>\n      <use x=\"44.583984\" xlink:href=\"#DejaVuSans-97\"/>\n      <use x=\"105.863281\" xlink:href=\"#DejaVuSans-115\"/>\n      <use x=\"157.962891\" xlink:href=\"#DejaVuSans-97\"/>\n      <use x=\"219.242188\" xlink:href=\"#DejaVuSans-32\"/>\n      <use x=\"251.029297\" xlink:href=\"#DejaVuSans-100\"/>\n      <use x=\"314.505859\" xlink:href=\"#DejaVuSans-101\"/>\n      <use x=\"376.029297\" xlink:href=\"#DejaVuSans-32\"/>\n      <use x=\"407.816406\" xlink:href=\"#DejaVuSans-86\"/>\n      <use x=\"468.474609\" xlink:href=\"#DejaVuSans-101\"/>\n      <use x=\"529.998047\" xlink:href=\"#DejaVuSans-114\"/>\n      <use x=\"569.361328\" xlink:href=\"#DejaVuSans-100\"/>\n      <use x=\"632.837891\" xlink:href=\"#DejaVuSans-97\"/>\n      <use x=\"694.117188\" xlink:href=\"#DejaVuSans-100\"/>\n      <use x=\"757.59375\" xlink:href=\"#DejaVuSans-101\"/>\n      <use x=\"819.117188\" xlink:href=\"#DejaVuSans-114\"/>\n      <use x=\"857.980469\" xlink:href=\"#DejaVuSans-111\"/>\n      <use x=\"919.162109\" xlink:href=\"#DejaVuSans-115\"/>\n      <use x=\"971.261719\" xlink:href=\"#DejaVuSans-32\"/>\n      <use x=\"1003.048828\" xlink:href=\"#DejaVuSans-80\"/>\n      <use x=\"1059.726562\" xlink:href=\"#DejaVuSans-111\"/>\n      <use x=\"1120.908203\" xlink:href=\"#DejaVuSans-115\"/>\n      <use x=\"1173.007812\" xlink:href=\"#DejaVuSans-105\"/>\n      <use x=\"1200.791016\" xlink:href=\"#DejaVuSans-116\"/>\n      <use x=\"1240\" xlink:href=\"#DejaVuSans-105\"/>\n      <use x=\"1267.783203\" xlink:href=\"#DejaVuSans-118\"/>\n      <use x=\"1326.962891\" xlink:href=\"#DejaVuSans-111\"/>\n      <use x=\"1388.144531\" xlink:href=\"#DejaVuSans-115\"/>\n      <use x=\"1440.244141\" xlink:href=\"#DejaVuSans-32\"/>\n      <use x=\"1472.03125\" xlink:href=\"#DejaVuSans-40\"/>\n      <use x=\"1511.044922\" xlink:href=\"#DejaVuSans-83\"/>\n      <use x=\"1574.521484\" xlink:href=\"#DejaVuSans-101\"/>\n      <use x=\"1636.044922\" xlink:href=\"#DejaVuSans-110\"/>\n      <use x=\"1699.423828\" xlink:href=\"#DejaVuSans-115\"/>\n      <use x=\"1751.523438\" xlink:href=\"#DejaVuSans-105\"/>\n      <use x=\"1779.306641\" xlink:href=\"#DejaVuSans-116\"/>\n      <use x=\"1818.515625\" xlink:href=\"#DejaVuSans-105\"/>\n      <use x=\"1846.298828\" xlink:href=\"#DejaVuSans-118\"/>\n      <use x=\"1905.478516\" xlink:href=\"#DejaVuSans-105\"/>\n      <use x=\"1933.261719\" xlink:href=\"#DejaVuSans-100\"/>\n      <use x=\"1996.738281\" xlink:href=\"#DejaVuSans-97\"/>\n      <use x=\"2058.017578\" xlink:href=\"#DejaVuSans-100\"/>\n      <use x=\"2121.494141\" xlink:href=\"#DejaVuSans-41\"/>\n     </g>\n    </g>\n   </g>\n   <g id=\"line2d_13\">\n    <path clip-path=\"url(#pfb147928e3)\" d=\"M 100.453125 239.758125 \nL 198.212198 77.719842 \nL 435.253125 22.318125 \n\" style=\"fill:none;stroke:#1f77b4;stroke-linecap:round;stroke-width:1.5;\"/>\n   </g>\n   <g id=\"line2d_14\">\n    <path clip-path=\"url(#pfb147928e3)\" d=\"M 100.453125 239.758125 \nL 151.2734 79.949995 \nL 435.253125 22.318125 \n\" style=\"fill:none;stroke:#ff7f0e;stroke-linecap:round;stroke-width:1.5;\"/>\n   </g>\n   <g id=\"line2d_15\">\n    <path clip-path=\"url(#pfb147928e3)\" d=\"M 100.453125 239.758125 \nL 148.204325 32.705947 \nL 435.253125 22.318125 \n\" style=\"fill:none;stroke:#2ca02c;stroke-linecap:round;stroke-width:1.5;\"/>\n   </g>\n   <g id=\"line2d_16\">\n    <path clip-path=\"url(#pfb147928e3)\" d=\"M 100.453125 239.758125 \nL 121.575584 36.109866 \nL 435.253125 22.318125 \n\" style=\"fill:none;stroke:#d62728;stroke-linecap:round;stroke-width:1.5;\"/>\n   </g>\n   <g id=\"line2d_17\">\n    <path clip-path=\"url(#pfb147928e3)\" d=\"M 100.453125 239.758125 \nL 133.671351 25.839421 \nL 435.253125 22.318125 \n\" style=\"fill:none;stroke:#9467bd;stroke-linecap:round;stroke-width:1.5;\"/>\n   </g>\n   <g id=\"patch_3\">\n    <path d=\"M 100.453125 239.758125 \nL 100.453125 22.318125 \n\" style=\"fill:none;stroke:#262626;stroke-linecap:square;stroke-linejoin:miter;stroke-width:0.8;\"/>\n   </g>\n   <g id=\"patch_4\">\n    <path d=\"M 435.253125 239.758125 \nL 435.253125 22.318125 \n\" style=\"fill:none;stroke:#262626;stroke-linecap:square;stroke-linejoin:miter;stroke-width:0.8;\"/>\n   </g>\n   <g id=\"patch_5\">\n    <path d=\"M 100.453125 239.758125 \nL 435.253125 239.758125 \n\" style=\"fill:none;stroke:#262626;stroke-linecap:square;stroke-linejoin:miter;stroke-width:0.8;\"/>\n   </g>\n   <g id=\"patch_6\">\n    <path d=\"M 100.453125 22.318125 \nL 435.253125 22.318125 \n\" style=\"fill:none;stroke:#262626;stroke-linecap:square;stroke-linejoin:miter;stroke-width:0.8;\"/>\n   </g>\n   <g id=\"text_15\">\n    <!-- Curva ROC para Caso A: 10 Capas escondidas:5(b),10(y),20(g),50(r),100(m),neuronas. -->\n    <defs>\n     <path d=\"M 64.40625 67.28125 \nL 64.40625 56.890625 \nQ 59.421875 61.53125 53.78125 63.8125 \nQ 48.140625 66.109375 41.796875 66.109375 \nQ 29.296875 66.109375 22.65625 58.46875 \nQ 16.015625 50.828125 16.015625 36.375 \nQ 16.015625 21.96875 22.65625 14.328125 \nQ 29.296875 6.6875 41.796875 6.6875 \nQ 48.140625 6.6875 53.78125 8.984375 \nQ 59.421875 11.28125 64.40625 15.921875 \nL 64.40625 5.609375 \nQ 59.234375 2.09375 53.4375 0.328125 \nQ 47.65625 -1.421875 41.21875 -1.421875 \nQ 24.65625 -1.421875 15.125 8.703125 \nQ 5.609375 18.84375 5.609375 36.375 \nQ 5.609375 53.953125 15.125 64.078125 \nQ 24.65625 74.21875 41.21875 74.21875 \nQ 47.75 74.21875 53.53125 72.484375 \nQ 59.328125 70.75 64.40625 67.28125 \nz\n\" id=\"DejaVuSans-67\"/>\n     <path d=\"M 8.5 21.578125 \nL 8.5 54.6875 \nL 17.484375 54.6875 \nL 17.484375 21.921875 \nQ 17.484375 14.15625 20.5 10.265625 \nQ 23.53125 6.390625 29.59375 6.390625 \nQ 36.859375 6.390625 41.078125 11.03125 \nQ 45.3125 15.671875 45.3125 23.6875 \nL 45.3125 54.6875 \nL 54.296875 54.6875 \nL 54.296875 0 \nL 45.3125 0 \nL 45.3125 8.40625 \nQ 42.046875 3.421875 37.71875 1 \nQ 33.40625 -1.421875 27.6875 -1.421875 \nQ 18.265625 -1.421875 13.375 4.4375 \nQ 8.5 10.296875 8.5 21.578125 \nz\nM 31.109375 56 \nz\n\" id=\"DejaVuSans-117\"/>\n     <path d=\"M 44.390625 34.1875 \nQ 47.5625 33.109375 50.5625 29.59375 \nQ 53.5625 26.078125 56.59375 19.921875 \nL 66.609375 0 \nL 56 0 \nL 46.6875 18.703125 \nQ 43.0625 26.03125 39.671875 28.421875 \nQ 36.28125 30.8125 30.421875 30.8125 \nL 19.671875 30.8125 \nL 19.671875 0 \nL 9.8125 0 \nL 9.8125 72.90625 \nL 32.078125 72.90625 \nQ 44.578125 72.90625 50.734375 67.671875 \nQ 56.890625 62.453125 56.890625 51.90625 \nQ 56.890625 45.015625 53.6875 40.46875 \nQ 50.484375 35.9375 44.390625 34.1875 \nz\nM 19.671875 64.796875 \nL 19.671875 38.921875 \nL 32.078125 38.921875 \nQ 39.203125 38.921875 42.84375 42.21875 \nQ 46.484375 45.515625 46.484375 51.90625 \nQ 46.484375 58.296875 42.84375 61.546875 \nQ 39.203125 64.796875 32.078125 64.796875 \nz\n\" id=\"DejaVuSans-82\"/>\n     <path d=\"M 39.40625 66.21875 \nQ 28.65625 66.21875 22.328125 58.203125 \nQ 16.015625 50.203125 16.015625 36.375 \nQ 16.015625 22.609375 22.328125 14.59375 \nQ 28.65625 6.59375 39.40625 6.59375 \nQ 50.140625 6.59375 56.421875 14.59375 \nQ 62.703125 22.609375 62.703125 36.375 \nQ 62.703125 50.203125 56.421875 58.203125 \nQ 50.140625 66.21875 39.40625 66.21875 \nz\nM 39.40625 74.21875 \nQ 54.734375 74.21875 63.90625 63.9375 \nQ 73.09375 53.65625 73.09375 36.375 \nQ 73.09375 19.140625 63.90625 8.859375 \nQ 54.734375 -1.421875 39.40625 -1.421875 \nQ 24.03125 -1.421875 14.8125 8.828125 \nQ 5.609375 19.09375 5.609375 36.375 \nQ 5.609375 53.65625 14.8125 63.9375 \nQ 24.03125 74.21875 39.40625 74.21875 \nz\n\" id=\"DejaVuSans-79\"/>\n     <path d=\"M 34.1875 63.1875 \nL 20.796875 26.90625 \nL 47.609375 26.90625 \nz\nM 28.609375 72.90625 \nL 39.796875 72.90625 \nL 67.578125 0 \nL 57.328125 0 \nL 50.6875 18.703125 \nL 17.828125 18.703125 \nL 11.1875 0 \nL 0.78125 0 \nz\n\" id=\"DejaVuSans-65\"/>\n     <path d=\"M 11.71875 12.40625 \nL 22.015625 12.40625 \nL 22.015625 0 \nL 11.71875 0 \nz\nM 11.71875 51.703125 \nL 22.015625 51.703125 \nL 22.015625 39.3125 \nL 11.71875 39.3125 \nz\n\" id=\"DejaVuSans-58\"/>\n     <path d=\"M 10.796875 72.90625 \nL 49.515625 72.90625 \nL 49.515625 64.59375 \nL 19.828125 64.59375 \nL 19.828125 46.734375 \nQ 21.96875 47.46875 24.109375 47.828125 \nQ 26.265625 48.1875 28.421875 48.1875 \nQ 40.625 48.1875 47.75 41.5 \nQ 54.890625 34.8125 54.890625 23.390625 \nQ 54.890625 11.625 47.5625 5.09375 \nQ 40.234375 -1.421875 26.90625 -1.421875 \nQ 22.3125 -1.421875 17.546875 -0.640625 \nQ 12.796875 0.140625 7.71875 1.703125 \nL 7.71875 11.625 \nQ 12.109375 9.234375 16.796875 8.0625 \nQ 21.484375 6.890625 26.703125 6.890625 \nQ 35.15625 6.890625 40.078125 11.328125 \nQ 45.015625 15.765625 45.015625 23.390625 \nQ 45.015625 31 40.078125 35.4375 \nQ 35.15625 39.890625 26.703125 39.890625 \nQ 22.75 39.890625 18.8125 39.015625 \nQ 14.890625 38.140625 10.796875 36.28125 \nz\n\" id=\"DejaVuSans-53\"/>\n     <path d=\"M 48.6875 27.296875 \nQ 48.6875 37.203125 44.609375 42.84375 \nQ 40.53125 48.484375 33.40625 48.484375 \nQ 26.265625 48.484375 22.1875 42.84375 \nQ 18.109375 37.203125 18.109375 27.296875 \nQ 18.109375 17.390625 22.1875 11.75 \nQ 26.265625 6.109375 33.40625 6.109375 \nQ 40.53125 6.109375 44.609375 11.75 \nQ 48.6875 17.390625 48.6875 27.296875 \nz\nM 18.109375 46.390625 \nQ 20.953125 51.265625 25.265625 53.625 \nQ 29.59375 56 35.59375 56 \nQ 45.5625 56 51.78125 48.09375 \nQ 58.015625 40.1875 58.015625 27.296875 \nQ 58.015625 14.40625 51.78125 6.484375 \nQ 45.5625 -1.421875 35.59375 -1.421875 \nQ 29.59375 -1.421875 25.265625 0.953125 \nQ 20.953125 3.328125 18.109375 8.203125 \nL 18.109375 0 \nL 9.078125 0 \nL 9.078125 75.984375 \nL 18.109375 75.984375 \nz\n\" id=\"DejaVuSans-98\"/>\n     <path d=\"M 11.71875 12.40625 \nL 22.015625 12.40625 \nL 22.015625 4 \nL 14.015625 -11.625 \nL 7.71875 -11.625 \nL 11.71875 4 \nz\n\" id=\"DejaVuSans-44\"/>\n     <path d=\"M 32.171875 -5.078125 \nQ 28.375 -14.84375 24.75 -17.8125 \nQ 21.140625 -20.796875 15.09375 -20.796875 \nL 7.90625 -20.796875 \nL 7.90625 -13.28125 \nL 13.1875 -13.28125 \nQ 16.890625 -13.28125 18.9375 -11.515625 \nQ 21 -9.765625 23.484375 -3.21875 \nL 25.09375 0.875 \nL 2.984375 54.6875 \nL 12.5 54.6875 \nL 29.59375 11.921875 \nL 46.6875 54.6875 \nL 56.203125 54.6875 \nz\n\" id=\"DejaVuSans-121\"/>\n     <path d=\"M 45.40625 27.984375 \nQ 45.40625 37.75 41.375 43.109375 \nQ 37.359375 48.484375 30.078125 48.484375 \nQ 22.859375 48.484375 18.828125 43.109375 \nQ 14.796875 37.75 14.796875 27.984375 \nQ 14.796875 18.265625 18.828125 12.890625 \nQ 22.859375 7.515625 30.078125 7.515625 \nQ 37.359375 7.515625 41.375 12.890625 \nQ 45.40625 18.265625 45.40625 27.984375 \nz\nM 54.390625 6.78125 \nQ 54.390625 -7.171875 48.1875 -13.984375 \nQ 42 -20.796875 29.203125 -20.796875 \nQ 24.46875 -20.796875 20.265625 -20.09375 \nQ 16.0625 -19.390625 12.109375 -17.921875 \nL 12.109375 -9.1875 \nQ 16.0625 -11.328125 19.921875 -12.34375 \nQ 23.78125 -13.375 27.78125 -13.375 \nQ 36.625 -13.375 41.015625 -8.765625 \nQ 45.40625 -4.15625 45.40625 5.171875 \nL 45.40625 9.625 \nQ 42.625 4.78125 38.28125 2.390625 \nQ 33.9375 0 27.875 0 \nQ 17.828125 0 11.671875 7.65625 \nQ 5.515625 15.328125 5.515625 27.984375 \nQ 5.515625 40.671875 11.671875 48.328125 \nQ 17.828125 56 27.875 56 \nQ 33.9375 56 38.28125 53.609375 \nQ 42.625 51.21875 45.40625 46.390625 \nL 45.40625 54.6875 \nL 54.390625 54.6875 \nz\n\" id=\"DejaVuSans-103\"/>\n     <path d=\"M 52 44.1875 \nQ 55.375 50.25 60.0625 53.125 \nQ 64.75 56 71.09375 56 \nQ 79.640625 56 84.28125 50.015625 \nQ 88.921875 44.046875 88.921875 33.015625 \nL 88.921875 0 \nL 79.890625 0 \nL 79.890625 32.71875 \nQ 79.890625 40.578125 77.09375 44.375 \nQ 74.3125 48.1875 68.609375 48.1875 \nQ 61.625 48.1875 57.5625 43.546875 \nQ 53.515625 38.921875 53.515625 30.90625 \nL 53.515625 0 \nL 44.484375 0 \nL 44.484375 32.71875 \nQ 44.484375 40.625 41.703125 44.40625 \nQ 38.921875 48.1875 33.109375 48.1875 \nQ 26.21875 48.1875 22.15625 43.53125 \nQ 18.109375 38.875 18.109375 30.90625 \nL 18.109375 0 \nL 9.078125 0 \nL 9.078125 54.6875 \nL 18.109375 54.6875 \nL 18.109375 46.1875 \nQ 21.1875 51.21875 25.484375 53.609375 \nQ 29.78125 56 35.6875 56 \nQ 41.65625 56 45.828125 52.96875 \nQ 50 49.953125 52 44.1875 \nz\n\" id=\"DejaVuSans-109\"/>\n    </defs>\n    <g style=\"fill:#262626;\" transform=\"translate(7.2 16.318125)scale(0.12 -0.12)\">\n     <use xlink:href=\"#DejaVuSans-67\"/>\n     <use x=\"69.824219\" xlink:href=\"#DejaVuSans-117\"/>\n     <use x=\"133.203125\" xlink:href=\"#DejaVuSans-114\"/>\n     <use x=\"174.316406\" xlink:href=\"#DejaVuSans-118\"/>\n     <use x=\"233.496094\" xlink:href=\"#DejaVuSans-97\"/>\n     <use x=\"294.775391\" xlink:href=\"#DejaVuSans-32\"/>\n     <use x=\"326.5625\" xlink:href=\"#DejaVuSans-82\"/>\n     <use x=\"396.044922\" xlink:href=\"#DejaVuSans-79\"/>\n     <use x=\"474.755859\" xlink:href=\"#DejaVuSans-67\"/>\n     <use x=\"544.580078\" xlink:href=\"#DejaVuSans-32\"/>\n     <use x=\"576.367188\" xlink:href=\"#DejaVuSans-112\"/>\n     <use x=\"639.84375\" xlink:href=\"#DejaVuSans-97\"/>\n     <use x=\"701.123047\" xlink:href=\"#DejaVuSans-114\"/>\n     <use x=\"742.236328\" xlink:href=\"#DejaVuSans-97\"/>\n     <use x=\"803.515625\" xlink:href=\"#DejaVuSans-32\"/>\n     <use x=\"835.302734\" xlink:href=\"#DejaVuSans-67\"/>\n     <use x=\"905.126953\" xlink:href=\"#DejaVuSans-97\"/>\n     <use x=\"966.40625\" xlink:href=\"#DejaVuSans-115\"/>\n     <use x=\"1018.505859\" xlink:href=\"#DejaVuSans-111\"/>\n     <use x=\"1079.6875\" xlink:href=\"#DejaVuSans-32\"/>\n     <use x=\"1111.474609\" xlink:href=\"#DejaVuSans-65\"/>\n     <use x=\"1178.132812\" xlink:href=\"#DejaVuSans-58\"/>\n     <use x=\"1211.824219\" xlink:href=\"#DejaVuSans-32\"/>\n     <use x=\"1243.611328\" xlink:href=\"#DejaVuSans-49\"/>\n     <use x=\"1307.234375\" xlink:href=\"#DejaVuSans-48\"/>\n     <use x=\"1370.857422\" xlink:href=\"#DejaVuSans-32\"/>\n     <use x=\"1402.644531\" xlink:href=\"#DejaVuSans-67\"/>\n     <use x=\"1472.46875\" xlink:href=\"#DejaVuSans-97\"/>\n     <use x=\"1533.748047\" xlink:href=\"#DejaVuSans-112\"/>\n     <use x=\"1597.224609\" xlink:href=\"#DejaVuSans-97\"/>\n     <use x=\"1658.503906\" xlink:href=\"#DejaVuSans-115\"/>\n     <use x=\"1710.603516\" xlink:href=\"#DejaVuSans-32\"/>\n     <use x=\"1742.390625\" xlink:href=\"#DejaVuSans-101\"/>\n     <use x=\"1803.914062\" xlink:href=\"#DejaVuSans-115\"/>\n     <use x=\"1856.013672\" xlink:href=\"#DejaVuSans-99\"/>\n     <use x=\"1910.994141\" xlink:href=\"#DejaVuSans-111\"/>\n     <use x=\"1972.175781\" xlink:href=\"#DejaVuSans-110\"/>\n     <use x=\"2035.554688\" xlink:href=\"#DejaVuSans-100\"/>\n     <use x=\"2099.03125\" xlink:href=\"#DejaVuSans-105\"/>\n     <use x=\"2126.814453\" xlink:href=\"#DejaVuSans-100\"/>\n     <use x=\"2190.291016\" xlink:href=\"#DejaVuSans-97\"/>\n     <use x=\"2251.570312\" xlink:href=\"#DejaVuSans-115\"/>\n     <use x=\"2303.669922\" xlink:href=\"#DejaVuSans-58\"/>\n     <use x=\"2337.361328\" xlink:href=\"#DejaVuSans-53\"/>\n     <use x=\"2400.984375\" xlink:href=\"#DejaVuSans-40\"/>\n     <use x=\"2439.998047\" xlink:href=\"#DejaVuSans-98\"/>\n     <use x=\"2503.474609\" xlink:href=\"#DejaVuSans-41\"/>\n     <use x=\"2542.488281\" xlink:href=\"#DejaVuSans-44\"/>\n     <use x=\"2574.275391\" xlink:href=\"#DejaVuSans-49\"/>\n     <use x=\"2637.898438\" xlink:href=\"#DejaVuSans-48\"/>\n     <use x=\"2701.521484\" xlink:href=\"#DejaVuSans-40\"/>\n     <use x=\"2740.535156\" xlink:href=\"#DejaVuSans-121\"/>\n     <use x=\"2799.714844\" xlink:href=\"#DejaVuSans-41\"/>\n     <use x=\"2838.728516\" xlink:href=\"#DejaVuSans-44\"/>\n     <use x=\"2870.515625\" xlink:href=\"#DejaVuSans-50\"/>\n     <use x=\"2934.138672\" xlink:href=\"#DejaVuSans-48\"/>\n     <use x=\"2997.761719\" xlink:href=\"#DejaVuSans-40\"/>\n     <use x=\"3036.775391\" xlink:href=\"#DejaVuSans-103\"/>\n     <use x=\"3100.251953\" xlink:href=\"#DejaVuSans-41\"/>\n     <use x=\"3139.265625\" xlink:href=\"#DejaVuSans-44\"/>\n     <use x=\"3171.052734\" xlink:href=\"#DejaVuSans-53\"/>\n     <use x=\"3234.675781\" xlink:href=\"#DejaVuSans-48\"/>\n     <use x=\"3298.298828\" xlink:href=\"#DejaVuSans-40\"/>\n     <use x=\"3337.3125\" xlink:href=\"#DejaVuSans-114\"/>\n     <use x=\"3378.425781\" xlink:href=\"#DejaVuSans-41\"/>\n     <use x=\"3417.439453\" xlink:href=\"#DejaVuSans-44\"/>\n     <use x=\"3449.226562\" xlink:href=\"#DejaVuSans-49\"/>\n     <use x=\"3512.849609\" xlink:href=\"#DejaVuSans-48\"/>\n     <use x=\"3576.472656\" xlink:href=\"#DejaVuSans-48\"/>\n     <use x=\"3640.095703\" xlink:href=\"#DejaVuSans-40\"/>\n     <use x=\"3679.109375\" xlink:href=\"#DejaVuSans-109\"/>\n     <use x=\"3776.521484\" xlink:href=\"#DejaVuSans-41\"/>\n     <use x=\"3815.535156\" xlink:href=\"#DejaVuSans-44\"/>\n     <use x=\"3847.322266\" xlink:href=\"#DejaVuSans-110\"/>\n     <use x=\"3910.701172\" xlink:href=\"#DejaVuSans-101\"/>\n     <use x=\"3972.224609\" xlink:href=\"#DejaVuSans-117\"/>\n     <use x=\"4035.603516\" xlink:href=\"#DejaVuSans-114\"/>\n     <use x=\"4074.466797\" xlink:href=\"#DejaVuSans-111\"/>\n     <use x=\"4135.648438\" xlink:href=\"#DejaVuSans-110\"/>\n     <use x=\"4199.027344\" xlink:href=\"#DejaVuSans-97\"/>\n     <use x=\"4260.306641\" xlink:href=\"#DejaVuSans-115\"/>\n     <use x=\"4312.40625\" xlink:href=\"#DejaVuSans-46\"/>\n    </g>\n   </g>\n  </g>\n </g>\n <defs>\n  <clipPath id=\"pfb147928e3\">\n   <rect height=\"217.44\" width=\"334.8\" x=\"100.453125\" y=\"22.318125\"/>\n  </clipPath>\n </defs>\n</svg>\n"
          },
          "metadata": {}
        }
      ]
    },
    {
      "cell_type": "markdown",
      "metadata": {
        "id": "lMVMPFhCL8oL"
      },
      "source": [
        "### Gráficas Evaluativas (Adjuntas en los resultados de la parte 3)\n",
        "\n",
        "## Análisis y conclusiones\n",
        "\n",
        "El Aprendizaje tiene varias etapas, en las  dos tareas anteriores de machine se realizó el preprocesamiento de datos, modelo con datos de entrenamiento y por último se evaluó el modelo con datos de prueba.\n",
        "\n",
        "En la tarea 3 el aprendizaje pasa por varias etapas:\n",
        "1. Se dividen los datos: entrenamiento, prueba: que se dividirán después en 50% de validación y 50% de prueba.\n",
        "\n",
        "2. Modelo\n",
        "\n",
        "3. Adecuación/ preprocesamiento de datos (codificación, desbalanceo de datos)\n",
        "\n",
        "4. Entrenamiento \n",
        "   \n",
        "   * 4.1. Error   \n",
        "   * 4.2 Modelos de distinto tamaño (Caso A, Caso B, Caso C) , complejidad    (Baseline, red neuronal.) Datos de entrenamiento. Parte 2 de la tarea.\n",
        "         \n",
        "\n",
        "      *   4.2.1 Optimizar la función error con datos de entrenamiento.\n",
        "      *   4.2.2. **PARTE 3** Evaluar con datos de validación: se realiza esta etapa de entrenamiento probando en datos que no ha visto el modelo, los datos de validación provien de los datos de prueba. Se hace esta etapa con datos de validación para evitar el sobreajuste a los datos, sino se hace este procedimeinto el aprendizaje no sirve para nada. Por lo cuál esta etapa indispensable. \n",
        "\n",
        "       *  4.3 Se selecciona el modelo con menos error, entrenado con datos de validación. \n",
        "\n",
        "\n",
        "5.Evaluación con los datos de prueba y el resultado final fue el siguiente: \n",
        "\n",
        "El mejor modelo es el de  4 capas escondidas y 100 neuronas: Precisión con 100 neuronas y cuatro capas escondidas: 0.94686, junto con su matriz de confución:  TN=3411,  FP= 298,  FN=  96  TP= 3609\n",
        "Se entrenó con más capas para mirar el comportamiento hasta 10 capas, pero como se mencionó anteriormente el mejor resultado fue de 4 capas de 100 neuronas.\n",
        "\n",
        "## Análisis de las gráficas ROC:\n",
        "\n",
        "* Con más neuronas se mejora la curva ROC, confirma la teoría que con mas neuronas el error disminuye.\n",
        "\n",
        "* Datos para resaltar:\n",
        "1.   En 10 capas esconditas; de 50 neuronas y 100 neuronas, es exactamente la misma curva ROC, entonces es necesario solo de 50 neuronas para bajar la carga computacional.\n",
        "2.   Aquí podemos ver que no es necesario muchas capas escondidas porque se llegó al mejor resultado en 4 capas.\n",
        "\n",
        "3. La pendiente de subida la de 100n, 50n, y 20n, son muy cercanas lo cuál se puede inferir que de 20 neuronas también se logran buenos resultados este efecto se vió en todas las diferentes valores de capas que se realizaron.\n",
        "\n",
        "\n",
        "\n",
        "Opinión personal y futuras direcciones: fué una tarea con una metodología exceente porque me permitió aclarar varias puntos claves mientran se desarrollaba cada item. \n",
        "También debo mencionar las gracias al monitor Alejandro porque siempre está dispuesto  a colaborar caulquier día sin importar si es fin de semana. Muchas gracias. Alba Pico. Código 201421875\n",
        "\n",
        "\n",
        "\n"
      ]
    },
    {
      "cell_type": "markdown",
      "metadata": {
        "id": "fvrUadv0L8oM"
      },
      "source": [
        "# Bono (2 puntos)\n",
        "\n",
        "Implemente el mejor modelo de red neuronal. Desarrolle el método de **_backpropagation_** para realizar el entrenamiento de la red sin utilizar ningún tipo de librería que tenga funciones prestablecidas con objetivos de apoyo en el tema de Machine Learning. Puede utilizar Numpy, Pandas, etc. NO puede utilizar: SciKit-Learn, Tensorflow/Keras, PyTorch, etc.\n",
        "\n",
        "El bono debe estar COMPLETO y se debe observar una curva de aprendizaje a través de las iteraciones que permita obtener resultados aceptables con respecto a la red definida a partir de SciKit-Learn. De lo contrario, no se tomará como válido."
      ]
    },
    {
      "cell_type": "code",
      "metadata": {
        "id": "n6pR_rLzL8oM"
      },
      "source": [
        "# # # # Implemente el método de backpropagation para la arquitectura seleccionada # # # #\n",
        "#\n",
        "#\n",
        "#\n",
        "#\n",
        "#\n",
        "#\n",
        "# ..."
      ],
      "execution_count": null,
      "outputs": []
    }
  ]
}