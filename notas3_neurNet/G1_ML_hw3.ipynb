{
  "nbformat": 4,
  "nbformat_minor": 0,
  "metadata": {
    "kernelspec": {
      "display_name": "Python 3",
      "language": "python",
      "name": "python3"
    },
    "language_info": {
      "codemirror_mode": {
        "name": "ipython",
        "version": 3
      },
      "file_extension": ".py",
      "mimetype": "text/x-python",
      "name": "python",
      "nbconvert_exporter": "python",
      "pygments_lexer": "ipython3",
      "version": "3.8.10"
    },
    "colab": {
      "name": "ML_hw3.ipynb",
      "provenance": [],
      "collapsed_sections": [
        "hwbCah6g63aA",
        "FpEhr8TK63aD",
        "cSWJ2yXh63aD",
        "5VdTfabq63aE",
        "b2VhD6xr63aF",
        "NpP3IIIe63aG",
        "h-7Uzb_T63aG",
        "iet4tmRa63aI",
        "VQFt_jdW63aK",
        "mHdUVIha63aN",
        "-RYHv2o763aP",
        "IhoMHLrk63aQ",
        "zYN2N86s63aR",
        "Eda1_40y63aS",
        "CjRjwAyZ63aT",
        "xuroPwMb63aU",
        "kfHQEqn263aV",
        "ORiPCgyI63ai"
      ]
    }
  },
  "cells": [
    {
      "cell_type": "markdown",
      "metadata": {
        "id": "YCS3w2tv63Zt"
      },
      "source": [
        "# Puntaje Bancario: Aprobación de Crédito Mediante Redes Neuronales\n",
        "\n",
        "En esta ocasión se busca desarrollar un protocolo de pruebas que permita encontrar la mejor arquitectura de red neuronal completamente conectada. En esta ocasión debe utilizar la librería SciKit-Learn (sklearn.neural_network) para diseñar cada red. Además, veremos algunos conceptos de _feature engineering_ para analizar los datos a nuestra disposición.\n",
        "\n",
        "Debe completar las celdas vacías y seguir las instrucciones anotadas en el cuaderno.\n",
        "\n",
        "La fecha límite de entrega es el día **18 de octubre** y se realizará a través de Bloque Neón."
      ]
    },
    {
      "cell_type": "code",
      "metadata": {
        "id": "htkQZx4g63Zy"
      },
      "source": [
        "%matplotlib inline\n",
        "%config InlineBackend.figure_format = 'svg'\n",
        "\n",
        "import warnings\n",
        "warnings.filterwarnings('ignore')\n",
        "import numpy as np\n",
        "import pandas as pd   \n",
        "import matplotlib.pyplot as plt\n",
        "import seaborn as sns\n",
        "from imblearn.over_sampling import SMOTE\n",
        "import itertools\n",
        "\n",
        "from sklearn.model_selection import train_test_split\n",
        "from sklearn.metrics import accuracy_score, confusion_matrix\n",
        "from sklearn.linear_model import LogisticRegression\n",
        "from sklearn.tree import DecisionTreeClassifier\n",
        "\n",
        "from sklearn import svm\n",
        "from sklearn.ensemble import RandomForestClassifier"
      ],
      "execution_count": null,
      "outputs": []
    },
    {
      "cell_type": "markdown",
      "metadata": {
        "id": "M93Psrv663Z1"
      },
      "source": [
        "Se tienen dos archivos:\n",
        "\n",
        "`application_record.csv`: posee información general (puede observar los nombres de las columnas a continuación) sobre cada usuario, definido a partir de una ID única.\n",
        "\n",
        "- ID: número de cliente\n",
        "- CODE_GENDER: género\n",
        "- FLAG_OWN_CAR:\tposee un automóvil\n",
        "- FLAG_OWN_REALTY: posee un inmueble\n",
        "- CNT_CHILDREN:\tcantidad de hijos\n",
        "- AMT_INCOME_TOTAL:\tingresos anuales\n",
        "- NAME_INCOME_TYPE: categoría de ingresos\n",
        "- NAME_EDUCATION_TYPE: nivel educativo\n",
        "- NAME_FAMILY_STATUS estado civil\n",
        "- NAME_HOUSING_TYPE: forma de vivienda (e.g. renta, apartamento propio, ...)\n",
        "- DAYS_BIRTH: fecha de nacimiento, en días hacia atrás desde la actualidad, -1 significa ayer\n",
        "\n",
        "- DAYS_EMPLOYED: tiempo de empleo, en días hacia atrás desde la actualidad, -1 significa ayer. Si es positivo, el usuario se encuentra desempleado.\n",
        "- FLAG_MOBIL: teléfono móvil\n",
        "- FLAG_WORK_PHONE: teléfono de trabajo\n",
        "- FLAG_PHONE: teléfono\n",
        "- FLAG_EMAIL: email\n",
        "- OCCUPATION_TYPE: ocupación\n",
        "- CNT_FAM_MEMBERS: tamaño de familia\n",
        "\n",
        "\n",
        "`credit_record.csv`:\n",
        "\n",
        "- ID: número de cliente\n",
        "- MONTHS_BALANCE: mes de registro\n",
        "- ESTADO:\n",
        "    - 0: 1-29 días atrasados\n",
        "    - 1: 30-59 días atrasados\n",
        "    - 2: 60-89 días atrasados\n",
        "    - 3: 90-119 días atrasados\n",
        "    - 4: 120-149 días atrasados\n",
        "    - 5: Atrasados o incobrables, cancelaciones durante más de 150 días\n",
        "    - C: cancelado ese mes X: sin préstamo durante el mes"
      ]
    },
    {
      "cell_type": "code",
      "metadata": {
        "id": "--Rma6wW63Z2"
      },
      "source": [
        "data = pd.read_csv(\"creditCardScore/application_record.csv\", encoding = 'utf-8') \n",
        "record = pd.read_csv(\"creditCardScore/credit_record.csv\", encoding = 'utf-8')"
      ],
      "execution_count": null,
      "outputs": []
    },
    {
      "cell_type": "code",
      "metadata": {
        "id": "vT4WQYci63Z3"
      },
      "source": [
        "plt.rcParams['figure.facecolor'] = 'white'"
      ],
      "execution_count": null,
      "outputs": []
    },
    {
      "cell_type": "code",
      "metadata": {
        "scrolled": true,
        "id": "WOU8p2Ue63Z4",
        "colab": {
          "base_uri": "https://localhost:8080/",
          "height": 309
        },
        "outputId": "f97d0996-9c30-4026-df0e-7c88ce1f904c"
      },
      "source": [
        "data.tail()"
      ],
      "execution_count": null,
      "outputs": [
        {
          "output_type": "execute_result",
          "data": {
            "text/html": [
              "<div>\n",
              "<style scoped>\n",
              "    .dataframe tbody tr th:only-of-type {\n",
              "        vertical-align: middle;\n",
              "    }\n",
              "\n",
              "    .dataframe tbody tr th {\n",
              "        vertical-align: top;\n",
              "    }\n",
              "\n",
              "    .dataframe thead th {\n",
              "        text-align: right;\n",
              "    }\n",
              "</style>\n",
              "<table border=\"1\" class=\"dataframe\">\n",
              "  <thead>\n",
              "    <tr style=\"text-align: right;\">\n",
              "      <th></th>\n",
              "      <th>ID</th>\n",
              "      <th>CODE_GENDER</th>\n",
              "      <th>FLAG_OWN_CAR</th>\n",
              "      <th>FLAG_OWN_REALTY</th>\n",
              "      <th>CNT_CHILDREN</th>\n",
              "      <th>AMT_INCOME_TOTAL</th>\n",
              "      <th>NAME_INCOME_TYPE</th>\n",
              "      <th>NAME_EDUCATION_TYPE</th>\n",
              "      <th>NAME_FAMILY_STATUS</th>\n",
              "      <th>NAME_HOUSING_TYPE</th>\n",
              "      <th>DAYS_BIRTH</th>\n",
              "      <th>DAYS_EMPLOYED</th>\n",
              "      <th>FLAG_MOBIL</th>\n",
              "      <th>FLAG_WORK_PHONE</th>\n",
              "      <th>FLAG_PHONE</th>\n",
              "      <th>FLAG_EMAIL</th>\n",
              "      <th>OCCUPATION_TYPE</th>\n",
              "      <th>CNT_FAM_MEMBERS</th>\n",
              "    </tr>\n",
              "  </thead>\n",
              "  <tbody>\n",
              "    <tr>\n",
              "      <th>438552</th>\n",
              "      <td>6840104</td>\n",
              "      <td>M</td>\n",
              "      <td>N</td>\n",
              "      <td>Y</td>\n",
              "      <td>0</td>\n",
              "      <td>135000.0</td>\n",
              "      <td>Pensioner</td>\n",
              "      <td>Secondary / secondary special</td>\n",
              "      <td>Separated</td>\n",
              "      <td>House / apartment</td>\n",
              "      <td>-22717</td>\n",
              "      <td>365243</td>\n",
              "      <td>1</td>\n",
              "      <td>0</td>\n",
              "      <td>0</td>\n",
              "      <td>0</td>\n",
              "      <td>NaN</td>\n",
              "      <td>1.0</td>\n",
              "    </tr>\n",
              "    <tr>\n",
              "      <th>438553</th>\n",
              "      <td>6840222</td>\n",
              "      <td>F</td>\n",
              "      <td>N</td>\n",
              "      <td>N</td>\n",
              "      <td>0</td>\n",
              "      <td>103500.0</td>\n",
              "      <td>Working</td>\n",
              "      <td>Secondary / secondary special</td>\n",
              "      <td>Single / not married</td>\n",
              "      <td>House / apartment</td>\n",
              "      <td>-15939</td>\n",
              "      <td>-3007</td>\n",
              "      <td>1</td>\n",
              "      <td>0</td>\n",
              "      <td>0</td>\n",
              "      <td>0</td>\n",
              "      <td>Laborers</td>\n",
              "      <td>1.0</td>\n",
              "    </tr>\n",
              "    <tr>\n",
              "      <th>438554</th>\n",
              "      <td>6841878</td>\n",
              "      <td>F</td>\n",
              "      <td>N</td>\n",
              "      <td>N</td>\n",
              "      <td>0</td>\n",
              "      <td>54000.0</td>\n",
              "      <td>Commercial associate</td>\n",
              "      <td>Higher education</td>\n",
              "      <td>Single / not married</td>\n",
              "      <td>With parents</td>\n",
              "      <td>-8169</td>\n",
              "      <td>-372</td>\n",
              "      <td>1</td>\n",
              "      <td>1</td>\n",
              "      <td>0</td>\n",
              "      <td>0</td>\n",
              "      <td>Sales staff</td>\n",
              "      <td>1.0</td>\n",
              "    </tr>\n",
              "    <tr>\n",
              "      <th>438555</th>\n",
              "      <td>6842765</td>\n",
              "      <td>F</td>\n",
              "      <td>N</td>\n",
              "      <td>Y</td>\n",
              "      <td>0</td>\n",
              "      <td>72000.0</td>\n",
              "      <td>Pensioner</td>\n",
              "      <td>Secondary / secondary special</td>\n",
              "      <td>Married</td>\n",
              "      <td>House / apartment</td>\n",
              "      <td>-21673</td>\n",
              "      <td>365243</td>\n",
              "      <td>1</td>\n",
              "      <td>0</td>\n",
              "      <td>0</td>\n",
              "      <td>0</td>\n",
              "      <td>NaN</td>\n",
              "      <td>2.0</td>\n",
              "    </tr>\n",
              "    <tr>\n",
              "      <th>438556</th>\n",
              "      <td>6842885</td>\n",
              "      <td>F</td>\n",
              "      <td>N</td>\n",
              "      <td>Y</td>\n",
              "      <td>0</td>\n",
              "      <td>121500.0</td>\n",
              "      <td>Working</td>\n",
              "      <td>Secondary / secondary special</td>\n",
              "      <td>Married</td>\n",
              "      <td>House / apartment</td>\n",
              "      <td>-18858</td>\n",
              "      <td>-1201</td>\n",
              "      <td>1</td>\n",
              "      <td>0</td>\n",
              "      <td>1</td>\n",
              "      <td>0</td>\n",
              "      <td>Sales staff</td>\n",
              "      <td>2.0</td>\n",
              "    </tr>\n",
              "  </tbody>\n",
              "</table>\n",
              "</div>"
            ],
            "text/plain": [
              "             ID CODE_GENDER  ... OCCUPATION_TYPE CNT_FAM_MEMBERS\n",
              "438552  6840104           M  ...             NaN             1.0\n",
              "438553  6840222           F  ...        Laborers             1.0\n",
              "438554  6841878           F  ...     Sales staff             1.0\n",
              "438555  6842765           F  ...             NaN             2.0\n",
              "438556  6842885           F  ...     Sales staff             2.0\n",
              "\n",
              "[5 rows x 18 columns]"
            ]
          },
          "metadata": {},
          "execution_count": 6
        }
      ]
    },
    {
      "cell_type": "code",
      "metadata": {
        "id": "-VUS86bx63Z4",
        "colab": {
          "base_uri": "https://localhost:8080/",
          "height": 204
        },
        "outputId": "de4964ee-e221-4049-e1d5-16a3eed5653c"
      },
      "source": [
        "record.head()"
      ],
      "execution_count": null,
      "outputs": [
        {
          "output_type": "execute_result",
          "data": {
            "text/html": [
              "<div>\n",
              "<style scoped>\n",
              "    .dataframe tbody tr th:only-of-type {\n",
              "        vertical-align: middle;\n",
              "    }\n",
              "\n",
              "    .dataframe tbody tr th {\n",
              "        vertical-align: top;\n",
              "    }\n",
              "\n",
              "    .dataframe thead th {\n",
              "        text-align: right;\n",
              "    }\n",
              "</style>\n",
              "<table border=\"1\" class=\"dataframe\">\n",
              "  <thead>\n",
              "    <tr style=\"text-align: right;\">\n",
              "      <th></th>\n",
              "      <th>ID</th>\n",
              "      <th>MONTHS_BALANCE</th>\n",
              "      <th>STATUS</th>\n",
              "    </tr>\n",
              "  </thead>\n",
              "  <tbody>\n",
              "    <tr>\n",
              "      <th>0</th>\n",
              "      <td>5001711</td>\n",
              "      <td>0</td>\n",
              "      <td>X</td>\n",
              "    </tr>\n",
              "    <tr>\n",
              "      <th>1</th>\n",
              "      <td>5001711</td>\n",
              "      <td>-1</td>\n",
              "      <td>0</td>\n",
              "    </tr>\n",
              "    <tr>\n",
              "      <th>2</th>\n",
              "      <td>5001711</td>\n",
              "      <td>-2</td>\n",
              "      <td>0</td>\n",
              "    </tr>\n",
              "    <tr>\n",
              "      <th>3</th>\n",
              "      <td>5001711</td>\n",
              "      <td>-3</td>\n",
              "      <td>0</td>\n",
              "    </tr>\n",
              "    <tr>\n",
              "      <th>4</th>\n",
              "      <td>5001712</td>\n",
              "      <td>0</td>\n",
              "      <td>C</td>\n",
              "    </tr>\n",
              "  </tbody>\n",
              "</table>\n",
              "</div>"
            ],
            "text/plain": [
              "        ID  MONTHS_BALANCE STATUS\n",
              "0  5001711               0      X\n",
              "1  5001711              -1      0\n",
              "2  5001711              -2      0\n",
              "3  5001711              -3      0\n",
              "4  5001712               0      C"
            ]
          },
          "metadata": {},
          "execution_count": 7
        }
      ]
    },
    {
      "cell_type": "markdown",
      "metadata": {
        "id": "9gqw5aL663Z5"
      },
      "source": [
        "## Preparación de los Datos"
      ]
    },
    {
      "cell_type": "markdown",
      "metadata": {
        "id": "yFK5s9d-63Z5"
      },
      "source": [
        "### Etiquetas\n",
        "\n",
        "Inicialmente, se concatenan ambas tablas mediante el tiempo de registro máximo (`MONTHS_BALANCE`) y la ID del cliente."
      ]
    },
    {
      "cell_type": "code",
      "metadata": {
        "id": "HW4YVlB763Z6"
      },
      "source": [
        "# find all users' account open month.\n",
        "begin_month=pd.DataFrame(record.groupby([\"ID\"])[\"MONTHS_BALANCE\"].agg(min))\n",
        "begin_month=begin_month.rename(columns={'MONTHS_BALANCE':'begin_month'}) \n",
        "new_data=pd.merge(data,begin_month,how=\"left\",on=\"ID\") #merge to record data"
      ],
      "execution_count": null,
      "outputs": []
    },
    {
      "cell_type": "markdown",
      "metadata": {
        "id": "4pRRS2KP63Z6"
      },
      "source": [
        "Los usuarios con mora durante más de 60 días se etiquerarán como `1`, de lo contrario, serán `0`."
      ]
    },
    {
      "cell_type": "code",
      "metadata": {
        "id": "9CiNl9yR63Z7"
      },
      "source": [
        "record['dep_value'] = None\n",
        "record['dep_value'][record['STATUS'] =='2']='Yes' \n",
        "record['dep_value'][record['STATUS'] =='3']='Yes' \n",
        "record['dep_value'][record['STATUS'] =='4']='Yes' \n",
        "record['dep_value'][record['STATUS'] =='5']='Yes' "
      ],
      "execution_count": null,
      "outputs": []
    },
    {
      "cell_type": "code",
      "metadata": {
        "id": "emM3yWw463Z8"
      },
      "source": [
        "cpunt=record.groupby('ID').count()\n",
        "cpunt['dep_value'][cpunt['dep_value'] > 0]='Yes' \n",
        "cpunt['dep_value'][cpunt['dep_value'] == 0]='No' \n",
        "cpunt = cpunt[['dep_value']]\n",
        "new_data=pd.merge(new_data,cpunt,how='inner',on='ID')\n",
        "new_data['target']=new_data['dep_value']\n",
        "new_data.loc[new_data['target']=='Yes','target']=1\n",
        "new_data.loc[new_data['target']=='No','target']=0"
      ],
      "execution_count": null,
      "outputs": []
    },
    {
      "cell_type": "code",
      "metadata": {
        "id": "BSJWoZ-E63Z9",
        "colab": {
          "base_uri": "https://localhost:8080/"
        },
        "outputId": "51fb85cf-0ef3-4e85-9de3-2bca2165c62e"
      },
      "source": [
        "print(cpunt['dep_value'].value_counts())\n",
        "cpunt['dep_value'].value_counts(normalize=True)"
      ],
      "execution_count": null,
      "outputs": [
        {
          "output_type": "stream",
          "name": "stdout",
          "text": [
            "No     45318\n",
            "Yes      667\n",
            "Name: dep_value, dtype: int64\n"
          ]
        },
        {
          "output_type": "execute_result",
          "data": {
            "text/plain": [
              "No     0.985495\n",
              "Yes    0.014505\n",
              "Name: dep_value, dtype: float64"
            ]
          },
          "metadata": {},
          "execution_count": 11
        }
      ]
    },
    {
      "cell_type": "markdown",
      "metadata": {
        "id": "_NfJrbxW63Z9"
      },
      "source": [
        "Proporción de clases.\n",
        "\n",
        "### Descriptores"
      ]
    },
    {
      "cell_type": "markdown",
      "metadata": {
        "id": "jZQ0ywLD63Z-"
      },
      "source": [
        "+ Renombramiento de las Columnas"
      ]
    },
    {
      "cell_type": "code",
      "metadata": {
        "id": "YwZBPfRO63Z-"
      },
      "source": [
        "new_data.rename(columns={'CODE_GENDER':'Gender','FLAG_OWN_CAR':'Car','FLAG_OWN_REALTY':'Reality',\n",
        "                         'CNT_CHILDREN':'ChldNo','AMT_INCOME_TOTAL':'inc',\n",
        "                         'NAME_EDUCATION_TYPE':'edutp','NAME_FAMILY_STATUS':'famtp',\n",
        "                        'NAME_HOUSING_TYPE':'houtp','FLAG_EMAIL':'email',\n",
        "                         'NAME_INCOME_TYPE':'inctp','FLAG_WORK_PHONE':'wkphone',\n",
        "                         'FLAG_PHONE':'phone','CNT_FAM_MEMBERS':'famsize',\n",
        "                        'OCCUPATION_TYPE':'occyp'\n",
        "                        },inplace=True)"
      ],
      "execution_count": null,
      "outputs": []
    },
    {
      "cell_type": "code",
      "metadata": {
        "id": "X8JSMJMg63Z_"
      },
      "source": [
        "new_data.dropna()\n",
        "new_data = new_data.mask(new_data == 'NULL').dropna() # Retiramos los valores NaN"
      ],
      "execution_count": null,
      "outputs": []
    },
    {
      "cell_type": "code",
      "metadata": {
        "id": "zOc2dmCQ63Z_"
      },
      "source": [
        "ivtable=pd.DataFrame(new_data.columns,columns=['variable'])\n",
        "ivtable['IV']=None\n",
        "namelist = ['FLAG_MOBIL','begin_month','dep_value','target','ID']\n",
        "\n",
        "for i in namelist:\n",
        "    ivtable.drop(ivtable[ivtable['variable'] == i].index, inplace=True)"
      ],
      "execution_count": null,
      "outputs": []
    },
    {
      "cell_type": "markdown",
      "metadata": {
        "id": "hwbCah6g63aA"
      },
      "source": [
        "### Funciones Auxiliares"
      ]
    },
    {
      "cell_type": "markdown",
      "metadata": {
        "id": "qLtjJ_Ns63aA"
      },
      "source": [
        "A continuación se crean algunas funciones que serán utilizadas más adelante.\n",
        "\n",
        "Función `calc_iv` para obtener las variables IV (information value) y WoE (weight of evidence). Estas variables, de forma general, nos permiten conocer la importancia de cada feature disponible.\n",
        "\n",
        "Puede encontrar más información en:\n",
        "- https://www.kaggle.com/puremath86/iv-woe-starter-for-python\n",
        "- https://www.listendata.com/2015/03/weight-of-evidence-woe-and-information.html"
      ]
    },
    {
      "cell_type": "code",
      "metadata": {
        "id": "CqC2EqdK63aA"
      },
      "source": [
        "# Cálculo de IV\n",
        "def calc_iv(df, feature, target, pr=False):\n",
        "    lst = []\n",
        "    df[feature] = df[feature].fillna(\"NULL\")\n",
        "\n",
        "    for i in range(df[feature].nunique()):\n",
        "        val = list(df[feature].unique())[i]\n",
        "        lst.append([feature,                                                        # Variable\n",
        "                    val,                                                            # Value\n",
        "                    df[df[feature] == val].count()[feature],                        # All\n",
        "                    df[(df[feature] == val) & (df[target] == 0)].count()[feature],  # Good (think: Fraud == 0)\n",
        "                    df[(df[feature] == val) & (df[target] == 1)].count()[feature]]) # Bad (think: Fraud == 1)\n",
        "\n",
        "    data = pd.DataFrame(lst, columns=['Variable', 'Value', 'All', 'Good', 'Bad'])\n",
        "    data['Share'] = data['All'] / data['All'].sum()\n",
        "    data['Bad Rate'] = data['Bad'] / data['All']\n",
        "    data['Distribution Good'] = (data['All'] - data['Bad']) / (data['All'].sum() - data['Bad'].sum())\n",
        "    data['Distribution Bad'] = data['Bad'] / data['Bad'].sum()\n",
        "    data['WoE'] = np.log(data['Distribution Good'] / data['Distribution Bad'])\n",
        "    \n",
        "    data = data.replace({'WoE': {np.inf: 0, -np.inf: 0}})\n",
        "\n",
        "    data['IV'] = data['WoE'] * (data['Distribution Good'] - data['Distribution Bad'])\n",
        "\n",
        "    data = data.sort_values(by=['Variable', 'Value'], ascending=[True, True])\n",
        "    data.index = range(len(data.index))\n",
        "\n",
        "    if pr:\n",
        "        print(data)\n",
        "        print('IV = ', data['IV'].sum())\n",
        "\n",
        "    iv = data['IV'].sum()\n",
        "    print('El IV de esta variable es:',iv)\n",
        "    print(df[feature].value_counts())\n",
        "    return iv, data"
      ],
      "execution_count": null,
      "outputs": []
    },
    {
      "cell_type": "code",
      "metadata": {
        "id": "GDn4aC8O63aB"
      },
      "source": [
        "# Codificación One-Hot\n",
        "def convert_dummy(df, feature,rank=0):\n",
        "    pos = pd.get_dummies(df[feature], prefix=feature)\n",
        "    mode = df[feature].value_counts().index[rank]\n",
        "    biggest = feature + '_' + str(mode)\n",
        "    pos.drop([biggest],axis=1,inplace=True)\n",
        "    df.drop([feature],axis=1,inplace=True)\n",
        "    df=df.join(pos)\n",
        "    return df"
      ],
      "execution_count": null,
      "outputs": []
    },
    {
      "cell_type": "code",
      "metadata": {
        "id": "j6D0Rcla63aC"
      },
      "source": [
        "def get_category(df, col, binsnum, labels, qcut = False):\n",
        "    if qcut:\n",
        "        localdf = pd.qcut(df[col], q = binsnum, labels = labels) # quantile cut\n",
        "    else:\n",
        "        localdf = pd.cut(df[col], bins = binsnum, labels = labels) # equal-length cut\n",
        "        \n",
        "    localdf = pd.DataFrame(localdf)\n",
        "    name = 'gp' + '_' + col\n",
        "    localdf[name] = localdf[col]\n",
        "    df = df.join(localdf[name])\n",
        "    df[name] = df[name].astype(object)\n",
        "    return df"
      ],
      "execution_count": null,
      "outputs": []
    },
    {
      "cell_type": "code",
      "metadata": {
        "id": "h8D-euBR63aC"
      },
      "source": [
        "# Matriz de Confusión\n",
        "def plot_confusion_matrix(cm, classes,\n",
        "                          normalize=False,\n",
        "                          title='Confusion matrix',\n",
        "                          cmap=plt.cm.Blues):\n",
        "    if normalize:\n",
        "        cm = cm.astype('float') / cm.sum(axis=1)[:, np.newaxis]\n",
        "        \n",
        "    print(cm)\n",
        "\n",
        "    plt.imshow(cm, interpolation='nearest', cmap=cmap)\n",
        "    plt.title(title)\n",
        "    plt.colorbar()\n",
        "    tick_marks = np.arange(len(classes))\n",
        "    plt.xticks(tick_marks, classes)\n",
        "    plt.yticks(tick_marks, classes)\n",
        "\n",
        "    fmt = '.2f' if normalize else 'd'\n",
        "    thresh = cm.max() / 2.\n",
        "    for i, j in itertools.product(range(cm.shape[0]), range(cm.shape[1])):\n",
        "        plt.text(j, i, format(cm[i, j], fmt),\n",
        "                 horizontalalignment=\"center\",\n",
        "                 color=\"white\" if cm[i, j] > thresh else \"black\")\n",
        "\n",
        "    plt.tight_layout()\n",
        "    plt.ylabel('Etiqueta')\n",
        "    plt.xlabel('Predicción')"
      ],
      "execution_count": null,
      "outputs": []
    },
    {
      "cell_type": "markdown",
      "metadata": {
        "id": "FpEhr8TK63aD"
      },
      "source": [
        "### Descriptores Binarios\n",
        "\n",
        "Se utilizará la función desarrollada anteriormente para realizar un análisis de cada uno de los descriptores binarios y **su influencia dentro de la predicción de cada clase**.\n",
        "\n",
        "#### Género"
      ]
    },
    {
      "cell_type": "code",
      "metadata": {
        "id": "1I34gYJ963aD",
        "colab": {
          "base_uri": "https://localhost:8080/"
        },
        "outputId": "5305e12e-d40d-4acb-f227-e3610c764940"
      },
      "source": [
        "new_data['Gender'] = new_data['Gender'].replace(['F','M'],[0,1])\n",
        "print(new_data['Gender'].value_counts())\n",
        "iv, data = calc_iv(new_data,'Gender','target')\n",
        "ivtable.loc[ivtable['variable']=='Gender','IV']=iv\n",
        "data.head()"
      ],
      "execution_count": null,
      "outputs": [
        {
          "output_type": "stream",
          "name": "stdout",
          "text": [
            "0    15630\n",
            "1     9504\n",
            "Name: Gender, dtype: int64\n",
            "El IV de esta variable es: 0.02520350452745081\n",
            "0    15630\n",
            "1     9504\n",
            "Name: Gender, dtype: int64\n"
          ]
        },
        {
          "output_type": "execute_result",
          "data": {
            "text/html": [
              "<div>\n",
              "<style scoped>\n",
              "    .dataframe tbody tr th:only-of-type {\n",
              "        vertical-align: middle;\n",
              "    }\n",
              "\n",
              "    .dataframe tbody tr th {\n",
              "        vertical-align: top;\n",
              "    }\n",
              "\n",
              "    .dataframe thead th {\n",
              "        text-align: right;\n",
              "    }\n",
              "</style>\n",
              "<table border=\"1\" class=\"dataframe\">\n",
              "  <thead>\n",
              "    <tr style=\"text-align: right;\">\n",
              "      <th></th>\n",
              "      <th>Variable</th>\n",
              "      <th>Value</th>\n",
              "      <th>All</th>\n",
              "      <th>Good</th>\n",
              "      <th>Bad</th>\n",
              "      <th>Share</th>\n",
              "      <th>Bad Rate</th>\n",
              "      <th>Distribution Good</th>\n",
              "      <th>Distribution Bad</th>\n",
              "      <th>WoE</th>\n",
              "      <th>IV</th>\n",
              "    </tr>\n",
              "  </thead>\n",
              "  <tbody>\n",
              "    <tr>\n",
              "      <th>0</th>\n",
              "      <td>Gender</td>\n",
              "      <td>0</td>\n",
              "      <td>15630</td>\n",
              "      <td>15400</td>\n",
              "      <td>230</td>\n",
              "      <td>0.621867</td>\n",
              "      <td>0.014715</td>\n",
              "      <td>0.623179</td>\n",
              "      <td>0.545024</td>\n",
              "      <td>0.134005</td>\n",
              "      <td>0.010473</td>\n",
              "    </tr>\n",
              "    <tr>\n",
              "      <th>1</th>\n",
              "      <td>Gender</td>\n",
              "      <td>1</td>\n",
              "      <td>9504</td>\n",
              "      <td>9312</td>\n",
              "      <td>192</td>\n",
              "      <td>0.378133</td>\n",
              "      <td>0.020202</td>\n",
              "      <td>0.376821</td>\n",
              "      <td>0.454976</td>\n",
              "      <td>-0.188475</td>\n",
              "      <td>0.014730</td>\n",
              "    </tr>\n",
              "  </tbody>\n",
              "</table>\n",
              "</div>"
            ],
            "text/plain": [
              "  Variable  Value    All  ...  Distribution Bad       WoE        IV\n",
              "0   Gender      0  15630  ...          0.545024  0.134005  0.010473\n",
              "1   Gender      1   9504  ...          0.454976 -0.188475  0.014730\n",
              "\n",
              "[2 rows x 11 columns]"
            ]
          },
          "metadata": {},
          "execution_count": 19
        }
      ]
    },
    {
      "cell_type": "markdown",
      "metadata": {
        "id": "cSWJ2yXh63aD"
      },
      "source": [
        "#### Posesión de un Automóvil"
      ]
    },
    {
      "cell_type": "code",
      "metadata": {
        "id": "3Q7NphZ863aE",
        "colab": {
          "base_uri": "https://localhost:8080/"
        },
        "outputId": "b2a44a56-3153-4200-ff4a-5f391a1de84e"
      },
      "source": [
        "new_data['Car'] = new_data['Car'].replace(['N','Y'],[0,1])\n",
        "print(new_data['Car'].value_counts())\n",
        "iv, data=calc_iv(new_data,'Car','target')\n",
        "ivtable.loc[ivtable['variable']=='Car','IV']=iv\n",
        "data.head()"
      ],
      "execution_count": null,
      "outputs": [
        {
          "output_type": "stream",
          "name": "stdout",
          "text": [
            "0    14618\n",
            "1    10516\n",
            "Name: Car, dtype: int64\n",
            "El IV de esta variable es: 4.54248124999671e-06\n",
            "0    14618\n",
            "1    10516\n",
            "Name: Car, dtype: int64\n"
          ]
        },
        {
          "output_type": "execute_result",
          "data": {
            "text/html": [
              "<div>\n",
              "<style scoped>\n",
              "    .dataframe tbody tr th:only-of-type {\n",
              "        vertical-align: middle;\n",
              "    }\n",
              "\n",
              "    .dataframe tbody tr th {\n",
              "        vertical-align: top;\n",
              "    }\n",
              "\n",
              "    .dataframe thead th {\n",
              "        text-align: right;\n",
              "    }\n",
              "</style>\n",
              "<table border=\"1\" class=\"dataframe\">\n",
              "  <thead>\n",
              "    <tr style=\"text-align: right;\">\n",
              "      <th></th>\n",
              "      <th>Variable</th>\n",
              "      <th>Value</th>\n",
              "      <th>All</th>\n",
              "      <th>Good</th>\n",
              "      <th>Bad</th>\n",
              "      <th>Share</th>\n",
              "      <th>Bad Rate</th>\n",
              "      <th>Distribution Good</th>\n",
              "      <th>Distribution Bad</th>\n",
              "      <th>WoE</th>\n",
              "      <th>IV</th>\n",
              "    </tr>\n",
              "  </thead>\n",
              "  <tbody>\n",
              "    <tr>\n",
              "      <th>0</th>\n",
              "      <td>Car</td>\n",
              "      <td>0</td>\n",
              "      <td>14618</td>\n",
              "      <td>14373</td>\n",
              "      <td>245</td>\n",
              "      <td>0.581603</td>\n",
              "      <td>0.016760</td>\n",
              "      <td>0.58162</td>\n",
              "      <td>0.580569</td>\n",
              "      <td>0.00181</td>\n",
              "      <td>0.000002</td>\n",
              "    </tr>\n",
              "    <tr>\n",
              "      <th>1</th>\n",
              "      <td>Car</td>\n",
              "      <td>1</td>\n",
              "      <td>10516</td>\n",
              "      <td>10339</td>\n",
              "      <td>177</td>\n",
              "      <td>0.418397</td>\n",
              "      <td>0.016831</td>\n",
              "      <td>0.41838</td>\n",
              "      <td>0.419431</td>\n",
              "      <td>-0.00251</td>\n",
              "      <td>0.000003</td>\n",
              "    </tr>\n",
              "  </tbody>\n",
              "</table>\n",
              "</div>"
            ],
            "text/plain": [
              "  Variable  Value    All  ...  Distribution Bad      WoE        IV\n",
              "0      Car      0  14618  ...          0.580569  0.00181  0.000002\n",
              "1      Car      1  10516  ...          0.419431 -0.00251  0.000003\n",
              "\n",
              "[2 rows x 11 columns]"
            ]
          },
          "metadata": {},
          "execution_count": 20
        }
      ]
    },
    {
      "cell_type": "markdown",
      "metadata": {
        "id": "5VdTfabq63aE"
      },
      "source": [
        "#### Posesión de un Inmueble"
      ]
    },
    {
      "cell_type": "code",
      "metadata": {
        "id": "r8BKOUdf63aF",
        "colab": {
          "base_uri": "https://localhost:8080/"
        },
        "outputId": "7f3a89fc-aa97-4989-aba5-953de5a87a2e"
      },
      "source": [
        "new_data['Reality'] = new_data['Reality'].replace(['N','Y'],[0,1])\n",
        "print(new_data['Reality'].value_counts())\n",
        "iv, data=calc_iv(new_data,'Reality','target')\n",
        "ivtable.loc[ivtable['variable']=='Reality','IV']=iv\n",
        "data.head()"
      ],
      "execution_count": null,
      "outputs": [
        {
          "output_type": "stream",
          "name": "stdout",
          "text": [
            "1    16461\n",
            "0     8673\n",
            "Name: Reality, dtype: int64\n",
            "El IV de esta variable es: 0.02744070350168343\n",
            "1    16461\n",
            "0     8673\n",
            "Name: Reality, dtype: int64\n"
          ]
        },
        {
          "output_type": "execute_result",
          "data": {
            "text/html": [
              "<div>\n",
              "<style scoped>\n",
              "    .dataframe tbody tr th:only-of-type {\n",
              "        vertical-align: middle;\n",
              "    }\n",
              "\n",
              "    .dataframe tbody tr th {\n",
              "        vertical-align: top;\n",
              "    }\n",
              "\n",
              "    .dataframe thead th {\n",
              "        text-align: right;\n",
              "    }\n",
              "</style>\n",
              "<table border=\"1\" class=\"dataframe\">\n",
              "  <thead>\n",
              "    <tr style=\"text-align: right;\">\n",
              "      <th></th>\n",
              "      <th>Variable</th>\n",
              "      <th>Value</th>\n",
              "      <th>All</th>\n",
              "      <th>Good</th>\n",
              "      <th>Bad</th>\n",
              "      <th>Share</th>\n",
              "      <th>Bad Rate</th>\n",
              "      <th>Distribution Good</th>\n",
              "      <th>Distribution Bad</th>\n",
              "      <th>WoE</th>\n",
              "      <th>IV</th>\n",
              "    </tr>\n",
              "  </thead>\n",
              "  <tbody>\n",
              "    <tr>\n",
              "      <th>0</th>\n",
              "      <td>Reality</td>\n",
              "      <td>0</td>\n",
              "      <td>8673</td>\n",
              "      <td>8494</td>\n",
              "      <td>179</td>\n",
              "      <td>0.34507</td>\n",
              "      <td>0.020639</td>\n",
              "      <td>0.34372</td>\n",
              "      <td>0.424171</td>\n",
              "      <td>-0.210309</td>\n",
              "      <td>0.016920</td>\n",
              "    </tr>\n",
              "    <tr>\n",
              "      <th>1</th>\n",
              "      <td>Reality</td>\n",
              "      <td>1</td>\n",
              "      <td>16461</td>\n",
              "      <td>16218</td>\n",
              "      <td>243</td>\n",
              "      <td>0.65493</td>\n",
              "      <td>0.014762</td>\n",
              "      <td>0.65628</td>\n",
              "      <td>0.575829</td>\n",
              "      <td>0.130777</td>\n",
              "      <td>0.010521</td>\n",
              "    </tr>\n",
              "  </tbody>\n",
              "</table>\n",
              "</div>"
            ],
            "text/plain": [
              "  Variable  Value    All  ...  Distribution Bad       WoE        IV\n",
              "0  Reality      0   8673  ...          0.424171 -0.210309  0.016920\n",
              "1  Reality      1  16461  ...          0.575829  0.130777  0.010521\n",
              "\n",
              "[2 rows x 11 columns]"
            ]
          },
          "metadata": {},
          "execution_count": 21
        }
      ]
    },
    {
      "cell_type": "markdown",
      "metadata": {
        "id": "b2VhD6xr63aF"
      },
      "source": [
        "#### Posesión de un Teléfono"
      ]
    },
    {
      "cell_type": "code",
      "metadata": {
        "id": "PSLcIyOk63aF",
        "colab": {
          "base_uri": "https://localhost:8080/"
        },
        "outputId": "108f6586-4b9f-46e2-9071-0233f779f125"
      },
      "source": [
        "new_data['phone']=new_data['phone'].astype(str)\n",
        "print(new_data['phone'].value_counts(normalize=True,sort=False))\n",
        "new_data.drop(new_data[new_data['phone'] == 'nan' ].index, inplace=True)\n",
        "iv, data=calc_iv(new_data,'phone','target')\n",
        "ivtable.loc[ivtable['variable']=='phone','IV']=iv\n",
        "data.head()"
      ],
      "execution_count": null,
      "outputs": [
        {
          "output_type": "stream",
          "name": "stdout",
          "text": [
            "1    0.292791\n",
            "0    0.707209\n",
            "Name: phone, dtype: float64\n",
            "El IV de esta variable es: 0.0005480495762639297\n",
            "0    17775\n",
            "1     7359\n",
            "Name: phone, dtype: int64\n"
          ]
        },
        {
          "output_type": "execute_result",
          "data": {
            "text/html": [
              "<div>\n",
              "<style scoped>\n",
              "    .dataframe tbody tr th:only-of-type {\n",
              "        vertical-align: middle;\n",
              "    }\n",
              "\n",
              "    .dataframe tbody tr th {\n",
              "        vertical-align: top;\n",
              "    }\n",
              "\n",
              "    .dataframe thead th {\n",
              "        text-align: right;\n",
              "    }\n",
              "</style>\n",
              "<table border=\"1\" class=\"dataframe\">\n",
              "  <thead>\n",
              "    <tr style=\"text-align: right;\">\n",
              "      <th></th>\n",
              "      <th>Variable</th>\n",
              "      <th>Value</th>\n",
              "      <th>All</th>\n",
              "      <th>Good</th>\n",
              "      <th>Bad</th>\n",
              "      <th>Share</th>\n",
              "      <th>Bad Rate</th>\n",
              "      <th>Distribution Good</th>\n",
              "      <th>Distribution Bad</th>\n",
              "      <th>WoE</th>\n",
              "      <th>IV</th>\n",
              "    </tr>\n",
              "  </thead>\n",
              "  <tbody>\n",
              "    <tr>\n",
              "      <th>0</th>\n",
              "      <td>phone</td>\n",
              "      <td>0</td>\n",
              "      <td>17775</td>\n",
              "      <td>17481</td>\n",
              "      <td>294</td>\n",
              "      <td>0.707209</td>\n",
              "      <td>0.016540</td>\n",
              "      <td>0.707389</td>\n",
              "      <td>0.696682</td>\n",
              "      <td>0.015251</td>\n",
              "      <td>0.000163</td>\n",
              "    </tr>\n",
              "    <tr>\n",
              "      <th>1</th>\n",
              "      <td>phone</td>\n",
              "      <td>1</td>\n",
              "      <td>7359</td>\n",
              "      <td>7231</td>\n",
              "      <td>128</td>\n",
              "      <td>0.292791</td>\n",
              "      <td>0.017394</td>\n",
              "      <td>0.292611</td>\n",
              "      <td>0.303318</td>\n",
              "      <td>-0.035937</td>\n",
              "      <td>0.000385</td>\n",
              "    </tr>\n",
              "  </tbody>\n",
              "</table>\n",
              "</div>"
            ],
            "text/plain": [
              "  Variable Value    All  ...  Distribution Bad       WoE        IV\n",
              "0    phone     0  17775  ...          0.696682  0.015251  0.000163\n",
              "1    phone     1   7359  ...          0.303318 -0.035937  0.000385\n",
              "\n",
              "[2 rows x 11 columns]"
            ]
          },
          "metadata": {},
          "execution_count": 22
        }
      ]
    },
    {
      "cell_type": "markdown",
      "metadata": {
        "id": "NpP3IIIe63aG"
      },
      "source": [
        "#### Posesión de Correo Electrónico (Email)"
      ]
    },
    {
      "cell_type": "code",
      "metadata": {
        "id": "yLSqHrDT63aG",
        "colab": {
          "base_uri": "https://localhost:8080/"
        },
        "outputId": "287a27ca-9331-441f-ffd0-c265941cc64e"
      },
      "source": [
        "print(new_data['email'].value_counts(normalize=True,sort=False))\n",
        "new_data['email']=new_data['email'].astype(str)\n",
        "iv, data=calc_iv(new_data,'email','target')\n",
        "ivtable.loc[ivtable['variable']=='email','IV']=iv\n",
        "data.head()"
      ],
      "execution_count": null,
      "outputs": [
        {
          "output_type": "stream",
          "name": "stdout",
          "text": [
            "0    0.89934\n",
            "1    0.10066\n",
            "Name: email, dtype: float64\n",
            "El IV de esta variable es: 1.7343581493999816e-05\n",
            "0    22604\n",
            "1     2530\n",
            "Name: email, dtype: int64\n"
          ]
        },
        {
          "output_type": "execute_result",
          "data": {
            "text/html": [
              "<div>\n",
              "<style scoped>\n",
              "    .dataframe tbody tr th:only-of-type {\n",
              "        vertical-align: middle;\n",
              "    }\n",
              "\n",
              "    .dataframe tbody tr th {\n",
              "        vertical-align: top;\n",
              "    }\n",
              "\n",
              "    .dataframe thead th {\n",
              "        text-align: right;\n",
              "    }\n",
              "</style>\n",
              "<table border=\"1\" class=\"dataframe\">\n",
              "  <thead>\n",
              "    <tr style=\"text-align: right;\">\n",
              "      <th></th>\n",
              "      <th>Variable</th>\n",
              "      <th>Value</th>\n",
              "      <th>All</th>\n",
              "      <th>Good</th>\n",
              "      <th>Bad</th>\n",
              "      <th>Share</th>\n",
              "      <th>Bad Rate</th>\n",
              "      <th>Distribution Good</th>\n",
              "      <th>Distribution Bad</th>\n",
              "      <th>WoE</th>\n",
              "      <th>IV</th>\n",
              "    </tr>\n",
              "  </thead>\n",
              "  <tbody>\n",
              "    <tr>\n",
              "      <th>0</th>\n",
              "      <td>email</td>\n",
              "      <td>0</td>\n",
              "      <td>22604</td>\n",
              "      <td>22225</td>\n",
              "      <td>379</td>\n",
              "      <td>0.89934</td>\n",
              "      <td>0.016767</td>\n",
              "      <td>0.899361</td>\n",
              "      <td>0.898104</td>\n",
              "      <td>0.001398</td>\n",
              "      <td>0.000002</td>\n",
              "    </tr>\n",
              "    <tr>\n",
              "      <th>1</th>\n",
              "      <td>email</td>\n",
              "      <td>1</td>\n",
              "      <td>2530</td>\n",
              "      <td>2487</td>\n",
              "      <td>43</td>\n",
              "      <td>0.10066</td>\n",
              "      <td>0.016996</td>\n",
              "      <td>0.100639</td>\n",
              "      <td>0.101896</td>\n",
              "      <td>-0.012407</td>\n",
              "      <td>0.000016</td>\n",
              "    </tr>\n",
              "  </tbody>\n",
              "</table>\n",
              "</div>"
            ],
            "text/plain": [
              "  Variable Value    All  ...  Distribution Bad       WoE        IV\n",
              "0    email     0  22604  ...          0.898104  0.001398  0.000002\n",
              "1    email     1   2530  ...          0.101896 -0.012407  0.000016\n",
              "\n",
              "[2 rows x 11 columns]"
            ]
          },
          "metadata": {},
          "execution_count": 23
        }
      ]
    },
    {
      "cell_type": "markdown",
      "metadata": {
        "id": "h-7Uzb_T63aG"
      },
      "source": [
        "#### Posesión de Teléfono para Trabajo"
      ]
    },
    {
      "cell_type": "code",
      "metadata": {
        "id": "mz1v9CkG63aH",
        "colab": {
          "base_uri": "https://localhost:8080/"
        },
        "outputId": "a5a74090-7c77-4e99-fb27-96a8b83f658d"
      },
      "source": [
        "new_data['wkphone']=new_data['wkphone'].astype(str)\n",
        "iv, data = calc_iv(new_data,'wkphone','target')\n",
        "new_data.drop(new_data[new_data['wkphone'] == 'nan' ].index, inplace=True)\n",
        "ivtable.loc[ivtable['variable']=='wkphone','IV']=iv\n",
        "data.head()"
      ],
      "execution_count": null,
      "outputs": [
        {
          "output_type": "stream",
          "name": "stdout",
          "text": [
            "El IV de esta variable es: 0.002042429795148461\n",
            "0    18252\n",
            "1     6882\n",
            "Name: wkphone, dtype: int64\n"
          ]
        },
        {
          "output_type": "execute_result",
          "data": {
            "text/html": [
              "<div>\n",
              "<style scoped>\n",
              "    .dataframe tbody tr th:only-of-type {\n",
              "        vertical-align: middle;\n",
              "    }\n",
              "\n",
              "    .dataframe tbody tr th {\n",
              "        vertical-align: top;\n",
              "    }\n",
              "\n",
              "    .dataframe thead th {\n",
              "        text-align: right;\n",
              "    }\n",
              "</style>\n",
              "<table border=\"1\" class=\"dataframe\">\n",
              "  <thead>\n",
              "    <tr style=\"text-align: right;\">\n",
              "      <th></th>\n",
              "      <th>Variable</th>\n",
              "      <th>Value</th>\n",
              "      <th>All</th>\n",
              "      <th>Good</th>\n",
              "      <th>Bad</th>\n",
              "      <th>Share</th>\n",
              "      <th>Bad Rate</th>\n",
              "      <th>Distribution Good</th>\n",
              "      <th>Distribution Bad</th>\n",
              "      <th>WoE</th>\n",
              "      <th>IV</th>\n",
              "    </tr>\n",
              "  </thead>\n",
              "  <tbody>\n",
              "    <tr>\n",
              "      <th>0</th>\n",
              "      <td>wkphone</td>\n",
              "      <td>0</td>\n",
              "      <td>18252</td>\n",
              "      <td>17954</td>\n",
              "      <td>298</td>\n",
              "      <td>0.726188</td>\n",
              "      <td>0.016327</td>\n",
              "      <td>0.72653</td>\n",
              "      <td>0.706161</td>\n",
              "      <td>0.028436</td>\n",
              "      <td>0.000579</td>\n",
              "    </tr>\n",
              "    <tr>\n",
              "      <th>1</th>\n",
              "      <td>wkphone</td>\n",
              "      <td>1</td>\n",
              "      <td>6882</td>\n",
              "      <td>6758</td>\n",
              "      <td>124</td>\n",
              "      <td>0.273812</td>\n",
              "      <td>0.018018</td>\n",
              "      <td>0.27347</td>\n",
              "      <td>0.293839</td>\n",
              "      <td>-0.071838</td>\n",
              "      <td>0.001463</td>\n",
              "    </tr>\n",
              "  </tbody>\n",
              "</table>\n",
              "</div>"
            ],
            "text/plain": [
              "  Variable Value    All  ...  Distribution Bad       WoE        IV\n",
              "0  wkphone     0  18252  ...          0.706161  0.028436  0.000579\n",
              "1  wkphone     1   6882  ...          0.293839 -0.071838  0.001463\n",
              "\n",
              "[2 rows x 11 columns]"
            ]
          },
          "metadata": {},
          "execution_count": 24
        }
      ]
    },
    {
      "cell_type": "markdown",
      "metadata": {
        "id": "iet4tmRa63aI"
      },
      "source": [
        "### Descriptores Continuos\n",
        "\n",
        "#### Cantidad de Hijos"
      ]
    },
    {
      "cell_type": "code",
      "metadata": {
        "id": "5AwRXSpl63aI",
        "colab": {
          "base_uri": "https://localhost:8080/"
        },
        "outputId": "ac221659-53cb-4b4b-d354-c84bec24e23e"
      },
      "source": [
        "# Separamos aquellos que: no tienen hijos, tienen 1 hijo, tienen 2 o más hijos.\n",
        "\n",
        "new_data.loc[new_data['ChldNo'] >= 2,'ChldNo']='2More'\n",
        "print(new_data['ChldNo'].value_counts(sort=False))"
      ],
      "execution_count": null,
      "outputs": [
        {
          "output_type": "stream",
          "name": "stdout",
          "text": [
            "0        15908\n",
            "1         6118\n",
            "2More     3108\n",
            "Name: ChldNo, dtype: int64\n"
          ]
        }
      ]
    },
    {
      "cell_type": "code",
      "metadata": {
        "id": "YdFBJi5863aJ",
        "colab": {
          "base_uri": "https://localhost:8080/"
        },
        "outputId": "42b32fe0-f154-424e-a512-e6da138df07f"
      },
      "source": [
        "iv, data=calc_iv(new_data,'ChldNo','target')\n",
        "ivtable.loc[ivtable['variable']=='ChldNo','IV']=iv\n",
        "data.head()"
      ],
      "execution_count": null,
      "outputs": [
        {
          "output_type": "stream",
          "name": "stdout",
          "text": [
            "El IV de esta variable es: 0.0011214542503301935\n",
            "0        15908\n",
            "1         6118\n",
            "2More     3108\n",
            "Name: ChldNo, dtype: int64\n"
          ]
        },
        {
          "output_type": "execute_result",
          "data": {
            "text/html": [
              "<div>\n",
              "<style scoped>\n",
              "    .dataframe tbody tr th:only-of-type {\n",
              "        vertical-align: middle;\n",
              "    }\n",
              "\n",
              "    .dataframe tbody tr th {\n",
              "        vertical-align: top;\n",
              "    }\n",
              "\n",
              "    .dataframe thead th {\n",
              "        text-align: right;\n",
              "    }\n",
              "</style>\n",
              "<table border=\"1\" class=\"dataframe\">\n",
              "  <thead>\n",
              "    <tr style=\"text-align: right;\">\n",
              "      <th></th>\n",
              "      <th>Variable</th>\n",
              "      <th>Value</th>\n",
              "      <th>All</th>\n",
              "      <th>Good</th>\n",
              "      <th>Bad</th>\n",
              "      <th>Share</th>\n",
              "      <th>Bad Rate</th>\n",
              "      <th>Distribution Good</th>\n",
              "      <th>Distribution Bad</th>\n",
              "      <th>WoE</th>\n",
              "      <th>IV</th>\n",
              "    </tr>\n",
              "  </thead>\n",
              "  <tbody>\n",
              "    <tr>\n",
              "      <th>0</th>\n",
              "      <td>ChldNo</td>\n",
              "      <td>0</td>\n",
              "      <td>15908</td>\n",
              "      <td>15635</td>\n",
              "      <td>273</td>\n",
              "      <td>0.632928</td>\n",
              "      <td>0.017161</td>\n",
              "      <td>0.632689</td>\n",
              "      <td>0.646919</td>\n",
              "      <td>-0.022243</td>\n",
              "      <td>0.000317</td>\n",
              "    </tr>\n",
              "    <tr>\n",
              "      <th>1</th>\n",
              "      <td>ChldNo</td>\n",
              "      <td>1</td>\n",
              "      <td>6118</td>\n",
              "      <td>6021</td>\n",
              "      <td>97</td>\n",
              "      <td>0.243415</td>\n",
              "      <td>0.015855</td>\n",
              "      <td>0.243647</td>\n",
              "      <td>0.229858</td>\n",
              "      <td>0.058259</td>\n",
              "      <td>0.000803</td>\n",
              "    </tr>\n",
              "    <tr>\n",
              "      <th>2</th>\n",
              "      <td>ChldNo</td>\n",
              "      <td>2More</td>\n",
              "      <td>3108</td>\n",
              "      <td>3056</td>\n",
              "      <td>52</td>\n",
              "      <td>0.123657</td>\n",
              "      <td>0.016731</td>\n",
              "      <td>0.123665</td>\n",
              "      <td>0.123223</td>\n",
              "      <td>0.003580</td>\n",
              "      <td>0.000002</td>\n",
              "    </tr>\n",
              "  </tbody>\n",
              "</table>\n",
              "</div>"
            ],
            "text/plain": [
              "  Variable  Value    All  ...  Distribution Bad       WoE        IV\n",
              "0   ChldNo      0  15908  ...          0.646919 -0.022243  0.000317\n",
              "1   ChldNo      1   6118  ...          0.229858  0.058259  0.000803\n",
              "2   ChldNo  2More   3108  ...          0.123223  0.003580  0.000002\n",
              "\n",
              "[3 rows x 11 columns]"
            ]
          },
          "metadata": {},
          "execution_count": 26
        }
      ]
    },
    {
      "cell_type": "code",
      "metadata": {
        "id": "1oU8l_iB63aJ"
      },
      "source": [
        "new_data = convert_dummy(new_data,'ChldNo') # Adicionamos una Codificación One-Hot"
      ],
      "execution_count": null,
      "outputs": []
    },
    {
      "cell_type": "code",
      "metadata": {
        "id": "IkkIfELa63aK",
        "colab": {
          "base_uri": "https://localhost:8080/"
        },
        "outputId": "8599ec54-3696-4a97-ed92-15ca2820d789"
      },
      "source": [
        "new_data.head()"
      ],
      "execution_count": null,
      "outputs": [
        {
          "output_type": "execute_result",
          "data": {
            "text/html": [
              "<div>\n",
              "<style scoped>\n",
              "    .dataframe tbody tr th:only-of-type {\n",
              "        vertical-align: middle;\n",
              "    }\n",
              "\n",
              "    .dataframe tbody tr th {\n",
              "        vertical-align: top;\n",
              "    }\n",
              "\n",
              "    .dataframe thead th {\n",
              "        text-align: right;\n",
              "    }\n",
              "</style>\n",
              "<table border=\"1\" class=\"dataframe\">\n",
              "  <thead>\n",
              "    <tr style=\"text-align: right;\">\n",
              "      <th></th>\n",
              "      <th>ID</th>\n",
              "      <th>Gender</th>\n",
              "      <th>Car</th>\n",
              "      <th>Reality</th>\n",
              "      <th>inc</th>\n",
              "      <th>inctp</th>\n",
              "      <th>edutp</th>\n",
              "      <th>famtp</th>\n",
              "      <th>houtp</th>\n",
              "      <th>DAYS_BIRTH</th>\n",
              "      <th>DAYS_EMPLOYED</th>\n",
              "      <th>FLAG_MOBIL</th>\n",
              "      <th>wkphone</th>\n",
              "      <th>phone</th>\n",
              "      <th>email</th>\n",
              "      <th>occyp</th>\n",
              "      <th>famsize</th>\n",
              "      <th>begin_month</th>\n",
              "      <th>dep_value</th>\n",
              "      <th>target</th>\n",
              "      <th>ChldNo_1</th>\n",
              "      <th>ChldNo_2More</th>\n",
              "    </tr>\n",
              "  </thead>\n",
              "  <tbody>\n",
              "    <tr>\n",
              "      <th>2</th>\n",
              "      <td>5008806</td>\n",
              "      <td>1</td>\n",
              "      <td>1</td>\n",
              "      <td>1</td>\n",
              "      <td>112500.0</td>\n",
              "      <td>Working</td>\n",
              "      <td>Secondary / secondary special</td>\n",
              "      <td>Married</td>\n",
              "      <td>House / apartment</td>\n",
              "      <td>-21474</td>\n",
              "      <td>-1134</td>\n",
              "      <td>1</td>\n",
              "      <td>0</td>\n",
              "      <td>0</td>\n",
              "      <td>0</td>\n",
              "      <td>Security staff</td>\n",
              "      <td>2.0</td>\n",
              "      <td>-29.0</td>\n",
              "      <td>No</td>\n",
              "      <td>0</td>\n",
              "      <td>0</td>\n",
              "      <td>0</td>\n",
              "    </tr>\n",
              "    <tr>\n",
              "      <th>3</th>\n",
              "      <td>5008808</td>\n",
              "      <td>0</td>\n",
              "      <td>0</td>\n",
              "      <td>1</td>\n",
              "      <td>270000.0</td>\n",
              "      <td>Commercial associate</td>\n",
              "      <td>Secondary / secondary special</td>\n",
              "      <td>Single / not married</td>\n",
              "      <td>House / apartment</td>\n",
              "      <td>-19110</td>\n",
              "      <td>-3051</td>\n",
              "      <td>1</td>\n",
              "      <td>0</td>\n",
              "      <td>1</td>\n",
              "      <td>1</td>\n",
              "      <td>Sales staff</td>\n",
              "      <td>1.0</td>\n",
              "      <td>-4.0</td>\n",
              "      <td>No</td>\n",
              "      <td>0</td>\n",
              "      <td>0</td>\n",
              "      <td>0</td>\n",
              "    </tr>\n",
              "    <tr>\n",
              "      <th>4</th>\n",
              "      <td>5008809</td>\n",
              "      <td>0</td>\n",
              "      <td>0</td>\n",
              "      <td>1</td>\n",
              "      <td>270000.0</td>\n",
              "      <td>Commercial associate</td>\n",
              "      <td>Secondary / secondary special</td>\n",
              "      <td>Single / not married</td>\n",
              "      <td>House / apartment</td>\n",
              "      <td>-19110</td>\n",
              "      <td>-3051</td>\n",
              "      <td>1</td>\n",
              "      <td>0</td>\n",
              "      <td>1</td>\n",
              "      <td>1</td>\n",
              "      <td>Sales staff</td>\n",
              "      <td>1.0</td>\n",
              "      <td>-26.0</td>\n",
              "      <td>No</td>\n",
              "      <td>0</td>\n",
              "      <td>0</td>\n",
              "      <td>0</td>\n",
              "    </tr>\n",
              "    <tr>\n",
              "      <th>5</th>\n",
              "      <td>5008810</td>\n",
              "      <td>0</td>\n",
              "      <td>0</td>\n",
              "      <td>1</td>\n",
              "      <td>270000.0</td>\n",
              "      <td>Commercial associate</td>\n",
              "      <td>Secondary / secondary special</td>\n",
              "      <td>Single / not married</td>\n",
              "      <td>House / apartment</td>\n",
              "      <td>-19110</td>\n",
              "      <td>-3051</td>\n",
              "      <td>1</td>\n",
              "      <td>0</td>\n",
              "      <td>1</td>\n",
              "      <td>1</td>\n",
              "      <td>Sales staff</td>\n",
              "      <td>1.0</td>\n",
              "      <td>-26.0</td>\n",
              "      <td>No</td>\n",
              "      <td>0</td>\n",
              "      <td>0</td>\n",
              "      <td>0</td>\n",
              "    </tr>\n",
              "    <tr>\n",
              "      <th>6</th>\n",
              "      <td>5008811</td>\n",
              "      <td>0</td>\n",
              "      <td>0</td>\n",
              "      <td>1</td>\n",
              "      <td>270000.0</td>\n",
              "      <td>Commercial associate</td>\n",
              "      <td>Secondary / secondary special</td>\n",
              "      <td>Single / not married</td>\n",
              "      <td>House / apartment</td>\n",
              "      <td>-19110</td>\n",
              "      <td>-3051</td>\n",
              "      <td>1</td>\n",
              "      <td>0</td>\n",
              "      <td>1</td>\n",
              "      <td>1</td>\n",
              "      <td>Sales staff</td>\n",
              "      <td>1.0</td>\n",
              "      <td>-38.0</td>\n",
              "      <td>No</td>\n",
              "      <td>0</td>\n",
              "      <td>0</td>\n",
              "      <td>0</td>\n",
              "    </tr>\n",
              "  </tbody>\n",
              "</table>\n",
              "</div>"
            ],
            "text/plain": [
              "        ID  Gender  Car  Reality  ...  dep_value target ChldNo_1 ChldNo_2More\n",
              "2  5008806       1    1        1  ...         No      0        0            0\n",
              "3  5008808       0    0        1  ...         No      0        0            0\n",
              "4  5008809       0    0        1  ...         No      0        0            0\n",
              "5  5008810       0    0        1  ...         No      0        0            0\n",
              "6  5008811       0    0        1  ...         No      0        0            0\n",
              "\n",
              "[5 rows x 22 columns]"
            ]
          },
          "metadata": {},
          "execution_count": 28
        }
      ]
    },
    {
      "cell_type": "markdown",
      "metadata": {
        "id": "VQFt_jdW63aK"
      },
      "source": [
        "#### Ingresos Anuales\n",
        "\n",
        "Gráfica de Histograma para observar la distribución."
      ]
    },
    {
      "cell_type": "code",
      "metadata": {
        "id": "twiQT7mS63aL",
        "colab": {
          "base_uri": "https://localhost:8080/"
        },
        "outputId": "5cae0a1d-a471-4a55-94db-4adb4ab42738"
      },
      "source": [
        "new_data['inc'] = new_data['inc'].astype(object)\n",
        "new_data['inc'] = new_data['inc']/10000 \n",
        "print(new_data['inc'].value_counts(bins=10,sort=False))"
      ],
      "execution_count": null,
      "outputs": [
        {
          "output_type": "stream",
          "name": "stdout",
          "text": [
            "(2.544, 18.18]      14663\n",
            "(18.18, 33.66]       8464\n",
            "(33.66, 49.14]       1637\n",
            "(49.14, 64.62]        175\n",
            "(64.62, 80.1]         124\n",
            "(80.1, 95.58]          50\n",
            "(95.58, 111.06]         4\n",
            "(111.06, 126.54]        3\n",
            "(126.54, 142.02]        6\n",
            "(142.02, 157.5]         8\n",
            "Name: inc, dtype: int64\n"
          ]
        }
      ]
    },
    {
      "cell_type": "code",
      "metadata": {
        "id": "CTfU3oZt63aL",
        "colab": {
          "base_uri": "https://localhost:8080/"
        },
        "outputId": "d5fd4a0e-5410-4fb9-be21-53becb311def"
      },
      "source": [
        "new_data['inc'].plot(kind='hist',bins=50,density=True)"
      ],
      "execution_count": null,
      "outputs": [
        {
          "output_type": "execute_result",
          "data": {
            "text/plain": [
              "<matplotlib.axes._subplots.AxesSubplot at 0x7f83e165bdd0>"
            ]
          },
          "metadata": {},
          "execution_count": 30
        },
        {
          "output_type": "display_data",
          "data": {
            "text/plain": [
              "<Figure size 432x288 with 1 Axes>"
            ],
            "image/svg+xml": "<?xml version=\"1.0\" encoding=\"utf-8\" standalone=\"no\"?>\n<!DOCTYPE svg PUBLIC \"-//W3C//DTD SVG 1.1//EN\"\n  \"http://www.w3.org/Graphics/SVG/1.1/DTD/svg11.dtd\">\n<!-- Created with matplotlib (https://matplotlib.org/) -->\n<svg height=\"248.518125pt\" version=\"1.1\" viewBox=\"0 0 392.14375 248.518125\" width=\"392.14375pt\" xmlns=\"http://www.w3.org/2000/svg\" xmlns:xlink=\"http://www.w3.org/1999/xlink\">\n <defs>\n  <style type=\"text/css\">\n*{stroke-linecap:butt;stroke-linejoin:round;}\n  </style>\n </defs>\n <g id=\"figure_1\">\n  <g id=\"patch_1\">\n   <path d=\"M 0 248.518125 \nL 392.14375 248.518125 \nL 392.14375 0 \nL 0 0 \nz\n\" style=\"fill:#ffffff;\"/>\n  </g>\n  <g id=\"axes_1\">\n   <g id=\"patch_2\">\n    <path d=\"M 50.14375 224.64 \nL 384.94375 224.64 \nL 384.94375 7.2 \nL 50.14375 7.2 \nz\n\" style=\"fill:#ffffff;\"/>\n   </g>\n   <g id=\"patch_3\">\n    <path clip-path=\"url(#pae4cc9b377)\" d=\"M 65.361932 224.64 \nL 71.449205 224.64 \nL 71.449205 217.93506 \nL 65.361932 217.93506 \nz\n\" style=\"fill:#1f77b4;\"/>\n   </g>\n   <g id=\"patch_4\">\n    <path clip-path=\"url(#pae4cc9b377)\" d=\"M 71.449205 224.64 \nL 77.536477 224.64 \nL 77.536477 176.210944 \nL 71.449205 176.210944 \nz\n\" style=\"fill:#1f77b4;\"/>\n   </g>\n   <g id=\"patch_5\">\n    <path clip-path=\"url(#pae4cc9b377)\" d=\"M 77.536477 224.64 \nL 83.62375 224.64 \nL 83.62375 71.557328 \nL 77.536477 71.557328 \nz\n\" style=\"fill:#1f77b4;\"/>\n   </g>\n   <g id=\"patch_6\">\n    <path clip-path=\"url(#pae4cc9b377)\" d=\"M 83.62375 224.64 \nL 89.711023 224.64 \nL 89.711023 47.686126 \nL 83.62375 47.686126 \nz\n\" style=\"fill:#1f77b4;\"/>\n   </g>\n   <g id=\"patch_7\">\n    <path clip-path=\"url(#pae4cc9b377)\" d=\"M 89.711023 224.64 \nL 95.798295 224.64 \nL 95.798295 17.554286 \nL 89.711023 17.554286 \nz\n\" style=\"fill:#1f77b4;\"/>\n   </g>\n   <g id=\"patch_8\">\n    <path clip-path=\"url(#pae4cc9b377)\" d=\"M 95.798295 224.64 \nL 101.885568 224.64 \nL 101.885568 143.332502 \nL 95.798295 143.332502 \nz\n\" style=\"fill:#1f77b4;\"/>\n   </g>\n   <g id=\"patch_9\">\n    <path clip-path=\"url(#pae4cc9b377)\" d=\"M 101.885568 224.64 \nL 107.972841 224.64 \nL 107.972841 116.553132 \nL 101.885568 116.553132 \nz\n\" style=\"fill:#1f77b4;\"/>\n   </g>\n   <g id=\"patch_10\">\n    <path clip-path=\"url(#pae4cc9b377)\" d=\"M 107.972841 224.64 \nL 114.060114 224.64 \nL 114.060114 132.669223 \nL 107.972841 132.669223 \nz\n\" style=\"fill:#1f77b4;\"/>\n   </g>\n   <g id=\"patch_11\">\n    <path clip-path=\"url(#pae4cc9b377)\" d=\"M 114.060114 224.64 \nL 120.147386 224.64 \nL 120.147386 202.465228 \nL 114.060114 202.465228 \nz\n\" style=\"fill:#1f77b4;\"/>\n   </g>\n   <g id=\"patch_12\">\n    <path clip-path=\"url(#pae4cc9b377)\" d=\"M 120.147386 224.64 \nL 126.234659 224.64 \nL 126.234659 186.308745 \nL 120.147386 186.308745 \nz\n\" style=\"fill:#1f77b4;\"/>\n   </g>\n   <g id=\"patch_13\">\n    <path clip-path=\"url(#pae4cc9b377)\" d=\"M 126.234659 224.64 \nL 132.321932 224.64 \nL 132.321932 190.994125 \nL 126.234659 190.994125 \nz\n\" style=\"fill:#1f77b4;\"/>\n   </g>\n   <g id=\"patch_14\">\n    <path clip-path=\"url(#pae4cc9b377)\" d=\"M 132.321932 224.64 \nL 138.409205 224.64 \nL 138.409205 216.198238 \nL 132.321932 216.198238 \nz\n\" style=\"fill:#1f77b4;\"/>\n   </g>\n   <g id=\"patch_15\">\n    <path clip-path=\"url(#pae4cc9b377)\" d=\"M 138.409205 224.64 \nL 144.496477 224.64 \nL 144.496477 214.380634 \nL 138.409205 214.380634 \nz\n\" style=\"fill:#1f77b4;\"/>\n   </g>\n   <g id=\"patch_16\">\n    <path clip-path=\"url(#pae4cc9b377)\" d=\"M 144.496477 224.64 \nL 150.58375 224.64 \nL 150.58375 211.755205 \nL 144.496477 211.755205 \nz\n\" style=\"fill:#1f77b4;\"/>\n   </g>\n   <g id=\"patch_17\">\n    <path clip-path=\"url(#pae4cc9b377)\" d=\"M 150.58375 224.64 \nL 156.671023 224.64 \nL 156.671023 223.751393 \nL 150.58375 223.751393 \nz\n\" style=\"fill:#1f77b4;\"/>\n   </g>\n   <g id=\"patch_18\">\n    <path clip-path=\"url(#pae4cc9b377)\" d=\"M 156.671023 224.64 \nL 162.758295 224.64 \nL 162.758295 222.903178 \nL 156.671023 222.903178 \nz\n\" style=\"fill:#1f77b4;\"/>\n   </g>\n   <g id=\"patch_19\">\n    <path clip-path=\"url(#pae4cc9b377)\" d=\"M 162.758295 224.64 \nL 168.845568 224.64 \nL 168.845568 222.660831 \nL 162.758295 222.660831 \nz\n\" style=\"fill:#1f77b4;\"/>\n   </g>\n   <g id=\"patch_20\">\n    <path clip-path=\"url(#pae4cc9b377)\" d=\"M 168.845568 224.64 \nL 174.932841 224.64 \nL 174.932841 223.670611 \nL 168.845568 223.670611 \nz\n\" style=\"fill:#1f77b4;\"/>\n   </g>\n   <g id=\"patch_21\">\n    <path clip-path=\"url(#pae4cc9b377)\" d=\"M 174.932841 224.64 \nL 181.020114 224.64 \nL 181.020114 223.30709 \nL 174.932841 223.30709 \nz\n\" style=\"fill:#1f77b4;\"/>\n   </g>\n   <g id=\"patch_22\">\n    <path clip-path=\"url(#pae4cc9b377)\" d=\"M 181.020114 224.64 \nL 187.107386 224.64 \nL 187.107386 223.589829 \nL 181.020114 223.589829 \nz\n\" style=\"fill:#1f77b4;\"/>\n   </g>\n   <g id=\"patch_23\">\n    <path clip-path=\"url(#pae4cc9b377)\" d=\"M 187.107386 224.64 \nL 193.194659 224.64 \nL 193.194659 221.125965 \nL 187.107386 221.125965 \nz\n\" style=\"fill:#1f77b4;\"/>\n   </g>\n   <g id=\"patch_24\">\n    <path clip-path=\"url(#pae4cc9b377)\" d=\"M 193.194659 224.64 \nL 199.281932 224.64 \nL 199.281932 224.559218 \nL 193.194659 224.559218 \nz\n\" style=\"fill:#1f77b4;\"/>\n   </g>\n   <g id=\"patch_25\">\n    <path clip-path=\"url(#pae4cc9b377)\" d=\"M 199.281932 224.64 \nL 205.369205 224.64 \nL 205.369205 223.791785 \nL 199.281932 223.791785 \nz\n\" style=\"fill:#1f77b4;\"/>\n   </g>\n   <g id=\"patch_26\">\n    <path clip-path=\"url(#pae4cc9b377)\" d=\"M 205.369205 224.64 \nL 211.456477 224.64 \nL 211.456477 224.276479 \nL 205.369205 224.276479 \nz\n\" style=\"fill:#1f77b4;\"/>\n   </g>\n   <g id=\"patch_27\">\n    <path clip-path=\"url(#pae4cc9b377)\" d=\"M 211.456477 224.64 \nL 217.54375 224.64 \nL 217.54375 224.438044 \nL 211.456477 224.438044 \nz\n\" style=\"fill:#1f77b4;\"/>\n   </g>\n   <g id=\"patch_28\">\n    <path clip-path=\"url(#pae4cc9b377)\" d=\"M 217.54375 224.64 \nL 223.631023 224.64 \nL 223.631023 224.31687 \nL 217.54375 224.31687 \nz\n\" style=\"fill:#1f77b4;\"/>\n   </g>\n   <g id=\"patch_29\">\n    <path clip-path=\"url(#pae4cc9b377)\" d=\"M 223.631023 224.64 \nL 229.718295 224.64 \nL 229.718295 224.64 \nL 223.631023 224.64 \nz\n\" style=\"fill:#1f77b4;\"/>\n   </g>\n   <g id=\"patch_30\">\n    <path clip-path=\"url(#pae4cc9b377)\" d=\"M 229.718295 224.64 \nL 235.805568 224.64 \nL 235.805568 224.64 \nL 229.718295 224.64 \nz\n\" style=\"fill:#1f77b4;\"/>\n   </g>\n   <g id=\"patch_31\">\n    <path clip-path=\"url(#pae4cc9b377)\" d=\"M 235.805568 224.64 \nL 241.892841 224.64 \nL 241.892841 223.105134 \nL 235.805568 223.105134 \nz\n\" style=\"fill:#1f77b4;\"/>\n   </g>\n   <g id=\"patch_32\">\n    <path clip-path=\"url(#pae4cc9b377)\" d=\"M 241.892841 224.64 \nL 247.980114 224.64 \nL 247.980114 224.478435 \nL 241.892841 224.478435 \nz\n\" style=\"fill:#1f77b4;\"/>\n   </g>\n   <g id=\"patch_33\">\n    <path clip-path=\"url(#pae4cc9b377)\" d=\"M 247.980114 224.64 \nL 254.067386 224.64 \nL 254.067386 224.64 \nL 247.980114 224.64 \nz\n\" style=\"fill:#1f77b4;\"/>\n   </g>\n   <g id=\"patch_34\">\n    <path clip-path=\"url(#pae4cc9b377)\" d=\"M 254.067386 224.64 \nL 260.154659 224.64 \nL 260.154659 224.478435 \nL 254.067386 224.478435 \nz\n\" style=\"fill:#1f77b4;\"/>\n   </g>\n   <g id=\"patch_35\">\n    <path clip-path=\"url(#pae4cc9b377)\" d=\"M 260.154659 224.64 \nL 266.241932 224.64 \nL 266.241932 224.64 \nL 260.154659 224.64 \nz\n\" style=\"fill:#1f77b4;\"/>\n   </g>\n   <g id=\"patch_36\">\n    <path clip-path=\"url(#pae4cc9b377)\" d=\"M 266.241932 224.64 \nL 272.329205 224.64 \nL 272.329205 224.64 \nL 266.241932 224.64 \nz\n\" style=\"fill:#1f77b4;\"/>\n   </g>\n   <g id=\"patch_37\">\n    <path clip-path=\"url(#pae4cc9b377)\" d=\"M 272.329205 224.64 \nL 278.416477 224.64 \nL 278.416477 224.64 \nL 272.329205 224.64 \nz\n\" style=\"fill:#1f77b4;\"/>\n   </g>\n   <g id=\"patch_38\">\n    <path clip-path=\"url(#pae4cc9b377)\" d=\"M 278.416477 224.64 \nL 284.50375 224.64 \nL 284.50375 224.518826 \nL 278.416477 224.518826 \nz\n\" style=\"fill:#1f77b4;\"/>\n   </g>\n   <g id=\"patch_39\">\n    <path clip-path=\"url(#pae4cc9b377)\" d=\"M 284.50375 224.64 \nL 290.591023 224.64 \nL 290.591023 224.64 \nL 284.50375 224.64 \nz\n\" style=\"fill:#1f77b4;\"/>\n   </g>\n   <g id=\"patch_40\">\n    <path clip-path=\"url(#pae4cc9b377)\" d=\"M 290.591023 224.64 \nL 296.678295 224.64 \nL 296.678295 224.64 \nL 290.591023 224.64 \nz\n\" style=\"fill:#1f77b4;\"/>\n   </g>\n   <g id=\"patch_41\">\n    <path clip-path=\"url(#pae4cc9b377)\" d=\"M 296.678295 224.64 \nL 302.765568 224.64 \nL 302.765568 224.64 \nL 296.678295 224.64 \nz\n\" style=\"fill:#1f77b4;\"/>\n   </g>\n   <g id=\"patch_42\">\n    <path clip-path=\"url(#pae4cc9b377)\" d=\"M 302.765568 224.64 \nL 308.852841 224.64 \nL 308.852841 224.64 \nL 302.765568 224.64 \nz\n\" style=\"fill:#1f77b4;\"/>\n   </g>\n   <g id=\"patch_43\">\n    <path clip-path=\"url(#pae4cc9b377)\" d=\"M 308.852841 224.64 \nL 314.940114 224.64 \nL 314.940114 224.64 \nL 308.852841 224.64 \nz\n\" style=\"fill:#1f77b4;\"/>\n   </g>\n   <g id=\"patch_44\">\n    <path clip-path=\"url(#pae4cc9b377)\" d=\"M 314.940114 224.64 \nL 321.027386 224.64 \nL 321.027386 224.64 \nL 314.940114 224.64 \nz\n\" style=\"fill:#1f77b4;\"/>\n   </g>\n   <g id=\"patch_45\">\n    <path clip-path=\"url(#pae4cc9b377)\" d=\"M 321.027386 224.64 \nL 327.114659 224.64 \nL 327.114659 224.397653 \nL 321.027386 224.397653 \nz\n\" style=\"fill:#1f77b4;\"/>\n   </g>\n   <g id=\"patch_46\">\n    <path clip-path=\"url(#pae4cc9b377)\" d=\"M 327.114659 224.64 \nL 333.201932 224.64 \nL 333.201932 224.64 \nL 327.114659 224.64 \nz\n\" style=\"fill:#1f77b4;\"/>\n   </g>\n   <g id=\"patch_47\">\n    <path clip-path=\"url(#pae4cc9b377)\" d=\"M 333.201932 224.64 \nL 339.289205 224.64 \nL 339.289205 224.64 \nL 333.201932 224.64 \nz\n\" style=\"fill:#1f77b4;\"/>\n   </g>\n   <g id=\"patch_48\">\n    <path clip-path=\"url(#pae4cc9b377)\" d=\"M 339.289205 224.64 \nL 345.376477 224.64 \nL 345.376477 224.64 \nL 339.289205 224.64 \nz\n\" style=\"fill:#1f77b4;\"/>\n   </g>\n   <g id=\"patch_49\">\n    <path clip-path=\"url(#pae4cc9b377)\" d=\"M 345.376477 224.64 \nL 351.46375 224.64 \nL 351.46375 224.64 \nL 345.376477 224.64 \nz\n\" style=\"fill:#1f77b4;\"/>\n   </g>\n   <g id=\"patch_50\">\n    <path clip-path=\"url(#pae4cc9b377)\" d=\"M 351.46375 224.64 \nL 357.551023 224.64 \nL 357.551023 224.64 \nL 351.46375 224.64 \nz\n\" style=\"fill:#1f77b4;\"/>\n   </g>\n   <g id=\"patch_51\">\n    <path clip-path=\"url(#pae4cc9b377)\" d=\"M 357.551023 224.64 \nL 363.638295 224.64 \nL 363.638295 224.64 \nL 357.551023 224.64 \nz\n\" style=\"fill:#1f77b4;\"/>\n   </g>\n   <g id=\"patch_52\">\n    <path clip-path=\"url(#pae4cc9b377)\" d=\"M 363.638295 224.64 \nL 369.725568 224.64 \nL 369.725568 224.31687 \nL 363.638295 224.31687 \nz\n\" style=\"fill:#1f77b4;\"/>\n   </g>\n   <g id=\"matplotlib.axis_1\">\n    <g id=\"xtick_1\">\n     <g id=\"line2d_1\">\n      <defs>\n       <path d=\"M 0 0 \nL 0 3.5 \n\" id=\"m38986cacbf\" style=\"stroke:#000000;stroke-width:0.8;\"/>\n      </defs>\n      <g>\n       <use style=\"stroke:#000000;stroke-width:0.8;\" x=\"60.053264\" xlink:href=\"#m38986cacbf\" y=\"224.64\"/>\n      </g>\n     </g>\n     <g id=\"text_1\">\n      <!-- 0 -->\n      <defs>\n       <path d=\"M 31.78125 66.40625 \nQ 24.171875 66.40625 20.328125 58.90625 \nQ 16.5 51.421875 16.5 36.375 \nQ 16.5 21.390625 20.328125 13.890625 \nQ 24.171875 6.390625 31.78125 6.390625 \nQ 39.453125 6.390625 43.28125 13.890625 \nQ 47.125 21.390625 47.125 36.375 \nQ 47.125 51.421875 43.28125 58.90625 \nQ 39.453125 66.40625 31.78125 66.40625 \nz\nM 31.78125 74.21875 \nQ 44.046875 74.21875 50.515625 64.515625 \nQ 56.984375 54.828125 56.984375 36.375 \nQ 56.984375 17.96875 50.515625 8.265625 \nQ 44.046875 -1.421875 31.78125 -1.421875 \nQ 19.53125 -1.421875 13.0625 8.265625 \nQ 6.59375 17.96875 6.59375 36.375 \nQ 6.59375 54.828125 13.0625 64.515625 \nQ 19.53125 74.21875 31.78125 74.21875 \nz\n\" id=\"DejaVuSans-48\"/>\n      </defs>\n      <g transform=\"translate(56.872014 239.238437)scale(0.1 -0.1)\">\n       <use xlink:href=\"#DejaVuSans-48\"/>\n      </g>\n     </g>\n    </g>\n    <g id=\"xtick_2\">\n     <g id=\"line2d_2\">\n      <g>\n       <use style=\"stroke:#000000;stroke-width:0.8;\" x=\"99.376731\" xlink:href=\"#m38986cacbf\" y=\"224.64\"/>\n      </g>\n     </g>\n     <g id=\"text_2\">\n      <!-- 20 -->\n      <defs>\n       <path d=\"M 19.1875 8.296875 \nL 53.609375 8.296875 \nL 53.609375 0 \nL 7.328125 0 \nL 7.328125 8.296875 \nQ 12.9375 14.109375 22.625 23.890625 \nQ 32.328125 33.6875 34.8125 36.53125 \nQ 39.546875 41.84375 41.421875 45.53125 \nQ 43.3125 49.21875 43.3125 52.78125 \nQ 43.3125 58.59375 39.234375 62.25 \nQ 35.15625 65.921875 28.609375 65.921875 \nQ 23.96875 65.921875 18.8125 64.3125 \nQ 13.671875 62.703125 7.8125 59.421875 \nL 7.8125 69.390625 \nQ 13.765625 71.78125 18.9375 73 \nQ 24.125 74.21875 28.421875 74.21875 \nQ 39.75 74.21875 46.484375 68.546875 \nQ 53.21875 62.890625 53.21875 53.421875 \nQ 53.21875 48.921875 51.53125 44.890625 \nQ 49.859375 40.875 45.40625 35.40625 \nQ 44.1875 33.984375 37.640625 27.21875 \nQ 31.109375 20.453125 19.1875 8.296875 \nz\n\" id=\"DejaVuSans-50\"/>\n      </defs>\n      <g transform=\"translate(93.014231 239.238437)scale(0.1 -0.1)\">\n       <use xlink:href=\"#DejaVuSans-50\"/>\n       <use x=\"63.623047\" xlink:href=\"#DejaVuSans-48\"/>\n      </g>\n     </g>\n    </g>\n    <g id=\"xtick_3\">\n     <g id=\"line2d_3\">\n      <g>\n       <use style=\"stroke:#000000;stroke-width:0.8;\" x=\"138.700198\" xlink:href=\"#m38986cacbf\" y=\"224.64\"/>\n      </g>\n     </g>\n     <g id=\"text_3\">\n      <!-- 40 -->\n      <defs>\n       <path d=\"M 37.796875 64.3125 \nL 12.890625 25.390625 \nL 37.796875 25.390625 \nz\nM 35.203125 72.90625 \nL 47.609375 72.90625 \nL 47.609375 25.390625 \nL 58.015625 25.390625 \nL 58.015625 17.1875 \nL 47.609375 17.1875 \nL 47.609375 0 \nL 37.796875 0 \nL 37.796875 17.1875 \nL 4.890625 17.1875 \nL 4.890625 26.703125 \nz\n\" id=\"DejaVuSans-52\"/>\n      </defs>\n      <g transform=\"translate(132.337698 239.238437)scale(0.1 -0.1)\">\n       <use xlink:href=\"#DejaVuSans-52\"/>\n       <use x=\"63.623047\" xlink:href=\"#DejaVuSans-48\"/>\n      </g>\n     </g>\n    </g>\n    <g id=\"xtick_4\">\n     <g id=\"line2d_4\">\n      <g>\n       <use style=\"stroke:#000000;stroke-width:0.8;\" x=\"178.023665\" xlink:href=\"#m38986cacbf\" y=\"224.64\"/>\n      </g>\n     </g>\n     <g id=\"text_4\">\n      <!-- 60 -->\n      <defs>\n       <path d=\"M 33.015625 40.375 \nQ 26.375 40.375 22.484375 35.828125 \nQ 18.609375 31.296875 18.609375 23.390625 \nQ 18.609375 15.53125 22.484375 10.953125 \nQ 26.375 6.390625 33.015625 6.390625 \nQ 39.65625 6.390625 43.53125 10.953125 \nQ 47.40625 15.53125 47.40625 23.390625 \nQ 47.40625 31.296875 43.53125 35.828125 \nQ 39.65625 40.375 33.015625 40.375 \nz\nM 52.59375 71.296875 \nL 52.59375 62.3125 \nQ 48.875 64.0625 45.09375 64.984375 \nQ 41.3125 65.921875 37.59375 65.921875 \nQ 27.828125 65.921875 22.671875 59.328125 \nQ 17.53125 52.734375 16.796875 39.40625 \nQ 19.671875 43.65625 24.015625 45.921875 \nQ 28.375 48.1875 33.59375 48.1875 \nQ 44.578125 48.1875 50.953125 41.515625 \nQ 57.328125 34.859375 57.328125 23.390625 \nQ 57.328125 12.15625 50.6875 5.359375 \nQ 44.046875 -1.421875 33.015625 -1.421875 \nQ 20.359375 -1.421875 13.671875 8.265625 \nQ 6.984375 17.96875 6.984375 36.375 \nQ 6.984375 53.65625 15.1875 63.9375 \nQ 23.390625 74.21875 37.203125 74.21875 \nQ 40.921875 74.21875 44.703125 73.484375 \nQ 48.484375 72.75 52.59375 71.296875 \nz\n\" id=\"DejaVuSans-54\"/>\n      </defs>\n      <g transform=\"translate(171.661165 239.238437)scale(0.1 -0.1)\">\n       <use xlink:href=\"#DejaVuSans-54\"/>\n       <use x=\"63.623047\" xlink:href=\"#DejaVuSans-48\"/>\n      </g>\n     </g>\n    </g>\n    <g id=\"xtick_5\">\n     <g id=\"line2d_5\">\n      <g>\n       <use style=\"stroke:#000000;stroke-width:0.8;\" x=\"217.347133\" xlink:href=\"#m38986cacbf\" y=\"224.64\"/>\n      </g>\n     </g>\n     <g id=\"text_5\">\n      <!-- 80 -->\n      <defs>\n       <path d=\"M 31.78125 34.625 \nQ 24.75 34.625 20.71875 30.859375 \nQ 16.703125 27.09375 16.703125 20.515625 \nQ 16.703125 13.921875 20.71875 10.15625 \nQ 24.75 6.390625 31.78125 6.390625 \nQ 38.8125 6.390625 42.859375 10.171875 \nQ 46.921875 13.96875 46.921875 20.515625 \nQ 46.921875 27.09375 42.890625 30.859375 \nQ 38.875 34.625 31.78125 34.625 \nz\nM 21.921875 38.8125 \nQ 15.578125 40.375 12.03125 44.71875 \nQ 8.5 49.078125 8.5 55.328125 \nQ 8.5 64.0625 14.71875 69.140625 \nQ 20.953125 74.21875 31.78125 74.21875 \nQ 42.671875 74.21875 48.875 69.140625 \nQ 55.078125 64.0625 55.078125 55.328125 \nQ 55.078125 49.078125 51.53125 44.71875 \nQ 48 40.375 41.703125 38.8125 \nQ 48.828125 37.15625 52.796875 32.3125 \nQ 56.78125 27.484375 56.78125 20.515625 \nQ 56.78125 9.90625 50.3125 4.234375 \nQ 43.84375 -1.421875 31.78125 -1.421875 \nQ 19.734375 -1.421875 13.25 4.234375 \nQ 6.78125 9.90625 6.78125 20.515625 \nQ 6.78125 27.484375 10.78125 32.3125 \nQ 14.796875 37.15625 21.921875 38.8125 \nz\nM 18.3125 54.390625 \nQ 18.3125 48.734375 21.84375 45.5625 \nQ 25.390625 42.390625 31.78125 42.390625 \nQ 38.140625 42.390625 41.71875 45.5625 \nQ 45.3125 48.734375 45.3125 54.390625 \nQ 45.3125 60.0625 41.71875 63.234375 \nQ 38.140625 66.40625 31.78125 66.40625 \nQ 25.390625 66.40625 21.84375 63.234375 \nQ 18.3125 60.0625 18.3125 54.390625 \nz\n\" id=\"DejaVuSans-56\"/>\n      </defs>\n      <g transform=\"translate(210.984633 239.238437)scale(0.1 -0.1)\">\n       <use xlink:href=\"#DejaVuSans-56\"/>\n       <use x=\"63.623047\" xlink:href=\"#DejaVuSans-48\"/>\n      </g>\n     </g>\n    </g>\n    <g id=\"xtick_6\">\n     <g id=\"line2d_6\">\n      <g>\n       <use style=\"stroke:#000000;stroke-width:0.8;\" x=\"256.6706\" xlink:href=\"#m38986cacbf\" y=\"224.64\"/>\n      </g>\n     </g>\n     <g id=\"text_6\">\n      <!-- 100 -->\n      <defs>\n       <path d=\"M 12.40625 8.296875 \nL 28.515625 8.296875 \nL 28.515625 63.921875 \nL 10.984375 60.40625 \nL 10.984375 69.390625 \nL 28.421875 72.90625 \nL 38.28125 72.90625 \nL 38.28125 8.296875 \nL 54.390625 8.296875 \nL 54.390625 0 \nL 12.40625 0 \nz\n\" id=\"DejaVuSans-49\"/>\n      </defs>\n      <g transform=\"translate(247.12685 239.238437)scale(0.1 -0.1)\">\n       <use xlink:href=\"#DejaVuSans-49\"/>\n       <use x=\"63.623047\" xlink:href=\"#DejaVuSans-48\"/>\n       <use x=\"127.246094\" xlink:href=\"#DejaVuSans-48\"/>\n      </g>\n     </g>\n    </g>\n    <g id=\"xtick_7\">\n     <g id=\"line2d_7\">\n      <g>\n       <use style=\"stroke:#000000;stroke-width:0.8;\" x=\"295.994067\" xlink:href=\"#m38986cacbf\" y=\"224.64\"/>\n      </g>\n     </g>\n     <g id=\"text_7\">\n      <!-- 120 -->\n      <g transform=\"translate(286.450317 239.238437)scale(0.1 -0.1)\">\n       <use xlink:href=\"#DejaVuSans-49\"/>\n       <use x=\"63.623047\" xlink:href=\"#DejaVuSans-50\"/>\n       <use x=\"127.246094\" xlink:href=\"#DejaVuSans-48\"/>\n      </g>\n     </g>\n    </g>\n    <g id=\"xtick_8\">\n     <g id=\"line2d_8\">\n      <g>\n       <use style=\"stroke:#000000;stroke-width:0.8;\" x=\"335.317534\" xlink:href=\"#m38986cacbf\" y=\"224.64\"/>\n      </g>\n     </g>\n     <g id=\"text_8\">\n      <!-- 140 -->\n      <g transform=\"translate(325.773784 239.238437)scale(0.1 -0.1)\">\n       <use xlink:href=\"#DejaVuSans-49\"/>\n       <use x=\"63.623047\" xlink:href=\"#DejaVuSans-52\"/>\n       <use x=\"127.246094\" xlink:href=\"#DejaVuSans-48\"/>\n      </g>\n     </g>\n    </g>\n    <g id=\"xtick_9\">\n     <g id=\"line2d_9\">\n      <g>\n       <use style=\"stroke:#000000;stroke-width:0.8;\" x=\"374.641002\" xlink:href=\"#m38986cacbf\" y=\"224.64\"/>\n      </g>\n     </g>\n     <g id=\"text_9\">\n      <!-- 160 -->\n      <g transform=\"translate(365.097252 239.238437)scale(0.1 -0.1)\">\n       <use xlink:href=\"#DejaVuSans-49\"/>\n       <use x=\"63.623047\" xlink:href=\"#DejaVuSans-54\"/>\n       <use x=\"127.246094\" xlink:href=\"#DejaVuSans-48\"/>\n      </g>\n     </g>\n    </g>\n   </g>\n   <g id=\"matplotlib.axis_2\">\n    <g id=\"ytick_1\">\n     <g id=\"line2d_10\">\n      <defs>\n       <path d=\"M 0 0 \nL -3.5 0 \n\" id=\"m70600744d8\" style=\"stroke:#000000;stroke-width:0.8;\"/>\n      </defs>\n      <g>\n       <use style=\"stroke:#000000;stroke-width:0.8;\" x=\"50.14375\" xlink:href=\"#m70600744d8\" y=\"224.64\"/>\n      </g>\n     </g>\n     <g id=\"text_10\">\n      <!-- 0.00 -->\n      <defs>\n       <path d=\"M 10.6875 12.40625 \nL 21 12.40625 \nL 21 0 \nL 10.6875 0 \nz\n\" id=\"DejaVuSans-46\"/>\n      </defs>\n      <g transform=\"translate(20.878125 228.439219)scale(0.1 -0.1)\">\n       <use xlink:href=\"#DejaVuSans-48\"/>\n       <use x=\"63.623047\" xlink:href=\"#DejaVuSans-46\"/>\n       <use x=\"95.410156\" xlink:href=\"#DejaVuSans-48\"/>\n       <use x=\"159.033203\" xlink:href=\"#DejaVuSans-48\"/>\n      </g>\n     </g>\n    </g>\n    <g id=\"ytick_2\">\n     <g id=\"line2d_11\">\n      <g>\n       <use style=\"stroke:#000000;stroke-width:0.8;\" x=\"50.14375\" xlink:href=\"#m70600744d8\" y=\"193.209638\"/>\n      </g>\n     </g>\n     <g id=\"text_11\">\n      <!-- 0.01 -->\n      <g transform=\"translate(20.878125 197.008857)scale(0.1 -0.1)\">\n       <use xlink:href=\"#DejaVuSans-48\"/>\n       <use x=\"63.623047\" xlink:href=\"#DejaVuSans-46\"/>\n       <use x=\"95.410156\" xlink:href=\"#DejaVuSans-48\"/>\n       <use x=\"159.033203\" xlink:href=\"#DejaVuSans-49\"/>\n      </g>\n     </g>\n    </g>\n    <g id=\"ytick_3\">\n     <g id=\"line2d_12\">\n      <g>\n       <use style=\"stroke:#000000;stroke-width:0.8;\" x=\"50.14375\" xlink:href=\"#m70600744d8\" y=\"161.779276\"/>\n      </g>\n     </g>\n     <g id=\"text_12\">\n      <!-- 0.02 -->\n      <g transform=\"translate(20.878125 165.578494)scale(0.1 -0.1)\">\n       <use xlink:href=\"#DejaVuSans-48\"/>\n       <use x=\"63.623047\" xlink:href=\"#DejaVuSans-46\"/>\n       <use x=\"95.410156\" xlink:href=\"#DejaVuSans-48\"/>\n       <use x=\"159.033203\" xlink:href=\"#DejaVuSans-50\"/>\n      </g>\n     </g>\n    </g>\n    <g id=\"ytick_4\">\n     <g id=\"line2d_13\">\n      <g>\n       <use style=\"stroke:#000000;stroke-width:0.8;\" x=\"50.14375\" xlink:href=\"#m70600744d8\" y=\"130.348913\"/>\n      </g>\n     </g>\n     <g id=\"text_13\">\n      <!-- 0.03 -->\n      <defs>\n       <path d=\"M 40.578125 39.3125 \nQ 47.65625 37.796875 51.625 33 \nQ 55.609375 28.21875 55.609375 21.1875 \nQ 55.609375 10.40625 48.1875 4.484375 \nQ 40.765625 -1.421875 27.09375 -1.421875 \nQ 22.515625 -1.421875 17.65625 -0.515625 \nQ 12.796875 0.390625 7.625 2.203125 \nL 7.625 11.71875 \nQ 11.71875 9.328125 16.59375 8.109375 \nQ 21.484375 6.890625 26.8125 6.890625 \nQ 36.078125 6.890625 40.9375 10.546875 \nQ 45.796875 14.203125 45.796875 21.1875 \nQ 45.796875 27.640625 41.28125 31.265625 \nQ 36.765625 34.90625 28.71875 34.90625 \nL 20.21875 34.90625 \nL 20.21875 43.015625 \nL 29.109375 43.015625 \nQ 36.375 43.015625 40.234375 45.921875 \nQ 44.09375 48.828125 44.09375 54.296875 \nQ 44.09375 59.90625 40.109375 62.90625 \nQ 36.140625 65.921875 28.71875 65.921875 \nQ 24.65625 65.921875 20.015625 65.03125 \nQ 15.375 64.15625 9.8125 62.3125 \nL 9.8125 71.09375 \nQ 15.4375 72.65625 20.34375 73.4375 \nQ 25.25 74.21875 29.59375 74.21875 \nQ 40.828125 74.21875 47.359375 69.109375 \nQ 53.90625 64.015625 53.90625 55.328125 \nQ 53.90625 49.265625 50.4375 45.09375 \nQ 46.96875 40.921875 40.578125 39.3125 \nz\n\" id=\"DejaVuSans-51\"/>\n      </defs>\n      <g transform=\"translate(20.878125 134.148132)scale(0.1 -0.1)\">\n       <use xlink:href=\"#DejaVuSans-48\"/>\n       <use x=\"63.623047\" xlink:href=\"#DejaVuSans-46\"/>\n       <use x=\"95.410156\" xlink:href=\"#DejaVuSans-48\"/>\n       <use x=\"159.033203\" xlink:href=\"#DejaVuSans-51\"/>\n      </g>\n     </g>\n    </g>\n    <g id=\"ytick_5\">\n     <g id=\"line2d_14\">\n      <g>\n       <use style=\"stroke:#000000;stroke-width:0.8;\" x=\"50.14375\" xlink:href=\"#m70600744d8\" y=\"98.918551\"/>\n      </g>\n     </g>\n     <g id=\"text_14\">\n      <!-- 0.04 -->\n      <g transform=\"translate(20.878125 102.71777)scale(0.1 -0.1)\">\n       <use xlink:href=\"#DejaVuSans-48\"/>\n       <use x=\"63.623047\" xlink:href=\"#DejaVuSans-46\"/>\n       <use x=\"95.410156\" xlink:href=\"#DejaVuSans-48\"/>\n       <use x=\"159.033203\" xlink:href=\"#DejaVuSans-52\"/>\n      </g>\n     </g>\n    </g>\n    <g id=\"ytick_6\">\n     <g id=\"line2d_15\">\n      <g>\n       <use style=\"stroke:#000000;stroke-width:0.8;\" x=\"50.14375\" xlink:href=\"#m70600744d8\" y=\"67.488189\"/>\n      </g>\n     </g>\n     <g id=\"text_15\">\n      <!-- 0.05 -->\n      <defs>\n       <path d=\"M 10.796875 72.90625 \nL 49.515625 72.90625 \nL 49.515625 64.59375 \nL 19.828125 64.59375 \nL 19.828125 46.734375 \nQ 21.96875 47.46875 24.109375 47.828125 \nQ 26.265625 48.1875 28.421875 48.1875 \nQ 40.625 48.1875 47.75 41.5 \nQ 54.890625 34.8125 54.890625 23.390625 \nQ 54.890625 11.625 47.5625 5.09375 \nQ 40.234375 -1.421875 26.90625 -1.421875 \nQ 22.3125 -1.421875 17.546875 -0.640625 \nQ 12.796875 0.140625 7.71875 1.703125 \nL 7.71875 11.625 \nQ 12.109375 9.234375 16.796875 8.0625 \nQ 21.484375 6.890625 26.703125 6.890625 \nQ 35.15625 6.890625 40.078125 11.328125 \nQ 45.015625 15.765625 45.015625 23.390625 \nQ 45.015625 31 40.078125 35.4375 \nQ 35.15625 39.890625 26.703125 39.890625 \nQ 22.75 39.890625 18.8125 39.015625 \nQ 14.890625 38.140625 10.796875 36.28125 \nz\n\" id=\"DejaVuSans-53\"/>\n      </defs>\n      <g transform=\"translate(20.878125 71.287408)scale(0.1 -0.1)\">\n       <use xlink:href=\"#DejaVuSans-48\"/>\n       <use x=\"63.623047\" xlink:href=\"#DejaVuSans-46\"/>\n       <use x=\"95.410156\" xlink:href=\"#DejaVuSans-48\"/>\n       <use x=\"159.033203\" xlink:href=\"#DejaVuSans-53\"/>\n      </g>\n     </g>\n    </g>\n    <g id=\"ytick_7\">\n     <g id=\"line2d_16\">\n      <g>\n       <use style=\"stroke:#000000;stroke-width:0.8;\" x=\"50.14375\" xlink:href=\"#m70600744d8\" y=\"36.057827\"/>\n      </g>\n     </g>\n     <g id=\"text_16\">\n      <!-- 0.06 -->\n      <g transform=\"translate(20.878125 39.857046)scale(0.1 -0.1)\">\n       <use xlink:href=\"#DejaVuSans-48\"/>\n       <use x=\"63.623047\" xlink:href=\"#DejaVuSans-46\"/>\n       <use x=\"95.410156\" xlink:href=\"#DejaVuSans-48\"/>\n       <use x=\"159.033203\" xlink:href=\"#DejaVuSans-54\"/>\n      </g>\n     </g>\n    </g>\n    <g id=\"text_17\">\n     <!-- Frequency -->\n     <defs>\n      <path d=\"M 9.8125 72.90625 \nL 51.703125 72.90625 \nL 51.703125 64.59375 \nL 19.671875 64.59375 \nL 19.671875 43.109375 \nL 48.578125 43.109375 \nL 48.578125 34.8125 \nL 19.671875 34.8125 \nL 19.671875 0 \nL 9.8125 0 \nz\n\" id=\"DejaVuSans-70\"/>\n      <path d=\"M 41.109375 46.296875 \nQ 39.59375 47.171875 37.8125 47.578125 \nQ 36.03125 48 33.890625 48 \nQ 26.265625 48 22.1875 43.046875 \nQ 18.109375 38.09375 18.109375 28.8125 \nL 18.109375 0 \nL 9.078125 0 \nL 9.078125 54.6875 \nL 18.109375 54.6875 \nL 18.109375 46.1875 \nQ 20.953125 51.171875 25.484375 53.578125 \nQ 30.03125 56 36.53125 56 \nQ 37.453125 56 38.578125 55.875 \nQ 39.703125 55.765625 41.0625 55.515625 \nz\n\" id=\"DejaVuSans-114\"/>\n      <path d=\"M 56.203125 29.59375 \nL 56.203125 25.203125 \nL 14.890625 25.203125 \nQ 15.484375 15.921875 20.484375 11.0625 \nQ 25.484375 6.203125 34.421875 6.203125 \nQ 39.59375 6.203125 44.453125 7.46875 \nQ 49.3125 8.734375 54.109375 11.28125 \nL 54.109375 2.78125 \nQ 49.265625 0.734375 44.1875 -0.34375 \nQ 39.109375 -1.421875 33.890625 -1.421875 \nQ 20.796875 -1.421875 13.15625 6.1875 \nQ 5.515625 13.8125 5.515625 26.8125 \nQ 5.515625 40.234375 12.765625 48.109375 \nQ 20.015625 56 32.328125 56 \nQ 43.359375 56 49.78125 48.890625 \nQ 56.203125 41.796875 56.203125 29.59375 \nz\nM 47.21875 32.234375 \nQ 47.125 39.59375 43.09375 43.984375 \nQ 39.0625 48.390625 32.421875 48.390625 \nQ 24.90625 48.390625 20.390625 44.140625 \nQ 15.875 39.890625 15.1875 32.171875 \nz\n\" id=\"DejaVuSans-101\"/>\n      <path d=\"M 14.796875 27.296875 \nQ 14.796875 17.390625 18.875 11.75 \nQ 22.953125 6.109375 30.078125 6.109375 \nQ 37.203125 6.109375 41.296875 11.75 \nQ 45.40625 17.390625 45.40625 27.296875 \nQ 45.40625 37.203125 41.296875 42.84375 \nQ 37.203125 48.484375 30.078125 48.484375 \nQ 22.953125 48.484375 18.875 42.84375 \nQ 14.796875 37.203125 14.796875 27.296875 \nz\nM 45.40625 8.203125 \nQ 42.578125 3.328125 38.25 0.953125 \nQ 33.9375 -1.421875 27.875 -1.421875 \nQ 17.96875 -1.421875 11.734375 6.484375 \nQ 5.515625 14.40625 5.515625 27.296875 \nQ 5.515625 40.1875 11.734375 48.09375 \nQ 17.96875 56 27.875 56 \nQ 33.9375 56 38.25 53.625 \nQ 42.578125 51.265625 45.40625 46.390625 \nL 45.40625 54.6875 \nL 54.390625 54.6875 \nL 54.390625 -20.796875 \nL 45.40625 -20.796875 \nz\n\" id=\"DejaVuSans-113\"/>\n      <path d=\"M 8.5 21.578125 \nL 8.5 54.6875 \nL 17.484375 54.6875 \nL 17.484375 21.921875 \nQ 17.484375 14.15625 20.5 10.265625 \nQ 23.53125 6.390625 29.59375 6.390625 \nQ 36.859375 6.390625 41.078125 11.03125 \nQ 45.3125 15.671875 45.3125 23.6875 \nL 45.3125 54.6875 \nL 54.296875 54.6875 \nL 54.296875 0 \nL 45.3125 0 \nL 45.3125 8.40625 \nQ 42.046875 3.421875 37.71875 1 \nQ 33.40625 -1.421875 27.6875 -1.421875 \nQ 18.265625 -1.421875 13.375 4.4375 \nQ 8.5 10.296875 8.5 21.578125 \nz\nM 31.109375 56 \nz\n\" id=\"DejaVuSans-117\"/>\n      <path d=\"M 54.890625 33.015625 \nL 54.890625 0 \nL 45.90625 0 \nL 45.90625 32.71875 \nQ 45.90625 40.484375 42.875 44.328125 \nQ 39.84375 48.1875 33.796875 48.1875 \nQ 26.515625 48.1875 22.3125 43.546875 \nQ 18.109375 38.921875 18.109375 30.90625 \nL 18.109375 0 \nL 9.078125 0 \nL 9.078125 54.6875 \nL 18.109375 54.6875 \nL 18.109375 46.1875 \nQ 21.34375 51.125 25.703125 53.5625 \nQ 30.078125 56 35.796875 56 \nQ 45.21875 56 50.046875 50.171875 \nQ 54.890625 44.34375 54.890625 33.015625 \nz\n\" id=\"DejaVuSans-110\"/>\n      <path d=\"M 48.78125 52.59375 \nL 48.78125 44.1875 \nQ 44.96875 46.296875 41.140625 47.34375 \nQ 37.3125 48.390625 33.40625 48.390625 \nQ 24.65625 48.390625 19.8125 42.84375 \nQ 14.984375 37.3125 14.984375 27.296875 \nQ 14.984375 17.28125 19.8125 11.734375 \nQ 24.65625 6.203125 33.40625 6.203125 \nQ 37.3125 6.203125 41.140625 7.25 \nQ 44.96875 8.296875 48.78125 10.40625 \nL 48.78125 2.09375 \nQ 45.015625 0.34375 40.984375 -0.53125 \nQ 36.96875 -1.421875 32.421875 -1.421875 \nQ 20.0625 -1.421875 12.78125 6.34375 \nQ 5.515625 14.109375 5.515625 27.296875 \nQ 5.515625 40.671875 12.859375 48.328125 \nQ 20.21875 56 33.015625 56 \nQ 37.15625 56 41.109375 55.140625 \nQ 45.0625 54.296875 48.78125 52.59375 \nz\n\" id=\"DejaVuSans-99\"/>\n      <path d=\"M 32.171875 -5.078125 \nQ 28.375 -14.84375 24.75 -17.8125 \nQ 21.140625 -20.796875 15.09375 -20.796875 \nL 7.90625 -20.796875 \nL 7.90625 -13.28125 \nL 13.1875 -13.28125 \nQ 16.890625 -13.28125 18.9375 -11.515625 \nQ 21 -9.765625 23.484375 -3.21875 \nL 25.09375 0.875 \nL 2.984375 54.6875 \nL 12.5 54.6875 \nL 29.59375 11.921875 \nL 46.6875 54.6875 \nL 56.203125 54.6875 \nz\n\" id=\"DejaVuSans-121\"/>\n     </defs>\n     <g transform=\"translate(14.798438 141.749687)rotate(-90)scale(0.1 -0.1)\">\n      <use xlink:href=\"#DejaVuSans-70\"/>\n      <use x=\"50.269531\" xlink:href=\"#DejaVuSans-114\"/>\n      <use x=\"89.132812\" xlink:href=\"#DejaVuSans-101\"/>\n      <use x=\"150.65625\" xlink:href=\"#DejaVuSans-113\"/>\n      <use x=\"214.132812\" xlink:href=\"#DejaVuSans-117\"/>\n      <use x=\"277.511719\" xlink:href=\"#DejaVuSans-101\"/>\n      <use x=\"339.035156\" xlink:href=\"#DejaVuSans-110\"/>\n      <use x=\"402.414062\" xlink:href=\"#DejaVuSans-99\"/>\n      <use x=\"457.394531\" xlink:href=\"#DejaVuSans-121\"/>\n     </g>\n    </g>\n   </g>\n   <g id=\"patch_53\">\n    <path d=\"M 50.14375 224.64 \nL 50.14375 7.2 \n\" style=\"fill:none;stroke:#000000;stroke-linecap:square;stroke-linejoin:miter;stroke-width:0.8;\"/>\n   </g>\n   <g id=\"patch_54\">\n    <path d=\"M 384.94375 224.64 \nL 384.94375 7.2 \n\" style=\"fill:none;stroke:#000000;stroke-linecap:square;stroke-linejoin:miter;stroke-width:0.8;\"/>\n   </g>\n   <g id=\"patch_55\">\n    <path d=\"M 50.14375 224.64 \nL 384.94375 224.64 \n\" style=\"fill:none;stroke:#000000;stroke-linecap:square;stroke-linejoin:miter;stroke-width:0.8;\"/>\n   </g>\n   <g id=\"patch_56\">\n    <path d=\"M 50.14375 7.2 \nL 384.94375 7.2 \n\" style=\"fill:none;stroke:#000000;stroke-linecap:square;stroke-linejoin:miter;stroke-width:0.8;\"/>\n   </g>\n  </g>\n </g>\n <defs>\n  <clipPath id=\"pae4cc9b377\">\n   <rect height=\"217.44\" width=\"334.8\" x=\"50.14375\" y=\"7.2\"/>\n  </clipPath>\n </defs>\n</svg>\n"
          },
          "metadata": {}
        }
      ]
    },
    {
      "cell_type": "code",
      "metadata": {
        "id": "0esbGUww63aM",
        "colab": {
          "base_uri": "https://localhost:8080/"
        },
        "outputId": "4330678a-8095-40fb-e47b-55d8e256a677"
      },
      "source": [
        "new_data = get_category(new_data,'inc', 3, [\"low\",\"medium\", \"high\"], qcut = True)\n",
        "iv, data = calc_iv(new_data,'gp_inc','target')\n",
        "ivtable.loc[ivtable['variable']=='inc','IV']=iv\n",
        "data.head()"
      ],
      "execution_count": null,
      "outputs": [
        {
          "output_type": "stream",
          "name": "stdout",
          "text": [
            "El IV de esta variable es: 0.0024219962221596752\n",
            "low       8996\n",
            "high      8244\n",
            "medium    7894\n",
            "Name: gp_inc, dtype: int64\n"
          ]
        },
        {
          "output_type": "execute_result",
          "data": {
            "text/html": [
              "<div>\n",
              "<style scoped>\n",
              "    .dataframe tbody tr th:only-of-type {\n",
              "        vertical-align: middle;\n",
              "    }\n",
              "\n",
              "    .dataframe tbody tr th {\n",
              "        vertical-align: top;\n",
              "    }\n",
              "\n",
              "    .dataframe thead th {\n",
              "        text-align: right;\n",
              "    }\n",
              "</style>\n",
              "<table border=\"1\" class=\"dataframe\">\n",
              "  <thead>\n",
              "    <tr style=\"text-align: right;\">\n",
              "      <th></th>\n",
              "      <th>Variable</th>\n",
              "      <th>Value</th>\n",
              "      <th>All</th>\n",
              "      <th>Good</th>\n",
              "      <th>Bad</th>\n",
              "      <th>Share</th>\n",
              "      <th>Bad Rate</th>\n",
              "      <th>Distribution Good</th>\n",
              "      <th>Distribution Bad</th>\n",
              "      <th>WoE</th>\n",
              "      <th>IV</th>\n",
              "    </tr>\n",
              "  </thead>\n",
              "  <tbody>\n",
              "    <tr>\n",
              "      <th>0</th>\n",
              "      <td>gp_inc</td>\n",
              "      <td>high</td>\n",
              "      <td>8244</td>\n",
              "      <td>8096</td>\n",
              "      <td>148</td>\n",
              "      <td>0.328002</td>\n",
              "      <td>0.017952</td>\n",
              "      <td>0.327614</td>\n",
              "      <td>0.350711</td>\n",
              "      <td>-0.068126</td>\n",
              "      <td>0.001573</td>\n",
              "    </tr>\n",
              "    <tr>\n",
              "      <th>1</th>\n",
              "      <td>gp_inc</td>\n",
              "      <td>low</td>\n",
              "      <td>8996</td>\n",
              "      <td>8849</td>\n",
              "      <td>147</td>\n",
              "      <td>0.357922</td>\n",
              "      <td>0.016341</td>\n",
              "      <td>0.358085</td>\n",
              "      <td>0.348341</td>\n",
              "      <td>0.027588</td>\n",
              "      <td>0.000269</td>\n",
              "    </tr>\n",
              "    <tr>\n",
              "      <th>2</th>\n",
              "      <td>gp_inc</td>\n",
              "      <td>medium</td>\n",
              "      <td>7894</td>\n",
              "      <td>7767</td>\n",
              "      <td>127</td>\n",
              "      <td>0.314077</td>\n",
              "      <td>0.016088</td>\n",
              "      <td>0.314301</td>\n",
              "      <td>0.300948</td>\n",
              "      <td>0.043413</td>\n",
              "      <td>0.000580</td>\n",
              "    </tr>\n",
              "  </tbody>\n",
              "</table>\n",
              "</div>"
            ],
            "text/plain": [
              "  Variable   Value   All  ...  Distribution Bad       WoE        IV\n",
              "0   gp_inc    high  8244  ...          0.350711 -0.068126  0.001573\n",
              "1   gp_inc     low  8996  ...          0.348341  0.027588  0.000269\n",
              "2   gp_inc  medium  7894  ...          0.300948  0.043413  0.000580\n",
              "\n",
              "[3 rows x 11 columns]"
            ]
          },
          "metadata": {},
          "execution_count": 31
        }
      ]
    },
    {
      "cell_type": "code",
      "metadata": {
        "id": "wybAUEXy63aM"
      },
      "source": [
        "new_data = convert_dummy(new_data,'gp_inc')"
      ],
      "execution_count": null,
      "outputs": []
    },
    {
      "cell_type": "markdown",
      "metadata": {
        "id": "mHdUVIha63aN"
      },
      "source": [
        "#### Edad"
      ]
    },
    {
      "cell_type": "code",
      "metadata": {
        "scrolled": false,
        "id": "WbZo5Iku63aO",
        "colab": {
          "base_uri": "https://localhost:8080/"
        },
        "outputId": "fd489308-4375-43bd-8ee6-f8bddba61c19"
      },
      "source": [
        "new_data['Age']=-(new_data['DAYS_BIRTH'])//365\t\n",
        "print(new_data['Age'].value_counts(bins=10,normalize=True,sort=False))"
      ],
      "execution_count": null,
      "outputs": [
        {
          "output_type": "stream",
          "name": "stdout",
          "text": [
            "(19.951999999999998, 24.7]    0.025066\n",
            "(24.7, 29.4]                  0.134280\n",
            "(29.4, 34.1]                  0.169770\n",
            "(34.1, 38.8]                  0.140805\n",
            "(38.8, 43.5]                  0.173072\n",
            "(43.5, 48.2]                  0.141880\n",
            "(48.2, 52.9]                  0.099069\n",
            "(52.9, 57.6]                  0.076550\n",
            "(57.6, 62.3]                  0.032585\n",
            "(62.3, 67.0]                  0.006923\n",
            "Name: Age, dtype: float64\n"
          ]
        }
      ]
    },
    {
      "cell_type": "code",
      "metadata": {
        "id": "4RFax5GO63aO",
        "colab": {
          "base_uri": "https://localhost:8080/"
        },
        "outputId": "95e6c2c6-701f-4a6a-d987-e71603305e06"
      },
      "source": [
        "new_data['Age'].plot(kind='hist',bins=20,density=True)"
      ],
      "execution_count": null,
      "outputs": [
        {
          "output_type": "execute_result",
          "data": {
            "text/plain": [
              "<matplotlib.axes._subplots.AxesSubplot at 0x7f83e14db750>"
            ]
          },
          "metadata": {},
          "execution_count": 34
        },
        {
          "output_type": "display_data",
          "data": {
            "text/plain": [
              "<Figure size 432x288 with 1 Axes>"
            ],
            "image/svg+xml": "<?xml version=\"1.0\" encoding=\"utf-8\" standalone=\"no\"?>\n<!DOCTYPE svg PUBLIC \"-//W3C//DTD SVG 1.1//EN\"\n  \"http://www.w3.org/Graphics/SVG/1.1/DTD/svg11.dtd\">\n<!-- Created with matplotlib (https://matplotlib.org/) -->\n<svg height=\"248.518125pt\" version=\"1.1\" viewBox=\"0 0 392.14375 248.518125\" width=\"392.14375pt\" xmlns=\"http://www.w3.org/2000/svg\" xmlns:xlink=\"http://www.w3.org/1999/xlink\">\n <defs>\n  <style type=\"text/css\">\n*{stroke-linecap:butt;stroke-linejoin:round;}\n  </style>\n </defs>\n <g id=\"figure_1\">\n  <g id=\"patch_1\">\n   <path d=\"M 0 248.518125 \nL 392.14375 248.518125 \nL 392.14375 0 \nL 0 0 \nz\n\" style=\"fill:#ffffff;\"/>\n  </g>\n  <g id=\"axes_1\">\n   <g id=\"patch_2\">\n    <path d=\"M 50.14375 224.64 \nL 384.94375 224.64 \nL 384.94375 7.2 \nL 50.14375 7.2 \nz\n\" style=\"fill:#ffffff;\"/>\n   </g>\n   <g id=\"patch_3\">\n    <path clip-path=\"url(#pa45f8bc041)\" d=\"M 65.361932 224.64 \nL 80.580114 224.64 \nL 80.580114 214.620967 \nL 65.361932 214.620967 \nz\n\" style=\"fill:#1f77b4;\"/>\n   </g>\n   <g id=\"patch_4\">\n    <path clip-path=\"url(#pa45f8bc041)\" d=\"M 80.580114 224.64 \nL 95.798295 224.64 \nL 95.798295 186.105256 \nL 80.580114 186.105256 \nz\n\" style=\"fill:#1f77b4;\"/>\n   </g>\n   <g id=\"patch_5\">\n    <path clip-path=\"url(#pa45f8bc041)\" d=\"M 95.798295 224.64 \nL 111.016477 224.64 \nL 111.016477 95.317399 \nL 95.798295 95.317399 \nz\n\" style=\"fill:#1f77b4;\"/>\n   </g>\n   <g id=\"patch_6\">\n    <path clip-path=\"url(#pa45f8bc041)\" d=\"M 111.016477 224.64 \nL 126.234659 224.64 \nL 126.234659 93.853079 \nL 111.016477 93.853079 \nz\n\" style=\"fill:#1f77b4;\"/>\n   </g>\n   <g id=\"patch_7\">\n    <path clip-path=\"url(#pa45f8bc041)\" d=\"M 126.234659 224.64 \nL 141.452841 224.64 \nL 141.452841 99.093804 \nL 126.234659 99.093804 \nz\n\" style=\"fill:#1f77b4;\"/>\n   </g>\n   <g id=\"patch_8\">\n    <path clip-path=\"url(#pa45f8bc041)\" d=\"M 141.452841 224.64 \nL 156.671023 224.64 \nL 156.671023 21.330691 \nL 141.452841 21.330691 \nz\n\" style=\"fill:#1f77b4;\"/>\n   </g>\n   <g id=\"patch_9\">\n    <path clip-path=\"url(#pa45f8bc041)\" d=\"M 156.671023 224.64 \nL 171.889205 224.64 \nL 171.889205 100.866402 \nL 156.671023 100.866402 \nz\n\" style=\"fill:#1f77b4;\"/>\n   </g>\n   <g id=\"patch_10\">\n    <path clip-path=\"url(#pa45f8bc041)\" d=\"M 171.889205 224.64 \nL 187.107386 224.64 \nL 187.107386 75.66468 \nL 171.889205 75.66468 \nz\n\" style=\"fill:#1f77b4;\"/>\n   </g>\n   <g id=\"patch_11\">\n    <path clip-path=\"url(#pa45f8bc041)\" d=\"M 187.107386 224.64 \nL 202.325568 224.64 \nL 202.325568 17.554286 \nL 187.107386 17.554286 \nz\n\" style=\"fill:#1f77b4;\"/>\n   </g>\n   <g id=\"patch_12\">\n    <path clip-path=\"url(#pa45f8bc041)\" d=\"M 202.325568 224.64 \nL 217.54375 224.64 \nL 217.54375 96.473441 \nL 202.325568 96.473441 \nz\n\" style=\"fill:#1f77b4;\"/>\n   </g>\n   <g id=\"patch_13\">\n    <path clip-path=\"url(#pa45f8bc041)\" d=\"M 217.54375 224.64 \nL 232.761932 224.64 \nL 232.761932 115.047188 \nL 217.54375 115.047188 \nz\n\" style=\"fill:#1f77b4;\"/>\n   </g>\n   <g id=\"patch_14\">\n    <path clip-path=\"url(#pa45f8bc041)\" d=\"M 232.761932 224.64 \nL 247.980114 224.64 \nL 247.980114 59.403018 \nL 232.761932 59.403018 \nz\n\" style=\"fill:#1f77b4;\"/>\n   </g>\n   <g id=\"patch_15\">\n    <path clip-path=\"url(#pa45f8bc041)\" d=\"M 247.980114 224.64 \nL 263.198295 224.64 \nL 263.198295 125.451569 \nL 247.980114 125.451569 \nz\n\" style=\"fill:#1f77b4;\"/>\n   </g>\n   <g id=\"patch_16\">\n    <path clip-path=\"url(#pa45f8bc041)\" d=\"M 263.198295 224.64 \nL 278.416477 224.64 \nL 278.416477 131.925406 \nL 263.198295 131.925406 \nz\n\" style=\"fill:#1f77b4;\"/>\n   </g>\n   <g id=\"patch_17\">\n    <path clip-path=\"url(#pa45f8bc041)\" d=\"M 278.416477 224.64 \nL 293.634659 224.64 \nL 293.634659 120.981539 \nL 278.416477 120.981539 \nz\n\" style=\"fill:#1f77b4;\"/>\n   </g>\n   <g id=\"patch_18\">\n    <path clip-path=\"url(#pa45f8bc041)\" d=\"M 293.634659 224.64 \nL 308.852841 224.64 \nL 308.852841 180.016766 \nL 293.634659 180.016766 \nz\n\" style=\"fill:#1f77b4;\"/>\n   </g>\n   <g id=\"patch_19\">\n    <path clip-path=\"url(#pa45f8bc041)\" d=\"M 308.852841 224.64 \nL 324.071023 224.64 \nL 324.071023 189.881661 \nL 308.852841 189.881661 \nz\n\" style=\"fill:#1f77b4;\"/>\n   </g>\n   <g id=\"patch_20\">\n    <path clip-path=\"url(#pa45f8bc041)\" d=\"M 324.071023 224.64 \nL 339.289205 224.64 \nL 339.289205 196.278428 \nL 324.071023 196.278428 \nz\n\" style=\"fill:#1f77b4;\"/>\n   </g>\n   <g id=\"patch_21\">\n    <path clip-path=\"url(#pa45f8bc041)\" d=\"M 339.289205 224.64 \nL 354.507386 224.64 \nL 354.507386 213.927341 \nL 339.289205 213.927341 \nz\n\" style=\"fill:#1f77b4;\"/>\n   </g>\n   <g id=\"patch_22\">\n    <path clip-path=\"url(#pa45f8bc041)\" d=\"M 354.507386 224.64 \nL 369.725568 224.64 \nL 369.725568 221.942568 \nL 354.507386 221.942568 \nz\n\" style=\"fill:#1f77b4;\"/>\n   </g>\n   <g id=\"matplotlib.axis_1\">\n    <g id=\"xtick_1\">\n     <g id=\"line2d_1\">\n      <defs>\n       <path d=\"M 0 0 \nL 0 3.5 \n\" id=\"ma4696f3041\" style=\"stroke:#000000;stroke-width:0.8;\"/>\n      </defs>\n      <g>\n       <use style=\"stroke:#000000;stroke-width:0.8;\" x=\"65.361932\" xlink:href=\"#ma4696f3041\" y=\"224.64\"/>\n      </g>\n     </g>\n     <g id=\"text_1\">\n      <!-- 20 -->\n      <defs>\n       <path d=\"M 19.1875 8.296875 \nL 53.609375 8.296875 \nL 53.609375 0 \nL 7.328125 0 \nL 7.328125 8.296875 \nQ 12.9375 14.109375 22.625 23.890625 \nQ 32.328125 33.6875 34.8125 36.53125 \nQ 39.546875 41.84375 41.421875 45.53125 \nQ 43.3125 49.21875 43.3125 52.78125 \nQ 43.3125 58.59375 39.234375 62.25 \nQ 35.15625 65.921875 28.609375 65.921875 \nQ 23.96875 65.921875 18.8125 64.3125 \nQ 13.671875 62.703125 7.8125 59.421875 \nL 7.8125 69.390625 \nQ 13.765625 71.78125 18.9375 73 \nQ 24.125 74.21875 28.421875 74.21875 \nQ 39.75 74.21875 46.484375 68.546875 \nQ 53.21875 62.890625 53.21875 53.421875 \nQ 53.21875 48.921875 51.53125 44.890625 \nQ 49.859375 40.875 45.40625 35.40625 \nQ 44.1875 33.984375 37.640625 27.21875 \nQ 31.109375 20.453125 19.1875 8.296875 \nz\n\" id=\"DejaVuSans-50\"/>\n       <path d=\"M 31.78125 66.40625 \nQ 24.171875 66.40625 20.328125 58.90625 \nQ 16.5 51.421875 16.5 36.375 \nQ 16.5 21.390625 20.328125 13.890625 \nQ 24.171875 6.390625 31.78125 6.390625 \nQ 39.453125 6.390625 43.28125 13.890625 \nQ 47.125 21.390625 47.125 36.375 \nQ 47.125 51.421875 43.28125 58.90625 \nQ 39.453125 66.40625 31.78125 66.40625 \nz\nM 31.78125 74.21875 \nQ 44.046875 74.21875 50.515625 64.515625 \nQ 56.984375 54.828125 56.984375 36.375 \nQ 56.984375 17.96875 50.515625 8.265625 \nQ 44.046875 -1.421875 31.78125 -1.421875 \nQ 19.53125 -1.421875 13.0625 8.265625 \nQ 6.59375 17.96875 6.59375 36.375 \nQ 6.59375 54.828125 13.0625 64.515625 \nQ 19.53125 74.21875 31.78125 74.21875 \nz\n\" id=\"DejaVuSans-48\"/>\n      </defs>\n      <g transform=\"translate(58.999432 239.238437)scale(0.1 -0.1)\">\n       <use xlink:href=\"#DejaVuSans-50\"/>\n       <use x=\"63.623047\" xlink:href=\"#DejaVuSans-48\"/>\n      </g>\n     </g>\n    </g>\n    <g id=\"xtick_2\">\n     <g id=\"line2d_2\">\n      <g>\n       <use style=\"stroke:#000000;stroke-width:0.8;\" x=\"130.120152\" xlink:href=\"#ma4696f3041\" y=\"224.64\"/>\n      </g>\n     </g>\n     <g id=\"text_2\">\n      <!-- 30 -->\n      <defs>\n       <path d=\"M 40.578125 39.3125 \nQ 47.65625 37.796875 51.625 33 \nQ 55.609375 28.21875 55.609375 21.1875 \nQ 55.609375 10.40625 48.1875 4.484375 \nQ 40.765625 -1.421875 27.09375 -1.421875 \nQ 22.515625 -1.421875 17.65625 -0.515625 \nQ 12.796875 0.390625 7.625 2.203125 \nL 7.625 11.71875 \nQ 11.71875 9.328125 16.59375 8.109375 \nQ 21.484375 6.890625 26.8125 6.890625 \nQ 36.078125 6.890625 40.9375 10.546875 \nQ 45.796875 14.203125 45.796875 21.1875 \nQ 45.796875 27.640625 41.28125 31.265625 \nQ 36.765625 34.90625 28.71875 34.90625 \nL 20.21875 34.90625 \nL 20.21875 43.015625 \nL 29.109375 43.015625 \nQ 36.375 43.015625 40.234375 45.921875 \nQ 44.09375 48.828125 44.09375 54.296875 \nQ 44.09375 59.90625 40.109375 62.90625 \nQ 36.140625 65.921875 28.71875 65.921875 \nQ 24.65625 65.921875 20.015625 65.03125 \nQ 15.375 64.15625 9.8125 62.3125 \nL 9.8125 71.09375 \nQ 15.4375 72.65625 20.34375 73.4375 \nQ 25.25 74.21875 29.59375 74.21875 \nQ 40.828125 74.21875 47.359375 69.109375 \nQ 53.90625 64.015625 53.90625 55.328125 \nQ 53.90625 49.265625 50.4375 45.09375 \nQ 46.96875 40.921875 40.578125 39.3125 \nz\n\" id=\"DejaVuSans-51\"/>\n      </defs>\n      <g transform=\"translate(123.757652 239.238437)scale(0.1 -0.1)\">\n       <use xlink:href=\"#DejaVuSans-51\"/>\n       <use x=\"63.623047\" xlink:href=\"#DejaVuSans-48\"/>\n      </g>\n     </g>\n    </g>\n    <g id=\"xtick_3\">\n     <g id=\"line2d_3\">\n      <g>\n       <use style=\"stroke:#000000;stroke-width:0.8;\" x=\"194.878373\" xlink:href=\"#ma4696f3041\" y=\"224.64\"/>\n      </g>\n     </g>\n     <g id=\"text_3\">\n      <!-- 40 -->\n      <defs>\n       <path d=\"M 37.796875 64.3125 \nL 12.890625 25.390625 \nL 37.796875 25.390625 \nz\nM 35.203125 72.90625 \nL 47.609375 72.90625 \nL 47.609375 25.390625 \nL 58.015625 25.390625 \nL 58.015625 17.1875 \nL 47.609375 17.1875 \nL 47.609375 0 \nL 37.796875 0 \nL 37.796875 17.1875 \nL 4.890625 17.1875 \nL 4.890625 26.703125 \nz\n\" id=\"DejaVuSans-52\"/>\n      </defs>\n      <g transform=\"translate(188.515873 239.238437)scale(0.1 -0.1)\">\n       <use xlink:href=\"#DejaVuSans-52\"/>\n       <use x=\"63.623047\" xlink:href=\"#DejaVuSans-48\"/>\n      </g>\n     </g>\n    </g>\n    <g id=\"xtick_4\">\n     <g id=\"line2d_4\">\n      <g>\n       <use style=\"stroke:#000000;stroke-width:0.8;\" x=\"259.636593\" xlink:href=\"#ma4696f3041\" y=\"224.64\"/>\n      </g>\n     </g>\n     <g id=\"text_4\">\n      <!-- 50 -->\n      <defs>\n       <path d=\"M 10.796875 72.90625 \nL 49.515625 72.90625 \nL 49.515625 64.59375 \nL 19.828125 64.59375 \nL 19.828125 46.734375 \nQ 21.96875 47.46875 24.109375 47.828125 \nQ 26.265625 48.1875 28.421875 48.1875 \nQ 40.625 48.1875 47.75 41.5 \nQ 54.890625 34.8125 54.890625 23.390625 \nQ 54.890625 11.625 47.5625 5.09375 \nQ 40.234375 -1.421875 26.90625 -1.421875 \nQ 22.3125 -1.421875 17.546875 -0.640625 \nQ 12.796875 0.140625 7.71875 1.703125 \nL 7.71875 11.625 \nQ 12.109375 9.234375 16.796875 8.0625 \nQ 21.484375 6.890625 26.703125 6.890625 \nQ 35.15625 6.890625 40.078125 11.328125 \nQ 45.015625 15.765625 45.015625 23.390625 \nQ 45.015625 31 40.078125 35.4375 \nQ 35.15625 39.890625 26.703125 39.890625 \nQ 22.75 39.890625 18.8125 39.015625 \nQ 14.890625 38.140625 10.796875 36.28125 \nz\n\" id=\"DejaVuSans-53\"/>\n      </defs>\n      <g transform=\"translate(253.274093 239.238437)scale(0.1 -0.1)\">\n       <use xlink:href=\"#DejaVuSans-53\"/>\n       <use x=\"63.623047\" xlink:href=\"#DejaVuSans-48\"/>\n      </g>\n     </g>\n    </g>\n    <g id=\"xtick_5\">\n     <g id=\"line2d_5\">\n      <g>\n       <use style=\"stroke:#000000;stroke-width:0.8;\" x=\"324.394814\" xlink:href=\"#ma4696f3041\" y=\"224.64\"/>\n      </g>\n     </g>\n     <g id=\"text_5\">\n      <!-- 60 -->\n      <defs>\n       <path d=\"M 33.015625 40.375 \nQ 26.375 40.375 22.484375 35.828125 \nQ 18.609375 31.296875 18.609375 23.390625 \nQ 18.609375 15.53125 22.484375 10.953125 \nQ 26.375 6.390625 33.015625 6.390625 \nQ 39.65625 6.390625 43.53125 10.953125 \nQ 47.40625 15.53125 47.40625 23.390625 \nQ 47.40625 31.296875 43.53125 35.828125 \nQ 39.65625 40.375 33.015625 40.375 \nz\nM 52.59375 71.296875 \nL 52.59375 62.3125 \nQ 48.875 64.0625 45.09375 64.984375 \nQ 41.3125 65.921875 37.59375 65.921875 \nQ 27.828125 65.921875 22.671875 59.328125 \nQ 17.53125 52.734375 16.796875 39.40625 \nQ 19.671875 43.65625 24.015625 45.921875 \nQ 28.375 48.1875 33.59375 48.1875 \nQ 44.578125 48.1875 50.953125 41.515625 \nQ 57.328125 34.859375 57.328125 23.390625 \nQ 57.328125 12.15625 50.6875 5.359375 \nQ 44.046875 -1.421875 33.015625 -1.421875 \nQ 20.359375 -1.421875 13.671875 8.265625 \nQ 6.984375 17.96875 6.984375 36.375 \nQ 6.984375 53.65625 15.1875 63.9375 \nQ 23.390625 74.21875 37.203125 74.21875 \nQ 40.921875 74.21875 44.703125 73.484375 \nQ 48.484375 72.75 52.59375 71.296875 \nz\n\" id=\"DejaVuSans-54\"/>\n      </defs>\n      <g transform=\"translate(318.032314 239.238437)scale(0.1 -0.1)\">\n       <use xlink:href=\"#DejaVuSans-54\"/>\n       <use x=\"63.623047\" xlink:href=\"#DejaVuSans-48\"/>\n      </g>\n     </g>\n    </g>\n   </g>\n   <g id=\"matplotlib.axis_2\">\n    <g id=\"ytick_1\">\n     <g id=\"line2d_6\">\n      <defs>\n       <path d=\"M 0 0 \nL -3.5 0 \n\" id=\"m88c9e43d40\" style=\"stroke:#000000;stroke-width:0.8;\"/>\n      </defs>\n      <g>\n       <use style=\"stroke:#000000;stroke-width:0.8;\" x=\"50.14375\" xlink:href=\"#m88c9e43d40\" y=\"224.64\"/>\n      </g>\n     </g>\n     <g id=\"text_6\">\n      <!-- 0.00 -->\n      <defs>\n       <path d=\"M 10.6875 12.40625 \nL 21 12.40625 \nL 21 0 \nL 10.6875 0 \nz\n\" id=\"DejaVuSans-46\"/>\n      </defs>\n      <g transform=\"translate(20.878125 228.439219)scale(0.1 -0.1)\">\n       <use xlink:href=\"#DejaVuSans-48\"/>\n       <use x=\"63.623047\" xlink:href=\"#DejaVuSans-46\"/>\n       <use x=\"95.410156\" xlink:href=\"#DejaVuSans-48\"/>\n       <use x=\"159.033203\" xlink:href=\"#DejaVuSans-48\"/>\n      </g>\n     </g>\n    </g>\n    <g id=\"ytick_2\">\n     <g id=\"line2d_7\">\n      <g>\n       <use style=\"stroke:#000000;stroke-width:0.8;\" x=\"50.14375\" xlink:href=\"#m88c9e43d40\" y=\"179.118984\"/>\n      </g>\n     </g>\n     <g id=\"text_7\">\n      <!-- 0.01 -->\n      <defs>\n       <path d=\"M 12.40625 8.296875 \nL 28.515625 8.296875 \nL 28.515625 63.921875 \nL 10.984375 60.40625 \nL 10.984375 69.390625 \nL 28.421875 72.90625 \nL 38.28125 72.90625 \nL 38.28125 8.296875 \nL 54.390625 8.296875 \nL 54.390625 0 \nL 12.40625 0 \nz\n\" id=\"DejaVuSans-49\"/>\n      </defs>\n      <g transform=\"translate(20.878125 182.918203)scale(0.1 -0.1)\">\n       <use xlink:href=\"#DejaVuSans-48\"/>\n       <use x=\"63.623047\" xlink:href=\"#DejaVuSans-46\"/>\n       <use x=\"95.410156\" xlink:href=\"#DejaVuSans-48\"/>\n       <use x=\"159.033203\" xlink:href=\"#DejaVuSans-49\"/>\n      </g>\n     </g>\n    </g>\n    <g id=\"ytick_3\">\n     <g id=\"line2d_8\">\n      <g>\n       <use style=\"stroke:#000000;stroke-width:0.8;\" x=\"50.14375\" xlink:href=\"#m88c9e43d40\" y=\"133.597968\"/>\n      </g>\n     </g>\n     <g id=\"text_8\">\n      <!-- 0.02 -->\n      <g transform=\"translate(20.878125 137.397187)scale(0.1 -0.1)\">\n       <use xlink:href=\"#DejaVuSans-48\"/>\n       <use x=\"63.623047\" xlink:href=\"#DejaVuSans-46\"/>\n       <use x=\"95.410156\" xlink:href=\"#DejaVuSans-48\"/>\n       <use x=\"159.033203\" xlink:href=\"#DejaVuSans-50\"/>\n      </g>\n     </g>\n    </g>\n    <g id=\"ytick_4\">\n     <g id=\"line2d_9\">\n      <g>\n       <use style=\"stroke:#000000;stroke-width:0.8;\" x=\"50.14375\" xlink:href=\"#m88c9e43d40\" y=\"88.076952\"/>\n      </g>\n     </g>\n     <g id=\"text_9\">\n      <!-- 0.03 -->\n      <g transform=\"translate(20.878125 91.876171)scale(0.1 -0.1)\">\n       <use xlink:href=\"#DejaVuSans-48\"/>\n       <use x=\"63.623047\" xlink:href=\"#DejaVuSans-46\"/>\n       <use x=\"95.410156\" xlink:href=\"#DejaVuSans-48\"/>\n       <use x=\"159.033203\" xlink:href=\"#DejaVuSans-51\"/>\n      </g>\n     </g>\n    </g>\n    <g id=\"ytick_5\">\n     <g id=\"line2d_10\">\n      <g>\n       <use style=\"stroke:#000000;stroke-width:0.8;\" x=\"50.14375\" xlink:href=\"#m88c9e43d40\" y=\"42.555936\"/>\n      </g>\n     </g>\n     <g id=\"text_10\">\n      <!-- 0.04 -->\n      <g transform=\"translate(20.878125 46.355155)scale(0.1 -0.1)\">\n       <use xlink:href=\"#DejaVuSans-48\"/>\n       <use x=\"63.623047\" xlink:href=\"#DejaVuSans-46\"/>\n       <use x=\"95.410156\" xlink:href=\"#DejaVuSans-48\"/>\n       <use x=\"159.033203\" xlink:href=\"#DejaVuSans-52\"/>\n      </g>\n     </g>\n    </g>\n    <g id=\"text_11\">\n     <!-- Frequency -->\n     <defs>\n      <path d=\"M 9.8125 72.90625 \nL 51.703125 72.90625 \nL 51.703125 64.59375 \nL 19.671875 64.59375 \nL 19.671875 43.109375 \nL 48.578125 43.109375 \nL 48.578125 34.8125 \nL 19.671875 34.8125 \nL 19.671875 0 \nL 9.8125 0 \nz\n\" id=\"DejaVuSans-70\"/>\n      <path d=\"M 41.109375 46.296875 \nQ 39.59375 47.171875 37.8125 47.578125 \nQ 36.03125 48 33.890625 48 \nQ 26.265625 48 22.1875 43.046875 \nQ 18.109375 38.09375 18.109375 28.8125 \nL 18.109375 0 \nL 9.078125 0 \nL 9.078125 54.6875 \nL 18.109375 54.6875 \nL 18.109375 46.1875 \nQ 20.953125 51.171875 25.484375 53.578125 \nQ 30.03125 56 36.53125 56 \nQ 37.453125 56 38.578125 55.875 \nQ 39.703125 55.765625 41.0625 55.515625 \nz\n\" id=\"DejaVuSans-114\"/>\n      <path d=\"M 56.203125 29.59375 \nL 56.203125 25.203125 \nL 14.890625 25.203125 \nQ 15.484375 15.921875 20.484375 11.0625 \nQ 25.484375 6.203125 34.421875 6.203125 \nQ 39.59375 6.203125 44.453125 7.46875 \nQ 49.3125 8.734375 54.109375 11.28125 \nL 54.109375 2.78125 \nQ 49.265625 0.734375 44.1875 -0.34375 \nQ 39.109375 -1.421875 33.890625 -1.421875 \nQ 20.796875 -1.421875 13.15625 6.1875 \nQ 5.515625 13.8125 5.515625 26.8125 \nQ 5.515625 40.234375 12.765625 48.109375 \nQ 20.015625 56 32.328125 56 \nQ 43.359375 56 49.78125 48.890625 \nQ 56.203125 41.796875 56.203125 29.59375 \nz\nM 47.21875 32.234375 \nQ 47.125 39.59375 43.09375 43.984375 \nQ 39.0625 48.390625 32.421875 48.390625 \nQ 24.90625 48.390625 20.390625 44.140625 \nQ 15.875 39.890625 15.1875 32.171875 \nz\n\" id=\"DejaVuSans-101\"/>\n      <path d=\"M 14.796875 27.296875 \nQ 14.796875 17.390625 18.875 11.75 \nQ 22.953125 6.109375 30.078125 6.109375 \nQ 37.203125 6.109375 41.296875 11.75 \nQ 45.40625 17.390625 45.40625 27.296875 \nQ 45.40625 37.203125 41.296875 42.84375 \nQ 37.203125 48.484375 30.078125 48.484375 \nQ 22.953125 48.484375 18.875 42.84375 \nQ 14.796875 37.203125 14.796875 27.296875 \nz\nM 45.40625 8.203125 \nQ 42.578125 3.328125 38.25 0.953125 \nQ 33.9375 -1.421875 27.875 -1.421875 \nQ 17.96875 -1.421875 11.734375 6.484375 \nQ 5.515625 14.40625 5.515625 27.296875 \nQ 5.515625 40.1875 11.734375 48.09375 \nQ 17.96875 56 27.875 56 \nQ 33.9375 56 38.25 53.625 \nQ 42.578125 51.265625 45.40625 46.390625 \nL 45.40625 54.6875 \nL 54.390625 54.6875 \nL 54.390625 -20.796875 \nL 45.40625 -20.796875 \nz\n\" id=\"DejaVuSans-113\"/>\n      <path d=\"M 8.5 21.578125 \nL 8.5 54.6875 \nL 17.484375 54.6875 \nL 17.484375 21.921875 \nQ 17.484375 14.15625 20.5 10.265625 \nQ 23.53125 6.390625 29.59375 6.390625 \nQ 36.859375 6.390625 41.078125 11.03125 \nQ 45.3125 15.671875 45.3125 23.6875 \nL 45.3125 54.6875 \nL 54.296875 54.6875 \nL 54.296875 0 \nL 45.3125 0 \nL 45.3125 8.40625 \nQ 42.046875 3.421875 37.71875 1 \nQ 33.40625 -1.421875 27.6875 -1.421875 \nQ 18.265625 -1.421875 13.375 4.4375 \nQ 8.5 10.296875 8.5 21.578125 \nz\nM 31.109375 56 \nz\n\" id=\"DejaVuSans-117\"/>\n      <path d=\"M 54.890625 33.015625 \nL 54.890625 0 \nL 45.90625 0 \nL 45.90625 32.71875 \nQ 45.90625 40.484375 42.875 44.328125 \nQ 39.84375 48.1875 33.796875 48.1875 \nQ 26.515625 48.1875 22.3125 43.546875 \nQ 18.109375 38.921875 18.109375 30.90625 \nL 18.109375 0 \nL 9.078125 0 \nL 9.078125 54.6875 \nL 18.109375 54.6875 \nL 18.109375 46.1875 \nQ 21.34375 51.125 25.703125 53.5625 \nQ 30.078125 56 35.796875 56 \nQ 45.21875 56 50.046875 50.171875 \nQ 54.890625 44.34375 54.890625 33.015625 \nz\n\" id=\"DejaVuSans-110\"/>\n      <path d=\"M 48.78125 52.59375 \nL 48.78125 44.1875 \nQ 44.96875 46.296875 41.140625 47.34375 \nQ 37.3125 48.390625 33.40625 48.390625 \nQ 24.65625 48.390625 19.8125 42.84375 \nQ 14.984375 37.3125 14.984375 27.296875 \nQ 14.984375 17.28125 19.8125 11.734375 \nQ 24.65625 6.203125 33.40625 6.203125 \nQ 37.3125 6.203125 41.140625 7.25 \nQ 44.96875 8.296875 48.78125 10.40625 \nL 48.78125 2.09375 \nQ 45.015625 0.34375 40.984375 -0.53125 \nQ 36.96875 -1.421875 32.421875 -1.421875 \nQ 20.0625 -1.421875 12.78125 6.34375 \nQ 5.515625 14.109375 5.515625 27.296875 \nQ 5.515625 40.671875 12.859375 48.328125 \nQ 20.21875 56 33.015625 56 \nQ 37.15625 56 41.109375 55.140625 \nQ 45.0625 54.296875 48.78125 52.59375 \nz\n\" id=\"DejaVuSans-99\"/>\n      <path d=\"M 32.171875 -5.078125 \nQ 28.375 -14.84375 24.75 -17.8125 \nQ 21.140625 -20.796875 15.09375 -20.796875 \nL 7.90625 -20.796875 \nL 7.90625 -13.28125 \nL 13.1875 -13.28125 \nQ 16.890625 -13.28125 18.9375 -11.515625 \nQ 21 -9.765625 23.484375 -3.21875 \nL 25.09375 0.875 \nL 2.984375 54.6875 \nL 12.5 54.6875 \nL 29.59375 11.921875 \nL 46.6875 54.6875 \nL 56.203125 54.6875 \nz\n\" id=\"DejaVuSans-121\"/>\n     </defs>\n     <g transform=\"translate(14.798438 141.749687)rotate(-90)scale(0.1 -0.1)\">\n      <use xlink:href=\"#DejaVuSans-70\"/>\n      <use x=\"50.269531\" xlink:href=\"#DejaVuSans-114\"/>\n      <use x=\"89.132812\" xlink:href=\"#DejaVuSans-101\"/>\n      <use x=\"150.65625\" xlink:href=\"#DejaVuSans-113\"/>\n      <use x=\"214.132812\" xlink:href=\"#DejaVuSans-117\"/>\n      <use x=\"277.511719\" xlink:href=\"#DejaVuSans-101\"/>\n      <use x=\"339.035156\" xlink:href=\"#DejaVuSans-110\"/>\n      <use x=\"402.414062\" xlink:href=\"#DejaVuSans-99\"/>\n      <use x=\"457.394531\" xlink:href=\"#DejaVuSans-121\"/>\n     </g>\n    </g>\n   </g>\n   <g id=\"patch_23\">\n    <path d=\"M 50.14375 224.64 \nL 50.14375 7.2 \n\" style=\"fill:none;stroke:#000000;stroke-linecap:square;stroke-linejoin:miter;stroke-width:0.8;\"/>\n   </g>\n   <g id=\"patch_24\">\n    <path d=\"M 384.94375 224.64 \nL 384.94375 7.2 \n\" style=\"fill:none;stroke:#000000;stroke-linecap:square;stroke-linejoin:miter;stroke-width:0.8;\"/>\n   </g>\n   <g id=\"patch_25\">\n    <path d=\"M 50.14375 224.64 \nL 384.94375 224.64 \n\" style=\"fill:none;stroke:#000000;stroke-linecap:square;stroke-linejoin:miter;stroke-width:0.8;\"/>\n   </g>\n   <g id=\"patch_26\">\n    <path d=\"M 50.14375 7.2 \nL 384.94375 7.2 \n\" style=\"fill:none;stroke:#000000;stroke-linecap:square;stroke-linejoin:miter;stroke-width:0.8;\"/>\n   </g>\n  </g>\n </g>\n <defs>\n  <clipPath id=\"pa45f8bc041\">\n   <rect height=\"217.44\" width=\"334.8\" x=\"50.14375\" y=\"7.2\"/>\n  </clipPath>\n </defs>\n</svg>\n"
          },
          "metadata": {}
        }
      ]
    },
    {
      "cell_type": "code",
      "metadata": {
        "id": "D93VACpR63aO",
        "colab": {
          "base_uri": "https://localhost:8080/"
        },
        "outputId": "b7ddabef-a0e7-4d99-8017-3515b91d8645"
      },
      "source": [
        "new_data = get_category(new_data,'Age',5, [\"lowest\",\"low\",\"medium\",\"high\",\"highest\"])\n",
        "iv, data = calc_iv(new_data,'gp_Age','target')\n",
        "ivtable.loc[ivtable['variable']=='DAYS_BIRTH','IV'] = iv\n",
        "data.head()"
      ],
      "execution_count": null,
      "outputs": [
        {
          "output_type": "stream",
          "name": "stdout",
          "text": [
            "El IV de esta variable es: 0.06593513858884348\n",
            "medium     7916\n",
            "low        7806\n",
            "high       4414\n",
            "lowest     4005\n",
            "highest     993\n",
            "Name: gp_Age, dtype: int64\n"
          ]
        },
        {
          "output_type": "execute_result",
          "data": {
            "text/html": [
              "<div>\n",
              "<style scoped>\n",
              "    .dataframe tbody tr th:only-of-type {\n",
              "        vertical-align: middle;\n",
              "    }\n",
              "\n",
              "    .dataframe tbody tr th {\n",
              "        vertical-align: top;\n",
              "    }\n",
              "\n",
              "    .dataframe thead th {\n",
              "        text-align: right;\n",
              "    }\n",
              "</style>\n",
              "<table border=\"1\" class=\"dataframe\">\n",
              "  <thead>\n",
              "    <tr style=\"text-align: right;\">\n",
              "      <th></th>\n",
              "      <th>Variable</th>\n",
              "      <th>Value</th>\n",
              "      <th>All</th>\n",
              "      <th>Good</th>\n",
              "      <th>Bad</th>\n",
              "      <th>Share</th>\n",
              "      <th>Bad Rate</th>\n",
              "      <th>Distribution Good</th>\n",
              "      <th>Distribution Bad</th>\n",
              "      <th>WoE</th>\n",
              "      <th>IV</th>\n",
              "    </tr>\n",
              "  </thead>\n",
              "  <tbody>\n",
              "    <tr>\n",
              "      <th>0</th>\n",
              "      <td>gp_Age</td>\n",
              "      <td>high</td>\n",
              "      <td>4414</td>\n",
              "      <td>4323</td>\n",
              "      <td>91</td>\n",
              "      <td>0.175619</td>\n",
              "      <td>0.020616</td>\n",
              "      <td>0.174935</td>\n",
              "      <td>0.215640</td>\n",
              "      <td>-0.209194</td>\n",
              "      <td>0.008515</td>\n",
              "    </tr>\n",
              "    <tr>\n",
              "      <th>1</th>\n",
              "      <td>gp_Age</td>\n",
              "      <td>highest</td>\n",
              "      <td>993</td>\n",
              "      <td>989</td>\n",
              "      <td>4</td>\n",
              "      <td>0.039508</td>\n",
              "      <td>0.004028</td>\n",
              "      <td>0.040021</td>\n",
              "      <td>0.009479</td>\n",
              "      <td>1.440361</td>\n",
              "      <td>0.043992</td>\n",
              "    </tr>\n",
              "    <tr>\n",
              "      <th>2</th>\n",
              "      <td>gp_Age</td>\n",
              "      <td>low</td>\n",
              "      <td>7806</td>\n",
              "      <td>7686</td>\n",
              "      <td>120</td>\n",
              "      <td>0.310575</td>\n",
              "      <td>0.015373</td>\n",
              "      <td>0.311023</td>\n",
              "      <td>0.284360</td>\n",
              "      <td>0.089625</td>\n",
              "      <td>0.002390</td>\n",
              "    </tr>\n",
              "    <tr>\n",
              "      <th>3</th>\n",
              "      <td>gp_Age</td>\n",
              "      <td>lowest</td>\n",
              "      <td>4005</td>\n",
              "      <td>3921</td>\n",
              "      <td>84</td>\n",
              "      <td>0.159346</td>\n",
              "      <td>0.020974</td>\n",
              "      <td>0.158668</td>\n",
              "      <td>0.199052</td>\n",
              "      <td>-0.226754</td>\n",
              "      <td>0.009157</td>\n",
              "    </tr>\n",
              "    <tr>\n",
              "      <th>4</th>\n",
              "      <td>gp_Age</td>\n",
              "      <td>medium</td>\n",
              "      <td>7916</td>\n",
              "      <td>7793</td>\n",
              "      <td>123</td>\n",
              "      <td>0.314952</td>\n",
              "      <td>0.015538</td>\n",
              "      <td>0.315353</td>\n",
              "      <td>0.291469</td>\n",
              "      <td>0.078758</td>\n",
              "      <td>0.001881</td>\n",
              "    </tr>\n",
              "  </tbody>\n",
              "</table>\n",
              "</div>"
            ],
            "text/plain": [
              "  Variable    Value   All  ...  Distribution Bad       WoE        IV\n",
              "0   gp_Age     high  4414  ...          0.215640 -0.209194  0.008515\n",
              "1   gp_Age  highest   993  ...          0.009479  1.440361  0.043992\n",
              "2   gp_Age      low  7806  ...          0.284360  0.089625  0.002390\n",
              "3   gp_Age   lowest  4005  ...          0.199052 -0.226754  0.009157\n",
              "4   gp_Age   medium  7916  ...          0.291469  0.078758  0.001881\n",
              "\n",
              "[5 rows x 11 columns]"
            ]
          },
          "metadata": {},
          "execution_count": 35
        }
      ]
    },
    {
      "cell_type": "code",
      "metadata": {
        "id": "pCl7gwCy63aP"
      },
      "source": [
        "new_data = convert_dummy(new_data,'gp_Age')"
      ],
      "execution_count": null,
      "outputs": []
    },
    {
      "cell_type": "markdown",
      "metadata": {
        "id": "-RYHv2o763aP"
      },
      "source": [
        "#### Años de Trabajo"
      ]
    },
    {
      "cell_type": "code",
      "metadata": {
        "id": "zc03QKqQ63aP"
      },
      "source": [
        "new_data['worktm']=-(new_data['DAYS_EMPLOYED'])//365\n",
        "new_data[new_data['worktm']<0] = np.nan # replace by na\n",
        "new_data['DAYS_EMPLOYED']\n",
        "new_data['worktm'].fillna(new_data['worktm'].mean(),inplace=True) #replace na by mean"
      ],
      "execution_count": null,
      "outputs": []
    },
    {
      "cell_type": "code",
      "metadata": {
        "id": "mOkJPxl763aP",
        "colab": {
          "base_uri": "https://localhost:8080/"
        },
        "outputId": "90407be6-d92b-48b2-e4de-5f3f79551724"
      },
      "source": [
        "new_data['worktm'].plot(kind='hist',bins=20,density=True)"
      ],
      "execution_count": null,
      "outputs": [
        {
          "output_type": "execute_result",
          "data": {
            "text/plain": [
              "<matplotlib.axes._subplots.AxesSubplot at 0x7f83e0f92dd0>"
            ]
          },
          "metadata": {},
          "execution_count": 38
        },
        {
          "output_type": "display_data",
          "data": {
            "text/plain": [
              "<Figure size 432x288 with 1 Axes>"
            ],
            "image/svg+xml": "<?xml version=\"1.0\" encoding=\"utf-8\" standalone=\"no\"?>\n<!DOCTYPE svg PUBLIC \"-//W3C//DTD SVG 1.1//EN\"\n  \"http://www.w3.org/Graphics/SVG/1.1/DTD/svg11.dtd\">\n<!-- Created with matplotlib (https://matplotlib.org/) -->\n<svg height=\"248.518125pt\" version=\"1.1\" viewBox=\"0 0 392.14375 248.518125\" width=\"392.14375pt\" xmlns=\"http://www.w3.org/2000/svg\" xmlns:xlink=\"http://www.w3.org/1999/xlink\">\n <defs>\n  <style type=\"text/css\">\n*{stroke-linecap:butt;stroke-linejoin:round;}\n  </style>\n </defs>\n <g id=\"figure_1\">\n  <g id=\"patch_1\">\n   <path d=\"M 0 248.518125 \nL 392.14375 248.518125 \nL 392.14375 0 \nL 0 0 \nz\n\" style=\"fill:#ffffff;\"/>\n  </g>\n  <g id=\"axes_1\">\n   <g id=\"patch_2\">\n    <path d=\"M 50.14375 224.64 \nL 384.94375 224.64 \nL 384.94375 7.2 \nL 50.14375 7.2 \nz\n\" style=\"fill:#ffffff;\"/>\n   </g>\n   <g id=\"patch_3\">\n    <path clip-path=\"url(#p635df78a00)\" d=\"M 65.361932 224.64 \nL 80.580114 224.64 \nL 80.580114 17.554286 \nL 65.361932 17.554286 \nz\n\" style=\"fill:#1f77b4;\"/>\n   </g>\n   <g id=\"patch_4\">\n    <path clip-path=\"url(#p635df78a00)\" d=\"M 80.580114 224.64 \nL 95.798295 224.64 \nL 95.798295 80.582922 \nL 80.580114 80.582922 \nz\n\" style=\"fill:#1f77b4;\"/>\n   </g>\n   <g id=\"patch_5\">\n    <path clip-path=\"url(#p635df78a00)\" d=\"M 95.798295 224.64 \nL 111.016477 224.64 \nL 111.016477 124.996124 \nL 95.798295 124.996124 \nz\n\" style=\"fill:#1f77b4;\"/>\n   </g>\n   <g id=\"patch_6\">\n    <path clip-path=\"url(#p635df78a00)\" d=\"M 111.016477 224.64 \nL 126.234659 224.64 \nL 126.234659 140.29889 \nL 111.016477 140.29889 \nz\n\" style=\"fill:#1f77b4;\"/>\n   </g>\n   <g id=\"patch_7\">\n    <path clip-path=\"url(#p635df78a00)\" d=\"M 126.234659 224.64 \nL 141.452841 224.64 \nL 141.452841 167.064074 \nL 126.234659 167.064074 \nz\n\" style=\"fill:#1f77b4;\"/>\n   </g>\n   <g id=\"patch_8\">\n    <path clip-path=\"url(#p635df78a00)\" d=\"M 141.452841 224.64 \nL 156.671023 224.64 \nL 156.671023 189.695751 \nL 141.452841 189.695751 \nz\n\" style=\"fill:#1f77b4;\"/>\n   </g>\n   <g id=\"patch_9\">\n    <path clip-path=\"url(#p635df78a00)\" d=\"M 156.671023 224.64 \nL 171.889205 224.64 \nL 171.889205 183.334257 \nL 156.671023 183.334257 \nz\n\" style=\"fill:#1f77b4;\"/>\n   </g>\n   <g id=\"patch_10\">\n    <path clip-path=\"url(#p635df78a00)\" d=\"M 171.889205 224.64 \nL 187.107386 224.64 \nL 187.107386 212.268798 \nL 171.889205 212.268798 \nz\n\" style=\"fill:#1f77b4;\"/>\n   </g>\n   <g id=\"patch_11\">\n    <path clip-path=\"url(#p635df78a00)\" d=\"M 187.107386 224.64 \nL 202.325568 224.64 \nL 202.325568 210.7737 \nL 187.107386 210.7737 \nz\n\" style=\"fill:#1f77b4;\"/>\n   </g>\n   <g id=\"patch_12\">\n    <path clip-path=\"url(#p635df78a00)\" d=\"M 202.325568 224.64 \nL 217.54375 224.64 \nL 217.54375 213.500055 \nL 202.325568 213.500055 \nz\n\" style=\"fill:#1f77b4;\"/>\n   </g>\n   <g id=\"patch_13\">\n    <path clip-path=\"url(#p635df78a00)\" d=\"M 217.54375 224.64 \nL 232.761932 224.64 \nL 232.761932 215.874622 \nL 217.54375 215.874622 \nz\n\" style=\"fill:#1f77b4;\"/>\n   </g>\n   <g id=\"patch_14\">\n    <path clip-path=\"url(#p635df78a00)\" d=\"M 232.761932 224.64 \nL 247.980114 224.64 \nL 247.980114 218.014664 \nL 232.761932 218.014664 \nz\n\" style=\"fill:#1f77b4;\"/>\n   </g>\n   <g id=\"patch_15\">\n    <path clip-path=\"url(#p635df78a00)\" d=\"M 247.980114 224.64 \nL 263.198295 224.64 \nL 263.198295 220.125391 \nL 247.980114 220.125391 \nz\n\" style=\"fill:#1f77b4;\"/>\n   </g>\n   <g id=\"patch_16\">\n    <path clip-path=\"url(#p635df78a00)\" d=\"M 263.198295 224.64 \nL 278.416477 224.64 \nL 278.416477 220.711704 \nL 263.198295 220.711704 \nz\n\" style=\"fill:#1f77b4;\"/>\n   </g>\n   <g id=\"patch_17\">\n    <path clip-path=\"url(#p635df78a00)\" d=\"M 278.416477 224.64 \nL 293.634659 224.64 \nL 293.634659 222.236117 \nL 278.416477 222.236117 \nz\n\" style=\"fill:#1f77b4;\"/>\n   </g>\n   <g id=\"patch_18\">\n    <path clip-path=\"url(#p635df78a00)\" d=\"M 293.634659 224.64 \nL 308.852841 224.64 \nL 308.852841 223.02764 \nL 293.634659 223.02764 \nz\n\" style=\"fill:#1f77b4;\"/>\n   </g>\n   <g id=\"patch_19\">\n    <path clip-path=\"url(#p635df78a00)\" d=\"M 308.852841 224.64 \nL 324.071023 224.64 \nL 324.071023 223.379427 \nL 308.852841 223.379427 \nz\n\" style=\"fill:#1f77b4;\"/>\n   </g>\n   <g id=\"patch_20\">\n    <path clip-path=\"url(#p635df78a00)\" d=\"M 324.071023 224.64 \nL 339.289205 224.64 \nL 339.289205 224.200265 \nL 324.071023 224.200265 \nz\n\" style=\"fill:#1f77b4;\"/>\n   </g>\n   <g id=\"patch_21\">\n    <path clip-path=\"url(#p635df78a00)\" d=\"M 339.289205 224.64 \nL 354.507386 224.64 \nL 354.507386 223.848478 \nL 339.289205 223.848478 \nz\n\" style=\"fill:#1f77b4;\"/>\n   </g>\n   <g id=\"patch_22\">\n    <path clip-path=\"url(#p635df78a00)\" d=\"M 354.507386 224.64 \nL 369.725568 224.64 \nL 369.725568 224.493422 \nL 354.507386 224.493422 \nz\n\" style=\"fill:#1f77b4;\"/>\n   </g>\n   <g id=\"matplotlib.axis_1\">\n    <g id=\"xtick_1\">\n     <g id=\"line2d_1\">\n      <defs>\n       <path d=\"M 0 0 \nL 0 3.5 \n\" id=\"m5c7b0dcc32\" style=\"stroke:#000000;stroke-width:0.8;\"/>\n      </defs>\n      <g>\n       <use style=\"stroke:#000000;stroke-width:0.8;\" x=\"65.361932\" xlink:href=\"#m5c7b0dcc32\" y=\"224.64\"/>\n      </g>\n     </g>\n     <g id=\"text_1\">\n      <!-- 0 -->\n      <defs>\n       <path d=\"M 31.78125 66.40625 \nQ 24.171875 66.40625 20.328125 58.90625 \nQ 16.5 51.421875 16.5 36.375 \nQ 16.5 21.390625 20.328125 13.890625 \nQ 24.171875 6.390625 31.78125 6.390625 \nQ 39.453125 6.390625 43.28125 13.890625 \nQ 47.125 21.390625 47.125 36.375 \nQ 47.125 51.421875 43.28125 58.90625 \nQ 39.453125 66.40625 31.78125 66.40625 \nz\nM 31.78125 74.21875 \nQ 44.046875 74.21875 50.515625 64.515625 \nQ 56.984375 54.828125 56.984375 36.375 \nQ 56.984375 17.96875 50.515625 8.265625 \nQ 44.046875 -1.421875 31.78125 -1.421875 \nQ 19.53125 -1.421875 13.0625 8.265625 \nQ 6.59375 17.96875 6.59375 36.375 \nQ 6.59375 54.828125 13.0625 64.515625 \nQ 19.53125 74.21875 31.78125 74.21875 \nz\n\" id=\"DejaVuSans-48\"/>\n      </defs>\n      <g transform=\"translate(62.180682 239.238437)scale(0.1 -0.1)\">\n       <use xlink:href=\"#DejaVuSans-48\"/>\n      </g>\n     </g>\n    </g>\n    <g id=\"xtick_2\">\n     <g id=\"line2d_2\">\n      <g>\n       <use style=\"stroke:#000000;stroke-width:0.8;\" x=\"136.144173\" xlink:href=\"#m5c7b0dcc32\" y=\"224.64\"/>\n      </g>\n     </g>\n     <g id=\"text_2\">\n      <!-- 10 -->\n      <defs>\n       <path d=\"M 12.40625 8.296875 \nL 28.515625 8.296875 \nL 28.515625 63.921875 \nL 10.984375 60.40625 \nL 10.984375 69.390625 \nL 28.421875 72.90625 \nL 38.28125 72.90625 \nL 38.28125 8.296875 \nL 54.390625 8.296875 \nL 54.390625 0 \nL 12.40625 0 \nz\n\" id=\"DejaVuSans-49\"/>\n      </defs>\n      <g transform=\"translate(129.781673 239.238437)scale(0.1 -0.1)\">\n       <use xlink:href=\"#DejaVuSans-49\"/>\n       <use x=\"63.623047\" xlink:href=\"#DejaVuSans-48\"/>\n      </g>\n     </g>\n    </g>\n    <g id=\"xtick_3\">\n     <g id=\"line2d_3\">\n      <g>\n       <use style=\"stroke:#000000;stroke-width:0.8;\" x=\"206.926414\" xlink:href=\"#m5c7b0dcc32\" y=\"224.64\"/>\n      </g>\n     </g>\n     <g id=\"text_3\">\n      <!-- 20 -->\n      <defs>\n       <path d=\"M 19.1875 8.296875 \nL 53.609375 8.296875 \nL 53.609375 0 \nL 7.328125 0 \nL 7.328125 8.296875 \nQ 12.9375 14.109375 22.625 23.890625 \nQ 32.328125 33.6875 34.8125 36.53125 \nQ 39.546875 41.84375 41.421875 45.53125 \nQ 43.3125 49.21875 43.3125 52.78125 \nQ 43.3125 58.59375 39.234375 62.25 \nQ 35.15625 65.921875 28.609375 65.921875 \nQ 23.96875 65.921875 18.8125 64.3125 \nQ 13.671875 62.703125 7.8125 59.421875 \nL 7.8125 69.390625 \nQ 13.765625 71.78125 18.9375 73 \nQ 24.125 74.21875 28.421875 74.21875 \nQ 39.75 74.21875 46.484375 68.546875 \nQ 53.21875 62.890625 53.21875 53.421875 \nQ 53.21875 48.921875 51.53125 44.890625 \nQ 49.859375 40.875 45.40625 35.40625 \nQ 44.1875 33.984375 37.640625 27.21875 \nQ 31.109375 20.453125 19.1875 8.296875 \nz\n\" id=\"DejaVuSans-50\"/>\n      </defs>\n      <g transform=\"translate(200.563914 239.238437)scale(0.1 -0.1)\">\n       <use xlink:href=\"#DejaVuSans-50\"/>\n       <use x=\"63.623047\" xlink:href=\"#DejaVuSans-48\"/>\n      </g>\n     </g>\n    </g>\n    <g id=\"xtick_4\">\n     <g id=\"line2d_4\">\n      <g>\n       <use style=\"stroke:#000000;stroke-width:0.8;\" x=\"277.708655\" xlink:href=\"#m5c7b0dcc32\" y=\"224.64\"/>\n      </g>\n     </g>\n     <g id=\"text_4\">\n      <!-- 30 -->\n      <defs>\n       <path d=\"M 40.578125 39.3125 \nQ 47.65625 37.796875 51.625 33 \nQ 55.609375 28.21875 55.609375 21.1875 \nQ 55.609375 10.40625 48.1875 4.484375 \nQ 40.765625 -1.421875 27.09375 -1.421875 \nQ 22.515625 -1.421875 17.65625 -0.515625 \nQ 12.796875 0.390625 7.625 2.203125 \nL 7.625 11.71875 \nQ 11.71875 9.328125 16.59375 8.109375 \nQ 21.484375 6.890625 26.8125 6.890625 \nQ 36.078125 6.890625 40.9375 10.546875 \nQ 45.796875 14.203125 45.796875 21.1875 \nQ 45.796875 27.640625 41.28125 31.265625 \nQ 36.765625 34.90625 28.71875 34.90625 \nL 20.21875 34.90625 \nL 20.21875 43.015625 \nL 29.109375 43.015625 \nQ 36.375 43.015625 40.234375 45.921875 \nQ 44.09375 48.828125 44.09375 54.296875 \nQ 44.09375 59.90625 40.109375 62.90625 \nQ 36.140625 65.921875 28.71875 65.921875 \nQ 24.65625 65.921875 20.015625 65.03125 \nQ 15.375 64.15625 9.8125 62.3125 \nL 9.8125 71.09375 \nQ 15.4375 72.65625 20.34375 73.4375 \nQ 25.25 74.21875 29.59375 74.21875 \nQ 40.828125 74.21875 47.359375 69.109375 \nQ 53.90625 64.015625 53.90625 55.328125 \nQ 53.90625 49.265625 50.4375 45.09375 \nQ 46.96875 40.921875 40.578125 39.3125 \nz\n\" id=\"DejaVuSans-51\"/>\n      </defs>\n      <g transform=\"translate(271.346155 239.238437)scale(0.1 -0.1)\">\n       <use xlink:href=\"#DejaVuSans-51\"/>\n       <use x=\"63.623047\" xlink:href=\"#DejaVuSans-48\"/>\n      </g>\n     </g>\n    </g>\n    <g id=\"xtick_5\">\n     <g id=\"line2d_5\">\n      <g>\n       <use style=\"stroke:#000000;stroke-width:0.8;\" x=\"348.490896\" xlink:href=\"#m5c7b0dcc32\" y=\"224.64\"/>\n      </g>\n     </g>\n     <g id=\"text_5\">\n      <!-- 40 -->\n      <defs>\n       <path d=\"M 37.796875 64.3125 \nL 12.890625 25.390625 \nL 37.796875 25.390625 \nz\nM 35.203125 72.90625 \nL 47.609375 72.90625 \nL 47.609375 25.390625 \nL 58.015625 25.390625 \nL 58.015625 17.1875 \nL 47.609375 17.1875 \nL 47.609375 0 \nL 37.796875 0 \nL 37.796875 17.1875 \nL 4.890625 17.1875 \nL 4.890625 26.703125 \nz\n\" id=\"DejaVuSans-52\"/>\n      </defs>\n      <g transform=\"translate(342.128396 239.238437)scale(0.1 -0.1)\">\n       <use xlink:href=\"#DejaVuSans-52\"/>\n       <use x=\"63.623047\" xlink:href=\"#DejaVuSans-48\"/>\n      </g>\n     </g>\n    </g>\n   </g>\n   <g id=\"matplotlib.axis_2\">\n    <g id=\"ytick_1\">\n     <g id=\"line2d_6\">\n      <defs>\n       <path d=\"M 0 0 \nL -3.5 0 \n\" id=\"mfedf421a0b\" style=\"stroke:#000000;stroke-width:0.8;\"/>\n      </defs>\n      <g>\n       <use style=\"stroke:#000000;stroke-width:0.8;\" x=\"50.14375\" xlink:href=\"#mfedf421a0b\" y=\"224.64\"/>\n      </g>\n     </g>\n     <g id=\"text_6\">\n      <!-- 0.00 -->\n      <defs>\n       <path d=\"M 10.6875 12.40625 \nL 21 12.40625 \nL 21 0 \nL 10.6875 0 \nz\n\" id=\"DejaVuSans-46\"/>\n      </defs>\n      <g transform=\"translate(20.878125 228.439219)scale(0.1 -0.1)\">\n       <use xlink:href=\"#DejaVuSans-48\"/>\n       <use x=\"63.623047\" xlink:href=\"#DejaVuSans-46\"/>\n       <use x=\"95.410156\" xlink:href=\"#DejaVuSans-48\"/>\n       <use x=\"159.033203\" xlink:href=\"#DejaVuSans-48\"/>\n      </g>\n     </g>\n    </g>\n    <g id=\"ytick_2\">\n     <g id=\"line2d_7\">\n      <g>\n       <use style=\"stroke:#000000;stroke-width:0.8;\" x=\"50.14375\" xlink:href=\"#mfedf421a0b\" y=\"192.956765\"/>\n      </g>\n     </g>\n     <g id=\"text_7\">\n      <!-- 0.02 -->\n      <g transform=\"translate(20.878125 196.755984)scale(0.1 -0.1)\">\n       <use xlink:href=\"#DejaVuSans-48\"/>\n       <use x=\"63.623047\" xlink:href=\"#DejaVuSans-46\"/>\n       <use x=\"95.410156\" xlink:href=\"#DejaVuSans-48\"/>\n       <use x=\"159.033203\" xlink:href=\"#DejaVuSans-50\"/>\n      </g>\n     </g>\n    </g>\n    <g id=\"ytick_3\">\n     <g id=\"line2d_8\">\n      <g>\n       <use style=\"stroke:#000000;stroke-width:0.8;\" x=\"50.14375\" xlink:href=\"#mfedf421a0b\" y=\"161.27353\"/>\n      </g>\n     </g>\n     <g id=\"text_8\">\n      <!-- 0.04 -->\n      <g transform=\"translate(20.878125 165.072749)scale(0.1 -0.1)\">\n       <use xlink:href=\"#DejaVuSans-48\"/>\n       <use x=\"63.623047\" xlink:href=\"#DejaVuSans-46\"/>\n       <use x=\"95.410156\" xlink:href=\"#DejaVuSans-48\"/>\n       <use x=\"159.033203\" xlink:href=\"#DejaVuSans-52\"/>\n      </g>\n     </g>\n    </g>\n    <g id=\"ytick_4\">\n     <g id=\"line2d_9\">\n      <g>\n       <use style=\"stroke:#000000;stroke-width:0.8;\" x=\"50.14375\" xlink:href=\"#mfedf421a0b\" y=\"129.590296\"/>\n      </g>\n     </g>\n     <g id=\"text_9\">\n      <!-- 0.06 -->\n      <defs>\n       <path d=\"M 33.015625 40.375 \nQ 26.375 40.375 22.484375 35.828125 \nQ 18.609375 31.296875 18.609375 23.390625 \nQ 18.609375 15.53125 22.484375 10.953125 \nQ 26.375 6.390625 33.015625 6.390625 \nQ 39.65625 6.390625 43.53125 10.953125 \nQ 47.40625 15.53125 47.40625 23.390625 \nQ 47.40625 31.296875 43.53125 35.828125 \nQ 39.65625 40.375 33.015625 40.375 \nz\nM 52.59375 71.296875 \nL 52.59375 62.3125 \nQ 48.875 64.0625 45.09375 64.984375 \nQ 41.3125 65.921875 37.59375 65.921875 \nQ 27.828125 65.921875 22.671875 59.328125 \nQ 17.53125 52.734375 16.796875 39.40625 \nQ 19.671875 43.65625 24.015625 45.921875 \nQ 28.375 48.1875 33.59375 48.1875 \nQ 44.578125 48.1875 50.953125 41.515625 \nQ 57.328125 34.859375 57.328125 23.390625 \nQ 57.328125 12.15625 50.6875 5.359375 \nQ 44.046875 -1.421875 33.015625 -1.421875 \nQ 20.359375 -1.421875 13.671875 8.265625 \nQ 6.984375 17.96875 6.984375 36.375 \nQ 6.984375 53.65625 15.1875 63.9375 \nQ 23.390625 74.21875 37.203125 74.21875 \nQ 40.921875 74.21875 44.703125 73.484375 \nQ 48.484375 72.75 52.59375 71.296875 \nz\n\" id=\"DejaVuSans-54\"/>\n      </defs>\n      <g transform=\"translate(20.878125 133.389514)scale(0.1 -0.1)\">\n       <use xlink:href=\"#DejaVuSans-48\"/>\n       <use x=\"63.623047\" xlink:href=\"#DejaVuSans-46\"/>\n       <use x=\"95.410156\" xlink:href=\"#DejaVuSans-48\"/>\n       <use x=\"159.033203\" xlink:href=\"#DejaVuSans-54\"/>\n      </g>\n     </g>\n    </g>\n    <g id=\"ytick_5\">\n     <g id=\"line2d_10\">\n      <g>\n       <use style=\"stroke:#000000;stroke-width:0.8;\" x=\"50.14375\" xlink:href=\"#mfedf421a0b\" y=\"97.907061\"/>\n      </g>\n     </g>\n     <g id=\"text_10\">\n      <!-- 0.08 -->\n      <defs>\n       <path d=\"M 31.78125 34.625 \nQ 24.75 34.625 20.71875 30.859375 \nQ 16.703125 27.09375 16.703125 20.515625 \nQ 16.703125 13.921875 20.71875 10.15625 \nQ 24.75 6.390625 31.78125 6.390625 \nQ 38.8125 6.390625 42.859375 10.171875 \nQ 46.921875 13.96875 46.921875 20.515625 \nQ 46.921875 27.09375 42.890625 30.859375 \nQ 38.875 34.625 31.78125 34.625 \nz\nM 21.921875 38.8125 \nQ 15.578125 40.375 12.03125 44.71875 \nQ 8.5 49.078125 8.5 55.328125 \nQ 8.5 64.0625 14.71875 69.140625 \nQ 20.953125 74.21875 31.78125 74.21875 \nQ 42.671875 74.21875 48.875 69.140625 \nQ 55.078125 64.0625 55.078125 55.328125 \nQ 55.078125 49.078125 51.53125 44.71875 \nQ 48 40.375 41.703125 38.8125 \nQ 48.828125 37.15625 52.796875 32.3125 \nQ 56.78125 27.484375 56.78125 20.515625 \nQ 56.78125 9.90625 50.3125 4.234375 \nQ 43.84375 -1.421875 31.78125 -1.421875 \nQ 19.734375 -1.421875 13.25 4.234375 \nQ 6.78125 9.90625 6.78125 20.515625 \nQ 6.78125 27.484375 10.78125 32.3125 \nQ 14.796875 37.15625 21.921875 38.8125 \nz\nM 18.3125 54.390625 \nQ 18.3125 48.734375 21.84375 45.5625 \nQ 25.390625 42.390625 31.78125 42.390625 \nQ 38.140625 42.390625 41.71875 45.5625 \nQ 45.3125 48.734375 45.3125 54.390625 \nQ 45.3125 60.0625 41.71875 63.234375 \nQ 38.140625 66.40625 31.78125 66.40625 \nQ 25.390625 66.40625 21.84375 63.234375 \nQ 18.3125 60.0625 18.3125 54.390625 \nz\n\" id=\"DejaVuSans-56\"/>\n      </defs>\n      <g transform=\"translate(20.878125 101.706279)scale(0.1 -0.1)\">\n       <use xlink:href=\"#DejaVuSans-48\"/>\n       <use x=\"63.623047\" xlink:href=\"#DejaVuSans-46\"/>\n       <use x=\"95.410156\" xlink:href=\"#DejaVuSans-48\"/>\n       <use x=\"159.033203\" xlink:href=\"#DejaVuSans-56\"/>\n      </g>\n     </g>\n    </g>\n    <g id=\"ytick_6\">\n     <g id=\"line2d_11\">\n      <g>\n       <use style=\"stroke:#000000;stroke-width:0.8;\" x=\"50.14375\" xlink:href=\"#mfedf421a0b\" y=\"66.223826\"/>\n      </g>\n     </g>\n     <g id=\"text_11\">\n      <!-- 0.10 -->\n      <g transform=\"translate(20.878125 70.023045)scale(0.1 -0.1)\">\n       <use xlink:href=\"#DejaVuSans-48\"/>\n       <use x=\"63.623047\" xlink:href=\"#DejaVuSans-46\"/>\n       <use x=\"95.410156\" xlink:href=\"#DejaVuSans-49\"/>\n       <use x=\"159.033203\" xlink:href=\"#DejaVuSans-48\"/>\n      </g>\n     </g>\n    </g>\n    <g id=\"ytick_7\">\n     <g id=\"line2d_12\">\n      <g>\n       <use style=\"stroke:#000000;stroke-width:0.8;\" x=\"50.14375\" xlink:href=\"#mfedf421a0b\" y=\"34.540591\"/>\n      </g>\n     </g>\n     <g id=\"text_12\">\n      <!-- 0.12 -->\n      <g transform=\"translate(20.878125 38.33981)scale(0.1 -0.1)\">\n       <use xlink:href=\"#DejaVuSans-48\"/>\n       <use x=\"63.623047\" xlink:href=\"#DejaVuSans-46\"/>\n       <use x=\"95.410156\" xlink:href=\"#DejaVuSans-49\"/>\n       <use x=\"159.033203\" xlink:href=\"#DejaVuSans-50\"/>\n      </g>\n     </g>\n    </g>\n    <g id=\"text_13\">\n     <!-- Frequency -->\n     <defs>\n      <path d=\"M 9.8125 72.90625 \nL 51.703125 72.90625 \nL 51.703125 64.59375 \nL 19.671875 64.59375 \nL 19.671875 43.109375 \nL 48.578125 43.109375 \nL 48.578125 34.8125 \nL 19.671875 34.8125 \nL 19.671875 0 \nL 9.8125 0 \nz\n\" id=\"DejaVuSans-70\"/>\n      <path d=\"M 41.109375 46.296875 \nQ 39.59375 47.171875 37.8125 47.578125 \nQ 36.03125 48 33.890625 48 \nQ 26.265625 48 22.1875 43.046875 \nQ 18.109375 38.09375 18.109375 28.8125 \nL 18.109375 0 \nL 9.078125 0 \nL 9.078125 54.6875 \nL 18.109375 54.6875 \nL 18.109375 46.1875 \nQ 20.953125 51.171875 25.484375 53.578125 \nQ 30.03125 56 36.53125 56 \nQ 37.453125 56 38.578125 55.875 \nQ 39.703125 55.765625 41.0625 55.515625 \nz\n\" id=\"DejaVuSans-114\"/>\n      <path d=\"M 56.203125 29.59375 \nL 56.203125 25.203125 \nL 14.890625 25.203125 \nQ 15.484375 15.921875 20.484375 11.0625 \nQ 25.484375 6.203125 34.421875 6.203125 \nQ 39.59375 6.203125 44.453125 7.46875 \nQ 49.3125 8.734375 54.109375 11.28125 \nL 54.109375 2.78125 \nQ 49.265625 0.734375 44.1875 -0.34375 \nQ 39.109375 -1.421875 33.890625 -1.421875 \nQ 20.796875 -1.421875 13.15625 6.1875 \nQ 5.515625 13.8125 5.515625 26.8125 \nQ 5.515625 40.234375 12.765625 48.109375 \nQ 20.015625 56 32.328125 56 \nQ 43.359375 56 49.78125 48.890625 \nQ 56.203125 41.796875 56.203125 29.59375 \nz\nM 47.21875 32.234375 \nQ 47.125 39.59375 43.09375 43.984375 \nQ 39.0625 48.390625 32.421875 48.390625 \nQ 24.90625 48.390625 20.390625 44.140625 \nQ 15.875 39.890625 15.1875 32.171875 \nz\n\" id=\"DejaVuSans-101\"/>\n      <path d=\"M 14.796875 27.296875 \nQ 14.796875 17.390625 18.875 11.75 \nQ 22.953125 6.109375 30.078125 6.109375 \nQ 37.203125 6.109375 41.296875 11.75 \nQ 45.40625 17.390625 45.40625 27.296875 \nQ 45.40625 37.203125 41.296875 42.84375 \nQ 37.203125 48.484375 30.078125 48.484375 \nQ 22.953125 48.484375 18.875 42.84375 \nQ 14.796875 37.203125 14.796875 27.296875 \nz\nM 45.40625 8.203125 \nQ 42.578125 3.328125 38.25 0.953125 \nQ 33.9375 -1.421875 27.875 -1.421875 \nQ 17.96875 -1.421875 11.734375 6.484375 \nQ 5.515625 14.40625 5.515625 27.296875 \nQ 5.515625 40.1875 11.734375 48.09375 \nQ 17.96875 56 27.875 56 \nQ 33.9375 56 38.25 53.625 \nQ 42.578125 51.265625 45.40625 46.390625 \nL 45.40625 54.6875 \nL 54.390625 54.6875 \nL 54.390625 -20.796875 \nL 45.40625 -20.796875 \nz\n\" id=\"DejaVuSans-113\"/>\n      <path d=\"M 8.5 21.578125 \nL 8.5 54.6875 \nL 17.484375 54.6875 \nL 17.484375 21.921875 \nQ 17.484375 14.15625 20.5 10.265625 \nQ 23.53125 6.390625 29.59375 6.390625 \nQ 36.859375 6.390625 41.078125 11.03125 \nQ 45.3125 15.671875 45.3125 23.6875 \nL 45.3125 54.6875 \nL 54.296875 54.6875 \nL 54.296875 0 \nL 45.3125 0 \nL 45.3125 8.40625 \nQ 42.046875 3.421875 37.71875 1 \nQ 33.40625 -1.421875 27.6875 -1.421875 \nQ 18.265625 -1.421875 13.375 4.4375 \nQ 8.5 10.296875 8.5 21.578125 \nz\nM 31.109375 56 \nz\n\" id=\"DejaVuSans-117\"/>\n      <path d=\"M 54.890625 33.015625 \nL 54.890625 0 \nL 45.90625 0 \nL 45.90625 32.71875 \nQ 45.90625 40.484375 42.875 44.328125 \nQ 39.84375 48.1875 33.796875 48.1875 \nQ 26.515625 48.1875 22.3125 43.546875 \nQ 18.109375 38.921875 18.109375 30.90625 \nL 18.109375 0 \nL 9.078125 0 \nL 9.078125 54.6875 \nL 18.109375 54.6875 \nL 18.109375 46.1875 \nQ 21.34375 51.125 25.703125 53.5625 \nQ 30.078125 56 35.796875 56 \nQ 45.21875 56 50.046875 50.171875 \nQ 54.890625 44.34375 54.890625 33.015625 \nz\n\" id=\"DejaVuSans-110\"/>\n      <path d=\"M 48.78125 52.59375 \nL 48.78125 44.1875 \nQ 44.96875 46.296875 41.140625 47.34375 \nQ 37.3125 48.390625 33.40625 48.390625 \nQ 24.65625 48.390625 19.8125 42.84375 \nQ 14.984375 37.3125 14.984375 27.296875 \nQ 14.984375 17.28125 19.8125 11.734375 \nQ 24.65625 6.203125 33.40625 6.203125 \nQ 37.3125 6.203125 41.140625 7.25 \nQ 44.96875 8.296875 48.78125 10.40625 \nL 48.78125 2.09375 \nQ 45.015625 0.34375 40.984375 -0.53125 \nQ 36.96875 -1.421875 32.421875 -1.421875 \nQ 20.0625 -1.421875 12.78125 6.34375 \nQ 5.515625 14.109375 5.515625 27.296875 \nQ 5.515625 40.671875 12.859375 48.328125 \nQ 20.21875 56 33.015625 56 \nQ 37.15625 56 41.109375 55.140625 \nQ 45.0625 54.296875 48.78125 52.59375 \nz\n\" id=\"DejaVuSans-99\"/>\n      <path d=\"M 32.171875 -5.078125 \nQ 28.375 -14.84375 24.75 -17.8125 \nQ 21.140625 -20.796875 15.09375 -20.796875 \nL 7.90625 -20.796875 \nL 7.90625 -13.28125 \nL 13.1875 -13.28125 \nQ 16.890625 -13.28125 18.9375 -11.515625 \nQ 21 -9.765625 23.484375 -3.21875 \nL 25.09375 0.875 \nL 2.984375 54.6875 \nL 12.5 54.6875 \nL 29.59375 11.921875 \nL 46.6875 54.6875 \nL 56.203125 54.6875 \nz\n\" id=\"DejaVuSans-121\"/>\n     </defs>\n     <g transform=\"translate(14.798438 141.749687)rotate(-90)scale(0.1 -0.1)\">\n      <use xlink:href=\"#DejaVuSans-70\"/>\n      <use x=\"50.269531\" xlink:href=\"#DejaVuSans-114\"/>\n      <use x=\"89.132812\" xlink:href=\"#DejaVuSans-101\"/>\n      <use x=\"150.65625\" xlink:href=\"#DejaVuSans-113\"/>\n      <use x=\"214.132812\" xlink:href=\"#DejaVuSans-117\"/>\n      <use x=\"277.511719\" xlink:href=\"#DejaVuSans-101\"/>\n      <use x=\"339.035156\" xlink:href=\"#DejaVuSans-110\"/>\n      <use x=\"402.414062\" xlink:href=\"#DejaVuSans-99\"/>\n      <use x=\"457.394531\" xlink:href=\"#DejaVuSans-121\"/>\n     </g>\n    </g>\n   </g>\n   <g id=\"patch_23\">\n    <path d=\"M 50.14375 224.64 \nL 50.14375 7.2 \n\" style=\"fill:none;stroke:#000000;stroke-linecap:square;stroke-linejoin:miter;stroke-width:0.8;\"/>\n   </g>\n   <g id=\"patch_24\">\n    <path d=\"M 384.94375 224.64 \nL 384.94375 7.2 \n\" style=\"fill:none;stroke:#000000;stroke-linecap:square;stroke-linejoin:miter;stroke-width:0.8;\"/>\n   </g>\n   <g id=\"patch_25\">\n    <path d=\"M 50.14375 224.64 \nL 384.94375 224.64 \n\" style=\"fill:none;stroke:#000000;stroke-linecap:square;stroke-linejoin:miter;stroke-width:0.8;\"/>\n   </g>\n   <g id=\"patch_26\">\n    <path d=\"M 50.14375 7.2 \nL 384.94375 7.2 \n\" style=\"fill:none;stroke:#000000;stroke-linecap:square;stroke-linejoin:miter;stroke-width:0.8;\"/>\n   </g>\n  </g>\n </g>\n <defs>\n  <clipPath id=\"p635df78a00\">\n   <rect height=\"217.44\" width=\"334.8\" x=\"50.14375\" y=\"7.2\"/>\n  </clipPath>\n </defs>\n</svg>\n"
          },
          "metadata": {}
        }
      ]
    },
    {
      "cell_type": "code",
      "metadata": {
        "id": "q24wBt_163aQ",
        "colab": {
          "base_uri": "https://localhost:8080/"
        },
        "outputId": "82ca4876-b5e9-4b72-faf0-1dbe216eb8f2"
      },
      "source": [
        "new_data = get_category(new_data,'worktm',5, [\"lowest\",\"low\",\"medium\",\"high\",\"highest\"])\n",
        "iv, data=calc_iv(new_data,'gp_worktm','target')\n",
        "ivtable.loc[ivtable['variable']=='DAYS_EMPLOYED','IV']=iv\n",
        "data.head()"
      ],
      "execution_count": null,
      "outputs": [
        {
          "output_type": "stream",
          "name": "stdout",
          "text": [
            "El IV de esta variable es: 0.04022152230816303\n",
            "lowest     18254\n",
            "low         4987\n",
            "medium      1378\n",
            "high         425\n",
            "highest       90\n",
            "Name: gp_worktm, dtype: int64\n"
          ]
        },
        {
          "output_type": "execute_result",
          "data": {
            "text/html": [
              "<div>\n",
              "<style scoped>\n",
              "    .dataframe tbody tr th:only-of-type {\n",
              "        vertical-align: middle;\n",
              "    }\n",
              "\n",
              "    .dataframe tbody tr th {\n",
              "        vertical-align: top;\n",
              "    }\n",
              "\n",
              "    .dataframe thead th {\n",
              "        text-align: right;\n",
              "    }\n",
              "</style>\n",
              "<table border=\"1\" class=\"dataframe\">\n",
              "  <thead>\n",
              "    <tr style=\"text-align: right;\">\n",
              "      <th></th>\n",
              "      <th>Variable</th>\n",
              "      <th>Value</th>\n",
              "      <th>All</th>\n",
              "      <th>Good</th>\n",
              "      <th>Bad</th>\n",
              "      <th>Share</th>\n",
              "      <th>Bad Rate</th>\n",
              "      <th>Distribution Good</th>\n",
              "      <th>Distribution Bad</th>\n",
              "      <th>WoE</th>\n",
              "      <th>IV</th>\n",
              "    </tr>\n",
              "  </thead>\n",
              "  <tbody>\n",
              "    <tr>\n",
              "      <th>0</th>\n",
              "      <td>gp_worktm</td>\n",
              "      <td>high</td>\n",
              "      <td>425</td>\n",
              "      <td>423</td>\n",
              "      <td>2</td>\n",
              "      <td>0.016909</td>\n",
              "      <td>0.004706</td>\n",
              "      <td>0.017117</td>\n",
              "      <td>0.004739</td>\n",
              "      <td>1.284186</td>\n",
              "      <td>0.015895</td>\n",
              "    </tr>\n",
              "    <tr>\n",
              "      <th>1</th>\n",
              "      <td>gp_worktm</td>\n",
              "      <td>highest</td>\n",
              "      <td>90</td>\n",
              "      <td>90</td>\n",
              "      <td>0</td>\n",
              "      <td>0.003581</td>\n",
              "      <td>0.000000</td>\n",
              "      <td>0.003642</td>\n",
              "      <td>0.000000</td>\n",
              "      <td>0.000000</td>\n",
              "      <td>0.000000</td>\n",
              "    </tr>\n",
              "    <tr>\n",
              "      <th>2</th>\n",
              "      <td>gp_worktm</td>\n",
              "      <td>low</td>\n",
              "      <td>4987</td>\n",
              "      <td>4921</td>\n",
              "      <td>66</td>\n",
              "      <td>0.198416</td>\n",
              "      <td>0.013234</td>\n",
              "      <td>0.199134</td>\n",
              "      <td>0.156398</td>\n",
              "      <td>0.241573</td>\n",
              "      <td>0.010324</td>\n",
              "    </tr>\n",
              "    <tr>\n",
              "      <th>3</th>\n",
              "      <td>gp_worktm</td>\n",
              "      <td>lowest</td>\n",
              "      <td>18254</td>\n",
              "      <td>17916</td>\n",
              "      <td>338</td>\n",
              "      <td>0.726267</td>\n",
              "      <td>0.018516</td>\n",
              "      <td>0.724992</td>\n",
              "      <td>0.800948</td>\n",
              "      <td>-0.099635</td>\n",
              "      <td>0.007568</td>\n",
              "    </tr>\n",
              "    <tr>\n",
              "      <th>4</th>\n",
              "      <td>gp_worktm</td>\n",
              "      <td>medium</td>\n",
              "      <td>1378</td>\n",
              "      <td>1362</td>\n",
              "      <td>16</td>\n",
              "      <td>0.054826</td>\n",
              "      <td>0.011611</td>\n",
              "      <td>0.055115</td>\n",
              "      <td>0.037915</td>\n",
              "      <td>0.374082</td>\n",
              "      <td>0.006434</td>\n",
              "    </tr>\n",
              "  </tbody>\n",
              "</table>\n",
              "</div>"
            ],
            "text/plain": [
              "    Variable    Value    All  ...  Distribution Bad       WoE        IV\n",
              "0  gp_worktm     high    425  ...          0.004739  1.284186  0.015895\n",
              "1  gp_worktm  highest     90  ...          0.000000  0.000000  0.000000\n",
              "2  gp_worktm      low   4987  ...          0.156398  0.241573  0.010324\n",
              "3  gp_worktm   lowest  18254  ...          0.800948 -0.099635  0.007568\n",
              "4  gp_worktm   medium   1378  ...          0.037915  0.374082  0.006434\n",
              "\n",
              "[5 rows x 11 columns]"
            ]
          },
          "metadata": {},
          "execution_count": 39
        }
      ]
    },
    {
      "cell_type": "code",
      "metadata": {
        "id": "AhUlJcvm63aQ"
      },
      "source": [
        "# Codificación One-Hot\n",
        "new_data = convert_dummy(new_data,'gp_worktm')"
      ],
      "execution_count": null,
      "outputs": []
    },
    {
      "cell_type": "markdown",
      "metadata": {
        "id": "IhoMHLrk63aQ"
      },
      "source": [
        "#### Tamaño de Familia"
      ]
    },
    {
      "cell_type": "code",
      "metadata": {
        "id": "6GUqyfgG63aR",
        "colab": {
          "base_uri": "https://localhost:8080/"
        },
        "outputId": "b20d74e2-7f0e-4bf0-d074-405157aa6a35"
      },
      "source": [
        "new_data['famsize'].value_counts(sort=False)"
      ],
      "execution_count": null,
      "outputs": [
        {
          "output_type": "execute_result",
          "data": {
            "text/plain": [
              "2.0     12697\n",
              "1.0      4263\n",
              "3.0      5216\n",
              "4.0      2576\n",
              "6.0        51\n",
              "9.0         2\n",
              "5.0       307\n",
              "7.0        18\n",
              "20.0        1\n",
              "15.0        3\n",
              "Name: famsize, dtype: int64"
            ]
          },
          "metadata": {},
          "execution_count": 41
        }
      ]
    },
    {
      "cell_type": "code",
      "metadata": {
        "id": "LZLVOW6Z63aR",
        "colab": {
          "base_uri": "https://localhost:8080/"
        },
        "outputId": "0f89b0bc-58d2-47e4-85ca-28db12e80405"
      },
      "source": [
        "new_data['famsize']=new_data['famsize'].astype(int)\n",
        "new_data['famsizegp']=new_data['famsize']\n",
        "new_data['famsizegp']=new_data['famsizegp'].astype(object)\n",
        "new_data.loc[new_data['famsizegp']>=3,'famsizegp']='3more'\n",
        "iv, data=calc_iv(new_data,'famsizegp','target')\n",
        "ivtable.loc[ivtable['variable']=='famsize','IV']=iv\n",
        "data.head()"
      ],
      "execution_count": null,
      "outputs": [
        {
          "output_type": "stream",
          "name": "stdout",
          "text": [
            "El IV de esta variable es: 0.006156138510778323\n",
            "2        12697\n",
            "3more     8174\n",
            "1         4263\n",
            "Name: famsizegp, dtype: int64\n"
          ]
        },
        {
          "output_type": "execute_result",
          "data": {
            "text/html": [
              "<div>\n",
              "<style scoped>\n",
              "    .dataframe tbody tr th:only-of-type {\n",
              "        vertical-align: middle;\n",
              "    }\n",
              "\n",
              "    .dataframe tbody tr th {\n",
              "        vertical-align: top;\n",
              "    }\n",
              "\n",
              "    .dataframe thead th {\n",
              "        text-align: right;\n",
              "    }\n",
              "</style>\n",
              "<table border=\"1\" class=\"dataframe\">\n",
              "  <thead>\n",
              "    <tr style=\"text-align: right;\">\n",
              "      <th></th>\n",
              "      <th>Variable</th>\n",
              "      <th>Value</th>\n",
              "      <th>All</th>\n",
              "      <th>Good</th>\n",
              "      <th>Bad</th>\n",
              "      <th>Share</th>\n",
              "      <th>Bad Rate</th>\n",
              "      <th>Distribution Good</th>\n",
              "      <th>Distribution Bad</th>\n",
              "      <th>WoE</th>\n",
              "      <th>IV</th>\n",
              "    </tr>\n",
              "  </thead>\n",
              "  <tbody>\n",
              "    <tr>\n",
              "      <th>0</th>\n",
              "      <td>famsizegp</td>\n",
              "      <td>1</td>\n",
              "      <td>4263</td>\n",
              "      <td>4179</td>\n",
              "      <td>84</td>\n",
              "      <td>0.169611</td>\n",
              "      <td>0.019704</td>\n",
              "      <td>0.169108</td>\n",
              "      <td>0.199052</td>\n",
              "      <td>-0.163028</td>\n",
              "      <td>0.004882</td>\n",
              "    </tr>\n",
              "    <tr>\n",
              "      <th>1</th>\n",
              "      <td>famsizegp</td>\n",
              "      <td>2</td>\n",
              "      <td>12697</td>\n",
              "      <td>12489</td>\n",
              "      <td>208</td>\n",
              "      <td>0.505172</td>\n",
              "      <td>0.016382</td>\n",
              "      <td>0.505382</td>\n",
              "      <td>0.492891</td>\n",
              "      <td>0.025027</td>\n",
              "      <td>0.000313</td>\n",
              "    </tr>\n",
              "    <tr>\n",
              "      <th>2</th>\n",
              "      <td>famsizegp</td>\n",
              "      <td>3more</td>\n",
              "      <td>8174</td>\n",
              "      <td>8044</td>\n",
              "      <td>130</td>\n",
              "      <td>0.325217</td>\n",
              "      <td>0.015904</td>\n",
              "      <td>0.325510</td>\n",
              "      <td>0.308057</td>\n",
              "      <td>0.055108</td>\n",
              "      <td>0.000962</td>\n",
              "    </tr>\n",
              "  </tbody>\n",
              "</table>\n",
              "</div>"
            ],
            "text/plain": [
              "    Variable  Value    All  ...  Distribution Bad       WoE        IV\n",
              "0  famsizegp      1   4263  ...          0.199052 -0.163028  0.004882\n",
              "1  famsizegp      2  12697  ...          0.492891  0.025027  0.000313\n",
              "2  famsizegp  3more   8174  ...          0.308057  0.055108  0.000962\n",
              "\n",
              "[3 rows x 11 columns]"
            ]
          },
          "metadata": {},
          "execution_count": 42
        }
      ]
    },
    {
      "cell_type": "code",
      "metadata": {
        "id": "Wg5umtmq63aR"
      },
      "source": [
        "# Codificación One-Hot\n",
        "new_data = convert_dummy(new_data,'famsizegp')"
      ],
      "execution_count": null,
      "outputs": []
    },
    {
      "cell_type": "markdown",
      "metadata": {
        "id": "zYN2N86s63aR"
      },
      "source": [
        "### Descriptores Categóricos\n",
        "\n",
        "#### Forma de Ingresos"
      ]
    },
    {
      "cell_type": "code",
      "metadata": {
        "id": "1_RV6ONe63aS",
        "colab": {
          "base_uri": "https://localhost:8080/"
        },
        "outputId": "a8788034-4fb9-417b-ae05-fe4947b2a5ac"
      },
      "source": [
        "print(new_data['inctp'].value_counts(sort=False))\n",
        "print(new_data['inctp'].value_counts(normalize=True,sort=False))\n",
        "new_data.loc[new_data['inctp']=='Pensioner','inctp']='State servant'\n",
        "new_data.loc[new_data['inctp']=='Student','inctp']='State servant'\n",
        "iv, data=calc_iv(new_data,'inctp','target')\n",
        "ivtable.loc[ivtable['variable']=='inctp','IV']=iv\n",
        "data.head()"
      ],
      "execution_count": null,
      "outputs": [
        {
          "output_type": "stream",
          "name": "stdout",
          "text": [
            "State servant            2437\n",
            "Pensioner                  13\n",
            "Student                    10\n",
            "Commercial associate     7052\n",
            "Working                 15622\n",
            "Name: inctp, dtype: int64\n",
            "State servant           0.096960\n",
            "Pensioner               0.000517\n",
            "Student                 0.000398\n",
            "Commercial associate    0.280576\n",
            "Working                 0.621549\n",
            "Name: inctp, dtype: float64\n",
            "El IV de esta variable es: 5.159303327851404e-05\n",
            "Working                 15622\n",
            "Commercial associate     7052\n",
            "State servant            2460\n",
            "Name: inctp, dtype: int64\n"
          ]
        },
        {
          "output_type": "execute_result",
          "data": {
            "text/html": [
              "<div>\n",
              "<style scoped>\n",
              "    .dataframe tbody tr th:only-of-type {\n",
              "        vertical-align: middle;\n",
              "    }\n",
              "\n",
              "    .dataframe tbody tr th {\n",
              "        vertical-align: top;\n",
              "    }\n",
              "\n",
              "    .dataframe thead th {\n",
              "        text-align: right;\n",
              "    }\n",
              "</style>\n",
              "<table border=\"1\" class=\"dataframe\">\n",
              "  <thead>\n",
              "    <tr style=\"text-align: right;\">\n",
              "      <th></th>\n",
              "      <th>Variable</th>\n",
              "      <th>Value</th>\n",
              "      <th>All</th>\n",
              "      <th>Good</th>\n",
              "      <th>Bad</th>\n",
              "      <th>Share</th>\n",
              "      <th>Bad Rate</th>\n",
              "      <th>Distribution Good</th>\n",
              "      <th>Distribution Bad</th>\n",
              "      <th>WoE</th>\n",
              "      <th>IV</th>\n",
              "    </tr>\n",
              "  </thead>\n",
              "  <tbody>\n",
              "    <tr>\n",
              "      <th>0</th>\n",
              "      <td>inctp</td>\n",
              "      <td>Commercial associate</td>\n",
              "      <td>7052</td>\n",
              "      <td>6933</td>\n",
              "      <td>119</td>\n",
              "      <td>0.280576</td>\n",
              "      <td>0.016875</td>\n",
              "      <td>0.280552</td>\n",
              "      <td>0.281991</td>\n",
              "      <td>-0.005115</td>\n",
              "      <td>0.000007</td>\n",
              "    </tr>\n",
              "    <tr>\n",
              "      <th>1</th>\n",
              "      <td>inctp</td>\n",
              "      <td>State servant</td>\n",
              "      <td>2460</td>\n",
              "      <td>2418</td>\n",
              "      <td>42</td>\n",
              "      <td>0.097875</td>\n",
              "      <td>0.017073</td>\n",
              "      <td>0.097847</td>\n",
              "      <td>0.099526</td>\n",
              "      <td>-0.017013</td>\n",
              "      <td>0.000029</td>\n",
              "    </tr>\n",
              "    <tr>\n",
              "      <th>2</th>\n",
              "      <td>inctp</td>\n",
              "      <td>Working</td>\n",
              "      <td>15622</td>\n",
              "      <td>15361</td>\n",
              "      <td>261</td>\n",
              "      <td>0.621549</td>\n",
              "      <td>0.016707</td>\n",
              "      <td>0.621601</td>\n",
              "      <td>0.618483</td>\n",
              "      <td>0.005028</td>\n",
              "      <td>0.000016</td>\n",
              "    </tr>\n",
              "  </tbody>\n",
              "</table>\n",
              "</div>"
            ],
            "text/plain": [
              "  Variable                 Value    All  ...  Distribution Bad       WoE        IV\n",
              "0    inctp  Commercial associate   7052  ...          0.281991 -0.005115  0.000007\n",
              "1    inctp         State servant   2460  ...          0.099526 -0.017013  0.000029\n",
              "2    inctp               Working  15622  ...          0.618483  0.005028  0.000016\n",
              "\n",
              "[3 rows x 11 columns]"
            ]
          },
          "metadata": {},
          "execution_count": 44
        }
      ]
    },
    {
      "cell_type": "code",
      "metadata": {
        "id": "d4DMRSxr63aS"
      },
      "source": [
        "# Codificación One-Hot\n",
        "new_data = convert_dummy(new_data,'inctp')"
      ],
      "execution_count": null,
      "outputs": []
    },
    {
      "cell_type": "markdown",
      "metadata": {
        "id": "Eda1_40y63aS"
      },
      "source": [
        "#### Tipo de Ocupación"
      ]
    },
    {
      "cell_type": "code",
      "metadata": {
        "id": "CrqdHfks63aS",
        "colab": {
          "base_uri": "https://localhost:8080/"
        },
        "outputId": "7e6e7d4b-d12e-411c-d65a-2835137075d0"
      },
      "source": [
        "new_data.loc[(new_data['occyp']=='Cleaning staff') | (new_data['occyp']=='Cooking staff') | (new_data['occyp']=='Drivers') | (new_data['occyp']=='Laborers') | (new_data['occyp']=='Low-skill Laborers') | (new_data['occyp']=='Security staff') | (new_data['occyp']=='Waiters/barmen staff'),'occyp']='Laborwk'\n",
        "new_data.loc[(new_data['occyp']=='Accountants') | (new_data['occyp']=='Core staff') | (new_data['occyp']=='HR staff') | (new_data['occyp']=='Medicine staff') | (new_data['occyp']=='Private service staff') | (new_data['occyp']=='Realty agents') | (new_data['occyp']=='Sales staff') | (new_data['occyp']=='Secretaries'),'occyp']='officewk'\n",
        "new_data.loc[(new_data['occyp']=='Managers') | (new_data['occyp']=='High skill tech staff') | (new_data['occyp']=='IT staff'),'occyp']='hightecwk'\n",
        "print(new_data['occyp'].value_counts())\n",
        "iv, data=calc_iv(new_data,'occyp','target')\n",
        "ivtable.loc[ivtable['variable']=='occyp','IV']=iv\n",
        "data.head()         "
      ],
      "execution_count": null,
      "outputs": [
        {
          "output_type": "stream",
          "name": "stdout",
          "text": [
            "Laborwk      10496\n",
            "officewk     10183\n",
            "hightecwk     4455\n",
            "Name: occyp, dtype: int64\n",
            "El IV de esta variable es: 0.004820472062853304\n",
            "Laborwk      10496\n",
            "officewk     10183\n",
            "hightecwk     4455\n",
            "Name: occyp, dtype: int64\n"
          ]
        },
        {
          "output_type": "execute_result",
          "data": {
            "text/html": [
              "<div>\n",
              "<style scoped>\n",
              "    .dataframe tbody tr th:only-of-type {\n",
              "        vertical-align: middle;\n",
              "    }\n",
              "\n",
              "    .dataframe tbody tr th {\n",
              "        vertical-align: top;\n",
              "    }\n",
              "\n",
              "    .dataframe thead th {\n",
              "        text-align: right;\n",
              "    }\n",
              "</style>\n",
              "<table border=\"1\" class=\"dataframe\">\n",
              "  <thead>\n",
              "    <tr style=\"text-align: right;\">\n",
              "      <th></th>\n",
              "      <th>Variable</th>\n",
              "      <th>Value</th>\n",
              "      <th>All</th>\n",
              "      <th>Good</th>\n",
              "      <th>Bad</th>\n",
              "      <th>Share</th>\n",
              "      <th>Bad Rate</th>\n",
              "      <th>Distribution Good</th>\n",
              "      <th>Distribution Bad</th>\n",
              "      <th>WoE</th>\n",
              "      <th>IV</th>\n",
              "    </tr>\n",
              "  </thead>\n",
              "  <tbody>\n",
              "    <tr>\n",
              "      <th>0</th>\n",
              "      <td>occyp</td>\n",
              "      <td>Laborwk</td>\n",
              "      <td>10496</td>\n",
              "      <td>10311</td>\n",
              "      <td>185</td>\n",
              "      <td>0.417602</td>\n",
              "      <td>0.017626</td>\n",
              "      <td>0.417247</td>\n",
              "      <td>0.438389</td>\n",
              "      <td>-0.049428</td>\n",
              "      <td>0.001045</td>\n",
              "    </tr>\n",
              "    <tr>\n",
              "      <th>1</th>\n",
              "      <td>occyp</td>\n",
              "      <td>hightecwk</td>\n",
              "      <td>4455</td>\n",
              "      <td>4375</td>\n",
              "      <td>80</td>\n",
              "      <td>0.177250</td>\n",
              "      <td>0.017957</td>\n",
              "      <td>0.177039</td>\n",
              "      <td>0.189573</td>\n",
              "      <td>-0.068404</td>\n",
              "      <td>0.000857</td>\n",
              "    </tr>\n",
              "    <tr>\n",
              "      <th>2</th>\n",
              "      <td>occyp</td>\n",
              "      <td>officewk</td>\n",
              "      <td>10183</td>\n",
              "      <td>10026</td>\n",
              "      <td>157</td>\n",
              "      <td>0.405148</td>\n",
              "      <td>0.015418</td>\n",
              "      <td>0.405714</td>\n",
              "      <td>0.372038</td>\n",
              "      <td>0.086652</td>\n",
              "      <td>0.002918</td>\n",
              "    </tr>\n",
              "  </tbody>\n",
              "</table>\n",
              "</div>"
            ],
            "text/plain": [
              "  Variable      Value    All  ...  Distribution Bad       WoE        IV\n",
              "0    occyp    Laborwk  10496  ...          0.438389 -0.049428  0.001045\n",
              "1    occyp  hightecwk   4455  ...          0.189573 -0.068404  0.000857\n",
              "2    occyp   officewk  10183  ...          0.372038  0.086652  0.002918\n",
              "\n",
              "[3 rows x 11 columns]"
            ]
          },
          "metadata": {},
          "execution_count": 46
        }
      ]
    },
    {
      "cell_type": "code",
      "metadata": {
        "id": "Lpvtt3GS63aT"
      },
      "source": [
        "new_data = convert_dummy(new_data,'occyp')"
      ],
      "execution_count": null,
      "outputs": []
    },
    {
      "cell_type": "code",
      "metadata": {
        "id": "MBxsuQ_c63aT",
        "colab": {
          "base_uri": "https://localhost:8080/"
        },
        "outputId": "bf666886-3f4a-42e8-e209-71fcaca3842b"
      },
      "source": [
        "new_data.columns"
      ],
      "execution_count": null,
      "outputs": [
        {
          "output_type": "execute_result",
          "data": {
            "text/plain": [
              "Index(['ID', 'Gender', 'Car', 'Reality', 'inc', 'edutp', 'famtp', 'houtp',\n",
              "       'DAYS_BIRTH', 'DAYS_EMPLOYED', 'FLAG_MOBIL', 'wkphone', 'phone',\n",
              "       'email', 'famsize', 'begin_month', 'dep_value', 'target', 'ChldNo_1',\n",
              "       'ChldNo_2More', 'gp_inc_high', 'gp_inc_medium', 'Age', 'gp_Age_high',\n",
              "       'gp_Age_highest', 'gp_Age_low', 'gp_Age_lowest', 'worktm',\n",
              "       'gp_worktm_high', 'gp_worktm_highest', 'gp_worktm_low',\n",
              "       'gp_worktm_medium', 'famsizegp_1', 'famsizegp_3more',\n",
              "       'inctp_Commercial associate', 'inctp_State servant', 'occyp_hightecwk',\n",
              "       'occyp_officewk'],\n",
              "      dtype='object')"
            ]
          },
          "metadata": {},
          "execution_count": 48
        }
      ]
    },
    {
      "cell_type": "markdown",
      "metadata": {
        "id": "CjRjwAyZ63aT"
      },
      "source": [
        "#### Forma de Vivienda"
      ]
    },
    {
      "cell_type": "code",
      "metadata": {
        "id": "diTEfXg963aU",
        "colab": {
          "base_uri": "https://localhost:8080/"
        },
        "outputId": "a25f1514-6a49-4e12-850e-c16741f5b7fd"
      },
      "source": [
        "iv, data=calc_iv(new_data,'houtp','target')\n",
        "ivtable.loc[ivtable['variable']=='houtp','IV']=iv\n",
        "data.head()"
      ],
      "execution_count": null,
      "outputs": [
        {
          "output_type": "stream",
          "name": "stdout",
          "text": [
            "El IV de esta variable es: 0.0073275026880227365\n",
            "House / apartment      22102\n",
            "With parents            1430\n",
            "Municipal apartment      812\n",
            "Rented apartment         439\n",
            "Office apartment         199\n",
            "Co-op apartment          152\n",
            "Name: houtp, dtype: int64\n"
          ]
        },
        {
          "output_type": "execute_result",
          "data": {
            "text/html": [
              "<div>\n",
              "<style scoped>\n",
              "    .dataframe tbody tr th:only-of-type {\n",
              "        vertical-align: middle;\n",
              "    }\n",
              "\n",
              "    .dataframe tbody tr th {\n",
              "        vertical-align: top;\n",
              "    }\n",
              "\n",
              "    .dataframe thead th {\n",
              "        text-align: right;\n",
              "    }\n",
              "</style>\n",
              "<table border=\"1\" class=\"dataframe\">\n",
              "  <thead>\n",
              "    <tr style=\"text-align: right;\">\n",
              "      <th></th>\n",
              "      <th>Variable</th>\n",
              "      <th>Value</th>\n",
              "      <th>All</th>\n",
              "      <th>Good</th>\n",
              "      <th>Bad</th>\n",
              "      <th>Share</th>\n",
              "      <th>Bad Rate</th>\n",
              "      <th>Distribution Good</th>\n",
              "      <th>Distribution Bad</th>\n",
              "      <th>WoE</th>\n",
              "      <th>IV</th>\n",
              "    </tr>\n",
              "  </thead>\n",
              "  <tbody>\n",
              "    <tr>\n",
              "      <th>0</th>\n",
              "      <td>houtp</td>\n",
              "      <td>Co-op apartment</td>\n",
              "      <td>152</td>\n",
              "      <td>149</td>\n",
              "      <td>3</td>\n",
              "      <td>0.006048</td>\n",
              "      <td>0.019737</td>\n",
              "      <td>0.006029</td>\n",
              "      <td>0.007109</td>\n",
              "      <td>-0.164705</td>\n",
              "      <td>0.000178</td>\n",
              "    </tr>\n",
              "    <tr>\n",
              "      <th>1</th>\n",
              "      <td>houtp</td>\n",
              "      <td>House / apartment</td>\n",
              "      <td>22102</td>\n",
              "      <td>21738</td>\n",
              "      <td>364</td>\n",
              "      <td>0.879367</td>\n",
              "      <td>0.016469</td>\n",
              "      <td>0.879654</td>\n",
              "      <td>0.862559</td>\n",
              "      <td>0.019624</td>\n",
              "      <td>0.000335</td>\n",
              "    </tr>\n",
              "    <tr>\n",
              "      <th>2</th>\n",
              "      <td>houtp</td>\n",
              "      <td>Municipal apartment</td>\n",
              "      <td>812</td>\n",
              "      <td>793</td>\n",
              "      <td>19</td>\n",
              "      <td>0.032307</td>\n",
              "      <td>0.023399</td>\n",
              "      <td>0.032090</td>\n",
              "      <td>0.045024</td>\n",
              "      <td>-0.338655</td>\n",
              "      <td>0.004380</td>\n",
              "    </tr>\n",
              "    <tr>\n",
              "      <th>3</th>\n",
              "      <td>houtp</td>\n",
              "      <td>Office apartment</td>\n",
              "      <td>199</td>\n",
              "      <td>194</td>\n",
              "      <td>5</td>\n",
              "      <td>0.007918</td>\n",
              "      <td>0.025126</td>\n",
              "      <td>0.007850</td>\n",
              "      <td>0.011848</td>\n",
              "      <td>-0.411619</td>\n",
              "      <td>0.001646</td>\n",
              "    </tr>\n",
              "    <tr>\n",
              "      <th>4</th>\n",
              "      <td>houtp</td>\n",
              "      <td>Rented apartment</td>\n",
              "      <td>439</td>\n",
              "      <td>433</td>\n",
              "      <td>6</td>\n",
              "      <td>0.017466</td>\n",
              "      <td>0.013667</td>\n",
              "      <td>0.017522</td>\n",
              "      <td>0.014218</td>\n",
              "      <td>0.208939</td>\n",
              "      <td>0.000690</td>\n",
              "    </tr>\n",
              "  </tbody>\n",
              "</table>\n",
              "</div>"
            ],
            "text/plain": [
              "  Variable                Value    All  ...  Distribution Bad       WoE        IV\n",
              "0    houtp      Co-op apartment    152  ...          0.007109 -0.164705  0.000178\n",
              "1    houtp    House / apartment  22102  ...          0.862559  0.019624  0.000335\n",
              "2    houtp  Municipal apartment    812  ...          0.045024 -0.338655  0.004380\n",
              "3    houtp     Office apartment    199  ...          0.011848 -0.411619  0.001646\n",
              "4    houtp     Rented apartment    439  ...          0.014218  0.208939  0.000690\n",
              "\n",
              "[5 rows x 11 columns]"
            ]
          },
          "metadata": {},
          "execution_count": 49
        }
      ]
    },
    {
      "cell_type": "code",
      "metadata": {
        "id": "hV9d3HBI63aU"
      },
      "source": [
        "new_data = convert_dummy(new_data,'houtp')"
      ],
      "execution_count": null,
      "outputs": []
    },
    {
      "cell_type": "code",
      "metadata": {
        "id": "bsf4XD-463aU",
        "colab": {
          "base_uri": "https://localhost:8080/"
        },
        "outputId": "e503ebe4-8e43-40cd-d240-83513005da04"
      },
      "source": [
        "new_data.columns"
      ],
      "execution_count": null,
      "outputs": [
        {
          "output_type": "execute_result",
          "data": {
            "text/plain": [
              "Index(['ID', 'Gender', 'Car', 'Reality', 'inc', 'edutp', 'famtp', 'DAYS_BIRTH',\n",
              "       'DAYS_EMPLOYED', 'FLAG_MOBIL', 'wkphone', 'phone', 'email', 'famsize',\n",
              "       'begin_month', 'dep_value', 'target', 'ChldNo_1', 'ChldNo_2More',\n",
              "       'gp_inc_high', 'gp_inc_medium', 'Age', 'gp_Age_high', 'gp_Age_highest',\n",
              "       'gp_Age_low', 'gp_Age_lowest', 'worktm', 'gp_worktm_high',\n",
              "       'gp_worktm_highest', 'gp_worktm_low', 'gp_worktm_medium', 'famsizegp_1',\n",
              "       'famsizegp_3more', 'inctp_Commercial associate', 'inctp_State servant',\n",
              "       'occyp_hightecwk', 'occyp_officewk', 'houtp_Co-op apartment',\n",
              "       'houtp_Municipal apartment', 'houtp_Office apartment',\n",
              "       'houtp_Rented apartment', 'houtp_With parents'],\n",
              "      dtype='object')"
            ]
          },
          "metadata": {},
          "execution_count": 51
        }
      ]
    },
    {
      "cell_type": "markdown",
      "metadata": {
        "id": "xuroPwMb63aU"
      },
      "source": [
        "#### Educación"
      ]
    },
    {
      "cell_type": "code",
      "metadata": {
        "id": "hk5sJoah63aV",
        "colab": {
          "base_uri": "https://localhost:8080/"
        },
        "outputId": "2c7347bc-486c-458c-ac09-7f86f84773b8"
      },
      "source": [
        "new_data.loc[new_data['edutp']=='Academic degree','edutp']='Higher education'\n",
        "iv, data=calc_iv(new_data,'edutp','target')\n",
        "ivtable.loc[ivtable['variable']=='edutp','IV']=iv\n",
        "data.head()"
      ],
      "execution_count": null,
      "outputs": [
        {
          "output_type": "stream",
          "name": "stdout",
          "text": [
            "El IV de esta variable es: 0.010361794017679489\n",
            "Secondary / secondary special    16808\n",
            "Higher education                  7146\n",
            "Incomplete higher                  993\n",
            "Lower secondary                    187\n",
            "Name: edutp, dtype: int64\n"
          ]
        },
        {
          "output_type": "execute_result",
          "data": {
            "text/html": [
              "<div>\n",
              "<style scoped>\n",
              "    .dataframe tbody tr th:only-of-type {\n",
              "        vertical-align: middle;\n",
              "    }\n",
              "\n",
              "    .dataframe tbody tr th {\n",
              "        vertical-align: top;\n",
              "    }\n",
              "\n",
              "    .dataframe thead th {\n",
              "        text-align: right;\n",
              "    }\n",
              "</style>\n",
              "<table border=\"1\" class=\"dataframe\">\n",
              "  <thead>\n",
              "    <tr style=\"text-align: right;\">\n",
              "      <th></th>\n",
              "      <th>Variable</th>\n",
              "      <th>Value</th>\n",
              "      <th>All</th>\n",
              "      <th>Good</th>\n",
              "      <th>Bad</th>\n",
              "      <th>Share</th>\n",
              "      <th>Bad Rate</th>\n",
              "      <th>Distribution Good</th>\n",
              "      <th>Distribution Bad</th>\n",
              "      <th>WoE</th>\n",
              "      <th>IV</th>\n",
              "    </tr>\n",
              "  </thead>\n",
              "  <tbody>\n",
              "    <tr>\n",
              "      <th>0</th>\n",
              "      <td>edutp</td>\n",
              "      <td>Higher education</td>\n",
              "      <td>7146</td>\n",
              "      <td>7018</td>\n",
              "      <td>128</td>\n",
              "      <td>0.284316</td>\n",
              "      <td>0.017912</td>\n",
              "      <td>0.283992</td>\n",
              "      <td>0.303318</td>\n",
              "      <td>-0.065836</td>\n",
              "      <td>0.001272</td>\n",
              "    </tr>\n",
              "    <tr>\n",
              "      <th>1</th>\n",
              "      <td>edutp</td>\n",
              "      <td>Incomplete higher</td>\n",
              "      <td>993</td>\n",
              "      <td>972</td>\n",
              "      <td>21</td>\n",
              "      <td>0.039508</td>\n",
              "      <td>0.021148</td>\n",
              "      <td>0.039333</td>\n",
              "      <td>0.049763</td>\n",
              "      <td>-0.235206</td>\n",
              "      <td>0.002453</td>\n",
              "    </tr>\n",
              "    <tr>\n",
              "      <th>2</th>\n",
              "      <td>edutp</td>\n",
              "      <td>Lower secondary</td>\n",
              "      <td>187</td>\n",
              "      <td>181</td>\n",
              "      <td>6</td>\n",
              "      <td>0.007440</td>\n",
              "      <td>0.032086</td>\n",
              "      <td>0.007324</td>\n",
              "      <td>0.014218</td>\n",
              "      <td>-0.663301</td>\n",
              "      <td>0.004573</td>\n",
              "    </tr>\n",
              "    <tr>\n",
              "      <th>3</th>\n",
              "      <td>edutp</td>\n",
              "      <td>Secondary / secondary special</td>\n",
              "      <td>16808</td>\n",
              "      <td>16541</td>\n",
              "      <td>267</td>\n",
              "      <td>0.668736</td>\n",
              "      <td>0.015885</td>\n",
              "      <td>0.669351</td>\n",
              "      <td>0.632701</td>\n",
              "      <td>0.056310</td>\n",
              "      <td>0.002064</td>\n",
              "    </tr>\n",
              "  </tbody>\n",
              "</table>\n",
              "</div>"
            ],
            "text/plain": [
              "  Variable                          Value  ...       WoE        IV\n",
              "0    edutp               Higher education  ... -0.065836  0.001272\n",
              "1    edutp              Incomplete higher  ... -0.235206  0.002453\n",
              "2    edutp                Lower secondary  ... -0.663301  0.004573\n",
              "3    edutp  Secondary / secondary special  ...  0.056310  0.002064\n",
              "\n",
              "[4 rows x 11 columns]"
            ]
          },
          "metadata": {},
          "execution_count": 52
        }
      ]
    },
    {
      "cell_type": "code",
      "metadata": {
        "id": "NNaxgBDU63aV"
      },
      "source": [
        "new_data = convert_dummy(new_data,'edutp')"
      ],
      "execution_count": null,
      "outputs": []
    },
    {
      "cell_type": "code",
      "metadata": {
        "id": "ZkZqQtU663aV",
        "colab": {
          "base_uri": "https://localhost:8080/"
        },
        "outputId": "32f4e36d-cf51-4e66-d2d1-43399ad1305d"
      },
      "source": [
        "new_data.columns"
      ],
      "execution_count": null,
      "outputs": [
        {
          "output_type": "execute_result",
          "data": {
            "text/plain": [
              "Index(['ID', 'Gender', 'Car', 'Reality', 'inc', 'famtp', 'DAYS_BIRTH',\n",
              "       'DAYS_EMPLOYED', 'FLAG_MOBIL', 'wkphone', 'phone', 'email', 'famsize',\n",
              "       'begin_month', 'dep_value', 'target', 'ChldNo_1', 'ChldNo_2More',\n",
              "       'gp_inc_high', 'gp_inc_medium', 'Age', 'gp_Age_high', 'gp_Age_highest',\n",
              "       'gp_Age_low', 'gp_Age_lowest', 'worktm', 'gp_worktm_high',\n",
              "       'gp_worktm_highest', 'gp_worktm_low', 'gp_worktm_medium', 'famsizegp_1',\n",
              "       'famsizegp_3more', 'inctp_Commercial associate', 'inctp_State servant',\n",
              "       'occyp_hightecwk', 'occyp_officewk', 'houtp_Co-op apartment',\n",
              "       'houtp_Municipal apartment', 'houtp_Office apartment',\n",
              "       'houtp_Rented apartment', 'houtp_With parents',\n",
              "       'edutp_Higher education', 'edutp_Incomplete higher',\n",
              "       'edutp_Lower secondary'],\n",
              "      dtype='object')"
            ]
          },
          "metadata": {},
          "execution_count": 54
        }
      ]
    },
    {
      "cell_type": "markdown",
      "metadata": {
        "id": "kfHQEqn263aV"
      },
      "source": [
        "####  Estado Civil"
      ]
    },
    {
      "cell_type": "code",
      "metadata": {
        "scrolled": true,
        "id": "lS2i6C0I63aV",
        "colab": {
          "base_uri": "https://localhost:8080/"
        },
        "outputId": "f1002111-e284-4f77-b559-aad4c9f2428f"
      },
      "source": [
        "new_data['famtp'].value_counts(normalize=True,sort=False)"
      ],
      "execution_count": null,
      "outputs": [
        {
          "output_type": "execute_result",
          "data": {
            "text/plain": [
              "Separated               0.058367\n",
              "Civil marriage          0.084865\n",
              "Single / not married    0.137065\n",
              "Widow                   0.023076\n",
              "Married                 0.696626\n",
              "Name: famtp, dtype: float64"
            ]
          },
          "metadata": {},
          "execution_count": 55
        }
      ]
    },
    {
      "cell_type": "code",
      "metadata": {
        "id": "7feCsDh763aW",
        "colab": {
          "base_uri": "https://localhost:8080/"
        },
        "outputId": "832ff12b-6085-4dcc-a536-1d716b6f6f9b"
      },
      "source": [
        "iv, data=calc_iv(new_data,'famtp','target')\n",
        "ivtable.loc[ivtable['variable']=='famtp','IV']=iv\n",
        "data.head()"
      ],
      "execution_count": null,
      "outputs": [
        {
          "output_type": "stream",
          "name": "stdout",
          "text": [
            "El IV de esta variable es: 0.043137115423127946\n",
            "Married                 17509\n",
            "Single / not married     3445\n",
            "Civil marriage           2133\n",
            "Separated                1467\n",
            "Widow                     580\n",
            "Name: famtp, dtype: int64\n"
          ]
        },
        {
          "output_type": "execute_result",
          "data": {
            "text/html": [
              "<div>\n",
              "<style scoped>\n",
              "    .dataframe tbody tr th:only-of-type {\n",
              "        vertical-align: middle;\n",
              "    }\n",
              "\n",
              "    .dataframe tbody tr th {\n",
              "        vertical-align: top;\n",
              "    }\n",
              "\n",
              "    .dataframe thead th {\n",
              "        text-align: right;\n",
              "    }\n",
              "</style>\n",
              "<table border=\"1\" class=\"dataframe\">\n",
              "  <thead>\n",
              "    <tr style=\"text-align: right;\">\n",
              "      <th></th>\n",
              "      <th>Variable</th>\n",
              "      <th>Value</th>\n",
              "      <th>All</th>\n",
              "      <th>Good</th>\n",
              "      <th>Bad</th>\n",
              "      <th>Share</th>\n",
              "      <th>Bad Rate</th>\n",
              "      <th>Distribution Good</th>\n",
              "      <th>Distribution Bad</th>\n",
              "      <th>WoE</th>\n",
              "      <th>IV</th>\n",
              "    </tr>\n",
              "  </thead>\n",
              "  <tbody>\n",
              "    <tr>\n",
              "      <th>0</th>\n",
              "      <td>famtp</td>\n",
              "      <td>Civil marriage</td>\n",
              "      <td>2133</td>\n",
              "      <td>2101</td>\n",
              "      <td>32</td>\n",
              "      <td>0.084865</td>\n",
              "      <td>0.015002</td>\n",
              "      <td>0.085019</td>\n",
              "      <td>0.075829</td>\n",
              "      <td>0.114394</td>\n",
              "      <td>0.001051</td>\n",
              "    </tr>\n",
              "    <tr>\n",
              "      <th>1</th>\n",
              "      <td>famtp</td>\n",
              "      <td>Married</td>\n",
              "      <td>17509</td>\n",
              "      <td>17232</td>\n",
              "      <td>277</td>\n",
              "      <td>0.696626</td>\n",
              "      <td>0.015820</td>\n",
              "      <td>0.697313</td>\n",
              "      <td>0.656398</td>\n",
              "      <td>0.060467</td>\n",
              "      <td>0.002474</td>\n",
              "    </tr>\n",
              "    <tr>\n",
              "      <th>2</th>\n",
              "      <td>famtp</td>\n",
              "      <td>Separated</td>\n",
              "      <td>1467</td>\n",
              "      <td>1452</td>\n",
              "      <td>15</td>\n",
              "      <td>0.058367</td>\n",
              "      <td>0.010225</td>\n",
              "      <td>0.058757</td>\n",
              "      <td>0.035545</td>\n",
              "      <td>0.502608</td>\n",
              "      <td>0.011666</td>\n",
              "    </tr>\n",
              "    <tr>\n",
              "      <th>3</th>\n",
              "      <td>famtp</td>\n",
              "      <td>Single / not married</td>\n",
              "      <td>3445</td>\n",
              "      <td>3362</td>\n",
              "      <td>83</td>\n",
              "      <td>0.137065</td>\n",
              "      <td>0.024093</td>\n",
              "      <td>0.136047</td>\n",
              "      <td>0.196682</td>\n",
              "      <td>-0.368588</td>\n",
              "      <td>0.022349</td>\n",
              "    </tr>\n",
              "    <tr>\n",
              "      <th>4</th>\n",
              "      <td>famtp</td>\n",
              "      <td>Widow</td>\n",
              "      <td>580</td>\n",
              "      <td>565</td>\n",
              "      <td>15</td>\n",
              "      <td>0.023076</td>\n",
              "      <td>0.025862</td>\n",
              "      <td>0.022863</td>\n",
              "      <td>0.035545</td>\n",
              "      <td>-0.441263</td>\n",
              "      <td>0.005596</td>\n",
              "    </tr>\n",
              "  </tbody>\n",
              "</table>\n",
              "</div>"
            ],
            "text/plain": [
              "  Variable                 Value    All  ...  Distribution Bad       WoE        IV\n",
              "0    famtp        Civil marriage   2133  ...          0.075829  0.114394  0.001051\n",
              "1    famtp               Married  17509  ...          0.656398  0.060467  0.002474\n",
              "2    famtp             Separated   1467  ...          0.035545  0.502608  0.011666\n",
              "3    famtp  Single / not married   3445  ...          0.196682 -0.368588  0.022349\n",
              "4    famtp                 Widow    580  ...          0.035545 -0.441263  0.005596\n",
              "\n",
              "[5 rows x 11 columns]"
            ]
          },
          "metadata": {},
          "execution_count": 56
        }
      ]
    },
    {
      "cell_type": "code",
      "metadata": {
        "id": "6qwY9N_E63aW"
      },
      "source": [
        "new_data = convert_dummy(new_data,'famtp')"
      ],
      "execution_count": null,
      "outputs": []
    },
    {
      "cell_type": "code",
      "metadata": {
        "id": "19OigqR763aW",
        "colab": {
          "base_uri": "https://localhost:8080/"
        },
        "outputId": "068a7ee9-d6a0-4bfd-b85b-380582174799"
      },
      "source": [
        "new_data.columns"
      ],
      "execution_count": null,
      "outputs": [
        {
          "output_type": "execute_result",
          "data": {
            "text/plain": [
              "Index(['ID', 'Gender', 'Car', 'Reality', 'inc', 'DAYS_BIRTH', 'DAYS_EMPLOYED',\n",
              "       'FLAG_MOBIL', 'wkphone', 'phone', 'email', 'famsize', 'begin_month',\n",
              "       'dep_value', 'target', 'ChldNo_1', 'ChldNo_2More', 'gp_inc_high',\n",
              "       'gp_inc_medium', 'Age', 'gp_Age_high', 'gp_Age_highest', 'gp_Age_low',\n",
              "       'gp_Age_lowest', 'worktm', 'gp_worktm_high', 'gp_worktm_highest',\n",
              "       'gp_worktm_low', 'gp_worktm_medium', 'famsizegp_1', 'famsizegp_3more',\n",
              "       'inctp_Commercial associate', 'inctp_State servant', 'occyp_hightecwk',\n",
              "       'occyp_officewk', 'houtp_Co-op apartment', 'houtp_Municipal apartment',\n",
              "       'houtp_Office apartment', 'houtp_Rented apartment',\n",
              "       'houtp_With parents', 'edutp_Higher education',\n",
              "       'edutp_Incomplete higher', 'edutp_Lower secondary',\n",
              "       'famtp_Civil marriage', 'famtp_Separated', 'famtp_Single / not married',\n",
              "       'famtp_Widow'],\n",
              "      dtype='object')"
            ]
          },
          "metadata": {},
          "execution_count": 58
        }
      ]
    },
    {
      "cell_type": "markdown",
      "metadata": {
        "id": "RD7KR5T763aW"
      },
      "source": [
        "## Utilidad de: IV y WoE"
      ]
    },
    {
      "cell_type": "markdown",
      "metadata": {
        "id": "bA0pXKBG63aX"
      },
      "source": [
        "Puede leer el artículo a continuación para comprender un poco más sobre los conceptos de IV y WoE:\n",
        "\n",
        "https://docs.tibco.com/pub/sfire-dsc/6.5.0/doc/html/TIB_sfire-dsc_user-guide/GUID-07A78308-525A-406F-8221-9281F4E9D7CF.html\n",
        "\n",
        "La tabla a continuación fue tomada de la referencia indicada:\n",
        "\n",
        "| IV| Ability to predict | \n",
        "|:------|:------:| \n",
        "| <0.02 | Bajo poder predictivo | \n",
        "|0.02~0.1 |Poder predictivo débil|\n",
        "|0.1~0.3|Poder predictivo moderado|\n",
        "|0.3~0.5|Poder predictivo fuerte|\n",
        "|>0.5|Sospechosamente alto, revisar esta variable| "
      ]
    },
    {
      "cell_type": "code",
      "metadata": {
        "id": "wY-TY9Mw63aX",
        "colab": {
          "base_uri": "https://localhost:8080/",
          "height": 545
        },
        "outputId": "2d3f335a-a21c-4a13-a173-2b5331828343"
      },
      "source": [
        "ivtable=ivtable.sort_values(by='IV',ascending=False)\n",
        "ivtable.loc[ivtable['variable']=='DAYS_BIRTH','variable']='agegp'\n",
        "ivtable.loc[ivtable['variable']=='DAYS_EMPLOYED','variable']='worktmgp'\n",
        "ivtable.loc[ivtable['variable']=='inc','variable']='incgp'\n",
        "ivtable"
      ],
      "execution_count": null,
      "outputs": [
        {
          "output_type": "execute_result",
          "data": {
            "text/html": [
              "<div>\n",
              "<style scoped>\n",
              "    .dataframe tbody tr th:only-of-type {\n",
              "        vertical-align: middle;\n",
              "    }\n",
              "\n",
              "    .dataframe tbody tr th {\n",
              "        vertical-align: top;\n",
              "    }\n",
              "\n",
              "    .dataframe thead th {\n",
              "        text-align: right;\n",
              "    }\n",
              "</style>\n",
              "<table border=\"1\" class=\"dataframe\">\n",
              "  <thead>\n",
              "    <tr style=\"text-align: right;\">\n",
              "      <th></th>\n",
              "      <th>variable</th>\n",
              "      <th>IV</th>\n",
              "    </tr>\n",
              "  </thead>\n",
              "  <tbody>\n",
              "    <tr>\n",
              "      <th>10</th>\n",
              "      <td>agegp</td>\n",
              "      <td>0.0659351</td>\n",
              "    </tr>\n",
              "    <tr>\n",
              "      <th>8</th>\n",
              "      <td>famtp</td>\n",
              "      <td>0.0431371</td>\n",
              "    </tr>\n",
              "    <tr>\n",
              "      <th>11</th>\n",
              "      <td>worktmgp</td>\n",
              "      <td>0.0402215</td>\n",
              "    </tr>\n",
              "    <tr>\n",
              "      <th>3</th>\n",
              "      <td>Reality</td>\n",
              "      <td>0.0274407</td>\n",
              "    </tr>\n",
              "    <tr>\n",
              "      <th>1</th>\n",
              "      <td>Gender</td>\n",
              "      <td>0.0252035</td>\n",
              "    </tr>\n",
              "    <tr>\n",
              "      <th>7</th>\n",
              "      <td>edutp</td>\n",
              "      <td>0.0103618</td>\n",
              "    </tr>\n",
              "    <tr>\n",
              "      <th>9</th>\n",
              "      <td>houtp</td>\n",
              "      <td>0.0073275</td>\n",
              "    </tr>\n",
              "    <tr>\n",
              "      <th>17</th>\n",
              "      <td>famsize</td>\n",
              "      <td>0.00615614</td>\n",
              "    </tr>\n",
              "    <tr>\n",
              "      <th>16</th>\n",
              "      <td>occyp</td>\n",
              "      <td>0.00482047</td>\n",
              "    </tr>\n",
              "    <tr>\n",
              "      <th>5</th>\n",
              "      <td>incgp</td>\n",
              "      <td>0.002422</td>\n",
              "    </tr>\n",
              "    <tr>\n",
              "      <th>13</th>\n",
              "      <td>wkphone</td>\n",
              "      <td>0.00204243</td>\n",
              "    </tr>\n",
              "    <tr>\n",
              "      <th>4</th>\n",
              "      <td>ChldNo</td>\n",
              "      <td>0.00112145</td>\n",
              "    </tr>\n",
              "    <tr>\n",
              "      <th>14</th>\n",
              "      <td>phone</td>\n",
              "      <td>0.00054805</td>\n",
              "    </tr>\n",
              "    <tr>\n",
              "      <th>6</th>\n",
              "      <td>inctp</td>\n",
              "      <td>5.1593e-05</td>\n",
              "    </tr>\n",
              "    <tr>\n",
              "      <th>15</th>\n",
              "      <td>email</td>\n",
              "      <td>1.73436e-05</td>\n",
              "    </tr>\n",
              "    <tr>\n",
              "      <th>2</th>\n",
              "      <td>Car</td>\n",
              "      <td>4.54248e-06</td>\n",
              "    </tr>\n",
              "  </tbody>\n",
              "</table>\n",
              "</div>"
            ],
            "text/plain": [
              "    variable           IV\n",
              "10     agegp    0.0659351\n",
              "8      famtp    0.0431371\n",
              "11  worktmgp    0.0402215\n",
              "3    Reality    0.0274407\n",
              "1     Gender    0.0252035\n",
              "7      edutp    0.0103618\n",
              "9      houtp    0.0073275\n",
              "17   famsize   0.00615614\n",
              "16     occyp   0.00482047\n",
              "5      incgp     0.002422\n",
              "13   wkphone   0.00204243\n",
              "4     ChldNo   0.00112145\n",
              "14     phone   0.00054805\n",
              "6      inctp   5.1593e-05\n",
              "15     email  1.73436e-05\n",
              "2        Car  4.54248e-06"
            ]
          },
          "metadata": {},
          "execution_count": 59
        }
      ]
    },
    {
      "cell_type": "markdown",
      "metadata": {
        "id": "1YOjWuMq63aX"
      },
      "source": [
        "# Predicción de Buen/Mal Cliente Mediante Redes Neuronales"
      ]
    },
    {
      "cell_type": "markdown",
      "metadata": {
        "id": "W_plLJ1m63aX"
      },
      "source": [
        "+ Split Dataset"
      ]
    },
    {
      "cell_type": "code",
      "metadata": {
        "id": "HEZJ_Mpq63aY",
        "colab": {
          "base_uri": "https://localhost:8080/"
        },
        "outputId": "262f5ed4-1520-42f2-a4db-7de266a337f8"
      },
      "source": [
        "new_data.columns"
      ],
      "execution_count": null,
      "outputs": [
        {
          "output_type": "execute_result",
          "data": {
            "text/plain": [
              "Index(['ID', 'Gender', 'Car', 'Reality', 'inc', 'DAYS_BIRTH', 'DAYS_EMPLOYED',\n",
              "       'FLAG_MOBIL', 'wkphone', 'phone', 'email', 'famsize', 'begin_month',\n",
              "       'dep_value', 'target', 'ChldNo_1', 'ChldNo_2More', 'gp_inc_high',\n",
              "       'gp_inc_medium', 'Age', 'gp_Age_high', 'gp_Age_highest', 'gp_Age_low',\n",
              "       'gp_Age_lowest', 'worktm', 'gp_worktm_high', 'gp_worktm_highest',\n",
              "       'gp_worktm_low', 'gp_worktm_medium', 'famsizegp_1', 'famsizegp_3more',\n",
              "       'inctp_Commercial associate', 'inctp_State servant', 'occyp_hightecwk',\n",
              "       'occyp_officewk', 'houtp_Co-op apartment', 'houtp_Municipal apartment',\n",
              "       'houtp_Office apartment', 'houtp_Rented apartment',\n",
              "       'houtp_With parents', 'edutp_Higher education',\n",
              "       'edutp_Incomplete higher', 'edutp_Lower secondary',\n",
              "       'famtp_Civil marriage', 'famtp_Separated', 'famtp_Single / not married',\n",
              "       'famtp_Widow'],\n",
              "      dtype='object')"
            ]
          },
          "metadata": {},
          "execution_count": 60
        }
      ]
    },
    {
      "cell_type": "markdown",
      "metadata": {
        "id": "GJ1M-xC963aY"
      },
      "source": [
        "Se tomarán únicamente aquellas columnas preprocesadas y con un $IV>0.001$"
      ]
    },
    {
      "cell_type": "code",
      "metadata": {
        "id": "-XaodaJT63aY"
      },
      "source": [
        "Y = new_data['target']\n",
        "X = new_data[['Gender','Reality','ChldNo_1', 'ChldNo_2More', 'gp_inc_medium',  'gp_inc_high','wkphone',\n",
        "              'gp_Age_high', 'gp_Age_highest', 'gp_Age_low',\n",
        "              'gp_Age_lowest','gp_worktm_high', 'gp_worktm_highest',\n",
        "              'gp_worktm_low', 'gp_worktm_medium','occyp_hightecwk', \n",
        "              'occyp_officewk','famsizegp_1', 'famsizegp_3more',\n",
        "              'houtp_Co-op apartment', 'houtp_Municipal apartment',\n",
        "              'houtp_Office apartment', 'houtp_Rented apartment',\n",
        "              'houtp_With parents','edutp_Higher education',\n",
        "              'edutp_Incomplete higher', 'edutp_Lower secondary','famtp_Civil marriage',\n",
        "              'famtp_Separated','famtp_Single / not married','famtp_Widow']]"
      ],
      "execution_count": null,
      "outputs": []
    },
    {
      "cell_type": "markdown",
      "metadata": {
        "id": "sz912zmL63aY"
      },
      "source": [
        "### SMOTE\n",
        "\n",
        "Concepto: Synthetic Minority Over-Sampling Technique(`SMOTE`) utilizado para lidiar con datos desbalanceados. Puede encontrar más información en:\n",
        "\n",
        "- http://glemaitre.github.io/imbalanced-learn/generated/imblearn.over_sampling.SMOTE.html\n",
        "- https://machinelearningmastery.com/smote-oversampling-for-imbalanced-classification/"
      ]
    },
    {
      "cell_type": "code",
      "metadata": {
        "id": "dcHzbHF263aZ"
      },
      "source": [
        "Y = Y.astype('int')\n",
        "sm = SMOTE()\n",
        "X_balance,Y_balance = sm.fit_resample(X,Y)\n",
        "X_balance = pd.DataFrame(X_balance, columns = X.columns)"
      ],
      "execution_count": null,
      "outputs": []
    },
    {
      "cell_type": "markdown",
      "metadata": {
        "id": "EkOxbaao63aZ"
      },
      "source": [
        "Separación de datos en conjuntos: entrenamiento y prueba."
      ]
    },
    {
      "cell_type": "code",
      "metadata": {
        "id": "ikuIlkmE63aZ"
      },
      "source": [
        "X_train, X_test, y_train, y_test = train_test_split(X_balance,Y_balance, \n",
        "                                                    stratify=Y_balance, test_size=0.3,\n",
        "                                                    random_state = 10086)"
      ],
      "execution_count": null,
      "outputs": []
    },
    {
      "cell_type": "markdown",
      "metadata": {
        "id": "iouKXh6T63aZ"
      },
      "source": [
        "# \\*Seleccione esta celda y luego la opción `Run All Above`\\*\n",
        "\n",
        "# PARTE 1\n",
        "\n",
        "## Separación de Conjunto de Features\n",
        "\n",
        "Teniendo en cuenta los resultados de IV obtenidos anteriormente, comprobaremos la capacidad predictiva de tres conjuntos de datos basados en la tabla anterior. Primero removeremos los últimos cuatro ('phone', 'inctp', 'email', 'Car'), y luego realizaremos la siguiente división:\n",
        "\n",
        "- A. Primera mitad: 'agegp', 'famtp', 'worktmgp', 'Reality', 'Gender', 'edutp'\n",
        "- B. Segunda mitad: 'houtp', 'famsize', 'occyp', 'incgp', 'wkphone', 'ChldNo'\n",
        "- C. Todos los descriptores.\n",
        "\n",
        "De acuerdo a estos nombres, utilice la siguiente lista para identificar aquellos solicitados en cada caso:\n",
        "```\n",
        "    'Gender','Reality','ChldNo_1', 'ChldNo_2More', 'gp_inc_medium',  'gp_inc_high','wkphone',\n",
        "    'gp_Age_high', 'gp_Age_highest', 'gp_Age_low',\n",
        "    'gp_Age_lowest','gp_worktm_high', 'gp_worktm_highest',\n",
        "    'gp_worktm_low', 'gp_worktm_medium','occyp_hightecwk', \n",
        "    'occyp_officewk','famsizegp_1', 'famsizegp_3more',\n",
        "    'houtp_Co-op apartment', 'houtp_Municipal apartment',\n",
        "    'houtp_Office apartment', 'houtp_Rented apartment',\n",
        "    'houtp_With parents','edutp_Higher education',\n",
        "    'edutp_Incomplete higher', 'edutp_Lower secondary','famtp_Civil marriage',\n",
        "    'famtp_Separated','famtp_Single / not married','famtp_Widow'\n",
        "```\n"
      ]
    },
    {
      "cell_type": "markdown",
      "metadata": {
        "id": "3Y7acg3dx59l"
      },
      "source": [
        "A continuación se presenta la clasificación de las etiquetas en base a los grupos que se mencionaron anteriormente."
      ]
    },
    {
      "cell_type": "markdown",
      "metadata": {
        "id": "r_o0hSvfx6WZ"
      },
      "source": [
        "```\n",
        "    agegp 'gp_Age_high', 'gp_Age_highest', 'gp_Age_low','gp_Age_lowest'\n",
        "    famtp: 'famtp_Civil marriage','famtp_Separated','famtp_Single / not married','famtp_Widow'\n",
        "    worktmgp: 'gp_worktm_high', 'gp_worktm_highest','gp_worktm_low', 'gp_worktm_medium'\n",
        "    Reality: 'Reality'\n",
        "    Gender: 'Gender'\n",
        "    edutp: 'edutp_Higher education','edutp_Incomplete higher', 'edutp_Lower secondary'\n",
        "    houtp: 'houtp_Co-op apartment', 'houtp_Municipal apartment','houtp_Office apartment', 'houtp_Rented apartment','houtp_With parents'\n",
        "    famsize: 'famsizegp_1', 'famsizegp_3more'\n",
        "    occyp: 'occyp_hightecwk', 'occyp_officewk'\n",
        "    incgp: 'gp_inc_medium','gp_inc_high'\n",
        "    wkphone: 'wkphone'\n",
        "    ChldNo: 'ChldNo_1', 'ChldNo_2More'\n",
        "```"
      ]
    },
    {
      "cell_type": "markdown",
      "metadata": {
        "id": "93fPtCfmyErM"
      },
      "source": [
        "### A. Top 6"
      ]
    },
    {
      "cell_type": "markdown",
      "metadata": {
        "id": "hwuPV83gckoT"
      },
      "source": [
        "En la presentación del IV(Information Value) de las etiquetas, estas se encuentran ordenadas de mayor a menor. Por lo que aquellas del grupo A tienen los IV más altos. Es decir, el grupo A contiene las etiquetas con mayor poder predictivo. De modo que los modelos que utilicen los datos de dichas etiquetas tendrán mejor desempeño que aquellos que no lo hagan."
      ]
    },
    {
      "cell_type": "code",
      "metadata": {
        "id": "nI3EkzCf63aa",
        "colab": {
          "base_uri": "https://localhost:8080/",
          "height": 258
        },
        "outputId": "ff98360d-e6bc-4654-f471-0d6ffcf6f6e1"
      },
      "source": [
        "X_train_subA = X_train[['gp_Age_high', 'gp_Age_highest', 'gp_Age_low',\n",
        "    'gp_Age_lowest','famtp_Civil marriage',\n",
        "    'famtp_Separated','famtp_Single / not married','famtp_Widow','gp_worktm_high', 'gp_worktm_highest',\n",
        "    'gp_worktm_low', 'gp_worktm_medium', 'Reality', 'Gender','edutp_Higher education',\n",
        "    'edutp_Incomplete higher', 'edutp_Lower secondary']]\n",
        "\n",
        "X_test_subA = X_test[['gp_Age_high', 'gp_Age_highest', 'gp_Age_low',\n",
        "    'gp_Age_lowest','famtp_Civil marriage',\n",
        "    'famtp_Separated','famtp_Single / not married','famtp_Widow','gp_worktm_high', 'gp_worktm_highest',\n",
        "    'gp_worktm_low', 'gp_worktm_medium', 'Reality', 'Gender','edutp_Higher education',\n",
        "    'edutp_Incomplete higher', 'edutp_Lower secondary']]\n",
        "X_train_subA.head()\n"
      ],
      "execution_count": null,
      "outputs": [
        {
          "output_type": "execute_result",
          "data": {
            "text/html": [
              "<div>\n",
              "<style scoped>\n",
              "    .dataframe tbody tr th:only-of-type {\n",
              "        vertical-align: middle;\n",
              "    }\n",
              "\n",
              "    .dataframe tbody tr th {\n",
              "        vertical-align: top;\n",
              "    }\n",
              "\n",
              "    .dataframe thead th {\n",
              "        text-align: right;\n",
              "    }\n",
              "</style>\n",
              "<table border=\"1\" class=\"dataframe\">\n",
              "  <thead>\n",
              "    <tr style=\"text-align: right;\">\n",
              "      <th></th>\n",
              "      <th>gp_Age_high</th>\n",
              "      <th>gp_Age_highest</th>\n",
              "      <th>gp_Age_low</th>\n",
              "      <th>gp_Age_lowest</th>\n",
              "      <th>famtp_Civil marriage</th>\n",
              "      <th>famtp_Separated</th>\n",
              "      <th>famtp_Single / not married</th>\n",
              "      <th>famtp_Widow</th>\n",
              "      <th>gp_worktm_high</th>\n",
              "      <th>gp_worktm_highest</th>\n",
              "      <th>gp_worktm_low</th>\n",
              "      <th>gp_worktm_medium</th>\n",
              "      <th>Reality</th>\n",
              "      <th>Gender</th>\n",
              "      <th>edutp_Higher education</th>\n",
              "      <th>edutp_Incomplete higher</th>\n",
              "      <th>edutp_Lower secondary</th>\n",
              "    </tr>\n",
              "  </thead>\n",
              "  <tbody>\n",
              "    <tr>\n",
              "      <th>32515</th>\n",
              "      <td>1.0</td>\n",
              "      <td>0.0</td>\n",
              "      <td>0.0</td>\n",
              "      <td>0.0</td>\n",
              "      <td>0.69535</td>\n",
              "      <td>0.0</td>\n",
              "      <td>0.000000</td>\n",
              "      <td>0.0</td>\n",
              "      <td>0.0</td>\n",
              "      <td>0.0</td>\n",
              "      <td>0.0</td>\n",
              "      <td>0.0</td>\n",
              "      <td>1.0</td>\n",
              "      <td>1.0</td>\n",
              "      <td>0.30465</td>\n",
              "      <td>0.0</td>\n",
              "      <td>0.0</td>\n",
              "    </tr>\n",
              "    <tr>\n",
              "      <th>14471</th>\n",
              "      <td>0.0</td>\n",
              "      <td>0.0</td>\n",
              "      <td>1.0</td>\n",
              "      <td>0.0</td>\n",
              "      <td>0.00000</td>\n",
              "      <td>1.0</td>\n",
              "      <td>0.000000</td>\n",
              "      <td>0.0</td>\n",
              "      <td>0.0</td>\n",
              "      <td>0.0</td>\n",
              "      <td>0.0</td>\n",
              "      <td>0.0</td>\n",
              "      <td>0.0</td>\n",
              "      <td>0.0</td>\n",
              "      <td>0.00000</td>\n",
              "      <td>0.0</td>\n",
              "      <td>0.0</td>\n",
              "    </tr>\n",
              "    <tr>\n",
              "      <th>16400</th>\n",
              "      <td>0.0</td>\n",
              "      <td>0.0</td>\n",
              "      <td>1.0</td>\n",
              "      <td>0.0</td>\n",
              "      <td>0.00000</td>\n",
              "      <td>0.0</td>\n",
              "      <td>0.000000</td>\n",
              "      <td>0.0</td>\n",
              "      <td>0.0</td>\n",
              "      <td>0.0</td>\n",
              "      <td>1.0</td>\n",
              "      <td>0.0</td>\n",
              "      <td>0.0</td>\n",
              "      <td>0.0</td>\n",
              "      <td>0.00000</td>\n",
              "      <td>0.0</td>\n",
              "      <td>0.0</td>\n",
              "    </tr>\n",
              "    <tr>\n",
              "      <th>29956</th>\n",
              "      <td>0.0</td>\n",
              "      <td>0.0</td>\n",
              "      <td>0.0</td>\n",
              "      <td>0.0</td>\n",
              "      <td>0.00000</td>\n",
              "      <td>0.0</td>\n",
              "      <td>0.618763</td>\n",
              "      <td>0.0</td>\n",
              "      <td>0.0</td>\n",
              "      <td>0.0</td>\n",
              "      <td>0.0</td>\n",
              "      <td>0.0</td>\n",
              "      <td>0.0</td>\n",
              "      <td>0.0</td>\n",
              "      <td>1.00000</td>\n",
              "      <td>0.0</td>\n",
              "      <td>0.0</td>\n",
              "    </tr>\n",
              "    <tr>\n",
              "      <th>39904</th>\n",
              "      <td>0.0</td>\n",
              "      <td>0.0</td>\n",
              "      <td>0.0</td>\n",
              "      <td>0.0</td>\n",
              "      <td>0.00000</td>\n",
              "      <td>0.0</td>\n",
              "      <td>0.000000</td>\n",
              "      <td>0.0</td>\n",
              "      <td>0.0</td>\n",
              "      <td>0.0</td>\n",
              "      <td>0.0</td>\n",
              "      <td>0.0</td>\n",
              "      <td>0.0</td>\n",
              "      <td>0.0</td>\n",
              "      <td>0.00000</td>\n",
              "      <td>0.0</td>\n",
              "      <td>0.0</td>\n",
              "    </tr>\n",
              "  </tbody>\n",
              "</table>\n",
              "</div>"
            ],
            "text/plain": [
              "       gp_Age_high  ...  edutp_Lower secondary\n",
              "32515          1.0  ...                    0.0\n",
              "14471          0.0  ...                    0.0\n",
              "16400          0.0  ...                    0.0\n",
              "29956          0.0  ...                    0.0\n",
              "39904          0.0  ...                    0.0\n",
              "\n",
              "[5 rows x 17 columns]"
            ]
          },
          "metadata": {},
          "execution_count": 64
        }
      ]
    },
    {
      "cell_type": "markdown",
      "metadata": {
        "id": "7eCXULbk63aa"
      },
      "source": [
        "### B. Últimos 6"
      ]
    },
    {
      "cell_type": "markdown",
      "metadata": {
        "id": "CNFIxfUpeYLr"
      },
      "source": [
        "Como se menciono, la tabla que presenta los IV esta ordenada de mayor a menor. Por lo que el grupo B tiene las etiquetas con menor poder predictivo. Es decir, los modelos que utilicen el conjunto de etiquetas B tendrá un desempeño inferior que aquel que utilice el conjunto de etiquetas A."
      ]
    },
    {
      "cell_type": "code",
      "metadata": {
        "scrolled": true,
        "id": "7hka7htH63aa",
        "colab": {
          "base_uri": "https://localhost:8080/",
          "height": 258
        },
        "outputId": "febc569c-dd8e-4cf1-b739-91660fe35b8b"
      },
      "source": [
        "X_train_subB = X_train[['houtp_Co-op apartment', 'houtp_Municipal apartment',\n",
        "    'houtp_Office apartment', 'houtp_Rented apartment',\n",
        "    'houtp_With parents','famsizegp_1', 'famsizegp_3more', 'occyp_hightecwk', \n",
        "    'occyp_officewk', 'gp_inc_medium',  'gp_inc_high', 'wkphone', 'ChldNo_1', 'ChldNo_2More']]\n",
        "\n",
        "X_test_subB = X_test[['houtp_Co-op apartment', 'houtp_Municipal apartment',\n",
        "    'houtp_Office apartment', 'houtp_Rented apartment',\n",
        "    'houtp_With parents','famsizegp_1', 'famsizegp_3more', 'occyp_hightecwk', \n",
        "    'occyp_officewk', 'gp_inc_medium',  'gp_inc_high', 'wkphone', 'ChldNo_1', 'ChldNo_2More']]\n",
        "\n",
        "X_train_subB.head()"
      ],
      "execution_count": null,
      "outputs": [
        {
          "output_type": "execute_result",
          "data": {
            "text/html": [
              "<div>\n",
              "<style scoped>\n",
              "    .dataframe tbody tr th:only-of-type {\n",
              "        vertical-align: middle;\n",
              "    }\n",
              "\n",
              "    .dataframe tbody tr th {\n",
              "        vertical-align: top;\n",
              "    }\n",
              "\n",
              "    .dataframe thead th {\n",
              "        text-align: right;\n",
              "    }\n",
              "</style>\n",
              "<table border=\"1\" class=\"dataframe\">\n",
              "  <thead>\n",
              "    <tr style=\"text-align: right;\">\n",
              "      <th></th>\n",
              "      <th>houtp_Co-op apartment</th>\n",
              "      <th>houtp_Municipal apartment</th>\n",
              "      <th>houtp_Office apartment</th>\n",
              "      <th>houtp_Rented apartment</th>\n",
              "      <th>houtp_With parents</th>\n",
              "      <th>famsizegp_1</th>\n",
              "      <th>famsizegp_3more</th>\n",
              "      <th>occyp_hightecwk</th>\n",
              "      <th>occyp_officewk</th>\n",
              "      <th>gp_inc_medium</th>\n",
              "      <th>gp_inc_high</th>\n",
              "      <th>wkphone</th>\n",
              "      <th>ChldNo_1</th>\n",
              "      <th>ChldNo_2More</th>\n",
              "    </tr>\n",
              "  </thead>\n",
              "  <tbody>\n",
              "    <tr>\n",
              "      <th>32515</th>\n",
              "      <td>0.0</td>\n",
              "      <td>0.0</td>\n",
              "      <td>0.0</td>\n",
              "      <td>0.0</td>\n",
              "      <td>0.000000</td>\n",
              "      <td>0.0</td>\n",
              "      <td>0.0</td>\n",
              "      <td>1.0</td>\n",
              "      <td>0.0</td>\n",
              "      <td>0.0</td>\n",
              "      <td>1.0</td>\n",
              "      <td>0.0</td>\n",
              "      <td>0.0</td>\n",
              "      <td>0.0</td>\n",
              "    </tr>\n",
              "    <tr>\n",
              "      <th>14471</th>\n",
              "      <td>0.0</td>\n",
              "      <td>0.0</td>\n",
              "      <td>0.0</td>\n",
              "      <td>0.0</td>\n",
              "      <td>0.000000</td>\n",
              "      <td>1.0</td>\n",
              "      <td>0.0</td>\n",
              "      <td>0.0</td>\n",
              "      <td>0.0</td>\n",
              "      <td>0.0</td>\n",
              "      <td>1.0</td>\n",
              "      <td>0.0</td>\n",
              "      <td>0.0</td>\n",
              "      <td>0.0</td>\n",
              "    </tr>\n",
              "    <tr>\n",
              "      <th>16400</th>\n",
              "      <td>0.0</td>\n",
              "      <td>0.0</td>\n",
              "      <td>0.0</td>\n",
              "      <td>0.0</td>\n",
              "      <td>0.000000</td>\n",
              "      <td>0.0</td>\n",
              "      <td>0.0</td>\n",
              "      <td>0.0</td>\n",
              "      <td>0.0</td>\n",
              "      <td>0.0</td>\n",
              "      <td>1.0</td>\n",
              "      <td>1.0</td>\n",
              "      <td>0.0</td>\n",
              "      <td>0.0</td>\n",
              "    </tr>\n",
              "    <tr>\n",
              "      <th>29956</th>\n",
              "      <td>0.0</td>\n",
              "      <td>0.0</td>\n",
              "      <td>0.0</td>\n",
              "      <td>0.0</td>\n",
              "      <td>0.000000</td>\n",
              "      <td>0.0</td>\n",
              "      <td>1.0</td>\n",
              "      <td>0.0</td>\n",
              "      <td>1.0</td>\n",
              "      <td>0.0</td>\n",
              "      <td>0.0</td>\n",
              "      <td>1.0</td>\n",
              "      <td>1.0</td>\n",
              "      <td>0.0</td>\n",
              "    </tr>\n",
              "    <tr>\n",
              "      <th>39904</th>\n",
              "      <td>0.0</td>\n",
              "      <td>0.0</td>\n",
              "      <td>0.0</td>\n",
              "      <td>0.0</td>\n",
              "      <td>0.034217</td>\n",
              "      <td>0.0</td>\n",
              "      <td>0.0</td>\n",
              "      <td>0.0</td>\n",
              "      <td>1.0</td>\n",
              "      <td>0.0</td>\n",
              "      <td>0.0</td>\n",
              "      <td>1.0</td>\n",
              "      <td>0.0</td>\n",
              "      <td>0.0</td>\n",
              "    </tr>\n",
              "  </tbody>\n",
              "</table>\n",
              "</div>"
            ],
            "text/plain": [
              "       houtp_Co-op apartment  houtp_Municipal apartment  ...  ChldNo_1  ChldNo_2More\n",
              "32515                    0.0                        0.0  ...       0.0           0.0\n",
              "14471                    0.0                        0.0  ...       0.0           0.0\n",
              "16400                    0.0                        0.0  ...       0.0           0.0\n",
              "29956                    0.0                        0.0  ...       1.0           0.0\n",
              "39904                    0.0                        0.0  ...       0.0           0.0\n",
              "\n",
              "[5 rows x 14 columns]"
            ]
          },
          "metadata": {},
          "execution_count": 65
        }
      ]
    },
    {
      "cell_type": "markdown",
      "metadata": {
        "id": "J9Sl8xnS63aa"
      },
      "source": [
        "## Caso C\n",
        "\n",
        "Acá simplemente tomaremos, no es necesario crear nuevas variables:\n",
        "```\n",
        "X_train_subC = X_train\n",
        "X_test_subC = X_test\n",
        "```"
      ]
    },
    {
      "cell_type": "markdown",
      "metadata": {
        "id": "7FLTS5qLfnxU"
      },
      "source": [
        "Por último, el conjunto de etiquetas C contiene todas las etiquetas. Por lo que el desempeño de los modelos que usen dichas etiquetas debe ser por lo menos igual que aquel aquellos que usan el conjunto de etiquetas A ó B."
      ]
    },
    {
      "cell_type": "code",
      "metadata": {
        "colab": {
          "base_uri": "https://localhost:8080/",
          "height": 258
        },
        "id": "RIJ4avUiiIjK",
        "outputId": "3e2b3dc3-6702-419e-a0e9-4904354ca145"
      },
      "source": [
        "X_train_subC = X_train\n",
        "X_test_subC = X_test\n",
        "X_train_subC.head()"
      ],
      "execution_count": null,
      "outputs": [
        {
          "output_type": "execute_result",
          "data": {
            "text/html": [
              "<div>\n",
              "<style scoped>\n",
              "    .dataframe tbody tr th:only-of-type {\n",
              "        vertical-align: middle;\n",
              "    }\n",
              "\n",
              "    .dataframe tbody tr th {\n",
              "        vertical-align: top;\n",
              "    }\n",
              "\n",
              "    .dataframe thead th {\n",
              "        text-align: right;\n",
              "    }\n",
              "</style>\n",
              "<table border=\"1\" class=\"dataframe\">\n",
              "  <thead>\n",
              "    <tr style=\"text-align: right;\">\n",
              "      <th></th>\n",
              "      <th>Gender</th>\n",
              "      <th>Reality</th>\n",
              "      <th>ChldNo_1</th>\n",
              "      <th>ChldNo_2More</th>\n",
              "      <th>gp_inc_medium</th>\n",
              "      <th>gp_inc_high</th>\n",
              "      <th>wkphone</th>\n",
              "      <th>gp_Age_high</th>\n",
              "      <th>gp_Age_highest</th>\n",
              "      <th>gp_Age_low</th>\n",
              "      <th>gp_Age_lowest</th>\n",
              "      <th>gp_worktm_high</th>\n",
              "      <th>gp_worktm_highest</th>\n",
              "      <th>gp_worktm_low</th>\n",
              "      <th>gp_worktm_medium</th>\n",
              "      <th>occyp_hightecwk</th>\n",
              "      <th>occyp_officewk</th>\n",
              "      <th>famsizegp_1</th>\n",
              "      <th>famsizegp_3more</th>\n",
              "      <th>houtp_Co-op apartment</th>\n",
              "      <th>houtp_Municipal apartment</th>\n",
              "      <th>houtp_Office apartment</th>\n",
              "      <th>houtp_Rented apartment</th>\n",
              "      <th>houtp_With parents</th>\n",
              "      <th>edutp_Higher education</th>\n",
              "      <th>edutp_Incomplete higher</th>\n",
              "      <th>edutp_Lower secondary</th>\n",
              "      <th>famtp_Civil marriage</th>\n",
              "      <th>famtp_Separated</th>\n",
              "      <th>famtp_Single / not married</th>\n",
              "      <th>famtp_Widow</th>\n",
              "    </tr>\n",
              "  </thead>\n",
              "  <tbody>\n",
              "    <tr>\n",
              "      <th>32515</th>\n",
              "      <td>1.0</td>\n",
              "      <td>1.0</td>\n",
              "      <td>0.0</td>\n",
              "      <td>0.0</td>\n",
              "      <td>0.0</td>\n",
              "      <td>1.0</td>\n",
              "      <td>0.0</td>\n",
              "      <td>1.0</td>\n",
              "      <td>0.0</td>\n",
              "      <td>0.0</td>\n",
              "      <td>0.0</td>\n",
              "      <td>0.0</td>\n",
              "      <td>0.0</td>\n",
              "      <td>0.0</td>\n",
              "      <td>0.0</td>\n",
              "      <td>1.0</td>\n",
              "      <td>0.0</td>\n",
              "      <td>0.0</td>\n",
              "      <td>0.0</td>\n",
              "      <td>0.0</td>\n",
              "      <td>0.0</td>\n",
              "      <td>0.0</td>\n",
              "      <td>0.0</td>\n",
              "      <td>0.000000</td>\n",
              "      <td>0.30465</td>\n",
              "      <td>0.0</td>\n",
              "      <td>0.0</td>\n",
              "      <td>0.69535</td>\n",
              "      <td>0.0</td>\n",
              "      <td>0.000000</td>\n",
              "      <td>0.0</td>\n",
              "    </tr>\n",
              "    <tr>\n",
              "      <th>14471</th>\n",
              "      <td>0.0</td>\n",
              "      <td>0.0</td>\n",
              "      <td>0.0</td>\n",
              "      <td>0.0</td>\n",
              "      <td>0.0</td>\n",
              "      <td>1.0</td>\n",
              "      <td>0.0</td>\n",
              "      <td>0.0</td>\n",
              "      <td>0.0</td>\n",
              "      <td>1.0</td>\n",
              "      <td>0.0</td>\n",
              "      <td>0.0</td>\n",
              "      <td>0.0</td>\n",
              "      <td>0.0</td>\n",
              "      <td>0.0</td>\n",
              "      <td>0.0</td>\n",
              "      <td>0.0</td>\n",
              "      <td>1.0</td>\n",
              "      <td>0.0</td>\n",
              "      <td>0.0</td>\n",
              "      <td>0.0</td>\n",
              "      <td>0.0</td>\n",
              "      <td>0.0</td>\n",
              "      <td>0.000000</td>\n",
              "      <td>0.00000</td>\n",
              "      <td>0.0</td>\n",
              "      <td>0.0</td>\n",
              "      <td>0.00000</td>\n",
              "      <td>1.0</td>\n",
              "      <td>0.000000</td>\n",
              "      <td>0.0</td>\n",
              "    </tr>\n",
              "    <tr>\n",
              "      <th>16400</th>\n",
              "      <td>0.0</td>\n",
              "      <td>0.0</td>\n",
              "      <td>0.0</td>\n",
              "      <td>0.0</td>\n",
              "      <td>0.0</td>\n",
              "      <td>1.0</td>\n",
              "      <td>1.0</td>\n",
              "      <td>0.0</td>\n",
              "      <td>0.0</td>\n",
              "      <td>1.0</td>\n",
              "      <td>0.0</td>\n",
              "      <td>0.0</td>\n",
              "      <td>0.0</td>\n",
              "      <td>1.0</td>\n",
              "      <td>0.0</td>\n",
              "      <td>0.0</td>\n",
              "      <td>0.0</td>\n",
              "      <td>0.0</td>\n",
              "      <td>0.0</td>\n",
              "      <td>0.0</td>\n",
              "      <td>0.0</td>\n",
              "      <td>0.0</td>\n",
              "      <td>0.0</td>\n",
              "      <td>0.000000</td>\n",
              "      <td>0.00000</td>\n",
              "      <td>0.0</td>\n",
              "      <td>0.0</td>\n",
              "      <td>0.00000</td>\n",
              "      <td>0.0</td>\n",
              "      <td>0.000000</td>\n",
              "      <td>0.0</td>\n",
              "    </tr>\n",
              "    <tr>\n",
              "      <th>29956</th>\n",
              "      <td>0.0</td>\n",
              "      <td>0.0</td>\n",
              "      <td>1.0</td>\n",
              "      <td>0.0</td>\n",
              "      <td>0.0</td>\n",
              "      <td>0.0</td>\n",
              "      <td>1.0</td>\n",
              "      <td>0.0</td>\n",
              "      <td>0.0</td>\n",
              "      <td>0.0</td>\n",
              "      <td>0.0</td>\n",
              "      <td>0.0</td>\n",
              "      <td>0.0</td>\n",
              "      <td>0.0</td>\n",
              "      <td>0.0</td>\n",
              "      <td>0.0</td>\n",
              "      <td>1.0</td>\n",
              "      <td>0.0</td>\n",
              "      <td>1.0</td>\n",
              "      <td>0.0</td>\n",
              "      <td>0.0</td>\n",
              "      <td>0.0</td>\n",
              "      <td>0.0</td>\n",
              "      <td>0.000000</td>\n",
              "      <td>1.00000</td>\n",
              "      <td>0.0</td>\n",
              "      <td>0.0</td>\n",
              "      <td>0.00000</td>\n",
              "      <td>0.0</td>\n",
              "      <td>0.618763</td>\n",
              "      <td>0.0</td>\n",
              "    </tr>\n",
              "    <tr>\n",
              "      <th>39904</th>\n",
              "      <td>0.0</td>\n",
              "      <td>0.0</td>\n",
              "      <td>0.0</td>\n",
              "      <td>0.0</td>\n",
              "      <td>0.0</td>\n",
              "      <td>0.0</td>\n",
              "      <td>1.0</td>\n",
              "      <td>0.0</td>\n",
              "      <td>0.0</td>\n",
              "      <td>0.0</td>\n",
              "      <td>0.0</td>\n",
              "      <td>0.0</td>\n",
              "      <td>0.0</td>\n",
              "      <td>0.0</td>\n",
              "      <td>0.0</td>\n",
              "      <td>0.0</td>\n",
              "      <td>1.0</td>\n",
              "      <td>0.0</td>\n",
              "      <td>0.0</td>\n",
              "      <td>0.0</td>\n",
              "      <td>0.0</td>\n",
              "      <td>0.0</td>\n",
              "      <td>0.0</td>\n",
              "      <td>0.034217</td>\n",
              "      <td>0.00000</td>\n",
              "      <td>0.0</td>\n",
              "      <td>0.0</td>\n",
              "      <td>0.00000</td>\n",
              "      <td>0.0</td>\n",
              "      <td>0.000000</td>\n",
              "      <td>0.0</td>\n",
              "    </tr>\n",
              "  </tbody>\n",
              "</table>\n",
              "</div>"
            ],
            "text/plain": [
              "       Gender  Reality  ...  famtp_Single / not married  famtp_Widow\n",
              "32515     1.0      1.0  ...                    0.000000          0.0\n",
              "14471     0.0      0.0  ...                    0.000000          0.0\n",
              "16400     0.0      0.0  ...                    0.000000          0.0\n",
              "29956     0.0      0.0  ...                    0.618763          0.0\n",
              "39904     0.0      0.0  ...                    0.000000          0.0\n",
              "\n",
              "[5 rows x 31 columns]"
            ]
          },
          "metadata": {},
          "execution_count": 66
        }
      ]
    },
    {
      "cell_type": "markdown",
      "metadata": {
        "id": "S0vJ08-463aa"
      },
      "source": [
        "# PARTE 2\n",
        "\n",
        "Implementación de pruebas en los conjuntos de descriptores. A continuación debe implementar, inicialmente tres modelos de regresión logística, y posteriormente tres redes neuronales (2 capas escondidas, 20 neuronas en cada una). Observe los resultados y analice lo sucedido. Concluya sobre qué modelo es deseable teniendo en cuenta la factibilidad de implementación práctica y la matriz de confusión correspondiente."
      ]
    },
    {
      "cell_type": "markdown",
      "metadata": {
        "id": "Xd2SUeAW63ab"
      },
      "source": [
        "## Regresión Logística\n",
        "\n",
        "Inicialmente se probará un modelo de regresión logística para tener una referencia (también se conoce como _baseline_) y comprobar que un modelo de red neuronal permite obtener mejores resultados.\n",
        "\n",
        "$$\\log ({p \\over {1 - p}}) = {\\beta _0} + {\\beta _1}{x_1} +  \\cdot  \\cdot  \\cdot  + {\\beta _q}{x_q}$$\n",
        "\n",
        "### Caso A"
      ]
    },
    {
      "cell_type": "code",
      "metadata": {
        "scrolled": false,
        "id": "EBWnwm7j63ab",
        "colab": {
          "base_uri": "https://localhost:8080/",
          "height": 515
        },
        "outputId": "945ee2d3-623e-4571-ed69-54712b30fc6e"
      },
      "source": [
        "model = LogisticRegression(C=0.8,\n",
        "                           random_state=0,\n",
        "                           solver='lbfgs')\n",
        "model.fit(X_train_subA,y_train) # Ajuste el modelo con los datos del conjunto A #\n",
        "y_predict = model.predict(X_test_subA) # Realice la predicción de etiquetas con los datos de prueba del conjunto A #\n",
        "\n",
        "print(f'Precisión {round(accuracy_score(y_test, y_predict),5)}')\n",
        "print(pd.DataFrame(confusion_matrix(y_test,y_predict)))\n",
        "\n",
        "sns.set_style('white') \n",
        "class_names = ['0','1']\n",
        "plot_confusion_matrix(confusion_matrix(y_test,y_predict),\n",
        "                      classes= class_names, \n",
        "                      title='Matriz de Confusión Normalizada: Regresión Logística')"
      ],
      "execution_count": null,
      "outputs": [
        {
          "output_type": "stream",
          "name": "stdout",
          "text": [
            "Precisión 0.59408\n",
            "      0     1\n",
            "0  3866  3548\n",
            "1  2471  4943\n",
            "[[3866 3548]\n",
            " [2471 4943]]\n"
          ]
        },
        {
          "output_type": "display_data",
          "data": {
            "text/plain": [
              "<Figure size 432x288 with 2 Axes>"
            ],
            "image/svg+xml": "<?xml version=\"1.0\" encoding=\"utf-8\" standalone=\"no\"?>\n<!DOCTYPE svg PUBLIC \"-//W3C//DTD SVG 1.1//EN\"\n  \"http://www.w3.org/Graphics/SVG/1.1/DTD/svg11.dtd\">\n<!-- Created with matplotlib (https://matplotlib.org/) -->\n<svg height=\"293.754375pt\" version=\"1.1\" viewBox=\"0 0 356.878812 293.754375\" width=\"356.878812pt\" xmlns=\"http://www.w3.org/2000/svg\" xmlns:xlink=\"http://www.w3.org/1999/xlink\">\n <defs>\n  <style type=\"text/css\">\n*{stroke-linecap:butt;stroke-linejoin:round;}\n  </style>\n </defs>\n <g id=\"figure_1\">\n  <g id=\"patch_1\">\n   <path d=\"M 0 293.754375 \nL 356.878812 293.754375 \nL 356.878812 0 \nL 0 0 \nz\n\" style=\"fill:#ffffff;\"/>\n  </g>\n  <g id=\"axes_1\">\n   <g id=\"patch_2\">\n    <path d=\"M 51.773437 256.198125 \nL 285.173437 256.198125 \nL 285.173437 22.798125 \nL 51.773437 22.798125 \nz\n\" style=\"fill:#ffffff;\"/>\n   </g>\n   <g clip-path=\"url(#pb4caf240fc)\">\n    <image height=\"234\" id=\"imagefc50559fec\" transform=\"scale(1 -1)translate(0 -234)\" width=\"234\" x=\"51.773437\" xlink:href=\"data:image/png;base64,\niVBORw0KGgoAAAANSUhEUgAAAOoAAADqCAYAAACslNlOAAAABHNCSVQICAgIfAhkiAAAAuRJREFUeJzt1TENAkEARFEOASQIwAMNUnBxnlCEHgqKRcI1m2w+eU/BND+zfb5jnPgr18e+egKTnVcPAI4JFQKECgFChQChQoBQIUCoECBUCBAqBAgVAoQKAUKFAKFCgFAhQKgQIFQIECoECBUChAoBQoUAoUKAUCFAqBAgVAgQKgQIFQKECgFChQChQoBQIUCoECBUCBAqBAgVAoQKAUKFAKFCgFAhQKgQIFQIECoECBUChAoBQoUAoUKAUCFAqBAgVAgQKgQIFQKECgFChQChQoBQIUCoECBUCBAqBAgVAoQKAUKFAKFCgFAhQKgQIFQIECoECBUChAoBQoUAoUKAUCFAqBAgVAgQKgQIFQKECgFChQChQoBQIUCoECBUCBAqBAgVAoQKAUKFAKFCgFAhQKgQIFQIECoECBUChAoBQoUAoUKAUCFAqBAgVAgQKgQIFQKECgFChQChQoBQIUCoECBUCBAqBAgVAoQKAUKFAKFCgFAhQKgQIFQIECoECBUChAoBQoWA7fl6j9UjmOt+u6yewGQeFQKECgFChQChQoBQIUCoECBUCBAqBAgVAoQKAUKFAKFCgFAhQKgQIFQIECoECBUChAoBQoUAoUKAUCFAqBAgVAgQKgQIFQKECgFChQChQoBQIUCoECBUCBAqBAgVAoQKAUKFAKFCgFAhQKgQIFQIECoECBUChAoBQoUAoUKAUCFAqBAgVAgQKgQIFQKECgFChQChQoBQIUCoECBUCBAqBAgVAoQKAUKFAKFCgFAhQKgQIFQIECoECBUChAoBQoUAoUKAUCFAqBAgVAgQKgQIFQKECgFChQChQoBQIUCoECBUCBAqBAgVAoQKAUKFAKFCgFAhQKgQIFQIECoECBUChAoBQoUAoUKAUCFAqBAgVAgQKgQIFQKECgFChQChQoBQIUCoECBUCBAqBAgVAoQKAUKFAKFCgFAhQKgQIFQIECoECBUChAoBQoUAoULAD7bACZCXblyQAAAAAElFTkSuQmCC\" y=\"-22.198125\"/>\n   </g>\n   <g id=\"matplotlib.axis_1\">\n    <g id=\"xtick_1\">\n     <g id=\"text_1\">\n      <!-- 0 -->\n      <defs>\n       <path d=\"M 31.78125 66.40625 \nQ 24.171875 66.40625 20.328125 58.90625 \nQ 16.5 51.421875 16.5 36.375 \nQ 16.5 21.390625 20.328125 13.890625 \nQ 24.171875 6.390625 31.78125 6.390625 \nQ 39.453125 6.390625 43.28125 13.890625 \nQ 47.125 21.390625 47.125 36.375 \nQ 47.125 51.421875 43.28125 58.90625 \nQ 39.453125 66.40625 31.78125 66.40625 \nz\nM 31.78125 74.21875 \nQ 44.046875 74.21875 50.515625 64.515625 \nQ 56.984375 54.828125 56.984375 36.375 \nQ 56.984375 17.96875 50.515625 8.265625 \nQ 44.046875 -1.421875 31.78125 -1.421875 \nQ 19.53125 -1.421875 13.0625 8.265625 \nQ 6.59375 17.96875 6.59375 36.375 \nQ 6.59375 54.828125 13.0625 64.515625 \nQ 19.53125 74.21875 31.78125 74.21875 \nz\n\" id=\"DejaVuSans-48\"/>\n      </defs>\n      <g style=\"fill:#262626;\" transform=\"translate(106.942187 270.796562)scale(0.1 -0.1)\">\n       <use xlink:href=\"#DejaVuSans-48\"/>\n      </g>\n     </g>\n    </g>\n    <g id=\"xtick_2\">\n     <g id=\"text_2\">\n      <!-- 1 -->\n      <defs>\n       <path d=\"M 12.40625 8.296875 \nL 28.515625 8.296875 \nL 28.515625 63.921875 \nL 10.984375 60.40625 \nL 10.984375 69.390625 \nL 28.421875 72.90625 \nL 38.28125 72.90625 \nL 38.28125 8.296875 \nL 54.390625 8.296875 \nL 54.390625 0 \nL 12.40625 0 \nz\n\" id=\"DejaVuSans-49\"/>\n      </defs>\n      <g style=\"fill:#262626;\" transform=\"translate(223.642187 270.796562)scale(0.1 -0.1)\">\n       <use xlink:href=\"#DejaVuSans-49\"/>\n      </g>\n     </g>\n    </g>\n    <g id=\"text_3\">\n     <!-- Predicción -->\n     <defs>\n      <path d=\"M 19.671875 64.796875 \nL 19.671875 37.40625 \nL 32.078125 37.40625 \nQ 38.96875 37.40625 42.71875 40.96875 \nQ 46.484375 44.53125 46.484375 51.125 \nQ 46.484375 57.671875 42.71875 61.234375 \nQ 38.96875 64.796875 32.078125 64.796875 \nz\nM 9.8125 72.90625 \nL 32.078125 72.90625 \nQ 44.34375 72.90625 50.609375 67.359375 \nQ 56.890625 61.8125 56.890625 51.125 \nQ 56.890625 40.328125 50.609375 34.8125 \nQ 44.34375 29.296875 32.078125 29.296875 \nL 19.671875 29.296875 \nL 19.671875 0 \nL 9.8125 0 \nz\n\" id=\"DejaVuSans-80\"/>\n      <path d=\"M 41.109375 46.296875 \nQ 39.59375 47.171875 37.8125 47.578125 \nQ 36.03125 48 33.890625 48 \nQ 26.265625 48 22.1875 43.046875 \nQ 18.109375 38.09375 18.109375 28.8125 \nL 18.109375 0 \nL 9.078125 0 \nL 9.078125 54.6875 \nL 18.109375 54.6875 \nL 18.109375 46.1875 \nQ 20.953125 51.171875 25.484375 53.578125 \nQ 30.03125 56 36.53125 56 \nQ 37.453125 56 38.578125 55.875 \nQ 39.703125 55.765625 41.0625 55.515625 \nz\n\" id=\"DejaVuSans-114\"/>\n      <path d=\"M 56.203125 29.59375 \nL 56.203125 25.203125 \nL 14.890625 25.203125 \nQ 15.484375 15.921875 20.484375 11.0625 \nQ 25.484375 6.203125 34.421875 6.203125 \nQ 39.59375 6.203125 44.453125 7.46875 \nQ 49.3125 8.734375 54.109375 11.28125 \nL 54.109375 2.78125 \nQ 49.265625 0.734375 44.1875 -0.34375 \nQ 39.109375 -1.421875 33.890625 -1.421875 \nQ 20.796875 -1.421875 13.15625 6.1875 \nQ 5.515625 13.8125 5.515625 26.8125 \nQ 5.515625 40.234375 12.765625 48.109375 \nQ 20.015625 56 32.328125 56 \nQ 43.359375 56 49.78125 48.890625 \nQ 56.203125 41.796875 56.203125 29.59375 \nz\nM 47.21875 32.234375 \nQ 47.125 39.59375 43.09375 43.984375 \nQ 39.0625 48.390625 32.421875 48.390625 \nQ 24.90625 48.390625 20.390625 44.140625 \nQ 15.875 39.890625 15.1875 32.171875 \nz\n\" id=\"DejaVuSans-101\"/>\n      <path d=\"M 45.40625 46.390625 \nL 45.40625 75.984375 \nL 54.390625 75.984375 \nL 54.390625 0 \nL 45.40625 0 \nL 45.40625 8.203125 \nQ 42.578125 3.328125 38.25 0.953125 \nQ 33.9375 -1.421875 27.875 -1.421875 \nQ 17.96875 -1.421875 11.734375 6.484375 \nQ 5.515625 14.40625 5.515625 27.296875 \nQ 5.515625 40.1875 11.734375 48.09375 \nQ 17.96875 56 27.875 56 \nQ 33.9375 56 38.25 53.625 \nQ 42.578125 51.265625 45.40625 46.390625 \nz\nM 14.796875 27.296875 \nQ 14.796875 17.390625 18.875 11.75 \nQ 22.953125 6.109375 30.078125 6.109375 \nQ 37.203125 6.109375 41.296875 11.75 \nQ 45.40625 17.390625 45.40625 27.296875 \nQ 45.40625 37.203125 41.296875 42.84375 \nQ 37.203125 48.484375 30.078125 48.484375 \nQ 22.953125 48.484375 18.875 42.84375 \nQ 14.796875 37.203125 14.796875 27.296875 \nz\n\" id=\"DejaVuSans-100\"/>\n      <path d=\"M 9.421875 54.6875 \nL 18.40625 54.6875 \nL 18.40625 0 \nL 9.421875 0 \nz\nM 9.421875 75.984375 \nL 18.40625 75.984375 \nL 18.40625 64.59375 \nL 9.421875 64.59375 \nz\n\" id=\"DejaVuSans-105\"/>\n      <path d=\"M 48.78125 52.59375 \nL 48.78125 44.1875 \nQ 44.96875 46.296875 41.140625 47.34375 \nQ 37.3125 48.390625 33.40625 48.390625 \nQ 24.65625 48.390625 19.8125 42.84375 \nQ 14.984375 37.3125 14.984375 27.296875 \nQ 14.984375 17.28125 19.8125 11.734375 \nQ 24.65625 6.203125 33.40625 6.203125 \nQ 37.3125 6.203125 41.140625 7.25 \nQ 44.96875 8.296875 48.78125 10.40625 \nL 48.78125 2.09375 \nQ 45.015625 0.34375 40.984375 -0.53125 \nQ 36.96875 -1.421875 32.421875 -1.421875 \nQ 20.0625 -1.421875 12.78125 6.34375 \nQ 5.515625 14.109375 5.515625 27.296875 \nQ 5.515625 40.671875 12.859375 48.328125 \nQ 20.21875 56 33.015625 56 \nQ 37.15625 56 41.109375 55.140625 \nQ 45.0625 54.296875 48.78125 52.59375 \nz\n\" id=\"DejaVuSans-99\"/>\n      <path d=\"M 30.609375 48.390625 \nQ 23.390625 48.390625 19.1875 42.75 \nQ 14.984375 37.109375 14.984375 27.296875 \nQ 14.984375 17.484375 19.15625 11.84375 \nQ 23.34375 6.203125 30.609375 6.203125 \nQ 37.796875 6.203125 41.984375 11.859375 \nQ 46.1875 17.53125 46.1875 27.296875 \nQ 46.1875 37.015625 41.984375 42.703125 \nQ 37.796875 48.390625 30.609375 48.390625 \nz\nM 30.609375 56 \nQ 42.328125 56 49.015625 48.375 \nQ 55.71875 40.765625 55.71875 27.296875 \nQ 55.71875 13.875 49.015625 6.21875 \nQ 42.328125 -1.421875 30.609375 -1.421875 \nQ 18.84375 -1.421875 12.171875 6.21875 \nQ 5.515625 13.875 5.515625 27.296875 \nQ 5.515625 40.765625 12.171875 48.375 \nQ 18.84375 56 30.609375 56 \nz\nM 37.40625 79.984375 \nL 47.125 79.984375 \nL 31.21875 61.625 \nL 23.734375 61.625 \nz\n\" id=\"DejaVuSans-243\"/>\n      <path d=\"M 54.890625 33.015625 \nL 54.890625 0 \nL 45.90625 0 \nL 45.90625 32.71875 \nQ 45.90625 40.484375 42.875 44.328125 \nQ 39.84375 48.1875 33.796875 48.1875 \nQ 26.515625 48.1875 22.3125 43.546875 \nQ 18.109375 38.921875 18.109375 30.90625 \nL 18.109375 0 \nL 9.078125 0 \nL 9.078125 54.6875 \nL 18.109375 54.6875 \nL 18.109375 46.1875 \nQ 21.34375 51.125 25.703125 53.5625 \nQ 30.078125 56 35.796875 56 \nQ 45.21875 56 50.046875 50.171875 \nQ 54.890625 44.34375 54.890625 33.015625 \nz\n\" id=\"DejaVuSans-110\"/>\n     </defs>\n     <g style=\"fill:#262626;\" transform=\"translate(142.847656 284.474687)scale(0.1 -0.1)\">\n      <use xlink:href=\"#DejaVuSans-80\"/>\n      <use x=\"58.552734\" xlink:href=\"#DejaVuSans-114\"/>\n      <use x=\"97.416016\" xlink:href=\"#DejaVuSans-101\"/>\n      <use x=\"158.939453\" xlink:href=\"#DejaVuSans-100\"/>\n      <use x=\"222.416016\" xlink:href=\"#DejaVuSans-105\"/>\n      <use x=\"250.199219\" xlink:href=\"#DejaVuSans-99\"/>\n      <use x=\"305.179688\" xlink:href=\"#DejaVuSans-99\"/>\n      <use x=\"360.160156\" xlink:href=\"#DejaVuSans-105\"/>\n      <use x=\"387.943359\" xlink:href=\"#DejaVuSans-243\"/>\n      <use x=\"449.125\" xlink:href=\"#DejaVuSans-110\"/>\n     </g>\n    </g>\n   </g>\n   <g id=\"matplotlib.axis_2\">\n    <g id=\"ytick_1\">\n     <g id=\"text_4\">\n      <!-- 0 -->\n      <g style=\"fill:#262626;\" transform=\"translate(38.410937 84.947344)scale(0.1 -0.1)\">\n       <use xlink:href=\"#DejaVuSans-48\"/>\n      </g>\n     </g>\n    </g>\n    <g id=\"ytick_2\">\n     <g id=\"text_5\">\n      <!-- 1 -->\n      <g style=\"fill:#262626;\" transform=\"translate(38.410937 201.647344)scale(0.1 -0.1)\">\n       <use xlink:href=\"#DejaVuSans-49\"/>\n      </g>\n     </g>\n    </g>\n    <g id=\"text_6\">\n     <!-- Etiqueta -->\n     <defs>\n      <path d=\"M 9.8125 72.90625 \nL 55.90625 72.90625 \nL 55.90625 64.59375 \nL 19.671875 64.59375 \nL 19.671875 43.015625 \nL 54.390625 43.015625 \nL 54.390625 34.71875 \nL 19.671875 34.71875 \nL 19.671875 8.296875 \nL 56.78125 8.296875 \nL 56.78125 0 \nL 9.8125 0 \nz\n\" id=\"DejaVuSans-69\"/>\n      <path d=\"M 18.3125 70.21875 \nL 18.3125 54.6875 \nL 36.8125 54.6875 \nL 36.8125 47.703125 \nL 18.3125 47.703125 \nL 18.3125 18.015625 \nQ 18.3125 11.328125 20.140625 9.421875 \nQ 21.96875 7.515625 27.59375 7.515625 \nL 36.8125 7.515625 \nL 36.8125 0 \nL 27.59375 0 \nQ 17.1875 0 13.234375 3.875 \nQ 9.28125 7.765625 9.28125 18.015625 \nL 9.28125 47.703125 \nL 2.6875 47.703125 \nL 2.6875 54.6875 \nL 9.28125 54.6875 \nL 9.28125 70.21875 \nz\n\" id=\"DejaVuSans-116\"/>\n      <path d=\"M 14.796875 27.296875 \nQ 14.796875 17.390625 18.875 11.75 \nQ 22.953125 6.109375 30.078125 6.109375 \nQ 37.203125 6.109375 41.296875 11.75 \nQ 45.40625 17.390625 45.40625 27.296875 \nQ 45.40625 37.203125 41.296875 42.84375 \nQ 37.203125 48.484375 30.078125 48.484375 \nQ 22.953125 48.484375 18.875 42.84375 \nQ 14.796875 37.203125 14.796875 27.296875 \nz\nM 45.40625 8.203125 \nQ 42.578125 3.328125 38.25 0.953125 \nQ 33.9375 -1.421875 27.875 -1.421875 \nQ 17.96875 -1.421875 11.734375 6.484375 \nQ 5.515625 14.40625 5.515625 27.296875 \nQ 5.515625 40.1875 11.734375 48.09375 \nQ 17.96875 56 27.875 56 \nQ 33.9375 56 38.25 53.625 \nQ 42.578125 51.265625 45.40625 46.390625 \nL 45.40625 54.6875 \nL 54.390625 54.6875 \nL 54.390625 -20.796875 \nL 45.40625 -20.796875 \nz\n\" id=\"DejaVuSans-113\"/>\n      <path d=\"M 8.5 21.578125 \nL 8.5 54.6875 \nL 17.484375 54.6875 \nL 17.484375 21.921875 \nQ 17.484375 14.15625 20.5 10.265625 \nQ 23.53125 6.390625 29.59375 6.390625 \nQ 36.859375 6.390625 41.078125 11.03125 \nQ 45.3125 15.671875 45.3125 23.6875 \nL 45.3125 54.6875 \nL 54.296875 54.6875 \nL 54.296875 0 \nL 45.3125 0 \nL 45.3125 8.40625 \nQ 42.046875 3.421875 37.71875 1 \nQ 33.40625 -1.421875 27.6875 -1.421875 \nQ 18.265625 -1.421875 13.375 4.4375 \nQ 8.5 10.296875 8.5 21.578125 \nz\nM 31.109375 56 \nz\n\" id=\"DejaVuSans-117\"/>\n      <path d=\"M 34.28125 27.484375 \nQ 23.390625 27.484375 19.1875 25 \nQ 14.984375 22.515625 14.984375 16.5 \nQ 14.984375 11.71875 18.140625 8.90625 \nQ 21.296875 6.109375 26.703125 6.109375 \nQ 34.1875 6.109375 38.703125 11.40625 \nQ 43.21875 16.703125 43.21875 25.484375 \nL 43.21875 27.484375 \nz\nM 52.203125 31.203125 \nL 52.203125 0 \nL 43.21875 0 \nL 43.21875 8.296875 \nQ 40.140625 3.328125 35.546875 0.953125 \nQ 30.953125 -1.421875 24.3125 -1.421875 \nQ 15.921875 -1.421875 10.953125 3.296875 \nQ 6 8.015625 6 15.921875 \nQ 6 25.140625 12.171875 29.828125 \nQ 18.359375 34.515625 30.609375 34.515625 \nL 43.21875 34.515625 \nL 43.21875 35.40625 \nQ 43.21875 41.609375 39.140625 45 \nQ 35.0625 48.390625 27.6875 48.390625 \nQ 23 48.390625 18.546875 47.265625 \nQ 14.109375 46.140625 10.015625 43.890625 \nL 10.015625 52.203125 \nQ 14.9375 54.109375 19.578125 55.046875 \nQ 24.21875 56 28.609375 56 \nQ 40.484375 56 46.34375 49.84375 \nQ 52.203125 43.703125 52.203125 31.203125 \nz\n\" id=\"DejaVuSans-97\"/>\n     </defs>\n     <g style=\"fill:#262626;\" transform=\"translate(32.33125 160.450469)rotate(-90)scale(0.1 -0.1)\">\n      <use xlink:href=\"#DejaVuSans-69\"/>\n      <use x=\"63.183594\" xlink:href=\"#DejaVuSans-116\"/>\n      <use x=\"102.392578\" xlink:href=\"#DejaVuSans-105\"/>\n      <use x=\"130.175781\" xlink:href=\"#DejaVuSans-113\"/>\n      <use x=\"193.652344\" xlink:href=\"#DejaVuSans-117\"/>\n      <use x=\"257.03125\" xlink:href=\"#DejaVuSans-101\"/>\n      <use x=\"318.554688\" xlink:href=\"#DejaVuSans-116\"/>\n      <use x=\"357.763672\" xlink:href=\"#DejaVuSans-97\"/>\n     </g>\n    </g>\n   </g>\n   <g id=\"patch_3\">\n    <path d=\"M 51.773437 256.198125 \nL 51.773437 22.798125 \n\" style=\"fill:none;stroke:#262626;stroke-linecap:square;stroke-linejoin:miter;stroke-width:0.8;\"/>\n   </g>\n   <g id=\"patch_4\">\n    <path d=\"M 285.173437 256.198125 \nL 285.173437 22.798125 \n\" style=\"fill:none;stroke:#262626;stroke-linecap:square;stroke-linejoin:miter;stroke-width:0.8;\"/>\n   </g>\n   <g id=\"patch_5\">\n    <path d=\"M 51.773437 256.198125 \nL 285.173437 256.198125 \n\" style=\"fill:none;stroke:#262626;stroke-linecap:square;stroke-linejoin:miter;stroke-width:0.8;\"/>\n   </g>\n   <g id=\"patch_6\">\n    <path d=\"M 51.773437 22.798125 \nL 285.173437 22.798125 \n\" style=\"fill:none;stroke:#262626;stroke-linecap:square;stroke-linejoin:miter;stroke-width:0.8;\"/>\n   </g>\n   <g id=\"text_7\">\n    <!-- 3866 -->\n    <defs>\n     <path d=\"M 40.578125 39.3125 \nQ 47.65625 37.796875 51.625 33 \nQ 55.609375 28.21875 55.609375 21.1875 \nQ 55.609375 10.40625 48.1875 4.484375 \nQ 40.765625 -1.421875 27.09375 -1.421875 \nQ 22.515625 -1.421875 17.65625 -0.515625 \nQ 12.796875 0.390625 7.625 2.203125 \nL 7.625 11.71875 \nQ 11.71875 9.328125 16.59375 8.109375 \nQ 21.484375 6.890625 26.8125 6.890625 \nQ 36.078125 6.890625 40.9375 10.546875 \nQ 45.796875 14.203125 45.796875 21.1875 \nQ 45.796875 27.640625 41.28125 31.265625 \nQ 36.765625 34.90625 28.71875 34.90625 \nL 20.21875 34.90625 \nL 20.21875 43.015625 \nL 29.109375 43.015625 \nQ 36.375 43.015625 40.234375 45.921875 \nQ 44.09375 48.828125 44.09375 54.296875 \nQ 44.09375 59.90625 40.109375 62.90625 \nQ 36.140625 65.921875 28.71875 65.921875 \nQ 24.65625 65.921875 20.015625 65.03125 \nQ 15.375 64.15625 9.8125 62.3125 \nL 9.8125 71.09375 \nQ 15.4375 72.65625 20.34375 73.4375 \nQ 25.25 74.21875 29.59375 74.21875 \nQ 40.828125 74.21875 47.359375 69.109375 \nQ 53.90625 64.015625 53.90625 55.328125 \nQ 53.90625 49.265625 50.4375 45.09375 \nQ 46.96875 40.921875 40.578125 39.3125 \nz\n\" id=\"DejaVuSans-51\"/>\n     <path d=\"M 31.78125 34.625 \nQ 24.75 34.625 20.71875 30.859375 \nQ 16.703125 27.09375 16.703125 20.515625 \nQ 16.703125 13.921875 20.71875 10.15625 \nQ 24.75 6.390625 31.78125 6.390625 \nQ 38.8125 6.390625 42.859375 10.171875 \nQ 46.921875 13.96875 46.921875 20.515625 \nQ 46.921875 27.09375 42.890625 30.859375 \nQ 38.875 34.625 31.78125 34.625 \nz\nM 21.921875 38.8125 \nQ 15.578125 40.375 12.03125 44.71875 \nQ 8.5 49.078125 8.5 55.328125 \nQ 8.5 64.0625 14.71875 69.140625 \nQ 20.953125 74.21875 31.78125 74.21875 \nQ 42.671875 74.21875 48.875 69.140625 \nQ 55.078125 64.0625 55.078125 55.328125 \nQ 55.078125 49.078125 51.53125 44.71875 \nQ 48 40.375 41.703125 38.8125 \nQ 48.828125 37.15625 52.796875 32.3125 \nQ 56.78125 27.484375 56.78125 20.515625 \nQ 56.78125 9.90625 50.3125 4.234375 \nQ 43.84375 -1.421875 31.78125 -1.421875 \nQ 19.734375 -1.421875 13.25 4.234375 \nQ 6.78125 9.90625 6.78125 20.515625 \nQ 6.78125 27.484375 10.78125 32.3125 \nQ 14.796875 37.15625 21.921875 38.8125 \nz\nM 18.3125 54.390625 \nQ 18.3125 48.734375 21.84375 45.5625 \nQ 25.390625 42.390625 31.78125 42.390625 \nQ 38.140625 42.390625 41.71875 45.5625 \nQ 45.3125 48.734375 45.3125 54.390625 \nQ 45.3125 60.0625 41.71875 63.234375 \nQ 38.140625 66.40625 31.78125 66.40625 \nQ 25.390625 66.40625 21.84375 63.234375 \nQ 18.3125 60.0625 18.3125 54.390625 \nz\n\" id=\"DejaVuSans-56\"/>\n     <path d=\"M 33.015625 40.375 \nQ 26.375 40.375 22.484375 35.828125 \nQ 18.609375 31.296875 18.609375 23.390625 \nQ 18.609375 15.53125 22.484375 10.953125 \nQ 26.375 6.390625 33.015625 6.390625 \nQ 39.65625 6.390625 43.53125 10.953125 \nQ 47.40625 15.53125 47.40625 23.390625 \nQ 47.40625 31.296875 43.53125 35.828125 \nQ 39.65625 40.375 33.015625 40.375 \nz\nM 52.59375 71.296875 \nL 52.59375 62.3125 \nQ 48.875 64.0625 45.09375 64.984375 \nQ 41.3125 65.921875 37.59375 65.921875 \nQ 27.828125 65.921875 22.671875 59.328125 \nQ 17.53125 52.734375 16.796875 39.40625 \nQ 19.671875 43.65625 24.015625 45.921875 \nQ 28.375 48.1875 33.59375 48.1875 \nQ 44.578125 48.1875 50.953125 41.515625 \nQ 57.328125 34.859375 57.328125 23.390625 \nQ 57.328125 12.15625 50.6875 5.359375 \nQ 44.046875 -1.421875 33.015625 -1.421875 \nQ 20.359375 -1.421875 13.671875 8.265625 \nQ 6.984375 17.96875 6.984375 36.375 \nQ 6.984375 53.65625 15.1875 63.9375 \nQ 23.390625 74.21875 37.203125 74.21875 \nQ 40.921875 74.21875 44.703125 73.484375 \nQ 48.484375 72.75 52.59375 71.296875 \nz\n\" id=\"DejaVuSans-54\"/>\n    </defs>\n    <g style=\"fill:#ffffff;\" transform=\"translate(97.398437 81.148125)scale(0.1 -0.1)\">\n     <use xlink:href=\"#DejaVuSans-51\"/>\n     <use x=\"63.623047\" xlink:href=\"#DejaVuSans-56\"/>\n     <use x=\"127.246094\" xlink:href=\"#DejaVuSans-54\"/>\n     <use x=\"190.869141\" xlink:href=\"#DejaVuSans-54\"/>\n    </g>\n   </g>\n   <g id=\"text_8\">\n    <!-- 3548 -->\n    <defs>\n     <path d=\"M 10.796875 72.90625 \nL 49.515625 72.90625 \nL 49.515625 64.59375 \nL 19.828125 64.59375 \nL 19.828125 46.734375 \nQ 21.96875 47.46875 24.109375 47.828125 \nQ 26.265625 48.1875 28.421875 48.1875 \nQ 40.625 48.1875 47.75 41.5 \nQ 54.890625 34.8125 54.890625 23.390625 \nQ 54.890625 11.625 47.5625 5.09375 \nQ 40.234375 -1.421875 26.90625 -1.421875 \nQ 22.3125 -1.421875 17.546875 -0.640625 \nQ 12.796875 0.140625 7.71875 1.703125 \nL 7.71875 11.625 \nQ 12.109375 9.234375 16.796875 8.0625 \nQ 21.484375 6.890625 26.703125 6.890625 \nQ 35.15625 6.890625 40.078125 11.328125 \nQ 45.015625 15.765625 45.015625 23.390625 \nQ 45.015625 31 40.078125 35.4375 \nQ 35.15625 39.890625 26.703125 39.890625 \nQ 22.75 39.890625 18.8125 39.015625 \nQ 14.890625 38.140625 10.796875 36.28125 \nz\n\" id=\"DejaVuSans-53\"/>\n     <path d=\"M 37.796875 64.3125 \nL 12.890625 25.390625 \nL 37.796875 25.390625 \nz\nM 35.203125 72.90625 \nL 47.609375 72.90625 \nL 47.609375 25.390625 \nL 58.015625 25.390625 \nL 58.015625 17.1875 \nL 47.609375 17.1875 \nL 47.609375 0 \nL 37.796875 0 \nL 37.796875 17.1875 \nL 4.890625 17.1875 \nL 4.890625 26.703125 \nz\n\" id=\"DejaVuSans-52\"/>\n    </defs>\n    <g style=\"fill:#ffffff;\" transform=\"translate(214.098437 81.148125)scale(0.1 -0.1)\">\n     <use xlink:href=\"#DejaVuSans-51\"/>\n     <use x=\"63.623047\" xlink:href=\"#DejaVuSans-53\"/>\n     <use x=\"127.246094\" xlink:href=\"#DejaVuSans-52\"/>\n     <use x=\"190.869141\" xlink:href=\"#DejaVuSans-56\"/>\n    </g>\n   </g>\n   <g id=\"text_9\">\n    <!-- 2471 -->\n    <defs>\n     <path d=\"M 19.1875 8.296875 \nL 53.609375 8.296875 \nL 53.609375 0 \nL 7.328125 0 \nL 7.328125 8.296875 \nQ 12.9375 14.109375 22.625 23.890625 \nQ 32.328125 33.6875 34.8125 36.53125 \nQ 39.546875 41.84375 41.421875 45.53125 \nQ 43.3125 49.21875 43.3125 52.78125 \nQ 43.3125 58.59375 39.234375 62.25 \nQ 35.15625 65.921875 28.609375 65.921875 \nQ 23.96875 65.921875 18.8125 64.3125 \nQ 13.671875 62.703125 7.8125 59.421875 \nL 7.8125 69.390625 \nQ 13.765625 71.78125 18.9375 73 \nQ 24.125 74.21875 28.421875 74.21875 \nQ 39.75 74.21875 46.484375 68.546875 \nQ 53.21875 62.890625 53.21875 53.421875 \nQ 53.21875 48.921875 51.53125 44.890625 \nQ 49.859375 40.875 45.40625 35.40625 \nQ 44.1875 33.984375 37.640625 27.21875 \nQ 31.109375 20.453125 19.1875 8.296875 \nz\n\" id=\"DejaVuSans-50\"/>\n     <path d=\"M 8.203125 72.90625 \nL 55.078125 72.90625 \nL 55.078125 68.703125 \nL 28.609375 0 \nL 18.3125 0 \nL 43.21875 64.59375 \nL 8.203125 64.59375 \nz\n\" id=\"DejaVuSans-55\"/>\n    </defs>\n    <g transform=\"translate(97.398437 197.848125)scale(0.1 -0.1)\">\n     <use xlink:href=\"#DejaVuSans-50\"/>\n     <use x=\"63.623047\" xlink:href=\"#DejaVuSans-52\"/>\n     <use x=\"127.246094\" xlink:href=\"#DejaVuSans-55\"/>\n     <use x=\"190.869141\" xlink:href=\"#DejaVuSans-49\"/>\n    </g>\n   </g>\n   <g id=\"text_10\">\n    <!-- 4943 -->\n    <defs>\n     <path d=\"M 10.984375 1.515625 \nL 10.984375 10.5 \nQ 14.703125 8.734375 18.5 7.8125 \nQ 22.3125 6.890625 25.984375 6.890625 \nQ 35.75 6.890625 40.890625 13.453125 \nQ 46.046875 20.015625 46.78125 33.40625 \nQ 43.953125 29.203125 39.59375 26.953125 \nQ 35.25 24.703125 29.984375 24.703125 \nQ 19.046875 24.703125 12.671875 31.3125 \nQ 6.296875 37.9375 6.296875 49.421875 \nQ 6.296875 60.640625 12.9375 67.421875 \nQ 19.578125 74.21875 30.609375 74.21875 \nQ 43.265625 74.21875 49.921875 64.515625 \nQ 56.59375 54.828125 56.59375 36.375 \nQ 56.59375 19.140625 48.40625 8.859375 \nQ 40.234375 -1.421875 26.421875 -1.421875 \nQ 22.703125 -1.421875 18.890625 -0.6875 \nQ 15.09375 0.046875 10.984375 1.515625 \nz\nM 30.609375 32.421875 \nQ 37.25 32.421875 41.125 36.953125 \nQ 45.015625 41.5 45.015625 49.421875 \nQ 45.015625 57.28125 41.125 61.84375 \nQ 37.25 66.40625 30.609375 66.40625 \nQ 23.96875 66.40625 20.09375 61.84375 \nQ 16.21875 57.28125 16.21875 49.421875 \nQ 16.21875 41.5 20.09375 36.953125 \nQ 23.96875 32.421875 30.609375 32.421875 \nz\n\" id=\"DejaVuSans-57\"/>\n    </defs>\n    <g style=\"fill:#ffffff;\" transform=\"translate(214.098437 197.848125)scale(0.1 -0.1)\">\n     <use xlink:href=\"#DejaVuSans-52\"/>\n     <use x=\"63.623047\" xlink:href=\"#DejaVuSans-57\"/>\n     <use x=\"127.246094\" xlink:href=\"#DejaVuSans-52\"/>\n     <use x=\"190.869141\" xlink:href=\"#DejaVuSans-51\"/>\n    </g>\n   </g>\n   <g id=\"text_11\">\n    <!-- Matriz de Confusión Normalizada: Regresión Logística -->\n    <defs>\n     <path d=\"M 9.8125 72.90625 \nL 24.515625 72.90625 \nL 43.109375 23.296875 \nL 61.8125 72.90625 \nL 76.515625 72.90625 \nL 76.515625 0 \nL 66.890625 0 \nL 66.890625 64.015625 \nL 48.09375 14.015625 \nL 38.1875 14.015625 \nL 19.390625 64.015625 \nL 19.390625 0 \nL 9.8125 0 \nz\n\" id=\"DejaVuSans-77\"/>\n     <path d=\"M 5.515625 54.6875 \nL 48.1875 54.6875 \nL 48.1875 46.484375 \nL 14.40625 7.171875 \nL 48.1875 7.171875 \nL 48.1875 0 \nL 4.296875 0 \nL 4.296875 8.203125 \nL 38.09375 47.515625 \nL 5.515625 47.515625 \nz\n\" id=\"DejaVuSans-122\"/>\n     <path id=\"DejaVuSans-32\"/>\n     <path d=\"M 64.40625 67.28125 \nL 64.40625 56.890625 \nQ 59.421875 61.53125 53.78125 63.8125 \nQ 48.140625 66.109375 41.796875 66.109375 \nQ 29.296875 66.109375 22.65625 58.46875 \nQ 16.015625 50.828125 16.015625 36.375 \nQ 16.015625 21.96875 22.65625 14.328125 \nQ 29.296875 6.6875 41.796875 6.6875 \nQ 48.140625 6.6875 53.78125 8.984375 \nQ 59.421875 11.28125 64.40625 15.921875 \nL 64.40625 5.609375 \nQ 59.234375 2.09375 53.4375 0.328125 \nQ 47.65625 -1.421875 41.21875 -1.421875 \nQ 24.65625 -1.421875 15.125 8.703125 \nQ 5.609375 18.84375 5.609375 36.375 \nQ 5.609375 53.953125 15.125 64.078125 \nQ 24.65625 74.21875 41.21875 74.21875 \nQ 47.75 74.21875 53.53125 72.484375 \nQ 59.328125 70.75 64.40625 67.28125 \nz\n\" id=\"DejaVuSans-67\"/>\n     <path d=\"M 30.609375 48.390625 \nQ 23.390625 48.390625 19.1875 42.75 \nQ 14.984375 37.109375 14.984375 27.296875 \nQ 14.984375 17.484375 19.15625 11.84375 \nQ 23.34375 6.203125 30.609375 6.203125 \nQ 37.796875 6.203125 41.984375 11.859375 \nQ 46.1875 17.53125 46.1875 27.296875 \nQ 46.1875 37.015625 41.984375 42.703125 \nQ 37.796875 48.390625 30.609375 48.390625 \nz\nM 30.609375 56 \nQ 42.328125 56 49.015625 48.375 \nQ 55.71875 40.765625 55.71875 27.296875 \nQ 55.71875 13.875 49.015625 6.21875 \nQ 42.328125 -1.421875 30.609375 -1.421875 \nQ 18.84375 -1.421875 12.171875 6.21875 \nQ 5.515625 13.875 5.515625 27.296875 \nQ 5.515625 40.765625 12.171875 48.375 \nQ 18.84375 56 30.609375 56 \nz\n\" id=\"DejaVuSans-111\"/>\n     <path d=\"M 37.109375 75.984375 \nL 37.109375 68.5 \nL 28.515625 68.5 \nQ 23.6875 68.5 21.796875 66.546875 \nQ 19.921875 64.59375 19.921875 59.515625 \nL 19.921875 54.6875 \nL 34.71875 54.6875 \nL 34.71875 47.703125 \nL 19.921875 47.703125 \nL 19.921875 0 \nL 10.890625 0 \nL 10.890625 47.703125 \nL 2.296875 47.703125 \nL 2.296875 54.6875 \nL 10.890625 54.6875 \nL 10.890625 58.5 \nQ 10.890625 67.625 15.140625 71.796875 \nQ 19.390625 75.984375 28.609375 75.984375 \nz\n\" id=\"DejaVuSans-102\"/>\n     <path d=\"M 44.28125 53.078125 \nL 44.28125 44.578125 \nQ 40.484375 46.53125 36.375 47.5 \nQ 32.28125 48.484375 27.875 48.484375 \nQ 21.1875 48.484375 17.84375 46.4375 \nQ 14.5 44.390625 14.5 40.28125 \nQ 14.5 37.15625 16.890625 35.375 \nQ 19.28125 33.59375 26.515625 31.984375 \nL 29.59375 31.296875 \nQ 39.15625 29.25 43.1875 25.515625 \nQ 47.21875 21.78125 47.21875 15.09375 \nQ 47.21875 7.46875 41.1875 3.015625 \nQ 35.15625 -1.421875 24.609375 -1.421875 \nQ 20.21875 -1.421875 15.453125 -0.5625 \nQ 10.6875 0.296875 5.421875 2 \nL 5.421875 11.28125 \nQ 10.40625 8.6875 15.234375 7.390625 \nQ 20.0625 6.109375 24.8125 6.109375 \nQ 31.15625 6.109375 34.5625 8.28125 \nQ 37.984375 10.453125 37.984375 14.40625 \nQ 37.984375 18.0625 35.515625 20.015625 \nQ 33.0625 21.96875 24.703125 23.78125 \nL 21.578125 24.515625 \nQ 13.234375 26.265625 9.515625 29.90625 \nQ 5.8125 33.546875 5.8125 39.890625 \nQ 5.8125 47.609375 11.28125 51.796875 \nQ 16.75 56 26.8125 56 \nQ 31.78125 56 36.171875 55.265625 \nQ 40.578125 54.546875 44.28125 53.078125 \nz\n\" id=\"DejaVuSans-115\"/>\n     <path d=\"M 9.8125 72.90625 \nL 23.09375 72.90625 \nL 55.421875 11.921875 \nL 55.421875 72.90625 \nL 64.984375 72.90625 \nL 64.984375 0 \nL 51.703125 0 \nL 19.390625 60.984375 \nL 19.390625 0 \nL 9.8125 0 \nz\n\" id=\"DejaVuSans-78\"/>\n     <path d=\"M 52 44.1875 \nQ 55.375 50.25 60.0625 53.125 \nQ 64.75 56 71.09375 56 \nQ 79.640625 56 84.28125 50.015625 \nQ 88.921875 44.046875 88.921875 33.015625 \nL 88.921875 0 \nL 79.890625 0 \nL 79.890625 32.71875 \nQ 79.890625 40.578125 77.09375 44.375 \nQ 74.3125 48.1875 68.609375 48.1875 \nQ 61.625 48.1875 57.5625 43.546875 \nQ 53.515625 38.921875 53.515625 30.90625 \nL 53.515625 0 \nL 44.484375 0 \nL 44.484375 32.71875 \nQ 44.484375 40.625 41.703125 44.40625 \nQ 38.921875 48.1875 33.109375 48.1875 \nQ 26.21875 48.1875 22.15625 43.53125 \nQ 18.109375 38.875 18.109375 30.90625 \nL 18.109375 0 \nL 9.078125 0 \nL 9.078125 54.6875 \nL 18.109375 54.6875 \nL 18.109375 46.1875 \nQ 21.1875 51.21875 25.484375 53.609375 \nQ 29.78125 56 35.6875 56 \nQ 41.65625 56 45.828125 52.96875 \nQ 50 49.953125 52 44.1875 \nz\n\" id=\"DejaVuSans-109\"/>\n     <path d=\"M 9.421875 75.984375 \nL 18.40625 75.984375 \nL 18.40625 0 \nL 9.421875 0 \nz\n\" id=\"DejaVuSans-108\"/>\n     <path d=\"M 11.71875 12.40625 \nL 22.015625 12.40625 \nL 22.015625 0 \nL 11.71875 0 \nz\nM 11.71875 51.703125 \nL 22.015625 51.703125 \nL 22.015625 39.3125 \nL 11.71875 39.3125 \nz\n\" id=\"DejaVuSans-58\"/>\n     <path d=\"M 44.390625 34.1875 \nQ 47.5625 33.109375 50.5625 29.59375 \nQ 53.5625 26.078125 56.59375 19.921875 \nL 66.609375 0 \nL 56 0 \nL 46.6875 18.703125 \nQ 43.0625 26.03125 39.671875 28.421875 \nQ 36.28125 30.8125 30.421875 30.8125 \nL 19.671875 30.8125 \nL 19.671875 0 \nL 9.8125 0 \nL 9.8125 72.90625 \nL 32.078125 72.90625 \nQ 44.578125 72.90625 50.734375 67.671875 \nQ 56.890625 62.453125 56.890625 51.90625 \nQ 56.890625 45.015625 53.6875 40.46875 \nQ 50.484375 35.9375 44.390625 34.1875 \nz\nM 19.671875 64.796875 \nL 19.671875 38.921875 \nL 32.078125 38.921875 \nQ 39.203125 38.921875 42.84375 42.21875 \nQ 46.484375 45.515625 46.484375 51.90625 \nQ 46.484375 58.296875 42.84375 61.546875 \nQ 39.203125 64.796875 32.078125 64.796875 \nz\n\" id=\"DejaVuSans-82\"/>\n     <path d=\"M 45.40625 27.984375 \nQ 45.40625 37.75 41.375 43.109375 \nQ 37.359375 48.484375 30.078125 48.484375 \nQ 22.859375 48.484375 18.828125 43.109375 \nQ 14.796875 37.75 14.796875 27.984375 \nQ 14.796875 18.265625 18.828125 12.890625 \nQ 22.859375 7.515625 30.078125 7.515625 \nQ 37.359375 7.515625 41.375 12.890625 \nQ 45.40625 18.265625 45.40625 27.984375 \nz\nM 54.390625 6.78125 \nQ 54.390625 -7.171875 48.1875 -13.984375 \nQ 42 -20.796875 29.203125 -20.796875 \nQ 24.46875 -20.796875 20.265625 -20.09375 \nQ 16.0625 -19.390625 12.109375 -17.921875 \nL 12.109375 -9.1875 \nQ 16.0625 -11.328125 19.921875 -12.34375 \nQ 23.78125 -13.375 27.78125 -13.375 \nQ 36.625 -13.375 41.015625 -8.765625 \nQ 45.40625 -4.15625 45.40625 5.171875 \nL 45.40625 9.625 \nQ 42.625 4.78125 38.28125 2.390625 \nQ 33.9375 0 27.875 0 \nQ 17.828125 0 11.671875 7.65625 \nQ 5.515625 15.328125 5.515625 27.984375 \nQ 5.515625 40.671875 11.671875 48.328125 \nQ 17.828125 56 27.875 56 \nQ 33.9375 56 38.28125 53.609375 \nQ 42.625 51.21875 45.40625 46.390625 \nL 45.40625 54.6875 \nL 54.390625 54.6875 \nz\n\" id=\"DejaVuSans-103\"/>\n     <path d=\"M 9.8125 72.90625 \nL 19.671875 72.90625 \nL 19.671875 8.296875 \nL 55.171875 8.296875 \nL 55.171875 0 \nL 9.8125 0 \nz\n\" id=\"DejaVuSans-76\"/>\n     <path d=\"M 20.65625 79.984375 \nL 30.375 79.984375 \nL 14.46875 61.625 \nL 6.984375 61.625 \nz\nM 9.421875 54.6875 \nL 18.40625 54.6875 \nL 18.40625 0 \nL 9.421875 0 \nz\nM 13.921875 56 \nz\n\" id=\"DejaVuSans-237\"/>\n    </defs>\n    <g style=\"fill:#262626;\" transform=\"translate(7.2 16.798125)scale(0.12 -0.12)\">\n     <use xlink:href=\"#DejaVuSans-77\"/>\n     <use x=\"86.279297\" xlink:href=\"#DejaVuSans-97\"/>\n     <use x=\"147.558594\" xlink:href=\"#DejaVuSans-116\"/>\n     <use x=\"186.767578\" xlink:href=\"#DejaVuSans-114\"/>\n     <use x=\"227.880859\" xlink:href=\"#DejaVuSans-105\"/>\n     <use x=\"255.664062\" xlink:href=\"#DejaVuSans-122\"/>\n     <use x=\"308.154297\" xlink:href=\"#DejaVuSans-32\"/>\n     <use x=\"339.941406\" xlink:href=\"#DejaVuSans-100\"/>\n     <use x=\"403.417969\" xlink:href=\"#DejaVuSans-101\"/>\n     <use x=\"464.941406\" xlink:href=\"#DejaVuSans-32\"/>\n     <use x=\"496.728516\" xlink:href=\"#DejaVuSans-67\"/>\n     <use x=\"566.552734\" xlink:href=\"#DejaVuSans-111\"/>\n     <use x=\"627.734375\" xlink:href=\"#DejaVuSans-110\"/>\n     <use x=\"691.113281\" xlink:href=\"#DejaVuSans-102\"/>\n     <use x=\"726.318359\" xlink:href=\"#DejaVuSans-117\"/>\n     <use x=\"789.697266\" xlink:href=\"#DejaVuSans-115\"/>\n     <use x=\"841.796875\" xlink:href=\"#DejaVuSans-105\"/>\n     <use x=\"869.580078\" xlink:href=\"#DejaVuSans-243\"/>\n     <use x=\"930.761719\" xlink:href=\"#DejaVuSans-110\"/>\n     <use x=\"994.140625\" xlink:href=\"#DejaVuSans-32\"/>\n     <use x=\"1025.927734\" xlink:href=\"#DejaVuSans-78\"/>\n     <use x=\"1100.732422\" xlink:href=\"#DejaVuSans-111\"/>\n     <use x=\"1161.914062\" xlink:href=\"#DejaVuSans-114\"/>\n     <use x=\"1201.277344\" xlink:href=\"#DejaVuSans-109\"/>\n     <use x=\"1298.689453\" xlink:href=\"#DejaVuSans-97\"/>\n     <use x=\"1359.96875\" xlink:href=\"#DejaVuSans-108\"/>\n     <use x=\"1387.751953\" xlink:href=\"#DejaVuSans-105\"/>\n     <use x=\"1415.535156\" xlink:href=\"#DejaVuSans-122\"/>\n     <use x=\"1468.025391\" xlink:href=\"#DejaVuSans-97\"/>\n     <use x=\"1529.304688\" xlink:href=\"#DejaVuSans-100\"/>\n     <use x=\"1592.78125\" xlink:href=\"#DejaVuSans-97\"/>\n     <use x=\"1654.060547\" xlink:href=\"#DejaVuSans-58\"/>\n     <use x=\"1687.751953\" xlink:href=\"#DejaVuSans-32\"/>\n     <use x=\"1719.539062\" xlink:href=\"#DejaVuSans-82\"/>\n     <use x=\"1784.521484\" xlink:href=\"#DejaVuSans-101\"/>\n     <use x=\"1846.044922\" xlink:href=\"#DejaVuSans-103\"/>\n     <use x=\"1909.521484\" xlink:href=\"#DejaVuSans-114\"/>\n     <use x=\"1948.384766\" xlink:href=\"#DejaVuSans-101\"/>\n     <use x=\"2009.908203\" xlink:href=\"#DejaVuSans-115\"/>\n     <use x=\"2062.007812\" xlink:href=\"#DejaVuSans-105\"/>\n     <use x=\"2089.791016\" xlink:href=\"#DejaVuSans-243\"/>\n     <use x=\"2150.972656\" xlink:href=\"#DejaVuSans-110\"/>\n     <use x=\"2214.351562\" xlink:href=\"#DejaVuSans-32\"/>\n     <use x=\"2246.138672\" xlink:href=\"#DejaVuSans-76\"/>\n     <use x=\"2300.101562\" xlink:href=\"#DejaVuSans-111\"/>\n     <use x=\"2361.283203\" xlink:href=\"#DejaVuSans-103\"/>\n     <use x=\"2424.759766\" xlink:href=\"#DejaVuSans-237\"/>\n     <use x=\"2452.542969\" xlink:href=\"#DejaVuSans-115\"/>\n     <use x=\"2504.642578\" xlink:href=\"#DejaVuSans-116\"/>\n     <use x=\"2543.851562\" xlink:href=\"#DejaVuSans-105\"/>\n     <use x=\"2571.634766\" xlink:href=\"#DejaVuSans-99\"/>\n     <use x=\"2626.615234\" xlink:href=\"#DejaVuSans-97\"/>\n    </g>\n   </g>\n  </g>\n  <g id=\"axes_2\">\n   <g id=\"patch_7\">\n    <path clip-path=\"url(#pf1dc97cfaa)\" d=\"M 305.558812 256.198125 \nL 305.558812 255.286406 \nL 305.558812 23.709844 \nL 305.558812 22.798125 \nL 317.228813 22.798125 \nL 317.228813 23.709844 \nL 317.228813 255.286406 \nL 317.228813 256.198125 \nz\n\" style=\"fill:#ffffff;stroke:#ffffff;stroke-linejoin:miter;stroke-width:0.01;\"/>\n   </g>\n   <g id=\"matplotlib.axis_3\"/>\n   <g id=\"matplotlib.axis_4\">\n    <g id=\"ytick_3\">\n     <g id=\"line2d_1\">\n      <defs>\n       <path d=\"M 0 0 \nL 3.5 0 \n\" id=\"m9420bc0769\" style=\"stroke:#262626;stroke-width:0.8;\"/>\n      </defs>\n      <g>\n       <use style=\"fill:#262626;stroke:#262626;stroke-width:0.8;\" x=\"317.228813\" xlink:href=\"#m9420bc0769\" y=\"253.460018\"/>\n      </g>\n     </g>\n     <g id=\"text_12\">\n      <!-- 2500 -->\n      <g style=\"fill:#262626;\" transform=\"translate(324.228813 257.259237)scale(0.1 -0.1)\">\n       <use xlink:href=\"#DejaVuSans-50\"/>\n       <use x=\"63.623047\" xlink:href=\"#DejaVuSans-53\"/>\n       <use x=\"127.246094\" xlink:href=\"#DejaVuSans-48\"/>\n       <use x=\"190.869141\" xlink:href=\"#DejaVuSans-48\"/>\n      </g>\n     </g>\n    </g>\n    <g id=\"ytick_4\">\n     <g id=\"line2d_2\">\n      <g>\n       <use style=\"fill:#262626;stroke:#262626;stroke-width:0.8;\" x=\"317.228813\" xlink:href=\"#m9420bc0769\" y=\"206.25128\"/>\n      </g>\n     </g>\n     <g id=\"text_13\">\n      <!-- 3000 -->\n      <g style=\"fill:#262626;\" transform=\"translate(324.228813 210.050499)scale(0.1 -0.1)\">\n       <use xlink:href=\"#DejaVuSans-51\"/>\n       <use x=\"63.623047\" xlink:href=\"#DejaVuSans-48\"/>\n       <use x=\"127.246094\" xlink:href=\"#DejaVuSans-48\"/>\n       <use x=\"190.869141\" xlink:href=\"#DejaVuSans-48\"/>\n      </g>\n     </g>\n    </g>\n    <g id=\"ytick_5\">\n     <g id=\"line2d_3\">\n      <g>\n       <use style=\"fill:#262626;stroke:#262626;stroke-width:0.8;\" x=\"317.228813\" xlink:href=\"#m9420bc0769\" y=\"159.042542\"/>\n      </g>\n     </g>\n     <g id=\"text_14\">\n      <!-- 3500 -->\n      <g style=\"fill:#262626;\" transform=\"translate(324.228813 162.841761)scale(0.1 -0.1)\">\n       <use xlink:href=\"#DejaVuSans-51\"/>\n       <use x=\"63.623047\" xlink:href=\"#DejaVuSans-53\"/>\n       <use x=\"127.246094\" xlink:href=\"#DejaVuSans-48\"/>\n       <use x=\"190.869141\" xlink:href=\"#DejaVuSans-48\"/>\n      </g>\n     </g>\n    </g>\n    <g id=\"ytick_6\">\n     <g id=\"line2d_4\">\n      <g>\n       <use style=\"fill:#262626;stroke:#262626;stroke-width:0.8;\" x=\"317.228813\" xlink:href=\"#m9420bc0769\" y=\"111.833805\"/>\n      </g>\n     </g>\n     <g id=\"text_15\">\n      <!-- 4000 -->\n      <g style=\"fill:#262626;\" transform=\"translate(324.228813 115.633023)scale(0.1 -0.1)\">\n       <use xlink:href=\"#DejaVuSans-52\"/>\n       <use x=\"63.623047\" xlink:href=\"#DejaVuSans-48\"/>\n       <use x=\"127.246094\" xlink:href=\"#DejaVuSans-48\"/>\n       <use x=\"190.869141\" xlink:href=\"#DejaVuSans-48\"/>\n      </g>\n     </g>\n    </g>\n    <g id=\"ytick_7\">\n     <g id=\"line2d_5\">\n      <g>\n       <use style=\"fill:#262626;stroke:#262626;stroke-width:0.8;\" x=\"317.228813\" xlink:href=\"#m9420bc0769\" y=\"64.625067\"/>\n      </g>\n     </g>\n     <g id=\"text_16\">\n      <!-- 4500 -->\n      <g style=\"fill:#262626;\" transform=\"translate(324.228813 68.424285)scale(0.1 -0.1)\">\n       <use xlink:href=\"#DejaVuSans-52\"/>\n       <use x=\"63.623047\" xlink:href=\"#DejaVuSans-53\"/>\n       <use x=\"127.246094\" xlink:href=\"#DejaVuSans-48\"/>\n       <use x=\"190.869141\" xlink:href=\"#DejaVuSans-48\"/>\n      </g>\n     </g>\n    </g>\n   </g>\n   <image height=\"233\" id=\"image06781b4af4\" transform=\"scale(1 -1)translate(0 -233)\" width=\"11\" x=\"306\" xlink:href=\"data:image/png;base64,\niVBORw0KGgoAAAANSUhEUgAAAAsAAADpCAYAAADyIM2vAAAABHNCSVQICAgIfAhkiAAAARdJREFUaIHtmEEKwzAMBNXi/z+3h0LiHpOjpzCwCs55WSZaSXby+nznrMVnzFrW1gDaGkBbY524akygNjFI6Yjze10aw0zrHIEB+zmCGTmXxnxqpUtZMpv5Jt5x38UdmeEJa2F0LF0Ks3btORteqLyNFMLMQkHOGdWIYSZiEsohjhXpOs3Zq7O5kVCCwFkcWBS3dtB7MxiyGA/AQZmBWDwHO3Zdy4EFYrbMQzDWjenKJTMo3p+9Rlo3NntDPOi9uNcpzOlOaaSUJYOY+/VzSChi3GzlRjBv57+de8YdggGcYZ0955DSaX9cxUbSxGKCu86XOOUFM+J+fp0bJlhMvP7l3dRZwziPCIzHO5NJEXuDxd2wztv5en48n/5RooIUWgAAAABJRU5ErkJggg==\" y=\"-22\"/>\n   <g id=\"patch_8\">\n    <path d=\"M 305.558812 256.198125 \nL 305.558812 255.286406 \nL 305.558812 23.709844 \nL 305.558812 22.798125 \nL 317.228813 22.798125 \nL 317.228813 23.709844 \nL 317.228813 255.286406 \nL 317.228813 256.198125 \nz\n\" style=\"fill:none;stroke:#262626;stroke-linejoin:miter;stroke-width:0.8;\"/>\n   </g>\n  </g>\n </g>\n <defs>\n  <clipPath id=\"pb4caf240fc\">\n   <rect height=\"233.4\" width=\"233.4\" x=\"51.773437\" y=\"22.798125\"/>\n  </clipPath>\n  <clipPath id=\"pf1dc97cfaa\">\n   <rect height=\"233.4\" width=\"11.67\" x=\"305.558812\" y=\"22.798125\"/>\n  </clipPath>\n </defs>\n</svg>\n"
          },
          "metadata": {}
        }
      ]
    },
    {
      "cell_type": "markdown",
      "metadata": {
        "id": "NjyNTLW6kaeK"
      },
      "source": [
        "El modelo de regresión logística que utiliza el conjunto de etiquetas A obtuvo una precisión de 0.59408. Es decir, de la totalidad de los datos el 59.408% de los datos de validación fueron bien etiquetados."
      ]
    },
    {
      "cell_type": "markdown",
      "metadata": {
        "id": "xO8xGZnk63ae"
      },
      "source": [
        "## Caso B"
      ]
    },
    {
      "cell_type": "code",
      "metadata": {
        "scrolled": false,
        "id": "cXfCPh5763ae",
        "colab": {
          "base_uri": "https://localhost:8080/",
          "height": 515
        },
        "outputId": "217f3bdb-80c7-4568-c2df-4e1d15f0aced"
      },
      "source": [
        "model = LogisticRegression(C=0.8,\n",
        "                           random_state=0,\n",
        "                           solver='lbfgs')\n",
        "model.fit(X_train_subB,y_train) # Ajuste el modelo con los datos del conjunto B #\n",
        "y_predict = model.predict(X_test_subB) # Realice la predicción de etiquetas con los datos de prueba del conjunto B #\n",
        "\n",
        "print(f'Precisión {round(accuracy_score(y_test, y_predict),5)}')\n",
        "print(pd.DataFrame(confusion_matrix(y_test,y_predict)))\n",
        "\n",
        "sns.set_style('white') \n",
        "class_names = ['0','1']\n",
        "plot_confusion_matrix(confusion_matrix(y_test,y_predict),\n",
        "                      classes= class_names, \n",
        "                      title='Matriz de Confusión Normalizada: Regresión Logística')\n"
      ],
      "execution_count": null,
      "outputs": [
        {
          "output_type": "stream",
          "name": "stdout",
          "text": [
            "Precisión 0.5381\n",
            "      0     1\n",
            "0  3802  3612\n",
            "1  3237  4177\n",
            "[[3802 3612]\n",
            " [3237 4177]]\n"
          ]
        },
        {
          "output_type": "display_data",
          "data": {
            "text/plain": [
              "<Figure size 432x288 with 2 Axes>"
            ],
            "image/svg+xml": "<?xml version=\"1.0\" encoding=\"utf-8\" standalone=\"no\"?>\n<!DOCTYPE svg PUBLIC \"-//W3C//DTD SVG 1.1//EN\"\n  \"http://www.w3.org/Graphics/SVG/1.1/DTD/svg11.dtd\">\n<!-- Created with matplotlib (https://matplotlib.org/) -->\n<svg height=\"293.754375pt\" version=\"1.1\" viewBox=\"0 0 356.878812 293.754375\" width=\"356.878812pt\" xmlns=\"http://www.w3.org/2000/svg\" xmlns:xlink=\"http://www.w3.org/1999/xlink\">\n <defs>\n  <style type=\"text/css\">\n*{stroke-linecap:butt;stroke-linejoin:round;}\n  </style>\n </defs>\n <g id=\"figure_1\">\n  <g id=\"patch_1\">\n   <path d=\"M 0 293.754375 \nL 356.878812 293.754375 \nL 356.878812 0 \nL 0 0 \nz\n\" style=\"fill:#ffffff;\"/>\n  </g>\n  <g id=\"axes_1\">\n   <g id=\"patch_2\">\n    <path d=\"M 51.773437 256.198125 \nL 285.173437 256.198125 \nL 285.173437 22.798125 \nL 51.773437 22.798125 \nz\n\" style=\"fill:#ffffff;\"/>\n   </g>\n   <g clip-path=\"url(#p8d8444e84e)\">\n    <image height=\"234\" id=\"imagecedc4bad43\" transform=\"scale(1 -1)translate(0 -234)\" width=\"234\" x=\"51.773437\" xlink:href=\"data:image/png;base64,\niVBORw0KGgoAAAANSUhEUgAAAOoAAADqCAYAAACslNlOAAAABHNCSVQICAgIfAhkiAAAAuNJREFUeJzt1TENAkEARFEOBxTIoEQEaDk/aEIRBcUi4ZpNNp+8p2Can9k+3zFO/JXLfV89gcnOqwcAx4QKAUKFAKFCgFAhQKgQIFQIECoECBUChAoBQoUAoUKAUCFAqBAgVAgQKgQIFQKECgFChQChQoBQIUCoECBUCBAqBAgVAoQKAUKFAKFCgFAhQKgQIFQIECoECBUChAoBQoUAoUKAUCFAqBAgVAgQKgQIFQKECgFChQChQoBQIUCoECBUCBAqBAgVAoQKAUKFAKFCgFAhQKgQIFQIECoECBUChAoBQoUAoUKAUCFAqBAgVAgQKgQIFQKECgFChQChQoBQIUCoECBUCBAqBAgVAoQKAUKFAKFCgFAhQKgQIFQIECoECBUChAoBQoUAoUKAUCFAqBAgVAgQKgQIFQKECgFChQChQoBQIUCoECBUCBAqBAgVAoQKAUKFAKFCgFAhQKgQIFQIECoECBUChAoBQoUAoUKAUCFAqBAgVAgQKgQIFQKECgFChQChQsD2fL3H6hHM9bhdV09gMo8KAUKFAKFCgFAhQKgQIFQIECoECBUChAoBQoUAoUKAUCFAqBAgVAgQKgQIFQKECgFChQChQoBQIUCoECBUCBAqBAgVAoQKAUKFAKFCgFAhQKgQIFQIECoECBUChAoBQoUAoUKAUCFAqBAgVAgQKgQIFQKECgFChQChQoBQIUCoECBUCBAqBAgVAoQKAUKFAKFCgFAhQKgQIFQIECoECBUChAoBQoUAoUKAUCFAqBAgVAgQKgQIFQKECgFChQChQoBQIUCoECBUCBAqBAgVAoQKAUKFAKFCgFAhQKgQIFQIECoECBUChAoBQoUAoUKAUCFAqBAgVAgQKgQIFQKECgFChQChQoBQIUCoECBUCBAqBAgVAoQKAUKFAKFCgFAhQKgQIFQIECoECBUChAoBQoUAoUKAUCFAqBAgVAgQKgQIFQKECgFChQChQoBQIeAHM0QJqXNO4DEAAAAASUVORK5CYII=\" y=\"-22.198125\"/>\n   </g>\n   <g id=\"matplotlib.axis_1\">\n    <g id=\"xtick_1\">\n     <g id=\"text_1\">\n      <!-- 0 -->\n      <defs>\n       <path d=\"M 31.78125 66.40625 \nQ 24.171875 66.40625 20.328125 58.90625 \nQ 16.5 51.421875 16.5 36.375 \nQ 16.5 21.390625 20.328125 13.890625 \nQ 24.171875 6.390625 31.78125 6.390625 \nQ 39.453125 6.390625 43.28125 13.890625 \nQ 47.125 21.390625 47.125 36.375 \nQ 47.125 51.421875 43.28125 58.90625 \nQ 39.453125 66.40625 31.78125 66.40625 \nz\nM 31.78125 74.21875 \nQ 44.046875 74.21875 50.515625 64.515625 \nQ 56.984375 54.828125 56.984375 36.375 \nQ 56.984375 17.96875 50.515625 8.265625 \nQ 44.046875 -1.421875 31.78125 -1.421875 \nQ 19.53125 -1.421875 13.0625 8.265625 \nQ 6.59375 17.96875 6.59375 36.375 \nQ 6.59375 54.828125 13.0625 64.515625 \nQ 19.53125 74.21875 31.78125 74.21875 \nz\n\" id=\"DejaVuSans-48\"/>\n      </defs>\n      <g style=\"fill:#262626;\" transform=\"translate(106.942187 270.796562)scale(0.1 -0.1)\">\n       <use xlink:href=\"#DejaVuSans-48\"/>\n      </g>\n     </g>\n    </g>\n    <g id=\"xtick_2\">\n     <g id=\"text_2\">\n      <!-- 1 -->\n      <defs>\n       <path d=\"M 12.40625 8.296875 \nL 28.515625 8.296875 \nL 28.515625 63.921875 \nL 10.984375 60.40625 \nL 10.984375 69.390625 \nL 28.421875 72.90625 \nL 38.28125 72.90625 \nL 38.28125 8.296875 \nL 54.390625 8.296875 \nL 54.390625 0 \nL 12.40625 0 \nz\n\" id=\"DejaVuSans-49\"/>\n      </defs>\n      <g style=\"fill:#262626;\" transform=\"translate(223.642187 270.796562)scale(0.1 -0.1)\">\n       <use xlink:href=\"#DejaVuSans-49\"/>\n      </g>\n     </g>\n    </g>\n    <g id=\"text_3\">\n     <!-- Predicción -->\n     <defs>\n      <path d=\"M 19.671875 64.796875 \nL 19.671875 37.40625 \nL 32.078125 37.40625 \nQ 38.96875 37.40625 42.71875 40.96875 \nQ 46.484375 44.53125 46.484375 51.125 \nQ 46.484375 57.671875 42.71875 61.234375 \nQ 38.96875 64.796875 32.078125 64.796875 \nz\nM 9.8125 72.90625 \nL 32.078125 72.90625 \nQ 44.34375 72.90625 50.609375 67.359375 \nQ 56.890625 61.8125 56.890625 51.125 \nQ 56.890625 40.328125 50.609375 34.8125 \nQ 44.34375 29.296875 32.078125 29.296875 \nL 19.671875 29.296875 \nL 19.671875 0 \nL 9.8125 0 \nz\n\" id=\"DejaVuSans-80\"/>\n      <path d=\"M 41.109375 46.296875 \nQ 39.59375 47.171875 37.8125 47.578125 \nQ 36.03125 48 33.890625 48 \nQ 26.265625 48 22.1875 43.046875 \nQ 18.109375 38.09375 18.109375 28.8125 \nL 18.109375 0 \nL 9.078125 0 \nL 9.078125 54.6875 \nL 18.109375 54.6875 \nL 18.109375 46.1875 \nQ 20.953125 51.171875 25.484375 53.578125 \nQ 30.03125 56 36.53125 56 \nQ 37.453125 56 38.578125 55.875 \nQ 39.703125 55.765625 41.0625 55.515625 \nz\n\" id=\"DejaVuSans-114\"/>\n      <path d=\"M 56.203125 29.59375 \nL 56.203125 25.203125 \nL 14.890625 25.203125 \nQ 15.484375 15.921875 20.484375 11.0625 \nQ 25.484375 6.203125 34.421875 6.203125 \nQ 39.59375 6.203125 44.453125 7.46875 \nQ 49.3125 8.734375 54.109375 11.28125 \nL 54.109375 2.78125 \nQ 49.265625 0.734375 44.1875 -0.34375 \nQ 39.109375 -1.421875 33.890625 -1.421875 \nQ 20.796875 -1.421875 13.15625 6.1875 \nQ 5.515625 13.8125 5.515625 26.8125 \nQ 5.515625 40.234375 12.765625 48.109375 \nQ 20.015625 56 32.328125 56 \nQ 43.359375 56 49.78125 48.890625 \nQ 56.203125 41.796875 56.203125 29.59375 \nz\nM 47.21875 32.234375 \nQ 47.125 39.59375 43.09375 43.984375 \nQ 39.0625 48.390625 32.421875 48.390625 \nQ 24.90625 48.390625 20.390625 44.140625 \nQ 15.875 39.890625 15.1875 32.171875 \nz\n\" id=\"DejaVuSans-101\"/>\n      <path d=\"M 45.40625 46.390625 \nL 45.40625 75.984375 \nL 54.390625 75.984375 \nL 54.390625 0 \nL 45.40625 0 \nL 45.40625 8.203125 \nQ 42.578125 3.328125 38.25 0.953125 \nQ 33.9375 -1.421875 27.875 -1.421875 \nQ 17.96875 -1.421875 11.734375 6.484375 \nQ 5.515625 14.40625 5.515625 27.296875 \nQ 5.515625 40.1875 11.734375 48.09375 \nQ 17.96875 56 27.875 56 \nQ 33.9375 56 38.25 53.625 \nQ 42.578125 51.265625 45.40625 46.390625 \nz\nM 14.796875 27.296875 \nQ 14.796875 17.390625 18.875 11.75 \nQ 22.953125 6.109375 30.078125 6.109375 \nQ 37.203125 6.109375 41.296875 11.75 \nQ 45.40625 17.390625 45.40625 27.296875 \nQ 45.40625 37.203125 41.296875 42.84375 \nQ 37.203125 48.484375 30.078125 48.484375 \nQ 22.953125 48.484375 18.875 42.84375 \nQ 14.796875 37.203125 14.796875 27.296875 \nz\n\" id=\"DejaVuSans-100\"/>\n      <path d=\"M 9.421875 54.6875 \nL 18.40625 54.6875 \nL 18.40625 0 \nL 9.421875 0 \nz\nM 9.421875 75.984375 \nL 18.40625 75.984375 \nL 18.40625 64.59375 \nL 9.421875 64.59375 \nz\n\" id=\"DejaVuSans-105\"/>\n      <path d=\"M 48.78125 52.59375 \nL 48.78125 44.1875 \nQ 44.96875 46.296875 41.140625 47.34375 \nQ 37.3125 48.390625 33.40625 48.390625 \nQ 24.65625 48.390625 19.8125 42.84375 \nQ 14.984375 37.3125 14.984375 27.296875 \nQ 14.984375 17.28125 19.8125 11.734375 \nQ 24.65625 6.203125 33.40625 6.203125 \nQ 37.3125 6.203125 41.140625 7.25 \nQ 44.96875 8.296875 48.78125 10.40625 \nL 48.78125 2.09375 \nQ 45.015625 0.34375 40.984375 -0.53125 \nQ 36.96875 -1.421875 32.421875 -1.421875 \nQ 20.0625 -1.421875 12.78125 6.34375 \nQ 5.515625 14.109375 5.515625 27.296875 \nQ 5.515625 40.671875 12.859375 48.328125 \nQ 20.21875 56 33.015625 56 \nQ 37.15625 56 41.109375 55.140625 \nQ 45.0625 54.296875 48.78125 52.59375 \nz\n\" id=\"DejaVuSans-99\"/>\n      <path d=\"M 30.609375 48.390625 \nQ 23.390625 48.390625 19.1875 42.75 \nQ 14.984375 37.109375 14.984375 27.296875 \nQ 14.984375 17.484375 19.15625 11.84375 \nQ 23.34375 6.203125 30.609375 6.203125 \nQ 37.796875 6.203125 41.984375 11.859375 \nQ 46.1875 17.53125 46.1875 27.296875 \nQ 46.1875 37.015625 41.984375 42.703125 \nQ 37.796875 48.390625 30.609375 48.390625 \nz\nM 30.609375 56 \nQ 42.328125 56 49.015625 48.375 \nQ 55.71875 40.765625 55.71875 27.296875 \nQ 55.71875 13.875 49.015625 6.21875 \nQ 42.328125 -1.421875 30.609375 -1.421875 \nQ 18.84375 -1.421875 12.171875 6.21875 \nQ 5.515625 13.875 5.515625 27.296875 \nQ 5.515625 40.765625 12.171875 48.375 \nQ 18.84375 56 30.609375 56 \nz\nM 37.40625 79.984375 \nL 47.125 79.984375 \nL 31.21875 61.625 \nL 23.734375 61.625 \nz\n\" id=\"DejaVuSans-243\"/>\n      <path d=\"M 54.890625 33.015625 \nL 54.890625 0 \nL 45.90625 0 \nL 45.90625 32.71875 \nQ 45.90625 40.484375 42.875 44.328125 \nQ 39.84375 48.1875 33.796875 48.1875 \nQ 26.515625 48.1875 22.3125 43.546875 \nQ 18.109375 38.921875 18.109375 30.90625 \nL 18.109375 0 \nL 9.078125 0 \nL 9.078125 54.6875 \nL 18.109375 54.6875 \nL 18.109375 46.1875 \nQ 21.34375 51.125 25.703125 53.5625 \nQ 30.078125 56 35.796875 56 \nQ 45.21875 56 50.046875 50.171875 \nQ 54.890625 44.34375 54.890625 33.015625 \nz\n\" id=\"DejaVuSans-110\"/>\n     </defs>\n     <g style=\"fill:#262626;\" transform=\"translate(142.847656 284.474687)scale(0.1 -0.1)\">\n      <use xlink:href=\"#DejaVuSans-80\"/>\n      <use x=\"58.552734\" xlink:href=\"#DejaVuSans-114\"/>\n      <use x=\"97.416016\" xlink:href=\"#DejaVuSans-101\"/>\n      <use x=\"158.939453\" xlink:href=\"#DejaVuSans-100\"/>\n      <use x=\"222.416016\" xlink:href=\"#DejaVuSans-105\"/>\n      <use x=\"250.199219\" xlink:href=\"#DejaVuSans-99\"/>\n      <use x=\"305.179688\" xlink:href=\"#DejaVuSans-99\"/>\n      <use x=\"360.160156\" xlink:href=\"#DejaVuSans-105\"/>\n      <use x=\"387.943359\" xlink:href=\"#DejaVuSans-243\"/>\n      <use x=\"449.125\" xlink:href=\"#DejaVuSans-110\"/>\n     </g>\n    </g>\n   </g>\n   <g id=\"matplotlib.axis_2\">\n    <g id=\"ytick_1\">\n     <g id=\"text_4\">\n      <!-- 0 -->\n      <g style=\"fill:#262626;\" transform=\"translate(38.410937 84.947344)scale(0.1 -0.1)\">\n       <use xlink:href=\"#DejaVuSans-48\"/>\n      </g>\n     </g>\n    </g>\n    <g id=\"ytick_2\">\n     <g id=\"text_5\">\n      <!-- 1 -->\n      <g style=\"fill:#262626;\" transform=\"translate(38.410937 201.647344)scale(0.1 -0.1)\">\n       <use xlink:href=\"#DejaVuSans-49\"/>\n      </g>\n     </g>\n    </g>\n    <g id=\"text_6\">\n     <!-- Etiqueta -->\n     <defs>\n      <path d=\"M 9.8125 72.90625 \nL 55.90625 72.90625 \nL 55.90625 64.59375 \nL 19.671875 64.59375 \nL 19.671875 43.015625 \nL 54.390625 43.015625 \nL 54.390625 34.71875 \nL 19.671875 34.71875 \nL 19.671875 8.296875 \nL 56.78125 8.296875 \nL 56.78125 0 \nL 9.8125 0 \nz\n\" id=\"DejaVuSans-69\"/>\n      <path d=\"M 18.3125 70.21875 \nL 18.3125 54.6875 \nL 36.8125 54.6875 \nL 36.8125 47.703125 \nL 18.3125 47.703125 \nL 18.3125 18.015625 \nQ 18.3125 11.328125 20.140625 9.421875 \nQ 21.96875 7.515625 27.59375 7.515625 \nL 36.8125 7.515625 \nL 36.8125 0 \nL 27.59375 0 \nQ 17.1875 0 13.234375 3.875 \nQ 9.28125 7.765625 9.28125 18.015625 \nL 9.28125 47.703125 \nL 2.6875 47.703125 \nL 2.6875 54.6875 \nL 9.28125 54.6875 \nL 9.28125 70.21875 \nz\n\" id=\"DejaVuSans-116\"/>\n      <path d=\"M 14.796875 27.296875 \nQ 14.796875 17.390625 18.875 11.75 \nQ 22.953125 6.109375 30.078125 6.109375 \nQ 37.203125 6.109375 41.296875 11.75 \nQ 45.40625 17.390625 45.40625 27.296875 \nQ 45.40625 37.203125 41.296875 42.84375 \nQ 37.203125 48.484375 30.078125 48.484375 \nQ 22.953125 48.484375 18.875 42.84375 \nQ 14.796875 37.203125 14.796875 27.296875 \nz\nM 45.40625 8.203125 \nQ 42.578125 3.328125 38.25 0.953125 \nQ 33.9375 -1.421875 27.875 -1.421875 \nQ 17.96875 -1.421875 11.734375 6.484375 \nQ 5.515625 14.40625 5.515625 27.296875 \nQ 5.515625 40.1875 11.734375 48.09375 \nQ 17.96875 56 27.875 56 \nQ 33.9375 56 38.25 53.625 \nQ 42.578125 51.265625 45.40625 46.390625 \nL 45.40625 54.6875 \nL 54.390625 54.6875 \nL 54.390625 -20.796875 \nL 45.40625 -20.796875 \nz\n\" id=\"DejaVuSans-113\"/>\n      <path d=\"M 8.5 21.578125 \nL 8.5 54.6875 \nL 17.484375 54.6875 \nL 17.484375 21.921875 \nQ 17.484375 14.15625 20.5 10.265625 \nQ 23.53125 6.390625 29.59375 6.390625 \nQ 36.859375 6.390625 41.078125 11.03125 \nQ 45.3125 15.671875 45.3125 23.6875 \nL 45.3125 54.6875 \nL 54.296875 54.6875 \nL 54.296875 0 \nL 45.3125 0 \nL 45.3125 8.40625 \nQ 42.046875 3.421875 37.71875 1 \nQ 33.40625 -1.421875 27.6875 -1.421875 \nQ 18.265625 -1.421875 13.375 4.4375 \nQ 8.5 10.296875 8.5 21.578125 \nz\nM 31.109375 56 \nz\n\" id=\"DejaVuSans-117\"/>\n      <path d=\"M 34.28125 27.484375 \nQ 23.390625 27.484375 19.1875 25 \nQ 14.984375 22.515625 14.984375 16.5 \nQ 14.984375 11.71875 18.140625 8.90625 \nQ 21.296875 6.109375 26.703125 6.109375 \nQ 34.1875 6.109375 38.703125 11.40625 \nQ 43.21875 16.703125 43.21875 25.484375 \nL 43.21875 27.484375 \nz\nM 52.203125 31.203125 \nL 52.203125 0 \nL 43.21875 0 \nL 43.21875 8.296875 \nQ 40.140625 3.328125 35.546875 0.953125 \nQ 30.953125 -1.421875 24.3125 -1.421875 \nQ 15.921875 -1.421875 10.953125 3.296875 \nQ 6 8.015625 6 15.921875 \nQ 6 25.140625 12.171875 29.828125 \nQ 18.359375 34.515625 30.609375 34.515625 \nL 43.21875 34.515625 \nL 43.21875 35.40625 \nQ 43.21875 41.609375 39.140625 45 \nQ 35.0625 48.390625 27.6875 48.390625 \nQ 23 48.390625 18.546875 47.265625 \nQ 14.109375 46.140625 10.015625 43.890625 \nL 10.015625 52.203125 \nQ 14.9375 54.109375 19.578125 55.046875 \nQ 24.21875 56 28.609375 56 \nQ 40.484375 56 46.34375 49.84375 \nQ 52.203125 43.703125 52.203125 31.203125 \nz\n\" id=\"DejaVuSans-97\"/>\n     </defs>\n     <g style=\"fill:#262626;\" transform=\"translate(32.33125 160.450469)rotate(-90)scale(0.1 -0.1)\">\n      <use xlink:href=\"#DejaVuSans-69\"/>\n      <use x=\"63.183594\" xlink:href=\"#DejaVuSans-116\"/>\n      <use x=\"102.392578\" xlink:href=\"#DejaVuSans-105\"/>\n      <use x=\"130.175781\" xlink:href=\"#DejaVuSans-113\"/>\n      <use x=\"193.652344\" xlink:href=\"#DejaVuSans-117\"/>\n      <use x=\"257.03125\" xlink:href=\"#DejaVuSans-101\"/>\n      <use x=\"318.554688\" xlink:href=\"#DejaVuSans-116\"/>\n      <use x=\"357.763672\" xlink:href=\"#DejaVuSans-97\"/>\n     </g>\n    </g>\n   </g>\n   <g id=\"patch_3\">\n    <path d=\"M 51.773437 256.198125 \nL 51.773437 22.798125 \n\" style=\"fill:none;stroke:#262626;stroke-linecap:square;stroke-linejoin:miter;stroke-width:0.8;\"/>\n   </g>\n   <g id=\"patch_4\">\n    <path d=\"M 285.173437 256.198125 \nL 285.173437 22.798125 \n\" style=\"fill:none;stroke:#262626;stroke-linecap:square;stroke-linejoin:miter;stroke-width:0.8;\"/>\n   </g>\n   <g id=\"patch_5\">\n    <path d=\"M 51.773437 256.198125 \nL 285.173437 256.198125 \n\" style=\"fill:none;stroke:#262626;stroke-linecap:square;stroke-linejoin:miter;stroke-width:0.8;\"/>\n   </g>\n   <g id=\"patch_6\">\n    <path d=\"M 51.773437 22.798125 \nL 285.173437 22.798125 \n\" style=\"fill:none;stroke:#262626;stroke-linecap:square;stroke-linejoin:miter;stroke-width:0.8;\"/>\n   </g>\n   <g id=\"text_7\">\n    <!-- 3802 -->\n    <defs>\n     <path d=\"M 40.578125 39.3125 \nQ 47.65625 37.796875 51.625 33 \nQ 55.609375 28.21875 55.609375 21.1875 \nQ 55.609375 10.40625 48.1875 4.484375 \nQ 40.765625 -1.421875 27.09375 -1.421875 \nQ 22.515625 -1.421875 17.65625 -0.515625 \nQ 12.796875 0.390625 7.625 2.203125 \nL 7.625 11.71875 \nQ 11.71875 9.328125 16.59375 8.109375 \nQ 21.484375 6.890625 26.8125 6.890625 \nQ 36.078125 6.890625 40.9375 10.546875 \nQ 45.796875 14.203125 45.796875 21.1875 \nQ 45.796875 27.640625 41.28125 31.265625 \nQ 36.765625 34.90625 28.71875 34.90625 \nL 20.21875 34.90625 \nL 20.21875 43.015625 \nL 29.109375 43.015625 \nQ 36.375 43.015625 40.234375 45.921875 \nQ 44.09375 48.828125 44.09375 54.296875 \nQ 44.09375 59.90625 40.109375 62.90625 \nQ 36.140625 65.921875 28.71875 65.921875 \nQ 24.65625 65.921875 20.015625 65.03125 \nQ 15.375 64.15625 9.8125 62.3125 \nL 9.8125 71.09375 \nQ 15.4375 72.65625 20.34375 73.4375 \nQ 25.25 74.21875 29.59375 74.21875 \nQ 40.828125 74.21875 47.359375 69.109375 \nQ 53.90625 64.015625 53.90625 55.328125 \nQ 53.90625 49.265625 50.4375 45.09375 \nQ 46.96875 40.921875 40.578125 39.3125 \nz\n\" id=\"DejaVuSans-51\"/>\n     <path d=\"M 31.78125 34.625 \nQ 24.75 34.625 20.71875 30.859375 \nQ 16.703125 27.09375 16.703125 20.515625 \nQ 16.703125 13.921875 20.71875 10.15625 \nQ 24.75 6.390625 31.78125 6.390625 \nQ 38.8125 6.390625 42.859375 10.171875 \nQ 46.921875 13.96875 46.921875 20.515625 \nQ 46.921875 27.09375 42.890625 30.859375 \nQ 38.875 34.625 31.78125 34.625 \nz\nM 21.921875 38.8125 \nQ 15.578125 40.375 12.03125 44.71875 \nQ 8.5 49.078125 8.5 55.328125 \nQ 8.5 64.0625 14.71875 69.140625 \nQ 20.953125 74.21875 31.78125 74.21875 \nQ 42.671875 74.21875 48.875 69.140625 \nQ 55.078125 64.0625 55.078125 55.328125 \nQ 55.078125 49.078125 51.53125 44.71875 \nQ 48 40.375 41.703125 38.8125 \nQ 48.828125 37.15625 52.796875 32.3125 \nQ 56.78125 27.484375 56.78125 20.515625 \nQ 56.78125 9.90625 50.3125 4.234375 \nQ 43.84375 -1.421875 31.78125 -1.421875 \nQ 19.734375 -1.421875 13.25 4.234375 \nQ 6.78125 9.90625 6.78125 20.515625 \nQ 6.78125 27.484375 10.78125 32.3125 \nQ 14.796875 37.15625 21.921875 38.8125 \nz\nM 18.3125 54.390625 \nQ 18.3125 48.734375 21.84375 45.5625 \nQ 25.390625 42.390625 31.78125 42.390625 \nQ 38.140625 42.390625 41.71875 45.5625 \nQ 45.3125 48.734375 45.3125 54.390625 \nQ 45.3125 60.0625 41.71875 63.234375 \nQ 38.140625 66.40625 31.78125 66.40625 \nQ 25.390625 66.40625 21.84375 63.234375 \nQ 18.3125 60.0625 18.3125 54.390625 \nz\n\" id=\"DejaVuSans-56\"/>\n     <path d=\"M 19.1875 8.296875 \nL 53.609375 8.296875 \nL 53.609375 0 \nL 7.328125 0 \nL 7.328125 8.296875 \nQ 12.9375 14.109375 22.625 23.890625 \nQ 32.328125 33.6875 34.8125 36.53125 \nQ 39.546875 41.84375 41.421875 45.53125 \nQ 43.3125 49.21875 43.3125 52.78125 \nQ 43.3125 58.59375 39.234375 62.25 \nQ 35.15625 65.921875 28.609375 65.921875 \nQ 23.96875 65.921875 18.8125 64.3125 \nQ 13.671875 62.703125 7.8125 59.421875 \nL 7.8125 69.390625 \nQ 13.765625 71.78125 18.9375 73 \nQ 24.125 74.21875 28.421875 74.21875 \nQ 39.75 74.21875 46.484375 68.546875 \nQ 53.21875 62.890625 53.21875 53.421875 \nQ 53.21875 48.921875 51.53125 44.890625 \nQ 49.859375 40.875 45.40625 35.40625 \nQ 44.1875 33.984375 37.640625 27.21875 \nQ 31.109375 20.453125 19.1875 8.296875 \nz\n\" id=\"DejaVuSans-50\"/>\n    </defs>\n    <g style=\"fill:#ffffff;\" transform=\"translate(97.398437 81.148125)scale(0.1 -0.1)\">\n     <use xlink:href=\"#DejaVuSans-51\"/>\n     <use x=\"63.623047\" xlink:href=\"#DejaVuSans-56\"/>\n     <use x=\"127.246094\" xlink:href=\"#DejaVuSans-48\"/>\n     <use x=\"190.869141\" xlink:href=\"#DejaVuSans-50\"/>\n    </g>\n   </g>\n   <g id=\"text_8\">\n    <!-- 3612 -->\n    <defs>\n     <path d=\"M 33.015625 40.375 \nQ 26.375 40.375 22.484375 35.828125 \nQ 18.609375 31.296875 18.609375 23.390625 \nQ 18.609375 15.53125 22.484375 10.953125 \nQ 26.375 6.390625 33.015625 6.390625 \nQ 39.65625 6.390625 43.53125 10.953125 \nQ 47.40625 15.53125 47.40625 23.390625 \nQ 47.40625 31.296875 43.53125 35.828125 \nQ 39.65625 40.375 33.015625 40.375 \nz\nM 52.59375 71.296875 \nL 52.59375 62.3125 \nQ 48.875 64.0625 45.09375 64.984375 \nQ 41.3125 65.921875 37.59375 65.921875 \nQ 27.828125 65.921875 22.671875 59.328125 \nQ 17.53125 52.734375 16.796875 39.40625 \nQ 19.671875 43.65625 24.015625 45.921875 \nQ 28.375 48.1875 33.59375 48.1875 \nQ 44.578125 48.1875 50.953125 41.515625 \nQ 57.328125 34.859375 57.328125 23.390625 \nQ 57.328125 12.15625 50.6875 5.359375 \nQ 44.046875 -1.421875 33.015625 -1.421875 \nQ 20.359375 -1.421875 13.671875 8.265625 \nQ 6.984375 17.96875 6.984375 36.375 \nQ 6.984375 53.65625 15.1875 63.9375 \nQ 23.390625 74.21875 37.203125 74.21875 \nQ 40.921875 74.21875 44.703125 73.484375 \nQ 48.484375 72.75 52.59375 71.296875 \nz\n\" id=\"DejaVuSans-54\"/>\n    </defs>\n    <g style=\"fill:#ffffff;\" transform=\"translate(214.098437 81.148125)scale(0.1 -0.1)\">\n     <use xlink:href=\"#DejaVuSans-51\"/>\n     <use x=\"63.623047\" xlink:href=\"#DejaVuSans-54\"/>\n     <use x=\"127.246094\" xlink:href=\"#DejaVuSans-49\"/>\n     <use x=\"190.869141\" xlink:href=\"#DejaVuSans-50\"/>\n    </g>\n   </g>\n   <g id=\"text_9\">\n    <!-- 3237 -->\n    <defs>\n     <path d=\"M 8.203125 72.90625 \nL 55.078125 72.90625 \nL 55.078125 68.703125 \nL 28.609375 0 \nL 18.3125 0 \nL 43.21875 64.59375 \nL 8.203125 64.59375 \nz\n\" id=\"DejaVuSans-55\"/>\n    </defs>\n    <g style=\"fill:#ffffff;\" transform=\"translate(97.398437 197.848125)scale(0.1 -0.1)\">\n     <use xlink:href=\"#DejaVuSans-51\"/>\n     <use x=\"63.623047\" xlink:href=\"#DejaVuSans-50\"/>\n     <use x=\"127.246094\" xlink:href=\"#DejaVuSans-51\"/>\n     <use x=\"190.869141\" xlink:href=\"#DejaVuSans-55\"/>\n    </g>\n   </g>\n   <g id=\"text_10\">\n    <!-- 4177 -->\n    <defs>\n     <path d=\"M 37.796875 64.3125 \nL 12.890625 25.390625 \nL 37.796875 25.390625 \nz\nM 35.203125 72.90625 \nL 47.609375 72.90625 \nL 47.609375 25.390625 \nL 58.015625 25.390625 \nL 58.015625 17.1875 \nL 47.609375 17.1875 \nL 47.609375 0 \nL 37.796875 0 \nL 37.796875 17.1875 \nL 4.890625 17.1875 \nL 4.890625 26.703125 \nz\n\" id=\"DejaVuSans-52\"/>\n    </defs>\n    <g style=\"fill:#ffffff;\" transform=\"translate(214.098437 197.848125)scale(0.1 -0.1)\">\n     <use xlink:href=\"#DejaVuSans-52\"/>\n     <use x=\"63.623047\" xlink:href=\"#DejaVuSans-49\"/>\n     <use x=\"127.246094\" xlink:href=\"#DejaVuSans-55\"/>\n     <use x=\"190.869141\" xlink:href=\"#DejaVuSans-55\"/>\n    </g>\n   </g>\n   <g id=\"text_11\">\n    <!-- Matriz de Confusión Normalizada: Regresión Logística -->\n    <defs>\n     <path d=\"M 9.8125 72.90625 \nL 24.515625 72.90625 \nL 43.109375 23.296875 \nL 61.8125 72.90625 \nL 76.515625 72.90625 \nL 76.515625 0 \nL 66.890625 0 \nL 66.890625 64.015625 \nL 48.09375 14.015625 \nL 38.1875 14.015625 \nL 19.390625 64.015625 \nL 19.390625 0 \nL 9.8125 0 \nz\n\" id=\"DejaVuSans-77\"/>\n     <path d=\"M 5.515625 54.6875 \nL 48.1875 54.6875 \nL 48.1875 46.484375 \nL 14.40625 7.171875 \nL 48.1875 7.171875 \nL 48.1875 0 \nL 4.296875 0 \nL 4.296875 8.203125 \nL 38.09375 47.515625 \nL 5.515625 47.515625 \nz\n\" id=\"DejaVuSans-122\"/>\n     <path id=\"DejaVuSans-32\"/>\n     <path d=\"M 64.40625 67.28125 \nL 64.40625 56.890625 \nQ 59.421875 61.53125 53.78125 63.8125 \nQ 48.140625 66.109375 41.796875 66.109375 \nQ 29.296875 66.109375 22.65625 58.46875 \nQ 16.015625 50.828125 16.015625 36.375 \nQ 16.015625 21.96875 22.65625 14.328125 \nQ 29.296875 6.6875 41.796875 6.6875 \nQ 48.140625 6.6875 53.78125 8.984375 \nQ 59.421875 11.28125 64.40625 15.921875 \nL 64.40625 5.609375 \nQ 59.234375 2.09375 53.4375 0.328125 \nQ 47.65625 -1.421875 41.21875 -1.421875 \nQ 24.65625 -1.421875 15.125 8.703125 \nQ 5.609375 18.84375 5.609375 36.375 \nQ 5.609375 53.953125 15.125 64.078125 \nQ 24.65625 74.21875 41.21875 74.21875 \nQ 47.75 74.21875 53.53125 72.484375 \nQ 59.328125 70.75 64.40625 67.28125 \nz\n\" id=\"DejaVuSans-67\"/>\n     <path d=\"M 30.609375 48.390625 \nQ 23.390625 48.390625 19.1875 42.75 \nQ 14.984375 37.109375 14.984375 27.296875 \nQ 14.984375 17.484375 19.15625 11.84375 \nQ 23.34375 6.203125 30.609375 6.203125 \nQ 37.796875 6.203125 41.984375 11.859375 \nQ 46.1875 17.53125 46.1875 27.296875 \nQ 46.1875 37.015625 41.984375 42.703125 \nQ 37.796875 48.390625 30.609375 48.390625 \nz\nM 30.609375 56 \nQ 42.328125 56 49.015625 48.375 \nQ 55.71875 40.765625 55.71875 27.296875 \nQ 55.71875 13.875 49.015625 6.21875 \nQ 42.328125 -1.421875 30.609375 -1.421875 \nQ 18.84375 -1.421875 12.171875 6.21875 \nQ 5.515625 13.875 5.515625 27.296875 \nQ 5.515625 40.765625 12.171875 48.375 \nQ 18.84375 56 30.609375 56 \nz\n\" id=\"DejaVuSans-111\"/>\n     <path d=\"M 37.109375 75.984375 \nL 37.109375 68.5 \nL 28.515625 68.5 \nQ 23.6875 68.5 21.796875 66.546875 \nQ 19.921875 64.59375 19.921875 59.515625 \nL 19.921875 54.6875 \nL 34.71875 54.6875 \nL 34.71875 47.703125 \nL 19.921875 47.703125 \nL 19.921875 0 \nL 10.890625 0 \nL 10.890625 47.703125 \nL 2.296875 47.703125 \nL 2.296875 54.6875 \nL 10.890625 54.6875 \nL 10.890625 58.5 \nQ 10.890625 67.625 15.140625 71.796875 \nQ 19.390625 75.984375 28.609375 75.984375 \nz\n\" id=\"DejaVuSans-102\"/>\n     <path d=\"M 44.28125 53.078125 \nL 44.28125 44.578125 \nQ 40.484375 46.53125 36.375 47.5 \nQ 32.28125 48.484375 27.875 48.484375 \nQ 21.1875 48.484375 17.84375 46.4375 \nQ 14.5 44.390625 14.5 40.28125 \nQ 14.5 37.15625 16.890625 35.375 \nQ 19.28125 33.59375 26.515625 31.984375 \nL 29.59375 31.296875 \nQ 39.15625 29.25 43.1875 25.515625 \nQ 47.21875 21.78125 47.21875 15.09375 \nQ 47.21875 7.46875 41.1875 3.015625 \nQ 35.15625 -1.421875 24.609375 -1.421875 \nQ 20.21875 -1.421875 15.453125 -0.5625 \nQ 10.6875 0.296875 5.421875 2 \nL 5.421875 11.28125 \nQ 10.40625 8.6875 15.234375 7.390625 \nQ 20.0625 6.109375 24.8125 6.109375 \nQ 31.15625 6.109375 34.5625 8.28125 \nQ 37.984375 10.453125 37.984375 14.40625 \nQ 37.984375 18.0625 35.515625 20.015625 \nQ 33.0625 21.96875 24.703125 23.78125 \nL 21.578125 24.515625 \nQ 13.234375 26.265625 9.515625 29.90625 \nQ 5.8125 33.546875 5.8125 39.890625 \nQ 5.8125 47.609375 11.28125 51.796875 \nQ 16.75 56 26.8125 56 \nQ 31.78125 56 36.171875 55.265625 \nQ 40.578125 54.546875 44.28125 53.078125 \nz\n\" id=\"DejaVuSans-115\"/>\n     <path d=\"M 9.8125 72.90625 \nL 23.09375 72.90625 \nL 55.421875 11.921875 \nL 55.421875 72.90625 \nL 64.984375 72.90625 \nL 64.984375 0 \nL 51.703125 0 \nL 19.390625 60.984375 \nL 19.390625 0 \nL 9.8125 0 \nz\n\" id=\"DejaVuSans-78\"/>\n     <path d=\"M 52 44.1875 \nQ 55.375 50.25 60.0625 53.125 \nQ 64.75 56 71.09375 56 \nQ 79.640625 56 84.28125 50.015625 \nQ 88.921875 44.046875 88.921875 33.015625 \nL 88.921875 0 \nL 79.890625 0 \nL 79.890625 32.71875 \nQ 79.890625 40.578125 77.09375 44.375 \nQ 74.3125 48.1875 68.609375 48.1875 \nQ 61.625 48.1875 57.5625 43.546875 \nQ 53.515625 38.921875 53.515625 30.90625 \nL 53.515625 0 \nL 44.484375 0 \nL 44.484375 32.71875 \nQ 44.484375 40.625 41.703125 44.40625 \nQ 38.921875 48.1875 33.109375 48.1875 \nQ 26.21875 48.1875 22.15625 43.53125 \nQ 18.109375 38.875 18.109375 30.90625 \nL 18.109375 0 \nL 9.078125 0 \nL 9.078125 54.6875 \nL 18.109375 54.6875 \nL 18.109375 46.1875 \nQ 21.1875 51.21875 25.484375 53.609375 \nQ 29.78125 56 35.6875 56 \nQ 41.65625 56 45.828125 52.96875 \nQ 50 49.953125 52 44.1875 \nz\n\" id=\"DejaVuSans-109\"/>\n     <path d=\"M 9.421875 75.984375 \nL 18.40625 75.984375 \nL 18.40625 0 \nL 9.421875 0 \nz\n\" id=\"DejaVuSans-108\"/>\n     <path d=\"M 11.71875 12.40625 \nL 22.015625 12.40625 \nL 22.015625 0 \nL 11.71875 0 \nz\nM 11.71875 51.703125 \nL 22.015625 51.703125 \nL 22.015625 39.3125 \nL 11.71875 39.3125 \nz\n\" id=\"DejaVuSans-58\"/>\n     <path d=\"M 44.390625 34.1875 \nQ 47.5625 33.109375 50.5625 29.59375 \nQ 53.5625 26.078125 56.59375 19.921875 \nL 66.609375 0 \nL 56 0 \nL 46.6875 18.703125 \nQ 43.0625 26.03125 39.671875 28.421875 \nQ 36.28125 30.8125 30.421875 30.8125 \nL 19.671875 30.8125 \nL 19.671875 0 \nL 9.8125 0 \nL 9.8125 72.90625 \nL 32.078125 72.90625 \nQ 44.578125 72.90625 50.734375 67.671875 \nQ 56.890625 62.453125 56.890625 51.90625 \nQ 56.890625 45.015625 53.6875 40.46875 \nQ 50.484375 35.9375 44.390625 34.1875 \nz\nM 19.671875 64.796875 \nL 19.671875 38.921875 \nL 32.078125 38.921875 \nQ 39.203125 38.921875 42.84375 42.21875 \nQ 46.484375 45.515625 46.484375 51.90625 \nQ 46.484375 58.296875 42.84375 61.546875 \nQ 39.203125 64.796875 32.078125 64.796875 \nz\n\" id=\"DejaVuSans-82\"/>\n     <path d=\"M 45.40625 27.984375 \nQ 45.40625 37.75 41.375 43.109375 \nQ 37.359375 48.484375 30.078125 48.484375 \nQ 22.859375 48.484375 18.828125 43.109375 \nQ 14.796875 37.75 14.796875 27.984375 \nQ 14.796875 18.265625 18.828125 12.890625 \nQ 22.859375 7.515625 30.078125 7.515625 \nQ 37.359375 7.515625 41.375 12.890625 \nQ 45.40625 18.265625 45.40625 27.984375 \nz\nM 54.390625 6.78125 \nQ 54.390625 -7.171875 48.1875 -13.984375 \nQ 42 -20.796875 29.203125 -20.796875 \nQ 24.46875 -20.796875 20.265625 -20.09375 \nQ 16.0625 -19.390625 12.109375 -17.921875 \nL 12.109375 -9.1875 \nQ 16.0625 -11.328125 19.921875 -12.34375 \nQ 23.78125 -13.375 27.78125 -13.375 \nQ 36.625 -13.375 41.015625 -8.765625 \nQ 45.40625 -4.15625 45.40625 5.171875 \nL 45.40625 9.625 \nQ 42.625 4.78125 38.28125 2.390625 \nQ 33.9375 0 27.875 0 \nQ 17.828125 0 11.671875 7.65625 \nQ 5.515625 15.328125 5.515625 27.984375 \nQ 5.515625 40.671875 11.671875 48.328125 \nQ 17.828125 56 27.875 56 \nQ 33.9375 56 38.28125 53.609375 \nQ 42.625 51.21875 45.40625 46.390625 \nL 45.40625 54.6875 \nL 54.390625 54.6875 \nz\n\" id=\"DejaVuSans-103\"/>\n     <path d=\"M 9.8125 72.90625 \nL 19.671875 72.90625 \nL 19.671875 8.296875 \nL 55.171875 8.296875 \nL 55.171875 0 \nL 9.8125 0 \nz\n\" id=\"DejaVuSans-76\"/>\n     <path d=\"M 20.65625 79.984375 \nL 30.375 79.984375 \nL 14.46875 61.625 \nL 6.984375 61.625 \nz\nM 9.421875 54.6875 \nL 18.40625 54.6875 \nL 18.40625 0 \nL 9.421875 0 \nz\nM 13.921875 56 \nz\n\" id=\"DejaVuSans-237\"/>\n    </defs>\n    <g style=\"fill:#262626;\" transform=\"translate(7.2 16.798125)scale(0.12 -0.12)\">\n     <use xlink:href=\"#DejaVuSans-77\"/>\n     <use x=\"86.279297\" xlink:href=\"#DejaVuSans-97\"/>\n     <use x=\"147.558594\" xlink:href=\"#DejaVuSans-116\"/>\n     <use x=\"186.767578\" xlink:href=\"#DejaVuSans-114\"/>\n     <use x=\"227.880859\" xlink:href=\"#DejaVuSans-105\"/>\n     <use x=\"255.664062\" xlink:href=\"#DejaVuSans-122\"/>\n     <use x=\"308.154297\" xlink:href=\"#DejaVuSans-32\"/>\n     <use x=\"339.941406\" xlink:href=\"#DejaVuSans-100\"/>\n     <use x=\"403.417969\" xlink:href=\"#DejaVuSans-101\"/>\n     <use x=\"464.941406\" xlink:href=\"#DejaVuSans-32\"/>\n     <use x=\"496.728516\" xlink:href=\"#DejaVuSans-67\"/>\n     <use x=\"566.552734\" xlink:href=\"#DejaVuSans-111\"/>\n     <use x=\"627.734375\" xlink:href=\"#DejaVuSans-110\"/>\n     <use x=\"691.113281\" xlink:href=\"#DejaVuSans-102\"/>\n     <use x=\"726.318359\" xlink:href=\"#DejaVuSans-117\"/>\n     <use x=\"789.697266\" xlink:href=\"#DejaVuSans-115\"/>\n     <use x=\"841.796875\" xlink:href=\"#DejaVuSans-105\"/>\n     <use x=\"869.580078\" xlink:href=\"#DejaVuSans-243\"/>\n     <use x=\"930.761719\" xlink:href=\"#DejaVuSans-110\"/>\n     <use x=\"994.140625\" xlink:href=\"#DejaVuSans-32\"/>\n     <use x=\"1025.927734\" xlink:href=\"#DejaVuSans-78\"/>\n     <use x=\"1100.732422\" xlink:href=\"#DejaVuSans-111\"/>\n     <use x=\"1161.914062\" xlink:href=\"#DejaVuSans-114\"/>\n     <use x=\"1201.277344\" xlink:href=\"#DejaVuSans-109\"/>\n     <use x=\"1298.689453\" xlink:href=\"#DejaVuSans-97\"/>\n     <use x=\"1359.96875\" xlink:href=\"#DejaVuSans-108\"/>\n     <use x=\"1387.751953\" xlink:href=\"#DejaVuSans-105\"/>\n     <use x=\"1415.535156\" xlink:href=\"#DejaVuSans-122\"/>\n     <use x=\"1468.025391\" xlink:href=\"#DejaVuSans-97\"/>\n     <use x=\"1529.304688\" xlink:href=\"#DejaVuSans-100\"/>\n     <use x=\"1592.78125\" xlink:href=\"#DejaVuSans-97\"/>\n     <use x=\"1654.060547\" xlink:href=\"#DejaVuSans-58\"/>\n     <use x=\"1687.751953\" xlink:href=\"#DejaVuSans-32\"/>\n     <use x=\"1719.539062\" xlink:href=\"#DejaVuSans-82\"/>\n     <use x=\"1784.521484\" xlink:href=\"#DejaVuSans-101\"/>\n     <use x=\"1846.044922\" xlink:href=\"#DejaVuSans-103\"/>\n     <use x=\"1909.521484\" xlink:href=\"#DejaVuSans-114\"/>\n     <use x=\"1948.384766\" xlink:href=\"#DejaVuSans-101\"/>\n     <use x=\"2009.908203\" xlink:href=\"#DejaVuSans-115\"/>\n     <use x=\"2062.007812\" xlink:href=\"#DejaVuSans-105\"/>\n     <use x=\"2089.791016\" xlink:href=\"#DejaVuSans-243\"/>\n     <use x=\"2150.972656\" xlink:href=\"#DejaVuSans-110\"/>\n     <use x=\"2214.351562\" xlink:href=\"#DejaVuSans-32\"/>\n     <use x=\"2246.138672\" xlink:href=\"#DejaVuSans-76\"/>\n     <use x=\"2300.101562\" xlink:href=\"#DejaVuSans-111\"/>\n     <use x=\"2361.283203\" xlink:href=\"#DejaVuSans-103\"/>\n     <use x=\"2424.759766\" xlink:href=\"#DejaVuSans-237\"/>\n     <use x=\"2452.542969\" xlink:href=\"#DejaVuSans-115\"/>\n     <use x=\"2504.642578\" xlink:href=\"#DejaVuSans-116\"/>\n     <use x=\"2543.851562\" xlink:href=\"#DejaVuSans-105\"/>\n     <use x=\"2571.634766\" xlink:href=\"#DejaVuSans-99\"/>\n     <use x=\"2626.615234\" xlink:href=\"#DejaVuSans-97\"/>\n    </g>\n   </g>\n  </g>\n  <g id=\"axes_2\">\n   <g id=\"patch_7\">\n    <path clip-path=\"url(#pa98306153e)\" d=\"M 305.558812 256.198125 \nL 305.558812 255.286406 \nL 305.558812 23.709844 \nL 305.558812 22.798125 \nL 317.228813 22.798125 \nL 317.228813 23.709844 \nL 317.228813 255.286406 \nL 317.228813 256.198125 \nz\n\" style=\"fill:#ffffff;stroke:#ffffff;stroke-linejoin:miter;stroke-width:0.01;\"/>\n   </g>\n   <g id=\"matplotlib.axis_3\"/>\n   <g id=\"matplotlib.axis_4\">\n    <g id=\"ytick_3\">\n     <g id=\"line2d_1\">\n      <defs>\n       <path d=\"M 0 0 \nL 3.5 0 \n\" id=\"m9838708fdb\" style=\"stroke:#262626;stroke-width:0.8;\"/>\n      </defs>\n      <g>\n       <use style=\"fill:#262626;stroke:#262626;stroke-width:0.8;\" x=\"317.228813\" xlink:href=\"#m9838708fdb\" y=\"215.725572\"/>\n      </g>\n     </g>\n     <g id=\"text_12\">\n      <!-- 3400 -->\n      <g style=\"fill:#262626;\" transform=\"translate(324.228813 219.524791)scale(0.1 -0.1)\">\n       <use xlink:href=\"#DejaVuSans-51\"/>\n       <use x=\"63.623047\" xlink:href=\"#DejaVuSans-52\"/>\n       <use x=\"127.246094\" xlink:href=\"#DejaVuSans-48\"/>\n       <use x=\"190.869141\" xlink:href=\"#DejaVuSans-48\"/>\n      </g>\n     </g>\n    </g>\n    <g id=\"ytick_4\">\n     <g id=\"line2d_2\">\n      <g>\n       <use style=\"fill:#262626;stroke:#262626;stroke-width:0.8;\" x=\"317.228813\" xlink:href=\"#m9838708fdb\" y=\"166.065997\"/>\n      </g>\n     </g>\n     <g id=\"text_13\">\n      <!-- 3600 -->\n      <g style=\"fill:#262626;\" transform=\"translate(324.228813 169.865216)scale(0.1 -0.1)\">\n       <use xlink:href=\"#DejaVuSans-51\"/>\n       <use x=\"63.623047\" xlink:href=\"#DejaVuSans-54\"/>\n       <use x=\"127.246094\" xlink:href=\"#DejaVuSans-48\"/>\n       <use x=\"190.869141\" xlink:href=\"#DejaVuSans-48\"/>\n      </g>\n     </g>\n    </g>\n    <g id=\"ytick_5\">\n     <g id=\"line2d_3\">\n      <g>\n       <use style=\"fill:#262626;stroke:#262626;stroke-width:0.8;\" x=\"317.228813\" xlink:href=\"#m9838708fdb\" y=\"116.406423\"/>\n      </g>\n     </g>\n     <g id=\"text_14\">\n      <!-- 3800 -->\n      <g style=\"fill:#262626;\" transform=\"translate(324.228813 120.205642)scale(0.1 -0.1)\">\n       <use xlink:href=\"#DejaVuSans-51\"/>\n       <use x=\"63.623047\" xlink:href=\"#DejaVuSans-56\"/>\n       <use x=\"127.246094\" xlink:href=\"#DejaVuSans-48\"/>\n       <use x=\"190.869141\" xlink:href=\"#DejaVuSans-48\"/>\n      </g>\n     </g>\n    </g>\n    <g id=\"ytick_6\">\n     <g id=\"line2d_4\">\n      <g>\n       <use style=\"fill:#262626;stroke:#262626;stroke-width:0.8;\" x=\"317.228813\" xlink:href=\"#m9838708fdb\" y=\"66.746848\"/>\n      </g>\n     </g>\n     <g id=\"text_15\">\n      <!-- 4000 -->\n      <g style=\"fill:#262626;\" transform=\"translate(324.228813 70.546067)scale(0.1 -0.1)\">\n       <use xlink:href=\"#DejaVuSans-52\"/>\n       <use x=\"63.623047\" xlink:href=\"#DejaVuSans-48\"/>\n       <use x=\"127.246094\" xlink:href=\"#DejaVuSans-48\"/>\n       <use x=\"190.869141\" xlink:href=\"#DejaVuSans-48\"/>\n      </g>\n     </g>\n    </g>\n   </g>\n   <image height=\"233\" id=\"imagebd3491636f\" transform=\"scale(1 -1)translate(0 -233)\" width=\"11\" x=\"306\" xlink:href=\"data:image/png;base64,\niVBORw0KGgoAAAANSUhEUgAAAAsAAADpCAYAAADyIM2vAAAABHNCSVQICAgIfAhkiAAAARdJREFUaIHtmEEKwzAMBNXi/z+3h0LiHpOjpzCwCs55WSZaSXby+nznrMVnzFrW1gDaGkBbY524akygNjFI6Yjze10aw0zrHIEB+zmCGTmXxnxqpUtZMpv5Jt5x38UdmeEJa2F0LF0Ks3btORteqLyNFMLMQkHOGdWIYSZiEsohjhXpOs3Zq7O5kVCCwFkcWBS3dtB7MxiyGA/AQZmBWDwHO3Zdy4EFYrbMQzDWjenKJTMo3p+9Rlo3NntDPOi9uNcpzOlOaaSUJYOY+/VzSChi3GzlRjBv57+de8YdggGcYZ0955DSaX9cxUbSxGKCu86XOOUFM+J+fp0bJlhMvP7l3dRZwziPCIzHO5NJEXuDxd2wztv5en48n/5RooIUWgAAAABJRU5ErkJggg==\" y=\"-22\"/>\n   <g id=\"patch_8\">\n    <path d=\"M 305.558812 256.198125 \nL 305.558812 255.286406 \nL 305.558812 23.709844 \nL 305.558812 22.798125 \nL 317.228813 22.798125 \nL 317.228813 23.709844 \nL 317.228813 255.286406 \nL 317.228813 256.198125 \nz\n\" style=\"fill:none;stroke:#262626;stroke-linejoin:miter;stroke-width:0.8;\"/>\n   </g>\n  </g>\n </g>\n <defs>\n  <clipPath id=\"p8d8444e84e\">\n   <rect height=\"233.4\" width=\"233.4\" x=\"51.773437\" y=\"22.798125\"/>\n  </clipPath>\n  <clipPath id=\"pa98306153e\">\n   <rect height=\"233.4\" width=\"11.67\" x=\"305.558812\" y=\"22.798125\"/>\n  </clipPath>\n </defs>\n</svg>\n"
          },
          "metadata": {}
        }
      ]
    },
    {
      "cell_type": "markdown",
      "metadata": {
        "id": "fUf7Bd4KlrQm"
      },
      "source": [
        "El modelo de regresión logística que utiliza el conjunto de etiquetas B obtuvo una precisión de 0.5381. Es decir, de la totalidad de los datos el 53.81% de los datos de validación fueron bien etiquetados. En comparación con el modelo que utiliza el conjunto de etiquetas A, el desempeño fue menor. En otros términos, el modelo de regresión para el conjunto A es mejor porque obtuvo una precisión más alta."
      ]
    },
    {
      "cell_type": "markdown",
      "metadata": {
        "id": "viQkCHnM63af"
      },
      "source": [
        "## Caso C"
      ]
    },
    {
      "cell_type": "code",
      "metadata": {
        "scrolled": false,
        "id": "yHxML4Oq63af",
        "colab": {
          "base_uri": "https://localhost:8080/",
          "height": 515
        },
        "outputId": "1417ea8e-0cfb-4a93-b9ce-939d6733aa3c"
      },
      "source": [
        "model = LogisticRegression(C=0.8,\n",
        "                           random_state=0,\n",
        "                           solver='lbfgs')\n",
        "model.fit(X_train_subC,y_train) # Ajuste el modelo con los datos del conjunto C #\n",
        "y_predict = model.predict(X_test_subC) # Realice la predicción de etiquetas con los datos de prueba del conjunto C #\n",
        "\n",
        "print(f'Precisión {round(accuracy_score(y_test, y_predict),5)}')\n",
        "print(pd.DataFrame(confusion_matrix(y_test,y_predict)))\n",
        "\n",
        "sns.set_style('white') \n",
        "class_names = ['0','1']\n",
        "plot_confusion_matrix(confusion_matrix(y_test,y_predict),\n",
        "                      classes= class_names, \n",
        "                      title='Matriz de Confusión Normalizada: Regresión Logística')\n"
      ],
      "execution_count": null,
      "outputs": [
        {
          "output_type": "stream",
          "name": "stdout",
          "text": [
            "Precisión 0.60777\n",
            "      0     1\n",
            "0  3998  3416\n",
            "1  2400  5014\n",
            "[[3998 3416]\n",
            " [2400 5014]]\n"
          ]
        },
        {
          "output_type": "display_data",
          "data": {
            "text/plain": [
              "<Figure size 432x288 with 2 Axes>"
            ],
            "image/svg+xml": "<?xml version=\"1.0\" encoding=\"utf-8\" standalone=\"no\"?>\n<!DOCTYPE svg PUBLIC \"-//W3C//DTD SVG 1.1//EN\"\n  \"http://www.w3.org/Graphics/SVG/1.1/DTD/svg11.dtd\">\n<!-- Created with matplotlib (https://matplotlib.org/) -->\n<svg height=\"293.754375pt\" version=\"1.1\" viewBox=\"0 0 356.878812 293.754375\" width=\"356.878812pt\" xmlns=\"http://www.w3.org/2000/svg\" xmlns:xlink=\"http://www.w3.org/1999/xlink\">\n <defs>\n  <style type=\"text/css\">\n*{stroke-linecap:butt;stroke-linejoin:round;}\n  </style>\n </defs>\n <g id=\"figure_1\">\n  <g id=\"patch_1\">\n   <path d=\"M 0 293.754375 \nL 356.878812 293.754375 \nL 356.878812 0 \nL 0 0 \nz\n\" style=\"fill:#ffffff;\"/>\n  </g>\n  <g id=\"axes_1\">\n   <g id=\"patch_2\">\n    <path d=\"M 51.773437 256.198125 \nL 285.173437 256.198125 \nL 285.173437 22.798125 \nL 51.773437 22.798125 \nz\n\" style=\"fill:#ffffff;\"/>\n   </g>\n   <g clip-path=\"url(#pe76fb3c6a7)\">\n    <image height=\"234\" id=\"imaged00803fd17\" transform=\"scale(1 -1)translate(0 -234)\" width=\"234\" x=\"51.773437\" xlink:href=\"data:image/png;base64,\niVBORw0KGgoAAAANSUhEUgAAAOoAAADqCAYAAACslNlOAAAABHNCSVQICAgIfAhkiAAAAuRJREFUeJzt1TENAkEARFEOB3T4IFhAADpODp6QREGxSLhmk80n7ymY5me2z3eME3/lct9XT2Cy8+oBwDGhQoBQIUCoECBUCBAqBAgVAoQKAUKFAKFCgFAhQKgQIFQIECoECBUChAoBQoUAoUKAUCFAqBAgVAgQKgQIFQKECgFChQChQoBQIUCoECBUCBAqBAgVAoQKAUKFAKFCgFAhQKgQIFQIECoECBUChAoBQoUAoUKAUCFAqBAgVAgQKgQIFQKECgFChQChQoBQIUCoECBUCBAqBAgVAoQKAUKFAKFCgFAhQKgQIFQIECoECBUChAoBQoUAoUKAUCFAqBAgVAgQKgQIFQKECgFChQChQoBQIUCoECBUCBAqBAgVAoQKAUKFAKFCgFAhQKgQIFQIECoECBUChAoBQoUAoUKAUCFAqBAgVAgQKgQIFQKECgFChQChQoBQIUCoECBUCBAqBAgVAoQKAUKFAKFCgFAhQKgQIFQIECoECBUChAoBQoUAoUKAUCFAqBCwPV7vsXoEcz1v19UTmMyjQoBQIUCoECBUCBAqBAgVAoQKAUKFAKFCgFAhQKgQIFQIECoECBUChAoBQoUAoUKAUCFAqBAgVAgQKgQIFQKECgFChQChQoBQIUCoECBUCBAqBAgVAoQKAUKFAKFCgFAhQKgQIFQIECoECBUChAoBQoUAoUKAUCFAqBAgVAgQKgQIFQKECgFChQChQoBQIUCoECBUCBAqBAgVAoQKAUKFAKFCgFAhQKgQIFQIECoECBUChAoBQoUAoUKAUCFAqBAgVAgQKgQIFQKECgFChQChQoBQIUCoECBUCBAqBAgVAoQKAUKFAKFCgFAhQKgQIFQIECoECBUChAoBQoUAoUKAUCFAqBAgVAgQKgQIFQKECgFChQChQoBQIUCoECBUCBAqBAgVAoQKAUKFAKFCgFAhQKgQIFQIECoECBUChAoBQoUAoUKAUCFAqBAgVAj4ASFUCbKpZpZEAAAAAElFTkSuQmCC\" y=\"-22.198125\"/>\n   </g>\n   <g id=\"matplotlib.axis_1\">\n    <g id=\"xtick_1\">\n     <g id=\"text_1\">\n      <!-- 0 -->\n      <defs>\n       <path d=\"M 31.78125 66.40625 \nQ 24.171875 66.40625 20.328125 58.90625 \nQ 16.5 51.421875 16.5 36.375 \nQ 16.5 21.390625 20.328125 13.890625 \nQ 24.171875 6.390625 31.78125 6.390625 \nQ 39.453125 6.390625 43.28125 13.890625 \nQ 47.125 21.390625 47.125 36.375 \nQ 47.125 51.421875 43.28125 58.90625 \nQ 39.453125 66.40625 31.78125 66.40625 \nz\nM 31.78125 74.21875 \nQ 44.046875 74.21875 50.515625 64.515625 \nQ 56.984375 54.828125 56.984375 36.375 \nQ 56.984375 17.96875 50.515625 8.265625 \nQ 44.046875 -1.421875 31.78125 -1.421875 \nQ 19.53125 -1.421875 13.0625 8.265625 \nQ 6.59375 17.96875 6.59375 36.375 \nQ 6.59375 54.828125 13.0625 64.515625 \nQ 19.53125 74.21875 31.78125 74.21875 \nz\n\" id=\"DejaVuSans-48\"/>\n      </defs>\n      <g style=\"fill:#262626;\" transform=\"translate(106.942187 270.796562)scale(0.1 -0.1)\">\n       <use xlink:href=\"#DejaVuSans-48\"/>\n      </g>\n     </g>\n    </g>\n    <g id=\"xtick_2\">\n     <g id=\"text_2\">\n      <!-- 1 -->\n      <defs>\n       <path d=\"M 12.40625 8.296875 \nL 28.515625 8.296875 \nL 28.515625 63.921875 \nL 10.984375 60.40625 \nL 10.984375 69.390625 \nL 28.421875 72.90625 \nL 38.28125 72.90625 \nL 38.28125 8.296875 \nL 54.390625 8.296875 \nL 54.390625 0 \nL 12.40625 0 \nz\n\" id=\"DejaVuSans-49\"/>\n      </defs>\n      <g style=\"fill:#262626;\" transform=\"translate(223.642187 270.796562)scale(0.1 -0.1)\">\n       <use xlink:href=\"#DejaVuSans-49\"/>\n      </g>\n     </g>\n    </g>\n    <g id=\"text_3\">\n     <!-- Predicción -->\n     <defs>\n      <path d=\"M 19.671875 64.796875 \nL 19.671875 37.40625 \nL 32.078125 37.40625 \nQ 38.96875 37.40625 42.71875 40.96875 \nQ 46.484375 44.53125 46.484375 51.125 \nQ 46.484375 57.671875 42.71875 61.234375 \nQ 38.96875 64.796875 32.078125 64.796875 \nz\nM 9.8125 72.90625 \nL 32.078125 72.90625 \nQ 44.34375 72.90625 50.609375 67.359375 \nQ 56.890625 61.8125 56.890625 51.125 \nQ 56.890625 40.328125 50.609375 34.8125 \nQ 44.34375 29.296875 32.078125 29.296875 \nL 19.671875 29.296875 \nL 19.671875 0 \nL 9.8125 0 \nz\n\" id=\"DejaVuSans-80\"/>\n      <path d=\"M 41.109375 46.296875 \nQ 39.59375 47.171875 37.8125 47.578125 \nQ 36.03125 48 33.890625 48 \nQ 26.265625 48 22.1875 43.046875 \nQ 18.109375 38.09375 18.109375 28.8125 \nL 18.109375 0 \nL 9.078125 0 \nL 9.078125 54.6875 \nL 18.109375 54.6875 \nL 18.109375 46.1875 \nQ 20.953125 51.171875 25.484375 53.578125 \nQ 30.03125 56 36.53125 56 \nQ 37.453125 56 38.578125 55.875 \nQ 39.703125 55.765625 41.0625 55.515625 \nz\n\" id=\"DejaVuSans-114\"/>\n      <path d=\"M 56.203125 29.59375 \nL 56.203125 25.203125 \nL 14.890625 25.203125 \nQ 15.484375 15.921875 20.484375 11.0625 \nQ 25.484375 6.203125 34.421875 6.203125 \nQ 39.59375 6.203125 44.453125 7.46875 \nQ 49.3125 8.734375 54.109375 11.28125 \nL 54.109375 2.78125 \nQ 49.265625 0.734375 44.1875 -0.34375 \nQ 39.109375 -1.421875 33.890625 -1.421875 \nQ 20.796875 -1.421875 13.15625 6.1875 \nQ 5.515625 13.8125 5.515625 26.8125 \nQ 5.515625 40.234375 12.765625 48.109375 \nQ 20.015625 56 32.328125 56 \nQ 43.359375 56 49.78125 48.890625 \nQ 56.203125 41.796875 56.203125 29.59375 \nz\nM 47.21875 32.234375 \nQ 47.125 39.59375 43.09375 43.984375 \nQ 39.0625 48.390625 32.421875 48.390625 \nQ 24.90625 48.390625 20.390625 44.140625 \nQ 15.875 39.890625 15.1875 32.171875 \nz\n\" id=\"DejaVuSans-101\"/>\n      <path d=\"M 45.40625 46.390625 \nL 45.40625 75.984375 \nL 54.390625 75.984375 \nL 54.390625 0 \nL 45.40625 0 \nL 45.40625 8.203125 \nQ 42.578125 3.328125 38.25 0.953125 \nQ 33.9375 -1.421875 27.875 -1.421875 \nQ 17.96875 -1.421875 11.734375 6.484375 \nQ 5.515625 14.40625 5.515625 27.296875 \nQ 5.515625 40.1875 11.734375 48.09375 \nQ 17.96875 56 27.875 56 \nQ 33.9375 56 38.25 53.625 \nQ 42.578125 51.265625 45.40625 46.390625 \nz\nM 14.796875 27.296875 \nQ 14.796875 17.390625 18.875 11.75 \nQ 22.953125 6.109375 30.078125 6.109375 \nQ 37.203125 6.109375 41.296875 11.75 \nQ 45.40625 17.390625 45.40625 27.296875 \nQ 45.40625 37.203125 41.296875 42.84375 \nQ 37.203125 48.484375 30.078125 48.484375 \nQ 22.953125 48.484375 18.875 42.84375 \nQ 14.796875 37.203125 14.796875 27.296875 \nz\n\" id=\"DejaVuSans-100\"/>\n      <path d=\"M 9.421875 54.6875 \nL 18.40625 54.6875 \nL 18.40625 0 \nL 9.421875 0 \nz\nM 9.421875 75.984375 \nL 18.40625 75.984375 \nL 18.40625 64.59375 \nL 9.421875 64.59375 \nz\n\" id=\"DejaVuSans-105\"/>\n      <path d=\"M 48.78125 52.59375 \nL 48.78125 44.1875 \nQ 44.96875 46.296875 41.140625 47.34375 \nQ 37.3125 48.390625 33.40625 48.390625 \nQ 24.65625 48.390625 19.8125 42.84375 \nQ 14.984375 37.3125 14.984375 27.296875 \nQ 14.984375 17.28125 19.8125 11.734375 \nQ 24.65625 6.203125 33.40625 6.203125 \nQ 37.3125 6.203125 41.140625 7.25 \nQ 44.96875 8.296875 48.78125 10.40625 \nL 48.78125 2.09375 \nQ 45.015625 0.34375 40.984375 -0.53125 \nQ 36.96875 -1.421875 32.421875 -1.421875 \nQ 20.0625 -1.421875 12.78125 6.34375 \nQ 5.515625 14.109375 5.515625 27.296875 \nQ 5.515625 40.671875 12.859375 48.328125 \nQ 20.21875 56 33.015625 56 \nQ 37.15625 56 41.109375 55.140625 \nQ 45.0625 54.296875 48.78125 52.59375 \nz\n\" id=\"DejaVuSans-99\"/>\n      <path d=\"M 30.609375 48.390625 \nQ 23.390625 48.390625 19.1875 42.75 \nQ 14.984375 37.109375 14.984375 27.296875 \nQ 14.984375 17.484375 19.15625 11.84375 \nQ 23.34375 6.203125 30.609375 6.203125 \nQ 37.796875 6.203125 41.984375 11.859375 \nQ 46.1875 17.53125 46.1875 27.296875 \nQ 46.1875 37.015625 41.984375 42.703125 \nQ 37.796875 48.390625 30.609375 48.390625 \nz\nM 30.609375 56 \nQ 42.328125 56 49.015625 48.375 \nQ 55.71875 40.765625 55.71875 27.296875 \nQ 55.71875 13.875 49.015625 6.21875 \nQ 42.328125 -1.421875 30.609375 -1.421875 \nQ 18.84375 -1.421875 12.171875 6.21875 \nQ 5.515625 13.875 5.515625 27.296875 \nQ 5.515625 40.765625 12.171875 48.375 \nQ 18.84375 56 30.609375 56 \nz\nM 37.40625 79.984375 \nL 47.125 79.984375 \nL 31.21875 61.625 \nL 23.734375 61.625 \nz\n\" id=\"DejaVuSans-243\"/>\n      <path d=\"M 54.890625 33.015625 \nL 54.890625 0 \nL 45.90625 0 \nL 45.90625 32.71875 \nQ 45.90625 40.484375 42.875 44.328125 \nQ 39.84375 48.1875 33.796875 48.1875 \nQ 26.515625 48.1875 22.3125 43.546875 \nQ 18.109375 38.921875 18.109375 30.90625 \nL 18.109375 0 \nL 9.078125 0 \nL 9.078125 54.6875 \nL 18.109375 54.6875 \nL 18.109375 46.1875 \nQ 21.34375 51.125 25.703125 53.5625 \nQ 30.078125 56 35.796875 56 \nQ 45.21875 56 50.046875 50.171875 \nQ 54.890625 44.34375 54.890625 33.015625 \nz\n\" id=\"DejaVuSans-110\"/>\n     </defs>\n     <g style=\"fill:#262626;\" transform=\"translate(142.847656 284.474687)scale(0.1 -0.1)\">\n      <use xlink:href=\"#DejaVuSans-80\"/>\n      <use x=\"58.552734\" xlink:href=\"#DejaVuSans-114\"/>\n      <use x=\"97.416016\" xlink:href=\"#DejaVuSans-101\"/>\n      <use x=\"158.939453\" xlink:href=\"#DejaVuSans-100\"/>\n      <use x=\"222.416016\" xlink:href=\"#DejaVuSans-105\"/>\n      <use x=\"250.199219\" xlink:href=\"#DejaVuSans-99\"/>\n      <use x=\"305.179688\" xlink:href=\"#DejaVuSans-99\"/>\n      <use x=\"360.160156\" xlink:href=\"#DejaVuSans-105\"/>\n      <use x=\"387.943359\" xlink:href=\"#DejaVuSans-243\"/>\n      <use x=\"449.125\" xlink:href=\"#DejaVuSans-110\"/>\n     </g>\n    </g>\n   </g>\n   <g id=\"matplotlib.axis_2\">\n    <g id=\"ytick_1\">\n     <g id=\"text_4\">\n      <!-- 0 -->\n      <g style=\"fill:#262626;\" transform=\"translate(38.410937 84.947344)scale(0.1 -0.1)\">\n       <use xlink:href=\"#DejaVuSans-48\"/>\n      </g>\n     </g>\n    </g>\n    <g id=\"ytick_2\">\n     <g id=\"text_5\">\n      <!-- 1 -->\n      <g style=\"fill:#262626;\" transform=\"translate(38.410937 201.647344)scale(0.1 -0.1)\">\n       <use xlink:href=\"#DejaVuSans-49\"/>\n      </g>\n     </g>\n    </g>\n    <g id=\"text_6\">\n     <!-- Etiqueta -->\n     <defs>\n      <path d=\"M 9.8125 72.90625 \nL 55.90625 72.90625 \nL 55.90625 64.59375 \nL 19.671875 64.59375 \nL 19.671875 43.015625 \nL 54.390625 43.015625 \nL 54.390625 34.71875 \nL 19.671875 34.71875 \nL 19.671875 8.296875 \nL 56.78125 8.296875 \nL 56.78125 0 \nL 9.8125 0 \nz\n\" id=\"DejaVuSans-69\"/>\n      <path d=\"M 18.3125 70.21875 \nL 18.3125 54.6875 \nL 36.8125 54.6875 \nL 36.8125 47.703125 \nL 18.3125 47.703125 \nL 18.3125 18.015625 \nQ 18.3125 11.328125 20.140625 9.421875 \nQ 21.96875 7.515625 27.59375 7.515625 \nL 36.8125 7.515625 \nL 36.8125 0 \nL 27.59375 0 \nQ 17.1875 0 13.234375 3.875 \nQ 9.28125 7.765625 9.28125 18.015625 \nL 9.28125 47.703125 \nL 2.6875 47.703125 \nL 2.6875 54.6875 \nL 9.28125 54.6875 \nL 9.28125 70.21875 \nz\n\" id=\"DejaVuSans-116\"/>\n      <path d=\"M 14.796875 27.296875 \nQ 14.796875 17.390625 18.875 11.75 \nQ 22.953125 6.109375 30.078125 6.109375 \nQ 37.203125 6.109375 41.296875 11.75 \nQ 45.40625 17.390625 45.40625 27.296875 \nQ 45.40625 37.203125 41.296875 42.84375 \nQ 37.203125 48.484375 30.078125 48.484375 \nQ 22.953125 48.484375 18.875 42.84375 \nQ 14.796875 37.203125 14.796875 27.296875 \nz\nM 45.40625 8.203125 \nQ 42.578125 3.328125 38.25 0.953125 \nQ 33.9375 -1.421875 27.875 -1.421875 \nQ 17.96875 -1.421875 11.734375 6.484375 \nQ 5.515625 14.40625 5.515625 27.296875 \nQ 5.515625 40.1875 11.734375 48.09375 \nQ 17.96875 56 27.875 56 \nQ 33.9375 56 38.25 53.625 \nQ 42.578125 51.265625 45.40625 46.390625 \nL 45.40625 54.6875 \nL 54.390625 54.6875 \nL 54.390625 -20.796875 \nL 45.40625 -20.796875 \nz\n\" id=\"DejaVuSans-113\"/>\n      <path d=\"M 8.5 21.578125 \nL 8.5 54.6875 \nL 17.484375 54.6875 \nL 17.484375 21.921875 \nQ 17.484375 14.15625 20.5 10.265625 \nQ 23.53125 6.390625 29.59375 6.390625 \nQ 36.859375 6.390625 41.078125 11.03125 \nQ 45.3125 15.671875 45.3125 23.6875 \nL 45.3125 54.6875 \nL 54.296875 54.6875 \nL 54.296875 0 \nL 45.3125 0 \nL 45.3125 8.40625 \nQ 42.046875 3.421875 37.71875 1 \nQ 33.40625 -1.421875 27.6875 -1.421875 \nQ 18.265625 -1.421875 13.375 4.4375 \nQ 8.5 10.296875 8.5 21.578125 \nz\nM 31.109375 56 \nz\n\" id=\"DejaVuSans-117\"/>\n      <path d=\"M 34.28125 27.484375 \nQ 23.390625 27.484375 19.1875 25 \nQ 14.984375 22.515625 14.984375 16.5 \nQ 14.984375 11.71875 18.140625 8.90625 \nQ 21.296875 6.109375 26.703125 6.109375 \nQ 34.1875 6.109375 38.703125 11.40625 \nQ 43.21875 16.703125 43.21875 25.484375 \nL 43.21875 27.484375 \nz\nM 52.203125 31.203125 \nL 52.203125 0 \nL 43.21875 0 \nL 43.21875 8.296875 \nQ 40.140625 3.328125 35.546875 0.953125 \nQ 30.953125 -1.421875 24.3125 -1.421875 \nQ 15.921875 -1.421875 10.953125 3.296875 \nQ 6 8.015625 6 15.921875 \nQ 6 25.140625 12.171875 29.828125 \nQ 18.359375 34.515625 30.609375 34.515625 \nL 43.21875 34.515625 \nL 43.21875 35.40625 \nQ 43.21875 41.609375 39.140625 45 \nQ 35.0625 48.390625 27.6875 48.390625 \nQ 23 48.390625 18.546875 47.265625 \nQ 14.109375 46.140625 10.015625 43.890625 \nL 10.015625 52.203125 \nQ 14.9375 54.109375 19.578125 55.046875 \nQ 24.21875 56 28.609375 56 \nQ 40.484375 56 46.34375 49.84375 \nQ 52.203125 43.703125 52.203125 31.203125 \nz\n\" id=\"DejaVuSans-97\"/>\n     </defs>\n     <g style=\"fill:#262626;\" transform=\"translate(32.33125 160.450469)rotate(-90)scale(0.1 -0.1)\">\n      <use xlink:href=\"#DejaVuSans-69\"/>\n      <use x=\"63.183594\" xlink:href=\"#DejaVuSans-116\"/>\n      <use x=\"102.392578\" xlink:href=\"#DejaVuSans-105\"/>\n      <use x=\"130.175781\" xlink:href=\"#DejaVuSans-113\"/>\n      <use x=\"193.652344\" xlink:href=\"#DejaVuSans-117\"/>\n      <use x=\"257.03125\" xlink:href=\"#DejaVuSans-101\"/>\n      <use x=\"318.554688\" xlink:href=\"#DejaVuSans-116\"/>\n      <use x=\"357.763672\" xlink:href=\"#DejaVuSans-97\"/>\n     </g>\n    </g>\n   </g>\n   <g id=\"patch_3\">\n    <path d=\"M 51.773437 256.198125 \nL 51.773437 22.798125 \n\" style=\"fill:none;stroke:#262626;stroke-linecap:square;stroke-linejoin:miter;stroke-width:0.8;\"/>\n   </g>\n   <g id=\"patch_4\">\n    <path d=\"M 285.173437 256.198125 \nL 285.173437 22.798125 \n\" style=\"fill:none;stroke:#262626;stroke-linecap:square;stroke-linejoin:miter;stroke-width:0.8;\"/>\n   </g>\n   <g id=\"patch_5\">\n    <path d=\"M 51.773437 256.198125 \nL 285.173437 256.198125 \n\" style=\"fill:none;stroke:#262626;stroke-linecap:square;stroke-linejoin:miter;stroke-width:0.8;\"/>\n   </g>\n   <g id=\"patch_6\">\n    <path d=\"M 51.773437 22.798125 \nL 285.173437 22.798125 \n\" style=\"fill:none;stroke:#262626;stroke-linecap:square;stroke-linejoin:miter;stroke-width:0.8;\"/>\n   </g>\n   <g id=\"text_7\">\n    <!-- 3998 -->\n    <defs>\n     <path d=\"M 40.578125 39.3125 \nQ 47.65625 37.796875 51.625 33 \nQ 55.609375 28.21875 55.609375 21.1875 \nQ 55.609375 10.40625 48.1875 4.484375 \nQ 40.765625 -1.421875 27.09375 -1.421875 \nQ 22.515625 -1.421875 17.65625 -0.515625 \nQ 12.796875 0.390625 7.625 2.203125 \nL 7.625 11.71875 \nQ 11.71875 9.328125 16.59375 8.109375 \nQ 21.484375 6.890625 26.8125 6.890625 \nQ 36.078125 6.890625 40.9375 10.546875 \nQ 45.796875 14.203125 45.796875 21.1875 \nQ 45.796875 27.640625 41.28125 31.265625 \nQ 36.765625 34.90625 28.71875 34.90625 \nL 20.21875 34.90625 \nL 20.21875 43.015625 \nL 29.109375 43.015625 \nQ 36.375 43.015625 40.234375 45.921875 \nQ 44.09375 48.828125 44.09375 54.296875 \nQ 44.09375 59.90625 40.109375 62.90625 \nQ 36.140625 65.921875 28.71875 65.921875 \nQ 24.65625 65.921875 20.015625 65.03125 \nQ 15.375 64.15625 9.8125 62.3125 \nL 9.8125 71.09375 \nQ 15.4375 72.65625 20.34375 73.4375 \nQ 25.25 74.21875 29.59375 74.21875 \nQ 40.828125 74.21875 47.359375 69.109375 \nQ 53.90625 64.015625 53.90625 55.328125 \nQ 53.90625 49.265625 50.4375 45.09375 \nQ 46.96875 40.921875 40.578125 39.3125 \nz\n\" id=\"DejaVuSans-51\"/>\n     <path d=\"M 10.984375 1.515625 \nL 10.984375 10.5 \nQ 14.703125 8.734375 18.5 7.8125 \nQ 22.3125 6.890625 25.984375 6.890625 \nQ 35.75 6.890625 40.890625 13.453125 \nQ 46.046875 20.015625 46.78125 33.40625 \nQ 43.953125 29.203125 39.59375 26.953125 \nQ 35.25 24.703125 29.984375 24.703125 \nQ 19.046875 24.703125 12.671875 31.3125 \nQ 6.296875 37.9375 6.296875 49.421875 \nQ 6.296875 60.640625 12.9375 67.421875 \nQ 19.578125 74.21875 30.609375 74.21875 \nQ 43.265625 74.21875 49.921875 64.515625 \nQ 56.59375 54.828125 56.59375 36.375 \nQ 56.59375 19.140625 48.40625 8.859375 \nQ 40.234375 -1.421875 26.421875 -1.421875 \nQ 22.703125 -1.421875 18.890625 -0.6875 \nQ 15.09375 0.046875 10.984375 1.515625 \nz\nM 30.609375 32.421875 \nQ 37.25 32.421875 41.125 36.953125 \nQ 45.015625 41.5 45.015625 49.421875 \nQ 45.015625 57.28125 41.125 61.84375 \nQ 37.25 66.40625 30.609375 66.40625 \nQ 23.96875 66.40625 20.09375 61.84375 \nQ 16.21875 57.28125 16.21875 49.421875 \nQ 16.21875 41.5 20.09375 36.953125 \nQ 23.96875 32.421875 30.609375 32.421875 \nz\n\" id=\"DejaVuSans-57\"/>\n     <path d=\"M 31.78125 34.625 \nQ 24.75 34.625 20.71875 30.859375 \nQ 16.703125 27.09375 16.703125 20.515625 \nQ 16.703125 13.921875 20.71875 10.15625 \nQ 24.75 6.390625 31.78125 6.390625 \nQ 38.8125 6.390625 42.859375 10.171875 \nQ 46.921875 13.96875 46.921875 20.515625 \nQ 46.921875 27.09375 42.890625 30.859375 \nQ 38.875 34.625 31.78125 34.625 \nz\nM 21.921875 38.8125 \nQ 15.578125 40.375 12.03125 44.71875 \nQ 8.5 49.078125 8.5 55.328125 \nQ 8.5 64.0625 14.71875 69.140625 \nQ 20.953125 74.21875 31.78125 74.21875 \nQ 42.671875 74.21875 48.875 69.140625 \nQ 55.078125 64.0625 55.078125 55.328125 \nQ 55.078125 49.078125 51.53125 44.71875 \nQ 48 40.375 41.703125 38.8125 \nQ 48.828125 37.15625 52.796875 32.3125 \nQ 56.78125 27.484375 56.78125 20.515625 \nQ 56.78125 9.90625 50.3125 4.234375 \nQ 43.84375 -1.421875 31.78125 -1.421875 \nQ 19.734375 -1.421875 13.25 4.234375 \nQ 6.78125 9.90625 6.78125 20.515625 \nQ 6.78125 27.484375 10.78125 32.3125 \nQ 14.796875 37.15625 21.921875 38.8125 \nz\nM 18.3125 54.390625 \nQ 18.3125 48.734375 21.84375 45.5625 \nQ 25.390625 42.390625 31.78125 42.390625 \nQ 38.140625 42.390625 41.71875 45.5625 \nQ 45.3125 48.734375 45.3125 54.390625 \nQ 45.3125 60.0625 41.71875 63.234375 \nQ 38.140625 66.40625 31.78125 66.40625 \nQ 25.390625 66.40625 21.84375 63.234375 \nQ 18.3125 60.0625 18.3125 54.390625 \nz\n\" id=\"DejaVuSans-56\"/>\n    </defs>\n    <g style=\"fill:#ffffff;\" transform=\"translate(97.398437 81.148125)scale(0.1 -0.1)\">\n     <use xlink:href=\"#DejaVuSans-51\"/>\n     <use x=\"63.623047\" xlink:href=\"#DejaVuSans-57\"/>\n     <use x=\"127.246094\" xlink:href=\"#DejaVuSans-57\"/>\n     <use x=\"190.869141\" xlink:href=\"#DejaVuSans-56\"/>\n    </g>\n   </g>\n   <g id=\"text_8\">\n    <!-- 3416 -->\n    <defs>\n     <path d=\"M 37.796875 64.3125 \nL 12.890625 25.390625 \nL 37.796875 25.390625 \nz\nM 35.203125 72.90625 \nL 47.609375 72.90625 \nL 47.609375 25.390625 \nL 58.015625 25.390625 \nL 58.015625 17.1875 \nL 47.609375 17.1875 \nL 47.609375 0 \nL 37.796875 0 \nL 37.796875 17.1875 \nL 4.890625 17.1875 \nL 4.890625 26.703125 \nz\n\" id=\"DejaVuSans-52\"/>\n     <path d=\"M 33.015625 40.375 \nQ 26.375 40.375 22.484375 35.828125 \nQ 18.609375 31.296875 18.609375 23.390625 \nQ 18.609375 15.53125 22.484375 10.953125 \nQ 26.375 6.390625 33.015625 6.390625 \nQ 39.65625 6.390625 43.53125 10.953125 \nQ 47.40625 15.53125 47.40625 23.390625 \nQ 47.40625 31.296875 43.53125 35.828125 \nQ 39.65625 40.375 33.015625 40.375 \nz\nM 52.59375 71.296875 \nL 52.59375 62.3125 \nQ 48.875 64.0625 45.09375 64.984375 \nQ 41.3125 65.921875 37.59375 65.921875 \nQ 27.828125 65.921875 22.671875 59.328125 \nQ 17.53125 52.734375 16.796875 39.40625 \nQ 19.671875 43.65625 24.015625 45.921875 \nQ 28.375 48.1875 33.59375 48.1875 \nQ 44.578125 48.1875 50.953125 41.515625 \nQ 57.328125 34.859375 57.328125 23.390625 \nQ 57.328125 12.15625 50.6875 5.359375 \nQ 44.046875 -1.421875 33.015625 -1.421875 \nQ 20.359375 -1.421875 13.671875 8.265625 \nQ 6.984375 17.96875 6.984375 36.375 \nQ 6.984375 53.65625 15.1875 63.9375 \nQ 23.390625 74.21875 37.203125 74.21875 \nQ 40.921875 74.21875 44.703125 73.484375 \nQ 48.484375 72.75 52.59375 71.296875 \nz\n\" id=\"DejaVuSans-54\"/>\n    </defs>\n    <g style=\"fill:#ffffff;\" transform=\"translate(214.098437 81.148125)scale(0.1 -0.1)\">\n     <use xlink:href=\"#DejaVuSans-51\"/>\n     <use x=\"63.623047\" xlink:href=\"#DejaVuSans-52\"/>\n     <use x=\"127.246094\" xlink:href=\"#DejaVuSans-49\"/>\n     <use x=\"190.869141\" xlink:href=\"#DejaVuSans-54\"/>\n    </g>\n   </g>\n   <g id=\"text_9\">\n    <!-- 2400 -->\n    <defs>\n     <path d=\"M 19.1875 8.296875 \nL 53.609375 8.296875 \nL 53.609375 0 \nL 7.328125 0 \nL 7.328125 8.296875 \nQ 12.9375 14.109375 22.625 23.890625 \nQ 32.328125 33.6875 34.8125 36.53125 \nQ 39.546875 41.84375 41.421875 45.53125 \nQ 43.3125 49.21875 43.3125 52.78125 \nQ 43.3125 58.59375 39.234375 62.25 \nQ 35.15625 65.921875 28.609375 65.921875 \nQ 23.96875 65.921875 18.8125 64.3125 \nQ 13.671875 62.703125 7.8125 59.421875 \nL 7.8125 69.390625 \nQ 13.765625 71.78125 18.9375 73 \nQ 24.125 74.21875 28.421875 74.21875 \nQ 39.75 74.21875 46.484375 68.546875 \nQ 53.21875 62.890625 53.21875 53.421875 \nQ 53.21875 48.921875 51.53125 44.890625 \nQ 49.859375 40.875 45.40625 35.40625 \nQ 44.1875 33.984375 37.640625 27.21875 \nQ 31.109375 20.453125 19.1875 8.296875 \nz\n\" id=\"DejaVuSans-50\"/>\n    </defs>\n    <g transform=\"translate(97.398437 197.848125)scale(0.1 -0.1)\">\n     <use xlink:href=\"#DejaVuSans-50\"/>\n     <use x=\"63.623047\" xlink:href=\"#DejaVuSans-52\"/>\n     <use x=\"127.246094\" xlink:href=\"#DejaVuSans-48\"/>\n     <use x=\"190.869141\" xlink:href=\"#DejaVuSans-48\"/>\n    </g>\n   </g>\n   <g id=\"text_10\">\n    <!-- 5014 -->\n    <defs>\n     <path d=\"M 10.796875 72.90625 \nL 49.515625 72.90625 \nL 49.515625 64.59375 \nL 19.828125 64.59375 \nL 19.828125 46.734375 \nQ 21.96875 47.46875 24.109375 47.828125 \nQ 26.265625 48.1875 28.421875 48.1875 \nQ 40.625 48.1875 47.75 41.5 \nQ 54.890625 34.8125 54.890625 23.390625 \nQ 54.890625 11.625 47.5625 5.09375 \nQ 40.234375 -1.421875 26.90625 -1.421875 \nQ 22.3125 -1.421875 17.546875 -0.640625 \nQ 12.796875 0.140625 7.71875 1.703125 \nL 7.71875 11.625 \nQ 12.109375 9.234375 16.796875 8.0625 \nQ 21.484375 6.890625 26.703125 6.890625 \nQ 35.15625 6.890625 40.078125 11.328125 \nQ 45.015625 15.765625 45.015625 23.390625 \nQ 45.015625 31 40.078125 35.4375 \nQ 35.15625 39.890625 26.703125 39.890625 \nQ 22.75 39.890625 18.8125 39.015625 \nQ 14.890625 38.140625 10.796875 36.28125 \nz\n\" id=\"DejaVuSans-53\"/>\n    </defs>\n    <g style=\"fill:#ffffff;\" transform=\"translate(214.098437 197.848125)scale(0.1 -0.1)\">\n     <use xlink:href=\"#DejaVuSans-53\"/>\n     <use x=\"63.623047\" xlink:href=\"#DejaVuSans-48\"/>\n     <use x=\"127.246094\" xlink:href=\"#DejaVuSans-49\"/>\n     <use x=\"190.869141\" xlink:href=\"#DejaVuSans-52\"/>\n    </g>\n   </g>\n   <g id=\"text_11\">\n    <!-- Matriz de Confusión Normalizada: Regresión Logística -->\n    <defs>\n     <path d=\"M 9.8125 72.90625 \nL 24.515625 72.90625 \nL 43.109375 23.296875 \nL 61.8125 72.90625 \nL 76.515625 72.90625 \nL 76.515625 0 \nL 66.890625 0 \nL 66.890625 64.015625 \nL 48.09375 14.015625 \nL 38.1875 14.015625 \nL 19.390625 64.015625 \nL 19.390625 0 \nL 9.8125 0 \nz\n\" id=\"DejaVuSans-77\"/>\n     <path d=\"M 5.515625 54.6875 \nL 48.1875 54.6875 \nL 48.1875 46.484375 \nL 14.40625 7.171875 \nL 48.1875 7.171875 \nL 48.1875 0 \nL 4.296875 0 \nL 4.296875 8.203125 \nL 38.09375 47.515625 \nL 5.515625 47.515625 \nz\n\" id=\"DejaVuSans-122\"/>\n     <path id=\"DejaVuSans-32\"/>\n     <path d=\"M 64.40625 67.28125 \nL 64.40625 56.890625 \nQ 59.421875 61.53125 53.78125 63.8125 \nQ 48.140625 66.109375 41.796875 66.109375 \nQ 29.296875 66.109375 22.65625 58.46875 \nQ 16.015625 50.828125 16.015625 36.375 \nQ 16.015625 21.96875 22.65625 14.328125 \nQ 29.296875 6.6875 41.796875 6.6875 \nQ 48.140625 6.6875 53.78125 8.984375 \nQ 59.421875 11.28125 64.40625 15.921875 \nL 64.40625 5.609375 \nQ 59.234375 2.09375 53.4375 0.328125 \nQ 47.65625 -1.421875 41.21875 -1.421875 \nQ 24.65625 -1.421875 15.125 8.703125 \nQ 5.609375 18.84375 5.609375 36.375 \nQ 5.609375 53.953125 15.125 64.078125 \nQ 24.65625 74.21875 41.21875 74.21875 \nQ 47.75 74.21875 53.53125 72.484375 \nQ 59.328125 70.75 64.40625 67.28125 \nz\n\" id=\"DejaVuSans-67\"/>\n     <path d=\"M 30.609375 48.390625 \nQ 23.390625 48.390625 19.1875 42.75 \nQ 14.984375 37.109375 14.984375 27.296875 \nQ 14.984375 17.484375 19.15625 11.84375 \nQ 23.34375 6.203125 30.609375 6.203125 \nQ 37.796875 6.203125 41.984375 11.859375 \nQ 46.1875 17.53125 46.1875 27.296875 \nQ 46.1875 37.015625 41.984375 42.703125 \nQ 37.796875 48.390625 30.609375 48.390625 \nz\nM 30.609375 56 \nQ 42.328125 56 49.015625 48.375 \nQ 55.71875 40.765625 55.71875 27.296875 \nQ 55.71875 13.875 49.015625 6.21875 \nQ 42.328125 -1.421875 30.609375 -1.421875 \nQ 18.84375 -1.421875 12.171875 6.21875 \nQ 5.515625 13.875 5.515625 27.296875 \nQ 5.515625 40.765625 12.171875 48.375 \nQ 18.84375 56 30.609375 56 \nz\n\" id=\"DejaVuSans-111\"/>\n     <path d=\"M 37.109375 75.984375 \nL 37.109375 68.5 \nL 28.515625 68.5 \nQ 23.6875 68.5 21.796875 66.546875 \nQ 19.921875 64.59375 19.921875 59.515625 \nL 19.921875 54.6875 \nL 34.71875 54.6875 \nL 34.71875 47.703125 \nL 19.921875 47.703125 \nL 19.921875 0 \nL 10.890625 0 \nL 10.890625 47.703125 \nL 2.296875 47.703125 \nL 2.296875 54.6875 \nL 10.890625 54.6875 \nL 10.890625 58.5 \nQ 10.890625 67.625 15.140625 71.796875 \nQ 19.390625 75.984375 28.609375 75.984375 \nz\n\" id=\"DejaVuSans-102\"/>\n     <path d=\"M 44.28125 53.078125 \nL 44.28125 44.578125 \nQ 40.484375 46.53125 36.375 47.5 \nQ 32.28125 48.484375 27.875 48.484375 \nQ 21.1875 48.484375 17.84375 46.4375 \nQ 14.5 44.390625 14.5 40.28125 \nQ 14.5 37.15625 16.890625 35.375 \nQ 19.28125 33.59375 26.515625 31.984375 \nL 29.59375 31.296875 \nQ 39.15625 29.25 43.1875 25.515625 \nQ 47.21875 21.78125 47.21875 15.09375 \nQ 47.21875 7.46875 41.1875 3.015625 \nQ 35.15625 -1.421875 24.609375 -1.421875 \nQ 20.21875 -1.421875 15.453125 -0.5625 \nQ 10.6875 0.296875 5.421875 2 \nL 5.421875 11.28125 \nQ 10.40625 8.6875 15.234375 7.390625 \nQ 20.0625 6.109375 24.8125 6.109375 \nQ 31.15625 6.109375 34.5625 8.28125 \nQ 37.984375 10.453125 37.984375 14.40625 \nQ 37.984375 18.0625 35.515625 20.015625 \nQ 33.0625 21.96875 24.703125 23.78125 \nL 21.578125 24.515625 \nQ 13.234375 26.265625 9.515625 29.90625 \nQ 5.8125 33.546875 5.8125 39.890625 \nQ 5.8125 47.609375 11.28125 51.796875 \nQ 16.75 56 26.8125 56 \nQ 31.78125 56 36.171875 55.265625 \nQ 40.578125 54.546875 44.28125 53.078125 \nz\n\" id=\"DejaVuSans-115\"/>\n     <path d=\"M 9.8125 72.90625 \nL 23.09375 72.90625 \nL 55.421875 11.921875 \nL 55.421875 72.90625 \nL 64.984375 72.90625 \nL 64.984375 0 \nL 51.703125 0 \nL 19.390625 60.984375 \nL 19.390625 0 \nL 9.8125 0 \nz\n\" id=\"DejaVuSans-78\"/>\n     <path d=\"M 52 44.1875 \nQ 55.375 50.25 60.0625 53.125 \nQ 64.75 56 71.09375 56 \nQ 79.640625 56 84.28125 50.015625 \nQ 88.921875 44.046875 88.921875 33.015625 \nL 88.921875 0 \nL 79.890625 0 \nL 79.890625 32.71875 \nQ 79.890625 40.578125 77.09375 44.375 \nQ 74.3125 48.1875 68.609375 48.1875 \nQ 61.625 48.1875 57.5625 43.546875 \nQ 53.515625 38.921875 53.515625 30.90625 \nL 53.515625 0 \nL 44.484375 0 \nL 44.484375 32.71875 \nQ 44.484375 40.625 41.703125 44.40625 \nQ 38.921875 48.1875 33.109375 48.1875 \nQ 26.21875 48.1875 22.15625 43.53125 \nQ 18.109375 38.875 18.109375 30.90625 \nL 18.109375 0 \nL 9.078125 0 \nL 9.078125 54.6875 \nL 18.109375 54.6875 \nL 18.109375 46.1875 \nQ 21.1875 51.21875 25.484375 53.609375 \nQ 29.78125 56 35.6875 56 \nQ 41.65625 56 45.828125 52.96875 \nQ 50 49.953125 52 44.1875 \nz\n\" id=\"DejaVuSans-109\"/>\n     <path d=\"M 9.421875 75.984375 \nL 18.40625 75.984375 \nL 18.40625 0 \nL 9.421875 0 \nz\n\" id=\"DejaVuSans-108\"/>\n     <path d=\"M 11.71875 12.40625 \nL 22.015625 12.40625 \nL 22.015625 0 \nL 11.71875 0 \nz\nM 11.71875 51.703125 \nL 22.015625 51.703125 \nL 22.015625 39.3125 \nL 11.71875 39.3125 \nz\n\" id=\"DejaVuSans-58\"/>\n     <path d=\"M 44.390625 34.1875 \nQ 47.5625 33.109375 50.5625 29.59375 \nQ 53.5625 26.078125 56.59375 19.921875 \nL 66.609375 0 \nL 56 0 \nL 46.6875 18.703125 \nQ 43.0625 26.03125 39.671875 28.421875 \nQ 36.28125 30.8125 30.421875 30.8125 \nL 19.671875 30.8125 \nL 19.671875 0 \nL 9.8125 0 \nL 9.8125 72.90625 \nL 32.078125 72.90625 \nQ 44.578125 72.90625 50.734375 67.671875 \nQ 56.890625 62.453125 56.890625 51.90625 \nQ 56.890625 45.015625 53.6875 40.46875 \nQ 50.484375 35.9375 44.390625 34.1875 \nz\nM 19.671875 64.796875 \nL 19.671875 38.921875 \nL 32.078125 38.921875 \nQ 39.203125 38.921875 42.84375 42.21875 \nQ 46.484375 45.515625 46.484375 51.90625 \nQ 46.484375 58.296875 42.84375 61.546875 \nQ 39.203125 64.796875 32.078125 64.796875 \nz\n\" id=\"DejaVuSans-82\"/>\n     <path d=\"M 45.40625 27.984375 \nQ 45.40625 37.75 41.375 43.109375 \nQ 37.359375 48.484375 30.078125 48.484375 \nQ 22.859375 48.484375 18.828125 43.109375 \nQ 14.796875 37.75 14.796875 27.984375 \nQ 14.796875 18.265625 18.828125 12.890625 \nQ 22.859375 7.515625 30.078125 7.515625 \nQ 37.359375 7.515625 41.375 12.890625 \nQ 45.40625 18.265625 45.40625 27.984375 \nz\nM 54.390625 6.78125 \nQ 54.390625 -7.171875 48.1875 -13.984375 \nQ 42 -20.796875 29.203125 -20.796875 \nQ 24.46875 -20.796875 20.265625 -20.09375 \nQ 16.0625 -19.390625 12.109375 -17.921875 \nL 12.109375 -9.1875 \nQ 16.0625 -11.328125 19.921875 -12.34375 \nQ 23.78125 -13.375 27.78125 -13.375 \nQ 36.625 -13.375 41.015625 -8.765625 \nQ 45.40625 -4.15625 45.40625 5.171875 \nL 45.40625 9.625 \nQ 42.625 4.78125 38.28125 2.390625 \nQ 33.9375 0 27.875 0 \nQ 17.828125 0 11.671875 7.65625 \nQ 5.515625 15.328125 5.515625 27.984375 \nQ 5.515625 40.671875 11.671875 48.328125 \nQ 17.828125 56 27.875 56 \nQ 33.9375 56 38.28125 53.609375 \nQ 42.625 51.21875 45.40625 46.390625 \nL 45.40625 54.6875 \nL 54.390625 54.6875 \nz\n\" id=\"DejaVuSans-103\"/>\n     <path d=\"M 9.8125 72.90625 \nL 19.671875 72.90625 \nL 19.671875 8.296875 \nL 55.171875 8.296875 \nL 55.171875 0 \nL 9.8125 0 \nz\n\" id=\"DejaVuSans-76\"/>\n     <path d=\"M 20.65625 79.984375 \nL 30.375 79.984375 \nL 14.46875 61.625 \nL 6.984375 61.625 \nz\nM 9.421875 54.6875 \nL 18.40625 54.6875 \nL 18.40625 0 \nL 9.421875 0 \nz\nM 13.921875 56 \nz\n\" id=\"DejaVuSans-237\"/>\n    </defs>\n    <g style=\"fill:#262626;\" transform=\"translate(7.2 16.798125)scale(0.12 -0.12)\">\n     <use xlink:href=\"#DejaVuSans-77\"/>\n     <use x=\"86.279297\" xlink:href=\"#DejaVuSans-97\"/>\n     <use x=\"147.558594\" xlink:href=\"#DejaVuSans-116\"/>\n     <use x=\"186.767578\" xlink:href=\"#DejaVuSans-114\"/>\n     <use x=\"227.880859\" xlink:href=\"#DejaVuSans-105\"/>\n     <use x=\"255.664062\" xlink:href=\"#DejaVuSans-122\"/>\n     <use x=\"308.154297\" xlink:href=\"#DejaVuSans-32\"/>\n     <use x=\"339.941406\" xlink:href=\"#DejaVuSans-100\"/>\n     <use x=\"403.417969\" xlink:href=\"#DejaVuSans-101\"/>\n     <use x=\"464.941406\" xlink:href=\"#DejaVuSans-32\"/>\n     <use x=\"496.728516\" xlink:href=\"#DejaVuSans-67\"/>\n     <use x=\"566.552734\" xlink:href=\"#DejaVuSans-111\"/>\n     <use x=\"627.734375\" xlink:href=\"#DejaVuSans-110\"/>\n     <use x=\"691.113281\" xlink:href=\"#DejaVuSans-102\"/>\n     <use x=\"726.318359\" xlink:href=\"#DejaVuSans-117\"/>\n     <use x=\"789.697266\" xlink:href=\"#DejaVuSans-115\"/>\n     <use x=\"841.796875\" xlink:href=\"#DejaVuSans-105\"/>\n     <use x=\"869.580078\" xlink:href=\"#DejaVuSans-243\"/>\n     <use x=\"930.761719\" xlink:href=\"#DejaVuSans-110\"/>\n     <use x=\"994.140625\" xlink:href=\"#DejaVuSans-32\"/>\n     <use x=\"1025.927734\" xlink:href=\"#DejaVuSans-78\"/>\n     <use x=\"1100.732422\" xlink:href=\"#DejaVuSans-111\"/>\n     <use x=\"1161.914062\" xlink:href=\"#DejaVuSans-114\"/>\n     <use x=\"1201.277344\" xlink:href=\"#DejaVuSans-109\"/>\n     <use x=\"1298.689453\" xlink:href=\"#DejaVuSans-97\"/>\n     <use x=\"1359.96875\" xlink:href=\"#DejaVuSans-108\"/>\n     <use x=\"1387.751953\" xlink:href=\"#DejaVuSans-105\"/>\n     <use x=\"1415.535156\" xlink:href=\"#DejaVuSans-122\"/>\n     <use x=\"1468.025391\" xlink:href=\"#DejaVuSans-97\"/>\n     <use x=\"1529.304688\" xlink:href=\"#DejaVuSans-100\"/>\n     <use x=\"1592.78125\" xlink:href=\"#DejaVuSans-97\"/>\n     <use x=\"1654.060547\" xlink:href=\"#DejaVuSans-58\"/>\n     <use x=\"1687.751953\" xlink:href=\"#DejaVuSans-32\"/>\n     <use x=\"1719.539062\" xlink:href=\"#DejaVuSans-82\"/>\n     <use x=\"1784.521484\" xlink:href=\"#DejaVuSans-101\"/>\n     <use x=\"1846.044922\" xlink:href=\"#DejaVuSans-103\"/>\n     <use x=\"1909.521484\" xlink:href=\"#DejaVuSans-114\"/>\n     <use x=\"1948.384766\" xlink:href=\"#DejaVuSans-101\"/>\n     <use x=\"2009.908203\" xlink:href=\"#DejaVuSans-115\"/>\n     <use x=\"2062.007812\" xlink:href=\"#DejaVuSans-105\"/>\n     <use x=\"2089.791016\" xlink:href=\"#DejaVuSans-243\"/>\n     <use x=\"2150.972656\" xlink:href=\"#DejaVuSans-110\"/>\n     <use x=\"2214.351562\" xlink:href=\"#DejaVuSans-32\"/>\n     <use x=\"2246.138672\" xlink:href=\"#DejaVuSans-76\"/>\n     <use x=\"2300.101562\" xlink:href=\"#DejaVuSans-111\"/>\n     <use x=\"2361.283203\" xlink:href=\"#DejaVuSans-103\"/>\n     <use x=\"2424.759766\" xlink:href=\"#DejaVuSans-237\"/>\n     <use x=\"2452.542969\" xlink:href=\"#DejaVuSans-115\"/>\n     <use x=\"2504.642578\" xlink:href=\"#DejaVuSans-116\"/>\n     <use x=\"2543.851562\" xlink:href=\"#DejaVuSans-105\"/>\n     <use x=\"2571.634766\" xlink:href=\"#DejaVuSans-99\"/>\n     <use x=\"2626.615234\" xlink:href=\"#DejaVuSans-97\"/>\n    </g>\n   </g>\n  </g>\n  <g id=\"axes_2\">\n   <g id=\"patch_7\">\n    <path clip-path=\"url(#p889dfd1405)\" d=\"M 305.558812 256.198125 \nL 305.558812 255.286406 \nL 305.558812 23.709844 \nL 305.558812 22.798125 \nL 317.228813 22.798125 \nL 317.228813 23.709844 \nL 317.228813 255.286406 \nL 317.228813 256.198125 \nz\n\" style=\"fill:#ffffff;stroke:#ffffff;stroke-linejoin:miter;stroke-width:0.01;\"/>\n   </g>\n   <g id=\"matplotlib.axis_3\"/>\n   <g id=\"matplotlib.axis_4\">\n    <g id=\"ytick_3\">\n     <g id=\"line2d_1\">\n      <defs>\n       <path d=\"M 0 0 \nL 3.5 0 \n\" id=\"m76820e580c\" style=\"stroke:#262626;stroke-width:0.8;\"/>\n      </defs>\n      <g>\n       <use style=\"fill:#262626;stroke:#262626;stroke-width:0.8;\" x=\"317.228813\" xlink:href=\"#m76820e580c\" y=\"247.26928\"/>\n      </g>\n     </g>\n     <g id=\"text_12\">\n      <!-- 2500 -->\n      <g style=\"fill:#262626;\" transform=\"translate(324.228813 251.068499)scale(0.1 -0.1)\">\n       <use xlink:href=\"#DejaVuSans-50\"/>\n       <use x=\"63.623047\" xlink:href=\"#DejaVuSans-53\"/>\n       <use x=\"127.246094\" xlink:href=\"#DejaVuSans-48\"/>\n       <use x=\"190.869141\" xlink:href=\"#DejaVuSans-48\"/>\n      </g>\n     </g>\n    </g>\n    <g id=\"ytick_4\">\n     <g id=\"line2d_2\">\n      <g>\n       <use style=\"fill:#262626;stroke:#262626;stroke-width:0.8;\" x=\"317.228813\" xlink:href=\"#m76820e580c\" y=\"202.625057\"/>\n      </g>\n     </g>\n     <g id=\"text_13\">\n      <!-- 3000 -->\n      <g style=\"fill:#262626;\" transform=\"translate(324.228813 206.424276)scale(0.1 -0.1)\">\n       <use xlink:href=\"#DejaVuSans-51\"/>\n       <use x=\"63.623047\" xlink:href=\"#DejaVuSans-48\"/>\n       <use x=\"127.246094\" xlink:href=\"#DejaVuSans-48\"/>\n       <use x=\"190.869141\" xlink:href=\"#DejaVuSans-48\"/>\n      </g>\n     </g>\n    </g>\n    <g id=\"ytick_5\">\n     <g id=\"line2d_3\">\n      <g>\n       <use style=\"fill:#262626;stroke:#262626;stroke-width:0.8;\" x=\"317.228813\" xlink:href=\"#m76820e580c\" y=\"157.980833\"/>\n      </g>\n     </g>\n     <g id=\"text_14\">\n      <!-- 3500 -->\n      <g style=\"fill:#262626;\" transform=\"translate(324.228813 161.780052)scale(0.1 -0.1)\">\n       <use xlink:href=\"#DejaVuSans-51\"/>\n       <use x=\"63.623047\" xlink:href=\"#DejaVuSans-53\"/>\n       <use x=\"127.246094\" xlink:href=\"#DejaVuSans-48\"/>\n       <use x=\"190.869141\" xlink:href=\"#DejaVuSans-48\"/>\n      </g>\n     </g>\n    </g>\n    <g id=\"ytick_6\">\n     <g id=\"line2d_4\">\n      <g>\n       <use style=\"fill:#262626;stroke:#262626;stroke-width:0.8;\" x=\"317.228813\" xlink:href=\"#m76820e580c\" y=\"113.33661\"/>\n      </g>\n     </g>\n     <g id=\"text_15\">\n      <!-- 4000 -->\n      <g style=\"fill:#262626;\" transform=\"translate(324.228813 117.135829)scale(0.1 -0.1)\">\n       <use xlink:href=\"#DejaVuSans-52\"/>\n       <use x=\"63.623047\" xlink:href=\"#DejaVuSans-48\"/>\n       <use x=\"127.246094\" xlink:href=\"#DejaVuSans-48\"/>\n       <use x=\"190.869141\" xlink:href=\"#DejaVuSans-48\"/>\n      </g>\n     </g>\n    </g>\n    <g id=\"ytick_7\">\n     <g id=\"line2d_5\">\n      <g>\n       <use style=\"fill:#262626;stroke:#262626;stroke-width:0.8;\" x=\"317.228813\" xlink:href=\"#m76820e580c\" y=\"68.692387\"/>\n      </g>\n     </g>\n     <g id=\"text_16\">\n      <!-- 4500 -->\n      <g style=\"fill:#262626;\" transform=\"translate(324.228813 72.491605)scale(0.1 -0.1)\">\n       <use xlink:href=\"#DejaVuSans-52\"/>\n       <use x=\"63.623047\" xlink:href=\"#DejaVuSans-53\"/>\n       <use x=\"127.246094\" xlink:href=\"#DejaVuSans-48\"/>\n       <use x=\"190.869141\" xlink:href=\"#DejaVuSans-48\"/>\n      </g>\n     </g>\n    </g>\n    <g id=\"ytick_8\">\n     <g id=\"line2d_6\">\n      <g>\n       <use style=\"fill:#262626;stroke:#262626;stroke-width:0.8;\" x=\"317.228813\" xlink:href=\"#m76820e580c\" y=\"24.048163\"/>\n      </g>\n     </g>\n     <g id=\"text_17\">\n      <!-- 5000 -->\n      <g style=\"fill:#262626;\" transform=\"translate(324.228813 27.847382)scale(0.1 -0.1)\">\n       <use xlink:href=\"#DejaVuSans-53\"/>\n       <use x=\"63.623047\" xlink:href=\"#DejaVuSans-48\"/>\n       <use x=\"127.246094\" xlink:href=\"#DejaVuSans-48\"/>\n       <use x=\"190.869141\" xlink:href=\"#DejaVuSans-48\"/>\n      </g>\n     </g>\n    </g>\n   </g>\n   <image height=\"233\" id=\"image74297f7181\" transform=\"scale(1 -1)translate(0 -233)\" width=\"11\" x=\"306\" xlink:href=\"data:image/png;base64,\niVBORw0KGgoAAAANSUhEUgAAAAsAAADpCAYAAADyIM2vAAAABHNCSVQICAgIfAhkiAAAARdJREFUaIHtmEEKwzAMBNXi/z+3h0LiHpOjpzCwCs55WSZaSXby+nznrMVnzFrW1gDaGkBbY524akygNjFI6Yjze10aw0zrHIEB+zmCGTmXxnxqpUtZMpv5Jt5x38UdmeEJa2F0LF0Ks3btORteqLyNFMLMQkHOGdWIYSZiEsohjhXpOs3Zq7O5kVCCwFkcWBS3dtB7MxiyGA/AQZmBWDwHO3Zdy4EFYrbMQzDWjenKJTMo3p+9Rlo3NntDPOi9uNcpzOlOaaSUJYOY+/VzSChi3GzlRjBv57+de8YdggGcYZ0955DSaX9cxUbSxGKCu86XOOUFM+J+fp0bJlhMvP7l3dRZwziPCIzHO5NJEXuDxd2wztv5en48n/5RooIUWgAAAABJRU5ErkJggg==\" y=\"-22\"/>\n   <g id=\"patch_8\">\n    <path d=\"M 305.558812 256.198125 \nL 305.558812 255.286406 \nL 305.558812 23.709844 \nL 305.558812 22.798125 \nL 317.228813 22.798125 \nL 317.228813 23.709844 \nL 317.228813 255.286406 \nL 317.228813 256.198125 \nz\n\" style=\"fill:none;stroke:#262626;stroke-linejoin:miter;stroke-width:0.8;\"/>\n   </g>\n  </g>\n </g>\n <defs>\n  <clipPath id=\"pe76fb3c6a7\">\n   <rect height=\"233.4\" width=\"233.4\" x=\"51.773437\" y=\"22.798125\"/>\n  </clipPath>\n  <clipPath id=\"p889dfd1405\">\n   <rect height=\"233.4\" width=\"11.67\" x=\"305.558812\" y=\"22.798125\"/>\n  </clipPath>\n </defs>\n</svg>\n"
          },
          "metadata": {}
        }
      ]
    },
    {
      "cell_type": "markdown",
      "metadata": {
        "id": "giVhdyfI1dt6"
      },
      "source": [
        "El modelo de regresión logística que utiliza el conjunto de etiquetas C obtuvo una precisión de 0.60777. Es decir, de la totalidad de los datos el 60.777% de los datos de validación fueron bien etiquetados. En comparación con los modelos anteriores, el modelo actual es mejor, ya que etiqueta correctamente una cantidad mayor de datos. Cabe mencionar que la precisión del modelo con las etiquetas A tiene una precisión cercana a aquel con las etiquetas C. Dicho fenomeno se debe a que, como se menciono anteriormente, las etiquetas A son aquellas con mayor poder predictivo."
      ]
    },
    {
      "cell_type": "markdown",
      "metadata": {
        "id": "51-XwTGe63ag"
      },
      "source": [
        "## Red Neuronal, Perceptrón Multicapa\n",
        "\n",
        "Ahora utilice la función `MLPClassifier` de la librería SciKit-Learn para desarrollar una red neuronal que permita mejorar el rendimiento del clasificador _baseline_ desarrollado.\n",
        "\n",
        "### Caso A"
      ]
    },
    {
      "cell_type": "code",
      "metadata": {
        "id": "eSKD0Vy463ag",
        "colab": {
          "base_uri": "https://localhost:8080/",
          "height": 514
        },
        "outputId": "c6d6f3dd-504e-4732-f18a-e4ccd9223e9f"
      },
      "source": [
        "from sklearn.neural_network import MLPClassifier\n",
        "\n",
        "model = MLPClassifier(hidden_layer_sizes=(20,20), activation='relu') # Inicialice un modelo de red neuronal con 2 capas escondidas x 20 neuronas en cada capa y función de activación ReLu #\n",
        "model.fit(X_train_subA,y_train) # Ajuste el modelo con los datos del conjunto A #\n",
        "y_predict = model.predict(X_test_subA) # Realice la predicción de etiquetas con los datos de prueba del conjunto A #\n",
        "\n",
        "print(f'Precisión {round(accuracy_score(y_test, y_predict),5)}')\n",
        "print(pd.DataFrame(confusion_matrix(y_test,y_predict)))\n",
        "\n",
        "plot_confusion_matrix(confusion_matrix(y_test,y_predict),\n",
        "                      classes=class_names, \n",
        "                      title='Matriz de Confusión Normalizada: Red Neuronal')"
      ],
      "execution_count": null,
      "outputs": [
        {
          "output_type": "stream",
          "name": "stdout",
          "text": [
            "Precisión 0.82735\n",
            "      0     1\n",
            "0  6208  1206\n",
            "1  1354  6060\n",
            "[[6208 1206]\n",
            " [1354 6060]]\n"
          ]
        },
        {
          "output_type": "display_data",
          "data": {
            "text/plain": [
              "<Figure size 432x288 with 2 Axes>"
            ],
            "image/svg+xml": "<?xml version=\"1.0\" encoding=\"utf-8\" standalone=\"no\"?>\n<!DOCTYPE svg PUBLIC \"-//W3C//DTD SVG 1.1//EN\"\n  \"http://www.w3.org/Graphics/SVG/1.1/DTD/svg11.dtd\">\n<!-- Created with matplotlib (https://matplotlib.org/) -->\n<svg height=\"293.274375pt\" version=\"1.1\" viewBox=\"0 0 339.480625 293.274375\" width=\"339.480625pt\" xmlns=\"http://www.w3.org/2000/svg\" xmlns:xlink=\"http://www.w3.org/1999/xlink\">\n <defs>\n  <style type=\"text/css\">\n*{stroke-linecap:butt;stroke-linejoin:round;}\n  </style>\n </defs>\n <g id=\"figure_1\">\n  <g id=\"patch_1\">\n   <path d=\"M 0 293.274375 \nL 339.480625 293.274375 \nL 339.480625 0 \nL 0 0 \nz\n\" style=\"fill:#ffffff;\"/>\n  </g>\n  <g id=\"axes_1\">\n   <g id=\"patch_2\">\n    <path d=\"M 34.240625 255.718125 \nL 267.640625 255.718125 \nL 267.640625 22.318125 \nL 34.240625 22.318125 \nz\n\" style=\"fill:#ffffff;\"/>\n   </g>\n   <g clip-path=\"url(#p0f365029e9)\">\n    <image height=\"234\" id=\"imagedbef874697\" transform=\"scale(1 -1)translate(0 -234)\" width=\"234\" x=\"34.240625\" xlink:href=\"data:image/png;base64,\niVBORw0KGgoAAAANSUhEUgAAAOoAAADqCAYAAACslNlOAAAABHNCSVQICAgIfAhkiAAAAuVJREFUeJzt1TENwlAARVHKhANsIAE/NYCQukIMYWIirQSWn/xcco6Ct9y85f357if+yvX+mD2Bwc6zBwC/CRUChAoBQoUAoUKAUCFAqBAgVAgQKgQIFQKECgFChQChQoBQIUCoECBUCBAqBAgVAoQKAUKFAKFCgFAhQKgQIFQIECoECBUChAoBQoUAoUKAUCFAqBAgVAgQKgQIFQKECgFChQChQoBQIUCoECBUCBAqBAgVAoQKAUKFAKFCgFAhQKgQIFQIECoECBUChAoBQoUAoUKAUCFAqBAgVAgQKgQIFQKECgFChQChQoBQIUCoECBUCBAqBAgVAoQKAUKFAKFCgFAhQKgQIFQIECoECBUChAoBQoUAoUKAUCFAqBAgVAgQKgQIFQKECgFChQChQoBQIUCoECBUCBAqBAgVAoQKAUKFAKFCgFAhQKgQIFQIECoECBUChAoBQoUAoUKAUCFAqBAgVAgQKgQIFQKECgFChQChQoBQIUCoECBUCBAqBAgVAoQKAUKFgOVyW/fZIxjr9dxmT2AwjwoBQoUAoUKAUCFAqBAgVAgQKgQIFQKECgFChQChQoBQIUCoECBUCBAqBAgVAoQKAUKFAKFCgFAhQKgQIFQIECoECBUChAoBQoUAoUKAUCFAqBAgVAgQKgQIFQKECgFChQChQoBQIUCoECBUCBAqBAgVAoQKAUKFAKFCgFAhQKgQIFQIECoECBUChAoBQoUAoUKAUCFAqBAgVAgQKgQIFQKECgFChQChQoBQIUCoECBUCBAqBAgVAoQKAUKFAKFCgFAhQKgQIFQIECoECBUChAoBQoUAoUKAUCFAqBAgVAgQKgQIFQKECgFChQChQoBQIUCoECBUCBAqBAgVAoQKAUKFAKFCgFAhQKgQIFQIECoECBUChAoBQoUAoUKAUCFAqBAgVAgQKgQIFQKECgFChQChQoBQIUCoECBUCBAqBAgVAoQKAUKFAKFCgFAh4AA22Qp2QlpOIAAAAABJRU5ErkJggg==\" y=\"-21.718125\"/>\n   </g>\n   <g id=\"matplotlib.axis_1\">\n    <g id=\"xtick_1\">\n     <g id=\"text_1\">\n      <!-- 0 -->\n      <defs>\n       <path d=\"M 31.78125 66.40625 \nQ 24.171875 66.40625 20.328125 58.90625 \nQ 16.5 51.421875 16.5 36.375 \nQ 16.5 21.390625 20.328125 13.890625 \nQ 24.171875 6.390625 31.78125 6.390625 \nQ 39.453125 6.390625 43.28125 13.890625 \nQ 47.125 21.390625 47.125 36.375 \nQ 47.125 51.421875 43.28125 58.90625 \nQ 39.453125 66.40625 31.78125 66.40625 \nz\nM 31.78125 74.21875 \nQ 44.046875 74.21875 50.515625 64.515625 \nQ 56.984375 54.828125 56.984375 36.375 \nQ 56.984375 17.96875 50.515625 8.265625 \nQ 44.046875 -1.421875 31.78125 -1.421875 \nQ 19.53125 -1.421875 13.0625 8.265625 \nQ 6.59375 17.96875 6.59375 36.375 \nQ 6.59375 54.828125 13.0625 64.515625 \nQ 19.53125 74.21875 31.78125 74.21875 \nz\n\" id=\"DejaVuSans-48\"/>\n      </defs>\n      <g style=\"fill:#262626;\" transform=\"translate(89.409375 270.316563)scale(0.1 -0.1)\">\n       <use xlink:href=\"#DejaVuSans-48\"/>\n      </g>\n     </g>\n    </g>\n    <g id=\"xtick_2\">\n     <g id=\"text_2\">\n      <!-- 1 -->\n      <defs>\n       <path d=\"M 12.40625 8.296875 \nL 28.515625 8.296875 \nL 28.515625 63.921875 \nL 10.984375 60.40625 \nL 10.984375 69.390625 \nL 28.421875 72.90625 \nL 38.28125 72.90625 \nL 38.28125 8.296875 \nL 54.390625 8.296875 \nL 54.390625 0 \nL 12.40625 0 \nz\n\" id=\"DejaVuSans-49\"/>\n      </defs>\n      <g style=\"fill:#262626;\" transform=\"translate(206.109375 270.316563)scale(0.1 -0.1)\">\n       <use xlink:href=\"#DejaVuSans-49\"/>\n      </g>\n     </g>\n    </g>\n    <g id=\"text_3\">\n     <!-- Predicción -->\n     <defs>\n      <path d=\"M 19.671875 64.796875 \nL 19.671875 37.40625 \nL 32.078125 37.40625 \nQ 38.96875 37.40625 42.71875 40.96875 \nQ 46.484375 44.53125 46.484375 51.125 \nQ 46.484375 57.671875 42.71875 61.234375 \nQ 38.96875 64.796875 32.078125 64.796875 \nz\nM 9.8125 72.90625 \nL 32.078125 72.90625 \nQ 44.34375 72.90625 50.609375 67.359375 \nQ 56.890625 61.8125 56.890625 51.125 \nQ 56.890625 40.328125 50.609375 34.8125 \nQ 44.34375 29.296875 32.078125 29.296875 \nL 19.671875 29.296875 \nL 19.671875 0 \nL 9.8125 0 \nz\n\" id=\"DejaVuSans-80\"/>\n      <path d=\"M 41.109375 46.296875 \nQ 39.59375 47.171875 37.8125 47.578125 \nQ 36.03125 48 33.890625 48 \nQ 26.265625 48 22.1875 43.046875 \nQ 18.109375 38.09375 18.109375 28.8125 \nL 18.109375 0 \nL 9.078125 0 \nL 9.078125 54.6875 \nL 18.109375 54.6875 \nL 18.109375 46.1875 \nQ 20.953125 51.171875 25.484375 53.578125 \nQ 30.03125 56 36.53125 56 \nQ 37.453125 56 38.578125 55.875 \nQ 39.703125 55.765625 41.0625 55.515625 \nz\n\" id=\"DejaVuSans-114\"/>\n      <path d=\"M 56.203125 29.59375 \nL 56.203125 25.203125 \nL 14.890625 25.203125 \nQ 15.484375 15.921875 20.484375 11.0625 \nQ 25.484375 6.203125 34.421875 6.203125 \nQ 39.59375 6.203125 44.453125 7.46875 \nQ 49.3125 8.734375 54.109375 11.28125 \nL 54.109375 2.78125 \nQ 49.265625 0.734375 44.1875 -0.34375 \nQ 39.109375 -1.421875 33.890625 -1.421875 \nQ 20.796875 -1.421875 13.15625 6.1875 \nQ 5.515625 13.8125 5.515625 26.8125 \nQ 5.515625 40.234375 12.765625 48.109375 \nQ 20.015625 56 32.328125 56 \nQ 43.359375 56 49.78125 48.890625 \nQ 56.203125 41.796875 56.203125 29.59375 \nz\nM 47.21875 32.234375 \nQ 47.125 39.59375 43.09375 43.984375 \nQ 39.0625 48.390625 32.421875 48.390625 \nQ 24.90625 48.390625 20.390625 44.140625 \nQ 15.875 39.890625 15.1875 32.171875 \nz\n\" id=\"DejaVuSans-101\"/>\n      <path d=\"M 45.40625 46.390625 \nL 45.40625 75.984375 \nL 54.390625 75.984375 \nL 54.390625 0 \nL 45.40625 0 \nL 45.40625 8.203125 \nQ 42.578125 3.328125 38.25 0.953125 \nQ 33.9375 -1.421875 27.875 -1.421875 \nQ 17.96875 -1.421875 11.734375 6.484375 \nQ 5.515625 14.40625 5.515625 27.296875 \nQ 5.515625 40.1875 11.734375 48.09375 \nQ 17.96875 56 27.875 56 \nQ 33.9375 56 38.25 53.625 \nQ 42.578125 51.265625 45.40625 46.390625 \nz\nM 14.796875 27.296875 \nQ 14.796875 17.390625 18.875 11.75 \nQ 22.953125 6.109375 30.078125 6.109375 \nQ 37.203125 6.109375 41.296875 11.75 \nQ 45.40625 17.390625 45.40625 27.296875 \nQ 45.40625 37.203125 41.296875 42.84375 \nQ 37.203125 48.484375 30.078125 48.484375 \nQ 22.953125 48.484375 18.875 42.84375 \nQ 14.796875 37.203125 14.796875 27.296875 \nz\n\" id=\"DejaVuSans-100\"/>\n      <path d=\"M 9.421875 54.6875 \nL 18.40625 54.6875 \nL 18.40625 0 \nL 9.421875 0 \nz\nM 9.421875 75.984375 \nL 18.40625 75.984375 \nL 18.40625 64.59375 \nL 9.421875 64.59375 \nz\n\" id=\"DejaVuSans-105\"/>\n      <path d=\"M 48.78125 52.59375 \nL 48.78125 44.1875 \nQ 44.96875 46.296875 41.140625 47.34375 \nQ 37.3125 48.390625 33.40625 48.390625 \nQ 24.65625 48.390625 19.8125 42.84375 \nQ 14.984375 37.3125 14.984375 27.296875 \nQ 14.984375 17.28125 19.8125 11.734375 \nQ 24.65625 6.203125 33.40625 6.203125 \nQ 37.3125 6.203125 41.140625 7.25 \nQ 44.96875 8.296875 48.78125 10.40625 \nL 48.78125 2.09375 \nQ 45.015625 0.34375 40.984375 -0.53125 \nQ 36.96875 -1.421875 32.421875 -1.421875 \nQ 20.0625 -1.421875 12.78125 6.34375 \nQ 5.515625 14.109375 5.515625 27.296875 \nQ 5.515625 40.671875 12.859375 48.328125 \nQ 20.21875 56 33.015625 56 \nQ 37.15625 56 41.109375 55.140625 \nQ 45.0625 54.296875 48.78125 52.59375 \nz\n\" id=\"DejaVuSans-99\"/>\n      <path d=\"M 30.609375 48.390625 \nQ 23.390625 48.390625 19.1875 42.75 \nQ 14.984375 37.109375 14.984375 27.296875 \nQ 14.984375 17.484375 19.15625 11.84375 \nQ 23.34375 6.203125 30.609375 6.203125 \nQ 37.796875 6.203125 41.984375 11.859375 \nQ 46.1875 17.53125 46.1875 27.296875 \nQ 46.1875 37.015625 41.984375 42.703125 \nQ 37.796875 48.390625 30.609375 48.390625 \nz\nM 30.609375 56 \nQ 42.328125 56 49.015625 48.375 \nQ 55.71875 40.765625 55.71875 27.296875 \nQ 55.71875 13.875 49.015625 6.21875 \nQ 42.328125 -1.421875 30.609375 -1.421875 \nQ 18.84375 -1.421875 12.171875 6.21875 \nQ 5.515625 13.875 5.515625 27.296875 \nQ 5.515625 40.765625 12.171875 48.375 \nQ 18.84375 56 30.609375 56 \nz\nM 37.40625 79.984375 \nL 47.125 79.984375 \nL 31.21875 61.625 \nL 23.734375 61.625 \nz\n\" id=\"DejaVuSans-243\"/>\n      <path d=\"M 54.890625 33.015625 \nL 54.890625 0 \nL 45.90625 0 \nL 45.90625 32.71875 \nQ 45.90625 40.484375 42.875 44.328125 \nQ 39.84375 48.1875 33.796875 48.1875 \nQ 26.515625 48.1875 22.3125 43.546875 \nQ 18.109375 38.921875 18.109375 30.90625 \nL 18.109375 0 \nL 9.078125 0 \nL 9.078125 54.6875 \nL 18.109375 54.6875 \nL 18.109375 46.1875 \nQ 21.34375 51.125 25.703125 53.5625 \nQ 30.078125 56 35.796875 56 \nQ 45.21875 56 50.046875 50.171875 \nQ 54.890625 44.34375 54.890625 33.015625 \nz\n\" id=\"DejaVuSans-110\"/>\n     </defs>\n     <g style=\"fill:#262626;\" transform=\"translate(125.314844 283.994688)scale(0.1 -0.1)\">\n      <use xlink:href=\"#DejaVuSans-80\"/>\n      <use x=\"58.552734\" xlink:href=\"#DejaVuSans-114\"/>\n      <use x=\"97.416016\" xlink:href=\"#DejaVuSans-101\"/>\n      <use x=\"158.939453\" xlink:href=\"#DejaVuSans-100\"/>\n      <use x=\"222.416016\" xlink:href=\"#DejaVuSans-105\"/>\n      <use x=\"250.199219\" xlink:href=\"#DejaVuSans-99\"/>\n      <use x=\"305.179688\" xlink:href=\"#DejaVuSans-99\"/>\n      <use x=\"360.160156\" xlink:href=\"#DejaVuSans-105\"/>\n      <use x=\"387.943359\" xlink:href=\"#DejaVuSans-243\"/>\n      <use x=\"449.125\" xlink:href=\"#DejaVuSans-110\"/>\n     </g>\n    </g>\n   </g>\n   <g id=\"matplotlib.axis_2\">\n    <g id=\"ytick_1\">\n     <g id=\"text_4\">\n      <!-- 0 -->\n      <g style=\"fill:#262626;\" transform=\"translate(20.878125 84.467344)scale(0.1 -0.1)\">\n       <use xlink:href=\"#DejaVuSans-48\"/>\n      </g>\n     </g>\n    </g>\n    <g id=\"ytick_2\">\n     <g id=\"text_5\">\n      <!-- 1 -->\n      <g style=\"fill:#262626;\" transform=\"translate(20.878125 201.167344)scale(0.1 -0.1)\">\n       <use xlink:href=\"#DejaVuSans-49\"/>\n      </g>\n     </g>\n    </g>\n    <g id=\"text_6\">\n     <!-- Etiqueta -->\n     <defs>\n      <path d=\"M 9.8125 72.90625 \nL 55.90625 72.90625 \nL 55.90625 64.59375 \nL 19.671875 64.59375 \nL 19.671875 43.015625 \nL 54.390625 43.015625 \nL 54.390625 34.71875 \nL 19.671875 34.71875 \nL 19.671875 8.296875 \nL 56.78125 8.296875 \nL 56.78125 0 \nL 9.8125 0 \nz\n\" id=\"DejaVuSans-69\"/>\n      <path d=\"M 18.3125 70.21875 \nL 18.3125 54.6875 \nL 36.8125 54.6875 \nL 36.8125 47.703125 \nL 18.3125 47.703125 \nL 18.3125 18.015625 \nQ 18.3125 11.328125 20.140625 9.421875 \nQ 21.96875 7.515625 27.59375 7.515625 \nL 36.8125 7.515625 \nL 36.8125 0 \nL 27.59375 0 \nQ 17.1875 0 13.234375 3.875 \nQ 9.28125 7.765625 9.28125 18.015625 \nL 9.28125 47.703125 \nL 2.6875 47.703125 \nL 2.6875 54.6875 \nL 9.28125 54.6875 \nL 9.28125 70.21875 \nz\n\" id=\"DejaVuSans-116\"/>\n      <path d=\"M 14.796875 27.296875 \nQ 14.796875 17.390625 18.875 11.75 \nQ 22.953125 6.109375 30.078125 6.109375 \nQ 37.203125 6.109375 41.296875 11.75 \nQ 45.40625 17.390625 45.40625 27.296875 \nQ 45.40625 37.203125 41.296875 42.84375 \nQ 37.203125 48.484375 30.078125 48.484375 \nQ 22.953125 48.484375 18.875 42.84375 \nQ 14.796875 37.203125 14.796875 27.296875 \nz\nM 45.40625 8.203125 \nQ 42.578125 3.328125 38.25 0.953125 \nQ 33.9375 -1.421875 27.875 -1.421875 \nQ 17.96875 -1.421875 11.734375 6.484375 \nQ 5.515625 14.40625 5.515625 27.296875 \nQ 5.515625 40.1875 11.734375 48.09375 \nQ 17.96875 56 27.875 56 \nQ 33.9375 56 38.25 53.625 \nQ 42.578125 51.265625 45.40625 46.390625 \nL 45.40625 54.6875 \nL 54.390625 54.6875 \nL 54.390625 -20.796875 \nL 45.40625 -20.796875 \nz\n\" id=\"DejaVuSans-113\"/>\n      <path d=\"M 8.5 21.578125 \nL 8.5 54.6875 \nL 17.484375 54.6875 \nL 17.484375 21.921875 \nQ 17.484375 14.15625 20.5 10.265625 \nQ 23.53125 6.390625 29.59375 6.390625 \nQ 36.859375 6.390625 41.078125 11.03125 \nQ 45.3125 15.671875 45.3125 23.6875 \nL 45.3125 54.6875 \nL 54.296875 54.6875 \nL 54.296875 0 \nL 45.3125 0 \nL 45.3125 8.40625 \nQ 42.046875 3.421875 37.71875 1 \nQ 33.40625 -1.421875 27.6875 -1.421875 \nQ 18.265625 -1.421875 13.375 4.4375 \nQ 8.5 10.296875 8.5 21.578125 \nz\nM 31.109375 56 \nz\n\" id=\"DejaVuSans-117\"/>\n      <path d=\"M 34.28125 27.484375 \nQ 23.390625 27.484375 19.1875 25 \nQ 14.984375 22.515625 14.984375 16.5 \nQ 14.984375 11.71875 18.140625 8.90625 \nQ 21.296875 6.109375 26.703125 6.109375 \nQ 34.1875 6.109375 38.703125 11.40625 \nQ 43.21875 16.703125 43.21875 25.484375 \nL 43.21875 27.484375 \nz\nM 52.203125 31.203125 \nL 52.203125 0 \nL 43.21875 0 \nL 43.21875 8.296875 \nQ 40.140625 3.328125 35.546875 0.953125 \nQ 30.953125 -1.421875 24.3125 -1.421875 \nQ 15.921875 -1.421875 10.953125 3.296875 \nQ 6 8.015625 6 15.921875 \nQ 6 25.140625 12.171875 29.828125 \nQ 18.359375 34.515625 30.609375 34.515625 \nL 43.21875 34.515625 \nL 43.21875 35.40625 \nQ 43.21875 41.609375 39.140625 45 \nQ 35.0625 48.390625 27.6875 48.390625 \nQ 23 48.390625 18.546875 47.265625 \nQ 14.109375 46.140625 10.015625 43.890625 \nL 10.015625 52.203125 \nQ 14.9375 54.109375 19.578125 55.046875 \nQ 24.21875 56 28.609375 56 \nQ 40.484375 56 46.34375 49.84375 \nQ 52.203125 43.703125 52.203125 31.203125 \nz\n\" id=\"DejaVuSans-97\"/>\n     </defs>\n     <g style=\"fill:#262626;\" transform=\"translate(14.798438 159.970469)rotate(-90)scale(0.1 -0.1)\">\n      <use xlink:href=\"#DejaVuSans-69\"/>\n      <use x=\"63.183594\" xlink:href=\"#DejaVuSans-116\"/>\n      <use x=\"102.392578\" xlink:href=\"#DejaVuSans-105\"/>\n      <use x=\"130.175781\" xlink:href=\"#DejaVuSans-113\"/>\n      <use x=\"193.652344\" xlink:href=\"#DejaVuSans-117\"/>\n      <use x=\"257.03125\" xlink:href=\"#DejaVuSans-101\"/>\n      <use x=\"318.554688\" xlink:href=\"#DejaVuSans-116\"/>\n      <use x=\"357.763672\" xlink:href=\"#DejaVuSans-97\"/>\n     </g>\n    </g>\n   </g>\n   <g id=\"patch_3\">\n    <path d=\"M 34.240625 255.718125 \nL 34.240625 22.318125 \n\" style=\"fill:none;stroke:#262626;stroke-linecap:square;stroke-linejoin:miter;stroke-width:0.8;\"/>\n   </g>\n   <g id=\"patch_4\">\n    <path d=\"M 267.640625 255.718125 \nL 267.640625 22.318125 \n\" style=\"fill:none;stroke:#262626;stroke-linecap:square;stroke-linejoin:miter;stroke-width:0.8;\"/>\n   </g>\n   <g id=\"patch_5\">\n    <path d=\"M 34.240625 255.718125 \nL 267.640625 255.718125 \n\" style=\"fill:none;stroke:#262626;stroke-linecap:square;stroke-linejoin:miter;stroke-width:0.8;\"/>\n   </g>\n   <g id=\"patch_6\">\n    <path d=\"M 34.240625 22.318125 \nL 267.640625 22.318125 \n\" style=\"fill:none;stroke:#262626;stroke-linecap:square;stroke-linejoin:miter;stroke-width:0.8;\"/>\n   </g>\n   <g id=\"text_7\">\n    <!-- 6208 -->\n    <defs>\n     <path d=\"M 33.015625 40.375 \nQ 26.375 40.375 22.484375 35.828125 \nQ 18.609375 31.296875 18.609375 23.390625 \nQ 18.609375 15.53125 22.484375 10.953125 \nQ 26.375 6.390625 33.015625 6.390625 \nQ 39.65625 6.390625 43.53125 10.953125 \nQ 47.40625 15.53125 47.40625 23.390625 \nQ 47.40625 31.296875 43.53125 35.828125 \nQ 39.65625 40.375 33.015625 40.375 \nz\nM 52.59375 71.296875 \nL 52.59375 62.3125 \nQ 48.875 64.0625 45.09375 64.984375 \nQ 41.3125 65.921875 37.59375 65.921875 \nQ 27.828125 65.921875 22.671875 59.328125 \nQ 17.53125 52.734375 16.796875 39.40625 \nQ 19.671875 43.65625 24.015625 45.921875 \nQ 28.375 48.1875 33.59375 48.1875 \nQ 44.578125 48.1875 50.953125 41.515625 \nQ 57.328125 34.859375 57.328125 23.390625 \nQ 57.328125 12.15625 50.6875 5.359375 \nQ 44.046875 -1.421875 33.015625 -1.421875 \nQ 20.359375 -1.421875 13.671875 8.265625 \nQ 6.984375 17.96875 6.984375 36.375 \nQ 6.984375 53.65625 15.1875 63.9375 \nQ 23.390625 74.21875 37.203125 74.21875 \nQ 40.921875 74.21875 44.703125 73.484375 \nQ 48.484375 72.75 52.59375 71.296875 \nz\n\" id=\"DejaVuSans-54\"/>\n     <path d=\"M 19.1875 8.296875 \nL 53.609375 8.296875 \nL 53.609375 0 \nL 7.328125 0 \nL 7.328125 8.296875 \nQ 12.9375 14.109375 22.625 23.890625 \nQ 32.328125 33.6875 34.8125 36.53125 \nQ 39.546875 41.84375 41.421875 45.53125 \nQ 43.3125 49.21875 43.3125 52.78125 \nQ 43.3125 58.59375 39.234375 62.25 \nQ 35.15625 65.921875 28.609375 65.921875 \nQ 23.96875 65.921875 18.8125 64.3125 \nQ 13.671875 62.703125 7.8125 59.421875 \nL 7.8125 69.390625 \nQ 13.765625 71.78125 18.9375 73 \nQ 24.125 74.21875 28.421875 74.21875 \nQ 39.75 74.21875 46.484375 68.546875 \nQ 53.21875 62.890625 53.21875 53.421875 \nQ 53.21875 48.921875 51.53125 44.890625 \nQ 49.859375 40.875 45.40625 35.40625 \nQ 44.1875 33.984375 37.640625 27.21875 \nQ 31.109375 20.453125 19.1875 8.296875 \nz\n\" id=\"DejaVuSans-50\"/>\n     <path d=\"M 31.78125 34.625 \nQ 24.75 34.625 20.71875 30.859375 \nQ 16.703125 27.09375 16.703125 20.515625 \nQ 16.703125 13.921875 20.71875 10.15625 \nQ 24.75 6.390625 31.78125 6.390625 \nQ 38.8125 6.390625 42.859375 10.171875 \nQ 46.921875 13.96875 46.921875 20.515625 \nQ 46.921875 27.09375 42.890625 30.859375 \nQ 38.875 34.625 31.78125 34.625 \nz\nM 21.921875 38.8125 \nQ 15.578125 40.375 12.03125 44.71875 \nQ 8.5 49.078125 8.5 55.328125 \nQ 8.5 64.0625 14.71875 69.140625 \nQ 20.953125 74.21875 31.78125 74.21875 \nQ 42.671875 74.21875 48.875 69.140625 \nQ 55.078125 64.0625 55.078125 55.328125 \nQ 55.078125 49.078125 51.53125 44.71875 \nQ 48 40.375 41.703125 38.8125 \nQ 48.828125 37.15625 52.796875 32.3125 \nQ 56.78125 27.484375 56.78125 20.515625 \nQ 56.78125 9.90625 50.3125 4.234375 \nQ 43.84375 -1.421875 31.78125 -1.421875 \nQ 19.734375 -1.421875 13.25 4.234375 \nQ 6.78125 9.90625 6.78125 20.515625 \nQ 6.78125 27.484375 10.78125 32.3125 \nQ 14.796875 37.15625 21.921875 38.8125 \nz\nM 18.3125 54.390625 \nQ 18.3125 48.734375 21.84375 45.5625 \nQ 25.390625 42.390625 31.78125 42.390625 \nQ 38.140625 42.390625 41.71875 45.5625 \nQ 45.3125 48.734375 45.3125 54.390625 \nQ 45.3125 60.0625 41.71875 63.234375 \nQ 38.140625 66.40625 31.78125 66.40625 \nQ 25.390625 66.40625 21.84375 63.234375 \nQ 18.3125 60.0625 18.3125 54.390625 \nz\n\" id=\"DejaVuSans-56\"/>\n    </defs>\n    <g style=\"fill:#ffffff;\" transform=\"translate(79.865625 80.668125)scale(0.1 -0.1)\">\n     <use xlink:href=\"#DejaVuSans-54\"/>\n     <use x=\"63.623047\" xlink:href=\"#DejaVuSans-50\"/>\n     <use x=\"127.246094\" xlink:href=\"#DejaVuSans-48\"/>\n     <use x=\"190.869141\" xlink:href=\"#DejaVuSans-56\"/>\n    </g>\n   </g>\n   <g id=\"text_8\">\n    <!-- 1206 -->\n    <g transform=\"translate(196.565625 80.668125)scale(0.1 -0.1)\">\n     <use xlink:href=\"#DejaVuSans-49\"/>\n     <use x=\"63.623047\" xlink:href=\"#DejaVuSans-50\"/>\n     <use x=\"127.246094\" xlink:href=\"#DejaVuSans-48\"/>\n     <use x=\"190.869141\" xlink:href=\"#DejaVuSans-54\"/>\n    </g>\n   </g>\n   <g id=\"text_9\">\n    <!-- 1354 -->\n    <defs>\n     <path d=\"M 40.578125 39.3125 \nQ 47.65625 37.796875 51.625 33 \nQ 55.609375 28.21875 55.609375 21.1875 \nQ 55.609375 10.40625 48.1875 4.484375 \nQ 40.765625 -1.421875 27.09375 -1.421875 \nQ 22.515625 -1.421875 17.65625 -0.515625 \nQ 12.796875 0.390625 7.625 2.203125 \nL 7.625 11.71875 \nQ 11.71875 9.328125 16.59375 8.109375 \nQ 21.484375 6.890625 26.8125 6.890625 \nQ 36.078125 6.890625 40.9375 10.546875 \nQ 45.796875 14.203125 45.796875 21.1875 \nQ 45.796875 27.640625 41.28125 31.265625 \nQ 36.765625 34.90625 28.71875 34.90625 \nL 20.21875 34.90625 \nL 20.21875 43.015625 \nL 29.109375 43.015625 \nQ 36.375 43.015625 40.234375 45.921875 \nQ 44.09375 48.828125 44.09375 54.296875 \nQ 44.09375 59.90625 40.109375 62.90625 \nQ 36.140625 65.921875 28.71875 65.921875 \nQ 24.65625 65.921875 20.015625 65.03125 \nQ 15.375 64.15625 9.8125 62.3125 \nL 9.8125 71.09375 \nQ 15.4375 72.65625 20.34375 73.4375 \nQ 25.25 74.21875 29.59375 74.21875 \nQ 40.828125 74.21875 47.359375 69.109375 \nQ 53.90625 64.015625 53.90625 55.328125 \nQ 53.90625 49.265625 50.4375 45.09375 \nQ 46.96875 40.921875 40.578125 39.3125 \nz\n\" id=\"DejaVuSans-51\"/>\n     <path d=\"M 10.796875 72.90625 \nL 49.515625 72.90625 \nL 49.515625 64.59375 \nL 19.828125 64.59375 \nL 19.828125 46.734375 \nQ 21.96875 47.46875 24.109375 47.828125 \nQ 26.265625 48.1875 28.421875 48.1875 \nQ 40.625 48.1875 47.75 41.5 \nQ 54.890625 34.8125 54.890625 23.390625 \nQ 54.890625 11.625 47.5625 5.09375 \nQ 40.234375 -1.421875 26.90625 -1.421875 \nQ 22.3125 -1.421875 17.546875 -0.640625 \nQ 12.796875 0.140625 7.71875 1.703125 \nL 7.71875 11.625 \nQ 12.109375 9.234375 16.796875 8.0625 \nQ 21.484375 6.890625 26.703125 6.890625 \nQ 35.15625 6.890625 40.078125 11.328125 \nQ 45.015625 15.765625 45.015625 23.390625 \nQ 45.015625 31 40.078125 35.4375 \nQ 35.15625 39.890625 26.703125 39.890625 \nQ 22.75 39.890625 18.8125 39.015625 \nQ 14.890625 38.140625 10.796875 36.28125 \nz\n\" id=\"DejaVuSans-53\"/>\n     <path d=\"M 37.796875 64.3125 \nL 12.890625 25.390625 \nL 37.796875 25.390625 \nz\nM 35.203125 72.90625 \nL 47.609375 72.90625 \nL 47.609375 25.390625 \nL 58.015625 25.390625 \nL 58.015625 17.1875 \nL 47.609375 17.1875 \nL 47.609375 0 \nL 37.796875 0 \nL 37.796875 17.1875 \nL 4.890625 17.1875 \nL 4.890625 26.703125 \nz\n\" id=\"DejaVuSans-52\"/>\n    </defs>\n    <g transform=\"translate(79.865625 197.368125)scale(0.1 -0.1)\">\n     <use xlink:href=\"#DejaVuSans-49\"/>\n     <use x=\"63.623047\" xlink:href=\"#DejaVuSans-51\"/>\n     <use x=\"127.246094\" xlink:href=\"#DejaVuSans-53\"/>\n     <use x=\"190.869141\" xlink:href=\"#DejaVuSans-52\"/>\n    </g>\n   </g>\n   <g id=\"text_10\">\n    <!-- 6060 -->\n    <g style=\"fill:#ffffff;\" transform=\"translate(196.565625 197.368125)scale(0.1 -0.1)\">\n     <use xlink:href=\"#DejaVuSans-54\"/>\n     <use x=\"63.623047\" xlink:href=\"#DejaVuSans-48\"/>\n     <use x=\"127.246094\" xlink:href=\"#DejaVuSans-54\"/>\n     <use x=\"190.869141\" xlink:href=\"#DejaVuSans-48\"/>\n    </g>\n   </g>\n   <g id=\"text_11\">\n    <!-- Matriz de Confusión Normalizada: Red Neuronal -->\n    <defs>\n     <path d=\"M 9.8125 72.90625 \nL 24.515625 72.90625 \nL 43.109375 23.296875 \nL 61.8125 72.90625 \nL 76.515625 72.90625 \nL 76.515625 0 \nL 66.890625 0 \nL 66.890625 64.015625 \nL 48.09375 14.015625 \nL 38.1875 14.015625 \nL 19.390625 64.015625 \nL 19.390625 0 \nL 9.8125 0 \nz\n\" id=\"DejaVuSans-77\"/>\n     <path d=\"M 5.515625 54.6875 \nL 48.1875 54.6875 \nL 48.1875 46.484375 \nL 14.40625 7.171875 \nL 48.1875 7.171875 \nL 48.1875 0 \nL 4.296875 0 \nL 4.296875 8.203125 \nL 38.09375 47.515625 \nL 5.515625 47.515625 \nz\n\" id=\"DejaVuSans-122\"/>\n     <path id=\"DejaVuSans-32\"/>\n     <path d=\"M 64.40625 67.28125 \nL 64.40625 56.890625 \nQ 59.421875 61.53125 53.78125 63.8125 \nQ 48.140625 66.109375 41.796875 66.109375 \nQ 29.296875 66.109375 22.65625 58.46875 \nQ 16.015625 50.828125 16.015625 36.375 \nQ 16.015625 21.96875 22.65625 14.328125 \nQ 29.296875 6.6875 41.796875 6.6875 \nQ 48.140625 6.6875 53.78125 8.984375 \nQ 59.421875 11.28125 64.40625 15.921875 \nL 64.40625 5.609375 \nQ 59.234375 2.09375 53.4375 0.328125 \nQ 47.65625 -1.421875 41.21875 -1.421875 \nQ 24.65625 -1.421875 15.125 8.703125 \nQ 5.609375 18.84375 5.609375 36.375 \nQ 5.609375 53.953125 15.125 64.078125 \nQ 24.65625 74.21875 41.21875 74.21875 \nQ 47.75 74.21875 53.53125 72.484375 \nQ 59.328125 70.75 64.40625 67.28125 \nz\n\" id=\"DejaVuSans-67\"/>\n     <path d=\"M 30.609375 48.390625 \nQ 23.390625 48.390625 19.1875 42.75 \nQ 14.984375 37.109375 14.984375 27.296875 \nQ 14.984375 17.484375 19.15625 11.84375 \nQ 23.34375 6.203125 30.609375 6.203125 \nQ 37.796875 6.203125 41.984375 11.859375 \nQ 46.1875 17.53125 46.1875 27.296875 \nQ 46.1875 37.015625 41.984375 42.703125 \nQ 37.796875 48.390625 30.609375 48.390625 \nz\nM 30.609375 56 \nQ 42.328125 56 49.015625 48.375 \nQ 55.71875 40.765625 55.71875 27.296875 \nQ 55.71875 13.875 49.015625 6.21875 \nQ 42.328125 -1.421875 30.609375 -1.421875 \nQ 18.84375 -1.421875 12.171875 6.21875 \nQ 5.515625 13.875 5.515625 27.296875 \nQ 5.515625 40.765625 12.171875 48.375 \nQ 18.84375 56 30.609375 56 \nz\n\" id=\"DejaVuSans-111\"/>\n     <path d=\"M 37.109375 75.984375 \nL 37.109375 68.5 \nL 28.515625 68.5 \nQ 23.6875 68.5 21.796875 66.546875 \nQ 19.921875 64.59375 19.921875 59.515625 \nL 19.921875 54.6875 \nL 34.71875 54.6875 \nL 34.71875 47.703125 \nL 19.921875 47.703125 \nL 19.921875 0 \nL 10.890625 0 \nL 10.890625 47.703125 \nL 2.296875 47.703125 \nL 2.296875 54.6875 \nL 10.890625 54.6875 \nL 10.890625 58.5 \nQ 10.890625 67.625 15.140625 71.796875 \nQ 19.390625 75.984375 28.609375 75.984375 \nz\n\" id=\"DejaVuSans-102\"/>\n     <path d=\"M 44.28125 53.078125 \nL 44.28125 44.578125 \nQ 40.484375 46.53125 36.375 47.5 \nQ 32.28125 48.484375 27.875 48.484375 \nQ 21.1875 48.484375 17.84375 46.4375 \nQ 14.5 44.390625 14.5 40.28125 \nQ 14.5 37.15625 16.890625 35.375 \nQ 19.28125 33.59375 26.515625 31.984375 \nL 29.59375 31.296875 \nQ 39.15625 29.25 43.1875 25.515625 \nQ 47.21875 21.78125 47.21875 15.09375 \nQ 47.21875 7.46875 41.1875 3.015625 \nQ 35.15625 -1.421875 24.609375 -1.421875 \nQ 20.21875 -1.421875 15.453125 -0.5625 \nQ 10.6875 0.296875 5.421875 2 \nL 5.421875 11.28125 \nQ 10.40625 8.6875 15.234375 7.390625 \nQ 20.0625 6.109375 24.8125 6.109375 \nQ 31.15625 6.109375 34.5625 8.28125 \nQ 37.984375 10.453125 37.984375 14.40625 \nQ 37.984375 18.0625 35.515625 20.015625 \nQ 33.0625 21.96875 24.703125 23.78125 \nL 21.578125 24.515625 \nQ 13.234375 26.265625 9.515625 29.90625 \nQ 5.8125 33.546875 5.8125 39.890625 \nQ 5.8125 47.609375 11.28125 51.796875 \nQ 16.75 56 26.8125 56 \nQ 31.78125 56 36.171875 55.265625 \nQ 40.578125 54.546875 44.28125 53.078125 \nz\n\" id=\"DejaVuSans-115\"/>\n     <path d=\"M 9.8125 72.90625 \nL 23.09375 72.90625 \nL 55.421875 11.921875 \nL 55.421875 72.90625 \nL 64.984375 72.90625 \nL 64.984375 0 \nL 51.703125 0 \nL 19.390625 60.984375 \nL 19.390625 0 \nL 9.8125 0 \nz\n\" id=\"DejaVuSans-78\"/>\n     <path d=\"M 52 44.1875 \nQ 55.375 50.25 60.0625 53.125 \nQ 64.75 56 71.09375 56 \nQ 79.640625 56 84.28125 50.015625 \nQ 88.921875 44.046875 88.921875 33.015625 \nL 88.921875 0 \nL 79.890625 0 \nL 79.890625 32.71875 \nQ 79.890625 40.578125 77.09375 44.375 \nQ 74.3125 48.1875 68.609375 48.1875 \nQ 61.625 48.1875 57.5625 43.546875 \nQ 53.515625 38.921875 53.515625 30.90625 \nL 53.515625 0 \nL 44.484375 0 \nL 44.484375 32.71875 \nQ 44.484375 40.625 41.703125 44.40625 \nQ 38.921875 48.1875 33.109375 48.1875 \nQ 26.21875 48.1875 22.15625 43.53125 \nQ 18.109375 38.875 18.109375 30.90625 \nL 18.109375 0 \nL 9.078125 0 \nL 9.078125 54.6875 \nL 18.109375 54.6875 \nL 18.109375 46.1875 \nQ 21.1875 51.21875 25.484375 53.609375 \nQ 29.78125 56 35.6875 56 \nQ 41.65625 56 45.828125 52.96875 \nQ 50 49.953125 52 44.1875 \nz\n\" id=\"DejaVuSans-109\"/>\n     <path d=\"M 9.421875 75.984375 \nL 18.40625 75.984375 \nL 18.40625 0 \nL 9.421875 0 \nz\n\" id=\"DejaVuSans-108\"/>\n     <path d=\"M 11.71875 12.40625 \nL 22.015625 12.40625 \nL 22.015625 0 \nL 11.71875 0 \nz\nM 11.71875 51.703125 \nL 22.015625 51.703125 \nL 22.015625 39.3125 \nL 11.71875 39.3125 \nz\n\" id=\"DejaVuSans-58\"/>\n     <path d=\"M 44.390625 34.1875 \nQ 47.5625 33.109375 50.5625 29.59375 \nQ 53.5625 26.078125 56.59375 19.921875 \nL 66.609375 0 \nL 56 0 \nL 46.6875 18.703125 \nQ 43.0625 26.03125 39.671875 28.421875 \nQ 36.28125 30.8125 30.421875 30.8125 \nL 19.671875 30.8125 \nL 19.671875 0 \nL 9.8125 0 \nL 9.8125 72.90625 \nL 32.078125 72.90625 \nQ 44.578125 72.90625 50.734375 67.671875 \nQ 56.890625 62.453125 56.890625 51.90625 \nQ 56.890625 45.015625 53.6875 40.46875 \nQ 50.484375 35.9375 44.390625 34.1875 \nz\nM 19.671875 64.796875 \nL 19.671875 38.921875 \nL 32.078125 38.921875 \nQ 39.203125 38.921875 42.84375 42.21875 \nQ 46.484375 45.515625 46.484375 51.90625 \nQ 46.484375 58.296875 42.84375 61.546875 \nQ 39.203125 64.796875 32.078125 64.796875 \nz\n\" id=\"DejaVuSans-82\"/>\n    </defs>\n    <g style=\"fill:#262626;\" transform=\"translate(7.330625 16.318125)scale(0.12 -0.12)\">\n     <use xlink:href=\"#DejaVuSans-77\"/>\n     <use x=\"86.279297\" xlink:href=\"#DejaVuSans-97\"/>\n     <use x=\"147.558594\" xlink:href=\"#DejaVuSans-116\"/>\n     <use x=\"186.767578\" xlink:href=\"#DejaVuSans-114\"/>\n     <use x=\"227.880859\" xlink:href=\"#DejaVuSans-105\"/>\n     <use x=\"255.664062\" xlink:href=\"#DejaVuSans-122\"/>\n     <use x=\"308.154297\" xlink:href=\"#DejaVuSans-32\"/>\n     <use x=\"339.941406\" xlink:href=\"#DejaVuSans-100\"/>\n     <use x=\"403.417969\" xlink:href=\"#DejaVuSans-101\"/>\n     <use x=\"464.941406\" xlink:href=\"#DejaVuSans-32\"/>\n     <use x=\"496.728516\" xlink:href=\"#DejaVuSans-67\"/>\n     <use x=\"566.552734\" xlink:href=\"#DejaVuSans-111\"/>\n     <use x=\"627.734375\" xlink:href=\"#DejaVuSans-110\"/>\n     <use x=\"691.113281\" xlink:href=\"#DejaVuSans-102\"/>\n     <use x=\"726.318359\" xlink:href=\"#DejaVuSans-117\"/>\n     <use x=\"789.697266\" xlink:href=\"#DejaVuSans-115\"/>\n     <use x=\"841.796875\" xlink:href=\"#DejaVuSans-105\"/>\n     <use x=\"869.580078\" xlink:href=\"#DejaVuSans-243\"/>\n     <use x=\"930.761719\" xlink:href=\"#DejaVuSans-110\"/>\n     <use x=\"994.140625\" xlink:href=\"#DejaVuSans-32\"/>\n     <use x=\"1025.927734\" xlink:href=\"#DejaVuSans-78\"/>\n     <use x=\"1100.732422\" xlink:href=\"#DejaVuSans-111\"/>\n     <use x=\"1161.914062\" xlink:href=\"#DejaVuSans-114\"/>\n     <use x=\"1201.277344\" xlink:href=\"#DejaVuSans-109\"/>\n     <use x=\"1298.689453\" xlink:href=\"#DejaVuSans-97\"/>\n     <use x=\"1359.96875\" xlink:href=\"#DejaVuSans-108\"/>\n     <use x=\"1387.751953\" xlink:href=\"#DejaVuSans-105\"/>\n     <use x=\"1415.535156\" xlink:href=\"#DejaVuSans-122\"/>\n     <use x=\"1468.025391\" xlink:href=\"#DejaVuSans-97\"/>\n     <use x=\"1529.304688\" xlink:href=\"#DejaVuSans-100\"/>\n     <use x=\"1592.78125\" xlink:href=\"#DejaVuSans-97\"/>\n     <use x=\"1654.060547\" xlink:href=\"#DejaVuSans-58\"/>\n     <use x=\"1687.751953\" xlink:href=\"#DejaVuSans-32\"/>\n     <use x=\"1719.539062\" xlink:href=\"#DejaVuSans-82\"/>\n     <use x=\"1784.521484\" xlink:href=\"#DejaVuSans-101\"/>\n     <use x=\"1846.044922\" xlink:href=\"#DejaVuSans-100\"/>\n     <use x=\"1909.521484\" xlink:href=\"#DejaVuSans-32\"/>\n     <use x=\"1941.308594\" xlink:href=\"#DejaVuSans-78\"/>\n     <use x=\"2016.113281\" xlink:href=\"#DejaVuSans-101\"/>\n     <use x=\"2077.636719\" xlink:href=\"#DejaVuSans-117\"/>\n     <use x=\"2141.015625\" xlink:href=\"#DejaVuSans-114\"/>\n     <use x=\"2179.878906\" xlink:href=\"#DejaVuSans-111\"/>\n     <use x=\"2241.060547\" xlink:href=\"#DejaVuSans-110\"/>\n     <use x=\"2304.439453\" xlink:href=\"#DejaVuSans-97\"/>\n     <use x=\"2365.71875\" xlink:href=\"#DejaVuSans-108\"/>\n    </g>\n   </g>\n  </g>\n  <g id=\"axes_2\">\n   <g id=\"patch_7\">\n    <path clip-path=\"url(#pd10f3499bc)\" d=\"M 288.160625 255.718125 \nL 288.160625 254.806406 \nL 288.160625 23.229844 \nL 288.160625 22.318125 \nL 299.830625 22.318125 \nL 299.830625 23.229844 \nL 299.830625 254.806406 \nL 299.830625 255.718125 \nz\n\" style=\"fill:#ffffff;stroke:#ffffff;stroke-linejoin:miter;stroke-width:0.01;\"/>\n   </g>\n   <g id=\"matplotlib.axis_3\"/>\n   <g id=\"matplotlib.axis_4\">\n    <g id=\"ytick_3\">\n     <g id=\"line2d_1\">\n      <defs>\n       <path d=\"M 0 0 \nL 3.5 0 \n\" id=\"m0045c01921\" style=\"stroke:#262626;stroke-width:0.8;\"/>\n      </defs>\n      <g>\n       <use style=\"fill:#262626;stroke:#262626;stroke-width:0.8;\" x=\"299.830625\" xlink:href=\"#m0045c01921\" y=\"218.669025\"/>\n      </g>\n     </g>\n     <g id=\"text_12\">\n      <!-- 2000 -->\n      <g style=\"fill:#262626;\" transform=\"translate(306.830625 222.468243)scale(0.1 -0.1)\">\n       <use xlink:href=\"#DejaVuSans-50\"/>\n       <use x=\"63.623047\" xlink:href=\"#DejaVuSans-48\"/>\n       <use x=\"127.246094\" xlink:href=\"#DejaVuSans-48\"/>\n       <use x=\"190.869141\" xlink:href=\"#DejaVuSans-48\"/>\n      </g>\n     </g>\n    </g>\n    <g id=\"ytick_4\">\n     <g id=\"line2d_2\">\n      <g>\n       <use style=\"fill:#262626;stroke:#262626;stroke-width:0.8;\" x=\"299.830625\" xlink:href=\"#m0045c01921\" y=\"172.007689\"/>\n      </g>\n     </g>\n     <g id=\"text_13\">\n      <!-- 3000 -->\n      <g style=\"fill:#262626;\" transform=\"translate(306.830625 175.806908)scale(0.1 -0.1)\">\n       <use xlink:href=\"#DejaVuSans-51\"/>\n       <use x=\"63.623047\" xlink:href=\"#DejaVuSans-48\"/>\n       <use x=\"127.246094\" xlink:href=\"#DejaVuSans-48\"/>\n       <use x=\"190.869141\" xlink:href=\"#DejaVuSans-48\"/>\n      </g>\n     </g>\n    </g>\n    <g id=\"ytick_5\">\n     <g id=\"line2d_3\">\n      <g>\n       <use style=\"fill:#262626;stroke:#262626;stroke-width:0.8;\" x=\"299.830625\" xlink:href=\"#m0045c01921\" y=\"125.346354\"/>\n      </g>\n     </g>\n     <g id=\"text_14\">\n      <!-- 4000 -->\n      <g style=\"fill:#262626;\" transform=\"translate(306.830625 129.145572)scale(0.1 -0.1)\">\n       <use xlink:href=\"#DejaVuSans-52\"/>\n       <use x=\"63.623047\" xlink:href=\"#DejaVuSans-48\"/>\n       <use x=\"127.246094\" xlink:href=\"#DejaVuSans-48\"/>\n       <use x=\"190.869141\" xlink:href=\"#DejaVuSans-48\"/>\n      </g>\n     </g>\n    </g>\n    <g id=\"ytick_6\">\n     <g id=\"line2d_4\">\n      <g>\n       <use style=\"fill:#262626;stroke:#262626;stroke-width:0.8;\" x=\"299.830625\" xlink:href=\"#m0045c01921\" y=\"78.685018\"/>\n      </g>\n     </g>\n     <g id=\"text_15\">\n      <!-- 5000 -->\n      <g style=\"fill:#262626;\" transform=\"translate(306.830625 82.484237)scale(0.1 -0.1)\">\n       <use xlink:href=\"#DejaVuSans-53\"/>\n       <use x=\"63.623047\" xlink:href=\"#DejaVuSans-48\"/>\n       <use x=\"127.246094\" xlink:href=\"#DejaVuSans-48\"/>\n       <use x=\"190.869141\" xlink:href=\"#DejaVuSans-48\"/>\n      </g>\n     </g>\n    </g>\n    <g id=\"ytick_7\">\n     <g id=\"line2d_5\">\n      <g>\n       <use style=\"fill:#262626;stroke:#262626;stroke-width:0.8;\" x=\"299.830625\" xlink:href=\"#m0045c01921\" y=\"32.023683\"/>\n      </g>\n     </g>\n     <g id=\"text_16\">\n      <!-- 6000 -->\n      <g style=\"fill:#262626;\" transform=\"translate(306.830625 35.822902)scale(0.1 -0.1)\">\n       <use xlink:href=\"#DejaVuSans-54\"/>\n       <use x=\"63.623047\" xlink:href=\"#DejaVuSans-48\"/>\n       <use x=\"127.246094\" xlink:href=\"#DejaVuSans-48\"/>\n       <use x=\"190.869141\" xlink:href=\"#DejaVuSans-48\"/>\n      </g>\n     </g>\n    </g>\n   </g>\n   <image height=\"233\" id=\"imageb1a1193f78\" transform=\"scale(1 -1)translate(0 -233)\" width=\"12\" x=\"288\" xlink:href=\"data:image/png;base64,\niVBORw0KGgoAAAANSUhEUgAAAAwAAADpCAYAAAAQ/NbWAAAABHNCSVQICAgIfAhkiAAAASBJREFUaIHtmFEOwzAIQ9mU+x93H5Pa7Ajti2TLo+k3yBgbSvv6fOcs8IxZKL4GjK8B42swBlVjwgxHSbStFOHNwiM5rOgQV9LCPMRxwAgl53DK25q4yDaHGwnbGncSOnBYuARowhPbmshBfsKdDY5E/eYL5MCFwwh5XYrkQBOocIdhRKlb5Qh6HRybDysNEQxLAFtDfpzoZzpwGR+wphUOMMHwnu7g1hZLACbwF0pgSQxgZd3TmTZ8P+jNxwAcXjIcJ3proHDL1kg0X+Iiwxz+fx4ChTNYg6/7OA4bQYLQwxqBJUGEBR30CIFtlf9ZN5hPnmBQeutwnZBIOs8az9ShgdLFE9ifjSYI8pLOgyIEdqkBAp04g5e4NRrosBGunx9j8v5RzGJoQQAAAABJRU5ErkJggg==\" y=\"-22\"/>\n   <g id=\"patch_8\">\n    <path d=\"M 288.160625 255.718125 \nL 288.160625 254.806406 \nL 288.160625 23.229844 \nL 288.160625 22.318125 \nL 299.830625 22.318125 \nL 299.830625 23.229844 \nL 299.830625 254.806406 \nL 299.830625 255.718125 \nz\n\" style=\"fill:none;stroke:#262626;stroke-linejoin:miter;stroke-width:0.8;\"/>\n   </g>\n  </g>\n </g>\n <defs>\n  <clipPath id=\"p0f365029e9\">\n   <rect height=\"233.4\" width=\"233.4\" x=\"34.240625\" y=\"22.318125\"/>\n  </clipPath>\n  <clipPath id=\"pd10f3499bc\">\n   <rect height=\"233.4\" width=\"11.67\" x=\"288.160625\" y=\"22.318125\"/>\n  </clipPath>\n </defs>\n</svg>\n"
          },
          "metadata": {}
        }
      ]
    },
    {
      "cell_type": "markdown",
      "metadata": {
        "id": "oCQqFVGdpINh"
      },
      "source": [
        "El modelo de perceptrón multicapa que utiliza el conjunto de etiquetas A obtuvo una precisión de 0.82735. Es decir, de la totalidad de los datos el 82.735% de los datos de validación fueron bien etiquetados."
      ]
    },
    {
      "cell_type": "markdown",
      "metadata": {
        "id": "repe4bgf63ah"
      },
      "source": [
        "### Caso B"
      ]
    },
    {
      "cell_type": "code",
      "metadata": {
        "id": "q6M0nMDs63ah",
        "colab": {
          "base_uri": "https://localhost:8080/",
          "height": 514
        },
        "outputId": "426c95e4-4ede-4872-9711-78eda6ae3e31"
      },
      "source": [
        "from sklearn.neural_network import MLPClassifier\n",
        "\n",
        "model = MLPClassifier(hidden_layer_sizes=(20,20), activation='relu') # Inicialice un modelo de red neuronal con 2 capas escondidas x 20 neuronas en cada capa y función de activación ReLu #\n",
        "model.fit(X_train_subB,y_train) # Ajuste el modelo con los datos del conjunto B #\n",
        "y_predict = model.predict(X_test_subB) # Realice la predicción de etiquetas con los datos de prueba del conjunto B #\n",
        "\n",
        "print(f'Precisión {round(accuracy_score(y_test, y_predict),5)}')\n",
        "print(pd.DataFrame(confusion_matrix(y_test,y_predict)))\n",
        "\n",
        "plot_confusion_matrix(confusion_matrix(y_test,y_predict),\n",
        "                      classes=class_names, \n",
        "                      title='Matriz de Confusión Normalizada: Red Neuronal')"
      ],
      "execution_count": null,
      "outputs": [
        {
          "output_type": "stream",
          "name": "stdout",
          "text": [
            "Precisión 0.7852\n",
            "      0     1\n",
            "0  6425   989\n",
            "1  2196  5218\n",
            "[[6425  989]\n",
            " [2196 5218]]\n"
          ]
        },
        {
          "output_type": "display_data",
          "data": {
            "text/plain": [
              "<Figure size 432x288 with 2 Axes>"
            ],
            "image/svg+xml": "<?xml version=\"1.0\" encoding=\"utf-8\" standalone=\"no\"?>\n<!DOCTYPE svg PUBLIC \"-//W3C//DTD SVG 1.1//EN\"\n  \"http://www.w3.org/Graphics/SVG/1.1/DTD/svg11.dtd\">\n<!-- Created with matplotlib (https://matplotlib.org/) -->\n<svg height=\"293.274375pt\" version=\"1.1\" viewBox=\"0 0 339.480625 293.274375\" width=\"339.480625pt\" xmlns=\"http://www.w3.org/2000/svg\" xmlns:xlink=\"http://www.w3.org/1999/xlink\">\n <defs>\n  <style type=\"text/css\">\n*{stroke-linecap:butt;stroke-linejoin:round;}\n  </style>\n </defs>\n <g id=\"figure_1\">\n  <g id=\"patch_1\">\n   <path d=\"M 0 293.274375 \nL 339.480625 293.274375 \nL 339.480625 0 \nL 0 0 \nz\n\" style=\"fill:#ffffff;\"/>\n  </g>\n  <g id=\"axes_1\">\n   <g id=\"patch_2\">\n    <path d=\"M 34.240625 255.718125 \nL 267.640625 255.718125 \nL 267.640625 22.318125 \nL 34.240625 22.318125 \nz\n\" style=\"fill:#ffffff;\"/>\n   </g>\n   <g clip-path=\"url(#pb9742b184d)\">\n    <image height=\"234\" id=\"image8066b2c4ce\" transform=\"scale(1 -1)translate(0 -234)\" width=\"234\" x=\"34.240625\" xlink:href=\"data:image/png;base64,\niVBORw0KGgoAAAANSUhEUgAAAOoAAADqCAYAAACslNlOAAAABHNCSVQICAgIfAhkiAAAAuRJREFUeJzt1UENwlAABUHKqXJwghCkcK0eDNQDFsBBK4HLT36WzCh4l81b9vf3uPBX7s/X7AkMdp09APhNqBAgVAgQKgQIFQKECgFChQChQoBQIUCoECBUCBAqBAgVAoQKAUKFAKFCgFAhQKgQIFQIECoECBUChAoBQoUAoUKAUCFAqBAgVAgQKgQIFQKECgFChQChQoBQIUCoECBUCBAqBAgVAoQKAUKFAKFCgFAhQKgQIFQIECoECBUChAoBQoUAoUKAUCFAqBAgVAgQKgQIFQKECgFChQChQoBQIUCoECBUCBAqBAgVAoQKAUKFAKFCgFAhQKgQIFQIECoECBUChAoBQoUAoUKAUCFAqBAgVAgQKgQIFQKECgFChQChQoBQIUCoECBUCBAqBAgVAoQKAUKFAKFCgFAhQKgQIFQIECoECBUChAoBQoUAoUKAUCFAqBAgVAgQKgQIFQKECgFChQChQoBQIUCoECBUCBAqBAgVAoQKAUKFAKFCgFAhQKgQIFQIECoELOvtccwewViffZs9gcE8KgQIFQKECgFChQChQoBQIUCoECBUCBAqBAgVAoQKAUKFAKFCgFAhQKgQIFQIECoECBUChAoBQoUAoUKAUCFAqBAgVAgQKgQIFQKECgFChQChQoBQIUCoECBUCBAqBAgVAoQKAUKFAKFCgFAhQKgQIFQIECoECBUChAoBQoUAoUKAUCFAqBAgVAgQKgQIFQKECgFChQChQoBQIUCoECBUCBAqBAgVAoQKAUKFAKFCgFAhQKgQIFQIECoECBUChAoBQoUAoUKAUCFAqBAgVAgQKgQIFQKECgFChQChQoBQIUCoECBUCBAqBAgVAoQKAUKFAKFCgFAhQKgQIFQIECoECBUChAoBQoUAoUKAUCFAqBAgVAgQKgQIFQKECgFChQChQoBQIUCoECBUCBAqBAgVAoQKAUKFAKFCgFAhQKgQIFQIECoECBUChAoBQoWAExJFCvO88G2KAAAAAElFTkSuQmCC\" y=\"-21.718125\"/>\n   </g>\n   <g id=\"matplotlib.axis_1\">\n    <g id=\"xtick_1\">\n     <g id=\"text_1\">\n      <!-- 0 -->\n      <defs>\n       <path d=\"M 31.78125 66.40625 \nQ 24.171875 66.40625 20.328125 58.90625 \nQ 16.5 51.421875 16.5 36.375 \nQ 16.5 21.390625 20.328125 13.890625 \nQ 24.171875 6.390625 31.78125 6.390625 \nQ 39.453125 6.390625 43.28125 13.890625 \nQ 47.125 21.390625 47.125 36.375 \nQ 47.125 51.421875 43.28125 58.90625 \nQ 39.453125 66.40625 31.78125 66.40625 \nz\nM 31.78125 74.21875 \nQ 44.046875 74.21875 50.515625 64.515625 \nQ 56.984375 54.828125 56.984375 36.375 \nQ 56.984375 17.96875 50.515625 8.265625 \nQ 44.046875 -1.421875 31.78125 -1.421875 \nQ 19.53125 -1.421875 13.0625 8.265625 \nQ 6.59375 17.96875 6.59375 36.375 \nQ 6.59375 54.828125 13.0625 64.515625 \nQ 19.53125 74.21875 31.78125 74.21875 \nz\n\" id=\"DejaVuSans-48\"/>\n      </defs>\n      <g style=\"fill:#262626;\" transform=\"translate(89.409375 270.316563)scale(0.1 -0.1)\">\n       <use xlink:href=\"#DejaVuSans-48\"/>\n      </g>\n     </g>\n    </g>\n    <g id=\"xtick_2\">\n     <g id=\"text_2\">\n      <!-- 1 -->\n      <defs>\n       <path d=\"M 12.40625 8.296875 \nL 28.515625 8.296875 \nL 28.515625 63.921875 \nL 10.984375 60.40625 \nL 10.984375 69.390625 \nL 28.421875 72.90625 \nL 38.28125 72.90625 \nL 38.28125 8.296875 \nL 54.390625 8.296875 \nL 54.390625 0 \nL 12.40625 0 \nz\n\" id=\"DejaVuSans-49\"/>\n      </defs>\n      <g style=\"fill:#262626;\" transform=\"translate(206.109375 270.316563)scale(0.1 -0.1)\">\n       <use xlink:href=\"#DejaVuSans-49\"/>\n      </g>\n     </g>\n    </g>\n    <g id=\"text_3\">\n     <!-- Predicción -->\n     <defs>\n      <path d=\"M 19.671875 64.796875 \nL 19.671875 37.40625 \nL 32.078125 37.40625 \nQ 38.96875 37.40625 42.71875 40.96875 \nQ 46.484375 44.53125 46.484375 51.125 \nQ 46.484375 57.671875 42.71875 61.234375 \nQ 38.96875 64.796875 32.078125 64.796875 \nz\nM 9.8125 72.90625 \nL 32.078125 72.90625 \nQ 44.34375 72.90625 50.609375 67.359375 \nQ 56.890625 61.8125 56.890625 51.125 \nQ 56.890625 40.328125 50.609375 34.8125 \nQ 44.34375 29.296875 32.078125 29.296875 \nL 19.671875 29.296875 \nL 19.671875 0 \nL 9.8125 0 \nz\n\" id=\"DejaVuSans-80\"/>\n      <path d=\"M 41.109375 46.296875 \nQ 39.59375 47.171875 37.8125 47.578125 \nQ 36.03125 48 33.890625 48 \nQ 26.265625 48 22.1875 43.046875 \nQ 18.109375 38.09375 18.109375 28.8125 \nL 18.109375 0 \nL 9.078125 0 \nL 9.078125 54.6875 \nL 18.109375 54.6875 \nL 18.109375 46.1875 \nQ 20.953125 51.171875 25.484375 53.578125 \nQ 30.03125 56 36.53125 56 \nQ 37.453125 56 38.578125 55.875 \nQ 39.703125 55.765625 41.0625 55.515625 \nz\n\" id=\"DejaVuSans-114\"/>\n      <path d=\"M 56.203125 29.59375 \nL 56.203125 25.203125 \nL 14.890625 25.203125 \nQ 15.484375 15.921875 20.484375 11.0625 \nQ 25.484375 6.203125 34.421875 6.203125 \nQ 39.59375 6.203125 44.453125 7.46875 \nQ 49.3125 8.734375 54.109375 11.28125 \nL 54.109375 2.78125 \nQ 49.265625 0.734375 44.1875 -0.34375 \nQ 39.109375 -1.421875 33.890625 -1.421875 \nQ 20.796875 -1.421875 13.15625 6.1875 \nQ 5.515625 13.8125 5.515625 26.8125 \nQ 5.515625 40.234375 12.765625 48.109375 \nQ 20.015625 56 32.328125 56 \nQ 43.359375 56 49.78125 48.890625 \nQ 56.203125 41.796875 56.203125 29.59375 \nz\nM 47.21875 32.234375 \nQ 47.125 39.59375 43.09375 43.984375 \nQ 39.0625 48.390625 32.421875 48.390625 \nQ 24.90625 48.390625 20.390625 44.140625 \nQ 15.875 39.890625 15.1875 32.171875 \nz\n\" id=\"DejaVuSans-101\"/>\n      <path d=\"M 45.40625 46.390625 \nL 45.40625 75.984375 \nL 54.390625 75.984375 \nL 54.390625 0 \nL 45.40625 0 \nL 45.40625 8.203125 \nQ 42.578125 3.328125 38.25 0.953125 \nQ 33.9375 -1.421875 27.875 -1.421875 \nQ 17.96875 -1.421875 11.734375 6.484375 \nQ 5.515625 14.40625 5.515625 27.296875 \nQ 5.515625 40.1875 11.734375 48.09375 \nQ 17.96875 56 27.875 56 \nQ 33.9375 56 38.25 53.625 \nQ 42.578125 51.265625 45.40625 46.390625 \nz\nM 14.796875 27.296875 \nQ 14.796875 17.390625 18.875 11.75 \nQ 22.953125 6.109375 30.078125 6.109375 \nQ 37.203125 6.109375 41.296875 11.75 \nQ 45.40625 17.390625 45.40625 27.296875 \nQ 45.40625 37.203125 41.296875 42.84375 \nQ 37.203125 48.484375 30.078125 48.484375 \nQ 22.953125 48.484375 18.875 42.84375 \nQ 14.796875 37.203125 14.796875 27.296875 \nz\n\" id=\"DejaVuSans-100\"/>\n      <path d=\"M 9.421875 54.6875 \nL 18.40625 54.6875 \nL 18.40625 0 \nL 9.421875 0 \nz\nM 9.421875 75.984375 \nL 18.40625 75.984375 \nL 18.40625 64.59375 \nL 9.421875 64.59375 \nz\n\" id=\"DejaVuSans-105\"/>\n      <path d=\"M 48.78125 52.59375 \nL 48.78125 44.1875 \nQ 44.96875 46.296875 41.140625 47.34375 \nQ 37.3125 48.390625 33.40625 48.390625 \nQ 24.65625 48.390625 19.8125 42.84375 \nQ 14.984375 37.3125 14.984375 27.296875 \nQ 14.984375 17.28125 19.8125 11.734375 \nQ 24.65625 6.203125 33.40625 6.203125 \nQ 37.3125 6.203125 41.140625 7.25 \nQ 44.96875 8.296875 48.78125 10.40625 \nL 48.78125 2.09375 \nQ 45.015625 0.34375 40.984375 -0.53125 \nQ 36.96875 -1.421875 32.421875 -1.421875 \nQ 20.0625 -1.421875 12.78125 6.34375 \nQ 5.515625 14.109375 5.515625 27.296875 \nQ 5.515625 40.671875 12.859375 48.328125 \nQ 20.21875 56 33.015625 56 \nQ 37.15625 56 41.109375 55.140625 \nQ 45.0625 54.296875 48.78125 52.59375 \nz\n\" id=\"DejaVuSans-99\"/>\n      <path d=\"M 30.609375 48.390625 \nQ 23.390625 48.390625 19.1875 42.75 \nQ 14.984375 37.109375 14.984375 27.296875 \nQ 14.984375 17.484375 19.15625 11.84375 \nQ 23.34375 6.203125 30.609375 6.203125 \nQ 37.796875 6.203125 41.984375 11.859375 \nQ 46.1875 17.53125 46.1875 27.296875 \nQ 46.1875 37.015625 41.984375 42.703125 \nQ 37.796875 48.390625 30.609375 48.390625 \nz\nM 30.609375 56 \nQ 42.328125 56 49.015625 48.375 \nQ 55.71875 40.765625 55.71875 27.296875 \nQ 55.71875 13.875 49.015625 6.21875 \nQ 42.328125 -1.421875 30.609375 -1.421875 \nQ 18.84375 -1.421875 12.171875 6.21875 \nQ 5.515625 13.875 5.515625 27.296875 \nQ 5.515625 40.765625 12.171875 48.375 \nQ 18.84375 56 30.609375 56 \nz\nM 37.40625 79.984375 \nL 47.125 79.984375 \nL 31.21875 61.625 \nL 23.734375 61.625 \nz\n\" id=\"DejaVuSans-243\"/>\n      <path d=\"M 54.890625 33.015625 \nL 54.890625 0 \nL 45.90625 0 \nL 45.90625 32.71875 \nQ 45.90625 40.484375 42.875 44.328125 \nQ 39.84375 48.1875 33.796875 48.1875 \nQ 26.515625 48.1875 22.3125 43.546875 \nQ 18.109375 38.921875 18.109375 30.90625 \nL 18.109375 0 \nL 9.078125 0 \nL 9.078125 54.6875 \nL 18.109375 54.6875 \nL 18.109375 46.1875 \nQ 21.34375 51.125 25.703125 53.5625 \nQ 30.078125 56 35.796875 56 \nQ 45.21875 56 50.046875 50.171875 \nQ 54.890625 44.34375 54.890625 33.015625 \nz\n\" id=\"DejaVuSans-110\"/>\n     </defs>\n     <g style=\"fill:#262626;\" transform=\"translate(125.314844 283.994688)scale(0.1 -0.1)\">\n      <use xlink:href=\"#DejaVuSans-80\"/>\n      <use x=\"58.552734\" xlink:href=\"#DejaVuSans-114\"/>\n      <use x=\"97.416016\" xlink:href=\"#DejaVuSans-101\"/>\n      <use x=\"158.939453\" xlink:href=\"#DejaVuSans-100\"/>\n      <use x=\"222.416016\" xlink:href=\"#DejaVuSans-105\"/>\n      <use x=\"250.199219\" xlink:href=\"#DejaVuSans-99\"/>\n      <use x=\"305.179688\" xlink:href=\"#DejaVuSans-99\"/>\n      <use x=\"360.160156\" xlink:href=\"#DejaVuSans-105\"/>\n      <use x=\"387.943359\" xlink:href=\"#DejaVuSans-243\"/>\n      <use x=\"449.125\" xlink:href=\"#DejaVuSans-110\"/>\n     </g>\n    </g>\n   </g>\n   <g id=\"matplotlib.axis_2\">\n    <g id=\"ytick_1\">\n     <g id=\"text_4\">\n      <!-- 0 -->\n      <g style=\"fill:#262626;\" transform=\"translate(20.878125 84.467344)scale(0.1 -0.1)\">\n       <use xlink:href=\"#DejaVuSans-48\"/>\n      </g>\n     </g>\n    </g>\n    <g id=\"ytick_2\">\n     <g id=\"text_5\">\n      <!-- 1 -->\n      <g style=\"fill:#262626;\" transform=\"translate(20.878125 201.167344)scale(0.1 -0.1)\">\n       <use xlink:href=\"#DejaVuSans-49\"/>\n      </g>\n     </g>\n    </g>\n    <g id=\"text_6\">\n     <!-- Etiqueta -->\n     <defs>\n      <path d=\"M 9.8125 72.90625 \nL 55.90625 72.90625 \nL 55.90625 64.59375 \nL 19.671875 64.59375 \nL 19.671875 43.015625 \nL 54.390625 43.015625 \nL 54.390625 34.71875 \nL 19.671875 34.71875 \nL 19.671875 8.296875 \nL 56.78125 8.296875 \nL 56.78125 0 \nL 9.8125 0 \nz\n\" id=\"DejaVuSans-69\"/>\n      <path d=\"M 18.3125 70.21875 \nL 18.3125 54.6875 \nL 36.8125 54.6875 \nL 36.8125 47.703125 \nL 18.3125 47.703125 \nL 18.3125 18.015625 \nQ 18.3125 11.328125 20.140625 9.421875 \nQ 21.96875 7.515625 27.59375 7.515625 \nL 36.8125 7.515625 \nL 36.8125 0 \nL 27.59375 0 \nQ 17.1875 0 13.234375 3.875 \nQ 9.28125 7.765625 9.28125 18.015625 \nL 9.28125 47.703125 \nL 2.6875 47.703125 \nL 2.6875 54.6875 \nL 9.28125 54.6875 \nL 9.28125 70.21875 \nz\n\" id=\"DejaVuSans-116\"/>\n      <path d=\"M 14.796875 27.296875 \nQ 14.796875 17.390625 18.875 11.75 \nQ 22.953125 6.109375 30.078125 6.109375 \nQ 37.203125 6.109375 41.296875 11.75 \nQ 45.40625 17.390625 45.40625 27.296875 \nQ 45.40625 37.203125 41.296875 42.84375 \nQ 37.203125 48.484375 30.078125 48.484375 \nQ 22.953125 48.484375 18.875 42.84375 \nQ 14.796875 37.203125 14.796875 27.296875 \nz\nM 45.40625 8.203125 \nQ 42.578125 3.328125 38.25 0.953125 \nQ 33.9375 -1.421875 27.875 -1.421875 \nQ 17.96875 -1.421875 11.734375 6.484375 \nQ 5.515625 14.40625 5.515625 27.296875 \nQ 5.515625 40.1875 11.734375 48.09375 \nQ 17.96875 56 27.875 56 \nQ 33.9375 56 38.25 53.625 \nQ 42.578125 51.265625 45.40625 46.390625 \nL 45.40625 54.6875 \nL 54.390625 54.6875 \nL 54.390625 -20.796875 \nL 45.40625 -20.796875 \nz\n\" id=\"DejaVuSans-113\"/>\n      <path d=\"M 8.5 21.578125 \nL 8.5 54.6875 \nL 17.484375 54.6875 \nL 17.484375 21.921875 \nQ 17.484375 14.15625 20.5 10.265625 \nQ 23.53125 6.390625 29.59375 6.390625 \nQ 36.859375 6.390625 41.078125 11.03125 \nQ 45.3125 15.671875 45.3125 23.6875 \nL 45.3125 54.6875 \nL 54.296875 54.6875 \nL 54.296875 0 \nL 45.3125 0 \nL 45.3125 8.40625 \nQ 42.046875 3.421875 37.71875 1 \nQ 33.40625 -1.421875 27.6875 -1.421875 \nQ 18.265625 -1.421875 13.375 4.4375 \nQ 8.5 10.296875 8.5 21.578125 \nz\nM 31.109375 56 \nz\n\" id=\"DejaVuSans-117\"/>\n      <path d=\"M 34.28125 27.484375 \nQ 23.390625 27.484375 19.1875 25 \nQ 14.984375 22.515625 14.984375 16.5 \nQ 14.984375 11.71875 18.140625 8.90625 \nQ 21.296875 6.109375 26.703125 6.109375 \nQ 34.1875 6.109375 38.703125 11.40625 \nQ 43.21875 16.703125 43.21875 25.484375 \nL 43.21875 27.484375 \nz\nM 52.203125 31.203125 \nL 52.203125 0 \nL 43.21875 0 \nL 43.21875 8.296875 \nQ 40.140625 3.328125 35.546875 0.953125 \nQ 30.953125 -1.421875 24.3125 -1.421875 \nQ 15.921875 -1.421875 10.953125 3.296875 \nQ 6 8.015625 6 15.921875 \nQ 6 25.140625 12.171875 29.828125 \nQ 18.359375 34.515625 30.609375 34.515625 \nL 43.21875 34.515625 \nL 43.21875 35.40625 \nQ 43.21875 41.609375 39.140625 45 \nQ 35.0625 48.390625 27.6875 48.390625 \nQ 23 48.390625 18.546875 47.265625 \nQ 14.109375 46.140625 10.015625 43.890625 \nL 10.015625 52.203125 \nQ 14.9375 54.109375 19.578125 55.046875 \nQ 24.21875 56 28.609375 56 \nQ 40.484375 56 46.34375 49.84375 \nQ 52.203125 43.703125 52.203125 31.203125 \nz\n\" id=\"DejaVuSans-97\"/>\n     </defs>\n     <g style=\"fill:#262626;\" transform=\"translate(14.798438 159.970469)rotate(-90)scale(0.1 -0.1)\">\n      <use xlink:href=\"#DejaVuSans-69\"/>\n      <use x=\"63.183594\" xlink:href=\"#DejaVuSans-116\"/>\n      <use x=\"102.392578\" xlink:href=\"#DejaVuSans-105\"/>\n      <use x=\"130.175781\" xlink:href=\"#DejaVuSans-113\"/>\n      <use x=\"193.652344\" xlink:href=\"#DejaVuSans-117\"/>\n      <use x=\"257.03125\" xlink:href=\"#DejaVuSans-101\"/>\n      <use x=\"318.554688\" xlink:href=\"#DejaVuSans-116\"/>\n      <use x=\"357.763672\" xlink:href=\"#DejaVuSans-97\"/>\n     </g>\n    </g>\n   </g>\n   <g id=\"patch_3\">\n    <path d=\"M 34.240625 255.718125 \nL 34.240625 22.318125 \n\" style=\"fill:none;stroke:#262626;stroke-linecap:square;stroke-linejoin:miter;stroke-width:0.8;\"/>\n   </g>\n   <g id=\"patch_4\">\n    <path d=\"M 267.640625 255.718125 \nL 267.640625 22.318125 \n\" style=\"fill:none;stroke:#262626;stroke-linecap:square;stroke-linejoin:miter;stroke-width:0.8;\"/>\n   </g>\n   <g id=\"patch_5\">\n    <path d=\"M 34.240625 255.718125 \nL 267.640625 255.718125 \n\" style=\"fill:none;stroke:#262626;stroke-linecap:square;stroke-linejoin:miter;stroke-width:0.8;\"/>\n   </g>\n   <g id=\"patch_6\">\n    <path d=\"M 34.240625 22.318125 \nL 267.640625 22.318125 \n\" style=\"fill:none;stroke:#262626;stroke-linecap:square;stroke-linejoin:miter;stroke-width:0.8;\"/>\n   </g>\n   <g id=\"text_7\">\n    <!-- 6425 -->\n    <defs>\n     <path d=\"M 33.015625 40.375 \nQ 26.375 40.375 22.484375 35.828125 \nQ 18.609375 31.296875 18.609375 23.390625 \nQ 18.609375 15.53125 22.484375 10.953125 \nQ 26.375 6.390625 33.015625 6.390625 \nQ 39.65625 6.390625 43.53125 10.953125 \nQ 47.40625 15.53125 47.40625 23.390625 \nQ 47.40625 31.296875 43.53125 35.828125 \nQ 39.65625 40.375 33.015625 40.375 \nz\nM 52.59375 71.296875 \nL 52.59375 62.3125 \nQ 48.875 64.0625 45.09375 64.984375 \nQ 41.3125 65.921875 37.59375 65.921875 \nQ 27.828125 65.921875 22.671875 59.328125 \nQ 17.53125 52.734375 16.796875 39.40625 \nQ 19.671875 43.65625 24.015625 45.921875 \nQ 28.375 48.1875 33.59375 48.1875 \nQ 44.578125 48.1875 50.953125 41.515625 \nQ 57.328125 34.859375 57.328125 23.390625 \nQ 57.328125 12.15625 50.6875 5.359375 \nQ 44.046875 -1.421875 33.015625 -1.421875 \nQ 20.359375 -1.421875 13.671875 8.265625 \nQ 6.984375 17.96875 6.984375 36.375 \nQ 6.984375 53.65625 15.1875 63.9375 \nQ 23.390625 74.21875 37.203125 74.21875 \nQ 40.921875 74.21875 44.703125 73.484375 \nQ 48.484375 72.75 52.59375 71.296875 \nz\n\" id=\"DejaVuSans-54\"/>\n     <path d=\"M 37.796875 64.3125 \nL 12.890625 25.390625 \nL 37.796875 25.390625 \nz\nM 35.203125 72.90625 \nL 47.609375 72.90625 \nL 47.609375 25.390625 \nL 58.015625 25.390625 \nL 58.015625 17.1875 \nL 47.609375 17.1875 \nL 47.609375 0 \nL 37.796875 0 \nL 37.796875 17.1875 \nL 4.890625 17.1875 \nL 4.890625 26.703125 \nz\n\" id=\"DejaVuSans-52\"/>\n     <path d=\"M 19.1875 8.296875 \nL 53.609375 8.296875 \nL 53.609375 0 \nL 7.328125 0 \nL 7.328125 8.296875 \nQ 12.9375 14.109375 22.625 23.890625 \nQ 32.328125 33.6875 34.8125 36.53125 \nQ 39.546875 41.84375 41.421875 45.53125 \nQ 43.3125 49.21875 43.3125 52.78125 \nQ 43.3125 58.59375 39.234375 62.25 \nQ 35.15625 65.921875 28.609375 65.921875 \nQ 23.96875 65.921875 18.8125 64.3125 \nQ 13.671875 62.703125 7.8125 59.421875 \nL 7.8125 69.390625 \nQ 13.765625 71.78125 18.9375 73 \nQ 24.125 74.21875 28.421875 74.21875 \nQ 39.75 74.21875 46.484375 68.546875 \nQ 53.21875 62.890625 53.21875 53.421875 \nQ 53.21875 48.921875 51.53125 44.890625 \nQ 49.859375 40.875 45.40625 35.40625 \nQ 44.1875 33.984375 37.640625 27.21875 \nQ 31.109375 20.453125 19.1875 8.296875 \nz\n\" id=\"DejaVuSans-50\"/>\n     <path d=\"M 10.796875 72.90625 \nL 49.515625 72.90625 \nL 49.515625 64.59375 \nL 19.828125 64.59375 \nL 19.828125 46.734375 \nQ 21.96875 47.46875 24.109375 47.828125 \nQ 26.265625 48.1875 28.421875 48.1875 \nQ 40.625 48.1875 47.75 41.5 \nQ 54.890625 34.8125 54.890625 23.390625 \nQ 54.890625 11.625 47.5625 5.09375 \nQ 40.234375 -1.421875 26.90625 -1.421875 \nQ 22.3125 -1.421875 17.546875 -0.640625 \nQ 12.796875 0.140625 7.71875 1.703125 \nL 7.71875 11.625 \nQ 12.109375 9.234375 16.796875 8.0625 \nQ 21.484375 6.890625 26.703125 6.890625 \nQ 35.15625 6.890625 40.078125 11.328125 \nQ 45.015625 15.765625 45.015625 23.390625 \nQ 45.015625 31 40.078125 35.4375 \nQ 35.15625 39.890625 26.703125 39.890625 \nQ 22.75 39.890625 18.8125 39.015625 \nQ 14.890625 38.140625 10.796875 36.28125 \nz\n\" id=\"DejaVuSans-53\"/>\n    </defs>\n    <g style=\"fill:#ffffff;\" transform=\"translate(79.865625 80.668125)scale(0.1 -0.1)\">\n     <use xlink:href=\"#DejaVuSans-54\"/>\n     <use x=\"63.623047\" xlink:href=\"#DejaVuSans-52\"/>\n     <use x=\"127.246094\" xlink:href=\"#DejaVuSans-50\"/>\n     <use x=\"190.869141\" xlink:href=\"#DejaVuSans-53\"/>\n    </g>\n   </g>\n   <g id=\"text_8\">\n    <!-- 989 -->\n    <defs>\n     <path d=\"M 10.984375 1.515625 \nL 10.984375 10.5 \nQ 14.703125 8.734375 18.5 7.8125 \nQ 22.3125 6.890625 25.984375 6.890625 \nQ 35.75 6.890625 40.890625 13.453125 \nQ 46.046875 20.015625 46.78125 33.40625 \nQ 43.953125 29.203125 39.59375 26.953125 \nQ 35.25 24.703125 29.984375 24.703125 \nQ 19.046875 24.703125 12.671875 31.3125 \nQ 6.296875 37.9375 6.296875 49.421875 \nQ 6.296875 60.640625 12.9375 67.421875 \nQ 19.578125 74.21875 30.609375 74.21875 \nQ 43.265625 74.21875 49.921875 64.515625 \nQ 56.59375 54.828125 56.59375 36.375 \nQ 56.59375 19.140625 48.40625 8.859375 \nQ 40.234375 -1.421875 26.421875 -1.421875 \nQ 22.703125 -1.421875 18.890625 -0.6875 \nQ 15.09375 0.046875 10.984375 1.515625 \nz\nM 30.609375 32.421875 \nQ 37.25 32.421875 41.125 36.953125 \nQ 45.015625 41.5 45.015625 49.421875 \nQ 45.015625 57.28125 41.125 61.84375 \nQ 37.25 66.40625 30.609375 66.40625 \nQ 23.96875 66.40625 20.09375 61.84375 \nQ 16.21875 57.28125 16.21875 49.421875 \nQ 16.21875 41.5 20.09375 36.953125 \nQ 23.96875 32.421875 30.609375 32.421875 \nz\n\" id=\"DejaVuSans-57\"/>\n     <path d=\"M 31.78125 34.625 \nQ 24.75 34.625 20.71875 30.859375 \nQ 16.703125 27.09375 16.703125 20.515625 \nQ 16.703125 13.921875 20.71875 10.15625 \nQ 24.75 6.390625 31.78125 6.390625 \nQ 38.8125 6.390625 42.859375 10.171875 \nQ 46.921875 13.96875 46.921875 20.515625 \nQ 46.921875 27.09375 42.890625 30.859375 \nQ 38.875 34.625 31.78125 34.625 \nz\nM 21.921875 38.8125 \nQ 15.578125 40.375 12.03125 44.71875 \nQ 8.5 49.078125 8.5 55.328125 \nQ 8.5 64.0625 14.71875 69.140625 \nQ 20.953125 74.21875 31.78125 74.21875 \nQ 42.671875 74.21875 48.875 69.140625 \nQ 55.078125 64.0625 55.078125 55.328125 \nQ 55.078125 49.078125 51.53125 44.71875 \nQ 48 40.375 41.703125 38.8125 \nQ 48.828125 37.15625 52.796875 32.3125 \nQ 56.78125 27.484375 56.78125 20.515625 \nQ 56.78125 9.90625 50.3125 4.234375 \nQ 43.84375 -1.421875 31.78125 -1.421875 \nQ 19.734375 -1.421875 13.25 4.234375 \nQ 6.78125 9.90625 6.78125 20.515625 \nQ 6.78125 27.484375 10.78125 32.3125 \nQ 14.796875 37.15625 21.921875 38.8125 \nz\nM 18.3125 54.390625 \nQ 18.3125 48.734375 21.84375 45.5625 \nQ 25.390625 42.390625 31.78125 42.390625 \nQ 38.140625 42.390625 41.71875 45.5625 \nQ 45.3125 48.734375 45.3125 54.390625 \nQ 45.3125 60.0625 41.71875 63.234375 \nQ 38.140625 66.40625 31.78125 66.40625 \nQ 25.390625 66.40625 21.84375 63.234375 \nQ 18.3125 60.0625 18.3125 54.390625 \nz\n\" id=\"DejaVuSans-56\"/>\n    </defs>\n    <g transform=\"translate(199.746875 80.668125)scale(0.1 -0.1)\">\n     <use xlink:href=\"#DejaVuSans-57\"/>\n     <use x=\"63.623047\" xlink:href=\"#DejaVuSans-56\"/>\n     <use x=\"127.246094\" xlink:href=\"#DejaVuSans-57\"/>\n    </g>\n   </g>\n   <g id=\"text_9\">\n    <!-- 2196 -->\n    <g transform=\"translate(79.865625 197.368125)scale(0.1 -0.1)\">\n     <use xlink:href=\"#DejaVuSans-50\"/>\n     <use x=\"63.623047\" xlink:href=\"#DejaVuSans-49\"/>\n     <use x=\"127.246094\" xlink:href=\"#DejaVuSans-57\"/>\n     <use x=\"190.869141\" xlink:href=\"#DejaVuSans-54\"/>\n    </g>\n   </g>\n   <g id=\"text_10\">\n    <!-- 5218 -->\n    <g style=\"fill:#ffffff;\" transform=\"translate(196.565625 197.368125)scale(0.1 -0.1)\">\n     <use xlink:href=\"#DejaVuSans-53\"/>\n     <use x=\"63.623047\" xlink:href=\"#DejaVuSans-50\"/>\n     <use x=\"127.246094\" xlink:href=\"#DejaVuSans-49\"/>\n     <use x=\"190.869141\" xlink:href=\"#DejaVuSans-56\"/>\n    </g>\n   </g>\n   <g id=\"text_11\">\n    <!-- Matriz de Confusión Normalizada: Red Neuronal -->\n    <defs>\n     <path d=\"M 9.8125 72.90625 \nL 24.515625 72.90625 \nL 43.109375 23.296875 \nL 61.8125 72.90625 \nL 76.515625 72.90625 \nL 76.515625 0 \nL 66.890625 0 \nL 66.890625 64.015625 \nL 48.09375 14.015625 \nL 38.1875 14.015625 \nL 19.390625 64.015625 \nL 19.390625 0 \nL 9.8125 0 \nz\n\" id=\"DejaVuSans-77\"/>\n     <path d=\"M 5.515625 54.6875 \nL 48.1875 54.6875 \nL 48.1875 46.484375 \nL 14.40625 7.171875 \nL 48.1875 7.171875 \nL 48.1875 0 \nL 4.296875 0 \nL 4.296875 8.203125 \nL 38.09375 47.515625 \nL 5.515625 47.515625 \nz\n\" id=\"DejaVuSans-122\"/>\n     <path id=\"DejaVuSans-32\"/>\n     <path d=\"M 64.40625 67.28125 \nL 64.40625 56.890625 \nQ 59.421875 61.53125 53.78125 63.8125 \nQ 48.140625 66.109375 41.796875 66.109375 \nQ 29.296875 66.109375 22.65625 58.46875 \nQ 16.015625 50.828125 16.015625 36.375 \nQ 16.015625 21.96875 22.65625 14.328125 \nQ 29.296875 6.6875 41.796875 6.6875 \nQ 48.140625 6.6875 53.78125 8.984375 \nQ 59.421875 11.28125 64.40625 15.921875 \nL 64.40625 5.609375 \nQ 59.234375 2.09375 53.4375 0.328125 \nQ 47.65625 -1.421875 41.21875 -1.421875 \nQ 24.65625 -1.421875 15.125 8.703125 \nQ 5.609375 18.84375 5.609375 36.375 \nQ 5.609375 53.953125 15.125 64.078125 \nQ 24.65625 74.21875 41.21875 74.21875 \nQ 47.75 74.21875 53.53125 72.484375 \nQ 59.328125 70.75 64.40625 67.28125 \nz\n\" id=\"DejaVuSans-67\"/>\n     <path d=\"M 30.609375 48.390625 \nQ 23.390625 48.390625 19.1875 42.75 \nQ 14.984375 37.109375 14.984375 27.296875 \nQ 14.984375 17.484375 19.15625 11.84375 \nQ 23.34375 6.203125 30.609375 6.203125 \nQ 37.796875 6.203125 41.984375 11.859375 \nQ 46.1875 17.53125 46.1875 27.296875 \nQ 46.1875 37.015625 41.984375 42.703125 \nQ 37.796875 48.390625 30.609375 48.390625 \nz\nM 30.609375 56 \nQ 42.328125 56 49.015625 48.375 \nQ 55.71875 40.765625 55.71875 27.296875 \nQ 55.71875 13.875 49.015625 6.21875 \nQ 42.328125 -1.421875 30.609375 -1.421875 \nQ 18.84375 -1.421875 12.171875 6.21875 \nQ 5.515625 13.875 5.515625 27.296875 \nQ 5.515625 40.765625 12.171875 48.375 \nQ 18.84375 56 30.609375 56 \nz\n\" id=\"DejaVuSans-111\"/>\n     <path d=\"M 37.109375 75.984375 \nL 37.109375 68.5 \nL 28.515625 68.5 \nQ 23.6875 68.5 21.796875 66.546875 \nQ 19.921875 64.59375 19.921875 59.515625 \nL 19.921875 54.6875 \nL 34.71875 54.6875 \nL 34.71875 47.703125 \nL 19.921875 47.703125 \nL 19.921875 0 \nL 10.890625 0 \nL 10.890625 47.703125 \nL 2.296875 47.703125 \nL 2.296875 54.6875 \nL 10.890625 54.6875 \nL 10.890625 58.5 \nQ 10.890625 67.625 15.140625 71.796875 \nQ 19.390625 75.984375 28.609375 75.984375 \nz\n\" id=\"DejaVuSans-102\"/>\n     <path d=\"M 44.28125 53.078125 \nL 44.28125 44.578125 \nQ 40.484375 46.53125 36.375 47.5 \nQ 32.28125 48.484375 27.875 48.484375 \nQ 21.1875 48.484375 17.84375 46.4375 \nQ 14.5 44.390625 14.5 40.28125 \nQ 14.5 37.15625 16.890625 35.375 \nQ 19.28125 33.59375 26.515625 31.984375 \nL 29.59375 31.296875 \nQ 39.15625 29.25 43.1875 25.515625 \nQ 47.21875 21.78125 47.21875 15.09375 \nQ 47.21875 7.46875 41.1875 3.015625 \nQ 35.15625 -1.421875 24.609375 -1.421875 \nQ 20.21875 -1.421875 15.453125 -0.5625 \nQ 10.6875 0.296875 5.421875 2 \nL 5.421875 11.28125 \nQ 10.40625 8.6875 15.234375 7.390625 \nQ 20.0625 6.109375 24.8125 6.109375 \nQ 31.15625 6.109375 34.5625 8.28125 \nQ 37.984375 10.453125 37.984375 14.40625 \nQ 37.984375 18.0625 35.515625 20.015625 \nQ 33.0625 21.96875 24.703125 23.78125 \nL 21.578125 24.515625 \nQ 13.234375 26.265625 9.515625 29.90625 \nQ 5.8125 33.546875 5.8125 39.890625 \nQ 5.8125 47.609375 11.28125 51.796875 \nQ 16.75 56 26.8125 56 \nQ 31.78125 56 36.171875 55.265625 \nQ 40.578125 54.546875 44.28125 53.078125 \nz\n\" id=\"DejaVuSans-115\"/>\n     <path d=\"M 9.8125 72.90625 \nL 23.09375 72.90625 \nL 55.421875 11.921875 \nL 55.421875 72.90625 \nL 64.984375 72.90625 \nL 64.984375 0 \nL 51.703125 0 \nL 19.390625 60.984375 \nL 19.390625 0 \nL 9.8125 0 \nz\n\" id=\"DejaVuSans-78\"/>\n     <path d=\"M 52 44.1875 \nQ 55.375 50.25 60.0625 53.125 \nQ 64.75 56 71.09375 56 \nQ 79.640625 56 84.28125 50.015625 \nQ 88.921875 44.046875 88.921875 33.015625 \nL 88.921875 0 \nL 79.890625 0 \nL 79.890625 32.71875 \nQ 79.890625 40.578125 77.09375 44.375 \nQ 74.3125 48.1875 68.609375 48.1875 \nQ 61.625 48.1875 57.5625 43.546875 \nQ 53.515625 38.921875 53.515625 30.90625 \nL 53.515625 0 \nL 44.484375 0 \nL 44.484375 32.71875 \nQ 44.484375 40.625 41.703125 44.40625 \nQ 38.921875 48.1875 33.109375 48.1875 \nQ 26.21875 48.1875 22.15625 43.53125 \nQ 18.109375 38.875 18.109375 30.90625 \nL 18.109375 0 \nL 9.078125 0 \nL 9.078125 54.6875 \nL 18.109375 54.6875 \nL 18.109375 46.1875 \nQ 21.1875 51.21875 25.484375 53.609375 \nQ 29.78125 56 35.6875 56 \nQ 41.65625 56 45.828125 52.96875 \nQ 50 49.953125 52 44.1875 \nz\n\" id=\"DejaVuSans-109\"/>\n     <path d=\"M 9.421875 75.984375 \nL 18.40625 75.984375 \nL 18.40625 0 \nL 9.421875 0 \nz\n\" id=\"DejaVuSans-108\"/>\n     <path d=\"M 11.71875 12.40625 \nL 22.015625 12.40625 \nL 22.015625 0 \nL 11.71875 0 \nz\nM 11.71875 51.703125 \nL 22.015625 51.703125 \nL 22.015625 39.3125 \nL 11.71875 39.3125 \nz\n\" id=\"DejaVuSans-58\"/>\n     <path d=\"M 44.390625 34.1875 \nQ 47.5625 33.109375 50.5625 29.59375 \nQ 53.5625 26.078125 56.59375 19.921875 \nL 66.609375 0 \nL 56 0 \nL 46.6875 18.703125 \nQ 43.0625 26.03125 39.671875 28.421875 \nQ 36.28125 30.8125 30.421875 30.8125 \nL 19.671875 30.8125 \nL 19.671875 0 \nL 9.8125 0 \nL 9.8125 72.90625 \nL 32.078125 72.90625 \nQ 44.578125 72.90625 50.734375 67.671875 \nQ 56.890625 62.453125 56.890625 51.90625 \nQ 56.890625 45.015625 53.6875 40.46875 \nQ 50.484375 35.9375 44.390625 34.1875 \nz\nM 19.671875 64.796875 \nL 19.671875 38.921875 \nL 32.078125 38.921875 \nQ 39.203125 38.921875 42.84375 42.21875 \nQ 46.484375 45.515625 46.484375 51.90625 \nQ 46.484375 58.296875 42.84375 61.546875 \nQ 39.203125 64.796875 32.078125 64.796875 \nz\n\" id=\"DejaVuSans-82\"/>\n    </defs>\n    <g style=\"fill:#262626;\" transform=\"translate(7.330625 16.318125)scale(0.12 -0.12)\">\n     <use xlink:href=\"#DejaVuSans-77\"/>\n     <use x=\"86.279297\" xlink:href=\"#DejaVuSans-97\"/>\n     <use x=\"147.558594\" xlink:href=\"#DejaVuSans-116\"/>\n     <use x=\"186.767578\" xlink:href=\"#DejaVuSans-114\"/>\n     <use x=\"227.880859\" xlink:href=\"#DejaVuSans-105\"/>\n     <use x=\"255.664062\" xlink:href=\"#DejaVuSans-122\"/>\n     <use x=\"308.154297\" xlink:href=\"#DejaVuSans-32\"/>\n     <use x=\"339.941406\" xlink:href=\"#DejaVuSans-100\"/>\n     <use x=\"403.417969\" xlink:href=\"#DejaVuSans-101\"/>\n     <use x=\"464.941406\" xlink:href=\"#DejaVuSans-32\"/>\n     <use x=\"496.728516\" xlink:href=\"#DejaVuSans-67\"/>\n     <use x=\"566.552734\" xlink:href=\"#DejaVuSans-111\"/>\n     <use x=\"627.734375\" xlink:href=\"#DejaVuSans-110\"/>\n     <use x=\"691.113281\" xlink:href=\"#DejaVuSans-102\"/>\n     <use x=\"726.318359\" xlink:href=\"#DejaVuSans-117\"/>\n     <use x=\"789.697266\" xlink:href=\"#DejaVuSans-115\"/>\n     <use x=\"841.796875\" xlink:href=\"#DejaVuSans-105\"/>\n     <use x=\"869.580078\" xlink:href=\"#DejaVuSans-243\"/>\n     <use x=\"930.761719\" xlink:href=\"#DejaVuSans-110\"/>\n     <use x=\"994.140625\" xlink:href=\"#DejaVuSans-32\"/>\n     <use x=\"1025.927734\" xlink:href=\"#DejaVuSans-78\"/>\n     <use x=\"1100.732422\" xlink:href=\"#DejaVuSans-111\"/>\n     <use x=\"1161.914062\" xlink:href=\"#DejaVuSans-114\"/>\n     <use x=\"1201.277344\" xlink:href=\"#DejaVuSans-109\"/>\n     <use x=\"1298.689453\" xlink:href=\"#DejaVuSans-97\"/>\n     <use x=\"1359.96875\" xlink:href=\"#DejaVuSans-108\"/>\n     <use x=\"1387.751953\" xlink:href=\"#DejaVuSans-105\"/>\n     <use x=\"1415.535156\" xlink:href=\"#DejaVuSans-122\"/>\n     <use x=\"1468.025391\" xlink:href=\"#DejaVuSans-97\"/>\n     <use x=\"1529.304688\" xlink:href=\"#DejaVuSans-100\"/>\n     <use x=\"1592.78125\" xlink:href=\"#DejaVuSans-97\"/>\n     <use x=\"1654.060547\" xlink:href=\"#DejaVuSans-58\"/>\n     <use x=\"1687.751953\" xlink:href=\"#DejaVuSans-32\"/>\n     <use x=\"1719.539062\" xlink:href=\"#DejaVuSans-82\"/>\n     <use x=\"1784.521484\" xlink:href=\"#DejaVuSans-101\"/>\n     <use x=\"1846.044922\" xlink:href=\"#DejaVuSans-100\"/>\n     <use x=\"1909.521484\" xlink:href=\"#DejaVuSans-32\"/>\n     <use x=\"1941.308594\" xlink:href=\"#DejaVuSans-78\"/>\n     <use x=\"2016.113281\" xlink:href=\"#DejaVuSans-101\"/>\n     <use x=\"2077.636719\" xlink:href=\"#DejaVuSans-117\"/>\n     <use x=\"2141.015625\" xlink:href=\"#DejaVuSans-114\"/>\n     <use x=\"2179.878906\" xlink:href=\"#DejaVuSans-111\"/>\n     <use x=\"2241.060547\" xlink:href=\"#DejaVuSans-110\"/>\n     <use x=\"2304.439453\" xlink:href=\"#DejaVuSans-97\"/>\n     <use x=\"2365.71875\" xlink:href=\"#DejaVuSans-108\"/>\n    </g>\n   </g>\n  </g>\n  <g id=\"axes_2\">\n   <g id=\"patch_7\">\n    <path clip-path=\"url(#pf0ea193187)\" d=\"M 288.160625 255.718125 \nL 288.160625 254.806406 \nL 288.160625 23.229844 \nL 288.160625 22.318125 \nL 299.830625 22.318125 \nL 299.830625 23.229844 \nL 299.830625 254.806406 \nL 299.830625 255.718125 \nz\n\" style=\"fill:#ffffff;stroke:#ffffff;stroke-linejoin:miter;stroke-width:0.01;\"/>\n   </g>\n   <g id=\"matplotlib.axis_3\"/>\n   <g id=\"matplotlib.axis_4\">\n    <g id=\"ytick_3\">\n     <g id=\"line2d_1\">\n      <defs>\n       <path d=\"M 0 0 \nL 3.5 0 \n\" id=\"m7177147adb\" style=\"stroke:#262626;stroke-width:0.8;\"/>\n      </defs>\n      <g>\n       <use style=\"fill:#262626;stroke:#262626;stroke-width:0.8;\" x=\"299.830625\" xlink:href=\"#m7177147adb\" y=\"255.245829\"/>\n      </g>\n     </g>\n     <g id=\"text_12\">\n      <!-- 1000 -->\n      <g style=\"fill:#262626;\" transform=\"translate(306.830625 259.045048)scale(0.1 -0.1)\">\n       <use xlink:href=\"#DejaVuSans-49\"/>\n       <use x=\"63.623047\" xlink:href=\"#DejaVuSans-48\"/>\n       <use x=\"127.246094\" xlink:href=\"#DejaVuSans-48\"/>\n       <use x=\"190.869141\" xlink:href=\"#DejaVuSans-48\"/>\n      </g>\n     </g>\n    </g>\n    <g id=\"ytick_4\">\n     <g id=\"line2d_2\">\n      <g>\n       <use style=\"fill:#262626;stroke:#262626;stroke-width:0.8;\" x=\"299.830625\" xlink:href=\"#m7177147adb\" y=\"212.309847\"/>\n      </g>\n     </g>\n     <g id=\"text_13\">\n      <!-- 2000 -->\n      <g style=\"fill:#262626;\" transform=\"translate(306.830625 216.109066)scale(0.1 -0.1)\">\n       <use xlink:href=\"#DejaVuSans-50\"/>\n       <use x=\"63.623047\" xlink:href=\"#DejaVuSans-48\"/>\n       <use x=\"127.246094\" xlink:href=\"#DejaVuSans-48\"/>\n       <use x=\"190.869141\" xlink:href=\"#DejaVuSans-48\"/>\n      </g>\n     </g>\n    </g>\n    <g id=\"ytick_5\">\n     <g id=\"line2d_3\">\n      <g>\n       <use style=\"fill:#262626;stroke:#262626;stroke-width:0.8;\" x=\"299.830625\" xlink:href=\"#m7177147adb\" y=\"169.373865\"/>\n      </g>\n     </g>\n     <g id=\"text_14\">\n      <!-- 3000 -->\n      <defs>\n       <path d=\"M 40.578125 39.3125 \nQ 47.65625 37.796875 51.625 33 \nQ 55.609375 28.21875 55.609375 21.1875 \nQ 55.609375 10.40625 48.1875 4.484375 \nQ 40.765625 -1.421875 27.09375 -1.421875 \nQ 22.515625 -1.421875 17.65625 -0.515625 \nQ 12.796875 0.390625 7.625 2.203125 \nL 7.625 11.71875 \nQ 11.71875 9.328125 16.59375 8.109375 \nQ 21.484375 6.890625 26.8125 6.890625 \nQ 36.078125 6.890625 40.9375 10.546875 \nQ 45.796875 14.203125 45.796875 21.1875 \nQ 45.796875 27.640625 41.28125 31.265625 \nQ 36.765625 34.90625 28.71875 34.90625 \nL 20.21875 34.90625 \nL 20.21875 43.015625 \nL 29.109375 43.015625 \nQ 36.375 43.015625 40.234375 45.921875 \nQ 44.09375 48.828125 44.09375 54.296875 \nQ 44.09375 59.90625 40.109375 62.90625 \nQ 36.140625 65.921875 28.71875 65.921875 \nQ 24.65625 65.921875 20.015625 65.03125 \nQ 15.375 64.15625 9.8125 62.3125 \nL 9.8125 71.09375 \nQ 15.4375 72.65625 20.34375 73.4375 \nQ 25.25 74.21875 29.59375 74.21875 \nQ 40.828125 74.21875 47.359375 69.109375 \nQ 53.90625 64.015625 53.90625 55.328125 \nQ 53.90625 49.265625 50.4375 45.09375 \nQ 46.96875 40.921875 40.578125 39.3125 \nz\n\" id=\"DejaVuSans-51\"/>\n      </defs>\n      <g style=\"fill:#262626;\" transform=\"translate(306.830625 173.173083)scale(0.1 -0.1)\">\n       <use xlink:href=\"#DejaVuSans-51\"/>\n       <use x=\"63.623047\" xlink:href=\"#DejaVuSans-48\"/>\n       <use x=\"127.246094\" xlink:href=\"#DejaVuSans-48\"/>\n       <use x=\"190.869141\" xlink:href=\"#DejaVuSans-48\"/>\n      </g>\n     </g>\n    </g>\n    <g id=\"ytick_6\">\n     <g id=\"line2d_4\">\n      <g>\n       <use style=\"fill:#262626;stroke:#262626;stroke-width:0.8;\" x=\"299.830625\" xlink:href=\"#m7177147adb\" y=\"126.437882\"/>\n      </g>\n     </g>\n     <g id=\"text_15\">\n      <!-- 4000 -->\n      <g style=\"fill:#262626;\" transform=\"translate(306.830625 130.237101)scale(0.1 -0.1)\">\n       <use xlink:href=\"#DejaVuSans-52\"/>\n       <use x=\"63.623047\" xlink:href=\"#DejaVuSans-48\"/>\n       <use x=\"127.246094\" xlink:href=\"#DejaVuSans-48\"/>\n       <use x=\"190.869141\" xlink:href=\"#DejaVuSans-48\"/>\n      </g>\n     </g>\n    </g>\n    <g id=\"ytick_7\">\n     <g id=\"line2d_5\">\n      <g>\n       <use style=\"fill:#262626;stroke:#262626;stroke-width:0.8;\" x=\"299.830625\" xlink:href=\"#m7177147adb\" y=\"83.5019\"/>\n      </g>\n     </g>\n     <g id=\"text_16\">\n      <!-- 5000 -->\n      <g style=\"fill:#262626;\" transform=\"translate(306.830625 87.301119)scale(0.1 -0.1)\">\n       <use xlink:href=\"#DejaVuSans-53\"/>\n       <use x=\"63.623047\" xlink:href=\"#DejaVuSans-48\"/>\n       <use x=\"127.246094\" xlink:href=\"#DejaVuSans-48\"/>\n       <use x=\"190.869141\" xlink:href=\"#DejaVuSans-48\"/>\n      </g>\n     </g>\n    </g>\n    <g id=\"ytick_8\">\n     <g id=\"line2d_6\">\n      <g>\n       <use style=\"fill:#262626;stroke:#262626;stroke-width:0.8;\" x=\"299.830625\" xlink:href=\"#m7177147adb\" y=\"40.565917\"/>\n      </g>\n     </g>\n     <g id=\"text_17\">\n      <!-- 6000 -->\n      <g style=\"fill:#262626;\" transform=\"translate(306.830625 44.365136)scale(0.1 -0.1)\">\n       <use xlink:href=\"#DejaVuSans-54\"/>\n       <use x=\"63.623047\" xlink:href=\"#DejaVuSans-48\"/>\n       <use x=\"127.246094\" xlink:href=\"#DejaVuSans-48\"/>\n       <use x=\"190.869141\" xlink:href=\"#DejaVuSans-48\"/>\n      </g>\n     </g>\n    </g>\n   </g>\n   <image height=\"233\" id=\"image15eaf2d4cf\" transform=\"scale(1 -1)translate(0 -233)\" width=\"12\" x=\"288\" xlink:href=\"data:image/png;base64,\niVBORw0KGgoAAAANSUhEUgAAAAwAAADpCAYAAAAQ/NbWAAAABHNCSVQICAgIfAhkiAAAASBJREFUaIHtmFEOwzAIQ9mU+x93H5Pa7Ajti2TLo+k3yBgbSvv6fOcs8IxZKL4GjK8B42swBlVjwgxHSbStFOHNwiM5rOgQV9LCPMRxwAgl53DK25q4yDaHGwnbGncSOnBYuARowhPbmshBfsKdDY5E/eYL5MCFwwh5XYrkQBOocIdhRKlb5Qh6HRybDysNEQxLAFtDfpzoZzpwGR+wphUOMMHwnu7g1hZLACbwF0pgSQxgZd3TmTZ8P+jNxwAcXjIcJ3proHDL1kg0X+Iiwxz+fx4ChTNYg6/7OA4bQYLQwxqBJUGEBR30CIFtlf9ZN5hPnmBQeutwnZBIOs8az9ShgdLFE9ifjSYI8pLOgyIEdqkBAp04g5e4NRrosBGunx9j8v5RzGJoQQAAAABJRU5ErkJggg==\" y=\"-22\"/>\n   <g id=\"patch_8\">\n    <path d=\"M 288.160625 255.718125 \nL 288.160625 254.806406 \nL 288.160625 23.229844 \nL 288.160625 22.318125 \nL 299.830625 22.318125 \nL 299.830625 23.229844 \nL 299.830625 254.806406 \nL 299.830625 255.718125 \nz\n\" style=\"fill:none;stroke:#262626;stroke-linejoin:miter;stroke-width:0.8;\"/>\n   </g>\n  </g>\n </g>\n <defs>\n  <clipPath id=\"pb9742b184d\">\n   <rect height=\"233.4\" width=\"233.4\" x=\"34.240625\" y=\"22.318125\"/>\n  </clipPath>\n  <clipPath id=\"pf0ea193187\">\n   <rect height=\"233.4\" width=\"11.67\" x=\"288.160625\" y=\"22.318125\"/>\n  </clipPath>\n </defs>\n</svg>\n"
          },
          "metadata": {}
        }
      ]
    },
    {
      "cell_type": "markdown",
      "metadata": {
        "id": "QX7y1P3Npnhq"
      },
      "source": [
        "El modelo de perceptrón multicapa que utiliza el conjunto de etiquetas B obtuvo una precisión de 0.7852. Es decir, de la totalidad de los datos el 78.52% de los datos de validación fueron bien etiquetados. En comparación con el modelo que utiliza el conjunto de etiquetas A, el desempeño fue menor. En otros términos, el modelo MLP para el conjunto A es mejor porque obtuvo una precisión más alta."
      ]
    },
    {
      "cell_type": "markdown",
      "metadata": {
        "id": "Vdik2BiM63ah"
      },
      "source": [
        "### Caso C"
      ]
    },
    {
      "cell_type": "code",
      "metadata": {
        "id": "cy1yYz5j63ai",
        "colab": {
          "base_uri": "https://localhost:8080/",
          "height": 514
        },
        "outputId": "695e65dd-9bfd-41f9-d717-e7166c33672c"
      },
      "source": [
        "from sklearn.neural_network import MLPClassifier\n",
        "\n",
        "model = MLPClassifier(hidden_layer_sizes=(20,20), activation='relu') # Inicialice un modelo de red neuronal con 2 capas escondidas x 20 neuronas en cada capa y función de activación ReLu #\n",
        "model.fit(X_train_subC,y_train) # Ajuste el modelo con los datos del conjunto C #\n",
        "y_predict = model.predict(X_test_subC) # Realice la predicción de etiquetas con los datos de prueba del conjunto Cmm #\n",
        "\n",
        "print(f'Precisión {round(accuracy_score(y_test, y_predict),5)}')\n",
        "print(pd.DataFrame(confusion_matrix(y_test,y_predict)))\n",
        "\n",
        "plot_confusion_matrix(confusion_matrix(y_test,y_predict),\n",
        "                      classes=class_names, \n",
        "                      title='Matriz de Confusión Normalizada: Red Neuronal')"
      ],
      "execution_count": null,
      "outputs": [
        {
          "output_type": "stream",
          "name": "stdout",
          "text": [
            "Precisión 0.94483\n",
            "      0     1\n",
            "0  6952   462\n",
            "1   356  7058\n",
            "[[6952  462]\n",
            " [ 356 7058]]\n"
          ]
        },
        {
          "output_type": "display_data",
          "data": {
            "text/plain": [
              "<Figure size 432x288 with 2 Axes>"
            ],
            "image/svg+xml": "<?xml version=\"1.0\" encoding=\"utf-8\" standalone=\"no\"?>\n<!DOCTYPE svg PUBLIC \"-//W3C//DTD SVG 1.1//EN\"\n  \"http://www.w3.org/Graphics/SVG/1.1/DTD/svg11.dtd\">\n<!-- Created with matplotlib (https://matplotlib.org/) -->\n<svg height=\"293.274375pt\" version=\"1.1\" viewBox=\"0 0 339.480625 293.274375\" width=\"339.480625pt\" xmlns=\"http://www.w3.org/2000/svg\" xmlns:xlink=\"http://www.w3.org/1999/xlink\">\n <defs>\n  <style type=\"text/css\">\n*{stroke-linecap:butt;stroke-linejoin:round;}\n  </style>\n </defs>\n <g id=\"figure_1\">\n  <g id=\"patch_1\">\n   <path d=\"M 0 293.274375 \nL 339.480625 293.274375 \nL 339.480625 0 \nL 0 0 \nz\n\" style=\"fill:#ffffff;\"/>\n  </g>\n  <g id=\"axes_1\">\n   <g id=\"patch_2\">\n    <path d=\"M 34.240625 255.718125 \nL 267.640625 255.718125 \nL 267.640625 22.318125 \nL 34.240625 22.318125 \nz\n\" style=\"fill:#ffffff;\"/>\n   </g>\n   <g clip-path=\"url(#pb5c5837f1e)\">\n    <image height=\"234\" id=\"image23e8bce1e5\" transform=\"scale(1 -1)translate(0 -234)\" width=\"234\" x=\"34.240625\" xlink:href=\"data:image/png;base64,\niVBORw0KGgoAAAANSUhEUgAAAOoAAADqCAYAAACslNlOAAAABHNCSVQICAgIfAhkiAAAAuNJREFUeJzt1TENAkEARFGOihYv4IoGHycLNwigoFgkXLPJ5pP3FEzzM9vnO8aJv3K9P1ZPYLLz6gHAMaFCgFAhQKgQIFQIECoECBUChAoBQoUAoUKAUCFAqBAgVAgQKgQIFQKECgFChQChQoBQIUCoECBUCBAqBAgVAoQKAUKFAKFCgFAhQKgQIFQIECoECBUChAoBQoUAoUKAUCFAqBAgVAgQKgQIFQKECgFChQChQoBQIUCoECBUCBAqBAgVAoQKAUKFAKFCgFAhQKgQIFQIECoECBUChAoBQoUAoUKAUCFAqBAgVAgQKgQIFQKECgFChQChQoBQIUCoECBUCBAqBAgVAoQKAUKFAKFCgFAhQKgQIFQIECoECBUChAoBQoUAoUKAUCFAqBAgVAgQKgQIFQKECgFChQChQoBQIUCoECBUCBAqBAgVAoQKAUKFAKFCgFAhQKgQIFQIECoECBUChAoBQoUAoUKAUCFAqBAgVAgQKgQIFQKECgFChQChQoBQIUCoELBdbs+xegRzvV/76glM5lEhQKgQIFQIECoECBUChAoBQoUAoUKAUCFAqBAgVAgQKgQIFQKECgFChQChQoBQIUCoECBUCBAqBAgVAoQKAUKFAKFCgFAhQKgQIFQIECoECBUChAoBQoUAoUKAUCFAqBAgVAgQKgQIFQKECgFChQChQoBQIUCoECBUCBAqBAgVAoQKAUKFAKFCgFAhQKgQIFQIECoECBUChAoBQoUAoUKAUCFAqBAgVAgQKgQIFQKECgFChQChQoBQIUCoECBUCBAqBAgVAoQKAUKFAKFCgFAhQKgQIFQIECoECBUChAoBQoUAoUKAUCFAqBAgVAgQKgQIFQKECgFChQChQoBQIUCoECBUCBAqBAgVAoQKAUKFAKFCgFAhQKgQIFQIECoECBUChAoBQoUAoUKAUCFAqBAgVAgQKgQIFQKECgFChQChQoBQIUCoECBUCBAqBPwAnF4KXFl8w6kAAAAASUVORK5CYII=\" y=\"-21.718125\"/>\n   </g>\n   <g id=\"matplotlib.axis_1\">\n    <g id=\"xtick_1\">\n     <g id=\"text_1\">\n      <!-- 0 -->\n      <defs>\n       <path d=\"M 31.78125 66.40625 \nQ 24.171875 66.40625 20.328125 58.90625 \nQ 16.5 51.421875 16.5 36.375 \nQ 16.5 21.390625 20.328125 13.890625 \nQ 24.171875 6.390625 31.78125 6.390625 \nQ 39.453125 6.390625 43.28125 13.890625 \nQ 47.125 21.390625 47.125 36.375 \nQ 47.125 51.421875 43.28125 58.90625 \nQ 39.453125 66.40625 31.78125 66.40625 \nz\nM 31.78125 74.21875 \nQ 44.046875 74.21875 50.515625 64.515625 \nQ 56.984375 54.828125 56.984375 36.375 \nQ 56.984375 17.96875 50.515625 8.265625 \nQ 44.046875 -1.421875 31.78125 -1.421875 \nQ 19.53125 -1.421875 13.0625 8.265625 \nQ 6.59375 17.96875 6.59375 36.375 \nQ 6.59375 54.828125 13.0625 64.515625 \nQ 19.53125 74.21875 31.78125 74.21875 \nz\n\" id=\"DejaVuSans-48\"/>\n      </defs>\n      <g style=\"fill:#262626;\" transform=\"translate(89.409375 270.316563)scale(0.1 -0.1)\">\n       <use xlink:href=\"#DejaVuSans-48\"/>\n      </g>\n     </g>\n    </g>\n    <g id=\"xtick_2\">\n     <g id=\"text_2\">\n      <!-- 1 -->\n      <defs>\n       <path d=\"M 12.40625 8.296875 \nL 28.515625 8.296875 \nL 28.515625 63.921875 \nL 10.984375 60.40625 \nL 10.984375 69.390625 \nL 28.421875 72.90625 \nL 38.28125 72.90625 \nL 38.28125 8.296875 \nL 54.390625 8.296875 \nL 54.390625 0 \nL 12.40625 0 \nz\n\" id=\"DejaVuSans-49\"/>\n      </defs>\n      <g style=\"fill:#262626;\" transform=\"translate(206.109375 270.316563)scale(0.1 -0.1)\">\n       <use xlink:href=\"#DejaVuSans-49\"/>\n      </g>\n     </g>\n    </g>\n    <g id=\"text_3\">\n     <!-- Predicción -->\n     <defs>\n      <path d=\"M 19.671875 64.796875 \nL 19.671875 37.40625 \nL 32.078125 37.40625 \nQ 38.96875 37.40625 42.71875 40.96875 \nQ 46.484375 44.53125 46.484375 51.125 \nQ 46.484375 57.671875 42.71875 61.234375 \nQ 38.96875 64.796875 32.078125 64.796875 \nz\nM 9.8125 72.90625 \nL 32.078125 72.90625 \nQ 44.34375 72.90625 50.609375 67.359375 \nQ 56.890625 61.8125 56.890625 51.125 \nQ 56.890625 40.328125 50.609375 34.8125 \nQ 44.34375 29.296875 32.078125 29.296875 \nL 19.671875 29.296875 \nL 19.671875 0 \nL 9.8125 0 \nz\n\" id=\"DejaVuSans-80\"/>\n      <path d=\"M 41.109375 46.296875 \nQ 39.59375 47.171875 37.8125 47.578125 \nQ 36.03125 48 33.890625 48 \nQ 26.265625 48 22.1875 43.046875 \nQ 18.109375 38.09375 18.109375 28.8125 \nL 18.109375 0 \nL 9.078125 0 \nL 9.078125 54.6875 \nL 18.109375 54.6875 \nL 18.109375 46.1875 \nQ 20.953125 51.171875 25.484375 53.578125 \nQ 30.03125 56 36.53125 56 \nQ 37.453125 56 38.578125 55.875 \nQ 39.703125 55.765625 41.0625 55.515625 \nz\n\" id=\"DejaVuSans-114\"/>\n      <path d=\"M 56.203125 29.59375 \nL 56.203125 25.203125 \nL 14.890625 25.203125 \nQ 15.484375 15.921875 20.484375 11.0625 \nQ 25.484375 6.203125 34.421875 6.203125 \nQ 39.59375 6.203125 44.453125 7.46875 \nQ 49.3125 8.734375 54.109375 11.28125 \nL 54.109375 2.78125 \nQ 49.265625 0.734375 44.1875 -0.34375 \nQ 39.109375 -1.421875 33.890625 -1.421875 \nQ 20.796875 -1.421875 13.15625 6.1875 \nQ 5.515625 13.8125 5.515625 26.8125 \nQ 5.515625 40.234375 12.765625 48.109375 \nQ 20.015625 56 32.328125 56 \nQ 43.359375 56 49.78125 48.890625 \nQ 56.203125 41.796875 56.203125 29.59375 \nz\nM 47.21875 32.234375 \nQ 47.125 39.59375 43.09375 43.984375 \nQ 39.0625 48.390625 32.421875 48.390625 \nQ 24.90625 48.390625 20.390625 44.140625 \nQ 15.875 39.890625 15.1875 32.171875 \nz\n\" id=\"DejaVuSans-101\"/>\n      <path d=\"M 45.40625 46.390625 \nL 45.40625 75.984375 \nL 54.390625 75.984375 \nL 54.390625 0 \nL 45.40625 0 \nL 45.40625 8.203125 \nQ 42.578125 3.328125 38.25 0.953125 \nQ 33.9375 -1.421875 27.875 -1.421875 \nQ 17.96875 -1.421875 11.734375 6.484375 \nQ 5.515625 14.40625 5.515625 27.296875 \nQ 5.515625 40.1875 11.734375 48.09375 \nQ 17.96875 56 27.875 56 \nQ 33.9375 56 38.25 53.625 \nQ 42.578125 51.265625 45.40625 46.390625 \nz\nM 14.796875 27.296875 \nQ 14.796875 17.390625 18.875 11.75 \nQ 22.953125 6.109375 30.078125 6.109375 \nQ 37.203125 6.109375 41.296875 11.75 \nQ 45.40625 17.390625 45.40625 27.296875 \nQ 45.40625 37.203125 41.296875 42.84375 \nQ 37.203125 48.484375 30.078125 48.484375 \nQ 22.953125 48.484375 18.875 42.84375 \nQ 14.796875 37.203125 14.796875 27.296875 \nz\n\" id=\"DejaVuSans-100\"/>\n      <path d=\"M 9.421875 54.6875 \nL 18.40625 54.6875 \nL 18.40625 0 \nL 9.421875 0 \nz\nM 9.421875 75.984375 \nL 18.40625 75.984375 \nL 18.40625 64.59375 \nL 9.421875 64.59375 \nz\n\" id=\"DejaVuSans-105\"/>\n      <path d=\"M 48.78125 52.59375 \nL 48.78125 44.1875 \nQ 44.96875 46.296875 41.140625 47.34375 \nQ 37.3125 48.390625 33.40625 48.390625 \nQ 24.65625 48.390625 19.8125 42.84375 \nQ 14.984375 37.3125 14.984375 27.296875 \nQ 14.984375 17.28125 19.8125 11.734375 \nQ 24.65625 6.203125 33.40625 6.203125 \nQ 37.3125 6.203125 41.140625 7.25 \nQ 44.96875 8.296875 48.78125 10.40625 \nL 48.78125 2.09375 \nQ 45.015625 0.34375 40.984375 -0.53125 \nQ 36.96875 -1.421875 32.421875 -1.421875 \nQ 20.0625 -1.421875 12.78125 6.34375 \nQ 5.515625 14.109375 5.515625 27.296875 \nQ 5.515625 40.671875 12.859375 48.328125 \nQ 20.21875 56 33.015625 56 \nQ 37.15625 56 41.109375 55.140625 \nQ 45.0625 54.296875 48.78125 52.59375 \nz\n\" id=\"DejaVuSans-99\"/>\n      <path d=\"M 30.609375 48.390625 \nQ 23.390625 48.390625 19.1875 42.75 \nQ 14.984375 37.109375 14.984375 27.296875 \nQ 14.984375 17.484375 19.15625 11.84375 \nQ 23.34375 6.203125 30.609375 6.203125 \nQ 37.796875 6.203125 41.984375 11.859375 \nQ 46.1875 17.53125 46.1875 27.296875 \nQ 46.1875 37.015625 41.984375 42.703125 \nQ 37.796875 48.390625 30.609375 48.390625 \nz\nM 30.609375 56 \nQ 42.328125 56 49.015625 48.375 \nQ 55.71875 40.765625 55.71875 27.296875 \nQ 55.71875 13.875 49.015625 6.21875 \nQ 42.328125 -1.421875 30.609375 -1.421875 \nQ 18.84375 -1.421875 12.171875 6.21875 \nQ 5.515625 13.875 5.515625 27.296875 \nQ 5.515625 40.765625 12.171875 48.375 \nQ 18.84375 56 30.609375 56 \nz\nM 37.40625 79.984375 \nL 47.125 79.984375 \nL 31.21875 61.625 \nL 23.734375 61.625 \nz\n\" id=\"DejaVuSans-243\"/>\n      <path d=\"M 54.890625 33.015625 \nL 54.890625 0 \nL 45.90625 0 \nL 45.90625 32.71875 \nQ 45.90625 40.484375 42.875 44.328125 \nQ 39.84375 48.1875 33.796875 48.1875 \nQ 26.515625 48.1875 22.3125 43.546875 \nQ 18.109375 38.921875 18.109375 30.90625 \nL 18.109375 0 \nL 9.078125 0 \nL 9.078125 54.6875 \nL 18.109375 54.6875 \nL 18.109375 46.1875 \nQ 21.34375 51.125 25.703125 53.5625 \nQ 30.078125 56 35.796875 56 \nQ 45.21875 56 50.046875 50.171875 \nQ 54.890625 44.34375 54.890625 33.015625 \nz\n\" id=\"DejaVuSans-110\"/>\n     </defs>\n     <g style=\"fill:#262626;\" transform=\"translate(125.314844 283.994688)scale(0.1 -0.1)\">\n      <use xlink:href=\"#DejaVuSans-80\"/>\n      <use x=\"58.552734\" xlink:href=\"#DejaVuSans-114\"/>\n      <use x=\"97.416016\" xlink:href=\"#DejaVuSans-101\"/>\n      <use x=\"158.939453\" xlink:href=\"#DejaVuSans-100\"/>\n      <use x=\"222.416016\" xlink:href=\"#DejaVuSans-105\"/>\n      <use x=\"250.199219\" xlink:href=\"#DejaVuSans-99\"/>\n      <use x=\"305.179688\" xlink:href=\"#DejaVuSans-99\"/>\n      <use x=\"360.160156\" xlink:href=\"#DejaVuSans-105\"/>\n      <use x=\"387.943359\" xlink:href=\"#DejaVuSans-243\"/>\n      <use x=\"449.125\" xlink:href=\"#DejaVuSans-110\"/>\n     </g>\n    </g>\n   </g>\n   <g id=\"matplotlib.axis_2\">\n    <g id=\"ytick_1\">\n     <g id=\"text_4\">\n      <!-- 0 -->\n      <g style=\"fill:#262626;\" transform=\"translate(20.878125 84.467344)scale(0.1 -0.1)\">\n       <use xlink:href=\"#DejaVuSans-48\"/>\n      </g>\n     </g>\n    </g>\n    <g id=\"ytick_2\">\n     <g id=\"text_5\">\n      <!-- 1 -->\n      <g style=\"fill:#262626;\" transform=\"translate(20.878125 201.167344)scale(0.1 -0.1)\">\n       <use xlink:href=\"#DejaVuSans-49\"/>\n      </g>\n     </g>\n    </g>\n    <g id=\"text_6\">\n     <!-- Etiqueta -->\n     <defs>\n      <path d=\"M 9.8125 72.90625 \nL 55.90625 72.90625 \nL 55.90625 64.59375 \nL 19.671875 64.59375 \nL 19.671875 43.015625 \nL 54.390625 43.015625 \nL 54.390625 34.71875 \nL 19.671875 34.71875 \nL 19.671875 8.296875 \nL 56.78125 8.296875 \nL 56.78125 0 \nL 9.8125 0 \nz\n\" id=\"DejaVuSans-69\"/>\n      <path d=\"M 18.3125 70.21875 \nL 18.3125 54.6875 \nL 36.8125 54.6875 \nL 36.8125 47.703125 \nL 18.3125 47.703125 \nL 18.3125 18.015625 \nQ 18.3125 11.328125 20.140625 9.421875 \nQ 21.96875 7.515625 27.59375 7.515625 \nL 36.8125 7.515625 \nL 36.8125 0 \nL 27.59375 0 \nQ 17.1875 0 13.234375 3.875 \nQ 9.28125 7.765625 9.28125 18.015625 \nL 9.28125 47.703125 \nL 2.6875 47.703125 \nL 2.6875 54.6875 \nL 9.28125 54.6875 \nL 9.28125 70.21875 \nz\n\" id=\"DejaVuSans-116\"/>\n      <path d=\"M 14.796875 27.296875 \nQ 14.796875 17.390625 18.875 11.75 \nQ 22.953125 6.109375 30.078125 6.109375 \nQ 37.203125 6.109375 41.296875 11.75 \nQ 45.40625 17.390625 45.40625 27.296875 \nQ 45.40625 37.203125 41.296875 42.84375 \nQ 37.203125 48.484375 30.078125 48.484375 \nQ 22.953125 48.484375 18.875 42.84375 \nQ 14.796875 37.203125 14.796875 27.296875 \nz\nM 45.40625 8.203125 \nQ 42.578125 3.328125 38.25 0.953125 \nQ 33.9375 -1.421875 27.875 -1.421875 \nQ 17.96875 -1.421875 11.734375 6.484375 \nQ 5.515625 14.40625 5.515625 27.296875 \nQ 5.515625 40.1875 11.734375 48.09375 \nQ 17.96875 56 27.875 56 \nQ 33.9375 56 38.25 53.625 \nQ 42.578125 51.265625 45.40625 46.390625 \nL 45.40625 54.6875 \nL 54.390625 54.6875 \nL 54.390625 -20.796875 \nL 45.40625 -20.796875 \nz\n\" id=\"DejaVuSans-113\"/>\n      <path d=\"M 8.5 21.578125 \nL 8.5 54.6875 \nL 17.484375 54.6875 \nL 17.484375 21.921875 \nQ 17.484375 14.15625 20.5 10.265625 \nQ 23.53125 6.390625 29.59375 6.390625 \nQ 36.859375 6.390625 41.078125 11.03125 \nQ 45.3125 15.671875 45.3125 23.6875 \nL 45.3125 54.6875 \nL 54.296875 54.6875 \nL 54.296875 0 \nL 45.3125 0 \nL 45.3125 8.40625 \nQ 42.046875 3.421875 37.71875 1 \nQ 33.40625 -1.421875 27.6875 -1.421875 \nQ 18.265625 -1.421875 13.375 4.4375 \nQ 8.5 10.296875 8.5 21.578125 \nz\nM 31.109375 56 \nz\n\" id=\"DejaVuSans-117\"/>\n      <path d=\"M 34.28125 27.484375 \nQ 23.390625 27.484375 19.1875 25 \nQ 14.984375 22.515625 14.984375 16.5 \nQ 14.984375 11.71875 18.140625 8.90625 \nQ 21.296875 6.109375 26.703125 6.109375 \nQ 34.1875 6.109375 38.703125 11.40625 \nQ 43.21875 16.703125 43.21875 25.484375 \nL 43.21875 27.484375 \nz\nM 52.203125 31.203125 \nL 52.203125 0 \nL 43.21875 0 \nL 43.21875 8.296875 \nQ 40.140625 3.328125 35.546875 0.953125 \nQ 30.953125 -1.421875 24.3125 -1.421875 \nQ 15.921875 -1.421875 10.953125 3.296875 \nQ 6 8.015625 6 15.921875 \nQ 6 25.140625 12.171875 29.828125 \nQ 18.359375 34.515625 30.609375 34.515625 \nL 43.21875 34.515625 \nL 43.21875 35.40625 \nQ 43.21875 41.609375 39.140625 45 \nQ 35.0625 48.390625 27.6875 48.390625 \nQ 23 48.390625 18.546875 47.265625 \nQ 14.109375 46.140625 10.015625 43.890625 \nL 10.015625 52.203125 \nQ 14.9375 54.109375 19.578125 55.046875 \nQ 24.21875 56 28.609375 56 \nQ 40.484375 56 46.34375 49.84375 \nQ 52.203125 43.703125 52.203125 31.203125 \nz\n\" id=\"DejaVuSans-97\"/>\n     </defs>\n     <g style=\"fill:#262626;\" transform=\"translate(14.798438 159.970469)rotate(-90)scale(0.1 -0.1)\">\n      <use xlink:href=\"#DejaVuSans-69\"/>\n      <use x=\"63.183594\" xlink:href=\"#DejaVuSans-116\"/>\n      <use x=\"102.392578\" xlink:href=\"#DejaVuSans-105\"/>\n      <use x=\"130.175781\" xlink:href=\"#DejaVuSans-113\"/>\n      <use x=\"193.652344\" xlink:href=\"#DejaVuSans-117\"/>\n      <use x=\"257.03125\" xlink:href=\"#DejaVuSans-101\"/>\n      <use x=\"318.554688\" xlink:href=\"#DejaVuSans-116\"/>\n      <use x=\"357.763672\" xlink:href=\"#DejaVuSans-97\"/>\n     </g>\n    </g>\n   </g>\n   <g id=\"patch_3\">\n    <path d=\"M 34.240625 255.718125 \nL 34.240625 22.318125 \n\" style=\"fill:none;stroke:#262626;stroke-linecap:square;stroke-linejoin:miter;stroke-width:0.8;\"/>\n   </g>\n   <g id=\"patch_4\">\n    <path d=\"M 267.640625 255.718125 \nL 267.640625 22.318125 \n\" style=\"fill:none;stroke:#262626;stroke-linecap:square;stroke-linejoin:miter;stroke-width:0.8;\"/>\n   </g>\n   <g id=\"patch_5\">\n    <path d=\"M 34.240625 255.718125 \nL 267.640625 255.718125 \n\" style=\"fill:none;stroke:#262626;stroke-linecap:square;stroke-linejoin:miter;stroke-width:0.8;\"/>\n   </g>\n   <g id=\"patch_6\">\n    <path d=\"M 34.240625 22.318125 \nL 267.640625 22.318125 \n\" style=\"fill:none;stroke:#262626;stroke-linecap:square;stroke-linejoin:miter;stroke-width:0.8;\"/>\n   </g>\n   <g id=\"text_7\">\n    <!-- 6952 -->\n    <defs>\n     <path d=\"M 33.015625 40.375 \nQ 26.375 40.375 22.484375 35.828125 \nQ 18.609375 31.296875 18.609375 23.390625 \nQ 18.609375 15.53125 22.484375 10.953125 \nQ 26.375 6.390625 33.015625 6.390625 \nQ 39.65625 6.390625 43.53125 10.953125 \nQ 47.40625 15.53125 47.40625 23.390625 \nQ 47.40625 31.296875 43.53125 35.828125 \nQ 39.65625 40.375 33.015625 40.375 \nz\nM 52.59375 71.296875 \nL 52.59375 62.3125 \nQ 48.875 64.0625 45.09375 64.984375 \nQ 41.3125 65.921875 37.59375 65.921875 \nQ 27.828125 65.921875 22.671875 59.328125 \nQ 17.53125 52.734375 16.796875 39.40625 \nQ 19.671875 43.65625 24.015625 45.921875 \nQ 28.375 48.1875 33.59375 48.1875 \nQ 44.578125 48.1875 50.953125 41.515625 \nQ 57.328125 34.859375 57.328125 23.390625 \nQ 57.328125 12.15625 50.6875 5.359375 \nQ 44.046875 -1.421875 33.015625 -1.421875 \nQ 20.359375 -1.421875 13.671875 8.265625 \nQ 6.984375 17.96875 6.984375 36.375 \nQ 6.984375 53.65625 15.1875 63.9375 \nQ 23.390625 74.21875 37.203125 74.21875 \nQ 40.921875 74.21875 44.703125 73.484375 \nQ 48.484375 72.75 52.59375 71.296875 \nz\n\" id=\"DejaVuSans-54\"/>\n     <path d=\"M 10.984375 1.515625 \nL 10.984375 10.5 \nQ 14.703125 8.734375 18.5 7.8125 \nQ 22.3125 6.890625 25.984375 6.890625 \nQ 35.75 6.890625 40.890625 13.453125 \nQ 46.046875 20.015625 46.78125 33.40625 \nQ 43.953125 29.203125 39.59375 26.953125 \nQ 35.25 24.703125 29.984375 24.703125 \nQ 19.046875 24.703125 12.671875 31.3125 \nQ 6.296875 37.9375 6.296875 49.421875 \nQ 6.296875 60.640625 12.9375 67.421875 \nQ 19.578125 74.21875 30.609375 74.21875 \nQ 43.265625 74.21875 49.921875 64.515625 \nQ 56.59375 54.828125 56.59375 36.375 \nQ 56.59375 19.140625 48.40625 8.859375 \nQ 40.234375 -1.421875 26.421875 -1.421875 \nQ 22.703125 -1.421875 18.890625 -0.6875 \nQ 15.09375 0.046875 10.984375 1.515625 \nz\nM 30.609375 32.421875 \nQ 37.25 32.421875 41.125 36.953125 \nQ 45.015625 41.5 45.015625 49.421875 \nQ 45.015625 57.28125 41.125 61.84375 \nQ 37.25 66.40625 30.609375 66.40625 \nQ 23.96875 66.40625 20.09375 61.84375 \nQ 16.21875 57.28125 16.21875 49.421875 \nQ 16.21875 41.5 20.09375 36.953125 \nQ 23.96875 32.421875 30.609375 32.421875 \nz\n\" id=\"DejaVuSans-57\"/>\n     <path d=\"M 10.796875 72.90625 \nL 49.515625 72.90625 \nL 49.515625 64.59375 \nL 19.828125 64.59375 \nL 19.828125 46.734375 \nQ 21.96875 47.46875 24.109375 47.828125 \nQ 26.265625 48.1875 28.421875 48.1875 \nQ 40.625 48.1875 47.75 41.5 \nQ 54.890625 34.8125 54.890625 23.390625 \nQ 54.890625 11.625 47.5625 5.09375 \nQ 40.234375 -1.421875 26.90625 -1.421875 \nQ 22.3125 -1.421875 17.546875 -0.640625 \nQ 12.796875 0.140625 7.71875 1.703125 \nL 7.71875 11.625 \nQ 12.109375 9.234375 16.796875 8.0625 \nQ 21.484375 6.890625 26.703125 6.890625 \nQ 35.15625 6.890625 40.078125 11.328125 \nQ 45.015625 15.765625 45.015625 23.390625 \nQ 45.015625 31 40.078125 35.4375 \nQ 35.15625 39.890625 26.703125 39.890625 \nQ 22.75 39.890625 18.8125 39.015625 \nQ 14.890625 38.140625 10.796875 36.28125 \nz\n\" id=\"DejaVuSans-53\"/>\n     <path d=\"M 19.1875 8.296875 \nL 53.609375 8.296875 \nL 53.609375 0 \nL 7.328125 0 \nL 7.328125 8.296875 \nQ 12.9375 14.109375 22.625 23.890625 \nQ 32.328125 33.6875 34.8125 36.53125 \nQ 39.546875 41.84375 41.421875 45.53125 \nQ 43.3125 49.21875 43.3125 52.78125 \nQ 43.3125 58.59375 39.234375 62.25 \nQ 35.15625 65.921875 28.609375 65.921875 \nQ 23.96875 65.921875 18.8125 64.3125 \nQ 13.671875 62.703125 7.8125 59.421875 \nL 7.8125 69.390625 \nQ 13.765625 71.78125 18.9375 73 \nQ 24.125 74.21875 28.421875 74.21875 \nQ 39.75 74.21875 46.484375 68.546875 \nQ 53.21875 62.890625 53.21875 53.421875 \nQ 53.21875 48.921875 51.53125 44.890625 \nQ 49.859375 40.875 45.40625 35.40625 \nQ 44.1875 33.984375 37.640625 27.21875 \nQ 31.109375 20.453125 19.1875 8.296875 \nz\n\" id=\"DejaVuSans-50\"/>\n    </defs>\n    <g style=\"fill:#ffffff;\" transform=\"translate(79.865625 80.668125)scale(0.1 -0.1)\">\n     <use xlink:href=\"#DejaVuSans-54\"/>\n     <use x=\"63.623047\" xlink:href=\"#DejaVuSans-57\"/>\n     <use x=\"127.246094\" xlink:href=\"#DejaVuSans-53\"/>\n     <use x=\"190.869141\" xlink:href=\"#DejaVuSans-50\"/>\n    </g>\n   </g>\n   <g id=\"text_8\">\n    <!-- 462 -->\n    <defs>\n     <path d=\"M 37.796875 64.3125 \nL 12.890625 25.390625 \nL 37.796875 25.390625 \nz\nM 35.203125 72.90625 \nL 47.609375 72.90625 \nL 47.609375 25.390625 \nL 58.015625 25.390625 \nL 58.015625 17.1875 \nL 47.609375 17.1875 \nL 47.609375 0 \nL 37.796875 0 \nL 37.796875 17.1875 \nL 4.890625 17.1875 \nL 4.890625 26.703125 \nz\n\" id=\"DejaVuSans-52\"/>\n    </defs>\n    <g transform=\"translate(199.746875 80.668125)scale(0.1 -0.1)\">\n     <use xlink:href=\"#DejaVuSans-52\"/>\n     <use x=\"63.623047\" xlink:href=\"#DejaVuSans-54\"/>\n     <use x=\"127.246094\" xlink:href=\"#DejaVuSans-50\"/>\n    </g>\n   </g>\n   <g id=\"text_9\">\n    <!-- 356 -->\n    <defs>\n     <path d=\"M 40.578125 39.3125 \nQ 47.65625 37.796875 51.625 33 \nQ 55.609375 28.21875 55.609375 21.1875 \nQ 55.609375 10.40625 48.1875 4.484375 \nQ 40.765625 -1.421875 27.09375 -1.421875 \nQ 22.515625 -1.421875 17.65625 -0.515625 \nQ 12.796875 0.390625 7.625 2.203125 \nL 7.625 11.71875 \nQ 11.71875 9.328125 16.59375 8.109375 \nQ 21.484375 6.890625 26.8125 6.890625 \nQ 36.078125 6.890625 40.9375 10.546875 \nQ 45.796875 14.203125 45.796875 21.1875 \nQ 45.796875 27.640625 41.28125 31.265625 \nQ 36.765625 34.90625 28.71875 34.90625 \nL 20.21875 34.90625 \nL 20.21875 43.015625 \nL 29.109375 43.015625 \nQ 36.375 43.015625 40.234375 45.921875 \nQ 44.09375 48.828125 44.09375 54.296875 \nQ 44.09375 59.90625 40.109375 62.90625 \nQ 36.140625 65.921875 28.71875 65.921875 \nQ 24.65625 65.921875 20.015625 65.03125 \nQ 15.375 64.15625 9.8125 62.3125 \nL 9.8125 71.09375 \nQ 15.4375 72.65625 20.34375 73.4375 \nQ 25.25 74.21875 29.59375 74.21875 \nQ 40.828125 74.21875 47.359375 69.109375 \nQ 53.90625 64.015625 53.90625 55.328125 \nQ 53.90625 49.265625 50.4375 45.09375 \nQ 46.96875 40.921875 40.578125 39.3125 \nz\n\" id=\"DejaVuSans-51\"/>\n    </defs>\n    <g transform=\"translate(83.046875 197.368125)scale(0.1 -0.1)\">\n     <use xlink:href=\"#DejaVuSans-51\"/>\n     <use x=\"63.623047\" xlink:href=\"#DejaVuSans-53\"/>\n     <use x=\"127.246094\" xlink:href=\"#DejaVuSans-54\"/>\n    </g>\n   </g>\n   <g id=\"text_10\">\n    <!-- 7058 -->\n    <defs>\n     <path d=\"M 8.203125 72.90625 \nL 55.078125 72.90625 \nL 55.078125 68.703125 \nL 28.609375 0 \nL 18.3125 0 \nL 43.21875 64.59375 \nL 8.203125 64.59375 \nz\n\" id=\"DejaVuSans-55\"/>\n     <path d=\"M 31.78125 34.625 \nQ 24.75 34.625 20.71875 30.859375 \nQ 16.703125 27.09375 16.703125 20.515625 \nQ 16.703125 13.921875 20.71875 10.15625 \nQ 24.75 6.390625 31.78125 6.390625 \nQ 38.8125 6.390625 42.859375 10.171875 \nQ 46.921875 13.96875 46.921875 20.515625 \nQ 46.921875 27.09375 42.890625 30.859375 \nQ 38.875 34.625 31.78125 34.625 \nz\nM 21.921875 38.8125 \nQ 15.578125 40.375 12.03125 44.71875 \nQ 8.5 49.078125 8.5 55.328125 \nQ 8.5 64.0625 14.71875 69.140625 \nQ 20.953125 74.21875 31.78125 74.21875 \nQ 42.671875 74.21875 48.875 69.140625 \nQ 55.078125 64.0625 55.078125 55.328125 \nQ 55.078125 49.078125 51.53125 44.71875 \nQ 48 40.375 41.703125 38.8125 \nQ 48.828125 37.15625 52.796875 32.3125 \nQ 56.78125 27.484375 56.78125 20.515625 \nQ 56.78125 9.90625 50.3125 4.234375 \nQ 43.84375 -1.421875 31.78125 -1.421875 \nQ 19.734375 -1.421875 13.25 4.234375 \nQ 6.78125 9.90625 6.78125 20.515625 \nQ 6.78125 27.484375 10.78125 32.3125 \nQ 14.796875 37.15625 21.921875 38.8125 \nz\nM 18.3125 54.390625 \nQ 18.3125 48.734375 21.84375 45.5625 \nQ 25.390625 42.390625 31.78125 42.390625 \nQ 38.140625 42.390625 41.71875 45.5625 \nQ 45.3125 48.734375 45.3125 54.390625 \nQ 45.3125 60.0625 41.71875 63.234375 \nQ 38.140625 66.40625 31.78125 66.40625 \nQ 25.390625 66.40625 21.84375 63.234375 \nQ 18.3125 60.0625 18.3125 54.390625 \nz\n\" id=\"DejaVuSans-56\"/>\n    </defs>\n    <g style=\"fill:#ffffff;\" transform=\"translate(196.565625 197.368125)scale(0.1 -0.1)\">\n     <use xlink:href=\"#DejaVuSans-55\"/>\n     <use x=\"63.623047\" xlink:href=\"#DejaVuSans-48\"/>\n     <use x=\"127.246094\" xlink:href=\"#DejaVuSans-53\"/>\n     <use x=\"190.869141\" xlink:href=\"#DejaVuSans-56\"/>\n    </g>\n   </g>\n   <g id=\"text_11\">\n    <!-- Matriz de Confusión Normalizada: Red Neuronal -->\n    <defs>\n     <path d=\"M 9.8125 72.90625 \nL 24.515625 72.90625 \nL 43.109375 23.296875 \nL 61.8125 72.90625 \nL 76.515625 72.90625 \nL 76.515625 0 \nL 66.890625 0 \nL 66.890625 64.015625 \nL 48.09375 14.015625 \nL 38.1875 14.015625 \nL 19.390625 64.015625 \nL 19.390625 0 \nL 9.8125 0 \nz\n\" id=\"DejaVuSans-77\"/>\n     <path d=\"M 5.515625 54.6875 \nL 48.1875 54.6875 \nL 48.1875 46.484375 \nL 14.40625 7.171875 \nL 48.1875 7.171875 \nL 48.1875 0 \nL 4.296875 0 \nL 4.296875 8.203125 \nL 38.09375 47.515625 \nL 5.515625 47.515625 \nz\n\" id=\"DejaVuSans-122\"/>\n     <path id=\"DejaVuSans-32\"/>\n     <path d=\"M 64.40625 67.28125 \nL 64.40625 56.890625 \nQ 59.421875 61.53125 53.78125 63.8125 \nQ 48.140625 66.109375 41.796875 66.109375 \nQ 29.296875 66.109375 22.65625 58.46875 \nQ 16.015625 50.828125 16.015625 36.375 \nQ 16.015625 21.96875 22.65625 14.328125 \nQ 29.296875 6.6875 41.796875 6.6875 \nQ 48.140625 6.6875 53.78125 8.984375 \nQ 59.421875 11.28125 64.40625 15.921875 \nL 64.40625 5.609375 \nQ 59.234375 2.09375 53.4375 0.328125 \nQ 47.65625 -1.421875 41.21875 -1.421875 \nQ 24.65625 -1.421875 15.125 8.703125 \nQ 5.609375 18.84375 5.609375 36.375 \nQ 5.609375 53.953125 15.125 64.078125 \nQ 24.65625 74.21875 41.21875 74.21875 \nQ 47.75 74.21875 53.53125 72.484375 \nQ 59.328125 70.75 64.40625 67.28125 \nz\n\" id=\"DejaVuSans-67\"/>\n     <path d=\"M 30.609375 48.390625 \nQ 23.390625 48.390625 19.1875 42.75 \nQ 14.984375 37.109375 14.984375 27.296875 \nQ 14.984375 17.484375 19.15625 11.84375 \nQ 23.34375 6.203125 30.609375 6.203125 \nQ 37.796875 6.203125 41.984375 11.859375 \nQ 46.1875 17.53125 46.1875 27.296875 \nQ 46.1875 37.015625 41.984375 42.703125 \nQ 37.796875 48.390625 30.609375 48.390625 \nz\nM 30.609375 56 \nQ 42.328125 56 49.015625 48.375 \nQ 55.71875 40.765625 55.71875 27.296875 \nQ 55.71875 13.875 49.015625 6.21875 \nQ 42.328125 -1.421875 30.609375 -1.421875 \nQ 18.84375 -1.421875 12.171875 6.21875 \nQ 5.515625 13.875 5.515625 27.296875 \nQ 5.515625 40.765625 12.171875 48.375 \nQ 18.84375 56 30.609375 56 \nz\n\" id=\"DejaVuSans-111\"/>\n     <path d=\"M 37.109375 75.984375 \nL 37.109375 68.5 \nL 28.515625 68.5 \nQ 23.6875 68.5 21.796875 66.546875 \nQ 19.921875 64.59375 19.921875 59.515625 \nL 19.921875 54.6875 \nL 34.71875 54.6875 \nL 34.71875 47.703125 \nL 19.921875 47.703125 \nL 19.921875 0 \nL 10.890625 0 \nL 10.890625 47.703125 \nL 2.296875 47.703125 \nL 2.296875 54.6875 \nL 10.890625 54.6875 \nL 10.890625 58.5 \nQ 10.890625 67.625 15.140625 71.796875 \nQ 19.390625 75.984375 28.609375 75.984375 \nz\n\" id=\"DejaVuSans-102\"/>\n     <path d=\"M 44.28125 53.078125 \nL 44.28125 44.578125 \nQ 40.484375 46.53125 36.375 47.5 \nQ 32.28125 48.484375 27.875 48.484375 \nQ 21.1875 48.484375 17.84375 46.4375 \nQ 14.5 44.390625 14.5 40.28125 \nQ 14.5 37.15625 16.890625 35.375 \nQ 19.28125 33.59375 26.515625 31.984375 \nL 29.59375 31.296875 \nQ 39.15625 29.25 43.1875 25.515625 \nQ 47.21875 21.78125 47.21875 15.09375 \nQ 47.21875 7.46875 41.1875 3.015625 \nQ 35.15625 -1.421875 24.609375 -1.421875 \nQ 20.21875 -1.421875 15.453125 -0.5625 \nQ 10.6875 0.296875 5.421875 2 \nL 5.421875 11.28125 \nQ 10.40625 8.6875 15.234375 7.390625 \nQ 20.0625 6.109375 24.8125 6.109375 \nQ 31.15625 6.109375 34.5625 8.28125 \nQ 37.984375 10.453125 37.984375 14.40625 \nQ 37.984375 18.0625 35.515625 20.015625 \nQ 33.0625 21.96875 24.703125 23.78125 \nL 21.578125 24.515625 \nQ 13.234375 26.265625 9.515625 29.90625 \nQ 5.8125 33.546875 5.8125 39.890625 \nQ 5.8125 47.609375 11.28125 51.796875 \nQ 16.75 56 26.8125 56 \nQ 31.78125 56 36.171875 55.265625 \nQ 40.578125 54.546875 44.28125 53.078125 \nz\n\" id=\"DejaVuSans-115\"/>\n     <path d=\"M 9.8125 72.90625 \nL 23.09375 72.90625 \nL 55.421875 11.921875 \nL 55.421875 72.90625 \nL 64.984375 72.90625 \nL 64.984375 0 \nL 51.703125 0 \nL 19.390625 60.984375 \nL 19.390625 0 \nL 9.8125 0 \nz\n\" id=\"DejaVuSans-78\"/>\n     <path d=\"M 52 44.1875 \nQ 55.375 50.25 60.0625 53.125 \nQ 64.75 56 71.09375 56 \nQ 79.640625 56 84.28125 50.015625 \nQ 88.921875 44.046875 88.921875 33.015625 \nL 88.921875 0 \nL 79.890625 0 \nL 79.890625 32.71875 \nQ 79.890625 40.578125 77.09375 44.375 \nQ 74.3125 48.1875 68.609375 48.1875 \nQ 61.625 48.1875 57.5625 43.546875 \nQ 53.515625 38.921875 53.515625 30.90625 \nL 53.515625 0 \nL 44.484375 0 \nL 44.484375 32.71875 \nQ 44.484375 40.625 41.703125 44.40625 \nQ 38.921875 48.1875 33.109375 48.1875 \nQ 26.21875 48.1875 22.15625 43.53125 \nQ 18.109375 38.875 18.109375 30.90625 \nL 18.109375 0 \nL 9.078125 0 \nL 9.078125 54.6875 \nL 18.109375 54.6875 \nL 18.109375 46.1875 \nQ 21.1875 51.21875 25.484375 53.609375 \nQ 29.78125 56 35.6875 56 \nQ 41.65625 56 45.828125 52.96875 \nQ 50 49.953125 52 44.1875 \nz\n\" id=\"DejaVuSans-109\"/>\n     <path d=\"M 9.421875 75.984375 \nL 18.40625 75.984375 \nL 18.40625 0 \nL 9.421875 0 \nz\n\" id=\"DejaVuSans-108\"/>\n     <path d=\"M 11.71875 12.40625 \nL 22.015625 12.40625 \nL 22.015625 0 \nL 11.71875 0 \nz\nM 11.71875 51.703125 \nL 22.015625 51.703125 \nL 22.015625 39.3125 \nL 11.71875 39.3125 \nz\n\" id=\"DejaVuSans-58\"/>\n     <path d=\"M 44.390625 34.1875 \nQ 47.5625 33.109375 50.5625 29.59375 \nQ 53.5625 26.078125 56.59375 19.921875 \nL 66.609375 0 \nL 56 0 \nL 46.6875 18.703125 \nQ 43.0625 26.03125 39.671875 28.421875 \nQ 36.28125 30.8125 30.421875 30.8125 \nL 19.671875 30.8125 \nL 19.671875 0 \nL 9.8125 0 \nL 9.8125 72.90625 \nL 32.078125 72.90625 \nQ 44.578125 72.90625 50.734375 67.671875 \nQ 56.890625 62.453125 56.890625 51.90625 \nQ 56.890625 45.015625 53.6875 40.46875 \nQ 50.484375 35.9375 44.390625 34.1875 \nz\nM 19.671875 64.796875 \nL 19.671875 38.921875 \nL 32.078125 38.921875 \nQ 39.203125 38.921875 42.84375 42.21875 \nQ 46.484375 45.515625 46.484375 51.90625 \nQ 46.484375 58.296875 42.84375 61.546875 \nQ 39.203125 64.796875 32.078125 64.796875 \nz\n\" id=\"DejaVuSans-82\"/>\n    </defs>\n    <g style=\"fill:#262626;\" transform=\"translate(7.330625 16.318125)scale(0.12 -0.12)\">\n     <use xlink:href=\"#DejaVuSans-77\"/>\n     <use x=\"86.279297\" xlink:href=\"#DejaVuSans-97\"/>\n     <use x=\"147.558594\" xlink:href=\"#DejaVuSans-116\"/>\n     <use x=\"186.767578\" xlink:href=\"#DejaVuSans-114\"/>\n     <use x=\"227.880859\" xlink:href=\"#DejaVuSans-105\"/>\n     <use x=\"255.664062\" xlink:href=\"#DejaVuSans-122\"/>\n     <use x=\"308.154297\" xlink:href=\"#DejaVuSans-32\"/>\n     <use x=\"339.941406\" xlink:href=\"#DejaVuSans-100\"/>\n     <use x=\"403.417969\" xlink:href=\"#DejaVuSans-101\"/>\n     <use x=\"464.941406\" xlink:href=\"#DejaVuSans-32\"/>\n     <use x=\"496.728516\" xlink:href=\"#DejaVuSans-67\"/>\n     <use x=\"566.552734\" xlink:href=\"#DejaVuSans-111\"/>\n     <use x=\"627.734375\" xlink:href=\"#DejaVuSans-110\"/>\n     <use x=\"691.113281\" xlink:href=\"#DejaVuSans-102\"/>\n     <use x=\"726.318359\" xlink:href=\"#DejaVuSans-117\"/>\n     <use x=\"789.697266\" xlink:href=\"#DejaVuSans-115\"/>\n     <use x=\"841.796875\" xlink:href=\"#DejaVuSans-105\"/>\n     <use x=\"869.580078\" xlink:href=\"#DejaVuSans-243\"/>\n     <use x=\"930.761719\" xlink:href=\"#DejaVuSans-110\"/>\n     <use x=\"994.140625\" xlink:href=\"#DejaVuSans-32\"/>\n     <use x=\"1025.927734\" xlink:href=\"#DejaVuSans-78\"/>\n     <use x=\"1100.732422\" xlink:href=\"#DejaVuSans-111\"/>\n     <use x=\"1161.914062\" xlink:href=\"#DejaVuSans-114\"/>\n     <use x=\"1201.277344\" xlink:href=\"#DejaVuSans-109\"/>\n     <use x=\"1298.689453\" xlink:href=\"#DejaVuSans-97\"/>\n     <use x=\"1359.96875\" xlink:href=\"#DejaVuSans-108\"/>\n     <use x=\"1387.751953\" xlink:href=\"#DejaVuSans-105\"/>\n     <use x=\"1415.535156\" xlink:href=\"#DejaVuSans-122\"/>\n     <use x=\"1468.025391\" xlink:href=\"#DejaVuSans-97\"/>\n     <use x=\"1529.304688\" xlink:href=\"#DejaVuSans-100\"/>\n     <use x=\"1592.78125\" xlink:href=\"#DejaVuSans-97\"/>\n     <use x=\"1654.060547\" xlink:href=\"#DejaVuSans-58\"/>\n     <use x=\"1687.751953\" xlink:href=\"#DejaVuSans-32\"/>\n     <use x=\"1719.539062\" xlink:href=\"#DejaVuSans-82\"/>\n     <use x=\"1784.521484\" xlink:href=\"#DejaVuSans-101\"/>\n     <use x=\"1846.044922\" xlink:href=\"#DejaVuSans-100\"/>\n     <use x=\"1909.521484\" xlink:href=\"#DejaVuSans-32\"/>\n     <use x=\"1941.308594\" xlink:href=\"#DejaVuSans-78\"/>\n     <use x=\"2016.113281\" xlink:href=\"#DejaVuSans-101\"/>\n     <use x=\"2077.636719\" xlink:href=\"#DejaVuSans-117\"/>\n     <use x=\"2141.015625\" xlink:href=\"#DejaVuSans-114\"/>\n     <use x=\"2179.878906\" xlink:href=\"#DejaVuSans-111\"/>\n     <use x=\"2241.060547\" xlink:href=\"#DejaVuSans-110\"/>\n     <use x=\"2304.439453\" xlink:href=\"#DejaVuSans-97\"/>\n     <use x=\"2365.71875\" xlink:href=\"#DejaVuSans-108\"/>\n    </g>\n   </g>\n  </g>\n  <g id=\"axes_2\">\n   <g id=\"patch_7\">\n    <path clip-path=\"url(#pd16a4e864a)\" d=\"M 288.160625 255.718125 \nL 288.160625 254.806406 \nL 288.160625 23.229844 \nL 288.160625 22.318125 \nL 299.830625 22.318125 \nL 299.830625 23.229844 \nL 299.830625 254.806406 \nL 299.830625 255.718125 \nz\n\" style=\"fill:#ffffff;stroke:#ffffff;stroke-linejoin:miter;stroke-width:0.01;\"/>\n   </g>\n   <g id=\"matplotlib.axis_3\"/>\n   <g id=\"matplotlib.axis_4\">\n    <g id=\"ytick_3\">\n     <g id=\"line2d_1\">\n      <defs>\n       <path d=\"M 0 0 \nL 3.5 0 \n\" id=\"m2e9f6a94f1\" style=\"stroke:#262626;stroke-width:0.8;\"/>\n      </defs>\n      <g>\n       <use style=\"fill:#262626;stroke:#262626;stroke-width:0.8;\" x=\"299.830625\" xlink:href=\"#m2e9f6a94f1\" y=\"233.290551\"/>\n      </g>\n     </g>\n     <g id=\"text_12\">\n      <!-- 1000 -->\n      <g style=\"fill:#262626;\" transform=\"translate(306.830625 237.08977)scale(0.1 -0.1)\">\n       <use xlink:href=\"#DejaVuSans-49\"/>\n       <use x=\"63.623047\" xlink:href=\"#DejaVuSans-48\"/>\n       <use x=\"127.246094\" xlink:href=\"#DejaVuSans-48\"/>\n       <use x=\"190.869141\" xlink:href=\"#DejaVuSans-48\"/>\n      </g>\n     </g>\n    </g>\n    <g id=\"ytick_4\">\n     <g id=\"line2d_2\">\n      <g>\n       <use style=\"fill:#262626;stroke:#262626;stroke-width:0.8;\" x=\"299.830625\" xlink:href=\"#m2e9f6a94f1\" y=\"198.465126\"/>\n      </g>\n     </g>\n     <g id=\"text_13\">\n      <!-- 2000 -->\n      <g style=\"fill:#262626;\" transform=\"translate(306.830625 202.264345)scale(0.1 -0.1)\">\n       <use xlink:href=\"#DejaVuSans-50\"/>\n       <use x=\"63.623047\" xlink:href=\"#DejaVuSans-48\"/>\n       <use x=\"127.246094\" xlink:href=\"#DejaVuSans-48\"/>\n       <use x=\"190.869141\" xlink:href=\"#DejaVuSans-48\"/>\n      </g>\n     </g>\n    </g>\n    <g id=\"ytick_5\">\n     <g id=\"line2d_3\">\n      <g>\n       <use style=\"fill:#262626;stroke:#262626;stroke-width:0.8;\" x=\"299.830625\" xlink:href=\"#m2e9f6a94f1\" y=\"163.639701\"/>\n      </g>\n     </g>\n     <g id=\"text_14\">\n      <!-- 3000 -->\n      <g style=\"fill:#262626;\" transform=\"translate(306.830625 167.438919)scale(0.1 -0.1)\">\n       <use xlink:href=\"#DejaVuSans-51\"/>\n       <use x=\"63.623047\" xlink:href=\"#DejaVuSans-48\"/>\n       <use x=\"127.246094\" xlink:href=\"#DejaVuSans-48\"/>\n       <use x=\"190.869141\" xlink:href=\"#DejaVuSans-48\"/>\n      </g>\n     </g>\n    </g>\n    <g id=\"ytick_6\">\n     <g id=\"line2d_4\">\n      <g>\n       <use style=\"fill:#262626;stroke:#262626;stroke-width:0.8;\" x=\"299.830625\" xlink:href=\"#m2e9f6a94f1\" y=\"128.814275\"/>\n      </g>\n     </g>\n     <g id=\"text_15\">\n      <!-- 4000 -->\n      <g style=\"fill:#262626;\" transform=\"translate(306.830625 132.613494)scale(0.1 -0.1)\">\n       <use xlink:href=\"#DejaVuSans-52\"/>\n       <use x=\"63.623047\" xlink:href=\"#DejaVuSans-48\"/>\n       <use x=\"127.246094\" xlink:href=\"#DejaVuSans-48\"/>\n       <use x=\"190.869141\" xlink:href=\"#DejaVuSans-48\"/>\n      </g>\n     </g>\n    </g>\n    <g id=\"ytick_7\">\n     <g id=\"line2d_5\">\n      <g>\n       <use style=\"fill:#262626;stroke:#262626;stroke-width:0.8;\" x=\"299.830625\" xlink:href=\"#m2e9f6a94f1\" y=\"93.98885\"/>\n      </g>\n     </g>\n     <g id=\"text_16\">\n      <!-- 5000 -->\n      <g style=\"fill:#262626;\" transform=\"translate(306.830625 97.788069)scale(0.1 -0.1)\">\n       <use xlink:href=\"#DejaVuSans-53\"/>\n       <use x=\"63.623047\" xlink:href=\"#DejaVuSans-48\"/>\n       <use x=\"127.246094\" xlink:href=\"#DejaVuSans-48\"/>\n       <use x=\"190.869141\" xlink:href=\"#DejaVuSans-48\"/>\n      </g>\n     </g>\n    </g>\n    <g id=\"ytick_8\">\n     <g id=\"line2d_6\">\n      <g>\n       <use style=\"fill:#262626;stroke:#262626;stroke-width:0.8;\" x=\"299.830625\" xlink:href=\"#m2e9f6a94f1\" y=\"59.163425\"/>\n      </g>\n     </g>\n     <g id=\"text_17\">\n      <!-- 6000 -->\n      <g style=\"fill:#262626;\" transform=\"translate(306.830625 62.962644)scale(0.1 -0.1)\">\n       <use xlink:href=\"#DejaVuSans-54\"/>\n       <use x=\"63.623047\" xlink:href=\"#DejaVuSans-48\"/>\n       <use x=\"127.246094\" xlink:href=\"#DejaVuSans-48\"/>\n       <use x=\"190.869141\" xlink:href=\"#DejaVuSans-48\"/>\n      </g>\n     </g>\n    </g>\n    <g id=\"ytick_9\">\n     <g id=\"line2d_7\">\n      <g>\n       <use style=\"fill:#262626;stroke:#262626;stroke-width:0.8;\" x=\"299.830625\" xlink:href=\"#m2e9f6a94f1\" y=\"24.338\"/>\n      </g>\n     </g>\n     <g id=\"text_18\">\n      <!-- 7000 -->\n      <g style=\"fill:#262626;\" transform=\"translate(306.830625 28.137218)scale(0.1 -0.1)\">\n       <use xlink:href=\"#DejaVuSans-55\"/>\n       <use x=\"63.623047\" xlink:href=\"#DejaVuSans-48\"/>\n       <use x=\"127.246094\" xlink:href=\"#DejaVuSans-48\"/>\n       <use x=\"190.869141\" xlink:href=\"#DejaVuSans-48\"/>\n      </g>\n     </g>\n    </g>\n   </g>\n   <image height=\"233\" id=\"imaged9de76da31\" transform=\"scale(1 -1)translate(0 -233)\" width=\"12\" x=\"288\" xlink:href=\"data:image/png;base64,\niVBORw0KGgoAAAANSUhEUgAAAAwAAADpCAYAAAAQ/NbWAAAABHNCSVQICAgIfAhkiAAAASBJREFUaIHtmFEOwzAIQ9mU+x93H5Pa7Ajti2TLo+k3yBgbSvv6fOcs8IxZKL4GjK8B42swBlVjwgxHSbStFOHNwiM5rOgQV9LCPMRxwAgl53DK25q4yDaHGwnbGncSOnBYuARowhPbmshBfsKdDY5E/eYL5MCFwwh5XYrkQBOocIdhRKlb5Qh6HRybDysNEQxLAFtDfpzoZzpwGR+wphUOMMHwnu7g1hZLACbwF0pgSQxgZd3TmTZ8P+jNxwAcXjIcJ3proHDL1kg0X+Iiwxz+fx4ChTNYg6/7OA4bQYLQwxqBJUGEBR30CIFtlf9ZN5hPnmBQeutwnZBIOs8az9ShgdLFE9ifjSYI8pLOgyIEdqkBAp04g5e4NRrosBGunx9j8v5RzGJoQQAAAABJRU5ErkJggg==\" y=\"-22\"/>\n   <g id=\"patch_8\">\n    <path d=\"M 288.160625 255.718125 \nL 288.160625 254.806406 \nL 288.160625 23.229844 \nL 288.160625 22.318125 \nL 299.830625 22.318125 \nL 299.830625 23.229844 \nL 299.830625 254.806406 \nL 299.830625 255.718125 \nz\n\" style=\"fill:none;stroke:#262626;stroke-linejoin:miter;stroke-width:0.8;\"/>\n   </g>\n  </g>\n </g>\n <defs>\n  <clipPath id=\"pb5c5837f1e\">\n   <rect height=\"233.4\" width=\"233.4\" x=\"34.240625\" y=\"22.318125\"/>\n  </clipPath>\n  <clipPath id=\"pd16a4e864a\">\n   <rect height=\"233.4\" width=\"11.67\" x=\"288.160625\" y=\"22.318125\"/>\n  </clipPath>\n </defs>\n</svg>\n"
          },
          "metadata": {}
        }
      ]
    },
    {
      "cell_type": "markdown",
      "metadata": {
        "id": "A0fwVgzxqBif"
      },
      "source": [
        "El modelo de perceptrón multicapa que utiliza el conjunto de etiquetas C obtuvo una precisión de 0.94483. Es decir, de la totalidad de los datos el 94.483% de los datos de validación fueron bien etiquetados. En comparación con los modelos anteriores, el modelo actual es mejor, ya que etiqueta correctamente una cantidad mayor de datos. Cabe mencionar que la precisión del modelo A se acerca en mayor medida a la precisión del modelo C, que el modelo B. Dicho fenomeno se debe a que, como se menciono anteriormente, las etiquetas A son aquellas con mayor poder predictivo. En otros términos el modelo A y C difieren en precisión debido a la inclusión de las etiquetas B."
      ]
    },
    {
      "cell_type": "markdown",
      "metadata": {
        "id": "ORiPCgyI63ai"
      },
      "source": [
        "### Conclusiones Parte 2\n",
        "\n",
        "\n",
        "Para analizar los resultado de la parte 2 se trato la diferencia en el desempeño en base a 2 enfoques: el modelo y el conjunto de etiquetas. En primer lugar, se reconoció que los modelos de perceptrón multicapa tienen mejores precisiones que los modelos de regresión logistica. Independiente del conjunto de etiquetas. De hecho, su superioridad es considerable, ya que la diferencia absoluta entre las precisiones es de aproximadamente 0.2. Es decir, los modelos MLP clasifican correctamente 20% mas datos que los modelos de regresión. Para ejemplificar ese hecho se compara la modelo de regresión logistica con todas las etiquetas (C) y el modelo MLP con las etiquetas con menor IV (B). La precisión del primero es de 0.60777 y del segundo es 0.7852. Se evidencia una diferencia absoluta de 0.17743. Por lo que el modelo MLP etiqueta correctamente 17.743% más datos de validación.\n",
        "\n",
        "Con relación a los conjuntos de etiquetas. Se identifico que los modelos C tienen las mejores precisiones, independiente del modelo. Esto se debe a que C trabaja con todas las etiquetas, de modo que incluye el poder predictivo de estas en la clasificación. Por su parte, los modelos A tienen la segunda mejor precisión. Lo cual se debe a que trabajan con las etiquetas con mayor poder predictivo. Es decir, los modelos que trabajan con las etiquetas A tienen buen desempeño debido a que utilizan etiquetas que más repercuten sobre la clasificación. Por último, los modelos B tienen los valores más bajos de precisión porque utilizan aquellas etiquetas con IV más bajo."
      ]
    },
    {
      "cell_type": "markdown",
      "metadata": {
        "id": "h5VYgfMB63aj"
      },
      "source": [
        "# PARTE 3\n",
        "\n",
        "Los resultados obtenidos para las redes neuronales anteriores únicamente corresponden a una arquitectura. Un proceso necesario e importante en casos de estudio como este es la búsqueda de hiperparámetros, en este caso, el número de neuronas más adecuado (al menos dentro de cierto rango, este proceso también se conoce como [GridSearch](https://towardsdatascience.com/grid-search-for-model-tuning-3319b259367e)).\n",
        "\n",
        "**Divida el conjunto de datos de prueba en dos mitades: datos de validación y datos de prueba. Utilice los datos de validación para realizar una evaluación preliminar de cada modelo.** Utilice `train_test_split` para esta parte.\n",
        "\n",
        "Utilice todos los descriptores para esta prueba y realice las siguientes búsquedas:\n",
        "\n",
        "- Caso A: 1 capa escondida $\\times$ {5, 10, 20, 50, 100} neuronas.\n",
        "- Caso B: 2 capas escondidas $\\times$ {5, 10, 20, 50, 100} neuronas.\n",
        "- Caso C: 3 capas escondidas $\\times$ {5, 10, 20, 50, 100} neuronas.\n",
        "\n",
        "Utilice `matplotlib.pyplot` para graficar la precisión en los datos de validación, seleccione el mejor modelo, y obtenga una evaluación final para esta selección utilizando los datos de prueba.\n",
        "\n",
        "### Caso A"
      ]
    },
    {
      "cell_type": "code",
      "metadata": {
        "id": "01QSlV-L63aj",
        "colab": {
          "base_uri": "https://localhost:8080/"
        },
        "outputId": "bdb50bad-c805-4520-be43-9a3f3a7020e7"
      },
      "source": [
        "n=[5,10,20,50,100]\n",
        "X_train, X_test, y_train, y_test = train_test_split(X_balance,Y_balance, \n",
        "                                                    stratify=Y_balance, test_size=0.5,\n",
        "                                                    random_state = 10086)\n",
        "c=0\n",
        "presicion1=np.zeros(5)\n",
        "for i in n:\n",
        "  model = MLPClassifier(hidden_layer_sizes=(i), activation='relu') \n",
        "  model.fit(X_train,y_train) \n",
        "  y_predict = model.predict(X_test) \n",
        "  presicion1[c]=round(accuracy_score(y_test, y_predict),5)\n",
        "  c=c+1\n",
        "\n",
        "print(f'Para un modelo con 1 capa oculta se obtuvieron las siguientes precisiones')\n",
        "for i in range(len(n)):\n",
        "  print(f'{n[i]} neuronas: {presicion1[i]}')"
      ],
      "execution_count": null,
      "outputs": [
        {
          "output_type": "stream",
          "name": "stdout",
          "text": [
            "Para un modelo con 1 capa oculta se obtuvieron las siguientes precisiones\n",
            "5 neuronas: 0.72928\n",
            "10 neuronas: 0.8122\n",
            "20 neuronas: 0.90049\n",
            "50 neuronas: 0.95189\n",
            "100 neuronas: 0.96071\n"
          ]
        }
      ]
    },
    {
      "cell_type": "markdown",
      "metadata": {
        "id": "mtR-XKjQ63ak"
      },
      "source": [
        "### Caso B"
      ]
    },
    {
      "cell_type": "code",
      "metadata": {
        "id": "2cieHeWX63al",
        "colab": {
          "base_uri": "https://localhost:8080/"
        },
        "outputId": "3f62c641-4119-4dfe-e877-f0636ccf2f5b"
      },
      "source": [
        "n=[5,10,20,50,100]\n",
        "X_train, X_test, y_train, y_test = train_test_split(X_balance,Y_balance, \n",
        "                                                    stratify=Y_balance, test_size=0.5,\n",
        "                                                    random_state = 10086)\n",
        "c=0\n",
        "presicion2=np.zeros(5)\n",
        "for i in n:\n",
        "  model = MLPClassifier(hidden_layer_sizes=(i,i), activation='relu') \n",
        "  model.fit(X_train,y_train) \n",
        "  y_predict = model.predict(X_test) \n",
        "  presicion2[c]=round(accuracy_score(y_test, y_predict),5)\n",
        "  c=c+1\n",
        "\n",
        "print(f'Para un modelo con 2 capas oculta se obtuvieron las siguientes precisiones')\n",
        "for i in range(len(n)):\n",
        "  print(f'{n[i]} neuronas: {presicion2[i]}')"
      ],
      "execution_count": null,
      "outputs": [
        {
          "output_type": "stream",
          "name": "stdout",
          "text": [
            "Para un modelo con 2 capas oculta se obtuvieron las siguientes precisiones\n",
            "5 neuronas: 0.73924\n",
            "10 neuronas: 0.85647\n",
            "20 neuronas: 0.93768\n",
            "50 neuronas: 0.96038\n",
            "100 neuronas: 0.96079\n"
          ]
        }
      ]
    },
    {
      "cell_type": "markdown",
      "metadata": {
        "id": "meRtLlww63al"
      },
      "source": [
        "### Caso C"
      ]
    },
    {
      "cell_type": "code",
      "metadata": {
        "id": "uC-apttg63am",
        "colab": {
          "base_uri": "https://localhost:8080/"
        },
        "outputId": "881eeb56-fda9-4870-cc21-947dc0421b72"
      },
      "source": [
        "n=[5,10,20,50,100]\n",
        "X_train, X_test, y_train, y_test = train_test_split(X_balance,Y_balance, \n",
        "                                                    stratify=Y_balance, test_size=0.5,\n",
        "                                                     random_state = 10086)\n",
        "c=0\n",
        "presicion3=np.zeros(5)\n",
        "for i in n:\n",
        "  model = MLPClassifier(hidden_layer_sizes=(i,i,i), activation='relu') \n",
        "  model.fit(X_train,y_train) \n",
        "  y_predict = model.predict(X_test) \n",
        "  presicion3[c]=round(accuracy_score(y_test, y_predict),5)\n",
        "  c=c+1\n",
        "\n",
        "print(f'Para un modelo con 3 capas oculta se obtuvieron las siguientes precisiones')\n",
        "for i in range(len(n)):\n",
        "  print(f'{n[i]} neuronas: {presicion3[i]}')"
      ],
      "execution_count": null,
      "outputs": [
        {
          "output_type": "stream",
          "name": "stdout",
          "text": [
            "Para un modelo con 3 capas oculta se obtuvieron las siguientes precisiones\n",
            "5 neuronas: 0.77796\n",
            "10 neuronas: 0.86007\n",
            "20 neuronas: 0.94213\n",
            "50 neuronas: 0.95241\n",
            "100 neuronas: 0.95792\n"
          ]
        }
      ]
    },
    {
      "cell_type": "markdown",
      "metadata": {
        "id": "qp2Zq2nE63am"
      },
      "source": [
        "### Gráficas Evaluativas"
      ]
    },
    {
      "cell_type": "code",
      "metadata": {
        "colab": {
          "base_uri": "https://localhost:8080/",
          "height": 408
        },
        "id": "hBzeGsgQCpMI",
        "outputId": "91a2a34e-b711-456e-f249-8dce9c7c4af3"
      },
      "source": [
        "plt.plot(n,presicion1)\n",
        "plt.plot(n,presicion2)\n",
        "plt.plot(n,presicion3)\n",
        "plt.title('Grafica evaluativa')\n",
        "plt.xlabel('Neuronas')\n",
        "plt.ylabel('Precisión')\n",
        "plt.legend(['1 capa','2 capas', '3 capas'])"
      ],
      "execution_count": null,
      "outputs": [
        {
          "output_type": "execute_result",
          "data": {
            "text/plain": [
              "<matplotlib.legend.Legend at 0x7f83d1222c10>"
            ]
          },
          "metadata": {},
          "execution_count": 259
        },
        {
          "output_type": "display_data",
          "data": {
            "text/plain": [
              "<Figure size 432x288 with 1 Axes>"
            ],
            "image/svg+xml": "<?xml version=\"1.0\" encoding=\"utf-8\" standalone=\"no\"?>\n<!DOCTYPE svg PUBLIC \"-//W3C//DTD SVG 1.1//EN\"\n  \"http://www.w3.org/Graphics/SVG/1.1/DTD/svg11.dtd\">\n<!-- Created with matplotlib (https://matplotlib.org/) -->\n<svg height=\"277.314375pt\" version=\"1.1\" viewBox=\"0 0 392.14375 277.314375\" width=\"392.14375pt\" xmlns=\"http://www.w3.org/2000/svg\" xmlns:xlink=\"http://www.w3.org/1999/xlink\">\n <defs>\n  <style type=\"text/css\">\n*{stroke-linecap:butt;stroke-linejoin:round;}\n  </style>\n </defs>\n <g id=\"figure_1\">\n  <g id=\"patch_1\">\n   <path d=\"M 0 277.314375 \nL 392.14375 277.314375 \nL 392.14375 0 \nL 0 0 \nz\n\" style=\"fill:#ffffff;\"/>\n  </g>\n  <g id=\"axes_1\">\n   <g id=\"patch_2\">\n    <path d=\"M 50.14375 239.758125 \nL 384.94375 239.758125 \nL 384.94375 22.318125 \nL 50.14375 22.318125 \nz\n\" style=\"fill:#ffffff;\"/>\n   </g>\n   <g id=\"matplotlib.axis_1\">\n    <g id=\"xtick_1\">\n     <g id=\"text_1\">\n      <!-- 20 -->\n      <defs>\n       <path d=\"M 19.1875 8.296875 \nL 53.609375 8.296875 \nL 53.609375 0 \nL 7.328125 0 \nL 7.328125 8.296875 \nQ 12.9375 14.109375 22.625 23.890625 \nQ 32.328125 33.6875 34.8125 36.53125 \nQ 39.546875 41.84375 41.421875 45.53125 \nQ 43.3125 49.21875 43.3125 52.78125 \nQ 43.3125 58.59375 39.234375 62.25 \nQ 35.15625 65.921875 28.609375 65.921875 \nQ 23.96875 65.921875 18.8125 64.3125 \nQ 13.671875 62.703125 7.8125 59.421875 \nL 7.8125 69.390625 \nQ 13.765625 71.78125 18.9375 73 \nQ 24.125 74.21875 28.421875 74.21875 \nQ 39.75 74.21875 46.484375 68.546875 \nQ 53.21875 62.890625 53.21875 53.421875 \nQ 53.21875 48.921875 51.53125 44.890625 \nQ 49.859375 40.875 45.40625 35.40625 \nQ 44.1875 33.984375 37.640625 27.21875 \nQ 31.109375 20.453125 19.1875 8.296875 \nz\n\" id=\"DejaVuSans-50\"/>\n       <path d=\"M 31.78125 66.40625 \nQ 24.171875 66.40625 20.328125 58.90625 \nQ 16.5 51.421875 16.5 36.375 \nQ 16.5 21.390625 20.328125 13.890625 \nQ 24.171875 6.390625 31.78125 6.390625 \nQ 39.453125 6.390625 43.28125 13.890625 \nQ 47.125 21.390625 47.125 36.375 \nQ 47.125 51.421875 43.28125 58.90625 \nQ 39.453125 66.40625 31.78125 66.40625 \nz\nM 31.78125 74.21875 \nQ 44.046875 74.21875 50.515625 64.515625 \nQ 56.984375 54.828125 56.984375 36.375 \nQ 56.984375 17.96875 50.515625 8.265625 \nQ 44.046875 -1.421875 31.78125 -1.421875 \nQ 19.53125 -1.421875 13.0625 8.265625 \nQ 6.59375 17.96875 6.59375 36.375 \nQ 6.59375 54.828125 13.0625 64.515625 \nQ 19.53125 74.21875 31.78125 74.21875 \nz\n\" id=\"DejaVuSans-48\"/>\n      </defs>\n      <g style=\"fill:#262626;\" transform=\"translate(107.056848 254.356562)scale(0.1 -0.1)\">\n       <use xlink:href=\"#DejaVuSans-50\"/>\n       <use x=\"63.623047\" xlink:href=\"#DejaVuSans-48\"/>\n      </g>\n     </g>\n    </g>\n    <g id=\"xtick_2\">\n     <g id=\"text_2\">\n      <!-- 40 -->\n      <defs>\n       <path d=\"M 37.796875 64.3125 \nL 12.890625 25.390625 \nL 37.796875 25.390625 \nz\nM 35.203125 72.90625 \nL 47.609375 72.90625 \nL 47.609375 25.390625 \nL 58.015625 25.390625 \nL 58.015625 17.1875 \nL 47.609375 17.1875 \nL 47.609375 0 \nL 37.796875 0 \nL 37.796875 17.1875 \nL 4.890625 17.1875 \nL 4.890625 26.703125 \nz\n\" id=\"DejaVuSans-52\"/>\n      </defs>\n      <g style=\"fill:#262626;\" transform=\"translate(171.133403 254.356562)scale(0.1 -0.1)\">\n       <use xlink:href=\"#DejaVuSans-52\"/>\n       <use x=\"63.623047\" xlink:href=\"#DejaVuSans-48\"/>\n      </g>\n     </g>\n    </g>\n    <g id=\"xtick_3\">\n     <g id=\"text_3\">\n      <!-- 60 -->\n      <defs>\n       <path d=\"M 33.015625 40.375 \nQ 26.375 40.375 22.484375 35.828125 \nQ 18.609375 31.296875 18.609375 23.390625 \nQ 18.609375 15.53125 22.484375 10.953125 \nQ 26.375 6.390625 33.015625 6.390625 \nQ 39.65625 6.390625 43.53125 10.953125 \nQ 47.40625 15.53125 47.40625 23.390625 \nQ 47.40625 31.296875 43.53125 35.828125 \nQ 39.65625 40.375 33.015625 40.375 \nz\nM 52.59375 71.296875 \nL 52.59375 62.3125 \nQ 48.875 64.0625 45.09375 64.984375 \nQ 41.3125 65.921875 37.59375 65.921875 \nQ 27.828125 65.921875 22.671875 59.328125 \nQ 17.53125 52.734375 16.796875 39.40625 \nQ 19.671875 43.65625 24.015625 45.921875 \nQ 28.375 48.1875 33.59375 48.1875 \nQ 44.578125 48.1875 50.953125 41.515625 \nQ 57.328125 34.859375 57.328125 23.390625 \nQ 57.328125 12.15625 50.6875 5.359375 \nQ 44.046875 -1.421875 33.015625 -1.421875 \nQ 20.359375 -1.421875 13.671875 8.265625 \nQ 6.984375 17.96875 6.984375 36.375 \nQ 6.984375 53.65625 15.1875 63.9375 \nQ 23.390625 74.21875 37.203125 74.21875 \nQ 40.921875 74.21875 44.703125 73.484375 \nQ 48.484375 72.75 52.59375 71.296875 \nz\n\" id=\"DejaVuSans-54\"/>\n      </defs>\n      <g style=\"fill:#262626;\" transform=\"translate(235.209958 254.356562)scale(0.1 -0.1)\">\n       <use xlink:href=\"#DejaVuSans-54\"/>\n       <use x=\"63.623047\" xlink:href=\"#DejaVuSans-48\"/>\n      </g>\n     </g>\n    </g>\n    <g id=\"xtick_4\">\n     <g id=\"text_4\">\n      <!-- 80 -->\n      <defs>\n       <path d=\"M 31.78125 34.625 \nQ 24.75 34.625 20.71875 30.859375 \nQ 16.703125 27.09375 16.703125 20.515625 \nQ 16.703125 13.921875 20.71875 10.15625 \nQ 24.75 6.390625 31.78125 6.390625 \nQ 38.8125 6.390625 42.859375 10.171875 \nQ 46.921875 13.96875 46.921875 20.515625 \nQ 46.921875 27.09375 42.890625 30.859375 \nQ 38.875 34.625 31.78125 34.625 \nz\nM 21.921875 38.8125 \nQ 15.578125 40.375 12.03125 44.71875 \nQ 8.5 49.078125 8.5 55.328125 \nQ 8.5 64.0625 14.71875 69.140625 \nQ 20.953125 74.21875 31.78125 74.21875 \nQ 42.671875 74.21875 48.875 69.140625 \nQ 55.078125 64.0625 55.078125 55.328125 \nQ 55.078125 49.078125 51.53125 44.71875 \nQ 48 40.375 41.703125 38.8125 \nQ 48.828125 37.15625 52.796875 32.3125 \nQ 56.78125 27.484375 56.78125 20.515625 \nQ 56.78125 9.90625 50.3125 4.234375 \nQ 43.84375 -1.421875 31.78125 -1.421875 \nQ 19.734375 -1.421875 13.25 4.234375 \nQ 6.78125 9.90625 6.78125 20.515625 \nQ 6.78125 27.484375 10.78125 32.3125 \nQ 14.796875 37.15625 21.921875 38.8125 \nz\nM 18.3125 54.390625 \nQ 18.3125 48.734375 21.84375 45.5625 \nQ 25.390625 42.390625 31.78125 42.390625 \nQ 38.140625 42.390625 41.71875 45.5625 \nQ 45.3125 48.734375 45.3125 54.390625 \nQ 45.3125 60.0625 41.71875 63.234375 \nQ 38.140625 66.40625 31.78125 66.40625 \nQ 25.390625 66.40625 21.84375 63.234375 \nQ 18.3125 60.0625 18.3125 54.390625 \nz\n\" id=\"DejaVuSans-56\"/>\n      </defs>\n      <g style=\"fill:#262626;\" transform=\"translate(299.286513 254.356562)scale(0.1 -0.1)\">\n       <use xlink:href=\"#DejaVuSans-56\"/>\n       <use x=\"63.623047\" xlink:href=\"#DejaVuSans-48\"/>\n      </g>\n     </g>\n    </g>\n    <g id=\"xtick_5\">\n     <g id=\"text_5\">\n      <!-- 100 -->\n      <defs>\n       <path d=\"M 12.40625 8.296875 \nL 28.515625 8.296875 \nL 28.515625 63.921875 \nL 10.984375 60.40625 \nL 10.984375 69.390625 \nL 28.421875 72.90625 \nL 38.28125 72.90625 \nL 38.28125 8.296875 \nL 54.390625 8.296875 \nL 54.390625 0 \nL 12.40625 0 \nz\n\" id=\"DejaVuSans-49\"/>\n      </defs>\n      <g style=\"fill:#262626;\" transform=\"translate(360.181818 254.356562)scale(0.1 -0.1)\">\n       <use xlink:href=\"#DejaVuSans-49\"/>\n       <use x=\"63.623047\" xlink:href=\"#DejaVuSans-48\"/>\n       <use x=\"127.246094\" xlink:href=\"#DejaVuSans-48\"/>\n      </g>\n     </g>\n    </g>\n    <g id=\"text_6\">\n     <!-- Neuronas -->\n     <defs>\n      <path d=\"M 9.8125 72.90625 \nL 23.09375 72.90625 \nL 55.421875 11.921875 \nL 55.421875 72.90625 \nL 64.984375 72.90625 \nL 64.984375 0 \nL 51.703125 0 \nL 19.390625 60.984375 \nL 19.390625 0 \nL 9.8125 0 \nz\n\" id=\"DejaVuSans-78\"/>\n      <path d=\"M 56.203125 29.59375 \nL 56.203125 25.203125 \nL 14.890625 25.203125 \nQ 15.484375 15.921875 20.484375 11.0625 \nQ 25.484375 6.203125 34.421875 6.203125 \nQ 39.59375 6.203125 44.453125 7.46875 \nQ 49.3125 8.734375 54.109375 11.28125 \nL 54.109375 2.78125 \nQ 49.265625 0.734375 44.1875 -0.34375 \nQ 39.109375 -1.421875 33.890625 -1.421875 \nQ 20.796875 -1.421875 13.15625 6.1875 \nQ 5.515625 13.8125 5.515625 26.8125 \nQ 5.515625 40.234375 12.765625 48.109375 \nQ 20.015625 56 32.328125 56 \nQ 43.359375 56 49.78125 48.890625 \nQ 56.203125 41.796875 56.203125 29.59375 \nz\nM 47.21875 32.234375 \nQ 47.125 39.59375 43.09375 43.984375 \nQ 39.0625 48.390625 32.421875 48.390625 \nQ 24.90625 48.390625 20.390625 44.140625 \nQ 15.875 39.890625 15.1875 32.171875 \nz\n\" id=\"DejaVuSans-101\"/>\n      <path d=\"M 8.5 21.578125 \nL 8.5 54.6875 \nL 17.484375 54.6875 \nL 17.484375 21.921875 \nQ 17.484375 14.15625 20.5 10.265625 \nQ 23.53125 6.390625 29.59375 6.390625 \nQ 36.859375 6.390625 41.078125 11.03125 \nQ 45.3125 15.671875 45.3125 23.6875 \nL 45.3125 54.6875 \nL 54.296875 54.6875 \nL 54.296875 0 \nL 45.3125 0 \nL 45.3125 8.40625 \nQ 42.046875 3.421875 37.71875 1 \nQ 33.40625 -1.421875 27.6875 -1.421875 \nQ 18.265625 -1.421875 13.375 4.4375 \nQ 8.5 10.296875 8.5 21.578125 \nz\nM 31.109375 56 \nz\n\" id=\"DejaVuSans-117\"/>\n      <path d=\"M 41.109375 46.296875 \nQ 39.59375 47.171875 37.8125 47.578125 \nQ 36.03125 48 33.890625 48 \nQ 26.265625 48 22.1875 43.046875 \nQ 18.109375 38.09375 18.109375 28.8125 \nL 18.109375 0 \nL 9.078125 0 \nL 9.078125 54.6875 \nL 18.109375 54.6875 \nL 18.109375 46.1875 \nQ 20.953125 51.171875 25.484375 53.578125 \nQ 30.03125 56 36.53125 56 \nQ 37.453125 56 38.578125 55.875 \nQ 39.703125 55.765625 41.0625 55.515625 \nz\n\" id=\"DejaVuSans-114\"/>\n      <path d=\"M 30.609375 48.390625 \nQ 23.390625 48.390625 19.1875 42.75 \nQ 14.984375 37.109375 14.984375 27.296875 \nQ 14.984375 17.484375 19.15625 11.84375 \nQ 23.34375 6.203125 30.609375 6.203125 \nQ 37.796875 6.203125 41.984375 11.859375 \nQ 46.1875 17.53125 46.1875 27.296875 \nQ 46.1875 37.015625 41.984375 42.703125 \nQ 37.796875 48.390625 30.609375 48.390625 \nz\nM 30.609375 56 \nQ 42.328125 56 49.015625 48.375 \nQ 55.71875 40.765625 55.71875 27.296875 \nQ 55.71875 13.875 49.015625 6.21875 \nQ 42.328125 -1.421875 30.609375 -1.421875 \nQ 18.84375 -1.421875 12.171875 6.21875 \nQ 5.515625 13.875 5.515625 27.296875 \nQ 5.515625 40.765625 12.171875 48.375 \nQ 18.84375 56 30.609375 56 \nz\n\" id=\"DejaVuSans-111\"/>\n      <path d=\"M 54.890625 33.015625 \nL 54.890625 0 \nL 45.90625 0 \nL 45.90625 32.71875 \nQ 45.90625 40.484375 42.875 44.328125 \nQ 39.84375 48.1875 33.796875 48.1875 \nQ 26.515625 48.1875 22.3125 43.546875 \nQ 18.109375 38.921875 18.109375 30.90625 \nL 18.109375 0 \nL 9.078125 0 \nL 9.078125 54.6875 \nL 18.109375 54.6875 \nL 18.109375 46.1875 \nQ 21.34375 51.125 25.703125 53.5625 \nQ 30.078125 56 35.796875 56 \nQ 45.21875 56 50.046875 50.171875 \nQ 54.890625 44.34375 54.890625 33.015625 \nz\n\" id=\"DejaVuSans-110\"/>\n      <path d=\"M 34.28125 27.484375 \nQ 23.390625 27.484375 19.1875 25 \nQ 14.984375 22.515625 14.984375 16.5 \nQ 14.984375 11.71875 18.140625 8.90625 \nQ 21.296875 6.109375 26.703125 6.109375 \nQ 34.1875 6.109375 38.703125 11.40625 \nQ 43.21875 16.703125 43.21875 25.484375 \nL 43.21875 27.484375 \nz\nM 52.203125 31.203125 \nL 52.203125 0 \nL 43.21875 0 \nL 43.21875 8.296875 \nQ 40.140625 3.328125 35.546875 0.953125 \nQ 30.953125 -1.421875 24.3125 -1.421875 \nQ 15.921875 -1.421875 10.953125 3.296875 \nQ 6 8.015625 6 15.921875 \nQ 6 25.140625 12.171875 29.828125 \nQ 18.359375 34.515625 30.609375 34.515625 \nL 43.21875 34.515625 \nL 43.21875 35.40625 \nQ 43.21875 41.609375 39.140625 45 \nQ 35.0625 48.390625 27.6875 48.390625 \nQ 23 48.390625 18.546875 47.265625 \nQ 14.109375 46.140625 10.015625 43.890625 \nL 10.015625 52.203125 \nQ 14.9375 54.109375 19.578125 55.046875 \nQ 24.21875 56 28.609375 56 \nQ 40.484375 56 46.34375 49.84375 \nQ 52.203125 43.703125 52.203125 31.203125 \nz\n\" id=\"DejaVuSans-97\"/>\n      <path d=\"M 44.28125 53.078125 \nL 44.28125 44.578125 \nQ 40.484375 46.53125 36.375 47.5 \nQ 32.28125 48.484375 27.875 48.484375 \nQ 21.1875 48.484375 17.84375 46.4375 \nQ 14.5 44.390625 14.5 40.28125 \nQ 14.5 37.15625 16.890625 35.375 \nQ 19.28125 33.59375 26.515625 31.984375 \nL 29.59375 31.296875 \nQ 39.15625 29.25 43.1875 25.515625 \nQ 47.21875 21.78125 47.21875 15.09375 \nQ 47.21875 7.46875 41.1875 3.015625 \nQ 35.15625 -1.421875 24.609375 -1.421875 \nQ 20.21875 -1.421875 15.453125 -0.5625 \nQ 10.6875 0.296875 5.421875 2 \nL 5.421875 11.28125 \nQ 10.40625 8.6875 15.234375 7.390625 \nQ 20.0625 6.109375 24.8125 6.109375 \nQ 31.15625 6.109375 34.5625 8.28125 \nQ 37.984375 10.453125 37.984375 14.40625 \nQ 37.984375 18.0625 35.515625 20.015625 \nQ 33.0625 21.96875 24.703125 23.78125 \nL 21.578125 24.515625 \nQ 13.234375 26.265625 9.515625 29.90625 \nQ 5.8125 33.546875 5.8125 39.890625 \nQ 5.8125 47.609375 11.28125 51.796875 \nQ 16.75 56 26.8125 56 \nQ 31.78125 56 36.171875 55.265625 \nQ 40.578125 54.546875 44.28125 53.078125 \nz\n\" id=\"DejaVuSans-115\"/>\n     </defs>\n     <g style=\"fill:#262626;\" transform=\"translate(193.717969 268.034687)scale(0.1 -0.1)\">\n      <use xlink:href=\"#DejaVuSans-78\"/>\n      <use x=\"74.804688\" xlink:href=\"#DejaVuSans-101\"/>\n      <use x=\"136.328125\" xlink:href=\"#DejaVuSans-117\"/>\n      <use x=\"199.707031\" xlink:href=\"#DejaVuSans-114\"/>\n      <use x=\"238.570312\" xlink:href=\"#DejaVuSans-111\"/>\n      <use x=\"299.751953\" xlink:href=\"#DejaVuSans-110\"/>\n      <use x=\"363.130859\" xlink:href=\"#DejaVuSans-97\"/>\n      <use x=\"424.410156\" xlink:href=\"#DejaVuSans-115\"/>\n     </g>\n    </g>\n   </g>\n   <g id=\"matplotlib.axis_2\">\n    <g id=\"ytick_1\">\n     <g id=\"text_7\">\n      <!-- 0.75 -->\n      <defs>\n       <path d=\"M 10.6875 12.40625 \nL 21 12.40625 \nL 21 0 \nL 10.6875 0 \nz\n\" id=\"DejaVuSans-46\"/>\n       <path d=\"M 8.203125 72.90625 \nL 55.078125 72.90625 \nL 55.078125 68.703125 \nL 28.609375 0 \nL 18.3125 0 \nL 43.21875 64.59375 \nL 8.203125 64.59375 \nz\n\" id=\"DejaVuSans-55\"/>\n       <path d=\"M 10.796875 72.90625 \nL 49.515625 72.90625 \nL 49.515625 64.59375 \nL 19.828125 64.59375 \nL 19.828125 46.734375 \nQ 21.96875 47.46875 24.109375 47.828125 \nQ 26.265625 48.1875 28.421875 48.1875 \nQ 40.625 48.1875 47.75 41.5 \nQ 54.890625 34.8125 54.890625 23.390625 \nQ 54.890625 11.625 47.5625 5.09375 \nQ 40.234375 -1.421875 26.90625 -1.421875 \nQ 22.3125 -1.421875 17.546875 -0.640625 \nQ 12.796875 0.140625 7.71875 1.703125 \nL 7.71875 11.625 \nQ 12.109375 9.234375 16.796875 8.0625 \nQ 21.484375 6.890625 26.703125 6.890625 \nQ 35.15625 6.890625 40.078125 11.328125 \nQ 45.015625 15.765625 45.015625 23.390625 \nQ 45.015625 31 40.078125 35.4375 \nQ 35.15625 39.890625 26.703125 39.890625 \nQ 22.75 39.890625 18.8125 39.015625 \nQ 14.890625 38.140625 10.796875 36.28125 \nz\n\" id=\"DejaVuSans-53\"/>\n      </defs>\n      <g style=\"fill:#262626;\" transform=\"translate(20.878125 215.982122)scale(0.1 -0.1)\">\n       <use xlink:href=\"#DejaVuSans-48\"/>\n       <use x=\"63.623047\" xlink:href=\"#DejaVuSans-46\"/>\n       <use x=\"95.410156\" xlink:href=\"#DejaVuSans-55\"/>\n       <use x=\"159.033203\" xlink:href=\"#DejaVuSans-53\"/>\n      </g>\n     </g>\n    </g>\n    <g id=\"ytick_2\">\n     <g id=\"text_8\">\n      <!-- 0.80 -->\n      <g style=\"fill:#262626;\" transform=\"translate(20.878125 173.290073)scale(0.1 -0.1)\">\n       <use xlink:href=\"#DejaVuSans-48\"/>\n       <use x=\"63.623047\" xlink:href=\"#DejaVuSans-46\"/>\n       <use x=\"95.410156\" xlink:href=\"#DejaVuSans-56\"/>\n       <use x=\"159.033203\" xlink:href=\"#DejaVuSans-48\"/>\n      </g>\n     </g>\n    </g>\n    <g id=\"ytick_3\">\n     <g id=\"text_9\">\n      <!-- 0.85 -->\n      <g style=\"fill:#262626;\" transform=\"translate(20.878125 130.598023)scale(0.1 -0.1)\">\n       <use xlink:href=\"#DejaVuSans-48\"/>\n       <use x=\"63.623047\" xlink:href=\"#DejaVuSans-46\"/>\n       <use x=\"95.410156\" xlink:href=\"#DejaVuSans-56\"/>\n       <use x=\"159.033203\" xlink:href=\"#DejaVuSans-53\"/>\n      </g>\n     </g>\n    </g>\n    <g id=\"ytick_4\">\n     <g id=\"text_10\">\n      <!-- 0.90 -->\n      <defs>\n       <path d=\"M 10.984375 1.515625 \nL 10.984375 10.5 \nQ 14.703125 8.734375 18.5 7.8125 \nQ 22.3125 6.890625 25.984375 6.890625 \nQ 35.75 6.890625 40.890625 13.453125 \nQ 46.046875 20.015625 46.78125 33.40625 \nQ 43.953125 29.203125 39.59375 26.953125 \nQ 35.25 24.703125 29.984375 24.703125 \nQ 19.046875 24.703125 12.671875 31.3125 \nQ 6.296875 37.9375 6.296875 49.421875 \nQ 6.296875 60.640625 12.9375 67.421875 \nQ 19.578125 74.21875 30.609375 74.21875 \nQ 43.265625 74.21875 49.921875 64.515625 \nQ 56.59375 54.828125 56.59375 36.375 \nQ 56.59375 19.140625 48.40625 8.859375 \nQ 40.234375 -1.421875 26.421875 -1.421875 \nQ 22.703125 -1.421875 18.890625 -0.6875 \nQ 15.09375 0.046875 10.984375 1.515625 \nz\nM 30.609375 32.421875 \nQ 37.25 32.421875 41.125 36.953125 \nQ 45.015625 41.5 45.015625 49.421875 \nQ 45.015625 57.28125 41.125 61.84375 \nQ 37.25 66.40625 30.609375 66.40625 \nQ 23.96875 66.40625 20.09375 61.84375 \nQ 16.21875 57.28125 16.21875 49.421875 \nQ 16.21875 41.5 20.09375 36.953125 \nQ 23.96875 32.421875 30.609375 32.421875 \nz\n\" id=\"DejaVuSans-57\"/>\n      </defs>\n      <g style=\"fill:#262626;\" transform=\"translate(20.878125 87.905974)scale(0.1 -0.1)\">\n       <use xlink:href=\"#DejaVuSans-48\"/>\n       <use x=\"63.623047\" xlink:href=\"#DejaVuSans-46\"/>\n       <use x=\"95.410156\" xlink:href=\"#DejaVuSans-57\"/>\n       <use x=\"159.033203\" xlink:href=\"#DejaVuSans-48\"/>\n      </g>\n     </g>\n    </g>\n    <g id=\"ytick_5\">\n     <g id=\"text_11\">\n      <!-- 0.95 -->\n      <g style=\"fill:#262626;\" transform=\"translate(20.878125 45.213924)scale(0.1 -0.1)\">\n       <use xlink:href=\"#DejaVuSans-48\"/>\n       <use x=\"63.623047\" xlink:href=\"#DejaVuSans-46\"/>\n       <use x=\"95.410156\" xlink:href=\"#DejaVuSans-57\"/>\n       <use x=\"159.033203\" xlink:href=\"#DejaVuSans-53\"/>\n      </g>\n     </g>\n    </g>\n    <g id=\"text_12\">\n     <!-- Precisión -->\n     <defs>\n      <path d=\"M 19.671875 64.796875 \nL 19.671875 37.40625 \nL 32.078125 37.40625 \nQ 38.96875 37.40625 42.71875 40.96875 \nQ 46.484375 44.53125 46.484375 51.125 \nQ 46.484375 57.671875 42.71875 61.234375 \nQ 38.96875 64.796875 32.078125 64.796875 \nz\nM 9.8125 72.90625 \nL 32.078125 72.90625 \nQ 44.34375 72.90625 50.609375 67.359375 \nQ 56.890625 61.8125 56.890625 51.125 \nQ 56.890625 40.328125 50.609375 34.8125 \nQ 44.34375 29.296875 32.078125 29.296875 \nL 19.671875 29.296875 \nL 19.671875 0 \nL 9.8125 0 \nz\n\" id=\"DejaVuSans-80\"/>\n      <path d=\"M 48.78125 52.59375 \nL 48.78125 44.1875 \nQ 44.96875 46.296875 41.140625 47.34375 \nQ 37.3125 48.390625 33.40625 48.390625 \nQ 24.65625 48.390625 19.8125 42.84375 \nQ 14.984375 37.3125 14.984375 27.296875 \nQ 14.984375 17.28125 19.8125 11.734375 \nQ 24.65625 6.203125 33.40625 6.203125 \nQ 37.3125 6.203125 41.140625 7.25 \nQ 44.96875 8.296875 48.78125 10.40625 \nL 48.78125 2.09375 \nQ 45.015625 0.34375 40.984375 -0.53125 \nQ 36.96875 -1.421875 32.421875 -1.421875 \nQ 20.0625 -1.421875 12.78125 6.34375 \nQ 5.515625 14.109375 5.515625 27.296875 \nQ 5.515625 40.671875 12.859375 48.328125 \nQ 20.21875 56 33.015625 56 \nQ 37.15625 56 41.109375 55.140625 \nQ 45.0625 54.296875 48.78125 52.59375 \nz\n\" id=\"DejaVuSans-99\"/>\n      <path d=\"M 9.421875 54.6875 \nL 18.40625 54.6875 \nL 18.40625 0 \nL 9.421875 0 \nz\nM 9.421875 75.984375 \nL 18.40625 75.984375 \nL 18.40625 64.59375 \nL 9.421875 64.59375 \nz\n\" id=\"DejaVuSans-105\"/>\n      <path d=\"M 30.609375 48.390625 \nQ 23.390625 48.390625 19.1875 42.75 \nQ 14.984375 37.109375 14.984375 27.296875 \nQ 14.984375 17.484375 19.15625 11.84375 \nQ 23.34375 6.203125 30.609375 6.203125 \nQ 37.796875 6.203125 41.984375 11.859375 \nQ 46.1875 17.53125 46.1875 27.296875 \nQ 46.1875 37.015625 41.984375 42.703125 \nQ 37.796875 48.390625 30.609375 48.390625 \nz\nM 30.609375 56 \nQ 42.328125 56 49.015625 48.375 \nQ 55.71875 40.765625 55.71875 27.296875 \nQ 55.71875 13.875 49.015625 6.21875 \nQ 42.328125 -1.421875 30.609375 -1.421875 \nQ 18.84375 -1.421875 12.171875 6.21875 \nQ 5.515625 13.875 5.515625 27.296875 \nQ 5.515625 40.765625 12.171875 48.375 \nQ 18.84375 56 30.609375 56 \nz\nM 37.40625 79.984375 \nL 47.125 79.984375 \nL 31.21875 61.625 \nL 23.734375 61.625 \nz\n\" id=\"DejaVuSans-243\"/>\n     </defs>\n     <g style=\"fill:#262626;\" transform=\"translate(14.798438 153.345156)rotate(-90)scale(0.1 -0.1)\">\n      <use xlink:href=\"#DejaVuSans-80\"/>\n      <use x=\"58.552734\" xlink:href=\"#DejaVuSans-114\"/>\n      <use x=\"97.416016\" xlink:href=\"#DejaVuSans-101\"/>\n      <use x=\"158.939453\" xlink:href=\"#DejaVuSans-99\"/>\n      <use x=\"213.919922\" xlink:href=\"#DejaVuSans-105\"/>\n      <use x=\"241.703125\" xlink:href=\"#DejaVuSans-115\"/>\n      <use x=\"293.802734\" xlink:href=\"#DejaVuSans-105\"/>\n      <use x=\"321.585938\" xlink:href=\"#DejaVuSans-243\"/>\n      <use x=\"382.767578\" xlink:href=\"#DejaVuSans-110\"/>\n     </g>\n    </g>\n   </g>\n   <g id=\"line2d_1\">\n    <path clip-path=\"url(#p5b57dc1617)\" d=\"M 65.361932 229.874489 \nL 81.381071 159.073994 \nL 113.419348 83.688373 \nL 209.534181 39.800946 \nL 369.725568 32.270069 \n\" style=\"fill:none;stroke:#1f77b4;stroke-linecap:round;stroke-width:1.5;\"/>\n   </g>\n   <g id=\"line2d_2\">\n    <path clip-path=\"url(#p5b57dc1617)\" d=\"M 65.361932 221.370232 \nL 81.381071 121.274453 \nL 113.419348 51.934027 \nL 209.534181 32.551836 \nL 369.725568 32.201761 \n\" style=\"fill:none;stroke:#ff7f0e;stroke-linecap:round;stroke-width:1.5;\"/>\n   </g>\n   <g id=\"line2d_3\">\n    <path clip-path=\"url(#p5b57dc1617)\" d=\"M 65.361932 188.309509 \nL 81.381071 118.200626 \nL 113.419348 48.134434 \nL 209.534181 39.356949 \nL 369.725568 34.652285 \n\" style=\"fill:none;stroke:#2ca02c;stroke-linecap:round;stroke-width:1.5;\"/>\n   </g>\n   <g id=\"patch_3\">\n    <path d=\"M 50.14375 239.758125 \nL 50.14375 22.318125 \n\" style=\"fill:none;stroke:#262626;stroke-linecap:square;stroke-linejoin:miter;stroke-width:0.8;\"/>\n   </g>\n   <g id=\"patch_4\">\n    <path d=\"M 384.94375 239.758125 \nL 384.94375 22.318125 \n\" style=\"fill:none;stroke:#262626;stroke-linecap:square;stroke-linejoin:miter;stroke-width:0.8;\"/>\n   </g>\n   <g id=\"patch_5\">\n    <path d=\"M 50.14375 239.758125 \nL 384.94375 239.758125 \n\" style=\"fill:none;stroke:#262626;stroke-linecap:square;stroke-linejoin:miter;stroke-width:0.8;\"/>\n   </g>\n   <g id=\"patch_6\">\n    <path d=\"M 50.14375 22.318125 \nL 384.94375 22.318125 \n\" style=\"fill:none;stroke:#262626;stroke-linecap:square;stroke-linejoin:miter;stroke-width:0.8;\"/>\n   </g>\n   <g id=\"text_13\">\n    <!-- Grafica evaluativa -->\n    <defs>\n     <path d=\"M 59.515625 10.40625 \nL 59.515625 29.984375 \nL 43.40625 29.984375 \nL 43.40625 38.09375 \nL 69.28125 38.09375 \nL 69.28125 6.78125 \nQ 63.578125 2.734375 56.6875 0.65625 \nQ 49.8125 -1.421875 42 -1.421875 \nQ 24.90625 -1.421875 15.25 8.5625 \nQ 5.609375 18.5625 5.609375 36.375 \nQ 5.609375 54.25 15.25 64.234375 \nQ 24.90625 74.21875 42 74.21875 \nQ 49.125 74.21875 55.546875 72.453125 \nQ 61.96875 70.703125 67.390625 67.28125 \nL 67.390625 56.78125 \nQ 61.921875 61.421875 55.765625 63.765625 \nQ 49.609375 66.109375 42.828125 66.109375 \nQ 29.4375 66.109375 22.71875 58.640625 \nQ 16.015625 51.171875 16.015625 36.375 \nQ 16.015625 21.625 22.71875 14.15625 \nQ 29.4375 6.6875 42.828125 6.6875 \nQ 48.046875 6.6875 52.140625 7.59375 \nQ 56.25 8.5 59.515625 10.40625 \nz\n\" id=\"DejaVuSans-71\"/>\n     <path d=\"M 37.109375 75.984375 \nL 37.109375 68.5 \nL 28.515625 68.5 \nQ 23.6875 68.5 21.796875 66.546875 \nQ 19.921875 64.59375 19.921875 59.515625 \nL 19.921875 54.6875 \nL 34.71875 54.6875 \nL 34.71875 47.703125 \nL 19.921875 47.703125 \nL 19.921875 0 \nL 10.890625 0 \nL 10.890625 47.703125 \nL 2.296875 47.703125 \nL 2.296875 54.6875 \nL 10.890625 54.6875 \nL 10.890625 58.5 \nQ 10.890625 67.625 15.140625 71.796875 \nQ 19.390625 75.984375 28.609375 75.984375 \nz\n\" id=\"DejaVuSans-102\"/>\n     <path id=\"DejaVuSans-32\"/>\n     <path d=\"M 2.984375 54.6875 \nL 12.5 54.6875 \nL 29.59375 8.796875 \nL 46.6875 54.6875 \nL 56.203125 54.6875 \nL 35.6875 0 \nL 23.484375 0 \nz\n\" id=\"DejaVuSans-118\"/>\n     <path d=\"M 9.421875 75.984375 \nL 18.40625 75.984375 \nL 18.40625 0 \nL 9.421875 0 \nz\n\" id=\"DejaVuSans-108\"/>\n     <path d=\"M 18.3125 70.21875 \nL 18.3125 54.6875 \nL 36.8125 54.6875 \nL 36.8125 47.703125 \nL 18.3125 47.703125 \nL 18.3125 18.015625 \nQ 18.3125 11.328125 20.140625 9.421875 \nQ 21.96875 7.515625 27.59375 7.515625 \nL 36.8125 7.515625 \nL 36.8125 0 \nL 27.59375 0 \nQ 17.1875 0 13.234375 3.875 \nQ 9.28125 7.765625 9.28125 18.015625 \nL 9.28125 47.703125 \nL 2.6875 47.703125 \nL 2.6875 54.6875 \nL 9.28125 54.6875 \nL 9.28125 70.21875 \nz\n\" id=\"DejaVuSans-116\"/>\n    </defs>\n    <g style=\"fill:#262626;\" transform=\"translate(162.775938 16.318125)scale(0.12 -0.12)\">\n     <use xlink:href=\"#DejaVuSans-71\"/>\n     <use x=\"77.490234\" xlink:href=\"#DejaVuSans-114\"/>\n     <use x=\"118.603516\" xlink:href=\"#DejaVuSans-97\"/>\n     <use x=\"179.882812\" xlink:href=\"#DejaVuSans-102\"/>\n     <use x=\"215.087891\" xlink:href=\"#DejaVuSans-105\"/>\n     <use x=\"242.871094\" xlink:href=\"#DejaVuSans-99\"/>\n     <use x=\"297.851562\" xlink:href=\"#DejaVuSans-97\"/>\n     <use x=\"359.130859\" xlink:href=\"#DejaVuSans-32\"/>\n     <use x=\"390.917969\" xlink:href=\"#DejaVuSans-101\"/>\n     <use x=\"452.441406\" xlink:href=\"#DejaVuSans-118\"/>\n     <use x=\"511.621094\" xlink:href=\"#DejaVuSans-97\"/>\n     <use x=\"572.900391\" xlink:href=\"#DejaVuSans-108\"/>\n     <use x=\"600.683594\" xlink:href=\"#DejaVuSans-117\"/>\n     <use x=\"664.0625\" xlink:href=\"#DejaVuSans-97\"/>\n     <use x=\"725.341797\" xlink:href=\"#DejaVuSans-116\"/>\n     <use x=\"764.550781\" xlink:href=\"#DejaVuSans-105\"/>\n     <use x=\"792.333984\" xlink:href=\"#DejaVuSans-118\"/>\n     <use x=\"851.513672\" xlink:href=\"#DejaVuSans-97\"/>\n    </g>\n   </g>\n   <g id=\"legend_1\">\n    <g id=\"patch_7\">\n     <path d=\"M 307.090625 234.758125 \nL 377.94375 234.758125 \nQ 379.94375 234.758125 379.94375 232.758125 \nL 379.94375 189.72375 \nQ 379.94375 187.72375 377.94375 187.72375 \nL 307.090625 187.72375 \nQ 305.090625 187.72375 305.090625 189.72375 \nL 305.090625 232.758125 \nQ 305.090625 234.758125 307.090625 234.758125 \nz\n\" style=\"fill:#ffffff;opacity:0.8;stroke:#cccccc;stroke-linejoin:miter;\"/>\n    </g>\n    <g id=\"line2d_4\">\n     <path d=\"M 309.090625 195.822187 \nL 329.090625 195.822187 \n\" style=\"fill:none;stroke:#1f77b4;stroke-linecap:round;stroke-width:1.5;\"/>\n    </g>\n    <g id=\"line2d_5\"/>\n    <g id=\"text_14\">\n     <!-- 1 capa -->\n     <defs>\n      <path d=\"M 18.109375 8.203125 \nL 18.109375 -20.796875 \nL 9.078125 -20.796875 \nL 9.078125 54.6875 \nL 18.109375 54.6875 \nL 18.109375 46.390625 \nQ 20.953125 51.265625 25.265625 53.625 \nQ 29.59375 56 35.59375 56 \nQ 45.5625 56 51.78125 48.09375 \nQ 58.015625 40.1875 58.015625 27.296875 \nQ 58.015625 14.40625 51.78125 6.484375 \nQ 45.5625 -1.421875 35.59375 -1.421875 \nQ 29.59375 -1.421875 25.265625 0.953125 \nQ 20.953125 3.328125 18.109375 8.203125 \nz\nM 48.6875 27.296875 \nQ 48.6875 37.203125 44.609375 42.84375 \nQ 40.53125 48.484375 33.40625 48.484375 \nQ 26.265625 48.484375 22.1875 42.84375 \nQ 18.109375 37.203125 18.109375 27.296875 \nQ 18.109375 17.390625 22.1875 11.75 \nQ 26.265625 6.109375 33.40625 6.109375 \nQ 40.53125 6.109375 44.609375 11.75 \nQ 48.6875 17.390625 48.6875 27.296875 \nz\n\" id=\"DejaVuSans-112\"/>\n     </defs>\n     <g style=\"fill:#262626;\" transform=\"translate(337.090625 199.322187)scale(0.1 -0.1)\">\n      <use xlink:href=\"#DejaVuSans-49\"/>\n      <use x=\"63.623047\" xlink:href=\"#DejaVuSans-32\"/>\n      <use x=\"95.410156\" xlink:href=\"#DejaVuSans-99\"/>\n      <use x=\"150.390625\" xlink:href=\"#DejaVuSans-97\"/>\n      <use x=\"211.669922\" xlink:href=\"#DejaVuSans-112\"/>\n      <use x=\"275.146484\" xlink:href=\"#DejaVuSans-97\"/>\n     </g>\n    </g>\n    <g id=\"line2d_6\">\n     <path d=\"M 309.090625 210.500312 \nL 329.090625 210.500312 \n\" style=\"fill:none;stroke:#ff7f0e;stroke-linecap:round;stroke-width:1.5;\"/>\n    </g>\n    <g id=\"line2d_7\"/>\n    <g id=\"text_15\">\n     <!-- 2 capas -->\n     <g style=\"fill:#262626;\" transform=\"translate(337.090625 214.000312)scale(0.1 -0.1)\">\n      <use xlink:href=\"#DejaVuSans-50\"/>\n      <use x=\"63.623047\" xlink:href=\"#DejaVuSans-32\"/>\n      <use x=\"95.410156\" xlink:href=\"#DejaVuSans-99\"/>\n      <use x=\"150.390625\" xlink:href=\"#DejaVuSans-97\"/>\n      <use x=\"211.669922\" xlink:href=\"#DejaVuSans-112\"/>\n      <use x=\"275.146484\" xlink:href=\"#DejaVuSans-97\"/>\n      <use x=\"336.425781\" xlink:href=\"#DejaVuSans-115\"/>\n     </g>\n    </g>\n    <g id=\"line2d_8\">\n     <path d=\"M 309.090625 225.178437 \nL 329.090625 225.178437 \n\" style=\"fill:none;stroke:#2ca02c;stroke-linecap:round;stroke-width:1.5;\"/>\n    </g>\n    <g id=\"line2d_9\"/>\n    <g id=\"text_16\">\n     <!-- 3 capas -->\n     <defs>\n      <path d=\"M 40.578125 39.3125 \nQ 47.65625 37.796875 51.625 33 \nQ 55.609375 28.21875 55.609375 21.1875 \nQ 55.609375 10.40625 48.1875 4.484375 \nQ 40.765625 -1.421875 27.09375 -1.421875 \nQ 22.515625 -1.421875 17.65625 -0.515625 \nQ 12.796875 0.390625 7.625 2.203125 \nL 7.625 11.71875 \nQ 11.71875 9.328125 16.59375 8.109375 \nQ 21.484375 6.890625 26.8125 6.890625 \nQ 36.078125 6.890625 40.9375 10.546875 \nQ 45.796875 14.203125 45.796875 21.1875 \nQ 45.796875 27.640625 41.28125 31.265625 \nQ 36.765625 34.90625 28.71875 34.90625 \nL 20.21875 34.90625 \nL 20.21875 43.015625 \nL 29.109375 43.015625 \nQ 36.375 43.015625 40.234375 45.921875 \nQ 44.09375 48.828125 44.09375 54.296875 \nQ 44.09375 59.90625 40.109375 62.90625 \nQ 36.140625 65.921875 28.71875 65.921875 \nQ 24.65625 65.921875 20.015625 65.03125 \nQ 15.375 64.15625 9.8125 62.3125 \nL 9.8125 71.09375 \nQ 15.4375 72.65625 20.34375 73.4375 \nQ 25.25 74.21875 29.59375 74.21875 \nQ 40.828125 74.21875 47.359375 69.109375 \nQ 53.90625 64.015625 53.90625 55.328125 \nQ 53.90625 49.265625 50.4375 45.09375 \nQ 46.96875 40.921875 40.578125 39.3125 \nz\n\" id=\"DejaVuSans-51\"/>\n     </defs>\n     <g style=\"fill:#262626;\" transform=\"translate(337.090625 228.678437)scale(0.1 -0.1)\">\n      <use xlink:href=\"#DejaVuSans-51\"/>\n      <use x=\"63.623047\" xlink:href=\"#DejaVuSans-32\"/>\n      <use x=\"95.410156\" xlink:href=\"#DejaVuSans-99\"/>\n      <use x=\"150.390625\" xlink:href=\"#DejaVuSans-97\"/>\n      <use x=\"211.669922\" xlink:href=\"#DejaVuSans-112\"/>\n      <use x=\"275.146484\" xlink:href=\"#DejaVuSans-97\"/>\n      <use x=\"336.425781\" xlink:href=\"#DejaVuSans-115\"/>\n     </g>\n    </g>\n   </g>\n  </g>\n </g>\n <defs>\n  <clipPath id=\"p5b57dc1617\">\n   <rect height=\"217.44\" width=\"334.8\" x=\"50.14375\" y=\"22.318125\"/>\n  </clipPath>\n </defs>\n</svg>\n"
          },
          "metadata": {}
        }
      ]
    },
    {
      "cell_type": "markdown",
      "metadata": {
        "id": "WeeN8WvZ1BpU"
      },
      "source": [
        "En la gráfica anterior se presenta la precisión de los modelos MLP en función de la cantidad de neuronas. Como se observa, a medida que aumenta la cantidad de neuronas la precisión es mayor. A partir de ello se infiere que el aprendizaje de una red es proporcional al número de neuronas. A mayor cantidad de neuronas el aprendizaje será mayor. Sin embargo, en la gráfica se observa una saturación para el modelo con 3 capas. Se evidencia que la precisión no aumenta si se utilizan más de  20 neuronas en cada capa. Es decir, aumentar el número de neuronas solo agrega complejidad al modelo, más no precisión. De modo que aumentar la cantidad de neuronas si aumenta la precisión, pero aumentarla considerablemente no va a tener una efecto significativo. De hecho, incrementa la cantidad de neuronas aumenta el riesgo de sobreajuste en los datos. Ya que la complejidad no necesariamente va a garantizar que la clasificación sobre los datos de validación sea buena. Para ilustrar dicha idea basta con observar el modelo con 1 capa oculta. En la gráfica se muestra que para mas de 80 neuronas la precisión toma valores cercanos que aquellos modelos con más capas ocultas. Es decir, el modelo con 100 neuronas ocultas obtuvo una precisión similar que aquel con mas de 100 neuronas en las capas ocultas."
      ]
    },
    {
      "cell_type": "markdown",
      "metadata": {
        "id": "YeEeSmOg63an"
      },
      "source": [
        "# Bono (2 puntos)\n",
        "\n",
        "Implemente el mejor modelo de red neuronal. Desarrolle el método de **_backpropagation_** para realizar el entrenamiento de la red sin utilizar ningún tipo de librería que tenga funciones prestablecidas con objetivos de apoyo en el tema de Machine Learning. Puede utilizar Numpy, Pandas, etc. NO puede utilizar: SciKit-Learn, Tensorflow/Keras, PyTorch, etc.\n",
        "\n",
        "El bono debe estar COMPLETO y se debe observar una curva de aprendizaje a través de las iteraciones que permita obtener resultados aceptables con respecto a la red definida a partir de SciKit-Learn. De lo contrario, no se tomará como válido."
      ]
    },
    {
      "cell_type": "code",
      "metadata": {
        "id": "oxYVIzom_UH4"
      },
      "source": [
        "X_train, X_test, y_train, y_test = train_test_split(X_balance,Y_balance, \n",
        "                                                    stratify=Y_balance, test_size=0.5,\n",
        "                                                    random_state = 10086)\n",
        "def relu(x):\n",
        "    return np.maximum(x,0)\n",
        "def drelu(x): \n",
        "    return np.piecewise(x,[x<0,x>=0],[0,1])\n",
        "    \n",
        "#Configuracion de una capa oculta con 100 neuronas\n",
        "n=100 #Numero de neuronas\n",
        "m=31 #Numero de entradas\n",
        "\n",
        "#Datos de entrenamiento\n",
        "x=np.matrix(X_train)\n",
        "y=np.matrix(y_train)\n",
        "\n",
        "#Creacion de las matrices con los pesos \n",
        "w0=2*np.random.rand(m,n)-1\n",
        "w00=2*np.random.rand(m,n)-1\n",
        "w1=2*np.random.rand(n,1)-1\n",
        "w11=2*np.random.rand(n,1)-1\n",
        "\n",
        "#Creacion de los pesos de los bias\n",
        "wb1=2*np.random.rand(1)-1\n",
        "wb2=2*np.random.rand(1)-1\n",
        "\n",
        "#Creacion de arreglos para a y z en la capa oculta\n",
        "a1=np.empty((1,n))\n",
        "z1=np.empty((1,n))\n",
        "\n",
        "#Creacion arreglo delta de la capa oculta\n",
        "d1=np.empty((1,n))\n",
        "\n",
        "#Creacion del arreglo para guardar el valor del error en cada iteración\n",
        "L=np.empty(np.shape(x)[0])\n",
        "\n",
        "#Tasa de aprendizaje\n",
        "tasa=0.1\n",
        "\n",
        "for i in range(np.shape(x)[0]):\n",
        "\n",
        "  #Forward pass\n",
        "\n",
        "  #Calculo de a en la capa oculta\n",
        "  a1=x[i]@w0+wb1\n",
        "\n",
        "  #Calculo de z en la capa oculta\n",
        "  for j in range(np.shape(z1)[1]):\n",
        "    z1[0,j]=relu(a1[0,j])\n",
        "  \n",
        "  #Calculo de a en la capa de salida\n",
        "  a2=z1@w1+wb2\n",
        "\n",
        "  #Calculo de z en la capa de salida\n",
        "  z2=relu(a2)\n",
        "\n",
        "  #Calculo de la funcion de error\n",
        "  L[i]=(1/2)*(z2-y[0,i])**2\n",
        "\n",
        "  #Backpropagation\n",
        "\n",
        "  #Calculo del delta de la capa de salida\n",
        "  d2=(z2-y[0,i])\n",
        "  \n",
        "  #Calculo del delta de la capa oculta\n",
        "  for j in range(np.shape(d1)[1]):\n",
        "    d1[0,j]=d2*w1[j]*drelu(a1[0,j])\n",
        "  \n",
        "  #Calculo del gradiente de los pesos\n",
        "  Dw0=d1.T@x[i]\n",
        "  Dw1=d2@z1\n",
        "  Dwb2=d2\n",
        "  Dwb1=d1\n",
        "\n",
        "  #Actualización de los pesos\n",
        "  w0=w0-tasa*Dw0.T\n",
        "  w1=w1-tasa*Dw1.T\n",
        "  wb1=wb1-tasa*Dwb1\n",
        "  wb2=wb2-tasa*Dwb2"
      ],
      "execution_count": null,
      "outputs": []
    },
    {
      "cell_type": "code",
      "metadata": {
        "colab": {
          "base_uri": "https://localhost:8080/",
          "height": 408
        },
        "id": "2xp9GP3-3agj",
        "outputId": "cd56fa0e-c804-4049-9b3a-7929e79c7687"
      },
      "source": [
        "#Grafica del error\n",
        "plt.plot(L)\n",
        "plt.xlabel('Iteración')\n",
        "plt.ylabel('Valor del error')\n",
        "plt.title('Error')"
      ],
      "execution_count": null,
      "outputs": [
        {
          "output_type": "execute_result",
          "data": {
            "text/plain": [
              "Text(0.5, 1.0, 'Error')"
            ]
          },
          "metadata": {},
          "execution_count": 253
        },
        {
          "output_type": "display_data",
          "data": {
            "text/plain": [
              "<Figure size 432x288 with 1 Axes>"
            ],
            "image/svg+xml": "<?xml version=\"1.0\" encoding=\"utf-8\" standalone=\"no\"?>\n<!DOCTYPE svg PUBLIC \"-//W3C//DTD SVG 1.1//EN\"\n  \"http://www.w3.org/Graphics/SVG/1.1/DTD/svg11.dtd\">\n<!-- Created with matplotlib (https://matplotlib.org/) -->\n<svg height=\"277.314375pt\" version=\"1.1\" viewBox=\"0 0 386.850786 277.314375\" width=\"386.850786pt\" xmlns=\"http://www.w3.org/2000/svg\" xmlns:xlink=\"http://www.w3.org/1999/xlink\">\n <defs>\n  <style type=\"text/css\">\n*{stroke-linecap:butt;stroke-linejoin:round;}\n  </style>\n </defs>\n <g id=\"figure_1\">\n  <g id=\"patch_1\">\n   <path d=\"M 0 277.314375 \nL 386.850786 277.314375 \nL 386.850786 0 \nL 0 0 \nz\n\" style=\"fill:#ffffff;\"/>\n  </g>\n  <g id=\"axes_1\">\n   <g id=\"patch_2\">\n    <path d=\"M 40.603125 239.758125 \nL 375.403125 239.758125 \nL 375.403125 22.318125 \nL 40.603125 22.318125 \nz\n\" style=\"fill:#ffffff;\"/>\n   </g>\n   <g id=\"matplotlib.axis_1\">\n    <g id=\"xtick_1\">\n     <g id=\"text_1\">\n      <!-- 0 -->\n      <defs>\n       <path d=\"M 31.78125 66.40625 \nQ 24.171875 66.40625 20.328125 58.90625 \nQ 16.5 51.421875 16.5 36.375 \nQ 16.5 21.390625 20.328125 13.890625 \nQ 24.171875 6.390625 31.78125 6.390625 \nQ 39.453125 6.390625 43.28125 13.890625 \nQ 47.125 21.390625 47.125 36.375 \nQ 47.125 51.421875 43.28125 58.90625 \nQ 39.453125 66.40625 31.78125 66.40625 \nz\nM 31.78125 74.21875 \nQ 44.046875 74.21875 50.515625 64.515625 \nQ 56.984375 54.828125 56.984375 36.375 \nQ 56.984375 17.96875 50.515625 8.265625 \nQ 44.046875 -1.421875 31.78125 -1.421875 \nQ 19.53125 -1.421875 13.0625 8.265625 \nQ 6.59375 17.96875 6.59375 36.375 \nQ 6.59375 54.828125 13.0625 64.515625 \nQ 19.53125 74.21875 31.78125 74.21875 \nz\n\" id=\"DejaVuSans-48\"/>\n      </defs>\n      <g style=\"fill:#262626;\" transform=\"translate(52.640057 254.356562)scale(0.1 -0.1)\">\n       <use xlink:href=\"#DejaVuSans-48\"/>\n      </g>\n     </g>\n    </g>\n    <g id=\"xtick_2\">\n     <g id=\"text_2\">\n      <!-- 5000 -->\n      <defs>\n       <path d=\"M 10.796875 72.90625 \nL 49.515625 72.90625 \nL 49.515625 64.59375 \nL 19.828125 64.59375 \nL 19.828125 46.734375 \nQ 21.96875 47.46875 24.109375 47.828125 \nQ 26.265625 48.1875 28.421875 48.1875 \nQ 40.625 48.1875 47.75 41.5 \nQ 54.890625 34.8125 54.890625 23.390625 \nQ 54.890625 11.625 47.5625 5.09375 \nQ 40.234375 -1.421875 26.90625 -1.421875 \nQ 22.3125 -1.421875 17.546875 -0.640625 \nQ 12.796875 0.140625 7.71875 1.703125 \nL 7.71875 11.625 \nQ 12.109375 9.234375 16.796875 8.0625 \nQ 21.484375 6.890625 26.703125 6.890625 \nQ 35.15625 6.890625 40.078125 11.328125 \nQ 45.015625 15.765625 45.015625 23.390625 \nQ 45.015625 31 40.078125 35.4375 \nQ 35.15625 39.890625 26.703125 39.890625 \nQ 22.75 39.890625 18.8125 39.015625 \nQ 14.890625 38.140625 10.796875 36.28125 \nz\n\" id=\"DejaVuSans-53\"/>\n      </defs>\n      <g style=\"fill:#262626;\" transform=\"translate(104.680953 254.356562)scale(0.1 -0.1)\">\n       <use xlink:href=\"#DejaVuSans-53\"/>\n       <use x=\"63.623047\" xlink:href=\"#DejaVuSans-48\"/>\n       <use x=\"127.246094\" xlink:href=\"#DejaVuSans-48\"/>\n       <use x=\"190.869141\" xlink:href=\"#DejaVuSans-48\"/>\n      </g>\n     </g>\n    </g>\n    <g id=\"xtick_3\">\n     <g id=\"text_3\">\n      <!-- 10000 -->\n      <defs>\n       <path d=\"M 12.40625 8.296875 \nL 28.515625 8.296875 \nL 28.515625 63.921875 \nL 10.984375 60.40625 \nL 10.984375 69.390625 \nL 28.421875 72.90625 \nL 38.28125 72.90625 \nL 38.28125 8.296875 \nL 54.390625 8.296875 \nL 54.390625 0 \nL 12.40625 0 \nz\n\" id=\"DejaVuSans-49\"/>\n      </defs>\n      <g style=\"fill:#262626;\" transform=\"translate(163.084348 254.356562)scale(0.1 -0.1)\">\n       <use xlink:href=\"#DejaVuSans-49\"/>\n       <use x=\"63.623047\" xlink:href=\"#DejaVuSans-48\"/>\n       <use x=\"127.246094\" xlink:href=\"#DejaVuSans-48\"/>\n       <use x=\"190.869141\" xlink:href=\"#DejaVuSans-48\"/>\n       <use x=\"254.492188\" xlink:href=\"#DejaVuSans-48\"/>\n      </g>\n     </g>\n    </g>\n    <g id=\"xtick_4\">\n     <g id=\"text_4\">\n      <!-- 15000 -->\n      <g style=\"fill:#262626;\" transform=\"translate(224.668994 254.356562)scale(0.1 -0.1)\">\n       <use xlink:href=\"#DejaVuSans-49\"/>\n       <use x=\"63.623047\" xlink:href=\"#DejaVuSans-53\"/>\n       <use x=\"127.246094\" xlink:href=\"#DejaVuSans-48\"/>\n       <use x=\"190.869141\" xlink:href=\"#DejaVuSans-48\"/>\n       <use x=\"254.492188\" xlink:href=\"#DejaVuSans-48\"/>\n      </g>\n     </g>\n    </g>\n    <g id=\"xtick_5\">\n     <g id=\"text_5\">\n      <!-- 20000 -->\n      <defs>\n       <path d=\"M 19.1875 8.296875 \nL 53.609375 8.296875 \nL 53.609375 0 \nL 7.328125 0 \nL 7.328125 8.296875 \nQ 12.9375 14.109375 22.625 23.890625 \nQ 32.328125 33.6875 34.8125 36.53125 \nQ 39.546875 41.84375 41.421875 45.53125 \nQ 43.3125 49.21875 43.3125 52.78125 \nQ 43.3125 58.59375 39.234375 62.25 \nQ 35.15625 65.921875 28.609375 65.921875 \nQ 23.96875 65.921875 18.8125 64.3125 \nQ 13.671875 62.703125 7.8125 59.421875 \nL 7.8125 69.390625 \nQ 13.765625 71.78125 18.9375 73 \nQ 24.125 74.21875 28.421875 74.21875 \nQ 39.75 74.21875 46.484375 68.546875 \nQ 53.21875 62.890625 53.21875 53.421875 \nQ 53.21875 48.921875 51.53125 44.890625 \nQ 49.859375 40.875 45.40625 35.40625 \nQ 44.1875 33.984375 37.640625 27.21875 \nQ 31.109375 20.453125 19.1875 8.296875 \nz\n\" id=\"DejaVuSans-50\"/>\n      </defs>\n      <g style=\"fill:#262626;\" transform=\"translate(286.25364 254.356562)scale(0.1 -0.1)\">\n       <use xlink:href=\"#DejaVuSans-50\"/>\n       <use x=\"63.623047\" xlink:href=\"#DejaVuSans-48\"/>\n       <use x=\"127.246094\" xlink:href=\"#DejaVuSans-48\"/>\n       <use x=\"190.869141\" xlink:href=\"#DejaVuSans-48\"/>\n       <use x=\"254.492188\" xlink:href=\"#DejaVuSans-48\"/>\n      </g>\n     </g>\n    </g>\n    <g id=\"xtick_6\">\n     <g id=\"text_6\">\n      <!-- 25000 -->\n      <g style=\"fill:#262626;\" transform=\"translate(347.838286 254.356562)scale(0.1 -0.1)\">\n       <use xlink:href=\"#DejaVuSans-50\"/>\n       <use x=\"63.623047\" xlink:href=\"#DejaVuSans-53\"/>\n       <use x=\"127.246094\" xlink:href=\"#DejaVuSans-48\"/>\n       <use x=\"190.869141\" xlink:href=\"#DejaVuSans-48\"/>\n       <use x=\"254.492188\" xlink:href=\"#DejaVuSans-48\"/>\n      </g>\n     </g>\n    </g>\n    <g id=\"text_7\">\n     <!-- Iteración -->\n     <defs>\n      <path d=\"M 9.8125 72.90625 \nL 19.671875 72.90625 \nL 19.671875 0 \nL 9.8125 0 \nz\n\" id=\"DejaVuSans-73\"/>\n      <path d=\"M 18.3125 70.21875 \nL 18.3125 54.6875 \nL 36.8125 54.6875 \nL 36.8125 47.703125 \nL 18.3125 47.703125 \nL 18.3125 18.015625 \nQ 18.3125 11.328125 20.140625 9.421875 \nQ 21.96875 7.515625 27.59375 7.515625 \nL 36.8125 7.515625 \nL 36.8125 0 \nL 27.59375 0 \nQ 17.1875 0 13.234375 3.875 \nQ 9.28125 7.765625 9.28125 18.015625 \nL 9.28125 47.703125 \nL 2.6875 47.703125 \nL 2.6875 54.6875 \nL 9.28125 54.6875 \nL 9.28125 70.21875 \nz\n\" id=\"DejaVuSans-116\"/>\n      <path d=\"M 56.203125 29.59375 \nL 56.203125 25.203125 \nL 14.890625 25.203125 \nQ 15.484375 15.921875 20.484375 11.0625 \nQ 25.484375 6.203125 34.421875 6.203125 \nQ 39.59375 6.203125 44.453125 7.46875 \nQ 49.3125 8.734375 54.109375 11.28125 \nL 54.109375 2.78125 \nQ 49.265625 0.734375 44.1875 -0.34375 \nQ 39.109375 -1.421875 33.890625 -1.421875 \nQ 20.796875 -1.421875 13.15625 6.1875 \nQ 5.515625 13.8125 5.515625 26.8125 \nQ 5.515625 40.234375 12.765625 48.109375 \nQ 20.015625 56 32.328125 56 \nQ 43.359375 56 49.78125 48.890625 \nQ 56.203125 41.796875 56.203125 29.59375 \nz\nM 47.21875 32.234375 \nQ 47.125 39.59375 43.09375 43.984375 \nQ 39.0625 48.390625 32.421875 48.390625 \nQ 24.90625 48.390625 20.390625 44.140625 \nQ 15.875 39.890625 15.1875 32.171875 \nz\n\" id=\"DejaVuSans-101\"/>\n      <path d=\"M 41.109375 46.296875 \nQ 39.59375 47.171875 37.8125 47.578125 \nQ 36.03125 48 33.890625 48 \nQ 26.265625 48 22.1875 43.046875 \nQ 18.109375 38.09375 18.109375 28.8125 \nL 18.109375 0 \nL 9.078125 0 \nL 9.078125 54.6875 \nL 18.109375 54.6875 \nL 18.109375 46.1875 \nQ 20.953125 51.171875 25.484375 53.578125 \nQ 30.03125 56 36.53125 56 \nQ 37.453125 56 38.578125 55.875 \nQ 39.703125 55.765625 41.0625 55.515625 \nz\n\" id=\"DejaVuSans-114\"/>\n      <path d=\"M 34.28125 27.484375 \nQ 23.390625 27.484375 19.1875 25 \nQ 14.984375 22.515625 14.984375 16.5 \nQ 14.984375 11.71875 18.140625 8.90625 \nQ 21.296875 6.109375 26.703125 6.109375 \nQ 34.1875 6.109375 38.703125 11.40625 \nQ 43.21875 16.703125 43.21875 25.484375 \nL 43.21875 27.484375 \nz\nM 52.203125 31.203125 \nL 52.203125 0 \nL 43.21875 0 \nL 43.21875 8.296875 \nQ 40.140625 3.328125 35.546875 0.953125 \nQ 30.953125 -1.421875 24.3125 -1.421875 \nQ 15.921875 -1.421875 10.953125 3.296875 \nQ 6 8.015625 6 15.921875 \nQ 6 25.140625 12.171875 29.828125 \nQ 18.359375 34.515625 30.609375 34.515625 \nL 43.21875 34.515625 \nL 43.21875 35.40625 \nQ 43.21875 41.609375 39.140625 45 \nQ 35.0625 48.390625 27.6875 48.390625 \nQ 23 48.390625 18.546875 47.265625 \nQ 14.109375 46.140625 10.015625 43.890625 \nL 10.015625 52.203125 \nQ 14.9375 54.109375 19.578125 55.046875 \nQ 24.21875 56 28.609375 56 \nQ 40.484375 56 46.34375 49.84375 \nQ 52.203125 43.703125 52.203125 31.203125 \nz\n\" id=\"DejaVuSans-97\"/>\n      <path d=\"M 48.78125 52.59375 \nL 48.78125 44.1875 \nQ 44.96875 46.296875 41.140625 47.34375 \nQ 37.3125 48.390625 33.40625 48.390625 \nQ 24.65625 48.390625 19.8125 42.84375 \nQ 14.984375 37.3125 14.984375 27.296875 \nQ 14.984375 17.28125 19.8125 11.734375 \nQ 24.65625 6.203125 33.40625 6.203125 \nQ 37.3125 6.203125 41.140625 7.25 \nQ 44.96875 8.296875 48.78125 10.40625 \nL 48.78125 2.09375 \nQ 45.015625 0.34375 40.984375 -0.53125 \nQ 36.96875 -1.421875 32.421875 -1.421875 \nQ 20.0625 -1.421875 12.78125 6.34375 \nQ 5.515625 14.109375 5.515625 27.296875 \nQ 5.515625 40.671875 12.859375 48.328125 \nQ 20.21875 56 33.015625 56 \nQ 37.15625 56 41.109375 55.140625 \nQ 45.0625 54.296875 48.78125 52.59375 \nz\n\" id=\"DejaVuSans-99\"/>\n      <path d=\"M 9.421875 54.6875 \nL 18.40625 54.6875 \nL 18.40625 0 \nL 9.421875 0 \nz\nM 9.421875 75.984375 \nL 18.40625 75.984375 \nL 18.40625 64.59375 \nL 9.421875 64.59375 \nz\n\" id=\"DejaVuSans-105\"/>\n      <path d=\"M 30.609375 48.390625 \nQ 23.390625 48.390625 19.1875 42.75 \nQ 14.984375 37.109375 14.984375 27.296875 \nQ 14.984375 17.484375 19.15625 11.84375 \nQ 23.34375 6.203125 30.609375 6.203125 \nQ 37.796875 6.203125 41.984375 11.859375 \nQ 46.1875 17.53125 46.1875 27.296875 \nQ 46.1875 37.015625 41.984375 42.703125 \nQ 37.796875 48.390625 30.609375 48.390625 \nz\nM 30.609375 56 \nQ 42.328125 56 49.015625 48.375 \nQ 55.71875 40.765625 55.71875 27.296875 \nQ 55.71875 13.875 49.015625 6.21875 \nQ 42.328125 -1.421875 30.609375 -1.421875 \nQ 18.84375 -1.421875 12.171875 6.21875 \nQ 5.515625 13.875 5.515625 27.296875 \nQ 5.515625 40.765625 12.171875 48.375 \nQ 18.84375 56 30.609375 56 \nz\nM 37.40625 79.984375 \nL 47.125 79.984375 \nL 31.21875 61.625 \nL 23.734375 61.625 \nz\n\" id=\"DejaVuSans-243\"/>\n      <path d=\"M 54.890625 33.015625 \nL 54.890625 0 \nL 45.90625 0 \nL 45.90625 32.71875 \nQ 45.90625 40.484375 42.875 44.328125 \nQ 39.84375 48.1875 33.796875 48.1875 \nQ 26.515625 48.1875 22.3125 43.546875 \nQ 18.109375 38.921875 18.109375 30.90625 \nL 18.109375 0 \nL 9.078125 0 \nL 9.078125 54.6875 \nL 18.109375 54.6875 \nL 18.109375 46.1875 \nQ 21.34375 51.125 25.703125 53.5625 \nQ 30.078125 56 35.796875 56 \nQ 45.21875 56 50.046875 50.171875 \nQ 54.890625 44.34375 54.890625 33.015625 \nz\n\" id=\"DejaVuSans-110\"/>\n     </defs>\n     <g style=\"fill:#262626;\" transform=\"translate(186.005469 268.034687)scale(0.1 -0.1)\">\n      <use xlink:href=\"#DejaVuSans-73\"/>\n      <use x=\"29.492188\" xlink:href=\"#DejaVuSans-116\"/>\n      <use x=\"68.701172\" xlink:href=\"#DejaVuSans-101\"/>\n      <use x=\"130.224609\" xlink:href=\"#DejaVuSans-114\"/>\n      <use x=\"171.337891\" xlink:href=\"#DejaVuSans-97\"/>\n      <use x=\"232.617188\" xlink:href=\"#DejaVuSans-99\"/>\n      <use x=\"287.597656\" xlink:href=\"#DejaVuSans-105\"/>\n      <use x=\"315.380859\" xlink:href=\"#DejaVuSans-243\"/>\n      <use x=\"376.5625\" xlink:href=\"#DejaVuSans-110\"/>\n     </g>\n    </g>\n   </g>\n   <g id=\"matplotlib.axis_2\">\n    <g id=\"ytick_1\">\n     <g id=\"text_8\">\n      <!-- 0 -->\n      <g style=\"fill:#262626;\" transform=\"translate(27.240625 233.673707)scale(0.1 -0.1)\">\n       <use xlink:href=\"#DejaVuSans-48\"/>\n      </g>\n     </g>\n    </g>\n    <g id=\"ytick_2\">\n     <g id=\"text_9\">\n      <!-- 5 -->\n      <g style=\"fill:#262626;\" transform=\"translate(27.240625 203.987603)scale(0.1 -0.1)\">\n       <use xlink:href=\"#DejaVuSans-53\"/>\n      </g>\n     </g>\n    </g>\n    <g id=\"ytick_3\">\n     <g id=\"text_10\">\n      <!-- 10 -->\n      <g style=\"fill:#262626;\" transform=\"translate(20.878125 174.301498)scale(0.1 -0.1)\">\n       <use xlink:href=\"#DejaVuSans-49\"/>\n       <use x=\"63.623047\" xlink:href=\"#DejaVuSans-48\"/>\n      </g>\n     </g>\n    </g>\n    <g id=\"ytick_4\">\n     <g id=\"text_11\">\n      <!-- 15 -->\n      <g style=\"fill:#262626;\" transform=\"translate(20.878125 144.615393)scale(0.1 -0.1)\">\n       <use xlink:href=\"#DejaVuSans-49\"/>\n       <use x=\"63.623047\" xlink:href=\"#DejaVuSans-53\"/>\n      </g>\n     </g>\n    </g>\n    <g id=\"ytick_5\">\n     <g id=\"text_12\">\n      <!-- 20 -->\n      <g style=\"fill:#262626;\" transform=\"translate(20.878125 114.929288)scale(0.1 -0.1)\">\n       <use xlink:href=\"#DejaVuSans-50\"/>\n       <use x=\"63.623047\" xlink:href=\"#DejaVuSans-48\"/>\n      </g>\n     </g>\n    </g>\n    <g id=\"ytick_6\">\n     <g id=\"text_13\">\n      <!-- 25 -->\n      <g style=\"fill:#262626;\" transform=\"translate(20.878125 85.243183)scale(0.1 -0.1)\">\n       <use xlink:href=\"#DejaVuSans-50\"/>\n       <use x=\"63.623047\" xlink:href=\"#DejaVuSans-53\"/>\n      </g>\n     </g>\n    </g>\n    <g id=\"ytick_7\">\n     <g id=\"text_14\">\n      <!-- 30 -->\n      <defs>\n       <path d=\"M 40.578125 39.3125 \nQ 47.65625 37.796875 51.625 33 \nQ 55.609375 28.21875 55.609375 21.1875 \nQ 55.609375 10.40625 48.1875 4.484375 \nQ 40.765625 -1.421875 27.09375 -1.421875 \nQ 22.515625 -1.421875 17.65625 -0.515625 \nQ 12.796875 0.390625 7.625 2.203125 \nL 7.625 11.71875 \nQ 11.71875 9.328125 16.59375 8.109375 \nQ 21.484375 6.890625 26.8125 6.890625 \nQ 36.078125 6.890625 40.9375 10.546875 \nQ 45.796875 14.203125 45.796875 21.1875 \nQ 45.796875 27.640625 41.28125 31.265625 \nQ 36.765625 34.90625 28.71875 34.90625 \nL 20.21875 34.90625 \nL 20.21875 43.015625 \nL 29.109375 43.015625 \nQ 36.375 43.015625 40.234375 45.921875 \nQ 44.09375 48.828125 44.09375 54.296875 \nQ 44.09375 59.90625 40.109375 62.90625 \nQ 36.140625 65.921875 28.71875 65.921875 \nQ 24.65625 65.921875 20.015625 65.03125 \nQ 15.375 64.15625 9.8125 62.3125 \nL 9.8125 71.09375 \nQ 15.4375 72.65625 20.34375 73.4375 \nQ 25.25 74.21875 29.59375 74.21875 \nQ 40.828125 74.21875 47.359375 69.109375 \nQ 53.90625 64.015625 53.90625 55.328125 \nQ 53.90625 49.265625 50.4375 45.09375 \nQ 46.96875 40.921875 40.578125 39.3125 \nz\n\" id=\"DejaVuSans-51\"/>\n      </defs>\n      <g style=\"fill:#262626;\" transform=\"translate(20.878125 55.557079)scale(0.1 -0.1)\">\n       <use xlink:href=\"#DejaVuSans-51\"/>\n       <use x=\"63.623047\" xlink:href=\"#DejaVuSans-48\"/>\n      </g>\n     </g>\n    </g>\n    <g id=\"text_15\">\n     <!-- Valor del error -->\n     <defs>\n      <path d=\"M 28.609375 0 \nL 0.78125 72.90625 \nL 11.078125 72.90625 \nL 34.1875 11.53125 \nL 57.328125 72.90625 \nL 67.578125 72.90625 \nL 39.796875 0 \nz\n\" id=\"DejaVuSans-86\"/>\n      <path d=\"M 9.421875 75.984375 \nL 18.40625 75.984375 \nL 18.40625 0 \nL 9.421875 0 \nz\n\" id=\"DejaVuSans-108\"/>\n      <path d=\"M 30.609375 48.390625 \nQ 23.390625 48.390625 19.1875 42.75 \nQ 14.984375 37.109375 14.984375 27.296875 \nQ 14.984375 17.484375 19.15625 11.84375 \nQ 23.34375 6.203125 30.609375 6.203125 \nQ 37.796875 6.203125 41.984375 11.859375 \nQ 46.1875 17.53125 46.1875 27.296875 \nQ 46.1875 37.015625 41.984375 42.703125 \nQ 37.796875 48.390625 30.609375 48.390625 \nz\nM 30.609375 56 \nQ 42.328125 56 49.015625 48.375 \nQ 55.71875 40.765625 55.71875 27.296875 \nQ 55.71875 13.875 49.015625 6.21875 \nQ 42.328125 -1.421875 30.609375 -1.421875 \nQ 18.84375 -1.421875 12.171875 6.21875 \nQ 5.515625 13.875 5.515625 27.296875 \nQ 5.515625 40.765625 12.171875 48.375 \nQ 18.84375 56 30.609375 56 \nz\n\" id=\"DejaVuSans-111\"/>\n      <path id=\"DejaVuSans-32\"/>\n      <path d=\"M 45.40625 46.390625 \nL 45.40625 75.984375 \nL 54.390625 75.984375 \nL 54.390625 0 \nL 45.40625 0 \nL 45.40625 8.203125 \nQ 42.578125 3.328125 38.25 0.953125 \nQ 33.9375 -1.421875 27.875 -1.421875 \nQ 17.96875 -1.421875 11.734375 6.484375 \nQ 5.515625 14.40625 5.515625 27.296875 \nQ 5.515625 40.1875 11.734375 48.09375 \nQ 17.96875 56 27.875 56 \nQ 33.9375 56 38.25 53.625 \nQ 42.578125 51.265625 45.40625 46.390625 \nz\nM 14.796875 27.296875 \nQ 14.796875 17.390625 18.875 11.75 \nQ 22.953125 6.109375 30.078125 6.109375 \nQ 37.203125 6.109375 41.296875 11.75 \nQ 45.40625 17.390625 45.40625 27.296875 \nQ 45.40625 37.203125 41.296875 42.84375 \nQ 37.203125 48.484375 30.078125 48.484375 \nQ 22.953125 48.484375 18.875 42.84375 \nQ 14.796875 37.203125 14.796875 27.296875 \nz\n\" id=\"DejaVuSans-100\"/>\n     </defs>\n     <g style=\"fill:#262626;\" transform=\"translate(14.798438 166.559219)rotate(-90)scale(0.1 -0.1)\">\n      <use xlink:href=\"#DejaVuSans-86\"/>\n      <use x=\"60.658203\" xlink:href=\"#DejaVuSans-97\"/>\n      <use x=\"121.9375\" xlink:href=\"#DejaVuSans-108\"/>\n      <use x=\"149.720703\" xlink:href=\"#DejaVuSans-111\"/>\n      <use x=\"210.902344\" xlink:href=\"#DejaVuSans-114\"/>\n      <use x=\"252.015625\" xlink:href=\"#DejaVuSans-32\"/>\n      <use x=\"283.802734\" xlink:href=\"#DejaVuSans-100\"/>\n      <use x=\"347.279297\" xlink:href=\"#DejaVuSans-101\"/>\n      <use x=\"408.802734\" xlink:href=\"#DejaVuSans-108\"/>\n      <use x=\"436.585938\" xlink:href=\"#DejaVuSans-32\"/>\n      <use x=\"468.373047\" xlink:href=\"#DejaVuSans-101\"/>\n      <use x=\"529.896484\" xlink:href=\"#DejaVuSans-114\"/>\n      <use x=\"569.259766\" xlink:href=\"#DejaVuSans-114\"/>\n      <use x=\"608.123047\" xlink:href=\"#DejaVuSans-111\"/>\n      <use x=\"669.304688\" xlink:href=\"#DejaVuSans-114\"/>\n     </g>\n    </g>\n   </g>\n   <g id=\"line2d_1\">\n    <path clip-path=\"url(#p8966e43c55)\" d=\"M 55.821307 148.743941 \nL 55.919842 120.057158 \nL 55.944476 229.874489 \nL 55.981427 229.874489 \nL 56.055328 226.905878 \nL 56.067645 229.852527 \nL 56.079962 32.201761 \nL 56.116913 229.874489 \nL 56.178498 226.905878 \nL 56.190815 226.905878 \nL 56.203132 229.874489 \nL 56.252399 229.822782 \nL 56.28935 162.564266 \nL 56.313984 229.874489 \nL 56.363252 226.905878 \nL 56.375569 229.354324 \nL 56.387886 226.905878 \nL 56.400202 159.907414 \nL 56.412519 229.874489 \nL 56.486421 226.905878 \nL 56.584956 229.874489 \nL 56.597273 226.905878 \nL 56.60959 215.707833 \nL 56.671175 229.874489 \nL 56.695809 229.874489 \nL 56.720443 229.855398 \nL 56.73276 212.051407 \nL 56.76971 229.874489 \nL 56.831295 229.821092 \nL 56.89288 225.564966 \nL 56.868246 229.874489 \nL 56.942147 226.905878 \nL 57.028366 223.324842 \nL 57.065317 229.874489 \nL 57.089951 229.874489 \nL 57.139218 219.272154 \nL 57.200803 229.874489 \nL 57.21312 229.783386 \nL 57.225437 229.874489 \nL 57.336289 220.180081 \nL 57.348606 226.905878 \nL 57.360923 229.563706 \nL 57.397874 229.010135 \nL 57.410191 198.323116 \nL 57.447141 229.874489 \nL 57.508726 228.073979 \nL 57.582628 229.874489 \nL 57.607262 226.664679 \nL 57.644212 228.235838 \nL 57.668846 224.85375 \nL 57.767382 229.874489 \nL 57.816649 229.874489 \nL 57.915185 211.329345 \nL 57.927502 229.874271 \nL 57.939819 229.854968 \nL 57.976769 223.553707 \nL 58.050671 229.874489 \nL 58.075305 226.905878 \nL 58.124573 227.63132 \nL 58.136889 202.362437 \nL 58.149206 229.874489 \nL 58.235425 226.905878 \nL 58.272376 228.031245 \nL 58.284693 220.876092 \nL 58.309327 229.874489 \nL 58.370911 226.905878 \nL 58.45713 225.203834 \nL 58.481764 229.874489 \nL 58.49408 226.905878 \nL 58.592616 227.700192 \nL 58.629567 229.874489 \nL 58.666517 227.208442 \nL 58.678834 214.831887 \nL 58.691151 229.874489 \nL 58.765053 229.677048 \nL 58.814321 228.990155 \nL 58.838954 229.874489 \nL 58.900539 226.905878 \nL 58.949807 229.78864 \nL 58.999075 216.395433 \nL 59.048342 229.811649 \nL 59.060659 229.874482 \nL 59.085293 229.651958 \nL 59.09761 226.677376 \nL 59.146878 229.874489 \nL 59.196145 229.617537 \nL 59.208462 229.865937 \nL 59.294681 226.905878 \nL 59.319315 228.651796 \nL 59.331632 228.667444 \nL 59.405533 227.955009 \nL 59.41785 229.858016 \nL 59.479435 221.766854 \nL 59.516386 229.874489 \nL 59.528702 229.874489 \nL 59.541019 229.853546 \nL 59.602604 226.905878 \nL 59.565653 229.874489 \nL 59.651872 229.490228 \nL 59.73809 225.322765 \nL 59.725773 229.874489 \nL 59.775041 226.905878 \nL 59.848943 229.874486 \nL 59.885893 228.813117 \nL 59.947478 228.118347 \nL 59.959795 229.874489 \nL 59.984429 227.845446 \nL 60.02138 228.390444 \nL 60.033697 222.997671 \nL 60.119915 229.858221 \nL 60.1815 226.896294 \nL 60.230767 229.594731 \nL 60.255401 226.705863 \nL 60.267718 229.874488 \nL 60.329303 229.280704 \nL 60.390888 229.874489 \nL 60.403204 228.014135 \nL 60.489423 225.354528 \nL 60.440155 229.874489 \nL 60.50174 228.575295 \nL 60.526374 229.874489 \nL 60.612592 229.84627 \nL 60.649543 226.905878 \nL 60.698811 229.872129 \nL 60.723445 228.596223 \nL 60.797346 229.874489 \nL 60.785029 226.370153 \nL 60.846614 229.786983 \nL 60.858931 226.687048 \nL 60.895882 229.874489 \nL 60.957466 229.755806 \nL 60.994417 225.569474 \nL 61.043685 229.874489 \nL 61.056002 229.874489 \nL 61.080636 229.874489 \nL 61.117586 225.536432 \nL 61.191488 229.861213 \nL 61.253073 224.477623 \nL 61.240756 229.874489 \nL 61.314657 226.905878 \nL 61.413193 229.874489 \nL 61.42551 227.245569 \nL 61.511728 229.874489 \nL 61.536362 229.871317 \nL 61.647214 226.905878 \nL 61.560996 229.874489 \nL 61.659531 228.81023 \nL 61.671848 229.801446 \nL 61.708799 228.067052 \nL 61.721116 229.722437 \nL 61.733433 220.529913 \nL 61.74575 229.867139 \nL 61.831968 227.055026 \nL 61.942821 229.874489 \nL 61.967454 227.205585 \nL 62.053673 229.621522 \nL 62.102941 229.874489 \nL 62.164525 228.170087 \nL 62.189159 229.777054 \nL 62.250744 226.905878 \nL 62.263061 225.994536 \nL 62.300012 229.567798 \nL 62.336962 227.862021 \nL 62.38623 229.861525 \nL 62.398547 226.905878 \nL 62.460132 229.265556 \nL 62.472449 229.726874 \nL 62.484765 227.878351 \nL 62.509399 229.344078 \nL 62.595618 224.292444 \nL 62.583301 229.798593 \nL 62.607935 229.655125 \nL 62.620252 229.622474 \nL 62.632569 227.821532 \nL 62.694153 229.854632 \nL 62.731104 228.873798 \nL 62.817323 229.872204 \nL 62.780372 225.897613 \nL 62.82964 228.978319 \nL 62.841956 227.460989 \nL 62.915858 229.874489 \nL 62.928175 229.807423 \nL 62.98976 228.35447 \nL 62.965126 229.874364 \nL 63.002077 229.753329 \nL 63.014393 226.302515 \nL 63.02671 229.874489 \nL 63.100612 229.588378 \nL 63.162197 228.628282 \nL 63.18683 229.874489 \nL 63.273049 227.07392 \nL 63.297683 229.87436 \nL 63.359267 227.171989 \nL 63.420852 228.944555 \nL 63.47012 229.846522 \nL 63.457803 227.84633 \nL 63.494754 229.689339 \nL 63.507071 227.009541 \nL 63.580972 229.865418 \nL 63.593289 228.884611 \nL 63.605606 229.874489 \nL 63.654874 227.141444 \nL 63.691825 229.335946 \nL 63.704141 228.263342 \nL 63.716458 229.874489 \nL 63.79036 228.933333 \nL 63.913529 229.874489 \nL 63.95048 227.684005 \nL 64.024382 229.016548 \nL 64.1106 229.874489 \nL 64.073649 227.822877 \nL 64.122917 229.861183 \nL 64.147551 227.932079 \nL 64.184502 229.874489 \nL 64.233769 228.129062 \nL 64.27072 229.874489 \nL 64.258403 226.905878 \nL 64.344622 229.722339 \nL 64.418523 227.671169 \nL 64.39389 229.874445 \nL 64.467791 228.334473 \nL 64.517059 229.613738 \nL 64.504742 227.78732 \nL 64.578643 228.416009 \nL 64.664862 229.874489 \nL 64.701813 229.86419 \nL 64.812665 227.103296 \nL 64.738764 229.874489 \nL 64.824982 228.975235 \nL 64.837299 228.946092 \nL 64.911201 229.874489 \nL 64.923517 228.363076 \nL 64.948151 229.726922 \nL 64.972785 226.905878 \nL 65.046687 229.874489 \nL 65.059004 229.500234 \nL 65.108271 228.763148 \nL 65.132905 229.874489 \nL 65.206807 226.783635 \nL 65.243758 228.627161 \nL 65.256075 228.148001 \nL 65.293025 229.570406 \nL 65.317659 228.882072 \nL 65.428512 229.874346 \nL 65.391561 226.928858 \nL 65.440828 229.779018 \nL 65.465462 228.050025 \nL 65.539364 229.874489 \nL 65.551681 229.874489 \nL 65.625582 227.730419 \nL 65.662533 229.779632 \nL 65.67485 229.874489 \nL 65.687167 227.785197 \nL 65.785703 229.698818 \nL 65.798019 228.565933 \nL 65.810336 229.874489 \nL 65.884238 228.913861 \nL 66.007407 229.874481 \nL 66.019724 229.869259 \nL 66.130577 226.884061 \nL 66.068992 229.873855 \nL 66.15521 226.905878 \nL 66.179844 229.496761 \nL 66.266063 228.39747 \nL 66.339964 229.874489 \nL 66.364598 228.257237 \nL 66.376915 226.905878 \nL 66.389232 229.472826 \nL 66.475451 227.748035 \nL 66.573986 229.780599 \nL 66.59862 229.779208 \nL 66.684838 228.098172 \nL 66.635571 229.874489 \nL 66.709472 228.255673 \nL 66.721789 229.874489 \nL 66.746423 228.005357 \nL 66.820325 229.393242 \nL 66.832641 229.757042 \nL 66.844958 227.951323 \nL 66.931177 229.490377 \nL 66.980445 229.848438 \nL 67.017395 228.619871 \nL 67.115931 229.874489 \nL 67.103614 228.077343 \nL 67.128248 228.838259 \nL 67.189832 229.744577 \nL 67.226783 228.665245 \nL 67.2391 228.450833 \nL 67.251417 229.668527 \nL 67.300685 229.176559 \nL 67.325319 229.729495 \nL 67.423854 226.315345 \nL 67.349953 229.872879 \nL 67.436171 226.617598 \nL 67.460805 229.874489 \nL 67.547023 229.771481 \nL 67.583974 227.141193 \nL 67.633242 229.776798 \nL 67.670193 228.900722 \nL 67.68251 228.540189 \nL 67.744094 229.874489 \nL 67.756411 228.928611 \nL 67.768728 229.695588 \nL 67.793362 227.979308 \nL 67.854947 229.310975 \nL 67.867264 228.59596 \nL 67.916531 229.868386 \nL 67.953482 229.479481 \nL 68.052017 229.874489 \nL 67.978116 227.423283 \nL 68.064334 229.822124 \nL 68.101285 228.032112 \nL 68.113602 229.874489 \nL 68.187504 229.38435 \nL 68.236771 229.706434 \nL 68.249088 229.195638 \nL 68.273722 229.466054 \nL 68.286039 228.196463 \nL 68.347624 229.874489 \nL 68.372258 229.863387 \nL 68.433842 229.873615 \nL 68.48311 227.82608 \nL 68.507744 227.430573 \nL 68.606279 229.874489 \nL 68.64323 228.458972 \nL 68.717132 229.073854 \nL 68.741766 229.753921 \nL 68.754082 229.868789 \nL 68.766399 228.944414 \nL 68.791033 229.635023 \nL 68.840301 228.173338 \nL 68.827984 229.874489 \nL 68.901886 229.611936 \nL 68.975787 227.706566 \nL 68.926519 229.874489 \nL 69.000421 229.19138 \nL 69.012738 229.874489 \nL 69.062006 228.345712 \nL 69.111273 229.308843 \nL 69.12359 229.264616 \nL 69.135907 229.496098 \nL 69.209809 229.874489 \nL 69.24676 226.905878 \nL 69.28371 229.820882 \nL 69.271393 226.828233 \nL 69.357612 229.077766 \nL 69.394563 229.863721 \nL 69.382246 228.964284 \nL 69.468464 229.451611 \nL 69.480781 228.649163 \nL 69.530049 229.874489 \nL 69.567 229.743727 \nL 69.579317 229.594216 \nL 69.665535 223.31892 \nL 69.603951 229.856892 \nL 69.690169 228.613513 \nL 69.813338 229.874489 \nL 69.899557 226.905878 \nL 69.924191 228.637965 \nL 69.985775 229.847512 \nL 69.973458 228.520281 \nL 70.022726 229.840209 \nL 70.084311 227.775841 \nL 70.133578 229.589423 \nL 70.158212 229.874489 \nL 70.170529 229.666588 \nL 70.219797 226.52926 \nL 70.269065 229.874489 \nL 70.281382 229.185317 \nL 70.355283 228.417433 \nL 70.330649 229.642452 \nL 70.3676 229.521701 \nL 70.404551 228.720041 \nL 70.416868 229.874489 \nL 70.490769 227.583366 \nL 70.52772 228.750243 \nL 70.601622 228.565019 \nL 70.65089 229.874488 \nL 70.774059 227.827923 \nL 70.84796 229.874489 \nL 70.823327 225.31677 \nL 70.872594 228.518549 \nL 70.897228 227.241668 \nL 70.958813 229.806449 \nL 70.97113 228.120328 \nL 71.057348 229.874357 \nL 71.045031 227.095527 \nL 71.094299 229.660214 \nL 71.192834 228.389384 \nL 71.180517 229.868595 \nL 71.205151 229.259293 \nL 71.254419 229.874489 \nL 71.279053 228.139882 \nL 71.303687 229.04873 \nL 71.352954 229.827518 \nL 71.414539 228.470184 \nL 71.439173 226.905878 \nL 71.537708 229.874489 \nL 71.574659 226.935834 \nL 71.648561 229.669511 \nL 71.673195 229.844367 \nL 71.710145 229.091289 \nL 71.722462 227.085654 \nL 71.734779 229.874489 \nL 71.820998 227.159954 \nL 71.894899 229.874489 \nL 71.944167 229.837257 \nL 72.005752 227.46218 \nL 72.030386 229.843664 \nL 72.055019 228.992022 \nL 72.067336 229.874489 \nL 72.116604 228.123506 \nL 72.141238 229.744341 \nL 72.153555 226.905878 \nL 72.25209 228.842582 \nL 72.338309 229.874489 \nL 72.313675 228.432618 \nL 72.350626 229.519188 \nL 72.37526 227.606504 \nL 72.473795 228.094336 \nL 72.547697 229.874489 \nL 72.584647 229.10609 \nL 72.596964 228.827506 \nL 72.646232 229.786991 \nL 72.658549 229.441275 \nL 72.670866 229.874489 \nL 72.683183 228.413982 \nL 72.757084 229.817263 \nL 72.769401 228.113204 \nL 72.818669 229.874489 \nL 72.85562 228.943535 \nL 72.917204 229.874489 \nL 72.929521 228.232242 \nL 72.966472 229.820368 \nL 72.978789 229.805305 \nL 73.040374 227.674184 \nL 73.028057 229.874489 \nL 73.089641 229.163325 \nL 73.151226 229.874489 \nL 73.163543 228.335219 \nL 73.212811 229.869491 \nL 73.372931 227.776634 \nL 73.409882 229.874489 \nL 73.483783 228.671048 \nL 73.520734 229.439154 \nL 73.533051 228.072724 \nL 73.570002 229.6367 \nL 73.631586 229.424699 \nL 73.680854 229.860424 \nL 73.705488 229.205213 \nL 73.717805 227.513204 \nL 73.791706 229.874489 \nL 73.804023 229.738642 \nL 73.840974 228.879731 \nL 73.877925 229.873412 \nL 73.902559 229.567608 \nL 73.927193 229.852928 \nL 73.93951 228.4511 \nL 73.951827 228.870337 \nL 73.97646 228.145745 \nL 73.988777 229.874489 \nL 74.038045 229.495184 \nL 74.124264 229.874489 \nL 74.09963 228.658533 \nL 74.148897 229.653125 \nL 74.173531 227.874323 \nL 74.222799 229.862381 \nL 74.25975 228.17142 \nL 74.296701 229.820874 \nL 74.370602 229.468732 \nL 74.395236 226.905878 \nL 74.407553 229.874489 \nL 74.469138 229.874489 \nL 74.506088 228.190178 \nL 74.57999 229.592518 \nL 74.604624 229.874489 \nL 74.616941 229.535286 \nL 74.653891 228.297474 \nL 74.690842 229.569377 \nL 74.715476 228.905479 \nL 74.752427 228.454701 \nL 74.838645 229.874489 \nL 74.949498 228.477492 \nL 75.048033 229.874489 \nL 75.072667 229.781904 \nL 75.084984 229.80928 \nL 75.097301 226.905878 \nL 75.121935 229.874489 \nL 75.195836 228.87596 \nL 75.331323 229.874489 \nL 75.429858 226.905878 \nL 75.442175 229.183904 \nL 75.454492 229.840173 \nL 75.479126 227.677935 \nL 75.553027 229.431328 \nL 75.577661 229.576534 \nL 75.589978 229.024091 \nL 75.651563 227.297424 \nL 75.626929 229.81964 \nL 75.66388 229.492355 \nL 75.676197 229.783829 \nL 75.688514 228.06145 \nL 75.725464 229.553116 \nL 75.824 227.775231 \nL 75.836317 228.733761 \nL 75.848634 228.765744 \nL 75.934852 229.874436 \nL 75.947169 229.148727 \nL 75.959486 227.157773 \nL 75.996437 229.248485 \nL 76.045704 228.2725 \nL 76.14424 229.646957 \nL 76.156557 229.637022 \nL 76.193508 228.401555 \nL 76.218141 229.835906 \nL 76.255092 229.685394 \nL 76.267409 229.784015 \nL 76.316677 228.100728 \nL 76.378262 229.347521 \nL 76.452163 227.865766 \nL 76.427529 229.602189 \nL 76.476797 229.518465 \nL 76.489114 229.874489 \nL 76.501431 229.764222 \nL 76.513748 226.966579 \nL 76.575332 229.874489 \nL 76.612283 229.679655 \nL 76.723136 228.038305 \nL 76.636917 229.772156 \nL 76.735453 228.387647 \nL 76.821671 228.07292 \nL 76.858622 229.874489 \nL 76.895573 227.532553 \nL 76.969474 228.737746 \nL 77.06801 229.874489 \nL 77.055693 227.962362 \nL 77.092643 229.836177 \nL 77.166545 228.197742 \nL 77.141911 229.874489 \nL 77.203496 229.626487 \nL 77.215813 229.75596 \nL 77.252764 227.960938 \nL 77.289714 229.874489 \nL 77.326665 228.146787 \nL 77.338982 229.8622 \nL 77.437517 229.111609 \nL 77.462151 229.040556 \nL 77.474468 229.512024 \nL 77.536053 227.756511 \nL 77.499102 229.874489 \nL 77.573004 229.430907 \nL 77.609954 229.186879 \nL 77.671539 229.874489 \nL 77.683856 227.826308 \nL 77.782392 228.989334 \nL 77.794708 229.508054 \nL 77.843976 227.805507 \nL 77.86861 228.485304 \nL 77.880927 228.1415 \nL 77.905561 229.252051 \nL 77.917878 229.021329 \nL 77.942512 229.874489 \nL 77.991779 227.753852 \nL 78.02873 229.216098 \nL 78.041047 228.311057 \nL 78.102632 229.874489 \nL 78.139582 228.549915 \nL 78.151899 229.593886 \nL 78.213484 227.77143 \nL 78.250435 229.53106 \nL 78.312019 228.21321 \nL 78.275069 229.775524 \nL 78.34897 229.187246 \nL 78.447506 229.874489 \nL 78.398238 228.294723 \nL 78.47214 229.868471 \nL 78.582992 229.023981 \nL 78.66921 229.874489 \nL 78.656893 228.507153 \nL 78.681527 228.548865 \nL 78.743112 227.57502 \nL 78.730795 229.74862 \nL 78.780063 228.757971 \nL 78.853964 229.874489 \nL 78.890915 229.55426 \nL 78.903232 227.953622 \nL 78.977134 229.874489 \nL 78.989451 229.736091 \nL 79.014084 229.874489 \nL 79.063352 228.416377 \nL 79.124937 229.519622 \nL 79.186521 228.68808 \nL 79.198838 229.858146 \nL 79.309691 226.087474 \nL 79.420543 229.874489 \nL 79.43286 229.73653 \nL 79.469811 226.905878 \nL 79.494445 229.874489 \nL 79.531395 227.782514 \nL 79.580663 229.874489 \nL 79.642248 228.011565 \nL 79.679199 229.874489 \nL 79.691516 226.905878 \nL 79.7531 229.535029 \nL 79.814685 229.829733 \nL 79.851636 228.118779 \nL 79.863953 229.844014 \nL 79.888586 227.957384 \nL 79.962488 229.48966 \nL 79.999439 227.646734 \nL 80.011756 229.874489 \nL 80.061023 229.033205 \nL 80.134925 228.079008 \nL 80.171876 229.863926 \nL 80.245777 228.459681 \nL 80.282728 229.481097 \nL 80.295045 229.874489 \nL 80.307362 229.454767 \nL 80.331996 229.576413 \nL 80.344313 225.982613 \nL 80.39358 229.874489 \nL 80.442848 227.017217 \nL 80.455165 229.851507 \nL 80.504433 226.905878 \nL 80.553701 228.558307 \nL 80.627602 229.874334 \nL 80.615285 228.061634 \nL 80.689187 229.669798 \nL 80.701504 228.674243 \nL 80.775405 229.840787 \nL 80.800039 229.177132 \nL 80.83699 229.874489 \nL 80.849307 227.217995 \nL 80.873941 229.182408 \nL 80.886258 227.345839 \nL 80.960159 229.874489 \nL 80.984793 228.420054 \nL 81.071012 229.874489 \nL 81.083329 229.681556 \nL 81.095645 227.13842 \nL 81.15723 229.874489 \nL 81.194181 229.527358 \nL 81.206498 229.828735 \nL 81.218815 227.221556 \nL 81.231132 229.873277 \nL 81.31735 229.350287 \nL 81.329667 229.842328 \nL 81.341984 227.740224 \nL 81.415886 229.828568 \nL 81.489787 227.742488 \nL 81.526738 229.732168 \nL 81.551372 228.887231 \nL 81.625273 229.874489 \nL 81.686858 229.86749 \nL 81.76076 227.46667 \nL 81.79771 229.728687 \nL 81.822344 229.874489 \nL 81.834661 229.17506 \nL 81.896246 229.716512 \nL 81.908563 229.579866 \nL 81.92088 227.627345 \nL 81.933197 229.824063 \nL 82.019415 228.605227 \nL 82.081 229.874489 \nL 82.093317 225.505293 \nL 82.130267 229.850854 \nL 82.167218 228.623471 \nL 82.204169 229.874488 \nL 82.24112 228.786891 \nL 82.290388 229.874489 \nL 82.302705 228.750928 \nL 82.327338 229.251297 \nL 82.339655 226.905878 \nL 82.364289 229.843211 \nL 82.425874 229.706187 \nL 82.438191 229.874489 \nL 82.450508 229.67526 \nL 82.512092 227.792151 \nL 82.536726 229.85952 \nL 82.56136 229.373871 \nL 82.659895 229.874489 \nL 82.598311 228.903803 \nL 82.672212 229.718651 \nL 82.746114 226.905878 \nL 82.72148 229.874489 \nL 82.783065 229.55957 \nL 82.807699 229.874489 \nL 82.820016 229.656916 \nL 82.906234 229.874489 \nL 82.930868 227.531082 \nL 83.004769 229.832113 \nL 83.029403 227.331898 \nL 83.04172 228.831874 \nL 83.115622 229.863099 \nL 83.078671 226.905878 \nL 83.152573 229.814402 \nL 83.177206 228.532332 \nL 83.214157 229.110954 \nL 83.226474 226.905878 \nL 83.251108 229.823434 \nL 83.312693 228.98774 \nL 83.374277 229.6095 \nL 83.386594 227.473613 \nL 83.398911 229.39523 \nL 83.411228 228.167938 \nL 83.460496 229.721567 \nL 83.497447 229.313515 \nL 83.52208 229.874489 \nL 83.559031 228.191916 \nL 83.571348 229.425511 \nL 83.583665 228.426361 \nL 83.608299 229.874489 \nL 83.682201 229.326136 \nL 83.694517 229.732441 \nL 83.731468 229.000523 \nL 83.743785 229.432871 \nL 83.756102 227.749714 \nL 83.80537 229.868372 \nL 83.842321 229.802989 \nL 83.854638 229.750639 \nL 83.940856 227.778606 \nL 83.891588 229.854515 \nL 83.96549 229.184708 \nL 83.990124 228.911334 \nL 84.088659 229.874489 \nL 84.113293 229.253097 \nL 84.199512 229.400613 \nL 84.273413 229.874489 \nL 84.28573 228.596524 \nL 84.310364 229.805208 \nL 84.371949 228.110302 \nL 84.421216 229.388513 \nL 84.44585 229.874489 \nL 84.458167 229.365016 \nL 84.470484 229.638001 \nL 84.482801 228.089517 \nL 84.495118 229.874489 \nL 84.581336 229.536722 \nL 84.630604 227.167114 \nL 84.655238 229.874489 \nL 84.692189 228.487372 \nL 84.716823 227.651281 \nL 84.778407 229.874489 \nL 84.88926 226.905878 \nL 84.963161 229.874489 \nL 85.012429 229.110868 \nL 85.098647 228.089232 \nL 85.08633 229.873139 \nL 85.110964 229.590738 \nL 85.123281 229.30939 \nL 85.135598 229.606808 \nL 85.147915 225.118949 \nL 85.184866 229.874489 \nL 85.246451 229.674506 \nL 85.258768 229.642149 \nL 85.271084 227.824032 \nL 85.283401 229.874489 \nL 85.36962 229.299093 \nL 85.443521 227.627793 \nL 85.455838 229.874489 \nL 85.517423 226.905878 \nL 85.566691 229.753761 \nL 85.579008 229.803137 \nL 85.603642 229.863011 \nL 85.68986 227.82297 \nL 85.813029 229.824238 \nL 85.837663 227.720138 \nL 85.899248 229.837187 \nL 85.911565 229.773582 \nL 85.923882 229.874489 \nL 85.936199 229.62519 \nL 86.034734 228.050719 \nL 85.985466 229.87417 \nL 86.047051 228.668718 \nL 86.108636 227.986062 \nL 86.157903 229.706789 \nL 86.244122 227.884324 \nL 86.256439 229.84451 \nL 86.33034 229.874489 \nL 86.379608 228.323845 \nL 86.404242 229.874489 \nL 86.45351 228.238751 \nL 86.49046 228.899383 \nL 86.502777 228.882385 \nL 86.601313 229.874489 \nL 86.576679 228.680187 \nL 86.625947 229.740496 \nL 86.699848 227.561495 \nL 86.65058 229.750774 \nL 86.736799 228.406631 \nL 86.749116 228.369656 \nL 86.761433 226.905878 \nL 86.823018 229.871593 \nL 86.859968 228.290212 \nL 86.909236 229.862622 \nL 86.946187 229.153352 \nL 86.958504 227.416349 \nL 86.983138 229.874489 \nL 87.057039 229.037758 \nL 87.155575 228.509547 \nL 87.180208 229.874462 \nL 87.266427 228.350934 \nL 87.328012 229.265451 \nL 87.352645 229.695044 \nL 87.41423 226.905878 \nL 87.451181 229.874489 \nL 87.463498 229.556127 \nL 87.475815 229.838487 \nL 87.500449 228.489007 \nL 87.525082 228.490711 \nL 87.537399 228.419942 \nL 87.562033 229.836592 \nL 87.57435 227.599911 \nL 87.648252 229.758727 \nL 87.709836 227.832145 \nL 87.697519 229.873455 \nL 87.771421 229.51272 \nL 87.85764 229.874489 \nL 87.796055 227.103557 \nL 87.869956 229.166515 \nL 87.882273 228.951298 \nL 87.943858 229.70207 \nL 87.968492 229.124214 \nL 88.005443 229.874489 \nL 88.091661 226.905878 \nL 88.116295 229.731183 \nL 88.153246 228.235137 \nL 88.227147 228.805285 \nL 88.313366 229.874489 \nL 88.276415 228.354581 \nL 88.338 229.481464 \nL 88.350317 227.296174 \nL 88.436535 229.874489 \nL 88.448852 228.571706 \nL 88.461169 228.630647 \nL 88.559705 229.874489 \nL 88.485803 228.484138 \nL 88.584338 229.78122 \nL 88.596655 227.434283 \nL 88.633606 229.874489 \nL 88.695191 229.232333 \nL 88.707508 228.374264 \nL 88.732142 229.874287 \nL 88.806043 229.092506 \nL 88.842994 229.71665 \nL 88.892262 228.971389 \nL 88.916895 229.566678 \nL 88.929212 229.515958 \nL 88.953846 226.905878 \nL 88.97848 229.874376 \nL 89.040065 228.738096 \nL 89.052382 229.789832 \nL 89.126283 228.275468 \nL 89.150917 229.515386 \nL 89.224819 229.675275 \nL 89.274086 228.504073 \nL 89.323354 227.770486 \nL 89.384939 229.79253 \nL 89.397256 227.709316 \nL 89.495791 227.852908 \nL 89.606643 229.870625 \nL 89.61896 223.260903 \nL 89.680545 229.874489 \nL 89.717496 229.527405 \nL 89.729813 229.459792 \nL 89.74213 229.858722 \nL 89.754447 229.752637 \nL 89.766764 228.085786 \nL 89.791397 229.874489 \nL 89.865299 229.593709 \nL 89.889933 229.171087 \nL 89.926884 229.867858 \nL 89.939201 228.094338 \nL 90.000785 229.874489 \nL 90.037736 229.26428 \nL 90.06237 229.593115 \nL 90.111638 228.798487 \nL 90.136271 229.874489 \nL 90.148588 226.905878 \nL 90.247124 229.760534 \nL 90.284075 229.874133 \nL 90.357976 225.583404 \nL 90.468829 229.874489 \nL 90.567364 227.122783 \nL 90.591998 228.337833 \nL 90.665899 227.765893 \nL 90.715167 229.874489 \nL 90.727484 227.922001 \nL 90.826019 229.874489 \nL 90.899921 228.435872 \nL 90.936872 229.618124 \nL 90.961506 229.165559 \nL 90.973823 229.869811 \nL 90.98614 227.981757 \nL 91.084675 228.827447 \nL 91.207844 229.874489 \nL 91.109309 228.487811 \nL 91.220161 229.845826 \nL 91.30638 228.156887 \nL 91.331014 228.900565 \nL 91.380281 229.756298 \nL 91.392598 226.767624 \nL 91.491134 229.179184 \nL 91.540401 229.874489 \nL 91.577352 229.288401 \nL 91.589669 226.732074 \nL 91.62662 229.872912 \nL 91.688205 228.798828 \nL 91.762106 226.905878 \nL 91.811374 229.874025 \nL 91.897592 228.340203 \nL 91.922226 228.71029 \nL 91.983811 227.266804 \nL 92.045395 229.828974 \nL 92.057712 229.770754 \nL 92.070029 228.352686 \nL 92.168565 229.708753 \nL 92.279417 228.797415 \nL 92.217832 229.874489 \nL 92.291734 228.822283 \nL 92.328685 227.616474 \nL 92.402586 229.874489 \nL 92.525756 227.733522 \nL 92.58734 229.66656 \nL 92.611974 226.997523 \nL 92.648925 229.624578 \nL 92.673559 229.874489 \nL 92.759777 229.236813 \nL 92.772094 229.874489 \nL 92.833679 228.713094 \nL 92.845996 229.72896 \nL 92.858313 228.098447 \nL 92.87063 229.86879 \nL 92.956848 229.617101 \nL 92.969165 229.862974 \nL 93.018433 229.132523 \nL 93.043067 229.774014 \nL 93.055384 227.911763 \nL 93.153919 229.770142 \nL 93.166236 229.874489 \nL 93.178553 229.774635 \nL 93.215504 228.042193 \nL 93.264771 229.874489 \nL 93.289405 229.328292 \nL 93.314039 229.874489 \nL 93.326356 228.23786 \nL 93.35099 229.858647 \nL 93.387941 227.098194 \nL 93.412575 229.874489 \nL 93.461842 228.952959 \nL 93.498793 229.798915 \nL 93.560378 228.927897 \nL 93.572695 229.584494 \nL 93.67123 228.401379 \nL 93.621962 229.781206 \nL 93.683547 229.382107 \nL 93.695864 228.625961 \nL 93.782082 229.874486 \nL 93.868301 228.995964 \nL 93.892935 229.788599 \nL 93.917569 229.874489 \nL 93.954519 225.322841 \nL 94.028421 228.224906 \nL 94.126956 227.809713 \nL 94.15159 229.87435 \nL 94.200858 227.011493 \nL 94.287077 228.870869 \nL 94.348661 229.874489 \nL 94.31171 228.060827 \nL 94.385612 228.850587 \nL 94.397929 228.778487 \nL 94.410246 228.825973 \nL 94.471831 225.916596 \nL 94.484147 229.858349 \nL 94.521098 228.740901 \nL 94.570366 229.874489 \nL 94.595 228.092926 \nL 94.644268 229.871822 \nL 94.656584 228.742265 \nL 94.681218 229.874489 \nL 94.75512 229.444657 \nL 94.779754 229.324076 \nL 94.804388 229.783604 \nL 94.91524 228.080923 \nL 94.927557 228.341216 \nL 95.013775 229.810873 \nL 95.038409 228.74077 \nL 95.161579 229.874489 \nL 95.087677 228.0073 \nL 95.173895 229.612636 \nL 95.247797 229.874489 \nL 95.260114 229.775468 \nL 95.334016 229.866218 \nL 95.383283 227.300713 \nL 95.420234 229.874489 \nL 95.494136 229.41234 \nL 95.543403 227.899649 \nL 95.592671 229.817335 \nL 95.604988 229.857038 \nL 95.67889 227.259158 \nL 95.641939 229.874489 \nL 95.728157 228.608079 \nL 95.851327 229.79965 \nL 95.900594 229.874489 \nL 95.962179 228.544179 \nL 95.974496 229.870566 \nL 96.060714 229.861301 \nL 96.146933 228.282875 \nL 96.171567 229.611366 \nL 96.208518 225.736798 \nL 96.245468 229.874489 \nL 96.282419 229.451764 \nL 96.344004 229.874306 \nL 96.368638 229.205588 \nL 96.454856 228.290352 \nL 96.467173 229.245883 \nL 96.47949 229.16813 \nL 96.553392 229.874489 \nL 96.504124 227.775138 \nL 96.578025 229.848582 \nL 96.688878 228.357491 \nL 96.676561 229.874489 \nL 96.701195 228.52112 \nL 96.775096 229.799977 \nL 96.787413 228.352647 \nL 96.812047 228.576545 \nL 96.824364 228.391231 \nL 96.848998 229.63632 \nL 96.861315 229.382095 \nL 96.873632 229.874489 \nL 96.935216 228.57608 \nL 96.947533 229.319708 \nL 96.95985 226.905878 \nL 97.021435 229.869128 \nL 97.058386 228.318794 \nL 97.169238 229.874489 \nL 97.292407 227.480288 \nL 97.378626 229.874489 \nL 97.40326 229.235713 \nL 97.452527 228.270868 \nL 97.44021 229.82456 \nL 97.501795 228.923509 \nL 97.514112 229.874489 \nL 97.600331 228.495312 \nL 97.612647 229.593078 \nL 97.624964 228.120639 \nL 97.7235 229.581931 \nL 97.735817 229.672201 \nL 97.748134 227.840997 \nL 97.772768 229.869791 \nL 97.846669 229.679197 \nL 97.88362 228.875364 \nL 97.932888 229.874489 \nL 97.982155 228.338364 \nL 98.04374 229.569238 \nL 98.056057 229.294688 \nL 98.068374 229.874489 \nL 98.129958 229.473971 \nL 98.154592 229.874489 \nL 98.166909 228.506115 \nL 98.228494 229.768096 \nL 98.302395 228.365489 \nL 98.253128 229.866361 \nL 98.339346 229.344923 \nL 98.388614 229.874489 \nL 98.400931 228.162267 \nL 98.499466 229.266691 \nL 98.511783 229.209693 \nL 98.536417 229.60132 \nL 98.548734 229.874489 \nL 98.561051 228.641092 \nL 98.598002 229.487233 \nL 98.622636 226.198126 \nL 98.647269 229.79633 \nL 98.708854 228.97746 \nL 98.758122 229.874489 \nL 98.733488 228.23472 \nL 98.782756 229.658672 \nL 98.795073 228.628774 \nL 98.881291 229.874489 \nL 98.893608 229.14484 \nL 98.918242 229.016465 \nL 99.016777 229.874489 \nL 99.00446 228.976745 \nL 99.029094 229.07707 \nL 99.053728 229.874489 \nL 99.078362 229.260014 \nL 99.090679 228.163136 \nL 99.164581 229.86711 \nL 99.176897 229.620234 \nL 99.189214 229.731429 \nL 99.201531 229.561511 \nL 99.226165 229.694812 \nL 99.300067 227.693788 \nL 99.28775 229.723098 \nL 99.337018 229.591817 \nL 99.423236 226.905878 \nL 99.44787 228.753867 \nL 99.460187 229.874489 \nL 99.558722 229.86751 \nL 99.595673 227.410432 \nL 99.60799 229.874489 \nL 99.669575 228.052507 \nL 99.76811 229.874489 \nL 99.780427 229.392822 \nL 99.854329 228.316778 \nL 99.805061 229.644834 \nL 99.866645 228.53939 \nL 99.903596 229.874489 \nL 99.965181 227.860742 \nL 99.977498 228.988794 \nL 100.002132 229.874489 \nL 100.08835 229.483512 \nL 100.162252 229.849219 \nL 100.186886 228.015723 \nL 100.297738 229.874489 \nL 100.24847 227.922723 \nL 100.310055 229.689801 \nL 100.347006 227.705598 \nL 100.40859 229.874489 \nL 100.420907 228.645789 \nL 100.519443 228.299261 \nL 100.544077 229.874489 \nL 100.56871 229.874489 \nL 100.642612 226.905878 \nL 100.679563 229.762176 \nL 100.716514 227.93313 \nL 100.802732 229.359715 \nL 100.852 228.21322 \nL 100.888951 229.874489 \nL 100.987486 228.572915 \nL 100.999803 228.922709 \nL 101.073705 228.555382 \nL 101.122972 229.874489 \nL 101.221508 228.206684 \nL 101.233825 228.903491 \nL 101.307726 227.687262 \nL 101.344677 229.874489 \nL 101.418579 227.210879 \nL 101.467846 227.866573 \nL 101.517114 229.874489 \nL 101.554065 226.905878 \nL 101.578699 229.462867 \nL 101.6526 227.930456 \nL 101.640283 229.76514 \nL 101.689551 228.580628 \nL 101.775769 229.874489 \nL 101.800403 229.656042 \nL 101.874305 229.735508 \nL 101.93589 226.905878 \nL 101.997474 229.874489 \nL 102.046742 228.601594 \nL 102.145277 229.863056 \nL 102.13296 228.029168 \nL 102.157594 229.717174 \nL 102.169911 228.640118 \nL 102.206862 229.874489 \nL 102.268447 228.813223 \nL 102.317714 228.642061 \nL 102.379299 229.494677 \nL 102.453201 229.874489 \nL 102.477834 228.867176 \nL 102.502468 229.874489 \nL 102.57637 229.41478 \nL 102.613321 227.50341 \nL 102.662588 229.773368 \nL 102.674905 229.750608 \nL 102.73649 229.413606 \nL 102.699539 229.87368 \nL 102.748807 229.647622 \nL 102.761124 226.905878 \nL 102.785758 229.874489 \nL 102.859659 228.989591 \nL 102.89661 229.874489 \nL 102.933561 228.795882 \nL 102.970512 229.863989 \nL 103.05673 227.041396 \nL 103.019779 229.874489 \nL 103.093681 228.346977 \nL 103.142949 229.772573 \nL 103.192216 229.194919 \nL 103.204533 228.196671 \nL 103.229167 229.874489 \nL 103.290752 228.927622 \nL 103.364653 227.221716 \nL 103.401604 229.874489 \nL 103.50014 228.412904 \nL 103.512457 229.700608 \nL 103.574041 229.874464 \nL 103.672577 227.211321 \nL 103.684894 229.78037 \nL 103.709527 229.451179 \nL 103.721844 227.826024 \nL 103.771112 229.85133 \nL 103.82038 228.69622 \nL 103.906598 229.854369 \nL 103.918915 228.019278 \nL 103.931232 229.482957 \nL 104.017451 228.895805 \nL 104.005134 229.874489 \nL 104.029768 229.149835 \nL 104.115986 229.874489 \nL 104.079035 229.029421 \nL 104.152937 229.561585 \nL 104.165254 229.607241 \nL 104.263789 228.444985 \nL 104.189888 229.874489 \nL 104.276106 229.427745 \nL 104.337691 229.874489 \nL 104.350008 228.534448 \nL 104.374642 229.71986 \nL 104.386958 228.998371 \nL 104.46086 229.874489 \nL 104.485494 229.489586 \nL 104.571712 229.87188 \nL 104.657931 226.905878 \nL 104.682565 229.66792 \nL 104.707199 229.8728 \nL 104.719516 229.30669 \nL 104.744149 228.486371 \nL 104.768783 229.874472 \nL 104.818051 228.918197 \nL 104.867319 229.874489 \nL 104.855002 228.030555 \nL 104.94122 229.858318 \nL 104.953537 229.803687 \nL 105.015122 226.44063 \nL 105.027439 229.874489 \nL 105.06439 229.412173 \nL 105.089023 226.905878 \nL 105.138291 229.874489 \nL 105.175242 229.172894 \nL 105.212193 227.61032 \nL 105.298411 229.874489 \nL 105.347679 228.286044 \nL 105.409264 229.603607 \nL 105.421581 229.575363 \nL 105.433897 229.874489 \nL 105.446214 229.731996 \nL 105.458531 227.332225 \nL 105.483165 229.873851 \nL 105.557067 229.469307 \nL 105.581701 228.514288 \nL 105.618651 229.874482 \nL 105.630968 227.696314 \nL 105.729504 229.467081 \nL 105.791088 229.874489 \nL 105.803405 229.132097 \nL 105.86499 227.585159 \nL 105.901941 229.874489 \nL 105.914258 227.900674 \nL 105.926575 229.874489 \nL 105.988159 227.872163 \nL 106.02511 229.692319 \nL 106.049744 229.462458 \nL 106.062061 229.861761 \nL 106.074378 229.786812 \nL 106.086695 227.903222 \nL 106.160596 229.874489 \nL 106.18523 228.303464 \nL 106.209864 229.837572 \nL 106.271449 228.196576 \nL 106.308399 229.630232 \nL 106.34535 229.050443 \nL 106.406935 229.86428 \nL 106.456203 229.269275 \nL 106.493153 229.559979 \nL 106.567055 226.905878 \nL 106.542421 229.778451 \nL 106.616323 227.156753 \nL 106.727175 229.874489 \nL 106.764126 227.313803 \nL 106.838027 227.632412 \nL 106.874978 229.874489 \nL 106.94888 229.177233 \nL 107.010464 228.409742 \nL 107.072049 229.874489 \nL 107.121317 229.741114 \nL 107.195218 228.335053 \nL 107.145951 229.874489 \nL 107.232169 229.686514 \nL 107.256803 229.874489 \nL 107.281437 229.778316 \nL 107.355338 229.874489 \nL 107.404606 228.013568 \nL 107.42924 229.874489 \nL 107.515458 227.978423 \nL 107.601677 229.874489 \nL 107.663262 229.772897 \nL 107.700212 229.874489 \nL 107.774114 228.584086 \nL 107.798748 229.874489 \nL 107.860333 227.649235 \nL 107.884966 229.801029 \nL 107.983502 228.471196 \nL 107.921917 229.864975 \nL 108.008136 228.952826 \nL 108.06972 228.216336 \nL 108.131305 229.862592 \nL 108.180573 229.874489 \nL 108.242157 227.379913 \nL 108.365327 229.874489 \nL 108.377644 228.256165 \nL 108.476179 229.691142 \nL 108.51313 228.566474 \nL 108.562397 229.874489 \nL 108.587031 229.46078 \nL 108.599348 229.247028 \nL 108.648616 229.874489 \nL 108.67325 229.465673 \nL 108.771785 229.874489 \nL 108.734834 227.970152 \nL 108.784102 229.490861 \nL 108.858004 229.874489 \nL 108.845687 228.782513 \nL 108.870321 229.115179 \nL 108.894955 229.874324 \nL 108.907271 229.501015 \nL 108.944222 227.873702 \nL 108.968856 229.761871 \nL 109.005807 228.244879 \nL 109.042758 229.874489 \nL 109.116659 229.860704 \nL 109.202878 227.040972 \nL 109.141293 229.874489 \nL 109.227512 229.140006 \nL 109.301413 229.874489 \nL 109.289096 228.736407 \nL 109.31373 229.25181 \nL 109.362998 226.905878 \nL 109.387632 229.829866 \nL 109.412266 229.270572 \nL 109.436899 229.032252 \nL 109.47385 229.801101 \nL 109.510801 228.379179 \nL 109.498484 229.874489 \nL 109.572386 229.516324 \nL 109.621653 228.823576 \nL 109.658604 229.874489 \nL 109.75714 228.183033 \nL 109.769457 229.669803 \nL 109.781773 229.835745 \nL 109.79409 229.248855 \nL 109.818724 229.774685 \nL 109.831041 228.815255 \nL 109.880309 229.874489 \nL 109.929577 229.616656 \nL 109.978844 229.174667 \nL 109.991161 229.728831 \nL 110.040429 229.563159 \nL 110.065063 229.745762 \nL 110.07738 228.055955 \nL 110.102014 229.873391 \nL 110.175915 228.715906 \nL 110.274451 229.874489 \nL 110.212866 228.624859 \nL 110.286768 228.778764 \nL 110.409937 229.87424 \nL 110.422254 229.8534 \nL 110.434571 229.873691 \nL 110.471521 226.973531 \nL 110.55774 229.325329 \nL 110.619325 229.874489 \nL 110.643958 228.765514 \nL 110.680909 229.860335 \nL 110.742494 227.569566 \nL 110.705543 229.874489 \nL 110.804079 228.451236 \nL 110.87798 229.874489 \nL 110.927248 229.341806 \nL 110.939565 229.582149 \nL 110.951882 227.55866 \nL 111.0381 229.863249 \nL 111.050417 228.199133 \nL 111.099685 229.874489 \nL 111.087368 226.814809 \nL 111.16127 229.36613 \nL 111.185903 228.621579 \nL 111.272122 229.873827 \nL 111.382974 227.375776 \nL 111.506144 229.874489 \nL 111.51846 229.850372 \nL 111.555411 228.976809 \nL 111.616996 229.871949 \nL 111.666264 229.872358 \nL 111.690897 227.407437 \nL 111.777116 229.874489 \nL 111.789433 229.874149 \nL 111.900285 227.825531 \nL 112.023455 229.874489 \nL 112.035771 229.782946 \nL 112.048088 227.080893 \nL 112.12199 229.874489 \nL 112.146624 229.404615 \nL 112.195892 229.874489 \nL 112.220525 228.455255 \nL 112.245159 229.501933 \nL 112.257476 226.905878 \nL 112.269793 229.859611 \nL 112.343695 229.699982 \nL 112.417596 229.874489 \nL 112.44223 228.272577 \nL 112.454547 229.862679 \nL 112.540766 229.786645 \nL 112.553083 227.636438 \nL 112.577716 229.874489 \nL 112.651618 229.511178 \nL 112.688569 229.232528 \nL 112.700886 229.813577 \nL 112.72552 227.201098 \nL 112.811738 229.542158 \nL 112.897957 229.874489 \nL 112.873323 229.416464 \nL 112.92259 229.638665 \nL 112.947224 229.874489 \nL 113.008809 229.386329 \nL 113.08271 229.874351 \nL 113.058077 227.904917 \nL 113.119661 229.734172 \nL 113.131978 228.137141 \nL 113.181246 229.812544 \nL 113.218197 228.792584 \nL 113.242831 228.738073 \nL 113.329049 229.874489 \nL 113.341366 228.623126 \nL 113.439901 229.874489 \nL 113.464535 229.779465 \nL 113.538437 229.860839 \nL 113.575388 228.203582 \nL 113.68624 229.874489 \nL 113.698557 228.270646 \nL 113.797092 229.855707 \nL 113.809409 229.84063 \nL 113.858677 226.905878 \nL 113.895628 229.874489 \nL 113.932579 228.676387 \nL 113.994163 229.874489 \nL 113.957212 228.309063 \nL 114.055748 229.862047 \nL 114.068065 229.871812 \nL 114.080382 229.827727 \nL 114.092699 228.793674 \nL 114.1666 229.8715 \nL 114.191234 229.464694 \nL 114.203551 229.631578 \nL 114.215868 229.468103 \nL 114.240502 228.129239 \nL 114.28977 229.858506 \nL 114.314403 228.885828 \nL 114.375988 229.874381 \nL 114.363671 227.815855 \nL 114.425256 229.60541 \nL 114.499157 227.267017 \nL 114.44989 229.757594 \nL 114.523791 228.614818 \nL 114.548425 227.565185 \nL 114.64696 229.874489 \nL 114.696228 228.51378 \nL 114.757813 229.709736 \nL 114.77013 229.713986 \nL 114.831714 227.759979 \nL 114.794764 229.82653 \nL 114.868665 229.100998 \nL 114.905616 229.870473 \nL 114.93025 229.068093 \nL 114.942567 229.815092 \nL 114.954884 227.504622 \nL 114.967201 229.874489 \nL 115.053419 229.6694 \nL 115.065736 227.85401 \nL 115.102687 229.874489 \nL 115.164271 229.092903 \nL 115.188905 229.86917 \nL 115.25049 228.614889 \nL 115.275124 229.457623 \nL 115.349025 228.277685 \nL 115.299758 229.874489 \nL 115.385976 229.246705 \nL 115.509146 229.874487 \nL 115.521462 229.872478 \nL 115.546096 227.443001 \nL 115.632315 229.51653 \nL 115.644632 229.188608 \nL 115.656949 229.874489 \nL 115.718533 229.680284 \nL 115.743167 229.874489 \nL 115.792435 229.094448 \nL 115.817069 229.802452 \nL 115.85402 227.726418 \nL 115.866336 229.874489 \nL 115.927921 229.477846 \nL 115.940238 229.874489 \nL 115.952555 227.416595 \nL 116.026457 229.610595 \nL 116.038773 228.287832 \nL 116.124992 229.819552 \nL 116.137309 229.874489 \nL 116.149626 229.699939 \nL 116.186577 229.700085 \nL 116.21121 227.055939 \nL 116.272795 229.865209 \nL 116.309746 228.627866 \nL 116.346697 229.874489 \nL 116.33438 228.432539 \nL 116.395964 229.81948 \nL 116.408281 227.364728 \nL 116.482183 229.874489 \nL 116.506817 229.405676 \nL 116.580718 228.860817 \nL 116.629986 229.874489 \nL 116.642303 229.856412 \nL 116.740838 228.330101 \nL 116.716205 229.874489 \nL 116.753155 229.466935 \nL 116.827057 229.874489 \nL 116.777789 229.116464 \nL 116.839374 229.859538 \nL 116.851691 228.675604 \nL 116.925592 229.874489 \nL 116.950226 229.450582 \nL 116.97486 229.874489 \nL 117.011811 228.997387 \nL 117.048762 229.874267 \nL 117.073396 227.644992 \nL 117.122663 229.446902 \nL 117.13498 229.491228 \nL 117.147297 228.768423 \nL 117.171931 229.860121 \nL 117.245833 228.800627 \nL 117.332051 229.874489 \nL 117.356685 229.807011 \nL 117.369002 228.991078 \nL 117.442903 229.874489 \nL 117.45522 229.731975 \nL 117.492171 229.874489 \nL 117.516805 229.34431 \nL 117.566073 229.864405 \nL 117.57839 229.827287 \nL 117.590707 227.286387 \nL 117.627657 229.85766 \nL 117.689242 227.86677 \nL 117.73851 229.874489 \nL 117.800094 229.521933 \nL 117.837045 228.531549 \nL 117.873996 229.85201 \nL 117.89863 229.755859 \nL 117.910947 229.874489 \nL 117.923264 229.1673 \nL 117.972531 229.545648 \nL 118.034116 228.875623 \nL 118.009482 229.874489 \nL 118.046433 229.410681 \nL 118.083384 228.140778 \nL 118.169602 229.874489 \nL 118.21887 228.02316 \nL 118.280455 228.198744 \nL 118.329722 229.874489 \nL 118.391307 229.563748 \nL 118.403624 228.164513 \nL 118.465209 229.84284 \nL 118.489842 229.427739 \nL 118.514476 229.87409 \nL 118.551427 228.44186 \nL 118.563744 229.866423 \nL 118.625329 226.915265 \nL 118.613012 229.874359 \nL 118.674596 229.412059 \nL 118.711547 229.874489 \nL 118.69923 228.6415 \nL 118.785449 229.842218 \nL 118.871667 227.595226 \nL 118.810083 229.874489 \nL 118.896301 229.356228 \nL 118.908618 229.62704 \nL 118.945569 228.604795 \nL 118.98252 229.229395 \nL 119.031787 229.874343 \nL 119.081055 228.533356 \nL 119.105689 229.874323 \nL 119.17959 227.355157 \nL 119.191907 229.859946 \nL 119.265809 228.559814 \nL 119.290443 229.874489 \nL 119.315077 229.576509 \nL 119.327394 229.874489 \nL 119.352027 228.494577 \nL 119.388978 229.625842 \nL 119.413612 229.873667 \nL 119.487514 227.294521 \nL 119.586049 229.874489 \nL 119.598366 229.618737 \nL 119.659951 229.874489 \nL 119.721535 227.262275 \nL 119.807754 229.874489 \nL 119.844705 229.656391 \nL 119.857021 229.419355 \nL 119.893972 229.874489 \nL 119.94324 229.874489 \nL 119.980191 229.853824 \nL 119.992508 227.716161 \nL 120.078726 229.874489 \nL 120.091043 229.693498 \nL 120.10336 229.77533 \nL 120.115677 227.941224 \nL 120.152628 229.874489 \nL 120.201896 229.56592 \nL 120.226529 229.874489 \nL 120.238846 227.434409 \nL 120.337382 228.21411 \nL 120.4236 229.837737 \nL 120.398966 227.966224 \nL 120.460551 229.794878 \nL 120.472868 229.828881 \nL 120.485185 229.733327 \nL 120.497502 229.138976 \nL 120.522136 229.874489 \nL 120.58372 229.852766 \nL 120.596037 229.874489 \nL 120.608354 229.758959 \nL 120.682256 228.476598 \nL 120.657622 229.874489 \nL 120.70689 229.69662 \nL 120.74384 229.212706 \nL 120.756157 229.859326 \nL 120.768474 227.381441 \nL 120.86701 229.753079 \nL 120.879327 229.834882 \nL 120.953228 227.310042 \nL 120.977862 228.866286 \nL 120.990179 229.874489 \nL 121.076397 228.323742 \nL 121.224201 229.874489 \nL 121.298102 228.674358 \nL 121.335053 229.482782 \nL 121.359687 229.871645 \nL 121.372004 227.489818 \nL 121.384321 229.874489 \nL 121.470539 229.570595 \nL 121.556758 228.369106 \nL 121.495173 229.874489 \nL 121.581392 229.448243 \nL 121.655293 229.874489 \nL 121.618342 228.872959 \nL 121.679927 229.596359 \nL 121.716878 228.780212 \nL 121.766146 229.874489 \nL 121.790779 229.055829 \nL 121.815413 229.874489 \nL 121.82773 227.966109 \nL 121.901632 229.531182 \nL 121.963216 227.764975 \nL 121.926266 229.874489 \nL 122.012484 229.122022 \nL 122.024801 229.859924 \nL 122.049435 229.006452 \nL 122.098703 229.814374 \nL 122.11102 227.841185 \nL 122.14797 229.874489 \nL 122.197238 229.804242 \nL 122.209555 229.874489 \nL 122.27114 228.342319 \nL 122.332724 229.023385 \nL 122.406626 229.874018 \nL 122.357358 228.767984 \nL 122.43126 229.683908 \nL 122.455894 229.874489 \nL 122.542112 227.63205 \nL 122.603697 229.874489 \nL 122.652964 228.615686 \nL 122.7515 229.874489 \nL 122.677598 228.361661 \nL 122.800768 229.443911 \nL 122.874669 228.402181 \nL 122.850035 229.874489 \nL 122.91162 228.895553 \nL 122.973205 229.874489 \nL 123.022472 229.625009 \nL 123.059423 228.073015 \nL 123.047106 229.874489 \nL 123.121008 228.4788 \nL 123.219543 229.874489 \nL 123.244177 229.853621 \nL 123.342712 226.905878 \nL 123.318079 229.874478 \nL 123.355029 229.767221 \nL 123.39198 229.874489 \nL 123.404297 229.583076 \nL 123.416614 225.021895 \nL 123.502833 229.87247 \nL 123.515149 227.50139 \nL 123.589051 229.870239 \nL 123.626002 229.786322 \nL 123.687586 228.657546 \nL 123.650636 229.799491 \nL 123.724537 229.778052 \nL 123.749171 229.874489 \nL 123.773805 227.499858 \nL 123.860023 228.454382 \nL 123.958559 229.874489 \nL 123.970876 228.967108 \nL 124.007827 227.96411 \nL 124.044777 229.874489 \nL 124.069411 228.955932 \nL 124.106362 228.68104 \nL 124.118679 229.853794 \nL 124.180264 226.905878 \nL 124.192581 229.856916 \nL 124.229531 228.726711 \nL 124.303433 229.874489 \nL 124.340384 229.513149 \nL 124.365018 227.570036 \nL 124.426602 229.874218 \nL 124.47587 229.861916 \nL 124.586722 227.036823 \nL 124.709892 229.874489 \nL 124.783793 227.79725 \nL 124.820744 229.874263 \nL 124.882329 229.148446 \nL 124.931596 229.771651 \nL 124.943913 229.766518 \nL 124.980864 229.860212 \nL 125.005498 228.595978 \nL 125.091716 229.790247 \nL 125.104033 229.812282 \nL 125.165618 227.375515 \nL 125.128667 229.874489 \nL 125.214886 228.31999 \nL 125.338055 229.80678 \nL 125.39964 229.872682 \nL 125.448907 227.853564 \nL 125.522809 229.874489 \nL 125.55976 228.906507 \nL 125.584394 229.827777 \nL 125.658295 229.712388 \nL 125.670612 228.523933 \nL 125.695246 229.871785 \nL 125.769147 229.330504 \nL 125.806098 228.694441 \nL 125.88 229.874489 \nL 125.916951 228.824912 \nL 125.990852 229.874489 \nL 126.077071 228.052832 \nL 126.114022 229.309231 \nL 126.175606 229.872798 \nL 126.20024 229.845567 \nL 126.224874 227.84061 \nL 126.237191 229.874297 \nL 126.311092 227.954784 \nL 126.323409 229.872714 \nL 126.384994 226.905768 \nL 126.421945 228.917983 \nL 126.495846 229.819712 \nL 126.471212 227.665686 \nL 126.532797 229.576335 \nL 126.619016 227.567913 \nL 126.557431 229.874489 \nL 126.643649 229.484302 \nL 126.655966 229.389104 \nL 126.668283 228.016818 \nL 126.717551 229.872835 \nL 126.766819 229.373099 \nL 126.828403 228.707257 \nL 126.865354 229.874489 \nL 127.00084 226.905878 \nL 127.013157 229.863111 \nL 127.111693 228.97386 \nL 127.12401 228.987846 \nL 127.185594 229.874489 \nL 127.234862 229.806424 \nL 127.259496 228.908736 \nL 127.333397 228.922572 \nL 127.431933 229.874489 \nL 127.358031 227.46874 \nL 127.44425 229.016041 \nL 127.518151 229.874489 \nL 127.505835 228.703429 \nL 127.542785 229.748926 \nL 127.60437 228.527745 \nL 127.641321 229.763924 \nL 127.665955 228.979806 \nL 127.776807 229.874489 \nL 127.702905 228.845684 \nL 127.789124 229.483587 \nL 127.813758 228.691228 \nL 127.899976 229.874489 \nL 127.92461 228.496268 \nL 128.023146 229.294299 \nL 128.109364 229.790816 \nL 128.047779 228.644702 \nL 128.158632 229.759964 \nL 128.170949 228.369345 \nL 128.207899 229.874489 \nL 128.269484 229.652595 \nL 128.331069 228.688117 \nL 128.306435 229.874489 \nL 128.36802 229.759605 \nL 128.380336 229.868689 \nL 128.392653 229.556751 \nL 128.40497 228.580947 \nL 128.417287 229.874489 \nL 128.503506 229.572743 \nL 128.52814 228.263735 \nL 128.589724 229.874489 \nL 128.602041 229.874489 \nL 128.638992 229.539815 \nL 128.663626 228.275024 \nL 128.700577 229.698212 \nL 128.737527 229.269027 \nL 128.774478 229.874489 \nL 128.762161 229.044473 \nL 128.799112 229.647882 \nL 128.811429 227.214635 \nL 128.836063 229.874489 \nL 128.897647 229.08207 \nL 128.909964 229.874489 \nL 128.959232 226.905878 \nL 129.0085 229.382876 \nL 129.020817 229.453256 \nL 129.033134 228.009879 \nL 129.070085 229.874489 \nL 129.119352 229.831147 \nL 129.205571 226.905878 \nL 129.143986 229.874489 \nL 129.217888 229.260879 \nL 129.279472 228.267396 \nL 129.32874 229.874489 \nL 129.378008 226.905878 \nL 129.464226 227.631537 \nL 129.538128 229.874489 \nL 129.575079 228.750183 \nL 129.636663 229.874489 \nL 129.685931 227.694586 \nL 129.772149 229.856606 \nL 129.8091 229.844282 \nL 129.846051 229.658498 \nL 129.907636 229.873972 \nL 129.96922 226.873304 \nL 129.993854 229.874489 \nL 130.09239 229.871447 \nL 130.104707 229.862962 \nL 130.166291 228.303364 \nL 130.178608 229.870678 \nL 130.215559 229.703613 \nL 130.25251 229.484519 \nL 130.264827 229.874489 \nL 130.338728 227.114706 \nL 130.375679 229.747185 \nL 130.498848 228.096045 \nL 130.400313 229.874489 \nL 130.511165 228.900702 \nL 130.622018 229.874489 \nL 130.560433 228.30248 \nL 130.634335 229.694919 \nL 130.683602 228.538259 \nL 130.658968 229.874489 \nL 130.745187 228.698475 \nL 130.757504 229.744758 \nL 130.831405 229.701551 \nL 130.843722 226.603705 \nL 130.868356 229.874489 \nL 130.929941 229.629909 \nL 130.942258 229.874489 \nL 130.991525 228.888684 \nL 131.028476 229.572946 \nL 131.040793 228.70285 \nL 131.127012 229.874489 \nL 131.151646 229.874489 \nL 131.274815 227.946547 \nL 131.287132 228.593983 \nL 131.299449 229.858334 \nL 131.397984 229.190954 \nL 131.410301 229.684892 \nL 131.422618 228.430915 \nL 131.484203 229.650297 \nL 131.49652 227.305429 \nL 131.558104 229.874489 \nL 131.582738 229.874489 \nL 131.595055 229.867642 \nL 131.65664 227.793469 \nL 131.705907 228.639277 \nL 131.779809 229.874489 \nL 131.81676 229.865342 \nL 131.85371 227.819127 \nL 131.878344 229.874489 \nL 131.964563 228.313638 \nL 132.075415 229.874489 \nL 132.186268 227.728392 \nL 132.198585 229.782622 \nL 132.29712 229.19924 \nL 132.371022 227.946282 \nL 132.383338 229.853229 \nL 132.395655 229.672183 \nL 132.407972 229.716429 \nL 132.444923 226.490829 \nL 132.506508 229.874489 \nL 132.518825 229.543608 \nL 132.531142 229.509918 \nL 132.568092 229.043667 \nL 132.61736 229.874489 \nL 132.629677 228.1652 \nL 132.728212 229.091768 \nL 132.789797 229.867334 \nL 132.814431 228.388317 \nL 132.826748 226.905878 \nL 132.839065 229.874489 \nL 132.912966 228.877468 \nL 132.999185 228.595474 \nL 133.036136 229.874489 \nL 133.048453 229.874489 \nL 133.06077 228.574627 \nL 133.159305 229.874489 \nL 133.171622 228.863138 \nL 133.270157 229.537718 \nL 133.294791 229.853084 \nL 133.307108 229.165469 \nL 133.331742 229.745393 \nL 133.344059 227.622298 \nL 133.442594 229.741147 \nL 133.454911 229.810326 \nL 133.467228 227.955814 \nL 133.479545 229.874489 \nL 133.553447 229.489912 \nL 133.590398 229.874489 \nL 133.602714 228.953276 \nL 133.627348 228.998834 \nL 133.639665 227.765866 \nL 133.651982 229.874489 \nL 133.738201 228.662806 \nL 133.812102 229.832483 \nL 133.762835 227.897616 \nL 133.86137 229.667258 \nL 133.886004 229.656267 \nL 133.898321 229.717897 \nL 133.910638 229.716197 \nL 133.922955 229.874489 \nL 133.935272 228.607917 \nL 133.984539 228.157271 \nL 133.959905 229.2451 \nL 133.996856 228.87752 \nL 134.058441 229.874489 \nL 134.046124 228.574598 \nL 134.083075 229.265161 \nL 134.169293 226.987744 \nL 134.18161 229.870571 \nL 134.193927 229.874489 \nL 134.255512 228.082525 \nL 134.304779 229.846084 \nL 134.34173 229.872711 \nL 134.403315 228.958225 \nL 134.489533 229.874489 \nL 134.514167 229.024109 \nL 134.612703 229.874489 \nL 134.538801 228.001627 \nL 134.62502 229.684056 \nL 134.637336 228.195083 \nL 134.649653 229.874489 \nL 134.723555 229.874489 \nL 134.735872 229.792048 \nL 134.760506 227.254387 \nL 134.797457 229.874489 \nL 134.846724 229.814543 \nL 134.859041 229.874489 \nL 134.871358 229.418324 \nL 134.895992 229.680833 \nL 134.969894 227.589156 \nL 134.982211 229.856924 \nL 135.019161 227.993212 \nL 135.117697 229.874489 \nL 135.130014 229.18896 \nL 135.142331 229.288491 \nL 135.154648 227.894585 \nL 135.240866 229.748208 \nL 135.253183 228.456303 \nL 135.277817 229.874489 \nL 135.302451 228.345448 \nL 135.364035 229.758116 \nL 135.437937 229.874489 \nL 135.474888 227.998398 \nL 135.499522 229.810243 \nL 135.536472 227.622001 \nL 135.58574 229.761591 \nL 135.610374 228.207567 \nL 135.647325 229.874489 \nL 135.708909 228.955159 \nL 135.807445 229.874489 \nL 135.795128 228.370218 \nL 135.832079 229.670776 \nL 135.844396 228.904359 \nL 135.930614 229.874489 \nL 135.942931 229.397867 \nL 135.992199 228.399128 \nL 136.004516 229.87301 \nL 136.029149 229.413543 \nL 136.041466 229.86906 \nL 136.053783 229.197413 \nL 136.103051 229.672761 \nL 136.127685 228.208057 \nL 136.152319 229.874489 \nL 136.201586 229.874489 \nL 136.238537 229.586872 \nL 136.300122 227.954198 \nL 136.312439 229.674497 \nL 136.34939 229.51384 \nL 136.374023 229.338523 \nL 136.435608 229.874489 \nL 136.484876 229.454036 \nL 136.534144 227.552704 \nL 136.50951 229.772042 \nL 136.595728 229.167217 \nL 136.632679 229.874489 \nL 136.657313 228.982271 \nL 136.66963 227.113975 \nL 136.706581 229.851228 \nL 136.755848 228.927644 \nL 136.805116 229.874489 \nL 136.780482 228.105125 \nL 136.842067 229.867471 \nL 136.854384 227.913781 \nL 136.952919 229.786554 \nL 136.98987 228.750269 \nL 137.002187 229.874489 \nL 137.076088 228.886571 \nL 137.125356 229.874489 \nL 137.174624 229.800218 \nL 137.260842 228.038078 \nL 137.211575 229.874489 \nL 137.285476 229.312401 \nL 137.297793 229.752943 \nL 137.31011 227.49489 \nL 137.347061 229.738338 \nL 137.359378 227.772194 \nL 137.371695 229.874489 \nL 137.457913 229.769767 \nL 137.519498 228.620542 \nL 137.494864 229.871929 \nL 137.618033 229.36921 \nL 137.654984 229.874489 \nL 137.679618 229.407359 \nL 137.691935 228.794352 \nL 137.728886 229.874247 \nL 137.778153 229.874489 \nL 137.815104 229.549103 \nL 137.827421 229.755055 \nL 137.91364 229.874489 \nL 137.938273 226.905878 \nL 138.061443 229.874489 \nL 138.123027 227.943086 \nL 138.184612 228.200354 \nL 138.258514 229.874015 \nL 138.209246 228.017532 \nL 138.283148 229.756674 \nL 138.295464 227.891254 \nL 138.307781 229.874489 \nL 138.394 229.716618 \nL 138.406317 229.600887 \nL 138.418634 229.874489 \nL 138.443268 229.742493 \nL 138.517169 227.53675 \nL 138.480218 229.874489 \nL 138.55412 229.142811 \nL 138.578754 229.873903 \nL 138.640338 229.75826 \nL 138.652655 226.95669 \nL 138.71424 229.874489 \nL 138.751191 229.80028 \nL 138.763508 228.017636 \nL 138.812775 229.874489 \nL 138.862043 229.802846 \nL 138.923628 227.729428 \nL 138.935945 229.874489 \nL 138.972896 228.838417 \nL 139.071431 229.874489 \nL 139.022163 226.905878 \nL 139.083748 229.871372 \nL 139.145333 228.457601 \nL 139.182283 229.874489 \nL 139.1946 229.328591 \nL 139.206917 229.291788 \nL 139.243868 227.915226 \nL 139.231551 229.874456 \nL 139.305453 228.83795 \nL 139.403988 229.874489 \nL 139.367037 228.569571 \nL 139.416305 229.605027 \nL 139.428622 227.682406 \nL 139.453256 229.870448 \nL 139.51484 229.709169 \nL 139.539474 229.832779 \nL 139.551791 228.440853 \nL 139.588742 229.874489 \nL 139.650327 229.622882 \nL 139.662644 229.558387 \nL 139.674961 229.771234 \nL 139.687277 228.521073 \nL 139.748862 229.786052 \nL 139.773496 229.38418 \nL 139.835081 229.874489 \nL 139.859714 228.640685 \nL 139.872031 228.732126 \nL 139.970567 229.874489 \nL 139.921299 228.652676 \nL 139.982884 229.437083 \nL 139.995201 229.674314 \nL 140.007518 228.976921 \nL 140.019835 229.142739 \nL 140.032151 227.669997 \nL 140.069102 229.667004 \nL 140.130687 228.777102 \nL 140.204588 229.874489 \nL 140.253856 229.820022 \nL 140.303124 228.479908 \nL 140.340075 229.874489 \nL 140.352392 229.600321 \nL 140.364709 229.874489 \nL 140.377025 228.552232 \nL 140.450927 229.322299 \nL 140.537146 227.683152 \nL 140.475561 229.874489 \nL 140.549462 229.60682 \nL 140.561779 229.845985 \nL 140.586413 228.706965 \nL 140.59873 229.715042 \nL 140.611047 227.249962 \nL 140.623364 229.874489 \nL 140.709583 228.030331 \nL 140.795801 229.874489 \nL 140.820435 229.871672 \nL 140.906653 227.88415 \nL 140.943604 228.952684 \nL 141.029823 229.874407 \nL 141.005189 228.452492 \nL 141.054457 229.816672 \nL 141.103724 228.179037 \nL 141.152992 229.864177 \nL 141.165309 229.329661 \nL 141.263844 229.874489 \nL 141.226894 228.102948 \nL 141.288478 229.739051 \nL 141.313112 229.313142 \nL 141.36238 229.874489 \nL 141.387014 228.810278 \nL 141.473232 229.374537 \nL 141.485549 229.835512 \nL 141.534817 228.370348 \nL 141.547134 229.101986 \nL 141.559451 228.113802 \nL 141.596401 229.865489 \nL 141.645669 229.549371 \nL 141.768838 229.874489 \nL 141.781155 229.866059 \nL 141.84274 228.774382 \nL 141.879691 229.874489 \nL 141.990543 227.861485 \nL 142.027494 229.874489 \nL 142.101396 229.744756 \nL 142.113712 229.829336 \nL 142.138346 229.277518 \nL 142.150663 227.907402 \nL 142.199931 229.869771 \nL 142.249199 229.153363 \nL 142.347734 229.874489 \nL 142.298466 228.61319 \nL 142.360051 229.727518 \nL 142.372368 229.706408 \nL 142.470903 229.874489 \nL 142.48322 228.656318 \nL 142.544805 227.95598 \nL 142.60639 229.874489 \nL 142.618707 229.853132 \nL 142.64334 229.874489 \nL 142.655657 229.159184 \nL 142.754193 229.513475 \nL 142.803461 228.837626 \nL 142.828094 229.874489 \nL 142.840411 229.204814 \nL 142.92663 229.874489 \nL 142.889679 228.444837 \nL 142.951264 229.533697 \nL 142.963581 227.020761 \nL 143.000531 229.874489 \nL 143.062116 228.823265 \nL 143.111384 227.961238 \nL 143.185285 229.835633 \nL 143.259187 228.218488 \nL 143.209919 229.874489 \nL 143.283821 229.874489 \nL 143.308455 229.855673 \nL 143.320772 228.939532 \nL 143.40699 229.874489 \nL 143.419307 229.739962 \nL 143.443941 229.874489 \nL 143.456258 228.470243 \nL 143.554793 228.730505 \nL 143.579427 229.817479 \nL 143.653329 228.569351 \nL 143.677962 229.687186 \nL 143.739547 227.99884 \nL 143.702596 229.874489 \nL 143.776498 228.859746 \nL 143.788815 229.874489 \nL 143.838083 228.82164 \nL 143.88735 229.809017 \nL 143.911984 228.140464 \nL 143.948935 229.874489 \nL 143.985886 229.226261 \nL 144.109055 229.874489 \nL 144.20759 227.53376 \nL 144.219907 229.231056 \nL 144.306126 229.874489 \nL 144.281492 228.177556 \nL 144.33076 229.360731 \nL 144.343077 228.869036 \nL 144.380027 229.874489 \nL 144.441612 229.009337 \nL 144.49088 229.60118 \nL 144.515514 228.068222 \nL 144.552464 229.072009 \nL 144.577098 229.874489 \nL 144.638683 228.482462 \nL 144.700268 229.874489 \nL 144.737218 229.678561 \nL 144.749535 227.393329 \nL 144.761852 229.874489 \nL 144.848071 229.259581 \nL 144.897338 229.874489 \nL 144.921972 228.02562 \nL 144.946606 229.518381 \nL 144.958923 226.905878 \nL 144.995874 229.829771 \nL 145.045142 229.015297 \nL 145.119043 229.874489 \nL 145.082092 228.366944 \nL 145.155994 229.700568 \nL 145.168311 228.828464 \nL 145.205262 229.874489 \nL 145.266846 229.517145 \nL 145.303797 229.467416 \nL 145.353065 229.874489 \nL 145.390016 228.417545 \nL 145.463917 229.874489 \nL 145.587087 228.297449 \nL 145.636354 229.860775 \nL 145.697939 229.390825 \nL 145.77184 229.874489 \nL 145.784157 229.533614 \nL 145.796474 228.749178 \nL 145.882693 229.874489 \nL 145.89501 229.874489 \nL 145.981228 228.321174 \nL 146.018179 229.43892 \nL 146.05513 229.861287 \nL 146.092081 228.48985 \nL 146.129031 229.500584 \nL 146.141348 229.840003 \nL 146.165982 228.178181 \nL 146.190616 228.364986 \nL 146.202933 227.772335 \nL 146.227567 229.874489 \nL 146.264518 229.152737 \nL 146.289151 229.874489 \nL 146.326102 226.819188 \nL 146.37537 229.698996 \nL 146.412321 229.874489 \nL 146.498539 228.279911 \nL 146.560124 229.87336 \nL 146.609392 229.872706 \nL 146.658659 226.348988 \nL 146.732561 228.26456 \nL 146.85573 229.874489 \nL 146.868047 228.078868 \nL 146.966583 229.552101 \nL 147.003533 229.791197 \nL 147.028167 229.784556 \nL 147.052801 227.75395 \nL 147.089752 229.874489 \nL 147.13902 229.082174 \nL 147.249872 229.865234 \nL 147.225238 228.528724 \nL 147.262189 229.827717 \nL 147.33609 228.005063 \nL 147.323774 229.874489 \nL 147.373041 229.719364 \nL 147.397675 229.874489 \nL 147.409992 228.457412 \nL 147.508527 229.735236 \nL 147.545478 229.10364 \nL 147.570112 229.874489 \nL 147.607063 229.874489 \nL 147.644014 229.299015 \nL 147.717915 229.874489 \nL 147.730232 229.874489 \nL 147.841085 227.902114 \nL 147.853401 228.037141 \nL 147.865718 229.874489 \nL 147.964254 229.266414 \nL 148.038155 229.874489 \nL 148.062789 229.767124 \nL 148.149008 228.443968 \nL 148.087423 229.874489 \nL 148.173642 228.526068 \nL 148.247543 229.874489 \nL 148.222909 227.941404 \nL 148.272177 229.362184 \nL 148.284494 228.220083 \nL 148.346079 229.834752 \nL 148.370712 228.993235 \nL 148.407663 229.874489 \nL 148.41998 228.846824 \nL 148.493882 229.824238 \nL 148.506199 229.874489 \nL 148.5801 227.411283 \nL 148.629368 229.118475 \nL 148.727903 229.874489 \nL 148.666319 228.849224 \nL 148.764854 229.816853 \nL 148.826439 229.874489 \nL 148.875707 228.799335 \nL 148.90034 227.576114 \nL 148.998876 229.874489 \nL 149.097411 228.779873 \nL 149.109728 229.489225 \nL 149.158996 229.775677 \nL 149.134362 228.731653 \nL 149.208264 229.717286 \nL 149.220581 228.278338 \nL 149.232898 229.874489 \nL 149.319116 229.568865 \nL 149.331433 229.874489 \nL 149.34375 229.199465 \nL 149.368384 229.872657 \nL 149.442285 227.963571 \nL 149.466919 229.874489 \nL 149.479236 229.823448 \nL 149.577772 228.32439 \nL 149.50387 229.874486 \nL 149.590088 229.215966 \nL 149.639356 228.370366 \nL 149.713258 229.874489 \nL 149.82411 228.384107 \nL 149.885695 229.874489 \nL 149.947279 229.626046 \nL 149.959596 229.874489 \nL 149.971913 228.751781 \nL 149.996547 229.740671 \nL 150.008864 228.269794 \nL 150.045815 229.874489 \nL 150.095083 228.781319 \nL 150.181301 226.905878 \nL 150.218252 229.874489 \nL 150.242886 229.564627 \nL 150.329104 228.149314 \nL 150.292153 229.874152 \nL 150.341421 229.069107 \nL 150.452274 229.874489 \nL 150.46459 227.86591 \nL 150.563126 229.622443 \nL 150.575443 228.234687 \nL 150.58776 229.874489 \nL 150.661661 229.874489 \nL 150.673978 229.874489 \nL 150.698612 228.979567 \nL 150.797148 229.324432 \nL 150.908 229.874489 \nL 150.858732 228.935188 \nL 150.920317 229.872715 \nL 150.957268 229.067492 \nL 150.944951 229.874489 \nL 151.031169 229.196286 \nL 151.055803 229.647026 \nL 151.06812 228.662944 \nL 151.092754 226.600156 \nL 151.142022 229.874489 \nL 151.166655 229.771086 \nL 151.191289 229.874489 \nL 151.203606 229.365355 \nL 151.215923 229.754993 \nL 151.252874 229.874413 \nL 151.326775 229.334163 \nL 151.351409 228.864034 \nL 151.449945 229.874489 \nL 151.462262 229.874489 \nL 151.573114 229.066358 \nL 151.585431 229.864648 \nL 151.647016 227.851538 \nL 151.659333 226.905878 \nL 151.683966 229.874489 \nL 151.745551 227.069307 \nL 151.856403 229.874489 \nL 151.930305 226.905878 \nL 151.967256 229.862666 \nL 151.979573 229.864912 \nL 152.053474 227.681663 \nL 152.004207 229.874489 \nL 152.090425 229.81276 \nL 152.102742 229.836212 \nL 152.201277 229.874489 \nL 152.225911 228.28575 \nL 152.262862 229.874489 \nL 152.336764 229.43264 \nL 152.373714 229.049734 \nL 152.398348 229.828433 \nL 152.410665 229.762023 \nL 152.459933 229.874489 \nL 152.447616 229.426892 \nL 152.47225 229.75775 \nL 152.484567 228.810431 \nL 152.533835 229.874489 \nL 152.570785 229.874489 \nL 152.583102 229.874489 \nL 152.706272 229.246413 \nL 152.730905 229.874489 \nL 152.780173 228.261173 \nL 152.79249 227.503086 \nL 152.817124 229.874489 \nL 152.866392 229.614163 \nL 152.891025 229.874489 \nL 152.940293 229.072626 \nL 152.95261 228.746956 \nL 153.014195 229.874489 \nL 153.026512 229.874489 \nL 153.051146 229.330042 \nL 153.137364 229.34502 \nL 153.198949 229.874489 \nL 153.223583 228.776484 \nL 153.260533 229.830094 \nL 153.27285 229.874489 \nL 153.285167 229.862727 \nL 153.297484 226.905878 \nL 153.39602 228.078787 \nL 153.408337 229.874489 \nL 153.519189 229.86113 \nL 153.531506 229.838009 \nL 153.605407 227.901093 \nL 153.580774 229.874215 \nL 153.630041 229.874408 \nL 153.642358 229.869901 \nL 153.654675 227.39865 \nL 153.679309 229.874489 \nL 153.753211 229.874489 \nL 153.765527 229.865439 \nL 153.777844 226.905878 \nL 153.851746 229.874489 \nL 153.87638 229.818275 \nL 153.888697 228.509362 \nL 153.901014 229.874489 \nL 153.987232 229.529761 \nL 153.999549 229.874489 \nL 154.048817 229.310781 \nL 154.085768 229.673988 \nL 154.159669 228.444064 \nL 154.122718 229.874485 \nL 154.184303 229.769478 \nL 154.19662 229.785117 \nL 154.208937 229.705379 \nL 154.233571 228.588196 \nL 154.245888 229.874489 \nL 154.332106 229.491529 \nL 154.344423 229.508963 \nL 154.369057 229.874489 \nL 154.381374 228.665563 \nL 154.430642 229.852018 \nL 154.504543 227.967714 \nL 154.492226 229.874414 \nL 154.541494 228.958756 \nL 154.578445 229.874489 \nL 154.603079 228.766165 \nL 154.640029 229.548985 \nL 154.652346 228.724154 \nL 154.67698 229.874489 \nL 154.738565 229.214241 \nL 154.80015 229.865518 \nL 154.775516 229.006578 \nL 154.849417 229.851102 \nL 154.861734 227.55708 \nL 154.874051 229.874484 \nL 154.96027 229.520071 \nL 155.046488 229.874489 \nL 155.021854 229.35543 \nL 155.058805 229.682537 \nL 155.095756 229.871816 \nL 155.181974 228.787749 \nL 155.218925 227.414322 \nL 155.305144 229.874489 \nL 155.317461 229.874489 \nL 155.342094 228.806358 \nL 155.354411 226.905878 \nL 155.379045 229.874489 \nL 155.44063 229.56312 \nL 155.452947 229.184901 \nL 155.465264 229.874489 \nL 155.539165 229.874489 \nL 155.551482 229.827423 \nL 155.563799 229.874489 \nL 155.686968 227.364833 \nL 155.810138 229.874489 \nL 155.884039 229.100388 \nL 155.92099 229.781317 \nL 155.933307 227.935938 \nL 155.945624 229.874489 \nL 156.019525 228.002714 \nL 156.031842 229.874489 \nL 156.130378 229.766419 \nL 156.142695 229.791776 \nL 156.179646 226.533803 \nL 156.24123 229.874489 \nL 156.253547 229.874489 \nL 156.278181 226.905878 \nL 156.389033 228.657929 \nL 156.413667 228.024271 \nL 156.512203 229.874489 \nL 156.610738 227.615365 \nL 156.635372 228.48337 \nL 156.709274 229.85388 \nL 156.72159 227.997007 \nL 156.746224 229.530662 \nL 156.758541 229.470504 \nL 156.770858 229.797469 \nL 156.783175 229.628397 \nL 156.795492 229.874489 \nL 156.807809 229.449913 \nL 156.820126 229.656824 \nL 156.832443 226.829316 \nL 156.857077 229.874307 \nL 156.930978 229.504285 \nL 156.943295 229.671889 \nL 156.955612 228.739129 \nL 156.992563 228.87378 \nL 157.017197 229.874489 \nL 157.066464 228.437861 \nL 157.103415 229.874489 \nL 157.165 228.329934 \nL 157.177317 229.612168 \nL 157.189634 228.480409 \nL 157.226585 229.758264 \nL 157.275852 229.223567 \nL 157.362071 229.874489 \nL 157.312803 228.523127 \nL 157.386705 229.734089 \nL 157.448289 226.905878 \nL 157.472923 229.874489 \nL 157.48524 229.831843 \nL 157.497557 229.866894 \nL 157.522191 229.799584 \nL 157.559142 229.819125 \nL 157.633043 228.516454 \nL 157.583776 229.853648 \nL 157.657677 229.785542 \nL 157.682311 229.873885 \nL 157.706945 228.554319 \nL 157.793163 229.870903 \nL 157.842431 228.465444 \nL 157.916333 229.658303 \nL 157.977917 229.874489 \nL 157.990234 229.856552 \nL 158.002551 228.621829 \nL 158.027185 229.868964 \nL 158.101087 229.813419 \nL 158.113403 229.874318 \nL 158.150354 229.530365 \nL 158.174988 229.780322 \nL 158.187305 227.848433 \nL 158.211939 229.867456 \nL 158.273524 229.846441 \nL 158.28584 229.874489 \nL 158.298157 226.649484 \nL 158.396693 228.331518 \nL 158.445961 227.760043 \nL 158.519862 229.874489 \nL 158.630714 227.73623 \nL 158.753884 229.874489 \nL 158.815468 229.134144 \nL 158.864736 229.160734 \nL 158.938638 227.704469 \nL 158.975588 229.874489 \nL 159.061807 227.956909 \nL 159.111075 228.818312 \nL 159.184976 229.874489 \nL 159.197293 228.043046 \nL 159.221927 229.789046 \nL 159.258878 228.656742 \nL 159.320463 229.874489 \nL 159.332779 229.874489 \nL 159.36973 228.431098 \nL 159.455949 228.950379 \nL 159.505216 229.829995 \nL 159.554484 229.813788 \nL 159.65302 229.874489 \nL 159.677653 228.023548 \nL 159.726921 229.874489 \nL 159.800823 229.865136 \nL 159.85009 228.44711 \nL 159.837774 229.874489 \nL 159.911675 228.701222 \nL 159.997894 228.413441 \nL 160.034844 229.874489 \nL 160.13338 229.552717 \nL 160.219598 229.874489 \nL 160.244232 227.338966 \nL 160.318134 229.857084 \nL 160.367401 228.944223 \nL 160.379718 227.803901 \nL 160.45362 229.77466 \nL 160.465937 229.71657 \nL 160.478254 229.862056 \nL 160.490571 228.547228 \nL 160.539838 229.874489 \nL 160.589106 229.711291 \nL 160.601423 229.794656 \nL 160.61374 229.293066 \nL 160.699959 228.254343 \nL 160.687642 229.874489 \nL 160.724592 228.68451 \nL 160.798494 228.021432 \nL 160.847762 229.874489 \nL 160.93398 228.857405 \nL 160.958614 229.874489 \nL 161.007882 228.93463 \nL 161.069466 229.870243 \nL 161.081783 229.874489 \nL 161.0941 227.939241 \nL 161.192636 229.874489 \nL 161.241903 229.146119 \nL 161.303488 229.256917 \nL 161.365073 229.855678 \nL 161.389707 227.348743 \nL 161.402024 229.874489 \nL 161.488242 227.903457 \nL 161.512876 229.874489 \nL 161.586777 227.872078 \nL 161.599094 229.807659 \nL 161.648362 229.874489 \nL 161.709947 228.764346 \nL 161.833116 229.874489 \nL 161.85775 229.783264 \nL 161.907018 229.012576 \nL 161.919335 228.187976 \nL 161.968602 229.874489 \nL 162.005553 229.484211 \nL 162.042504 227.884032 \nL 162.054821 229.847946 \nL 162.067138 227.074596 \nL 162.116405 229.874489 \nL 162.165673 229.874489 \nL 162.17799 229.874489 \nL 162.301159 229.273685 \nL 162.436646 229.874489 \nL 162.461279 229.768955 \nL 162.473596 227.546328 \nL 162.522864 229.874489 \nL 162.559815 229.874489 \nL 162.572132 229.874489 \nL 162.695301 228.900808 \nL 162.78152 228.48353 \nL 162.830787 229.874489 \nL 162.843104 229.863307 \nL 162.880055 228.390615 \nL 162.867738 229.874489 \nL 162.966274 228.600963 \nL 163.052492 229.874489 \nL 163.064809 228.367199 \nL 163.077126 229.865357 \nL 163.175661 227.72115 \nL 163.126394 229.874489 \nL 163.187978 229.692325 \nL 163.200295 229.65556 \nL 163.212612 229.828867 \nL 163.224929 227.611624 \nL 163.249563 229.874489 \nL 163.323464 229.874489 \nL 163.360415 228.272899 \nL 163.434317 229.63418 \nL 163.508218 229.874489 \nL 163.569803 228.621211 \nL 163.619071 229.862029 \nL 163.680655 228.280055 \nL 163.643705 229.874489 \nL 163.729923 229.74363 \nL 163.754557 229.734243 \nL 163.791508 229.874489 \nL 163.816142 229.350015 \nL 163.840776 229.744596 \nL 163.877726 229.202864 \nL 163.890043 229.874489 \nL 163.939311 229.782948 \nL 163.963945 229.874489 \nL 163.976262 229.375419 \nL 164.000896 229.779812 \nL 164.037846 227.346617 \nL 164.050163 229.874489 \nL 164.111748 229.064784 \nL 164.18565 229.874489 \nL 164.197966 228.119043 \nL 164.2226 229.709091 \nL 164.234917 229.760014 \nL 164.271868 227.89367 \nL 164.259551 229.874489 \nL 164.34577 229.74661 \nL 164.370403 229.874489 \nL 164.38272 228.175761 \nL 164.481256 228.775263 \nL 164.50589 229.874489 \nL 164.567474 229.778534 \nL 164.579791 227.753194 \nL 164.641376 229.874337 \nL 164.678327 229.692204 \nL 164.715277 229.874489 \nL 164.702961 229.37582 \nL 164.727594 229.870576 \nL 164.739911 228.113947 \nL 164.752228 229.874489 \nL 164.838447 229.237422 \nL 164.850764 228.580194 \nL 164.924665 229.796221 \nL 164.936982 229.713473 \nL 165.035518 227.808945 \nL 164.998567 229.874219 \nL 165.060151 229.504493 \nL 165.134053 229.874172 \nL 165.158687 229.487509 \nL 165.195638 228.141561 \nL 165.207955 229.874489 \nL 165.269539 228.982711 \nL 165.318807 229.874489 \nL 165.368075 229.866462 \nL 165.405026 227.648932 \nL 165.454293 229.874233 \nL 165.478927 229.548056 \nL 165.515878 229.352916 \nL 165.528195 229.874489 \nL 165.540512 226.905878 \nL 165.639047 227.708869 \nL 165.651364 227.351959 \nL 165.663681 229.860516 \nL 165.688315 229.249607 \nL 165.762216 229.874489 \nL 165.7499 228.82944 \nL 165.78685 229.410407 \nL 165.811484 227.366316 \nL 165.885386 229.874489 \nL 165.897703 228.934126 \nL 165.971604 229.874489 \nL 165.94697 228.659973 \nL 165.996238 229.076986 \nL 166.057823 228.403441 \nL 166.020872 229.874489 \nL 166.07014 229.393375 \nL 166.10709 229.874489 \nL 166.131724 228.816796 \nL 166.156358 229.502027 \nL 166.168675 228.450453 \nL 166.242577 229.874489 \nL 166.267211 229.278168 \nL 166.365746 229.874489 \nL 166.291844 228.275139 \nL 166.378063 229.500353 \nL 166.427331 229.794062 \nL 166.402697 229.107167 \nL 166.439648 229.780844 \nL 166.476598 227.738711 \nL 166.464281 229.874487 \nL 166.5505 229.599685 \nL 166.575134 229.862635 \nL 166.587451 227.532327 \nL 166.599768 229.874489 \nL 166.685986 229.231889 \nL 166.722937 228.433389 \nL 166.809155 229.874489 \nL 166.821472 228.042432 \nL 166.920008 229.709602 \nL 166.932325 228.70802 \nL 166.956959 229.874489 \nL 167.018543 229.858706 \nL 167.043177 229.807347 \nL 167.129396 228.57058 \nL 167.067811 229.874489 \nL 167.141713 229.736485 \nL 167.178663 229.874489 \nL 167.227931 229.842427 \nL 167.289516 227.701937 \nL 167.326466 229.866131 \nL 167.338783 229.602312 \nL 167.388051 229.874489 \nL 167.363417 229.480423 \nL 167.412685 229.760934 \nL 167.51122 227.963677 \nL 167.461953 229.874489 \nL 167.523537 229.031516 \nL 167.585122 229.874489 \nL 167.63439 229.161418 \nL 167.659024 229.874489 \nL 167.695974 228.703172 \nL 167.757559 229.688747 \nL 167.769876 228.927676 \nL 167.79451 229.874489 \nL 167.856094 229.396444 \nL 167.917679 229.378297 \nL 167.95463 229.874489 \nL 168.053165 228.740533 \nL 168.065482 229.560843 \nL 168.090116 229.393004 \nL 168.127067 229.874489 \nL 168.225602 228.492027 \nL 168.237919 229.668832 \nL 168.250236 229.698757 \nL 168.262553 228.504512 \nL 168.299504 229.874489 \nL 168.348772 229.874489 \nL 168.361089 229.807678 \nL 168.373405 229.858794 \nL 168.385722 227.194063 \nL 168.484258 229.274938 \nL 168.570476 228.839922 \nL 168.607427 229.874489 \nL 168.656695 229.820174 \nL 168.669012 229.874489 \nL 168.75523 227.714641 \nL 168.779864 229.426906 \nL 168.804498 228.646847 \nL 168.829132 229.854413 \nL 168.841449 227.711086 \nL 168.853766 229.874489 \nL 168.939984 229.093661 \nL 168.989252 229.874489 \nL 169.026203 228.229069 \nL 169.03852 228.200259 \nL 169.149372 229.874489 \nL 169.210957 229.028631 \nL 169.272541 229.555284 \nL 169.284858 229.466067 \nL 169.309492 229.874489 \nL 169.395711 227.704777 \nL 169.408027 229.874482 \nL 169.506563 229.569963 \nL 169.51888 229.102906 \nL 169.555831 229.874489 \nL 169.617415 229.276609 \nL 169.691317 229.874486 \nL 169.654366 229.008911 \nL 169.740585 229.801085 \nL 169.765218 227.177554 \nL 169.814486 229.874489 \nL 169.851437 229.586985 \nL 169.888388 229.746232 \nL 169.900705 229.735907 \nL 169.962289 228.804271 \nL 169.925339 229.874489 \nL 169.99924 229.748499 \nL 170.011557 229.808202 \nL 170.036191 229.509903 \nL 170.048508 229.731793 \nL 170.122409 227.525472 \nL 170.073142 229.768958 \nL 170.147043 229.385829 \nL 170.15936 229.874489 \nL 170.196311 227.973735 \nL 170.208628 229.080384 \nL 170.220945 226.905878 \nL 170.294846 229.864141 \nL 170.307163 229.176251 \nL 170.331797 229.874489 \nL 170.44265 229.753518 \nL 170.467283 229.836286 \nL 170.4796 227.463757 \nL 170.565819 229.874489 \nL 170.578136 229.711119 \nL 170.63972 228.667812 \nL 170.627403 229.874489 \nL 170.688988 229.696193 \nL 170.738256 229.866116 \nL 170.824474 227.5958 \nL 170.787524 229.874489 \nL 170.849108 229.874489 \nL 170.910693 228.906796 \nL 170.984594 229.399995 \nL 171.095447 229.874489 \nL 171.070813 228.81593 \nL 171.107764 229.873854 \nL 171.218616 226.912168 \nL 171.329468 229.874489 \nL 171.292518 226.881344 \nL 171.341785 229.787654 \nL 171.354102 229.799654 \nL 171.391053 227.45015 \nL 171.378736 229.853904 \nL 171.464955 229.830471 \nL 171.551173 228.220769 \nL 171.489589 229.874489 \nL 171.575807 229.694956 \nL 171.625075 229.874489 \nL 171.674342 227.528499 \nL 171.686659 229.874489 \nL 171.785195 229.69629 \nL 171.797512 227.980261 \nL 171.846779 229.874489 \nL 171.896047 228.985842 \nL 171.969949 228.663689 \nL 172.019216 229.874489 \nL 172.142386 228.945276 \nL 172.240921 229.874489 \nL 172.253238 229.120871 \nL 172.314823 229.874489 \nL 172.339457 229.699248 \nL 172.351774 227.612508 \nL 172.413358 229.874489 \nL 172.450309 229.261666 \nL 172.536527 229.120457 \nL 172.561161 229.874489 \nL 172.598112 227.951552 \nL 172.672014 229.762994 \nL 172.684331 229.874489 \nL 172.708965 229.694608 \nL 172.721281 227.724666 \nL 172.770549 229.874489 \nL 172.8075 229.400861 \nL 172.869085 229.874489 \nL 172.844451 228.47767 \nL 172.881402 229.085838 \nL 172.942986 227.71227 \nL 172.906035 229.874489 \nL 172.979937 228.730249 \nL 173.004571 229.874489 \nL 173.103106 229.748262 \nL 173.152374 229.380433 \nL 173.201642 229.86846 \nL 173.226276 226.905878 \nL 173.250909 229.87361 \nL 173.312494 229.782182 \nL 173.324811 229.874489 \nL 173.386396 228.392928 \nL 173.435663 229.874489 \nL 173.497248 228.088573 \nL 173.546516 229.87063 \nL 173.558833 229.861495 \nL 173.583466 229.874489 \nL 173.694319 227.424638 \nL 173.817488 229.874489 \nL 173.854439 228.320345 \nL 173.916024 229.653518 \nL 173.92834 226.487655 \nL 173.989925 229.804319 \nL 174.014559 229.646878 \nL 174.039193 229.874489 \nL 174.05151 227.56827 \nL 174.150045 229.874489 \nL 174.199313 228.357293 \nL 174.260898 229.654341 \nL 174.273215 229.795023 \nL 174.347116 226.641628 \nL 174.310165 229.874489 \nL 174.37175 229.874489 \nL 174.396384 229.843415 \nL 174.408701 228.750375 \nL 174.421018 229.874489 \nL 174.507236 229.513357 \nL 174.593455 229.874489 \nL 174.581138 229.024571 \nL 174.618089 229.519808 \nL 174.667356 229.113128 \nL 174.655039 229.874489 \nL 174.679673 229.874489 \nL 174.704307 229.864697 \nL 174.753575 228.718123 \nL 174.741258 229.874489 \nL 174.802842 229.159975 \nL 174.839793 229.874489 \nL 174.876744 228.899206 \nL 174.913695 229.716414 \nL 175.01223 228.880724 \nL 174.999913 229.874489 \nL 175.024547 229.710059 \nL 175.036864 229.874489 \nL 175.123083 227.861612 \nL 175.147716 229.874489 \nL 175.283203 228.453315 \nL 175.369421 229.874489 \nL 175.394055 229.559573 \nL 175.418689 229.255428 \nL 175.467957 229.776206 \nL 175.529541 229.874489 \nL 175.578809 227.69975 \nL 175.61576 229.874489 \nL 175.689661 229.817559 \nL 175.714295 229.873253 \nL 175.812831 228.975271 \nL 175.837465 229.820606 \nL 175.911366 228.764647 \nL 175.923683 229.793631 \nL 175.997585 227.835388 \nL 176.046852 228.767174 \nL 176.059169 229.845148 \nL 176.071486 228.088562 \nL 176.145388 229.802658 \nL 176.231606 229.874489 \nL 176.25624 227.423398 \nL 176.367092 229.874489 \nL 176.490262 227.168528 \nL 176.588797 229.874489 \nL 176.601114 229.319137 \nL 176.650382 229.874489 \nL 176.69965 228.958654 \nL 176.773551 229.874489 \nL 176.748917 226.905878 \nL 176.798185 229.761524 \nL 176.810502 227.981215 \nL 176.884403 229.874124 \nL 176.909037 229.25916 \nL 176.982939 229.874489 \nL 176.995256 228.40874 \nL 177.007573 228.093799 \nL 177.044524 229.874489 \nL 177.05684 229.349119 \nL 177.093791 229.874489 \nL 177.081474 228.325783 \nL 177.143059 229.632804 \nL 177.216961 228.620154 \nL 177.192327 229.874489 \nL 177.241594 229.17969 \nL 177.315496 228.907717 \nL 177.352447 229.874489 \nL 177.389398 228.493619 \nL 177.463299 229.7294 \nL 177.512567 229.874489 \nL 177.487933 229.054976 \nL 177.549518 229.744505 \nL 177.623419 227.197498 \nL 177.635736 229.874489 \nL 177.66037 229.548387 \nL 177.672687 229.561287 \nL 177.746589 229.874489 \nL 177.795856 227.417957 \nL 177.906709 229.874489 \nL 177.919026 229.860478 \nL 177.943659 229.783269 \nL 177.968293 227.655322 \nL 177.98061 229.874489 \nL 178.042195 229.754864 \nL 178.054512 229.874489 \nL 178.066829 229.64144 \nL 178.079146 229.7019 \nL 178.091463 227.835847 \nL 178.128413 229.874489 \nL 178.189998 229.185997 \nL 178.251583 229.874489 \nL 178.239266 226.959718 \nL 178.30085 229.595947 \nL 178.313167 229.59316 \nL 178.411703 227.490947 \nL 178.399386 229.874461 \nL 178.436337 228.3724 \nL 178.559506 229.874489 \nL 178.571823 227.347007 \nL 178.670358 229.874489 \nL 178.781211 228.019856 \nL 178.892063 229.852901 \nL 178.842795 227.601189 \nL 178.90438 229.832577 \nL 178.929014 229.282972 \nL 178.941331 227.775013 \nL 178.965965 229.874197 \nL 179.039866 228.975432 \nL 179.052183 228.42161 \nL 179.113768 229.874489 \nL 179.126085 229.457692 \nL 179.199986 229.874489 \nL 179.163035 228.994735 \nL 179.212303 229.847763 \nL 179.22462 226.987645 \nL 179.249254 229.874489 \nL 179.323155 229.259722 \nL 179.335472 229.210276 \nL 179.372423 228.089172 \nL 179.446325 229.874489 \nL 179.569494 228.13476 \nL 179.606445 229.874489 \nL 179.680346 229.407531 \nL 179.692663 227.247982 \nL 179.70498 229.874489 \nL 179.778882 229.870096 \nL 179.791199 229.865538 \nL 179.803516 228.146037 \nL 179.815833 229.874489 \nL 179.902051 229.278939 \nL 179.926685 229.874489 \nL 179.939002 229.673433 \nL 179.951319 227.236228 \nL 179.975953 229.836611 \nL 180.037537 229.795132 \nL 180.049854 229.870621 \nL 180.062171 227.655321 \nL 180.136073 229.874489 \nL 180.160707 229.874489 \nL 180.197657 227.759576 \nL 180.271559 229.496454 \nL 180.345461 229.874489 \nL 180.357778 226.859549 \nL 180.456313 229.874489 \nL 180.493264 228.444714 \nL 180.567165 229.495902 \nL 180.579482 229.629076 \nL 180.591799 228.563901 \nL 180.604116 229.601754 \nL 180.616433 226.905878 \nL 180.702652 229.874489 \nL 180.813504 227.565255 \nL 180.875089 229.874489 \nL 180.912039 226.905878 \nL 180.924356 229.59042 \nL 180.985941 229.874489 \nL 181.010575 229.73131 \nL 181.047526 228.494957 \nL 181.072159 229.855263 \nL 181.10911 229.701698 \nL 181.133744 229.421766 \nL 181.219963 229.874489 \nL 181.281547 229.362115 \nL 181.318498 229.874155 \nL 181.330815 226.893644 \nL 181.42935 229.811396 \nL 181.441667 227.899618 \nL 181.527886 229.874489 \nL 181.540203 229.399764 \nL 181.638738 229.8727 \nL 181.663372 229.797428 \nL 181.675689 229.874489 \nL 181.737274 227.037105 \nL 181.786541 229.874489 \nL 181.798858 229.874489 \nL 181.860443 229.036928 \nL 181.922028 229.229577 \nL 181.958978 229.874489 \nL 181.983612 228.576137 \nL 182.03288 229.693314 \nL 182.069831 229.874489 \nL 182.094465 229.234767 \nL 182.106781 227.825753 \nL 182.119098 229.874489 \nL 182.193 229.733007 \nL 182.205317 229.874489 \nL 182.217634 229.777967 \nL 182.229951 228.238666 \nL 182.242268 229.874489 \nL 182.328486 229.661402 \nL 182.35312 228.383448 \nL 182.414705 229.874489 \nL 182.427022 229.871098 \nL 182.476289 229.870759 \nL 182.488606 229.773521 \nL 182.51324 228.081681 \nL 182.587142 229.874489 \nL 182.599459 229.544819 \nL 182.636409 229.298175 \nL 182.661043 229.874489 \nL 182.67336 228.715811 \nL 182.771896 229.782756 \nL 182.796529 229.874489 \nL 182.858114 228.778727 \nL 182.895065 229.874489 \nL 182.944333 228.040752 \nL 182.968966 229.517103 \nL 182.981283 229.732935 \nL 182.9936 227.958054 \nL 183.005917 229.874489 \nL 183.079819 228.93956 \nL 183.202988 229.874489 \nL 183.252256 229.848098 \nL 183.264573 228.799407 \nL 183.289207 229.874489 \nL 183.350791 229.415523 \nL 183.363108 229.874489 \nL 183.424693 228.543436 \nL 183.461644 229.669951 \nL 183.498594 229.648565 \nL 183.510911 229.874489 \nL 183.547862 227.494966 \nL 183.621764 229.874489 \nL 183.634081 229.78791 \nL 183.683348 229.864334 \nL 183.695665 227.962098 \nL 183.769567 229.874489 \nL 183.794201 229.874489 \nL 183.806518 228.834476 \nL 183.905053 229.278879 \nL 183.91737 229.276276 \nL 183.991272 228.814103 \nL 184.040539 229.874489 \nL 184.052856 229.874489 \nL 184.188342 228.81375 \nL 184.262244 227.789495 \nL 184.299195 229.874489 \nL 184.360779 227.81254 \nL 184.410047 228.905774 \nL 184.422364 229.831266 \nL 184.5209 229.557141 \nL 184.594801 228.846624 \nL 184.570167 229.874489 \nL 184.619435 229.838214 \nL 184.644069 229.874489 \nL 184.656386 229.475581 \nL 184.668703 227.374333 \nL 184.705654 229.874489 \nL 184.754921 229.873939 \nL 184.791872 229.619188 \nL 184.816506 229.874489 \nL 184.828823 227.78095 \nL 184.927358 229.863324 \nL 184.988943 229.67378 \nL 184.976626 229.874489 \nL 185.00126 229.774233 \nL 185.013577 227.435537 \nL 185.050528 229.837234 \nL 185.112112 229.762459 \nL 185.173697 229.47784 \nL 185.149063 229.874092 \nL 185.186014 229.612058 \nL 185.198331 229.149779 \nL 185.235281 229.874489 \nL 185.296866 229.407557 \nL 185.370768 229.874489 \nL 185.346134 229.099311 \nL 185.395402 229.544163 \nL 185.456986 227.891779 \nL 185.432352 229.874489 \nL 185.493937 228.949672 \nL 185.567839 229.874489 \nL 185.555522 227.693981 \nL 185.604789 229.839538 \nL 185.617106 229.706415 \nL 185.629423 229.874489 \nL 185.654057 229.874489 \nL 185.666374 227.838738 \nL 185.764909 229.220824 \nL 185.80186 229.853772 \nL 185.789543 227.665402 \nL 185.875762 229.718699 \nL 185.937346 226.905878 \nL 185.96198 229.873709 \nL 185.986614 229.55084 \nL 186.035882 229.874459 \nL 186.072833 229.826722 \nL 186.08515 228.352249 \nL 186.097466 229.874489 \nL 186.171368 229.874258 \nL 186.183685 229.874489 \nL 186.28222 228.570174 \nL 186.306854 228.881306 \nL 186.393073 228.648222 \nL 186.430024 229.874489 \nL 186.466974 227.799672 \nL 186.540876 229.663174 \nL 186.56551 229.718997 \nL 186.577827 229.302609 \nL 186.590144 227.479972 \nL 186.639411 229.827014 \nL 186.676362 228.722334 \nL 186.774898 229.874489 \nL 186.873433 226.859737 \nL 186.88575 229.874489 \nL 186.898067 229.874489 \nL 186.971968 228.536191 \nL 187.021236 229.566627 \nL 187.082821 229.874489 \nL 187.132089 229.747911 \nL 187.156722 229.591978 \nL 187.169039 229.874489 \nL 187.181356 228.364212 \nL 187.279892 229.87344 \nL 187.316842 227.908982 \nL 187.403061 228.653101 \nL 187.464646 229.872951 \nL 187.52623 229.327304 \nL 187.538547 229.874489 \nL 187.563181 228.398079 \nL 187.624766 229.103519 \nL 187.637083 228.886527 \nL 187.674033 229.874489 \nL 187.68635 229.37327 \nL 187.710984 229.874489 \nL 187.772569 228.494632 \nL 187.797203 229.635332 \nL 187.80952 229.688922 \nL 187.895738 228.238569 \nL 187.871104 229.874489 \nL 187.908055 229.644141 \nL 187.920372 229.773997 \nL 187.994274 228.039196 \nL 187.957323 229.874489 \nL 188.031224 228.581965 \nL 188.092809 229.874489 \nL 188.117443 228.086482 \nL 188.154394 229.676134 \nL 188.215978 228.417375 \nL 188.203661 229.874489 \nL 188.265246 229.61364 \nL 188.277563 229.636435 \nL 188.363781 228.283932 \nL 188.314514 229.874489 \nL 188.388415 228.610737 \nL 188.486951 228.179591 \nL 188.511585 229.874489 \nL 188.597803 228.193857 \nL 188.647071 228.517025 \nL 188.733289 229.874489 \nL 188.757923 229.422575 \nL 188.77024 229.438356 \nL 188.782557 229.411281 \nL 188.831825 228.30782 \nL 188.819508 229.874489 \nL 188.868776 229.759168 \nL 188.905726 229.376143 \nL 188.954994 229.874489 \nL 188.991945 227.71903 \nL 189.078163 228.791297 \nL 189.164382 229.874489 \nL 189.139748 228.361769 \nL 189.201333 229.502877 \nL 189.21365 229.52038 \nL 189.238283 229.739458 \nL 189.2506 227.98309 \nL 189.312185 229.874489 \nL 189.336819 229.870935 \nL 189.349136 229.874132 \nL 189.423037 228.664411 \nL 189.472305 229.521535 \nL 189.570841 229.874489 \nL 189.521573 228.426928 \nL 189.583157 229.656723 \nL 189.620108 228.119605 \nL 189.657059 229.871807 \nL 189.69401 228.83393 \nL 189.792545 229.874489 \nL 189.755594 228.265153 \nL 189.804862 229.803234 \nL 189.841813 229.874489 \nL 189.928031 228.880925 \nL 190.01425 228.368574 \nL 190.051201 229.874489 \nL 190.075835 229.846425 \nL 190.137419 228.206425 \nL 190.100468 229.86901 \nL 190.186687 228.279076 \nL 190.309856 229.874489 \nL 190.420709 228.585876 \nL 190.519244 229.874489 \nL 190.445342 227.999137 \nL 190.531561 229.509223 \nL 190.543878 226.905878 \nL 190.568512 229.874489 \nL 190.630096 229.874489 \nL 190.642413 229.874316 \nL 190.753266 227.725506 \nL 190.765583 229.874489 \nL 190.864118 229.631763 \nL 190.950337 228.992973 \nL 190.925703 229.874489 \nL 190.962654 229.45855 \nL 191.036555 229.874489 \nL 191.048872 228.939156 \nL 191.073506 229.727487 \nL 191.09814 228.174768 \nL 191.172041 229.857841 \nL 191.196675 229.763334 \nL 191.208992 228.408308 \nL 191.221309 229.874489 \nL 191.295211 229.811516 \nL 191.319844 229.76003 \nL 191.369112 229.874489 \nL 191.406063 228.454465 \nL 191.492281 228.802611 \nL 191.504598 228.275416 \nL 191.516915 229.874489 \nL 191.566183 229.870776 \nL 191.627768 229.874489 \nL 191.701669 227.919053 \nL 191.73862 229.739901 \nL 191.787888 229.832052 \nL 191.837155 227.826552 \nL 191.960325 229.874489 \nL 192.05886 228.633226 \nL 192.071177 229.822745 \nL 192.120445 229.874489 \nL 192.169713 228.189945 \nL 192.280565 229.874489 \nL 192.317516 227.606203 \nL 192.391417 229.746605 \nL 192.440685 227.631934 \nL 192.416051 229.833602 \nL 192.50227 229.345606 \nL 192.526904 229.874489 \nL 192.53922 228.409282 \nL 192.576171 229.654015 \nL 192.588488 227.444588 \nL 192.674707 229.874489 \nL 192.699341 229.450823 \nL 192.711657 228.299233 \nL 192.748608 229.874489 \nL 192.797876 229.696341 \nL 192.859461 229.874489 \nL 192.871778 229.573256 \nL 192.884094 229.85949 \nL 192.908728 229.206682 \nL 192.98263 229.402369 \nL 193.031898 229.874489 \nL 193.044215 228.046863 \nL 193.068848 229.872778 \nL 193.118116 227.955542 \nL 193.093482 229.874489 \nL 193.179701 229.423703 \nL 193.278236 229.874489 \nL 193.241285 229.085926 \nL 193.290553 229.580655 \nL 193.327504 229.874489 \nL 193.426039 228.121497 \nL 193.438356 229.871121 \nL 193.46299 227.941961 \nL 193.499941 229.874489 \nL 193.549209 228.575201 \nL 193.672378 229.874489 \nL 193.733963 228.419538 \nL 193.78323 228.677835 \nL 193.832498 228.338987 \nL 193.9064 229.874489 \nL 194.004935 228.408995 \nL 194.017252 229.628564 \nL 194.10347 229.874489 \nL 194.128104 227.152317 \nL 194.214323 229.72894 \nL 194.22664 229.21669 \nL 194.275907 229.828994 \nL 194.312858 229.544223 \nL 194.349809 229.874489 \nL 194.337492 228.29502 \nL 194.362126 229.417636 \nL 194.374443 228.130271 \nL 194.399077 229.874489 \nL 194.472978 229.044523 \nL 194.509929 229.874489 \nL 194.583831 228.361962 \nL 194.657732 229.874489 \nL 194.694683 229.14957 \nL 194.756268 229.873942 \nL 194.743951 228.654716 \nL 194.817852 229.833007 \nL 194.86712 229.874489 \nL 194.941022 227.69741 \nL 195.002606 229.874489 \nL 195.051874 229.274604 \nL 195.064191 226.905878 \nL 195.076508 229.874489 \nL 195.150409 229.666664 \nL 195.162726 229.545238 \nL 195.175043 229.872046 \nL 195.18736 227.756293 \nL 195.211994 229.874489 \nL 195.285896 228.426583 \nL 195.409065 229.874489 \nL 195.544551 228.424827 \nL 195.569185 227.416796 \nL 195.66772 229.874489 \nL 195.79089 227.854125 \nL 195.877108 229.874489 \nL 195.901742 228.613853 \nL 195.975644 228.232493 \nL 196.000278 229.866018 \nL 196.012594 227.186381 \nL 196.061862 229.874489 \nL 196.11113 227.997043 \nL 196.185031 229.874391 \nL 196.221982 229.725276 \nL 196.27125 228.696851 \nL 196.308201 229.874489 \nL 196.345152 229.210098 \nL 196.419053 229.874489 \nL 196.394419 228.72958 \nL 196.43137 229.170848 \nL 196.443687 226.973313 \nL 196.456004 229.874489 \nL 196.529905 229.214988 \nL 196.579173 228.121434 \nL 196.653075 229.874489 \nL 196.677709 228.514608 \nL 196.763927 229.365695 \nL 196.813195 229.874489 \nL 196.850146 229.131184 \nL 196.862463 229.134363 \nL 196.87478 229.147657 \nL 196.91173 229.874489 \nL 196.948681 228.471264 \nL 196.960998 229.776919 \nL 197.047217 225.956882 \nL 196.985632 229.827759 \nL 197.07185 229.251393 \nL 197.084167 229.451256 \nL 197.096484 227.886999 \nL 197.108801 227.288457 \nL 197.133435 229.874489 \nL 197.158069 229.813703 \nL 197.182703 229.874489 \nL 197.281238 226.905878 \nL 197.293555 229.874489 \nL 197.330506 229.526432 \nL 197.342823 229.816291 \nL 197.35514 227.442911 \nL 197.404407 229.826382 \nL 197.453675 229.801899 \nL 197.465992 229.874489 \nL 197.478309 229.294052 \nL 197.527577 229.874489 \nL 197.564528 228.601149 \nL 197.613795 226.408432 \nL 197.663063 229.874489 \nL 197.761598 227.718038 \nL 197.773915 229.249488 \nL 197.872451 229.874489 \nL 197.921718 226.905878 \nL 197.983303 229.761966 \nL 198.007937 229.554967 \nL 198.020254 227.873555 \nL 198.094155 229.874489 \nL 198.106472 229.7564 \nL 198.143423 229.298386 \nL 198.15574 229.874489 \nL 198.168057 228.460305 \nL 198.266593 229.295404 \nL 198.303543 228.249681 \nL 198.377445 229.874489 \nL 198.47598 227.208826 \nL 198.488297 229.783483 \nL 198.500614 229.840716 \nL 198.549882 228.281354 \nL 198.525248 229.874489 \nL 198.623783 228.458866 \nL 198.673051 229.867839 \nL 198.734636 229.732327 \nL 198.746953 228.391394 \nL 198.783904 229.874489 \nL 198.845488 229.635066 \nL 198.91939 227.990747 \nL 198.870122 229.75277 \nL 198.968657 229.161635 \nL 199.07951 229.873601 \nL 199.091827 229.870329 \nL 199.104144 229.874489 \nL 199.141094 229.666572 \nL 199.153411 227.70882 \nL 199.214996 229.8709 \nL 199.251947 229.651001 \nL 199.288898 228.40967 \nL 199.301215 229.874489 \nL 199.424384 227.850833 \nL 199.535236 229.874489 \nL 199.547553 227.069473 \nL 199.646089 229.764803 \nL 199.695356 228.25729 \nL 199.683039 229.865555 \nL 199.744624 229.7155 \nL 199.756941 229.829878 \nL 199.793892 228.115819 \nL 199.818526 229.874489 \nL 199.867793 229.803667 \nL 199.904744 229.874489 \nL 199.892427 229.436802 \nL 199.929378 229.77698 \nL 199.941695 229.416573 \nL 199.990963 229.874489 \nL 200.027913 229.63847 \nL 200.064864 228.23222 \nL 200.138766 229.874489 \nL 200.237301 226.905878 \nL 200.249618 229.874489 \nL 200.261935 229.829721 \nL 200.274252 229.869958 \nL 200.286569 227.183686 \nL 200.36047 229.874489 \nL 200.385104 229.016689 \nL 200.434372 228.016958 \nL 200.409738 229.848771 \nL 200.446689 229.507267 \nL 200.495957 229.874489 \nL 200.508274 229.666639 \nL 200.557541 228.473973 \nL 200.545224 229.874483 \nL 200.631443 228.67974 \nL 200.693028 227.803221 \nL 200.742295 229.782871 \nL 200.754612 228.409985 \nL 200.766929 229.874489 \nL 200.840831 229.449287 \nL 200.914732 228.990013 \nL 200.939366 229.874489 \nL 200.976317 227.234062 \nL 201.074852 228.627215 \nL 201.136437 229.874489 \nL 201.198022 229.60229 \nL 201.210339 229.660088 \nL 201.222655 229.608133 \nL 201.234972 227.862049 \nL 201.321191 229.829029 \nL 201.407409 228.815252 \nL 201.345825 229.874489 \nL 201.432043 229.7003 \nL 201.493628 229.874489 \nL 201.518262 229.489281 \nL 201.542896 229.874489 \nL 201.629114 224.572148 \nL 201.715333 229.874489 \nL 201.739967 229.396442 \nL 201.7646 228.102259 \nL 201.813868 229.874489 \nL 201.838502 229.672411 \nL 201.850819 229.874489 \nL 201.863136 229.752244 \nL 201.875453 227.013999 \nL 201.900087 229.874489 \nL 201.973988 229.763529 \nL 202.035573 229.874489 \nL 202.072524 228.294087 \nL 202.171059 229.874489 \nL 202.183376 228.723097 \nL 202.220327 229.874489 \nL 202.269594 227.492429 \nL 202.36813 229.868499 \nL 202.306545 226.905878 \nL 202.392764 229.834983 \nL 202.417398 229.867561 \nL 202.429715 229.855289 \nL 202.503616 228.912586 \nL 202.52825 229.868498 \nL 202.540567 229.679926 \nL 202.552884 229.840259 \nL 202.589835 229.329249 \nL 202.602152 228.016186 \nL 202.614468 229.874489 \nL 202.68837 229.647594 \nL 202.762272 229.874489 \nL 202.725321 228.332843 \nL 202.774589 229.544452 \nL 202.786906 227.895258 \nL 202.811539 229.874489 \nL 202.873124 229.818472 \nL 202.897758 229.874489 \nL 202.910075 226.905878 \nL 203.00861 229.874489 \nL 203.082512 228.634886 \nL 203.13178 229.574551 \nL 203.16873 228.719545 \nL 203.254949 229.874489 \nL 203.353484 227.459925 \nL 203.365801 229.858364 \nL 203.45202 227.954282 \nL 203.415069 229.874489 \nL 203.464337 229.750021 \nL 203.501287 229.874489 \nL 203.624457 228.231512 \nL 203.735309 229.874489 \nL 203.686041 227.666359 \nL 203.747626 229.827587 \nL 203.858478 226.905878 \nL 203.833844 229.874489 \nL 203.870795 228.29848 \nL 203.93238 229.874489 \nL 203.895429 228.048846 \nL 203.969331 229.809118 \nL 203.981648 227.5836 \nL 204.043232 229.874489 \nL 204.067866 228.934777 \nL 204.129451 227.7509 \nL 204.191035 229.874486 \nL 204.227986 228.404712 \nL 204.314205 228.97771 \nL 204.400423 229.874489 \nL 204.425057 229.822559 \nL 204.437374 229.161474 \nL 204.462008 229.874489 \nL 204.535909 229.697775 \nL 204.585177 228.260654 \nL 204.57286 229.874489 \nL 204.646762 229.308415 \nL 204.708346 229.230528 \nL 204.745297 229.874489 \nL 204.782248 228.467035 \nL 204.868467 229.258603 \nL 204.917734 229.874489 \nL 204.942368 229.870694 \nL 205.003953 227.785569 \nL 205.01627 229.874489 \nL 205.05322 229.874489 \nL 205.077854 228.95772 \nL 205.17639 229.306742 \nL 205.188707 229.874489 \nL 205.237974 227.794375 \nL 205.287242 229.757806 \nL 205.324193 229.874489 \nL 205.410411 227.490189 \nL 205.422728 229.874489 \nL 205.521264 229.072812 \nL 205.582848 229.874489 \nL 205.595165 228.633726 \nL 205.632116 229.846585 \nL 205.669067 226.905878 \nL 205.706018 229.874489 \nL 205.742968 229.562806 \nL 205.779919 229.435251 \nL 205.853821 229.874489 \nL 205.952356 227.624237 \nL 205.964673 229.674179 \nL 205.97699 229.787125 \nL 205.989307 229.665133 \nL 206.013941 229.86889 \nL 206.100159 227.504174 \nL 206.174061 229.874489 \nL 206.211012 229.784774 \nL 206.272596 229.149202 \nL 206.247963 229.874489 \nL 206.309547 229.217591 \nL 206.371132 228.883315 \nL 206.408083 229.874489 \nL 206.4204 228.546004 \nL 206.518935 229.732756 \nL 206.531252 228.748304 \nL 206.543569 229.874489 \nL 206.61747 229.874489 \nL 206.74064 227.919135 \nL 206.863809 229.874489 \nL 206.962344 228.410482 \nL 206.974661 229.750644 \nL 207.011612 229.874489 \nL 207.023929 227.561335 \nL 207.122465 229.874489 \nL 207.159415 229.789259 \nL 207.184049 228.946811 \nL 207.208683 229.874489 \nL 207.257951 229.557036 \nL 207.270268 227.247179 \nL 207.319535 229.874489 \nL 207.356486 229.513748 \nL 207.368803 229.874489 \nL 207.405754 227.866761 \nL 207.442705 229.567253 \nL 207.479656 229.874489 \nL 207.553557 228.384853 \nL 207.652093 229.874489 \nL 207.615142 226.905878 \nL 207.676726 229.86022 \nL 207.725994 227.636891 \nL 207.713677 229.874489 \nL 207.787579 228.711908 \nL 207.898431 229.874489 \nL 207.960016 228.368044 \nL 207.98465 229.696077 \nL 207.996967 227.133344 \nL 208.070868 229.873352 \nL 208.095502 229.420467 \nL 208.120136 229.8216 \nL 208.132453 228.602368 \nL 208.18172 229.650665 \nL 208.194037 226.905878 \nL 208.243305 229.874489 \nL 208.292573 229.697609 \nL 208.317207 229.794399 \nL 208.329524 229.755649 \nL 208.403425 229.874489 \nL 208.428059 227.508286 \nL 208.526594 229.874489 \nL 208.538911 229.746446 \nL 208.551228 229.745287 \nL 208.637447 228.055978 \nL 208.575862 229.874489 \nL 208.662081 229.305769 \nL 208.760616 229.867059 \nL 208.859152 226.247781 \nL 208.834518 229.874489 \nL 208.871469 228.212301 \nL 208.883785 227.861061 \nL 208.896102 229.874489 \nL 208.920736 229.565304 \nL 208.94537 229.874489 \nL 208.982321 229.260622 \nL 208.994638 229.41893 \nL 209.056222 229.874489 \nL 209.117807 227.864402 \nL 209.228659 229.874489 \nL 209.240976 229.530356 \nL 209.277927 229.607935 \nL 209.327195 228.523685 \nL 209.351829 229.874489 \nL 209.38878 229.549142 \nL 209.401096 229.595417 \nL 209.438047 228.698653 \nL 209.450364 229.874489 \nL 209.511949 229.395051 \nL 209.5489 228.64897 \nL 209.598167 229.874489 \nL 209.70902 226.905878 \nL 209.819872 229.874489 \nL 209.918407 227.554872 \nL 209.930724 229.874489 \nL 209.955358 228.755062 \nL 210.041577 229.740055 \nL 210.053894 229.822336 \nL 210.066211 228.346387 \nL 210.078528 229.874489 \nL 210.164746 229.850202 \nL 210.214014 229.22722 \nL 210.18938 229.874489 \nL 210.275598 229.855189 \nL 210.287915 225.997901 \nL 210.3495 229.856512 \nL 210.386451 229.660468 \nL 210.411085 228.805649 \nL 210.472669 229.874489 \nL 210.534254 228.978899 \nL 210.583522 229.874489 \nL 210.608156 228.432267 \nL 210.694374 229.817072 \nL 210.719008 229.702302 \nL 210.731325 229.874489 \nL 210.743642 227.651219 \nL 210.842177 228.436115 \nL 210.965346 229.874489 \nL 211.051565 228.720391 \nL 211.076199 229.446795 \nL 211.137783 229.410451 \nL 211.187051 229.874489 \nL 211.322537 229.203872 \nL 211.334854 229.424678 \nL 211.384122 229.874489 \nL 211.396439 229.200555 \nL 211.43339 229.864935 \nL 211.445707 227.8717 \nL 211.494974 229.874489 \nL 211.544242 229.245326 \nL 211.59351 227.943557 \nL 211.667411 229.874489 \nL 211.716679 229.013417 \nL 211.778264 229.874489 \nL 211.852165 229.874489 \nL 211.950701 228.255968 \nL 211.963018 229.657192 \nL 211.975335 229.709287 \nL 211.987652 227.786299 \nL 212.07387 229.874489 \nL 212.086187 229.874489 \nL 212.197039 228.09698 \nL 212.295575 229.874489 \nL 212.307892 228.617377 \nL 212.418744 229.870851 \nL 212.431061 229.456475 \nL 212.492646 229.874489 \nL 212.529596 229.848735 \nL 212.566547 229.78404 \nL 212.603498 229.866327 \nL 212.628132 228.418141 \nL 212.71435 229.785288 \nL 212.763618 229.874489 \nL 212.775935 229.487106 \nL 212.788252 229.842019 \nL 212.862154 228.494708 \nL 212.83752 229.874489 \nL 212.886787 229.874489 \nL 212.899104 229.874489 \nL 212.911421 227.956156 \nL 213.009957 229.657619 \nL 213.046907 229.874489 \nL 213.034591 229.382159 \nL 213.120809 229.866066 \nL 213.182394 229.607206 \nL 213.170077 229.874489 \nL 213.207028 229.822493 \nL 213.219344 226.733047 \nL 213.31788 229.874489 \nL 213.342514 229.874489 \nL 213.391782 228.031736 \nL 213.465683 229.257181 \nL 213.576535 229.874489 \nL 213.588852 229.75409 \nL 213.650437 229.839768 \nL 213.625803 229.664066 \nL 213.662754 229.782705 \nL 213.675071 228.921746 \nL 213.699705 229.874489 \nL 213.761289 229.692616 \nL 213.810557 229.874489 \nL 213.835191 229.18918 \nL 213.859825 229.762234 \nL 213.896776 227.261323 \nL 213.946043 229.874489 \nL 213.970677 229.266626 \nL 214.069213 229.874489 \nL 214.056896 229.058992 \nL 214.093846 229.846764 \nL 214.11848 229.774743 \nL 214.180065 229.854948 \nL 214.229333 227.917908 \nL 214.266283 227.597181 \nL 214.340185 229.874489 \nL 214.463354 226.584339 \nL 214.586524 229.874489 \nL 214.611157 227.938677 \nL 214.709693 229.5382 \nL 214.746644 229.511856 \nL 214.808228 229.874489 \nL 214.857496 226.905878 \nL 214.919081 229.684359 \nL 214.968348 229.874339 \nL 215.04225 227.629898 \nL 215.079201 229.700728 \nL 215.140785 229.835074 \nL 215.153102 228.540628 \nL 215.239321 227.821661 \nL 215.190053 229.864091 \nL 215.251638 228.790801 \nL 215.263955 228.811531 \nL 215.350173 229.874489 \nL 215.36249 229.745288 \nL 215.374807 228.571069 \nL 215.411758 229.867611 \nL 215.461026 229.76129 \nL 215.510293 229.874489 \nL 215.52261 229.654827 \nL 215.559561 229.854336 \nL 215.608829 228.452903 \nL 215.633463 229.874489 \nL 215.670413 229.581188 \nL 215.695047 228.979031 \nL 215.756632 229.874481 \nL 215.768949 228.18586 \nL 215.867484 229.873689 \nL 215.892118 229.874489 \nL 215.953703 229.120889 \nL 216.00297 229.874489 \nL 216.015287 229.874489 \nL 216.027604 228.643607 \nL 216.12614 229.816082 \nL 216.138457 229.674889 \nL 216.150774 229.874168 \nL 216.200041 226.409137 \nL 216.187724 229.874489 \nL 216.261626 229.781489 \nL 216.273943 229.874489 \nL 216.298577 229.710561 \nL 216.310894 228.363749 \nL 216.347845 229.874489 \nL 216.397112 228.826096 \nL 216.495648 229.874489 \nL 216.44638 227.906414 \nL 216.507965 229.115764 \nL 216.520282 229.816356 \nL 216.557232 228.858365 \nL 216.618817 229.521238 \nL 216.631134 227.475358 \nL 216.692719 229.874489 \nL 216.717352 229.874489 \nL 216.741986 229.717173 \nL 216.778937 227.638533 \nL 216.791254 229.874489 \nL 216.840522 229.874489 \nL 216.852839 229.874489 \nL 216.951374 228.557214 \nL 216.963691 229.409627 \nL 217.025276 228.028965 \nL 217.08686 229.874489 \nL 217.123811 228.798128 \nL 217.197713 229.856418 \nL 217.21003 229.874489 \nL 217.222346 229.864287 \nL 217.271614 229.874489 \nL 217.333199 228.957165 \nL 217.444051 229.874489 \nL 217.456368 229.754791 \nL 217.468685 229.803976 \nL 217.517953 226.932619 \nL 217.493319 229.874489 \nL 217.56722 229.545361 \nL 217.628805 229.868584 \nL 217.653439 229.874489 \nL 217.739657 227.201149 \nL 217.862827 229.874489 \nL 217.985996 227.711812 \nL 218.059898 229.85306 \nL 218.096848 229.477814 \nL 218.121482 229.874489 \nL 218.17075 229.261086 \nL 218.195384 228.328214 \nL 218.293919 229.874489 \nL 218.318553 229.654703 \nL 218.343187 229.729247 \nL 218.355504 228.205644 \nL 218.429406 229.869658 \nL 218.441722 229.320149 \nL 218.454039 229.874489 \nL 218.49099 228.460391 \nL 218.552575 229.859787 \nL 218.564892 229.719186 \nL 218.577209 227.9145 \nL 218.626476 229.874489 \nL 218.663427 229.874489 \nL 218.688061 229.791512 \nL 218.700378 229.874489 \nL 218.737329 228.55299 \nL 218.81123 229.809179 \nL 218.897449 228.67986 \nL 218.872815 229.874489 \nL 218.922083 229.486988 \nL 218.959033 229.874489 \nL 218.97135 228.795975 \nL 218.983667 229.303898 \nL 219.045252 228.083663 \nL 219.008301 229.874489 \nL 219.082203 229.874086 \nL 219.09452 229.874489 \nL 219.106837 227.022437 \nL 219.205372 229.802417 \nL 219.279274 228.386014 \nL 219.266957 229.874489 \nL 219.303908 229.870742 \nL 219.328541 229.800545 \nL 219.340858 229.122058 \nL 219.365492 229.874489 \nL 219.439394 229.628131 \nL 219.451711 229.874018 \nL 219.476345 229.590399 \nL 219.500978 229.870618 \nL 219.513295 227.971848 \nL 219.611831 229.814475 \nL 219.624148 229.819868 \nL 219.636465 227.480812 \nL 219.648782 229.874489 \nL 219.722683 229.687664 \nL 219.784268 229.156418 \nL 219.796585 229.874489 \nL 219.808902 228.066448 \nL 219.907437 229.536953 \nL 219.956705 229.874489 \nL 219.981339 229.073711 \nL 219.993656 227.458619 \nL 220.018289 229.874489 \nL 220.079874 229.143778 \nL 220.104508 229.874489 \nL 220.141459 227.684687 \nL 220.153776 229.826529 \nL 220.166093 227.647206 \nL 220.178409 229.874489 \nL 220.264628 229.560618 \nL 220.301579 229.466571 \nL 220.313896 229.736944 \nL 220.326213 226.905878 \nL 220.387797 229.874489 \nL 220.412431 229.735364 \nL 220.461699 229.873635 \nL 220.437065 229.247713 \nL 220.474016 229.861672 \nL 220.486333 226.865596 \nL 220.547917 229.874489 \nL 220.584868 229.755241 \nL 220.708037 229.874489 \nL 220.744988 229.766633 \nL 220.757305 229.39939 \nL 220.794256 229.873264 \nL 220.855841 229.415075 \nL 220.880474 227.910352 \nL 220.942059 229.874489 \nL 220.954376 227.528544 \nL 221.052911 229.874489 \nL 221.114496 227.294117 \nL 221.176081 228.572091 \nL 221.274616 229.874489 \nL 221.286933 229.099834 \nL 221.348518 229.874489 \nL 221.360835 229.872911 \nL 221.373152 226.907515 \nL 221.385469 229.874489 \nL 221.471687 228.354092 \nL 221.594856 229.874229 \nL 221.61949 229.754464 \nL 221.681075 229.872678 \nL 221.767293 227.83367 \nL 221.730343 229.874489 \nL 221.791927 228.79232 \nL 221.90278 229.874489 \nL 221.915096 229.739082 \nL 221.927413 228.011912 \nL 222.001315 229.839273 \nL 222.025949 229.231147 \nL 222.124484 229.874489 \nL 222.075217 228.979084 \nL 222.149118 229.864781 \nL 222.210703 229.874489 \nL 222.25997 228.331282 \nL 222.321555 229.874489 \nL 222.358506 229.774989 \nL 222.370823 228.107151 \nL 222.407774 229.874489 \nL 222.469358 229.792343 \nL 222.493992 229.864157 \nL 222.54326 229.873632 \nL 222.617161 227.362948 \nL 222.728014 229.874489 \nL 222.740331 229.630035 \nL 222.764965 229.874489 \nL 222.851183 227.702531 \nL 222.912768 226.905878 \nL 222.962035 229.874489 \nL 223.02362 228.397717 \nL 223.072888 229.860177 \nL 223.097522 229.870083 \nL 223.109839 229.808752 \nL 223.122156 227.6222 \nL 223.18374 229.874489 \nL 223.220691 229.799111 \nL 223.269959 227.530622 \nL 223.245325 229.874489 \nL 223.331543 229.716962 \nL 223.368494 229.866602 \nL 223.405445 229.87384 \nL 223.491663 227.1881 \nL 223.590199 229.874489 \nL 223.602516 229.870851 \nL 223.676417 227.494082 \nL 223.701051 229.873616 \nL 223.713368 229.785386 \nL 223.738002 228.601765 \nL 223.750319 229.874489 \nL 223.811904 229.806034 \nL 223.836537 229.772566 \nL 223.848854 229.874489 \nL 223.861171 227.041085 \nL 223.959707 228.109659 \nL 224.033608 227.889905 \nL 224.070559 229.874489 \nL 224.169095 228.39569 \nL 224.181411 229.6721 \nL 224.193728 229.874489 \nL 224.218362 229.260437 \nL 224.230679 229.58427 \nL 224.279947 226.905878 \nL 224.255313 229.874489 \nL 224.329215 227.06704 \nL 224.415433 229.874489 \nL 224.452384 229.682387 \nL 224.489335 229.874489 \nL 224.550919 227.748342 \nL 224.637138 229.874489 \nL 224.661772 229.835688 \nL 224.686406 229.55316 \nL 224.698722 229.874489 \nL 224.711039 228.50131 \nL 224.809575 229.451277 \nL 224.834209 229.874489 \nL 224.883476 228.848101 \nL 224.895793 229.81358 \nL 224.90811 226.905878 \nL 224.932744 229.874489 \nL 225.006646 229.46663 \nL 225.06823 229.874489 \nL 225.105181 226.905878 \nL 225.22835 229.874489 \nL 225.240667 229.729274 \nL 225.277618 229.874489 \nL 225.289935 227.607369 \nL 225.388471 229.315201 \nL 225.400787 227.92718 \nL 225.487006 229.860977 \nL 225.499323 229.873945 \nL 225.560908 229.006864 \nL 225.610175 229.785953 \nL 225.696394 227.045511 \nL 225.67176 229.871673 \nL 225.708711 229.873824 \nL 225.721028 229.793997 \nL 225.770295 228.7539 \nL 225.794929 229.870065 \nL 225.819563 229.725314 \nL 225.83188 229.846977 \nL 225.844197 227.605941 \nL 225.856514 229.874489 \nL 225.942732 229.854195 \nL 225.955049 228.934438 \nL 225.967366 229.874489 \nL 226.053585 229.548578 \nL 226.102852 229.874489 \nL 226.127486 229.768483 \nL 226.139803 227.887911 \nL 226.189071 229.874489 \nL 226.238339 229.737712 \nL 226.250656 229.441579 \nL 226.262972 229.874489 \nL 226.336874 229.479663 \nL 226.361508 229.874489 \nL 226.435409 229.732658 \nL 226.447726 227.675251 \nL 226.509311 229.874489 \nL 226.533945 229.865064 \nL 226.558579 229.874489 \nL 226.570896 229.837855 \nL 226.620163 228.103535 \nL 226.657114 229.854266 \nL 226.669431 229.229788 \nL 226.743333 228.589764 \nL 226.780283 229.874489 \nL 226.91577 228.52008 \nL 227.038939 229.874489 \nL 227.07589 229.874489 \nL 227.088207 229.298662 \nL 227.186742 229.801436 \nL 227.260644 228.168647 \nL 227.223693 229.835825 \nL 227.309911 228.984293 \nL 227.39613 228.761142 \nL 227.420764 229.874489 \nL 227.433081 228.527023 \nL 227.531616 229.035863 \nL 227.55625 227.279175 \nL 227.642469 229.874489 \nL 227.777955 227.427045 \nL 227.888807 229.874489 \nL 227.901124 227.650261 \nL 227.999659 229.525044 \nL 228.011976 229.511849 \nL 228.03661 229.03911 \nL 228.048927 229.874489 \nL 228.098195 229.145053 \nL 228.15978 229.874489 \nL 228.209047 229.676128 \nL 228.258315 229.354096 \nL 228.245998 229.874489 \nL 228.307583 229.858656 \nL 228.381484 229.852841 \nL 228.393801 228.872924 \nL 228.418435 229.874489 \nL 228.492337 229.871539 \nL 228.553921 228.108073 \nL 228.590872 229.874489 \nL 228.603189 228.328771 \nL 228.689408 229.874489 \nL 228.714041 229.302969 \nL 228.775626 229.874489 \nL 228.80026 228.970644 \nL 228.812577 226.627703 \nL 228.837211 229.874489 \nL 228.898795 228.215623 \nL 229.009648 229.874489 \nL 229.083549 229.330378 \nL 229.1205 229.85611 \nL 229.132817 229.874489 \nL 229.145134 229.079095 \nL 229.243669 229.874489 \nL 229.255986 229.850667 \nL 229.329888 228.410512 \nL 229.342205 229.874489 \nL 229.354522 229.796534 \nL 229.366839 229.870701 \nL 229.391472 228.516516 \nL 229.428423 229.874489 \nL 229.477691 229.874315 \nL 229.539276 229.732345 \nL 229.551593 229.867218 \nL 229.563909 228.314408 \nL 229.588543 229.874489 \nL 229.662445 229.712678 \nL 229.687079 229.874489 \nL 229.699396 229.845469 \nL 229.711713 227.939537 \nL 229.72403 229.874489 \nL 229.810248 229.744943 \nL 229.871833 229.874489 \nL 229.9211 228.626488 \nL 230.04427 229.874489 \nL 230.056587 229.869815 \nL 230.179756 227.984521 \nL 230.241341 229.874489 \nL 230.216707 227.364182 \nL 230.290608 229.686887 \nL 230.302925 228.266201 \nL 230.327559 229.874489 \nL 230.389144 229.616544 \nL 230.438411 228.781612 \nL 230.499996 229.874489 \nL 230.536947 228.564628 \nL 230.610848 229.491454 \nL 230.672433 229.874489 \nL 230.68475 229.145246 \nL 230.697067 226.905878 \nL 230.746335 229.874489 \nL 230.783285 227.386934 \nL 230.832553 229.874489 \nL 230.906455 229.833726 \nL 230.931089 228.252061 \nL 230.943406 229.874489 \nL 231.017307 229.070665 \nL 231.066575 229.874489 \nL 231.128159 228.147901 \nL 231.177427 229.811717 \nL 231.202061 229.873039 \nL 231.214378 229.71787 \nL 231.226695 229.764289 \nL 231.300596 229.874468 \nL 231.349864 227.012083 \nL 231.4484 229.87437 \nL 231.460717 228.571134 \nL 231.522301 229.60911 \nL 231.497667 228.237794 \nL 231.571569 228.904063 \nL 231.596203 228.593187 \nL 231.633154 229.821672 \nL 231.645471 229.874489 \nL 231.657787 229.489561 \nL 231.670104 229.112263 \nL 231.682421 229.874489 \nL 231.756323 229.762072 \nL 231.780957 229.630919 \nL 231.830224 229.874489 \nL 231.92876 228.775012 \nL 231.941077 229.874461 \nL 232.051929 228.025229 \nL 232.064246 228.931114 \nL 232.162782 229.874489 \nL 232.101197 226.905878 \nL 232.187415 229.85431 \nL 232.212049 229.874165 \nL 232.285951 227.70444 \nL 232.322902 229.303332 \nL 232.40912 229.861909 \nL 232.421437 228.968684 \nL 232.433754 229.841039 \nL 232.519972 228.518092 \nL 232.483022 229.874489 \nL 232.544606 229.525206 \nL 232.581557 229.874489 \nL 232.643142 227.889041 \nL 232.741677 229.874489 \nL 232.753994 229.030195 \nL 232.803262 229.874489 \nL 232.840213 229.837343 \nL 232.901797 227.604593 \nL 232.88948 229.874489 \nL 232.951065 229.783894 \nL 232.963382 228.108569 \nL 233.01265 229.874489 \nL 233.061917 228.343215 \nL 233.160453 229.874489 \nL 233.086551 228.338528 \nL 233.185087 229.648044 \nL 233.197404 229.685757 \nL 233.209721 229.629506 \nL 233.222037 228.419275 \nL 233.283622 229.874489 \nL 233.320573 228.422574 \nL 233.431425 229.874298 \nL 233.554595 228.540214 \nL 233.628496 227.867642 \nL 233.665447 229.874489 \nL 233.751665 228.236369 \nL 233.776299 229.874489 \nL 233.81325 229.35361 \nL 233.887152 229.874489 \nL 233.899469 229.865872 \nL 233.911785 228.637741 \nL 234.010321 229.874489 \nL 234.047272 229.698323 \nL 234.071906 229.874489 \nL 234.084222 227.237917 \nL 234.182758 229.644839 \nL 234.195075 229.654412 \nL 234.244343 229.106055 \nL 234.305927 229.874489 \nL 234.392146 228.693232 \nL 234.41678 229.766981 \nL 234.429097 229.815952 \nL 234.441413 228.403788 \nL 234.45373 229.874489 \nL 234.539949 229.023598 \nL 234.5769 229.874489 \nL 234.638484 228.92178 \nL 234.663118 229.871022 \nL 234.675435 227.603237 \nL 234.773971 228.128377 \nL 234.798604 227.672091 \nL 234.89714 229.874363 \nL 234.921774 229.874489 \nL 234.983358 228.300705 \nL 235.032626 229.428348 \nL 235.044943 229.026699 \nL 235.069577 229.874489 \nL 235.118845 229.83108 \nL 235.131161 229.874489 \nL 235.143478 229.838441 \nL 235.229697 229.874489 \nL 235.266648 227.644044 \nL 235.389817 229.874489 \nL 235.402134 228.005044 \nL 235.500669 229.59974 \nL 235.525303 229.874489 \nL 235.549937 229.058756 \nL 235.574571 229.424554 \nL 235.586888 228.327998 \nL 235.611522 229.874489 \nL 235.673106 229.854767 \nL 235.747008 229.331761 \nL 235.771642 229.615205 \nL 235.808593 229.874489 \nL 235.820909 227.496047 \nL 235.919445 229.874489 \nL 236.005663 227.612616 \nL 236.030297 229.874489 \nL 236.153467 227.929299 \nL 236.252002 229.874489 \nL 236.276636 229.843573 \nL 236.288953 229.869346 \nL 236.30127 229.752381 \nL 236.338221 228.944474 \nL 236.350537 229.874489 \nL 236.412122 229.635006 \nL 236.522974 229.870999 \nL 236.436756 228.864872 \nL 236.535291 229.85638 \nL 236.62151 227.608251 \nL 236.633827 229.874489 \nL 236.658461 229.827429 \nL 236.670778 228.084758 \nL 236.732362 229.874477 \nL 236.756996 229.874489 \nL 236.769313 229.872032 \nL 236.806264 228.136618 \nL 236.830898 229.874489 \nL 236.880165 229.449734 \nL 236.978701 229.873816 \nL 236.94175 228.211493 \nL 237.003335 229.87259 \nL 237.10187 227.211474 \nL 237.052602 229.874489 \nL 237.114187 229.805942 \nL 237.151138 229.74672 \nL 237.188089 229.873816 \nL 237.311258 226.7085 \nL 237.397476 229.874489 \nL 237.434427 229.835348 \nL 237.459061 229.874489 \nL 237.471378 228.90402 \nL 237.569913 229.874489 \nL 237.594547 229.822719 \nL 237.631498 229.226598 \nL 237.656132 229.874489 \nL 237.693083 229.874489 \nL 237.7054 229.874489 \nL 237.803935 229.007847 \nL 237.816252 229.874489 \nL 237.828569 229.862881 \nL 237.877837 228.170705 \nL 237.853203 229.873776 \nL 237.939421 229.871892 \nL 237.964055 229.682569 \nL 237.976372 228.139737 \nL 237.988689 229.874489 \nL 238.062591 229.765624 \nL 238.074908 229.874489 \nL 238.087224 229.855644 \nL 238.124175 227.894618 \nL 238.111858 229.874489 \nL 238.198077 229.874489 \nL 238.235028 229.872875 \nL 238.247345 228.050532 \nL 238.308929 229.874489 \nL 238.34588 229.717527 \nL 238.358197 229.796764 \nL 238.456732 226.905878 \nL 238.444415 229.874489 \nL 238.469049 229.036103 \nL 238.506 228.103218 \nL 238.592219 229.874489 \nL 238.616852 229.874489 \nL 238.727705 229.524053 \nL 238.740022 229.874489 \nL 238.789289 228.156489 \nL 238.82624 229.817803 \nL 238.924776 227.464695 \nL 238.875508 229.874485 \nL 238.937093 229.321825 \nL 238.961726 227.939499 \nL 239.072579 229.874133 \nL 239.158797 228.125623 \nL 239.183431 229.673163 \nL 239.232699 229.874489 \nL 239.245016 229.682806 \nL 239.26965 227.050224 \nL 239.281967 229.874489 \nL 239.343551 229.874489 \nL 239.355868 229.874489 \nL 239.417453 226.905878 \nL 239.479037 228.421111 \nL 239.503671 229.874489 \nL 239.602207 229.842876 \nL 239.639158 229.874489 \nL 239.725376 227.103575 \nL 239.823911 229.874489 \nL 239.848545 229.874099 \nL 239.947081 228.167265 \nL 239.959398 229.67868 \nL 240.033299 229.874489 \nL 239.984032 229.493542 \nL 240.057933 229.689903 \nL 240.156469 228.561842 \nL 240.144152 229.874489 \nL 240.168785 229.685671 \nL 240.205736 229.278723 \nL 240.218053 229.874489 \nL 240.23037 228.19055 \nL 240.328906 228.97674 \nL 240.353539 228.080698 \nL 240.464392 229.874489 \nL 240.489026 228.788658 \nL 240.575244 229.874489 \nL 240.624512 229.871809 \nL 240.636829 229.667051 \nL 240.649146 227.416616 \nL 240.67378 229.874489 \nL 240.747681 228.49143 \nL 240.87085 229.874489 \nL 240.957069 228.150267 \nL 240.99402 229.368616 \nL 241.117189 229.874489 \nL 241.129506 228.400201 \nL 241.228041 229.874093 \nL 241.289626 229.800106 \nL 241.326577 228.742378 \nL 241.31426 229.874489 \nL 241.388161 229.874489 \nL 241.400478 229.874489 \nL 241.437429 227.140189 \nL 241.535965 227.886403 \nL 241.659134 229.874489 \nL 241.671451 229.874489 \nL 241.769986 228.056456 \nL 241.782303 229.866115 \nL 241.79462 229.874489 \nL 241.893156 227.706379 \nL 241.905473 229.204052 \nL 242.016325 229.874489 \nL 242.065593 229.719389 \nL 242.102543 229.874489 \nL 242.11486 227.61596 \nL 242.213396 229.874489 \nL 242.262663 228.906293 \nL 242.324248 229.355766 \nL 242.39815 229.874489 \nL 242.361199 228.751787 \nL 242.447417 229.863236 \nL 242.472051 229.867676 \nL 242.521319 228.914981 \nL 242.545953 229.874487 \nL 242.55827 229.874461 \nL 242.570587 225.997869 \nL 242.669122 229.874245 \nL 242.693756 229.874489 \nL 242.706073 228.064534 \nL 242.804608 229.262959 \nL 242.853876 227.219098 \nL 242.866193 229.874489 \nL 242.890827 229.567663 \nL 242.915461 229.874489 \nL 242.964728 229.786924 \nL 243.001679 227.411869 \nL 243.063264 229.874489 \nL 243.112532 229.826859 \nL 243.137165 228.276854 \nL 243.149482 229.874489 \nL 243.223384 229.67318 \nL 243.235701 229.874489 \nL 243.272652 228.7059 \nL 243.284969 229.489632 \nL 243.321919 228.313492 \nL 243.371187 229.874489 \nL 243.383504 229.874489 \nL 243.494356 229.410724 \nL 243.543624 229.861858 \nL 243.555941 229.182734 \nL 243.568258 226.905878 \nL 243.605209 229.874489 \nL 243.654476 229.69054 \nL 243.67911 229.80947 \nL 243.691427 228.833093 \nL 243.753012 229.815501 \nL 243.777646 229.774356 \nL 243.80228 229.874489 \nL 243.814597 228.781073 \nL 243.913132 229.71313 \nL 244.011667 229.874405 \nL 243.987034 229.438447 \nL 244.023984 229.853877 \nL 244.085569 229.02233 \nL 244.048618 229.874489 \nL 244.12252 229.85528 \nL 244.134837 229.871505 \nL 244.147154 229.715915 \nL 244.245689 229.874489 \nL 244.258006 226.905878 \nL 244.356541 229.874486 \nL 244.368858 228.338819 \nL 244.455077 229.874489 \nL 244.430443 227.767165 \nL 244.467394 229.866844 \nL 244.479711 227.602785 \nL 244.516661 229.874489 \nL 244.578246 229.874489 \nL 244.590563 229.874489 \nL 244.60288 229.75769 \nL 244.615197 228.083263 \nL 244.639831 229.874489 \nL 244.713732 229.755419 \nL 244.750683 228.044502 \nL 244.738366 229.874489 \nL 244.836902 228.255287 \nL 244.972388 229.874277 \nL 244.997022 229.845749 \nL 245.009339 227.876677 \nL 245.033973 229.874489 \nL 245.107874 229.867859 \nL 245.20641 228.688185 \nL 245.132508 229.874489 \nL 245.218726 229.745567 \nL 245.231043 229.842958 \nL 245.24336 229.280549 \nL 245.267994 229.712866 \nL 245.341896 228.280408 \nL 245.304945 229.874489 \nL 245.378847 229.002351 \nL 245.477382 229.87392 \nL 245.489699 227.388699 \nL 245.502016 229.874489 \nL 245.588234 229.831801 \nL 245.674453 226.450115 \nL 245.637502 229.874489 \nL 245.699087 229.552105 \nL 245.723721 229.874489 \nL 245.736037 228.01145 \nL 245.834573 229.272918 \nL 245.883841 229.874489 \nL 245.933108 228.909153 \nL 245.957742 229.860453 \nL 245.994693 229.205625 \nL 246.00701 227.531056 \nL 246.043961 229.874489 \nL 246.093228 229.844484 \nL 246.105545 229.838024 \nL 246.130179 227.622757 \nL 246.204081 229.381876 \nL 246.216398 229.874489 \nL 246.241032 227.276408 \nL 246.253348 226.905878 \nL 246.265665 229.867721 \nL 246.290299 228.592265 \nL 246.32725 229.874489 \nL 246.351884 228.099674 \nL 246.388835 229.816118 \nL 246.401152 228.167471 \nL 246.413469 229.874489 \nL 246.48737 229.874489 \nL 246.499687 229.874489 \nL 246.610539 228.575642 \nL 246.672124 229.874489 \nL 246.659807 227.925952 \nL 246.721392 229.753337 \nL 246.80761 229.874489 \nL 246.746026 229.557781 \nL 246.819927 229.820235 \nL 246.893829 227.80071 \nL 246.844561 229.874489 \nL 246.943097 229.383142 \nL 246.955413 229.376029 \nL 246.992364 228.263145 \nL 247.066266 229.874489 \nL 247.0909 228.066139 \nL 247.177118 229.570741 \nL 247.189435 229.874489 \nL 247.214069 229.182389 \nL 247.238703 229.743717 \nL 247.25102 227.972548 \nL 247.275654 229.874489 \nL 247.337238 229.874489 \nL 247.349555 229.874489 \nL 247.386506 227.792065 \nL 247.460408 229.850062 \nL 247.472724 229.874489 \nL 247.57126 227.016142 \nL 247.583577 229.80743 \nL 247.608211 229.838945 \nL 247.669795 228.271156 \nL 247.657478 229.874489 \nL 247.73138 228.845745 \nL 247.768331 229.835937 \nL 247.780648 227.840898 \nL 247.829915 228.222281 \nL 247.842232 228.147217 \nL 247.940768 229.874489 \nL 247.953085 229.827526 \nL 248.026986 229.128152 \nL 248.039303 226.647011 \nL 248.05162 229.874489 \nL 248.125522 229.192933 \nL 248.236374 229.874489 \nL 248.150156 228.254753 \nL 248.248691 229.763733 \nL 248.297959 229.196325 \nL 248.285642 229.874489 \nL 248.359543 229.523448 \nL 248.37186 229.71685 \nL 248.384177 228.799291 \nL 248.421128 229.667908 \nL 248.445762 226.905878 \nL 248.482713 229.874489 \nL 248.519663 229.740504 \nL 248.605882 229.874489 \nL 248.581248 229.41409 \nL 248.618199 229.715828 \nL 248.679784 227.612649 \nL 248.642833 229.859105 \nL 248.729051 229.234655 \nL 248.766002 228.010614 \nL 248.753685 229.858374 \nL 248.778319 229.753268 \nL 248.790636 229.874489 \nL 248.802953 228.277979 \nL 248.901488 229.754634 \nL 248.913805 229.874489 \nL 249.024658 227.744616 \nL 249.061608 229.874489 \nL 249.147827 229.767981 \nL 249.209411 229.874489 \nL 249.258679 228.435294 \nL 249.357215 229.874489 \nL 249.394165 229.870318 \nL 249.418799 229.343344 \nL 249.431116 227.542048 \nL 249.468067 229.864165 \nL 249.529652 227.964003 \nL 249.61587 229.874489 \nL 249.640504 229.313404 \nL 249.751356 229.874489 \nL 249.677455 228.143858 \nL 249.763673 229.810226 \nL 249.77599 226.905878 \nL 249.862209 229.331797 \nL 249.89916 229.874489 \nL 249.886843 229.264572 \nL 249.923793 229.479207 \nL 249.93611 226.905878 \nL 250.010012 229.874489 \nL 250.022329 229.660386 \nL 250.046963 229.78462 \nL 250.133181 229.874489 \nL 250.09623 229.656689 \nL 250.145498 229.783475 \nL 250.207083 228.244736 \nL 250.170132 229.874489 \nL 250.244034 229.793433 \nL 250.293301 229.873664 \nL 250.354886 229.874489 \nL 250.404154 227.937106 \nL 250.478055 229.874489 \nL 250.515006 229.021808 \nL 250.53964 228.809576 \nL 250.638175 229.874489 \nL 250.712077 229.874489 \nL 250.724394 228.843189 \nL 250.822929 229.874319 \nL 250.835246 229.84229 \nL 250.847563 229.874489 \nL 250.85988 227.73359 \nL 250.958415 229.679262 \nL 251.032317 229.426317 \nL 251.069268 229.874489 \nL 251.192437 227.319967 \nL 251.303289 229.874489 \nL 251.401825 228.873667 \nL 251.451093 229.185792 \nL 251.475726 229.874489 \nL 251.524994 229.042698 \nL 251.561945 229.457156 \nL 251.598896 229.874489 \nL 251.611213 226.905878 \nL 251.709748 229.007635 \nL 251.722065 228.462151 \nL 251.759016 229.874489 \nL 251.795967 229.726906 \nL 251.808284 229.874489 \nL 251.8206 228.841602 \nL 251.845234 229.783034 \nL 251.882185 228.798684 \nL 251.931453 229.795896 \nL 251.956087 229.26835 \nL 252.042305 229.874489 \nL 252.066939 229.736027 \nL 252.091573 229.863759 \nL 252.10389 229.551284 \nL 252.116207 228.892807 \nL 252.177791 229.874489 \nL 252.202425 229.874489 \nL 252.313278 228.162154 \nL 252.337911 227.2572 \nL 252.42413 229.874489 \nL 252.448764 227.871703 \nL 252.547299 229.561359 \nL 252.633518 229.874489 \nL 252.608884 228.958872 \nL 252.645835 229.802581 \nL 252.707419 229.874489 \nL 252.74437 228.762289 \nL 252.818272 227.613586 \nL 252.867539 229.874489 \nL 252.879856 228.079898 \nL 252.978392 229.874489 \nL 253.003026 229.874489 \nL 253.02766 228.538014 \nL 253.113878 228.989406 \nL 253.22473 229.874489 \nL 253.286315 228.420093 \nL 253.335583 229.582261 \nL 253.360217 229.874489 \nL 253.372534 229.870819 \nL 253.38485 228.046703 \nL 253.434118 229.874489 \nL 253.483386 229.5337 \nL 253.495703 229.874489 \nL 253.544971 229.82586 \nL 253.643506 227.61509 \nL 253.569604 229.874489 \nL 253.655823 229.763725 \nL 253.692774 228.0805 \nL 253.717408 229.874489 \nL 253.754358 229.371948 \nL 253.803626 228.921559 \nL 253.852894 229.874489 \nL 253.889845 228.393275 \nL 253.963746 228.850823 \nL 254.062282 229.657348 \nL 254.037648 228.114462 \nL 254.074599 229.326703 \nL 254.173134 229.874489 \nL 254.185451 229.45211 \nL 254.247036 228.857744 \nL 254.234719 229.874489 \nL 254.271669 229.254769 \nL 254.333254 229.874489 \nL 254.382522 229.648524 \nL 254.46874 228.805554 \nL 254.456423 229.847332 \nL 254.493374 229.211726 \nL 254.518008 229.874489 \nL 254.554959 229.584293 \nL 254.59191 229.874489 \nL 254.665811 225.984847 \nL 254.727396 229.874489 \nL 254.78898 228.511057 \nL 254.838248 229.874489 \nL 254.825931 228.462564 \nL 254.91215 229.790932 \nL 254.936784 229.353375 \nL 255.023002 229.864471 \nL 255.109221 229.595686 \nL 255.133854 229.858239 \nL 255.146171 229.874489 \nL 255.158488 229.834941 \nL 255.220073 228.260281 \nL 255.23239 229.874489 \nL 255.269341 229.54037 \nL 255.367876 229.874489 \nL 255.380193 229.818219 \nL 255.417144 227.344566 \nL 255.404827 229.874489 \nL 255.478728 229.156326 \nL 255.540313 229.874489 \nL 255.527996 228.897885 \nL 255.589581 229.842227 \nL 255.663482 227.089876 \nL 255.675799 229.874489 \nL 255.700433 229.850339 \nL 255.762018 229.874489 \nL 255.774335 229.837781 \nL 255.786652 228.487096 \nL 255.798969 229.873999 \nL 255.885187 229.669219 \nL 255.946772 229.296869 \nL 255.996039 229.874489 \nL 256.082258 229.354151 \nL 256.094575 229.874489 \nL 256.106892 228.33023 \nL 256.205427 229.826647 \nL 256.217744 229.874489 \nL 256.230061 229.558111 \nL 256.242378 229.786341 \nL 256.279329 229.874489 \nL 256.35323 228.401404 \nL 256.439449 229.874489 \nL 256.464083 229.609355 \nL 256.537984 227.698151 \nL 256.525667 229.874489 \nL 256.550301 229.670083 \nL 256.599569 229.874489 \nL 256.611886 226.905878 \nL 256.710421 229.595201 \nL 256.722738 229.874489 \nL 256.784323 229.215602 \nL 256.808957 229.828588 \nL 256.895175 227.785303 \nL 256.858224 229.874489 \nL 256.907492 229.873079 \nL 256.944443 229.874489 \nL 256.95676 229.685913 \nL 256.969077 226.50865 \nL 256.993711 229.874489 \nL 257.067612 228.421629 \nL 257.104563 229.874489 \nL 257.166148 228.320949 \nL 257.190782 229.859638 \nL 257.252366 229.874489 \nL 257.264683 226.905878 \nL 257.363219 229.816922 \nL 257.400169 229.874489 \nL 257.523339 228.77449 \nL 257.609557 229.874489 \nL 257.634191 229.356439 \nL 257.695776 227.703444 \nL 257.745043 229.874489 \nL 257.781994 229.169101 \nL 257.855896 229.871999 \nL 257.905163 228.443118 \nL 257.88053 229.874489 \nL 257.966748 229.620531 \nL 258.0776 229.874489 \nL 258.028333 229.4372 \nL 258.089917 229.848061 \nL 258.102234 229.874489 \nL 258.163819 225.111024 \nL 258.213087 229.867732 \nL 258.250037 229.874489 \nL 258.323939 228.960947 \nL 258.397841 229.874489 \nL 258.422474 228.35881 \nL 258.447108 229.859927 \nL 258.471742 229.873395 \nL 258.484059 227.926922 \nL 258.496376 229.874489 \nL 258.582595 229.203893 \nL 258.631862 229.874489 \nL 258.705764 229.872574 \nL 258.730398 229.874442 \nL 258.804299 227.370008 \nL 258.84125 227.428692 \nL 258.865884 229.874489 \nL 258.952102 229.867602 \nL 258.964419 227.821432 \nL 259.00137 229.874489 \nL 259.062955 228.635361 \nL 259.124539 226.905878 \nL 259.173807 229.874489 \nL 259.186124 228.231705 \nL 259.28466 228.417228 \nL 259.383195 229.874489 \nL 259.32161 228.253432 \nL 259.407829 229.810822 \nL 259.469413 229.068857 \nL 259.432463 229.874489 \nL 259.506364 229.874489 \nL 259.518681 229.85237 \nL 259.530998 228.241088 \nL 259.543315 229.874489 \nL 259.629534 229.4637 \nL 259.654167 228.474799 \nL 259.691118 229.873345 \nL 259.728069 229.7249 \nL 259.801971 229.874489 \nL 259.76502 228.935916 \nL 259.814287 229.583914 \nL 259.888189 228.693536 \nL 259.851238 229.874489 \nL 259.912823 229.419273 \nL 259.999041 229.874489 \nL 259.937457 227.602852 \nL 260.035992 229.830149 \nL 260.072943 229.314484 \nL 260.060626 229.874489 \nL 260.146845 229.757474 \nL 260.183795 229.874489 \nL 260.196112 228.232457 \nL 260.294648 229.666615 \nL 260.306965 229.595 \nL 260.368549 229.874489 \nL 260.393183 229.802251 \nL 260.430134 226.905878 \nL 260.417817 229.874489 \nL 260.491719 229.217723 \nL 260.528669 229.874489 \nL 260.590254 229.863319 \nL 260.602571 228.133141 \nL 260.627205 229.874489 \nL 260.701106 229.42734 \nL 260.775008 229.874489 \nL 260.824276 229.841973 \nL 260.836593 229.578712 \nL 260.84891 229.874489 \nL 260.861226 226.35769 \nL 260.959762 229.548925 \nL 260.972079 229.842814 \nL 260.984396 229.404962 \nL 261.00903 229.771369 \nL 261.021347 227.796921 \nL 261.04598 229.874489 \nL 261.119882 229.191563 \nL 261.243051 229.874489 \nL 261.378537 229.518069 \nL 261.427805 229.874489 \nL 261.48939 229.855516 \nL 261.550975 227.44087 \nL 261.526341 229.874489 \nL 261.600242 229.519305 \nL 261.661827 229.874489 \nL 261.698778 229.785707 \nL 261.772679 228.292142 \nL 261.723412 229.874489 \nL 261.797313 229.529724 \nL 261.80963 229.874489 \nL 261.821947 227.628964 \nL 261.834264 229.37202 \nL 261.846581 227.625657 \nL 261.858898 229.874489 \nL 261.932799 229.874489 \nL 261.994384 229.745685 \nL 262.055969 229.855043 \nL 262.080602 229.819904 \nL 262.092919 229.874489 \nL 262.203772 227.938127 \nL 262.240723 229.874489 \nL 262.326941 229.857196 \nL 262.351575 229.874489 \nL 262.45011 228.530635 \nL 262.462427 229.874489 \nL 262.474744 228.878299 \nL 262.57328 229.58909 \nL 262.659498 229.874489 \nL 262.647181 229.294099 \nL 262.671815 229.698985 \nL 262.684132 227.421671 \nL 262.696449 229.874489 \nL 262.77035 229.475646 \nL 262.807301 228.668078 \nL 262.819618 229.874489 \nL 262.930471 226.905878 \nL 263.05364 229.874489 \nL 263.102908 228.30667 \nL 263.164492 229.874489 \nL 263.189126 229.120046 \nL 263.275345 229.617439 \nL 263.361563 229.874489 \nL 263.460099 228.250971 \nL 263.472415 229.095234 \nL 263.509366 227.789502 \nL 263.583268 229.874489 \nL 263.595585 226.905878 \nL 263.69412 229.843342 \nL 263.706437 229.81373 \nL 263.780339 227.983289 \nL 263.755705 229.874489 \nL 263.817289 229.271635 \nL 263.891191 229.874489 \nL 263.928142 229.698826 \nL 263.952776 229.874489 \nL 263.965093 229.202342 \nL 263.989726 229.819066 \nL 264.051311 227.830959 \nL 264.01436 229.874323 \nL 264.088262 229.871745 \nL 264.100579 229.872618 \nL 264.186797 227.901308 \nL 264.211431 229.704052 \nL 264.223748 229.874489 \nL 264.236065 229.797686 \nL 264.248382 227.01876 \nL 264.260699 229.874489 \nL 264.3346 229.874489 \nL 264.359234 229.874489 \nL 264.408502 227.959772 \nL 264.470087 229.090426 \nL 264.531671 229.874489 \nL 264.556305 227.918028 \nL 264.568622 227.638526 \nL 264.593256 229.442598 \nL 264.61789 228.796379 \nL 264.716425 229.874489 \nL 264.741059 229.874489 \nL 264.839595 227.5096 \nL 264.851912 229.805227 \nL 264.876545 229.874489 \nL 264.888862 229.742377 \nL 264.987398 228.378572 \nL 264.93813 229.874489 \nL 264.999715 229.725888 \nL 265.048982 229.874489 \nL 265.024349 229.50489 \nL 265.073616 229.861712 \nL 265.159835 227.929263 \nL 265.110567 229.874489 \nL 265.184469 229.829494 \nL 265.233736 229.874489 \nL 265.307638 228.086224 \nL 265.393856 229.874489 \nL 265.41849 229.801908 \nL 265.455441 227.447231 \nL 265.443124 229.874489 \nL 265.517026 229.871853 \nL 265.590927 229.20637 \nL 265.615561 228.564666 \nL 265.627878 229.874489 \nL 265.677146 229.874489 \nL 265.689463 229.871535 \nL 265.70178 229.303437 \nL 265.763364 229.874489 \nL 265.800315 229.874489 \nL 265.812632 229.873111 \nL 265.837266 228.346262 \nL 265.935801 229.369779 \nL 265.972752 229.860861 \nL 266.046654 229.874489 \nL 266.083604 227.654743 \nL 266.206774 229.874489 \nL 266.219091 229.851531 \nL 266.256041 226.849266 \nL 266.329943 228.579816 \nL 266.440795 229.874489 \nL 266.490063 227.064253 \nL 266.551648 229.874489 \nL 266.563965 229.793077 \nL 266.576282 227.724829 \nL 266.650183 229.874489 \nL 266.674817 229.823934 \nL 266.761036 229.636833 \nL 266.724085 229.874489 \nL 266.773352 229.874489 \nL 266.82262 229.759614 \nL 266.847254 229.874489 \nL 266.871888 229.443005 \nL 266.958106 229.874489 \nL 267.032008 229.117292 \nL 267.068959 229.73422 \nL 267.130543 229.874489 \nL 267.14286 229.334288 \nL 267.167494 229.786159 \nL 267.253713 228.059735 \nL 267.216762 229.874489 \nL 267.26603 229.590447 \nL 267.30298 229.466496 \nL 267.376882 229.874489 \nL 267.401516 229.62872 \nL 267.413833 229.714127 \nL 267.4631 227.915488 \nL 267.450784 229.874489 \nL 267.512368 229.874489 \nL 267.549319 229.87436 \nL 267.672488 228.266872 \nL 267.721756 229.874489 \nL 267.734073 227.753431 \nL 267.795658 229.856101 \nL 267.844925 229.870255 \nL 267.857242 226.920894 \nL 267.869559 229.874489 \nL 267.955778 229.718884 \nL 268.017362 229.874489 \nL 268.029679 229.809387 \nL 268.103581 229.874489 \nL 268.140532 227.787645 \nL 268.189799 229.874489 \nL 268.251384 229.855785 \nL 268.276018 228.115085 \nL 268.362236 229.874489 \nL 268.399187 228.685649 \nL 268.473089 229.180293 \nL 268.485406 229.874489 \nL 268.497723 228.031266 \nL 268.54699 229.65259 \nL 268.596258 226.905878 \nL 268.583941 229.874489 \nL 268.657843 227.772042 \nL 268.756378 229.874489 \nL 268.768695 229.710594 \nL 268.793329 228.757708 \nL 268.817963 229.874489 \nL 268.86723 229.682784 \nL 268.879547 229.837966 \nL 268.941132 229.873458 \nL 269.002717 228.019166 \nL 269.125886 229.874489 \nL 269.162837 228.637545 \nL 269.236738 228.885536 \nL 269.286006 229.874489 \nL 269.347591 229.865036 \nL 269.359908 229.279052 \nL 269.372225 229.874489 \nL 269.458443 229.861577 \nL 269.532345 228.523412 \nL 269.483077 229.874489 \nL 269.569295 229.798118 \nL 269.593929 229.861516 \nL 269.618563 229.71222 \nL 269.643197 229.833034 \nL 269.655514 229.699608 \nL 269.667831 229.874489 \nL 269.680148 229.874489 \nL 269.692465 228.013866 \nL 269.791 229.483255 \nL 269.852585 229.874267 \nL 269.840268 228.840851 \nL 269.914169 229.871862 \nL 269.926486 229.874489 \nL 270.025022 228.100711 \nL 270.061973 229.035834 \nL 270.185142 229.874489 \nL 270.197459 229.115649 \nL 270.295994 229.874489 \nL 270.308311 229.795997 \nL 270.320628 227.60361 \nL 270.406847 229.874489 \nL 270.419163 229.821114 \nL 270.456114 229.701347 \nL 270.517699 229.874489 \nL 270.542333 229.257922 \nL 270.55465 227.710528 \nL 270.591601 229.874489 \nL 270.640868 229.874489 \nL 270.751721 228.877131 \nL 270.764038 229.36847 \nL 270.800988 229.874489 \nL 270.813305 229.088093 \nL 270.825622 229.864342 \nL 270.837939 227.125194 \nL 270.850256 229.874489 \nL 270.936475 229.448228 \nL 270.948791 229.874489 \nL 270.961108 227.712723 \nL 270.973425 229.816956 \nL 270.985742 227.136226 \nL 271.059644 229.874489 \nL 271.084278 229.750065 \nL 271.170496 228.611217 \nL 271.133545 229.874489 \nL 271.207447 229.402925 \nL 271.219764 229.426146 \nL 271.281349 228.442005 \nL 271.330616 229.874489 \nL 271.342933 226.905878 \nL 271.441469 227.395707 \nL 271.466102 229.874489 \nL 271.552321 229.81814 \nL 271.638539 227.704999 \nL 271.626223 229.869704 \nL 271.650856 229.227903 \nL 271.712441 229.208832 \nL 271.774026 229.874489 \nL 271.786343 229.809922 \nL 271.79866 229.874489 \nL 271.810976 226.905878 \nL 271.909512 229.39971 \nL 271.934146 229.268645 \nL 272.032681 229.874489 \nL 272.1189 227.75121 \nL 272.143534 229.642903 \nL 272.180484 229.874489 \nL 272.205118 229.472762 \nL 272.254386 229.816721 \nL 272.303654 228.500896 \nL 272.315971 229.874099 \nL 272.352921 229.837057 \nL 272.389872 229.789002 \nL 272.402189 229.864602 \nL 272.414506 227.044174 \nL 272.476091 229.874489 \nL 272.513041 229.874489 \nL 272.525358 228.138414 \nL 272.623894 229.772202 \nL 272.648528 229.813268 \nL 272.673162 227.670249 \nL 272.697795 229.874489 \nL 272.747063 229.874489 \nL 272.75938 229.874489 \nL 272.796331 228.852159 \nL 272.870232 229.656781 \nL 272.9195 229.874489 \nL 272.931817 226.905878 \nL 273.030352 228.560956 \nL 273.141205 229.874489 \nL 273.202789 226.65443 \nL 273.252057 229.654863 \nL 273.264374 229.874489 \nL 273.289008 229.119317 \nL 273.313642 229.368894 \nL 273.325959 228.237904 \nL 273.350593 229.874489 \nL 273.412177 228.837163 \nL 273.498396 229.874489 \nL 273.547664 227.067299 \nL 273.609248 229.820235 \nL 273.658516 228.354954 \nL 273.633882 229.874489 \nL 273.720101 229.651479 \nL 273.794002 227.559965 \nL 273.744734 229.710154 \nL 273.818636 228.277141 \nL 273.855587 229.874489 \nL 273.917171 228.066793 \nL 273.929488 228.508307 \nL 274.00339 229.874489 \nL 274.015707 227.373568 \nL 274.040341 229.69793 \nL 274.064975 228.096901 \nL 274.077291 229.874489 \nL 274.138876 229.874489 \nL 274.188144 229.812327 \nL 274.237412 228.885324 \nL 274.286679 229.859085 \nL 274.298996 229.522391 \nL 274.385215 229.874489 \nL 274.335947 228.406989 \nL 274.397532 229.820635 \nL 274.434482 229.874489 \nL 274.496067 228.100143 \nL 274.619236 229.874489 \nL 274.64387 228.960423 \nL 274.730089 228.999481 \nL 274.840941 229.874489 \nL 274.939476 228.682134 \nL 274.951793 229.8531 \nL 274.976427 229.874489 \nL 275.050329 229.087549 \nL 275.148864 229.874489 \nL 275.161181 229.34228 \nL 275.210449 227.108197 \nL 275.198132 229.84687 \nL 275.259717 229.752741 \nL 275.333618 229.057376 \nL 275.308984 229.874489 \nL 275.370569 229.366671 \nL 275.493738 229.874489 \nL 275.518372 229.874489 \nL 275.641541 228.231522 \nL 275.653858 228.266142 \nL 275.715443 229.874489 \nL 275.777028 229.782229 \nL 275.789345 229.78196 \nL 275.863246 229.874489 \nL 275.900197 228.143622 \nL 275.998732 229.874489 \nL 276.011049 229.58097 \nL 276.060317 229.874489 \nL 276.097268 228.294501 \nL 276.183486 228.122915 \nL 276.220437 229.874489 \nL 276.232754 229.850566 \nL 276.306656 227.701822 \nL 276.282022 229.874489 \nL 276.331289 229.850628 \nL 276.355923 229.874489 \nL 276.380557 229.725172 \nL 276.454459 228.52296 \nL 276.442142 229.874489 \nL 276.479093 229.874489 \nL 276.503726 229.419762 \nL 276.52836 229.629929 \nL 276.540677 228.346913 \nL 276.602262 229.874489 \nL 276.626896 229.786202 \nL 276.663847 229.42424 \nL 276.676164 229.874489 \nL 276.799333 228.352127 \nL 276.922502 229.874489 \nL 276.934819 229.874489 \nL 276.97177 229.709642 \nL 276.984087 229.85396 \nL 276.996404 227.890312 \nL 277.008721 229.874489 \nL 277.094939 229.874489 \nL 277.107256 229.874489 \nL 277.156524 229.482261 \nL 277.218108 229.807557 \nL 277.267376 229.874489 \nL 277.341278 227.356238 \nL 277.378228 229.815638 \nL 277.390545 229.85686 \nL 277.439813 226.905878 \nL 277.427496 229.874489 \nL 277.501398 229.874489 \nL 277.550665 229.869162 \nL 277.575299 229.337925 \nL 277.599933 229.874489 \nL 277.661518 229.874489 \nL 277.723102 229.525907 \nL 277.735419 229.871714 \nL 277.797004 227.993021 \nL 277.809321 229.874489 \nL 277.846272 229.675818 \nL 277.858589 228.854693 \nL 277.883223 229.87402 \nL 277.944807 229.676061 \nL 278.006392 229.538446 \nL 278.067977 229.874489 \nL 278.080293 228.904086 \nL 278.178829 229.785513 \nL 278.203463 229.856196 \nL 278.21578 229.577573 \nL 278.228097 228.192368 \nL 278.265047 229.874489 \nL 278.326632 229.46818 \nL 278.3759 229.874489 \nL 278.437484 226.905878 \nL 278.486752 229.874489 \nL 278.560654 229.750528 \nL 278.572971 227.84805 \nL 278.597604 229.874489 \nL 278.659189 229.871559 \nL 278.683823 229.812097 \nL 278.733091 226.956555 \nL 278.720774 229.874489 \nL 278.794675 229.809587 \nL 278.819309 229.657257 \nL 278.843943 229.874489 \nL 278.85626 228.276017 \nL 278.954795 229.346562 \nL 279.041014 229.874489 \nL 279.065648 229.718842 \nL 279.077965 229.840507 \nL 279.139549 229.874489 \nL 279.188817 227.325715 \nL 279.299669 229.874489 \nL 279.311986 229.804843 \nL 279.348937 228.912738 \nL 279.373571 229.873113 \nL 279.410522 229.813584 \nL 279.422839 229.874489 \nL 279.435156 229.838515 \nL 279.472106 228.177169 \nL 279.459789 229.874489 \nL 279.558325 229.246263 \nL 279.595276 229.07755 \nL 279.65686 229.873703 \nL 279.755396 226.910855 \nL 279.693811 229.874489 \nL 279.767713 229.8052 \nL 279.792347 228.963177 \nL 279.804664 228.026602 \nL 279.829297 229.874489 \nL 279.890882 229.874489 \nL 279.989417 228.281072 \nL 280.001734 229.865797 \nL 280.087953 229.695044 \nL 280.137221 229.738487 \nL 280.149538 229.867095 \nL 280.186488 229.698779 \nL 280.198805 228.815052 \nL 280.211122 229.874489 \nL 280.285024 229.75505 \nL 280.321975 229.483964 \nL 280.383559 229.874489 \nL 280.395876 228.490311 \nL 280.494412 229.874489 \nL 280.568313 229.791825 \nL 280.58063 229.848084 \nL 280.592947 228.420548 \nL 280.654532 229.874489 \nL 280.691482 228.915466 \nL 280.74075 228.777197 \nL 280.814652 229.874489 \nL 280.937821 227.889993 \nL 281.06099 229.874489 \nL 281.18416 229.603789 \nL 281.295012 229.874489 \nL 281.208793 228.951853 \nL 281.307329 229.871149 \nL 281.319646 229.313319 \nL 281.331963 229.874489 \nL 281.418181 229.874489 \nL 281.455132 229.855031 \nL 281.529034 228.976126 \nL 281.479766 229.874489 \nL 281.553667 229.012827 \nL 281.602935 229.874489 \nL 281.639886 227.663403 \nL 281.676837 229.859318 \nL 281.750738 229.316516 \nL 281.726104 229.874489 \nL 281.775372 229.583661 \nL 281.787689 229.872915 \nL 281.812323 229.245332 \nL 281.82464 227.305678 \nL 281.873908 229.874489 \nL 281.910858 229.872485 \nL 281.923175 229.873769 \nL 281.935492 229.641982 \nL 282.034028 229.820684 \nL 282.046345 229.742945 \nL 282.058662 229.874489 \nL 282.083295 229.839854 \nL 282.095612 228.635625 \nL 282.120246 229.874489 \nL 282.194148 229.776938 \nL 282.231099 229.874489 \nL 282.255732 229.75531 \nL 282.268049 229.854412 \nL 282.280366 227.089476 \nL 282.305 229.874489 \nL 282.378902 229.616626 \nL 282.403536 229.874489 \nL 282.415852 229.499138 \nL 282.428169 227.871176 \nL 282.440486 229.874489 \nL 282.514388 229.874489 \nL 282.526705 229.845785 \nL 282.563656 229.874489 \nL 282.575973 227.805676 \nL 282.674508 229.709083 \nL 282.699142 229.874489 \nL 282.773043 227.802529 \nL 282.809994 229.874489 \nL 282.859262 228.39342 \nL 282.933164 229.153156 \nL 282.982431 229.874489 \nL 283.007065 228.690029 \nL 283.044016 229.60439 \nL 283.117917 229.503649 \nL 283.191819 229.874489 \nL 283.253404 228.214097 \nL 283.314988 229.111311 \nL 283.425841 229.874489 \nL 283.38889 229.056046 \nL 283.438158 229.847456 \nL 283.524376 227.966895 \nL 283.462791 229.874489 \nL 283.54901 229.376989 \nL 283.672179 229.874489 \nL 283.783032 227.715149 \nL 283.86925 229.874489 \nL 283.893884 229.773132 \nL 283.918518 229.644642 \nL 283.930835 229.874489 \nL 283.955469 229.832524 \nL 283.992419 229.873272 \nL 284.017053 228.759046 \nL 284.103272 229.486037 \nL 284.115589 229.873497 \nL 284.140223 229.852616 \nL 284.226441 226.916502 \nL 284.164856 229.874489 \nL 284.251075 229.874489 \nL 284.34961 229.813109 \nL 284.386561 229.690833 \nL 284.398878 229.873339 \nL 284.411195 229.740522 \nL 284.423512 228.891812 \nL 284.435829 229.874489 \nL 284.522047 229.502071 \nL 284.546681 229.874489 \nL 284.583632 229.304148 \nL 284.657534 227.936142 \nL 284.669851 229.874489 \nL 284.79302 228.283833 \nL 284.903872 229.874489 \nL 284.990091 228.675505 \nL 285.027041 228.909819 \nL 285.11326 228.796782 \nL 285.125577 229.874489 \nL 285.137894 228.047395 \nL 285.236429 229.202698 \nL 285.248746 228.104649 \nL 285.298014 229.874489 \nL 285.334965 228.575902 \nL 285.408866 229.874489 \nL 285.359599 227.630731 \nL 285.458134 229.863282 \nL 285.495085 229.857463 \nL 285.581303 228.509624 \nL 285.519719 229.874489 \nL 285.59362 229.855003 \nL 285.642888 229.874489 \nL 285.618254 229.814169 \nL 285.667522 229.840255 \nL 285.692156 229.874489 \nL 285.790691 229.34746 \nL 285.803008 229.456523 \nL 285.815325 227.800269 \nL 285.827642 229.874489 \nL 285.901543 229.868468 \nL 285.91386 229.874489 \nL 285.926177 229.830312 \nL 285.975445 228.539917 \nL 285.987762 229.874489 \nL 286.024713 229.865906 \nL 286.03703 229.874489 \nL 286.160199 229.262161 \nL 286.271051 229.874489 \nL 286.283368 229.860005 \nL 286.295685 229.867973 \nL 286.320319 229.874489 \nL 286.418854 228.603488 \nL 286.529707 229.874489 \nL 286.542024 229.773434 \nL 286.554341 226.260629 \nL 286.566658 229.874489 \nL 286.640559 229.874489 \nL 286.665193 229.874489 \nL 286.800679 228.117367 \nL 286.923849 229.874489 \nL 287.047018 228.765948 \nL 287.108603 227.059651 \nL 287.145553 229.874489 \nL 287.268723 228.296937 \nL 287.330307 227.683192 \nL 287.391892 229.874489 \nL 287.502744 227.654744 \nL 287.564329 227.531969 \nL 287.613597 229.874489 \nL 287.625914 228.663516 \nL 287.724449 229.874489 \nL 287.736766 229.874489 \nL 287.7614 228.863411 \nL 287.847618 229.498949 \nL 287.92152 229.874489 \nL 287.896886 229.468557 \nL 287.946154 229.869307 \nL 287.958471 227.990921 \nL 288.007738 229.874489 \nL 288.057006 229.87447 \nL 288.130908 227.432355 \nL 288.192492 229.46121 \nL 288.229443 229.874489 \nL 288.24176 229.263842 \nL 288.303345 229.778091 \nL 288.377246 229.874489 \nL 288.327978 229.694864 \nL 288.40188 229.83812 \nL 288.414197 227.967351 \nL 288.426514 229.874489 \nL 288.512732 229.871722 \nL 288.525049 229.874489 \nL 288.537366 229.082539 \nL 288.635902 229.762571 \nL 288.672853 229.874489 \nL 288.72212 229.647427 \nL 288.734437 229.857557 \nL 288.746754 227.712695 \nL 288.759071 229.874489 \nL 288.84529 229.539019 \nL 288.919191 229.240685 \nL 288.943825 229.874489 \nL 289.066994 229.019835 \nL 289.190164 229.874486 \nL 289.214797 229.8546 \nL 289.32565 228.750848 \nL 289.239431 229.870229 \nL 289.337967 229.386852 \nL 289.399551 229.874489 \nL 289.411868 228.132371 \nL 289.436502 229.679061 \nL 289.522721 228.117889 \nL 289.48577 229.874489 \nL 289.547354 229.529933 \nL 289.670524 229.874489 \nL 289.707475 229.770692 \nL 289.732108 228.230024 \nL 289.80601 229.874489 \nL 289.818327 229.874489 \nL 289.904545 227.410497 \nL 289.929179 227.428169 \nL 290.027715 229.874489 \nL 290.052349 229.860675 \nL 290.064665 229.60977 \nL 290.089299 229.87448 \nL 290.163201 229.793804 \nL 290.212469 229.710548 \nL 290.28637 229.874489 \nL 290.397223 228.352992 \nL 290.40954 228.708095 \nL 290.495758 229.874489 \nL 290.520392 229.858931 \nL 290.56966 228.634023 \nL 290.631244 229.72031 \nL 290.668195 229.221872 \nL 290.692829 229.873568 \nL 290.705146 228.987598 \nL 290.742097 229.874489 \nL 290.803681 229.843075 \nL 290.840632 229.874489 \nL 290.914534 229.247952 \nL 291.013069 229.874489 \nL 290.988435 229.067116 \nL 291.037703 229.873583 \nL 291.062337 229.874489 \nL 291.148555 229.109861 \nL 291.173189 229.837167 \nL 291.185506 229.860448 \nL 291.271725 227.446944 \nL 291.234774 229.874489 \nL 291.296358 229.785215 \nL 291.333309 229.874386 \nL 291.431845 227.379265 \nL 291.444162 229.692294 \nL 291.456478 229.874489 \nL 291.481112 229.555131 \nL 291.493429 227.905874 \nL 291.53038 229.874489 \nL 291.591965 228.751637 \nL 291.678183 229.874489 \nL 291.628916 228.543408 \nL 291.702817 229.85167 \nL 291.727451 229.227615 \nL 291.752085 229.874489 \nL 291.813669 229.823626 \nL 291.838303 229.87273 \nL 291.85062 229.782916 \nL 291.862937 229.809802 \nL 291.875254 229.390611 \nL 291.936839 229.874489 \nL 291.961473 229.716829 \nL 291.998423 229.874489 \nL 292.01074 228.37748 \nL 292.109276 229.863017 \nL 292.121593 229.87416 \nL 292.13391 229.855692 \nL 292.158543 229.121951 \nL 292.195494 229.874489 \nL 292.244762 229.595434 \nL 292.269396 229.874489 \nL 292.355614 228.750873 \nL 292.380248 229.728677 \nL 292.404882 229.682768 \nL 292.429516 229.874489 \nL 292.441833 227.089063 \nL 292.540368 229.724553 \nL 292.552685 227.997018 \nL 292.589636 229.874489 \nL 292.651221 229.648462 \nL 292.663538 229.874489 \nL 292.700488 228.826141 \nL 292.725122 229.865945 \nL 292.786707 227.392525 \nL 292.762073 229.874489 \nL 292.835975 227.756599 \nL 292.872925 229.874295 \nL 292.946827 229.873116 \nL 293.069996 227.759199 \nL 293.131581 229.874489 \nL 293.168532 229.59878 \nL 293.180849 226.905878 \nL 293.25475 229.870272 \nL 293.279384 229.387202 \nL 293.328652 229.874489 \nL 293.377919 229.375969 \nL 293.390236 229.834472 \nL 293.402553 228.266707 \nL 293.451821 229.874489 \nL 293.488772 228.324732 \nL 293.587307 229.874489 \nL 293.599624 229.505851 \nL 293.648892 229.874489 \nL 293.661209 229.559778 \nL 293.73511 226.905878 \nL 293.69816 229.87229 \nL 293.759744 227.64666 \nL 293.870597 229.874489 \nL 293.882914 229.159272 \nL 293.981449 229.791615 \nL 293.993766 229.874489 \nL 294.0184 229.597711 \nL 294.030717 227.583219 \nL 294.043034 229.874489 \nL 294.116935 229.846285 \nL 294.129252 229.874489 \nL 294.153886 229.810976 \nL 294.215471 229.874489 \nL 294.264738 228.662033 \nL 294.314006 229.874489 \nL 294.326323 228.049866 \nL 294.387908 229.868584 \nL 294.412541 229.874489 \nL 294.523394 228.323933 \nL 294.584978 229.873623 \nL 294.634246 229.51658 \nL 294.646563 228.968553 \nL 294.65888 229.874489 \nL 294.732782 229.548807 \nL 294.757416 229.258993 \nL 294.855951 229.874489 \nL 294.954486 228.164949 \nL 294.966803 228.831202 \nL 295.089973 229.874489 \nL 295.10229 229.874489 \nL 295.176191 228.124297 \nL 295.213142 229.443236 \nL 295.287043 229.874032 \nL 295.29936 229.152899 \nL 295.311677 226.148303 \nL 295.385579 229.874489 \nL 295.397896 229.050715 \nL 295.434847 229.874489 \nL 295.42253 228.807654 \nL 295.447164 229.682703 \nL 295.45948 227.977535 \nL 295.471797 229.874489 \nL 295.558016 229.15253 \nL 295.619601 229.874489 \nL 295.631917 228.112126 \nL 295.668868 229.810776 \nL 295.705819 228.523508 \nL 295.718136 229.874489 \nL 295.779721 229.618045 \nL 295.841305 229.874489 \nL 295.890573 228.89815 \nL 295.989108 229.874489 \nL 296.001425 227.913477 \nL 296.099961 229.738167 \nL 296.186179 228.375443 \nL 296.136912 229.874489 \nL 296.198496 229.707827 \nL 296.210813 229.83135 \nL 296.22313 228.767289 \nL 296.260081 229.868983 \nL 296.309349 229.76119 \nL 296.346299 229.874489 \nL 296.358616 227.988833 \nL 296.457152 229.844644 \nL 296.494103 229.712106 \nL 296.518736 229.852045 \nL 296.531053 229.495419 \nL 296.617272 229.874489 \nL 296.641906 229.724787 \nL 296.654223 229.578242 \nL 296.66654 229.874489 \nL 296.678856 227.298711 \nL 296.777392 229.870862 \nL 296.789709 229.874489 \nL 296.802026 229.725174 \nL 296.888244 226.905878 \nL 296.838977 229.874489 \nL 296.912878 229.116406 \nL 296.974463 227.76189 \nL 297.02373 229.874223 \nL 297.048364 228.974392 \nL 297.134583 229.073791 \nL 297.171534 228.851759 \nL 297.257752 229.874489 \nL 297.270069 229.831942 \nL 297.282386 229.07377 \nL 297.294703 229.874489 \nL 297.380921 229.201587 \nL 297.430189 229.874489 \nL 297.454823 229.192133 \nL 297.479457 229.574944 \nL 297.491774 229.006006 \nL 297.504091 229.874489 \nL 297.577992 229.783623 \nL 297.590309 229.874489 \nL 297.602626 228.000784 \nL 297.701162 229.874489 \nL 297.725795 229.874489 \nL 297.836648 228.467668 \nL 297.922866 227.509315 \nL 297.9475 229.874489 \nL 297.972134 229.064363 \nL 298.058353 229.874489 \nL 298.070669 227.662894 \nL 298.169205 229.742959 \nL 298.193839 229.326202 \nL 298.280057 229.874489 \nL 298.317008 228.810183 \nL 298.415543 229.170322 \nL 298.526396 229.874489 \nL 298.637248 228.722431 \nL 298.71115 229.874489 \nL 298.760417 229.866429 \nL 298.772734 229.874489 \nL 298.895904 227.990693 \nL 298.994439 229.874489 \nL 298.982122 227.07894 \nL 299.019073 229.715951 \nL 299.03139 229.119044 \nL 299.092975 229.874489 \nL 299.117608 229.859255 \nL 299.129925 229.874489 \nL 299.19151 227.735384 \nL 299.240778 229.693093 \nL 299.290045 229.874489 \nL 299.326996 229.496357 \nL 299.35163 229.805499 \nL 299.363947 229.856896 \nL 299.376264 228.302458 \nL 299.474799 229.570553 \nL 299.524067 229.494261 \nL 299.548701 229.874489 \nL 299.561018 226.905878 \nL 299.659553 229.867633 \nL 299.684187 229.874489 \nL 299.696504 229.840431 \nL 299.721138 229.874489 \nL 299.807356 229.42967 \nL 299.918209 229.874489 \nL 299.844307 228.90616 \nL 299.930526 229.816052 \nL 299.967477 229.873838 \nL 300.053695 229.642392 \nL 300.15223 229.874489 \nL 300.102963 229.592655 \nL 300.176864 229.871606 \nL 300.250766 227.353734 \nL 300.238449 229.874489 \nL 300.287717 228.677481 \nL 300.312351 229.874489 \nL 300.398569 229.862559 \nL 300.43552 227.738349 \nL 300.521738 228.29508 \nL 300.620274 229.874489 \nL 300.632591 229.857557 \nL 300.731126 228.869543 \nL 300.669542 229.861495 \nL 300.743443 229.752749 \nL 300.768077 229.228813 \nL 300.805028 229.874489 \nL 300.841979 228.28957 \nL 300.91588 229.811606 \nL 300.940514 229.558904 \nL 301.002099 229.874489 \nL 301.026732 226.905878 \nL 301.112951 229.778506 \nL 301.125268 229.832119 \nL 301.149902 229.510555 \nL 301.23612 227.963738 \nL 301.199169 229.866389 \nL 301.248437 229.146752 \nL 301.310022 229.874489 \nL 301.334656 229.572288 \nL 301.371606 229.874489 \nL 301.445508 226.917474 \nL 301.507093 229.874489 \nL 301.568677 229.576637 \nL 301.605628 229.2134 \nL 301.667213 229.874489 \nL 301.67953 228.150773 \nL 301.778065 229.874489 \nL 301.790382 229.873669 \nL 301.901234 228.04522 \nL 301.975136 226.905878 \nL 302.024404 229.874489 \nL 302.049038 229.86391 \nL 302.135256 227.945982 \nL 302.122939 229.874489 \nL 302.15989 229.777849 \nL 302.172207 229.710878 \nL 302.184524 229.782949 \nL 302.196841 227.514646 \nL 302.209158 229.874489 \nL 302.283059 229.365651 \nL 302.381595 229.874489 \nL 302.467813 227.882383 \nL 302.492447 229.225546 \nL 302.578666 229.874489 \nL 302.541715 227.068875 \nL 302.603299 229.873107 \nL 302.615616 229.717172 \nL 302.652567 229.874489 \nL 302.664884 227.362122 \nL 302.763419 228.669864 \nL 302.788053 229.874489 \nL 302.812687 228.082207 \nL 302.861955 229.567467 \nL 302.874272 226.22968 \nL 302.886589 229.874489 \nL 302.972807 229.366318 \nL 303.059026 229.874489 \nL 302.997441 226.434318 \nL 303.08366 229.856613 \nL 303.095977 229.53942 \nL 303.108293 229.874489 \nL 303.182195 229.845135 \nL 303.194512 229.869765 \nL 303.231463 228.816329 \nL 303.268414 229.874489 \nL 303.305364 228.867814 \nL 303.379266 229.874489 \nL 303.416217 229.870456 \nL 303.490118 227.996036 \nL 303.477801 229.874489 \nL 303.527069 229.764044 \nL 303.576337 229.874489 \nL 303.588654 229.62703 \nL 303.600971 228.471455 \nL 303.625604 229.874489 \nL 303.687189 229.717293 \nL 303.699506 229.874489 \nL 303.711823 229.390894 \nL 303.736457 229.812893 \nL 303.761091 229.874489 \nL 303.847309 227.124675 \nL 303.970479 229.874489 \nL 303.982795 229.874489 \nL 304.093648 228.458693 \nL 304.2045 229.874489 \nL 304.315353 229.137278 \nL 304.389254 227.927998 \nL 304.438522 229.874489 \nL 304.463156 229.464917 \nL 304.475473 228.822642 \nL 304.500106 229.874191 \nL 304.561691 229.340427 \nL 304.574008 229.874489 \nL 304.623276 228.136294 \nL 304.672543 229.733827 \nL 304.709494 227.012018 \nL 304.697177 229.874489 \nL 304.783396 229.710311 \nL 304.84498 229.874489 \nL 304.80803 228.873026 \nL 304.881931 229.60085 \nL 304.906565 229.392272 \nL 304.918882 229.793394 \nL 304.931199 229.778615 \nL 304.96815 229.874489 \nL 304.980467 228.748515 \nL 305.079002 229.863279 \nL 305.115953 229.874489 \nL 305.202171 228.126669 \nL 305.28839 229.874489 \nL 305.313024 229.590362 \nL 305.325341 229.606688 \nL 305.349975 228.864358 \nL 305.399242 229.874475 \nL 305.423876 229.550347 \nL 305.485461 229.874489 \nL 305.44851 229.150702 \nL 305.522412 229.562003 \nL 305.534729 227.429498 \nL 305.547045 229.874489 \nL 305.620947 229.874489 \nL 305.657898 229.777452 \nL 305.682532 226.900592 \nL 305.707166 229.874489 \nL 305.756433 228.676292 \nL 305.842652 229.874489 \nL 305.867286 229.857292 \nL 305.879603 227.492476 \nL 305.965821 229.874489 \nL 305.978138 229.874489 \nL 305.990455 229.799325 \nL 306.08899 226.598785 \nL 306.015089 229.857909 \nL 306.101307 228.705023 \nL 306.175209 227.689709 \nL 306.224477 229.874489 \nL 306.24911 229.710788 \nL 306.323012 227.072461 \nL 306.298378 229.874489 \nL 306.347646 229.396041 \nL 306.396914 227.700667 \nL 306.470815 229.874489 \nL 306.483132 229.874489 \nL 306.569351 228.907791 \nL 306.593984 229.874489 \nL 306.618618 229.801208 \nL 306.655569 229.092588 \nL 306.680203 229.874489 \nL 306.717154 229.874489 \nL 306.741788 229.856838 \nL 306.803372 226.905878 \nL 306.791055 229.874489 \nL 306.85264 229.689048 \nL 306.864957 229.822997 \nL 306.889591 229.464605 \nL 306.914225 228.697147 \nL 306.951175 229.874489 \nL 306.988126 229.482773 \nL 307.049711 229.874489 \nL 307.062028 229.342356 \nL 307.074345 229.706952 \nL 307.086662 227.554686 \nL 307.098979 229.874352 \nL 307.185197 229.612807 \nL 307.259099 229.511016 \nL 307.308366 229.874489 \nL 307.406902 228.300031 \nL 307.419219 229.874489 \nL 307.468486 228.205212 \nL 307.530071 229.874489 \nL 307.542388 229.818516 \nL 307.61629 228.43029 \nL 307.591656 229.874489 \nL 307.65324 229.579762 \nL 307.702508 228.77002 \nL 307.677874 229.874489 \nL 307.751776 229.874489 \nL 307.788727 229.142282 \nL 307.862628 229.679683 \nL 307.924213 229.87275 \nL 307.93653 229.436888 \nL 307.948847 228.586191 \nL 307.961164 229.874489 \nL 308.047382 228.823307 \nL 308.133601 229.874489 \nL 308.09665 227.840047 \nL 308.145917 227.952008 \nL 308.25677 229.874489 \nL 308.281404 229.207437 \nL 308.293721 228.017459 \nL 308.318355 229.873378 \nL 308.379939 228.342493 \nL 308.503108 229.874489 \nL 308.540059 227.340524 \nL 308.613961 229.874489 \nL 308.687862 229.215366 \nL 308.700179 226.984304 \nL 308.761764 229.874489 \nL 308.798715 228.711191 \nL 308.921884 229.874363 \nL 308.995786 228.134739 \nL 309.032736 228.388738 \nL 309.05737 229.874489 \nL 309.143589 229.784581 \nL 309.21749 228.33947 \nL 309.168223 229.874489 \nL 309.254441 229.468498 \nL 309.291392 227.829348 \nL 309.328343 229.869188 \nL 309.37761 227.625909 \nL 309.365293 229.874489 \nL 309.439195 229.714735 \nL 309.513097 227.930984 \nL 309.476146 229.874489 \nL 309.53773 229.596516 \nL 309.611632 229.874489 \nL 309.586998 228.242786 \nL 309.623949 229.869522 \nL 309.648583 227.380701 \nL 309.685534 229.874489 \nL 309.734801 229.451623 \nL 309.808703 228.389749 \nL 309.759435 229.874489 \nL 309.833337 229.631379 \nL 309.845654 229.803937 \nL 309.882605 229.068958 \nL 309.944189 226.905878 \nL 309.907238 229.874489 \nL 309.956506 229.688553 \nL 309.993457 229.874489 \nL 310.005774 228.577196 \nL 310.104309 229.144029 \nL 310.165894 229.874489 \nL 310.153577 229.090457 \nL 310.215162 229.460902 \nL 310.227479 227.838601 \nL 310.239795 229.874489 \nL 310.313697 229.660605 \nL 310.326014 229.874489 \nL 310.338331 228.245716 \nL 310.362965 229.741873 \nL 310.375282 227.948694 \nL 310.387599 229.874489 \nL 310.4615 229.857685 \nL 310.473817 229.867468 \nL 310.584669 228.323795 \nL 310.498451 229.874489 \nL 310.596986 229.568973 \nL 310.609303 229.874489 \nL 310.62162 227.952309 \nL 310.646254 229.727121 \nL 310.658571 227.887951 \nL 310.670888 229.874489 \nL 310.74479 229.187833 \nL 310.843325 229.874489 \nL 310.917227 226.905878 \nL 310.954177 228.451923 \nL 311.028079 229.874489 \nL 310.978811 225.44529 \nL 311.052713 227.950496 \nL 311.06503 228.094211 \nL 311.114297 229.874489 \nL 311.175882 229.871749 \nL 311.237467 228.644798 \nL 311.286734 228.882473 \nL 311.336002 229.874489 \nL 311.38527 228.679087 \nL 311.557707 229.870557 \nL 311.570024 229.86012 \nL 311.582341 227.623562 \nL 311.619292 229.874486 \nL 311.680876 229.459158 \nL 311.767095 229.874489 \nL 311.791729 229.849973 \nL 311.877947 228.939488 \nL 311.828679 229.874489 \nL 311.902581 229.430428 \nL 311.988799 229.874489 \nL 311.964166 229.12279 \nL 312.013433 229.633741 \nL 312.02575 228.672153 \nL 312.050384 229.874489 \nL 312.124286 229.489975 \nL 312.210504 229.874489 \nL 312.148919 227.791081 \nL 312.222821 229.857492 \nL 312.259772 229.874489 \nL 312.34599 228.618768 \nL 312.444526 229.874489 \nL 312.481477 229.7676 \nL 312.50611 229.874489 \nL 312.604646 227.178887 \nL 312.616963 229.874489 \nL 312.641597 229.874489 \nL 312.653914 228.830545 \nL 312.752449 229.174653 \nL 312.7894 229.86801 \nL 312.814034 227.549335 \nL 312.863301 229.729663 \nL 312.875618 229.773512 \nL 312.974154 227.230352 \nL 312.937203 229.873845 \nL 312.998788 229.21655 \nL 313.097323 228.877045 \nL 313.121957 229.874489 \nL 313.158908 229.864877 \nL 313.245126 228.356948 \nL 313.257443 229.874489 \nL 313.26976 229.641506 \nL 313.282077 229.660308 \nL 313.343662 229.87325 \nL 313.417563 227.842937 \nL 313.442197 229.871029 \nL 313.540732 229.858243 \nL 313.565366 227.414811 \nL 313.602317 229.874489 \nL 313.651585 229.570734 \nL 313.663902 229.679974 \nL 313.688536 229.191215 \nL 313.700853 227.942122 \nL 313.737803 229.874489 \nL 313.787071 229.761161 \nL 313.860973 229.512505 \nL 313.897923 229.874036 \nL 313.934874 228.707492 \nL 314.008776 229.874489 \nL 314.058043 229.874397 \nL 314.181213 229.287746 \nL 314.292065 229.874489 \nL 314.304382 229.870558 \nL 314.390601 227.298009 \nL 314.427551 229.622559 \nL 314.439868 229.821374 \nL 314.464502 228.907713 \nL 314.538404 229.664786 \nL 314.550721 227.739453 \nL 314.587671 229.78465 \nL 314.649256 229.584583 \nL 314.67389 229.874489 \nL 314.698524 229.815502 \nL 314.784742 226.905878 \nL 314.797059 229.874489 \nL 314.809376 229.497525 \nL 314.920229 229.874489 \nL 314.932545 229.870638 \nL 315.018764 229.163902 \nL 315.043398 229.780698 \nL 315.055715 229.87433 \nL 315.15425 228.219712 \nL 315.166567 229.679674 \nL 315.203518 229.874489 \nL 315.215835 228.640534 \nL 315.31437 229.610066 \nL 315.351321 229.113679 \nL 315.425223 229.874489 \nL 315.43754 229.057725 \nL 315.536075 229.261969 \nL 315.622293 229.874489 \nL 315.585343 229.245775 \nL 315.659244 229.822894 \nL 315.671561 229.837365 \nL 315.683878 229.703454 \nL 315.696195 229.773081 \nL 315.733146 229.258715 \nL 315.720829 229.874489 \nL 315.794731 229.49012 \nL 315.807047 229.805458 \nL 315.819364 229.784262 \nL 315.831681 226.972669 \nL 315.9179 229.860696 \nL 315.930217 229.705466 \nL 316.028752 229.874489 \nL 315.991801 229.434732 \nL 316.041069 229.859796 \nL 316.065703 229.849569 \nL 316.07802 226.74486 \nL 316.139605 229.874489 \nL 316.176555 229.874489 \nL 316.188872 229.837044 \nL 316.225823 227.915576 \nL 316.23814 229.874489 \nL 316.299725 229.589933 \nL 316.361309 229.874241 \nL 316.324358 228.732912 \nL 316.373626 229.847312 \nL 316.385943 225.315823 \nL 316.39826 229.874489 \nL 316.484479 229.874489 \nL 316.496795 229.793113 \nL 316.509112 229.869722 \nL 316.521429 227.676007 \nL 316.595331 229.874489 \nL 316.619965 229.6924 \nL 316.644599 229.674578 \nL 316.7185 229.326309 \nL 316.743134 229.874489 \nL 316.866303 228.000843 \nL 316.87862 228.168764 \nL 316.940205 229.874489 \nL 317.00179 229.864469 \nL 317.026423 229.874489 \nL 317.137276 228.710224 \nL 317.248128 229.874489 \nL 317.223494 227.900785 \nL 317.260445 229.838513 \nL 317.334347 229.874489 \nL 317.32203 229.712998 \nL 317.346664 229.823478 \nL 317.371297 229.873826 \nL 317.457516 228.588941 \nL 317.506784 229.871908 \nL 317.531418 228.512379 \nL 317.568368 229.786787 \nL 317.593002 229.722052 \nL 317.605319 229.822087 \nL 317.617636 229.67285 \nL 317.629953 229.874489 \nL 317.64227 228.012231 \nL 317.740805 229.864269 \nL 317.863975 227.681292 \nL 317.80239 229.874489 \nL 317.888608 228.737175 \nL 317.900925 229.874489 \nL 317.913242 226.905878 \nL 317.96251 229.305194 \nL 317.974827 226.349114 \nL 318.024095 229.874489 \nL 318.061045 229.847461 \nL 318.097996 228.901529 \nL 318.147264 229.874088 \nL 318.171898 229.599802 \nL 318.233482 229.874489 \nL 318.196532 229.480425 \nL 318.245799 229.594437 \nL 318.258116 227.974355 \nL 318.270433 229.874489 \nL 318.344335 229.874489 \nL 318.356652 229.874489 \nL 318.381286 228.896967 \nL 318.492138 229.419033 \nL 318.541406 229.40885 \nL 318.615307 229.874489 \nL 318.639941 229.848811 \nL 318.652258 229.873866 \nL 318.72616 226.222824 \nL 318.76311 229.851689 \nL 318.800061 229.874489 \nL 318.861646 228.799345 \nL 318.873963 229.874489 \nL 318.935547 228.656241 \nL 318.972498 228.827348 \nL 319.120301 229.874489 \nL 319.132618 228.430395 \nL 319.231154 229.413253 \nL 319.305055 229.874489 \nL 319.255788 229.118068 \nL 319.317372 229.569964 \nL 319.403591 227.427943 \nL 319.378957 229.871911 \nL 319.415908 229.86974 \nL 319.452858 229.776844 \nL 319.465175 226.715948 \nL 319.551394 229.874489 \nL 319.576028 229.874489 \nL 319.674563 228.301619 \nL 319.68688 229.444273 \nL 319.773099 229.874489 \nL 319.785416 229.796814 \nL 319.810049 227.304833 \nL 319.822366 229.874489 \nL 319.883951 229.874489 \nL 319.896268 229.874489 \nL 319.933219 228.259076 \nL 320.00712 229.049221 \nL 320.105656 229.874489 \nL 320.117973 227.821517 \nL 320.216508 229.874489 \nL 320.32736 227.861394 \nL 320.401262 229.874489 \nL 320.438213 229.323346 \nL 320.45053 228.28331 \nL 320.475164 229.874489 \nL 320.536748 229.77385 \nL 320.586016 229.167856 \nL 320.598333 229.873129 \nL 320.635284 229.730946 \nL 320.684551 229.873531 \nL 320.672234 229.136148 \nL 320.696868 229.857423 \nL 320.721502 227.407622 \nL 320.733819 229.874489 \nL 320.807721 229.866643 \nL 320.832355 229.874489 \nL 320.943207 229.48506 \nL 321.004792 229.874489 \nL 320.992475 228.283045 \nL 321.054059 229.798067 \nL 321.066376 227.753963 \nL 321.115644 229.874489 \nL 321.152595 229.874489 \nL 321.201862 229.862162 \nL 321.25113 227.445998 \nL 321.288081 229.874489 \nL 321.312715 229.866515 \nL 321.337349 228.398327 \nL 321.374299 229.874489 \nL 321.423567 229.818963 \nL 321.448201 229.761702 \nL 321.460518 229.874489 \nL 321.534419 227.932752 \nL 321.583687 229.137675 \nL 321.669906 229.874489 \nL 321.608321 226.905878 \nL 321.682223 229.848851 \nL 321.69454 228.066268 \nL 321.743807 229.874489 \nL 321.793075 229.825783 \nL 321.817709 229.874454 \nL 321.85466 229.864393 \nL 321.903927 228.311165 \nL 321.965512 229.874489 \nL 321.977829 229.874489 \nL 322.002463 229.036833 \nL 322.100998 229.567405 \nL 322.125632 229.333876 \nL 322.236484 229.874489 \nL 322.33502 229.524913 \nL 322.347337 229.871359 \nL 322.396605 229.874489 \nL 322.408921 226.905878 \nL 322.507457 229.684409 \nL 322.581358 229.873525 \nL 322.556725 229.550543 \nL 322.618309 229.720011 \nL 322.667577 229.874489 \nL 322.642943 229.232306 \nL 322.692211 229.86995 \nL 322.753795 227.14038 \nL 322.778429 229.874489 \nL 322.803063 229.723428 \nL 322.827697 229.521664 \nL 322.876965 229.874474 \nL 322.889282 229.024539 \nL 322.987817 229.745742 \nL 323.037085 229.873794 \nL 323.086353 229.552214 \nL 323.147937 229.874489 \nL 323.184888 229.733191 \nL 323.197205 229.352368 \nL 323.234156 229.871459 \nL 323.29574 229.688635 \nL 323.320374 229.874489 \nL 323.332691 229.640101 \nL 323.345008 229.094543 \nL 323.357325 229.87448 \nL 323.431227 229.557876 \nL 323.45586 229.472487 \nL 323.554396 229.874246 \nL 323.57903 229.744575 \nL 323.591347 226.974425 \nL 323.603664 229.874489 \nL 323.677565 228.556206 \nL 323.751467 227.898742 \nL 323.800734 229.874489 \nL 323.813051 226.905878 \nL 323.911587 229.85563 \nL 323.973171 229.874489 \nL 324.022439 227.362044 \nL 324.034756 229.874489 \nL 324.133292 229.510077 \nL 324.157925 229.801885 \nL 324.231827 227.913443 \nL 324.244144 229.874489 \nL 324.268778 229.359252 \nL 324.37963 229.874489 \nL 324.391947 229.778847 \nL 324.404264 229.874489 \nL 324.478166 228.001603 \nL 324.515116 229.874489 \nL 324.601335 227.966397 \nL 324.625969 229.758423 \nL 324.638286 229.751784 \nL 324.749138 228.414609 \nL 324.662919 229.874489 \nL 324.761455 229.299786 \nL 324.786089 228.718325 \nL 324.872307 229.874489 \nL 324.884624 229.841495 \nL 324.896941 229.874489 \nL 324.970843 229.16495 \nL 325.007794 229.874489 \nL 325.044744 229.873577 \nL 325.118646 227.934574 \nL 325.155597 229.266246 \nL 325.266449 229.874489 \nL 325.389618 228.545317 \nL 325.475837 229.874489 \nL 325.512788 229.873102 \nL 325.574372 229.698572 \nL 325.586689 229.874489 \nL 325.635957 227.401603 \nL 325.697542 229.851878 \nL 325.722175 229.814905 \nL 325.796077 229.871579 \nL 325.808394 229.819901 \nL 325.820711 227.427559 \nL 325.869979 229.874489 \nL 325.919246 229.723665 \nL 325.931563 228.718949 \nL 325.968514 229.874489 \nL 326.017782 229.81187 \nL 326.030099 229.829879 \nL 326.042416 227.818371 \nL 326.079366 229.874489 \nL 326.140951 228.173336 \nL 326.177902 229.874489 \nL 326.165585 227.878394 \nL 326.26412 229.805405 \nL 326.276437 229.830366 \nL 326.288754 228.214684 \nL 326.350339 229.874489 \nL 326.38729 229.819815 \nL 326.399607 229.848595 \nL 326.411923 229.838484 \nL 326.448874 228.47715 \nL 326.473508 229.874489 \nL 326.522776 229.747481 \nL 326.559727 229.555983 \nL 326.645945 229.874489 \nL 326.658262 229.874489 \nL 326.769114 228.425681 \nL 326.818382 229.874489 \nL 326.879967 229.831511 \nL 326.941551 228.164032 \nL 326.953868 229.874489 \nL 326.978502 229.874489 \nL 326.990819 229.874489 \nL 327.003136 229.557136 \nL 327.101671 229.81385 \nL 327.113988 229.874489 \nL 327.126305 227.180424 \nL 327.224841 229.6104 \nL 327.311059 228.540775 \nL 327.323376 229.824065 \nL 327.34801 229.648174 \nL 327.421912 227.662802 \nL 327.372644 229.874489 \nL 327.446545 228.83146 \nL 327.520447 227.884539 \nL 327.569715 229.874489 \nL 327.582032 229.874489 \nL 327.66825 228.922717 \nL 327.692884 229.874102 \nL 327.705201 229.86934 \nL 327.803736 228.508686 \nL 327.816053 229.795958 \nL 327.82837 229.805469 \nL 327.914589 228.108857 \nL 327.865321 229.874489 \nL 327.926906 228.22096 \nL 328.025441 229.874489 \nL 328.050075 229.865128 \nL 328.062392 229.874489 \nL 328.074709 229.851451 \nL 328.123977 228.188918 \nL 328.14861 229.874039 \nL 328.185561 229.759298 \nL 328.197878 229.737605 \nL 328.210195 227.649537 \nL 328.222512 229.874489 \nL 328.308731 228.954289 \nL 328.333364 227.235533 \nL 328.4319 229.874489 \nL 328.444217 229.091116 \nL 328.542752 229.874045 \nL 328.555069 229.868056 \nL 328.579703 227.531421 \nL 328.604337 229.874489 \nL 328.665921 229.724536 \nL 328.678238 229.812627 \nL 328.715189 228.170213 \nL 328.776774 229.793801 \nL 328.813725 229.871411 \nL 328.91226 228.637487 \nL 328.850675 229.874489 \nL 328.936894 228.743913 \nL 329.035429 229.874489 \nL 329.047746 229.85872 \nL 329.060063 228.551551 \nL 329.158599 229.389669 \nL 329.183232 229.262174 \nL 329.269451 229.874489 \nL 329.281768 229.815574 \nL 329.294085 229.874489 \nL 329.404937 228.03243 \nL 329.503473 229.874489 \nL 329.478839 228.030224 \nL 329.51579 229.843594 \nL 329.55274 229.874489 \nL 329.626642 228.336479 \nL 329.700544 229.874489 \nL 329.737494 229.836318 \nL 329.786762 228.54141 \nL 329.774445 229.872073 \nL 329.83603 229.740438 \nL 329.848347 229.874489 \nL 329.860664 229.51198 \nL 329.946882 227.594965 \nL 329.922248 229.874489 \nL 329.971516 229.486801 \nL 329.99615 229.874436 \nL 330.008467 229.211001 \nL 330.107002 229.874489 \nL 330.131636 228.421153 \nL 330.217855 229.226084 \nL 330.291756 229.874489 \nL 330.267122 229.201297 \nL 330.328707 229.747881 \nL 330.365658 229.874035 \nL 330.377975 229.854059 \nL 330.402608 229.874489 \nL 330.488827 226.906945 \nL 330.611996 229.874489 \nL 330.63663 229.874489 \nL 330.772116 226.905878 \nL 330.846018 229.874489 \nL 330.882969 229.865685 \nL 330.895286 229.058448 \nL 330.981504 229.874489 \nL 330.993821 229.874489 \nL 331.043089 227.661257 \nL 331.104673 229.69271 \nL 331.11699 229.874489 \nL 331.129307 227.542175 \nL 331.227843 229.782928 \nL 331.27711 229.874489 \nL 331.289427 229.847893 \nL 331.301744 228.665173 \nL 331.338695 229.874489 \nL 331.40028 229.81656 \nL 331.474181 228.671174 \nL 331.449547 229.874489 \nL 331.498815 229.534339 \nL 331.523449 229.446409 \nL 331.5604 229.872444 \nL 331.609668 229.874489 \nL 331.671252 226.282571 \nL 331.782105 229.874489 \nL 331.806738 229.865668 \nL 331.831372 229.75185 \nL 331.856006 229.874489 \nL 331.868323 229.017069 \nL 331.966858 229.66868 \nL 332.016126 229.874489 \nL 332.065394 229.607222 \nL 332.077711 229.849913 \nL 332.126979 227.280936 \nL 332.102345 229.874489 \nL 332.188563 229.706247 \nL 332.20088 229.868285 \nL 332.237831 228.965519 \nL 332.262465 227.835537 \nL 332.311733 229.874489 \nL 332.324049 229.874489 \nL 332.348683 228.304825 \nL 332.447219 229.713969 \nL 332.533437 229.874489 \nL 332.656607 227.495067 \nL 332.742825 229.874489 \nL 332.767459 229.526637 \nL 332.853677 229.865255 \nL 332.865994 227.1444 \nL 332.96453 229.874489 \nL 332.989164 229.846383 \nL 333.001481 229.874489 \nL 333.026114 229.862369 \nL 333.075382 229.874489 \nL 333.136967 228.369241 \nL 333.247819 229.874489 \nL 333.186234 227.354703 \nL 333.260136 229.857138 \nL 333.309404 229.874489 \nL 333.321721 229.118922 \nL 333.420256 229.547517 \nL 333.531108 229.874489 \nL 333.481841 229.520682 \nL 333.543425 229.866758 \nL 333.629644 227.080282 \nL 333.580376 229.874489 \nL 333.654278 228.483014 \nL 333.740496 229.874489 \nL 333.752813 229.8381 \nL 333.76513 228.402651 \nL 333.789764 229.866611 \nL 333.863666 229.753646 \nL 333.875983 229.815712 \nL 333.888299 228.777252 \nL 333.900616 229.874489 \nL 333.974518 229.304099 \nL 334.036103 229.874221 \nL 334.04842 228.898219 \nL 334.08537 229.840591 \nL 334.134638 229.874489 \nL 334.196223 227.463606 \nL 334.282441 229.871452 \nL 334.319392 229.826099 \nL 334.331709 229.8078 \nL 334.344026 229.874489 \nL 334.430244 227.932294 \nL 334.454878 228.802872 \nL 334.578047 229.874489 \nL 334.602681 229.874489 \nL 334.651949 228.245912 \nL 334.725851 229.667648 \nL 334.762801 229.874489 \nL 334.787435 229.136092 \nL 334.812069 229.44849 \nL 334.824386 229.403573 \nL 334.836703 229.572563 \nL 334.898288 229.874489 \nL 334.935238 229.872631 \nL 335.033774 227.636268 \nL 334.984506 229.874489 \nL 335.046091 229.816952 \nL 335.070725 229.85886 \nL 335.083042 229.826602 \nL 335.095358 229.692546 \nL 335.107675 226.62478 \nL 335.16926 229.874489 \nL 335.193894 229.874489 \nL 335.230845 229.109808 \nL 335.304746 229.818342 \nL 335.32938 229.432022 \nL 335.390965 229.874489 \nL 335.403282 228.551187 \nL 335.501817 229.874489 \nL 335.538768 227.782965 \nL 335.61267 229.618147 \nL 335.624986 229.874489 \nL 335.64962 229.815356 \nL 335.661937 228.314935 \nL 335.674254 229.874489 \nL 335.748156 229.423798 \nL 335.822057 229.176436 \nL 335.859008 229.874489 \nL 335.883642 229.532384 \nL 335.895959 229.153192 \nL 335.908276 229.874489 \nL 335.982177 229.85066 \nL 335.994494 229.874489 \nL 336.09303 226.905878 \nL 336.105347 228.353454 \nL 336.228516 229.874489 \nL 336.314734 229.866411 \nL 336.327051 229.734541 \nL 336.351685 229.874489 \nL 336.364002 226.975366 \nL 336.462538 229.874489 \nL 336.499488 229.164791 \nL 336.57339 229.436307 \nL 336.598024 229.826903 \nL 336.622658 229.775328 \nL 336.634975 228.100309 \nL 336.647292 229.874489 \nL 336.73351 229.48551 \nL 336.832046 229.874384 \nL 336.844362 229.857795 \nL 336.942898 227.231132 \nL 336.89363 229.874489 \nL 336.967532 229.293189 \nL 336.979849 229.874489 \nL 337.041433 228.936416 \nL 337.05375 229.508079 \nL 337.066067 228.382112 \nL 337.090701 229.874489 \nL 337.152286 229.874359 \nL 337.275455 229.405738 \nL 337.287772 229.41091 \nL 337.300089 228.348606 \nL 337.349357 229.874489 \nL 337.386307 229.868812 \nL 337.398624 229.874271 \nL 337.447892 228.716066 \nL 337.509477 228.919095 \nL 337.608012 229.874489 \nL 337.595695 228.196026 \nL 337.620329 229.63676 \nL 337.632646 227.387898 \nL 337.65728 229.874489 \nL 337.718864 227.539687 \nL 337.792766 229.874489 \nL 337.829717 229.8617 \nL 337.928252 227.645057 \nL 337.891301 229.874489 \nL 337.952886 229.317149 \nL 338.026788 228.867036 \nL 338.076055 229.874489 \nL 338.088372 228.004939 \nL 338.186908 229.497657 \nL 338.273126 229.874489 \nL 338.29776 229.55984 \nL 338.359345 228.485253 \nL 338.347028 229.874489 \nL 338.396296 229.874489 \nL 338.433246 229.874489 \nL 338.445563 228.860089 \nL 338.544099 229.862986 \nL 338.556416 229.874489 \nL 338.581049 229.768585 \nL 338.593366 227.798099 \nL 338.618 229.874489 \nL 338.679585 229.817987 \nL 338.704219 229.864101 \nL 338.74117 228.954621 \nL 338.802754 229.872135 \nL 338.815071 229.792654 \nL 338.90129 229.873333 \nL 338.864339 229.767879 \nL 338.913607 229.869534 \nL 338.925923 228.879923 \nL 338.999825 229.874489 \nL 339.024459 229.863152 \nL 339.06141 229.872725 \nL 339.172262 228.754994 \nL 339.233847 229.874489 \nL 339.258481 229.516911 \nL 339.270797 227.425783 \nL 339.307748 229.874489 \nL 339.357016 229.874489 \nL 339.369333 229.874489 \nL 339.38165 229.456833 \nL 339.480185 229.752232 \nL 339.492502 229.755443 \nL 339.504819 229.874489 \nL 339.529453 229.780375 \nL 339.54177 228.824896 \nL 339.554087 229.864218 \nL 339.627988 229.833165 \nL 339.652622 229.864678 \nL 339.664939 229.707014 \nL 339.677256 229.874489 \nL 339.714207 229.872557 \nL 339.726524 226.727623 \nL 339.763475 229.874489 \nL 339.825059 229.707093 \nL 339.849693 229.866481 \nL 339.86201 229.246076 \nL 339.923595 228.192572 \nL 339.886644 229.874489 \nL 339.960546 229.563035 \nL 339.972862 229.592521 \nL 340.034447 227.529787 \nL 340.009813 229.874489 \nL 340.071398 229.874489 \nL 340.083715 229.741729 \nL 340.120666 229.868263 \nL 340.132983 227.822391 \nL 340.145299 229.874489 \nL 340.231518 229.784871 \nL 340.293103 229.319809 \nL 340.280786 229.874489 \nL 340.330053 229.852546 \nL 340.34237 229.865675 \nL 340.354687 229.836752 \nL 340.403955 228.569307 \nL 340.379321 229.871837 \nL 340.453223 229.842275 \nL 340.514807 229.794687 \nL 340.551758 229.874489 \nL 340.564075 228.485303 \nL 340.66261 229.874489 \nL 340.736512 229.536485 \nL 340.773463 229.874489 \nL 340.835047 227.990277 \nL 340.884315 229.830254 \nL 340.958217 229.689376 \nL 341.007484 229.874489 \nL 341.081386 229.855507 \nL 341.093703 229.036586 \nL 341.192238 229.860508 \nL 341.204555 229.874489 \nL 341.253823 228.652122 \nL 341.315408 229.703051 \nL 341.376992 229.874489 \nL 341.340042 229.516346 \nL 341.389309 229.860485 \nL 341.450894 229.874164 \nL 341.500162 229.232053 \nL 341.537112 229.874489 \nL 341.561746 229.728665 \nL 341.574063 227.272955 \nL 341.58638 229.874489 \nL 341.672599 229.735161 \nL 341.684916 227.988204 \nL 341.697233 229.874489 \nL 341.771134 229.874489 \nL 341.783451 229.859423 \nL 341.795768 229.050911 \nL 341.820402 229.874489 \nL 341.894303 229.79902 \nL 341.968205 229.874489 \nL 341.955888 229.699842 \nL 341.980522 229.867408 \nL 341.992839 228.75167 \nL 342.005156 229.874489 \nL 342.091374 229.663322 \nL 342.165276 227.829562 \nL 342.116008 229.874303 \nL 342.18991 229.69536 \nL 342.22686 229.874489 \nL 342.263811 229.826799 \nL 342.276128 228.79524 \nL 342.313079 229.874489 \nL 342.362347 229.639058 \nL 342.473199 229.874489 \nL 342.448565 229.628723 \nL 342.485516 229.868405 \nL 342.51015 229.874489 \nL 342.522467 228.933102 \nL 342.621002 229.652574 \nL 342.645636 228.978494 \nL 342.731855 229.874489 \nL 342.756488 228.1376 \nL 342.842707 229.509275 \nL 342.941242 229.289311 \nL 342.965876 229.874319 \nL 342.99051 229.874489 \nL 343.101362 226.711733 \nL 343.187581 229.874468 \nL 343.224532 229.873814 \nL 343.31075 228.474655 \nL 343.249166 229.874489 \nL 343.360018 228.536355 \nL 343.421603 229.868351 \nL 343.446236 227.124867 \nL 343.63099 229.874489 \nL 343.655624 229.736502 \nL 343.667941 229.873628 \nL 343.692575 228.984159 \nL 343.704892 228.539904 \nL 343.741843 229.874489 \nL 343.778794 229.874489 \nL 343.877329 227.582687 \nL 343.901963 229.110833 \nL 343.926597 228.755231 \nL 344.025132 229.874489 \nL 344.0744 229.641911 \nL 344.086717 229.867356 \nL 344.099034 228.148462 \nL 344.160618 229.870761 \nL 344.197569 229.829236 \nL 344.209886 229.874489 \nL 344.23452 228.908076 \nL 344.320738 229.759044 \nL 344.39464 229.186883 \nL 344.357689 229.874489 \nL 344.419274 229.485922 \nL 344.517809 229.874489 \nL 344.480859 227.996094 \nL 344.530126 229.640311 \nL 344.579394 226.956491 \nL 344.567077 229.874489 \nL 344.628662 229.850347 \nL 344.653296 229.770514 \nL 344.71488 229.862091 \nL 344.727197 229.595983 \nL 344.739514 229.874489 \nL 344.825733 229.745316 \nL 344.875 229.374851 \nL 344.899634 229.867884 \nL 344.911951 229.738141 \nL 344.961219 229.874489 \nL 345.010486 229.805207 \nL 345.022803 227.799045 \nL 345.109022 229.874489 \nL 345.121339 227.997935 \nL 345.219874 227.918383 \nL 345.244508 229.874489 \nL 345.269142 229.86886 \nL 345.330727 227.928932 \nL 345.293776 229.874489 \nL 345.379994 229.874489 \nL 345.404628 229.847955 \nL 345.503164 228.606659 \nL 345.47853 229.874489 \nL 345.515481 229.837945 \nL 345.540114 229.659493 \nL 345.552431 229.824205 \nL 345.564748 228.128239 \nL 345.589382 229.874489 \nL 345.650967 229.003792 \nL 345.687918 229.874489 \nL 345.724868 228.133987 \nL 345.761819 229.451282 \nL 345.835721 229.87025 \nL 345.848038 227.53521 \nL 345.872672 229.874489 \nL 345.946573 229.868516 \nL 346.032792 227.327117 \nL 345.971207 229.874489 \nL 346.057425 229.874489 \nL 346.082059 229.874489 \nL 346.192912 229.406856 \nL 346.205229 229.440428 \nL 346.266813 229.874489 \nL 346.229862 227.923585 \nL 346.291447 229.84589 \nL 346.365349 228.306189 \nL 346.328398 229.874489 \nL 346.402299 229.506497 \nL 346.451567 229.211195 \nL 346.525469 229.874125 \nL 346.550103 229.511639 \nL 346.56242 226.394803 \nL 346.611687 229.874489 \nL 346.648638 228.766819 \nL 346.734857 229.874489 \nL 346.747173 229.584475 \nL 346.75949 228.740643 \nL 346.808758 229.874489 \nL 346.845709 229.447115 \nL 346.931927 229.406472 \nL 346.968878 229.874489 \nL 346.981195 228.056828 \nL 347.079731 229.874469 \nL 347.092047 228.914904 \nL 347.190583 229.872621 \nL 347.264484 228.645427 \nL 347.215217 229.874489 \nL 347.313752 229.530057 \nL 347.387654 229.874489 \nL 347.399971 227.737084 \nL 347.498506 229.874489 \nL 347.510823 229.874488 \nL 347.52314 227.276177 \nL 347.621675 229.792517 \nL 347.658626 227.937692 \nL 347.646309 229.874489 \nL 347.68326 229.850097 \nL 347.695577 226.341733 \nL 347.707894 229.874489 \nL 347.794112 229.792323 \nL 347.818746 229.869586 \nL 347.831063 228.892104 \nL 347.855697 229.874489 \nL 347.929599 229.795372 \nL 347.954233 229.651477 \nL 347.991183 229.874489 \nL 348.0035 229.146068 \nL 348.102036 229.702684 \nL 348.225205 229.873773 \nL 348.249839 229.874489 \nL 348.336057 227.160912 \nL 348.459227 229.874489 \nL 348.570079 228.558051 \nL 348.680931 229.874489 \nL 348.804101 229.455473 \nL 348.853368 228.693367 \nL 348.914953 229.874489 \nL 348.92727 229.811975 \nL 348.939587 229.131061 \nL 348.988855 229.874489 \nL 349.025805 229.284963 \nL 349.148975 229.874409 \nL 349.210559 229.874489 \nL 349.259827 229.069675 \nL 349.333729 229.334702 \nL 349.432264 229.874489 \nL 349.419947 228.378113 \nL 349.444581 229.822335 \nL 349.456898 229.742082 \nL 349.469215 229.871234 \nL 349.481532 227.345872 \nL 349.543116 229.874489 \nL 349.580067 229.838873 \nL 349.592384 229.656828 \nL 349.604701 227.114344 \nL 349.69092 229.874489 \nL 349.703236 229.874489 \nL 349.764821 227.482242 \nL 349.826406 227.847016 \nL 349.863357 229.874489 \nL 349.88799 227.725271 \nL 349.937258 229.867246 \nL 350.01116 228.497698 \nL 349.961892 229.874489 \nL 350.060427 228.708765 \nL 350.183597 229.874489 \nL 350.208231 229.874407 \nL 350.220547 227.190112 \nL 350.319083 229.873821 \nL 350.368351 227.579118 \nL 350.356034 229.874485 \nL 350.429935 229.874489 \nL 350.442252 229.390038 \nL 350.540788 229.874489 \nL 350.553105 229.874489 \nL 350.577738 228.251415 \nL 350.663957 229.315669 \nL 350.713225 228.955253 \nL 350.787126 229.874489 \nL 350.799443 229.874489 \nL 350.897979 226.905878 \nL 350.910296 229.874489 \nL 350.959563 229.874489 \nL 350.97188 228.094676 \nL 351.070416 229.60814 \nL 351.107366 229.874489 \nL 351.156634 229.789161 \nL 351.181268 229.874489 \nL 351.267486 227.699252 \nL 351.366022 229.874489 \nL 351.378339 229.828416 \nL 351.402973 228.012104 \nL 351.41529 229.874489 \nL 351.476874 229.868073 \nL 351.513825 229.874489 \nL 351.587727 228.068141 \nL 351.636994 229.039417 \nL 351.698579 229.874418 \nL 351.73553 228.672144 \nL 351.747847 229.739712 \nL 351.760164 229.646734 \nL 351.772481 229.874489 \nL 351.834065 229.874489 \nL 351.858699 229.874489 \nL 351.920284 228.226014 \nL 351.969551 229.874489 \nL 351.981868 229.243401 \nL 352.080404 229.805275 \nL 352.141988 228.615456 \nL 352.129672 229.874489 \nL 352.191256 229.593489 \nL 352.302109 229.874489 \nL 352.314425 229.865717 \nL 352.326742 228.368891 \nL 352.351376 229.874489 \nL 352.425278 229.63968 \nL 352.437595 229.516525 \nL 352.462229 229.874489 \nL 352.511496 229.828039 \nL 352.548447 229.868264 \nL 352.610032 226.007914 \nL 352.646983 229.874489 \nL 352.671616 227.500082 \nL 352.745518 229.874489 \nL 352.782469 229.750448 \nL 352.794786 229.381781 \nL 352.807103 229.874489 \nL 352.893321 229.728413 \nL 352.967223 229.874489 \nL 352.991857 229.84922 \nL 353.004173 225.974732 \nL 353.065758 229.874489 \nL 353.102709 229.841837 \nL 353.115026 229.83164 \nL 353.188927 228.764501 \nL 353.164294 229.874489 \nL 353.213561 229.544461 \nL 353.238195 229.874489 \nL 353.250512 229.346921 \nL 353.262829 229.753536 \nL 353.275146 226.905878 \nL 353.349048 229.874489 \nL 353.361364 229.240477 \nL 353.447583 229.874489 \nL 353.410632 228.072256 \nL 353.472217 229.729143 \nL 353.484534 229.842492 \nL 353.496851 228.270515 \nL 353.533801 229.874489 \nL 353.595386 229.874489 \nL 353.706238 228.740006 \nL 353.718555 229.871368 \nL 353.817091 229.713565 \nL 353.829408 229.224802 \nL 353.890992 229.874489 \nL 353.915626 229.869081 \nL 353.927943 229.816179 \nL 353.952577 229.8724 \nL 353.964894 229.108936 \nL 353.989528 229.874489 \nL 354.063429 229.483736 \nL 354.149648 228.890807 \nL 354.174282 229.874489 \nL 354.297451 228.75283 \nL 354.38367 229.874489 \nL 354.408303 229.737428 \nL 354.432937 229.874489 \nL 354.519156 227.755383 \nL 354.642325 229.874489 \nL 354.654642 229.874487 \nL 354.753177 228.066199 \nL 354.790128 229.442589 \nL 354.876347 229.874489 \nL 354.827079 229.336041 \nL 354.900981 229.795228 \nL 354.950248 229.241913 \nL 354.937931 229.874489 \nL 355.011833 229.736619 \nL 355.02415 226.905878 \nL 355.061101 229.874489 \nL 355.110368 229.807884 \nL 355.135002 229.469097 \nL 355.171953 229.87198 \nL 355.196587 229.874489 \nL 355.295122 227.838802 \nL 355.405975 229.874489 \nL 355.529144 228.163843 \nL 355.590729 229.874489 \nL 355.639996 228.975474 \nL 355.689264 229.874489 \nL 355.750849 229.862944 \nL 355.837067 226.78661 \nL 355.82475 229.874426 \nL 355.861701 228.615604 \nL 355.960236 228.08499 \nL 355.972553 229.874489 \nL 355.98487 228.273362 \nL 356.083406 229.840977 \nL 356.157307 229.874489 \nL 356.169624 229.789906 \nL 356.243526 228.723755 \nL 356.218892 229.874489 \nL 356.26816 229.855252 \nL 356.280477 229.853758 \nL 356.292794 228.911141 \nL 356.30511 229.874489 \nL 356.391329 229.8159 \nL 356.465231 227.93899 \nL 356.42828 229.874489 \nL 356.514498 229.636598 \nL 356.576083 229.874489 \nL 356.551449 229.475412 \nL 356.5884 229.861808 \nL 356.613034 226.868501 \nL 356.662301 229.874489 \nL 356.699252 229.809159 \nL 356.711569 229.799446 \nL 356.74852 228.443557 \nL 356.736203 229.874489 \nL 356.810105 229.798492 \nL 356.847055 229.748552 \nL 356.859372 229.874489 \nL 356.871689 227.16639 \nL 356.970225 229.874487 \nL 357.056443 229.606484 \nL 357.081077 229.699927 \nL 357.179612 229.874489 \nL 357.265831 226.890097 \nL 357.290465 229.791896 \nL 357.339733 229.707957 \nL 357.401317 229.874489 \nL 357.51217 225.379956 \nL 357.610705 229.874489 \nL 357.635339 229.824625 \nL 357.647656 229.874489 \nL 357.67229 229.860346 \nL 357.696923 229.874489 \nL 357.795459 227.459556 \nL 357.906311 229.874489 \nL 357.918628 228.803775 \nL 358.017164 229.874489 \nL 358.078748 229.781321 \nL 358.128016 228.009272 \nL 358.103382 229.874489 \nL 358.189601 229.700284 \nL 358.201918 229.680528 \nL 358.226551 229.648375 \nL 358.288136 229.874489 \nL 358.349721 228.153238 \nL 358.398988 229.637357 \nL 358.448256 229.874489 \nL 358.559109 227.389715 \nL 358.682278 229.874489 \nL 358.780813 229.36588 \nL 358.805447 229.779627 \nL 358.830081 229.874489 \nL 358.842398 229.258468 \nL 358.854715 229.579327 \nL 358.867032 228.183543 \nL 358.940933 229.874489 \nL 358.95325 229.852327 \nL 358.965567 229.766982 \nL 358.977884 229.874489 \nL 358.990201 228.47272 \nL 359.088736 229.874489 \nL 359.211906 228.696494 \nL 359.310441 229.874489 \nL 359.335075 229.871678 \nL 359.421294 228.67374 \nL 359.359709 229.874489 \nL 359.458244 229.441886 \nL 359.519829 229.874489 \nL 359.544463 229.653723 \nL 359.55678 228.460322 \nL 359.569097 229.874489 \nL 359.655315 228.975496 \nL 359.7169 229.874489 \nL 359.692266 228.941686 \nL 359.753851 229.321754 \nL 359.778485 227.486272 \nL 359.790801 229.874489 \nL 359.852386 229.874489 \nL 359.864703 229.871592 \nL 359.87702 228.595056 \nL 359.889337 229.874489 \nL 359.975555 229.874489 \nL 360.03714 229.868693 \nL 360.049457 227.952165 \nL 360.061774 229.874489 \nL 360.147992 229.874489 \nL 360.184943 227.882574 \nL 360.184943 227.882574 \n\" style=\"fill:none;stroke:#1f77b4;stroke-linecap:round;stroke-width:1.5;\"/>\n   </g>\n   <g id=\"patch_3\">\n    <path d=\"M 40.603125 239.758125 \nL 40.603125 22.318125 \n\" style=\"fill:none;stroke:#262626;stroke-linecap:square;stroke-linejoin:miter;stroke-width:0.8;\"/>\n   </g>\n   <g id=\"patch_4\">\n    <path d=\"M 375.403125 239.758125 \nL 375.403125 22.318125 \n\" style=\"fill:none;stroke:#262626;stroke-linecap:square;stroke-linejoin:miter;stroke-width:0.8;\"/>\n   </g>\n   <g id=\"patch_5\">\n    <path d=\"M 40.603125 239.758125 \nL 375.403125 239.758125 \n\" style=\"fill:none;stroke:#262626;stroke-linecap:square;stroke-linejoin:miter;stroke-width:0.8;\"/>\n   </g>\n   <g id=\"patch_6\">\n    <path d=\"M 40.603125 22.318125 \nL 375.403125 22.318125 \n\" style=\"fill:none;stroke:#262626;stroke-linecap:square;stroke-linejoin:miter;stroke-width:0.8;\"/>\n   </g>\n   <g id=\"text_16\">\n    <!-- Error -->\n    <defs>\n     <path d=\"M 9.8125 72.90625 \nL 55.90625 72.90625 \nL 55.90625 64.59375 \nL 19.671875 64.59375 \nL 19.671875 43.015625 \nL 54.390625 43.015625 \nL 54.390625 34.71875 \nL 19.671875 34.71875 \nL 19.671875 8.296875 \nL 56.78125 8.296875 \nL 56.78125 0 \nL 9.8125 0 \nz\n\" id=\"DejaVuSans-69\"/>\n    </defs>\n    <g style=\"fill:#262626;\" transform=\"translate(193.380937 16.318125)scale(0.12 -0.12)\">\n     <use xlink:href=\"#DejaVuSans-69\"/>\n     <use x=\"63.183594\" xlink:href=\"#DejaVuSans-114\"/>\n     <use x=\"102.546875\" xlink:href=\"#DejaVuSans-114\"/>\n     <use x=\"141.410156\" xlink:href=\"#DejaVuSans-111\"/>\n     <use x=\"202.591797\" xlink:href=\"#DejaVuSans-114\"/>\n    </g>\n   </g>\n  </g>\n </g>\n <defs>\n  <clipPath id=\"p8966e43c55\">\n   <rect height=\"217.44\" width=\"334.8\" x=\"40.603125\" y=\"22.318125\"/>\n  </clipPath>\n </defs>\n</svg>\n"
          },
          "metadata": {}
        }
      ]
    },
    {
      "cell_type": "markdown",
      "metadata": {
        "id": "Wrv6tQUzqS5k"
      },
      "source": [
        "En la grafica se puede observar la reducción de la fución de error a lo largo del proceso, tal como se espera de implementar el algoritmo de descenso de gradiente."
      ]
    },
    {
      "cell_type": "code",
      "metadata": {
        "id": "ZfV9EjnO1ECT"
      },
      "source": [
        "#Datos de validación\n",
        "x=np.matrix(X_test)\n",
        "y=np.matrix(y_test)\n",
        "ypred=np.empty((np.shape(y)[1]))\n",
        "\n",
        "#Validación del modelo\n",
        "for i in range(np.shape(x)[0]):\n",
        "  a1=x[i]@w0+wb1\n",
        "  for j in range(np.shape(a1)[1]):\n",
        "    z1[0,j]=relu(a1[0,j])\n",
        "  \n",
        "  a2=z1@w1+wb2\n",
        "  z2=relu(a2)\n",
        "  \n",
        "  ypred[i]=z2"
      ],
      "execution_count": null,
      "outputs": []
    },
    {
      "cell_type": "code",
      "metadata": {
        "colab": {
          "base_uri": "https://localhost:8080/"
        },
        "id": "SmTPPGYj1gK6",
        "outputId": "8afed692-2fc6-4e25-d86e-8d7e2884fdd3"
      },
      "source": [
        "#Tratamiento de los datos de salida\n",
        "yp=np.empty(np.shape(ypred)[0])\n",
        "for i in range(np.shape(ypred)[0]):\n",
        "  if ypred[i]>0:\n",
        "    yp[i]=1\n",
        "  else:\n",
        "    yp[i]=0\n",
        "\n",
        "#Presición del modelo\n",
        "print(f'Precisión {round(accuracy_score(yp, y.T),5)}')"
      ],
      "execution_count": null,
      "outputs": [
        {
          "output_type": "stream",
          "name": "stdout",
          "text": [
            "Precisión 0.81228\n"
          ]
        }
      ]
    },
    {
      "cell_type": "markdown",
      "metadata": {
        "id": "K5yRe447tJt0"
      },
      "source": [
        "Como se puede observar, el modelo obtuvo una presición del 81.282%, la cual es bastante aceptable con respecto a la red definida a partir de SciKit-Learn"
      ]
    }
  ]
}