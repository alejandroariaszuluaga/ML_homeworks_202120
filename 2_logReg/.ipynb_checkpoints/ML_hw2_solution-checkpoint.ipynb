{
 "cells": [
  {
   "cell_type": "markdown",
   "metadata": {},
   "source": [
    "# Regresión Logística: Predicción de Enfermedad Coronaria\n",
    "\n",
    "En esta ocasión se busca implementar el algoritmo de regresión logística, inicialmente empleando la librería SciKit-Learn para luego desarrollar el mismo proceso de entrenamiento manualmente (Descenso de Gradiente Estocástico).\n",
    "\n",
    "También se introducirán algunos conceptos para lidiar con datos desbalanceados como: matriz de confusión, curva ROC, y algunas otras métricas importantes.\n",
    "\n",
    "Debe completar las celdas vacías y seguir las instrucciones anotadas en el cuaderno.\n",
    "\n",
    "La fecha límite de entrega es el día **20 de septiembre** y se realizará a través de Bloque Neón."
   ]
  },
  {
   "cell_type": "code",
   "execution_count": 18,
   "metadata": {},
   "outputs": [],
   "source": [
    "import pandas as pd\n",
    "import numpy as np\n",
    "import statsmodels.api as sm\n",
    "import scipy.stats as st\n",
    "import matplotlib.pyplot as plt\n",
    "import seaborn as sn\n",
    "import sklearn\n",
    "from sklearn.linear_model import LogisticRegression\n",
    "from sklearn.model_selection import train_test_split\n",
    "from sklearn.metrics import confusion_matrix\n",
    "from sklearn.preprocessing import OrdinalEncoder, MinMaxScaler, RobustScaler\n",
    "import matplotlib.mlab as mlab\n",
    "%matplotlib inline"
   ]
  },
  {
   "cell_type": "code",
   "execution_count": 2,
   "metadata": {
    "scrolled": true
   },
   "outputs": [
    {
     "data": {
      "text/html": [
       "<div>\n",
       "<style scoped>\n",
       "    .dataframe tbody tr th:only-of-type {\n",
       "        vertical-align: middle;\n",
       "    }\n",
       "\n",
       "    .dataframe tbody tr th {\n",
       "        vertical-align: top;\n",
       "    }\n",
       "\n",
       "    .dataframe thead th {\n",
       "        text-align: right;\n",
       "    }\n",
       "</style>\n",
       "<table border=\"1\" class=\"dataframe\">\n",
       "  <thead>\n",
       "    <tr style=\"text-align: right;\">\n",
       "      <th></th>\n",
       "      <th>male</th>\n",
       "      <th>age</th>\n",
       "      <th>currentSmoker</th>\n",
       "      <th>cigsPerDay</th>\n",
       "      <th>BPMeds</th>\n",
       "      <th>prevalentStroke</th>\n",
       "      <th>prevalentHyp</th>\n",
       "      <th>diabetes</th>\n",
       "      <th>totChol</th>\n",
       "      <th>sysBP</th>\n",
       "      <th>diaBP</th>\n",
       "      <th>BMI</th>\n",
       "      <th>heartRate</th>\n",
       "      <th>glucose</th>\n",
       "      <th>TenYearCHD</th>\n",
       "    </tr>\n",
       "  </thead>\n",
       "  <tbody>\n",
       "    <tr>\n",
       "      <th>0</th>\n",
       "      <td>1</td>\n",
       "      <td>39</td>\n",
       "      <td>0</td>\n",
       "      <td>0.0</td>\n",
       "      <td>0.0</td>\n",
       "      <td>0</td>\n",
       "      <td>0</td>\n",
       "      <td>0</td>\n",
       "      <td>195.0</td>\n",
       "      <td>106.0</td>\n",
       "      <td>70.0</td>\n",
       "      <td>26.97</td>\n",
       "      <td>80.0</td>\n",
       "      <td>77.0</td>\n",
       "      <td>0</td>\n",
       "    </tr>\n",
       "    <tr>\n",
       "      <th>1</th>\n",
       "      <td>0</td>\n",
       "      <td>46</td>\n",
       "      <td>0</td>\n",
       "      <td>0.0</td>\n",
       "      <td>0.0</td>\n",
       "      <td>0</td>\n",
       "      <td>0</td>\n",
       "      <td>0</td>\n",
       "      <td>250.0</td>\n",
       "      <td>121.0</td>\n",
       "      <td>81.0</td>\n",
       "      <td>28.73</td>\n",
       "      <td>95.0</td>\n",
       "      <td>76.0</td>\n",
       "      <td>0</td>\n",
       "    </tr>\n",
       "    <tr>\n",
       "      <th>2</th>\n",
       "      <td>1</td>\n",
       "      <td>48</td>\n",
       "      <td>1</td>\n",
       "      <td>20.0</td>\n",
       "      <td>0.0</td>\n",
       "      <td>0</td>\n",
       "      <td>0</td>\n",
       "      <td>0</td>\n",
       "      <td>245.0</td>\n",
       "      <td>127.5</td>\n",
       "      <td>80.0</td>\n",
       "      <td>25.34</td>\n",
       "      <td>75.0</td>\n",
       "      <td>70.0</td>\n",
       "      <td>0</td>\n",
       "    </tr>\n",
       "    <tr>\n",
       "      <th>3</th>\n",
       "      <td>0</td>\n",
       "      <td>61</td>\n",
       "      <td>1</td>\n",
       "      <td>30.0</td>\n",
       "      <td>0.0</td>\n",
       "      <td>0</td>\n",
       "      <td>1</td>\n",
       "      <td>0</td>\n",
       "      <td>225.0</td>\n",
       "      <td>150.0</td>\n",
       "      <td>95.0</td>\n",
       "      <td>28.58</td>\n",
       "      <td>65.0</td>\n",
       "      <td>103.0</td>\n",
       "      <td>1</td>\n",
       "    </tr>\n",
       "    <tr>\n",
       "      <th>4</th>\n",
       "      <td>0</td>\n",
       "      <td>46</td>\n",
       "      <td>1</td>\n",
       "      <td>23.0</td>\n",
       "      <td>0.0</td>\n",
       "      <td>0</td>\n",
       "      <td>0</td>\n",
       "      <td>0</td>\n",
       "      <td>285.0</td>\n",
       "      <td>130.0</td>\n",
       "      <td>84.0</td>\n",
       "      <td>23.10</td>\n",
       "      <td>85.0</td>\n",
       "      <td>85.0</td>\n",
       "      <td>0</td>\n",
       "    </tr>\n",
       "  </tbody>\n",
       "</table>\n",
       "</div>"
      ],
      "text/plain": [
       "   male  age  currentSmoker  cigsPerDay  BPMeds  prevalentStroke  \\\n",
       "0     1   39              0         0.0     0.0                0   \n",
       "1     0   46              0         0.0     0.0                0   \n",
       "2     1   48              1        20.0     0.0                0   \n",
       "3     0   61              1        30.0     0.0                0   \n",
       "4     0   46              1        23.0     0.0                0   \n",
       "\n",
       "   prevalentHyp  diabetes  totChol  sysBP  diaBP    BMI  heartRate  glucose  \\\n",
       "0             0         0    195.0  106.0   70.0  26.97       80.0     77.0   \n",
       "1             0         0    250.0  121.0   81.0  28.73       95.0     76.0   \n",
       "2             0         0    245.0  127.5   80.0  25.34       75.0     70.0   \n",
       "3             1         0    225.0  150.0   95.0  28.58       65.0    103.0   \n",
       "4             0         0    285.0  130.0   84.0  23.10       85.0     85.0   \n",
       "\n",
       "   TenYearCHD  \n",
       "0           0  \n",
       "1           0  \n",
       "2           0  \n",
       "3           1  \n",
       "4           0  "
      ]
     },
     "execution_count": 2,
     "metadata": {},
     "output_type": "execute_result"
    }
   ],
   "source": [
    "heart_df=pd.read_csv(\"heartDisease/framingham.csv\")\n",
    "heart_df.dropna(axis=0,inplace=True)\n",
    "heart_df.head()"
   ]
  },
  {
   "cell_type": "code",
   "execution_count": 40,
   "metadata": {},
   "outputs": [
    {
     "name": "stdout",
     "output_type": "stream",
     "text": [
      "Se tienen 3749 datos.\n"
     ]
    }
   ],
   "source": [
    "print(f'Se tienen {len(heart_df)} datos.')"
   ]
  },
  {
   "cell_type": "markdown",
   "metadata": {},
   "source": [
    "### Análisis de Distribución de Clases\n",
    "\n",
    "En el diagrama a continuación puede observar un claro desbalanceo de los datos, en pasos posteriores hablaremos al respecto."
   ]
  },
  {
   "cell_type": "code",
   "execution_count": 21,
   "metadata": {},
   "outputs": [
    {
     "data": {
      "text/plain": [
       "<matplotlib.axes._subplots.AxesSubplot at 0x7f7eddac4280>"
      ]
     },
     "execution_count": 21,
     "metadata": {},
     "output_type": "execute_result"
    },
    {
     "data": {
      "image/png": "[encoded data removed]",
      "text/plain": [
       "<Figure size 432x288 with 1 Axes>"
      ]
     },
     "metadata": {},
     "output_type": "display_data"
    }
   ],
   "source": [
    "heart_df['TenYearCHD'].value_counts().plot(kind='pie')"
   ]
  },
  {
   "cell_type": "markdown",
   "metadata": {},
   "source": [
    "## Descripción de Variables\n",
    "\n",
    "Cada atributo es un factor potencial de riesgo. Existen factores demográficos, conductuales y médicos.\n",
    "\n",
    "- Demográfico:\n",
    "\n",
    "    - male: masculino (1) o femenino (0); (Nominal)\n",
    "\n",
    "    - age: edad del paciente; (Continuo: aunque las edades registradas se han truncado a números enteros, el concepto de edad es continuo)\n",
    "\n",
    "- Comportacional:\n",
    "\n",
    "    - currentSmoker: si el paciente es o no fumador actual (nominal)\n",
    "\n",
    "    - cigsPerDay: la cantidad de cigarrillos que la persona fumó en promedio en un día (se puede considerar continuo ya que uno puede tener cualquier cantidad de cigarrillos, incluso medio cigarrillo).\n",
    "\n",
    "- Historia médica:\n",
    "\n",
    "    - BPMeds: si el paciente estaba o no tomando medicación para la presión arterial (nominal)\n",
    "\n",
    "    - prevalentStroke: si el paciente había tenido previamente un accidente cerebrovascular o no (nominal)\n",
    "\n",
    "    - prevalentHyp: si el paciente era hipertenso (nominal)\n",
    "\n",
    "    - diabetes: si el paciente tenía diabetes o no (nominal)\n",
    "\n",
    "- Estado Médico actual:\n",
    "\n",
    "    - totChol: nivel de colesterol total (continuo)\n",
    "\n",
    "    - sysBP: presión arterial sistólica (continua)\n",
    "\n",
    "    - diaBP: presión arterial diastólica (continua)\n",
    "\n",
    "    - IMC: índice de masa corporal (continuo)\n",
    "\n",
    "    - heartRate: frecuencia cardíaca (continua: en la investigación médica, variables como la frecuencia cardíaca, aunque de hecho son discretas, se consideran continuas debido a la gran cantidad de valores posibles).\n",
    "\n",
    "    - glucose: nivel de glucosa (continuo)\n",
    "\n",
    "- **Variable a Predecir**\n",
    "\n",
    "    - TenYearCHD: Riesgo de padecer enfermedad coronaria 10 años en el futuro (binario: \"1\", significa \"Sí\", \"0\" significa \"No\")"
   ]
  },
  {
   "cell_type": "code",
   "execution_count": 3,
   "metadata": {},
   "outputs": [],
   "source": [
    "x = heart_df.values\n",
    "scaler = RobustScaler()\n",
    "x_scaled = scaler.fit_transform(x)\n",
    "heart_df_scaled = pd.DataFrame(x_scaled, columns=heart_df.columns)"
   ]
  },
  {
   "cell_type": "code",
   "execution_count": 4,
   "metadata": {},
   "outputs": [],
   "source": [
    "x = heart_df_scaled.iloc[:,:-1]\n",
    "y = heart_df_scaled.iloc[:,-1]\n",
    "\n",
    "x_train,x_test,y_train,y_test=train_test_split(x,y,test_size=.20,random_state=22)"
   ]
  },
  {
   "cell_type": "markdown",
   "metadata": {},
   "source": [
    "## Parte 1\n",
    "\n",
    "A continuación, debe utilizar la función `LogisticRegression` de SciKit-Learn para obtener un primer modelo de regresión logística y calcular su precisión a partir de la función `accuracy_score`.\n",
    "\n",
    "Obtenga resultados sobre los datos de entrenamiento y los datos de prueba. Concluya al respecto."
   ]
  },
  {
   "cell_type": "code",
   "execution_count": 20,
   "metadata": {},
   "outputs": [
    {
     "name": "stdout",
     "output_type": "stream",
     "text": [
      "Precisión inicial: 0.848\n"
     ]
    }
   ],
   "source": [
    "logreg = LogisticRegression()\n",
    "logreg.fit(x_train,y_train)\n",
    "y_pred = logreg.predict(x_test)\n",
    "\n",
    "print(f'Precisión inicial: {sklearn.metrics.accuracy_score(y_test,y_pred)}')"
   ]
  },
  {
   "cell_type": "markdown",
   "metadata": {},
   "source": [
    "### Matriz de Confusión\n",
    "\n",
    "Como recordará, la información en este dataset no posee una distribución de clases balanceada. La matriz de confusión es una herramienta que permite analizar el comportamiento del modelo para estos datos.\n",
    "\n",
    "Puede encontrar más información en este artículo: [Understanding Confusion Matrix](https://towardsdatascience.com/understanding-confusion-matrix-a9ad42dcfd62)"
   ]
  },
  {
   "cell_type": "code",
   "execution_count": 6,
   "metadata": {},
   "outputs": [
    {
     "data": {
      "text/plain": [
       "<matplotlib.axes._subplots.AxesSubplot at 0x7f7f6c976c10>"
      ]
     },
     "execution_count": 6,
     "metadata": {},
     "output_type": "execute_result"
    },
    {
     "data": {
      "image/png": "[encoded data removed]",
      "text/plain": [
       "<Figure size 576x360 with 2 Axes>"
      ]
     },
     "metadata": {
      "needs_background": "light"
     },
     "output_type": "display_data"
    }
   ],
   "source": [
    "cm = confusion_matrix(y_test,y_pred)\n",
    "conf_matrix = pd.DataFrame(data=cm,columns=['Predicted:0','Predicted:1'],index=['Actual:0','Actual:1'])\n",
    "plt.figure(figsize = (8,5))\n",
    "sn.heatmap(conf_matrix, annot=True,fmt='d',cmap=\"YlGnBu\")"
   ]
  },
  {
   "cell_type": "markdown",
   "metadata": {},
   "source": [
    "### Tratamiento de Datos Desbalanceados\n",
    "\n",
    "En casos de estudio como identificación de tendencias patológicas, es común tener datos desbalanceados, o en los cuales la gravedad de cometer [errores tipo I o tipo II](https://www.simplypsychology.org/type_I_and_type_II_errors.html) son bastante diferentes. En muchos casos, se puede preferir cometer cierto tipo de error sobre el otro. Para trabajar con estos problemas, se suele preferir sacrificar algo de [precisión](https://developers.google.com/machine-learning/crash-course/classification/accuracy) del modelo, a cambio de una mejora en términos prácticos.\n",
    "\n",
    "Este proceso se realiza a partir de la modificación del umbral a partir del cual se decide si un dato pertenece a una clase u otra. Utilice la función `binarize` para obtener valores de `0` ó `1` según las probabilidades de las predicciones realizadas utilizando la función `model.predict_proba`.\n",
    "\n",
    "Algunas métricas utilizadas para interpretar el rendimiento del modelo son las siguientes:\n",
    "\n",
    "- F1Score\n",
    "- TP Rate / Recall / Sensitividad\n",
    "- TN Rate / Especificidad\n",
    "\n",
    "Puede encontrar más información sobre estas métricas en los artículos:\n",
    "- [Accuracy, Precision, Recall or F1?](https://towardsdatascience.com/accuracy-precision-recall-or-f1-331fb37c5cb9)\n",
    "- [Sensitivity Vs Specificity In Data Science](https://medium.com/fintechexplained/sensitivity-vs-specificity-in-data-science-2f673039dbd1)"
   ]
  },
  {
   "cell_type": "code",
   "execution_count": 26,
   "metadata": {
    "scrolled": false
   },
   "outputs": [
    {
     "name": "stdout",
     "output_type": "stream",
     "text": [
      "->Para un umbral de 0.0 tenemos esta matriz de confusión:\n",
      "[[  0 630]\n",
      " [  0 120]]\n",
      "Con 120 predicciones correctas y 0 falsos positivos.\n",
      "Sensitividad: 1.0 Especificidad: 0.0\n",
      "\n",
      "->Para un umbral de 0.1111 tenemos esta matriz de confusión:\n",
      "[[348 282]\n",
      " [ 24  96]]\n",
      "Con 444 predicciones correctas y 24 falsos positivos.\n",
      "Sensitividad: 0.8 Especificidad: 0.5524\n",
      "\n",
      "->Para un umbral de 0.2222 tenemos esta matriz de confusión:\n",
      "[[531  99]\n",
      " [ 66  54]]\n",
      "Con 585 predicciones correctas y 66 falsos positivos.\n",
      "Sensitividad: 0.45 Especificidad: 0.8429\n",
      "\n",
      "->Para un umbral de 0.3333 tenemos esta matriz de confusión:\n",
      "[[593  37]\n",
      " [ 95  25]]\n",
      "Con 618 predicciones correctas y 95 falsos positivos.\n",
      "Sensitividad: 0.2083 Especificidad: 0.9413\n",
      "\n",
      "->Para un umbral de 0.4444 tenemos esta matriz de confusión:\n",
      "[[617  13]\n",
      " [107  13]]\n",
      "Con 630 predicciones correctas y 107 falsos positivos.\n",
      "Sensitividad: 0.1083 Especificidad: 0.9794\n",
      "\n",
      "->Para un umbral de 0.5556 tenemos esta matriz de confusión:\n",
      "[[628   2]\n",
      " [113   7]]\n",
      "Con 635 predicciones correctas y 113 falsos positivos.\n",
      "Sensitividad: 0.0583 Especificidad: 0.9968\n",
      "\n",
      "->Para un umbral de 0.6667 tenemos esta matriz de confusión:\n",
      "[[629   1]\n",
      " [118   2]]\n",
      "Con 631 predicciones correctas y 118 falsos positivos.\n",
      "Sensitividad: 0.0167 Especificidad: 0.9984\n",
      "\n",
      "->Para un umbral de 0.7778 tenemos esta matriz de confusión:\n",
      "[[629   1]\n",
      " [119   1]]\n",
      "Con 630 predicciones correctas y 119 falsos positivos.\n",
      "Sensitividad: 0.0083 Especificidad: 0.9984\n",
      "\n",
      "->Para un umbral de 0.8889 tenemos esta matriz de confusión:\n",
      "[[629   1]\n",
      " [119   1]]\n",
      "Con 630 predicciones correctas y 119 falsos positivos.\n",
      "Sensitividad: 0.0083 Especificidad: 0.9984\n",
      "\n",
      "->Para un umbral de 1.0 tenemos esta matriz de confusión:\n",
      "[[630   0]\n",
      " [120   0]]\n",
      "Con 630 predicciones correctas y 120 falsos positivos.\n",
      "Sensitividad: 0.0 Especificidad: 1.0\n",
      "\n"
     ]
    }
   ],
   "source": [
    "from sklearn.preprocessing import binarize\n",
    "\n",
    "umbrales = np.linspace(0, 1, 10)\n",
    "\n",
    "for umbral in umbrales:\n",
    "    cm2 = 0\n",
    "    y_pred_prob_yes = logreg.predict_proba(x_test)\n",
    "    y_pred2 = binarize(y_pred_prob_yes, threshold=umbral)[:,1]\n",
    "    cm2 = confusion_matrix(y_test,y_pred2)\n",
    "    print(f'''->Para un umbral de {round(umbral,4)} tenemos esta matriz de confusión:\n",
    "{cm2}\n",
    "Con {cm2[0,0]+cm2[1,1]} predicciones correctas y {cm2[1,0]} falsos positivos.\n",
    "Sensitividad: {round(cm2[1,1]/(float(cm2[1,1]+cm2[1,0])), 4)} Especificidad: {round(cm2[0,0]/(float(cm2[0,0]+cm2[0,1])), 4)}\\n''')\n"
   ]
  },
  {
   "cell_type": "markdown",
   "metadata": {},
   "source": [
    "Por otra parte, un criterio que facilita el visualizar este trade-off se conoce como la Curva ROC, en donde se ubican múltiples puntos para distintos valores del umbral de clasificación. Puede leer el artículo a continuación para una explicación más detallada:\n",
    "- Curva ROC: [Understanding AUC - ROC Curve](https://towardsdatascience.com/understanding-auc-roc-curve-68b2303cc9c5)"
   ]
  },
  {
   "cell_type": "code",
   "execution_count": 28,
   "metadata": {},
   "outputs": [
    {
     "data": {
      "image/png": "[encoded data removed]",
      "text/plain": [
       "<Figure size 432x288 with 1 Axes>"
      ]
     },
     "metadata": {
      "needs_background": "light"
     },
     "output_type": "display_data"
    }
   ],
   "source": [
    "from sklearn.metrics import roc_curve\n",
    "\n",
    "fpr, tpr, thresholds = roc_curve(y_test, y_pred_prob_yes[:,1])\n",
    "plt.plot(fpr,tpr)\n",
    "plt.xlim([0.0, 1.0])\n",
    "plt.ylim([0.0, 1.0])\n",
    "plt.title('Curva ROC para Clasificador de Enfermedad Coronaria')\n",
    "plt.xlabel('Tasa de Falsos Positivos (1-Especificidad)')\n",
    "plt.ylabel('Tasa de Verdaderos Positivos (Sensitividad)')\n",
    "plt.grid(True)"
   ]
  },
  {
   "cell_type": "markdown",
   "metadata": {},
   "source": [
    "Observe la gráfica, y teniendo en cuenta los resultados concluya sobre la proporción que se puede considerar más adecuada en este contexto.\n",
    "\n",
    "## Parte 2\n",
    "\n",
    "Ahora usted debe desarrollar su propia implementación del método Descenso de Gradiente estocástico para un modelo de regresión logística. Realice el entrenamiento a partir del 80% de los datos. Al final del entrenamiento, en la lista errores se deben tener los valores de la función de error para cada iteración y así poder observar el progreso gráficamente."
   ]
  },
  {
   "cell_type": "code",
   "execution_count": 160,
   "metadata": {},
   "outputs": [
    {
     "name": "stdout",
     "output_type": "stream",
     "text": [
      "2.1420720158904243\n",
      "2.2889625103573006\n",
      "3.4817944019690037\n",
      "2.070788317898384\n",
      "2.349949311348331\n",
      "3.0778968960302064\n",
      "2.71611899608289\n",
      "2.5574064726789616\n",
      "1.7930572947552434\n",
      "Precisión inicial: 0.308\n"
     ]
    }
   ],
   "source": [
    "np.random.seed(22)\n",
    "X_train_array = np.c_[np.ones(x_train.values.shape[0]), x_train.values]\n",
    "y_train_array = y_train.values\n",
    "\n",
    "w0 = np.random.rand(X_train_array.shape[1]) # Inicialización de w #\n",
    "\n",
    "w = w0.copy()\n",
    "# Inicialización de criterio de parada (al disminuir el valor de eps, se aumenta la precisión y el tiempo de procesamiento)\n",
    "eps = 1e-5\n",
    "error = 100\n",
    "dif = 100\n",
    "#Inicialización de valor de la tasa de aprendizaje \n",
    "tasa = 0.01\n",
    "\n",
    "def sigma(w,x):\n",
    "  return 1/(1 + np.exp( -np.dot( w.T,x) ) )\n",
    "\n",
    "# while error>eps:\n",
    "tasas = [0.001]\n",
    "for tasa in tasas:\n",
    "    for j in range (0, 1000):\n",
    "        i = np.random.randint(X_train_array.shape[0])\n",
    "        xActual = X_train_array[i]\n",
    "        yActual = X_train_array[i]\n",
    "        g = sigma(w, xActual)\n",
    "        e = yActual - g\n",
    "        error = np.linalg.norm(e)\n",
    "        w = w0 + (tasa * np.dot(xActual.T, e))\n",
    "        if j % 120 == 0:\n",
    "            print(np.linalg.norm(xActual))\n",
    "        dif = np.linalg.norm(w-w0)\n",
    "#         if i%120 == 0:\n",
    "#             print(error)\n",
    "        w0 = w.copy()\n",
    "    X_test_array = np.c_[np.ones(x_test.values.shape[0]), x_test.values]\n",
    "    y_test_array = y_test.values\n",
    "\n",
    "    y_pred = np.zeros(len(x_test))\n",
    "\n",
    "    for i in range(0,len(x_test)):\n",
    "      prob = sigma(w,X_test_array[i])\n",
    "      if prob>0.5:\n",
    "        y_pred[i] = 1\n",
    "      else:\n",
    "        y_pred[i] = 0\n",
    "\n",
    "    print(f'Precisión inicial: {sklearn.metrics.accuracy_score(y_test,y_pred)}')"
   ]
  },
  {
   "cell_type": "code",
   "execution_count": 132,
   "metadata": {},
   "outputs": [
    {
     "name": "stdout",
     "output_type": "stream",
     "text": [
      "Precisión inicial: 0.30266666666666664\n"
     ]
    },
    {
     "name": "stderr",
     "output_type": "stream",
     "text": [
      "<ipython-input-131-329a80e7f341>:16: RuntimeWarning: overflow encountered in exp\n",
      "  return 1/(1 + np.exp( -np.dot( w.T,x) ) )\n"
     ]
    }
   ],
   "source": [
    "X_test_array = np.c_[np.ones(x_test.values.shape[0]), x_test.values]\n",
    "y_test_array = y_test.values\n",
    "\n",
    "y_pred = np.zeros(len(x_test))\n",
    "\n",
    "for i in range(0,len(x_test)):\n",
    "  prob = sigma(w,X_test_array[i])\n",
    "  if prob>0.5:\n",
    "    y_pred[i] = 1\n",
    "  else:\n",
    "    y_pred[i] = 0\n",
    "    \n",
    "print(f'Precisión inicial: {sklearn.metrics.accuracy_score(y_test,y_pred)}')"
   ]
  },
  {
   "cell_type": "code",
   "execution_count": 125,
   "metadata": {},
   "outputs": [
    {
     "data": {
      "text/plain": [
       "<matplotlib.axes._subplots.AxesSubplot at 0x7f7edd378eb0>"
      ]
     },
     "execution_count": 125,
     "metadata": {},
     "output_type": "execute_result"
    },
    {
     "data": {
      "image/png": "[encoded data removed]",
      "text/plain": [
       "<Figure size 576x360 with 2 Axes>"
      ]
     },
     "metadata": {
      "needs_background": "light"
     },
     "output_type": "display_data"
    }
   ],
   "source": [
    "cm = confusion_matrix(y_test,y_pred)\n",
    "conf_matrix = pd.DataFrame(data=cm,columns=['Predicted:0','Predicted:1'],index=['Actual:0','Actual:1'])\n",
    "plt.figure(figsize = (8,5))\n",
    "sn.heatmap(conf_matrix, annot=True,fmt='d',cmap=\"YlGnBu\")"
   ]
  },
  {
   "cell_type": "code",
   "execution_count": null,
   "metadata": {},
   "outputs": [],
   "source": []
  }
 ],
 "metadata": {
  "kernelspec": {
   "display_name": "Python 3",
   "language": "python",
   "name": "python3"
  },
  "language_info": {
   "codemirror_mode": {
    "name": "ipython",
    "version": 3
   },
   "file_extension": ".py",
   "mimetype": "text/x-python",
   "name": "python",
   "nbconvert_exporter": "python",
   "pygments_lexer": "ipython3",
   "version": "3.8.10"
  }
 },
 "nbformat": 4,
 "nbformat_minor": 4
}
